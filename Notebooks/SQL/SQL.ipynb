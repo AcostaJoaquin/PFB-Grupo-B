{
 "cells": [
  {
   "cell_type": "code",
   "execution_count": 1,
   "metadata": {},
   "outputs": [],
   "source": [
    "import mysql.connector\n",
    "import configparser"
   ]
  },
  {
   "cell_type": "markdown",
   "metadata": {},
   "source": [
    "<h2>RESET BASE DE DATOS</h2>"
   ]
  },
  {
   "cell_type": "code",
   "execution_count": 2,
   "metadata": {},
   "outputs": [
    {
     "name": "stdout",
     "output_type": "stream",
     "text": [
      "Base de datos red_electrica eliminada con éxito si existía.\n"
     ]
    }
   ],
   "source": [
    "# Leer el archivo de configuración\n",
    "config = configparser.ConfigParser()\n",
    "config.read('config.ini')\n",
    "\n",
    "# Obtener los valores del archivo de configuración\n",
    "host = config['mysql']['host']\n",
    "user = config['mysql']['user']\n",
    "password = config['mysql']['password']\n",
    "\n",
    "conn = mysql.connector.connect(\n",
    "    host=host,\n",
    "    user=user,\n",
    "    password=password\n",
    ")\n",
    "\n",
    "cursor = conn.cursor()\n",
    "\n",
    "cursor.execute(\"DROP DATABASE IF EXISTS red_electrica\")\n",
    "\n",
    "cursor.execute(\"CREATE DATABASE IF NOT EXISTS red_electrica\")\n",
    "\n",
    "conn.commit()\n",
    "\n",
    "conn.close()\n",
    "\n",
    "print(\"Base de datos red_electrica eliminada con éxito si existía.\")"
   ]
  },
  {
   "cell_type": "markdown",
   "metadata": {},
   "source": [
    "<h2>PETICION DE GENERACIÓN</h2>"
   ]
  },
  {
   "cell_type": "code",
   "execution_count": 3,
   "metadata": {},
   "outputs": [
    {
     "name": "stdout",
     "output_type": "stream",
     "text": [
      "Tabla 'balance' creada con éxito.\n"
     ]
    }
   ],
   "source": [
    "import configparser\n",
    "import mysql.connector\n",
    "\n",
    "# Leer el archivo de configuración\n",
    "config = configparser.ConfigParser()\n",
    "config.read('config.ini')\n",
    "\n",
    "# Obtener los valores del archivo de configuración\n",
    "host = config['mysql']['host']\n",
    "user = config['mysql']['user']\n",
    "password = config['mysql']['password']\n",
    "\n",
    "# Conectar a la base de datos\n",
    "conn = mysql.connector.connect(\n",
    "    host=host,\n",
    "    user=user,\n",
    "    password=password\n",
    ")\n",
    "\n",
    "# Crear cursor\n",
    "cursor = conn.cursor()\n",
    "\n",
    "# Crear base de datos si no existe\n",
    "cursor.execute(\"CREATE DATABASE IF NOT EXISTS red_electrica\")\n",
    "\n",
    "# Usar la base de datos\n",
    "cursor.execute(\"USE red_electrica\")\n",
    "\n",
    "# Crear tabla\n",
    "cursor.execute(\"\"\"\n",
    "    CREATE TABLE IF NOT EXISTS balance (\n",
    "        id INT AUTO_INCREMENT PRIMARY KEY,\n",
    "        nombre VARCHAR(50) NOT NULL,\n",
    "        tipo_energia VARCHAR(50) NOT NULL,\n",
    "        valores FLOAT NOT NULL,\n",
    "        porcentaje FLOAT NOT NULL,\n",
    "        fecha_actualizacion DATE NOT NULL\n",
    "    )\n",
    "\"\"\")\n",
    "\n",
    "# Confirmar cambios\n",
    "conn.commit()\n",
    "\n",
    "# Cerrar conexión\n",
    "cursor.close()\n",
    "conn.close()\n",
    "\n",
    "print(\"Tabla 'balance' creada con éxito.\")\n"
   ]
  },
  {
   "cell_type": "code",
   "execution_count": 6,
   "metadata": {},
   "outputs": [
    {
     "name": "stderr",
     "output_type": "stream",
     "text": [
      "C:\\Users\\34685\\AppData\\Local\\Temp\\ipykernel_32624\\1070113948.py:15: UserWarning: Parsing dates in %Y-%m-%d %H:%M:%S%z format when dayfirst=True was specified. Pass `dayfirst=False` or specify a format to silence this warning.\n",
      "  df = pd.read_csv('../Obtencion datos/balance_electrico.csv', sep=',', parse_dates=['Fecha actualización'], dayfirst=True)\n"
     ]
    },
    {
     "name": "stdout",
     "output_type": "stream",
     "text": [
      "Datos insertados en la tabla 'balance' con éxito.\n"
     ]
    }
   ],
   "source": [
    "import pandas as pd\n",
    "import mysql.connector\n",
    "import configparser\n",
    "\n",
    "# Leer el archivo de configuración\n",
    "config = configparser.ConfigParser()\n",
    "config.read('config.ini')\n",
    "\n",
    "# Obtener los valores del archivo de configuración\n",
    "host = config['mysql']['host']\n",
    "user = config['mysql']['user']\n",
    "password = config['mysql']['password']\n",
    "\n",
    "# Cargar el CSV\n",
    "df = pd.read_csv('../Obtencion datos/balance_electrico.csv', sep=',', parse_dates=['Fecha actualización'], dayfirst=True)\n",
    "\n",
    "# Conectar a la base de datos\n",
    "conn = mysql.connector.connect(\n",
    "    host=host,\n",
    "    user=user,\n",
    "    password=password,\n",
    "    database='red_electrica'\n",
    ")\n",
    "\n",
    "# Crear cursor\n",
    "cursor = conn.cursor()\n",
    "\n",
    "# Insertar datos en la tabla\n",
    "for index, row in df.iterrows():\n",
    "    cursor.execute(\"\"\"\n",
    "        INSERT INTO balance (nombre, tipo_energia, valores, porcentaje, fecha_actualizacion) \n",
    "        VALUES (%s, %s, %s, %s, %s)\n",
    "    \"\"\", (row['nombre'], row['tipo de energía'], row['Valores'], row['Porcentaje'], row['Fecha actualización']))\n",
    "\n",
    "# Confirmar los cambios\n",
    "conn.commit()\n",
    "\n",
    "# Cerrar conexión\n",
    "cursor.close()\n",
    "conn.close()\n",
    "\n",
    "print(\"Datos insertados en la tabla 'balance' con éxito.\")\n"
   ]
  },
  {
   "cell_type": "markdown",
   "metadata": {},
   "source": [
    "<h2>PETICION DEMANDA</h2>"
   ]
  },
  {
   "cell_type": "code",
   "execution_count": 7,
   "metadata": {},
   "outputs": [
    {
     "name": "stdout",
     "output_type": "stream",
     "text": [
      "Tabla 'demanda' creada con éxito.\n"
     ]
    }
   ],
   "source": [
    "import configparser\n",
    "import mysql.connector\n",
    "\n",
    "# Leer el archivo de configuración\n",
    "config = configparser.ConfigParser()\n",
    "config.read('config.ini')\n",
    "\n",
    "# Obtener los valores del archivo de configuración\n",
    "host = config['mysql']['host']\n",
    "user = config['mysql']['user']\n",
    "password = config['mysql']['password']\n",
    "\n",
    "# Conectar a la base de datos\n",
    "conn = mysql.connector.connect(\n",
    "    host=host,\n",
    "    user=user,\n",
    "    password=password\n",
    ")\n",
    "\n",
    "# Crear cursor\n",
    "cursor = conn.cursor()\n",
    "\n",
    "# Crear base de datos si no existe\n",
    "cursor.execute(\"CREATE DATABASE IF NOT EXISTS red_electrica\")\n",
    "\n",
    "# Usar la base de datos\n",
    "cursor.execute(\"USE red_electrica\")\n",
    "\n",
    "# Crear tabla\n",
    "cursor.execute(\"\"\"\n",
    "    CREATE TABLE IF NOT EXISTS demanda (\n",
    "        id INT AUTO_INCREMENT PRIMARY KEY,\n",
    "        fecha DATE NOT NULL,\n",
    "        porcentaje FLOAT NOT NULL,\n",
    "        valor FLOAT NOT NULL\n",
    "    )\n",
    "\"\"\")\n",
    "\n",
    "# Confirmar cambios\n",
    "conn.commit()\n",
    "\n",
    "# Cerrar conexión\n",
    "cursor.close()\n",
    "conn.close()\n",
    "\n",
    "print(\"Tabla 'demanda' creada con éxito.\")\n"
   ]
  },
  {
   "cell_type": "code",
   "execution_count": 9,
   "metadata": {},
   "outputs": [
    {
     "name": "stdout",
     "output_type": "stream",
     "text": [
      "Datos insertados en la tabla 'demanda' con éxito.\n"
     ]
    }
   ],
   "source": [
    "import pandas as pd\n",
    "import mysql.connector\n",
    "import configparser\n",
    "\n",
    "# Leer el archivo de configuración\n",
    "config = configparser.ConfigParser()\n",
    "config.read('config.ini')\n",
    "\n",
    "# Obtener los valores del archivo de configuración\n",
    "host = config['mysql']['host']\n",
    "user = config['mysql']['user']\n",
    "password = config['mysql']['password']\n",
    "\n",
    "# Cargar el CSV\n",
    "df = pd.read_csv('../Obtencion datos/datos_demanda.csv', sep=',', parse_dates=['datetime'], dayfirst=True)\n",
    "\n",
    "# Renombrar la columna datetime a fecha para que coincida con el nombre de la tabla\n",
    "df.rename(columns={'datetime': 'fecha'}, inplace=True)\n",
    "\n",
    "# Conectar a la base de datos\n",
    "conn = mysql.connector.connect(\n",
    "    host=host,\n",
    "    user=user,\n",
    "    password=password,\n",
    "    database='red_electrica'\n",
    ")\n",
    "\n",
    "# Crear cursor\n",
    "cursor = conn.cursor()\n",
    "\n",
    "# Insertar datos en la tabla\n",
    "for index, row in df.iterrows():\n",
    "    cursor.execute(\"\"\"\n",
    "        INSERT INTO demanda (fecha, porcentaje, valor) \n",
    "        VALUES (%s, %s, %s)\n",
    "    \"\"\", (row['fecha'], row['percentage'], row['value']))\n",
    "\n",
    "# Confirmar los cambios\n",
    "conn.commit()\n",
    "\n",
    "# Cerrar conexión\n",
    "cursor.close()\n",
    "conn.close()\n",
    "\n",
    "print(\"Datos insertados en la tabla 'demanda' con éxito.\")\n"
   ]
  }
 ],
 "metadata": {
  "kernelspec": {
   "display_name": "Python 3",
   "language": "python",
   "name": "python3"
  },
  "language_info": {
   "codemirror_mode": {
    "name": "ipython",
    "version": 3
   },
   "file_extension": ".py",
   "mimetype": "text/x-python",
   "name": "python",
   "nbconvert_exporter": "python",
   "pygments_lexer": "ipython3",
   "version": "3.12.4"
  }
 },
 "nbformat": 4,
 "nbformat_minor": 2
}
