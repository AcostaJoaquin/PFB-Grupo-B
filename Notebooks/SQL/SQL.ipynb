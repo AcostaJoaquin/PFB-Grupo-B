{
 "cells": [
  {
   "cell_type": "code",
   "execution_count": 99,
   "metadata": {},
   "outputs": [],
   "source": [
    "import pandas as pd\n",
    "import mysql.connector\n",
    "import configparser\n"
   ]
  },
  {
   "cell_type": "markdown",
   "metadata": {},
   "source": [
    "<h2>RESET BASE DE DATOS</h2>"
   ]
  },
  {
   "cell_type": "code",
   "execution_count": 100,
   "metadata": {},
   "outputs": [
    {
     "name": "stdout",
     "output_type": "stream",
     "text": [
      "Base de datos red_electrica eliminada con éxito si existía.\n"
     ]
    }
   ],
   "source": [
    "# Leer el archivo de configuración\n",
    "config = configparser.ConfigParser()\n",
    "config.read('config.ini')\n",
    "\n",
    "# Obtener los valores del archivo de configuración\n",
    "host = config['mysql']['host']\n",
    "user = config['mysql']['user']\n",
    "password = config['mysql']['password']\n",
    "\n",
    "conn = mysql.connector.connect(\n",
    "    host=host,\n",
    "    user=user,\n",
    "    password=password\n",
    ")\n",
    "\n",
    "cursor = conn.cursor()\n",
    "\n",
    "cursor.execute(\"CREATE DATABASE IF NOT EXISTS red_electrica\")\n",
    "\n",
    "conn.commit()\n",
    "\n",
    "conn.close()\n",
    "\n",
    "print(\"Base de datos red_electrica eliminada con éxito si existía.\")"
   ]
  },
  {
   "cell_type": "markdown",
   "metadata": {},
   "source": [
    "<h2>TABLA DE BALANCE</h2>"
   ]
  },
  {
   "cell_type": "code",
   "execution_count": 101,
   "metadata": {},
   "outputs": [
    {
     "name": "stdout",
     "output_type": "stream",
     "text": [
      "Tabla 'balance' creada con éxito.\n"
     ]
    }
   ],
   "source": [
    "# Conectar a la base de datos\n",
    "conn = mysql.connector.connect(\n",
    "    host=host,\n",
    "    user=user,\n",
    "    password=password\n",
    ")\n",
    "\n",
    "# Crear cursor\n",
    "cursor = conn.cursor()\n",
    "\n",
    "# Usar la base de datos\n",
    "cursor.execute(\"USE red_electrica\")\n",
    "\n",
    "# Crear tabla\n",
    "cursor.execute(\"\"\"\n",
    "    CREATE TABLE IF NOT EXISTS balance (\n",
    "        id INT AUTO_INCREMENT PRIMARY KEY,\n",
    "        nombre VARCHAR(50) NOT NULL,\n",
    "        tipo_energia VARCHAR(50) NOT NULL,\n",
    "        valores FLOAT NOT NULL,\n",
    "        porcentaje FLOAT NOT NULL,\n",
    "        fecha_actualizacion DATE NOT NULL\n",
    "    )\n",
    "\"\"\")\n",
    "\n",
    "# Confirmar cambios\n",
    "conn.commit()\n",
    "\n",
    "# Cerrar conexión\n",
    "cursor.close()\n",
    "conn.close()\n",
    "\n",
    "print(\"Tabla 'balance' creada con éxito.\")\n"
   ]
  },
  {
   "cell_type": "markdown",
   "metadata": {},
   "source": [
    "<h3>CARGAR BALANCE</h3>"
   ]
  },
  {
   "cell_type": "code",
   "execution_count": 102,
   "metadata": {},
   "outputs": [
    {
     "name": "stderr",
     "output_type": "stream",
     "text": [
      "C:\\Users\\SAPASHO\\AppData\\Local\\Temp\\ipykernel_12392\\2218705089.py:2: UserWarning: Parsing dates in %d/%m/%Y format when dayfirst=False (the default) was specified. Pass `dayfirst=True` or specify a format to silence this warning.\n",
      "  df = pd.read_csv('../Obtencion datos/balance_electrico.csv', sep=',', parse_dates=['Fecha actualización'])\n"
     ]
    },
    {
     "name": "stdout",
     "output_type": "stream",
     "text": [
      "Datos insertados o actualizados en la tabla 'balance' con éxito.\n"
     ]
    }
   ],
   "source": [
    "# Cargar el CSV\n",
    "df = pd.read_csv('../Obtencion datos/balance_electrico.csv', sep=',', parse_dates=['Fecha actualización'])\n",
    "\n",
    "# Crear una columna 'id' usando el índice del DataFrame\n",
    "df['id'] = df.index + 1  # Genera un id único basado en el índice\n",
    "\n",
    "# Renombrar columnas si es necesario\n",
    "df.rename(columns={'tipo de energía': 'tipo_energia'}, inplace=True)\n",
    "\n",
    "# Conectar a la base de datos\n",
    "conn = mysql.connector.connect(\n",
    "    host=host,\n",
    "    user=user,\n",
    "    password=password,\n",
    "    database='red_electrica'\n",
    ")\n",
    "\n",
    "# Crear cursor\n",
    "cursor = conn.cursor()\n",
    "\n",
    "# Insertar o actualizar datos en la tabla usando el id\n",
    "for index, row in df.iterrows():\n",
    "    cursor.execute(\"\"\"\n",
    "        INSERT INTO balance (id, nombre, tipo_energia, valores, porcentaje, fecha_actualizacion)\n",
    "        VALUES (%s, %s, %s, %s, %s, %s)\n",
    "        ON DUPLICATE KEY UPDATE\n",
    "        nombre = VALUES(nombre),\n",
    "        tipo_energia = VALUES(tipo_energia),\n",
    "        valores = VALUES(valores),\n",
    "        porcentaje = VALUES(porcentaje),\n",
    "        fecha_actualizacion = VALUES(fecha_actualizacion)\n",
    "    \"\"\", (row['id'], row['nombre'], row['tipo_energia'], row['Valores'], row['Porcentaje'], row['Fecha actualización']))\n",
    "\n",
    "# Confirmar los cambios\n",
    "conn.commit()\n",
    "\n",
    "# Cerrar conexión\n",
    "cursor.close()\n",
    "conn.close()\n",
    "\n",
    "print(\"Datos insertados o actualizados en la tabla 'balance' con éxito.\")\n"
   ]
  },
  {
   "cell_type": "markdown",
   "metadata": {},
   "source": [
    "<h2>TABLA DEMANDA</h2>"
   ]
  },
  {
   "cell_type": "code",
   "execution_count": 103,
   "metadata": {},
   "outputs": [
    {
     "name": "stdout",
     "output_type": "stream",
     "text": [
      "Tabla 'demanda' creada con éxito.\n"
     ]
    }
   ],
   "source": [
    "# Conectar a la base de datos\n",
    "conn = mysql.connector.connect(\n",
    "    host=host,\n",
    "    user=user,\n",
    "    password=password\n",
    ")\n",
    "\n",
    "# Crear cursor\n",
    "cursor = conn.cursor()\n",
    "\n",
    "# Usar la base de datos\n",
    "cursor.execute(\"USE red_electrica\")\n",
    "\n",
    "# Crear tabla\n",
    "cursor.execute(\"\"\"\n",
    "    CREATE TABLE IF NOT EXISTS demanda (\n",
    "        id INT AUTO_INCREMENT PRIMARY KEY,\n",
    "        fecha DATE NOT NULL,\n",
    "        valor FLOAT NOT NULL\n",
    "    )\n",
    "\"\"\")\n",
    "\n",
    "# Confirmar cambios\n",
    "conn.commit()\n",
    "\n",
    "# Cerrar conexión\n",
    "cursor.close()\n",
    "conn.close()\n",
    "\n",
    "print(\"Tabla 'demanda' creada con éxito.\")\n"
   ]
  },
  {
   "cell_type": "markdown",
   "metadata": {},
   "source": [
    "<h3>CARGAR DEMANDA</h3>"
   ]
  },
  {
   "cell_type": "code",
   "execution_count": 104,
   "metadata": {},
   "outputs": [
    {
     "name": "stdout",
     "output_type": "stream",
     "text": [
      "Columnas originales: Index(['Unnamed: 0', 'Fecha actualización', 'Energía_consumida'], dtype='object')\n",
      "   Unnamed: 0 Fecha actualización  Energía_consumida\n",
      "0           0          14/09/2024         595716.678\n",
      "1           1          15/09/2024         558723.141\n",
      "2           2          16/09/2024         669859.391\n",
      "3           3          17/09/2024         685876.400\n",
      "4           4          18/09/2024         689088.709\n",
      "Columnas después del renombramiento: Index(['Unnamed: 0', 'fecha', 'valor'], dtype='object')\n",
      "Datos insertados o actualizados en la tabla 'demanda' con éxito.\n"
     ]
    }
   ],
   "source": [
    "import pandas as pd\n",
    "import mysql.connector\n",
    "import configparser\n",
    "\n",
    "# Leer el archivo de configuración\n",
    "config = configparser.ConfigParser()\n",
    "config.read('config.ini')\n",
    "\n",
    "# Obtener los valores del archivo de configuración\n",
    "host = config['mysql']['host']\n",
    "user = config['mysql']['user']\n",
    "password = config['mysql']['password']\n",
    "\n",
    "# Cargar el CSV y mostrar las primeras filas para depuración\n",
    "df_raw = pd.read_csv('../Obtencion datos/demanda_evolucion.csv', sep=',')\n",
    "print(\"Columnas originales:\", df_raw.columns)  # Imprimir columnas originales\n",
    "print(df_raw.head())  # Ver las primeras filas\n",
    "\n",
    "# Cargar el CSV con el nombre correcto de la columna para la fecha\n",
    "# Ajustamos el formato de la fecha a 'dd/mm/yyyy' al cargar el CSV\n",
    "df = pd.read_csv('../Obtencion datos/demanda_evolucion.csv', sep=',', \n",
    "                 parse_dates=['Fecha actualización'], \n",
    "                 dayfirst=True)  # Asegurarse de que se interprete correctamente\n",
    "\n",
    "# Renombrar las columnas adecuadamente\n",
    "df.rename(columns={'Fecha actualización': 'fecha', 'Energía_consumida': 'valor'}, inplace=True)\n",
    "print(\"Columnas después del renombramiento:\", df.columns)  # Verificar las columnas renombradas\n",
    "\n",
    "# Crear una columna 'id' usando el índice del DataFrame\n",
    "df['id'] = df.index + 1  # Genera un id único basado en el índice\n",
    "\n",
    "# Conectar a la base de datos\n",
    "conn = mysql.connector.connect(\n",
    "    host=host,\n",
    "    user=user,\n",
    "    password=password,\n",
    "    database='red_electrica'\n",
    ")\n",
    "\n",
    "# Crear cursor\n",
    "cursor = conn.cursor()\n",
    "\n",
    "# Insertar o actualizar datos en la tabla usando el id como clave única\n",
    "for index, row in df.iterrows():\n",
    "    cursor.execute(\"\"\" \n",
    "        INSERT INTO demanda (id, fecha, valor)\n",
    "        VALUES (%s, %s, %s)\n",
    "        ON DUPLICATE KEY UPDATE\n",
    "        fecha = VALUES(fecha),\n",
    "        valor = VALUES(valor)\n",
    "    \"\"\", (row['id'], row['fecha'], row['valor']))  # Se eliminó 'porcentaje'\n",
    "\n",
    "# Confirmar los cambios\n",
    "conn.commit()\n",
    "\n",
    "# Cerrar conexión\n",
    "cursor.close()\n",
    "conn.close()\n",
    "\n",
    "print(\"Datos insertados o actualizados en la tabla 'demanda' con éxito.\")\n"
   ]
  },
  {
   "cell_type": "markdown",
   "metadata": {},
   "source": [
    "<h2>TABLA GENERACIÓN</h2>"
   ]
  },
  {
   "cell_type": "code",
   "execution_count": 105,
   "metadata": {},
   "outputs": [
    {
     "name": "stdout",
     "output_type": "stream",
     "text": [
      "Tabla 'generacion' creada con éxito.\n"
     ]
    }
   ],
   "source": [
    "import mysql.connector\n",
    "import configparser\n",
    "\n",
    "# Leer el archivo de configuración\n",
    "config = configparser.ConfigParser()\n",
    "config.read('config.ini')\n",
    "\n",
    "# Obtener los valores del archivo de configuración\n",
    "host = config['mysql']['host']\n",
    "user = config['mysql']['user']\n",
    "password = config['mysql']['password']\n",
    "\n",
    "# Conectar a la base de datos\n",
    "conn = mysql.connector.connect(\n",
    "    host=host,\n",
    "    user=user,\n",
    "    password=password\n",
    ")\n",
    "\n",
    "# Crear cursor\n",
    "cursor = conn.cursor()\n",
    "\n",
    "# Usar la base de datos\n",
    "cursor.execute(\"USE red_electrica\")\n",
    "\n",
    "# Crear tabla\n",
    "cursor.execute(\"\"\"\n",
    "    CREATE TABLE IF NOT EXISTS generacion (\n",
    "        id INT AUTO_INCREMENT PRIMARY KEY,\n",
    "        nombre VARCHAR(50) NOT NULL,\n",
    "        tipo_energia VARCHAR(50) NOT NULL,\n",
    "        valores FLOAT NOT NULL,\n",
    "        porcentaje FLOAT NOT NULL,\n",
    "        fecha_actualizacion DATE NOT NULL\n",
    "    )\n",
    "\"\"\")\n",
    "\n",
    "# Confirmar cambios\n",
    "conn.commit()\n",
    "\n",
    "# Cerrar conexión\n",
    "cursor.close()\n",
    "conn.close()\n",
    "\n",
    "print(\"Tabla 'generacion' creada con éxito.\")\n"
   ]
  },
  {
   "cell_type": "markdown",
   "metadata": {},
   "source": [
    "<h3>CARGAR GENERACION</h3>"
   ]
  },
  {
   "cell_type": "code",
   "execution_count": 106,
   "metadata": {},
   "outputs": [
    {
     "name": "stdout",
     "output_type": "stream",
     "text": [
      "Datos insertados o actualizados en la tabla 'generacion' con éxito.\n"
     ]
    }
   ],
   "source": [
    "import pandas as pd\n",
    "import mysql.connector\n",
    "import configparser\n",
    "\n",
    "# Leer el archivo de configuración\n",
    "config = configparser.ConfigParser()\n",
    "config.read('config.ini')\n",
    "\n",
    "# Obtener los valores del archivo de configuración\n",
    "host = config['mysql']['host']\n",
    "user = config['mysql']['user']\n",
    "password = config['mysql']['password']\n",
    "\n",
    "# Cargar el CSV sin el parser de fecha\n",
    "df = pd.read_csv('../Obtencion datos/generacion_estructura.csv', sep=',')\n",
    "\n",
    "# Convertir la columna 'Fecha actualización' a formato de fecha\n",
    "df['Fecha actualización'] = pd.to_datetime(df['Fecha actualización'], format='%d/%m/%Y')\n",
    "\n",
    "# Renombrar las columnas para que coincidan con la estructura de la tabla\n",
    "df.rename(columns={\n",
    "    'tipo de energía': 'tipo_energia', \n",
    "    'Valores': 'valores', \n",
    "    'Porcentaje': 'porcentaje', \n",
    "    'Fecha actualización': 'fecha_actualizacion'\n",
    "}, inplace=True)\n",
    "\n",
    "# Crear una columna 'id' usando el índice del DataFrame\n",
    "df['id'] = df.index + 1  # Genera un id único basado en el índice\n",
    "\n",
    "# Conectar a la base de datos\n",
    "conn = mysql.connector.connect(\n",
    "    host=host,\n",
    "    user=user,\n",
    "    password=password,\n",
    "    database='red_electrica'\n",
    ")\n",
    "\n",
    "# Crear cursor\n",
    "cursor = conn.cursor()\n",
    "\n",
    "# Insertar o actualizar datos en la tabla usando el id como clave única\n",
    "for index, row in df.iterrows():\n",
    "    cursor.execute(\"\"\"\n",
    "        INSERT INTO generacion (id, nombre, tipo_energia, valores, porcentaje, fecha_actualizacion)\n",
    "        VALUES (%s, %s, %s, %s, %s, %s)\n",
    "        ON DUPLICATE KEY UPDATE\n",
    "        nombre = VALUES(nombre),\n",
    "        tipo_energia = VALUES(tipo_energia),\n",
    "        valores = VALUES(valores),\n",
    "        porcentaje = VALUES(porcentaje),\n",
    "        fecha_actualizacion = VALUES(fecha_actualizacion)\n",
    "    \"\"\", (row['id'], row['nombre'], row['tipo_energia'], row['valores'], row['porcentaje'], row['fecha_actualizacion']))\n",
    "\n",
    "# Confirmar los cambios\n",
    "conn.commit()\n",
    "\n",
    "# Cerrar conexión\n",
    "cursor.close()\n",
    "conn.close()\n",
    "\n",
    "print(\"Datos insertados o actualizados en la tabla 'generacion' con éxito.\")\n"
   ]
  },
  {
   "cell_type": "markdown",
   "metadata": {},
   "source": [
    "<h2>TABLA INTERCAMBIO</h2>"
   ]
  },
  {
   "cell_type": "code",
   "execution_count": 107,
   "metadata": {},
   "outputs": [
    {
     "name": "stdout",
     "output_type": "stream",
     "text": [
      "Tabla 'intercambio' creada con éxito.\n"
     ]
    }
   ],
   "source": [
    "import mysql.connector\n",
    "import configparser\n",
    "\n",
    "# Leer el archivo de configuración\n",
    "config = configparser.ConfigParser()\n",
    "config.read('config.ini')\n",
    "\n",
    "# Obtener los valores del archivo de configuración\n",
    "host = config['mysql']['host']\n",
    "user = config['mysql']['user']\n",
    "password = config['mysql']['password']\n",
    "\n",
    "# Conectar a la base de datos\n",
    "conn = mysql.connector.connect(\n",
    "    host=host,\n",
    "    user=user,\n",
    "    password=password\n",
    ")\n",
    "\n",
    "# Crear cursor\n",
    "cursor = conn.cursor()\n",
    "\n",
    "# Usar la base de datos\n",
    "cursor.execute(\"USE red_electrica\")\n",
    "\n",
    "# Crear tabla\n",
    "cursor.execute(\"\"\"\n",
    "    CREATE TABLE IF NOT EXISTS intercambio (\n",
    "        id INT AUTO_INCREMENT PRIMARY KEY,\n",
    "        nombre VARCHAR(50) NOT NULL,\n",
    "        tipo_intercambio VARCHAR(50) NOT NULL,\n",
    "        valores FLOAT NOT NULL,\n",
    "        porcentaje FLOAT NOT NULL,\n",
    "        fecha_actualizacion DATE NOT NULL\n",
    "    )\n",
    "\"\"\")\n",
    "\n",
    "# Confirmar cambios\n",
    "conn.commit()\n",
    "\n",
    "# Cerrar conexión\n",
    "cursor.close()\n",
    "conn.close()\n",
    "\n",
    "print(\"Tabla 'intercambio' creada con éxito.\")\n"
   ]
  },
  {
   "cell_type": "markdown",
   "metadata": {},
   "source": [
    "<h3>CARGAR INTERCAMBIO</h3>"
   ]
  },
  {
   "cell_type": "code",
   "execution_count": 108,
   "metadata": {},
   "outputs": [
    {
     "name": "stdout",
     "output_type": "stream",
     "text": [
      "Datos insertados o actualizados en la tabla 'intercambio' con éxito.\n"
     ]
    },
    {
     "name": "stderr",
     "output_type": "stream",
     "text": [
      "C:\\Users\\SAPASHO\\AppData\\Local\\Temp\\ipykernel_12392\\3277607746.py:18: FutureWarning: The argument 'date_parser' is deprecated and will be removed in a future version. Please use 'date_format' instead, or read your data in as 'object' dtype and then call 'to_datetime'.\n",
      "  df = pd.read_csv('../Obtencion datos/intercambio_electrico.csv', sep=',', parse_dates=['Fecha actualización'], date_parser=date_parser)\n"
     ]
    }
   ],
   "source": [
    "import pandas as pd\n",
    "import mysql.connector\n",
    "import configparser\n",
    "\n",
    "# Leer el archivo de configuración\n",
    "config = configparser.ConfigParser()\n",
    "config.read('config.ini')\n",
    "\n",
    "# Obtener los valores del archivo de configuración\n",
    "host = config['mysql']['host']\n",
    "user = config['mysql']['user']\n",
    "password = config['mysql']['password']\n",
    "\n",
    "# Definir un parser para las fechas\n",
    "date_parser = lambda x: pd.to_datetime(x, format='%d/%m/%Y')  # Cambia el formato si es necesario\n",
    "\n",
    "# Cargar el CSV\n",
    "df = pd.read_csv('../Obtencion datos/intercambio_electrico.csv', sep=',', parse_dates=['Fecha actualización'], date_parser=date_parser)\n",
    "\n",
    "# Renombrar las columnas para que coincidan con la estructura de la tabla\n",
    "df.rename(columns={\n",
    "    'tipo de intercambio': 'tipo_intercambio', \n",
    "    'Valores': 'valores', \n",
    "    'Porcentaje': 'porcentaje', \n",
    "    'Fecha actualización': 'fecha_actualizacion'\n",
    "}, inplace=True)\n",
    "\n",
    "# Crear una columna 'id' usando el índice del DataFrame\n",
    "df['id'] = df.index + 1  # Genera un id único basado en el índice\n",
    "\n",
    "# Conectar a la base de datos\n",
    "conn = mysql.connector.connect(\n",
    "    host=host,\n",
    "    user=user,\n",
    "    password=password,\n",
    "    database='red_electrica'\n",
    ")\n",
    "\n",
    "# Crear cursor\n",
    "cursor = conn.cursor()\n",
    "\n",
    "# Insertar o actualizar datos en la tabla usando el id como clave única\n",
    "for index, row in df.iterrows():\n",
    "    cursor.execute(\"\"\"\n",
    "        INSERT INTO intercambio (id, nombre, tipo_intercambio, valores, porcentaje, fecha_actualizacion)\n",
    "        VALUES (%s, %s, %s, %s, %s, %s)\n",
    "        ON DUPLICATE KEY UPDATE\n",
    "        nombre = VALUES(nombre),\n",
    "        tipo_intercambio = VALUES(tipo_intercambio),\n",
    "        valores = VALUES(valores),\n",
    "        porcentaje = VALUES(porcentaje),\n",
    "        fecha_actualizacion = VALUES(fecha_actualizacion)\n",
    "    \"\"\", (row['id'], row['nombre'], row['tipo_intercambio'], row['valores'], row['porcentaje'], row['fecha_actualizacion']))\n",
    "\n",
    "# Confirmar los cambios\n",
    "conn.commit()\n",
    "\n",
    "# Cerrar conexión\n",
    "cursor.close()\n",
    "conn.close()\n",
    "\n",
    "print(\"Datos insertados o actualizados en la tabla 'intercambio' con éxito.\")\n"
   ]
  }
 ],
 "metadata": {
  "kernelspec": {
   "display_name": "Python 3",
   "language": "python",
   "name": "python3"
  },
  "language_info": {
   "codemirror_mode": {
    "name": "ipython",
    "version": 3
   },
   "file_extension": ".py",
   "mimetype": "text/x-python",
   "name": "python",
   "nbconvert_exporter": "python",
   "pygments_lexer": "ipython3",
   "version": "3.12.7"
  }
 },
 "nbformat": 4,
 "nbformat_minor": 2
}
