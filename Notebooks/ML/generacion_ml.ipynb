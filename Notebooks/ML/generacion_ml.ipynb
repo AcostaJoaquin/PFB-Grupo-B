{
 "cells": [
  {
   "cell_type": "code",
   "execution_count": 1,
   "metadata": {},
   "outputs": [],
   "source": [
    "import pandas as pd \n",
    "import numpy as np\n",
    "\n",
    "\n",
    "import seaborn as sns\n",
    "import matplotlib.pyplot as plt\n",
    "\n",
    "import plotly.express as px\n",
    "\n",
    "\n",
    "from sklearn.model_selection import train_test_split\n",
    "\n",
    "# Train, Test\n",
    "from sklearn.model_selection import train_test_split\n",
    "\n",
    "# Metricas\n",
    "from sklearn.metrics import jaccard_score\n",
    "from sklearn.metrics import accuracy_score\n",
    "from sklearn.metrics import precision_score\n",
    "from sklearn.metrics import recall_score\n",
    "from sklearn.metrics import f1_score\n",
    "from sklearn.metrics import roc_auc_score\n",
    "\n",
    "from sklearn.metrics import mean_squared_error, r2_score\n",
    "\n",
    "\n",
    "from sklearn.metrics import confusion_matrix\n",
    "from sklearn.metrics import classification_report"
   ]
  },
  {
   "cell_type": "code",
   "execution_count": 2,
   "metadata": {},
   "outputs": [
    {
     "data": {
      "text/html": [
       "<div>\n",
       "<style scoped>\n",
       "    .dataframe tbody tr th:only-of-type {\n",
       "        vertical-align: middle;\n",
       "    }\n",
       "\n",
       "    .dataframe tbody tr th {\n",
       "        vertical-align: top;\n",
       "    }\n",
       "\n",
       "    .dataframe thead th {\n",
       "        text-align: right;\n",
       "    }\n",
       "</style>\n",
       "<table border=\"1\" class=\"dataframe\">\n",
       "  <thead>\n",
       "    <tr style=\"text-align: right;\">\n",
       "      <th></th>\n",
       "      <th>nombre</th>\n",
       "      <th>tipo de energía</th>\n",
       "      <th>Valores</th>\n",
       "      <th>Porcentaje</th>\n",
       "      <th>Fecha actualización</th>\n",
       "      <th>dia</th>\n",
       "      <th>mes</th>\n",
       "      <th>año</th>\n",
       "    </tr>\n",
       "  </thead>\n",
       "  <tbody>\n",
       "    <tr>\n",
       "      <th>0</th>\n",
       "      <td>Hidráulica</td>\n",
       "      <td>Renovable</td>\n",
       "      <td>24335.723</td>\n",
       "      <td>0.039181</td>\n",
       "      <td>23/09/2023</td>\n",
       "      <td>23</td>\n",
       "      <td>9</td>\n",
       "      <td>2023</td>\n",
       "    </tr>\n",
       "    <tr>\n",
       "      <th>1</th>\n",
       "      <td>Hidráulica</td>\n",
       "      <td>Renovable</td>\n",
       "      <td>23312.579</td>\n",
       "      <td>0.038861</td>\n",
       "      <td>24/09/2023</td>\n",
       "      <td>24</td>\n",
       "      <td>9</td>\n",
       "      <td>2023</td>\n",
       "    </tr>\n",
       "    <tr>\n",
       "      <th>2</th>\n",
       "      <td>Hidráulica</td>\n",
       "      <td>Renovable</td>\n",
       "      <td>38970.565</td>\n",
       "      <td>0.057330</td>\n",
       "      <td>25/09/2023</td>\n",
       "      <td>25</td>\n",
       "      <td>9</td>\n",
       "      <td>2023</td>\n",
       "    </tr>\n",
       "    <tr>\n",
       "      <th>3</th>\n",
       "      <td>Hidráulica</td>\n",
       "      <td>Renovable</td>\n",
       "      <td>40808.219</td>\n",
       "      <td>0.059450</td>\n",
       "      <td>26/09/2023</td>\n",
       "      <td>26</td>\n",
       "      <td>9</td>\n",
       "      <td>2023</td>\n",
       "    </tr>\n",
       "    <tr>\n",
       "      <th>4</th>\n",
       "      <td>Hidráulica</td>\n",
       "      <td>Renovable</td>\n",
       "      <td>44279.829</td>\n",
       "      <td>0.061009</td>\n",
       "      <td>27/09/2023</td>\n",
       "      <td>27</td>\n",
       "      <td>9</td>\n",
       "      <td>2023</td>\n",
       "    </tr>\n",
       "    <tr>\n",
       "      <th>...</th>\n",
       "      <td>...</td>\n",
       "      <td>...</td>\n",
       "      <td>...</td>\n",
       "      <td>...</td>\n",
       "      <td>...</td>\n",
       "      <td>...</td>\n",
       "      <td>...</td>\n",
       "      <td>...</td>\n",
       "    </tr>\n",
       "    <tr>\n",
       "      <th>131</th>\n",
       "      <td>Generación total</td>\n",
       "      <td>Generación total</td>\n",
       "      <td>686431.637</td>\n",
       "      <td>1.000000</td>\n",
       "      <td>26/09/2023</td>\n",
       "      <td>26</td>\n",
       "      <td>9</td>\n",
       "      <td>2023</td>\n",
       "    </tr>\n",
       "    <tr>\n",
       "      <th>132</th>\n",
       "      <td>Generación total</td>\n",
       "      <td>Generación total</td>\n",
       "      <td>725787.110</td>\n",
       "      <td>1.000000</td>\n",
       "      <td>27/09/2023</td>\n",
       "      <td>27</td>\n",
       "      <td>9</td>\n",
       "      <td>2023</td>\n",
       "    </tr>\n",
       "    <tr>\n",
       "      <th>133</th>\n",
       "      <td>Generación total</td>\n",
       "      <td>Generación total</td>\n",
       "      <td>722285.065</td>\n",
       "      <td>1.000000</td>\n",
       "      <td>28/09/2023</td>\n",
       "      <td>28</td>\n",
       "      <td>9</td>\n",
       "      <td>2023</td>\n",
       "    </tr>\n",
       "    <tr>\n",
       "      <th>134</th>\n",
       "      <td>Generación total</td>\n",
       "      <td>Generación total</td>\n",
       "      <td>697873.118</td>\n",
       "      <td>1.000000</td>\n",
       "      <td>29/09/2023</td>\n",
       "      <td>29</td>\n",
       "      <td>9</td>\n",
       "      <td>2023</td>\n",
       "    </tr>\n",
       "    <tr>\n",
       "      <th>135</th>\n",
       "      <td>Generación total</td>\n",
       "      <td>Generación total</td>\n",
       "      <td>640642.753</td>\n",
       "      <td>1.000000</td>\n",
       "      <td>30/09/2023</td>\n",
       "      <td>30</td>\n",
       "      <td>9</td>\n",
       "      <td>2023</td>\n",
       "    </tr>\n",
       "  </tbody>\n",
       "</table>\n",
       "<p>136 rows × 8 columns</p>\n",
       "</div>"
      ],
      "text/plain": [
       "               nombre   tipo de energía     Valores  Porcentaje  \\\n",
       "0          Hidráulica         Renovable   24335.723    0.039181   \n",
       "1          Hidráulica         Renovable   23312.579    0.038861   \n",
       "2          Hidráulica         Renovable   38970.565    0.057330   \n",
       "3          Hidráulica         Renovable   40808.219    0.059450   \n",
       "4          Hidráulica         Renovable   44279.829    0.061009   \n",
       "..                ...               ...         ...         ...   \n",
       "131  Generación total  Generación total  686431.637    1.000000   \n",
       "132  Generación total  Generación total  725787.110    1.000000   \n",
       "133  Generación total  Generación total  722285.065    1.000000   \n",
       "134  Generación total  Generación total  697873.118    1.000000   \n",
       "135  Generación total  Generación total  640642.753    1.000000   \n",
       "\n",
       "    Fecha actualización  dia  mes   año  \n",
       "0            23/09/2023   23    9  2023  \n",
       "1            24/09/2023   24    9  2023  \n",
       "2            25/09/2023   25    9  2023  \n",
       "3            26/09/2023   26    9  2023  \n",
       "4            27/09/2023   27    9  2023  \n",
       "..                  ...  ...  ...   ...  \n",
       "131          26/09/2023   26    9  2023  \n",
       "132          27/09/2023   27    9  2023  \n",
       "133          28/09/2023   28    9  2023  \n",
       "134          29/09/2023   29    9  2023  \n",
       "135          30/09/2023   30    9  2023  \n",
       "\n",
       "[136 rows x 8 columns]"
      ]
     },
     "execution_count": 2,
     "metadata": {},
     "output_type": "execute_result"
    }
   ],
   "source": [
    "generacion_df = pd.read_csv(\"../Obtencion datos/generacion_estructura.csv\")\n",
    "\n",
    "generacion_df = generacion_df.drop(columns=[\"Unnamed: 0\"])\n",
    "\n",
    "generacion_df"
   ]
  },
  {
   "cell_type": "code",
   "execution_count": 3,
   "metadata": {},
   "outputs": [
    {
     "data": {
      "text/plain": [
       "array(['Hidráulica', 'Turbinación bombeo', 'Nuclear', 'Carbón',\n",
       "       'Motores diésel', 'Turbina de gas', 'Turbina de vapor',\n",
       "       'Ciclo combinado', 'Hidroeólica', 'Eólica', 'Solar fotovoltaica',\n",
       "       'Solar térmica', 'Otras renovables', 'Cogeneración',\n",
       "       'Residuos no renovables', 'Residuos renovables',\n",
       "       'Generación total'], dtype=object)"
      ]
     },
     "execution_count": 3,
     "metadata": {},
     "output_type": "execute_result"
    }
   ],
   "source": [
    "generacion_df['nombre'].unique()"
   ]
  },
  {
   "cell_type": "code",
   "execution_count": 6,
   "metadata": {},
   "outputs": [
    {
     "data": {
      "application/vnd.plotly.v1+json": {
       "config": {
        "plotlyServerURL": "https://plot.ly"
       },
       "data": [
        {
         "alignmentgroup": "True",
         "hovertemplate": "nombre=%{x}<br>Valores=%{y}<extra></extra>",
         "legendgroup": "",
         "marker": {
          "color": "#636efa"
         },
         "name": "",
         "notched": false,
         "offsetgroup": "",
         "orientation": "v",
         "showlegend": false,
         "type": "box",
         "x": [
          "Hidráulica",
          "Hidráulica",
          "Hidráulica",
          "Hidráulica",
          "Hidráulica",
          "Hidráulica",
          "Hidráulica",
          "Hidráulica",
          "Turbinación bombeo",
          "Turbinación bombeo",
          "Turbinación bombeo",
          "Turbinación bombeo",
          "Turbinación bombeo",
          "Turbinación bombeo",
          "Turbinación bombeo",
          "Turbinación bombeo",
          "Nuclear",
          "Nuclear",
          "Nuclear",
          "Nuclear",
          "Nuclear",
          "Nuclear",
          "Nuclear",
          "Nuclear",
          "Carbón",
          "Carbón",
          "Carbón",
          "Carbón",
          "Carbón",
          "Carbón",
          "Carbón",
          "Carbón",
          "Motores diésel",
          "Motores diésel",
          "Motores diésel",
          "Motores diésel",
          "Motores diésel",
          "Motores diésel",
          "Motores diésel",
          "Motores diésel",
          "Turbina de gas",
          "Turbina de gas",
          "Turbina de gas",
          "Turbina de gas",
          "Turbina de gas",
          "Turbina de gas",
          "Turbina de gas",
          "Turbina de gas",
          "Turbina de vapor",
          "Turbina de vapor",
          "Turbina de vapor",
          "Turbina de vapor",
          "Turbina de vapor",
          "Turbina de vapor",
          "Turbina de vapor",
          "Turbina de vapor",
          "Ciclo combinado",
          "Ciclo combinado",
          "Ciclo combinado",
          "Ciclo combinado",
          "Ciclo combinado",
          "Ciclo combinado",
          "Ciclo combinado",
          "Ciclo combinado",
          "Hidroeólica",
          "Hidroeólica",
          "Hidroeólica",
          "Hidroeólica",
          "Hidroeólica",
          "Hidroeólica",
          "Hidroeólica",
          "Hidroeólica",
          "Eólica",
          "Eólica",
          "Eólica",
          "Eólica",
          "Eólica",
          "Eólica",
          "Eólica",
          "Eólica",
          "Solar fotovoltaica",
          "Solar fotovoltaica",
          "Solar fotovoltaica",
          "Solar fotovoltaica",
          "Solar fotovoltaica",
          "Solar fotovoltaica",
          "Solar fotovoltaica",
          "Solar fotovoltaica",
          "Solar térmica",
          "Solar térmica",
          "Solar térmica",
          "Solar térmica",
          "Solar térmica",
          "Solar térmica",
          "Solar térmica",
          "Solar térmica",
          "Otras renovables",
          "Otras renovables",
          "Otras renovables",
          "Otras renovables",
          "Otras renovables",
          "Otras renovables",
          "Otras renovables",
          "Otras renovables",
          "Cogeneración",
          "Cogeneración",
          "Cogeneración",
          "Cogeneración",
          "Cogeneración",
          "Cogeneración",
          "Cogeneración",
          "Cogeneración",
          "Residuos no renovables",
          "Residuos no renovables",
          "Residuos no renovables",
          "Residuos no renovables",
          "Residuos no renovables",
          "Residuos no renovables",
          "Residuos no renovables",
          "Residuos no renovables",
          "Residuos renovables",
          "Residuos renovables",
          "Residuos renovables",
          "Residuos renovables",
          "Residuos renovables",
          "Residuos renovables",
          "Residuos renovables",
          "Residuos renovables",
          "Generación total",
          "Generación total",
          "Generación total",
          "Generación total",
          "Generación total",
          "Generación total",
          "Generación total",
          "Generación total"
         ],
         "x0": " ",
         "xaxis": "x",
         "y": [
          24335.723,
          23312.579,
          38970.565,
          40808.219,
          44279.829,
          41709.912,
          43508.807,
          27451.729,
          16396.046,
          14722.586,
          14649.407,
          10635.073,
          12962.414,
          11135.565,
          11965.273,
          16998.403,
          139091.629,
          138517.22,
          138503.073,
          138814.453,
          138487.209,
          138404.139,
          138340.676,
          138174.336,
          11660.905,
          10726.508,
          15116.6,
          19459.305,
          19886.878,
          19831.748,
          20136.761,
          12655.73,
          6408.033,
          6302.819,
          7001.324,
          6415.588,
          5918.866,
          5953.527,
          7659,
          7695.346,
          1222.198,
          1361.139,
          1900.167,
          2317.929,
          2090.492,
          1939.267,
          1688.733,
          2079.891,
          3309.608,
          3177.341,
          4152.895,
          3578.103,
          3392.715,
          3515.335,
          4475.366,
          3878.917,
          140609.853,
          117110.974,
          181039.945,
          183858.901,
          171414.065,
          192061.19,
          208050.26,
          154436.88,
          50.166,
          40.149,
          54.191,
          69.267,
          93.93,
          95.334,
          28.09,
          -2.192,
          62212.405,
          80956.323,
          59481.707,
          66702.778,
          119078.548,
          93717.424,
          48743.75,
          71790.755,
          131582.923,
          124631.015,
          133621.346,
          127279.529,
          124437.232,
          130418.849,
          128452.095,
          126417.895,
          19952.207,
          22556.123,
          20529.101,
          21103.343,
          19451.213,
          18621.448,
          19664.765,
          19700.118,
          8997.682,
          7588.529,
          7919.28,
          7809.369,
          7817.909,
          7734.386,
          7933.016,
          8141.04,
          48660.325,
          42265.843,
          49993.956,
          50966.696,
          49619.151,
          50454.504,
          50695.218,
          44711.977,
          4143.66,
          4074.673,
          4179.527,
          4074.2665,
          4201.57,
          4032.016,
          3914.962,
          3905.464,
          2478.807,
          2549.512,
          2650.328,
          2538.8175,
          2655.089,
          2660.421,
          2616.346,
          2606.464,
          621112.1700000002,
          599893.3329999999,
          679763.412,
          686431.637,
          725787.1099999999,
          722285.0649999998,
          697873.1180000001,
          640642.753
         ],
         "y0": " ",
         "yaxis": "y"
        }
       ],
       "layout": {
        "boxmode": "group",
        "legend": {
         "tracegroupgap": 0
        },
        "template": {
         "data": {
          "bar": [
           {
            "error_x": {
             "color": "#2a3f5f"
            },
            "error_y": {
             "color": "#2a3f5f"
            },
            "marker": {
             "line": {
              "color": "#E5ECF6",
              "width": 0.5
             },
             "pattern": {
              "fillmode": "overlay",
              "size": 10,
              "solidity": 0.2
             }
            },
            "type": "bar"
           }
          ],
          "barpolar": [
           {
            "marker": {
             "line": {
              "color": "#E5ECF6",
              "width": 0.5
             },
             "pattern": {
              "fillmode": "overlay",
              "size": 10,
              "solidity": 0.2
             }
            },
            "type": "barpolar"
           }
          ],
          "carpet": [
           {
            "aaxis": {
             "endlinecolor": "#2a3f5f",
             "gridcolor": "white",
             "linecolor": "white",
             "minorgridcolor": "white",
             "startlinecolor": "#2a3f5f"
            },
            "baxis": {
             "endlinecolor": "#2a3f5f",
             "gridcolor": "white",
             "linecolor": "white",
             "minorgridcolor": "white",
             "startlinecolor": "#2a3f5f"
            },
            "type": "carpet"
           }
          ],
          "choropleth": [
           {
            "colorbar": {
             "outlinewidth": 0,
             "ticks": ""
            },
            "type": "choropleth"
           }
          ],
          "contour": [
           {
            "colorbar": {
             "outlinewidth": 0,
             "ticks": ""
            },
            "colorscale": [
             [
              0,
              "#0d0887"
             ],
             [
              0.1111111111111111,
              "#46039f"
             ],
             [
              0.2222222222222222,
              "#7201a8"
             ],
             [
              0.3333333333333333,
              "#9c179e"
             ],
             [
              0.4444444444444444,
              "#bd3786"
             ],
             [
              0.5555555555555556,
              "#d8576b"
             ],
             [
              0.6666666666666666,
              "#ed7953"
             ],
             [
              0.7777777777777778,
              "#fb9f3a"
             ],
             [
              0.8888888888888888,
              "#fdca26"
             ],
             [
              1,
              "#f0f921"
             ]
            ],
            "type": "contour"
           }
          ],
          "contourcarpet": [
           {
            "colorbar": {
             "outlinewidth": 0,
             "ticks": ""
            },
            "type": "contourcarpet"
           }
          ],
          "heatmap": [
           {
            "colorbar": {
             "outlinewidth": 0,
             "ticks": ""
            },
            "colorscale": [
             [
              0,
              "#0d0887"
             ],
             [
              0.1111111111111111,
              "#46039f"
             ],
             [
              0.2222222222222222,
              "#7201a8"
             ],
             [
              0.3333333333333333,
              "#9c179e"
             ],
             [
              0.4444444444444444,
              "#bd3786"
             ],
             [
              0.5555555555555556,
              "#d8576b"
             ],
             [
              0.6666666666666666,
              "#ed7953"
             ],
             [
              0.7777777777777778,
              "#fb9f3a"
             ],
             [
              0.8888888888888888,
              "#fdca26"
             ],
             [
              1,
              "#f0f921"
             ]
            ],
            "type": "heatmap"
           }
          ],
          "heatmapgl": [
           {
            "colorbar": {
             "outlinewidth": 0,
             "ticks": ""
            },
            "colorscale": [
             [
              0,
              "#0d0887"
             ],
             [
              0.1111111111111111,
              "#46039f"
             ],
             [
              0.2222222222222222,
              "#7201a8"
             ],
             [
              0.3333333333333333,
              "#9c179e"
             ],
             [
              0.4444444444444444,
              "#bd3786"
             ],
             [
              0.5555555555555556,
              "#d8576b"
             ],
             [
              0.6666666666666666,
              "#ed7953"
             ],
             [
              0.7777777777777778,
              "#fb9f3a"
             ],
             [
              0.8888888888888888,
              "#fdca26"
             ],
             [
              1,
              "#f0f921"
             ]
            ],
            "type": "heatmapgl"
           }
          ],
          "histogram": [
           {
            "marker": {
             "pattern": {
              "fillmode": "overlay",
              "size": 10,
              "solidity": 0.2
             }
            },
            "type": "histogram"
           }
          ],
          "histogram2d": [
           {
            "colorbar": {
             "outlinewidth": 0,
             "ticks": ""
            },
            "colorscale": [
             [
              0,
              "#0d0887"
             ],
             [
              0.1111111111111111,
              "#46039f"
             ],
             [
              0.2222222222222222,
              "#7201a8"
             ],
             [
              0.3333333333333333,
              "#9c179e"
             ],
             [
              0.4444444444444444,
              "#bd3786"
             ],
             [
              0.5555555555555556,
              "#d8576b"
             ],
             [
              0.6666666666666666,
              "#ed7953"
             ],
             [
              0.7777777777777778,
              "#fb9f3a"
             ],
             [
              0.8888888888888888,
              "#fdca26"
             ],
             [
              1,
              "#f0f921"
             ]
            ],
            "type": "histogram2d"
           }
          ],
          "histogram2dcontour": [
           {
            "colorbar": {
             "outlinewidth": 0,
             "ticks": ""
            },
            "colorscale": [
             [
              0,
              "#0d0887"
             ],
             [
              0.1111111111111111,
              "#46039f"
             ],
             [
              0.2222222222222222,
              "#7201a8"
             ],
             [
              0.3333333333333333,
              "#9c179e"
             ],
             [
              0.4444444444444444,
              "#bd3786"
             ],
             [
              0.5555555555555556,
              "#d8576b"
             ],
             [
              0.6666666666666666,
              "#ed7953"
             ],
             [
              0.7777777777777778,
              "#fb9f3a"
             ],
             [
              0.8888888888888888,
              "#fdca26"
             ],
             [
              1,
              "#f0f921"
             ]
            ],
            "type": "histogram2dcontour"
           }
          ],
          "mesh3d": [
           {
            "colorbar": {
             "outlinewidth": 0,
             "ticks": ""
            },
            "type": "mesh3d"
           }
          ],
          "parcoords": [
           {
            "line": {
             "colorbar": {
              "outlinewidth": 0,
              "ticks": ""
             }
            },
            "type": "parcoords"
           }
          ],
          "pie": [
           {
            "automargin": true,
            "type": "pie"
           }
          ],
          "scatter": [
           {
            "fillpattern": {
             "fillmode": "overlay",
             "size": 10,
             "solidity": 0.2
            },
            "type": "scatter"
           }
          ],
          "scatter3d": [
           {
            "line": {
             "colorbar": {
              "outlinewidth": 0,
              "ticks": ""
             }
            },
            "marker": {
             "colorbar": {
              "outlinewidth": 0,
              "ticks": ""
             }
            },
            "type": "scatter3d"
           }
          ],
          "scattercarpet": [
           {
            "marker": {
             "colorbar": {
              "outlinewidth": 0,
              "ticks": ""
             }
            },
            "type": "scattercarpet"
           }
          ],
          "scattergeo": [
           {
            "marker": {
             "colorbar": {
              "outlinewidth": 0,
              "ticks": ""
             }
            },
            "type": "scattergeo"
           }
          ],
          "scattergl": [
           {
            "marker": {
             "colorbar": {
              "outlinewidth": 0,
              "ticks": ""
             }
            },
            "type": "scattergl"
           }
          ],
          "scattermapbox": [
           {
            "marker": {
             "colorbar": {
              "outlinewidth": 0,
              "ticks": ""
             }
            },
            "type": "scattermapbox"
           }
          ],
          "scatterpolar": [
           {
            "marker": {
             "colorbar": {
              "outlinewidth": 0,
              "ticks": ""
             }
            },
            "type": "scatterpolar"
           }
          ],
          "scatterpolargl": [
           {
            "marker": {
             "colorbar": {
              "outlinewidth": 0,
              "ticks": ""
             }
            },
            "type": "scatterpolargl"
           }
          ],
          "scatterternary": [
           {
            "marker": {
             "colorbar": {
              "outlinewidth": 0,
              "ticks": ""
             }
            },
            "type": "scatterternary"
           }
          ],
          "surface": [
           {
            "colorbar": {
             "outlinewidth": 0,
             "ticks": ""
            },
            "colorscale": [
             [
              0,
              "#0d0887"
             ],
             [
              0.1111111111111111,
              "#46039f"
             ],
             [
              0.2222222222222222,
              "#7201a8"
             ],
             [
              0.3333333333333333,
              "#9c179e"
             ],
             [
              0.4444444444444444,
              "#bd3786"
             ],
             [
              0.5555555555555556,
              "#d8576b"
             ],
             [
              0.6666666666666666,
              "#ed7953"
             ],
             [
              0.7777777777777778,
              "#fb9f3a"
             ],
             [
              0.8888888888888888,
              "#fdca26"
             ],
             [
              1,
              "#f0f921"
             ]
            ],
            "type": "surface"
           }
          ],
          "table": [
           {
            "cells": {
             "fill": {
              "color": "#EBF0F8"
             },
             "line": {
              "color": "white"
             }
            },
            "header": {
             "fill": {
              "color": "#C8D4E3"
             },
             "line": {
              "color": "white"
             }
            },
            "type": "table"
           }
          ]
         },
         "layout": {
          "annotationdefaults": {
           "arrowcolor": "#2a3f5f",
           "arrowhead": 0,
           "arrowwidth": 1
          },
          "autotypenumbers": "strict",
          "coloraxis": {
           "colorbar": {
            "outlinewidth": 0,
            "ticks": ""
           }
          },
          "colorscale": {
           "diverging": [
            [
             0,
             "#8e0152"
            ],
            [
             0.1,
             "#c51b7d"
            ],
            [
             0.2,
             "#de77ae"
            ],
            [
             0.3,
             "#f1b6da"
            ],
            [
             0.4,
             "#fde0ef"
            ],
            [
             0.5,
             "#f7f7f7"
            ],
            [
             0.6,
             "#e6f5d0"
            ],
            [
             0.7,
             "#b8e186"
            ],
            [
             0.8,
             "#7fbc41"
            ],
            [
             0.9,
             "#4d9221"
            ],
            [
             1,
             "#276419"
            ]
           ],
           "sequential": [
            [
             0,
             "#0d0887"
            ],
            [
             0.1111111111111111,
             "#46039f"
            ],
            [
             0.2222222222222222,
             "#7201a8"
            ],
            [
             0.3333333333333333,
             "#9c179e"
            ],
            [
             0.4444444444444444,
             "#bd3786"
            ],
            [
             0.5555555555555556,
             "#d8576b"
            ],
            [
             0.6666666666666666,
             "#ed7953"
            ],
            [
             0.7777777777777778,
             "#fb9f3a"
            ],
            [
             0.8888888888888888,
             "#fdca26"
            ],
            [
             1,
             "#f0f921"
            ]
           ],
           "sequentialminus": [
            [
             0,
             "#0d0887"
            ],
            [
             0.1111111111111111,
             "#46039f"
            ],
            [
             0.2222222222222222,
             "#7201a8"
            ],
            [
             0.3333333333333333,
             "#9c179e"
            ],
            [
             0.4444444444444444,
             "#bd3786"
            ],
            [
             0.5555555555555556,
             "#d8576b"
            ],
            [
             0.6666666666666666,
             "#ed7953"
            ],
            [
             0.7777777777777778,
             "#fb9f3a"
            ],
            [
             0.8888888888888888,
             "#fdca26"
            ],
            [
             1,
             "#f0f921"
            ]
           ]
          },
          "colorway": [
           "#636efa",
           "#EF553B",
           "#00cc96",
           "#ab63fa",
           "#FFA15A",
           "#19d3f3",
           "#FF6692",
           "#B6E880",
           "#FF97FF",
           "#FECB52"
          ],
          "font": {
           "color": "#2a3f5f"
          },
          "geo": {
           "bgcolor": "white",
           "lakecolor": "white",
           "landcolor": "#E5ECF6",
           "showlakes": true,
           "showland": true,
           "subunitcolor": "white"
          },
          "hoverlabel": {
           "align": "left"
          },
          "hovermode": "closest",
          "mapbox": {
           "style": "light"
          },
          "paper_bgcolor": "white",
          "plot_bgcolor": "#E5ECF6",
          "polar": {
           "angularaxis": {
            "gridcolor": "white",
            "linecolor": "white",
            "ticks": ""
           },
           "bgcolor": "#E5ECF6",
           "radialaxis": {
            "gridcolor": "white",
            "linecolor": "white",
            "ticks": ""
           }
          },
          "scene": {
           "xaxis": {
            "backgroundcolor": "#E5ECF6",
            "gridcolor": "white",
            "gridwidth": 2,
            "linecolor": "white",
            "showbackground": true,
            "ticks": "",
            "zerolinecolor": "white"
           },
           "yaxis": {
            "backgroundcolor": "#E5ECF6",
            "gridcolor": "white",
            "gridwidth": 2,
            "linecolor": "white",
            "showbackground": true,
            "ticks": "",
            "zerolinecolor": "white"
           },
           "zaxis": {
            "backgroundcolor": "#E5ECF6",
            "gridcolor": "white",
            "gridwidth": 2,
            "linecolor": "white",
            "showbackground": true,
            "ticks": "",
            "zerolinecolor": "white"
           }
          },
          "shapedefaults": {
           "line": {
            "color": "#2a3f5f"
           }
          },
          "ternary": {
           "aaxis": {
            "gridcolor": "white",
            "linecolor": "white",
            "ticks": ""
           },
           "baxis": {
            "gridcolor": "white",
            "linecolor": "white",
            "ticks": ""
           },
           "bgcolor": "#E5ECF6",
           "caxis": {
            "gridcolor": "white",
            "linecolor": "white",
            "ticks": ""
           }
          },
          "title": {
           "x": 0.05
          },
          "xaxis": {
           "automargin": true,
           "gridcolor": "white",
           "linecolor": "white",
           "ticks": "",
           "title": {
            "standoff": 15
           },
           "zerolinecolor": "white",
           "zerolinewidth": 2
          },
          "yaxis": {
           "automargin": true,
           "gridcolor": "white",
           "linecolor": "white",
           "ticks": "",
           "title": {
            "standoff": 15
           },
           "zerolinecolor": "white",
           "zerolinewidth": 2
          }
         }
        },
        "title": {
         "text": "Outliers de valores de generacion "
        },
        "xaxis": {
         "anchor": "y",
         "domain": [
          0,
          1
         ],
         "title": {
          "text": "Nombre"
         }
        },
        "yaxis": {
         "anchor": "x",
         "domain": [
          0,
          1
         ],
         "title": {
          "text": "Valores"
         }
        }
       }
      }
     },
     "metadata": {},
     "output_type": "display_data"
    }
   ],
   "source": [
    "fig = px.box(generacion_df,\n",
    "             x = 'nombre',\n",
    "             y = 'Valores',\n",
    "             title = 'Outliers de valores de generacion ')\n",
    "\n",
    "fig.update_layout(\n",
    "    xaxis_title = 'Nombre',\n",
    "    yaxis_title = 'Valores'\n",
    ")\n",
    "\n",
    "fig.show()"
   ]
  },
  {
   "cell_type": "code",
   "execution_count": 8,
   "metadata": {},
   "outputs": [
    {
     "data": {
      "application/vnd.plotly.v1+json": {
       "config": {
        "plotlyServerURL": "https://plot.ly"
       },
       "data": [
        {
         "alignmentgroup": "True",
         "hovertemplate": "nombre=Hidráulica<br>Fecha actualización=%{x}<br>Valores=%{y}<extra></extra>",
         "legendgroup": "Hidráulica",
         "marker": {
          "color": "#636efa",
          "pattern": {
           "shape": ""
          }
         },
         "name": "Hidráulica",
         "offsetgroup": "Hidráulica",
         "orientation": "v",
         "showlegend": true,
         "textposition": "auto",
         "type": "bar",
         "x": [
          "23/09/2023",
          "24/09/2023",
          "25/09/2023",
          "26/09/2023",
          "27/09/2023",
          "28/09/2023",
          "29/09/2023",
          "30/09/2023"
         ],
         "xaxis": "x",
         "y": [
          24335.723,
          23312.579,
          38970.565,
          40808.219,
          44279.829,
          41709.912,
          43508.807,
          27451.729
         ],
         "yaxis": "y"
        },
        {
         "alignmentgroup": "True",
         "hovertemplate": "nombre=Turbinación bombeo<br>Fecha actualización=%{x}<br>Valores=%{y}<extra></extra>",
         "legendgroup": "Turbinación bombeo",
         "marker": {
          "color": "#EF553B",
          "pattern": {
           "shape": ""
          }
         },
         "name": "Turbinación bombeo",
         "offsetgroup": "Turbinación bombeo",
         "orientation": "v",
         "showlegend": true,
         "textposition": "auto",
         "type": "bar",
         "x": [
          "23/09/2023",
          "24/09/2023",
          "25/09/2023",
          "26/09/2023",
          "27/09/2023",
          "28/09/2023",
          "29/09/2023",
          "30/09/2023"
         ],
         "xaxis": "x",
         "y": [
          16396.046,
          14722.586,
          14649.407,
          10635.073,
          12962.414,
          11135.565,
          11965.273,
          16998.403
         ],
         "yaxis": "y"
        },
        {
         "alignmentgroup": "True",
         "hovertemplate": "nombre=Nuclear<br>Fecha actualización=%{x}<br>Valores=%{y}<extra></extra>",
         "legendgroup": "Nuclear",
         "marker": {
          "color": "#00cc96",
          "pattern": {
           "shape": ""
          }
         },
         "name": "Nuclear",
         "offsetgroup": "Nuclear",
         "orientation": "v",
         "showlegend": true,
         "textposition": "auto",
         "type": "bar",
         "x": [
          "23/09/2023",
          "24/09/2023",
          "25/09/2023",
          "26/09/2023",
          "27/09/2023",
          "28/09/2023",
          "29/09/2023",
          "30/09/2023"
         ],
         "xaxis": "x",
         "y": [
          139091.629,
          138517.22,
          138503.073,
          138814.453,
          138487.209,
          138404.139,
          138340.676,
          138174.336
         ],
         "yaxis": "y"
        },
        {
         "alignmentgroup": "True",
         "hovertemplate": "nombre=Carbón<br>Fecha actualización=%{x}<br>Valores=%{y}<extra></extra>",
         "legendgroup": "Carbón",
         "marker": {
          "color": "#ab63fa",
          "pattern": {
           "shape": ""
          }
         },
         "name": "Carbón",
         "offsetgroup": "Carbón",
         "orientation": "v",
         "showlegend": true,
         "textposition": "auto",
         "type": "bar",
         "x": [
          "23/09/2023",
          "24/09/2023",
          "25/09/2023",
          "26/09/2023",
          "27/09/2023",
          "28/09/2023",
          "29/09/2023",
          "30/09/2023"
         ],
         "xaxis": "x",
         "y": [
          11660.905,
          10726.508,
          15116.6,
          19459.305,
          19886.878,
          19831.748,
          20136.761,
          12655.73
         ],
         "yaxis": "y"
        },
        {
         "alignmentgroup": "True",
         "hovertemplate": "nombre=Motores diésel<br>Fecha actualización=%{x}<br>Valores=%{y}<extra></extra>",
         "legendgroup": "Motores diésel",
         "marker": {
          "color": "#FFA15A",
          "pattern": {
           "shape": ""
          }
         },
         "name": "Motores diésel",
         "offsetgroup": "Motores diésel",
         "orientation": "v",
         "showlegend": true,
         "textposition": "auto",
         "type": "bar",
         "x": [
          "23/09/2023",
          "24/09/2023",
          "25/09/2023",
          "26/09/2023",
          "27/09/2023",
          "28/09/2023",
          "29/09/2023",
          "30/09/2023"
         ],
         "xaxis": "x",
         "y": [
          6408.033,
          6302.819,
          7001.324,
          6415.588,
          5918.866,
          5953.527,
          7659,
          7695.346
         ],
         "yaxis": "y"
        },
        {
         "alignmentgroup": "True",
         "hovertemplate": "nombre=Turbina de gas<br>Fecha actualización=%{x}<br>Valores=%{y}<extra></extra>",
         "legendgroup": "Turbina de gas",
         "marker": {
          "color": "#19d3f3",
          "pattern": {
           "shape": ""
          }
         },
         "name": "Turbina de gas",
         "offsetgroup": "Turbina de gas",
         "orientation": "v",
         "showlegend": true,
         "textposition": "auto",
         "type": "bar",
         "x": [
          "23/09/2023",
          "24/09/2023",
          "25/09/2023",
          "26/09/2023",
          "27/09/2023",
          "28/09/2023",
          "29/09/2023",
          "30/09/2023"
         ],
         "xaxis": "x",
         "y": [
          1222.198,
          1361.139,
          1900.167,
          2317.929,
          2090.492,
          1939.267,
          1688.733,
          2079.891
         ],
         "yaxis": "y"
        },
        {
         "alignmentgroup": "True",
         "hovertemplate": "nombre=Turbina de vapor<br>Fecha actualización=%{x}<br>Valores=%{y}<extra></extra>",
         "legendgroup": "Turbina de vapor",
         "marker": {
          "color": "#FF6692",
          "pattern": {
           "shape": ""
          }
         },
         "name": "Turbina de vapor",
         "offsetgroup": "Turbina de vapor",
         "orientation": "v",
         "showlegend": true,
         "textposition": "auto",
         "type": "bar",
         "x": [
          "23/09/2023",
          "24/09/2023",
          "25/09/2023",
          "26/09/2023",
          "27/09/2023",
          "28/09/2023",
          "29/09/2023",
          "30/09/2023"
         ],
         "xaxis": "x",
         "y": [
          3309.608,
          3177.341,
          4152.895,
          3578.103,
          3392.715,
          3515.335,
          4475.366,
          3878.917
         ],
         "yaxis": "y"
        },
        {
         "alignmentgroup": "True",
         "hovertemplate": "nombre=Ciclo combinado<br>Fecha actualización=%{x}<br>Valores=%{y}<extra></extra>",
         "legendgroup": "Ciclo combinado",
         "marker": {
          "color": "#B6E880",
          "pattern": {
           "shape": ""
          }
         },
         "name": "Ciclo combinado",
         "offsetgroup": "Ciclo combinado",
         "orientation": "v",
         "showlegend": true,
         "textposition": "auto",
         "type": "bar",
         "x": [
          "23/09/2023",
          "24/09/2023",
          "25/09/2023",
          "26/09/2023",
          "27/09/2023",
          "28/09/2023",
          "29/09/2023",
          "30/09/2023"
         ],
         "xaxis": "x",
         "y": [
          140609.853,
          117110.974,
          181039.945,
          183858.901,
          171414.065,
          192061.19,
          208050.26,
          154436.88
         ],
         "yaxis": "y"
        },
        {
         "alignmentgroup": "True",
         "hovertemplate": "nombre=Hidroeólica<br>Fecha actualización=%{x}<br>Valores=%{y}<extra></extra>",
         "legendgroup": "Hidroeólica",
         "marker": {
          "color": "#FF97FF",
          "pattern": {
           "shape": ""
          }
         },
         "name": "Hidroeólica",
         "offsetgroup": "Hidroeólica",
         "orientation": "v",
         "showlegend": true,
         "textposition": "auto",
         "type": "bar",
         "x": [
          "23/09/2023",
          "24/09/2023",
          "25/09/2023",
          "26/09/2023",
          "27/09/2023",
          "28/09/2023",
          "29/09/2023",
          "30/09/2023"
         ],
         "xaxis": "x",
         "y": [
          50.166,
          40.149,
          54.191,
          69.267,
          93.93,
          95.334,
          28.09,
          -2.192
         ],
         "yaxis": "y"
        },
        {
         "alignmentgroup": "True",
         "hovertemplate": "nombre=Eólica<br>Fecha actualización=%{x}<br>Valores=%{y}<extra></extra>",
         "legendgroup": "Eólica",
         "marker": {
          "color": "#FECB52",
          "pattern": {
           "shape": ""
          }
         },
         "name": "Eólica",
         "offsetgroup": "Eólica",
         "orientation": "v",
         "showlegend": true,
         "textposition": "auto",
         "type": "bar",
         "x": [
          "23/09/2023",
          "24/09/2023",
          "25/09/2023",
          "26/09/2023",
          "27/09/2023",
          "28/09/2023",
          "29/09/2023",
          "30/09/2023"
         ],
         "xaxis": "x",
         "y": [
          62212.405,
          80956.323,
          59481.707,
          66702.778,
          119078.548,
          93717.424,
          48743.75,
          71790.755
         ],
         "yaxis": "y"
        },
        {
         "alignmentgroup": "True",
         "hovertemplate": "nombre=Solar fotovoltaica<br>Fecha actualización=%{x}<br>Valores=%{y}<extra></extra>",
         "legendgroup": "Solar fotovoltaica",
         "marker": {
          "color": "#636efa",
          "pattern": {
           "shape": ""
          }
         },
         "name": "Solar fotovoltaica",
         "offsetgroup": "Solar fotovoltaica",
         "orientation": "v",
         "showlegend": true,
         "textposition": "auto",
         "type": "bar",
         "x": [
          "23/09/2023",
          "24/09/2023",
          "25/09/2023",
          "26/09/2023",
          "27/09/2023",
          "28/09/2023",
          "29/09/2023",
          "30/09/2023"
         ],
         "xaxis": "x",
         "y": [
          131582.923,
          124631.015,
          133621.346,
          127279.529,
          124437.232,
          130418.849,
          128452.095,
          126417.895
         ],
         "yaxis": "y"
        },
        {
         "alignmentgroup": "True",
         "hovertemplate": "nombre=Solar térmica<br>Fecha actualización=%{x}<br>Valores=%{y}<extra></extra>",
         "legendgroup": "Solar térmica",
         "marker": {
          "color": "#EF553B",
          "pattern": {
           "shape": ""
          }
         },
         "name": "Solar térmica",
         "offsetgroup": "Solar térmica",
         "orientation": "v",
         "showlegend": true,
         "textposition": "auto",
         "type": "bar",
         "x": [
          "23/09/2023",
          "24/09/2023",
          "25/09/2023",
          "26/09/2023",
          "27/09/2023",
          "28/09/2023",
          "29/09/2023",
          "30/09/2023"
         ],
         "xaxis": "x",
         "y": [
          19952.207,
          22556.123,
          20529.101,
          21103.343,
          19451.213,
          18621.448,
          19664.765,
          19700.118
         ],
         "yaxis": "y"
        },
        {
         "alignmentgroup": "True",
         "hovertemplate": "nombre=Otras renovables<br>Fecha actualización=%{x}<br>Valores=%{y}<extra></extra>",
         "legendgroup": "Otras renovables",
         "marker": {
          "color": "#00cc96",
          "pattern": {
           "shape": ""
          }
         },
         "name": "Otras renovables",
         "offsetgroup": "Otras renovables",
         "orientation": "v",
         "showlegend": true,
         "textposition": "auto",
         "type": "bar",
         "x": [
          "23/09/2023",
          "24/09/2023",
          "25/09/2023",
          "26/09/2023",
          "27/09/2023",
          "28/09/2023",
          "29/09/2023",
          "30/09/2023"
         ],
         "xaxis": "x",
         "y": [
          8997.682,
          7588.529,
          7919.28,
          7809.369,
          7817.909,
          7734.386,
          7933.016,
          8141.04
         ],
         "yaxis": "y"
        },
        {
         "alignmentgroup": "True",
         "hovertemplate": "nombre=Cogeneración<br>Fecha actualización=%{x}<br>Valores=%{y}<extra></extra>",
         "legendgroup": "Cogeneración",
         "marker": {
          "color": "#ab63fa",
          "pattern": {
           "shape": ""
          }
         },
         "name": "Cogeneración",
         "offsetgroup": "Cogeneración",
         "orientation": "v",
         "showlegend": true,
         "textposition": "auto",
         "type": "bar",
         "x": [
          "23/09/2023",
          "24/09/2023",
          "25/09/2023",
          "26/09/2023",
          "27/09/2023",
          "28/09/2023",
          "29/09/2023",
          "30/09/2023"
         ],
         "xaxis": "x",
         "y": [
          48660.325,
          42265.843,
          49993.956,
          50966.696,
          49619.151,
          50454.504,
          50695.218,
          44711.977
         ],
         "yaxis": "y"
        },
        {
         "alignmentgroup": "True",
         "hovertemplate": "nombre=Residuos no renovables<br>Fecha actualización=%{x}<br>Valores=%{y}<extra></extra>",
         "legendgroup": "Residuos no renovables",
         "marker": {
          "color": "#FFA15A",
          "pattern": {
           "shape": ""
          }
         },
         "name": "Residuos no renovables",
         "offsetgroup": "Residuos no renovables",
         "orientation": "v",
         "showlegend": true,
         "textposition": "auto",
         "type": "bar",
         "x": [
          "23/09/2023",
          "24/09/2023",
          "25/09/2023",
          "26/09/2023",
          "27/09/2023",
          "28/09/2023",
          "29/09/2023",
          "30/09/2023"
         ],
         "xaxis": "x",
         "y": [
          4143.66,
          4074.673,
          4179.527,
          4074.2665,
          4201.57,
          4032.016,
          3914.962,
          3905.464
         ],
         "yaxis": "y"
        },
        {
         "alignmentgroup": "True",
         "hovertemplate": "nombre=Residuos renovables<br>Fecha actualización=%{x}<br>Valores=%{y}<extra></extra>",
         "legendgroup": "Residuos renovables",
         "marker": {
          "color": "#19d3f3",
          "pattern": {
           "shape": ""
          }
         },
         "name": "Residuos renovables",
         "offsetgroup": "Residuos renovables",
         "orientation": "v",
         "showlegend": true,
         "textposition": "auto",
         "type": "bar",
         "x": [
          "23/09/2023",
          "24/09/2023",
          "25/09/2023",
          "26/09/2023",
          "27/09/2023",
          "28/09/2023",
          "29/09/2023",
          "30/09/2023"
         ],
         "xaxis": "x",
         "y": [
          2478.807,
          2549.512,
          2650.328,
          2538.8175,
          2655.089,
          2660.421,
          2616.346,
          2606.464
         ],
         "yaxis": "y"
        },
        {
         "alignmentgroup": "True",
         "hovertemplate": "nombre=Generación total<br>Fecha actualización=%{x}<br>Valores=%{y}<extra></extra>",
         "legendgroup": "Generación total",
         "marker": {
          "color": "#FF6692",
          "pattern": {
           "shape": ""
          }
         },
         "name": "Generación total",
         "offsetgroup": "Generación total",
         "orientation": "v",
         "showlegend": true,
         "textposition": "auto",
         "type": "bar",
         "x": [
          "23/09/2023",
          "24/09/2023",
          "25/09/2023",
          "26/09/2023",
          "27/09/2023",
          "28/09/2023",
          "29/09/2023",
          "30/09/2023"
         ],
         "xaxis": "x",
         "y": [
          621112.1700000002,
          599893.3329999999,
          679763.412,
          686431.637,
          725787.1099999999,
          722285.0649999998,
          697873.1180000001,
          640642.753
         ],
         "yaxis": "y"
        }
       ],
       "layout": {
        "barmode": "relative",
        "legend": {
         "title": {
          "text": "nombre"
         },
         "tracegroupgap": 0
        },
        "template": {
         "data": {
          "bar": [
           {
            "error_x": {
             "color": "#2a3f5f"
            },
            "error_y": {
             "color": "#2a3f5f"
            },
            "marker": {
             "line": {
              "color": "#E5ECF6",
              "width": 0.5
             },
             "pattern": {
              "fillmode": "overlay",
              "size": 10,
              "solidity": 0.2
             }
            },
            "type": "bar"
           }
          ],
          "barpolar": [
           {
            "marker": {
             "line": {
              "color": "#E5ECF6",
              "width": 0.5
             },
             "pattern": {
              "fillmode": "overlay",
              "size": 10,
              "solidity": 0.2
             }
            },
            "type": "barpolar"
           }
          ],
          "carpet": [
           {
            "aaxis": {
             "endlinecolor": "#2a3f5f",
             "gridcolor": "white",
             "linecolor": "white",
             "minorgridcolor": "white",
             "startlinecolor": "#2a3f5f"
            },
            "baxis": {
             "endlinecolor": "#2a3f5f",
             "gridcolor": "white",
             "linecolor": "white",
             "minorgridcolor": "white",
             "startlinecolor": "#2a3f5f"
            },
            "type": "carpet"
           }
          ],
          "choropleth": [
           {
            "colorbar": {
             "outlinewidth": 0,
             "ticks": ""
            },
            "type": "choropleth"
           }
          ],
          "contour": [
           {
            "colorbar": {
             "outlinewidth": 0,
             "ticks": ""
            },
            "colorscale": [
             [
              0,
              "#0d0887"
             ],
             [
              0.1111111111111111,
              "#46039f"
             ],
             [
              0.2222222222222222,
              "#7201a8"
             ],
             [
              0.3333333333333333,
              "#9c179e"
             ],
             [
              0.4444444444444444,
              "#bd3786"
             ],
             [
              0.5555555555555556,
              "#d8576b"
             ],
             [
              0.6666666666666666,
              "#ed7953"
             ],
             [
              0.7777777777777778,
              "#fb9f3a"
             ],
             [
              0.8888888888888888,
              "#fdca26"
             ],
             [
              1,
              "#f0f921"
             ]
            ],
            "type": "contour"
           }
          ],
          "contourcarpet": [
           {
            "colorbar": {
             "outlinewidth": 0,
             "ticks": ""
            },
            "type": "contourcarpet"
           }
          ],
          "heatmap": [
           {
            "colorbar": {
             "outlinewidth": 0,
             "ticks": ""
            },
            "colorscale": [
             [
              0,
              "#0d0887"
             ],
             [
              0.1111111111111111,
              "#46039f"
             ],
             [
              0.2222222222222222,
              "#7201a8"
             ],
             [
              0.3333333333333333,
              "#9c179e"
             ],
             [
              0.4444444444444444,
              "#bd3786"
             ],
             [
              0.5555555555555556,
              "#d8576b"
             ],
             [
              0.6666666666666666,
              "#ed7953"
             ],
             [
              0.7777777777777778,
              "#fb9f3a"
             ],
             [
              0.8888888888888888,
              "#fdca26"
             ],
             [
              1,
              "#f0f921"
             ]
            ],
            "type": "heatmap"
           }
          ],
          "heatmapgl": [
           {
            "colorbar": {
             "outlinewidth": 0,
             "ticks": ""
            },
            "colorscale": [
             [
              0,
              "#0d0887"
             ],
             [
              0.1111111111111111,
              "#46039f"
             ],
             [
              0.2222222222222222,
              "#7201a8"
             ],
             [
              0.3333333333333333,
              "#9c179e"
             ],
             [
              0.4444444444444444,
              "#bd3786"
             ],
             [
              0.5555555555555556,
              "#d8576b"
             ],
             [
              0.6666666666666666,
              "#ed7953"
             ],
             [
              0.7777777777777778,
              "#fb9f3a"
             ],
             [
              0.8888888888888888,
              "#fdca26"
             ],
             [
              1,
              "#f0f921"
             ]
            ],
            "type": "heatmapgl"
           }
          ],
          "histogram": [
           {
            "marker": {
             "pattern": {
              "fillmode": "overlay",
              "size": 10,
              "solidity": 0.2
             }
            },
            "type": "histogram"
           }
          ],
          "histogram2d": [
           {
            "colorbar": {
             "outlinewidth": 0,
             "ticks": ""
            },
            "colorscale": [
             [
              0,
              "#0d0887"
             ],
             [
              0.1111111111111111,
              "#46039f"
             ],
             [
              0.2222222222222222,
              "#7201a8"
             ],
             [
              0.3333333333333333,
              "#9c179e"
             ],
             [
              0.4444444444444444,
              "#bd3786"
             ],
             [
              0.5555555555555556,
              "#d8576b"
             ],
             [
              0.6666666666666666,
              "#ed7953"
             ],
             [
              0.7777777777777778,
              "#fb9f3a"
             ],
             [
              0.8888888888888888,
              "#fdca26"
             ],
             [
              1,
              "#f0f921"
             ]
            ],
            "type": "histogram2d"
           }
          ],
          "histogram2dcontour": [
           {
            "colorbar": {
             "outlinewidth": 0,
             "ticks": ""
            },
            "colorscale": [
             [
              0,
              "#0d0887"
             ],
             [
              0.1111111111111111,
              "#46039f"
             ],
             [
              0.2222222222222222,
              "#7201a8"
             ],
             [
              0.3333333333333333,
              "#9c179e"
             ],
             [
              0.4444444444444444,
              "#bd3786"
             ],
             [
              0.5555555555555556,
              "#d8576b"
             ],
             [
              0.6666666666666666,
              "#ed7953"
             ],
             [
              0.7777777777777778,
              "#fb9f3a"
             ],
             [
              0.8888888888888888,
              "#fdca26"
             ],
             [
              1,
              "#f0f921"
             ]
            ],
            "type": "histogram2dcontour"
           }
          ],
          "mesh3d": [
           {
            "colorbar": {
             "outlinewidth": 0,
             "ticks": ""
            },
            "type": "mesh3d"
           }
          ],
          "parcoords": [
           {
            "line": {
             "colorbar": {
              "outlinewidth": 0,
              "ticks": ""
             }
            },
            "type": "parcoords"
           }
          ],
          "pie": [
           {
            "automargin": true,
            "type": "pie"
           }
          ],
          "scatter": [
           {
            "fillpattern": {
             "fillmode": "overlay",
             "size": 10,
             "solidity": 0.2
            },
            "type": "scatter"
           }
          ],
          "scatter3d": [
           {
            "line": {
             "colorbar": {
              "outlinewidth": 0,
              "ticks": ""
             }
            },
            "marker": {
             "colorbar": {
              "outlinewidth": 0,
              "ticks": ""
             }
            },
            "type": "scatter3d"
           }
          ],
          "scattercarpet": [
           {
            "marker": {
             "colorbar": {
              "outlinewidth": 0,
              "ticks": ""
             }
            },
            "type": "scattercarpet"
           }
          ],
          "scattergeo": [
           {
            "marker": {
             "colorbar": {
              "outlinewidth": 0,
              "ticks": ""
             }
            },
            "type": "scattergeo"
           }
          ],
          "scattergl": [
           {
            "marker": {
             "colorbar": {
              "outlinewidth": 0,
              "ticks": ""
             }
            },
            "type": "scattergl"
           }
          ],
          "scattermapbox": [
           {
            "marker": {
             "colorbar": {
              "outlinewidth": 0,
              "ticks": ""
             }
            },
            "type": "scattermapbox"
           }
          ],
          "scatterpolar": [
           {
            "marker": {
             "colorbar": {
              "outlinewidth": 0,
              "ticks": ""
             }
            },
            "type": "scatterpolar"
           }
          ],
          "scatterpolargl": [
           {
            "marker": {
             "colorbar": {
              "outlinewidth": 0,
              "ticks": ""
             }
            },
            "type": "scatterpolargl"
           }
          ],
          "scatterternary": [
           {
            "marker": {
             "colorbar": {
              "outlinewidth": 0,
              "ticks": ""
             }
            },
            "type": "scatterternary"
           }
          ],
          "surface": [
           {
            "colorbar": {
             "outlinewidth": 0,
             "ticks": ""
            },
            "colorscale": [
             [
              0,
              "#0d0887"
             ],
             [
              0.1111111111111111,
              "#46039f"
             ],
             [
              0.2222222222222222,
              "#7201a8"
             ],
             [
              0.3333333333333333,
              "#9c179e"
             ],
             [
              0.4444444444444444,
              "#bd3786"
             ],
             [
              0.5555555555555556,
              "#d8576b"
             ],
             [
              0.6666666666666666,
              "#ed7953"
             ],
             [
              0.7777777777777778,
              "#fb9f3a"
             ],
             [
              0.8888888888888888,
              "#fdca26"
             ],
             [
              1,
              "#f0f921"
             ]
            ],
            "type": "surface"
           }
          ],
          "table": [
           {
            "cells": {
             "fill": {
              "color": "#EBF0F8"
             },
             "line": {
              "color": "white"
             }
            },
            "header": {
             "fill": {
              "color": "#C8D4E3"
             },
             "line": {
              "color": "white"
             }
            },
            "type": "table"
           }
          ]
         },
         "layout": {
          "annotationdefaults": {
           "arrowcolor": "#2a3f5f",
           "arrowhead": 0,
           "arrowwidth": 1
          },
          "autotypenumbers": "strict",
          "coloraxis": {
           "colorbar": {
            "outlinewidth": 0,
            "ticks": ""
           }
          },
          "colorscale": {
           "diverging": [
            [
             0,
             "#8e0152"
            ],
            [
             0.1,
             "#c51b7d"
            ],
            [
             0.2,
             "#de77ae"
            ],
            [
             0.3,
             "#f1b6da"
            ],
            [
             0.4,
             "#fde0ef"
            ],
            [
             0.5,
             "#f7f7f7"
            ],
            [
             0.6,
             "#e6f5d0"
            ],
            [
             0.7,
             "#b8e186"
            ],
            [
             0.8,
             "#7fbc41"
            ],
            [
             0.9,
             "#4d9221"
            ],
            [
             1,
             "#276419"
            ]
           ],
           "sequential": [
            [
             0,
             "#0d0887"
            ],
            [
             0.1111111111111111,
             "#46039f"
            ],
            [
             0.2222222222222222,
             "#7201a8"
            ],
            [
             0.3333333333333333,
             "#9c179e"
            ],
            [
             0.4444444444444444,
             "#bd3786"
            ],
            [
             0.5555555555555556,
             "#d8576b"
            ],
            [
             0.6666666666666666,
             "#ed7953"
            ],
            [
             0.7777777777777778,
             "#fb9f3a"
            ],
            [
             0.8888888888888888,
             "#fdca26"
            ],
            [
             1,
             "#f0f921"
            ]
           ],
           "sequentialminus": [
            [
             0,
             "#0d0887"
            ],
            [
             0.1111111111111111,
             "#46039f"
            ],
            [
             0.2222222222222222,
             "#7201a8"
            ],
            [
             0.3333333333333333,
             "#9c179e"
            ],
            [
             0.4444444444444444,
             "#bd3786"
            ],
            [
             0.5555555555555556,
             "#d8576b"
            ],
            [
             0.6666666666666666,
             "#ed7953"
            ],
            [
             0.7777777777777778,
             "#fb9f3a"
            ],
            [
             0.8888888888888888,
             "#fdca26"
            ],
            [
             1,
             "#f0f921"
            ]
           ]
          },
          "colorway": [
           "#636efa",
           "#EF553B",
           "#00cc96",
           "#ab63fa",
           "#FFA15A",
           "#19d3f3",
           "#FF6692",
           "#B6E880",
           "#FF97FF",
           "#FECB52"
          ],
          "font": {
           "color": "#2a3f5f"
          },
          "geo": {
           "bgcolor": "white",
           "lakecolor": "white",
           "landcolor": "#E5ECF6",
           "showlakes": true,
           "showland": true,
           "subunitcolor": "white"
          },
          "hoverlabel": {
           "align": "left"
          },
          "hovermode": "closest",
          "mapbox": {
           "style": "light"
          },
          "paper_bgcolor": "white",
          "plot_bgcolor": "#E5ECF6",
          "polar": {
           "angularaxis": {
            "gridcolor": "white",
            "linecolor": "white",
            "ticks": ""
           },
           "bgcolor": "#E5ECF6",
           "radialaxis": {
            "gridcolor": "white",
            "linecolor": "white",
            "ticks": ""
           }
          },
          "scene": {
           "xaxis": {
            "backgroundcolor": "#E5ECF6",
            "gridcolor": "white",
            "gridwidth": 2,
            "linecolor": "white",
            "showbackground": true,
            "ticks": "",
            "zerolinecolor": "white"
           },
           "yaxis": {
            "backgroundcolor": "#E5ECF6",
            "gridcolor": "white",
            "gridwidth": 2,
            "linecolor": "white",
            "showbackground": true,
            "ticks": "",
            "zerolinecolor": "white"
           },
           "zaxis": {
            "backgroundcolor": "#E5ECF6",
            "gridcolor": "white",
            "gridwidth": 2,
            "linecolor": "white",
            "showbackground": true,
            "ticks": "",
            "zerolinecolor": "white"
           }
          },
          "shapedefaults": {
           "line": {
            "color": "#2a3f5f"
           }
          },
          "ternary": {
           "aaxis": {
            "gridcolor": "white",
            "linecolor": "white",
            "ticks": ""
           },
           "baxis": {
            "gridcolor": "white",
            "linecolor": "white",
            "ticks": ""
           },
           "bgcolor": "#E5ECF6",
           "caxis": {
            "gridcolor": "white",
            "linecolor": "white",
            "ticks": ""
           }
          },
          "title": {
           "x": 0.05
          },
          "xaxis": {
           "automargin": true,
           "gridcolor": "white",
           "linecolor": "white",
           "ticks": "",
           "title": {
            "standoff": 15
           },
           "zerolinecolor": "white",
           "zerolinewidth": 2
          },
          "yaxis": {
           "automargin": true,
           "gridcolor": "white",
           "linecolor": "white",
           "ticks": "",
           "title": {
            "standoff": 15
           },
           "zerolinecolor": "white",
           "zerolinewidth": 2
          }
         }
        },
        "title": {
         "text": "o"
        },
        "xaxis": {
         "anchor": "y",
         "domain": [
          0,
          1
         ],
         "title": {
          "text": "Nombre"
         }
        },
        "yaxis": {
         "anchor": "x",
         "domain": [
          0,
          1
         ],
         "title": {
          "text": "Valores"
         }
        }
       }
      }
     },
     "metadata": {},
     "output_type": "display_data"
    }
   ],
   "source": [
    "fig = px.bar(generacion_df,\n",
    "             x = \"Fecha actualización\",\n",
    "             y = \"Valores\",\n",
    "             title = \"o\",\n",
    "             color = \"nombre\")\n",
    "\n",
    "fig.update_layout(\n",
    "    xaxis_title = 'Nombre',\n",
    "    yaxis_title = \"Valores\"\n",
    ")\n",
    "\n",
    "fig.show()"
   ]
  },
  {
   "cell_type": "code",
   "execution_count": null,
   "metadata": {},
   "outputs": [],
   "source": [
    "generacion_df = generacion_df.drop()"
   ]
  }
 ],
 "metadata": {
  "kernelspec": {
   "display_name": "Python 3",
   "language": "python",
   "name": "python3"
  },
  "language_info": {
   "codemirror_mode": {
    "name": "ipython",
    "version": 3
   },
   "file_extension": ".py",
   "mimetype": "text/x-python",
   "name": "python",
   "nbconvert_exporter": "python",
   "pygments_lexer": "ipython3",
   "version": "3.12.2"
  }
 },
 "nbformat": 4,
 "nbformat_minor": 2
}
