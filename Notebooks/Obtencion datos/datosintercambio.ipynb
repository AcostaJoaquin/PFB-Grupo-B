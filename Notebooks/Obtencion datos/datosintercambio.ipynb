{
 "cells": [
  {
   "cell_type": "code",
   "execution_count": 34,
   "metadata": {},
   "outputs": [],
   "source": [
    "import requests\n",
    "import json\n",
    "import warnings\n",
    "import pandas as pd\n",
    "from datetime import datetime, timedelta, date\n",
    "from pprint import pprint\n",
    "\n",
    "import plotly.express as px\n",
    "from plotly.subplots import make_subplots\n",
    "import plotly.graph_objects as go"
   ]
  },
  {
   "cell_type": "markdown",
   "metadata": {},
   "source": [
    "# OBTENCIÓN DE DATOS DE INTERCAMBIO "
   ]
  },
  {
   "cell_type": "code",
   "execution_count": 3,
   "metadata": {},
   "outputs": [],
   "source": [
    "lang = input('¿En español (es) o en inglés (en)?')\n",
    "restaDia = float(input(\"¿Cuantos días atrás?: ______________\"))\n",
    "input_año = int(input(\"¿Qué año?: ______________\"))"
   ]
  },
  {
   "cell_type": "code",
   "execution_count": 4,
   "metadata": {},
   "outputs": [],
   "source": [
    "headers = {\n",
    "    'Accept': 'application/json',\n",
    "    'Content-Type': 'application/json',\n",
    "    'Host' : 'apidatos.ree.es'\n",
    "}"
   ]
  },
  {
   "cell_type": "code",
   "execution_count": 5,
   "metadata": {},
   "outputs": [
    {
     "data": {
      "text/html": [
       "<div>\n",
       "<style scoped>\n",
       "    .dataframe tbody tr th:only-of-type {\n",
       "        vertical-align: middle;\n",
       "    }\n",
       "\n",
       "    .dataframe tbody tr th {\n",
       "        vertical-align: top;\n",
       "    }\n",
       "\n",
       "    .dataframe thead th {\n",
       "        text-align: right;\n",
       "    }\n",
       "</style>\n",
       "<table border=\"1\" class=\"dataframe\">\n",
       "  <thead>\n",
       "    <tr style=\"text-align: right;\">\n",
       "      <th></th>\n",
       "      <th>nombre</th>\n",
       "      <th>tipo de intercambio</th>\n",
       "      <th>Valores</th>\n",
       "      <th>Porcentaje</th>\n",
       "      <th>Fecha actualización</th>\n",
       "    </tr>\n",
       "  </thead>\n",
       "  <tbody>\n",
       "    <tr>\n",
       "      <th>0</th>\n",
       "      <td>Francia</td>\n",
       "      <td>Exportación</td>\n",
       "      <td>-11122.5</td>\n",
       "      <td>0.202408</td>\n",
       "      <td>11/09/2023</td>\n",
       "    </tr>\n",
       "    <tr>\n",
       "      <th>1</th>\n",
       "      <td>Francia</td>\n",
       "      <td>Exportación</td>\n",
       "      <td>-18856.9</td>\n",
       "      <td>0.299353</td>\n",
       "      <td>12/09/2023</td>\n",
       "    </tr>\n",
       "    <tr>\n",
       "      <th>2</th>\n",
       "      <td>Francia</td>\n",
       "      <td>Exportación</td>\n",
       "      <td>-17628.5</td>\n",
       "      <td>0.367195</td>\n",
       "      <td>13/09/2023</td>\n",
       "    </tr>\n",
       "    <tr>\n",
       "      <th>3</th>\n",
       "      <td>Francia</td>\n",
       "      <td>Exportación</td>\n",
       "      <td>-7880.3</td>\n",
       "      <td>0.143426</td>\n",
       "      <td>14/09/2023</td>\n",
       "    </tr>\n",
       "    <tr>\n",
       "      <th>4</th>\n",
       "      <td>Francia</td>\n",
       "      <td>Exportación</td>\n",
       "      <td>-2572.1</td>\n",
       "      <td>0.043121</td>\n",
       "      <td>15/09/2023</td>\n",
       "    </tr>\n",
       "    <tr>\n",
       "      <th>...</th>\n",
       "      <td>...</td>\n",
       "      <td>...</td>\n",
       "      <td>...</td>\n",
       "      <td>...</td>\n",
       "      <td>...</td>\n",
       "    </tr>\n",
       "    <tr>\n",
       "      <th>325</th>\n",
       "      <td>Andorra</td>\n",
       "      <td>saldo</td>\n",
       "      <td>-399.0</td>\n",
       "      <td>1.000000</td>\n",
       "      <td>07/10/2023</td>\n",
       "    </tr>\n",
       "    <tr>\n",
       "      <th>326</th>\n",
       "      <td>Andorra</td>\n",
       "      <td>saldo</td>\n",
       "      <td>-384.0</td>\n",
       "      <td>1.000000</td>\n",
       "      <td>08/10/2023</td>\n",
       "    </tr>\n",
       "    <tr>\n",
       "      <th>327</th>\n",
       "      <td>Andorra</td>\n",
       "      <td>saldo</td>\n",
       "      <td>-439.0</td>\n",
       "      <td>1.000000</td>\n",
       "      <td>09/10/2023</td>\n",
       "    </tr>\n",
       "    <tr>\n",
       "      <th>328</th>\n",
       "      <td>Andorra</td>\n",
       "      <td>saldo</td>\n",
       "      <td>-865.0</td>\n",
       "      <td>1.000000</td>\n",
       "      <td>10/10/2023</td>\n",
       "    </tr>\n",
       "    <tr>\n",
       "      <th>329</th>\n",
       "      <td>Andorra</td>\n",
       "      <td>saldo</td>\n",
       "      <td>-458.0</td>\n",
       "      <td>1.000000</td>\n",
       "      <td>11/10/2023</td>\n",
       "    </tr>\n",
       "  </tbody>\n",
       "</table>\n",
       "<p>330 rows × 5 columns</p>\n",
       "</div>"
      ],
      "text/plain": [
       "      nombre tipo de intercambio  Valores  Porcentaje Fecha actualización\n",
       "0    Francia         Exportación -11122.5    0.202408          11/09/2023\n",
       "1    Francia         Exportación -18856.9    0.299353          12/09/2023\n",
       "2    Francia         Exportación -17628.5    0.367195          13/09/2023\n",
       "3    Francia         Exportación  -7880.3    0.143426          14/09/2023\n",
       "4    Francia         Exportación  -2572.1    0.043121          15/09/2023\n",
       "..       ...                 ...      ...         ...                 ...\n",
       "325  Andorra               saldo   -399.0    1.000000          07/10/2023\n",
       "326  Andorra               saldo   -384.0    1.000000          08/10/2023\n",
       "327  Andorra               saldo   -439.0    1.000000          09/10/2023\n",
       "328  Andorra               saldo   -865.0    1.000000          10/10/2023\n",
       "329  Andorra               saldo   -458.0    1.000000          11/10/2023\n",
       "\n",
       "[330 rows x 5 columns]"
      ]
     },
     "execution_count": 5,
     "metadata": {},
     "output_type": "execute_result"
    }
   ],
   "source": [
    "def intercambio_datos(lang, restaDia, input_año):\n",
    "\n",
    "    now = datetime.now()\n",
    "    ultima_fecha = (now - timedelta(days = restaDia)).replace(year = input_año).strftime('%Y-%m-%d')\n",
    "    hoy = now.replace(year = input_año).strftime('%Y-%m-%d')\n",
    "\n",
    "    query = f\"start_date={ultima_fecha}T00:00&end_date={hoy}T23:59&time_trunc=day\"\n",
    "\n",
    "\n",
    "    endpoint = f\"https://apidatos.ree.es/{lang}/datos/intercambios/todas-fronteras-programados?{query}\"\n",
    "    response = requests.get(url = endpoint, headers = headers)\n",
    "    data = response.json()\n",
    "\n",
    "\n",
    "    lista_nombres = list()\n",
    "    lista_tipos = list()\n",
    "    lista_valores = list()\n",
    "    lista_porcentajes = list()\n",
    "    lista_fechas = list()\n",
    "   \n",
    "\n",
    "\n",
    "    for dato in data['included']: \n",
    "        for info in dato['attributes']['content']:\n",
    "            tipo = info['type']\n",
    "\n",
    "            nombre = info['groupId']\n",
    "\n",
    "\n",
    "            for i in info['attributes']['values']:\n",
    "                valor = i['value']\n",
    "\n",
    "                porcentaje = i['percentage']\n",
    "\n",
    "                fecha = i['datetime']\n",
    "                fecha = pd.to_datetime(fecha)\n",
    "                \n",
    "\n",
    "                fecha =  fecha.strftime(\"%d/%m/%Y\")\n",
    "\n",
    "                \n",
    "                lista_nombres.append(nombre)\n",
    "                lista_tipos.append(tipo)\n",
    "                lista_valores.append(valor)\n",
    "                lista_porcentajes.append(porcentaje)\n",
    "                lista_fechas.append(fecha)\n",
    "               \n",
    "\n",
    "\n",
    "    df_intercambio = pd.DataFrame()\n",
    "    df_intercambio['nombre']               = lista_nombres\n",
    "    df_intercambio['tipo de intercambio']      = lista_tipos\n",
    "    df_intercambio['Valores']              = lista_valores\n",
    "    df_intercambio[\"Porcentaje\"]           = lista_porcentajes\n",
    "    df_intercambio[\"Fecha actualización\"]  = lista_fechas\n",
    "             \n",
    "\n",
    "\n",
    "    return df_intercambio \n",
    "\n",
    "df_intercambio = intercambio_datos(lang, restaDia, input_año)\n",
    "\n",
    "df_intercambio"
   ]
  },
  {
   "cell_type": "code",
   "execution_count": 7,
   "metadata": {},
   "outputs": [],
   "source": [
    "df_intercambio.to_csv('intercambio_electrico.csv')"
   ]
  },
  {
   "cell_type": "code",
   "execution_count": 6,
   "metadata": {},
   "outputs": [
    {
     "data": {
      "application/vnd.plotly.v1+json": {
       "config": {
        "plotlyServerURL": "https://plot.ly"
       },
       "data": [
        {
         "alignmentgroup": "True",
         "hovertemplate": "tipo de intercambio=Exportación<br>nombre=%{x}<br>Valor de intercambio=%{y}<extra></extra>",
         "legendgroup": "Exportación",
         "marker": {
          "color": "#636efa",
          "pattern": {
           "shape": ""
          }
         },
         "name": "Exportación",
         "offsetgroup": "Exportación",
         "orientation": "v",
         "showlegend": true,
         "textposition": "auto",
         "type": "bar",
         "x": [
          "Francia",
          "Francia",
          "Francia",
          "Francia",
          "Francia",
          "Francia",
          "Francia",
          "Francia",
          "Francia",
          "Francia",
          "Francia",
          "Francia",
          "Francia",
          "Francia",
          "Francia",
          "Francia",
          "Francia",
          "Francia",
          "Francia",
          "Francia",
          "Francia",
          "Francia",
          "Francia",
          "Francia",
          "Francia",
          "Francia",
          "Francia",
          "Francia",
          "Francia",
          "Francia",
          "Francia",
          "Portugal",
          "Portugal",
          "Portugal",
          "Portugal",
          "Portugal",
          "Portugal",
          "Portugal",
          "Portugal",
          "Portugal",
          "Portugal",
          "Portugal",
          "Portugal",
          "Portugal",
          "Portugal",
          "Portugal",
          "Portugal",
          "Portugal",
          "Portugal",
          "Portugal",
          "Portugal",
          "Portugal",
          "Portugal",
          "Portugal",
          "Portugal",
          "Portugal",
          "Portugal",
          "Portugal",
          "Portugal",
          "Portugal",
          "Portugal",
          "Portugal",
          "Marruecos",
          "Marruecos",
          "Marruecos",
          "Marruecos",
          "Marruecos",
          "Marruecos",
          "Marruecos",
          "Marruecos",
          "Marruecos",
          "Marruecos",
          "Marruecos",
          "Marruecos",
          "Marruecos",
          "Marruecos",
          "Marruecos",
          "Marruecos",
          "Marruecos",
          "Marruecos",
          "Marruecos",
          "Marruecos",
          "Marruecos",
          "Marruecos",
          "Marruecos",
          "Marruecos",
          "Marruecos",
          "Marruecos",
          "Marruecos",
          "Marruecos",
          "Marruecos",
          "Marruecos",
          "Andorra",
          "Andorra",
          "Andorra",
          "Andorra",
          "Andorra",
          "Andorra",
          "Andorra",
          "Andorra",
          "Andorra",
          "Andorra",
          "Andorra",
          "Andorra",
          "Andorra",
          "Andorra",
          "Andorra",
          "Andorra",
          "Andorra",
          "Andorra",
          "Andorra",
          "Andorra",
          "Andorra",
          "Andorra",
          "Andorra",
          "Andorra",
          "Andorra",
          "Andorra",
          "Andorra",
          "Andorra",
          "Andorra",
          "Andorra",
          "Andorra"
         ],
         "xaxis": "x",
         "y": [
          -11122.5,
          -18856.9,
          -17628.5,
          -7880.3,
          -2572.1,
          -6585.8,
          -31665.9,
          -4999.8,
          -4606.3,
          -11827.633,
          -26003.3,
          -22233.6,
          -12821.9,
          -10776.8,
          -15650.5,
          -12081.6,
          -24528,
          -23549.1,
          -8903,
          -10011.2,
          -16804.2,
          -14162.6,
          -4112.3,
          -7281.5,
          -13133.1,
          -2227.1,
          -854,
          -8227.2,
          -13054.7,
          -10107.8,
          -7428.2,
          -52280.8,
          -54579.8,
          -53440.4,
          -53761,
          -48213.3,
          -31296.5,
          -31013.2,
          -43685.4,
          -63442.5,
          -59388.8,
          -43603.2,
          -64298.6,
          -59163.1,
          -65119.2,
          -56865.9,
          -54979.2,
          -57367.6,
          -55468.6,
          -65022,
          -52868.8,
          -60273.6,
          -57187.4,
          -68444.3,
          -65348.7,
          -51060.8,
          -55296.6,
          -39605.3,
          -40490.7,
          -42840,
          -54969.8,
          -37945.2,
          -7640,
          -7010,
          -8680.5,
          -10113.9,
          -12169,
          -12980,
          -11440,
          -8380,
          -8884,
          -6714,
          -4120,
          -3680,
          -2990,
          -7059,
          -3860,
          -3080,
          -1250,
          -640,
          -900,
          -1270,
          -2183,
          -1450,
          -1688,
          -620,
          -550,
          -1550,
          -3063.7,
          -940,
          -140,
          -3370,
          -416,
          -417,
          -417,
          -415,
          -412,
          -385,
          -357,
          -633,
          -950,
          -997,
          -888,
          -879,
          -369,
          -358,
          -569,
          -422,
          -411,
          -420,
          -415,
          -373,
          -372,
          -423,
          -431,
          -434,
          -410,
          -437,
          -399,
          -384,
          -439,
          -865,
          -458
         ],
         "yaxis": "y"
        },
        {
         "alignmentgroup": "True",
         "hovertemplate": "tipo de intercambio=Importación<br>nombre=%{x}<br>Valor de intercambio=%{y}<extra></extra>",
         "legendgroup": "Importación",
         "marker": {
          "color": "#EF553B",
          "pattern": {
           "shape": ""
          }
         },
         "name": "Importación",
         "offsetgroup": "Importación",
         "orientation": "v",
         "showlegend": true,
         "textposition": "auto",
         "type": "bar",
         "x": [
          "Francia",
          "Francia",
          "Francia",
          "Francia",
          "Francia",
          "Francia",
          "Francia",
          "Francia",
          "Francia",
          "Francia",
          "Francia",
          "Francia",
          "Francia",
          "Francia",
          "Francia",
          "Francia",
          "Francia",
          "Francia",
          "Francia",
          "Francia",
          "Francia",
          "Francia",
          "Francia",
          "Francia",
          "Francia",
          "Francia",
          "Francia",
          "Francia",
          "Francia",
          "Francia",
          "Francia",
          "Portugal",
          "Portugal",
          "Portugal",
          "Portugal",
          "Portugal",
          "Portugal",
          "Portugal",
          "Portugal",
          "Portugal",
          "Portugal",
          "Portugal",
          "Portugal",
          "Portugal",
          "Portugal",
          "Portugal",
          "Portugal",
          "Portugal",
          "Portugal",
          "Portugal",
          "Portugal",
          "Portugal",
          "Portugal",
          "Portugal",
          "Portugal",
          "Portugal",
          "Portugal",
          "Portugal",
          "Portugal",
          "Portugal",
          "Portugal",
          "Portugal",
          "Marruecos",
          "Marruecos",
          "Marruecos",
          "Marruecos",
          "Marruecos",
          "Marruecos",
          "Marruecos",
          "Marruecos",
          "Marruecos",
          "Marruecos",
          "Marruecos",
          "Marruecos",
          "Marruecos",
          "Marruecos",
          "Marruecos",
          "Marruecos",
          "Marruecos",
          "Marruecos",
          "Marruecos",
          "Marruecos",
          "Marruecos",
          "Marruecos"
         ],
         "xaxis": "x",
         "y": [
          43828.3,
          44135.183,
          30380.1,
          47063.2,
          57075.7,
          50964.2,
          27226.1,
          57738.7,
          58508,
          55747.825,
          30354.8,
          33996.7,
          41231.7,
          50106.6,
          46807.85,
          46967.2,
          32442.1,
          44094,
          53302.3,
          39594.6,
          51038,
          38749.7,
          58772.6,
          54839.7,
          47070.7,
          58982.8,
          58094.5,
          41993,
          52663.9,
          54355.5,
          57754.1,
          12093.9,
          8335.9,
          7028.5,
          9065.9,
          6580.6,
          11379.3,
          13322.7,
          9662.9,
          8068.9,
          11848.1,
          14379,
          8732,
          8759.7,
          3958.8,
          5967.1,
          12210.7,
          10473,
          4949.3,
          9236.4,
          5700.8,
          4055.7,
          9556.6,
          4684.1,
          7482.4,
          9878.4,
          8791.4,
          8583,
          12089.3,
          16797.9,
          14759.7,
          14273.5,
          1062,
          1292,
          2370,
          260,
          1260,
          1410,
          920,
          1295,
          2550,
          6392.8,
          4545,
          2300,
          3854,
          2678,
          3738,
          1431,
          1434,
          2033,
          2190,
          4989,
          2273,
          2173
         ],
         "yaxis": "y"
        },
        {
         "alignmentgroup": "True",
         "hovertemplate": "tipo de intercambio=saldo<br>nombre=%{x}<br>Valor de intercambio=%{y}<extra></extra>",
         "legendgroup": "saldo",
         "marker": {
          "color": "#00cc96",
          "pattern": {
           "shape": ""
          }
         },
         "name": "saldo",
         "offsetgroup": "saldo",
         "orientation": "v",
         "showlegend": true,
         "textposition": "auto",
         "type": "bar",
         "x": [
          "Francia",
          "Francia",
          "Francia",
          "Francia",
          "Francia",
          "Francia",
          "Francia",
          "Francia",
          "Francia",
          "Francia",
          "Francia",
          "Francia",
          "Francia",
          "Francia",
          "Francia",
          "Francia",
          "Francia",
          "Francia",
          "Francia",
          "Francia",
          "Francia",
          "Francia",
          "Francia",
          "Francia",
          "Francia",
          "Francia",
          "Francia",
          "Francia",
          "Francia",
          "Francia",
          "Francia",
          "Portugal",
          "Portugal",
          "Portugal",
          "Portugal",
          "Portugal",
          "Portugal",
          "Portugal",
          "Portugal",
          "Portugal",
          "Portugal",
          "Portugal",
          "Portugal",
          "Portugal",
          "Portugal",
          "Portugal",
          "Portugal",
          "Portugal",
          "Portugal",
          "Portugal",
          "Portugal",
          "Portugal",
          "Portugal",
          "Portugal",
          "Portugal",
          "Portugal",
          "Portugal",
          "Portugal",
          "Portugal",
          "Portugal",
          "Portugal",
          "Portugal",
          "Marruecos",
          "Marruecos",
          "Marruecos",
          "Marruecos",
          "Marruecos",
          "Marruecos",
          "Marruecos",
          "Marruecos",
          "Marruecos",
          "Marruecos",
          "Marruecos",
          "Marruecos",
          "Marruecos",
          "Marruecos",
          "Marruecos",
          "Marruecos",
          "Marruecos",
          "Marruecos",
          "Marruecos",
          "Marruecos",
          "Marruecos",
          "Marruecos",
          "Marruecos",
          "Marruecos",
          "Marruecos",
          "Marruecos",
          "Marruecos",
          "Marruecos",
          "Marruecos",
          "Marruecos",
          "Andorra",
          "Andorra",
          "Andorra",
          "Andorra",
          "Andorra",
          "Andorra",
          "Andorra",
          "Andorra",
          "Andorra",
          "Andorra",
          "Andorra",
          "Andorra",
          "Andorra",
          "Andorra",
          "Andorra",
          "Andorra",
          "Andorra",
          "Andorra",
          "Andorra",
          "Andorra",
          "Andorra",
          "Andorra",
          "Andorra",
          "Andorra",
          "Andorra",
          "Andorra",
          "Andorra",
          "Andorra",
          "Andorra",
          "Andorra",
          "Andorra"
         ],
         "xaxis": "x",
         "y": [
          32705.800000000003,
          25278.282999999996,
          12751.599999999999,
          39182.899999999994,
          54503.6,
          44378.399999999994,
          -4439.800000000003,
          52738.899999999994,
          53901.7,
          43920.191999999995,
          4351.5,
          11763.099999999999,
          28409.799999999996,
          39329.8,
          31157.35,
          34885.6,
          7914.0999999999985,
          20544.9,
          44399.3,
          29583.399999999998,
          34233.8,
          24587.1,
          54660.299999999996,
          47558.2,
          33937.6,
          56755.700000000004,
          57240.5,
          33765.8,
          39609.2,
          44247.7,
          50325.9,
          -40186.9,
          -46243.9,
          -46411.9,
          -44695.1,
          -41632.700000000004,
          -19917.2,
          -17690.5,
          -34022.5,
          -55373.6,
          -47540.700000000004,
          -29224.199999999997,
          -55566.6,
          -50403.399999999994,
          -61160.399999999994,
          -50898.8,
          -42768.5,
          -46894.6,
          -50519.299999999996,
          -55785.6,
          -47168,
          -56217.9,
          -47630.8,
          -63760.200000000004,
          -57866.299999999996,
          -41182.4,
          -46505.2,
          -31022.300000000003,
          -28401.399999999998,
          -26042.1,
          -40210.100000000006,
          -23671.699999999997,
          -6578,
          -5718,
          -8680.5,
          -10113.9,
          -12169,
          -12980,
          -11440,
          -6010,
          -8624,
          -6714,
          -2860,
          -2270,
          -2990,
          -7059,
          -2940,
          -1785,
          1300,
          5752.8,
          3645,
          1030,
          1671,
          1228,
          2050,
          811,
          884,
          483,
          -873.6999999999998,
          4049,
          2133,
          -1197,
          -416,
          -417,
          -417,
          -415,
          -412,
          -385,
          -357,
          -633,
          -950,
          -997,
          -888,
          -879,
          -369,
          -358,
          -569,
          -422,
          -411,
          -420,
          -415,
          -373,
          -372,
          -423,
          -431,
          -434,
          -410,
          -437,
          -399,
          -384,
          -439,
          -865,
          -458
         ],
         "yaxis": "y"
        }
       ],
       "layout": {
        "barmode": "group",
        "legend": {
         "title": {
          "text": "tipo de intercambio"
         },
         "tracegroupgap": 0
        },
        "template": {
         "data": {
          "bar": [
           {
            "error_x": {
             "color": "#2a3f5f"
            },
            "error_y": {
             "color": "#2a3f5f"
            },
            "marker": {
             "line": {
              "color": "#E5ECF6",
              "width": 0.5
             },
             "pattern": {
              "fillmode": "overlay",
              "size": 10,
              "solidity": 0.2
             }
            },
            "type": "bar"
           }
          ],
          "barpolar": [
           {
            "marker": {
             "line": {
              "color": "#E5ECF6",
              "width": 0.5
             },
             "pattern": {
              "fillmode": "overlay",
              "size": 10,
              "solidity": 0.2
             }
            },
            "type": "barpolar"
           }
          ],
          "carpet": [
           {
            "aaxis": {
             "endlinecolor": "#2a3f5f",
             "gridcolor": "white",
             "linecolor": "white",
             "minorgridcolor": "white",
             "startlinecolor": "#2a3f5f"
            },
            "baxis": {
             "endlinecolor": "#2a3f5f",
             "gridcolor": "white",
             "linecolor": "white",
             "minorgridcolor": "white",
             "startlinecolor": "#2a3f5f"
            },
            "type": "carpet"
           }
          ],
          "choropleth": [
           {
            "colorbar": {
             "outlinewidth": 0,
             "ticks": ""
            },
            "type": "choropleth"
           }
          ],
          "contour": [
           {
            "colorbar": {
             "outlinewidth": 0,
             "ticks": ""
            },
            "colorscale": [
             [
              0,
              "#0d0887"
             ],
             [
              0.1111111111111111,
              "#46039f"
             ],
             [
              0.2222222222222222,
              "#7201a8"
             ],
             [
              0.3333333333333333,
              "#9c179e"
             ],
             [
              0.4444444444444444,
              "#bd3786"
             ],
             [
              0.5555555555555556,
              "#d8576b"
             ],
             [
              0.6666666666666666,
              "#ed7953"
             ],
             [
              0.7777777777777778,
              "#fb9f3a"
             ],
             [
              0.8888888888888888,
              "#fdca26"
             ],
             [
              1,
              "#f0f921"
             ]
            ],
            "type": "contour"
           }
          ],
          "contourcarpet": [
           {
            "colorbar": {
             "outlinewidth": 0,
             "ticks": ""
            },
            "type": "contourcarpet"
           }
          ],
          "heatmap": [
           {
            "colorbar": {
             "outlinewidth": 0,
             "ticks": ""
            },
            "colorscale": [
             [
              0,
              "#0d0887"
             ],
             [
              0.1111111111111111,
              "#46039f"
             ],
             [
              0.2222222222222222,
              "#7201a8"
             ],
             [
              0.3333333333333333,
              "#9c179e"
             ],
             [
              0.4444444444444444,
              "#bd3786"
             ],
             [
              0.5555555555555556,
              "#d8576b"
             ],
             [
              0.6666666666666666,
              "#ed7953"
             ],
             [
              0.7777777777777778,
              "#fb9f3a"
             ],
             [
              0.8888888888888888,
              "#fdca26"
             ],
             [
              1,
              "#f0f921"
             ]
            ],
            "type": "heatmap"
           }
          ],
          "heatmapgl": [
           {
            "colorbar": {
             "outlinewidth": 0,
             "ticks": ""
            },
            "colorscale": [
             [
              0,
              "#0d0887"
             ],
             [
              0.1111111111111111,
              "#46039f"
             ],
             [
              0.2222222222222222,
              "#7201a8"
             ],
             [
              0.3333333333333333,
              "#9c179e"
             ],
             [
              0.4444444444444444,
              "#bd3786"
             ],
             [
              0.5555555555555556,
              "#d8576b"
             ],
             [
              0.6666666666666666,
              "#ed7953"
             ],
             [
              0.7777777777777778,
              "#fb9f3a"
             ],
             [
              0.8888888888888888,
              "#fdca26"
             ],
             [
              1,
              "#f0f921"
             ]
            ],
            "type": "heatmapgl"
           }
          ],
          "histogram": [
           {
            "marker": {
             "pattern": {
              "fillmode": "overlay",
              "size": 10,
              "solidity": 0.2
             }
            },
            "type": "histogram"
           }
          ],
          "histogram2d": [
           {
            "colorbar": {
             "outlinewidth": 0,
             "ticks": ""
            },
            "colorscale": [
             [
              0,
              "#0d0887"
             ],
             [
              0.1111111111111111,
              "#46039f"
             ],
             [
              0.2222222222222222,
              "#7201a8"
             ],
             [
              0.3333333333333333,
              "#9c179e"
             ],
             [
              0.4444444444444444,
              "#bd3786"
             ],
             [
              0.5555555555555556,
              "#d8576b"
             ],
             [
              0.6666666666666666,
              "#ed7953"
             ],
             [
              0.7777777777777778,
              "#fb9f3a"
             ],
             [
              0.8888888888888888,
              "#fdca26"
             ],
             [
              1,
              "#f0f921"
             ]
            ],
            "type": "histogram2d"
           }
          ],
          "histogram2dcontour": [
           {
            "colorbar": {
             "outlinewidth": 0,
             "ticks": ""
            },
            "colorscale": [
             [
              0,
              "#0d0887"
             ],
             [
              0.1111111111111111,
              "#46039f"
             ],
             [
              0.2222222222222222,
              "#7201a8"
             ],
             [
              0.3333333333333333,
              "#9c179e"
             ],
             [
              0.4444444444444444,
              "#bd3786"
             ],
             [
              0.5555555555555556,
              "#d8576b"
             ],
             [
              0.6666666666666666,
              "#ed7953"
             ],
             [
              0.7777777777777778,
              "#fb9f3a"
             ],
             [
              0.8888888888888888,
              "#fdca26"
             ],
             [
              1,
              "#f0f921"
             ]
            ],
            "type": "histogram2dcontour"
           }
          ],
          "mesh3d": [
           {
            "colorbar": {
             "outlinewidth": 0,
             "ticks": ""
            },
            "type": "mesh3d"
           }
          ],
          "parcoords": [
           {
            "line": {
             "colorbar": {
              "outlinewidth": 0,
              "ticks": ""
             }
            },
            "type": "parcoords"
           }
          ],
          "pie": [
           {
            "automargin": true,
            "type": "pie"
           }
          ],
          "scatter": [
           {
            "fillpattern": {
             "fillmode": "overlay",
             "size": 10,
             "solidity": 0.2
            },
            "type": "scatter"
           }
          ],
          "scatter3d": [
           {
            "line": {
             "colorbar": {
              "outlinewidth": 0,
              "ticks": ""
             }
            },
            "marker": {
             "colorbar": {
              "outlinewidth": 0,
              "ticks": ""
             }
            },
            "type": "scatter3d"
           }
          ],
          "scattercarpet": [
           {
            "marker": {
             "colorbar": {
              "outlinewidth": 0,
              "ticks": ""
             }
            },
            "type": "scattercarpet"
           }
          ],
          "scattergeo": [
           {
            "marker": {
             "colorbar": {
              "outlinewidth": 0,
              "ticks": ""
             }
            },
            "type": "scattergeo"
           }
          ],
          "scattergl": [
           {
            "marker": {
             "colorbar": {
              "outlinewidth": 0,
              "ticks": ""
             }
            },
            "type": "scattergl"
           }
          ],
          "scattermapbox": [
           {
            "marker": {
             "colorbar": {
              "outlinewidth": 0,
              "ticks": ""
             }
            },
            "type": "scattermapbox"
           }
          ],
          "scatterpolar": [
           {
            "marker": {
             "colorbar": {
              "outlinewidth": 0,
              "ticks": ""
             }
            },
            "type": "scatterpolar"
           }
          ],
          "scatterpolargl": [
           {
            "marker": {
             "colorbar": {
              "outlinewidth": 0,
              "ticks": ""
             }
            },
            "type": "scatterpolargl"
           }
          ],
          "scatterternary": [
           {
            "marker": {
             "colorbar": {
              "outlinewidth": 0,
              "ticks": ""
             }
            },
            "type": "scatterternary"
           }
          ],
          "surface": [
           {
            "colorbar": {
             "outlinewidth": 0,
             "ticks": ""
            },
            "colorscale": [
             [
              0,
              "#0d0887"
             ],
             [
              0.1111111111111111,
              "#46039f"
             ],
             [
              0.2222222222222222,
              "#7201a8"
             ],
             [
              0.3333333333333333,
              "#9c179e"
             ],
             [
              0.4444444444444444,
              "#bd3786"
             ],
             [
              0.5555555555555556,
              "#d8576b"
             ],
             [
              0.6666666666666666,
              "#ed7953"
             ],
             [
              0.7777777777777778,
              "#fb9f3a"
             ],
             [
              0.8888888888888888,
              "#fdca26"
             ],
             [
              1,
              "#f0f921"
             ]
            ],
            "type": "surface"
           }
          ],
          "table": [
           {
            "cells": {
             "fill": {
              "color": "#EBF0F8"
             },
             "line": {
              "color": "white"
             }
            },
            "header": {
             "fill": {
              "color": "#C8D4E3"
             },
             "line": {
              "color": "white"
             }
            },
            "type": "table"
           }
          ]
         },
         "layout": {
          "annotationdefaults": {
           "arrowcolor": "#2a3f5f",
           "arrowhead": 0,
           "arrowwidth": 1
          },
          "autotypenumbers": "strict",
          "coloraxis": {
           "colorbar": {
            "outlinewidth": 0,
            "ticks": ""
           }
          },
          "colorscale": {
           "diverging": [
            [
             0,
             "#8e0152"
            ],
            [
             0.1,
             "#c51b7d"
            ],
            [
             0.2,
             "#de77ae"
            ],
            [
             0.3,
             "#f1b6da"
            ],
            [
             0.4,
             "#fde0ef"
            ],
            [
             0.5,
             "#f7f7f7"
            ],
            [
             0.6,
             "#e6f5d0"
            ],
            [
             0.7,
             "#b8e186"
            ],
            [
             0.8,
             "#7fbc41"
            ],
            [
             0.9,
             "#4d9221"
            ],
            [
             1,
             "#276419"
            ]
           ],
           "sequential": [
            [
             0,
             "#0d0887"
            ],
            [
             0.1111111111111111,
             "#46039f"
            ],
            [
             0.2222222222222222,
             "#7201a8"
            ],
            [
             0.3333333333333333,
             "#9c179e"
            ],
            [
             0.4444444444444444,
             "#bd3786"
            ],
            [
             0.5555555555555556,
             "#d8576b"
            ],
            [
             0.6666666666666666,
             "#ed7953"
            ],
            [
             0.7777777777777778,
             "#fb9f3a"
            ],
            [
             0.8888888888888888,
             "#fdca26"
            ],
            [
             1,
             "#f0f921"
            ]
           ],
           "sequentialminus": [
            [
             0,
             "#0d0887"
            ],
            [
             0.1111111111111111,
             "#46039f"
            ],
            [
             0.2222222222222222,
             "#7201a8"
            ],
            [
             0.3333333333333333,
             "#9c179e"
            ],
            [
             0.4444444444444444,
             "#bd3786"
            ],
            [
             0.5555555555555556,
             "#d8576b"
            ],
            [
             0.6666666666666666,
             "#ed7953"
            ],
            [
             0.7777777777777778,
             "#fb9f3a"
            ],
            [
             0.8888888888888888,
             "#fdca26"
            ],
            [
             1,
             "#f0f921"
            ]
           ]
          },
          "colorway": [
           "#636efa",
           "#EF553B",
           "#00cc96",
           "#ab63fa",
           "#FFA15A",
           "#19d3f3",
           "#FF6692",
           "#B6E880",
           "#FF97FF",
           "#FECB52"
          ],
          "font": {
           "color": "#2a3f5f"
          },
          "geo": {
           "bgcolor": "white",
           "lakecolor": "white",
           "landcolor": "#E5ECF6",
           "showlakes": true,
           "showland": true,
           "subunitcolor": "white"
          },
          "hoverlabel": {
           "align": "left"
          },
          "hovermode": "closest",
          "mapbox": {
           "style": "light"
          },
          "paper_bgcolor": "white",
          "plot_bgcolor": "#E5ECF6",
          "polar": {
           "angularaxis": {
            "gridcolor": "white",
            "linecolor": "white",
            "ticks": ""
           },
           "bgcolor": "#E5ECF6",
           "radialaxis": {
            "gridcolor": "white",
            "linecolor": "white",
            "ticks": ""
           }
          },
          "scene": {
           "xaxis": {
            "backgroundcolor": "#E5ECF6",
            "gridcolor": "white",
            "gridwidth": 2,
            "linecolor": "white",
            "showbackground": true,
            "ticks": "",
            "zerolinecolor": "white"
           },
           "yaxis": {
            "backgroundcolor": "#E5ECF6",
            "gridcolor": "white",
            "gridwidth": 2,
            "linecolor": "white",
            "showbackground": true,
            "ticks": "",
            "zerolinecolor": "white"
           },
           "zaxis": {
            "backgroundcolor": "#E5ECF6",
            "gridcolor": "white",
            "gridwidth": 2,
            "linecolor": "white",
            "showbackground": true,
            "ticks": "",
            "zerolinecolor": "white"
           }
          },
          "shapedefaults": {
           "line": {
            "color": "#2a3f5f"
           }
          },
          "ternary": {
           "aaxis": {
            "gridcolor": "white",
            "linecolor": "white",
            "ticks": ""
           },
           "baxis": {
            "gridcolor": "white",
            "linecolor": "white",
            "ticks": ""
           },
           "bgcolor": "#E5ECF6",
           "caxis": {
            "gridcolor": "white",
            "linecolor": "white",
            "ticks": ""
           }
          },
          "title": {
           "x": 0.05
          },
          "xaxis": {
           "automargin": true,
           "gridcolor": "white",
           "linecolor": "white",
           "ticks": "",
           "title": {
            "standoff": 15
           },
           "zerolinecolor": "white",
           "zerolinewidth": 2
          },
          "yaxis": {
           "automargin": true,
           "gridcolor": "white",
           "linecolor": "white",
           "ticks": "",
           "title": {
            "standoff": 15
           },
           "zerolinecolor": "white",
           "zerolinewidth": 2
          }
         }
        },
        "title": {
         "text": "Valor del intercambio por País y Tipo"
        },
        "xaxis": {
         "anchor": "y",
         "domain": [
          0,
          1
         ],
         "title": {
          "text": "nombre"
         }
        },
        "yaxis": {
         "anchor": "x",
         "domain": [
          0,
          1
         ],
         "title": {
          "text": "Valor de intercambio"
         }
        }
       }
      }
     },
     "metadata": {},
     "output_type": "display_data"
    }
   ],
   "source": [
    "fig = px.bar(df_intercambio, x = 'nombre', y = 'Valores', color = 'tipo de intercambio',\n",
    "             title= 'Valor del intercambio por País y Tipo',\n",
    "             labels= {'Valores' : 'Valor de intercambio', 'nombre' : 'nombre'},\n",
    "             barmode= 'group')\n",
    "\n",
    "fig.show()"
   ]
  },
  {
   "cell_type": "code",
   "execution_count": 7,
   "metadata": {},
   "outputs": [
    {
     "data": {
      "application/vnd.plotly.v1+json": {
       "config": {
        "plotlyServerURL": "https://plot.ly"
       },
       "data": [
        {
         "hovertemplate": "<b>%{hovertext}</b><br><br>nombre=Francia<br>Valores=%{x}<br>Porcentaje=%{marker.size}<extra></extra>",
         "hovertext": [
          "Exportación",
          "Exportación",
          "Exportación",
          "Exportación",
          "Exportación",
          "Exportación",
          "Exportación",
          "Exportación",
          "Exportación",
          "Exportación",
          "Exportación",
          "Exportación",
          "Exportación",
          "Exportación",
          "Exportación",
          "Exportación",
          "Exportación",
          "Exportación",
          "Exportación",
          "Exportación",
          "Exportación",
          "Exportación",
          "Exportación",
          "Exportación",
          "Exportación",
          "Exportación",
          "Exportación",
          "Exportación",
          "Exportación",
          "Exportación",
          "Exportación",
          "Importación",
          "Importación",
          "Importación",
          "Importación",
          "Importación",
          "Importación",
          "Importación",
          "Importación",
          "Importación",
          "Importación",
          "Importación",
          "Importación",
          "Importación",
          "Importación",
          "Importación",
          "Importación",
          "Importación",
          "Importación",
          "Importación",
          "Importación",
          "Importación",
          "Importación",
          "Importación",
          "Importación",
          "Importación",
          "Importación",
          "Importación",
          "Importación",
          "Importación",
          "Importación",
          "Importación",
          "saldo",
          "saldo",
          "saldo",
          "saldo",
          "saldo",
          "saldo",
          "saldo",
          "saldo",
          "saldo",
          "saldo",
          "saldo",
          "saldo",
          "saldo",
          "saldo",
          "saldo",
          "saldo",
          "saldo",
          "saldo",
          "saldo",
          "saldo",
          "saldo",
          "saldo",
          "saldo",
          "saldo",
          "saldo",
          "saldo",
          "saldo",
          "saldo",
          "saldo",
          "saldo",
          "saldo"
         ],
         "legendgroup": "Francia",
         "marker": {
          "color": "#636efa",
          "size": [
           0.20240833618436854,
           0.29935349177133896,
           0.36719462762921645,
           0.14342551894218608,
           0.04312145628170695,
           0.11443614248479583,
           0.5376944236908239,
           0.07969269268471513,
           0.07298346016671341,
           0.17502852884844672,
           0.46139419178432206,
           0.3954024787347747,
           0.23720714253999733,
           0.17700719736414194,
           0.2505749831687837,
           0.20460364986248664,
           0.43054163499800774,
           0.3481375040469759,
           0.14312285287588034,
           0.20181511032984045,
           0.2476953872368526,
           0.267661772404526,
           0.06539407711549196,
           0.11721441311500744,
           0.2181440374195649,
           0.03638463712569372,
           0.014487221897079655,
           0.16382252559726965,
           0.1986454367561086,
           0.15679929510279492,
           0.11396038495112938,
           0.7975916638156314,
           0.700646508228661,
           0.6328053723707836,
           0.8565744810578139,
           0.9568785437182931,
           0.8855638575152042,
           0.46230557630917607,
           0.9203073073152849,
           0.9270165398332866,
           0.8249714711515532,
           0.5386058082156779,
           0.6045975212652254,
           0.7627928574600026,
           0.8229928026358581,
           0.7494250168312163,
           0.7953963501375134,
           0.5694583650019923,
           0.6518624959530239,
           0.8568771471241197,
           0.7981848896701594,
           0.7523046127631474,
           0.7323382275954741,
           0.9346059228845081,
           0.8827855868849925,
           0.7818559625804351,
           0.9636153628743063,
           0.9855127781029204,
           0.8361774744027304,
           0.8013545632438913,
           0.843200704897205,
           0.8860396150488706,
           1,
           1,
           1,
           1,
           1,
           1,
           1,
           1,
           1,
           1,
           1,
           1,
           1,
           1,
           1,
           1,
           1,
           1,
           1,
           1,
           1,
           1,
           1,
           1,
           1,
           1,
           1,
           1,
           1,
           1,
           1
          ],
          "sizemode": "area",
          "sizeref": 0.01,
          "symbol": "circle"
         },
         "mode": "markers",
         "name": "Francia",
         "orientation": "v",
         "showlegend": true,
         "type": "scatter",
         "x": [
          -11122.5,
          -18856.9,
          -17628.5,
          -7880.3,
          -2572.1,
          -6585.8,
          -31665.9,
          -4999.8,
          -4606.3,
          -11827.633,
          -26003.3,
          -22233.6,
          -12821.9,
          -10776.8,
          -15650.5,
          -12081.6,
          -24528,
          -23549.1,
          -8903,
          -10011.2,
          -16804.2,
          -14162.6,
          -4112.3,
          -7281.5,
          -13133.1,
          -2227.1,
          -854,
          -8227.2,
          -13054.7,
          -10107.8,
          -7428.2,
          43828.3,
          44135.183,
          30380.1,
          47063.2,
          57075.7,
          50964.2,
          27226.1,
          57738.7,
          58508,
          55747.825,
          30354.8,
          33996.7,
          41231.7,
          50106.6,
          46807.85,
          46967.2,
          32442.1,
          44094,
          53302.3,
          39594.6,
          51038,
          38749.7,
          58772.6,
          54839.7,
          47070.7,
          58982.8,
          58094.5,
          41993,
          52663.9,
          54355.5,
          57754.1,
          32705.800000000003,
          25278.282999999996,
          12751.599999999999,
          39182.899999999994,
          54503.6,
          44378.399999999994,
          -4439.800000000003,
          52738.899999999994,
          53901.7,
          43920.191999999995,
          4351.5,
          11763.099999999999,
          28409.799999999996,
          39329.8,
          31157.35,
          34885.6,
          7914.0999999999985,
          20544.9,
          44399.3,
          29583.399999999998,
          34233.8,
          24587.1,
          54660.299999999996,
          47558.2,
          33937.6,
          56755.700000000004,
          57240.5,
          33765.8,
          39609.2,
          44247.7,
          50325.9
         ],
         "xaxis": "x",
         "y": [
          0.20240833618436854,
          0.29935349177133896,
          0.36719462762921645,
          0.14342551894218608,
          0.04312145628170695,
          0.11443614248479583,
          0.5376944236908239,
          0.07969269268471513,
          0.07298346016671341,
          0.17502852884844672,
          0.46139419178432206,
          0.3954024787347747,
          0.23720714253999733,
          0.17700719736414194,
          0.2505749831687837,
          0.20460364986248664,
          0.43054163499800774,
          0.3481375040469759,
          0.14312285287588034,
          0.20181511032984045,
          0.2476953872368526,
          0.267661772404526,
          0.06539407711549196,
          0.11721441311500744,
          0.2181440374195649,
          0.03638463712569372,
          0.014487221897079655,
          0.16382252559726965,
          0.1986454367561086,
          0.15679929510279492,
          0.11396038495112938,
          0.7975916638156314,
          0.700646508228661,
          0.6328053723707836,
          0.8565744810578139,
          0.9568785437182931,
          0.8855638575152042,
          0.46230557630917607,
          0.9203073073152849,
          0.9270165398332866,
          0.8249714711515532,
          0.5386058082156779,
          0.6045975212652254,
          0.7627928574600026,
          0.8229928026358581,
          0.7494250168312163,
          0.7953963501375134,
          0.5694583650019923,
          0.6518624959530239,
          0.8568771471241197,
          0.7981848896701594,
          0.7523046127631474,
          0.7323382275954741,
          0.9346059228845081,
          0.8827855868849925,
          0.7818559625804351,
          0.9636153628743063,
          0.9855127781029204,
          0.8361774744027304,
          0.8013545632438913,
          0.843200704897205,
          0.8860396150488706,
          1,
          1,
          1,
          1,
          1,
          1,
          1,
          1,
          1,
          1,
          1,
          1,
          1,
          1,
          1,
          1,
          1,
          1,
          1,
          1,
          1,
          1,
          1,
          1,
          1,
          1,
          1,
          1,
          1,
          1,
          1
         ],
         "yaxis": "y"
        },
        {
         "hovertemplate": "<b>%{hovertext}</b><br><br>nombre=Portugal<br>Valores=%{x}<br>Porcentaje=%{marker.size}<extra></extra>",
         "hovertext": [
          "Exportación",
          "Exportación",
          "Exportación",
          "Exportación",
          "Exportación",
          "Exportación",
          "Exportación",
          "Exportación",
          "Exportación",
          "Exportación",
          "Exportación",
          "Exportación",
          "Exportación",
          "Exportación",
          "Exportación",
          "Exportación",
          "Exportación",
          "Exportación",
          "Exportación",
          "Exportación",
          "Exportación",
          "Exportación",
          "Exportación",
          "Exportación",
          "Exportación",
          "Exportación",
          "Exportación",
          "Exportación",
          "Exportación",
          "Exportación",
          "Exportación",
          "Importación",
          "Importación",
          "Importación",
          "Importación",
          "Importación",
          "Importación",
          "Importación",
          "Importación",
          "Importación",
          "Importación",
          "Importación",
          "Importación",
          "Importación",
          "Importación",
          "Importación",
          "Importación",
          "Importación",
          "Importación",
          "Importación",
          "Importación",
          "Importación",
          "Importación",
          "Importación",
          "Importación",
          "Importación",
          "Importación",
          "Importación",
          "Importación",
          "Importación",
          "Importación",
          "Importación",
          "saldo",
          "saldo",
          "saldo",
          "saldo",
          "saldo",
          "saldo",
          "saldo",
          "saldo",
          "saldo",
          "saldo",
          "saldo",
          "saldo",
          "saldo",
          "saldo",
          "saldo",
          "saldo",
          "saldo",
          "saldo",
          "saldo",
          "saldo",
          "saldo",
          "saldo",
          "saldo",
          "saldo",
          "saldo",
          "saldo",
          "saldo",
          "saldo",
          "saldo",
          "saldo",
          "saldo"
         ],
         "legendgroup": "Portugal",
         "marker": {
          "color": "#EF553B",
          "size": [
           0.8121327167349905,
           0.8675068385156646,
           0.883766696599409,
           0.8557003449159516,
           0.8799026898979632,
           0.7333547350020386,
           0.6995053669825131,
           0.8188714541981656,
           0.887166242025747,
           0.8336802977108773,
           0.7520100996512723,
           0.8804336812240348,
           0.8710344685436996,
           0.9426908711890906,
           0.9050323874397211,
           0.8182658405504399,
           0.84562341724572,
           0.9180822239766692,
           0.8756181118903721,
           0.9026662295798502,
           0.936954078468132,
           0.8568170921730792,
           0.9359469098188938,
           0.8972636689546087,
           0.837897445322551,
           0.8628229933840968,
           0.8218862254945702,
           0.7700779764168885,
           0.7183351526462199,
           0.7883291863558466,
           0.7266592236114648,
           0.18786728326500937,
           0.13249316148433538,
           0.11623330340059104,
           0.14429965508404838,
           0.1200973101020369,
           0.2666452649979613,
           0.30049463301748697,
           0.18112854580183435,
           0.11283375797425306,
           0.16631970228912263,
           0.24798990034872773,
           0.11956631877596513,
           0.12896553145630038,
           0.05730912881090941,
           0.09496761256027884,
           0.18173415944956015,
           0.15437658275427987,
           0.08191777602333083,
           0.12438188810962801,
           0.09733377042014969,
           0.06304592153186807,
           0.14318290782692078,
           0.06405309018110611,
           0.10273633104539133,
           0.16210255467744897,
           0.13717700661590312,
           0.17811377450542973,
           0.22992202358311142,
           0.28166484735378006,
           0.2116708136441535,
           0.27334077638853516,
           1,
           1,
           1,
           1,
           1,
           1,
           1,
           1,
           1,
           1,
           1,
           1,
           1,
           1,
           1,
           1,
           1,
           1,
           1,
           1,
           1,
           1,
           1,
           1,
           1,
           1,
           1,
           1,
           1,
           1,
           1
          ],
          "sizemode": "area",
          "sizeref": 0.01,
          "symbol": "circle"
         },
         "mode": "markers",
         "name": "Portugal",
         "orientation": "v",
         "showlegend": true,
         "type": "scatter",
         "x": [
          -52280.8,
          -54579.8,
          -53440.4,
          -53761,
          -48213.3,
          -31296.5,
          -31013.2,
          -43685.4,
          -63442.5,
          -59388.8,
          -43603.2,
          -64298.6,
          -59163.1,
          -65119.2,
          -56865.9,
          -54979.2,
          -57367.6,
          -55468.6,
          -65022,
          -52868.8,
          -60273.6,
          -57187.4,
          -68444.3,
          -65348.7,
          -51060.8,
          -55296.6,
          -39605.3,
          -40490.7,
          -42840,
          -54969.8,
          -37945.2,
          12093.9,
          8335.9,
          7028.5,
          9065.9,
          6580.6,
          11379.3,
          13322.7,
          9662.9,
          8068.9,
          11848.1,
          14379,
          8732,
          8759.7,
          3958.8,
          5967.1,
          12210.7,
          10473,
          4949.3,
          9236.4,
          5700.8,
          4055.7,
          9556.6,
          4684.1,
          7482.4,
          9878.4,
          8791.4,
          8583,
          12089.3,
          16797.9,
          14759.7,
          14273.5,
          -40186.9,
          -46243.9,
          -46411.9,
          -44695.1,
          -41632.700000000004,
          -19917.2,
          -17690.5,
          -34022.5,
          -55373.6,
          -47540.700000000004,
          -29224.199999999997,
          -55566.6,
          -50403.399999999994,
          -61160.399999999994,
          -50898.8,
          -42768.5,
          -46894.6,
          -50519.299999999996,
          -55785.6,
          -47168,
          -56217.9,
          -47630.8,
          -63760.200000000004,
          -57866.299999999996,
          -41182.4,
          -46505.2,
          -31022.300000000003,
          -28401.399999999998,
          -26042.1,
          -40210.100000000006,
          -23671.699999999997
         ],
         "xaxis": "x",
         "y": [
          0.8121327167349905,
          0.8675068385156646,
          0.883766696599409,
          0.8557003449159516,
          0.8799026898979632,
          0.7333547350020386,
          0.6995053669825131,
          0.8188714541981656,
          0.887166242025747,
          0.8336802977108773,
          0.7520100996512723,
          0.8804336812240348,
          0.8710344685436996,
          0.9426908711890906,
          0.9050323874397211,
          0.8182658405504399,
          0.84562341724572,
          0.9180822239766692,
          0.8756181118903721,
          0.9026662295798502,
          0.936954078468132,
          0.8568170921730792,
          0.9359469098188938,
          0.8972636689546087,
          0.837897445322551,
          0.8628229933840968,
          0.8218862254945702,
          0.7700779764168885,
          0.7183351526462199,
          0.7883291863558466,
          0.7266592236114648,
          0.18786728326500937,
          0.13249316148433538,
          0.11623330340059104,
          0.14429965508404838,
          0.1200973101020369,
          0.2666452649979613,
          0.30049463301748697,
          0.18112854580183435,
          0.11283375797425306,
          0.16631970228912263,
          0.24798990034872773,
          0.11956631877596513,
          0.12896553145630038,
          0.05730912881090941,
          0.09496761256027884,
          0.18173415944956015,
          0.15437658275427987,
          0.08191777602333083,
          0.12438188810962801,
          0.09733377042014969,
          0.06304592153186807,
          0.14318290782692078,
          0.06405309018110611,
          0.10273633104539133,
          0.16210255467744897,
          0.13717700661590312,
          0.17811377450542973,
          0.22992202358311142,
          0.28166484735378006,
          0.2116708136441535,
          0.27334077638853516,
          1,
          1,
          1,
          1,
          1,
          1,
          1,
          1,
          1,
          1,
          1,
          1,
          1,
          1,
          1,
          1,
          1,
          1,
          1,
          1,
          1,
          1,
          1,
          1,
          1,
          1,
          1,
          1,
          1,
          1,
          1
         ],
         "yaxis": "y"
        },
        {
         "hovertemplate": "<b>%{hovertext}</b><br><br>nombre=Marruecos<br>Valores=%{x}<br>Porcentaje=%{marker.size}<extra></extra>",
         "hovertext": [
          "Exportación",
          "Exportación",
          "Exportación",
          "Exportación",
          "Exportación",
          "Exportación",
          "Exportación",
          "Exportación",
          "Exportación",
          "Exportación",
          "Exportación",
          "Exportación",
          "Exportación",
          "Exportación",
          "Exportación",
          "Exportación",
          "Exportación",
          "Exportación",
          "Exportación",
          "Exportación",
          "Exportación",
          "Exportación",
          "Exportación",
          "Exportación",
          "Exportación",
          "Exportación",
          "Exportación",
          "Exportación",
          "Exportación",
          "Exportación",
          "Importación",
          "Importación",
          "Importación",
          "Importación",
          "Importación",
          "Importación",
          "Importación",
          "Importación",
          "Importación",
          "Importación",
          "Importación",
          "Importación",
          "Importación",
          "Importación",
          "Importación",
          "Importación",
          "Importación",
          "Importación",
          "Importación",
          "Importación",
          "Importación",
          "Importación",
          "saldo",
          "saldo",
          "saldo",
          "saldo",
          "saldo",
          "saldo",
          "saldo",
          "saldo",
          "saldo",
          "saldo",
          "saldo",
          "saldo",
          "saldo",
          "saldo",
          "saldo",
          "saldo",
          "saldo",
          "saldo",
          "saldo",
          "saldo",
          "saldo",
          "saldo",
          "saldo",
          "saldo",
          "saldo",
          "saldo",
          "saldo",
          "saldo",
          "saldo",
          "saldo"
         ],
         "legendgroup": "Marruecos",
         "marker": {
          "color": "#00cc96",
          "size": [
           0.877959089864399,
           0.8443748494338713,
           1,
           1,
           1,
           1,
           1,
           0.7795348837209303,
           0.9715660542432196,
           1,
           0.7657992565055762,
           0.7229862475442044,
           1,
           1,
           0.8075313807531381,
           0.704,
           0.32894736842105265,
           0.0910021613013309,
           0.1652892561983471,
           0.3557422969187675,
           0.3616034454199106,
           0.35125968992248063,
           0.3110947290821968,
           0.3022915650901999,
           0.2772177419354839,
           0.43259838124476696,
           0.5831509222072063,
           0.15854275594535336,
           0.05801906340654787,
           0.6079740212881112,
           0.122040910135601,
           0.15562515056612863,
           0.22046511627906976,
           0.0284339457567804,
           0.2342007434944238,
           0.2770137524557957,
           0.19246861924686193,
           0.296,
           0.6710526315789473,
           0.9089978386986691,
           0.8347107438016529,
           0.6442577030812325,
           0.6383965545800895,
           0.6487403100775194,
           0.6889052709178032,
           0.6977084349098001,
           0.7227822580645161,
           0.5674016187552331,
           0.4168490777927937,
           0.8414572440546466,
           0.9419809365934522,
           0.3920259787118889,
           1,
           1,
           1,
           1,
           1,
           1,
           1,
           1,
           1,
           1,
           1,
           1,
           1,
           1,
           1,
           1,
           1,
           1,
           1,
           1,
           1,
           1,
           1,
           1,
           1,
           1,
           1,
           1,
           1,
           1
          ],
          "sizemode": "area",
          "sizeref": 0.01,
          "symbol": "circle"
         },
         "mode": "markers",
         "name": "Marruecos",
         "orientation": "v",
         "showlegend": true,
         "type": "scatter",
         "x": [
          -7640,
          -7010,
          -8680.5,
          -10113.9,
          -12169,
          -12980,
          -11440,
          -8380,
          -8884,
          -6714,
          -4120,
          -3680,
          -2990,
          -7059,
          -3860,
          -3080,
          -1250,
          -640,
          -900,
          -1270,
          -2183,
          -1450,
          -1688,
          -620,
          -550,
          -1550,
          -3063.7,
          -940,
          -140,
          -3370,
          1062,
          1292,
          2370,
          260,
          1260,
          1410,
          920,
          1295,
          2550,
          6392.8,
          4545,
          2300,
          3854,
          2678,
          3738,
          1431,
          1434,
          2033,
          2190,
          4989,
          2273,
          2173,
          -6578,
          -5718,
          -8680.5,
          -10113.9,
          -12169,
          -12980,
          -11440,
          -6010,
          -8624,
          -6714,
          -2860,
          -2270,
          -2990,
          -7059,
          -2940,
          -1785,
          1300,
          5752.8,
          3645,
          1030,
          1671,
          1228,
          2050,
          811,
          884,
          483,
          -873.6999999999998,
          4049,
          2133,
          -1197
         ],
         "xaxis": "x",
         "y": [
          0.877959089864399,
          0.8443748494338713,
          1,
          1,
          1,
          1,
          1,
          0.7795348837209303,
          0.9715660542432196,
          1,
          0.7657992565055762,
          0.7229862475442044,
          1,
          1,
          0.8075313807531381,
          0.704,
          0.32894736842105265,
          0.0910021613013309,
          0.1652892561983471,
          0.3557422969187675,
          0.3616034454199106,
          0.35125968992248063,
          0.3110947290821968,
          0.3022915650901999,
          0.2772177419354839,
          0.43259838124476696,
          0.5831509222072063,
          0.15854275594535336,
          0.05801906340654787,
          0.6079740212881112,
          0.122040910135601,
          0.15562515056612863,
          0.22046511627906976,
          0.0284339457567804,
          0.2342007434944238,
          0.2770137524557957,
          0.19246861924686193,
          0.296,
          0.6710526315789473,
          0.9089978386986691,
          0.8347107438016529,
          0.6442577030812325,
          0.6383965545800895,
          0.6487403100775194,
          0.6889052709178032,
          0.6977084349098001,
          0.7227822580645161,
          0.5674016187552331,
          0.4168490777927937,
          0.8414572440546466,
          0.9419809365934522,
          0.3920259787118889,
          1,
          1,
          1,
          1,
          1,
          1,
          1,
          1,
          1,
          1,
          1,
          1,
          1,
          1,
          1,
          1,
          1,
          1,
          1,
          1,
          1,
          1,
          1,
          1,
          1,
          1,
          1,
          1,
          1,
          1
         ],
         "yaxis": "y"
        },
        {
         "hovertemplate": "<b>%{hovertext}</b><br><br>nombre=Andorra<br>Valores=%{x}<br>Porcentaje=%{marker.size}<extra></extra>",
         "hovertext": [
          "Exportación",
          "Exportación",
          "Exportación",
          "Exportación",
          "Exportación",
          "Exportación",
          "Exportación",
          "Exportación",
          "Exportación",
          "Exportación",
          "Exportación",
          "Exportación",
          "Exportación",
          "Exportación",
          "Exportación",
          "Exportación",
          "Exportación",
          "Exportación",
          "Exportación",
          "Exportación",
          "Exportación",
          "Exportación",
          "Exportación",
          "Exportación",
          "Exportación",
          "Exportación",
          "Exportación",
          "Exportación",
          "Exportación",
          "Exportación",
          "Exportación",
          "saldo",
          "saldo",
          "saldo",
          "saldo",
          "saldo",
          "saldo",
          "saldo",
          "saldo",
          "saldo",
          "saldo",
          "saldo",
          "saldo",
          "saldo",
          "saldo",
          "saldo",
          "saldo",
          "saldo",
          "saldo",
          "saldo",
          "saldo",
          "saldo",
          "saldo",
          "saldo",
          "saldo",
          "saldo",
          "saldo",
          "saldo",
          "saldo",
          "saldo",
          "saldo",
          "saldo"
         ],
         "legendgroup": "Andorra",
         "marker": {
          "color": "#ab63fa",
          "size": [
           1,
           1,
           1,
           1,
           1,
           1,
           1,
           1,
           1,
           1,
           1,
           1,
           1,
           1,
           1,
           1,
           1,
           1,
           1,
           1,
           1,
           1,
           1,
           1,
           1,
           1,
           1,
           1,
           1,
           1,
           1,
           1,
           1,
           1,
           1,
           1,
           1,
           1,
           1,
           1,
           1,
           1,
           1,
           1,
           1,
           1,
           1,
           1,
           1,
           1,
           1,
           1,
           1,
           1,
           1,
           1,
           1,
           1,
           1,
           1,
           1,
           1
          ],
          "sizemode": "area",
          "sizeref": 0.01,
          "symbol": "circle"
         },
         "mode": "markers",
         "name": "Andorra",
         "orientation": "v",
         "showlegend": true,
         "type": "scatter",
         "x": [
          -416,
          -417,
          -417,
          -415,
          -412,
          -385,
          -357,
          -633,
          -950,
          -997,
          -888,
          -879,
          -369,
          -358,
          -569,
          -422,
          -411,
          -420,
          -415,
          -373,
          -372,
          -423,
          -431,
          -434,
          -410,
          -437,
          -399,
          -384,
          -439,
          -865,
          -458,
          -416,
          -417,
          -417,
          -415,
          -412,
          -385,
          -357,
          -633,
          -950,
          -997,
          -888,
          -879,
          -369,
          -358,
          -569,
          -422,
          -411,
          -420,
          -415,
          -373,
          -372,
          -423,
          -431,
          -434,
          -410,
          -437,
          -399,
          -384,
          -439,
          -865,
          -458
         ],
         "xaxis": "x",
         "y": [
          1,
          1,
          1,
          1,
          1,
          1,
          1,
          1,
          1,
          1,
          1,
          1,
          1,
          1,
          1,
          1,
          1,
          1,
          1,
          1,
          1,
          1,
          1,
          1,
          1,
          1,
          1,
          1,
          1,
          1,
          1,
          1,
          1,
          1,
          1,
          1,
          1,
          1,
          1,
          1,
          1,
          1,
          1,
          1,
          1,
          1,
          1,
          1,
          1,
          1,
          1,
          1,
          1,
          1,
          1,
          1,
          1,
          1,
          1,
          1,
          1,
          1
         ],
         "yaxis": "y"
        }
       ],
       "layout": {
        "legend": {
         "itemsizing": "constant",
         "title": {
          "text": "nombre"
         },
         "tracegroupgap": 0
        },
        "template": {
         "data": {
          "bar": [
           {
            "error_x": {
             "color": "#2a3f5f"
            },
            "error_y": {
             "color": "#2a3f5f"
            },
            "marker": {
             "line": {
              "color": "#E5ECF6",
              "width": 0.5
             },
             "pattern": {
              "fillmode": "overlay",
              "size": 10,
              "solidity": 0.2
             }
            },
            "type": "bar"
           }
          ],
          "barpolar": [
           {
            "marker": {
             "line": {
              "color": "#E5ECF6",
              "width": 0.5
             },
             "pattern": {
              "fillmode": "overlay",
              "size": 10,
              "solidity": 0.2
             }
            },
            "type": "barpolar"
           }
          ],
          "carpet": [
           {
            "aaxis": {
             "endlinecolor": "#2a3f5f",
             "gridcolor": "white",
             "linecolor": "white",
             "minorgridcolor": "white",
             "startlinecolor": "#2a3f5f"
            },
            "baxis": {
             "endlinecolor": "#2a3f5f",
             "gridcolor": "white",
             "linecolor": "white",
             "minorgridcolor": "white",
             "startlinecolor": "#2a3f5f"
            },
            "type": "carpet"
           }
          ],
          "choropleth": [
           {
            "colorbar": {
             "outlinewidth": 0,
             "ticks": ""
            },
            "type": "choropleth"
           }
          ],
          "contour": [
           {
            "colorbar": {
             "outlinewidth": 0,
             "ticks": ""
            },
            "colorscale": [
             [
              0,
              "#0d0887"
             ],
             [
              0.1111111111111111,
              "#46039f"
             ],
             [
              0.2222222222222222,
              "#7201a8"
             ],
             [
              0.3333333333333333,
              "#9c179e"
             ],
             [
              0.4444444444444444,
              "#bd3786"
             ],
             [
              0.5555555555555556,
              "#d8576b"
             ],
             [
              0.6666666666666666,
              "#ed7953"
             ],
             [
              0.7777777777777778,
              "#fb9f3a"
             ],
             [
              0.8888888888888888,
              "#fdca26"
             ],
             [
              1,
              "#f0f921"
             ]
            ],
            "type": "contour"
           }
          ],
          "contourcarpet": [
           {
            "colorbar": {
             "outlinewidth": 0,
             "ticks": ""
            },
            "type": "contourcarpet"
           }
          ],
          "heatmap": [
           {
            "colorbar": {
             "outlinewidth": 0,
             "ticks": ""
            },
            "colorscale": [
             [
              0,
              "#0d0887"
             ],
             [
              0.1111111111111111,
              "#46039f"
             ],
             [
              0.2222222222222222,
              "#7201a8"
             ],
             [
              0.3333333333333333,
              "#9c179e"
             ],
             [
              0.4444444444444444,
              "#bd3786"
             ],
             [
              0.5555555555555556,
              "#d8576b"
             ],
             [
              0.6666666666666666,
              "#ed7953"
             ],
             [
              0.7777777777777778,
              "#fb9f3a"
             ],
             [
              0.8888888888888888,
              "#fdca26"
             ],
             [
              1,
              "#f0f921"
             ]
            ],
            "type": "heatmap"
           }
          ],
          "heatmapgl": [
           {
            "colorbar": {
             "outlinewidth": 0,
             "ticks": ""
            },
            "colorscale": [
             [
              0,
              "#0d0887"
             ],
             [
              0.1111111111111111,
              "#46039f"
             ],
             [
              0.2222222222222222,
              "#7201a8"
             ],
             [
              0.3333333333333333,
              "#9c179e"
             ],
             [
              0.4444444444444444,
              "#bd3786"
             ],
             [
              0.5555555555555556,
              "#d8576b"
             ],
             [
              0.6666666666666666,
              "#ed7953"
             ],
             [
              0.7777777777777778,
              "#fb9f3a"
             ],
             [
              0.8888888888888888,
              "#fdca26"
             ],
             [
              1,
              "#f0f921"
             ]
            ],
            "type": "heatmapgl"
           }
          ],
          "histogram": [
           {
            "marker": {
             "pattern": {
              "fillmode": "overlay",
              "size": 10,
              "solidity": 0.2
             }
            },
            "type": "histogram"
           }
          ],
          "histogram2d": [
           {
            "colorbar": {
             "outlinewidth": 0,
             "ticks": ""
            },
            "colorscale": [
             [
              0,
              "#0d0887"
             ],
             [
              0.1111111111111111,
              "#46039f"
             ],
             [
              0.2222222222222222,
              "#7201a8"
             ],
             [
              0.3333333333333333,
              "#9c179e"
             ],
             [
              0.4444444444444444,
              "#bd3786"
             ],
             [
              0.5555555555555556,
              "#d8576b"
             ],
             [
              0.6666666666666666,
              "#ed7953"
             ],
             [
              0.7777777777777778,
              "#fb9f3a"
             ],
             [
              0.8888888888888888,
              "#fdca26"
             ],
             [
              1,
              "#f0f921"
             ]
            ],
            "type": "histogram2d"
           }
          ],
          "histogram2dcontour": [
           {
            "colorbar": {
             "outlinewidth": 0,
             "ticks": ""
            },
            "colorscale": [
             [
              0,
              "#0d0887"
             ],
             [
              0.1111111111111111,
              "#46039f"
             ],
             [
              0.2222222222222222,
              "#7201a8"
             ],
             [
              0.3333333333333333,
              "#9c179e"
             ],
             [
              0.4444444444444444,
              "#bd3786"
             ],
             [
              0.5555555555555556,
              "#d8576b"
             ],
             [
              0.6666666666666666,
              "#ed7953"
             ],
             [
              0.7777777777777778,
              "#fb9f3a"
             ],
             [
              0.8888888888888888,
              "#fdca26"
             ],
             [
              1,
              "#f0f921"
             ]
            ],
            "type": "histogram2dcontour"
           }
          ],
          "mesh3d": [
           {
            "colorbar": {
             "outlinewidth": 0,
             "ticks": ""
            },
            "type": "mesh3d"
           }
          ],
          "parcoords": [
           {
            "line": {
             "colorbar": {
              "outlinewidth": 0,
              "ticks": ""
             }
            },
            "type": "parcoords"
           }
          ],
          "pie": [
           {
            "automargin": true,
            "type": "pie"
           }
          ],
          "scatter": [
           {
            "fillpattern": {
             "fillmode": "overlay",
             "size": 10,
             "solidity": 0.2
            },
            "type": "scatter"
           }
          ],
          "scatter3d": [
           {
            "line": {
             "colorbar": {
              "outlinewidth": 0,
              "ticks": ""
             }
            },
            "marker": {
             "colorbar": {
              "outlinewidth": 0,
              "ticks": ""
             }
            },
            "type": "scatter3d"
           }
          ],
          "scattercarpet": [
           {
            "marker": {
             "colorbar": {
              "outlinewidth": 0,
              "ticks": ""
             }
            },
            "type": "scattercarpet"
           }
          ],
          "scattergeo": [
           {
            "marker": {
             "colorbar": {
              "outlinewidth": 0,
              "ticks": ""
             }
            },
            "type": "scattergeo"
           }
          ],
          "scattergl": [
           {
            "marker": {
             "colorbar": {
              "outlinewidth": 0,
              "ticks": ""
             }
            },
            "type": "scattergl"
           }
          ],
          "scattermapbox": [
           {
            "marker": {
             "colorbar": {
              "outlinewidth": 0,
              "ticks": ""
             }
            },
            "type": "scattermapbox"
           }
          ],
          "scatterpolar": [
           {
            "marker": {
             "colorbar": {
              "outlinewidth": 0,
              "ticks": ""
             }
            },
            "type": "scatterpolar"
           }
          ],
          "scatterpolargl": [
           {
            "marker": {
             "colorbar": {
              "outlinewidth": 0,
              "ticks": ""
             }
            },
            "type": "scatterpolargl"
           }
          ],
          "scatterternary": [
           {
            "marker": {
             "colorbar": {
              "outlinewidth": 0,
              "ticks": ""
             }
            },
            "type": "scatterternary"
           }
          ],
          "surface": [
           {
            "colorbar": {
             "outlinewidth": 0,
             "ticks": ""
            },
            "colorscale": [
             [
              0,
              "#0d0887"
             ],
             [
              0.1111111111111111,
              "#46039f"
             ],
             [
              0.2222222222222222,
              "#7201a8"
             ],
             [
              0.3333333333333333,
              "#9c179e"
             ],
             [
              0.4444444444444444,
              "#bd3786"
             ],
             [
              0.5555555555555556,
              "#d8576b"
             ],
             [
              0.6666666666666666,
              "#ed7953"
             ],
             [
              0.7777777777777778,
              "#fb9f3a"
             ],
             [
              0.8888888888888888,
              "#fdca26"
             ],
             [
              1,
              "#f0f921"
             ]
            ],
            "type": "surface"
           }
          ],
          "table": [
           {
            "cells": {
             "fill": {
              "color": "#EBF0F8"
             },
             "line": {
              "color": "white"
             }
            },
            "header": {
             "fill": {
              "color": "#C8D4E3"
             },
             "line": {
              "color": "white"
             }
            },
            "type": "table"
           }
          ]
         },
         "layout": {
          "annotationdefaults": {
           "arrowcolor": "#2a3f5f",
           "arrowhead": 0,
           "arrowwidth": 1
          },
          "autotypenumbers": "strict",
          "coloraxis": {
           "colorbar": {
            "outlinewidth": 0,
            "ticks": ""
           }
          },
          "colorscale": {
           "diverging": [
            [
             0,
             "#8e0152"
            ],
            [
             0.1,
             "#c51b7d"
            ],
            [
             0.2,
             "#de77ae"
            ],
            [
             0.3,
             "#f1b6da"
            ],
            [
             0.4,
             "#fde0ef"
            ],
            [
             0.5,
             "#f7f7f7"
            ],
            [
             0.6,
             "#e6f5d0"
            ],
            [
             0.7,
             "#b8e186"
            ],
            [
             0.8,
             "#7fbc41"
            ],
            [
             0.9,
             "#4d9221"
            ],
            [
             1,
             "#276419"
            ]
           ],
           "sequential": [
            [
             0,
             "#0d0887"
            ],
            [
             0.1111111111111111,
             "#46039f"
            ],
            [
             0.2222222222222222,
             "#7201a8"
            ],
            [
             0.3333333333333333,
             "#9c179e"
            ],
            [
             0.4444444444444444,
             "#bd3786"
            ],
            [
             0.5555555555555556,
             "#d8576b"
            ],
            [
             0.6666666666666666,
             "#ed7953"
            ],
            [
             0.7777777777777778,
             "#fb9f3a"
            ],
            [
             0.8888888888888888,
             "#fdca26"
            ],
            [
             1,
             "#f0f921"
            ]
           ],
           "sequentialminus": [
            [
             0,
             "#0d0887"
            ],
            [
             0.1111111111111111,
             "#46039f"
            ],
            [
             0.2222222222222222,
             "#7201a8"
            ],
            [
             0.3333333333333333,
             "#9c179e"
            ],
            [
             0.4444444444444444,
             "#bd3786"
            ],
            [
             0.5555555555555556,
             "#d8576b"
            ],
            [
             0.6666666666666666,
             "#ed7953"
            ],
            [
             0.7777777777777778,
             "#fb9f3a"
            ],
            [
             0.8888888888888888,
             "#fdca26"
            ],
            [
             1,
             "#f0f921"
            ]
           ]
          },
          "colorway": [
           "#636efa",
           "#EF553B",
           "#00cc96",
           "#ab63fa",
           "#FFA15A",
           "#19d3f3",
           "#FF6692",
           "#B6E880",
           "#FF97FF",
           "#FECB52"
          ],
          "font": {
           "color": "#2a3f5f"
          },
          "geo": {
           "bgcolor": "white",
           "lakecolor": "white",
           "landcolor": "#E5ECF6",
           "showlakes": true,
           "showland": true,
           "subunitcolor": "white"
          },
          "hoverlabel": {
           "align": "left"
          },
          "hovermode": "closest",
          "mapbox": {
           "style": "light"
          },
          "paper_bgcolor": "white",
          "plot_bgcolor": "#E5ECF6",
          "polar": {
           "angularaxis": {
            "gridcolor": "white",
            "linecolor": "white",
            "ticks": ""
           },
           "bgcolor": "#E5ECF6",
           "radialaxis": {
            "gridcolor": "white",
            "linecolor": "white",
            "ticks": ""
           }
          },
          "scene": {
           "xaxis": {
            "backgroundcolor": "#E5ECF6",
            "gridcolor": "white",
            "gridwidth": 2,
            "linecolor": "white",
            "showbackground": true,
            "ticks": "",
            "zerolinecolor": "white"
           },
           "yaxis": {
            "backgroundcolor": "#E5ECF6",
            "gridcolor": "white",
            "gridwidth": 2,
            "linecolor": "white",
            "showbackground": true,
            "ticks": "",
            "zerolinecolor": "white"
           },
           "zaxis": {
            "backgroundcolor": "#E5ECF6",
            "gridcolor": "white",
            "gridwidth": 2,
            "linecolor": "white",
            "showbackground": true,
            "ticks": "",
            "zerolinecolor": "white"
           }
          },
          "shapedefaults": {
           "line": {
            "color": "#2a3f5f"
           }
          },
          "ternary": {
           "aaxis": {
            "gridcolor": "white",
            "linecolor": "white",
            "ticks": ""
           },
           "baxis": {
            "gridcolor": "white",
            "linecolor": "white",
            "ticks": ""
           },
           "bgcolor": "#E5ECF6",
           "caxis": {
            "gridcolor": "white",
            "linecolor": "white",
            "ticks": ""
           }
          },
          "title": {
           "x": 0.05
          },
          "xaxis": {
           "automargin": true,
           "gridcolor": "white",
           "linecolor": "white",
           "ticks": "",
           "title": {
            "standoff": 15
           },
           "zerolinecolor": "white",
           "zerolinewidth": 2
          },
          "yaxis": {
           "automargin": true,
           "gridcolor": "white",
           "linecolor": "white",
           "ticks": "",
           "title": {
            "standoff": 15
           },
           "zerolinecolor": "white",
           "zerolinewidth": 2
          }
         }
        },
        "title": {
         "text": "Relación entre el valor del intercambio y el porcentaje de cambio"
        },
        "xaxis": {
         "anchor": "y",
         "domain": [
          0,
          1
         ],
         "title": {
          "text": "Valores"
         }
        },
        "yaxis": {
         "anchor": "x",
         "domain": [
          0,
          1
         ],
         "title": {
          "text": "Porcentaje"
         }
        }
       }
      }
     },
     "metadata": {},
     "output_type": "display_data"
    }
   ],
   "source": [
    "fig = px.scatter(df_intercambio, x = 'Valores', y = 'Porcentaje', color = 'nombre',\n",
    "                 size= 'Porcentaje', hover_name= 'tipo de intercambio',            \n",
    "                 title = 'Relación entre el valor del intercambio y el porcentaje de cambio',\n",
    "                 size_max= 10)\n",
    "\n",
    "fig.show()"
   ]
  },
  {
   "cell_type": "code",
   "execution_count": 47,
   "metadata": {},
   "outputs": [
    {
     "data": {
      "application/vnd.plotly.v1+json": {
       "config": {
        "plotlyServerURL": "https://plot.ly"
       },
       "data": [
        {
         "hovertemplate": "nombre=Francia<br>tipo de intercambio=Exportación<br>Fecha actualización=%{x}<br>Valores=%{y}<extra></extra>",
         "legendgroup": "Francia",
         "line": {
          "color": "#636efa",
          "dash": "solid"
         },
         "marker": {
          "symbol": "circle"
         },
         "mode": "lines+markers",
         "name": "Francia",
         "orientation": "v",
         "showlegend": true,
         "type": "scatter",
         "x": [
          "11/09/2023",
          "12/09/2023",
          "13/09/2023",
          "14/09/2023",
          "15/09/2023",
          "16/09/2023",
          "17/09/2023",
          "18/09/2023",
          "19/09/2023",
          "20/09/2023",
          "21/09/2023",
          "22/09/2023",
          "23/09/2023",
          "24/09/2023",
          "25/09/2023",
          "26/09/2023",
          "27/09/2023",
          "28/09/2023",
          "29/09/2023",
          "30/09/2023",
          "01/10/2023",
          "02/10/2023",
          "03/10/2023",
          "04/10/2023",
          "05/10/2023",
          "06/10/2023",
          "07/10/2023",
          "08/10/2023",
          "09/10/2023",
          "10/10/2023",
          "11/10/2023"
         ],
         "xaxis": "x",
         "y": [
          -11122.5,
          -18856.9,
          -17628.5,
          -7880.3,
          -2572.1,
          -6585.8,
          -31665.9,
          -4999.8,
          -4606.3,
          -11827.633,
          -26003.3,
          -22233.6,
          -12821.9,
          -10776.8,
          -15650.5,
          -12081.6,
          -24528,
          -23549.1,
          -8903,
          -10011.2,
          -16804.2,
          -14162.6,
          -4112.3,
          -7281.5,
          -13133.1,
          -2227.1,
          -854,
          -8227.2,
          -13054.7,
          -10107.8,
          -7428.2
         ],
         "yaxis": "y"
        },
        {
         "hovertemplate": "nombre=Francia<br>tipo de intercambio=Importación<br>Fecha actualización=%{x}<br>Valores=%{y}<extra></extra>",
         "legendgroup": "Francia",
         "line": {
          "color": "#636efa",
          "dash": "solid"
         },
         "marker": {
          "symbol": "circle"
         },
         "mode": "lines+markers",
         "name": "Francia",
         "orientation": "v",
         "showlegend": false,
         "type": "scatter",
         "x": [
          "11/09/2023",
          "12/09/2023",
          "13/09/2023",
          "14/09/2023",
          "15/09/2023",
          "16/09/2023",
          "17/09/2023",
          "18/09/2023",
          "19/09/2023",
          "20/09/2023",
          "21/09/2023",
          "22/09/2023",
          "23/09/2023",
          "24/09/2023",
          "25/09/2023",
          "26/09/2023",
          "27/09/2023",
          "28/09/2023",
          "29/09/2023",
          "30/09/2023",
          "01/10/2023",
          "02/10/2023",
          "03/10/2023",
          "04/10/2023",
          "05/10/2023",
          "06/10/2023",
          "07/10/2023",
          "08/10/2023",
          "09/10/2023",
          "10/10/2023",
          "11/10/2023"
         ],
         "xaxis": "x",
         "y": [
          43828.3,
          44135.183,
          30380.1,
          47063.2,
          57075.7,
          50964.2,
          27226.1,
          57738.7,
          58508,
          55747.825,
          30354.8,
          33996.7,
          41231.7,
          50106.6,
          46807.85,
          46967.2,
          32442.1,
          44094,
          53302.3,
          39594.6,
          51038,
          38749.7,
          58772.6,
          54839.7,
          47070.7,
          58982.8,
          58094.5,
          41993,
          52663.9,
          54355.5,
          57754.1
         ],
         "yaxis": "y"
        },
        {
         "hovertemplate": "nombre=Francia<br>tipo de intercambio=saldo<br>Fecha actualización=%{x}<br>Valores=%{y}<extra></extra>",
         "legendgroup": "Francia",
         "line": {
          "color": "#636efa",
          "dash": "solid"
         },
         "marker": {
          "symbol": "circle"
         },
         "mode": "lines+markers",
         "name": "Francia",
         "orientation": "v",
         "showlegend": false,
         "type": "scatter",
         "x": [
          "11/09/2023",
          "12/09/2023",
          "13/09/2023",
          "14/09/2023",
          "15/09/2023",
          "16/09/2023",
          "17/09/2023",
          "18/09/2023",
          "19/09/2023",
          "20/09/2023",
          "21/09/2023",
          "22/09/2023",
          "23/09/2023",
          "24/09/2023",
          "25/09/2023",
          "26/09/2023",
          "27/09/2023",
          "28/09/2023",
          "29/09/2023",
          "30/09/2023",
          "01/10/2023",
          "02/10/2023",
          "03/10/2023",
          "04/10/2023",
          "05/10/2023",
          "06/10/2023",
          "07/10/2023",
          "08/10/2023",
          "09/10/2023",
          "10/10/2023",
          "11/10/2023"
         ],
         "xaxis": "x",
         "y": [
          32705.800000000003,
          25278.282999999996,
          12751.599999999999,
          39182.899999999994,
          54503.6,
          44378.399999999994,
          -4439.800000000003,
          52738.899999999994,
          53901.7,
          43920.191999999995,
          4351.5,
          11763.099999999999,
          28409.799999999996,
          39329.8,
          31157.35,
          34885.6,
          7914.0999999999985,
          20544.9,
          44399.3,
          29583.399999999998,
          34233.8,
          24587.1,
          54660.299999999996,
          47558.2,
          33937.6,
          56755.700000000004,
          57240.5,
          33765.8,
          39609.2,
          44247.7,
          50325.9
         ],
         "yaxis": "y"
        },
        {
         "hovertemplate": "nombre=Portugal<br>tipo de intercambio=Exportación<br>Fecha actualización=%{x}<br>Valores=%{y}<extra></extra>",
         "legendgroup": "Portugal",
         "line": {
          "color": "#EF553B",
          "dash": "solid"
         },
         "marker": {
          "symbol": "circle"
         },
         "mode": "lines+markers",
         "name": "Portugal",
         "orientation": "v",
         "showlegend": true,
         "type": "scatter",
         "x": [
          "11/09/2023",
          "12/09/2023",
          "13/09/2023",
          "14/09/2023",
          "15/09/2023",
          "16/09/2023",
          "17/09/2023",
          "18/09/2023",
          "19/09/2023",
          "20/09/2023",
          "21/09/2023",
          "22/09/2023",
          "23/09/2023",
          "24/09/2023",
          "25/09/2023",
          "26/09/2023",
          "27/09/2023",
          "28/09/2023",
          "29/09/2023",
          "30/09/2023",
          "01/10/2023",
          "02/10/2023",
          "03/10/2023",
          "04/10/2023",
          "05/10/2023",
          "06/10/2023",
          "07/10/2023",
          "08/10/2023",
          "09/10/2023",
          "10/10/2023",
          "11/10/2023"
         ],
         "xaxis": "x",
         "y": [
          -52280.8,
          -54579.8,
          -53440.4,
          -53761,
          -48213.3,
          -31296.5,
          -31013.2,
          -43685.4,
          -63442.5,
          -59388.8,
          -43603.2,
          -64298.6,
          -59163.1,
          -65119.2,
          -56865.9,
          -54979.2,
          -57367.6,
          -55468.6,
          -65022,
          -52868.8,
          -60273.6,
          -57187.4,
          -68444.3,
          -65348.7,
          -51060.8,
          -55296.6,
          -39605.3,
          -40490.7,
          -42840,
          -54969.8,
          -37945.2
         ],
         "yaxis": "y"
        },
        {
         "hovertemplate": "nombre=Portugal<br>tipo de intercambio=Importación<br>Fecha actualización=%{x}<br>Valores=%{y}<extra></extra>",
         "legendgroup": "Portugal",
         "line": {
          "color": "#EF553B",
          "dash": "solid"
         },
         "marker": {
          "symbol": "circle"
         },
         "mode": "lines+markers",
         "name": "Portugal",
         "orientation": "v",
         "showlegend": false,
         "type": "scatter",
         "x": [
          "11/09/2023",
          "12/09/2023",
          "13/09/2023",
          "14/09/2023",
          "15/09/2023",
          "16/09/2023",
          "17/09/2023",
          "18/09/2023",
          "19/09/2023",
          "20/09/2023",
          "21/09/2023",
          "22/09/2023",
          "23/09/2023",
          "24/09/2023",
          "25/09/2023",
          "26/09/2023",
          "27/09/2023",
          "28/09/2023",
          "29/09/2023",
          "30/09/2023",
          "01/10/2023",
          "02/10/2023",
          "03/10/2023",
          "04/10/2023",
          "05/10/2023",
          "06/10/2023",
          "07/10/2023",
          "08/10/2023",
          "09/10/2023",
          "10/10/2023",
          "11/10/2023"
         ],
         "xaxis": "x",
         "y": [
          12093.9,
          8335.9,
          7028.5,
          9065.9,
          6580.6,
          11379.3,
          13322.7,
          9662.9,
          8068.9,
          11848.1,
          14379,
          8732,
          8759.7,
          3958.8,
          5967.1,
          12210.7,
          10473,
          4949.3,
          9236.4,
          5700.8,
          4055.7,
          9556.6,
          4684.1,
          7482.4,
          9878.4,
          8791.4,
          8583,
          12089.3,
          16797.9,
          14759.7,
          14273.5
         ],
         "yaxis": "y"
        },
        {
         "hovertemplate": "nombre=Portugal<br>tipo de intercambio=saldo<br>Fecha actualización=%{x}<br>Valores=%{y}<extra></extra>",
         "legendgroup": "Portugal",
         "line": {
          "color": "#EF553B",
          "dash": "solid"
         },
         "marker": {
          "symbol": "circle"
         },
         "mode": "lines+markers",
         "name": "Portugal",
         "orientation": "v",
         "showlegend": false,
         "type": "scatter",
         "x": [
          "11/09/2023",
          "12/09/2023",
          "13/09/2023",
          "14/09/2023",
          "15/09/2023",
          "16/09/2023",
          "17/09/2023",
          "18/09/2023",
          "19/09/2023",
          "20/09/2023",
          "21/09/2023",
          "22/09/2023",
          "23/09/2023",
          "24/09/2023",
          "25/09/2023",
          "26/09/2023",
          "27/09/2023",
          "28/09/2023",
          "29/09/2023",
          "30/09/2023",
          "01/10/2023",
          "02/10/2023",
          "03/10/2023",
          "04/10/2023",
          "05/10/2023",
          "06/10/2023",
          "07/10/2023",
          "08/10/2023",
          "09/10/2023",
          "10/10/2023",
          "11/10/2023"
         ],
         "xaxis": "x",
         "y": [
          -40186.9,
          -46243.9,
          -46411.9,
          -44695.1,
          -41632.700000000004,
          -19917.2,
          -17690.5,
          -34022.5,
          -55373.6,
          -47540.700000000004,
          -29224.199999999997,
          -55566.6,
          -50403.399999999994,
          -61160.399999999994,
          -50898.8,
          -42768.5,
          -46894.6,
          -50519.299999999996,
          -55785.6,
          -47168,
          -56217.9,
          -47630.8,
          -63760.200000000004,
          -57866.299999999996,
          -41182.4,
          -46505.2,
          -31022.300000000003,
          -28401.399999999998,
          -26042.1,
          -40210.100000000006,
          -23671.699999999997
         ],
         "yaxis": "y"
        },
        {
         "hovertemplate": "nombre=Marruecos<br>tipo de intercambio=Exportación<br>Fecha actualización=%{x}<br>Valores=%{y}<extra></extra>",
         "legendgroup": "Marruecos",
         "line": {
          "color": "#00cc96",
          "dash": "solid"
         },
         "marker": {
          "symbol": "circle"
         },
         "mode": "lines+markers",
         "name": "Marruecos",
         "orientation": "v",
         "showlegend": true,
         "type": "scatter",
         "x": [
          "11/09/2023",
          "12/09/2023",
          "13/09/2023",
          "14/09/2023",
          "15/09/2023",
          "16/09/2023",
          "17/09/2023",
          "18/09/2023",
          "19/09/2023",
          "20/09/2023",
          "21/09/2023",
          "22/09/2023",
          "23/09/2023",
          "24/09/2023",
          "25/09/2023",
          "26/09/2023",
          "27/09/2023",
          "28/09/2023",
          "29/09/2023",
          "30/09/2023",
          "01/10/2023",
          "02/10/2023",
          "03/10/2023",
          "04/10/2023",
          "05/10/2023",
          "06/10/2023",
          "07/10/2023",
          "08/10/2023",
          "10/10/2023",
          "11/10/2023"
         ],
         "xaxis": "x",
         "y": [
          -7640,
          -7010,
          -8680.5,
          -10113.9,
          -12169,
          -12980,
          -11440,
          -8380,
          -8884,
          -6714,
          -4120,
          -3680,
          -2990,
          -7059,
          -3860,
          -3080,
          -1250,
          -640,
          -900,
          -1270,
          -2183,
          -1450,
          -1688,
          -620,
          -550,
          -1550,
          -3063.7,
          -940,
          -140,
          -3370
         ],
         "yaxis": "y"
        },
        {
         "hovertemplate": "nombre=Marruecos<br>tipo de intercambio=Importación<br>Fecha actualización=%{x}<br>Valores=%{y}<extra></extra>",
         "legendgroup": "Marruecos",
         "line": {
          "color": "#00cc96",
          "dash": "solid"
         },
         "marker": {
          "symbol": "circle"
         },
         "mode": "lines+markers",
         "name": "Marruecos",
         "orientation": "v",
         "showlegend": false,
         "type": "scatter",
         "x": [
          "11/09/2023",
          "12/09/2023",
          "18/09/2023",
          "19/09/2023",
          "21/09/2023",
          "22/09/2023",
          "25/09/2023",
          "26/09/2023",
          "27/09/2023",
          "28/09/2023",
          "29/09/2023",
          "30/09/2023",
          "01/10/2023",
          "02/10/2023",
          "03/10/2023",
          "04/10/2023",
          "05/10/2023",
          "06/10/2023",
          "07/10/2023",
          "08/10/2023",
          "10/10/2023",
          "11/10/2023"
         ],
         "xaxis": "x",
         "y": [
          1062,
          1292,
          2370,
          260,
          1260,
          1410,
          920,
          1295,
          2550,
          6392.8,
          4545,
          2300,
          3854,
          2678,
          3738,
          1431,
          1434,
          2033,
          2190,
          4989,
          2273,
          2173
         ],
         "yaxis": "y"
        },
        {
         "hovertemplate": "nombre=Marruecos<br>tipo de intercambio=saldo<br>Fecha actualización=%{x}<br>Valores=%{y}<extra></extra>",
         "legendgroup": "Marruecos",
         "line": {
          "color": "#00cc96",
          "dash": "solid"
         },
         "marker": {
          "symbol": "circle"
         },
         "mode": "lines+markers",
         "name": "Marruecos",
         "orientation": "v",
         "showlegend": false,
         "type": "scatter",
         "x": [
          "11/09/2023",
          "12/09/2023",
          "13/09/2023",
          "14/09/2023",
          "15/09/2023",
          "16/09/2023",
          "17/09/2023",
          "18/09/2023",
          "19/09/2023",
          "20/09/2023",
          "21/09/2023",
          "22/09/2023",
          "23/09/2023",
          "24/09/2023",
          "25/09/2023",
          "26/09/2023",
          "27/09/2023",
          "28/09/2023",
          "29/09/2023",
          "30/09/2023",
          "01/10/2023",
          "02/10/2023",
          "03/10/2023",
          "04/10/2023",
          "05/10/2023",
          "06/10/2023",
          "07/10/2023",
          "08/10/2023",
          "10/10/2023",
          "11/10/2023"
         ],
         "xaxis": "x",
         "y": [
          -6578,
          -5718,
          -8680.5,
          -10113.9,
          -12169,
          -12980,
          -11440,
          -6010,
          -8624,
          -6714,
          -2860,
          -2270,
          -2990,
          -7059,
          -2940,
          -1785,
          1300,
          5752.8,
          3645,
          1030,
          1671,
          1228,
          2050,
          811,
          884,
          483,
          -873.6999999999998,
          4049,
          2133,
          -1197
         ],
         "yaxis": "y"
        },
        {
         "hovertemplate": "nombre=Andorra<br>tipo de intercambio=Exportación<br>Fecha actualización=%{x}<br>Valores=%{y}<extra></extra>",
         "legendgroup": "Andorra",
         "line": {
          "color": "#ab63fa",
          "dash": "solid"
         },
         "marker": {
          "symbol": "circle"
         },
         "mode": "lines+markers",
         "name": "Andorra",
         "orientation": "v",
         "showlegend": true,
         "type": "scatter",
         "x": [
          "11/09/2023",
          "12/09/2023",
          "13/09/2023",
          "14/09/2023",
          "15/09/2023",
          "16/09/2023",
          "17/09/2023",
          "18/09/2023",
          "19/09/2023",
          "20/09/2023",
          "21/09/2023",
          "22/09/2023",
          "23/09/2023",
          "24/09/2023",
          "25/09/2023",
          "26/09/2023",
          "27/09/2023",
          "28/09/2023",
          "29/09/2023",
          "30/09/2023",
          "01/10/2023",
          "02/10/2023",
          "03/10/2023",
          "04/10/2023",
          "05/10/2023",
          "06/10/2023",
          "07/10/2023",
          "08/10/2023",
          "09/10/2023",
          "10/10/2023",
          "11/10/2023"
         ],
         "xaxis": "x",
         "y": [
          -416,
          -417,
          -417,
          -415,
          -412,
          -385,
          -357,
          -633,
          -950,
          -997,
          -888,
          -879,
          -369,
          -358,
          -569,
          -422,
          -411,
          -420,
          -415,
          -373,
          -372,
          -423,
          -431,
          -434,
          -410,
          -437,
          -399,
          -384,
          -439,
          -865,
          -458
         ],
         "yaxis": "y"
        },
        {
         "hovertemplate": "nombre=Andorra<br>tipo de intercambio=saldo<br>Fecha actualización=%{x}<br>Valores=%{y}<extra></extra>",
         "legendgroup": "Andorra",
         "line": {
          "color": "#ab63fa",
          "dash": "solid"
         },
         "marker": {
          "symbol": "circle"
         },
         "mode": "lines+markers",
         "name": "Andorra",
         "orientation": "v",
         "showlegend": false,
         "type": "scatter",
         "x": [
          "11/09/2023",
          "12/09/2023",
          "13/09/2023",
          "14/09/2023",
          "15/09/2023",
          "16/09/2023",
          "17/09/2023",
          "18/09/2023",
          "19/09/2023",
          "20/09/2023",
          "21/09/2023",
          "22/09/2023",
          "23/09/2023",
          "24/09/2023",
          "25/09/2023",
          "26/09/2023",
          "27/09/2023",
          "28/09/2023",
          "29/09/2023",
          "30/09/2023",
          "01/10/2023",
          "02/10/2023",
          "03/10/2023",
          "04/10/2023",
          "05/10/2023",
          "06/10/2023",
          "07/10/2023",
          "08/10/2023",
          "09/10/2023",
          "10/10/2023",
          "11/10/2023"
         ],
         "xaxis": "x",
         "y": [
          -416,
          -417,
          -417,
          -415,
          -412,
          -385,
          -357,
          -633,
          -950,
          -997,
          -888,
          -879,
          -369,
          -358,
          -569,
          -422,
          -411,
          -420,
          -415,
          -373,
          -372,
          -423,
          -431,
          -434,
          -410,
          -437,
          -399,
          -384,
          -439,
          -865,
          -458
         ],
         "yaxis": "y"
        }
       ],
       "layout": {
        "legend": {
         "title": {
          "text": "nombre"
         },
         "tracegroupgap": 0
        },
        "template": {
         "data": {
          "bar": [
           {
            "error_x": {
             "color": "#2a3f5f"
            },
            "error_y": {
             "color": "#2a3f5f"
            },
            "marker": {
             "line": {
              "color": "#E5ECF6",
              "width": 0.5
             },
             "pattern": {
              "fillmode": "overlay",
              "size": 10,
              "solidity": 0.2
             }
            },
            "type": "bar"
           }
          ],
          "barpolar": [
           {
            "marker": {
             "line": {
              "color": "#E5ECF6",
              "width": 0.5
             },
             "pattern": {
              "fillmode": "overlay",
              "size": 10,
              "solidity": 0.2
             }
            },
            "type": "barpolar"
           }
          ],
          "carpet": [
           {
            "aaxis": {
             "endlinecolor": "#2a3f5f",
             "gridcolor": "white",
             "linecolor": "white",
             "minorgridcolor": "white",
             "startlinecolor": "#2a3f5f"
            },
            "baxis": {
             "endlinecolor": "#2a3f5f",
             "gridcolor": "white",
             "linecolor": "white",
             "minorgridcolor": "white",
             "startlinecolor": "#2a3f5f"
            },
            "type": "carpet"
           }
          ],
          "choropleth": [
           {
            "colorbar": {
             "outlinewidth": 0,
             "ticks": ""
            },
            "type": "choropleth"
           }
          ],
          "contour": [
           {
            "colorbar": {
             "outlinewidth": 0,
             "ticks": ""
            },
            "colorscale": [
             [
              0,
              "#0d0887"
             ],
             [
              0.1111111111111111,
              "#46039f"
             ],
             [
              0.2222222222222222,
              "#7201a8"
             ],
             [
              0.3333333333333333,
              "#9c179e"
             ],
             [
              0.4444444444444444,
              "#bd3786"
             ],
             [
              0.5555555555555556,
              "#d8576b"
             ],
             [
              0.6666666666666666,
              "#ed7953"
             ],
             [
              0.7777777777777778,
              "#fb9f3a"
             ],
             [
              0.8888888888888888,
              "#fdca26"
             ],
             [
              1,
              "#f0f921"
             ]
            ],
            "type": "contour"
           }
          ],
          "contourcarpet": [
           {
            "colorbar": {
             "outlinewidth": 0,
             "ticks": ""
            },
            "type": "contourcarpet"
           }
          ],
          "heatmap": [
           {
            "colorbar": {
             "outlinewidth": 0,
             "ticks": ""
            },
            "colorscale": [
             [
              0,
              "#0d0887"
             ],
             [
              0.1111111111111111,
              "#46039f"
             ],
             [
              0.2222222222222222,
              "#7201a8"
             ],
             [
              0.3333333333333333,
              "#9c179e"
             ],
             [
              0.4444444444444444,
              "#bd3786"
             ],
             [
              0.5555555555555556,
              "#d8576b"
             ],
             [
              0.6666666666666666,
              "#ed7953"
             ],
             [
              0.7777777777777778,
              "#fb9f3a"
             ],
             [
              0.8888888888888888,
              "#fdca26"
             ],
             [
              1,
              "#f0f921"
             ]
            ],
            "type": "heatmap"
           }
          ],
          "heatmapgl": [
           {
            "colorbar": {
             "outlinewidth": 0,
             "ticks": ""
            },
            "colorscale": [
             [
              0,
              "#0d0887"
             ],
             [
              0.1111111111111111,
              "#46039f"
             ],
             [
              0.2222222222222222,
              "#7201a8"
             ],
             [
              0.3333333333333333,
              "#9c179e"
             ],
             [
              0.4444444444444444,
              "#bd3786"
             ],
             [
              0.5555555555555556,
              "#d8576b"
             ],
             [
              0.6666666666666666,
              "#ed7953"
             ],
             [
              0.7777777777777778,
              "#fb9f3a"
             ],
             [
              0.8888888888888888,
              "#fdca26"
             ],
             [
              1,
              "#f0f921"
             ]
            ],
            "type": "heatmapgl"
           }
          ],
          "histogram": [
           {
            "marker": {
             "pattern": {
              "fillmode": "overlay",
              "size": 10,
              "solidity": 0.2
             }
            },
            "type": "histogram"
           }
          ],
          "histogram2d": [
           {
            "colorbar": {
             "outlinewidth": 0,
             "ticks": ""
            },
            "colorscale": [
             [
              0,
              "#0d0887"
             ],
             [
              0.1111111111111111,
              "#46039f"
             ],
             [
              0.2222222222222222,
              "#7201a8"
             ],
             [
              0.3333333333333333,
              "#9c179e"
             ],
             [
              0.4444444444444444,
              "#bd3786"
             ],
             [
              0.5555555555555556,
              "#d8576b"
             ],
             [
              0.6666666666666666,
              "#ed7953"
             ],
             [
              0.7777777777777778,
              "#fb9f3a"
             ],
             [
              0.8888888888888888,
              "#fdca26"
             ],
             [
              1,
              "#f0f921"
             ]
            ],
            "type": "histogram2d"
           }
          ],
          "histogram2dcontour": [
           {
            "colorbar": {
             "outlinewidth": 0,
             "ticks": ""
            },
            "colorscale": [
             [
              0,
              "#0d0887"
             ],
             [
              0.1111111111111111,
              "#46039f"
             ],
             [
              0.2222222222222222,
              "#7201a8"
             ],
             [
              0.3333333333333333,
              "#9c179e"
             ],
             [
              0.4444444444444444,
              "#bd3786"
             ],
             [
              0.5555555555555556,
              "#d8576b"
             ],
             [
              0.6666666666666666,
              "#ed7953"
             ],
             [
              0.7777777777777778,
              "#fb9f3a"
             ],
             [
              0.8888888888888888,
              "#fdca26"
             ],
             [
              1,
              "#f0f921"
             ]
            ],
            "type": "histogram2dcontour"
           }
          ],
          "mesh3d": [
           {
            "colorbar": {
             "outlinewidth": 0,
             "ticks": ""
            },
            "type": "mesh3d"
           }
          ],
          "parcoords": [
           {
            "line": {
             "colorbar": {
              "outlinewidth": 0,
              "ticks": ""
             }
            },
            "type": "parcoords"
           }
          ],
          "pie": [
           {
            "automargin": true,
            "type": "pie"
           }
          ],
          "scatter": [
           {
            "fillpattern": {
             "fillmode": "overlay",
             "size": 10,
             "solidity": 0.2
            },
            "type": "scatter"
           }
          ],
          "scatter3d": [
           {
            "line": {
             "colorbar": {
              "outlinewidth": 0,
              "ticks": ""
             }
            },
            "marker": {
             "colorbar": {
              "outlinewidth": 0,
              "ticks": ""
             }
            },
            "type": "scatter3d"
           }
          ],
          "scattercarpet": [
           {
            "marker": {
             "colorbar": {
              "outlinewidth": 0,
              "ticks": ""
             }
            },
            "type": "scattercarpet"
           }
          ],
          "scattergeo": [
           {
            "marker": {
             "colorbar": {
              "outlinewidth": 0,
              "ticks": ""
             }
            },
            "type": "scattergeo"
           }
          ],
          "scattergl": [
           {
            "marker": {
             "colorbar": {
              "outlinewidth": 0,
              "ticks": ""
             }
            },
            "type": "scattergl"
           }
          ],
          "scattermapbox": [
           {
            "marker": {
             "colorbar": {
              "outlinewidth": 0,
              "ticks": ""
             }
            },
            "type": "scattermapbox"
           }
          ],
          "scatterpolar": [
           {
            "marker": {
             "colorbar": {
              "outlinewidth": 0,
              "ticks": ""
             }
            },
            "type": "scatterpolar"
           }
          ],
          "scatterpolargl": [
           {
            "marker": {
             "colorbar": {
              "outlinewidth": 0,
              "ticks": ""
             }
            },
            "type": "scatterpolargl"
           }
          ],
          "scatterternary": [
           {
            "marker": {
             "colorbar": {
              "outlinewidth": 0,
              "ticks": ""
             }
            },
            "type": "scatterternary"
           }
          ],
          "surface": [
           {
            "colorbar": {
             "outlinewidth": 0,
             "ticks": ""
            },
            "colorscale": [
             [
              0,
              "#0d0887"
             ],
             [
              0.1111111111111111,
              "#46039f"
             ],
             [
              0.2222222222222222,
              "#7201a8"
             ],
             [
              0.3333333333333333,
              "#9c179e"
             ],
             [
              0.4444444444444444,
              "#bd3786"
             ],
             [
              0.5555555555555556,
              "#d8576b"
             ],
             [
              0.6666666666666666,
              "#ed7953"
             ],
             [
              0.7777777777777778,
              "#fb9f3a"
             ],
             [
              0.8888888888888888,
              "#fdca26"
             ],
             [
              1,
              "#f0f921"
             ]
            ],
            "type": "surface"
           }
          ],
          "table": [
           {
            "cells": {
             "fill": {
              "color": "#EBF0F8"
             },
             "line": {
              "color": "white"
             }
            },
            "header": {
             "fill": {
              "color": "#C8D4E3"
             },
             "line": {
              "color": "white"
             }
            },
            "type": "table"
           }
          ]
         },
         "layout": {
          "annotationdefaults": {
           "arrowcolor": "#2a3f5f",
           "arrowhead": 0,
           "arrowwidth": 1
          },
          "autotypenumbers": "strict",
          "coloraxis": {
           "colorbar": {
            "outlinewidth": 0,
            "ticks": ""
           }
          },
          "colorscale": {
           "diverging": [
            [
             0,
             "#8e0152"
            ],
            [
             0.1,
             "#c51b7d"
            ],
            [
             0.2,
             "#de77ae"
            ],
            [
             0.3,
             "#f1b6da"
            ],
            [
             0.4,
             "#fde0ef"
            ],
            [
             0.5,
             "#f7f7f7"
            ],
            [
             0.6,
             "#e6f5d0"
            ],
            [
             0.7,
             "#b8e186"
            ],
            [
             0.8,
             "#7fbc41"
            ],
            [
             0.9,
             "#4d9221"
            ],
            [
             1,
             "#276419"
            ]
           ],
           "sequential": [
            [
             0,
             "#0d0887"
            ],
            [
             0.1111111111111111,
             "#46039f"
            ],
            [
             0.2222222222222222,
             "#7201a8"
            ],
            [
             0.3333333333333333,
             "#9c179e"
            ],
            [
             0.4444444444444444,
             "#bd3786"
            ],
            [
             0.5555555555555556,
             "#d8576b"
            ],
            [
             0.6666666666666666,
             "#ed7953"
            ],
            [
             0.7777777777777778,
             "#fb9f3a"
            ],
            [
             0.8888888888888888,
             "#fdca26"
            ],
            [
             1,
             "#f0f921"
            ]
           ],
           "sequentialminus": [
            [
             0,
             "#0d0887"
            ],
            [
             0.1111111111111111,
             "#46039f"
            ],
            [
             0.2222222222222222,
             "#7201a8"
            ],
            [
             0.3333333333333333,
             "#9c179e"
            ],
            [
             0.4444444444444444,
             "#bd3786"
            ],
            [
             0.5555555555555556,
             "#d8576b"
            ],
            [
             0.6666666666666666,
             "#ed7953"
            ],
            [
             0.7777777777777778,
             "#fb9f3a"
            ],
            [
             0.8888888888888888,
             "#fdca26"
            ],
            [
             1,
             "#f0f921"
            ]
           ]
          },
          "colorway": [
           "#636efa",
           "#EF553B",
           "#00cc96",
           "#ab63fa",
           "#FFA15A",
           "#19d3f3",
           "#FF6692",
           "#B6E880",
           "#FF97FF",
           "#FECB52"
          ],
          "font": {
           "color": "#2a3f5f"
          },
          "geo": {
           "bgcolor": "white",
           "lakecolor": "white",
           "landcolor": "#E5ECF6",
           "showlakes": true,
           "showland": true,
           "subunitcolor": "white"
          },
          "hoverlabel": {
           "align": "left"
          },
          "hovermode": "closest",
          "mapbox": {
           "style": "light"
          },
          "paper_bgcolor": "white",
          "plot_bgcolor": "#E5ECF6",
          "polar": {
           "angularaxis": {
            "gridcolor": "white",
            "linecolor": "white",
            "ticks": ""
           },
           "bgcolor": "#E5ECF6",
           "radialaxis": {
            "gridcolor": "white",
            "linecolor": "white",
            "ticks": ""
           }
          },
          "scene": {
           "xaxis": {
            "backgroundcolor": "#E5ECF6",
            "gridcolor": "white",
            "gridwidth": 2,
            "linecolor": "white",
            "showbackground": true,
            "ticks": "",
            "zerolinecolor": "white"
           },
           "yaxis": {
            "backgroundcolor": "#E5ECF6",
            "gridcolor": "white",
            "gridwidth": 2,
            "linecolor": "white",
            "showbackground": true,
            "ticks": "",
            "zerolinecolor": "white"
           },
           "zaxis": {
            "backgroundcolor": "#E5ECF6",
            "gridcolor": "white",
            "gridwidth": 2,
            "linecolor": "white",
            "showbackground": true,
            "ticks": "",
            "zerolinecolor": "white"
           }
          },
          "shapedefaults": {
           "line": {
            "color": "#2a3f5f"
           }
          },
          "ternary": {
           "aaxis": {
            "gridcolor": "white",
            "linecolor": "white",
            "ticks": ""
           },
           "baxis": {
            "gridcolor": "white",
            "linecolor": "white",
            "ticks": ""
           },
           "bgcolor": "#E5ECF6",
           "caxis": {
            "gridcolor": "white",
            "linecolor": "white",
            "ticks": ""
           }
          },
          "title": {
           "x": 0.05
          },
          "xaxis": {
           "automargin": true,
           "gridcolor": "white",
           "linecolor": "white",
           "ticks": "",
           "title": {
            "standoff": 15
           },
           "zerolinecolor": "white",
           "zerolinewidth": 2
          },
          "yaxis": {
           "automargin": true,
           "gridcolor": "white",
           "linecolor": "white",
           "ticks": "",
           "title": {
            "standoff": 15
           },
           "zerolinecolor": "white",
           "zerolinewidth": 2
          }
         }
        },
        "title": {
         "text": "Evolucion de los valores de intercambio por País y Tipo"
        },
        "xaxis": {
         "anchor": "y",
         "domain": [
          0,
          1
         ],
         "title": {
          "text": "Fecha actualización"
         }
        },
        "yaxis": {
         "anchor": "x",
         "domain": [
          0,
          1
         ],
         "title": {
          "text": "Valores"
         }
        }
       }
      }
     },
     "metadata": {},
     "output_type": "display_data"
    }
   ],
   "source": [
    "fig = px.line(df_intercambio, x = 'Fecha actualización', y = 'Valores', color= 'nombre',\n",
    "              line_group='tipo de intercambio',\n",
    "              title= 'Evolucion de los valores de intercambio por País y Tipo',\n",
    "              markers= True)\n",
    "\n",
    "fig.show()"
   ]
  },
  {
   "cell_type": "code",
   "execution_count": 46,
   "metadata": {},
   "outputs": [
    {
     "data": {
      "application/vnd.plotly.v1+json": {
       "config": {
        "plotlyServerURL": "https://plot.ly"
       },
       "data": [
        {
         "hovertemplate": "tipo de intercambio=Exportación<br>Fecha actualización=%{x}<br>Valores=%{y}<extra></extra>",
         "legendgroup": "Exportación",
         "line": {
          "color": "#636efa",
          "dash": "solid"
         },
         "marker": {
          "symbol": "circle"
         },
         "mode": "lines+markers",
         "name": "Exportación",
         "orientation": "v",
         "showlegend": true,
         "type": "scatter",
         "x": [
          "11/09/2023",
          "12/09/2023",
          "13/09/2023",
          "14/09/2023",
          "15/09/2023",
          "16/09/2023",
          "17/09/2023",
          "18/09/2023",
          "19/09/2023",
          "20/09/2023",
          "21/09/2023",
          "22/09/2023",
          "23/09/2023",
          "24/09/2023",
          "25/09/2023",
          "26/09/2023",
          "27/09/2023",
          "28/09/2023",
          "29/09/2023",
          "30/09/2023",
          "01/10/2023",
          "02/10/2023",
          "03/10/2023",
          "04/10/2023",
          "05/10/2023",
          "06/10/2023",
          "07/10/2023",
          "08/10/2023",
          "09/10/2023",
          "10/10/2023",
          "11/10/2023"
         ],
         "xaxis": "x",
         "y": [
          -11122.5,
          -18856.9,
          -17628.5,
          -7880.3,
          -2572.1,
          -6585.8,
          -31665.9,
          -4999.8,
          -4606.3,
          -11827.633,
          -26003.3,
          -22233.6,
          -12821.9,
          -10776.8,
          -15650.5,
          -12081.6,
          -24528,
          -23549.1,
          -8903,
          -10011.2,
          -16804.2,
          -14162.6,
          -4112.3,
          -7281.5,
          -13133.1,
          -2227.1,
          -854,
          -8227.2,
          -13054.7,
          -10107.8,
          -7428.2
         ],
         "yaxis": "y"
        },
        {
         "hovertemplate": "tipo de intercambio=Importación<br>Fecha actualización=%{x}<br>Valores=%{y}<extra></extra>",
         "legendgroup": "Importación",
         "line": {
          "color": "#EF553B",
          "dash": "solid"
         },
         "marker": {
          "symbol": "circle"
         },
         "mode": "lines+markers",
         "name": "Importación",
         "orientation": "v",
         "showlegend": true,
         "type": "scatter",
         "x": [
          "11/09/2023",
          "12/09/2023",
          "13/09/2023",
          "14/09/2023",
          "15/09/2023",
          "16/09/2023",
          "17/09/2023",
          "18/09/2023",
          "19/09/2023",
          "20/09/2023",
          "21/09/2023",
          "22/09/2023",
          "23/09/2023",
          "24/09/2023",
          "25/09/2023",
          "26/09/2023",
          "27/09/2023",
          "28/09/2023",
          "29/09/2023",
          "30/09/2023",
          "01/10/2023",
          "02/10/2023",
          "03/10/2023",
          "04/10/2023",
          "05/10/2023",
          "06/10/2023",
          "07/10/2023",
          "08/10/2023",
          "09/10/2023",
          "10/10/2023",
          "11/10/2023"
         ],
         "xaxis": "x",
         "y": [
          43828.3,
          44135.183,
          30380.1,
          47063.2,
          57075.7,
          50964.2,
          27226.1,
          57738.7,
          58508,
          55747.825,
          30354.8,
          33996.7,
          41231.7,
          50106.6,
          46807.85,
          46967.2,
          32442.1,
          44094,
          53302.3,
          39594.6,
          51038,
          38749.7,
          58772.6,
          54839.7,
          47070.7,
          58982.8,
          58094.5,
          41993,
          52663.9,
          54355.5,
          57754.1
         ],
         "yaxis": "y"
        },
        {
         "hovertemplate": "tipo de intercambio=saldo<br>Fecha actualización=%{x}<br>Valores=%{y}<extra></extra>",
         "legendgroup": "saldo",
         "line": {
          "color": "#00cc96",
          "dash": "solid"
         },
         "marker": {
          "symbol": "circle"
         },
         "mode": "lines+markers",
         "name": "saldo",
         "orientation": "v",
         "showlegend": true,
         "type": "scatter",
         "x": [
          "11/09/2023",
          "12/09/2023",
          "13/09/2023",
          "14/09/2023",
          "15/09/2023",
          "16/09/2023",
          "17/09/2023",
          "18/09/2023",
          "19/09/2023",
          "20/09/2023",
          "21/09/2023",
          "22/09/2023",
          "23/09/2023",
          "24/09/2023",
          "25/09/2023",
          "26/09/2023",
          "27/09/2023",
          "28/09/2023",
          "29/09/2023",
          "30/09/2023",
          "01/10/2023",
          "02/10/2023",
          "03/10/2023",
          "04/10/2023",
          "05/10/2023",
          "06/10/2023",
          "07/10/2023",
          "08/10/2023",
          "09/10/2023",
          "10/10/2023",
          "11/10/2023"
         ],
         "xaxis": "x",
         "y": [
          32705.800000000003,
          25278.282999999996,
          12751.599999999999,
          39182.899999999994,
          54503.6,
          44378.399999999994,
          -4439.800000000003,
          52738.899999999994,
          53901.7,
          43920.191999999995,
          4351.5,
          11763.099999999999,
          28409.799999999996,
          39329.8,
          31157.35,
          34885.6,
          7914.0999999999985,
          20544.9,
          44399.3,
          29583.399999999998,
          34233.8,
          24587.1,
          54660.299999999996,
          47558.2,
          33937.6,
          56755.700000000004,
          57240.5,
          33765.8,
          39609.2,
          44247.7,
          50325.9
         ],
         "yaxis": "y"
        }
       ],
       "layout": {
        "legend": {
         "title": {
          "text": "tipo de intercambio"
         },
         "tracegroupgap": 0
        },
        "template": {
         "data": {
          "bar": [
           {
            "error_x": {
             "color": "#2a3f5f"
            },
            "error_y": {
             "color": "#2a3f5f"
            },
            "marker": {
             "line": {
              "color": "#E5ECF6",
              "width": 0.5
             },
             "pattern": {
              "fillmode": "overlay",
              "size": 10,
              "solidity": 0.2
             }
            },
            "type": "bar"
           }
          ],
          "barpolar": [
           {
            "marker": {
             "line": {
              "color": "#E5ECF6",
              "width": 0.5
             },
             "pattern": {
              "fillmode": "overlay",
              "size": 10,
              "solidity": 0.2
             }
            },
            "type": "barpolar"
           }
          ],
          "carpet": [
           {
            "aaxis": {
             "endlinecolor": "#2a3f5f",
             "gridcolor": "white",
             "linecolor": "white",
             "minorgridcolor": "white",
             "startlinecolor": "#2a3f5f"
            },
            "baxis": {
             "endlinecolor": "#2a3f5f",
             "gridcolor": "white",
             "linecolor": "white",
             "minorgridcolor": "white",
             "startlinecolor": "#2a3f5f"
            },
            "type": "carpet"
           }
          ],
          "choropleth": [
           {
            "colorbar": {
             "outlinewidth": 0,
             "ticks": ""
            },
            "type": "choropleth"
           }
          ],
          "contour": [
           {
            "colorbar": {
             "outlinewidth": 0,
             "ticks": ""
            },
            "colorscale": [
             [
              0,
              "#0d0887"
             ],
             [
              0.1111111111111111,
              "#46039f"
             ],
             [
              0.2222222222222222,
              "#7201a8"
             ],
             [
              0.3333333333333333,
              "#9c179e"
             ],
             [
              0.4444444444444444,
              "#bd3786"
             ],
             [
              0.5555555555555556,
              "#d8576b"
             ],
             [
              0.6666666666666666,
              "#ed7953"
             ],
             [
              0.7777777777777778,
              "#fb9f3a"
             ],
             [
              0.8888888888888888,
              "#fdca26"
             ],
             [
              1,
              "#f0f921"
             ]
            ],
            "type": "contour"
           }
          ],
          "contourcarpet": [
           {
            "colorbar": {
             "outlinewidth": 0,
             "ticks": ""
            },
            "type": "contourcarpet"
           }
          ],
          "heatmap": [
           {
            "colorbar": {
             "outlinewidth": 0,
             "ticks": ""
            },
            "colorscale": [
             [
              0,
              "#0d0887"
             ],
             [
              0.1111111111111111,
              "#46039f"
             ],
             [
              0.2222222222222222,
              "#7201a8"
             ],
             [
              0.3333333333333333,
              "#9c179e"
             ],
             [
              0.4444444444444444,
              "#bd3786"
             ],
             [
              0.5555555555555556,
              "#d8576b"
             ],
             [
              0.6666666666666666,
              "#ed7953"
             ],
             [
              0.7777777777777778,
              "#fb9f3a"
             ],
             [
              0.8888888888888888,
              "#fdca26"
             ],
             [
              1,
              "#f0f921"
             ]
            ],
            "type": "heatmap"
           }
          ],
          "heatmapgl": [
           {
            "colorbar": {
             "outlinewidth": 0,
             "ticks": ""
            },
            "colorscale": [
             [
              0,
              "#0d0887"
             ],
             [
              0.1111111111111111,
              "#46039f"
             ],
             [
              0.2222222222222222,
              "#7201a8"
             ],
             [
              0.3333333333333333,
              "#9c179e"
             ],
             [
              0.4444444444444444,
              "#bd3786"
             ],
             [
              0.5555555555555556,
              "#d8576b"
             ],
             [
              0.6666666666666666,
              "#ed7953"
             ],
             [
              0.7777777777777778,
              "#fb9f3a"
             ],
             [
              0.8888888888888888,
              "#fdca26"
             ],
             [
              1,
              "#f0f921"
             ]
            ],
            "type": "heatmapgl"
           }
          ],
          "histogram": [
           {
            "marker": {
             "pattern": {
              "fillmode": "overlay",
              "size": 10,
              "solidity": 0.2
             }
            },
            "type": "histogram"
           }
          ],
          "histogram2d": [
           {
            "colorbar": {
             "outlinewidth": 0,
             "ticks": ""
            },
            "colorscale": [
             [
              0,
              "#0d0887"
             ],
             [
              0.1111111111111111,
              "#46039f"
             ],
             [
              0.2222222222222222,
              "#7201a8"
             ],
             [
              0.3333333333333333,
              "#9c179e"
             ],
             [
              0.4444444444444444,
              "#bd3786"
             ],
             [
              0.5555555555555556,
              "#d8576b"
             ],
             [
              0.6666666666666666,
              "#ed7953"
             ],
             [
              0.7777777777777778,
              "#fb9f3a"
             ],
             [
              0.8888888888888888,
              "#fdca26"
             ],
             [
              1,
              "#f0f921"
             ]
            ],
            "type": "histogram2d"
           }
          ],
          "histogram2dcontour": [
           {
            "colorbar": {
             "outlinewidth": 0,
             "ticks": ""
            },
            "colorscale": [
             [
              0,
              "#0d0887"
             ],
             [
              0.1111111111111111,
              "#46039f"
             ],
             [
              0.2222222222222222,
              "#7201a8"
             ],
             [
              0.3333333333333333,
              "#9c179e"
             ],
             [
              0.4444444444444444,
              "#bd3786"
             ],
             [
              0.5555555555555556,
              "#d8576b"
             ],
             [
              0.6666666666666666,
              "#ed7953"
             ],
             [
              0.7777777777777778,
              "#fb9f3a"
             ],
             [
              0.8888888888888888,
              "#fdca26"
             ],
             [
              1,
              "#f0f921"
             ]
            ],
            "type": "histogram2dcontour"
           }
          ],
          "mesh3d": [
           {
            "colorbar": {
             "outlinewidth": 0,
             "ticks": ""
            },
            "type": "mesh3d"
           }
          ],
          "parcoords": [
           {
            "line": {
             "colorbar": {
              "outlinewidth": 0,
              "ticks": ""
             }
            },
            "type": "parcoords"
           }
          ],
          "pie": [
           {
            "automargin": true,
            "type": "pie"
           }
          ],
          "scatter": [
           {
            "fillpattern": {
             "fillmode": "overlay",
             "size": 10,
             "solidity": 0.2
            },
            "type": "scatter"
           }
          ],
          "scatter3d": [
           {
            "line": {
             "colorbar": {
              "outlinewidth": 0,
              "ticks": ""
             }
            },
            "marker": {
             "colorbar": {
              "outlinewidth": 0,
              "ticks": ""
             }
            },
            "type": "scatter3d"
           }
          ],
          "scattercarpet": [
           {
            "marker": {
             "colorbar": {
              "outlinewidth": 0,
              "ticks": ""
             }
            },
            "type": "scattercarpet"
           }
          ],
          "scattergeo": [
           {
            "marker": {
             "colorbar": {
              "outlinewidth": 0,
              "ticks": ""
             }
            },
            "type": "scattergeo"
           }
          ],
          "scattergl": [
           {
            "marker": {
             "colorbar": {
              "outlinewidth": 0,
              "ticks": ""
             }
            },
            "type": "scattergl"
           }
          ],
          "scattermapbox": [
           {
            "marker": {
             "colorbar": {
              "outlinewidth": 0,
              "ticks": ""
             }
            },
            "type": "scattermapbox"
           }
          ],
          "scatterpolar": [
           {
            "marker": {
             "colorbar": {
              "outlinewidth": 0,
              "ticks": ""
             }
            },
            "type": "scatterpolar"
           }
          ],
          "scatterpolargl": [
           {
            "marker": {
             "colorbar": {
              "outlinewidth": 0,
              "ticks": ""
             }
            },
            "type": "scatterpolargl"
           }
          ],
          "scatterternary": [
           {
            "marker": {
             "colorbar": {
              "outlinewidth": 0,
              "ticks": ""
             }
            },
            "type": "scatterternary"
           }
          ],
          "surface": [
           {
            "colorbar": {
             "outlinewidth": 0,
             "ticks": ""
            },
            "colorscale": [
             [
              0,
              "#0d0887"
             ],
             [
              0.1111111111111111,
              "#46039f"
             ],
             [
              0.2222222222222222,
              "#7201a8"
             ],
             [
              0.3333333333333333,
              "#9c179e"
             ],
             [
              0.4444444444444444,
              "#bd3786"
             ],
             [
              0.5555555555555556,
              "#d8576b"
             ],
             [
              0.6666666666666666,
              "#ed7953"
             ],
             [
              0.7777777777777778,
              "#fb9f3a"
             ],
             [
              0.8888888888888888,
              "#fdca26"
             ],
             [
              1,
              "#f0f921"
             ]
            ],
            "type": "surface"
           }
          ],
          "table": [
           {
            "cells": {
             "fill": {
              "color": "#EBF0F8"
             },
             "line": {
              "color": "white"
             }
            },
            "header": {
             "fill": {
              "color": "#C8D4E3"
             },
             "line": {
              "color": "white"
             }
            },
            "type": "table"
           }
          ]
         },
         "layout": {
          "annotationdefaults": {
           "arrowcolor": "#2a3f5f",
           "arrowhead": 0,
           "arrowwidth": 1
          },
          "autotypenumbers": "strict",
          "coloraxis": {
           "colorbar": {
            "outlinewidth": 0,
            "ticks": ""
           }
          },
          "colorscale": {
           "diverging": [
            [
             0,
             "#8e0152"
            ],
            [
             0.1,
             "#c51b7d"
            ],
            [
             0.2,
             "#de77ae"
            ],
            [
             0.3,
             "#f1b6da"
            ],
            [
             0.4,
             "#fde0ef"
            ],
            [
             0.5,
             "#f7f7f7"
            ],
            [
             0.6,
             "#e6f5d0"
            ],
            [
             0.7,
             "#b8e186"
            ],
            [
             0.8,
             "#7fbc41"
            ],
            [
             0.9,
             "#4d9221"
            ],
            [
             1,
             "#276419"
            ]
           ],
           "sequential": [
            [
             0,
             "#0d0887"
            ],
            [
             0.1111111111111111,
             "#46039f"
            ],
            [
             0.2222222222222222,
             "#7201a8"
            ],
            [
             0.3333333333333333,
             "#9c179e"
            ],
            [
             0.4444444444444444,
             "#bd3786"
            ],
            [
             0.5555555555555556,
             "#d8576b"
            ],
            [
             0.6666666666666666,
             "#ed7953"
            ],
            [
             0.7777777777777778,
             "#fb9f3a"
            ],
            [
             0.8888888888888888,
             "#fdca26"
            ],
            [
             1,
             "#f0f921"
            ]
           ],
           "sequentialminus": [
            [
             0,
             "#0d0887"
            ],
            [
             0.1111111111111111,
             "#46039f"
            ],
            [
             0.2222222222222222,
             "#7201a8"
            ],
            [
             0.3333333333333333,
             "#9c179e"
            ],
            [
             0.4444444444444444,
             "#bd3786"
            ],
            [
             0.5555555555555556,
             "#d8576b"
            ],
            [
             0.6666666666666666,
             "#ed7953"
            ],
            [
             0.7777777777777778,
             "#fb9f3a"
            ],
            [
             0.8888888888888888,
             "#fdca26"
            ],
            [
             1,
             "#f0f921"
            ]
           ]
          },
          "colorway": [
           "#636efa",
           "#EF553B",
           "#00cc96",
           "#ab63fa",
           "#FFA15A",
           "#19d3f3",
           "#FF6692",
           "#B6E880",
           "#FF97FF",
           "#FECB52"
          ],
          "font": {
           "color": "#2a3f5f"
          },
          "geo": {
           "bgcolor": "white",
           "lakecolor": "white",
           "landcolor": "#E5ECF6",
           "showlakes": true,
           "showland": true,
           "subunitcolor": "white"
          },
          "hoverlabel": {
           "align": "left"
          },
          "hovermode": "closest",
          "mapbox": {
           "style": "light"
          },
          "paper_bgcolor": "white",
          "plot_bgcolor": "#E5ECF6",
          "polar": {
           "angularaxis": {
            "gridcolor": "white",
            "linecolor": "white",
            "ticks": ""
           },
           "bgcolor": "#E5ECF6",
           "radialaxis": {
            "gridcolor": "white",
            "linecolor": "white",
            "ticks": ""
           }
          },
          "scene": {
           "xaxis": {
            "backgroundcolor": "#E5ECF6",
            "gridcolor": "white",
            "gridwidth": 2,
            "linecolor": "white",
            "showbackground": true,
            "ticks": "",
            "zerolinecolor": "white"
           },
           "yaxis": {
            "backgroundcolor": "#E5ECF6",
            "gridcolor": "white",
            "gridwidth": 2,
            "linecolor": "white",
            "showbackground": true,
            "ticks": "",
            "zerolinecolor": "white"
           },
           "zaxis": {
            "backgroundcolor": "#E5ECF6",
            "gridcolor": "white",
            "gridwidth": 2,
            "linecolor": "white",
            "showbackground": true,
            "ticks": "",
            "zerolinecolor": "white"
           }
          },
          "shapedefaults": {
           "line": {
            "color": "#2a3f5f"
           }
          },
          "ternary": {
           "aaxis": {
            "gridcolor": "white",
            "linecolor": "white",
            "ticks": ""
           },
           "baxis": {
            "gridcolor": "white",
            "linecolor": "white",
            "ticks": ""
           },
           "bgcolor": "#E5ECF6",
           "caxis": {
            "gridcolor": "white",
            "linecolor": "white",
            "ticks": ""
           }
          },
          "title": {
           "x": 0.05
          },
          "xaxis": {
           "automargin": true,
           "gridcolor": "white",
           "linecolor": "white",
           "ticks": "",
           "title": {
            "standoff": 15
           },
           "zerolinecolor": "white",
           "zerolinewidth": 2
          },
          "yaxis": {
           "automargin": true,
           "gridcolor": "white",
           "linecolor": "white",
           "ticks": "",
           "title": {
            "standoff": 15
           },
           "zerolinecolor": "white",
           "zerolinewidth": 2
          }
         }
        },
        "title": {
         "text": "Evolucion de los valores de intercambio Francia"
        },
        "xaxis": {
         "anchor": "y",
         "domain": [
          0,
          1
         ],
         "title": {
          "text": "Fecha actualización"
         }
        },
        "yaxis": {
         "anchor": "x",
         "domain": [
          0,
          1
         ],
         "title": {
          "text": "Valores"
         }
        }
       }
      }
     },
     "metadata": {},
     "output_type": "display_data"
    }
   ],
   "source": [
    "fig = px.line(df_intercambio[df_intercambio['nombre'] == 'Francia'], x = 'Fecha actualización', y = 'Valores', color= 'tipo de intercambio',\n",
    "              line_group='tipo de intercambio',\n",
    "              title= 'Evolucion de los valores de intercambio Francia',\n",
    "              markers= True)\n",
    "\n",
    "fig.show()"
   ]
  },
  {
   "cell_type": "code",
   "execution_count": 45,
   "metadata": {},
   "outputs": [
    {
     "data": {
      "application/vnd.plotly.v1+json": {
       "config": {
        "plotlyServerURL": "https://plot.ly"
       },
       "data": [
        {
         "hovertemplate": "tipo de intercambio=Exportación<br>Fecha actualización=%{x}<br>Valores=%{y}<extra></extra>",
         "legendgroup": "Exportación",
         "line": {
          "color": "#636efa",
          "dash": "solid"
         },
         "marker": {
          "symbol": "circle"
         },
         "mode": "lines+markers",
         "name": "Exportación",
         "orientation": "v",
         "showlegend": true,
         "type": "scatter",
         "x": [
          "11/09/2023",
          "12/09/2023",
          "13/09/2023",
          "14/09/2023",
          "15/09/2023",
          "16/09/2023",
          "17/09/2023",
          "18/09/2023",
          "19/09/2023",
          "20/09/2023",
          "21/09/2023",
          "22/09/2023",
          "23/09/2023",
          "24/09/2023",
          "25/09/2023",
          "26/09/2023",
          "27/09/2023",
          "28/09/2023",
          "29/09/2023",
          "30/09/2023",
          "01/10/2023",
          "02/10/2023",
          "03/10/2023",
          "04/10/2023",
          "05/10/2023",
          "06/10/2023",
          "07/10/2023",
          "08/10/2023",
          "09/10/2023",
          "10/10/2023",
          "11/10/2023"
         ],
         "xaxis": "x",
         "y": [
          -52280.8,
          -54579.8,
          -53440.4,
          -53761,
          -48213.3,
          -31296.5,
          -31013.2,
          -43685.4,
          -63442.5,
          -59388.8,
          -43603.2,
          -64298.6,
          -59163.1,
          -65119.2,
          -56865.9,
          -54979.2,
          -57367.6,
          -55468.6,
          -65022,
          -52868.8,
          -60273.6,
          -57187.4,
          -68444.3,
          -65348.7,
          -51060.8,
          -55296.6,
          -39605.3,
          -40490.7,
          -42840,
          -54969.8,
          -37945.2
         ],
         "yaxis": "y"
        },
        {
         "hovertemplate": "tipo de intercambio=Importación<br>Fecha actualización=%{x}<br>Valores=%{y}<extra></extra>",
         "legendgroup": "Importación",
         "line": {
          "color": "#EF553B",
          "dash": "solid"
         },
         "marker": {
          "symbol": "circle"
         },
         "mode": "lines+markers",
         "name": "Importación",
         "orientation": "v",
         "showlegend": true,
         "type": "scatter",
         "x": [
          "11/09/2023",
          "12/09/2023",
          "13/09/2023",
          "14/09/2023",
          "15/09/2023",
          "16/09/2023",
          "17/09/2023",
          "18/09/2023",
          "19/09/2023",
          "20/09/2023",
          "21/09/2023",
          "22/09/2023",
          "23/09/2023",
          "24/09/2023",
          "25/09/2023",
          "26/09/2023",
          "27/09/2023",
          "28/09/2023",
          "29/09/2023",
          "30/09/2023",
          "01/10/2023",
          "02/10/2023",
          "03/10/2023",
          "04/10/2023",
          "05/10/2023",
          "06/10/2023",
          "07/10/2023",
          "08/10/2023",
          "09/10/2023",
          "10/10/2023",
          "11/10/2023"
         ],
         "xaxis": "x",
         "y": [
          12093.9,
          8335.9,
          7028.5,
          9065.9,
          6580.6,
          11379.3,
          13322.7,
          9662.9,
          8068.9,
          11848.1,
          14379,
          8732,
          8759.7,
          3958.8,
          5967.1,
          12210.7,
          10473,
          4949.3,
          9236.4,
          5700.8,
          4055.7,
          9556.6,
          4684.1,
          7482.4,
          9878.4,
          8791.4,
          8583,
          12089.3,
          16797.9,
          14759.7,
          14273.5
         ],
         "yaxis": "y"
        },
        {
         "hovertemplate": "tipo de intercambio=saldo<br>Fecha actualización=%{x}<br>Valores=%{y}<extra></extra>",
         "legendgroup": "saldo",
         "line": {
          "color": "#00cc96",
          "dash": "solid"
         },
         "marker": {
          "symbol": "circle"
         },
         "mode": "lines+markers",
         "name": "saldo",
         "orientation": "v",
         "showlegend": true,
         "type": "scatter",
         "x": [
          "11/09/2023",
          "12/09/2023",
          "13/09/2023",
          "14/09/2023",
          "15/09/2023",
          "16/09/2023",
          "17/09/2023",
          "18/09/2023",
          "19/09/2023",
          "20/09/2023",
          "21/09/2023",
          "22/09/2023",
          "23/09/2023",
          "24/09/2023",
          "25/09/2023",
          "26/09/2023",
          "27/09/2023",
          "28/09/2023",
          "29/09/2023",
          "30/09/2023",
          "01/10/2023",
          "02/10/2023",
          "03/10/2023",
          "04/10/2023",
          "05/10/2023",
          "06/10/2023",
          "07/10/2023",
          "08/10/2023",
          "09/10/2023",
          "10/10/2023",
          "11/10/2023"
         ],
         "xaxis": "x",
         "y": [
          -40186.9,
          -46243.9,
          -46411.9,
          -44695.1,
          -41632.700000000004,
          -19917.2,
          -17690.5,
          -34022.5,
          -55373.6,
          -47540.700000000004,
          -29224.199999999997,
          -55566.6,
          -50403.399999999994,
          -61160.399999999994,
          -50898.8,
          -42768.5,
          -46894.6,
          -50519.299999999996,
          -55785.6,
          -47168,
          -56217.9,
          -47630.8,
          -63760.200000000004,
          -57866.299999999996,
          -41182.4,
          -46505.2,
          -31022.300000000003,
          -28401.399999999998,
          -26042.1,
          -40210.100000000006,
          -23671.699999999997
         ],
         "yaxis": "y"
        }
       ],
       "layout": {
        "legend": {
         "title": {
          "text": "tipo de intercambio"
         },
         "tracegroupgap": 0
        },
        "template": {
         "data": {
          "bar": [
           {
            "error_x": {
             "color": "#2a3f5f"
            },
            "error_y": {
             "color": "#2a3f5f"
            },
            "marker": {
             "line": {
              "color": "#E5ECF6",
              "width": 0.5
             },
             "pattern": {
              "fillmode": "overlay",
              "size": 10,
              "solidity": 0.2
             }
            },
            "type": "bar"
           }
          ],
          "barpolar": [
           {
            "marker": {
             "line": {
              "color": "#E5ECF6",
              "width": 0.5
             },
             "pattern": {
              "fillmode": "overlay",
              "size": 10,
              "solidity": 0.2
             }
            },
            "type": "barpolar"
           }
          ],
          "carpet": [
           {
            "aaxis": {
             "endlinecolor": "#2a3f5f",
             "gridcolor": "white",
             "linecolor": "white",
             "minorgridcolor": "white",
             "startlinecolor": "#2a3f5f"
            },
            "baxis": {
             "endlinecolor": "#2a3f5f",
             "gridcolor": "white",
             "linecolor": "white",
             "minorgridcolor": "white",
             "startlinecolor": "#2a3f5f"
            },
            "type": "carpet"
           }
          ],
          "choropleth": [
           {
            "colorbar": {
             "outlinewidth": 0,
             "ticks": ""
            },
            "type": "choropleth"
           }
          ],
          "contour": [
           {
            "colorbar": {
             "outlinewidth": 0,
             "ticks": ""
            },
            "colorscale": [
             [
              0,
              "#0d0887"
             ],
             [
              0.1111111111111111,
              "#46039f"
             ],
             [
              0.2222222222222222,
              "#7201a8"
             ],
             [
              0.3333333333333333,
              "#9c179e"
             ],
             [
              0.4444444444444444,
              "#bd3786"
             ],
             [
              0.5555555555555556,
              "#d8576b"
             ],
             [
              0.6666666666666666,
              "#ed7953"
             ],
             [
              0.7777777777777778,
              "#fb9f3a"
             ],
             [
              0.8888888888888888,
              "#fdca26"
             ],
             [
              1,
              "#f0f921"
             ]
            ],
            "type": "contour"
           }
          ],
          "contourcarpet": [
           {
            "colorbar": {
             "outlinewidth": 0,
             "ticks": ""
            },
            "type": "contourcarpet"
           }
          ],
          "heatmap": [
           {
            "colorbar": {
             "outlinewidth": 0,
             "ticks": ""
            },
            "colorscale": [
             [
              0,
              "#0d0887"
             ],
             [
              0.1111111111111111,
              "#46039f"
             ],
             [
              0.2222222222222222,
              "#7201a8"
             ],
             [
              0.3333333333333333,
              "#9c179e"
             ],
             [
              0.4444444444444444,
              "#bd3786"
             ],
             [
              0.5555555555555556,
              "#d8576b"
             ],
             [
              0.6666666666666666,
              "#ed7953"
             ],
             [
              0.7777777777777778,
              "#fb9f3a"
             ],
             [
              0.8888888888888888,
              "#fdca26"
             ],
             [
              1,
              "#f0f921"
             ]
            ],
            "type": "heatmap"
           }
          ],
          "heatmapgl": [
           {
            "colorbar": {
             "outlinewidth": 0,
             "ticks": ""
            },
            "colorscale": [
             [
              0,
              "#0d0887"
             ],
             [
              0.1111111111111111,
              "#46039f"
             ],
             [
              0.2222222222222222,
              "#7201a8"
             ],
             [
              0.3333333333333333,
              "#9c179e"
             ],
             [
              0.4444444444444444,
              "#bd3786"
             ],
             [
              0.5555555555555556,
              "#d8576b"
             ],
             [
              0.6666666666666666,
              "#ed7953"
             ],
             [
              0.7777777777777778,
              "#fb9f3a"
             ],
             [
              0.8888888888888888,
              "#fdca26"
             ],
             [
              1,
              "#f0f921"
             ]
            ],
            "type": "heatmapgl"
           }
          ],
          "histogram": [
           {
            "marker": {
             "pattern": {
              "fillmode": "overlay",
              "size": 10,
              "solidity": 0.2
             }
            },
            "type": "histogram"
           }
          ],
          "histogram2d": [
           {
            "colorbar": {
             "outlinewidth": 0,
             "ticks": ""
            },
            "colorscale": [
             [
              0,
              "#0d0887"
             ],
             [
              0.1111111111111111,
              "#46039f"
             ],
             [
              0.2222222222222222,
              "#7201a8"
             ],
             [
              0.3333333333333333,
              "#9c179e"
             ],
             [
              0.4444444444444444,
              "#bd3786"
             ],
             [
              0.5555555555555556,
              "#d8576b"
             ],
             [
              0.6666666666666666,
              "#ed7953"
             ],
             [
              0.7777777777777778,
              "#fb9f3a"
             ],
             [
              0.8888888888888888,
              "#fdca26"
             ],
             [
              1,
              "#f0f921"
             ]
            ],
            "type": "histogram2d"
           }
          ],
          "histogram2dcontour": [
           {
            "colorbar": {
             "outlinewidth": 0,
             "ticks": ""
            },
            "colorscale": [
             [
              0,
              "#0d0887"
             ],
             [
              0.1111111111111111,
              "#46039f"
             ],
             [
              0.2222222222222222,
              "#7201a8"
             ],
             [
              0.3333333333333333,
              "#9c179e"
             ],
             [
              0.4444444444444444,
              "#bd3786"
             ],
             [
              0.5555555555555556,
              "#d8576b"
             ],
             [
              0.6666666666666666,
              "#ed7953"
             ],
             [
              0.7777777777777778,
              "#fb9f3a"
             ],
             [
              0.8888888888888888,
              "#fdca26"
             ],
             [
              1,
              "#f0f921"
             ]
            ],
            "type": "histogram2dcontour"
           }
          ],
          "mesh3d": [
           {
            "colorbar": {
             "outlinewidth": 0,
             "ticks": ""
            },
            "type": "mesh3d"
           }
          ],
          "parcoords": [
           {
            "line": {
             "colorbar": {
              "outlinewidth": 0,
              "ticks": ""
             }
            },
            "type": "parcoords"
           }
          ],
          "pie": [
           {
            "automargin": true,
            "type": "pie"
           }
          ],
          "scatter": [
           {
            "fillpattern": {
             "fillmode": "overlay",
             "size": 10,
             "solidity": 0.2
            },
            "type": "scatter"
           }
          ],
          "scatter3d": [
           {
            "line": {
             "colorbar": {
              "outlinewidth": 0,
              "ticks": ""
             }
            },
            "marker": {
             "colorbar": {
              "outlinewidth": 0,
              "ticks": ""
             }
            },
            "type": "scatter3d"
           }
          ],
          "scattercarpet": [
           {
            "marker": {
             "colorbar": {
              "outlinewidth": 0,
              "ticks": ""
             }
            },
            "type": "scattercarpet"
           }
          ],
          "scattergeo": [
           {
            "marker": {
             "colorbar": {
              "outlinewidth": 0,
              "ticks": ""
             }
            },
            "type": "scattergeo"
           }
          ],
          "scattergl": [
           {
            "marker": {
             "colorbar": {
              "outlinewidth": 0,
              "ticks": ""
             }
            },
            "type": "scattergl"
           }
          ],
          "scattermapbox": [
           {
            "marker": {
             "colorbar": {
              "outlinewidth": 0,
              "ticks": ""
             }
            },
            "type": "scattermapbox"
           }
          ],
          "scatterpolar": [
           {
            "marker": {
             "colorbar": {
              "outlinewidth": 0,
              "ticks": ""
             }
            },
            "type": "scatterpolar"
           }
          ],
          "scatterpolargl": [
           {
            "marker": {
             "colorbar": {
              "outlinewidth": 0,
              "ticks": ""
             }
            },
            "type": "scatterpolargl"
           }
          ],
          "scatterternary": [
           {
            "marker": {
             "colorbar": {
              "outlinewidth": 0,
              "ticks": ""
             }
            },
            "type": "scatterternary"
           }
          ],
          "surface": [
           {
            "colorbar": {
             "outlinewidth": 0,
             "ticks": ""
            },
            "colorscale": [
             [
              0,
              "#0d0887"
             ],
             [
              0.1111111111111111,
              "#46039f"
             ],
             [
              0.2222222222222222,
              "#7201a8"
             ],
             [
              0.3333333333333333,
              "#9c179e"
             ],
             [
              0.4444444444444444,
              "#bd3786"
             ],
             [
              0.5555555555555556,
              "#d8576b"
             ],
             [
              0.6666666666666666,
              "#ed7953"
             ],
             [
              0.7777777777777778,
              "#fb9f3a"
             ],
             [
              0.8888888888888888,
              "#fdca26"
             ],
             [
              1,
              "#f0f921"
             ]
            ],
            "type": "surface"
           }
          ],
          "table": [
           {
            "cells": {
             "fill": {
              "color": "#EBF0F8"
             },
             "line": {
              "color": "white"
             }
            },
            "header": {
             "fill": {
              "color": "#C8D4E3"
             },
             "line": {
              "color": "white"
             }
            },
            "type": "table"
           }
          ]
         },
         "layout": {
          "annotationdefaults": {
           "arrowcolor": "#2a3f5f",
           "arrowhead": 0,
           "arrowwidth": 1
          },
          "autotypenumbers": "strict",
          "coloraxis": {
           "colorbar": {
            "outlinewidth": 0,
            "ticks": ""
           }
          },
          "colorscale": {
           "diverging": [
            [
             0,
             "#8e0152"
            ],
            [
             0.1,
             "#c51b7d"
            ],
            [
             0.2,
             "#de77ae"
            ],
            [
             0.3,
             "#f1b6da"
            ],
            [
             0.4,
             "#fde0ef"
            ],
            [
             0.5,
             "#f7f7f7"
            ],
            [
             0.6,
             "#e6f5d0"
            ],
            [
             0.7,
             "#b8e186"
            ],
            [
             0.8,
             "#7fbc41"
            ],
            [
             0.9,
             "#4d9221"
            ],
            [
             1,
             "#276419"
            ]
           ],
           "sequential": [
            [
             0,
             "#0d0887"
            ],
            [
             0.1111111111111111,
             "#46039f"
            ],
            [
             0.2222222222222222,
             "#7201a8"
            ],
            [
             0.3333333333333333,
             "#9c179e"
            ],
            [
             0.4444444444444444,
             "#bd3786"
            ],
            [
             0.5555555555555556,
             "#d8576b"
            ],
            [
             0.6666666666666666,
             "#ed7953"
            ],
            [
             0.7777777777777778,
             "#fb9f3a"
            ],
            [
             0.8888888888888888,
             "#fdca26"
            ],
            [
             1,
             "#f0f921"
            ]
           ],
           "sequentialminus": [
            [
             0,
             "#0d0887"
            ],
            [
             0.1111111111111111,
             "#46039f"
            ],
            [
             0.2222222222222222,
             "#7201a8"
            ],
            [
             0.3333333333333333,
             "#9c179e"
            ],
            [
             0.4444444444444444,
             "#bd3786"
            ],
            [
             0.5555555555555556,
             "#d8576b"
            ],
            [
             0.6666666666666666,
             "#ed7953"
            ],
            [
             0.7777777777777778,
             "#fb9f3a"
            ],
            [
             0.8888888888888888,
             "#fdca26"
            ],
            [
             1,
             "#f0f921"
            ]
           ]
          },
          "colorway": [
           "#636efa",
           "#EF553B",
           "#00cc96",
           "#ab63fa",
           "#FFA15A",
           "#19d3f3",
           "#FF6692",
           "#B6E880",
           "#FF97FF",
           "#FECB52"
          ],
          "font": {
           "color": "#2a3f5f"
          },
          "geo": {
           "bgcolor": "white",
           "lakecolor": "white",
           "landcolor": "#E5ECF6",
           "showlakes": true,
           "showland": true,
           "subunitcolor": "white"
          },
          "hoverlabel": {
           "align": "left"
          },
          "hovermode": "closest",
          "mapbox": {
           "style": "light"
          },
          "paper_bgcolor": "white",
          "plot_bgcolor": "#E5ECF6",
          "polar": {
           "angularaxis": {
            "gridcolor": "white",
            "linecolor": "white",
            "ticks": ""
           },
           "bgcolor": "#E5ECF6",
           "radialaxis": {
            "gridcolor": "white",
            "linecolor": "white",
            "ticks": ""
           }
          },
          "scene": {
           "xaxis": {
            "backgroundcolor": "#E5ECF6",
            "gridcolor": "white",
            "gridwidth": 2,
            "linecolor": "white",
            "showbackground": true,
            "ticks": "",
            "zerolinecolor": "white"
           },
           "yaxis": {
            "backgroundcolor": "#E5ECF6",
            "gridcolor": "white",
            "gridwidth": 2,
            "linecolor": "white",
            "showbackground": true,
            "ticks": "",
            "zerolinecolor": "white"
           },
           "zaxis": {
            "backgroundcolor": "#E5ECF6",
            "gridcolor": "white",
            "gridwidth": 2,
            "linecolor": "white",
            "showbackground": true,
            "ticks": "",
            "zerolinecolor": "white"
           }
          },
          "shapedefaults": {
           "line": {
            "color": "#2a3f5f"
           }
          },
          "ternary": {
           "aaxis": {
            "gridcolor": "white",
            "linecolor": "white",
            "ticks": ""
           },
           "baxis": {
            "gridcolor": "white",
            "linecolor": "white",
            "ticks": ""
           },
           "bgcolor": "#E5ECF6",
           "caxis": {
            "gridcolor": "white",
            "linecolor": "white",
            "ticks": ""
           }
          },
          "title": {
           "x": 0.05
          },
          "xaxis": {
           "automargin": true,
           "gridcolor": "white",
           "linecolor": "white",
           "ticks": "",
           "title": {
            "standoff": 15
           },
           "zerolinecolor": "white",
           "zerolinewidth": 2
          },
          "yaxis": {
           "automargin": true,
           "gridcolor": "white",
           "linecolor": "white",
           "ticks": "",
           "title": {
            "standoff": 15
           },
           "zerolinecolor": "white",
           "zerolinewidth": 2
          }
         }
        },
        "title": {
         "text": "Evolucion de los valores de intercambio por Portugal"
        },
        "xaxis": {
         "anchor": "y",
         "domain": [
          0,
          1
         ],
         "title": {
          "text": "Fecha actualización"
         }
        },
        "yaxis": {
         "anchor": "x",
         "domain": [
          0,
          1
         ],
         "title": {
          "text": "Valores"
         }
        }
       }
      }
     },
     "metadata": {},
     "output_type": "display_data"
    }
   ],
   "source": [
    "fig = px.line(df_intercambio[df_intercambio['nombre'] == 'Portugal'], x = 'Fecha actualización', y = 'Valores', color= 'tipo de intercambio',\n",
    "              line_group='tipo de intercambio',\n",
    "              title= 'Evolucion de los valores de intercambio por Portugal',\n",
    "              markers= True)\n",
    "\n",
    "fig.show()"
   ]
  },
  {
   "cell_type": "code",
   "execution_count": 44,
   "metadata": {},
   "outputs": [
    {
     "data": {
      "application/vnd.plotly.v1+json": {
       "config": {
        "plotlyServerURL": "https://plot.ly"
       },
       "data": [
        {
         "hovertemplate": "tipo de intercambio=Exportación<br>Fecha actualización=%{x}<br>Valores=%{y}<extra></extra>",
         "legendgroup": "Exportación",
         "line": {
          "color": "#636efa",
          "dash": "solid"
         },
         "marker": {
          "symbol": "circle"
         },
         "mode": "lines+markers",
         "name": "Exportación",
         "orientation": "v",
         "showlegend": true,
         "type": "scatter",
         "x": [
          "11/09/2023",
          "12/09/2023",
          "13/09/2023",
          "14/09/2023",
          "15/09/2023",
          "16/09/2023",
          "17/09/2023",
          "18/09/2023",
          "19/09/2023",
          "20/09/2023",
          "21/09/2023",
          "22/09/2023",
          "23/09/2023",
          "24/09/2023",
          "25/09/2023",
          "26/09/2023",
          "27/09/2023",
          "28/09/2023",
          "29/09/2023",
          "30/09/2023",
          "01/10/2023",
          "02/10/2023",
          "03/10/2023",
          "04/10/2023",
          "05/10/2023",
          "06/10/2023",
          "07/10/2023",
          "08/10/2023",
          "10/10/2023",
          "11/10/2023"
         ],
         "xaxis": "x",
         "y": [
          -7640,
          -7010,
          -8680.5,
          -10113.9,
          -12169,
          -12980,
          -11440,
          -8380,
          -8884,
          -6714,
          -4120,
          -3680,
          -2990,
          -7059,
          -3860,
          -3080,
          -1250,
          -640,
          -900,
          -1270,
          -2183,
          -1450,
          -1688,
          -620,
          -550,
          -1550,
          -3063.7,
          -940,
          -140,
          -3370
         ],
         "yaxis": "y"
        },
        {
         "hovertemplate": "tipo de intercambio=Importación<br>Fecha actualización=%{x}<br>Valores=%{y}<extra></extra>",
         "legendgroup": "Importación",
         "line": {
          "color": "#EF553B",
          "dash": "solid"
         },
         "marker": {
          "symbol": "circle"
         },
         "mode": "lines+markers",
         "name": "Importación",
         "orientation": "v",
         "showlegend": true,
         "type": "scatter",
         "x": [
          "11/09/2023",
          "12/09/2023",
          "18/09/2023",
          "19/09/2023",
          "21/09/2023",
          "22/09/2023",
          "25/09/2023",
          "26/09/2023",
          "27/09/2023",
          "28/09/2023",
          "29/09/2023",
          "30/09/2023",
          "01/10/2023",
          "02/10/2023",
          "03/10/2023",
          "04/10/2023",
          "05/10/2023",
          "06/10/2023",
          "07/10/2023",
          "08/10/2023",
          "10/10/2023",
          "11/10/2023"
         ],
         "xaxis": "x",
         "y": [
          1062,
          1292,
          2370,
          260,
          1260,
          1410,
          920,
          1295,
          2550,
          6392.8,
          4545,
          2300,
          3854,
          2678,
          3738,
          1431,
          1434,
          2033,
          2190,
          4989,
          2273,
          2173
         ],
         "yaxis": "y"
        },
        {
         "hovertemplate": "tipo de intercambio=saldo<br>Fecha actualización=%{x}<br>Valores=%{y}<extra></extra>",
         "legendgroup": "saldo",
         "line": {
          "color": "#00cc96",
          "dash": "solid"
         },
         "marker": {
          "symbol": "circle"
         },
         "mode": "lines+markers",
         "name": "saldo",
         "orientation": "v",
         "showlegend": true,
         "type": "scatter",
         "x": [
          "11/09/2023",
          "12/09/2023",
          "13/09/2023",
          "14/09/2023",
          "15/09/2023",
          "16/09/2023",
          "17/09/2023",
          "18/09/2023",
          "19/09/2023",
          "20/09/2023",
          "21/09/2023",
          "22/09/2023",
          "23/09/2023",
          "24/09/2023",
          "25/09/2023",
          "26/09/2023",
          "27/09/2023",
          "28/09/2023",
          "29/09/2023",
          "30/09/2023",
          "01/10/2023",
          "02/10/2023",
          "03/10/2023",
          "04/10/2023",
          "05/10/2023",
          "06/10/2023",
          "07/10/2023",
          "08/10/2023",
          "10/10/2023",
          "11/10/2023"
         ],
         "xaxis": "x",
         "y": [
          -6578,
          -5718,
          -8680.5,
          -10113.9,
          -12169,
          -12980,
          -11440,
          -6010,
          -8624,
          -6714,
          -2860,
          -2270,
          -2990,
          -7059,
          -2940,
          -1785,
          1300,
          5752.8,
          3645,
          1030,
          1671,
          1228,
          2050,
          811,
          884,
          483,
          -873.6999999999998,
          4049,
          2133,
          -1197
         ],
         "yaxis": "y"
        }
       ],
       "layout": {
        "legend": {
         "title": {
          "text": "tipo de intercambio"
         },
         "tracegroupgap": 0
        },
        "template": {
         "data": {
          "bar": [
           {
            "error_x": {
             "color": "#2a3f5f"
            },
            "error_y": {
             "color": "#2a3f5f"
            },
            "marker": {
             "line": {
              "color": "#E5ECF6",
              "width": 0.5
             },
             "pattern": {
              "fillmode": "overlay",
              "size": 10,
              "solidity": 0.2
             }
            },
            "type": "bar"
           }
          ],
          "barpolar": [
           {
            "marker": {
             "line": {
              "color": "#E5ECF6",
              "width": 0.5
             },
             "pattern": {
              "fillmode": "overlay",
              "size": 10,
              "solidity": 0.2
             }
            },
            "type": "barpolar"
           }
          ],
          "carpet": [
           {
            "aaxis": {
             "endlinecolor": "#2a3f5f",
             "gridcolor": "white",
             "linecolor": "white",
             "minorgridcolor": "white",
             "startlinecolor": "#2a3f5f"
            },
            "baxis": {
             "endlinecolor": "#2a3f5f",
             "gridcolor": "white",
             "linecolor": "white",
             "minorgridcolor": "white",
             "startlinecolor": "#2a3f5f"
            },
            "type": "carpet"
           }
          ],
          "choropleth": [
           {
            "colorbar": {
             "outlinewidth": 0,
             "ticks": ""
            },
            "type": "choropleth"
           }
          ],
          "contour": [
           {
            "colorbar": {
             "outlinewidth": 0,
             "ticks": ""
            },
            "colorscale": [
             [
              0,
              "#0d0887"
             ],
             [
              0.1111111111111111,
              "#46039f"
             ],
             [
              0.2222222222222222,
              "#7201a8"
             ],
             [
              0.3333333333333333,
              "#9c179e"
             ],
             [
              0.4444444444444444,
              "#bd3786"
             ],
             [
              0.5555555555555556,
              "#d8576b"
             ],
             [
              0.6666666666666666,
              "#ed7953"
             ],
             [
              0.7777777777777778,
              "#fb9f3a"
             ],
             [
              0.8888888888888888,
              "#fdca26"
             ],
             [
              1,
              "#f0f921"
             ]
            ],
            "type": "contour"
           }
          ],
          "contourcarpet": [
           {
            "colorbar": {
             "outlinewidth": 0,
             "ticks": ""
            },
            "type": "contourcarpet"
           }
          ],
          "heatmap": [
           {
            "colorbar": {
             "outlinewidth": 0,
             "ticks": ""
            },
            "colorscale": [
             [
              0,
              "#0d0887"
             ],
             [
              0.1111111111111111,
              "#46039f"
             ],
             [
              0.2222222222222222,
              "#7201a8"
             ],
             [
              0.3333333333333333,
              "#9c179e"
             ],
             [
              0.4444444444444444,
              "#bd3786"
             ],
             [
              0.5555555555555556,
              "#d8576b"
             ],
             [
              0.6666666666666666,
              "#ed7953"
             ],
             [
              0.7777777777777778,
              "#fb9f3a"
             ],
             [
              0.8888888888888888,
              "#fdca26"
             ],
             [
              1,
              "#f0f921"
             ]
            ],
            "type": "heatmap"
           }
          ],
          "heatmapgl": [
           {
            "colorbar": {
             "outlinewidth": 0,
             "ticks": ""
            },
            "colorscale": [
             [
              0,
              "#0d0887"
             ],
             [
              0.1111111111111111,
              "#46039f"
             ],
             [
              0.2222222222222222,
              "#7201a8"
             ],
             [
              0.3333333333333333,
              "#9c179e"
             ],
             [
              0.4444444444444444,
              "#bd3786"
             ],
             [
              0.5555555555555556,
              "#d8576b"
             ],
             [
              0.6666666666666666,
              "#ed7953"
             ],
             [
              0.7777777777777778,
              "#fb9f3a"
             ],
             [
              0.8888888888888888,
              "#fdca26"
             ],
             [
              1,
              "#f0f921"
             ]
            ],
            "type": "heatmapgl"
           }
          ],
          "histogram": [
           {
            "marker": {
             "pattern": {
              "fillmode": "overlay",
              "size": 10,
              "solidity": 0.2
             }
            },
            "type": "histogram"
           }
          ],
          "histogram2d": [
           {
            "colorbar": {
             "outlinewidth": 0,
             "ticks": ""
            },
            "colorscale": [
             [
              0,
              "#0d0887"
             ],
             [
              0.1111111111111111,
              "#46039f"
             ],
             [
              0.2222222222222222,
              "#7201a8"
             ],
             [
              0.3333333333333333,
              "#9c179e"
             ],
             [
              0.4444444444444444,
              "#bd3786"
             ],
             [
              0.5555555555555556,
              "#d8576b"
             ],
             [
              0.6666666666666666,
              "#ed7953"
             ],
             [
              0.7777777777777778,
              "#fb9f3a"
             ],
             [
              0.8888888888888888,
              "#fdca26"
             ],
             [
              1,
              "#f0f921"
             ]
            ],
            "type": "histogram2d"
           }
          ],
          "histogram2dcontour": [
           {
            "colorbar": {
             "outlinewidth": 0,
             "ticks": ""
            },
            "colorscale": [
             [
              0,
              "#0d0887"
             ],
             [
              0.1111111111111111,
              "#46039f"
             ],
             [
              0.2222222222222222,
              "#7201a8"
             ],
             [
              0.3333333333333333,
              "#9c179e"
             ],
             [
              0.4444444444444444,
              "#bd3786"
             ],
             [
              0.5555555555555556,
              "#d8576b"
             ],
             [
              0.6666666666666666,
              "#ed7953"
             ],
             [
              0.7777777777777778,
              "#fb9f3a"
             ],
             [
              0.8888888888888888,
              "#fdca26"
             ],
             [
              1,
              "#f0f921"
             ]
            ],
            "type": "histogram2dcontour"
           }
          ],
          "mesh3d": [
           {
            "colorbar": {
             "outlinewidth": 0,
             "ticks": ""
            },
            "type": "mesh3d"
           }
          ],
          "parcoords": [
           {
            "line": {
             "colorbar": {
              "outlinewidth": 0,
              "ticks": ""
             }
            },
            "type": "parcoords"
           }
          ],
          "pie": [
           {
            "automargin": true,
            "type": "pie"
           }
          ],
          "scatter": [
           {
            "fillpattern": {
             "fillmode": "overlay",
             "size": 10,
             "solidity": 0.2
            },
            "type": "scatter"
           }
          ],
          "scatter3d": [
           {
            "line": {
             "colorbar": {
              "outlinewidth": 0,
              "ticks": ""
             }
            },
            "marker": {
             "colorbar": {
              "outlinewidth": 0,
              "ticks": ""
             }
            },
            "type": "scatter3d"
           }
          ],
          "scattercarpet": [
           {
            "marker": {
             "colorbar": {
              "outlinewidth": 0,
              "ticks": ""
             }
            },
            "type": "scattercarpet"
           }
          ],
          "scattergeo": [
           {
            "marker": {
             "colorbar": {
              "outlinewidth": 0,
              "ticks": ""
             }
            },
            "type": "scattergeo"
           }
          ],
          "scattergl": [
           {
            "marker": {
             "colorbar": {
              "outlinewidth": 0,
              "ticks": ""
             }
            },
            "type": "scattergl"
           }
          ],
          "scattermapbox": [
           {
            "marker": {
             "colorbar": {
              "outlinewidth": 0,
              "ticks": ""
             }
            },
            "type": "scattermapbox"
           }
          ],
          "scatterpolar": [
           {
            "marker": {
             "colorbar": {
              "outlinewidth": 0,
              "ticks": ""
             }
            },
            "type": "scatterpolar"
           }
          ],
          "scatterpolargl": [
           {
            "marker": {
             "colorbar": {
              "outlinewidth": 0,
              "ticks": ""
             }
            },
            "type": "scatterpolargl"
           }
          ],
          "scatterternary": [
           {
            "marker": {
             "colorbar": {
              "outlinewidth": 0,
              "ticks": ""
             }
            },
            "type": "scatterternary"
           }
          ],
          "surface": [
           {
            "colorbar": {
             "outlinewidth": 0,
             "ticks": ""
            },
            "colorscale": [
             [
              0,
              "#0d0887"
             ],
             [
              0.1111111111111111,
              "#46039f"
             ],
             [
              0.2222222222222222,
              "#7201a8"
             ],
             [
              0.3333333333333333,
              "#9c179e"
             ],
             [
              0.4444444444444444,
              "#bd3786"
             ],
             [
              0.5555555555555556,
              "#d8576b"
             ],
             [
              0.6666666666666666,
              "#ed7953"
             ],
             [
              0.7777777777777778,
              "#fb9f3a"
             ],
             [
              0.8888888888888888,
              "#fdca26"
             ],
             [
              1,
              "#f0f921"
             ]
            ],
            "type": "surface"
           }
          ],
          "table": [
           {
            "cells": {
             "fill": {
              "color": "#EBF0F8"
             },
             "line": {
              "color": "white"
             }
            },
            "header": {
             "fill": {
              "color": "#C8D4E3"
             },
             "line": {
              "color": "white"
             }
            },
            "type": "table"
           }
          ]
         },
         "layout": {
          "annotationdefaults": {
           "arrowcolor": "#2a3f5f",
           "arrowhead": 0,
           "arrowwidth": 1
          },
          "autotypenumbers": "strict",
          "coloraxis": {
           "colorbar": {
            "outlinewidth": 0,
            "ticks": ""
           }
          },
          "colorscale": {
           "diverging": [
            [
             0,
             "#8e0152"
            ],
            [
             0.1,
             "#c51b7d"
            ],
            [
             0.2,
             "#de77ae"
            ],
            [
             0.3,
             "#f1b6da"
            ],
            [
             0.4,
             "#fde0ef"
            ],
            [
             0.5,
             "#f7f7f7"
            ],
            [
             0.6,
             "#e6f5d0"
            ],
            [
             0.7,
             "#b8e186"
            ],
            [
             0.8,
             "#7fbc41"
            ],
            [
             0.9,
             "#4d9221"
            ],
            [
             1,
             "#276419"
            ]
           ],
           "sequential": [
            [
             0,
             "#0d0887"
            ],
            [
             0.1111111111111111,
             "#46039f"
            ],
            [
             0.2222222222222222,
             "#7201a8"
            ],
            [
             0.3333333333333333,
             "#9c179e"
            ],
            [
             0.4444444444444444,
             "#bd3786"
            ],
            [
             0.5555555555555556,
             "#d8576b"
            ],
            [
             0.6666666666666666,
             "#ed7953"
            ],
            [
             0.7777777777777778,
             "#fb9f3a"
            ],
            [
             0.8888888888888888,
             "#fdca26"
            ],
            [
             1,
             "#f0f921"
            ]
           ],
           "sequentialminus": [
            [
             0,
             "#0d0887"
            ],
            [
             0.1111111111111111,
             "#46039f"
            ],
            [
             0.2222222222222222,
             "#7201a8"
            ],
            [
             0.3333333333333333,
             "#9c179e"
            ],
            [
             0.4444444444444444,
             "#bd3786"
            ],
            [
             0.5555555555555556,
             "#d8576b"
            ],
            [
             0.6666666666666666,
             "#ed7953"
            ],
            [
             0.7777777777777778,
             "#fb9f3a"
            ],
            [
             0.8888888888888888,
             "#fdca26"
            ],
            [
             1,
             "#f0f921"
            ]
           ]
          },
          "colorway": [
           "#636efa",
           "#EF553B",
           "#00cc96",
           "#ab63fa",
           "#FFA15A",
           "#19d3f3",
           "#FF6692",
           "#B6E880",
           "#FF97FF",
           "#FECB52"
          ],
          "font": {
           "color": "#2a3f5f"
          },
          "geo": {
           "bgcolor": "white",
           "lakecolor": "white",
           "landcolor": "#E5ECF6",
           "showlakes": true,
           "showland": true,
           "subunitcolor": "white"
          },
          "hoverlabel": {
           "align": "left"
          },
          "hovermode": "closest",
          "mapbox": {
           "style": "light"
          },
          "paper_bgcolor": "white",
          "plot_bgcolor": "#E5ECF6",
          "polar": {
           "angularaxis": {
            "gridcolor": "white",
            "linecolor": "white",
            "ticks": ""
           },
           "bgcolor": "#E5ECF6",
           "radialaxis": {
            "gridcolor": "white",
            "linecolor": "white",
            "ticks": ""
           }
          },
          "scene": {
           "xaxis": {
            "backgroundcolor": "#E5ECF6",
            "gridcolor": "white",
            "gridwidth": 2,
            "linecolor": "white",
            "showbackground": true,
            "ticks": "",
            "zerolinecolor": "white"
           },
           "yaxis": {
            "backgroundcolor": "#E5ECF6",
            "gridcolor": "white",
            "gridwidth": 2,
            "linecolor": "white",
            "showbackground": true,
            "ticks": "",
            "zerolinecolor": "white"
           },
           "zaxis": {
            "backgroundcolor": "#E5ECF6",
            "gridcolor": "white",
            "gridwidth": 2,
            "linecolor": "white",
            "showbackground": true,
            "ticks": "",
            "zerolinecolor": "white"
           }
          },
          "shapedefaults": {
           "line": {
            "color": "#2a3f5f"
           }
          },
          "ternary": {
           "aaxis": {
            "gridcolor": "white",
            "linecolor": "white",
            "ticks": ""
           },
           "baxis": {
            "gridcolor": "white",
            "linecolor": "white",
            "ticks": ""
           },
           "bgcolor": "#E5ECF6",
           "caxis": {
            "gridcolor": "white",
            "linecolor": "white",
            "ticks": ""
           }
          },
          "title": {
           "x": 0.05
          },
          "xaxis": {
           "automargin": true,
           "gridcolor": "white",
           "linecolor": "white",
           "ticks": "",
           "title": {
            "standoff": 15
           },
           "zerolinecolor": "white",
           "zerolinewidth": 2
          },
          "yaxis": {
           "automargin": true,
           "gridcolor": "white",
           "linecolor": "white",
           "ticks": "",
           "title": {
            "standoff": 15
           },
           "zerolinecolor": "white",
           "zerolinewidth": 2
          }
         }
        },
        "title": {
         "text": "Evolucion de los valores de intercambio por Marruecos"
        },
        "xaxis": {
         "anchor": "y",
         "domain": [
          0,
          1
         ],
         "title": {
          "text": "Fecha actualización"
         }
        },
        "yaxis": {
         "anchor": "x",
         "domain": [
          0,
          1
         ],
         "title": {
          "text": "Valores"
         }
        }
       }
      }
     },
     "metadata": {},
     "output_type": "display_data"
    }
   ],
   "source": [
    "fig = px.line(df_intercambio[df_intercambio['nombre'] == 'Marruecos'], x = 'Fecha actualización', y = 'Valores', color= 'tipo de intercambio',\n",
    "              line_group='tipo de intercambio',\n",
    "              title= 'Evolucion de los valores de intercambio por Marruecos',\n",
    "              markers= True)\n",
    "\n",
    "fig.show()"
   ]
  },
  {
   "cell_type": "code",
   "execution_count": 42,
   "metadata": {},
   "outputs": [
    {
     "data": {
      "application/vnd.plotly.v1+json": {
       "config": {
        "plotlyServerURL": "https://plot.ly"
       },
       "data": [
        {
         "hovertemplate": "tipo de intercambio=Exportación<br>Fecha actualización=%{x}<br>Valores=%{y}<extra></extra>",
         "legendgroup": "Exportación",
         "line": {
          "color": "#636efa",
          "dash": "solid"
         },
         "marker": {
          "symbol": "circle"
         },
         "mode": "lines+markers",
         "name": "Exportación",
         "orientation": "v",
         "showlegend": true,
         "type": "scatter",
         "x": [
          "11/09/2023",
          "12/09/2023",
          "13/09/2023",
          "14/09/2023",
          "15/09/2023",
          "16/09/2023",
          "17/09/2023",
          "18/09/2023",
          "19/09/2023",
          "20/09/2023",
          "21/09/2023",
          "22/09/2023",
          "23/09/2023",
          "24/09/2023",
          "25/09/2023",
          "26/09/2023",
          "27/09/2023",
          "28/09/2023",
          "29/09/2023",
          "30/09/2023",
          "01/10/2023",
          "02/10/2023",
          "03/10/2023",
          "04/10/2023",
          "05/10/2023",
          "06/10/2023",
          "07/10/2023",
          "08/10/2023",
          "09/10/2023",
          "10/10/2023",
          "11/10/2023"
         ],
         "xaxis": "x",
         "y": [
          -416,
          -417,
          -417,
          -415,
          -412,
          -385,
          -357,
          -633,
          -950,
          -997,
          -888,
          -879,
          -369,
          -358,
          -569,
          -422,
          -411,
          -420,
          -415,
          -373,
          -372,
          -423,
          -431,
          -434,
          -410,
          -437,
          -399,
          -384,
          -439,
          -865,
          -458
         ],
         "yaxis": "y"
        },
        {
         "hovertemplate": "tipo de intercambio=saldo<br>Fecha actualización=%{x}<br>Valores=%{y}<extra></extra>",
         "legendgroup": "saldo",
         "line": {
          "color": "#EF553B",
          "dash": "dot"
         },
         "marker": {
          "symbol": "circle"
         },
         "mode": "lines+markers",
         "name": "saldo",
         "orientation": "v",
         "showlegend": true,
         "type": "scatter",
         "x": [
          "11/09/2023",
          "12/09/2023",
          "13/09/2023",
          "14/09/2023",
          "15/09/2023",
          "16/09/2023",
          "17/09/2023",
          "18/09/2023",
          "19/09/2023",
          "20/09/2023",
          "21/09/2023",
          "22/09/2023",
          "23/09/2023",
          "24/09/2023",
          "25/09/2023",
          "26/09/2023",
          "27/09/2023",
          "28/09/2023",
          "29/09/2023",
          "30/09/2023",
          "01/10/2023",
          "02/10/2023",
          "03/10/2023",
          "04/10/2023",
          "05/10/2023",
          "06/10/2023",
          "07/10/2023",
          "08/10/2023",
          "09/10/2023",
          "10/10/2023",
          "11/10/2023"
         ],
         "xaxis": "x",
         "y": [
          -416,
          -417,
          -417,
          -415,
          -412,
          -385,
          -357,
          -633,
          -950,
          -997,
          -888,
          -879,
          -369,
          -358,
          -569,
          -422,
          -411,
          -420,
          -415,
          -373,
          -372,
          -423,
          -431,
          -434,
          -410,
          -437,
          -399,
          -384,
          -439,
          -865,
          -458
         ],
         "yaxis": "y"
        }
       ],
       "layout": {
        "legend": {
         "title": {
          "text": "tipo de intercambio"
         },
         "tracegroupgap": 0
        },
        "template": {
         "data": {
          "bar": [
           {
            "error_x": {
             "color": "#2a3f5f"
            },
            "error_y": {
             "color": "#2a3f5f"
            },
            "marker": {
             "line": {
              "color": "#E5ECF6",
              "width": 0.5
             },
             "pattern": {
              "fillmode": "overlay",
              "size": 10,
              "solidity": 0.2
             }
            },
            "type": "bar"
           }
          ],
          "barpolar": [
           {
            "marker": {
             "line": {
              "color": "#E5ECF6",
              "width": 0.5
             },
             "pattern": {
              "fillmode": "overlay",
              "size": 10,
              "solidity": 0.2
             }
            },
            "type": "barpolar"
           }
          ],
          "carpet": [
           {
            "aaxis": {
             "endlinecolor": "#2a3f5f",
             "gridcolor": "white",
             "linecolor": "white",
             "minorgridcolor": "white",
             "startlinecolor": "#2a3f5f"
            },
            "baxis": {
             "endlinecolor": "#2a3f5f",
             "gridcolor": "white",
             "linecolor": "white",
             "minorgridcolor": "white",
             "startlinecolor": "#2a3f5f"
            },
            "type": "carpet"
           }
          ],
          "choropleth": [
           {
            "colorbar": {
             "outlinewidth": 0,
             "ticks": ""
            },
            "type": "choropleth"
           }
          ],
          "contour": [
           {
            "colorbar": {
             "outlinewidth": 0,
             "ticks": ""
            },
            "colorscale": [
             [
              0,
              "#0d0887"
             ],
             [
              0.1111111111111111,
              "#46039f"
             ],
             [
              0.2222222222222222,
              "#7201a8"
             ],
             [
              0.3333333333333333,
              "#9c179e"
             ],
             [
              0.4444444444444444,
              "#bd3786"
             ],
             [
              0.5555555555555556,
              "#d8576b"
             ],
             [
              0.6666666666666666,
              "#ed7953"
             ],
             [
              0.7777777777777778,
              "#fb9f3a"
             ],
             [
              0.8888888888888888,
              "#fdca26"
             ],
             [
              1,
              "#f0f921"
             ]
            ],
            "type": "contour"
           }
          ],
          "contourcarpet": [
           {
            "colorbar": {
             "outlinewidth": 0,
             "ticks": ""
            },
            "type": "contourcarpet"
           }
          ],
          "heatmap": [
           {
            "colorbar": {
             "outlinewidth": 0,
             "ticks": ""
            },
            "colorscale": [
             [
              0,
              "#0d0887"
             ],
             [
              0.1111111111111111,
              "#46039f"
             ],
             [
              0.2222222222222222,
              "#7201a8"
             ],
             [
              0.3333333333333333,
              "#9c179e"
             ],
             [
              0.4444444444444444,
              "#bd3786"
             ],
             [
              0.5555555555555556,
              "#d8576b"
             ],
             [
              0.6666666666666666,
              "#ed7953"
             ],
             [
              0.7777777777777778,
              "#fb9f3a"
             ],
             [
              0.8888888888888888,
              "#fdca26"
             ],
             [
              1,
              "#f0f921"
             ]
            ],
            "type": "heatmap"
           }
          ],
          "heatmapgl": [
           {
            "colorbar": {
             "outlinewidth": 0,
             "ticks": ""
            },
            "colorscale": [
             [
              0,
              "#0d0887"
             ],
             [
              0.1111111111111111,
              "#46039f"
             ],
             [
              0.2222222222222222,
              "#7201a8"
             ],
             [
              0.3333333333333333,
              "#9c179e"
             ],
             [
              0.4444444444444444,
              "#bd3786"
             ],
             [
              0.5555555555555556,
              "#d8576b"
             ],
             [
              0.6666666666666666,
              "#ed7953"
             ],
             [
              0.7777777777777778,
              "#fb9f3a"
             ],
             [
              0.8888888888888888,
              "#fdca26"
             ],
             [
              1,
              "#f0f921"
             ]
            ],
            "type": "heatmapgl"
           }
          ],
          "histogram": [
           {
            "marker": {
             "pattern": {
              "fillmode": "overlay",
              "size": 10,
              "solidity": 0.2
             }
            },
            "type": "histogram"
           }
          ],
          "histogram2d": [
           {
            "colorbar": {
             "outlinewidth": 0,
             "ticks": ""
            },
            "colorscale": [
             [
              0,
              "#0d0887"
             ],
             [
              0.1111111111111111,
              "#46039f"
             ],
             [
              0.2222222222222222,
              "#7201a8"
             ],
             [
              0.3333333333333333,
              "#9c179e"
             ],
             [
              0.4444444444444444,
              "#bd3786"
             ],
             [
              0.5555555555555556,
              "#d8576b"
             ],
             [
              0.6666666666666666,
              "#ed7953"
             ],
             [
              0.7777777777777778,
              "#fb9f3a"
             ],
             [
              0.8888888888888888,
              "#fdca26"
             ],
             [
              1,
              "#f0f921"
             ]
            ],
            "type": "histogram2d"
           }
          ],
          "histogram2dcontour": [
           {
            "colorbar": {
             "outlinewidth": 0,
             "ticks": ""
            },
            "colorscale": [
             [
              0,
              "#0d0887"
             ],
             [
              0.1111111111111111,
              "#46039f"
             ],
             [
              0.2222222222222222,
              "#7201a8"
             ],
             [
              0.3333333333333333,
              "#9c179e"
             ],
             [
              0.4444444444444444,
              "#bd3786"
             ],
             [
              0.5555555555555556,
              "#d8576b"
             ],
             [
              0.6666666666666666,
              "#ed7953"
             ],
             [
              0.7777777777777778,
              "#fb9f3a"
             ],
             [
              0.8888888888888888,
              "#fdca26"
             ],
             [
              1,
              "#f0f921"
             ]
            ],
            "type": "histogram2dcontour"
           }
          ],
          "mesh3d": [
           {
            "colorbar": {
             "outlinewidth": 0,
             "ticks": ""
            },
            "type": "mesh3d"
           }
          ],
          "parcoords": [
           {
            "line": {
             "colorbar": {
              "outlinewidth": 0,
              "ticks": ""
             }
            },
            "type": "parcoords"
           }
          ],
          "pie": [
           {
            "automargin": true,
            "type": "pie"
           }
          ],
          "scatter": [
           {
            "fillpattern": {
             "fillmode": "overlay",
             "size": 10,
             "solidity": 0.2
            },
            "type": "scatter"
           }
          ],
          "scatter3d": [
           {
            "line": {
             "colorbar": {
              "outlinewidth": 0,
              "ticks": ""
             }
            },
            "marker": {
             "colorbar": {
              "outlinewidth": 0,
              "ticks": ""
             }
            },
            "type": "scatter3d"
           }
          ],
          "scattercarpet": [
           {
            "marker": {
             "colorbar": {
              "outlinewidth": 0,
              "ticks": ""
             }
            },
            "type": "scattercarpet"
           }
          ],
          "scattergeo": [
           {
            "marker": {
             "colorbar": {
              "outlinewidth": 0,
              "ticks": ""
             }
            },
            "type": "scattergeo"
           }
          ],
          "scattergl": [
           {
            "marker": {
             "colorbar": {
              "outlinewidth": 0,
              "ticks": ""
             }
            },
            "type": "scattergl"
           }
          ],
          "scattermapbox": [
           {
            "marker": {
             "colorbar": {
              "outlinewidth": 0,
              "ticks": ""
             }
            },
            "type": "scattermapbox"
           }
          ],
          "scatterpolar": [
           {
            "marker": {
             "colorbar": {
              "outlinewidth": 0,
              "ticks": ""
             }
            },
            "type": "scatterpolar"
           }
          ],
          "scatterpolargl": [
           {
            "marker": {
             "colorbar": {
              "outlinewidth": 0,
              "ticks": ""
             }
            },
            "type": "scatterpolargl"
           }
          ],
          "scatterternary": [
           {
            "marker": {
             "colorbar": {
              "outlinewidth": 0,
              "ticks": ""
             }
            },
            "type": "scatterternary"
           }
          ],
          "surface": [
           {
            "colorbar": {
             "outlinewidth": 0,
             "ticks": ""
            },
            "colorscale": [
             [
              0,
              "#0d0887"
             ],
             [
              0.1111111111111111,
              "#46039f"
             ],
             [
              0.2222222222222222,
              "#7201a8"
             ],
             [
              0.3333333333333333,
              "#9c179e"
             ],
             [
              0.4444444444444444,
              "#bd3786"
             ],
             [
              0.5555555555555556,
              "#d8576b"
             ],
             [
              0.6666666666666666,
              "#ed7953"
             ],
             [
              0.7777777777777778,
              "#fb9f3a"
             ],
             [
              0.8888888888888888,
              "#fdca26"
             ],
             [
              1,
              "#f0f921"
             ]
            ],
            "type": "surface"
           }
          ],
          "table": [
           {
            "cells": {
             "fill": {
              "color": "#EBF0F8"
             },
             "line": {
              "color": "white"
             }
            },
            "header": {
             "fill": {
              "color": "#C8D4E3"
             },
             "line": {
              "color": "white"
             }
            },
            "type": "table"
           }
          ]
         },
         "layout": {
          "annotationdefaults": {
           "arrowcolor": "#2a3f5f",
           "arrowhead": 0,
           "arrowwidth": 1
          },
          "autotypenumbers": "strict",
          "coloraxis": {
           "colorbar": {
            "outlinewidth": 0,
            "ticks": ""
           }
          },
          "colorscale": {
           "diverging": [
            [
             0,
             "#8e0152"
            ],
            [
             0.1,
             "#c51b7d"
            ],
            [
             0.2,
             "#de77ae"
            ],
            [
             0.3,
             "#f1b6da"
            ],
            [
             0.4,
             "#fde0ef"
            ],
            [
             0.5,
             "#f7f7f7"
            ],
            [
             0.6,
             "#e6f5d0"
            ],
            [
             0.7,
             "#b8e186"
            ],
            [
             0.8,
             "#7fbc41"
            ],
            [
             0.9,
             "#4d9221"
            ],
            [
             1,
             "#276419"
            ]
           ],
           "sequential": [
            [
             0,
             "#0d0887"
            ],
            [
             0.1111111111111111,
             "#46039f"
            ],
            [
             0.2222222222222222,
             "#7201a8"
            ],
            [
             0.3333333333333333,
             "#9c179e"
            ],
            [
             0.4444444444444444,
             "#bd3786"
            ],
            [
             0.5555555555555556,
             "#d8576b"
            ],
            [
             0.6666666666666666,
             "#ed7953"
            ],
            [
             0.7777777777777778,
             "#fb9f3a"
            ],
            [
             0.8888888888888888,
             "#fdca26"
            ],
            [
             1,
             "#f0f921"
            ]
           ],
           "sequentialminus": [
            [
             0,
             "#0d0887"
            ],
            [
             0.1111111111111111,
             "#46039f"
            ],
            [
             0.2222222222222222,
             "#7201a8"
            ],
            [
             0.3333333333333333,
             "#9c179e"
            ],
            [
             0.4444444444444444,
             "#bd3786"
            ],
            [
             0.5555555555555556,
             "#d8576b"
            ],
            [
             0.6666666666666666,
             "#ed7953"
            ],
            [
             0.7777777777777778,
             "#fb9f3a"
            ],
            [
             0.8888888888888888,
             "#fdca26"
            ],
            [
             1,
             "#f0f921"
            ]
           ]
          },
          "colorway": [
           "#636efa",
           "#EF553B",
           "#00cc96",
           "#ab63fa",
           "#FFA15A",
           "#19d3f3",
           "#FF6692",
           "#B6E880",
           "#FF97FF",
           "#FECB52"
          ],
          "font": {
           "color": "#2a3f5f"
          },
          "geo": {
           "bgcolor": "white",
           "lakecolor": "white",
           "landcolor": "#E5ECF6",
           "showlakes": true,
           "showland": true,
           "subunitcolor": "white"
          },
          "hoverlabel": {
           "align": "left"
          },
          "hovermode": "closest",
          "mapbox": {
           "style": "light"
          },
          "paper_bgcolor": "white",
          "plot_bgcolor": "#E5ECF6",
          "polar": {
           "angularaxis": {
            "gridcolor": "white",
            "linecolor": "white",
            "ticks": ""
           },
           "bgcolor": "#E5ECF6",
           "radialaxis": {
            "gridcolor": "white",
            "linecolor": "white",
            "ticks": ""
           }
          },
          "scene": {
           "xaxis": {
            "backgroundcolor": "#E5ECF6",
            "gridcolor": "white",
            "gridwidth": 2,
            "linecolor": "white",
            "showbackground": true,
            "ticks": "",
            "zerolinecolor": "white"
           },
           "yaxis": {
            "backgroundcolor": "#E5ECF6",
            "gridcolor": "white",
            "gridwidth": 2,
            "linecolor": "white",
            "showbackground": true,
            "ticks": "",
            "zerolinecolor": "white"
           },
           "zaxis": {
            "backgroundcolor": "#E5ECF6",
            "gridcolor": "white",
            "gridwidth": 2,
            "linecolor": "white",
            "showbackground": true,
            "ticks": "",
            "zerolinecolor": "white"
           }
          },
          "shapedefaults": {
           "line": {
            "color": "#2a3f5f"
           }
          },
          "ternary": {
           "aaxis": {
            "gridcolor": "white",
            "linecolor": "white",
            "ticks": ""
           },
           "baxis": {
            "gridcolor": "white",
            "linecolor": "white",
            "ticks": ""
           },
           "bgcolor": "#E5ECF6",
           "caxis": {
            "gridcolor": "white",
            "linecolor": "white",
            "ticks": ""
           }
          },
          "title": {
           "x": 0.05
          },
          "xaxis": {
           "automargin": true,
           "gridcolor": "white",
           "linecolor": "white",
           "ticks": "",
           "title": {
            "standoff": 15
           },
           "zerolinecolor": "white",
           "zerolinewidth": 2
          },
          "yaxis": {
           "automargin": true,
           "gridcolor": "white",
           "linecolor": "white",
           "ticks": "",
           "title": {
            "standoff": 15
           },
           "zerolinecolor": "white",
           "zerolinewidth": 2
          }
         }
        },
        "title": {
         "text": "Evolución de los valores de intercambio por Andorra"
        },
        "xaxis": {
         "anchor": "y",
         "domain": [
          0,
          1
         ],
         "title": {
          "text": "Fecha actualización"
         }
        },
        "yaxis": {
         "anchor": "x",
         "domain": [
          0,
          1
         ],
         "title": {
          "text": "Valores"
         }
        }
       }
      }
     },
     "metadata": {},
     "output_type": "display_data"
    }
   ],
   "source": [
    "fig = px.line(df_intercambio[df_intercambio['nombre'] == 'Andorra'], \n",
    "              x='Fecha actualización', y='Valores', color='tipo de intercambio',\n",
    "              line_group='tipo de intercambio',\n",
    "              title='Evolución de los valores de intercambio por Andorra',\n",
    "              markers=True,  \n",
    "              line_dash='tipo de intercambio')  \n",
    "\n",
    "fig.show()\n"
   ]
  }
 ],
 "metadata": {
  "kernelspec": {
   "display_name": "Python 3",
   "language": "python",
   "name": "python3"
  },
  "language_info": {
   "codemirror_mode": {
    "name": "ipython",
    "version": 3
   },
   "file_extension": ".py",
   "mimetype": "text/x-python",
   "name": "python",
   "nbconvert_exporter": "python",
   "pygments_lexer": "ipython3",
   "version": "3.12.2"
  }
 },
 "nbformat": 4,
 "nbformat_minor": 2
}
