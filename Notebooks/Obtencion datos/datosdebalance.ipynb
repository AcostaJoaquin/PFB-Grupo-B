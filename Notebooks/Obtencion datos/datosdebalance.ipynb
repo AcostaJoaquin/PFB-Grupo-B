{
 "cells": [
  {
   "cell_type": "code",
   "execution_count": 26,
   "metadata": {},
   "outputs": [],
   "source": [
    "import pandas as pd\n",
    "import numpy as np\n",
    "\n",
    "import requests\n",
    "\n",
    "from datetime import datetime, timedelta\n",
    "from pprint import pprint\n",
    "\n",
    "import plotly.express as px\n",
    "import plotly.colors as pc"
   ]
  },
  {
   "cell_type": "markdown",
   "metadata": {},
   "source": [
    "### EJEMPLO\n"
   ]
  },
  {
   "cell_type": "code",
   "execution_count": 27,
   "metadata": {},
   "outputs": [],
   "source": [
    "lang    =  \"es\"\n",
    "category = \"balance\"\n",
    "widget   = \"balance-electrico\"\n",
    "query   = \"start_date=2018-01-01T00:00&end_date=2018-12-31T23:59&time_trunc=year\"\n"
   ]
  },
  {
   "cell_type": "code",
   "execution_count": 28,
   "metadata": {},
   "outputs": [],
   "source": [
    "headers = {\n",
    "    'Accept': 'application/json',\n",
    "    'Content-Type': 'application/json',\n",
    "    'Host' : 'apidatos.ree.es'\n",
    "}"
   ]
  },
  {
   "cell_type": "code",
   "execution_count": 29,
   "metadata": {},
   "outputs": [
    {
     "name": "stdout",
     "output_type": "stream",
     "text": [
      "{'data': {'attributes': {'description': 'Balance eléctrico: asignación de '\n",
      "                                        'unidades de producción según '\n",
      "                                        'combustible principal. La producción '\n",
      "                                        'neta de las instalaciones no '\n",
      "                                        'renovables e hidráulicas UGH tiene '\n",
      "                                        'descontados los consumos propios de '\n",
      "                                        'las instalaciones. En dichos tipos de '\n",
      "                                        'producción una generación negativa '\n",
      "                                        'indica que la electricidad horaria '\n",
      "                                        'consumida para los usos de las '\n",
      "                                        'plantas excede la producción horaria '\n",
      "                                        'de las instalaciones.',\n",
      "                         'last-update': '2019-06-12T17:40:40.000+02:00',\n",
      "                         'title': 'Balance de energía eléctrica'},\n",
      "          'id': 'bal1',\n",
      "          'meta': {'cache-control': {'cache': 'HIT',\n",
      "                                     'expireAt': '2024-11-10T10:30:20'}},\n",
      "          'type': 'Balance de energía eléctrica'},\n",
      " 'included': [{'attributes': {'content': [{'attributes': {'color': '#0090d1',\n",
      "                                                          'composite': False,\n",
      "                                                          'description': '10288',\n",
      "                                                          'last-update': '2019-06-12T17:40:36.000+02:00',\n",
      "                                                          'magnitude': None,\n",
      "                                                          'title': 'Hidráulica',\n",
      "                                                          'total': 34117241.3490001,\n",
      "                                                          'type': 'distinct',\n",
      "                                                          'values': [{'datetime': '2018-01-01T00:00:00.000+01:00',\n",
      "                                                                      'percentage': 0.3400014308379199,\n",
      "                                                                      'value': 34117241.3490001}]},\n",
      "                                           'groupId': 'Renovable',\n",
      "                                           'id': '10288',\n",
      "                                           'type': 'Hidráulica'},\n",
      "                                          {'attributes': {'color': '#6fb114',\n",
      "                                                          'composite': False,\n",
      "                                                          'description': '10291',\n",
      "                                                          'last-update': '2019-04-16T08:16:55.000+02:00',\n",
      "                                                          'magnitude': None,\n",
      "                                                          'title': 'Eólica',\n",
      "                                                          'total': 49581488.8660001,\n",
      "                                                          'type': 'distinct',\n",
      "                                                          'values': [{'datetime': '2018-01-01T00:00:00.000+01:00',\n",
      "                                                                      'percentage': 0.49411313725716854,\n",
      "                                                                      'value': 49581488.8660001}]},\n",
      "                                           'groupId': 'Renovable',\n",
      "                                           'id': '10291',\n",
      "                                           'type': 'Eólica'},\n",
      "                                          {'attributes': {'color': '#e48500',\n",
      "                                                          'composite': False,\n",
      "                                                          'description': '1458',\n",
      "                                                          'last-update': '2019-11-11T09:25:06.000+01:00',\n",
      "                                                          'magnitude': None,\n",
      "                                                          'title': 'Solar '\n",
      "                                                                   'fotovoltaica',\n",
      "                                                          'total': 7766178.425,\n",
      "                                                          'type': 'distinct',\n",
      "                                                          'values': [{'datetime': '2018-01-01T00:00:00.000+01:00',\n",
      "                                                                      'percentage': 0.07739523103968578,\n",
      "                                                                      'value': 7766178.425}]},\n",
      "                                           'groupId': 'Renovable',\n",
      "                                           'id': '1458',\n",
      "                                           'type': 'Solar fotovoltaica'},\n",
      "                                          {'attributes': {'color': '#ff0000',\n",
      "                                                          'composite': False,\n",
      "                                                          'description': '1459',\n",
      "                                                          'last-update': '2019-04-16T08:16:57.000+02:00',\n",
      "                                                          'magnitude': None,\n",
      "                                                          'title': 'Solar '\n",
      "                                                                   'térmica',\n",
      "                                                          'total': 4424326.674,\n",
      "                                                          'type': 'distinct',\n",
      "                                                          'values': [{'datetime': '2018-01-01T00:00:00.000+01:00',\n",
      "                                                                      'percentage': 0.04409141361303124,\n",
      "                                                                      'value': 4424326.674}]},\n",
      "                                           'groupId': 'Renovable',\n",
      "                                           'id': '1459',\n",
      "                                           'type': 'Solar térmica'},\n",
      "                                          {'attributes': {'color': '#00FFFF',\n",
      "                                                          'composite': False,\n",
      "                                                          'description': '1455',\n",
      "                                                          'last-update': '2019-04-16T08:16:55.000+02:00',\n",
      "                                                          'magnitude': None,\n",
      "                                                          'title': 'Hidroeólica',\n",
      "                                                          'total': 23655.544,\n",
      "                                                          'type': 'distinct',\n",
      "                                                          'values': [{'datetime': '2018-01-01T00:00:00.000+01:00',\n",
      "                                                                      'percentage': 0.0002357435270036888,\n",
      "                                                                      'value': 23655.544}]},\n",
      "                                           'groupId': 'Renovable',\n",
      "                                           'id': '1455',\n",
      "                                           'type': 'Hidroeólica'},\n",
      "                                          {'attributes': {'color': '#9a5cbc',\n",
      "                                                          'composite': False,\n",
      "                                                          'description': '10292',\n",
      "                                                          'last-update': '2019-04-16T08:16:57.000+02:00',\n",
      "                                                          'magnitude': None,\n",
      "                                                          'title': 'Otras '\n",
      "                                                                   'renovables',\n",
      "                                                          'total': 3557439.11,\n",
      "                                                          'type': 'distinct',\n",
      "                                                          'values': [{'datetime': '2018-01-01T00:00:00.000+01:00',\n",
      "                                                                      'percentage': 0.03545229155974022,\n",
      "                                                                      'value': 3557439.11}]},\n",
      "                                           'groupId': 'Renovable',\n",
      "                                           'id': '10292',\n",
      "                                           'type': 'Otras renovables'},\n",
      "                                          {'attributes': {'color': '#a0a0a0',\n",
      "                                                          'composite': False,\n",
      "                                                          'description': '10295',\n",
      "                                                          'last-update': '2019-04-16T08:16:58.000+02:00',\n",
      "                                                          'magnitude': None,\n",
      "                                                          'title': 'Residuos '\n",
      "                                                                   'renovables',\n",
      "                                                          'total': 874075.245,\n",
      "                                                          'type': 'distinct',\n",
      "                                                          'values': [{'datetime': '2018-01-01T00:00:00.000+01:00',\n",
      "                                                                      'percentage': 0.00871075216545066,\n",
      "                                                                      'value': 874075.245}]},\n",
      "                                           'groupId': 'Renovable',\n",
      "                                           'id': '10295',\n",
      "                                           'type': 'Residuos renovables'},\n",
      "                                          {'attributes': {'color': '#666666',\n",
      "                                                          'composite': True,\n",
      "                                                          'description': None,\n",
      "                                                          'last-update': '2019-06-12T17:40:36.000+02:00',\n",
      "                                                          'magnitude': None,\n",
      "                                                          'title': 'Generación '\n",
      "                                                                   'renovable',\n",
      "                                                          'total': 100344405.2130002,\n",
      "                                                          'type': 'Generación '\n",
      "                                                                  'renovable',\n",
      "                                                          'values': [{'datetime': '2018-01-01T00:00:00.000+01:00',\n",
      "                                                                      'percentage': 1,\n",
      "                                                                      'value': 100344405.2130002}]},\n",
      "                                           'groupId': 'Renovable',\n",
      "                                           'id': 'Renovable',\n",
      "                                           'type': 'Generación renovable'}],\n",
      "                              'description': None,\n",
      "                              'last-update': '2019-06-12T17:40:36.000+02:00',\n",
      "                              'magnitude': None,\n",
      "                              'title': 'Renovable'},\n",
      "               'id': 'Renovable',\n",
      "               'type': 'Renovable'},\n",
      "              {'attributes': {'content': [{'attributes': {'color': '#007cf9',\n",
      "                                                          'composite': False,\n",
      "                                                          'description': '1445',\n",
      "                                                          'last-update': '2019-11-11T09:24:45.000+01:00',\n",
      "                                                          'magnitude': None,\n",
      "                                                          'title': 'Turbinación '\n",
      "                                                                   'bombeo',\n",
      "                                                          'total': 1993996.01,\n",
      "                                                          'type': 'distinct',\n",
      "                                                          'values': [{'datetime': '2018-01-01T00:00:00.000+01:00',\n",
      "                                                                      'percentage': 0.012413017193286132,\n",
      "                                                                      'value': 1993996.01}]},\n",
      "                                           'groupId': 'No-Renovable',\n",
      "                                           'id': '1445',\n",
      "                                           'type': 'Turbinación bombeo'},\n",
      "                                          {'attributes': {'color': '#464394',\n",
      "                                                          'composite': False,\n",
      "                                                          'description': '1446',\n",
      "                                                          'last-update': '2019-04-16T08:16:55.000+02:00',\n",
      "                                                          'magnitude': None,\n",
      "                                                          'title': 'Nuclear',\n",
      "                                                          'total': 53197617.43,\n",
      "                                                          'type': 'distinct',\n",
      "                                                          'values': [{'datetime': '2018-01-01T00:00:00.000+01:00',\n",
      "                                                                      'percentage': 0.33116562745802486,\n",
      "                                                                      'value': 53197617.43}]},\n",
      "                                           'groupId': 'No-Renovable',\n",
      "                                           'id': '1446',\n",
      "                                           'type': 'Nuclear'},\n",
      "                                          {'attributes': {'color': '#ffcc66',\n",
      "                                                          'composite': False,\n",
      "                                                          'description': '1454',\n",
      "                                                          'last-update': '2019-11-11T09:24:47.000+01:00',\n",
      "                                                          'magnitude': None,\n",
      "                                                          'title': 'Ciclo '\n",
      "                                                                   'combinado',\n",
      "                                                          'total': 30044467.195,\n",
      "                                                          'type': 'distinct',\n",
      "                                                          'values': [{'datetime': '2018-01-01T00:00:00.000+01:00',\n",
      "                                                                      'percentage': 0.18703271520320452,\n",
      "                                                                      'value': 30044467.195}]},\n",
      "                                           'groupId': 'No-Renovable',\n",
      "                                           'id': '1454',\n",
      "                                           'type': 'Ciclo combinado'},\n",
      "                                          {'attributes': {'color': '#993300',\n",
      "                                                          'composite': False,\n",
      "                                                          'description': '10289',\n",
      "                                                          'last-update': '2019-04-16T08:16:54.000+02:00',\n",
      "                                                          'magnitude': None,\n",
      "                                                          'title': 'Carbón',\n",
      "                                                          'total': 37276805.7160003,\n",
      "                                                          'type': 'distinct',\n",
      "                                                          'values': [{'datetime': '2018-01-01T00:00:00.000+01:00',\n",
      "                                                                      'percentage': 0.23205544441560771,\n",
      "                                                                      'value': 37276805.7160003}]},\n",
      "                                           'groupId': 'No-Renovable',\n",
      "                                           'id': '10289',\n",
      "                                           'type': 'Carbón'},\n",
      "                                          {'attributes': {'color': '#8DA69F',\n",
      "                                                          'composite': False,\n",
      "                                                          'description': '10344',\n",
      "                                                          'last-update': '2019-04-16T08:16:54.000+02:00',\n",
      "                                                          'magnitude': None,\n",
      "                                                          'title': 'Motores '\n",
      "                                                                   'diésel',\n",
      "                                                          'total': 3178179.141,\n",
      "                                                          'type': 'distinct',\n",
      "                                                          'values': [{'datetime': '2018-01-01T00:00:00.000+01:00',\n",
      "                                                                      'percentage': 0.01978479000094707,\n",
      "                                                                      'value': 3178179.141}]},\n",
      "                                           'groupId': 'No-Renovable',\n",
      "                                           'id': '10344',\n",
      "                                           'type': 'Motores diésel'},\n",
      "                                          {'attributes': {'color': '#00ccff',\n",
      "                                                          'composite': False,\n",
      "                                                          'description': '1450',\n",
      "                                                          'last-update': '2019-11-11T09:24:46.000+01:00',\n",
      "                                                          'magnitude': None,\n",
      "                                                          'title': 'Turbina de '\n",
      "                                                                   'gas',\n",
      "                                                          'total': 1049279.011,\n",
      "                                                          'type': 'distinct',\n",
      "                                                          'values': [{'datetime': '2018-01-01T00:00:00.000+01:00',\n",
      "                                                                      'percentage': 0.006531968137738283,\n",
      "                                                                      'value': 1049279.011}]},\n",
      "                                           'groupId': 'No-Renovable',\n",
      "                                           'id': '1450',\n",
      "                                           'type': 'Turbina de gas'},\n",
      "                                          {'attributes': {'color': '#AF8E00',\n",
      "                                                          'composite': False,\n",
      "                                                          'description': '1451',\n",
      "                                                          'last-update': '2019-07-08T10:37:27.000+02:00',\n",
      "                                                          'magnitude': None,\n",
      "                                                          'title': 'Turbina de '\n",
      "                                                                   'vapor',\n",
      "                                                          'total': 2455432.297,\n",
      "                                                          'type': 'distinct',\n",
      "                                                          'values': [{'datetime': '2018-01-01T00:00:00.000+01:00',\n",
      "                                                                      'percentage': 0.015285548800878021,\n",
      "                                                                      'value': 2455432.297}]},\n",
      "                                           'groupId': 'No-Renovable',\n",
      "                                           'id': '1451',\n",
      "                                           'type': 'Turbina de vapor'},\n",
      "                                          {'attributes': {'color': '#ba0f16',\n",
      "                                                          'composite': False,\n",
      "                                                          'description': '10290',\n",
      "                                                          'last-update': '2019-04-16T08:14:18.000+02:00',\n",
      "                                                          'magnitude': None,\n",
      "                                                          'title': 'Fuel + Gas',\n",
      "                                                          'total': -0.001,\n",
      "                                                          'type': 'distinct',\n",
      "                                                          'values': [{'datetime': '2018-01-01T00:00:00.000+01:00',\n",
      "                                                                      'percentage': 6.225196605727477e-12,\n",
      "                                                                      'value': -0.001}]},\n",
      "                                           'groupId': 'No-Renovable',\n",
      "                                           'id': '10290',\n",
      "                                           'type': 'Fuel + Gas'},\n",
      "                                          {'attributes': {'color': '#cfa2ca',\n",
      "                                                          'composite': False,\n",
      "                                                          'description': '10293',\n",
      "                                                          'last-update': '2019-04-16T08:16:58.000+02:00',\n",
      "                                                          'magnitude': None,\n",
      "                                                          'title': 'Cogeneración',\n",
      "                                                          'total': 29006757.2399999,\n",
      "                                                          'type': 'distinct',\n",
      "                                                          'values': [{'datetime': '2018-01-01T00:00:00.000+01:00',\n",
      "                                                                      'percentage': 0.1805727667136083,\n",
      "                                                                      'value': 29006757.2399999}]},\n",
      "                                           'groupId': 'No-Renovable',\n",
      "                                           'id': '10293',\n",
      "                                           'type': 'Cogeneración'},\n",
      "                                          {'attributes': {'color': '#666666',\n",
      "                                                          'composite': False,\n",
      "                                                          'description': '10294',\n",
      "                                                          'last-update': '2019-04-16T08:16:58.000+02:00',\n",
      "                                                          'magnitude': None,\n",
      "                                                          'title': 'Residuos '\n",
      "                                                                   'no '\n",
      "                                                                   'renovables',\n",
      "                                                          'total': 2434962.786,\n",
      "                                                          'type': 'distinct',\n",
      "                                                          'values': [{'datetime': '2018-01-01T00:00:00.000+01:00',\n",
      "                                                                      'percentage': 0.01515812207047992,\n",
      "                                                                      'value': 2434962.786}]},\n",
      "                                           'groupId': 'No-Renovable',\n",
      "                                           'id': '10294',\n",
      "                                           'type': 'Residuos no renovables'},\n",
      "                                          {'attributes': {'color': '#666666',\n",
      "                                                          'composite': True,\n",
      "                                                          'description': None,\n",
      "                                                          'last-update': '2019-11-11T09:24:45.000+01:00',\n",
      "                                                          'magnitude': None,\n",
      "                                                          'title': 'Generación '\n",
      "                                                                   'no '\n",
      "                                                                   'renovable',\n",
      "                                                          'total': 160637496.8250002,\n",
      "                                                          'type': 'Generación '\n",
      "                                                                  'no '\n",
      "                                                                  'renovable',\n",
      "                                                          'values': [{'datetime': '2018-01-01T00:00:00.000+01:00',\n",
      "                                                                      'percentage': 1,\n",
      "                                                                      'value': 160637496.8250002}]},\n",
      "                                           'groupId': 'No-Renovable',\n",
      "                                           'id': 'No-Renovable',\n",
      "                                           'type': 'Generación no renovable'}],\n",
      "                              'description': None,\n",
      "                              'last-update': '2019-11-11T09:24:45.000+01:00',\n",
      "                              'magnitude': None,\n",
      "                              'title': 'No-Renovable'},\n",
      "               'id': 'No-Renovable',\n",
      "               'type': 'No-Renovable'},\n",
      "              {'attributes': {'content': [{'attributes': {'color': '#4f81bd',\n",
      "                                                          'composite': False,\n",
      "                                                          'description': '1472',\n",
      "                                                          'last-update': '2019-07-08T10:37:33.000+02:00',\n",
      "                                                          'magnitude': None,\n",
      "                                                          'title': 'Consumos '\n",
      "                                                                   'en bombeo',\n",
      "                                                          'total': -3198432.376,\n",
      "                                                          'type': None,\n",
      "                                                          'values': [{'datetime': '2018-01-01T00:00:00.000+01:00',\n",
      "                                                                      'percentage': 0.011618721439898694,\n",
      "                                                                      'value': -3198432.376}]},\n",
      "                                           'groupId': 'Demanda en b.c.',\n",
      "                                           'id': '1472',\n",
      "                                           'type': 'Consumos en bombeo'},\n",
      "                                          {'attributes': {'color': '#00608a',\n",
      "                                                          'composite': False,\n",
      "                                                          'description': '1474',\n",
      "                                                          'last-update': '2019-04-16T08:16:59.000+02:00',\n",
      "                                                          'magnitude': None,\n",
      "                                                          'title': 'Saldo I. '\n",
      "                                                                   'internacionales',\n",
      "                                                          'total': 11102311.146,\n",
      "                                                          'type': None,\n",
      "                                                          'values': [{'datetime': '2018-01-01T00:00:00.000+01:00',\n",
      "                                                                      'percentage': 0.04033058866974664,\n",
      "                                                                      'value': 11102311.146}]},\n",
      "                                           'groupId': 'Demanda en b.c.',\n",
      "                                           'id': '1474',\n",
      "                                           'type': 'Saldo I. internacionales'},\n",
      "                                          {'attributes': {'color': '#666666',\n",
      "                                                          'composite': True,\n",
      "                                                          'description': 'Demanda '\n",
      "                                                                         'corregida: '\n",
      "                                                                         'corregidos '\n",
      "                                                                         'los '\n",
      "                                                                         'efectos '\n",
      "                                                                         'de '\n",
      "                                                                         'temperatura '\n",
      "                                                                         'y '\n",
      "                                                                         'laboralidad.',\n",
      "                                                          'last-update': '2019-07-08T10:37:33.000+02:00',\n",
      "                                                          'magnitude': None,\n",
      "                                                          'title': 'Demanda en '\n",
      "                                                                   'b.c.',\n",
      "                                                          'total': 268885780.8079996,\n",
      "                                                          'type': 'Demanda en '\n",
      "                                                                  'b.c.',\n",
      "                                                          'values': [{'datetime': '2018-01-01T00:00:00.000+01:00',\n",
      "                                                                      'percentage': 1,\n",
      "                                                                      'value': 268885780.8079996}]},\n",
      "                                           'groupId': 'Demanda en b.c.',\n",
      "                                           'id': 'Demanda en b.c.',\n",
      "                                           'type': 'Demanda en b.c.'}],\n",
      "                              'description': 'Demanda corregida: corregidos '\n",
      "                                             'los efectos de temperatura y '\n",
      "                                             'laboralidad.',\n",
      "                              'last-update': '2019-07-08T10:37:33.000+02:00',\n",
      "                              'magnitude': None,\n",
      "                              'title': 'Demanda'},\n",
      "               'id': 'Demanda en b.c.',\n",
      "               'type': 'Demanda'}]}\n"
     ]
    }
   ],
   "source": [
    "endpoint = f\"https://apidatos.ree.es/{lang}/datos/{category}/{widget}?{query}\"\n",
    "response = requests.get(url = endpoint, headers = headers)\n",
    "data = response.json()\n",
    "pprint(data)"
   ]
  },
  {
   "cell_type": "markdown",
   "metadata": {},
   "source": [
    "# OBTENCIÓN DE DATOS DE BALANCE\n",
    "\n",
    "\n"
   ]
  },
  {
   "cell_type": "code",
   "execution_count": 30,
   "metadata": {},
   "outputs": [],
   "source": [
    "lang    =  input('¿En español (es) o en inglés (en)?') \n",
    "\n",
    "restaDia = float(input(\"¿Cuantos días atrás?: ______________\"))\n",
    "input_año = int(input(\"¿Qué año?: ______________\"))"
   ]
  },
  {
   "cell_type": "code",
   "execution_count": 31,
   "metadata": {},
   "outputs": [],
   "source": [
    "headers = {\n",
    "    'Accept': 'application/json',\n",
    "    'Content-Type': 'application/json',\n",
    "    'Host' : 'apidatos.ree.es'\n",
    "}"
   ]
  },
  {
   "cell_type": "code",
   "execution_count": 32,
   "metadata": {},
   "outputs": [
    {
     "data": {
      "text/plain": [
       "array(['Renovable', 'No-Renovable', 'Demanda en b.c.'], dtype=object)"
      ]
     },
     "execution_count": 32,
     "metadata": {},
     "output_type": "execute_result"
    }
   ],
   "source": [
    "def balance_datos(lang, category, widget):\n",
    "\n",
    "    now = datetime.now()\n",
    "    ultima_fecha = (now - timedelta(days = restaDia)).replace(year = input_año).strftime('%Y-%m-%d')\n",
    "\n",
    "\n",
    "    hoy = now.replace(year = input_año).strftime('%Y-%m-%d')\n",
    "\n",
    "    query = f\"start_date={ultima_fecha}T00:00&end_date={hoy}T23:59&time_trunc=day\"\n",
    "\n",
    "\n",
    "\n",
    "    endpoint = f\"https://apidatos.ree.es/{lang}/datos/balance/balance-electrico?{query}\"\n",
    "    response = requests.get(url = endpoint, headers = headers)\n",
    "    data = response.json()\n",
    "\n",
    "\n",
    "\n",
    "    lista_nombres = list()\n",
    "    lista_tipos = list()\n",
    "    lista_valores = list()\n",
    "    lista_porcentajes = list()\n",
    "    lista_fechas = list()\n",
    "    lista_dias = list()\n",
    "    lista_meses = list()\n",
    "    lista_años = list()\n",
    "\n",
    "\n",
    "    for dato in data['included']: \n",
    "        for info in dato['attributes']['content']:\n",
    "            nombre = info['type']\n",
    "\n",
    "            tipo = info['groupId']\n",
    "\n",
    "\n",
    "            for i in info['attributes']['values']:\n",
    "                valor = i['value']\n",
    "\n",
    "                porcentaje = i['percentage']\n",
    "\n",
    "                fecha = i['datetime']\n",
    "                fecha = pd.to_datetime(fecha)\n",
    "                dia = fecha.strftime('%d')\n",
    "                mes = fecha.strftime('%m')\n",
    "                año = fecha.strftime('%Y')\n",
    "\n",
    "                fecha = fecha.strftime(\"%d/%m/%Y\")\n",
    "\n",
    "        \n",
    "            \n",
    "            \n",
    "                lista_nombres.append(nombre)\n",
    "                lista_tipos.append(tipo)\n",
    "                lista_valores.append(valor)\n",
    "                lista_porcentajes.append(porcentaje)\n",
    "                lista_fechas.append(fecha)\n",
    "                lista_dias.append(dia)\n",
    "                lista_meses.append(mes)\n",
    "                lista_años.append(año)\n",
    "\n",
    "    df_balance = pd.DataFrame()\n",
    "    df_balance['nombre']               = lista_nombres\n",
    "    df_balance['tipo de energía']      = lista_tipos\n",
    "    df_balance['Valores']              = lista_valores\n",
    "    df_balance[\"Porcentaje\"]           = lista_porcentajes\n",
    "    df_balance[\"Fecha actualización\"]  = lista_fechas\n",
    "               \n",
    "\n",
    "\n",
    "\n",
    "\n",
    "    return df_balance\n",
    "\n",
    "df_balance  = balance_datos(lang, category, widget)\n",
    "\n",
    "df_balance['tipo de energía'].unique()\n"
   ]
  },
  {
   "cell_type": "code",
   "execution_count": 33,
   "metadata": {},
   "outputs": [],
   "source": [
    "df_balance.to_csv('balance_electrico.csv')"
   ]
  },
  {
   "cell_type": "code",
   "execution_count": 34,
   "metadata": {},
   "outputs": [],
   "source": [
    "colores_personalizados = px.colors.qualitative.Plotly + px.colors.qualitative.Pastel + px.colors.qualitative.Set1\n",
    "colores_personalizados = colores_personalizados[:30]"
   ]
  },
  {
   "cell_type": "code",
   "execution_count": 52,
   "metadata": {},
   "outputs": [
    {
     "name": "stderr",
     "output_type": "stream",
     "text": [
      "/opt/anaconda3/lib/python3.11/site-packages/plotly/express/_core.py:1979: FutureWarning:\n",
      "\n",
      "When grouping with a length-1 list-like, you will need to pass a length-1 tuple to get_group in a future version of pandas. Pass `(name,)` instead of `name` to silence this warning.\n",
      "\n"
     ]
    },
    {
     "data": {
      "application/vnd.plotly.v1+json": {
       "config": {
        "plotlyServerURL": "https://plot.ly"
       },
       "data": [
        {
         "hovertemplate": "nombre=Hidráulica<br>Fecha actualización=%{x}<br>Valores=%{y}<extra></extra>",
         "legendgroup": "Hidráulica",
         "line": {
          "color": "#636EFA",
          "dash": "solid"
         },
         "marker": {
          "symbol": "circle"
         },
         "mode": "lines",
         "name": "Hidráulica",
         "orientation": "v",
         "showlegend": true,
         "type": "scatter",
         "x": [
          "11/09/2023",
          "12/09/2023",
          "13/09/2023",
          "14/09/2023",
          "15/09/2023",
          "16/09/2023",
          "17/09/2023",
          "18/09/2023",
          "19/09/2023",
          "20/09/2023",
          "21/09/2023",
          "22/09/2023",
          "23/09/2023",
          "24/09/2023",
          "25/09/2023",
          "26/09/2023",
          "27/09/2023",
          "28/09/2023",
          "29/09/2023",
          "30/09/2023",
          "01/10/2023",
          "02/10/2023",
          "03/10/2023",
          "04/10/2023",
          "05/10/2023",
          "06/10/2023",
          "07/10/2023",
          "08/10/2023",
          "09/10/2023",
          "10/10/2023",
          "11/10/2023"
         ],
         "xaxis": "x",
         "y": [
          34410.083,
          36184.276,
          27251.012,
          24805.877,
          31052.893,
          24153.141,
          15558.041,
          31779.909,
          33073.974,
          29080.481,
          20213.244,
          31118.702,
          24335.723,
          23312.579,
          38970.565,
          40808.219,
          44279.829,
          41709.912,
          43508.807,
          27451.729,
          23512.598,
          25842.727,
          27088.352,
          27620.756,
          38745.423,
          41528.037,
          24530.895,
          22871.902,
          41941.542,
          43709.116,
          46674.527
         ],
         "yaxis": "y"
        },
        {
         "hovertemplate": "nombre=Eólica<br>Fecha actualización=%{x}<br>Valores=%{y}<extra></extra>",
         "legendgroup": "Eólica",
         "line": {
          "color": "#EF553B",
          "dash": "solid"
         },
         "marker": {
          "symbol": "circle"
         },
         "mode": "lines",
         "name": "Eólica",
         "orientation": "v",
         "showlegend": true,
         "type": "scatter",
         "x": [
          "11/09/2023",
          "12/09/2023",
          "13/09/2023",
          "14/09/2023",
          "15/09/2023",
          "16/09/2023",
          "17/09/2023",
          "18/09/2023",
          "19/09/2023",
          "20/09/2023",
          "21/09/2023",
          "22/09/2023",
          "23/09/2023",
          "24/09/2023",
          "25/09/2023",
          "26/09/2023",
          "27/09/2023",
          "28/09/2023",
          "29/09/2023",
          "30/09/2023",
          "01/10/2023",
          "02/10/2023",
          "03/10/2023",
          "04/10/2023",
          "05/10/2023",
          "06/10/2023",
          "07/10/2023",
          "08/10/2023",
          "09/10/2023",
          "10/10/2023",
          "11/10/2023"
         ],
         "xaxis": "x",
         "y": [
          54172.392,
          60510.578,
          121145.44,
          114384.247,
          102730.916,
          123185.593,
          209534.384,
          127090.677,
          61873.719,
          154352.114,
          300443.625,
          191728.164,
          62212.405,
          80956.323,
          59481.707,
          66702.778,
          119078.548,
          93717.424,
          48743.75,
          71790.755,
          67340.717,
          123178.884,
          123386.311,
          104358.274,
          50450.433,
          64416.642,
          75517.746,
          59586.819,
          53814.25,
          40364.161,
          46525.945
         ],
         "yaxis": "y"
        },
        {
         "hovertemplate": "nombre=Solar fotovoltaica<br>Fecha actualización=%{x}<br>Valores=%{y}<extra></extra>",
         "legendgroup": "Solar fotovoltaica",
         "line": {
          "color": "#00CC96",
          "dash": "solid"
         },
         "marker": {
          "symbol": "circle"
         },
         "mode": "lines",
         "name": "Solar fotovoltaica",
         "orientation": "v",
         "showlegend": true,
         "type": "scatter",
         "x": [
          "11/09/2023",
          "12/09/2023",
          "13/09/2023",
          "14/09/2023",
          "15/09/2023",
          "16/09/2023",
          "17/09/2023",
          "18/09/2023",
          "19/09/2023",
          "20/09/2023",
          "21/09/2023",
          "22/09/2023",
          "23/09/2023",
          "24/09/2023",
          "25/09/2023",
          "26/09/2023",
          "27/09/2023",
          "28/09/2023",
          "29/09/2023",
          "30/09/2023",
          "01/10/2023",
          "02/10/2023",
          "03/10/2023",
          "04/10/2023",
          "05/10/2023",
          "06/10/2023",
          "07/10/2023",
          "08/10/2023",
          "09/10/2023",
          "10/10/2023",
          "11/10/2023"
         ],
         "xaxis": "x",
         "y": [
          118190.342,
          118167.259,
          127037.077,
          112494.024,
          83969.818,
          73569.331,
          82520.277,
          97003.07,
          115090.681,
          136933.965,
          79274.995,
          132980.176,
          131582.923,
          124631.015,
          133621.346,
          127279.529,
          124437.232,
          130418.849,
          128452.095,
          126417.895,
          130719.556,
          126647.71,
          120708.613,
          121833.444,
          121536.59,
          120719.663,
          118468.114,
          121475.905,
          115051.014,
          118841.884,
          123595.804
         ],
         "yaxis": "y"
        },
        {
         "hovertemplate": "nombre=Solar térmica<br>Fecha actualización=%{x}<br>Valores=%{y}<extra></extra>",
         "legendgroup": "Solar térmica",
         "line": {
          "color": "#AB63FA",
          "dash": "solid"
         },
         "marker": {
          "symbol": "circle"
         },
         "mode": "lines",
         "name": "Solar térmica",
         "orientation": "v",
         "showlegend": true,
         "type": "scatter",
         "x": [
          "11/09/2023",
          "12/09/2023",
          "13/09/2023",
          "14/09/2023",
          "15/09/2023",
          "16/09/2023",
          "17/09/2023",
          "18/09/2023",
          "19/09/2023",
          "20/09/2023",
          "21/09/2023",
          "22/09/2023",
          "23/09/2023",
          "24/09/2023",
          "25/09/2023",
          "26/09/2023",
          "27/09/2023",
          "28/09/2023",
          "29/09/2023",
          "30/09/2023",
          "01/10/2023",
          "02/10/2023",
          "03/10/2023",
          "04/10/2023",
          "05/10/2023",
          "06/10/2023",
          "07/10/2023",
          "08/10/2023",
          "09/10/2023",
          "10/10/2023",
          "11/10/2023"
         ],
         "xaxis": "x",
         "y": [
          14417.226,
          18173.901,
          19163.019,
          14430.12,
          6282.017,
          1329.429,
          2883.921,
          4758.746,
          16799.109,
          20321.971,
          5231.198,
          12841.32,
          19952.207,
          22556.123,
          20529.101,
          21103.343,
          19451.213,
          18621.448,
          19664.765,
          19700.118,
          21472.534,
          18326.516,
          16070.137,
          13369.877,
          15051.556,
          12174.059,
          10156.522,
          15608.325,
          14944.868,
          15093.094,
          16531.887
         ],
         "yaxis": "y"
        },
        {
         "hovertemplate": "nombre=Hidroeólica<br>Fecha actualización=%{x}<br>Valores=%{y}<extra></extra>",
         "legendgroup": "Hidroeólica",
         "line": {
          "color": "#FFA15A",
          "dash": "solid"
         },
         "marker": {
          "symbol": "circle"
         },
         "mode": "lines",
         "name": "Hidroeólica",
         "orientation": "v",
         "showlegend": true,
         "type": "scatter",
         "x": [
          "11/09/2023",
          "12/09/2023",
          "13/09/2023",
          "14/09/2023",
          "15/09/2023",
          "16/09/2023",
          "17/09/2023",
          "18/09/2023",
          "19/09/2023",
          "20/09/2023",
          "21/09/2023",
          "22/09/2023",
          "23/09/2023",
          "24/09/2023",
          "25/09/2023",
          "26/09/2023",
          "27/09/2023",
          "28/09/2023",
          "29/09/2023",
          "30/09/2023",
          "01/10/2023",
          "02/10/2023",
          "03/10/2023",
          "04/10/2023",
          "05/10/2023",
          "06/10/2023",
          "07/10/2023",
          "08/10/2023",
          "09/10/2023",
          "10/10/2023",
          "11/10/2023"
         ],
         "xaxis": "x",
         "y": [
          28.649,
          37.994,
          49.623,
          75.188,
          71.507,
          24.817,
          71.798,
          82.063,
          97.676,
          42.124,
          43.431,
          49.377,
          50.166,
          40.149,
          54.191,
          69.267,
          93.93,
          95.334,
          28.09,
          -2.192,
          -0.077,
          2.047,
          21.267,
          26.192,
          2.947,
          3.604,
          4.891,
          13.57,
          10.616,
          6.117,
          14.357
         ],
         "yaxis": "y"
        },
        {
         "hovertemplate": "nombre=Otras renovables<br>Fecha actualización=%{x}<br>Valores=%{y}<extra></extra>",
         "legendgroup": "Otras renovables",
         "line": {
          "color": "#19D3F3",
          "dash": "solid"
         },
         "marker": {
          "symbol": "circle"
         },
         "mode": "lines",
         "name": "Otras renovables",
         "orientation": "v",
         "showlegend": true,
         "type": "scatter",
         "x": [
          "11/09/2023",
          "12/09/2023",
          "13/09/2023",
          "14/09/2023",
          "15/09/2023",
          "16/09/2023",
          "17/09/2023",
          "18/09/2023",
          "19/09/2023",
          "20/09/2023",
          "21/09/2023",
          "22/09/2023",
          "23/09/2023",
          "24/09/2023",
          "25/09/2023",
          "26/09/2023",
          "27/09/2023",
          "28/09/2023",
          "29/09/2023",
          "30/09/2023",
          "01/10/2023",
          "02/10/2023",
          "03/10/2023",
          "04/10/2023",
          "05/10/2023",
          "06/10/2023",
          "07/10/2023",
          "08/10/2023",
          "09/10/2023",
          "10/10/2023",
          "11/10/2023"
         ],
         "xaxis": "x",
         "y": [
          10110.756,
          10865.463,
          10824.656,
          10622.483,
          10810.377,
          9479.58,
          7427.447,
          7905.733,
          8720.434,
          8346.948,
          8637.511,
          8869.273,
          8997.682,
          7588.529,
          7919.28,
          7809.369,
          7817.909,
          7734.386,
          7933.016,
          8141.04,
          7084.88,
          7468.318,
          9853.567,
          10251.645,
          10114.513,
          10828.954,
          10404.026,
          9847.209,
          10101.857,
          10455.201,
          10918.157
         ],
         "yaxis": "y"
        },
        {
         "hovertemplate": "nombre=Residuos renovables<br>Fecha actualización=%{x}<br>Valores=%{y}<extra></extra>",
         "legendgroup": "Residuos renovables",
         "line": {
          "color": "#FF6692",
          "dash": "solid"
         },
         "marker": {
          "symbol": "circle"
         },
         "mode": "lines",
         "name": "Residuos renovables",
         "orientation": "v",
         "showlegend": true,
         "type": "scatter",
         "x": [
          "11/09/2023",
          "12/09/2023",
          "13/09/2023",
          "14/09/2023",
          "15/09/2023",
          "16/09/2023",
          "17/09/2023",
          "18/09/2023",
          "19/09/2023",
          "20/09/2023",
          "21/09/2023",
          "22/09/2023",
          "23/09/2023",
          "24/09/2023",
          "25/09/2023",
          "26/09/2023",
          "27/09/2023",
          "28/09/2023",
          "29/09/2023",
          "30/09/2023",
          "01/10/2023",
          "02/10/2023",
          "03/10/2023",
          "04/10/2023",
          "05/10/2023",
          "06/10/2023",
          "07/10/2023",
          "08/10/2023",
          "09/10/2023",
          "10/10/2023",
          "11/10/2023"
         ],
         "xaxis": "x",
         "y": [
          2421.2415,
          2066.7095,
          1570.63,
          2298.9115,
          2406.3415,
          2384.065,
          2473.136,
          2605.383,
          2620.964,
          2560.2315,
          2416.424,
          2390.6595,
          2478.807,
          2549.512,
          2650.328,
          2538.8175,
          2655.089,
          2660.421,
          2616.346,
          2606.464,
          2674.2125,
          2715.025,
          2691.2915,
          2713.163,
          2732.902,
          2738.779,
          2595.3435,
          2419.7675,
          2437.8145,
          2494.276,
          2612.149
         ],
         "yaxis": "y"
        },
        {
         "hovertemplate": "nombre=Generación renovable<br>Fecha actualización=%{x}<br>Valores=%{y}<extra></extra>",
         "legendgroup": "Generación renovable",
         "line": {
          "color": "#B6E880",
          "dash": "solid"
         },
         "marker": {
          "symbol": "circle"
         },
         "mode": "lines",
         "name": "Generación renovable",
         "orientation": "v",
         "showlegend": true,
         "type": "scatter",
         "x": [
          "11/09/2023",
          "12/09/2023",
          "13/09/2023",
          "14/09/2023",
          "15/09/2023",
          "16/09/2023",
          "17/09/2023",
          "18/09/2023",
          "19/09/2023",
          "20/09/2023",
          "21/09/2023",
          "22/09/2023",
          "23/09/2023",
          "24/09/2023",
          "25/09/2023",
          "26/09/2023",
          "27/09/2023",
          "28/09/2023",
          "29/09/2023",
          "30/09/2023",
          "01/10/2023",
          "02/10/2023",
          "03/10/2023",
          "04/10/2023",
          "05/10/2023",
          "06/10/2023",
          "07/10/2023",
          "08/10/2023",
          "09/10/2023",
          "10/10/2023",
          "11/10/2023"
         ],
         "xaxis": "x",
         "y": [
          233750.6895,
          246006.18050000002,
          307041.457,
          279110.85050000006,
          237323.86950000003,
          234125.956,
          320469.00399999996,
          271225.581,
          238276.55700000003,
          351637.8345,
          416260.42799999996,
          379977.6715,
          249609.913,
          261634.23,
          263226.518,
          266311.3225,
          317813.74999999994,
          294957.7739999999,
          250946.869,
          256105.809,
          252804.42049999998,
          304181.2270000001,
          299819.53849999997,
          280173.35099999997,
          238634.364,
          252409.738,
          241677.5375,
          231823.4975,
          238301.96149999998,
          230963.84900000005,
          246872.826
         ],
         "yaxis": "y"
        },
        {
         "hovertemplate": "nombre=Turbinación bombeo<br>Fecha actualización=%{x}<br>Valores=%{y}<extra></extra>",
         "legendgroup": "Turbinación bombeo",
         "line": {
          "color": "#FF97FF",
          "dash": "solid"
         },
         "marker": {
          "symbol": "circle"
         },
         "mode": "lines",
         "name": "Turbinación bombeo",
         "orientation": "v",
         "showlegend": true,
         "type": "scatter",
         "x": [
          "11/09/2023",
          "12/09/2023",
          "13/09/2023",
          "14/09/2023",
          "15/09/2023",
          "16/09/2023",
          "17/09/2023",
          "18/09/2023",
          "19/09/2023",
          "20/09/2023",
          "21/09/2023",
          "22/09/2023",
          "23/09/2023",
          "24/09/2023",
          "25/09/2023",
          "26/09/2023",
          "27/09/2023",
          "28/09/2023",
          "29/09/2023",
          "30/09/2023",
          "01/10/2023",
          "02/10/2023",
          "03/10/2023",
          "04/10/2023",
          "05/10/2023",
          "06/10/2023",
          "07/10/2023",
          "08/10/2023",
          "09/10/2023",
          "10/10/2023",
          "11/10/2023"
         ],
         "xaxis": "x",
         "y": [
          5242.136,
          4400.221,
          7140.595,
          8771.07,
          10597.651,
          10799.887,
          11025.302,
          15820.152,
          7985.467,
          12816.753,
          16807.971,
          17313.393,
          16396.046,
          14722.586,
          14649.407,
          10635.073,
          12962.414,
          11135.565,
          11965.273,
          16998.403,
          15326.548,
          13878.93,
          10751.625,
          13195.162,
          7382.646,
          10275.258,
          12323.618,
          13197.372,
          13078.548,
          10481.52,
          15061.23
         ],
         "yaxis": "y"
        },
        {
         "hovertemplate": "nombre=Nuclear<br>Fecha actualización=%{x}<br>Valores=%{y}<extra></extra>",
         "legendgroup": "Nuclear",
         "line": {
          "color": "#FECB52",
          "dash": "solid"
         },
         "marker": {
          "symbol": "circle"
         },
         "mode": "lines",
         "name": "Nuclear",
         "orientation": "v",
         "showlegend": true,
         "type": "scatter",
         "x": [
          "11/09/2023",
          "12/09/2023",
          "13/09/2023",
          "14/09/2023",
          "15/09/2023",
          "16/09/2023",
          "17/09/2023",
          "18/09/2023",
          "19/09/2023",
          "20/09/2023",
          "21/09/2023",
          "22/09/2023",
          "23/09/2023",
          "24/09/2023",
          "25/09/2023",
          "26/09/2023",
          "27/09/2023",
          "28/09/2023",
          "29/09/2023",
          "30/09/2023",
          "01/10/2023",
          "02/10/2023",
          "03/10/2023",
          "04/10/2023",
          "05/10/2023",
          "06/10/2023",
          "07/10/2023",
          "08/10/2023",
          "09/10/2023",
          "10/10/2023",
          "11/10/2023"
         ],
         "xaxis": "x",
         "y": [
          163514.484,
          163486.687,
          163605.227,
          162714.088,
          163691.166,
          163837.034,
          161560.003,
          163891.9,
          164125.743,
          144409.722,
          115413.095,
          127688.454,
          139091.629,
          138517.22,
          138503.073,
          138814.453,
          138487.209,
          138404.139,
          138340.676,
          138174.336,
          137688.802,
          137998.815,
          148363.465,
          159640.052,
          154335.239,
          136990.992,
          137676.308,
          138773.399,
          100722.677,
          93265.672,
          93964.593
         ],
         "yaxis": "y"
        },
        {
         "hovertemplate": "nombre=Ciclo combinado<br>Fecha actualización=%{x}<br>Valores=%{y}<extra></extra>",
         "legendgroup": "Ciclo combinado",
         "line": {
          "color": "rgb(102, 197, 204)",
          "dash": "solid"
         },
         "marker": {
          "symbol": "circle"
         },
         "mode": "lines",
         "name": "Ciclo combinado",
         "orientation": "v",
         "showlegend": true,
         "type": "scatter",
         "x": [
          "11/09/2023",
          "12/09/2023",
          "13/09/2023",
          "14/09/2023",
          "15/09/2023",
          "16/09/2023",
          "17/09/2023",
          "18/09/2023",
          "19/09/2023",
          "20/09/2023",
          "21/09/2023",
          "22/09/2023",
          "23/09/2023",
          "24/09/2023",
          "25/09/2023",
          "26/09/2023",
          "27/09/2023",
          "28/09/2023",
          "29/09/2023",
          "30/09/2023",
          "01/10/2023",
          "02/10/2023",
          "03/10/2023",
          "04/10/2023",
          "05/10/2023",
          "06/10/2023",
          "07/10/2023",
          "08/10/2023",
          "09/10/2023",
          "10/10/2023",
          "11/10/2023"
         ],
         "xaxis": "x",
         "y": [
          207427.016,
          238916.811,
          202472.327,
          199849.787,
          207626.946,
          123925.093,
          92830.002,
          133945.575,
          210151.804,
          126742.202,
          105865.509,
          114033.419,
          140609.853,
          117110.974,
          181039.945,
          183858.901,
          171414.065,
          192061.19,
          208050.26,
          154436.88,
          143128.675,
          178589.387,
          171362.465,
          184528.624,
          222286.189,
          206888.211,
          140317.5,
          127960.58,
          220550.181,
          260849.031,
          207359.834
         ],
         "yaxis": "y"
        },
        {
         "hovertemplate": "nombre=Carbón<br>Fecha actualización=%{x}<br>Valores=%{y}<extra></extra>",
         "legendgroup": "Carbón",
         "line": {
          "color": "rgb(246, 207, 113)",
          "dash": "solid"
         },
         "marker": {
          "symbol": "circle"
         },
         "mode": "lines",
         "name": "Carbón",
         "orientation": "v",
         "showlegend": true,
         "type": "scatter",
         "x": [
          "11/09/2023",
          "12/09/2023",
          "13/09/2023",
          "14/09/2023",
          "15/09/2023",
          "16/09/2023",
          "17/09/2023",
          "18/09/2023",
          "19/09/2023",
          "20/09/2023",
          "21/09/2023",
          "22/09/2023",
          "23/09/2023",
          "24/09/2023",
          "25/09/2023",
          "26/09/2023",
          "27/09/2023",
          "28/09/2023",
          "29/09/2023",
          "30/09/2023",
          "01/10/2023",
          "02/10/2023",
          "03/10/2023",
          "04/10/2023",
          "05/10/2023",
          "06/10/2023",
          "07/10/2023",
          "08/10/2023",
          "09/10/2023",
          "10/10/2023",
          "11/10/2023"
         ],
         "xaxis": "x",
         "y": [
          13141.731,
          12801.155,
          12728.758,
          12937.876,
          12406.252,
          12101.126,
          11523.562,
          12920.307,
          11970.991,
          12904.898,
          13554.938,
          13203.949,
          11660.905,
          10726.508,
          15116.6,
          19459.305,
          19886.878,
          19831.748,
          20136.761,
          12655.73,
          12119.983,
          13778.858,
          12717.874,
          13596.617,
          12795.673,
          12858.636,
          11369.515,
          12236.949,
          16363.071,
          18237.233,
          20324.393
         ],
         "yaxis": "y"
        },
        {
         "hovertemplate": "nombre=Motores diésel<br>Fecha actualización=%{x}<br>Valores=%{y}<extra></extra>",
         "legendgroup": "Motores diésel",
         "line": {
          "color": "rgb(248, 156, 116)",
          "dash": "solid"
         },
         "marker": {
          "symbol": "circle"
         },
         "mode": "lines",
         "name": "Motores diésel",
         "orientation": "v",
         "showlegend": true,
         "type": "scatter",
         "x": [
          "11/09/2023",
          "12/09/2023",
          "13/09/2023",
          "14/09/2023",
          "15/09/2023",
          "16/09/2023",
          "17/09/2023",
          "18/09/2023",
          "19/09/2023",
          "20/09/2023",
          "21/09/2023",
          "22/09/2023",
          "23/09/2023",
          "24/09/2023",
          "25/09/2023",
          "26/09/2023",
          "27/09/2023",
          "28/09/2023",
          "29/09/2023",
          "30/09/2023",
          "01/10/2023",
          "02/10/2023",
          "03/10/2023",
          "04/10/2023",
          "05/10/2023",
          "06/10/2023",
          "07/10/2023",
          "08/10/2023",
          "09/10/2023",
          "10/10/2023",
          "11/10/2023"
         ],
         "xaxis": "x",
         "y": [
          8175.841,
          7349.132,
          6942.373,
          6895.553,
          7183.111,
          7679.592,
          6552.737,
          6491.208,
          6680.791,
          7016.332,
          6738.499,
          6892.66,
          6408.033,
          6302.819,
          7001.324,
          6415.588,
          5918.866,
          5953.527,
          7659,
          7695.346,
          6579.752,
          7235.851,
          7788.375,
          7230.269,
          7838.51,
          7954.891,
          7534.932,
          7311.034,
          8276.692,
          8366.964,
          8138.499
         ],
         "yaxis": "y"
        },
        {
         "hovertemplate": "nombre=Turbina de gas<br>Fecha actualización=%{x}<br>Valores=%{y}<extra></extra>",
         "legendgroup": "Turbina de gas",
         "line": {
          "color": "rgb(220, 176, 242)",
          "dash": "solid"
         },
         "marker": {
          "symbol": "circle"
         },
         "mode": "lines",
         "name": "Turbina de gas",
         "orientation": "v",
         "showlegend": true,
         "type": "scatter",
         "x": [
          "11/09/2023",
          "12/09/2023",
          "13/09/2023",
          "14/09/2023",
          "15/09/2023",
          "16/09/2023",
          "17/09/2023",
          "18/09/2023",
          "19/09/2023",
          "20/09/2023",
          "21/09/2023",
          "22/09/2023",
          "23/09/2023",
          "24/09/2023",
          "25/09/2023",
          "26/09/2023",
          "27/09/2023",
          "28/09/2023",
          "29/09/2023",
          "30/09/2023",
          "01/10/2023",
          "02/10/2023",
          "03/10/2023",
          "04/10/2023",
          "05/10/2023",
          "06/10/2023",
          "07/10/2023",
          "08/10/2023",
          "09/10/2023",
          "10/10/2023",
          "11/10/2023"
         ],
         "xaxis": "x",
         "y": [
          2598.356,
          2801.504,
          2773.235,
          2750.667,
          3073.966,
          2141.747,
          1995.216,
          3067.666,
          2371.383,
          2011.431,
          1743.816,
          1558.718,
          1222.198,
          1361.139,
          1900.167,
          2317.929,
          2090.492,
          1939.267,
          1688.733,
          2079.891,
          1658.784,
          2859.899,
          3299.137,
          3058.345,
          3401.781,
          2837.518,
          2112.744,
          2137.769,
          3442.04,
          3338.447,
          3508.775
         ],
         "yaxis": "y"
        },
        {
         "hovertemplate": "nombre=Turbina de vapor<br>Fecha actualización=%{x}<br>Valores=%{y}<extra></extra>",
         "legendgroup": "Turbina de vapor",
         "line": {
          "color": "rgb(135, 197, 95)",
          "dash": "solid"
         },
         "marker": {
          "symbol": "circle"
         },
         "mode": "lines",
         "name": "Turbina de vapor",
         "orientation": "v",
         "showlegend": true,
         "type": "scatter",
         "x": [
          "11/09/2023",
          "12/09/2023",
          "13/09/2023",
          "14/09/2023",
          "15/09/2023",
          "16/09/2023",
          "17/09/2023",
          "18/09/2023",
          "19/09/2023",
          "20/09/2023",
          "21/09/2023",
          "22/09/2023",
          "23/09/2023",
          "24/09/2023",
          "25/09/2023",
          "26/09/2023",
          "27/09/2023",
          "28/09/2023",
          "29/09/2023",
          "30/09/2023",
          "01/10/2023",
          "02/10/2023",
          "03/10/2023",
          "04/10/2023",
          "05/10/2023",
          "06/10/2023",
          "07/10/2023",
          "08/10/2023",
          "09/10/2023",
          "10/10/2023",
          "11/10/2023"
         ],
         "xaxis": "x",
         "y": [
          4804.434,
          3973.953,
          3294.808,
          2695.01,
          2756.202,
          2920.999,
          2874.813,
          3206.877,
          3307.667,
          3271.521,
          3408.961,
          3503.892,
          3309.608,
          3177.341,
          4152.895,
          3578.103,
          3392.715,
          3515.335,
          4475.366,
          3878.917,
          3685.595,
          3803.922,
          3988.165,
          4625.621,
          4714.82,
          4918.555,
          4981.017,
          4575.141,
          4450.877,
          4838.719,
          4264.555
         ],
         "yaxis": "y"
        },
        {
         "hovertemplate": "nombre=Fuel + Gas<br>Fecha actualización=%{x}<br>Valores=%{y}<extra></extra>",
         "legendgroup": "Fuel + Gas",
         "line": {
          "color": "rgb(158, 185, 243)",
          "dash": "solid"
         },
         "marker": {
          "symbol": "circle"
         },
         "mode": "lines",
         "name": "Fuel + Gas",
         "orientation": "v",
         "showlegend": true,
         "type": "scatter",
         "x": [
          "04/10/2023"
         ],
         "xaxis": "x",
         "y": [
          -0.001
         ],
         "yaxis": "y"
        },
        {
         "hovertemplate": "nombre=Cogeneración<br>Fecha actualización=%{x}<br>Valores=%{y}<extra></extra>",
         "legendgroup": "Cogeneración",
         "line": {
          "color": "rgb(254, 136, 177)",
          "dash": "solid"
         },
         "marker": {
          "symbol": "circle"
         },
         "mode": "lines",
         "name": "Cogeneración",
         "orientation": "v",
         "showlegend": true,
         "type": "scatter",
         "x": [
          "11/09/2023",
          "12/09/2023",
          "13/09/2023",
          "14/09/2023",
          "15/09/2023",
          "16/09/2023",
          "17/09/2023",
          "18/09/2023",
          "19/09/2023",
          "20/09/2023",
          "21/09/2023",
          "22/09/2023",
          "23/09/2023",
          "24/09/2023",
          "25/09/2023",
          "26/09/2023",
          "27/09/2023",
          "28/09/2023",
          "29/09/2023",
          "30/09/2023",
          "01/10/2023",
          "02/10/2023",
          "03/10/2023",
          "04/10/2023",
          "05/10/2023",
          "06/10/2023",
          "07/10/2023",
          "08/10/2023",
          "09/10/2023",
          "10/10/2023",
          "11/10/2023"
         ],
         "xaxis": "x",
         "y": [
          49574.729,
          51005.98,
          51682.688,
          53485.942,
          54784.603,
          47632.931,
          37676.674,
          50165.262,
          52970.529,
          49710.625,
          47307.661,
          49995.016,
          48660.325,
          42265.843,
          49993.956,
          50966.696,
          49619.151,
          50454.504,
          50695.218,
          44711.977,
          42106.874,
          49198.972,
          49219.474,
          50465.825,
          53123.607,
          53832.03,
          50794.184,
          48585.432,
          53969.552,
          54221.736,
          52342.178
         ],
         "yaxis": "y"
        },
        {
         "hovertemplate": "nombre=Residuos no renovables<br>Fecha actualización=%{x}<br>Valores=%{y}<extra></extra>",
         "legendgroup": "Residuos no renovables",
         "line": {
          "color": "rgb(201, 219, 116)",
          "dash": "solid"
         },
         "marker": {
          "symbol": "circle"
         },
         "mode": "lines",
         "name": "Residuos no renovables",
         "orientation": "v",
         "showlegend": true,
         "type": "scatter",
         "x": [
          "11/09/2023",
          "12/09/2023",
          "13/09/2023",
          "14/09/2023",
          "15/09/2023",
          "16/09/2023",
          "17/09/2023",
          "18/09/2023",
          "19/09/2023",
          "20/09/2023",
          "21/09/2023",
          "22/09/2023",
          "23/09/2023",
          "24/09/2023",
          "25/09/2023",
          "26/09/2023",
          "27/09/2023",
          "28/09/2023",
          "29/09/2023",
          "30/09/2023",
          "01/10/2023",
          "02/10/2023",
          "03/10/2023",
          "04/10/2023",
          "05/10/2023",
          "06/10/2023",
          "07/10/2023",
          "08/10/2023",
          "09/10/2023",
          "10/10/2023",
          "11/10/2023"
         ],
         "xaxis": "x",
         "y": [
          3910.8065,
          3526.4855,
          2975.479,
          3780.4485,
          3840.0525,
          3723.483,
          3757.355,
          3934.239,
          4036.15,
          3978.4535,
          3901.789,
          3895.6125,
          4143.66,
          4074.673,
          4179.527,
          4074.2665,
          4201.57,
          4032.016,
          3914.962,
          3905.464,
          3961.2335,
          4022.96,
          4001.3105,
          4024.94,
          4031.225,
          4070.296,
          4239.4665,
          4018.3955,
          4154.7725,
          4251.738,
          4303.413
         ],
         "yaxis": "y"
        },
        {
         "hovertemplate": "nombre=Generación no renovable<br>Fecha actualización=%{x}<br>Valores=%{y}<extra></extra>",
         "legendgroup": "Generación no renovable",
         "line": {
          "color": "rgb(139, 224, 164)",
          "dash": "solid"
         },
         "marker": {
          "symbol": "circle"
         },
         "mode": "lines",
         "name": "Generación no renovable",
         "orientation": "v",
         "showlegend": true,
         "type": "scatter",
         "x": [
          "11/09/2023",
          "12/09/2023",
          "13/09/2023",
          "14/09/2023",
          "15/09/2023",
          "16/09/2023",
          "17/09/2023",
          "18/09/2023",
          "19/09/2023",
          "20/09/2023",
          "21/09/2023",
          "22/09/2023",
          "23/09/2023",
          "24/09/2023",
          "25/09/2023",
          "26/09/2023",
          "27/09/2023",
          "28/09/2023",
          "29/09/2023",
          "30/09/2023",
          "01/10/2023",
          "02/10/2023",
          "03/10/2023",
          "04/10/2023",
          "05/10/2023",
          "06/10/2023",
          "07/10/2023",
          "08/10/2023",
          "09/10/2023",
          "10/10/2023",
          "11/10/2023"
         ],
         "xaxis": "x",
         "y": [
          458389.5335,
          488261.9285,
          453615.49,
          453880.4415,
          465959.9495,
          374761.89199999993,
          329795.664,
          393443.186,
          463600.52499999997,
          362861.9375,
          314742.239,
          338085.1135,
          371502.257,
          338259.10300000006,
          416536.8940000001,
          420120.31450000004,
          407973.36000000004,
          427327.291,
          446926.249,
          384536.944,
          366256.24649999995,
          411367.59400000004,
          411491.8905,
          440365.454,
          469909.69000000006,
          440626.387,
          371349.28449999995,
          358796.07149999996,
          425008.4105,
          457851.05999999994,
          409267.47000000003
         ],
         "yaxis": "y"
        },
        {
         "hovertemplate": "nombre=Consumos en bombeo<br>Fecha actualización=%{x}<br>Valores=%{y}<extra></extra>",
         "legendgroup": "Consumos en bombeo",
         "line": {
          "color": "rgb(180, 151, 231)",
          "dash": "solid"
         },
         "marker": {
          "symbol": "circle"
         },
         "mode": "lines",
         "name": "Consumos en bombeo",
         "orientation": "v",
         "showlegend": true,
         "type": "scatter",
         "x": [
          "11/09/2023",
          "12/09/2023",
          "13/09/2023",
          "14/09/2023",
          "15/09/2023",
          "16/09/2023",
          "17/09/2023",
          "18/09/2023",
          "19/09/2023",
          "20/09/2023",
          "21/09/2023",
          "22/09/2023",
          "23/09/2023",
          "24/09/2023",
          "25/09/2023",
          "26/09/2023",
          "27/09/2023",
          "28/09/2023",
          "29/09/2023",
          "30/09/2023",
          "01/10/2023",
          "02/10/2023",
          "03/10/2023",
          "04/10/2023",
          "05/10/2023",
          "06/10/2023",
          "07/10/2023",
          "08/10/2023",
          "09/10/2023",
          "10/10/2023",
          "11/10/2023"
         ],
         "xaxis": "x",
         "y": [
          -10473.632,
          -5819.447,
          -17146.533,
          -10599.293,
          -3964.29,
          -14034.962,
          -47500.313,
          -16754.297,
          -12968.557,
          -27228.188,
          -26921.205,
          -21188.824,
          -23405.114,
          -35223.895,
          -18062.309,
          -7580.054,
          -9751.268,
          -15726.052,
          -12311.63,
          -20507.177,
          -33353.207,
          -20807.877,
          -13978.754,
          -17093.26,
          -9064.527,
          -8239.738,
          -21524.147,
          -29344.061,
          -17949.148,
          -15339.835,
          -7628.414
         ],
         "yaxis": "y"
        },
        {
         "hovertemplate": "nombre=Saldo I. internacionales<br>Fecha actualización=%{x}<br>Valores=%{y}<extra></extra>",
         "legendgroup": "Saldo I. internacionales",
         "line": {
          "color": "rgb(179, 179, 179)",
          "dash": "solid"
         },
         "marker": {
          "symbol": "circle"
         },
         "mode": "lines",
         "name": "Saldo I. internacionales",
         "orientation": "v",
         "showlegend": true,
         "type": "scatter",
         "x": [
          "11/09/2023",
          "12/09/2023",
          "13/09/2023",
          "14/09/2023",
          "15/09/2023",
          "16/09/2023",
          "17/09/2023",
          "18/09/2023",
          "19/09/2023",
          "20/09/2023",
          "21/09/2023",
          "22/09/2023",
          "23/09/2023",
          "24/09/2023",
          "25/09/2023",
          "26/09/2023",
          "27/09/2023",
          "28/09/2023",
          "29/09/2023",
          "30/09/2023",
          "01/10/2023",
          "02/10/2023",
          "03/10/2023",
          "04/10/2023",
          "05/10/2023",
          "06/10/2023",
          "07/10/2023",
          "08/10/2023",
          "09/10/2023",
          "10/10/2023",
          "11/10/2023"
         ],
         "xaxis": "x",
         "y": [
          -15563.131,
          -28169.598,
          -43040.727,
          -14523.889,
          250.981,
          10204.369,
          -34432.464,
          12604.376,
          -11311.735,
          -12982.596,
          -28474.277,
          -45836.843,
          -26616.742,
          -29493.235,
          -22764.828,
          -11030.622,
          -37384.413,
          -24685.946,
          -9032.859,
          -18161.954,
          -21182.165,
          -23035.579,
          -8755.414,
          -11161.589,
          -6916.082,
          9378.682,
          22528.282,
          6784.183,
          12074.745,
          4768.913,
          23974.685
         ],
         "yaxis": "y"
        },
        {
         "hovertemplate": "nombre=Demanda en b.c.<br>Fecha actualización=%{x}<br>Valores=%{y}<extra></extra>",
         "legendgroup": "Demanda en b.c.",
         "line": {
          "color": "rgb(228,26,28)",
          "dash": "solid"
         },
         "marker": {
          "symbol": "circle"
         },
         "mode": "lines",
         "name": "Demanda en b.c.",
         "orientation": "v",
         "showlegend": true,
         "type": "scatter",
         "x": [
          "11/09/2023",
          "12/09/2023",
          "13/09/2023",
          "14/09/2023",
          "15/09/2023",
          "16/09/2023",
          "17/09/2023",
          "18/09/2023",
          "19/09/2023",
          "20/09/2023",
          "21/09/2023",
          "22/09/2023",
          "23/09/2023",
          "24/09/2023",
          "25/09/2023",
          "26/09/2023",
          "27/09/2023",
          "28/09/2023",
          "29/09/2023",
          "30/09/2023",
          "01/10/2023",
          "02/10/2023",
          "03/10/2023",
          "04/10/2023",
          "05/10/2023",
          "06/10/2023",
          "07/10/2023",
          "08/10/2023",
          "09/10/2023",
          "10/10/2023",
          "11/10/2023"
         ],
         "xaxis": "x",
         "y": [
          666103.46,
          700279.064,
          700469.687,
          707868.11,
          699570.51,
          605057.255,
          568331.891,
          660518.846,
          677596.79,
          674288.988,
          675607.185,
          651037.118,
          571090.314,
          535176.203,
          638936.275,
          667820.961,
          678651.429,
          681873.0669999999,
          676528.629,
          601973.622,
          564525.295,
          671705.365,
          688577.261,
          692283.956,
          692563.445,
          694175.069,
          614030.957,
          568059.691,
          657435.9689999999,
          678243.987,
          672486.5669999999
         ],
         "yaxis": "y"
        }
       ],
       "layout": {
        "legend": {
         "title": {
          "text": "nombre"
         },
         "tracegroupgap": 0
        },
        "margin": {
         "t": 60
        },
        "template": {
         "data": {
          "bar": [
           {
            "error_x": {
             "color": "#2a3f5f"
            },
            "error_y": {
             "color": "#2a3f5f"
            },
            "marker": {
             "line": {
              "color": "#E5ECF6",
              "width": 0.5
             },
             "pattern": {
              "fillmode": "overlay",
              "size": 10,
              "solidity": 0.2
             }
            },
            "type": "bar"
           }
          ],
          "barpolar": [
           {
            "marker": {
             "line": {
              "color": "#E5ECF6",
              "width": 0.5
             },
             "pattern": {
              "fillmode": "overlay",
              "size": 10,
              "solidity": 0.2
             }
            },
            "type": "barpolar"
           }
          ],
          "carpet": [
           {
            "aaxis": {
             "endlinecolor": "#2a3f5f",
             "gridcolor": "white",
             "linecolor": "white",
             "minorgridcolor": "white",
             "startlinecolor": "#2a3f5f"
            },
            "baxis": {
             "endlinecolor": "#2a3f5f",
             "gridcolor": "white",
             "linecolor": "white",
             "minorgridcolor": "white",
             "startlinecolor": "#2a3f5f"
            },
            "type": "carpet"
           }
          ],
          "choropleth": [
           {
            "colorbar": {
             "outlinewidth": 0,
             "ticks": ""
            },
            "type": "choropleth"
           }
          ],
          "contour": [
           {
            "colorbar": {
             "outlinewidth": 0,
             "ticks": ""
            },
            "colorscale": [
             [
              0,
              "#0d0887"
             ],
             [
              0.1111111111111111,
              "#46039f"
             ],
             [
              0.2222222222222222,
              "#7201a8"
             ],
             [
              0.3333333333333333,
              "#9c179e"
             ],
             [
              0.4444444444444444,
              "#bd3786"
             ],
             [
              0.5555555555555556,
              "#d8576b"
             ],
             [
              0.6666666666666666,
              "#ed7953"
             ],
             [
              0.7777777777777778,
              "#fb9f3a"
             ],
             [
              0.8888888888888888,
              "#fdca26"
             ],
             [
              1,
              "#f0f921"
             ]
            ],
            "type": "contour"
           }
          ],
          "contourcarpet": [
           {
            "colorbar": {
             "outlinewidth": 0,
             "ticks": ""
            },
            "type": "contourcarpet"
           }
          ],
          "heatmap": [
           {
            "colorbar": {
             "outlinewidth": 0,
             "ticks": ""
            },
            "colorscale": [
             [
              0,
              "#0d0887"
             ],
             [
              0.1111111111111111,
              "#46039f"
             ],
             [
              0.2222222222222222,
              "#7201a8"
             ],
             [
              0.3333333333333333,
              "#9c179e"
             ],
             [
              0.4444444444444444,
              "#bd3786"
             ],
             [
              0.5555555555555556,
              "#d8576b"
             ],
             [
              0.6666666666666666,
              "#ed7953"
             ],
             [
              0.7777777777777778,
              "#fb9f3a"
             ],
             [
              0.8888888888888888,
              "#fdca26"
             ],
             [
              1,
              "#f0f921"
             ]
            ],
            "type": "heatmap"
           }
          ],
          "heatmapgl": [
           {
            "colorbar": {
             "outlinewidth": 0,
             "ticks": ""
            },
            "colorscale": [
             [
              0,
              "#0d0887"
             ],
             [
              0.1111111111111111,
              "#46039f"
             ],
             [
              0.2222222222222222,
              "#7201a8"
             ],
             [
              0.3333333333333333,
              "#9c179e"
             ],
             [
              0.4444444444444444,
              "#bd3786"
             ],
             [
              0.5555555555555556,
              "#d8576b"
             ],
             [
              0.6666666666666666,
              "#ed7953"
             ],
             [
              0.7777777777777778,
              "#fb9f3a"
             ],
             [
              0.8888888888888888,
              "#fdca26"
             ],
             [
              1,
              "#f0f921"
             ]
            ],
            "type": "heatmapgl"
           }
          ],
          "histogram": [
           {
            "marker": {
             "pattern": {
              "fillmode": "overlay",
              "size": 10,
              "solidity": 0.2
             }
            },
            "type": "histogram"
           }
          ],
          "histogram2d": [
           {
            "colorbar": {
             "outlinewidth": 0,
             "ticks": ""
            },
            "colorscale": [
             [
              0,
              "#0d0887"
             ],
             [
              0.1111111111111111,
              "#46039f"
             ],
             [
              0.2222222222222222,
              "#7201a8"
             ],
             [
              0.3333333333333333,
              "#9c179e"
             ],
             [
              0.4444444444444444,
              "#bd3786"
             ],
             [
              0.5555555555555556,
              "#d8576b"
             ],
             [
              0.6666666666666666,
              "#ed7953"
             ],
             [
              0.7777777777777778,
              "#fb9f3a"
             ],
             [
              0.8888888888888888,
              "#fdca26"
             ],
             [
              1,
              "#f0f921"
             ]
            ],
            "type": "histogram2d"
           }
          ],
          "histogram2dcontour": [
           {
            "colorbar": {
             "outlinewidth": 0,
             "ticks": ""
            },
            "colorscale": [
             [
              0,
              "#0d0887"
             ],
             [
              0.1111111111111111,
              "#46039f"
             ],
             [
              0.2222222222222222,
              "#7201a8"
             ],
             [
              0.3333333333333333,
              "#9c179e"
             ],
             [
              0.4444444444444444,
              "#bd3786"
             ],
             [
              0.5555555555555556,
              "#d8576b"
             ],
             [
              0.6666666666666666,
              "#ed7953"
             ],
             [
              0.7777777777777778,
              "#fb9f3a"
             ],
             [
              0.8888888888888888,
              "#fdca26"
             ],
             [
              1,
              "#f0f921"
             ]
            ],
            "type": "histogram2dcontour"
           }
          ],
          "mesh3d": [
           {
            "colorbar": {
             "outlinewidth": 0,
             "ticks": ""
            },
            "type": "mesh3d"
           }
          ],
          "parcoords": [
           {
            "line": {
             "colorbar": {
              "outlinewidth": 0,
              "ticks": ""
             }
            },
            "type": "parcoords"
           }
          ],
          "pie": [
           {
            "automargin": true,
            "type": "pie"
           }
          ],
          "scatter": [
           {
            "fillpattern": {
             "fillmode": "overlay",
             "size": 10,
             "solidity": 0.2
            },
            "type": "scatter"
           }
          ],
          "scatter3d": [
           {
            "line": {
             "colorbar": {
              "outlinewidth": 0,
              "ticks": ""
             }
            },
            "marker": {
             "colorbar": {
              "outlinewidth": 0,
              "ticks": ""
             }
            },
            "type": "scatter3d"
           }
          ],
          "scattercarpet": [
           {
            "marker": {
             "colorbar": {
              "outlinewidth": 0,
              "ticks": ""
             }
            },
            "type": "scattercarpet"
           }
          ],
          "scattergeo": [
           {
            "marker": {
             "colorbar": {
              "outlinewidth": 0,
              "ticks": ""
             }
            },
            "type": "scattergeo"
           }
          ],
          "scattergl": [
           {
            "marker": {
             "colorbar": {
              "outlinewidth": 0,
              "ticks": ""
             }
            },
            "type": "scattergl"
           }
          ],
          "scattermapbox": [
           {
            "marker": {
             "colorbar": {
              "outlinewidth": 0,
              "ticks": ""
             }
            },
            "type": "scattermapbox"
           }
          ],
          "scatterpolar": [
           {
            "marker": {
             "colorbar": {
              "outlinewidth": 0,
              "ticks": ""
             }
            },
            "type": "scatterpolar"
           }
          ],
          "scatterpolargl": [
           {
            "marker": {
             "colorbar": {
              "outlinewidth": 0,
              "ticks": ""
             }
            },
            "type": "scatterpolargl"
           }
          ],
          "scatterternary": [
           {
            "marker": {
             "colorbar": {
              "outlinewidth": 0,
              "ticks": ""
             }
            },
            "type": "scatterternary"
           }
          ],
          "surface": [
           {
            "colorbar": {
             "outlinewidth": 0,
             "ticks": ""
            },
            "colorscale": [
             [
              0,
              "#0d0887"
             ],
             [
              0.1111111111111111,
              "#46039f"
             ],
             [
              0.2222222222222222,
              "#7201a8"
             ],
             [
              0.3333333333333333,
              "#9c179e"
             ],
             [
              0.4444444444444444,
              "#bd3786"
             ],
             [
              0.5555555555555556,
              "#d8576b"
             ],
             [
              0.6666666666666666,
              "#ed7953"
             ],
             [
              0.7777777777777778,
              "#fb9f3a"
             ],
             [
              0.8888888888888888,
              "#fdca26"
             ],
             [
              1,
              "#f0f921"
             ]
            ],
            "type": "surface"
           }
          ],
          "table": [
           {
            "cells": {
             "fill": {
              "color": "#EBF0F8"
             },
             "line": {
              "color": "white"
             }
            },
            "header": {
             "fill": {
              "color": "#C8D4E3"
             },
             "line": {
              "color": "white"
             }
            },
            "type": "table"
           }
          ]
         },
         "layout": {
          "annotationdefaults": {
           "arrowcolor": "#2a3f5f",
           "arrowhead": 0,
           "arrowwidth": 1
          },
          "autotypenumbers": "strict",
          "coloraxis": {
           "colorbar": {
            "outlinewidth": 0,
            "ticks": ""
           }
          },
          "colorscale": {
           "diverging": [
            [
             0,
             "#8e0152"
            ],
            [
             0.1,
             "#c51b7d"
            ],
            [
             0.2,
             "#de77ae"
            ],
            [
             0.3,
             "#f1b6da"
            ],
            [
             0.4,
             "#fde0ef"
            ],
            [
             0.5,
             "#f7f7f7"
            ],
            [
             0.6,
             "#e6f5d0"
            ],
            [
             0.7,
             "#b8e186"
            ],
            [
             0.8,
             "#7fbc41"
            ],
            [
             0.9,
             "#4d9221"
            ],
            [
             1,
             "#276419"
            ]
           ],
           "sequential": [
            [
             0,
             "#0d0887"
            ],
            [
             0.1111111111111111,
             "#46039f"
            ],
            [
             0.2222222222222222,
             "#7201a8"
            ],
            [
             0.3333333333333333,
             "#9c179e"
            ],
            [
             0.4444444444444444,
             "#bd3786"
            ],
            [
             0.5555555555555556,
             "#d8576b"
            ],
            [
             0.6666666666666666,
             "#ed7953"
            ],
            [
             0.7777777777777778,
             "#fb9f3a"
            ],
            [
             0.8888888888888888,
             "#fdca26"
            ],
            [
             1,
             "#f0f921"
            ]
           ],
           "sequentialminus": [
            [
             0,
             "#0d0887"
            ],
            [
             0.1111111111111111,
             "#46039f"
            ],
            [
             0.2222222222222222,
             "#7201a8"
            ],
            [
             0.3333333333333333,
             "#9c179e"
            ],
            [
             0.4444444444444444,
             "#bd3786"
            ],
            [
             0.5555555555555556,
             "#d8576b"
            ],
            [
             0.6666666666666666,
             "#ed7953"
            ],
            [
             0.7777777777777778,
             "#fb9f3a"
            ],
            [
             0.8888888888888888,
             "#fdca26"
            ],
            [
             1,
             "#f0f921"
            ]
           ]
          },
          "colorway": [
           "#636efa",
           "#EF553B",
           "#00cc96",
           "#ab63fa",
           "#FFA15A",
           "#19d3f3",
           "#FF6692",
           "#B6E880",
           "#FF97FF",
           "#FECB52"
          ],
          "font": {
           "color": "#2a3f5f"
          },
          "geo": {
           "bgcolor": "white",
           "lakecolor": "white",
           "landcolor": "#E5ECF6",
           "showlakes": true,
           "showland": true,
           "subunitcolor": "white"
          },
          "hoverlabel": {
           "align": "left"
          },
          "hovermode": "closest",
          "mapbox": {
           "style": "light"
          },
          "paper_bgcolor": "white",
          "plot_bgcolor": "#E5ECF6",
          "polar": {
           "angularaxis": {
            "gridcolor": "white",
            "linecolor": "white",
            "ticks": ""
           },
           "bgcolor": "#E5ECF6",
           "radialaxis": {
            "gridcolor": "white",
            "linecolor": "white",
            "ticks": ""
           }
          },
          "scene": {
           "xaxis": {
            "backgroundcolor": "#E5ECF6",
            "gridcolor": "white",
            "gridwidth": 2,
            "linecolor": "white",
            "showbackground": true,
            "ticks": "",
            "zerolinecolor": "white"
           },
           "yaxis": {
            "backgroundcolor": "#E5ECF6",
            "gridcolor": "white",
            "gridwidth": 2,
            "linecolor": "white",
            "showbackground": true,
            "ticks": "",
            "zerolinecolor": "white"
           },
           "zaxis": {
            "backgroundcolor": "#E5ECF6",
            "gridcolor": "white",
            "gridwidth": 2,
            "linecolor": "white",
            "showbackground": true,
            "ticks": "",
            "zerolinecolor": "white"
           }
          },
          "shapedefaults": {
           "line": {
            "color": "#2a3f5f"
           }
          },
          "ternary": {
           "aaxis": {
            "gridcolor": "white",
            "linecolor": "white",
            "ticks": ""
           },
           "baxis": {
            "gridcolor": "white",
            "linecolor": "white",
            "ticks": ""
           },
           "bgcolor": "#E5ECF6",
           "caxis": {
            "gridcolor": "white",
            "linecolor": "white",
            "ticks": ""
           }
          },
          "title": {
           "x": 0.05
          },
          "xaxis": {
           "automargin": true,
           "gridcolor": "white",
           "linecolor": "white",
           "ticks": "",
           "title": {
            "standoff": 15
           },
           "zerolinecolor": "white",
           "zerolinewidth": 2
          },
          "yaxis": {
           "automargin": true,
           "gridcolor": "white",
           "linecolor": "white",
           "ticks": "",
           "title": {
            "standoff": 15
           },
           "zerolinecolor": "white",
           "zerolinewidth": 2
          }
         }
        },
        "title": {
         "text": "Evolución de energía diaría unificada"
        },
        "xaxis": {
         "anchor": "y",
         "domain": [
          0,
          1
         ],
         "title": {
          "text": "Fecha actualización"
         }
        },
        "yaxis": {
         "anchor": "x",
         "domain": [
          0,
          1
         ],
         "title": {
          "text": "Valores"
         }
        }
       }
      }
     },
     "metadata": {},
     "output_type": "display_data"
    }
   ],
   "source": [
    "fig_all = px.line(data_frame = df_balance,\n",
    "        x = 'Fecha actualización',\n",
    "        y = 'Valores',\n",
    "        color = 'nombre',\n",
    "        color_discrete_sequence = colores_personalizados,\n",
    ")\n",
    "\n",
    "fig_all.update_layout(title = 'Evolución de energía diaría unificada')\n",
    "\n",
    "fig_all.show()\n"
   ]
  },
  {
   "cell_type": "code",
   "execution_count": 49,
   "metadata": {},
   "outputs": [
    {
     "name": "stderr",
     "output_type": "stream",
     "text": [
      "/opt/anaconda3/lib/python3.11/site-packages/plotly/express/_core.py:1979: FutureWarning:\n",
      "\n",
      "When grouping with a length-1 list-like, you will need to pass a length-1 tuple to get_group in a future version of pandas. Pass `(name,)` instead of `name` to silence this warning.\n",
      "\n"
     ]
    },
    {
     "data": {
      "application/vnd.plotly.v1+json": {
       "config": {
        "plotlyServerURL": "https://plot.ly"
       },
       "data": [
        {
         "hovertemplate": "nombre=Hidráulica<br>Fecha actualización=%{x}<br>Valores=%{y}<extra></extra>",
         "legendgroup": "Hidráulica",
         "line": {
          "color": "#636EFA",
          "dash": "solid"
         },
         "marker": {
          "symbol": "circle"
         },
         "mode": "lines",
         "name": "Hidráulica",
         "orientation": "v",
         "showlegend": true,
         "type": "scatter",
         "x": [
          "11/09/2023",
          "12/09/2023",
          "13/09/2023",
          "14/09/2023",
          "15/09/2023",
          "16/09/2023",
          "17/09/2023",
          "18/09/2023",
          "19/09/2023",
          "20/09/2023",
          "21/09/2023",
          "22/09/2023",
          "23/09/2023",
          "24/09/2023",
          "25/09/2023",
          "26/09/2023",
          "27/09/2023",
          "28/09/2023",
          "29/09/2023",
          "30/09/2023",
          "01/10/2023",
          "02/10/2023",
          "03/10/2023",
          "04/10/2023",
          "05/10/2023",
          "06/10/2023",
          "07/10/2023",
          "08/10/2023",
          "09/10/2023",
          "10/10/2023",
          "11/10/2023"
         ],
         "xaxis": "x",
         "y": [
          34410.083,
          36184.276,
          27251.012,
          24805.877,
          31052.893,
          24153.141,
          15558.041,
          31779.909,
          33073.974,
          29080.481,
          20213.244,
          31118.702,
          24335.723,
          23312.579,
          38970.565,
          40808.219,
          44279.829,
          41709.912,
          43508.807,
          27451.729,
          23512.598,
          25842.727,
          27088.352,
          27620.756,
          38745.423,
          41528.037,
          24530.895,
          22871.902,
          41941.542,
          43709.116,
          46674.527
         ],
         "yaxis": "y"
        },
        {
         "hovertemplate": "nombre=Eólica<br>Fecha actualización=%{x}<br>Valores=%{y}<extra></extra>",
         "legendgroup": "Eólica",
         "line": {
          "color": "#EF553B",
          "dash": "solid"
         },
         "marker": {
          "symbol": "circle"
         },
         "mode": "lines",
         "name": "Eólica",
         "orientation": "v",
         "showlegend": true,
         "type": "scatter",
         "x": [
          "11/09/2023",
          "12/09/2023",
          "13/09/2023",
          "14/09/2023",
          "15/09/2023",
          "16/09/2023",
          "17/09/2023",
          "18/09/2023",
          "19/09/2023",
          "20/09/2023",
          "21/09/2023",
          "22/09/2023",
          "23/09/2023",
          "24/09/2023",
          "25/09/2023",
          "26/09/2023",
          "27/09/2023",
          "28/09/2023",
          "29/09/2023",
          "30/09/2023",
          "01/10/2023",
          "02/10/2023",
          "03/10/2023",
          "04/10/2023",
          "05/10/2023",
          "06/10/2023",
          "07/10/2023",
          "08/10/2023",
          "09/10/2023",
          "10/10/2023",
          "11/10/2023"
         ],
         "xaxis": "x",
         "y": [
          54172.392,
          60510.578,
          121145.44,
          114384.247,
          102730.916,
          123185.593,
          209534.384,
          127090.677,
          61873.719,
          154352.114,
          300443.625,
          191728.164,
          62212.405,
          80956.323,
          59481.707,
          66702.778,
          119078.548,
          93717.424,
          48743.75,
          71790.755,
          67340.717,
          123178.884,
          123386.311,
          104358.274,
          50450.433,
          64416.642,
          75517.746,
          59586.819,
          53814.25,
          40364.161,
          46525.945
         ],
         "yaxis": "y"
        },
        {
         "hovertemplate": "nombre=Solar fotovoltaica<br>Fecha actualización=%{x}<br>Valores=%{y}<extra></extra>",
         "legendgroup": "Solar fotovoltaica",
         "line": {
          "color": "#00CC96",
          "dash": "solid"
         },
         "marker": {
          "symbol": "circle"
         },
         "mode": "lines",
         "name": "Solar fotovoltaica",
         "orientation": "v",
         "showlegend": true,
         "type": "scatter",
         "x": [
          "11/09/2023",
          "12/09/2023",
          "13/09/2023",
          "14/09/2023",
          "15/09/2023",
          "16/09/2023",
          "17/09/2023",
          "18/09/2023",
          "19/09/2023",
          "20/09/2023",
          "21/09/2023",
          "22/09/2023",
          "23/09/2023",
          "24/09/2023",
          "25/09/2023",
          "26/09/2023",
          "27/09/2023",
          "28/09/2023",
          "29/09/2023",
          "30/09/2023",
          "01/10/2023",
          "02/10/2023",
          "03/10/2023",
          "04/10/2023",
          "05/10/2023",
          "06/10/2023",
          "07/10/2023",
          "08/10/2023",
          "09/10/2023",
          "10/10/2023",
          "11/10/2023"
         ],
         "xaxis": "x",
         "y": [
          118190.342,
          118167.259,
          127037.077,
          112494.024,
          83969.818,
          73569.331,
          82520.277,
          97003.07,
          115090.681,
          136933.965,
          79274.995,
          132980.176,
          131582.923,
          124631.015,
          133621.346,
          127279.529,
          124437.232,
          130418.849,
          128452.095,
          126417.895,
          130719.556,
          126647.71,
          120708.613,
          121833.444,
          121536.59,
          120719.663,
          118468.114,
          121475.905,
          115051.014,
          118841.884,
          123595.804
         ],
         "yaxis": "y"
        },
        {
         "hovertemplate": "nombre=Solar térmica<br>Fecha actualización=%{x}<br>Valores=%{y}<extra></extra>",
         "legendgroup": "Solar térmica",
         "line": {
          "color": "#AB63FA",
          "dash": "solid"
         },
         "marker": {
          "symbol": "circle"
         },
         "mode": "lines",
         "name": "Solar térmica",
         "orientation": "v",
         "showlegend": true,
         "type": "scatter",
         "x": [
          "11/09/2023",
          "12/09/2023",
          "13/09/2023",
          "14/09/2023",
          "15/09/2023",
          "16/09/2023",
          "17/09/2023",
          "18/09/2023",
          "19/09/2023",
          "20/09/2023",
          "21/09/2023",
          "22/09/2023",
          "23/09/2023",
          "24/09/2023",
          "25/09/2023",
          "26/09/2023",
          "27/09/2023",
          "28/09/2023",
          "29/09/2023",
          "30/09/2023",
          "01/10/2023",
          "02/10/2023",
          "03/10/2023",
          "04/10/2023",
          "05/10/2023",
          "06/10/2023",
          "07/10/2023",
          "08/10/2023",
          "09/10/2023",
          "10/10/2023",
          "11/10/2023"
         ],
         "xaxis": "x",
         "y": [
          14417.226,
          18173.901,
          19163.019,
          14430.12,
          6282.017,
          1329.429,
          2883.921,
          4758.746,
          16799.109,
          20321.971,
          5231.198,
          12841.32,
          19952.207,
          22556.123,
          20529.101,
          21103.343,
          19451.213,
          18621.448,
          19664.765,
          19700.118,
          21472.534,
          18326.516,
          16070.137,
          13369.877,
          15051.556,
          12174.059,
          10156.522,
          15608.325,
          14944.868,
          15093.094,
          16531.887
         ],
         "yaxis": "y"
        },
        {
         "hovertemplate": "nombre=Hidroeólica<br>Fecha actualización=%{x}<br>Valores=%{y}<extra></extra>",
         "legendgroup": "Hidroeólica",
         "line": {
          "color": "#FFA15A",
          "dash": "solid"
         },
         "marker": {
          "symbol": "circle"
         },
         "mode": "lines",
         "name": "Hidroeólica",
         "orientation": "v",
         "showlegend": true,
         "type": "scatter",
         "x": [
          "11/09/2023",
          "12/09/2023",
          "13/09/2023",
          "14/09/2023",
          "15/09/2023",
          "16/09/2023",
          "17/09/2023",
          "18/09/2023",
          "19/09/2023",
          "20/09/2023",
          "21/09/2023",
          "22/09/2023",
          "23/09/2023",
          "24/09/2023",
          "25/09/2023",
          "26/09/2023",
          "27/09/2023",
          "28/09/2023",
          "29/09/2023",
          "30/09/2023",
          "01/10/2023",
          "02/10/2023",
          "03/10/2023",
          "04/10/2023",
          "05/10/2023",
          "06/10/2023",
          "07/10/2023",
          "08/10/2023",
          "09/10/2023",
          "10/10/2023",
          "11/10/2023"
         ],
         "xaxis": "x",
         "y": [
          28.649,
          37.994,
          49.623,
          75.188,
          71.507,
          24.817,
          71.798,
          82.063,
          97.676,
          42.124,
          43.431,
          49.377,
          50.166,
          40.149,
          54.191,
          69.267,
          93.93,
          95.334,
          28.09,
          -2.192,
          -0.077,
          2.047,
          21.267,
          26.192,
          2.947,
          3.604,
          4.891,
          13.57,
          10.616,
          6.117,
          14.357
         ],
         "yaxis": "y"
        },
        {
         "hovertemplate": "nombre=Otras renovables<br>Fecha actualización=%{x}<br>Valores=%{y}<extra></extra>",
         "legendgroup": "Otras renovables",
         "line": {
          "color": "#19D3F3",
          "dash": "solid"
         },
         "marker": {
          "symbol": "circle"
         },
         "mode": "lines",
         "name": "Otras renovables",
         "orientation": "v",
         "showlegend": true,
         "type": "scatter",
         "x": [
          "11/09/2023",
          "12/09/2023",
          "13/09/2023",
          "14/09/2023",
          "15/09/2023",
          "16/09/2023",
          "17/09/2023",
          "18/09/2023",
          "19/09/2023",
          "20/09/2023",
          "21/09/2023",
          "22/09/2023",
          "23/09/2023",
          "24/09/2023",
          "25/09/2023",
          "26/09/2023",
          "27/09/2023",
          "28/09/2023",
          "29/09/2023",
          "30/09/2023",
          "01/10/2023",
          "02/10/2023",
          "03/10/2023",
          "04/10/2023",
          "05/10/2023",
          "06/10/2023",
          "07/10/2023",
          "08/10/2023",
          "09/10/2023",
          "10/10/2023",
          "11/10/2023"
         ],
         "xaxis": "x",
         "y": [
          10110.756,
          10865.463,
          10824.656,
          10622.483,
          10810.377,
          9479.58,
          7427.447,
          7905.733,
          8720.434,
          8346.948,
          8637.511,
          8869.273,
          8997.682,
          7588.529,
          7919.28,
          7809.369,
          7817.909,
          7734.386,
          7933.016,
          8141.04,
          7084.88,
          7468.318,
          9853.567,
          10251.645,
          10114.513,
          10828.954,
          10404.026,
          9847.209,
          10101.857,
          10455.201,
          10918.157
         ],
         "yaxis": "y"
        },
        {
         "hovertemplate": "nombre=Residuos renovables<br>Fecha actualización=%{x}<br>Valores=%{y}<extra></extra>",
         "legendgroup": "Residuos renovables",
         "line": {
          "color": "#FF6692",
          "dash": "solid"
         },
         "marker": {
          "symbol": "circle"
         },
         "mode": "lines",
         "name": "Residuos renovables",
         "orientation": "v",
         "showlegend": true,
         "type": "scatter",
         "x": [
          "11/09/2023",
          "12/09/2023",
          "13/09/2023",
          "14/09/2023",
          "15/09/2023",
          "16/09/2023",
          "17/09/2023",
          "18/09/2023",
          "19/09/2023",
          "20/09/2023",
          "21/09/2023",
          "22/09/2023",
          "23/09/2023",
          "24/09/2023",
          "25/09/2023",
          "26/09/2023",
          "27/09/2023",
          "28/09/2023",
          "29/09/2023",
          "30/09/2023",
          "01/10/2023",
          "02/10/2023",
          "03/10/2023",
          "04/10/2023",
          "05/10/2023",
          "06/10/2023",
          "07/10/2023",
          "08/10/2023",
          "09/10/2023",
          "10/10/2023",
          "11/10/2023"
         ],
         "xaxis": "x",
         "y": [
          2421.2415,
          2066.7095,
          1570.63,
          2298.9115,
          2406.3415,
          2384.065,
          2473.136,
          2605.383,
          2620.964,
          2560.2315,
          2416.424,
          2390.6595,
          2478.807,
          2549.512,
          2650.328,
          2538.8175,
          2655.089,
          2660.421,
          2616.346,
          2606.464,
          2674.2125,
          2715.025,
          2691.2915,
          2713.163,
          2732.902,
          2738.779,
          2595.3435,
          2419.7675,
          2437.8145,
          2494.276,
          2612.149
         ],
         "yaxis": "y"
        },
        {
         "hovertemplate": "nombre=Generación renovable<br>Fecha actualización=%{x}<br>Valores=%{y}<extra></extra>",
         "legendgroup": "Generación renovable",
         "line": {
          "color": "#B6E880",
          "dash": "solid"
         },
         "marker": {
          "symbol": "circle"
         },
         "mode": "lines",
         "name": "Generación renovable",
         "orientation": "v",
         "showlegend": true,
         "type": "scatter",
         "x": [
          "11/09/2023",
          "12/09/2023",
          "13/09/2023",
          "14/09/2023",
          "15/09/2023",
          "16/09/2023",
          "17/09/2023",
          "18/09/2023",
          "19/09/2023",
          "20/09/2023",
          "21/09/2023",
          "22/09/2023",
          "23/09/2023",
          "24/09/2023",
          "25/09/2023",
          "26/09/2023",
          "27/09/2023",
          "28/09/2023",
          "29/09/2023",
          "30/09/2023",
          "01/10/2023",
          "02/10/2023",
          "03/10/2023",
          "04/10/2023",
          "05/10/2023",
          "06/10/2023",
          "07/10/2023",
          "08/10/2023",
          "09/10/2023",
          "10/10/2023",
          "11/10/2023"
         ],
         "xaxis": "x",
         "y": [
          233750.6895,
          246006.18050000002,
          307041.457,
          279110.85050000006,
          237323.86950000003,
          234125.956,
          320469.00399999996,
          271225.581,
          238276.55700000003,
          351637.8345,
          416260.42799999996,
          379977.6715,
          249609.913,
          261634.23,
          263226.518,
          266311.3225,
          317813.74999999994,
          294957.7739999999,
          250946.869,
          256105.809,
          252804.42049999998,
          304181.2270000001,
          299819.53849999997,
          280173.35099999997,
          238634.364,
          252409.738,
          241677.5375,
          231823.4975,
          238301.96149999998,
          230963.84900000005,
          246872.826
         ],
         "yaxis": "y"
        }
       ],
       "layout": {
        "legend": {
         "title": {
          "text": "nombre"
         },
         "tracegroupgap": 0
        },
        "margin": {
         "t": 60
        },
        "template": {
         "data": {
          "bar": [
           {
            "error_x": {
             "color": "#2a3f5f"
            },
            "error_y": {
             "color": "#2a3f5f"
            },
            "marker": {
             "line": {
              "color": "#E5ECF6",
              "width": 0.5
             },
             "pattern": {
              "fillmode": "overlay",
              "size": 10,
              "solidity": 0.2
             }
            },
            "type": "bar"
           }
          ],
          "barpolar": [
           {
            "marker": {
             "line": {
              "color": "#E5ECF6",
              "width": 0.5
             },
             "pattern": {
              "fillmode": "overlay",
              "size": 10,
              "solidity": 0.2
             }
            },
            "type": "barpolar"
           }
          ],
          "carpet": [
           {
            "aaxis": {
             "endlinecolor": "#2a3f5f",
             "gridcolor": "white",
             "linecolor": "white",
             "minorgridcolor": "white",
             "startlinecolor": "#2a3f5f"
            },
            "baxis": {
             "endlinecolor": "#2a3f5f",
             "gridcolor": "white",
             "linecolor": "white",
             "minorgridcolor": "white",
             "startlinecolor": "#2a3f5f"
            },
            "type": "carpet"
           }
          ],
          "choropleth": [
           {
            "colorbar": {
             "outlinewidth": 0,
             "ticks": ""
            },
            "type": "choropleth"
           }
          ],
          "contour": [
           {
            "colorbar": {
             "outlinewidth": 0,
             "ticks": ""
            },
            "colorscale": [
             [
              0,
              "#0d0887"
             ],
             [
              0.1111111111111111,
              "#46039f"
             ],
             [
              0.2222222222222222,
              "#7201a8"
             ],
             [
              0.3333333333333333,
              "#9c179e"
             ],
             [
              0.4444444444444444,
              "#bd3786"
             ],
             [
              0.5555555555555556,
              "#d8576b"
             ],
             [
              0.6666666666666666,
              "#ed7953"
             ],
             [
              0.7777777777777778,
              "#fb9f3a"
             ],
             [
              0.8888888888888888,
              "#fdca26"
             ],
             [
              1,
              "#f0f921"
             ]
            ],
            "type": "contour"
           }
          ],
          "contourcarpet": [
           {
            "colorbar": {
             "outlinewidth": 0,
             "ticks": ""
            },
            "type": "contourcarpet"
           }
          ],
          "heatmap": [
           {
            "colorbar": {
             "outlinewidth": 0,
             "ticks": ""
            },
            "colorscale": [
             [
              0,
              "#0d0887"
             ],
             [
              0.1111111111111111,
              "#46039f"
             ],
             [
              0.2222222222222222,
              "#7201a8"
             ],
             [
              0.3333333333333333,
              "#9c179e"
             ],
             [
              0.4444444444444444,
              "#bd3786"
             ],
             [
              0.5555555555555556,
              "#d8576b"
             ],
             [
              0.6666666666666666,
              "#ed7953"
             ],
             [
              0.7777777777777778,
              "#fb9f3a"
             ],
             [
              0.8888888888888888,
              "#fdca26"
             ],
             [
              1,
              "#f0f921"
             ]
            ],
            "type": "heatmap"
           }
          ],
          "heatmapgl": [
           {
            "colorbar": {
             "outlinewidth": 0,
             "ticks": ""
            },
            "colorscale": [
             [
              0,
              "#0d0887"
             ],
             [
              0.1111111111111111,
              "#46039f"
             ],
             [
              0.2222222222222222,
              "#7201a8"
             ],
             [
              0.3333333333333333,
              "#9c179e"
             ],
             [
              0.4444444444444444,
              "#bd3786"
             ],
             [
              0.5555555555555556,
              "#d8576b"
             ],
             [
              0.6666666666666666,
              "#ed7953"
             ],
             [
              0.7777777777777778,
              "#fb9f3a"
             ],
             [
              0.8888888888888888,
              "#fdca26"
             ],
             [
              1,
              "#f0f921"
             ]
            ],
            "type": "heatmapgl"
           }
          ],
          "histogram": [
           {
            "marker": {
             "pattern": {
              "fillmode": "overlay",
              "size": 10,
              "solidity": 0.2
             }
            },
            "type": "histogram"
           }
          ],
          "histogram2d": [
           {
            "colorbar": {
             "outlinewidth": 0,
             "ticks": ""
            },
            "colorscale": [
             [
              0,
              "#0d0887"
             ],
             [
              0.1111111111111111,
              "#46039f"
             ],
             [
              0.2222222222222222,
              "#7201a8"
             ],
             [
              0.3333333333333333,
              "#9c179e"
             ],
             [
              0.4444444444444444,
              "#bd3786"
             ],
             [
              0.5555555555555556,
              "#d8576b"
             ],
             [
              0.6666666666666666,
              "#ed7953"
             ],
             [
              0.7777777777777778,
              "#fb9f3a"
             ],
             [
              0.8888888888888888,
              "#fdca26"
             ],
             [
              1,
              "#f0f921"
             ]
            ],
            "type": "histogram2d"
           }
          ],
          "histogram2dcontour": [
           {
            "colorbar": {
             "outlinewidth": 0,
             "ticks": ""
            },
            "colorscale": [
             [
              0,
              "#0d0887"
             ],
             [
              0.1111111111111111,
              "#46039f"
             ],
             [
              0.2222222222222222,
              "#7201a8"
             ],
             [
              0.3333333333333333,
              "#9c179e"
             ],
             [
              0.4444444444444444,
              "#bd3786"
             ],
             [
              0.5555555555555556,
              "#d8576b"
             ],
             [
              0.6666666666666666,
              "#ed7953"
             ],
             [
              0.7777777777777778,
              "#fb9f3a"
             ],
             [
              0.8888888888888888,
              "#fdca26"
             ],
             [
              1,
              "#f0f921"
             ]
            ],
            "type": "histogram2dcontour"
           }
          ],
          "mesh3d": [
           {
            "colorbar": {
             "outlinewidth": 0,
             "ticks": ""
            },
            "type": "mesh3d"
           }
          ],
          "parcoords": [
           {
            "line": {
             "colorbar": {
              "outlinewidth": 0,
              "ticks": ""
             }
            },
            "type": "parcoords"
           }
          ],
          "pie": [
           {
            "automargin": true,
            "type": "pie"
           }
          ],
          "scatter": [
           {
            "fillpattern": {
             "fillmode": "overlay",
             "size": 10,
             "solidity": 0.2
            },
            "type": "scatter"
           }
          ],
          "scatter3d": [
           {
            "line": {
             "colorbar": {
              "outlinewidth": 0,
              "ticks": ""
             }
            },
            "marker": {
             "colorbar": {
              "outlinewidth": 0,
              "ticks": ""
             }
            },
            "type": "scatter3d"
           }
          ],
          "scattercarpet": [
           {
            "marker": {
             "colorbar": {
              "outlinewidth": 0,
              "ticks": ""
             }
            },
            "type": "scattercarpet"
           }
          ],
          "scattergeo": [
           {
            "marker": {
             "colorbar": {
              "outlinewidth": 0,
              "ticks": ""
             }
            },
            "type": "scattergeo"
           }
          ],
          "scattergl": [
           {
            "marker": {
             "colorbar": {
              "outlinewidth": 0,
              "ticks": ""
             }
            },
            "type": "scattergl"
           }
          ],
          "scattermapbox": [
           {
            "marker": {
             "colorbar": {
              "outlinewidth": 0,
              "ticks": ""
             }
            },
            "type": "scattermapbox"
           }
          ],
          "scatterpolar": [
           {
            "marker": {
             "colorbar": {
              "outlinewidth": 0,
              "ticks": ""
             }
            },
            "type": "scatterpolar"
           }
          ],
          "scatterpolargl": [
           {
            "marker": {
             "colorbar": {
              "outlinewidth": 0,
              "ticks": ""
             }
            },
            "type": "scatterpolargl"
           }
          ],
          "scatterternary": [
           {
            "marker": {
             "colorbar": {
              "outlinewidth": 0,
              "ticks": ""
             }
            },
            "type": "scatterternary"
           }
          ],
          "surface": [
           {
            "colorbar": {
             "outlinewidth": 0,
             "ticks": ""
            },
            "colorscale": [
             [
              0,
              "#0d0887"
             ],
             [
              0.1111111111111111,
              "#46039f"
             ],
             [
              0.2222222222222222,
              "#7201a8"
             ],
             [
              0.3333333333333333,
              "#9c179e"
             ],
             [
              0.4444444444444444,
              "#bd3786"
             ],
             [
              0.5555555555555556,
              "#d8576b"
             ],
             [
              0.6666666666666666,
              "#ed7953"
             ],
             [
              0.7777777777777778,
              "#fb9f3a"
             ],
             [
              0.8888888888888888,
              "#fdca26"
             ],
             [
              1,
              "#f0f921"
             ]
            ],
            "type": "surface"
           }
          ],
          "table": [
           {
            "cells": {
             "fill": {
              "color": "#EBF0F8"
             },
             "line": {
              "color": "white"
             }
            },
            "header": {
             "fill": {
              "color": "#C8D4E3"
             },
             "line": {
              "color": "white"
             }
            },
            "type": "table"
           }
          ]
         },
         "layout": {
          "annotationdefaults": {
           "arrowcolor": "#2a3f5f",
           "arrowhead": 0,
           "arrowwidth": 1
          },
          "autotypenumbers": "strict",
          "coloraxis": {
           "colorbar": {
            "outlinewidth": 0,
            "ticks": ""
           }
          },
          "colorscale": {
           "diverging": [
            [
             0,
             "#8e0152"
            ],
            [
             0.1,
             "#c51b7d"
            ],
            [
             0.2,
             "#de77ae"
            ],
            [
             0.3,
             "#f1b6da"
            ],
            [
             0.4,
             "#fde0ef"
            ],
            [
             0.5,
             "#f7f7f7"
            ],
            [
             0.6,
             "#e6f5d0"
            ],
            [
             0.7,
             "#b8e186"
            ],
            [
             0.8,
             "#7fbc41"
            ],
            [
             0.9,
             "#4d9221"
            ],
            [
             1,
             "#276419"
            ]
           ],
           "sequential": [
            [
             0,
             "#0d0887"
            ],
            [
             0.1111111111111111,
             "#46039f"
            ],
            [
             0.2222222222222222,
             "#7201a8"
            ],
            [
             0.3333333333333333,
             "#9c179e"
            ],
            [
             0.4444444444444444,
             "#bd3786"
            ],
            [
             0.5555555555555556,
             "#d8576b"
            ],
            [
             0.6666666666666666,
             "#ed7953"
            ],
            [
             0.7777777777777778,
             "#fb9f3a"
            ],
            [
             0.8888888888888888,
             "#fdca26"
            ],
            [
             1,
             "#f0f921"
            ]
           ],
           "sequentialminus": [
            [
             0,
             "#0d0887"
            ],
            [
             0.1111111111111111,
             "#46039f"
            ],
            [
             0.2222222222222222,
             "#7201a8"
            ],
            [
             0.3333333333333333,
             "#9c179e"
            ],
            [
             0.4444444444444444,
             "#bd3786"
            ],
            [
             0.5555555555555556,
             "#d8576b"
            ],
            [
             0.6666666666666666,
             "#ed7953"
            ],
            [
             0.7777777777777778,
             "#fb9f3a"
            ],
            [
             0.8888888888888888,
             "#fdca26"
            ],
            [
             1,
             "#f0f921"
            ]
           ]
          },
          "colorway": [
           "#636efa",
           "#EF553B",
           "#00cc96",
           "#ab63fa",
           "#FFA15A",
           "#19d3f3",
           "#FF6692",
           "#B6E880",
           "#FF97FF",
           "#FECB52"
          ],
          "font": {
           "color": "#2a3f5f"
          },
          "geo": {
           "bgcolor": "white",
           "lakecolor": "white",
           "landcolor": "#E5ECF6",
           "showlakes": true,
           "showland": true,
           "subunitcolor": "white"
          },
          "hoverlabel": {
           "align": "left"
          },
          "hovermode": "closest",
          "mapbox": {
           "style": "light"
          },
          "paper_bgcolor": "white",
          "plot_bgcolor": "#E5ECF6",
          "polar": {
           "angularaxis": {
            "gridcolor": "white",
            "linecolor": "white",
            "ticks": ""
           },
           "bgcolor": "#E5ECF6",
           "radialaxis": {
            "gridcolor": "white",
            "linecolor": "white",
            "ticks": ""
           }
          },
          "scene": {
           "xaxis": {
            "backgroundcolor": "#E5ECF6",
            "gridcolor": "white",
            "gridwidth": 2,
            "linecolor": "white",
            "showbackground": true,
            "ticks": "",
            "zerolinecolor": "white"
           },
           "yaxis": {
            "backgroundcolor": "#E5ECF6",
            "gridcolor": "white",
            "gridwidth": 2,
            "linecolor": "white",
            "showbackground": true,
            "ticks": "",
            "zerolinecolor": "white"
           },
           "zaxis": {
            "backgroundcolor": "#E5ECF6",
            "gridcolor": "white",
            "gridwidth": 2,
            "linecolor": "white",
            "showbackground": true,
            "ticks": "",
            "zerolinecolor": "white"
           }
          },
          "shapedefaults": {
           "line": {
            "color": "#2a3f5f"
           }
          },
          "ternary": {
           "aaxis": {
            "gridcolor": "white",
            "linecolor": "white",
            "ticks": ""
           },
           "baxis": {
            "gridcolor": "white",
            "linecolor": "white",
            "ticks": ""
           },
           "bgcolor": "#E5ECF6",
           "caxis": {
            "gridcolor": "white",
            "linecolor": "white",
            "ticks": ""
           }
          },
          "title": {
           "x": 0.05
          },
          "xaxis": {
           "automargin": true,
           "gridcolor": "white",
           "linecolor": "white",
           "ticks": "",
           "title": {
            "standoff": 15
           },
           "zerolinecolor": "white",
           "zerolinewidth": 2
          },
          "yaxis": {
           "automargin": true,
           "gridcolor": "white",
           "linecolor": "white",
           "ticks": "",
           "title": {
            "standoff": 15
           },
           "zerolinecolor": "white",
           "zerolinewidth": 2
          }
         }
        },
        "title": {
         "text": "Evolución de energía diaría renovable"
        },
        "xaxis": {
         "anchor": "y",
         "domain": [
          0,
          1
         ],
         "title": {
          "text": "Fecha actualización"
         }
        },
        "yaxis": {
         "anchor": "x",
         "domain": [
          0,
          1
         ],
         "title": {
          "text": "Valores"
         }
        }
       }
      }
     },
     "metadata": {},
     "output_type": "display_data"
    }
   ],
   "source": [
    "fig_reno = px.line(data_frame = df_balance[df_balance['tipo de energía'] == 'Renovable'],\n",
    "        x = 'Fecha actualización',\n",
    "        y = 'Valores',\n",
    "        color = 'nombre',\n",
    "        color_discrete_sequence = colores_personalizados\n",
    ")\n",
    "\n",
    "fig_reno.update_layout(title = 'Evolución de energía diaría renovable')\n",
    "\n",
    "fig_reno.show()"
   ]
  },
  {
   "cell_type": "code",
   "execution_count": 50,
   "metadata": {},
   "outputs": [
    {
     "name": "stderr",
     "output_type": "stream",
     "text": [
      "/opt/anaconda3/lib/python3.11/site-packages/plotly/express/_core.py:1979: FutureWarning:\n",
      "\n",
      "When grouping with a length-1 list-like, you will need to pass a length-1 tuple to get_group in a future version of pandas. Pass `(name,)` instead of `name` to silence this warning.\n",
      "\n"
     ]
    },
    {
     "data": {
      "application/vnd.plotly.v1+json": {
       "config": {
        "plotlyServerURL": "https://plot.ly"
       },
       "data": [
        {
         "hovertemplate": "nombre=Turbinación bombeo<br>Fecha actualización=%{x}<br>Valores=%{y}<extra></extra>",
         "legendgroup": "Turbinación bombeo",
         "line": {
          "color": "#636EFA",
          "dash": "solid"
         },
         "marker": {
          "symbol": "circle"
         },
         "mode": "lines",
         "name": "Turbinación bombeo",
         "orientation": "v",
         "showlegend": true,
         "type": "scatter",
         "x": [
          "11/09/2023",
          "12/09/2023",
          "13/09/2023",
          "14/09/2023",
          "15/09/2023",
          "16/09/2023",
          "17/09/2023",
          "18/09/2023",
          "19/09/2023",
          "20/09/2023",
          "21/09/2023",
          "22/09/2023",
          "23/09/2023",
          "24/09/2023",
          "25/09/2023",
          "26/09/2023",
          "27/09/2023",
          "28/09/2023",
          "29/09/2023",
          "30/09/2023",
          "01/10/2023",
          "02/10/2023",
          "03/10/2023",
          "04/10/2023",
          "05/10/2023",
          "06/10/2023",
          "07/10/2023",
          "08/10/2023",
          "09/10/2023",
          "10/10/2023",
          "11/10/2023"
         ],
         "xaxis": "x",
         "y": [
          5242.136,
          4400.221,
          7140.595,
          8771.07,
          10597.651,
          10799.887,
          11025.302,
          15820.152,
          7985.467,
          12816.753,
          16807.971,
          17313.393,
          16396.046,
          14722.586,
          14649.407,
          10635.073,
          12962.414,
          11135.565,
          11965.273,
          16998.403,
          15326.548,
          13878.93,
          10751.625,
          13195.162,
          7382.646,
          10275.258,
          12323.618,
          13197.372,
          13078.548,
          10481.52,
          15061.23
         ],
         "yaxis": "y"
        },
        {
         "hovertemplate": "nombre=Nuclear<br>Fecha actualización=%{x}<br>Valores=%{y}<extra></extra>",
         "legendgroup": "Nuclear",
         "line": {
          "color": "#EF553B",
          "dash": "solid"
         },
         "marker": {
          "symbol": "circle"
         },
         "mode": "lines",
         "name": "Nuclear",
         "orientation": "v",
         "showlegend": true,
         "type": "scatter",
         "x": [
          "11/09/2023",
          "12/09/2023",
          "13/09/2023",
          "14/09/2023",
          "15/09/2023",
          "16/09/2023",
          "17/09/2023",
          "18/09/2023",
          "19/09/2023",
          "20/09/2023",
          "21/09/2023",
          "22/09/2023",
          "23/09/2023",
          "24/09/2023",
          "25/09/2023",
          "26/09/2023",
          "27/09/2023",
          "28/09/2023",
          "29/09/2023",
          "30/09/2023",
          "01/10/2023",
          "02/10/2023",
          "03/10/2023",
          "04/10/2023",
          "05/10/2023",
          "06/10/2023",
          "07/10/2023",
          "08/10/2023",
          "09/10/2023",
          "10/10/2023",
          "11/10/2023"
         ],
         "xaxis": "x",
         "y": [
          163514.484,
          163486.687,
          163605.227,
          162714.088,
          163691.166,
          163837.034,
          161560.003,
          163891.9,
          164125.743,
          144409.722,
          115413.095,
          127688.454,
          139091.629,
          138517.22,
          138503.073,
          138814.453,
          138487.209,
          138404.139,
          138340.676,
          138174.336,
          137688.802,
          137998.815,
          148363.465,
          159640.052,
          154335.239,
          136990.992,
          137676.308,
          138773.399,
          100722.677,
          93265.672,
          93964.593
         ],
         "yaxis": "y"
        },
        {
         "hovertemplate": "nombre=Ciclo combinado<br>Fecha actualización=%{x}<br>Valores=%{y}<extra></extra>",
         "legendgroup": "Ciclo combinado",
         "line": {
          "color": "#00CC96",
          "dash": "solid"
         },
         "marker": {
          "symbol": "circle"
         },
         "mode": "lines",
         "name": "Ciclo combinado",
         "orientation": "v",
         "showlegend": true,
         "type": "scatter",
         "x": [
          "11/09/2023",
          "12/09/2023",
          "13/09/2023",
          "14/09/2023",
          "15/09/2023",
          "16/09/2023",
          "17/09/2023",
          "18/09/2023",
          "19/09/2023",
          "20/09/2023",
          "21/09/2023",
          "22/09/2023",
          "23/09/2023",
          "24/09/2023",
          "25/09/2023",
          "26/09/2023",
          "27/09/2023",
          "28/09/2023",
          "29/09/2023",
          "30/09/2023",
          "01/10/2023",
          "02/10/2023",
          "03/10/2023",
          "04/10/2023",
          "05/10/2023",
          "06/10/2023",
          "07/10/2023",
          "08/10/2023",
          "09/10/2023",
          "10/10/2023",
          "11/10/2023"
         ],
         "xaxis": "x",
         "y": [
          207427.016,
          238916.811,
          202472.327,
          199849.787,
          207626.946,
          123925.093,
          92830.002,
          133945.575,
          210151.804,
          126742.202,
          105865.509,
          114033.419,
          140609.853,
          117110.974,
          181039.945,
          183858.901,
          171414.065,
          192061.19,
          208050.26,
          154436.88,
          143128.675,
          178589.387,
          171362.465,
          184528.624,
          222286.189,
          206888.211,
          140317.5,
          127960.58,
          220550.181,
          260849.031,
          207359.834
         ],
         "yaxis": "y"
        },
        {
         "hovertemplate": "nombre=Carbón<br>Fecha actualización=%{x}<br>Valores=%{y}<extra></extra>",
         "legendgroup": "Carbón",
         "line": {
          "color": "#AB63FA",
          "dash": "solid"
         },
         "marker": {
          "symbol": "circle"
         },
         "mode": "lines",
         "name": "Carbón",
         "orientation": "v",
         "showlegend": true,
         "type": "scatter",
         "x": [
          "11/09/2023",
          "12/09/2023",
          "13/09/2023",
          "14/09/2023",
          "15/09/2023",
          "16/09/2023",
          "17/09/2023",
          "18/09/2023",
          "19/09/2023",
          "20/09/2023",
          "21/09/2023",
          "22/09/2023",
          "23/09/2023",
          "24/09/2023",
          "25/09/2023",
          "26/09/2023",
          "27/09/2023",
          "28/09/2023",
          "29/09/2023",
          "30/09/2023",
          "01/10/2023",
          "02/10/2023",
          "03/10/2023",
          "04/10/2023",
          "05/10/2023",
          "06/10/2023",
          "07/10/2023",
          "08/10/2023",
          "09/10/2023",
          "10/10/2023",
          "11/10/2023"
         ],
         "xaxis": "x",
         "y": [
          13141.731,
          12801.155,
          12728.758,
          12937.876,
          12406.252,
          12101.126,
          11523.562,
          12920.307,
          11970.991,
          12904.898,
          13554.938,
          13203.949,
          11660.905,
          10726.508,
          15116.6,
          19459.305,
          19886.878,
          19831.748,
          20136.761,
          12655.73,
          12119.983,
          13778.858,
          12717.874,
          13596.617,
          12795.673,
          12858.636,
          11369.515,
          12236.949,
          16363.071,
          18237.233,
          20324.393
         ],
         "yaxis": "y"
        },
        {
         "hovertemplate": "nombre=Motores diésel<br>Fecha actualización=%{x}<br>Valores=%{y}<extra></extra>",
         "legendgroup": "Motores diésel",
         "line": {
          "color": "#FFA15A",
          "dash": "solid"
         },
         "marker": {
          "symbol": "circle"
         },
         "mode": "lines",
         "name": "Motores diésel",
         "orientation": "v",
         "showlegend": true,
         "type": "scatter",
         "x": [
          "11/09/2023",
          "12/09/2023",
          "13/09/2023",
          "14/09/2023",
          "15/09/2023",
          "16/09/2023",
          "17/09/2023",
          "18/09/2023",
          "19/09/2023",
          "20/09/2023",
          "21/09/2023",
          "22/09/2023",
          "23/09/2023",
          "24/09/2023",
          "25/09/2023",
          "26/09/2023",
          "27/09/2023",
          "28/09/2023",
          "29/09/2023",
          "30/09/2023",
          "01/10/2023",
          "02/10/2023",
          "03/10/2023",
          "04/10/2023",
          "05/10/2023",
          "06/10/2023",
          "07/10/2023",
          "08/10/2023",
          "09/10/2023",
          "10/10/2023",
          "11/10/2023"
         ],
         "xaxis": "x",
         "y": [
          8175.841,
          7349.132,
          6942.373,
          6895.553,
          7183.111,
          7679.592,
          6552.737,
          6491.208,
          6680.791,
          7016.332,
          6738.499,
          6892.66,
          6408.033,
          6302.819,
          7001.324,
          6415.588,
          5918.866,
          5953.527,
          7659,
          7695.346,
          6579.752,
          7235.851,
          7788.375,
          7230.269,
          7838.51,
          7954.891,
          7534.932,
          7311.034,
          8276.692,
          8366.964,
          8138.499
         ],
         "yaxis": "y"
        },
        {
         "hovertemplate": "nombre=Turbina de gas<br>Fecha actualización=%{x}<br>Valores=%{y}<extra></extra>",
         "legendgroup": "Turbina de gas",
         "line": {
          "color": "#19D3F3",
          "dash": "solid"
         },
         "marker": {
          "symbol": "circle"
         },
         "mode": "lines",
         "name": "Turbina de gas",
         "orientation": "v",
         "showlegend": true,
         "type": "scatter",
         "x": [
          "11/09/2023",
          "12/09/2023",
          "13/09/2023",
          "14/09/2023",
          "15/09/2023",
          "16/09/2023",
          "17/09/2023",
          "18/09/2023",
          "19/09/2023",
          "20/09/2023",
          "21/09/2023",
          "22/09/2023",
          "23/09/2023",
          "24/09/2023",
          "25/09/2023",
          "26/09/2023",
          "27/09/2023",
          "28/09/2023",
          "29/09/2023",
          "30/09/2023",
          "01/10/2023",
          "02/10/2023",
          "03/10/2023",
          "04/10/2023",
          "05/10/2023",
          "06/10/2023",
          "07/10/2023",
          "08/10/2023",
          "09/10/2023",
          "10/10/2023",
          "11/10/2023"
         ],
         "xaxis": "x",
         "y": [
          2598.356,
          2801.504,
          2773.235,
          2750.667,
          3073.966,
          2141.747,
          1995.216,
          3067.666,
          2371.383,
          2011.431,
          1743.816,
          1558.718,
          1222.198,
          1361.139,
          1900.167,
          2317.929,
          2090.492,
          1939.267,
          1688.733,
          2079.891,
          1658.784,
          2859.899,
          3299.137,
          3058.345,
          3401.781,
          2837.518,
          2112.744,
          2137.769,
          3442.04,
          3338.447,
          3508.775
         ],
         "yaxis": "y"
        },
        {
         "hovertemplate": "nombre=Turbina de vapor<br>Fecha actualización=%{x}<br>Valores=%{y}<extra></extra>",
         "legendgroup": "Turbina de vapor",
         "line": {
          "color": "#FF6692",
          "dash": "solid"
         },
         "marker": {
          "symbol": "circle"
         },
         "mode": "lines",
         "name": "Turbina de vapor",
         "orientation": "v",
         "showlegend": true,
         "type": "scatter",
         "x": [
          "11/09/2023",
          "12/09/2023",
          "13/09/2023",
          "14/09/2023",
          "15/09/2023",
          "16/09/2023",
          "17/09/2023",
          "18/09/2023",
          "19/09/2023",
          "20/09/2023",
          "21/09/2023",
          "22/09/2023",
          "23/09/2023",
          "24/09/2023",
          "25/09/2023",
          "26/09/2023",
          "27/09/2023",
          "28/09/2023",
          "29/09/2023",
          "30/09/2023",
          "01/10/2023",
          "02/10/2023",
          "03/10/2023",
          "04/10/2023",
          "05/10/2023",
          "06/10/2023",
          "07/10/2023",
          "08/10/2023",
          "09/10/2023",
          "10/10/2023",
          "11/10/2023"
         ],
         "xaxis": "x",
         "y": [
          4804.434,
          3973.953,
          3294.808,
          2695.01,
          2756.202,
          2920.999,
          2874.813,
          3206.877,
          3307.667,
          3271.521,
          3408.961,
          3503.892,
          3309.608,
          3177.341,
          4152.895,
          3578.103,
          3392.715,
          3515.335,
          4475.366,
          3878.917,
          3685.595,
          3803.922,
          3988.165,
          4625.621,
          4714.82,
          4918.555,
          4981.017,
          4575.141,
          4450.877,
          4838.719,
          4264.555
         ],
         "yaxis": "y"
        },
        {
         "hovertemplate": "nombre=Fuel + Gas<br>Fecha actualización=%{x}<br>Valores=%{y}<extra></extra>",
         "legendgroup": "Fuel + Gas",
         "line": {
          "color": "#B6E880",
          "dash": "solid"
         },
         "marker": {
          "symbol": "circle"
         },
         "mode": "lines",
         "name": "Fuel + Gas",
         "orientation": "v",
         "showlegend": true,
         "type": "scatter",
         "x": [
          "04/10/2023"
         ],
         "xaxis": "x",
         "y": [
          -0.001
         ],
         "yaxis": "y"
        },
        {
         "hovertemplate": "nombre=Cogeneración<br>Fecha actualización=%{x}<br>Valores=%{y}<extra></extra>",
         "legendgroup": "Cogeneración",
         "line": {
          "color": "#FF97FF",
          "dash": "solid"
         },
         "marker": {
          "symbol": "circle"
         },
         "mode": "lines",
         "name": "Cogeneración",
         "orientation": "v",
         "showlegend": true,
         "type": "scatter",
         "x": [
          "11/09/2023",
          "12/09/2023",
          "13/09/2023",
          "14/09/2023",
          "15/09/2023",
          "16/09/2023",
          "17/09/2023",
          "18/09/2023",
          "19/09/2023",
          "20/09/2023",
          "21/09/2023",
          "22/09/2023",
          "23/09/2023",
          "24/09/2023",
          "25/09/2023",
          "26/09/2023",
          "27/09/2023",
          "28/09/2023",
          "29/09/2023",
          "30/09/2023",
          "01/10/2023",
          "02/10/2023",
          "03/10/2023",
          "04/10/2023",
          "05/10/2023",
          "06/10/2023",
          "07/10/2023",
          "08/10/2023",
          "09/10/2023",
          "10/10/2023",
          "11/10/2023"
         ],
         "xaxis": "x",
         "y": [
          49574.729,
          51005.98,
          51682.688,
          53485.942,
          54784.603,
          47632.931,
          37676.674,
          50165.262,
          52970.529,
          49710.625,
          47307.661,
          49995.016,
          48660.325,
          42265.843,
          49993.956,
          50966.696,
          49619.151,
          50454.504,
          50695.218,
          44711.977,
          42106.874,
          49198.972,
          49219.474,
          50465.825,
          53123.607,
          53832.03,
          50794.184,
          48585.432,
          53969.552,
          54221.736,
          52342.178
         ],
         "yaxis": "y"
        },
        {
         "hovertemplate": "nombre=Residuos no renovables<br>Fecha actualización=%{x}<br>Valores=%{y}<extra></extra>",
         "legendgroup": "Residuos no renovables",
         "line": {
          "color": "#FECB52",
          "dash": "solid"
         },
         "marker": {
          "symbol": "circle"
         },
         "mode": "lines",
         "name": "Residuos no renovables",
         "orientation": "v",
         "showlegend": true,
         "type": "scatter",
         "x": [
          "11/09/2023",
          "12/09/2023",
          "13/09/2023",
          "14/09/2023",
          "15/09/2023",
          "16/09/2023",
          "17/09/2023",
          "18/09/2023",
          "19/09/2023",
          "20/09/2023",
          "21/09/2023",
          "22/09/2023",
          "23/09/2023",
          "24/09/2023",
          "25/09/2023",
          "26/09/2023",
          "27/09/2023",
          "28/09/2023",
          "29/09/2023",
          "30/09/2023",
          "01/10/2023",
          "02/10/2023",
          "03/10/2023",
          "04/10/2023",
          "05/10/2023",
          "06/10/2023",
          "07/10/2023",
          "08/10/2023",
          "09/10/2023",
          "10/10/2023",
          "11/10/2023"
         ],
         "xaxis": "x",
         "y": [
          3910.8065,
          3526.4855,
          2975.479,
          3780.4485,
          3840.0525,
          3723.483,
          3757.355,
          3934.239,
          4036.15,
          3978.4535,
          3901.789,
          3895.6125,
          4143.66,
          4074.673,
          4179.527,
          4074.2665,
          4201.57,
          4032.016,
          3914.962,
          3905.464,
          3961.2335,
          4022.96,
          4001.3105,
          4024.94,
          4031.225,
          4070.296,
          4239.4665,
          4018.3955,
          4154.7725,
          4251.738,
          4303.413
         ],
         "yaxis": "y"
        },
        {
         "hovertemplate": "nombre=Generación no renovable<br>Fecha actualización=%{x}<br>Valores=%{y}<extra></extra>",
         "legendgroup": "Generación no renovable",
         "line": {
          "color": "rgb(102, 197, 204)",
          "dash": "solid"
         },
         "marker": {
          "symbol": "circle"
         },
         "mode": "lines",
         "name": "Generación no renovable",
         "orientation": "v",
         "showlegend": true,
         "type": "scatter",
         "x": [
          "11/09/2023",
          "12/09/2023",
          "13/09/2023",
          "14/09/2023",
          "15/09/2023",
          "16/09/2023",
          "17/09/2023",
          "18/09/2023",
          "19/09/2023",
          "20/09/2023",
          "21/09/2023",
          "22/09/2023",
          "23/09/2023",
          "24/09/2023",
          "25/09/2023",
          "26/09/2023",
          "27/09/2023",
          "28/09/2023",
          "29/09/2023",
          "30/09/2023",
          "01/10/2023",
          "02/10/2023",
          "03/10/2023",
          "04/10/2023",
          "05/10/2023",
          "06/10/2023",
          "07/10/2023",
          "08/10/2023",
          "09/10/2023",
          "10/10/2023",
          "11/10/2023"
         ],
         "xaxis": "x",
         "y": [
          458389.5335,
          488261.9285,
          453615.49,
          453880.4415,
          465959.9495,
          374761.89199999993,
          329795.664,
          393443.186,
          463600.52499999997,
          362861.9375,
          314742.239,
          338085.1135,
          371502.257,
          338259.10300000006,
          416536.8940000001,
          420120.31450000004,
          407973.36000000004,
          427327.291,
          446926.249,
          384536.944,
          366256.24649999995,
          411367.59400000004,
          411491.8905,
          440365.454,
          469909.69000000006,
          440626.387,
          371349.28449999995,
          358796.07149999996,
          425008.4105,
          457851.05999999994,
          409267.47000000003
         ],
         "yaxis": "y"
        }
       ],
       "layout": {
        "legend": {
         "title": {
          "text": "nombre"
         },
         "tracegroupgap": 0
        },
        "margin": {
         "t": 60
        },
        "template": {
         "data": {
          "bar": [
           {
            "error_x": {
             "color": "#2a3f5f"
            },
            "error_y": {
             "color": "#2a3f5f"
            },
            "marker": {
             "line": {
              "color": "#E5ECF6",
              "width": 0.5
             },
             "pattern": {
              "fillmode": "overlay",
              "size": 10,
              "solidity": 0.2
             }
            },
            "type": "bar"
           }
          ],
          "barpolar": [
           {
            "marker": {
             "line": {
              "color": "#E5ECF6",
              "width": 0.5
             },
             "pattern": {
              "fillmode": "overlay",
              "size": 10,
              "solidity": 0.2
             }
            },
            "type": "barpolar"
           }
          ],
          "carpet": [
           {
            "aaxis": {
             "endlinecolor": "#2a3f5f",
             "gridcolor": "white",
             "linecolor": "white",
             "minorgridcolor": "white",
             "startlinecolor": "#2a3f5f"
            },
            "baxis": {
             "endlinecolor": "#2a3f5f",
             "gridcolor": "white",
             "linecolor": "white",
             "minorgridcolor": "white",
             "startlinecolor": "#2a3f5f"
            },
            "type": "carpet"
           }
          ],
          "choropleth": [
           {
            "colorbar": {
             "outlinewidth": 0,
             "ticks": ""
            },
            "type": "choropleth"
           }
          ],
          "contour": [
           {
            "colorbar": {
             "outlinewidth": 0,
             "ticks": ""
            },
            "colorscale": [
             [
              0,
              "#0d0887"
             ],
             [
              0.1111111111111111,
              "#46039f"
             ],
             [
              0.2222222222222222,
              "#7201a8"
             ],
             [
              0.3333333333333333,
              "#9c179e"
             ],
             [
              0.4444444444444444,
              "#bd3786"
             ],
             [
              0.5555555555555556,
              "#d8576b"
             ],
             [
              0.6666666666666666,
              "#ed7953"
             ],
             [
              0.7777777777777778,
              "#fb9f3a"
             ],
             [
              0.8888888888888888,
              "#fdca26"
             ],
             [
              1,
              "#f0f921"
             ]
            ],
            "type": "contour"
           }
          ],
          "contourcarpet": [
           {
            "colorbar": {
             "outlinewidth": 0,
             "ticks": ""
            },
            "type": "contourcarpet"
           }
          ],
          "heatmap": [
           {
            "colorbar": {
             "outlinewidth": 0,
             "ticks": ""
            },
            "colorscale": [
             [
              0,
              "#0d0887"
             ],
             [
              0.1111111111111111,
              "#46039f"
             ],
             [
              0.2222222222222222,
              "#7201a8"
             ],
             [
              0.3333333333333333,
              "#9c179e"
             ],
             [
              0.4444444444444444,
              "#bd3786"
             ],
             [
              0.5555555555555556,
              "#d8576b"
             ],
             [
              0.6666666666666666,
              "#ed7953"
             ],
             [
              0.7777777777777778,
              "#fb9f3a"
             ],
             [
              0.8888888888888888,
              "#fdca26"
             ],
             [
              1,
              "#f0f921"
             ]
            ],
            "type": "heatmap"
           }
          ],
          "heatmapgl": [
           {
            "colorbar": {
             "outlinewidth": 0,
             "ticks": ""
            },
            "colorscale": [
             [
              0,
              "#0d0887"
             ],
             [
              0.1111111111111111,
              "#46039f"
             ],
             [
              0.2222222222222222,
              "#7201a8"
             ],
             [
              0.3333333333333333,
              "#9c179e"
             ],
             [
              0.4444444444444444,
              "#bd3786"
             ],
             [
              0.5555555555555556,
              "#d8576b"
             ],
             [
              0.6666666666666666,
              "#ed7953"
             ],
             [
              0.7777777777777778,
              "#fb9f3a"
             ],
             [
              0.8888888888888888,
              "#fdca26"
             ],
             [
              1,
              "#f0f921"
             ]
            ],
            "type": "heatmapgl"
           }
          ],
          "histogram": [
           {
            "marker": {
             "pattern": {
              "fillmode": "overlay",
              "size": 10,
              "solidity": 0.2
             }
            },
            "type": "histogram"
           }
          ],
          "histogram2d": [
           {
            "colorbar": {
             "outlinewidth": 0,
             "ticks": ""
            },
            "colorscale": [
             [
              0,
              "#0d0887"
             ],
             [
              0.1111111111111111,
              "#46039f"
             ],
             [
              0.2222222222222222,
              "#7201a8"
             ],
             [
              0.3333333333333333,
              "#9c179e"
             ],
             [
              0.4444444444444444,
              "#bd3786"
             ],
             [
              0.5555555555555556,
              "#d8576b"
             ],
             [
              0.6666666666666666,
              "#ed7953"
             ],
             [
              0.7777777777777778,
              "#fb9f3a"
             ],
             [
              0.8888888888888888,
              "#fdca26"
             ],
             [
              1,
              "#f0f921"
             ]
            ],
            "type": "histogram2d"
           }
          ],
          "histogram2dcontour": [
           {
            "colorbar": {
             "outlinewidth": 0,
             "ticks": ""
            },
            "colorscale": [
             [
              0,
              "#0d0887"
             ],
             [
              0.1111111111111111,
              "#46039f"
             ],
             [
              0.2222222222222222,
              "#7201a8"
             ],
             [
              0.3333333333333333,
              "#9c179e"
             ],
             [
              0.4444444444444444,
              "#bd3786"
             ],
             [
              0.5555555555555556,
              "#d8576b"
             ],
             [
              0.6666666666666666,
              "#ed7953"
             ],
             [
              0.7777777777777778,
              "#fb9f3a"
             ],
             [
              0.8888888888888888,
              "#fdca26"
             ],
             [
              1,
              "#f0f921"
             ]
            ],
            "type": "histogram2dcontour"
           }
          ],
          "mesh3d": [
           {
            "colorbar": {
             "outlinewidth": 0,
             "ticks": ""
            },
            "type": "mesh3d"
           }
          ],
          "parcoords": [
           {
            "line": {
             "colorbar": {
              "outlinewidth": 0,
              "ticks": ""
             }
            },
            "type": "parcoords"
           }
          ],
          "pie": [
           {
            "automargin": true,
            "type": "pie"
           }
          ],
          "scatter": [
           {
            "fillpattern": {
             "fillmode": "overlay",
             "size": 10,
             "solidity": 0.2
            },
            "type": "scatter"
           }
          ],
          "scatter3d": [
           {
            "line": {
             "colorbar": {
              "outlinewidth": 0,
              "ticks": ""
             }
            },
            "marker": {
             "colorbar": {
              "outlinewidth": 0,
              "ticks": ""
             }
            },
            "type": "scatter3d"
           }
          ],
          "scattercarpet": [
           {
            "marker": {
             "colorbar": {
              "outlinewidth": 0,
              "ticks": ""
             }
            },
            "type": "scattercarpet"
           }
          ],
          "scattergeo": [
           {
            "marker": {
             "colorbar": {
              "outlinewidth": 0,
              "ticks": ""
             }
            },
            "type": "scattergeo"
           }
          ],
          "scattergl": [
           {
            "marker": {
             "colorbar": {
              "outlinewidth": 0,
              "ticks": ""
             }
            },
            "type": "scattergl"
           }
          ],
          "scattermapbox": [
           {
            "marker": {
             "colorbar": {
              "outlinewidth": 0,
              "ticks": ""
             }
            },
            "type": "scattermapbox"
           }
          ],
          "scatterpolar": [
           {
            "marker": {
             "colorbar": {
              "outlinewidth": 0,
              "ticks": ""
             }
            },
            "type": "scatterpolar"
           }
          ],
          "scatterpolargl": [
           {
            "marker": {
             "colorbar": {
              "outlinewidth": 0,
              "ticks": ""
             }
            },
            "type": "scatterpolargl"
           }
          ],
          "scatterternary": [
           {
            "marker": {
             "colorbar": {
              "outlinewidth": 0,
              "ticks": ""
             }
            },
            "type": "scatterternary"
           }
          ],
          "surface": [
           {
            "colorbar": {
             "outlinewidth": 0,
             "ticks": ""
            },
            "colorscale": [
             [
              0,
              "#0d0887"
             ],
             [
              0.1111111111111111,
              "#46039f"
             ],
             [
              0.2222222222222222,
              "#7201a8"
             ],
             [
              0.3333333333333333,
              "#9c179e"
             ],
             [
              0.4444444444444444,
              "#bd3786"
             ],
             [
              0.5555555555555556,
              "#d8576b"
             ],
             [
              0.6666666666666666,
              "#ed7953"
             ],
             [
              0.7777777777777778,
              "#fb9f3a"
             ],
             [
              0.8888888888888888,
              "#fdca26"
             ],
             [
              1,
              "#f0f921"
             ]
            ],
            "type": "surface"
           }
          ],
          "table": [
           {
            "cells": {
             "fill": {
              "color": "#EBF0F8"
             },
             "line": {
              "color": "white"
             }
            },
            "header": {
             "fill": {
              "color": "#C8D4E3"
             },
             "line": {
              "color": "white"
             }
            },
            "type": "table"
           }
          ]
         },
         "layout": {
          "annotationdefaults": {
           "arrowcolor": "#2a3f5f",
           "arrowhead": 0,
           "arrowwidth": 1
          },
          "autotypenumbers": "strict",
          "coloraxis": {
           "colorbar": {
            "outlinewidth": 0,
            "ticks": ""
           }
          },
          "colorscale": {
           "diverging": [
            [
             0,
             "#8e0152"
            ],
            [
             0.1,
             "#c51b7d"
            ],
            [
             0.2,
             "#de77ae"
            ],
            [
             0.3,
             "#f1b6da"
            ],
            [
             0.4,
             "#fde0ef"
            ],
            [
             0.5,
             "#f7f7f7"
            ],
            [
             0.6,
             "#e6f5d0"
            ],
            [
             0.7,
             "#b8e186"
            ],
            [
             0.8,
             "#7fbc41"
            ],
            [
             0.9,
             "#4d9221"
            ],
            [
             1,
             "#276419"
            ]
           ],
           "sequential": [
            [
             0,
             "#0d0887"
            ],
            [
             0.1111111111111111,
             "#46039f"
            ],
            [
             0.2222222222222222,
             "#7201a8"
            ],
            [
             0.3333333333333333,
             "#9c179e"
            ],
            [
             0.4444444444444444,
             "#bd3786"
            ],
            [
             0.5555555555555556,
             "#d8576b"
            ],
            [
             0.6666666666666666,
             "#ed7953"
            ],
            [
             0.7777777777777778,
             "#fb9f3a"
            ],
            [
             0.8888888888888888,
             "#fdca26"
            ],
            [
             1,
             "#f0f921"
            ]
           ],
           "sequentialminus": [
            [
             0,
             "#0d0887"
            ],
            [
             0.1111111111111111,
             "#46039f"
            ],
            [
             0.2222222222222222,
             "#7201a8"
            ],
            [
             0.3333333333333333,
             "#9c179e"
            ],
            [
             0.4444444444444444,
             "#bd3786"
            ],
            [
             0.5555555555555556,
             "#d8576b"
            ],
            [
             0.6666666666666666,
             "#ed7953"
            ],
            [
             0.7777777777777778,
             "#fb9f3a"
            ],
            [
             0.8888888888888888,
             "#fdca26"
            ],
            [
             1,
             "#f0f921"
            ]
           ]
          },
          "colorway": [
           "#636efa",
           "#EF553B",
           "#00cc96",
           "#ab63fa",
           "#FFA15A",
           "#19d3f3",
           "#FF6692",
           "#B6E880",
           "#FF97FF",
           "#FECB52"
          ],
          "font": {
           "color": "#2a3f5f"
          },
          "geo": {
           "bgcolor": "white",
           "lakecolor": "white",
           "landcolor": "#E5ECF6",
           "showlakes": true,
           "showland": true,
           "subunitcolor": "white"
          },
          "hoverlabel": {
           "align": "left"
          },
          "hovermode": "closest",
          "mapbox": {
           "style": "light"
          },
          "paper_bgcolor": "white",
          "plot_bgcolor": "#E5ECF6",
          "polar": {
           "angularaxis": {
            "gridcolor": "white",
            "linecolor": "white",
            "ticks": ""
           },
           "bgcolor": "#E5ECF6",
           "radialaxis": {
            "gridcolor": "white",
            "linecolor": "white",
            "ticks": ""
           }
          },
          "scene": {
           "xaxis": {
            "backgroundcolor": "#E5ECF6",
            "gridcolor": "white",
            "gridwidth": 2,
            "linecolor": "white",
            "showbackground": true,
            "ticks": "",
            "zerolinecolor": "white"
           },
           "yaxis": {
            "backgroundcolor": "#E5ECF6",
            "gridcolor": "white",
            "gridwidth": 2,
            "linecolor": "white",
            "showbackground": true,
            "ticks": "",
            "zerolinecolor": "white"
           },
           "zaxis": {
            "backgroundcolor": "#E5ECF6",
            "gridcolor": "white",
            "gridwidth": 2,
            "linecolor": "white",
            "showbackground": true,
            "ticks": "",
            "zerolinecolor": "white"
           }
          },
          "shapedefaults": {
           "line": {
            "color": "#2a3f5f"
           }
          },
          "ternary": {
           "aaxis": {
            "gridcolor": "white",
            "linecolor": "white",
            "ticks": ""
           },
           "baxis": {
            "gridcolor": "white",
            "linecolor": "white",
            "ticks": ""
           },
           "bgcolor": "#E5ECF6",
           "caxis": {
            "gridcolor": "white",
            "linecolor": "white",
            "ticks": ""
           }
          },
          "title": {
           "x": 0.05
          },
          "xaxis": {
           "automargin": true,
           "gridcolor": "white",
           "linecolor": "white",
           "ticks": "",
           "title": {
            "standoff": 15
           },
           "zerolinecolor": "white",
           "zerolinewidth": 2
          },
          "yaxis": {
           "automargin": true,
           "gridcolor": "white",
           "linecolor": "white",
           "ticks": "",
           "title": {
            "standoff": 15
           },
           "zerolinecolor": "white",
           "zerolinewidth": 2
          }
         }
        },
        "title": {
         "text": "Evolución de energía diaría no renovable"
        },
        "xaxis": {
         "anchor": "y",
         "domain": [
          0,
          1
         ],
         "title": {
          "text": "Fecha actualización"
         }
        },
        "yaxis": {
         "anchor": "x",
         "domain": [
          0,
          1
         ],
         "title": {
          "text": "Valores"
         }
        }
       }
      }
     },
     "metadata": {},
     "output_type": "display_data"
    }
   ],
   "source": [
    "fig_no_reno=px.line(data_frame = df_balance[df_balance['tipo de energía'] == 'No-Renovable'],\n",
    "        x = 'Fecha actualización',\n",
    "        y = 'Valores',\n",
    "        color = 'nombre',\n",
    "        color_discrete_sequence = colores_personalizados\n",
    ")\n",
    "\n",
    "fig_no_reno.update_layout(title = 'Evolución de energía diaría no renovable')\n",
    "\n",
    "fig_no_reno.show()"
   ]
  },
  {
   "cell_type": "code",
   "execution_count": 51,
   "metadata": {},
   "outputs": [
    {
     "name": "stderr",
     "output_type": "stream",
     "text": [
      "/opt/anaconda3/lib/python3.11/site-packages/plotly/express/_core.py:1979: FutureWarning:\n",
      "\n",
      "When grouping with a length-1 list-like, you will need to pass a length-1 tuple to get_group in a future version of pandas. Pass `(name,)` instead of `name` to silence this warning.\n",
      "\n"
     ]
    },
    {
     "data": {
      "application/vnd.plotly.v1+json": {
       "config": {
        "plotlyServerURL": "https://plot.ly"
       },
       "data": [
        {
         "hovertemplate": "nombre=Consumos en bombeo<br>Fecha actualización=%{x}<br>Valores=%{y}<extra></extra>",
         "legendgroup": "Consumos en bombeo",
         "line": {
          "color": "#636EFA",
          "dash": "solid"
         },
         "marker": {
          "symbol": "circle"
         },
         "mode": "lines",
         "name": "Consumos en bombeo",
         "orientation": "v",
         "showlegend": true,
         "type": "scatter",
         "x": [
          "11/09/2023",
          "12/09/2023",
          "13/09/2023",
          "14/09/2023",
          "15/09/2023",
          "16/09/2023",
          "17/09/2023",
          "18/09/2023",
          "19/09/2023",
          "20/09/2023",
          "21/09/2023",
          "22/09/2023",
          "23/09/2023",
          "24/09/2023",
          "25/09/2023",
          "26/09/2023",
          "27/09/2023",
          "28/09/2023",
          "29/09/2023",
          "30/09/2023",
          "01/10/2023",
          "02/10/2023",
          "03/10/2023",
          "04/10/2023",
          "05/10/2023",
          "06/10/2023",
          "07/10/2023",
          "08/10/2023",
          "09/10/2023",
          "10/10/2023",
          "11/10/2023"
         ],
         "xaxis": "x",
         "y": [
          -10473.632,
          -5819.447,
          -17146.533,
          -10599.293,
          -3964.29,
          -14034.962,
          -47500.313,
          -16754.297,
          -12968.557,
          -27228.188,
          -26921.205,
          -21188.824,
          -23405.114,
          -35223.895,
          -18062.309,
          -7580.054,
          -9751.268,
          -15726.052,
          -12311.63,
          -20507.177,
          -33353.207,
          -20807.877,
          -13978.754,
          -17093.26,
          -9064.527,
          -8239.738,
          -21524.147,
          -29344.061,
          -17949.148,
          -15339.835,
          -7628.414
         ],
         "yaxis": "y"
        },
        {
         "hovertemplate": "nombre=Saldo I. internacionales<br>Fecha actualización=%{x}<br>Valores=%{y}<extra></extra>",
         "legendgroup": "Saldo I. internacionales",
         "line": {
          "color": "#EF553B",
          "dash": "solid"
         },
         "marker": {
          "symbol": "circle"
         },
         "mode": "lines",
         "name": "Saldo I. internacionales",
         "orientation": "v",
         "showlegend": true,
         "type": "scatter",
         "x": [
          "11/09/2023",
          "12/09/2023",
          "13/09/2023",
          "14/09/2023",
          "15/09/2023",
          "16/09/2023",
          "17/09/2023",
          "18/09/2023",
          "19/09/2023",
          "20/09/2023",
          "21/09/2023",
          "22/09/2023",
          "23/09/2023",
          "24/09/2023",
          "25/09/2023",
          "26/09/2023",
          "27/09/2023",
          "28/09/2023",
          "29/09/2023",
          "30/09/2023",
          "01/10/2023",
          "02/10/2023",
          "03/10/2023",
          "04/10/2023",
          "05/10/2023",
          "06/10/2023",
          "07/10/2023",
          "08/10/2023",
          "09/10/2023",
          "10/10/2023",
          "11/10/2023"
         ],
         "xaxis": "x",
         "y": [
          -15563.131,
          -28169.598,
          -43040.727,
          -14523.889,
          250.981,
          10204.369,
          -34432.464,
          12604.376,
          -11311.735,
          -12982.596,
          -28474.277,
          -45836.843,
          -26616.742,
          -29493.235,
          -22764.828,
          -11030.622,
          -37384.413,
          -24685.946,
          -9032.859,
          -18161.954,
          -21182.165,
          -23035.579,
          -8755.414,
          -11161.589,
          -6916.082,
          9378.682,
          22528.282,
          6784.183,
          12074.745,
          4768.913,
          23974.685
         ],
         "yaxis": "y"
        },
        {
         "hovertemplate": "nombre=Demanda en b.c.<br>Fecha actualización=%{x}<br>Valores=%{y}<extra></extra>",
         "legendgroup": "Demanda en b.c.",
         "line": {
          "color": "#00CC96",
          "dash": "solid"
         },
         "marker": {
          "symbol": "circle"
         },
         "mode": "lines",
         "name": "Demanda en b.c.",
         "orientation": "v",
         "showlegend": true,
         "type": "scatter",
         "x": [
          "11/09/2023",
          "12/09/2023",
          "13/09/2023",
          "14/09/2023",
          "15/09/2023",
          "16/09/2023",
          "17/09/2023",
          "18/09/2023",
          "19/09/2023",
          "20/09/2023",
          "21/09/2023",
          "22/09/2023",
          "23/09/2023",
          "24/09/2023",
          "25/09/2023",
          "26/09/2023",
          "27/09/2023",
          "28/09/2023",
          "29/09/2023",
          "30/09/2023",
          "01/10/2023",
          "02/10/2023",
          "03/10/2023",
          "04/10/2023",
          "05/10/2023",
          "06/10/2023",
          "07/10/2023",
          "08/10/2023",
          "09/10/2023",
          "10/10/2023",
          "11/10/2023"
         ],
         "xaxis": "x",
         "y": [
          666103.46,
          700279.064,
          700469.687,
          707868.11,
          699570.51,
          605057.255,
          568331.891,
          660518.846,
          677596.79,
          674288.988,
          675607.185,
          651037.118,
          571090.314,
          535176.203,
          638936.275,
          667820.961,
          678651.429,
          681873.0669999999,
          676528.629,
          601973.622,
          564525.295,
          671705.365,
          688577.261,
          692283.956,
          692563.445,
          694175.069,
          614030.957,
          568059.691,
          657435.9689999999,
          678243.987,
          672486.5669999999
         ],
         "yaxis": "y"
        }
       ],
       "layout": {
        "legend": {
         "title": {
          "text": "nombre"
         },
         "tracegroupgap": 0
        },
        "margin": {
         "t": 60
        },
        "template": {
         "data": {
          "bar": [
           {
            "error_x": {
             "color": "#2a3f5f"
            },
            "error_y": {
             "color": "#2a3f5f"
            },
            "marker": {
             "line": {
              "color": "#E5ECF6",
              "width": 0.5
             },
             "pattern": {
              "fillmode": "overlay",
              "size": 10,
              "solidity": 0.2
             }
            },
            "type": "bar"
           }
          ],
          "barpolar": [
           {
            "marker": {
             "line": {
              "color": "#E5ECF6",
              "width": 0.5
             },
             "pattern": {
              "fillmode": "overlay",
              "size": 10,
              "solidity": 0.2
             }
            },
            "type": "barpolar"
           }
          ],
          "carpet": [
           {
            "aaxis": {
             "endlinecolor": "#2a3f5f",
             "gridcolor": "white",
             "linecolor": "white",
             "minorgridcolor": "white",
             "startlinecolor": "#2a3f5f"
            },
            "baxis": {
             "endlinecolor": "#2a3f5f",
             "gridcolor": "white",
             "linecolor": "white",
             "minorgridcolor": "white",
             "startlinecolor": "#2a3f5f"
            },
            "type": "carpet"
           }
          ],
          "choropleth": [
           {
            "colorbar": {
             "outlinewidth": 0,
             "ticks": ""
            },
            "type": "choropleth"
           }
          ],
          "contour": [
           {
            "colorbar": {
             "outlinewidth": 0,
             "ticks": ""
            },
            "colorscale": [
             [
              0,
              "#0d0887"
             ],
             [
              0.1111111111111111,
              "#46039f"
             ],
             [
              0.2222222222222222,
              "#7201a8"
             ],
             [
              0.3333333333333333,
              "#9c179e"
             ],
             [
              0.4444444444444444,
              "#bd3786"
             ],
             [
              0.5555555555555556,
              "#d8576b"
             ],
             [
              0.6666666666666666,
              "#ed7953"
             ],
             [
              0.7777777777777778,
              "#fb9f3a"
             ],
             [
              0.8888888888888888,
              "#fdca26"
             ],
             [
              1,
              "#f0f921"
             ]
            ],
            "type": "contour"
           }
          ],
          "contourcarpet": [
           {
            "colorbar": {
             "outlinewidth": 0,
             "ticks": ""
            },
            "type": "contourcarpet"
           }
          ],
          "heatmap": [
           {
            "colorbar": {
             "outlinewidth": 0,
             "ticks": ""
            },
            "colorscale": [
             [
              0,
              "#0d0887"
             ],
             [
              0.1111111111111111,
              "#46039f"
             ],
             [
              0.2222222222222222,
              "#7201a8"
             ],
             [
              0.3333333333333333,
              "#9c179e"
             ],
             [
              0.4444444444444444,
              "#bd3786"
             ],
             [
              0.5555555555555556,
              "#d8576b"
             ],
             [
              0.6666666666666666,
              "#ed7953"
             ],
             [
              0.7777777777777778,
              "#fb9f3a"
             ],
             [
              0.8888888888888888,
              "#fdca26"
             ],
             [
              1,
              "#f0f921"
             ]
            ],
            "type": "heatmap"
           }
          ],
          "heatmapgl": [
           {
            "colorbar": {
             "outlinewidth": 0,
             "ticks": ""
            },
            "colorscale": [
             [
              0,
              "#0d0887"
             ],
             [
              0.1111111111111111,
              "#46039f"
             ],
             [
              0.2222222222222222,
              "#7201a8"
             ],
             [
              0.3333333333333333,
              "#9c179e"
             ],
             [
              0.4444444444444444,
              "#bd3786"
             ],
             [
              0.5555555555555556,
              "#d8576b"
             ],
             [
              0.6666666666666666,
              "#ed7953"
             ],
             [
              0.7777777777777778,
              "#fb9f3a"
             ],
             [
              0.8888888888888888,
              "#fdca26"
             ],
             [
              1,
              "#f0f921"
             ]
            ],
            "type": "heatmapgl"
           }
          ],
          "histogram": [
           {
            "marker": {
             "pattern": {
              "fillmode": "overlay",
              "size": 10,
              "solidity": 0.2
             }
            },
            "type": "histogram"
           }
          ],
          "histogram2d": [
           {
            "colorbar": {
             "outlinewidth": 0,
             "ticks": ""
            },
            "colorscale": [
             [
              0,
              "#0d0887"
             ],
             [
              0.1111111111111111,
              "#46039f"
             ],
             [
              0.2222222222222222,
              "#7201a8"
             ],
             [
              0.3333333333333333,
              "#9c179e"
             ],
             [
              0.4444444444444444,
              "#bd3786"
             ],
             [
              0.5555555555555556,
              "#d8576b"
             ],
             [
              0.6666666666666666,
              "#ed7953"
             ],
             [
              0.7777777777777778,
              "#fb9f3a"
             ],
             [
              0.8888888888888888,
              "#fdca26"
             ],
             [
              1,
              "#f0f921"
             ]
            ],
            "type": "histogram2d"
           }
          ],
          "histogram2dcontour": [
           {
            "colorbar": {
             "outlinewidth": 0,
             "ticks": ""
            },
            "colorscale": [
             [
              0,
              "#0d0887"
             ],
             [
              0.1111111111111111,
              "#46039f"
             ],
             [
              0.2222222222222222,
              "#7201a8"
             ],
             [
              0.3333333333333333,
              "#9c179e"
             ],
             [
              0.4444444444444444,
              "#bd3786"
             ],
             [
              0.5555555555555556,
              "#d8576b"
             ],
             [
              0.6666666666666666,
              "#ed7953"
             ],
             [
              0.7777777777777778,
              "#fb9f3a"
             ],
             [
              0.8888888888888888,
              "#fdca26"
             ],
             [
              1,
              "#f0f921"
             ]
            ],
            "type": "histogram2dcontour"
           }
          ],
          "mesh3d": [
           {
            "colorbar": {
             "outlinewidth": 0,
             "ticks": ""
            },
            "type": "mesh3d"
           }
          ],
          "parcoords": [
           {
            "line": {
             "colorbar": {
              "outlinewidth": 0,
              "ticks": ""
             }
            },
            "type": "parcoords"
           }
          ],
          "pie": [
           {
            "automargin": true,
            "type": "pie"
           }
          ],
          "scatter": [
           {
            "fillpattern": {
             "fillmode": "overlay",
             "size": 10,
             "solidity": 0.2
            },
            "type": "scatter"
           }
          ],
          "scatter3d": [
           {
            "line": {
             "colorbar": {
              "outlinewidth": 0,
              "ticks": ""
             }
            },
            "marker": {
             "colorbar": {
              "outlinewidth": 0,
              "ticks": ""
             }
            },
            "type": "scatter3d"
           }
          ],
          "scattercarpet": [
           {
            "marker": {
             "colorbar": {
              "outlinewidth": 0,
              "ticks": ""
             }
            },
            "type": "scattercarpet"
           }
          ],
          "scattergeo": [
           {
            "marker": {
             "colorbar": {
              "outlinewidth": 0,
              "ticks": ""
             }
            },
            "type": "scattergeo"
           }
          ],
          "scattergl": [
           {
            "marker": {
             "colorbar": {
              "outlinewidth": 0,
              "ticks": ""
             }
            },
            "type": "scattergl"
           }
          ],
          "scattermapbox": [
           {
            "marker": {
             "colorbar": {
              "outlinewidth": 0,
              "ticks": ""
             }
            },
            "type": "scattermapbox"
           }
          ],
          "scatterpolar": [
           {
            "marker": {
             "colorbar": {
              "outlinewidth": 0,
              "ticks": ""
             }
            },
            "type": "scatterpolar"
           }
          ],
          "scatterpolargl": [
           {
            "marker": {
             "colorbar": {
              "outlinewidth": 0,
              "ticks": ""
             }
            },
            "type": "scatterpolargl"
           }
          ],
          "scatterternary": [
           {
            "marker": {
             "colorbar": {
              "outlinewidth": 0,
              "ticks": ""
             }
            },
            "type": "scatterternary"
           }
          ],
          "surface": [
           {
            "colorbar": {
             "outlinewidth": 0,
             "ticks": ""
            },
            "colorscale": [
             [
              0,
              "#0d0887"
             ],
             [
              0.1111111111111111,
              "#46039f"
             ],
             [
              0.2222222222222222,
              "#7201a8"
             ],
             [
              0.3333333333333333,
              "#9c179e"
             ],
             [
              0.4444444444444444,
              "#bd3786"
             ],
             [
              0.5555555555555556,
              "#d8576b"
             ],
             [
              0.6666666666666666,
              "#ed7953"
             ],
             [
              0.7777777777777778,
              "#fb9f3a"
             ],
             [
              0.8888888888888888,
              "#fdca26"
             ],
             [
              1,
              "#f0f921"
             ]
            ],
            "type": "surface"
           }
          ],
          "table": [
           {
            "cells": {
             "fill": {
              "color": "#EBF0F8"
             },
             "line": {
              "color": "white"
             }
            },
            "header": {
             "fill": {
              "color": "#C8D4E3"
             },
             "line": {
              "color": "white"
             }
            },
            "type": "table"
           }
          ]
         },
         "layout": {
          "annotationdefaults": {
           "arrowcolor": "#2a3f5f",
           "arrowhead": 0,
           "arrowwidth": 1
          },
          "autotypenumbers": "strict",
          "coloraxis": {
           "colorbar": {
            "outlinewidth": 0,
            "ticks": ""
           }
          },
          "colorscale": {
           "diverging": [
            [
             0,
             "#8e0152"
            ],
            [
             0.1,
             "#c51b7d"
            ],
            [
             0.2,
             "#de77ae"
            ],
            [
             0.3,
             "#f1b6da"
            ],
            [
             0.4,
             "#fde0ef"
            ],
            [
             0.5,
             "#f7f7f7"
            ],
            [
             0.6,
             "#e6f5d0"
            ],
            [
             0.7,
             "#b8e186"
            ],
            [
             0.8,
             "#7fbc41"
            ],
            [
             0.9,
             "#4d9221"
            ],
            [
             1,
             "#276419"
            ]
           ],
           "sequential": [
            [
             0,
             "#0d0887"
            ],
            [
             0.1111111111111111,
             "#46039f"
            ],
            [
             0.2222222222222222,
             "#7201a8"
            ],
            [
             0.3333333333333333,
             "#9c179e"
            ],
            [
             0.4444444444444444,
             "#bd3786"
            ],
            [
             0.5555555555555556,
             "#d8576b"
            ],
            [
             0.6666666666666666,
             "#ed7953"
            ],
            [
             0.7777777777777778,
             "#fb9f3a"
            ],
            [
             0.8888888888888888,
             "#fdca26"
            ],
            [
             1,
             "#f0f921"
            ]
           ],
           "sequentialminus": [
            [
             0,
             "#0d0887"
            ],
            [
             0.1111111111111111,
             "#46039f"
            ],
            [
             0.2222222222222222,
             "#7201a8"
            ],
            [
             0.3333333333333333,
             "#9c179e"
            ],
            [
             0.4444444444444444,
             "#bd3786"
            ],
            [
             0.5555555555555556,
             "#d8576b"
            ],
            [
             0.6666666666666666,
             "#ed7953"
            ],
            [
             0.7777777777777778,
             "#fb9f3a"
            ],
            [
             0.8888888888888888,
             "#fdca26"
            ],
            [
             1,
             "#f0f921"
            ]
           ]
          },
          "colorway": [
           "#636efa",
           "#EF553B",
           "#00cc96",
           "#ab63fa",
           "#FFA15A",
           "#19d3f3",
           "#FF6692",
           "#B6E880",
           "#FF97FF",
           "#FECB52"
          ],
          "font": {
           "color": "#2a3f5f"
          },
          "geo": {
           "bgcolor": "white",
           "lakecolor": "white",
           "landcolor": "#E5ECF6",
           "showlakes": true,
           "showland": true,
           "subunitcolor": "white"
          },
          "hoverlabel": {
           "align": "left"
          },
          "hovermode": "closest",
          "mapbox": {
           "style": "light"
          },
          "paper_bgcolor": "white",
          "plot_bgcolor": "#E5ECF6",
          "polar": {
           "angularaxis": {
            "gridcolor": "white",
            "linecolor": "white",
            "ticks": ""
           },
           "bgcolor": "#E5ECF6",
           "radialaxis": {
            "gridcolor": "white",
            "linecolor": "white",
            "ticks": ""
           }
          },
          "scene": {
           "xaxis": {
            "backgroundcolor": "#E5ECF6",
            "gridcolor": "white",
            "gridwidth": 2,
            "linecolor": "white",
            "showbackground": true,
            "ticks": "",
            "zerolinecolor": "white"
           },
           "yaxis": {
            "backgroundcolor": "#E5ECF6",
            "gridcolor": "white",
            "gridwidth": 2,
            "linecolor": "white",
            "showbackground": true,
            "ticks": "",
            "zerolinecolor": "white"
           },
           "zaxis": {
            "backgroundcolor": "#E5ECF6",
            "gridcolor": "white",
            "gridwidth": 2,
            "linecolor": "white",
            "showbackground": true,
            "ticks": "",
            "zerolinecolor": "white"
           }
          },
          "shapedefaults": {
           "line": {
            "color": "#2a3f5f"
           }
          },
          "ternary": {
           "aaxis": {
            "gridcolor": "white",
            "linecolor": "white",
            "ticks": ""
           },
           "baxis": {
            "gridcolor": "white",
            "linecolor": "white",
            "ticks": ""
           },
           "bgcolor": "#E5ECF6",
           "caxis": {
            "gridcolor": "white",
            "linecolor": "white",
            "ticks": ""
           }
          },
          "title": {
           "x": 0.05
          },
          "xaxis": {
           "automargin": true,
           "gridcolor": "white",
           "linecolor": "white",
           "ticks": "",
           "title": {
            "standoff": 15
           },
           "zerolinecolor": "white",
           "zerolinewidth": 2
          },
          "yaxis": {
           "automargin": true,
           "gridcolor": "white",
           "linecolor": "white",
           "ticks": "",
           "title": {
            "standoff": 15
           },
           "zerolinecolor": "white",
           "zerolinewidth": 2
          }
         }
        },
        "title": {
         "text": "Evolución de energía diaría de demanda en barra central"
        },
        "xaxis": {
         "anchor": "y",
         "domain": [
          0,
          1
         ],
         "title": {
          "text": "Fecha actualización"
         }
        },
        "yaxis": {
         "anchor": "x",
         "domain": [
          0,
          1
         ],
         "title": {
          "text": "Valores"
         }
        }
       }
      }
     },
     "metadata": {},
     "output_type": "display_data"
    }
   ],
   "source": [
    "\n",
    "fig_dbc = px.line(data_frame = df_balance[df_balance['tipo de energía'] == 'Demanda en b.c.'],\n",
    "        x = 'Fecha actualización',\n",
    "        y = 'Valores',\n",
    "        color = 'nombre',\n",
    "        color_discrete_sequence = colores_personalizados\n",
    ")\n",
    "\n",
    "fig_dbc.update_layout(title = 'Evolución de energía diaría de demanda en barra central')\n",
    "\n",
    "fig_dbc.show()"
   ]
  },
  {
   "cell_type": "code",
   "execution_count": 46,
   "metadata": {},
   "outputs": [
    {
     "name": "stderr",
     "output_type": "stream",
     "text": [
      "/opt/anaconda3/lib/python3.11/site-packages/plotly/express/_core.py:1979: FutureWarning:\n",
      "\n",
      "When grouping with a length-1 list-like, you will need to pass a length-1 tuple to get_group in a future version of pandas. Pass `(name,)` instead of `name` to silence this warning.\n",
      "\n"
     ]
    },
    {
     "data": {
      "application/vnd.plotly.v1+json": {
       "config": {
        "plotlyServerURL": "https://plot.ly"
       },
       "data": [
        {
         "hovertemplate": "nombre=Hidráulica<br>index=%{x}<br>Valores=%{y}<br>Porcentaje=%{marker.size}<extra></extra>",
         "legendgroup": "Hidráulica",
         "marker": {
          "color": "#636EFA",
          "opacity": 0.3,
          "size": [
           0.1472084770042999,
           0.14708685743771382,
           0.08875352620542053,
           0.08887464229915346,
           0.13084605887061856,
           0.10316302136103184,
           0.04854772475905346,
           0.11717150308178342,
           0.13880498533475116,
           0.0827000912497088,
           0.04855912943038631,
           0.08189613320476385,
           0.0974950181565906,
           0.08910370405279157,
           0.14804954035824006,
           0.15323501313016835,
           0.13932634758565357,
           0.1414097734545556,
           0.17337856086182132,
           0.1071871786063587,
           0.09300701162747356,
           0.08495832321696827,
           0.09034885496630168,
           0.09858452240877115,
           0.16236313308170489,
           0.1645262870167077,
           0.1015025858578189,
           0.09866084433481553,
           0.17600166501357148,
           0.18924656905938553,
           0.1890630400933637
          ],
          "sizemode": "area",
          "sizeref": 0.0011111111111111111,
          "symbol": "circle"
         },
         "mode": "markers",
         "name": "Hidráulica",
         "orientation": "v",
         "showlegend": true,
         "type": "scatter",
         "x": [
          0,
          1,
          2,
          3,
          4,
          5,
          6,
          7,
          8,
          9,
          10,
          11,
          12,
          13,
          14,
          15,
          16,
          17,
          18,
          19,
          20,
          21,
          22,
          23,
          24,
          25,
          26,
          27,
          28,
          29,
          30
         ],
         "xaxis": "x",
         "y": [
          34410.083,
          36184.276,
          27251.012,
          24805.877,
          31052.893,
          24153.141,
          15558.041,
          31779.909,
          33073.974,
          29080.481,
          20213.244,
          31118.702,
          24335.723,
          23312.579,
          38970.565,
          40808.219,
          44279.829,
          41709.912,
          43508.807,
          27451.729,
          23512.598,
          25842.727,
          27088.352,
          27620.756,
          38745.423,
          41528.037,
          24530.895,
          22871.902,
          41941.542,
          43709.116,
          46674.527
         ],
         "yaxis": "y"
        },
        {
         "hovertemplate": "nombre=Eólica<br>index=%{x}<br>Valores=%{y}<br>Porcentaje=%{marker.size}<extra></extra>",
         "legendgroup": "Eólica",
         "marker": {
          "color": "#EF553B",
          "opacity": 0.3,
          "size": [
           0.2317528650541157,
           0.2459717795586034,
           0.39455727309162686,
           0.40981655422958907,
           0.43287224423078935,
           0.5261509450067124,
           0.6538366624686113,
           0.46857924142487134,
           0.2596718694403495,
           0.43895195242422075,
           0.7217684045623478,
           0.5045774485725275,
           0.24923851882437056,
           0.3094255786026163,
           0.22597156035776003,
           0.2504691778548019,
           0.37468028994969543,
           0.31773166283794924,
           0.19423932322502896,
           0.2803119788363909,
           0.26637459837579014,
           0.4049522885250245,
           0.41153525756627773,
           0.37247751660720946,
           0.21141310980676697,
           0.25520664341405086,
           0.31247316892245314,
           0.2570352860800921,
           0.22582378114415985,
           0.17476397788989043,
           0.18846118365412967
          ],
          "sizemode": "area",
          "sizeref": 0.0011111111111111111,
          "symbol": "circle"
         },
         "mode": "markers",
         "name": "Eólica",
         "orientation": "v",
         "showlegend": true,
         "type": "scatter",
         "x": [
          31,
          32,
          33,
          34,
          35,
          36,
          37,
          38,
          39,
          40,
          41,
          42,
          43,
          44,
          45,
          46,
          47,
          48,
          49,
          50,
          51,
          52,
          53,
          54,
          55,
          56,
          57,
          58,
          59,
          60,
          61
         ],
         "xaxis": "x",
         "y": [
          54172.392,
          60510.578,
          121145.44,
          114384.247,
          102730.916,
          123185.593,
          209534.384,
          127090.677,
          61873.719,
          154352.114,
          300443.625,
          191728.164,
          62212.405,
          80956.323,
          59481.707,
          66702.778,
          119078.548,
          93717.424,
          48743.75,
          71790.755,
          67340.717,
          123178.884,
          123386.311,
          104358.274,
          50450.433,
          64416.642,
          75517.746,
          59586.819,
          53814.25,
          40364.161,
          46525.945
         ],
         "yaxis": "y"
        },
        {
         "hovertemplate": "nombre=Solar fotovoltaica<br>index=%{x}<br>Valores=%{y}<br>Porcentaje=%{marker.size}<extra></extra>",
         "legendgroup": "Solar fotovoltaica",
         "marker": {
          "color": "#00CC96",
          "opacity": 0.3,
          "size": [
           0.5056256400903579,
           0.48034264326135495,
           0.4137456819064013,
           0.4030442521259129,
           0.35381952172324577,
           0.31422970890079355,
           0.25749846621672035,
           0.35764720142677103,
           0.483013026749417,
           0.38941760972538353,
           0.19044566734553975,
           0.34996839544557296,
           0.5271542360579246,
           0.4763559225411751,
           0.5076287412653462,
           0.47793510168911424,
           0.3915413728952886,
           0.4421610837082058,
           0.5118696858497167,
           0.49360743326603945,
           0.5170774945767448,
           0.4163561020812109,
           0.4026042252079579,
           0.4348502224253299,
           0.509300454313445,
           0.4782686435021774,
           0.49019083538121533,
           0.5240016922788424,
           0.48279507762255663,
           0.5145475558817865,
           0.5006456401159357
          ],
          "sizemode": "area",
          "sizeref": 0.0011111111111111111,
          "symbol": "circle"
         },
         "mode": "markers",
         "name": "Solar fotovoltaica",
         "orientation": "v",
         "showlegend": true,
         "type": "scatter",
         "x": [
          62,
          63,
          64,
          65,
          66,
          67,
          68,
          69,
          70,
          71,
          72,
          73,
          74,
          75,
          76,
          77,
          78,
          79,
          80,
          81,
          82,
          83,
          84,
          85,
          86,
          87,
          88,
          89,
          90,
          91,
          92
         ],
         "xaxis": "x",
         "y": [
          118190.342,
          118167.259,
          127037.077,
          112494.024,
          83969.818,
          73569.331,
          82520.277,
          97003.07,
          115090.681,
          136933.965,
          79274.995,
          132980.176,
          131582.923,
          124631.015,
          133621.346,
          127279.529,
          124437.232,
          130418.849,
          128452.095,
          126417.895,
          130719.556,
          126647.71,
          120708.613,
          121833.444,
          121536.59,
          120719.663,
          118468.114,
          121475.905,
          115051.014,
          118841.884,
          123595.804
         ],
         "yaxis": "y"
        },
        {
         "hovertemplate": "nombre=Solar térmica<br>index=%{x}<br>Valores=%{y}<br>Porcentaje=%{marker.size}<extra></extra>",
         "legendgroup": "Solar térmica",
         "marker": {
          "color": "#AB63FA",
          "opacity": 0.3,
          "size": [
           0.06167779025952349,
           0.07387579028730946,
           0.06241182929248541,
           0.05170031897416327,
           0.026470228271749965,
           0.005678264053730122,
           0.008999063759688909,
           0.017545343556661052,
           0.0705025673171868,
           0.05779233349248714,
           0.012567127807786719,
           0.03379493313201168,
           0.07993355215824301,
           0.08621243099574546,
           0.07799024640822852,
           0.07924313094123138,
           0.061203182681680714,
           0.06313258927699937,
           0.07836226480275392,
           0.07692047617956384,
           0.0849372842341506,
           0.060248675372724415,
           0.05359936540626755,
           0.0477200167406357,
           0.06307371556931339,
           0.04823133646293789,
           0.042025097181404375,
           0.06732848554318788,
           0.06271399490767517,
           0.06534829613096721,
           0.06696519527021576
          ],
          "sizemode": "area",
          "sizeref": 0.0011111111111111111,
          "symbol": "circle"
         },
         "mode": "markers",
         "name": "Solar térmica",
         "orientation": "v",
         "showlegend": true,
         "type": "scatter",
         "x": [
          93,
          94,
          95,
          96,
          97,
          98,
          99,
          100,
          101,
          102,
          103,
          104,
          105,
          106,
          107,
          108,
          109,
          110,
          111,
          112,
          113,
          114,
          115,
          116,
          117,
          118,
          119,
          120,
          121,
          122,
          123
         ],
         "xaxis": "x",
         "y": [
          14417.226,
          18173.901,
          19163.019,
          14430.12,
          6282.017,
          1329.429,
          2883.921,
          4758.746,
          16799.109,
          20321.971,
          5231.198,
          12841.32,
          19952.207,
          22556.123,
          20529.101,
          21103.343,
          19451.213,
          18621.448,
          19664.765,
          19700.118,
          21472.534,
          18326.516,
          16070.137,
          13369.877,
          15051.556,
          12174.059,
          10156.522,
          15608.325,
          14944.868,
          15093.094,
          16531.887
         ],
         "yaxis": "y"
        },
        {
         "hovertemplate": "nombre=Hidroeólica<br>index=%{x}<br>Valores=%{y}<br>Porcentaje=%{marker.size}<extra></extra>",
         "legendgroup": "Hidroeólica",
         "marker": {
          "color": "#FFA15A",
          "opacity": 0.3,
          "size": [
           0.00012256220531918475,
           0.00015444327424123393,
           0.00016161661192221348,
           0.0002693840094905231,
           0.00030130555409640323,
           0.00010599849937185093,
           0.00022404038800582414,
           0.0003025636435082427,
           0.00040992702441977955,
           0.0001197937078070591,
           0.00010433612488381913,
           0.00012994710927376164,
           0.00020097759498838492,
           0.0001534546913070205,
           0.00020587211505795176,
           0.00026009784093952666,
           0.0002955504599785252,
           0.00032321236598429183,
           0.00011193604491634441,
           0.000008558815931234723,
           3.045830960626071e-7,
           0.000006729540873342587,
           0.0000709326687193203,
           0.00009348497959036797,
           0.000012349436814557019,
           0.000014278371462831595,
           0.00002023771034161584,
           0.00005853591265052845,
           0.000044548521267627086,
           0.000026484664273152112,
           0.000058155448830160024
          ],
          "sizemode": "area",
          "sizeref": 0.0011111111111111111,
          "symbol": "circle"
         },
         "mode": "markers",
         "name": "Hidroeólica",
         "orientation": "v",
         "showlegend": true,
         "type": "scatter",
         "x": [
          124,
          125,
          126,
          127,
          128,
          129,
          130,
          131,
          132,
          133,
          134,
          135,
          136,
          137,
          138,
          139,
          140,
          141,
          142,
          143,
          144,
          145,
          146,
          147,
          148,
          149,
          150,
          151,
          152,
          153,
          154
         ],
         "xaxis": "x",
         "y": [
          28.649,
          37.994,
          49.623,
          75.188,
          71.507,
          24.817,
          71.798,
          82.063,
          97.676,
          42.124,
          43.431,
          49.377,
          50.166,
          40.149,
          54.191,
          69.267,
          93.93,
          95.334,
          28.09,
          -2.192,
          -0.077,
          2.047,
          21.267,
          26.192,
          2.947,
          3.604,
          4.891,
          13.57,
          10.616,
          6.117,
          14.357
         ],
         "yaxis": "y"
        },
        {
         "hovertemplate": "nombre=Otras renovables<br>index=%{x}<br>Valores=%{y}<br>Porcentaje=%{marker.size}<extra></extra>",
         "legendgroup": "Otras renovables",
         "marker": {
          "color": "#19D3F3",
          "opacity": 0.3,
          "size": [
           0.04325444353395158,
           0.04416743911846556,
           0.03525470503483183,
           0.03805829469177157,
           0.04555115767653535,
           0.04048923136057584,
           0.023176803083271046,
           0.029148183481999806,
           0.036597952017579295,
           0.023737343314801925,
           0.02075025733649609,
           0.023341563637114923,
           0.036046973823511574,
           0.0290043432008113,
           0.03008541867350918,
           0.02932420945038865,
           0.024599026945813392,
           0.026222011019109478,
           0.03161233304727942,
           0.0317872549492788,
           0.02802512578742914,
           0.024552198942901886,
           0.032864992886379216,
           0.036590364370521454,
           0.04238498106668326,
           0.04290228295391677,
           0.04304920559694134,
           0.04247718245213689,
           0.04239099391550749,
           0.04526769468584669,
           0.044225835532015985
          ],
          "sizemode": "area",
          "sizeref": 0.0011111111111111111,
          "symbol": "circle"
         },
         "mode": "markers",
         "name": "Otras renovables",
         "orientation": "v",
         "showlegend": true,
         "type": "scatter",
         "x": [
          155,
          156,
          157,
          158,
          159,
          160,
          161,
          162,
          163,
          164,
          165,
          166,
          167,
          168,
          169,
          170,
          171,
          172,
          173,
          174,
          175,
          176,
          177,
          178,
          179,
          180,
          181,
          182,
          183,
          184,
          185
         ],
         "xaxis": "x",
         "y": [
          10110.756,
          10865.463,
          10824.656,
          10622.483,
          10810.377,
          9479.58,
          7427.447,
          7905.733,
          8720.434,
          8346.948,
          8637.511,
          8869.273,
          8997.682,
          7588.529,
          7919.28,
          7809.369,
          7817.909,
          7734.386,
          7933.016,
          8141.04,
          7084.88,
          7468.318,
          9853.567,
          10251.645,
          10114.513,
          10828.954,
          10404.026,
          9847.209,
          10101.857,
          10455.201,
          10918.157
         ],
         "yaxis": "y"
        },
        {
         "hovertemplate": "nombre=Residuos renovables<br>index=%{x}<br>Valores=%{y}<br>Porcentaje=%{marker.size}<extra></extra>",
         "legendgroup": "Residuos renovables",
         "marker": {
          "color": "#FF6692",
          "opacity": 0.3,
          "size": [
           0.010358221852432226,
           0.008401047062311508,
           0.005115367857311855,
           0.008236553669919041,
           0.010139483672964467,
           0.010182830817784252,
           0.00771723932464932,
           0.0096059633844051,
           0.010999672116296356,
           0.00728087608559084,
           0.0058050773925596415,
           0.00629157889873537,
           0.009930723384371357,
           0.009744565915553175,
           0.010068620821858078,
           0.009533269093355954,
           0.008354229481889944,
           0.009019667337196545,
           0.010425896168483377,
           0.010177119346436943,
           0.010578180815315905,
           0.00892568232029651,
           0.008976371298096706,
           0.00968387246794218,
           0.011452256725271974,
           0.010850528278746519,
           0.010738869349825281,
           0.010437973398274694,
           0.01022993887526184,
           0.010799421687850376,
           0.010580949885509068
          ],
          "sizemode": "area",
          "sizeref": 0.0011111111111111111,
          "symbol": "circle"
         },
         "mode": "markers",
         "name": "Residuos renovables",
         "orientation": "v",
         "showlegend": true,
         "type": "scatter",
         "x": [
          186,
          187,
          188,
          189,
          190,
          191,
          192,
          193,
          194,
          195,
          196,
          197,
          198,
          199,
          200,
          201,
          202,
          203,
          204,
          205,
          206,
          207,
          208,
          209,
          210,
          211,
          212,
          213,
          214,
          215,
          216
         ],
         "xaxis": "x",
         "y": [
          2421.2415,
          2066.7095,
          1570.63,
          2298.9115,
          2406.3415,
          2384.065,
          2473.136,
          2605.383,
          2620.964,
          2560.2315,
          2416.424,
          2390.6595,
          2478.807,
          2549.512,
          2650.328,
          2538.8175,
          2655.089,
          2660.421,
          2616.346,
          2606.464,
          2674.2125,
          2715.025,
          2691.2915,
          2713.163,
          2732.902,
          2738.779,
          2595.3435,
          2419.7675,
          2437.8145,
          2494.276,
          2612.149
         ],
         "yaxis": "y"
        },
        {
         "hovertemplate": "nombre=Generación renovable<br>index=%{x}<br>Valores=%{y}<br>Porcentaje=%{marker.size}<extra></extra>",
         "legendgroup": "Generación renovable",
         "marker": {
          "color": "#B6E880",
          "opacity": 0.3,
          "size": [
           1,
           1,
           1,
           1,
           1,
           1,
           1,
           1,
           1,
           1,
           1,
           1,
           1,
           1,
           1,
           1,
           1,
           1,
           1,
           1,
           1,
           1,
           1,
           1,
           1,
           1,
           1,
           1,
           1,
           1,
           1
          ],
          "sizemode": "area",
          "sizeref": 0.0011111111111111111,
          "symbol": "circle"
         },
         "mode": "markers",
         "name": "Generación renovable",
         "orientation": "v",
         "showlegend": true,
         "type": "scatter",
         "x": [
          217,
          218,
          219,
          220,
          221,
          222,
          223,
          224,
          225,
          226,
          227,
          228,
          229,
          230,
          231,
          232,
          233,
          234,
          235,
          236,
          237,
          238,
          239,
          240,
          241,
          242,
          243,
          244,
          245,
          246,
          247
         ],
         "xaxis": "x",
         "y": [
          233750.6895,
          246006.18050000002,
          307041.457,
          279110.85050000006,
          237323.86950000003,
          234125.956,
          320469.00399999996,
          271225.581,
          238276.55700000003,
          351637.8345,
          416260.42799999996,
          379977.6715,
          249609.913,
          261634.23,
          263226.518,
          266311.3225,
          317813.74999999994,
          294957.7739999999,
          250946.869,
          256105.809,
          252804.42049999998,
          304181.2270000001,
          299819.53849999997,
          280173.35099999997,
          238634.364,
          252409.738,
          241677.5375,
          231823.4975,
          238301.96149999998,
          230963.84900000005,
          246872.826
         ],
         "yaxis": "y"
        },
        {
         "hovertemplate": "nombre=Turbinación bombeo<br>index=%{x}<br>Valores=%{y}<br>Porcentaje=%{marker.size}<extra></extra>",
         "legendgroup": "Turbinación bombeo",
         "marker": {
          "color": "#FF97FF",
          "opacity": 0.3,
          "size": [
           0.011435985372471424,
           0.009012009217097909,
           0.015741514911671115,
           0.019324626483161644,
           0.022743695056564085,
           0.02881799678821133,
           0.03343070635398045,
           0.04020949545686121,
           0.017224887741445073,
           0.03532129351538835,
           0.05340233663394636,
           0.0512101607218503,
           0.04413444519127107,
           0.0435245818055634,
           0.035169530505021716,
           0.025314350753681537,
           0.03177269711924328,
           0.026058632889889542,
           0.026772365746635746,
           0.04420486318734566,
           0.04184651632965392,
           0.03373851076854634,
           0.02612840070052365,
           0.02996411689476388,
           0.01571077625575246,
           0.023319661062422937,
           0.03318605559343686,
           0.03678237597425869,
           0.030772445149059,
           0.022892859525104083,
           0.03680045716802266
          ],
          "sizemode": "area",
          "sizeref": 0.0011111111111111111,
          "symbol": "circle"
         },
         "mode": "markers",
         "name": "Turbinación bombeo",
         "orientation": "v",
         "showlegend": true,
         "type": "scatter",
         "x": [
          248,
          249,
          250,
          251,
          252,
          253,
          254,
          255,
          256,
          257,
          258,
          259,
          260,
          261,
          262,
          263,
          264,
          265,
          266,
          267,
          268,
          269,
          270,
          271,
          272,
          273,
          274,
          275,
          276,
          277,
          278
         ],
         "xaxis": "x",
         "y": [
          5242.136,
          4400.221,
          7140.595,
          8771.07,
          10597.651,
          10799.887,
          11025.302,
          15820.152,
          7985.467,
          12816.753,
          16807.971,
          17313.393,
          16396.046,
          14722.586,
          14649.407,
          10635.073,
          12962.414,
          11135.565,
          11965.273,
          16998.403,
          15326.548,
          13878.93,
          10751.625,
          13195.162,
          7382.646,
          10275.258,
          12323.618,
          13197.372,
          13078.548,
          10481.52,
          15061.23
         ],
         "yaxis": "y"
        },
        {
         "hovertemplate": "nombre=Nuclear<br>index=%{x}<br>Valores=%{y}<br>Porcentaje=%{marker.size}<extra></extra>",
         "legendgroup": "Nuclear",
         "marker": {
          "color": "#FECB52",
          "opacity": 0.3,
          "size": [
           0.3567151342909098,
           0.33483398450141505,
           0.3606694008619503,
           0.35849548278012766,
           0.35129878903894934,
           0.43717634449342585,
           0.4898790998052661,
           0.41655798303747976,
           0.354024066301478,
           0.39797429015271135,
           0.36669083681520104,
           0.37768138525271094,
           0.37440318700405634,
           0.40950034683915065,
           0.33251093719443725,
           0.3304159504050833,
           0.33945159801610575,
           0.3238832199930802,
           0.30953804192422807,
           0.35932655667019603,
           0.3759357098091159,
           0.3354635051782907,
           0.3605501552405442,
           0.3625171998050637,
           0.3284359575560146,
           0.3109005634744249,
           0.3707461243270552,
           0.3867751350226253,
           0.23698984422803557,
           0.2037030819585741,
           0.2295921368976625
          ],
          "sizemode": "area",
          "sizeref": 0.0011111111111111111,
          "symbol": "circle"
         },
         "mode": "markers",
         "name": "Nuclear",
         "orientation": "v",
         "showlegend": true,
         "type": "scatter",
         "x": [
          279,
          280,
          281,
          282,
          283,
          284,
          285,
          286,
          287,
          288,
          289,
          290,
          291,
          292,
          293,
          294,
          295,
          296,
          297,
          298,
          299,
          300,
          301,
          302,
          303,
          304,
          305,
          306,
          307,
          308,
          309
         ],
         "xaxis": "x",
         "y": [
          163514.484,
          163486.687,
          163605.227,
          162714.088,
          163691.166,
          163837.034,
          161560.003,
          163891.9,
          164125.743,
          144409.722,
          115413.095,
          127688.454,
          139091.629,
          138517.22,
          138503.073,
          138814.453,
          138487.209,
          138404.139,
          138340.676,
          138174.336,
          137688.802,
          137998.815,
          148363.465,
          159640.052,
          154335.239,
          136990.992,
          137676.308,
          138773.399,
          100722.677,
          93265.672,
          93964.593
         ],
         "yaxis": "y"
        },
        {
         "hovertemplate": "nombre=Ciclo combinado<br>index=%{x}<br>Valores=%{y}<br>Porcentaje=%{marker.size}<extra></extra>",
         "legendgroup": "Ciclo combinado",
         "marker": {
          "color": "rgb(102, 197, 204)",
          "opacity": 0.3,
          "size": [
           0.4525125484785965,
           0.4893209915710231,
           0.44635232143417325,
           0.44031372301377303,
           0.4455896825956712,
           0.3306768794944605,
           0.2814773271245919,
           0.3404445159205274,
           0.4533036367894536,
           0.34928491776572734,
           0.33635621750787636,
           0.3372920440639277,
           0.37848990241800873,
           0.34621676981151334,
           0.4346312358107706,
           0.4376339221273243,
           0.4201599462278615,
           0.4494475172661041,
           0.4655136288493093,
           0.4016177961824131,
           0.3907883520561335,
           0.4341357695764435,
           0.4164419006940308,
           0.41903519335086087,
           0.47304023247530813,
           0.4695320505169837,
           0.37785854411683945,
           0.35663874318646216,
           0.5189313330071147,
           0.5697246414587311,
           0.5066609227457046
          ],
          "sizemode": "area",
          "sizeref": 0.0011111111111111111,
          "symbol": "circle"
         },
         "mode": "markers",
         "name": "Ciclo combinado",
         "orientation": "v",
         "showlegend": true,
         "type": "scatter",
         "x": [
          310,
          311,
          312,
          313,
          314,
          315,
          316,
          317,
          318,
          319,
          320,
          321,
          322,
          323,
          324,
          325,
          326,
          327,
          328,
          329,
          330,
          331,
          332,
          333,
          334,
          335,
          336,
          337,
          338,
          339,
          340
         ],
         "xaxis": "x",
         "y": [
          207427.016,
          238916.811,
          202472.327,
          199849.787,
          207626.946,
          123925.093,
          92830.002,
          133945.575,
          210151.804,
          126742.202,
          105865.509,
          114033.419,
          140609.853,
          117110.974,
          181039.945,
          183858.901,
          171414.065,
          192061.19,
          208050.26,
          154436.88,
          143128.675,
          178589.387,
          171362.465,
          184528.624,
          222286.189,
          206888.211,
          140317.5,
          127960.58,
          220550.181,
          260849.031,
          207359.834
         ],
         "yaxis": "y"
        },
        {
         "hovertemplate": "nombre=Carbón<br>index=%{x}<br>Valores=%{y}<br>Porcentaje=%{marker.size}<extra></extra>",
         "legendgroup": "Carbón",
         "marker": {
          "color": "rgb(246, 207, 113)",
          "opacity": 0.3,
          "size": [
           0.028669352242092584,
           0.02621780288978644,
           0.028060677557549898,
           0.028505030878269295,
           0.02662514667475729,
           0.032290172128814,
           0.03494152063806394,
           0.032839066629559065,
           0.02582178050812173,
           0.035564209596935195,
           0.04306679028231734,
           0.039055103205542355,
           0.03138851724392081,
           0.03171092190828637,
           0.03629114303617964,
           0.04631841005631733,
           0.048745530835640836,
           0.04640880284896196,
           0.04505611618260533,
           0.032911610178084735,
           0.033091539368462354,
           0.033495244158683046,
           0.03090674274175034,
           0.030875757429983337,
           0.027230068398887454,
           0.029182628138881752,
           0.030616768294863917,
           0.034105582452008544,
           0.0385005816255488,
           0.03983223933127948,
           0.049660416450884794
          ],
          "sizemode": "area",
          "sizeref": 0.0011111111111111111,
          "symbol": "circle"
         },
         "mode": "markers",
         "name": "Carbón",
         "orientation": "v",
         "showlegend": true,
         "type": "scatter",
         "x": [
          341,
          342,
          343,
          344,
          345,
          346,
          347,
          348,
          349,
          350,
          351,
          352,
          353,
          354,
          355,
          356,
          357,
          358,
          359,
          360,
          361,
          362,
          363,
          364,
          365,
          366,
          367,
          368,
          369,
          370,
          371
         ],
         "xaxis": "x",
         "y": [
          13141.731,
          12801.155,
          12728.758,
          12937.876,
          12406.252,
          12101.126,
          11523.562,
          12920.307,
          11970.991,
          12904.898,
          13554.938,
          13203.949,
          11660.905,
          10726.508,
          15116.6,
          19459.305,
          19886.878,
          19831.748,
          20136.761,
          12655.73,
          12119.983,
          13778.858,
          12717.874,
          13596.617,
          12795.673,
          12858.636,
          11369.515,
          12236.949,
          16363.071,
          18237.233,
          20324.393
         ],
         "yaxis": "y"
        },
        {
         "hovertemplate": "nombre=Motores diésel<br>index=%{x}<br>Valores=%{y}<br>Porcentaje=%{marker.size}<extra></extra>",
         "legendgroup": "Motores diésel",
         "marker": {
          "color": "rgb(248, 156, 116)",
          "opacity": 0.3,
          "size": [
           0.017836011519665292,
           0.015051617935023987,
           0.015304532479699932,
           0.015192443580982106,
           0.015415726196442126,
           0.020491923442418743,
           0.019869081723281844,
           0.01649846338932402,
           0.014410663145819347,
           0.019336092532438735,
           0.021409579538512465,
           0.020387351364407235,
           0.017248974613901204,
           0.018633109779162393,
           0.016808412654078123,
           0.015270834993150514,
           0.014507971795021125,
           0.013932007445787027,
           0.017137055648749778,
           0.020011980955463148,
           0.017964886777705788,
           0.017589744806198807,
           0.018927165224414066,
           0.016418792395014745,
           0.016680886065575704,
           0.018053596504196648,
           0.020290686732156612,
           0.020376572043933318,
           0.019474184029118168,
           0.018274423127905396,
           0.019885526206126276
          ],
          "sizemode": "area",
          "sizeref": 0.0011111111111111111,
          "symbol": "circle"
         },
         "mode": "markers",
         "name": "Motores diésel",
         "orientation": "v",
         "showlegend": true,
         "type": "scatter",
         "x": [
          372,
          373,
          374,
          375,
          376,
          377,
          378,
          379,
          380,
          381,
          382,
          383,
          384,
          385,
          386,
          387,
          388,
          389,
          390,
          391,
          392,
          393,
          394,
          395,
          396,
          397,
          398,
          399,
          400,
          401,
          402
         ],
         "xaxis": "x",
         "y": [
          8175.841,
          7349.132,
          6942.373,
          6895.553,
          7183.111,
          7679.592,
          6552.737,
          6491.208,
          6680.791,
          7016.332,
          6738.499,
          6892.66,
          6408.033,
          6302.819,
          7001.324,
          6415.588,
          5918.866,
          5953.527,
          7659,
          7695.346,
          6579.752,
          7235.851,
          7788.375,
          7230.269,
          7838.51,
          7954.891,
          7534.932,
          7311.034,
          8276.692,
          8366.964,
          8138.499
         ],
         "yaxis": "y"
        },
        {
         "hovertemplate": "nombre=Turbina de gas<br>index=%{x}<br>Valores=%{y}<br>Porcentaje=%{marker.size}<extra></extra>",
         "legendgroup": "Turbina de gas",
         "marker": {
          "color": "rgb(220, 176, 242)",
          "opacity": 0.3,
          "size": [
           0.005668445307117817,
           0.005737707235554001,
           0.006113624999887019,
           0.006060333842342928,
           0.006597060548440977,
           0.005714954070089923,
           0.006049855161224921,
           0.007796973258548187,
           0.005115143042601171,
           0.005543240533460471,
           0.005540457504338971,
           0.004610430739950342,
           0.003289880416527322,
           0.004023953791422428,
           0.00456182159940915,
           0.005517298069146332,
           0.00512408947486179,
           0.00453813047011781,
           0.0037785496013683453,
           0.005408819704980024,
           0.004529025827822981,
           0.006952173777694311,
           0.008017501866175903,
           0.006945015687152354,
           0.007239222923877138,
           0.006439736892107644,
           0.005689371403649494,
           0.005958172816839216,
           0.0080987573774143,
           0.007291556778311272,
           0.008573305374111459
          ],
          "sizemode": "area",
          "sizeref": 0.0011111111111111111,
          "symbol": "circle"
         },
         "mode": "markers",
         "name": "Turbina de gas",
         "orientation": "v",
         "showlegend": true,
         "type": "scatter",
         "x": [
          403,
          404,
          405,
          406,
          407,
          408,
          409,
          410,
          411,
          412,
          413,
          414,
          415,
          416,
          417,
          418,
          419,
          420,
          421,
          422,
          423,
          424,
          425,
          426,
          427,
          428,
          429,
          430,
          431,
          432,
          433
         ],
         "xaxis": "x",
         "y": [
          2598.356,
          2801.504,
          2773.235,
          2750.667,
          3073.966,
          2141.747,
          1995.216,
          3067.666,
          2371.383,
          2011.431,
          1743.816,
          1558.718,
          1222.198,
          1361.139,
          1900.167,
          2317.929,
          2090.492,
          1939.267,
          1688.733,
          2079.891,
          1658.784,
          2859.899,
          3299.137,
          3058.345,
          3401.781,
          2837.518,
          2112.744,
          2137.769,
          3442.04,
          3338.447,
          3508.775
         ],
         "yaxis": "y"
        },
        {
         "hovertemplate": "nombre=Turbina de vapor<br>index=%{x}<br>Valores=%{y}<br>Porcentaje=%{marker.size}<extra></extra>",
         "legendgroup": "Turbina de vapor",
         "marker": {
          "color": "rgb(135, 197, 95)",
          "opacity": 0.3,
          "size": [
           0.010481116275313035,
           0.008138977806867856,
           0.007263438027656419,
           0.00593770903873592,
           0.005915104941867971,
           0.007794279680923375,
           0.008716952082183834,
           0.00815080071052495,
           0.0071347352335289094,
           0.009015883623781841,
           0.01083096126795997,
           0.010363934583591182,
           0.008908715728206196,
           0.009393216536732788,
           0.00997005321694265,
           0.008516853093044134,
           0.008316020928425327,
           0.008226329265733696,
           0.010013656638010536,
           0.01008724144850956,
           0.010062886395031083,
           0.009247014240990503,
           0.009691964998761016,
           0.01050405052661533,
           0.010033459833526734,
           0.011162642876401318,
           0.013413293650765067,
           0.012751368711683345,
           0.01047244452118907,
           0.010568325428797742,
           0.010419970587938494
          ],
          "sizemode": "area",
          "sizeref": 0.0011111111111111111,
          "symbol": "circle"
         },
         "mode": "markers",
         "name": "Turbina de vapor",
         "orientation": "v",
         "showlegend": true,
         "type": "scatter",
         "x": [
          434,
          435,
          436,
          437,
          438,
          439,
          440,
          441,
          442,
          443,
          444,
          445,
          446,
          447,
          448,
          449,
          450,
          451,
          452,
          453,
          454,
          455,
          456,
          457,
          458,
          459,
          460,
          461,
          462,
          463,
          464
         ],
         "xaxis": "x",
         "y": [
          4804.434,
          3973.953,
          3294.808,
          2695.01,
          2756.202,
          2920.999,
          2874.813,
          3206.877,
          3307.667,
          3271.521,
          3408.961,
          3503.892,
          3309.608,
          3177.341,
          4152.895,
          3578.103,
          3392.715,
          3515.335,
          4475.366,
          3878.917,
          3685.595,
          3803.922,
          3988.165,
          4625.621,
          4714.82,
          4918.555,
          4981.017,
          4575.141,
          4450.877,
          4838.719,
          4264.555
         ],
         "yaxis": "y"
        },
        {
         "hovertemplate": "nombre=Fuel + Gas<br>index=%{x}<br>Valores=%{y}<br>Porcentaje=%{marker.size}<extra></extra>",
         "legendgroup": "Fuel + Gas",
         "marker": {
          "color": "rgb(158, 185, 243)",
          "opacity": 0.3,
          "size": [
           2.2708411533533186e-9
          ],
          "sizemode": "area",
          "sizeref": 0.0011111111111111111,
          "symbol": "circle"
         },
         "mode": "markers",
         "name": "Fuel + Gas",
         "orientation": "v",
         "showlegend": true,
         "type": "scatter",
         "x": [
          465
         ],
         "xaxis": "x",
         "y": [
          -0.001
         ],
         "yaxis": "y"
        },
        {
         "hovertemplate": "nombre=Cogeneración<br>index=%{x}<br>Valores=%{y}<br>Porcentaje=%{marker.size}<extra></extra>",
         "legendgroup": "Cogeneración",
         "marker": {
          "color": "rgb(254, 136, 177)",
          "opacity": 0.3,
          "size": [
           0.10814978392171339,
           0.10446438074067453,
           0.11393501575530413,
           0.1178414778641657,
           0.11757363064955866,
           0.12710185324819526,
           0.11424247833652537,
           0.1275031917823073,
           0.11425899269635212,
           0.13699597522542578,
           0.15030604455984695,
           0.14787701085809568,
           0.13098258242883298,
           0.12495108816036798,
           0.12002287605284728,
           0.12131452405641766,
           0.12162350747607636,
           0.11806993155510866,
           0.113430835878248,
           0.1162748539448527,
           0.11496561328954702,
           0.11959856030856916,
           0.11961225758348208,
           0.11459987224792673,
           0.11305067363050121,
           0.12217159840679265,
           0.13678277061551739,
           0.13541238563979094,
           0.1269846682245833,
           0.11842658177967308,
           0.12789234873712294
          ],
          "sizemode": "area",
          "sizeref": 0.0011111111111111111,
          "symbol": "circle"
         },
         "mode": "markers",
         "name": "Cogeneración",
         "orientation": "v",
         "showlegend": true,
         "type": "scatter",
         "x": [
          466,
          467,
          468,
          469,
          470,
          471,
          472,
          473,
          474,
          475,
          476,
          477,
          478,
          479,
          480,
          481,
          482,
          483,
          484,
          485,
          486,
          487,
          488,
          489,
          490,
          491,
          492,
          493,
          494,
          495,
          496
         ],
         "xaxis": "x",
         "y": [
          49574.729,
          51005.98,
          51682.688,
          53485.942,
          54784.603,
          47632.931,
          37676.674,
          50165.262,
          52970.529,
          49710.625,
          47307.661,
          49995.016,
          48660.325,
          42265.843,
          49993.956,
          50966.696,
          49619.151,
          50454.504,
          50695.218,
          44711.977,
          42106.874,
          49198.972,
          49219.474,
          50465.825,
          53123.607,
          53832.03,
          50794.184,
          48585.432,
          53969.552,
          54221.736,
          52342.178
         ],
         "yaxis": "y"
        },
        {
         "hovertemplate": "nombre=Residuos no renovables<br>index=%{x}<br>Valores=%{y}<br>Porcentaje=%{marker.size}<extra></extra>",
         "legendgroup": "Residuos no renovables",
         "marker": {
          "color": "rgb(201, 219, 116)",
          "opacity": 0.3,
          "size": [
           0.008531622592120114,
           0.00722252810255715,
           0.006559473972107962,
           0.008329172518441732,
           0.008241164297748299,
           0.009935596653461234,
           0.01139297877488165,
           0.009999509814868163,
           0.0087060945412001,
           0.010964097054130954,
           0.012396775890000579,
           0.011522579209924309,
           0.011153794955275333,
           0.012046011367800497,
           0.010033989930313349,
           0.009697856445834875,
           0.010298638126763961,
           0.009435428265216976,
           0.008759749530844853,
           0.010156277728155035,
           0.010815470146527591,
           0.009779477184583479,
           0.009723910950317988,
           0.009139999391777906,
           0.00857872286055646,
           0.009237522127788502,
           0.01141638526571606,
           0.011199664152398616,
           0.009775741837937111,
           0.00928629061162379,
           0.010514915832426162
          ],
          "sizemode": "area",
          "sizeref": 0.0011111111111111111,
          "symbol": "circle"
         },
         "mode": "markers",
         "name": "Residuos no renovables",
         "orientation": "v",
         "showlegend": true,
         "type": "scatter",
         "x": [
          497,
          498,
          499,
          500,
          501,
          502,
          503,
          504,
          505,
          506,
          507,
          508,
          509,
          510,
          511,
          512,
          513,
          514,
          515,
          516,
          517,
          518,
          519,
          520,
          521,
          522,
          523,
          524,
          525,
          526,
          527
         ],
         "xaxis": "x",
         "y": [
          3910.8065,
          3526.4855,
          2975.479,
          3780.4485,
          3840.0525,
          3723.483,
          3757.355,
          3934.239,
          4036.15,
          3978.4535,
          3901.789,
          3895.6125,
          4143.66,
          4074.673,
          4179.527,
          4074.2665,
          4201.57,
          4032.016,
          3914.962,
          3905.464,
          3961.2335,
          4022.96,
          4001.3105,
          4024.94,
          4031.225,
          4070.296,
          4239.4665,
          4018.3955,
          4154.7725,
          4251.738,
          4303.413
         ],
         "yaxis": "y"
        },
        {
         "hovertemplate": "nombre=Generación no renovable<br>index=%{x}<br>Valores=%{y}<br>Porcentaje=%{marker.size}<extra></extra>",
         "legendgroup": "Generación no renovable",
         "marker": {
          "color": "rgb(139, 224, 164)",
          "opacity": 0.3,
          "size": [
           1,
           1,
           1,
           1,
           1,
           1,
           1,
           1,
           1,
           1,
           1,
           1,
           1,
           1,
           1,
           1,
           1,
           1,
           1,
           1,
           1,
           1,
           1,
           1,
           1,
           1,
           1,
           1,
           1,
           1,
           1
          ],
          "sizemode": "area",
          "sizeref": 0.0011111111111111111,
          "symbol": "circle"
         },
         "mode": "markers",
         "name": "Generación no renovable",
         "orientation": "v",
         "showlegend": true,
         "type": "scatter",
         "x": [
          528,
          529,
          530,
          531,
          532,
          533,
          534,
          535,
          536,
          537,
          538,
          539,
          540,
          541,
          542,
          543,
          544,
          545,
          546,
          547,
          548,
          549,
          550,
          551,
          552,
          553,
          554,
          555,
          556,
          557,
          558
         ],
         "xaxis": "x",
         "y": [
          458389.5335,
          488261.9285,
          453615.49,
          453880.4415,
          465959.9495,
          374761.89199999993,
          329795.664,
          393443.186,
          463600.52499999997,
          362861.9375,
          314742.239,
          338085.1135,
          371502.257,
          338259.10300000006,
          416536.8940000001,
          420120.31450000004,
          407973.36000000004,
          427327.291,
          446926.249,
          384536.944,
          366256.24649999995,
          411367.59400000004,
          411491.8905,
          440365.454,
          469909.69000000006,
          440626.387,
          371349.28449999995,
          358796.07149999996,
          425008.4105,
          457851.05999999994,
          409267.47000000003
         ],
         "yaxis": "y"
        },
        {
         "hovertemplate": "nombre=Consumos en bombeo<br>index=%{x}<br>Valores=%{y}<br>Porcentaje=%{marker.size}<extra></extra>",
         "legendgroup": "Consumos en bombeo",
         "marker": {
          "color": "rgb(180, 151, 231)",
          "opacity": 0.3,
          "size": [
           0.014583636351722358,
           0.007574868609684303,
           0.020888900541391038,
           0.013981124702811041,
           0.005603243956115902,
           0.022167682047969702,
           0.06487363937742231,
           0.02414068383232801,
           0.017859154866889777,
           0.03607765623991087,
           0.034233555908331624,
           0.026989091415141588,
           0.034873979105926003,
           0.05299930855888436,
           0.025065980986103666,
           0.01075120437487842,
           0.012616095829421596,
           0.020619001649413722,
           0.017118087599877124,
           0.030188161701584476,
           0.04951514716374394,
           0.02740069609636022,
           0.01904344097577906,
           0.02282773085574253,
           0.012510998538637737,
           0.011594575814610457,
           0.03275730738300242,
           0.04681956664442322,
           0.02588815944355498,
           0.021638204408235735,
           0.011091948036811025
          ],
          "sizemode": "area",
          "sizeref": 0.0011111111111111111,
          "symbol": "circle"
         },
         "mode": "markers",
         "name": "Consumos en bombeo",
         "orientation": "v",
         "showlegend": true,
         "type": "scatter",
         "x": [
          559,
          560,
          561,
          562,
          563,
          564,
          565,
          566,
          567,
          568,
          569,
          570,
          571,
          572,
          573,
          574,
          575,
          576,
          577,
          578,
          579,
          580,
          581,
          582,
          583,
          584,
          585,
          586,
          587,
          588,
          589
         ],
         "xaxis": "x",
         "y": [
          -10473.632,
          -5819.447,
          -17146.533,
          -10599.293,
          -3964.29,
          -14034.962,
          -47500.313,
          -16754.297,
          -12968.557,
          -27228.188,
          -26921.205,
          -21188.824,
          -23405.114,
          -35223.895,
          -18062.309,
          -7580.054,
          -9751.268,
          -15726.052,
          -12311.63,
          -20507.177,
          -33353.207,
          -20807.877,
          -13978.754,
          -17093.26,
          -9064.527,
          -8239.738,
          -21524.147,
          -29344.061,
          -17949.148,
          -15339.835,
          -7628.414
         ],
         "yaxis": "y"
        },
        {
         "hovertemplate": "nombre=Saldo I. internacionales<br>index=%{x}<br>Valores=%{y}<br>Porcentaje=%{marker.size}<extra></extra>",
         "legendgroup": "Saldo I. internacionales",
         "marker": {
          "color": "rgb(179, 179, 179)",
          "opacity": 0.3,
          "size": [
           0.021670328210712114,
           0.03666688667112626,
           0.052434708843599104,
           0.01915791018125318,
           0.0003547439191759243,
           0.01611740790549761,
           0.04702620069918436,
           0.01816120699780977,
           0.015577525485543028,
           0.017202086146519992,
           0.03620847408683308,
           0.058384304193026135,
           0.03965935412131823,
           0.044376723873515066,
           0.03159190476698856,
           0.01564533333193011,
           0.04836759044410168,
           0.032366646205375514,
           0.012559285134408562,
           0.02673581079291114,
           0.03144639186335833,
           0.030334228695349245,
           0.011927615989773455,
           0.014906094543370687,
           0.009545681952858518,
           0.01319724480197337,
           0.03428548682021919,
           0.01082442229439419,
           0.017415474194110398,
           0.006726976809013441,
           0.03485992766240961
          ],
          "sizemode": "area",
          "sizeref": 0.0011111111111111111,
          "symbol": "circle"
         },
         "mode": "markers",
         "name": "Saldo I. internacionales",
         "orientation": "v",
         "showlegend": true,
         "type": "scatter",
         "x": [
          590,
          591,
          592,
          593,
          594,
          595,
          596,
          597,
          598,
          599,
          600,
          601,
          602,
          603,
          604,
          605,
          606,
          607,
          608,
          609,
          610,
          611,
          612,
          613,
          614,
          615,
          616,
          617,
          618,
          619,
          620
         ],
         "xaxis": "x",
         "y": [
          -15563.131,
          -28169.598,
          -43040.727,
          -14523.889,
          250.981,
          10204.369,
          -34432.464,
          12604.376,
          -11311.735,
          -12982.596,
          -28474.277,
          -45836.843,
          -26616.742,
          -29493.235,
          -22764.828,
          -11030.622,
          -37384.413,
          -24685.946,
          -9032.859,
          -18161.954,
          -21182.165,
          -23035.579,
          -8755.414,
          -11161.589,
          -6916.082,
          9378.682,
          22528.282,
          6784.183,
          12074.745,
          4768.913,
          23974.685
         ],
         "yaxis": "y"
        },
        {
         "hovertemplate": "nombre=Demanda en b.c.<br>index=%{x}<br>Valores=%{y}<br>Porcentaje=%{marker.size}<extra></extra>",
         "legendgroup": "Demanda en b.c.",
         "marker": {
          "color": "rgb(228,26,28)",
          "opacity": 0.3,
          "size": [
           1,
           1,
           1,
           1,
           1,
           1,
           1,
           1,
           1,
           1,
           1,
           1,
           1,
           1,
           1,
           1,
           1,
           1,
           1,
           1,
           1,
           1,
           1,
           1,
           1,
           1,
           1,
           1,
           1,
           1,
           1
          ],
          "sizemode": "area",
          "sizeref": 0.0011111111111111111,
          "symbol": "circle"
         },
         "mode": "markers",
         "name": "Demanda en b.c.",
         "orientation": "v",
         "showlegend": true,
         "type": "scatter",
         "x": [
          621,
          622,
          623,
          624,
          625,
          626,
          627,
          628,
          629,
          630,
          631,
          632,
          633,
          634,
          635,
          636,
          637,
          638,
          639,
          640,
          641,
          642,
          643,
          644,
          645,
          646,
          647,
          648,
          649,
          650,
          651
         ],
         "xaxis": "x",
         "y": [
          666103.46,
          700279.064,
          700469.687,
          707868.11,
          699570.51,
          605057.255,
          568331.891,
          660518.846,
          677596.79,
          674288.988,
          675607.185,
          651037.118,
          571090.314,
          535176.203,
          638936.275,
          667820.961,
          678651.429,
          681873.0669999999,
          676528.629,
          601973.622,
          564525.295,
          671705.365,
          688577.261,
          692283.956,
          692563.445,
          694175.069,
          614030.957,
          568059.691,
          657435.9689999999,
          678243.987,
          672486.5669999999
         ],
         "yaxis": "y"
        }
       ],
       "layout": {
        "legend": {
         "itemsizing": "constant",
         "title": {
          "text": "nombre"
         },
         "tracegroupgap": 0
        },
        "margin": {
         "t": 60
        },
        "template": {
         "data": {
          "bar": [
           {
            "error_x": {
             "color": "#2a3f5f"
            },
            "error_y": {
             "color": "#2a3f5f"
            },
            "marker": {
             "line": {
              "color": "#E5ECF6",
              "width": 0.5
             },
             "pattern": {
              "fillmode": "overlay",
              "size": 10,
              "solidity": 0.2
             }
            },
            "type": "bar"
           }
          ],
          "barpolar": [
           {
            "marker": {
             "line": {
              "color": "#E5ECF6",
              "width": 0.5
             },
             "pattern": {
              "fillmode": "overlay",
              "size": 10,
              "solidity": 0.2
             }
            },
            "type": "barpolar"
           }
          ],
          "carpet": [
           {
            "aaxis": {
             "endlinecolor": "#2a3f5f",
             "gridcolor": "white",
             "linecolor": "white",
             "minorgridcolor": "white",
             "startlinecolor": "#2a3f5f"
            },
            "baxis": {
             "endlinecolor": "#2a3f5f",
             "gridcolor": "white",
             "linecolor": "white",
             "minorgridcolor": "white",
             "startlinecolor": "#2a3f5f"
            },
            "type": "carpet"
           }
          ],
          "choropleth": [
           {
            "colorbar": {
             "outlinewidth": 0,
             "ticks": ""
            },
            "type": "choropleth"
           }
          ],
          "contour": [
           {
            "colorbar": {
             "outlinewidth": 0,
             "ticks": ""
            },
            "colorscale": [
             [
              0,
              "#0d0887"
             ],
             [
              0.1111111111111111,
              "#46039f"
             ],
             [
              0.2222222222222222,
              "#7201a8"
             ],
             [
              0.3333333333333333,
              "#9c179e"
             ],
             [
              0.4444444444444444,
              "#bd3786"
             ],
             [
              0.5555555555555556,
              "#d8576b"
             ],
             [
              0.6666666666666666,
              "#ed7953"
             ],
             [
              0.7777777777777778,
              "#fb9f3a"
             ],
             [
              0.8888888888888888,
              "#fdca26"
             ],
             [
              1,
              "#f0f921"
             ]
            ],
            "type": "contour"
           }
          ],
          "contourcarpet": [
           {
            "colorbar": {
             "outlinewidth": 0,
             "ticks": ""
            },
            "type": "contourcarpet"
           }
          ],
          "heatmap": [
           {
            "colorbar": {
             "outlinewidth": 0,
             "ticks": ""
            },
            "colorscale": [
             [
              0,
              "#0d0887"
             ],
             [
              0.1111111111111111,
              "#46039f"
             ],
             [
              0.2222222222222222,
              "#7201a8"
             ],
             [
              0.3333333333333333,
              "#9c179e"
             ],
             [
              0.4444444444444444,
              "#bd3786"
             ],
             [
              0.5555555555555556,
              "#d8576b"
             ],
             [
              0.6666666666666666,
              "#ed7953"
             ],
             [
              0.7777777777777778,
              "#fb9f3a"
             ],
             [
              0.8888888888888888,
              "#fdca26"
             ],
             [
              1,
              "#f0f921"
             ]
            ],
            "type": "heatmap"
           }
          ],
          "heatmapgl": [
           {
            "colorbar": {
             "outlinewidth": 0,
             "ticks": ""
            },
            "colorscale": [
             [
              0,
              "#0d0887"
             ],
             [
              0.1111111111111111,
              "#46039f"
             ],
             [
              0.2222222222222222,
              "#7201a8"
             ],
             [
              0.3333333333333333,
              "#9c179e"
             ],
             [
              0.4444444444444444,
              "#bd3786"
             ],
             [
              0.5555555555555556,
              "#d8576b"
             ],
             [
              0.6666666666666666,
              "#ed7953"
             ],
             [
              0.7777777777777778,
              "#fb9f3a"
             ],
             [
              0.8888888888888888,
              "#fdca26"
             ],
             [
              1,
              "#f0f921"
             ]
            ],
            "type": "heatmapgl"
           }
          ],
          "histogram": [
           {
            "marker": {
             "pattern": {
              "fillmode": "overlay",
              "size": 10,
              "solidity": 0.2
             }
            },
            "type": "histogram"
           }
          ],
          "histogram2d": [
           {
            "colorbar": {
             "outlinewidth": 0,
             "ticks": ""
            },
            "colorscale": [
             [
              0,
              "#0d0887"
             ],
             [
              0.1111111111111111,
              "#46039f"
             ],
             [
              0.2222222222222222,
              "#7201a8"
             ],
             [
              0.3333333333333333,
              "#9c179e"
             ],
             [
              0.4444444444444444,
              "#bd3786"
             ],
             [
              0.5555555555555556,
              "#d8576b"
             ],
             [
              0.6666666666666666,
              "#ed7953"
             ],
             [
              0.7777777777777778,
              "#fb9f3a"
             ],
             [
              0.8888888888888888,
              "#fdca26"
             ],
             [
              1,
              "#f0f921"
             ]
            ],
            "type": "histogram2d"
           }
          ],
          "histogram2dcontour": [
           {
            "colorbar": {
             "outlinewidth": 0,
             "ticks": ""
            },
            "colorscale": [
             [
              0,
              "#0d0887"
             ],
             [
              0.1111111111111111,
              "#46039f"
             ],
             [
              0.2222222222222222,
              "#7201a8"
             ],
             [
              0.3333333333333333,
              "#9c179e"
             ],
             [
              0.4444444444444444,
              "#bd3786"
             ],
             [
              0.5555555555555556,
              "#d8576b"
             ],
             [
              0.6666666666666666,
              "#ed7953"
             ],
             [
              0.7777777777777778,
              "#fb9f3a"
             ],
             [
              0.8888888888888888,
              "#fdca26"
             ],
             [
              1,
              "#f0f921"
             ]
            ],
            "type": "histogram2dcontour"
           }
          ],
          "mesh3d": [
           {
            "colorbar": {
             "outlinewidth": 0,
             "ticks": ""
            },
            "type": "mesh3d"
           }
          ],
          "parcoords": [
           {
            "line": {
             "colorbar": {
              "outlinewidth": 0,
              "ticks": ""
             }
            },
            "type": "parcoords"
           }
          ],
          "pie": [
           {
            "automargin": true,
            "type": "pie"
           }
          ],
          "scatter": [
           {
            "fillpattern": {
             "fillmode": "overlay",
             "size": 10,
             "solidity": 0.2
            },
            "type": "scatter"
           }
          ],
          "scatter3d": [
           {
            "line": {
             "colorbar": {
              "outlinewidth": 0,
              "ticks": ""
             }
            },
            "marker": {
             "colorbar": {
              "outlinewidth": 0,
              "ticks": ""
             }
            },
            "type": "scatter3d"
           }
          ],
          "scattercarpet": [
           {
            "marker": {
             "colorbar": {
              "outlinewidth": 0,
              "ticks": ""
             }
            },
            "type": "scattercarpet"
           }
          ],
          "scattergeo": [
           {
            "marker": {
             "colorbar": {
              "outlinewidth": 0,
              "ticks": ""
             }
            },
            "type": "scattergeo"
           }
          ],
          "scattergl": [
           {
            "marker": {
             "colorbar": {
              "outlinewidth": 0,
              "ticks": ""
             }
            },
            "type": "scattergl"
           }
          ],
          "scattermapbox": [
           {
            "marker": {
             "colorbar": {
              "outlinewidth": 0,
              "ticks": ""
             }
            },
            "type": "scattermapbox"
           }
          ],
          "scatterpolar": [
           {
            "marker": {
             "colorbar": {
              "outlinewidth": 0,
              "ticks": ""
             }
            },
            "type": "scatterpolar"
           }
          ],
          "scatterpolargl": [
           {
            "marker": {
             "colorbar": {
              "outlinewidth": 0,
              "ticks": ""
             }
            },
            "type": "scatterpolargl"
           }
          ],
          "scatterternary": [
           {
            "marker": {
             "colorbar": {
              "outlinewidth": 0,
              "ticks": ""
             }
            },
            "type": "scatterternary"
           }
          ],
          "surface": [
           {
            "colorbar": {
             "outlinewidth": 0,
             "ticks": ""
            },
            "colorscale": [
             [
              0,
              "#0d0887"
             ],
             [
              0.1111111111111111,
              "#46039f"
             ],
             [
              0.2222222222222222,
              "#7201a8"
             ],
             [
              0.3333333333333333,
              "#9c179e"
             ],
             [
              0.4444444444444444,
              "#bd3786"
             ],
             [
              0.5555555555555556,
              "#d8576b"
             ],
             [
              0.6666666666666666,
              "#ed7953"
             ],
             [
              0.7777777777777778,
              "#fb9f3a"
             ],
             [
              0.8888888888888888,
              "#fdca26"
             ],
             [
              1,
              "#f0f921"
             ]
            ],
            "type": "surface"
           }
          ],
          "table": [
           {
            "cells": {
             "fill": {
              "color": "#EBF0F8"
             },
             "line": {
              "color": "white"
             }
            },
            "header": {
             "fill": {
              "color": "#C8D4E3"
             },
             "line": {
              "color": "white"
             }
            },
            "type": "table"
           }
          ]
         },
         "layout": {
          "annotationdefaults": {
           "arrowcolor": "#2a3f5f",
           "arrowhead": 0,
           "arrowwidth": 1
          },
          "autotypenumbers": "strict",
          "coloraxis": {
           "colorbar": {
            "outlinewidth": 0,
            "ticks": ""
           }
          },
          "colorscale": {
           "diverging": [
            [
             0,
             "#8e0152"
            ],
            [
             0.1,
             "#c51b7d"
            ],
            [
             0.2,
             "#de77ae"
            ],
            [
             0.3,
             "#f1b6da"
            ],
            [
             0.4,
             "#fde0ef"
            ],
            [
             0.5,
             "#f7f7f7"
            ],
            [
             0.6,
             "#e6f5d0"
            ],
            [
             0.7,
             "#b8e186"
            ],
            [
             0.8,
             "#7fbc41"
            ],
            [
             0.9,
             "#4d9221"
            ],
            [
             1,
             "#276419"
            ]
           ],
           "sequential": [
            [
             0,
             "#0d0887"
            ],
            [
             0.1111111111111111,
             "#46039f"
            ],
            [
             0.2222222222222222,
             "#7201a8"
            ],
            [
             0.3333333333333333,
             "#9c179e"
            ],
            [
             0.4444444444444444,
             "#bd3786"
            ],
            [
             0.5555555555555556,
             "#d8576b"
            ],
            [
             0.6666666666666666,
             "#ed7953"
            ],
            [
             0.7777777777777778,
             "#fb9f3a"
            ],
            [
             0.8888888888888888,
             "#fdca26"
            ],
            [
             1,
             "#f0f921"
            ]
           ],
           "sequentialminus": [
            [
             0,
             "#0d0887"
            ],
            [
             0.1111111111111111,
             "#46039f"
            ],
            [
             0.2222222222222222,
             "#7201a8"
            ],
            [
             0.3333333333333333,
             "#9c179e"
            ],
            [
             0.4444444444444444,
             "#bd3786"
            ],
            [
             0.5555555555555556,
             "#d8576b"
            ],
            [
             0.6666666666666666,
             "#ed7953"
            ],
            [
             0.7777777777777778,
             "#fb9f3a"
            ],
            [
             0.8888888888888888,
             "#fdca26"
            ],
            [
             1,
             "#f0f921"
            ]
           ]
          },
          "colorway": [
           "#636efa",
           "#EF553B",
           "#00cc96",
           "#ab63fa",
           "#FFA15A",
           "#19d3f3",
           "#FF6692",
           "#B6E880",
           "#FF97FF",
           "#FECB52"
          ],
          "font": {
           "color": "#2a3f5f"
          },
          "geo": {
           "bgcolor": "white",
           "lakecolor": "white",
           "landcolor": "#E5ECF6",
           "showlakes": true,
           "showland": true,
           "subunitcolor": "white"
          },
          "hoverlabel": {
           "align": "left"
          },
          "hovermode": "closest",
          "mapbox": {
           "style": "light"
          },
          "paper_bgcolor": "white",
          "plot_bgcolor": "#E5ECF6",
          "polar": {
           "angularaxis": {
            "gridcolor": "white",
            "linecolor": "white",
            "ticks": ""
           },
           "bgcolor": "#E5ECF6",
           "radialaxis": {
            "gridcolor": "white",
            "linecolor": "white",
            "ticks": ""
           }
          },
          "scene": {
           "xaxis": {
            "backgroundcolor": "#E5ECF6",
            "gridcolor": "white",
            "gridwidth": 2,
            "linecolor": "white",
            "showbackground": true,
            "ticks": "",
            "zerolinecolor": "white"
           },
           "yaxis": {
            "backgroundcolor": "#E5ECF6",
            "gridcolor": "white",
            "gridwidth": 2,
            "linecolor": "white",
            "showbackground": true,
            "ticks": "",
            "zerolinecolor": "white"
           },
           "zaxis": {
            "backgroundcolor": "#E5ECF6",
            "gridcolor": "white",
            "gridwidth": 2,
            "linecolor": "white",
            "showbackground": true,
            "ticks": "",
            "zerolinecolor": "white"
           }
          },
          "shapedefaults": {
           "line": {
            "color": "#2a3f5f"
           }
          },
          "ternary": {
           "aaxis": {
            "gridcolor": "white",
            "linecolor": "white",
            "ticks": ""
           },
           "baxis": {
            "gridcolor": "white",
            "linecolor": "white",
            "ticks": ""
           },
           "bgcolor": "#E5ECF6",
           "caxis": {
            "gridcolor": "white",
            "linecolor": "white",
            "ticks": ""
           }
          },
          "title": {
           "x": 0.05
          },
          "xaxis": {
           "automargin": true,
           "gridcolor": "white",
           "linecolor": "white",
           "ticks": "",
           "title": {
            "standoff": 15
           },
           "zerolinecolor": "white",
           "zerolinewidth": 2
          },
          "yaxis": {
           "automargin": true,
           "gridcolor": "white",
           "linecolor": "white",
           "ticks": "",
           "title": {
            "standoff": 15
           },
           "zerolinecolor": "white",
           "zerolinewidth": 2
          }
         }
        },
        "xaxis": {
         "anchor": "y",
         "domain": [
          0,
          1
         ],
         "title": {
          "text": "index"
         }
        },
        "yaxis": {
         "anchor": "x",
         "domain": [
          0,
          1
         ],
         "title": {
          "text": "Valores"
         }
        }
       }
      }
     },
     "metadata": {},
     "output_type": "display_data"
    }
   ],
   "source": [
    "px.scatter(data_frame = df_balance,\n",
    "            y = 'Valores',\n",
    "            color = 'nombre',\n",
    "            color_discrete_sequence = colores_personalizados,\n",
    "            opacity     = 0.3,\n",
    "            size        = 'Porcentaje',\n",
    "            size_max    = 30\n",
    "          )"
   ]
  },
  {
   "cell_type": "code",
   "execution_count": 42,
   "metadata": {},
   "outputs": [
    {
     "name": "stderr",
     "output_type": "stream",
     "text": [
      "/opt/anaconda3/lib/python3.11/site-packages/plotly/express/_core.py:1979: FutureWarning:\n",
      "\n",
      "When grouping with a length-1 list-like, you will need to pass a length-1 tuple to get_group in a future version of pandas. Pass `(name,)` instead of `name` to silence this warning.\n",
      "\n"
     ]
    },
    {
     "data": {
      "application/vnd.plotly.v1+json": {
       "config": {
        "plotlyServerURL": "https://plot.ly"
       },
       "data": [
        {
         "hovertemplate": "<b>%{hovertext}</b><br><br>tipo de energía=Renovable<br>index=%{x}<br>Valores=%{y}<br>Porcentaje=%{marker.size}<extra></extra>",
         "hovertext": [
          "Hidráulica",
          "Hidráulica",
          "Hidráulica",
          "Hidráulica",
          "Hidráulica",
          "Hidráulica",
          "Hidráulica",
          "Hidráulica",
          "Hidráulica",
          "Hidráulica",
          "Hidráulica",
          "Hidráulica",
          "Hidráulica",
          "Hidráulica",
          "Hidráulica",
          "Hidráulica",
          "Hidráulica",
          "Hidráulica",
          "Hidráulica",
          "Hidráulica",
          "Hidráulica",
          "Hidráulica",
          "Hidráulica",
          "Hidráulica",
          "Hidráulica",
          "Hidráulica",
          "Hidráulica",
          "Hidráulica",
          "Hidráulica",
          "Hidráulica",
          "Hidráulica",
          "Eólica",
          "Eólica",
          "Eólica",
          "Eólica",
          "Eólica",
          "Eólica",
          "Eólica",
          "Eólica",
          "Eólica",
          "Eólica",
          "Eólica",
          "Eólica",
          "Eólica",
          "Eólica",
          "Eólica",
          "Eólica",
          "Eólica",
          "Eólica",
          "Eólica",
          "Eólica",
          "Eólica",
          "Eólica",
          "Eólica",
          "Eólica",
          "Eólica",
          "Eólica",
          "Eólica",
          "Eólica",
          "Eólica",
          "Eólica",
          "Eólica",
          "Solar fotovoltaica",
          "Solar fotovoltaica",
          "Solar fotovoltaica",
          "Solar fotovoltaica",
          "Solar fotovoltaica",
          "Solar fotovoltaica",
          "Solar fotovoltaica",
          "Solar fotovoltaica",
          "Solar fotovoltaica",
          "Solar fotovoltaica",
          "Solar fotovoltaica",
          "Solar fotovoltaica",
          "Solar fotovoltaica",
          "Solar fotovoltaica",
          "Solar fotovoltaica",
          "Solar fotovoltaica",
          "Solar fotovoltaica",
          "Solar fotovoltaica",
          "Solar fotovoltaica",
          "Solar fotovoltaica",
          "Solar fotovoltaica",
          "Solar fotovoltaica",
          "Solar fotovoltaica",
          "Solar fotovoltaica",
          "Solar fotovoltaica",
          "Solar fotovoltaica",
          "Solar fotovoltaica",
          "Solar fotovoltaica",
          "Solar fotovoltaica",
          "Solar fotovoltaica",
          "Solar fotovoltaica",
          "Solar térmica",
          "Solar térmica",
          "Solar térmica",
          "Solar térmica",
          "Solar térmica",
          "Solar térmica",
          "Solar térmica",
          "Solar térmica",
          "Solar térmica",
          "Solar térmica",
          "Solar térmica",
          "Solar térmica",
          "Solar térmica",
          "Solar térmica",
          "Solar térmica",
          "Solar térmica",
          "Solar térmica",
          "Solar térmica",
          "Solar térmica",
          "Solar térmica",
          "Solar térmica",
          "Solar térmica",
          "Solar térmica",
          "Solar térmica",
          "Solar térmica",
          "Solar térmica",
          "Solar térmica",
          "Solar térmica",
          "Solar térmica",
          "Solar térmica",
          "Solar térmica",
          "Hidroeólica",
          "Hidroeólica",
          "Hidroeólica",
          "Hidroeólica",
          "Hidroeólica",
          "Hidroeólica",
          "Hidroeólica",
          "Hidroeólica",
          "Hidroeólica",
          "Hidroeólica",
          "Hidroeólica",
          "Hidroeólica",
          "Hidroeólica",
          "Hidroeólica",
          "Hidroeólica",
          "Hidroeólica",
          "Hidroeólica",
          "Hidroeólica",
          "Hidroeólica",
          "Hidroeólica",
          "Hidroeólica",
          "Hidroeólica",
          "Hidroeólica",
          "Hidroeólica",
          "Hidroeólica",
          "Hidroeólica",
          "Hidroeólica",
          "Hidroeólica",
          "Hidroeólica",
          "Hidroeólica",
          "Hidroeólica",
          "Otras renovables",
          "Otras renovables",
          "Otras renovables",
          "Otras renovables",
          "Otras renovables",
          "Otras renovables",
          "Otras renovables",
          "Otras renovables",
          "Otras renovables",
          "Otras renovables",
          "Otras renovables",
          "Otras renovables",
          "Otras renovables",
          "Otras renovables",
          "Otras renovables",
          "Otras renovables",
          "Otras renovables",
          "Otras renovables",
          "Otras renovables",
          "Otras renovables",
          "Otras renovables",
          "Otras renovables",
          "Otras renovables",
          "Otras renovables",
          "Otras renovables",
          "Otras renovables",
          "Otras renovables",
          "Otras renovables",
          "Otras renovables",
          "Otras renovables",
          "Otras renovables",
          "Residuos renovables",
          "Residuos renovables",
          "Residuos renovables",
          "Residuos renovables",
          "Residuos renovables",
          "Residuos renovables",
          "Residuos renovables",
          "Residuos renovables",
          "Residuos renovables",
          "Residuos renovables",
          "Residuos renovables",
          "Residuos renovables",
          "Residuos renovables",
          "Residuos renovables",
          "Residuos renovables",
          "Residuos renovables",
          "Residuos renovables",
          "Residuos renovables",
          "Residuos renovables",
          "Residuos renovables",
          "Residuos renovables",
          "Residuos renovables",
          "Residuos renovables",
          "Residuos renovables",
          "Residuos renovables",
          "Residuos renovables",
          "Residuos renovables",
          "Residuos renovables",
          "Residuos renovables",
          "Residuos renovables",
          "Residuos renovables",
          "Generación renovable",
          "Generación renovable",
          "Generación renovable",
          "Generación renovable",
          "Generación renovable",
          "Generación renovable",
          "Generación renovable",
          "Generación renovable",
          "Generación renovable",
          "Generación renovable",
          "Generación renovable",
          "Generación renovable",
          "Generación renovable",
          "Generación renovable",
          "Generación renovable",
          "Generación renovable",
          "Generación renovable",
          "Generación renovable",
          "Generación renovable",
          "Generación renovable",
          "Generación renovable",
          "Generación renovable",
          "Generación renovable",
          "Generación renovable",
          "Generación renovable",
          "Generación renovable",
          "Generación renovable",
          "Generación renovable",
          "Generación renovable",
          "Generación renovable",
          "Generación renovable"
         ],
         "legendgroup": "Renovable",
         "marker": {
          "color": "#636EFA",
          "opacity": 0.5,
          "size": [
           0.1472084770042999,
           0.14708685743771382,
           0.08875352620542053,
           0.08887464229915346,
           0.13084605887061856,
           0.10316302136103184,
           0.04854772475905346,
           0.11717150308178342,
           0.13880498533475116,
           0.0827000912497088,
           0.04855912943038631,
           0.08189613320476385,
           0.0974950181565906,
           0.08910370405279157,
           0.14804954035824006,
           0.15323501313016835,
           0.13932634758565357,
           0.1414097734545556,
           0.17337856086182132,
           0.1071871786063587,
           0.09300701162747356,
           0.08495832321696827,
           0.09034885496630168,
           0.09858452240877115,
           0.16236313308170489,
           0.1645262870167077,
           0.1015025858578189,
           0.09866084433481553,
           0.17600166501357148,
           0.18924656905938553,
           0.1890630400933637,
           0.2317528650541157,
           0.2459717795586034,
           0.39455727309162686,
           0.40981655422958907,
           0.43287224423078935,
           0.5261509450067124,
           0.6538366624686113,
           0.46857924142487134,
           0.2596718694403495,
           0.43895195242422075,
           0.7217684045623478,
           0.5045774485725275,
           0.24923851882437056,
           0.3094255786026163,
           0.22597156035776003,
           0.2504691778548019,
           0.37468028994969543,
           0.31773166283794924,
           0.19423932322502896,
           0.2803119788363909,
           0.26637459837579014,
           0.4049522885250245,
           0.41153525756627773,
           0.37247751660720946,
           0.21141310980676697,
           0.25520664341405086,
           0.31247316892245314,
           0.2570352860800921,
           0.22582378114415985,
           0.17476397788989043,
           0.18846118365412967,
           0.5056256400903579,
           0.48034264326135495,
           0.4137456819064013,
           0.4030442521259129,
           0.35381952172324577,
           0.31422970890079355,
           0.25749846621672035,
           0.35764720142677103,
           0.483013026749417,
           0.38941760972538353,
           0.19044566734553975,
           0.34996839544557296,
           0.5271542360579246,
           0.4763559225411751,
           0.5076287412653462,
           0.47793510168911424,
           0.3915413728952886,
           0.4421610837082058,
           0.5118696858497167,
           0.49360743326603945,
           0.5170774945767448,
           0.4163561020812109,
           0.4026042252079579,
           0.4348502224253299,
           0.509300454313445,
           0.4782686435021774,
           0.49019083538121533,
           0.5240016922788424,
           0.48279507762255663,
           0.5145475558817865,
           0.5006456401159357,
           0.06167779025952349,
           0.07387579028730946,
           0.06241182929248541,
           0.05170031897416327,
           0.026470228271749965,
           0.005678264053730122,
           0.008999063759688909,
           0.017545343556661052,
           0.0705025673171868,
           0.05779233349248714,
           0.012567127807786719,
           0.03379493313201168,
           0.07993355215824301,
           0.08621243099574546,
           0.07799024640822852,
           0.07924313094123138,
           0.061203182681680714,
           0.06313258927699937,
           0.07836226480275392,
           0.07692047617956384,
           0.0849372842341506,
           0.060248675372724415,
           0.05359936540626755,
           0.0477200167406357,
           0.06307371556931339,
           0.04823133646293789,
           0.042025097181404375,
           0.06732848554318788,
           0.06271399490767517,
           0.06534829613096721,
           0.06696519527021576,
           0.00012256220531918475,
           0.00015444327424123393,
           0.00016161661192221348,
           0.0002693840094905231,
           0.00030130555409640323,
           0.00010599849937185093,
           0.00022404038800582414,
           0.0003025636435082427,
           0.00040992702441977955,
           0.0001197937078070591,
           0.00010433612488381913,
           0.00012994710927376164,
           0.00020097759498838492,
           0.0001534546913070205,
           0.00020587211505795176,
           0.00026009784093952666,
           0.0002955504599785252,
           0.00032321236598429183,
           0.00011193604491634441,
           0.000008558815931234723,
           3.045830960626071e-7,
           0.000006729540873342587,
           0.0000709326687193203,
           0.00009348497959036797,
           0.000012349436814557019,
           0.000014278371462831595,
           0.00002023771034161584,
           0.00005853591265052845,
           0.000044548521267627086,
           0.000026484664273152112,
           0.000058155448830160024,
           0.04325444353395158,
           0.04416743911846556,
           0.03525470503483183,
           0.03805829469177157,
           0.04555115767653535,
           0.04048923136057584,
           0.023176803083271046,
           0.029148183481999806,
           0.036597952017579295,
           0.023737343314801925,
           0.02075025733649609,
           0.023341563637114923,
           0.036046973823511574,
           0.0290043432008113,
           0.03008541867350918,
           0.02932420945038865,
           0.024599026945813392,
           0.026222011019109478,
           0.03161233304727942,
           0.0317872549492788,
           0.02802512578742914,
           0.024552198942901886,
           0.032864992886379216,
           0.036590364370521454,
           0.04238498106668326,
           0.04290228295391677,
           0.04304920559694134,
           0.04247718245213689,
           0.04239099391550749,
           0.04526769468584669,
           0.044225835532015985,
           0.010358221852432226,
           0.008401047062311508,
           0.005115367857311855,
           0.008236553669919041,
           0.010139483672964467,
           0.010182830817784252,
           0.00771723932464932,
           0.0096059633844051,
           0.010999672116296356,
           0.00728087608559084,
           0.0058050773925596415,
           0.00629157889873537,
           0.009930723384371357,
           0.009744565915553175,
           0.010068620821858078,
           0.009533269093355954,
           0.008354229481889944,
           0.009019667337196545,
           0.010425896168483377,
           0.010177119346436943,
           0.010578180815315905,
           0.00892568232029651,
           0.008976371298096706,
           0.00968387246794218,
           0.011452256725271974,
           0.010850528278746519,
           0.010738869349825281,
           0.010437973398274694,
           0.01022993887526184,
           0.010799421687850376,
           0.010580949885509068,
           1,
           1,
           1,
           1,
           1,
           1,
           1,
           1,
           1,
           1,
           1,
           1,
           1,
           1,
           1,
           1,
           1,
           1,
           1,
           1,
           1,
           1,
           1,
           1,
           1,
           1,
           1,
           1,
           1,
           1,
           1
          ],
          "sizemode": "area",
          "sizeref": 0.0011111111111111111,
          "symbol": "circle"
         },
         "mode": "markers",
         "name": "Renovable",
         "orientation": "v",
         "showlegend": true,
         "type": "scatter",
         "x": [
          0,
          1,
          2,
          3,
          4,
          5,
          6,
          7,
          8,
          9,
          10,
          11,
          12,
          13,
          14,
          15,
          16,
          17,
          18,
          19,
          20,
          21,
          22,
          23,
          24,
          25,
          26,
          27,
          28,
          29,
          30,
          31,
          32,
          33,
          34,
          35,
          36,
          37,
          38,
          39,
          40,
          41,
          42,
          43,
          44,
          45,
          46,
          47,
          48,
          49,
          50,
          51,
          52,
          53,
          54,
          55,
          56,
          57,
          58,
          59,
          60,
          61,
          62,
          63,
          64,
          65,
          66,
          67,
          68,
          69,
          70,
          71,
          72,
          73,
          74,
          75,
          76,
          77,
          78,
          79,
          80,
          81,
          82,
          83,
          84,
          85,
          86,
          87,
          88,
          89,
          90,
          91,
          92,
          93,
          94,
          95,
          96,
          97,
          98,
          99,
          100,
          101,
          102,
          103,
          104,
          105,
          106,
          107,
          108,
          109,
          110,
          111,
          112,
          113,
          114,
          115,
          116,
          117,
          118,
          119,
          120,
          121,
          122,
          123,
          124,
          125,
          126,
          127,
          128,
          129,
          130,
          131,
          132,
          133,
          134,
          135,
          136,
          137,
          138,
          139,
          140,
          141,
          142,
          143,
          144,
          145,
          146,
          147,
          148,
          149,
          150,
          151,
          152,
          153,
          154,
          155,
          156,
          157,
          158,
          159,
          160,
          161,
          162,
          163,
          164,
          165,
          166,
          167,
          168,
          169,
          170,
          171,
          172,
          173,
          174,
          175,
          176,
          177,
          178,
          179,
          180,
          181,
          182,
          183,
          184,
          185,
          186,
          187,
          188,
          189,
          190,
          191,
          192,
          193,
          194,
          195,
          196,
          197,
          198,
          199,
          200,
          201,
          202,
          203,
          204,
          205,
          206,
          207,
          208,
          209,
          210,
          211,
          212,
          213,
          214,
          215,
          216,
          217,
          218,
          219,
          220,
          221,
          222,
          223,
          224,
          225,
          226,
          227,
          228,
          229,
          230,
          231,
          232,
          233,
          234,
          235,
          236,
          237,
          238,
          239,
          240,
          241,
          242,
          243,
          244,
          245,
          246,
          247
         ],
         "xaxis": "x",
         "y": [
          34410.083,
          36184.276,
          27251.012,
          24805.877,
          31052.893,
          24153.141,
          15558.041,
          31779.909,
          33073.974,
          29080.481,
          20213.244,
          31118.702,
          24335.723,
          23312.579,
          38970.565,
          40808.219,
          44279.829,
          41709.912,
          43508.807,
          27451.729,
          23512.598,
          25842.727,
          27088.352,
          27620.756,
          38745.423,
          41528.037,
          24530.895,
          22871.902,
          41941.542,
          43709.116,
          46674.527,
          54172.392,
          60510.578,
          121145.44,
          114384.247,
          102730.916,
          123185.593,
          209534.384,
          127090.677,
          61873.719,
          154352.114,
          300443.625,
          191728.164,
          62212.405,
          80956.323,
          59481.707,
          66702.778,
          119078.548,
          93717.424,
          48743.75,
          71790.755,
          67340.717,
          123178.884,
          123386.311,
          104358.274,
          50450.433,
          64416.642,
          75517.746,
          59586.819,
          53814.25,
          40364.161,
          46525.945,
          118190.342,
          118167.259,
          127037.077,
          112494.024,
          83969.818,
          73569.331,
          82520.277,
          97003.07,
          115090.681,
          136933.965,
          79274.995,
          132980.176,
          131582.923,
          124631.015,
          133621.346,
          127279.529,
          124437.232,
          130418.849,
          128452.095,
          126417.895,
          130719.556,
          126647.71,
          120708.613,
          121833.444,
          121536.59,
          120719.663,
          118468.114,
          121475.905,
          115051.014,
          118841.884,
          123595.804,
          14417.226,
          18173.901,
          19163.019,
          14430.12,
          6282.017,
          1329.429,
          2883.921,
          4758.746,
          16799.109,
          20321.971,
          5231.198,
          12841.32,
          19952.207,
          22556.123,
          20529.101,
          21103.343,
          19451.213,
          18621.448,
          19664.765,
          19700.118,
          21472.534,
          18326.516,
          16070.137,
          13369.877,
          15051.556,
          12174.059,
          10156.522,
          15608.325,
          14944.868,
          15093.094,
          16531.887,
          28.649,
          37.994,
          49.623,
          75.188,
          71.507,
          24.817,
          71.798,
          82.063,
          97.676,
          42.124,
          43.431,
          49.377,
          50.166,
          40.149,
          54.191,
          69.267,
          93.93,
          95.334,
          28.09,
          -2.192,
          -0.077,
          2.047,
          21.267,
          26.192,
          2.947,
          3.604,
          4.891,
          13.57,
          10.616,
          6.117,
          14.357,
          10110.756,
          10865.463,
          10824.656,
          10622.483,
          10810.377,
          9479.58,
          7427.447,
          7905.733,
          8720.434,
          8346.948,
          8637.511,
          8869.273,
          8997.682,
          7588.529,
          7919.28,
          7809.369,
          7817.909,
          7734.386,
          7933.016,
          8141.04,
          7084.88,
          7468.318,
          9853.567,
          10251.645,
          10114.513,
          10828.954,
          10404.026,
          9847.209,
          10101.857,
          10455.201,
          10918.157,
          2421.2415,
          2066.7095,
          1570.63,
          2298.9115,
          2406.3415,
          2384.065,
          2473.136,
          2605.383,
          2620.964,
          2560.2315,
          2416.424,
          2390.6595,
          2478.807,
          2549.512,
          2650.328,
          2538.8175,
          2655.089,
          2660.421,
          2616.346,
          2606.464,
          2674.2125,
          2715.025,
          2691.2915,
          2713.163,
          2732.902,
          2738.779,
          2595.3435,
          2419.7675,
          2437.8145,
          2494.276,
          2612.149,
          233750.6895,
          246006.18050000002,
          307041.457,
          279110.85050000006,
          237323.86950000003,
          234125.956,
          320469.00399999996,
          271225.581,
          238276.55700000003,
          351637.8345,
          416260.42799999996,
          379977.6715,
          249609.913,
          261634.23,
          263226.518,
          266311.3225,
          317813.74999999994,
          294957.7739999999,
          250946.869,
          256105.809,
          252804.42049999998,
          304181.2270000001,
          299819.53849999997,
          280173.35099999997,
          238634.364,
          252409.738,
          241677.5375,
          231823.4975,
          238301.96149999998,
          230963.84900000005,
          246872.826
         ],
         "yaxis": "y"
        },
        {
         "hovertemplate": "<b>%{hovertext}</b><br><br>tipo de energía=No-Renovable<br>index=%{x}<br>Valores=%{y}<br>Porcentaje=%{marker.size}<extra></extra>",
         "hovertext": [
          "Turbinación bombeo",
          "Turbinación bombeo",
          "Turbinación bombeo",
          "Turbinación bombeo",
          "Turbinación bombeo",
          "Turbinación bombeo",
          "Turbinación bombeo",
          "Turbinación bombeo",
          "Turbinación bombeo",
          "Turbinación bombeo",
          "Turbinación bombeo",
          "Turbinación bombeo",
          "Turbinación bombeo",
          "Turbinación bombeo",
          "Turbinación bombeo",
          "Turbinación bombeo",
          "Turbinación bombeo",
          "Turbinación bombeo",
          "Turbinación bombeo",
          "Turbinación bombeo",
          "Turbinación bombeo",
          "Turbinación bombeo",
          "Turbinación bombeo",
          "Turbinación bombeo",
          "Turbinación bombeo",
          "Turbinación bombeo",
          "Turbinación bombeo",
          "Turbinación bombeo",
          "Turbinación bombeo",
          "Turbinación bombeo",
          "Turbinación bombeo",
          "Nuclear",
          "Nuclear",
          "Nuclear",
          "Nuclear",
          "Nuclear",
          "Nuclear",
          "Nuclear",
          "Nuclear",
          "Nuclear",
          "Nuclear",
          "Nuclear",
          "Nuclear",
          "Nuclear",
          "Nuclear",
          "Nuclear",
          "Nuclear",
          "Nuclear",
          "Nuclear",
          "Nuclear",
          "Nuclear",
          "Nuclear",
          "Nuclear",
          "Nuclear",
          "Nuclear",
          "Nuclear",
          "Nuclear",
          "Nuclear",
          "Nuclear",
          "Nuclear",
          "Nuclear",
          "Nuclear",
          "Ciclo combinado",
          "Ciclo combinado",
          "Ciclo combinado",
          "Ciclo combinado",
          "Ciclo combinado",
          "Ciclo combinado",
          "Ciclo combinado",
          "Ciclo combinado",
          "Ciclo combinado",
          "Ciclo combinado",
          "Ciclo combinado",
          "Ciclo combinado",
          "Ciclo combinado",
          "Ciclo combinado",
          "Ciclo combinado",
          "Ciclo combinado",
          "Ciclo combinado",
          "Ciclo combinado",
          "Ciclo combinado",
          "Ciclo combinado",
          "Ciclo combinado",
          "Ciclo combinado",
          "Ciclo combinado",
          "Ciclo combinado",
          "Ciclo combinado",
          "Ciclo combinado",
          "Ciclo combinado",
          "Ciclo combinado",
          "Ciclo combinado",
          "Ciclo combinado",
          "Ciclo combinado",
          "Carbón",
          "Carbón",
          "Carbón",
          "Carbón",
          "Carbón",
          "Carbón",
          "Carbón",
          "Carbón",
          "Carbón",
          "Carbón",
          "Carbón",
          "Carbón",
          "Carbón",
          "Carbón",
          "Carbón",
          "Carbón",
          "Carbón",
          "Carbón",
          "Carbón",
          "Carbón",
          "Carbón",
          "Carbón",
          "Carbón",
          "Carbón",
          "Carbón",
          "Carbón",
          "Carbón",
          "Carbón",
          "Carbón",
          "Carbón",
          "Carbón",
          "Motores diésel",
          "Motores diésel",
          "Motores diésel",
          "Motores diésel",
          "Motores diésel",
          "Motores diésel",
          "Motores diésel",
          "Motores diésel",
          "Motores diésel",
          "Motores diésel",
          "Motores diésel",
          "Motores diésel",
          "Motores diésel",
          "Motores diésel",
          "Motores diésel",
          "Motores diésel",
          "Motores diésel",
          "Motores diésel",
          "Motores diésel",
          "Motores diésel",
          "Motores diésel",
          "Motores diésel",
          "Motores diésel",
          "Motores diésel",
          "Motores diésel",
          "Motores diésel",
          "Motores diésel",
          "Motores diésel",
          "Motores diésel",
          "Motores diésel",
          "Motores diésel",
          "Turbina de gas",
          "Turbina de gas",
          "Turbina de gas",
          "Turbina de gas",
          "Turbina de gas",
          "Turbina de gas",
          "Turbina de gas",
          "Turbina de gas",
          "Turbina de gas",
          "Turbina de gas",
          "Turbina de gas",
          "Turbina de gas",
          "Turbina de gas",
          "Turbina de gas",
          "Turbina de gas",
          "Turbina de gas",
          "Turbina de gas",
          "Turbina de gas",
          "Turbina de gas",
          "Turbina de gas",
          "Turbina de gas",
          "Turbina de gas",
          "Turbina de gas",
          "Turbina de gas",
          "Turbina de gas",
          "Turbina de gas",
          "Turbina de gas",
          "Turbina de gas",
          "Turbina de gas",
          "Turbina de gas",
          "Turbina de gas",
          "Turbina de vapor",
          "Turbina de vapor",
          "Turbina de vapor",
          "Turbina de vapor",
          "Turbina de vapor",
          "Turbina de vapor",
          "Turbina de vapor",
          "Turbina de vapor",
          "Turbina de vapor",
          "Turbina de vapor",
          "Turbina de vapor",
          "Turbina de vapor",
          "Turbina de vapor",
          "Turbina de vapor",
          "Turbina de vapor",
          "Turbina de vapor",
          "Turbina de vapor",
          "Turbina de vapor",
          "Turbina de vapor",
          "Turbina de vapor",
          "Turbina de vapor",
          "Turbina de vapor",
          "Turbina de vapor",
          "Turbina de vapor",
          "Turbina de vapor",
          "Turbina de vapor",
          "Turbina de vapor",
          "Turbina de vapor",
          "Turbina de vapor",
          "Turbina de vapor",
          "Turbina de vapor",
          "Fuel + Gas",
          "Cogeneración",
          "Cogeneración",
          "Cogeneración",
          "Cogeneración",
          "Cogeneración",
          "Cogeneración",
          "Cogeneración",
          "Cogeneración",
          "Cogeneración",
          "Cogeneración",
          "Cogeneración",
          "Cogeneración",
          "Cogeneración",
          "Cogeneración",
          "Cogeneración",
          "Cogeneración",
          "Cogeneración",
          "Cogeneración",
          "Cogeneración",
          "Cogeneración",
          "Cogeneración",
          "Cogeneración",
          "Cogeneración",
          "Cogeneración",
          "Cogeneración",
          "Cogeneración",
          "Cogeneración",
          "Cogeneración",
          "Cogeneración",
          "Cogeneración",
          "Cogeneración",
          "Residuos no renovables",
          "Residuos no renovables",
          "Residuos no renovables",
          "Residuos no renovables",
          "Residuos no renovables",
          "Residuos no renovables",
          "Residuos no renovables",
          "Residuos no renovables",
          "Residuos no renovables",
          "Residuos no renovables",
          "Residuos no renovables",
          "Residuos no renovables",
          "Residuos no renovables",
          "Residuos no renovables",
          "Residuos no renovables",
          "Residuos no renovables",
          "Residuos no renovables",
          "Residuos no renovables",
          "Residuos no renovables",
          "Residuos no renovables",
          "Residuos no renovables",
          "Residuos no renovables",
          "Residuos no renovables",
          "Residuos no renovables",
          "Residuos no renovables",
          "Residuos no renovables",
          "Residuos no renovables",
          "Residuos no renovables",
          "Residuos no renovables",
          "Residuos no renovables",
          "Residuos no renovables",
          "Generación no renovable",
          "Generación no renovable",
          "Generación no renovable",
          "Generación no renovable",
          "Generación no renovable",
          "Generación no renovable",
          "Generación no renovable",
          "Generación no renovable",
          "Generación no renovable",
          "Generación no renovable",
          "Generación no renovable",
          "Generación no renovable",
          "Generación no renovable",
          "Generación no renovable",
          "Generación no renovable",
          "Generación no renovable",
          "Generación no renovable",
          "Generación no renovable",
          "Generación no renovable",
          "Generación no renovable",
          "Generación no renovable",
          "Generación no renovable",
          "Generación no renovable",
          "Generación no renovable",
          "Generación no renovable",
          "Generación no renovable",
          "Generación no renovable",
          "Generación no renovable",
          "Generación no renovable",
          "Generación no renovable",
          "Generación no renovable"
         ],
         "legendgroup": "No-Renovable",
         "marker": {
          "color": "#EF553B",
          "opacity": 0.5,
          "size": [
           0.011435985372471424,
           0.009012009217097909,
           0.015741514911671115,
           0.019324626483161644,
           0.022743695056564085,
           0.02881799678821133,
           0.03343070635398045,
           0.04020949545686121,
           0.017224887741445073,
           0.03532129351538835,
           0.05340233663394636,
           0.0512101607218503,
           0.04413444519127107,
           0.0435245818055634,
           0.035169530505021716,
           0.025314350753681537,
           0.03177269711924328,
           0.026058632889889542,
           0.026772365746635746,
           0.04420486318734566,
           0.04184651632965392,
           0.03373851076854634,
           0.02612840070052365,
           0.02996411689476388,
           0.01571077625575246,
           0.023319661062422937,
           0.03318605559343686,
           0.03678237597425869,
           0.030772445149059,
           0.022892859525104083,
           0.03680045716802266,
           0.3567151342909098,
           0.33483398450141505,
           0.3606694008619503,
           0.35849548278012766,
           0.35129878903894934,
           0.43717634449342585,
           0.4898790998052661,
           0.41655798303747976,
           0.354024066301478,
           0.39797429015271135,
           0.36669083681520104,
           0.37768138525271094,
           0.37440318700405634,
           0.40950034683915065,
           0.33251093719443725,
           0.3304159504050833,
           0.33945159801610575,
           0.3238832199930802,
           0.30953804192422807,
           0.35932655667019603,
           0.3759357098091159,
           0.3354635051782907,
           0.3605501552405442,
           0.3625171998050637,
           0.3284359575560146,
           0.3109005634744249,
           0.3707461243270552,
           0.3867751350226253,
           0.23698984422803557,
           0.2037030819585741,
           0.2295921368976625,
           0.4525125484785965,
           0.4893209915710231,
           0.44635232143417325,
           0.44031372301377303,
           0.4455896825956712,
           0.3306768794944605,
           0.2814773271245919,
           0.3404445159205274,
           0.4533036367894536,
           0.34928491776572734,
           0.33635621750787636,
           0.3372920440639277,
           0.37848990241800873,
           0.34621676981151334,
           0.4346312358107706,
           0.4376339221273243,
           0.4201599462278615,
           0.4494475172661041,
           0.4655136288493093,
           0.4016177961824131,
           0.3907883520561335,
           0.4341357695764435,
           0.4164419006940308,
           0.41903519335086087,
           0.47304023247530813,
           0.4695320505169837,
           0.37785854411683945,
           0.35663874318646216,
           0.5189313330071147,
           0.5697246414587311,
           0.5066609227457046,
           0.028669352242092584,
           0.02621780288978644,
           0.028060677557549898,
           0.028505030878269295,
           0.02662514667475729,
           0.032290172128814,
           0.03494152063806394,
           0.032839066629559065,
           0.02582178050812173,
           0.035564209596935195,
           0.04306679028231734,
           0.039055103205542355,
           0.03138851724392081,
           0.03171092190828637,
           0.03629114303617964,
           0.04631841005631733,
           0.048745530835640836,
           0.04640880284896196,
           0.04505611618260533,
           0.032911610178084735,
           0.033091539368462354,
           0.033495244158683046,
           0.03090674274175034,
           0.030875757429983337,
           0.027230068398887454,
           0.029182628138881752,
           0.030616768294863917,
           0.034105582452008544,
           0.0385005816255488,
           0.03983223933127948,
           0.049660416450884794,
           0.017836011519665292,
           0.015051617935023987,
           0.015304532479699932,
           0.015192443580982106,
           0.015415726196442126,
           0.020491923442418743,
           0.019869081723281844,
           0.01649846338932402,
           0.014410663145819347,
           0.019336092532438735,
           0.021409579538512465,
           0.020387351364407235,
           0.017248974613901204,
           0.018633109779162393,
           0.016808412654078123,
           0.015270834993150514,
           0.014507971795021125,
           0.013932007445787027,
           0.017137055648749778,
           0.020011980955463148,
           0.017964886777705788,
           0.017589744806198807,
           0.018927165224414066,
           0.016418792395014745,
           0.016680886065575704,
           0.018053596504196648,
           0.020290686732156612,
           0.020376572043933318,
           0.019474184029118168,
           0.018274423127905396,
           0.019885526206126276,
           0.005668445307117817,
           0.005737707235554001,
           0.006113624999887019,
           0.006060333842342928,
           0.006597060548440977,
           0.005714954070089923,
           0.006049855161224921,
           0.007796973258548187,
           0.005115143042601171,
           0.005543240533460471,
           0.005540457504338971,
           0.004610430739950342,
           0.003289880416527322,
           0.004023953791422428,
           0.00456182159940915,
           0.005517298069146332,
           0.00512408947486179,
           0.00453813047011781,
           0.0037785496013683453,
           0.005408819704980024,
           0.004529025827822981,
           0.006952173777694311,
           0.008017501866175903,
           0.006945015687152354,
           0.007239222923877138,
           0.006439736892107644,
           0.005689371403649494,
           0.005958172816839216,
           0.0080987573774143,
           0.007291556778311272,
           0.008573305374111459,
           0.010481116275313035,
           0.008138977806867856,
           0.007263438027656419,
           0.00593770903873592,
           0.005915104941867971,
           0.007794279680923375,
           0.008716952082183834,
           0.00815080071052495,
           0.0071347352335289094,
           0.009015883623781841,
           0.01083096126795997,
           0.010363934583591182,
           0.008908715728206196,
           0.009393216536732788,
           0.00997005321694265,
           0.008516853093044134,
           0.008316020928425327,
           0.008226329265733696,
           0.010013656638010536,
           0.01008724144850956,
           0.010062886395031083,
           0.009247014240990503,
           0.009691964998761016,
           0.01050405052661533,
           0.010033459833526734,
           0.011162642876401318,
           0.013413293650765067,
           0.012751368711683345,
           0.01047244452118907,
           0.010568325428797742,
           0.010419970587938494,
           2.2708411533533186e-9,
           0.10814978392171339,
           0.10446438074067453,
           0.11393501575530413,
           0.1178414778641657,
           0.11757363064955866,
           0.12710185324819526,
           0.11424247833652537,
           0.1275031917823073,
           0.11425899269635212,
           0.13699597522542578,
           0.15030604455984695,
           0.14787701085809568,
           0.13098258242883298,
           0.12495108816036798,
           0.12002287605284728,
           0.12131452405641766,
           0.12162350747607636,
           0.11806993155510866,
           0.113430835878248,
           0.1162748539448527,
           0.11496561328954702,
           0.11959856030856916,
           0.11961225758348208,
           0.11459987224792673,
           0.11305067363050121,
           0.12217159840679265,
           0.13678277061551739,
           0.13541238563979094,
           0.1269846682245833,
           0.11842658177967308,
           0.12789234873712294,
           0.008531622592120114,
           0.00722252810255715,
           0.006559473972107962,
           0.008329172518441732,
           0.008241164297748299,
           0.009935596653461234,
           0.01139297877488165,
           0.009999509814868163,
           0.0087060945412001,
           0.010964097054130954,
           0.012396775890000579,
           0.011522579209924309,
           0.011153794955275333,
           0.012046011367800497,
           0.010033989930313349,
           0.009697856445834875,
           0.010298638126763961,
           0.009435428265216976,
           0.008759749530844853,
           0.010156277728155035,
           0.010815470146527591,
           0.009779477184583479,
           0.009723910950317988,
           0.009139999391777906,
           0.00857872286055646,
           0.009237522127788502,
           0.01141638526571606,
           0.011199664152398616,
           0.009775741837937111,
           0.00928629061162379,
           0.010514915832426162,
           1,
           1,
           1,
           1,
           1,
           1,
           1,
           1,
           1,
           1,
           1,
           1,
           1,
           1,
           1,
           1,
           1,
           1,
           1,
           1,
           1,
           1,
           1,
           1,
           1,
           1,
           1,
           1,
           1,
           1,
           1
          ],
          "sizemode": "area",
          "sizeref": 0.0011111111111111111,
          "symbol": "circle"
         },
         "mode": "markers",
         "name": "No-Renovable",
         "orientation": "v",
         "showlegend": true,
         "type": "scatter",
         "x": [
          248,
          249,
          250,
          251,
          252,
          253,
          254,
          255,
          256,
          257,
          258,
          259,
          260,
          261,
          262,
          263,
          264,
          265,
          266,
          267,
          268,
          269,
          270,
          271,
          272,
          273,
          274,
          275,
          276,
          277,
          278,
          279,
          280,
          281,
          282,
          283,
          284,
          285,
          286,
          287,
          288,
          289,
          290,
          291,
          292,
          293,
          294,
          295,
          296,
          297,
          298,
          299,
          300,
          301,
          302,
          303,
          304,
          305,
          306,
          307,
          308,
          309,
          310,
          311,
          312,
          313,
          314,
          315,
          316,
          317,
          318,
          319,
          320,
          321,
          322,
          323,
          324,
          325,
          326,
          327,
          328,
          329,
          330,
          331,
          332,
          333,
          334,
          335,
          336,
          337,
          338,
          339,
          340,
          341,
          342,
          343,
          344,
          345,
          346,
          347,
          348,
          349,
          350,
          351,
          352,
          353,
          354,
          355,
          356,
          357,
          358,
          359,
          360,
          361,
          362,
          363,
          364,
          365,
          366,
          367,
          368,
          369,
          370,
          371,
          372,
          373,
          374,
          375,
          376,
          377,
          378,
          379,
          380,
          381,
          382,
          383,
          384,
          385,
          386,
          387,
          388,
          389,
          390,
          391,
          392,
          393,
          394,
          395,
          396,
          397,
          398,
          399,
          400,
          401,
          402,
          403,
          404,
          405,
          406,
          407,
          408,
          409,
          410,
          411,
          412,
          413,
          414,
          415,
          416,
          417,
          418,
          419,
          420,
          421,
          422,
          423,
          424,
          425,
          426,
          427,
          428,
          429,
          430,
          431,
          432,
          433,
          434,
          435,
          436,
          437,
          438,
          439,
          440,
          441,
          442,
          443,
          444,
          445,
          446,
          447,
          448,
          449,
          450,
          451,
          452,
          453,
          454,
          455,
          456,
          457,
          458,
          459,
          460,
          461,
          462,
          463,
          464,
          465,
          466,
          467,
          468,
          469,
          470,
          471,
          472,
          473,
          474,
          475,
          476,
          477,
          478,
          479,
          480,
          481,
          482,
          483,
          484,
          485,
          486,
          487,
          488,
          489,
          490,
          491,
          492,
          493,
          494,
          495,
          496,
          497,
          498,
          499,
          500,
          501,
          502,
          503,
          504,
          505,
          506,
          507,
          508,
          509,
          510,
          511,
          512,
          513,
          514,
          515,
          516,
          517,
          518,
          519,
          520,
          521,
          522,
          523,
          524,
          525,
          526,
          527,
          528,
          529,
          530,
          531,
          532,
          533,
          534,
          535,
          536,
          537,
          538,
          539,
          540,
          541,
          542,
          543,
          544,
          545,
          546,
          547,
          548,
          549,
          550,
          551,
          552,
          553,
          554,
          555,
          556,
          557,
          558
         ],
         "xaxis": "x",
         "y": [
          5242.136,
          4400.221,
          7140.595,
          8771.07,
          10597.651,
          10799.887,
          11025.302,
          15820.152,
          7985.467,
          12816.753,
          16807.971,
          17313.393,
          16396.046,
          14722.586,
          14649.407,
          10635.073,
          12962.414,
          11135.565,
          11965.273,
          16998.403,
          15326.548,
          13878.93,
          10751.625,
          13195.162,
          7382.646,
          10275.258,
          12323.618,
          13197.372,
          13078.548,
          10481.52,
          15061.23,
          163514.484,
          163486.687,
          163605.227,
          162714.088,
          163691.166,
          163837.034,
          161560.003,
          163891.9,
          164125.743,
          144409.722,
          115413.095,
          127688.454,
          139091.629,
          138517.22,
          138503.073,
          138814.453,
          138487.209,
          138404.139,
          138340.676,
          138174.336,
          137688.802,
          137998.815,
          148363.465,
          159640.052,
          154335.239,
          136990.992,
          137676.308,
          138773.399,
          100722.677,
          93265.672,
          93964.593,
          207427.016,
          238916.811,
          202472.327,
          199849.787,
          207626.946,
          123925.093,
          92830.002,
          133945.575,
          210151.804,
          126742.202,
          105865.509,
          114033.419,
          140609.853,
          117110.974,
          181039.945,
          183858.901,
          171414.065,
          192061.19,
          208050.26,
          154436.88,
          143128.675,
          178589.387,
          171362.465,
          184528.624,
          222286.189,
          206888.211,
          140317.5,
          127960.58,
          220550.181,
          260849.031,
          207359.834,
          13141.731,
          12801.155,
          12728.758,
          12937.876,
          12406.252,
          12101.126,
          11523.562,
          12920.307,
          11970.991,
          12904.898,
          13554.938,
          13203.949,
          11660.905,
          10726.508,
          15116.6,
          19459.305,
          19886.878,
          19831.748,
          20136.761,
          12655.73,
          12119.983,
          13778.858,
          12717.874,
          13596.617,
          12795.673,
          12858.636,
          11369.515,
          12236.949,
          16363.071,
          18237.233,
          20324.393,
          8175.841,
          7349.132,
          6942.373,
          6895.553,
          7183.111,
          7679.592,
          6552.737,
          6491.208,
          6680.791,
          7016.332,
          6738.499,
          6892.66,
          6408.033,
          6302.819,
          7001.324,
          6415.588,
          5918.866,
          5953.527,
          7659,
          7695.346,
          6579.752,
          7235.851,
          7788.375,
          7230.269,
          7838.51,
          7954.891,
          7534.932,
          7311.034,
          8276.692,
          8366.964,
          8138.499,
          2598.356,
          2801.504,
          2773.235,
          2750.667,
          3073.966,
          2141.747,
          1995.216,
          3067.666,
          2371.383,
          2011.431,
          1743.816,
          1558.718,
          1222.198,
          1361.139,
          1900.167,
          2317.929,
          2090.492,
          1939.267,
          1688.733,
          2079.891,
          1658.784,
          2859.899,
          3299.137,
          3058.345,
          3401.781,
          2837.518,
          2112.744,
          2137.769,
          3442.04,
          3338.447,
          3508.775,
          4804.434,
          3973.953,
          3294.808,
          2695.01,
          2756.202,
          2920.999,
          2874.813,
          3206.877,
          3307.667,
          3271.521,
          3408.961,
          3503.892,
          3309.608,
          3177.341,
          4152.895,
          3578.103,
          3392.715,
          3515.335,
          4475.366,
          3878.917,
          3685.595,
          3803.922,
          3988.165,
          4625.621,
          4714.82,
          4918.555,
          4981.017,
          4575.141,
          4450.877,
          4838.719,
          4264.555,
          -0.001,
          49574.729,
          51005.98,
          51682.688,
          53485.942,
          54784.603,
          47632.931,
          37676.674,
          50165.262,
          52970.529,
          49710.625,
          47307.661,
          49995.016,
          48660.325,
          42265.843,
          49993.956,
          50966.696,
          49619.151,
          50454.504,
          50695.218,
          44711.977,
          42106.874,
          49198.972,
          49219.474,
          50465.825,
          53123.607,
          53832.03,
          50794.184,
          48585.432,
          53969.552,
          54221.736,
          52342.178,
          3910.8065,
          3526.4855,
          2975.479,
          3780.4485,
          3840.0525,
          3723.483,
          3757.355,
          3934.239,
          4036.15,
          3978.4535,
          3901.789,
          3895.6125,
          4143.66,
          4074.673,
          4179.527,
          4074.2665,
          4201.57,
          4032.016,
          3914.962,
          3905.464,
          3961.2335,
          4022.96,
          4001.3105,
          4024.94,
          4031.225,
          4070.296,
          4239.4665,
          4018.3955,
          4154.7725,
          4251.738,
          4303.413,
          458389.5335,
          488261.9285,
          453615.49,
          453880.4415,
          465959.9495,
          374761.89199999993,
          329795.664,
          393443.186,
          463600.52499999997,
          362861.9375,
          314742.239,
          338085.1135,
          371502.257,
          338259.10300000006,
          416536.8940000001,
          420120.31450000004,
          407973.36000000004,
          427327.291,
          446926.249,
          384536.944,
          366256.24649999995,
          411367.59400000004,
          411491.8905,
          440365.454,
          469909.69000000006,
          440626.387,
          371349.28449999995,
          358796.07149999996,
          425008.4105,
          457851.05999999994,
          409267.47000000003
         ],
         "yaxis": "y"
        },
        {
         "hovertemplate": "<b>%{hovertext}</b><br><br>tipo de energía=Demanda en b.c.<br>index=%{x}<br>Valores=%{y}<br>Porcentaje=%{marker.size}<extra></extra>",
         "hovertext": [
          "Consumos en bombeo",
          "Consumos en bombeo",
          "Consumos en bombeo",
          "Consumos en bombeo",
          "Consumos en bombeo",
          "Consumos en bombeo",
          "Consumos en bombeo",
          "Consumos en bombeo",
          "Consumos en bombeo",
          "Consumos en bombeo",
          "Consumos en bombeo",
          "Consumos en bombeo",
          "Consumos en bombeo",
          "Consumos en bombeo",
          "Consumos en bombeo",
          "Consumos en bombeo",
          "Consumos en bombeo",
          "Consumos en bombeo",
          "Consumos en bombeo",
          "Consumos en bombeo",
          "Consumos en bombeo",
          "Consumos en bombeo",
          "Consumos en bombeo",
          "Consumos en bombeo",
          "Consumos en bombeo",
          "Consumos en bombeo",
          "Consumos en bombeo",
          "Consumos en bombeo",
          "Consumos en bombeo",
          "Consumos en bombeo",
          "Consumos en bombeo",
          "Saldo I. internacionales",
          "Saldo I. internacionales",
          "Saldo I. internacionales",
          "Saldo I. internacionales",
          "Saldo I. internacionales",
          "Saldo I. internacionales",
          "Saldo I. internacionales",
          "Saldo I. internacionales",
          "Saldo I. internacionales",
          "Saldo I. internacionales",
          "Saldo I. internacionales",
          "Saldo I. internacionales",
          "Saldo I. internacionales",
          "Saldo I. internacionales",
          "Saldo I. internacionales",
          "Saldo I. internacionales",
          "Saldo I. internacionales",
          "Saldo I. internacionales",
          "Saldo I. internacionales",
          "Saldo I. internacionales",
          "Saldo I. internacionales",
          "Saldo I. internacionales",
          "Saldo I. internacionales",
          "Saldo I. internacionales",
          "Saldo I. internacionales",
          "Saldo I. internacionales",
          "Saldo I. internacionales",
          "Saldo I. internacionales",
          "Saldo I. internacionales",
          "Saldo I. internacionales",
          "Saldo I. internacionales",
          "Demanda en b.c.",
          "Demanda en b.c.",
          "Demanda en b.c.",
          "Demanda en b.c.",
          "Demanda en b.c.",
          "Demanda en b.c.",
          "Demanda en b.c.",
          "Demanda en b.c.",
          "Demanda en b.c.",
          "Demanda en b.c.",
          "Demanda en b.c.",
          "Demanda en b.c.",
          "Demanda en b.c.",
          "Demanda en b.c.",
          "Demanda en b.c.",
          "Demanda en b.c.",
          "Demanda en b.c.",
          "Demanda en b.c.",
          "Demanda en b.c.",
          "Demanda en b.c.",
          "Demanda en b.c.",
          "Demanda en b.c.",
          "Demanda en b.c.",
          "Demanda en b.c.",
          "Demanda en b.c.",
          "Demanda en b.c.",
          "Demanda en b.c.",
          "Demanda en b.c.",
          "Demanda en b.c.",
          "Demanda en b.c.",
          "Demanda en b.c."
         ],
         "legendgroup": "Demanda en b.c.",
         "marker": {
          "color": "#00CC96",
          "opacity": 0.5,
          "size": [
           0.014583636351722358,
           0.007574868609684303,
           0.020888900541391038,
           0.013981124702811041,
           0.005603243956115902,
           0.022167682047969702,
           0.06487363937742231,
           0.02414068383232801,
           0.017859154866889777,
           0.03607765623991087,
           0.034233555908331624,
           0.026989091415141588,
           0.034873979105926003,
           0.05299930855888436,
           0.025065980986103666,
           0.01075120437487842,
           0.012616095829421596,
           0.020619001649413722,
           0.017118087599877124,
           0.030188161701584476,
           0.04951514716374394,
           0.02740069609636022,
           0.01904344097577906,
           0.02282773085574253,
           0.012510998538637737,
           0.011594575814610457,
           0.03275730738300242,
           0.04681956664442322,
           0.02588815944355498,
           0.021638204408235735,
           0.011091948036811025,
           0.021670328210712114,
           0.03666688667112626,
           0.052434708843599104,
           0.01915791018125318,
           0.0003547439191759243,
           0.01611740790549761,
           0.04702620069918436,
           0.01816120699780977,
           0.015577525485543028,
           0.017202086146519992,
           0.03620847408683308,
           0.058384304193026135,
           0.03965935412131823,
           0.044376723873515066,
           0.03159190476698856,
           0.01564533333193011,
           0.04836759044410168,
           0.032366646205375514,
           0.012559285134408562,
           0.02673581079291114,
           0.03144639186335833,
           0.030334228695349245,
           0.011927615989773455,
           0.014906094543370687,
           0.009545681952858518,
           0.01319724480197337,
           0.03428548682021919,
           0.01082442229439419,
           0.017415474194110398,
           0.006726976809013441,
           0.03485992766240961,
           1,
           1,
           1,
           1,
           1,
           1,
           1,
           1,
           1,
           1,
           1,
           1,
           1,
           1,
           1,
           1,
           1,
           1,
           1,
           1,
           1,
           1,
           1,
           1,
           1,
           1,
           1,
           1,
           1,
           1,
           1
          ],
          "sizemode": "area",
          "sizeref": 0.0011111111111111111,
          "symbol": "circle"
         },
         "mode": "markers",
         "name": "Demanda en b.c.",
         "orientation": "v",
         "showlegend": true,
         "type": "scatter",
         "x": [
          559,
          560,
          561,
          562,
          563,
          564,
          565,
          566,
          567,
          568,
          569,
          570,
          571,
          572,
          573,
          574,
          575,
          576,
          577,
          578,
          579,
          580,
          581,
          582,
          583,
          584,
          585,
          586,
          587,
          588,
          589,
          590,
          591,
          592,
          593,
          594,
          595,
          596,
          597,
          598,
          599,
          600,
          601,
          602,
          603,
          604,
          605,
          606,
          607,
          608,
          609,
          610,
          611,
          612,
          613,
          614,
          615,
          616,
          617,
          618,
          619,
          620,
          621,
          622,
          623,
          624,
          625,
          626,
          627,
          628,
          629,
          630,
          631,
          632,
          633,
          634,
          635,
          636,
          637,
          638,
          639,
          640,
          641,
          642,
          643,
          644,
          645,
          646,
          647,
          648,
          649,
          650,
          651
         ],
         "xaxis": "x",
         "y": [
          -10473.632,
          -5819.447,
          -17146.533,
          -10599.293,
          -3964.29,
          -14034.962,
          -47500.313,
          -16754.297,
          -12968.557,
          -27228.188,
          -26921.205,
          -21188.824,
          -23405.114,
          -35223.895,
          -18062.309,
          -7580.054,
          -9751.268,
          -15726.052,
          -12311.63,
          -20507.177,
          -33353.207,
          -20807.877,
          -13978.754,
          -17093.26,
          -9064.527,
          -8239.738,
          -21524.147,
          -29344.061,
          -17949.148,
          -15339.835,
          -7628.414,
          -15563.131,
          -28169.598,
          -43040.727,
          -14523.889,
          250.981,
          10204.369,
          -34432.464,
          12604.376,
          -11311.735,
          -12982.596,
          -28474.277,
          -45836.843,
          -26616.742,
          -29493.235,
          -22764.828,
          -11030.622,
          -37384.413,
          -24685.946,
          -9032.859,
          -18161.954,
          -21182.165,
          -23035.579,
          -8755.414,
          -11161.589,
          -6916.082,
          9378.682,
          22528.282,
          6784.183,
          12074.745,
          4768.913,
          23974.685,
          666103.46,
          700279.064,
          700469.687,
          707868.11,
          699570.51,
          605057.255,
          568331.891,
          660518.846,
          677596.79,
          674288.988,
          675607.185,
          651037.118,
          571090.314,
          535176.203,
          638936.275,
          667820.961,
          678651.429,
          681873.0669999999,
          676528.629,
          601973.622,
          564525.295,
          671705.365,
          688577.261,
          692283.956,
          692563.445,
          694175.069,
          614030.957,
          568059.691,
          657435.9689999999,
          678243.987,
          672486.5669999999
         ],
         "yaxis": "y"
        }
       ],
       "layout": {
        "legend": {
         "itemsizing": "constant",
         "title": {
          "text": "tipo de energía"
         },
         "tracegroupgap": 0
        },
        "margin": {
         "t": 60
        },
        "template": {
         "data": {
          "bar": [
           {
            "error_x": {
             "color": "#2a3f5f"
            },
            "error_y": {
             "color": "#2a3f5f"
            },
            "marker": {
             "line": {
              "color": "#E5ECF6",
              "width": 0.5
             },
             "pattern": {
              "fillmode": "overlay",
              "size": 10,
              "solidity": 0.2
             }
            },
            "type": "bar"
           }
          ],
          "barpolar": [
           {
            "marker": {
             "line": {
              "color": "#E5ECF6",
              "width": 0.5
             },
             "pattern": {
              "fillmode": "overlay",
              "size": 10,
              "solidity": 0.2
             }
            },
            "type": "barpolar"
           }
          ],
          "carpet": [
           {
            "aaxis": {
             "endlinecolor": "#2a3f5f",
             "gridcolor": "white",
             "linecolor": "white",
             "minorgridcolor": "white",
             "startlinecolor": "#2a3f5f"
            },
            "baxis": {
             "endlinecolor": "#2a3f5f",
             "gridcolor": "white",
             "linecolor": "white",
             "minorgridcolor": "white",
             "startlinecolor": "#2a3f5f"
            },
            "type": "carpet"
           }
          ],
          "choropleth": [
           {
            "colorbar": {
             "outlinewidth": 0,
             "ticks": ""
            },
            "type": "choropleth"
           }
          ],
          "contour": [
           {
            "colorbar": {
             "outlinewidth": 0,
             "ticks": ""
            },
            "colorscale": [
             [
              0,
              "#0d0887"
             ],
             [
              0.1111111111111111,
              "#46039f"
             ],
             [
              0.2222222222222222,
              "#7201a8"
             ],
             [
              0.3333333333333333,
              "#9c179e"
             ],
             [
              0.4444444444444444,
              "#bd3786"
             ],
             [
              0.5555555555555556,
              "#d8576b"
             ],
             [
              0.6666666666666666,
              "#ed7953"
             ],
             [
              0.7777777777777778,
              "#fb9f3a"
             ],
             [
              0.8888888888888888,
              "#fdca26"
             ],
             [
              1,
              "#f0f921"
             ]
            ],
            "type": "contour"
           }
          ],
          "contourcarpet": [
           {
            "colorbar": {
             "outlinewidth": 0,
             "ticks": ""
            },
            "type": "contourcarpet"
           }
          ],
          "heatmap": [
           {
            "colorbar": {
             "outlinewidth": 0,
             "ticks": ""
            },
            "colorscale": [
             [
              0,
              "#0d0887"
             ],
             [
              0.1111111111111111,
              "#46039f"
             ],
             [
              0.2222222222222222,
              "#7201a8"
             ],
             [
              0.3333333333333333,
              "#9c179e"
             ],
             [
              0.4444444444444444,
              "#bd3786"
             ],
             [
              0.5555555555555556,
              "#d8576b"
             ],
             [
              0.6666666666666666,
              "#ed7953"
             ],
             [
              0.7777777777777778,
              "#fb9f3a"
             ],
             [
              0.8888888888888888,
              "#fdca26"
             ],
             [
              1,
              "#f0f921"
             ]
            ],
            "type": "heatmap"
           }
          ],
          "heatmapgl": [
           {
            "colorbar": {
             "outlinewidth": 0,
             "ticks": ""
            },
            "colorscale": [
             [
              0,
              "#0d0887"
             ],
             [
              0.1111111111111111,
              "#46039f"
             ],
             [
              0.2222222222222222,
              "#7201a8"
             ],
             [
              0.3333333333333333,
              "#9c179e"
             ],
             [
              0.4444444444444444,
              "#bd3786"
             ],
             [
              0.5555555555555556,
              "#d8576b"
             ],
             [
              0.6666666666666666,
              "#ed7953"
             ],
             [
              0.7777777777777778,
              "#fb9f3a"
             ],
             [
              0.8888888888888888,
              "#fdca26"
             ],
             [
              1,
              "#f0f921"
             ]
            ],
            "type": "heatmapgl"
           }
          ],
          "histogram": [
           {
            "marker": {
             "pattern": {
              "fillmode": "overlay",
              "size": 10,
              "solidity": 0.2
             }
            },
            "type": "histogram"
           }
          ],
          "histogram2d": [
           {
            "colorbar": {
             "outlinewidth": 0,
             "ticks": ""
            },
            "colorscale": [
             [
              0,
              "#0d0887"
             ],
             [
              0.1111111111111111,
              "#46039f"
             ],
             [
              0.2222222222222222,
              "#7201a8"
             ],
             [
              0.3333333333333333,
              "#9c179e"
             ],
             [
              0.4444444444444444,
              "#bd3786"
             ],
             [
              0.5555555555555556,
              "#d8576b"
             ],
             [
              0.6666666666666666,
              "#ed7953"
             ],
             [
              0.7777777777777778,
              "#fb9f3a"
             ],
             [
              0.8888888888888888,
              "#fdca26"
             ],
             [
              1,
              "#f0f921"
             ]
            ],
            "type": "histogram2d"
           }
          ],
          "histogram2dcontour": [
           {
            "colorbar": {
             "outlinewidth": 0,
             "ticks": ""
            },
            "colorscale": [
             [
              0,
              "#0d0887"
             ],
             [
              0.1111111111111111,
              "#46039f"
             ],
             [
              0.2222222222222222,
              "#7201a8"
             ],
             [
              0.3333333333333333,
              "#9c179e"
             ],
             [
              0.4444444444444444,
              "#bd3786"
             ],
             [
              0.5555555555555556,
              "#d8576b"
             ],
             [
              0.6666666666666666,
              "#ed7953"
             ],
             [
              0.7777777777777778,
              "#fb9f3a"
             ],
             [
              0.8888888888888888,
              "#fdca26"
             ],
             [
              1,
              "#f0f921"
             ]
            ],
            "type": "histogram2dcontour"
           }
          ],
          "mesh3d": [
           {
            "colorbar": {
             "outlinewidth": 0,
             "ticks": ""
            },
            "type": "mesh3d"
           }
          ],
          "parcoords": [
           {
            "line": {
             "colorbar": {
              "outlinewidth": 0,
              "ticks": ""
             }
            },
            "type": "parcoords"
           }
          ],
          "pie": [
           {
            "automargin": true,
            "type": "pie"
           }
          ],
          "scatter": [
           {
            "fillpattern": {
             "fillmode": "overlay",
             "size": 10,
             "solidity": 0.2
            },
            "type": "scatter"
           }
          ],
          "scatter3d": [
           {
            "line": {
             "colorbar": {
              "outlinewidth": 0,
              "ticks": ""
             }
            },
            "marker": {
             "colorbar": {
              "outlinewidth": 0,
              "ticks": ""
             }
            },
            "type": "scatter3d"
           }
          ],
          "scattercarpet": [
           {
            "marker": {
             "colorbar": {
              "outlinewidth": 0,
              "ticks": ""
             }
            },
            "type": "scattercarpet"
           }
          ],
          "scattergeo": [
           {
            "marker": {
             "colorbar": {
              "outlinewidth": 0,
              "ticks": ""
             }
            },
            "type": "scattergeo"
           }
          ],
          "scattergl": [
           {
            "marker": {
             "colorbar": {
              "outlinewidth": 0,
              "ticks": ""
             }
            },
            "type": "scattergl"
           }
          ],
          "scattermapbox": [
           {
            "marker": {
             "colorbar": {
              "outlinewidth": 0,
              "ticks": ""
             }
            },
            "type": "scattermapbox"
           }
          ],
          "scatterpolar": [
           {
            "marker": {
             "colorbar": {
              "outlinewidth": 0,
              "ticks": ""
             }
            },
            "type": "scatterpolar"
           }
          ],
          "scatterpolargl": [
           {
            "marker": {
             "colorbar": {
              "outlinewidth": 0,
              "ticks": ""
             }
            },
            "type": "scatterpolargl"
           }
          ],
          "scatterternary": [
           {
            "marker": {
             "colorbar": {
              "outlinewidth": 0,
              "ticks": ""
             }
            },
            "type": "scatterternary"
           }
          ],
          "surface": [
           {
            "colorbar": {
             "outlinewidth": 0,
             "ticks": ""
            },
            "colorscale": [
             [
              0,
              "#0d0887"
             ],
             [
              0.1111111111111111,
              "#46039f"
             ],
             [
              0.2222222222222222,
              "#7201a8"
             ],
             [
              0.3333333333333333,
              "#9c179e"
             ],
             [
              0.4444444444444444,
              "#bd3786"
             ],
             [
              0.5555555555555556,
              "#d8576b"
             ],
             [
              0.6666666666666666,
              "#ed7953"
             ],
             [
              0.7777777777777778,
              "#fb9f3a"
             ],
             [
              0.8888888888888888,
              "#fdca26"
             ],
             [
              1,
              "#f0f921"
             ]
            ],
            "type": "surface"
           }
          ],
          "table": [
           {
            "cells": {
             "fill": {
              "color": "#EBF0F8"
             },
             "line": {
              "color": "white"
             }
            },
            "header": {
             "fill": {
              "color": "#C8D4E3"
             },
             "line": {
              "color": "white"
             }
            },
            "type": "table"
           }
          ]
         },
         "layout": {
          "annotationdefaults": {
           "arrowcolor": "#2a3f5f",
           "arrowhead": 0,
           "arrowwidth": 1
          },
          "autotypenumbers": "strict",
          "coloraxis": {
           "colorbar": {
            "outlinewidth": 0,
            "ticks": ""
           }
          },
          "colorscale": {
           "diverging": [
            [
             0,
             "#8e0152"
            ],
            [
             0.1,
             "#c51b7d"
            ],
            [
             0.2,
             "#de77ae"
            ],
            [
             0.3,
             "#f1b6da"
            ],
            [
             0.4,
             "#fde0ef"
            ],
            [
             0.5,
             "#f7f7f7"
            ],
            [
             0.6,
             "#e6f5d0"
            ],
            [
             0.7,
             "#b8e186"
            ],
            [
             0.8,
             "#7fbc41"
            ],
            [
             0.9,
             "#4d9221"
            ],
            [
             1,
             "#276419"
            ]
           ],
           "sequential": [
            [
             0,
             "#0d0887"
            ],
            [
             0.1111111111111111,
             "#46039f"
            ],
            [
             0.2222222222222222,
             "#7201a8"
            ],
            [
             0.3333333333333333,
             "#9c179e"
            ],
            [
             0.4444444444444444,
             "#bd3786"
            ],
            [
             0.5555555555555556,
             "#d8576b"
            ],
            [
             0.6666666666666666,
             "#ed7953"
            ],
            [
             0.7777777777777778,
             "#fb9f3a"
            ],
            [
             0.8888888888888888,
             "#fdca26"
            ],
            [
             1,
             "#f0f921"
            ]
           ],
           "sequentialminus": [
            [
             0,
             "#0d0887"
            ],
            [
             0.1111111111111111,
             "#46039f"
            ],
            [
             0.2222222222222222,
             "#7201a8"
            ],
            [
             0.3333333333333333,
             "#9c179e"
            ],
            [
             0.4444444444444444,
             "#bd3786"
            ],
            [
             0.5555555555555556,
             "#d8576b"
            ],
            [
             0.6666666666666666,
             "#ed7953"
            ],
            [
             0.7777777777777778,
             "#fb9f3a"
            ],
            [
             0.8888888888888888,
             "#fdca26"
            ],
            [
             1,
             "#f0f921"
            ]
           ]
          },
          "colorway": [
           "#636efa",
           "#EF553B",
           "#00cc96",
           "#ab63fa",
           "#FFA15A",
           "#19d3f3",
           "#FF6692",
           "#B6E880",
           "#FF97FF",
           "#FECB52"
          ],
          "font": {
           "color": "#2a3f5f"
          },
          "geo": {
           "bgcolor": "white",
           "lakecolor": "white",
           "landcolor": "#E5ECF6",
           "showlakes": true,
           "showland": true,
           "subunitcolor": "white"
          },
          "hoverlabel": {
           "align": "left"
          },
          "hovermode": "closest",
          "mapbox": {
           "style": "light"
          },
          "paper_bgcolor": "white",
          "plot_bgcolor": "#E5ECF6",
          "polar": {
           "angularaxis": {
            "gridcolor": "white",
            "linecolor": "white",
            "ticks": ""
           },
           "bgcolor": "#E5ECF6",
           "radialaxis": {
            "gridcolor": "white",
            "linecolor": "white",
            "ticks": ""
           }
          },
          "scene": {
           "xaxis": {
            "backgroundcolor": "#E5ECF6",
            "gridcolor": "white",
            "gridwidth": 2,
            "linecolor": "white",
            "showbackground": true,
            "ticks": "",
            "zerolinecolor": "white"
           },
           "yaxis": {
            "backgroundcolor": "#E5ECF6",
            "gridcolor": "white",
            "gridwidth": 2,
            "linecolor": "white",
            "showbackground": true,
            "ticks": "",
            "zerolinecolor": "white"
           },
           "zaxis": {
            "backgroundcolor": "#E5ECF6",
            "gridcolor": "white",
            "gridwidth": 2,
            "linecolor": "white",
            "showbackground": true,
            "ticks": "",
            "zerolinecolor": "white"
           }
          },
          "shapedefaults": {
           "line": {
            "color": "#2a3f5f"
           }
          },
          "ternary": {
           "aaxis": {
            "gridcolor": "white",
            "linecolor": "white",
            "ticks": ""
           },
           "baxis": {
            "gridcolor": "white",
            "linecolor": "white",
            "ticks": ""
           },
           "bgcolor": "#E5ECF6",
           "caxis": {
            "gridcolor": "white",
            "linecolor": "white",
            "ticks": ""
           }
          },
          "title": {
           "x": 0.05
          },
          "xaxis": {
           "automargin": true,
           "gridcolor": "white",
           "linecolor": "white",
           "ticks": "",
           "title": {
            "standoff": 15
           },
           "zerolinecolor": "white",
           "zerolinewidth": 2
          },
          "yaxis": {
           "automargin": true,
           "gridcolor": "white",
           "linecolor": "white",
           "ticks": "",
           "title": {
            "standoff": 15
           },
           "zerolinecolor": "white",
           "zerolinewidth": 2
          }
         }
        },
        "xaxis": {
         "anchor": "y",
         "domain": [
          0,
          1
         ],
         "title": {
          "text": "index"
         }
        },
        "yaxis": {
         "anchor": "x",
         "domain": [
          0,
          1
         ],
         "title": {
          "text": "Valores"
         }
        }
       }
      }
     },
     "metadata": {},
     "output_type": "display_data"
    }
   ],
   "source": [
    "px.scatter(data_frame = df_balance,\n",
    "            y = 'Valores',\n",
    "            color = 'tipo de energía',\n",
    "            color_discrete_sequence = colores_personalizados,\n",
    "            opacity     = 0.5,\n",
    "            hover_name  = 'nombre',\n",
    "            size        = 'Porcentaje',\n",
    "            size_max    = 30\n",
    "          )"
   ]
  },
  {
   "cell_type": "code",
   "execution_count": 43,
   "metadata": {},
   "outputs": [
    {
     "name": "stderr",
     "output_type": "stream",
     "text": [
      "/opt/anaconda3/lib/python3.11/site-packages/plotly/express/_core.py:1979: FutureWarning:\n",
      "\n",
      "When grouping with a length-1 list-like, you will need to pass a length-1 tuple to get_group in a future version of pandas. Pass `(name,)` instead of `name` to silence this warning.\n",
      "\n"
     ]
    },
    {
     "data": {
      "application/vnd.plotly.v1+json": {
       "config": {
        "plotlyServerURL": "https://plot.ly"
       },
       "data": [
        {
         "alignmentgroup": "True",
         "hovertemplate": "nombre=%{y}<br>Valores=%{x}<extra></extra>",
         "legendgroup": "Hidráulica",
         "marker": {
          "color": "#636EFA"
         },
         "name": "Hidráulica",
         "notched": false,
         "offsetgroup": "Hidráulica",
         "orientation": "h",
         "showlegend": true,
         "type": "box",
         "x": [
          34410.083,
          36184.276,
          27251.012,
          24805.877,
          31052.893,
          24153.141,
          15558.041,
          31779.909,
          33073.974,
          29080.481,
          20213.244,
          31118.702,
          24335.723,
          23312.579,
          38970.565,
          40808.219,
          44279.829,
          41709.912,
          43508.807,
          27451.729,
          23512.598,
          25842.727,
          27088.352,
          27620.756,
          38745.423,
          41528.037,
          24530.895,
          22871.902,
          41941.542,
          43709.116,
          46674.527
         ],
         "x0": " ",
         "xaxis": "x",
         "y": [
          "Hidráulica",
          "Hidráulica",
          "Hidráulica",
          "Hidráulica",
          "Hidráulica",
          "Hidráulica",
          "Hidráulica",
          "Hidráulica",
          "Hidráulica",
          "Hidráulica",
          "Hidráulica",
          "Hidráulica",
          "Hidráulica",
          "Hidráulica",
          "Hidráulica",
          "Hidráulica",
          "Hidráulica",
          "Hidráulica",
          "Hidráulica",
          "Hidráulica",
          "Hidráulica",
          "Hidráulica",
          "Hidráulica",
          "Hidráulica",
          "Hidráulica",
          "Hidráulica",
          "Hidráulica",
          "Hidráulica",
          "Hidráulica",
          "Hidráulica",
          "Hidráulica"
         ],
         "y0": " ",
         "yaxis": "y"
        },
        {
         "alignmentgroup": "True",
         "hovertemplate": "nombre=%{y}<br>Valores=%{x}<extra></extra>",
         "legendgroup": "Eólica",
         "marker": {
          "color": "#EF553B"
         },
         "name": "Eólica",
         "notched": false,
         "offsetgroup": "Eólica",
         "orientation": "h",
         "showlegend": true,
         "type": "box",
         "x": [
          54172.392,
          60510.578,
          121145.44,
          114384.247,
          102730.916,
          123185.593,
          209534.384,
          127090.677,
          61873.719,
          154352.114,
          300443.625,
          191728.164,
          62212.405,
          80956.323,
          59481.707,
          66702.778,
          119078.548,
          93717.424,
          48743.75,
          71790.755,
          67340.717,
          123178.884,
          123386.311,
          104358.274,
          50450.433,
          64416.642,
          75517.746,
          59586.819,
          53814.25,
          40364.161,
          46525.945
         ],
         "x0": " ",
         "xaxis": "x",
         "y": [
          "Eólica",
          "Eólica",
          "Eólica",
          "Eólica",
          "Eólica",
          "Eólica",
          "Eólica",
          "Eólica",
          "Eólica",
          "Eólica",
          "Eólica",
          "Eólica",
          "Eólica",
          "Eólica",
          "Eólica",
          "Eólica",
          "Eólica",
          "Eólica",
          "Eólica",
          "Eólica",
          "Eólica",
          "Eólica",
          "Eólica",
          "Eólica",
          "Eólica",
          "Eólica",
          "Eólica",
          "Eólica",
          "Eólica",
          "Eólica",
          "Eólica"
         ],
         "y0": " ",
         "yaxis": "y"
        },
        {
         "alignmentgroup": "True",
         "hovertemplate": "nombre=%{y}<br>Valores=%{x}<extra></extra>",
         "legendgroup": "Solar fotovoltaica",
         "marker": {
          "color": "#00CC96"
         },
         "name": "Solar fotovoltaica",
         "notched": false,
         "offsetgroup": "Solar fotovoltaica",
         "orientation": "h",
         "showlegend": true,
         "type": "box",
         "x": [
          118190.342,
          118167.259,
          127037.077,
          112494.024,
          83969.818,
          73569.331,
          82520.277,
          97003.07,
          115090.681,
          136933.965,
          79274.995,
          132980.176,
          131582.923,
          124631.015,
          133621.346,
          127279.529,
          124437.232,
          130418.849,
          128452.095,
          126417.895,
          130719.556,
          126647.71,
          120708.613,
          121833.444,
          121536.59,
          120719.663,
          118468.114,
          121475.905,
          115051.014,
          118841.884,
          123595.804
         ],
         "x0": " ",
         "xaxis": "x",
         "y": [
          "Solar fotovoltaica",
          "Solar fotovoltaica",
          "Solar fotovoltaica",
          "Solar fotovoltaica",
          "Solar fotovoltaica",
          "Solar fotovoltaica",
          "Solar fotovoltaica",
          "Solar fotovoltaica",
          "Solar fotovoltaica",
          "Solar fotovoltaica",
          "Solar fotovoltaica",
          "Solar fotovoltaica",
          "Solar fotovoltaica",
          "Solar fotovoltaica",
          "Solar fotovoltaica",
          "Solar fotovoltaica",
          "Solar fotovoltaica",
          "Solar fotovoltaica",
          "Solar fotovoltaica",
          "Solar fotovoltaica",
          "Solar fotovoltaica",
          "Solar fotovoltaica",
          "Solar fotovoltaica",
          "Solar fotovoltaica",
          "Solar fotovoltaica",
          "Solar fotovoltaica",
          "Solar fotovoltaica",
          "Solar fotovoltaica",
          "Solar fotovoltaica",
          "Solar fotovoltaica",
          "Solar fotovoltaica"
         ],
         "y0": " ",
         "yaxis": "y"
        },
        {
         "alignmentgroup": "True",
         "hovertemplate": "nombre=%{y}<br>Valores=%{x}<extra></extra>",
         "legendgroup": "Solar térmica",
         "marker": {
          "color": "#AB63FA"
         },
         "name": "Solar térmica",
         "notched": false,
         "offsetgroup": "Solar térmica",
         "orientation": "h",
         "showlegend": true,
         "type": "box",
         "x": [
          14417.226,
          18173.901,
          19163.019,
          14430.12,
          6282.017,
          1329.429,
          2883.921,
          4758.746,
          16799.109,
          20321.971,
          5231.198,
          12841.32,
          19952.207,
          22556.123,
          20529.101,
          21103.343,
          19451.213,
          18621.448,
          19664.765,
          19700.118,
          21472.534,
          18326.516,
          16070.137,
          13369.877,
          15051.556,
          12174.059,
          10156.522,
          15608.325,
          14944.868,
          15093.094,
          16531.887
         ],
         "x0": " ",
         "xaxis": "x",
         "y": [
          "Solar térmica",
          "Solar térmica",
          "Solar térmica",
          "Solar térmica",
          "Solar térmica",
          "Solar térmica",
          "Solar térmica",
          "Solar térmica",
          "Solar térmica",
          "Solar térmica",
          "Solar térmica",
          "Solar térmica",
          "Solar térmica",
          "Solar térmica",
          "Solar térmica",
          "Solar térmica",
          "Solar térmica",
          "Solar térmica",
          "Solar térmica",
          "Solar térmica",
          "Solar térmica",
          "Solar térmica",
          "Solar térmica",
          "Solar térmica",
          "Solar térmica",
          "Solar térmica",
          "Solar térmica",
          "Solar térmica",
          "Solar térmica",
          "Solar térmica",
          "Solar térmica"
         ],
         "y0": " ",
         "yaxis": "y"
        },
        {
         "alignmentgroup": "True",
         "hovertemplate": "nombre=%{y}<br>Valores=%{x}<extra></extra>",
         "legendgroup": "Hidroeólica",
         "marker": {
          "color": "#FFA15A"
         },
         "name": "Hidroeólica",
         "notched": false,
         "offsetgroup": "Hidroeólica",
         "orientation": "h",
         "showlegend": true,
         "type": "box",
         "x": [
          28.649,
          37.994,
          49.623,
          75.188,
          71.507,
          24.817,
          71.798,
          82.063,
          97.676,
          42.124,
          43.431,
          49.377,
          50.166,
          40.149,
          54.191,
          69.267,
          93.93,
          95.334,
          28.09,
          -2.192,
          -0.077,
          2.047,
          21.267,
          26.192,
          2.947,
          3.604,
          4.891,
          13.57,
          10.616,
          6.117,
          14.357
         ],
         "x0": " ",
         "xaxis": "x",
         "y": [
          "Hidroeólica",
          "Hidroeólica",
          "Hidroeólica",
          "Hidroeólica",
          "Hidroeólica",
          "Hidroeólica",
          "Hidroeólica",
          "Hidroeólica",
          "Hidroeólica",
          "Hidroeólica",
          "Hidroeólica",
          "Hidroeólica",
          "Hidroeólica",
          "Hidroeólica",
          "Hidroeólica",
          "Hidroeólica",
          "Hidroeólica",
          "Hidroeólica",
          "Hidroeólica",
          "Hidroeólica",
          "Hidroeólica",
          "Hidroeólica",
          "Hidroeólica",
          "Hidroeólica",
          "Hidroeólica",
          "Hidroeólica",
          "Hidroeólica",
          "Hidroeólica",
          "Hidroeólica",
          "Hidroeólica",
          "Hidroeólica"
         ],
         "y0": " ",
         "yaxis": "y"
        },
        {
         "alignmentgroup": "True",
         "hovertemplate": "nombre=%{y}<br>Valores=%{x}<extra></extra>",
         "legendgroup": "Otras renovables",
         "marker": {
          "color": "#19D3F3"
         },
         "name": "Otras renovables",
         "notched": false,
         "offsetgroup": "Otras renovables",
         "orientation": "h",
         "showlegend": true,
         "type": "box",
         "x": [
          10110.756,
          10865.463,
          10824.656,
          10622.483,
          10810.377,
          9479.58,
          7427.447,
          7905.733,
          8720.434,
          8346.948,
          8637.511,
          8869.273,
          8997.682,
          7588.529,
          7919.28,
          7809.369,
          7817.909,
          7734.386,
          7933.016,
          8141.04,
          7084.88,
          7468.318,
          9853.567,
          10251.645,
          10114.513,
          10828.954,
          10404.026,
          9847.209,
          10101.857,
          10455.201,
          10918.157
         ],
         "x0": " ",
         "xaxis": "x",
         "y": [
          "Otras renovables",
          "Otras renovables",
          "Otras renovables",
          "Otras renovables",
          "Otras renovables",
          "Otras renovables",
          "Otras renovables",
          "Otras renovables",
          "Otras renovables",
          "Otras renovables",
          "Otras renovables",
          "Otras renovables",
          "Otras renovables",
          "Otras renovables",
          "Otras renovables",
          "Otras renovables",
          "Otras renovables",
          "Otras renovables",
          "Otras renovables",
          "Otras renovables",
          "Otras renovables",
          "Otras renovables",
          "Otras renovables",
          "Otras renovables",
          "Otras renovables",
          "Otras renovables",
          "Otras renovables",
          "Otras renovables",
          "Otras renovables",
          "Otras renovables",
          "Otras renovables"
         ],
         "y0": " ",
         "yaxis": "y"
        },
        {
         "alignmentgroup": "True",
         "hovertemplate": "nombre=%{y}<br>Valores=%{x}<extra></extra>",
         "legendgroup": "Residuos renovables",
         "marker": {
          "color": "#FF6692"
         },
         "name": "Residuos renovables",
         "notched": false,
         "offsetgroup": "Residuos renovables",
         "orientation": "h",
         "showlegend": true,
         "type": "box",
         "x": [
          2421.2415,
          2066.7095,
          1570.63,
          2298.9115,
          2406.3415,
          2384.065,
          2473.136,
          2605.383,
          2620.964,
          2560.2315,
          2416.424,
          2390.6595,
          2478.807,
          2549.512,
          2650.328,
          2538.8175,
          2655.089,
          2660.421,
          2616.346,
          2606.464,
          2674.2125,
          2715.025,
          2691.2915,
          2713.163,
          2732.902,
          2738.779,
          2595.3435,
          2419.7675,
          2437.8145,
          2494.276,
          2612.149
         ],
         "x0": " ",
         "xaxis": "x",
         "y": [
          "Residuos renovables",
          "Residuos renovables",
          "Residuos renovables",
          "Residuos renovables",
          "Residuos renovables",
          "Residuos renovables",
          "Residuos renovables",
          "Residuos renovables",
          "Residuos renovables",
          "Residuos renovables",
          "Residuos renovables",
          "Residuos renovables",
          "Residuos renovables",
          "Residuos renovables",
          "Residuos renovables",
          "Residuos renovables",
          "Residuos renovables",
          "Residuos renovables",
          "Residuos renovables",
          "Residuos renovables",
          "Residuos renovables",
          "Residuos renovables",
          "Residuos renovables",
          "Residuos renovables",
          "Residuos renovables",
          "Residuos renovables",
          "Residuos renovables",
          "Residuos renovables",
          "Residuos renovables",
          "Residuos renovables",
          "Residuos renovables"
         ],
         "y0": " ",
         "yaxis": "y"
        },
        {
         "alignmentgroup": "True",
         "hovertemplate": "nombre=%{y}<br>Valores=%{x}<extra></extra>",
         "legendgroup": "Generación renovable",
         "marker": {
          "color": "#B6E880"
         },
         "name": "Generación renovable",
         "notched": false,
         "offsetgroup": "Generación renovable",
         "orientation": "h",
         "showlegend": true,
         "type": "box",
         "x": [
          233750.6895,
          246006.18050000002,
          307041.457,
          279110.85050000006,
          237323.86950000003,
          234125.956,
          320469.00399999996,
          271225.581,
          238276.55700000003,
          351637.8345,
          416260.42799999996,
          379977.6715,
          249609.913,
          261634.23,
          263226.518,
          266311.3225,
          317813.74999999994,
          294957.7739999999,
          250946.869,
          256105.809,
          252804.42049999998,
          304181.2270000001,
          299819.53849999997,
          280173.35099999997,
          238634.364,
          252409.738,
          241677.5375,
          231823.4975,
          238301.96149999998,
          230963.84900000005,
          246872.826
         ],
         "x0": " ",
         "xaxis": "x",
         "y": [
          "Generación renovable",
          "Generación renovable",
          "Generación renovable",
          "Generación renovable",
          "Generación renovable",
          "Generación renovable",
          "Generación renovable",
          "Generación renovable",
          "Generación renovable",
          "Generación renovable",
          "Generación renovable",
          "Generación renovable",
          "Generación renovable",
          "Generación renovable",
          "Generación renovable",
          "Generación renovable",
          "Generación renovable",
          "Generación renovable",
          "Generación renovable",
          "Generación renovable",
          "Generación renovable",
          "Generación renovable",
          "Generación renovable",
          "Generación renovable",
          "Generación renovable",
          "Generación renovable",
          "Generación renovable",
          "Generación renovable",
          "Generación renovable",
          "Generación renovable",
          "Generación renovable"
         ],
         "y0": " ",
         "yaxis": "y"
        },
        {
         "alignmentgroup": "True",
         "hovertemplate": "nombre=%{y}<br>Valores=%{x}<extra></extra>",
         "legendgroup": "Turbinación bombeo",
         "marker": {
          "color": "#FF97FF"
         },
         "name": "Turbinación bombeo",
         "notched": false,
         "offsetgroup": "Turbinación bombeo",
         "orientation": "h",
         "showlegend": true,
         "type": "box",
         "x": [
          5242.136,
          4400.221,
          7140.595,
          8771.07,
          10597.651,
          10799.887,
          11025.302,
          15820.152,
          7985.467,
          12816.753,
          16807.971,
          17313.393,
          16396.046,
          14722.586,
          14649.407,
          10635.073,
          12962.414,
          11135.565,
          11965.273,
          16998.403,
          15326.548,
          13878.93,
          10751.625,
          13195.162,
          7382.646,
          10275.258,
          12323.618,
          13197.372,
          13078.548,
          10481.52,
          15061.23
         ],
         "x0": " ",
         "xaxis": "x",
         "y": [
          "Turbinación bombeo",
          "Turbinación bombeo",
          "Turbinación bombeo",
          "Turbinación bombeo",
          "Turbinación bombeo",
          "Turbinación bombeo",
          "Turbinación bombeo",
          "Turbinación bombeo",
          "Turbinación bombeo",
          "Turbinación bombeo",
          "Turbinación bombeo",
          "Turbinación bombeo",
          "Turbinación bombeo",
          "Turbinación bombeo",
          "Turbinación bombeo",
          "Turbinación bombeo",
          "Turbinación bombeo",
          "Turbinación bombeo",
          "Turbinación bombeo",
          "Turbinación bombeo",
          "Turbinación bombeo",
          "Turbinación bombeo",
          "Turbinación bombeo",
          "Turbinación bombeo",
          "Turbinación bombeo",
          "Turbinación bombeo",
          "Turbinación bombeo",
          "Turbinación bombeo",
          "Turbinación bombeo",
          "Turbinación bombeo",
          "Turbinación bombeo"
         ],
         "y0": " ",
         "yaxis": "y"
        },
        {
         "alignmentgroup": "True",
         "hovertemplate": "nombre=%{y}<br>Valores=%{x}<extra></extra>",
         "legendgroup": "Nuclear",
         "marker": {
          "color": "#FECB52"
         },
         "name": "Nuclear",
         "notched": false,
         "offsetgroup": "Nuclear",
         "orientation": "h",
         "showlegend": true,
         "type": "box",
         "x": [
          163514.484,
          163486.687,
          163605.227,
          162714.088,
          163691.166,
          163837.034,
          161560.003,
          163891.9,
          164125.743,
          144409.722,
          115413.095,
          127688.454,
          139091.629,
          138517.22,
          138503.073,
          138814.453,
          138487.209,
          138404.139,
          138340.676,
          138174.336,
          137688.802,
          137998.815,
          148363.465,
          159640.052,
          154335.239,
          136990.992,
          137676.308,
          138773.399,
          100722.677,
          93265.672,
          93964.593
         ],
         "x0": " ",
         "xaxis": "x",
         "y": [
          "Nuclear",
          "Nuclear",
          "Nuclear",
          "Nuclear",
          "Nuclear",
          "Nuclear",
          "Nuclear",
          "Nuclear",
          "Nuclear",
          "Nuclear",
          "Nuclear",
          "Nuclear",
          "Nuclear",
          "Nuclear",
          "Nuclear",
          "Nuclear",
          "Nuclear",
          "Nuclear",
          "Nuclear",
          "Nuclear",
          "Nuclear",
          "Nuclear",
          "Nuclear",
          "Nuclear",
          "Nuclear",
          "Nuclear",
          "Nuclear",
          "Nuclear",
          "Nuclear",
          "Nuclear",
          "Nuclear"
         ],
         "y0": " ",
         "yaxis": "y"
        },
        {
         "alignmentgroup": "True",
         "hovertemplate": "nombre=%{y}<br>Valores=%{x}<extra></extra>",
         "legendgroup": "Ciclo combinado",
         "marker": {
          "color": "rgb(102, 197, 204)"
         },
         "name": "Ciclo combinado",
         "notched": false,
         "offsetgroup": "Ciclo combinado",
         "orientation": "h",
         "showlegend": true,
         "type": "box",
         "x": [
          207427.016,
          238916.811,
          202472.327,
          199849.787,
          207626.946,
          123925.093,
          92830.002,
          133945.575,
          210151.804,
          126742.202,
          105865.509,
          114033.419,
          140609.853,
          117110.974,
          181039.945,
          183858.901,
          171414.065,
          192061.19,
          208050.26,
          154436.88,
          143128.675,
          178589.387,
          171362.465,
          184528.624,
          222286.189,
          206888.211,
          140317.5,
          127960.58,
          220550.181,
          260849.031,
          207359.834
         ],
         "x0": " ",
         "xaxis": "x",
         "y": [
          "Ciclo combinado",
          "Ciclo combinado",
          "Ciclo combinado",
          "Ciclo combinado",
          "Ciclo combinado",
          "Ciclo combinado",
          "Ciclo combinado",
          "Ciclo combinado",
          "Ciclo combinado",
          "Ciclo combinado",
          "Ciclo combinado",
          "Ciclo combinado",
          "Ciclo combinado",
          "Ciclo combinado",
          "Ciclo combinado",
          "Ciclo combinado",
          "Ciclo combinado",
          "Ciclo combinado",
          "Ciclo combinado",
          "Ciclo combinado",
          "Ciclo combinado",
          "Ciclo combinado",
          "Ciclo combinado",
          "Ciclo combinado",
          "Ciclo combinado",
          "Ciclo combinado",
          "Ciclo combinado",
          "Ciclo combinado",
          "Ciclo combinado",
          "Ciclo combinado",
          "Ciclo combinado"
         ],
         "y0": " ",
         "yaxis": "y"
        },
        {
         "alignmentgroup": "True",
         "hovertemplate": "nombre=%{y}<br>Valores=%{x}<extra></extra>",
         "legendgroup": "Carbón",
         "marker": {
          "color": "rgb(246, 207, 113)"
         },
         "name": "Carbón",
         "notched": false,
         "offsetgroup": "Carbón",
         "orientation": "h",
         "showlegend": true,
         "type": "box",
         "x": [
          13141.731,
          12801.155,
          12728.758,
          12937.876,
          12406.252,
          12101.126,
          11523.562,
          12920.307,
          11970.991,
          12904.898,
          13554.938,
          13203.949,
          11660.905,
          10726.508,
          15116.6,
          19459.305,
          19886.878,
          19831.748,
          20136.761,
          12655.73,
          12119.983,
          13778.858,
          12717.874,
          13596.617,
          12795.673,
          12858.636,
          11369.515,
          12236.949,
          16363.071,
          18237.233,
          20324.393
         ],
         "x0": " ",
         "xaxis": "x",
         "y": [
          "Carbón",
          "Carbón",
          "Carbón",
          "Carbón",
          "Carbón",
          "Carbón",
          "Carbón",
          "Carbón",
          "Carbón",
          "Carbón",
          "Carbón",
          "Carbón",
          "Carbón",
          "Carbón",
          "Carbón",
          "Carbón",
          "Carbón",
          "Carbón",
          "Carbón",
          "Carbón",
          "Carbón",
          "Carbón",
          "Carbón",
          "Carbón",
          "Carbón",
          "Carbón",
          "Carbón",
          "Carbón",
          "Carbón",
          "Carbón",
          "Carbón"
         ],
         "y0": " ",
         "yaxis": "y"
        },
        {
         "alignmentgroup": "True",
         "hovertemplate": "nombre=%{y}<br>Valores=%{x}<extra></extra>",
         "legendgroup": "Motores diésel",
         "marker": {
          "color": "rgb(248, 156, 116)"
         },
         "name": "Motores diésel",
         "notched": false,
         "offsetgroup": "Motores diésel",
         "orientation": "h",
         "showlegend": true,
         "type": "box",
         "x": [
          8175.841,
          7349.132,
          6942.373,
          6895.553,
          7183.111,
          7679.592,
          6552.737,
          6491.208,
          6680.791,
          7016.332,
          6738.499,
          6892.66,
          6408.033,
          6302.819,
          7001.324,
          6415.588,
          5918.866,
          5953.527,
          7659,
          7695.346,
          6579.752,
          7235.851,
          7788.375,
          7230.269,
          7838.51,
          7954.891,
          7534.932,
          7311.034,
          8276.692,
          8366.964,
          8138.499
         ],
         "x0": " ",
         "xaxis": "x",
         "y": [
          "Motores diésel",
          "Motores diésel",
          "Motores diésel",
          "Motores diésel",
          "Motores diésel",
          "Motores diésel",
          "Motores diésel",
          "Motores diésel",
          "Motores diésel",
          "Motores diésel",
          "Motores diésel",
          "Motores diésel",
          "Motores diésel",
          "Motores diésel",
          "Motores diésel",
          "Motores diésel",
          "Motores diésel",
          "Motores diésel",
          "Motores diésel",
          "Motores diésel",
          "Motores diésel",
          "Motores diésel",
          "Motores diésel",
          "Motores diésel",
          "Motores diésel",
          "Motores diésel",
          "Motores diésel",
          "Motores diésel",
          "Motores diésel",
          "Motores diésel",
          "Motores diésel"
         ],
         "y0": " ",
         "yaxis": "y"
        },
        {
         "alignmentgroup": "True",
         "hovertemplate": "nombre=%{y}<br>Valores=%{x}<extra></extra>",
         "legendgroup": "Turbina de gas",
         "marker": {
          "color": "rgb(220, 176, 242)"
         },
         "name": "Turbina de gas",
         "notched": false,
         "offsetgroup": "Turbina de gas",
         "orientation": "h",
         "showlegend": true,
         "type": "box",
         "x": [
          2598.356,
          2801.504,
          2773.235,
          2750.667,
          3073.966,
          2141.747,
          1995.216,
          3067.666,
          2371.383,
          2011.431,
          1743.816,
          1558.718,
          1222.198,
          1361.139,
          1900.167,
          2317.929,
          2090.492,
          1939.267,
          1688.733,
          2079.891,
          1658.784,
          2859.899,
          3299.137,
          3058.345,
          3401.781,
          2837.518,
          2112.744,
          2137.769,
          3442.04,
          3338.447,
          3508.775
         ],
         "x0": " ",
         "xaxis": "x",
         "y": [
          "Turbina de gas",
          "Turbina de gas",
          "Turbina de gas",
          "Turbina de gas",
          "Turbina de gas",
          "Turbina de gas",
          "Turbina de gas",
          "Turbina de gas",
          "Turbina de gas",
          "Turbina de gas",
          "Turbina de gas",
          "Turbina de gas",
          "Turbina de gas",
          "Turbina de gas",
          "Turbina de gas",
          "Turbina de gas",
          "Turbina de gas",
          "Turbina de gas",
          "Turbina de gas",
          "Turbina de gas",
          "Turbina de gas",
          "Turbina de gas",
          "Turbina de gas",
          "Turbina de gas",
          "Turbina de gas",
          "Turbina de gas",
          "Turbina de gas",
          "Turbina de gas",
          "Turbina de gas",
          "Turbina de gas",
          "Turbina de gas"
         ],
         "y0": " ",
         "yaxis": "y"
        },
        {
         "alignmentgroup": "True",
         "hovertemplate": "nombre=%{y}<br>Valores=%{x}<extra></extra>",
         "legendgroup": "Turbina de vapor",
         "marker": {
          "color": "rgb(135, 197, 95)"
         },
         "name": "Turbina de vapor",
         "notched": false,
         "offsetgroup": "Turbina de vapor",
         "orientation": "h",
         "showlegend": true,
         "type": "box",
         "x": [
          4804.434,
          3973.953,
          3294.808,
          2695.01,
          2756.202,
          2920.999,
          2874.813,
          3206.877,
          3307.667,
          3271.521,
          3408.961,
          3503.892,
          3309.608,
          3177.341,
          4152.895,
          3578.103,
          3392.715,
          3515.335,
          4475.366,
          3878.917,
          3685.595,
          3803.922,
          3988.165,
          4625.621,
          4714.82,
          4918.555,
          4981.017,
          4575.141,
          4450.877,
          4838.719,
          4264.555
         ],
         "x0": " ",
         "xaxis": "x",
         "y": [
          "Turbina de vapor",
          "Turbina de vapor",
          "Turbina de vapor",
          "Turbina de vapor",
          "Turbina de vapor",
          "Turbina de vapor",
          "Turbina de vapor",
          "Turbina de vapor",
          "Turbina de vapor",
          "Turbina de vapor",
          "Turbina de vapor",
          "Turbina de vapor",
          "Turbina de vapor",
          "Turbina de vapor",
          "Turbina de vapor",
          "Turbina de vapor",
          "Turbina de vapor",
          "Turbina de vapor",
          "Turbina de vapor",
          "Turbina de vapor",
          "Turbina de vapor",
          "Turbina de vapor",
          "Turbina de vapor",
          "Turbina de vapor",
          "Turbina de vapor",
          "Turbina de vapor",
          "Turbina de vapor",
          "Turbina de vapor",
          "Turbina de vapor",
          "Turbina de vapor",
          "Turbina de vapor"
         ],
         "y0": " ",
         "yaxis": "y"
        },
        {
         "alignmentgroup": "True",
         "hovertemplate": "nombre=%{y}<br>Valores=%{x}<extra></extra>",
         "legendgroup": "Fuel + Gas",
         "marker": {
          "color": "rgb(158, 185, 243)"
         },
         "name": "Fuel + Gas",
         "notched": false,
         "offsetgroup": "Fuel + Gas",
         "orientation": "h",
         "showlegend": true,
         "type": "box",
         "x": [
          -0.001
         ],
         "x0": " ",
         "xaxis": "x",
         "y": [
          "Fuel + Gas"
         ],
         "y0": " ",
         "yaxis": "y"
        },
        {
         "alignmentgroup": "True",
         "hovertemplate": "nombre=%{y}<br>Valores=%{x}<extra></extra>",
         "legendgroup": "Cogeneración",
         "marker": {
          "color": "rgb(254, 136, 177)"
         },
         "name": "Cogeneración",
         "notched": false,
         "offsetgroup": "Cogeneración",
         "orientation": "h",
         "showlegend": true,
         "type": "box",
         "x": [
          49574.729,
          51005.98,
          51682.688,
          53485.942,
          54784.603,
          47632.931,
          37676.674,
          50165.262,
          52970.529,
          49710.625,
          47307.661,
          49995.016,
          48660.325,
          42265.843,
          49993.956,
          50966.696,
          49619.151,
          50454.504,
          50695.218,
          44711.977,
          42106.874,
          49198.972,
          49219.474,
          50465.825,
          53123.607,
          53832.03,
          50794.184,
          48585.432,
          53969.552,
          54221.736,
          52342.178
         ],
         "x0": " ",
         "xaxis": "x",
         "y": [
          "Cogeneración",
          "Cogeneración",
          "Cogeneración",
          "Cogeneración",
          "Cogeneración",
          "Cogeneración",
          "Cogeneración",
          "Cogeneración",
          "Cogeneración",
          "Cogeneración",
          "Cogeneración",
          "Cogeneración",
          "Cogeneración",
          "Cogeneración",
          "Cogeneración",
          "Cogeneración",
          "Cogeneración",
          "Cogeneración",
          "Cogeneración",
          "Cogeneración",
          "Cogeneración",
          "Cogeneración",
          "Cogeneración",
          "Cogeneración",
          "Cogeneración",
          "Cogeneración",
          "Cogeneración",
          "Cogeneración",
          "Cogeneración",
          "Cogeneración",
          "Cogeneración"
         ],
         "y0": " ",
         "yaxis": "y"
        },
        {
         "alignmentgroup": "True",
         "hovertemplate": "nombre=%{y}<br>Valores=%{x}<extra></extra>",
         "legendgroup": "Residuos no renovables",
         "marker": {
          "color": "rgb(201, 219, 116)"
         },
         "name": "Residuos no renovables",
         "notched": false,
         "offsetgroup": "Residuos no renovables",
         "orientation": "h",
         "showlegend": true,
         "type": "box",
         "x": [
          3910.8065,
          3526.4855,
          2975.479,
          3780.4485,
          3840.0525,
          3723.483,
          3757.355,
          3934.239,
          4036.15,
          3978.4535,
          3901.789,
          3895.6125,
          4143.66,
          4074.673,
          4179.527,
          4074.2665,
          4201.57,
          4032.016,
          3914.962,
          3905.464,
          3961.2335,
          4022.96,
          4001.3105,
          4024.94,
          4031.225,
          4070.296,
          4239.4665,
          4018.3955,
          4154.7725,
          4251.738,
          4303.413
         ],
         "x0": " ",
         "xaxis": "x",
         "y": [
          "Residuos no renovables",
          "Residuos no renovables",
          "Residuos no renovables",
          "Residuos no renovables",
          "Residuos no renovables",
          "Residuos no renovables",
          "Residuos no renovables",
          "Residuos no renovables",
          "Residuos no renovables",
          "Residuos no renovables",
          "Residuos no renovables",
          "Residuos no renovables",
          "Residuos no renovables",
          "Residuos no renovables",
          "Residuos no renovables",
          "Residuos no renovables",
          "Residuos no renovables",
          "Residuos no renovables",
          "Residuos no renovables",
          "Residuos no renovables",
          "Residuos no renovables",
          "Residuos no renovables",
          "Residuos no renovables",
          "Residuos no renovables",
          "Residuos no renovables",
          "Residuos no renovables",
          "Residuos no renovables",
          "Residuos no renovables",
          "Residuos no renovables",
          "Residuos no renovables",
          "Residuos no renovables"
         ],
         "y0": " ",
         "yaxis": "y"
        },
        {
         "alignmentgroup": "True",
         "hovertemplate": "nombre=%{y}<br>Valores=%{x}<extra></extra>",
         "legendgroup": "Generación no renovable",
         "marker": {
          "color": "rgb(139, 224, 164)"
         },
         "name": "Generación no renovable",
         "notched": false,
         "offsetgroup": "Generación no renovable",
         "orientation": "h",
         "showlegend": true,
         "type": "box",
         "x": [
          458389.5335,
          488261.9285,
          453615.49,
          453880.4415,
          465959.9495,
          374761.89199999993,
          329795.664,
          393443.186,
          463600.52499999997,
          362861.9375,
          314742.239,
          338085.1135,
          371502.257,
          338259.10300000006,
          416536.8940000001,
          420120.31450000004,
          407973.36000000004,
          427327.291,
          446926.249,
          384536.944,
          366256.24649999995,
          411367.59400000004,
          411491.8905,
          440365.454,
          469909.69000000006,
          440626.387,
          371349.28449999995,
          358796.07149999996,
          425008.4105,
          457851.05999999994,
          409267.47000000003
         ],
         "x0": " ",
         "xaxis": "x",
         "y": [
          "Generación no renovable",
          "Generación no renovable",
          "Generación no renovable",
          "Generación no renovable",
          "Generación no renovable",
          "Generación no renovable",
          "Generación no renovable",
          "Generación no renovable",
          "Generación no renovable",
          "Generación no renovable",
          "Generación no renovable",
          "Generación no renovable",
          "Generación no renovable",
          "Generación no renovable",
          "Generación no renovable",
          "Generación no renovable",
          "Generación no renovable",
          "Generación no renovable",
          "Generación no renovable",
          "Generación no renovable",
          "Generación no renovable",
          "Generación no renovable",
          "Generación no renovable",
          "Generación no renovable",
          "Generación no renovable",
          "Generación no renovable",
          "Generación no renovable",
          "Generación no renovable",
          "Generación no renovable",
          "Generación no renovable",
          "Generación no renovable"
         ],
         "y0": " ",
         "yaxis": "y"
        },
        {
         "alignmentgroup": "True",
         "hovertemplate": "nombre=%{y}<br>Valores=%{x}<extra></extra>",
         "legendgroup": "Consumos en bombeo",
         "marker": {
          "color": "rgb(180, 151, 231)"
         },
         "name": "Consumos en bombeo",
         "notched": false,
         "offsetgroup": "Consumos en bombeo",
         "orientation": "h",
         "showlegend": true,
         "type": "box",
         "x": [
          -10473.632,
          -5819.447,
          -17146.533,
          -10599.293,
          -3964.29,
          -14034.962,
          -47500.313,
          -16754.297,
          -12968.557,
          -27228.188,
          -26921.205,
          -21188.824,
          -23405.114,
          -35223.895,
          -18062.309,
          -7580.054,
          -9751.268,
          -15726.052,
          -12311.63,
          -20507.177,
          -33353.207,
          -20807.877,
          -13978.754,
          -17093.26,
          -9064.527,
          -8239.738,
          -21524.147,
          -29344.061,
          -17949.148,
          -15339.835,
          -7628.414
         ],
         "x0": " ",
         "xaxis": "x",
         "y": [
          "Consumos en bombeo",
          "Consumos en bombeo",
          "Consumos en bombeo",
          "Consumos en bombeo",
          "Consumos en bombeo",
          "Consumos en bombeo",
          "Consumos en bombeo",
          "Consumos en bombeo",
          "Consumos en bombeo",
          "Consumos en bombeo",
          "Consumos en bombeo",
          "Consumos en bombeo",
          "Consumos en bombeo",
          "Consumos en bombeo",
          "Consumos en bombeo",
          "Consumos en bombeo",
          "Consumos en bombeo",
          "Consumos en bombeo",
          "Consumos en bombeo",
          "Consumos en bombeo",
          "Consumos en bombeo",
          "Consumos en bombeo",
          "Consumos en bombeo",
          "Consumos en bombeo",
          "Consumos en bombeo",
          "Consumos en bombeo",
          "Consumos en bombeo",
          "Consumos en bombeo",
          "Consumos en bombeo",
          "Consumos en bombeo",
          "Consumos en bombeo"
         ],
         "y0": " ",
         "yaxis": "y"
        },
        {
         "alignmentgroup": "True",
         "hovertemplate": "nombre=%{y}<br>Valores=%{x}<extra></extra>",
         "legendgroup": "Saldo I. internacionales",
         "marker": {
          "color": "rgb(179, 179, 179)"
         },
         "name": "Saldo I. internacionales",
         "notched": false,
         "offsetgroup": "Saldo I. internacionales",
         "orientation": "h",
         "showlegend": true,
         "type": "box",
         "x": [
          -15563.131,
          -28169.598,
          -43040.727,
          -14523.889,
          250.981,
          10204.369,
          -34432.464,
          12604.376,
          -11311.735,
          -12982.596,
          -28474.277,
          -45836.843,
          -26616.742,
          -29493.235,
          -22764.828,
          -11030.622,
          -37384.413,
          -24685.946,
          -9032.859,
          -18161.954,
          -21182.165,
          -23035.579,
          -8755.414,
          -11161.589,
          -6916.082,
          9378.682,
          22528.282,
          6784.183,
          12074.745,
          4768.913,
          23974.685
         ],
         "x0": " ",
         "xaxis": "x",
         "y": [
          "Saldo I. internacionales",
          "Saldo I. internacionales",
          "Saldo I. internacionales",
          "Saldo I. internacionales",
          "Saldo I. internacionales",
          "Saldo I. internacionales",
          "Saldo I. internacionales",
          "Saldo I. internacionales",
          "Saldo I. internacionales",
          "Saldo I. internacionales",
          "Saldo I. internacionales",
          "Saldo I. internacionales",
          "Saldo I. internacionales",
          "Saldo I. internacionales",
          "Saldo I. internacionales",
          "Saldo I. internacionales",
          "Saldo I. internacionales",
          "Saldo I. internacionales",
          "Saldo I. internacionales",
          "Saldo I. internacionales",
          "Saldo I. internacionales",
          "Saldo I. internacionales",
          "Saldo I. internacionales",
          "Saldo I. internacionales",
          "Saldo I. internacionales",
          "Saldo I. internacionales",
          "Saldo I. internacionales",
          "Saldo I. internacionales",
          "Saldo I. internacionales",
          "Saldo I. internacionales",
          "Saldo I. internacionales"
         ],
         "y0": " ",
         "yaxis": "y"
        },
        {
         "alignmentgroup": "True",
         "hovertemplate": "nombre=%{y}<br>Valores=%{x}<extra></extra>",
         "legendgroup": "Demanda en b.c.",
         "marker": {
          "color": "rgb(228,26,28)"
         },
         "name": "Demanda en b.c.",
         "notched": false,
         "offsetgroup": "Demanda en b.c.",
         "orientation": "h",
         "showlegend": true,
         "type": "box",
         "x": [
          666103.46,
          700279.064,
          700469.687,
          707868.11,
          699570.51,
          605057.255,
          568331.891,
          660518.846,
          677596.79,
          674288.988,
          675607.185,
          651037.118,
          571090.314,
          535176.203,
          638936.275,
          667820.961,
          678651.429,
          681873.0669999999,
          676528.629,
          601973.622,
          564525.295,
          671705.365,
          688577.261,
          692283.956,
          692563.445,
          694175.069,
          614030.957,
          568059.691,
          657435.9689999999,
          678243.987,
          672486.5669999999
         ],
         "x0": " ",
         "xaxis": "x",
         "y": [
          "Demanda en b.c.",
          "Demanda en b.c.",
          "Demanda en b.c.",
          "Demanda en b.c.",
          "Demanda en b.c.",
          "Demanda en b.c.",
          "Demanda en b.c.",
          "Demanda en b.c.",
          "Demanda en b.c.",
          "Demanda en b.c.",
          "Demanda en b.c.",
          "Demanda en b.c.",
          "Demanda en b.c.",
          "Demanda en b.c.",
          "Demanda en b.c.",
          "Demanda en b.c.",
          "Demanda en b.c.",
          "Demanda en b.c.",
          "Demanda en b.c.",
          "Demanda en b.c.",
          "Demanda en b.c.",
          "Demanda en b.c.",
          "Demanda en b.c.",
          "Demanda en b.c.",
          "Demanda en b.c.",
          "Demanda en b.c.",
          "Demanda en b.c.",
          "Demanda en b.c.",
          "Demanda en b.c.",
          "Demanda en b.c.",
          "Demanda en b.c."
         ],
         "y0": " ",
         "yaxis": "y"
        }
       ],
       "layout": {
        "boxmode": "overlay",
        "legend": {
         "title": {
          "text": "nombre"
         },
         "tracegroupgap": 0
        },
        "margin": {
         "t": 60
        },
        "template": {
         "data": {
          "bar": [
           {
            "error_x": {
             "color": "#2a3f5f"
            },
            "error_y": {
             "color": "#2a3f5f"
            },
            "marker": {
             "line": {
              "color": "#E5ECF6",
              "width": 0.5
             },
             "pattern": {
              "fillmode": "overlay",
              "size": 10,
              "solidity": 0.2
             }
            },
            "type": "bar"
           }
          ],
          "barpolar": [
           {
            "marker": {
             "line": {
              "color": "#E5ECF6",
              "width": 0.5
             },
             "pattern": {
              "fillmode": "overlay",
              "size": 10,
              "solidity": 0.2
             }
            },
            "type": "barpolar"
           }
          ],
          "carpet": [
           {
            "aaxis": {
             "endlinecolor": "#2a3f5f",
             "gridcolor": "white",
             "linecolor": "white",
             "minorgridcolor": "white",
             "startlinecolor": "#2a3f5f"
            },
            "baxis": {
             "endlinecolor": "#2a3f5f",
             "gridcolor": "white",
             "linecolor": "white",
             "minorgridcolor": "white",
             "startlinecolor": "#2a3f5f"
            },
            "type": "carpet"
           }
          ],
          "choropleth": [
           {
            "colorbar": {
             "outlinewidth": 0,
             "ticks": ""
            },
            "type": "choropleth"
           }
          ],
          "contour": [
           {
            "colorbar": {
             "outlinewidth": 0,
             "ticks": ""
            },
            "colorscale": [
             [
              0,
              "#0d0887"
             ],
             [
              0.1111111111111111,
              "#46039f"
             ],
             [
              0.2222222222222222,
              "#7201a8"
             ],
             [
              0.3333333333333333,
              "#9c179e"
             ],
             [
              0.4444444444444444,
              "#bd3786"
             ],
             [
              0.5555555555555556,
              "#d8576b"
             ],
             [
              0.6666666666666666,
              "#ed7953"
             ],
             [
              0.7777777777777778,
              "#fb9f3a"
             ],
             [
              0.8888888888888888,
              "#fdca26"
             ],
             [
              1,
              "#f0f921"
             ]
            ],
            "type": "contour"
           }
          ],
          "contourcarpet": [
           {
            "colorbar": {
             "outlinewidth": 0,
             "ticks": ""
            },
            "type": "contourcarpet"
           }
          ],
          "heatmap": [
           {
            "colorbar": {
             "outlinewidth": 0,
             "ticks": ""
            },
            "colorscale": [
             [
              0,
              "#0d0887"
             ],
             [
              0.1111111111111111,
              "#46039f"
             ],
             [
              0.2222222222222222,
              "#7201a8"
             ],
             [
              0.3333333333333333,
              "#9c179e"
             ],
             [
              0.4444444444444444,
              "#bd3786"
             ],
             [
              0.5555555555555556,
              "#d8576b"
             ],
             [
              0.6666666666666666,
              "#ed7953"
             ],
             [
              0.7777777777777778,
              "#fb9f3a"
             ],
             [
              0.8888888888888888,
              "#fdca26"
             ],
             [
              1,
              "#f0f921"
             ]
            ],
            "type": "heatmap"
           }
          ],
          "heatmapgl": [
           {
            "colorbar": {
             "outlinewidth": 0,
             "ticks": ""
            },
            "colorscale": [
             [
              0,
              "#0d0887"
             ],
             [
              0.1111111111111111,
              "#46039f"
             ],
             [
              0.2222222222222222,
              "#7201a8"
             ],
             [
              0.3333333333333333,
              "#9c179e"
             ],
             [
              0.4444444444444444,
              "#bd3786"
             ],
             [
              0.5555555555555556,
              "#d8576b"
             ],
             [
              0.6666666666666666,
              "#ed7953"
             ],
             [
              0.7777777777777778,
              "#fb9f3a"
             ],
             [
              0.8888888888888888,
              "#fdca26"
             ],
             [
              1,
              "#f0f921"
             ]
            ],
            "type": "heatmapgl"
           }
          ],
          "histogram": [
           {
            "marker": {
             "pattern": {
              "fillmode": "overlay",
              "size": 10,
              "solidity": 0.2
             }
            },
            "type": "histogram"
           }
          ],
          "histogram2d": [
           {
            "colorbar": {
             "outlinewidth": 0,
             "ticks": ""
            },
            "colorscale": [
             [
              0,
              "#0d0887"
             ],
             [
              0.1111111111111111,
              "#46039f"
             ],
             [
              0.2222222222222222,
              "#7201a8"
             ],
             [
              0.3333333333333333,
              "#9c179e"
             ],
             [
              0.4444444444444444,
              "#bd3786"
             ],
             [
              0.5555555555555556,
              "#d8576b"
             ],
             [
              0.6666666666666666,
              "#ed7953"
             ],
             [
              0.7777777777777778,
              "#fb9f3a"
             ],
             [
              0.8888888888888888,
              "#fdca26"
             ],
             [
              1,
              "#f0f921"
             ]
            ],
            "type": "histogram2d"
           }
          ],
          "histogram2dcontour": [
           {
            "colorbar": {
             "outlinewidth": 0,
             "ticks": ""
            },
            "colorscale": [
             [
              0,
              "#0d0887"
             ],
             [
              0.1111111111111111,
              "#46039f"
             ],
             [
              0.2222222222222222,
              "#7201a8"
             ],
             [
              0.3333333333333333,
              "#9c179e"
             ],
             [
              0.4444444444444444,
              "#bd3786"
             ],
             [
              0.5555555555555556,
              "#d8576b"
             ],
             [
              0.6666666666666666,
              "#ed7953"
             ],
             [
              0.7777777777777778,
              "#fb9f3a"
             ],
             [
              0.8888888888888888,
              "#fdca26"
             ],
             [
              1,
              "#f0f921"
             ]
            ],
            "type": "histogram2dcontour"
           }
          ],
          "mesh3d": [
           {
            "colorbar": {
             "outlinewidth": 0,
             "ticks": ""
            },
            "type": "mesh3d"
           }
          ],
          "parcoords": [
           {
            "line": {
             "colorbar": {
              "outlinewidth": 0,
              "ticks": ""
             }
            },
            "type": "parcoords"
           }
          ],
          "pie": [
           {
            "automargin": true,
            "type": "pie"
           }
          ],
          "scatter": [
           {
            "fillpattern": {
             "fillmode": "overlay",
             "size": 10,
             "solidity": 0.2
            },
            "type": "scatter"
           }
          ],
          "scatter3d": [
           {
            "line": {
             "colorbar": {
              "outlinewidth": 0,
              "ticks": ""
             }
            },
            "marker": {
             "colorbar": {
              "outlinewidth": 0,
              "ticks": ""
             }
            },
            "type": "scatter3d"
           }
          ],
          "scattercarpet": [
           {
            "marker": {
             "colorbar": {
              "outlinewidth": 0,
              "ticks": ""
             }
            },
            "type": "scattercarpet"
           }
          ],
          "scattergeo": [
           {
            "marker": {
             "colorbar": {
              "outlinewidth": 0,
              "ticks": ""
             }
            },
            "type": "scattergeo"
           }
          ],
          "scattergl": [
           {
            "marker": {
             "colorbar": {
              "outlinewidth": 0,
              "ticks": ""
             }
            },
            "type": "scattergl"
           }
          ],
          "scattermapbox": [
           {
            "marker": {
             "colorbar": {
              "outlinewidth": 0,
              "ticks": ""
             }
            },
            "type": "scattermapbox"
           }
          ],
          "scatterpolar": [
           {
            "marker": {
             "colorbar": {
              "outlinewidth": 0,
              "ticks": ""
             }
            },
            "type": "scatterpolar"
           }
          ],
          "scatterpolargl": [
           {
            "marker": {
             "colorbar": {
              "outlinewidth": 0,
              "ticks": ""
             }
            },
            "type": "scatterpolargl"
           }
          ],
          "scatterternary": [
           {
            "marker": {
             "colorbar": {
              "outlinewidth": 0,
              "ticks": ""
             }
            },
            "type": "scatterternary"
           }
          ],
          "surface": [
           {
            "colorbar": {
             "outlinewidth": 0,
             "ticks": ""
            },
            "colorscale": [
             [
              0,
              "#0d0887"
             ],
             [
              0.1111111111111111,
              "#46039f"
             ],
             [
              0.2222222222222222,
              "#7201a8"
             ],
             [
              0.3333333333333333,
              "#9c179e"
             ],
             [
              0.4444444444444444,
              "#bd3786"
             ],
             [
              0.5555555555555556,
              "#d8576b"
             ],
             [
              0.6666666666666666,
              "#ed7953"
             ],
             [
              0.7777777777777778,
              "#fb9f3a"
             ],
             [
              0.8888888888888888,
              "#fdca26"
             ],
             [
              1,
              "#f0f921"
             ]
            ],
            "type": "surface"
           }
          ],
          "table": [
           {
            "cells": {
             "fill": {
              "color": "#EBF0F8"
             },
             "line": {
              "color": "white"
             }
            },
            "header": {
             "fill": {
              "color": "#C8D4E3"
             },
             "line": {
              "color": "white"
             }
            },
            "type": "table"
           }
          ]
         },
         "layout": {
          "annotationdefaults": {
           "arrowcolor": "#2a3f5f",
           "arrowhead": 0,
           "arrowwidth": 1
          },
          "autotypenumbers": "strict",
          "coloraxis": {
           "colorbar": {
            "outlinewidth": 0,
            "ticks": ""
           }
          },
          "colorscale": {
           "diverging": [
            [
             0,
             "#8e0152"
            ],
            [
             0.1,
             "#c51b7d"
            ],
            [
             0.2,
             "#de77ae"
            ],
            [
             0.3,
             "#f1b6da"
            ],
            [
             0.4,
             "#fde0ef"
            ],
            [
             0.5,
             "#f7f7f7"
            ],
            [
             0.6,
             "#e6f5d0"
            ],
            [
             0.7,
             "#b8e186"
            ],
            [
             0.8,
             "#7fbc41"
            ],
            [
             0.9,
             "#4d9221"
            ],
            [
             1,
             "#276419"
            ]
           ],
           "sequential": [
            [
             0,
             "#0d0887"
            ],
            [
             0.1111111111111111,
             "#46039f"
            ],
            [
             0.2222222222222222,
             "#7201a8"
            ],
            [
             0.3333333333333333,
             "#9c179e"
            ],
            [
             0.4444444444444444,
             "#bd3786"
            ],
            [
             0.5555555555555556,
             "#d8576b"
            ],
            [
             0.6666666666666666,
             "#ed7953"
            ],
            [
             0.7777777777777778,
             "#fb9f3a"
            ],
            [
             0.8888888888888888,
             "#fdca26"
            ],
            [
             1,
             "#f0f921"
            ]
           ],
           "sequentialminus": [
            [
             0,
             "#0d0887"
            ],
            [
             0.1111111111111111,
             "#46039f"
            ],
            [
             0.2222222222222222,
             "#7201a8"
            ],
            [
             0.3333333333333333,
             "#9c179e"
            ],
            [
             0.4444444444444444,
             "#bd3786"
            ],
            [
             0.5555555555555556,
             "#d8576b"
            ],
            [
             0.6666666666666666,
             "#ed7953"
            ],
            [
             0.7777777777777778,
             "#fb9f3a"
            ],
            [
             0.8888888888888888,
             "#fdca26"
            ],
            [
             1,
             "#f0f921"
            ]
           ]
          },
          "colorway": [
           "#636efa",
           "#EF553B",
           "#00cc96",
           "#ab63fa",
           "#FFA15A",
           "#19d3f3",
           "#FF6692",
           "#B6E880",
           "#FF97FF",
           "#FECB52"
          ],
          "font": {
           "color": "#2a3f5f"
          },
          "geo": {
           "bgcolor": "white",
           "lakecolor": "white",
           "landcolor": "#E5ECF6",
           "showlakes": true,
           "showland": true,
           "subunitcolor": "white"
          },
          "hoverlabel": {
           "align": "left"
          },
          "hovermode": "closest",
          "mapbox": {
           "style": "light"
          },
          "paper_bgcolor": "white",
          "plot_bgcolor": "#E5ECF6",
          "polar": {
           "angularaxis": {
            "gridcolor": "white",
            "linecolor": "white",
            "ticks": ""
           },
           "bgcolor": "#E5ECF6",
           "radialaxis": {
            "gridcolor": "white",
            "linecolor": "white",
            "ticks": ""
           }
          },
          "scene": {
           "xaxis": {
            "backgroundcolor": "#E5ECF6",
            "gridcolor": "white",
            "gridwidth": 2,
            "linecolor": "white",
            "showbackground": true,
            "ticks": "",
            "zerolinecolor": "white"
           },
           "yaxis": {
            "backgroundcolor": "#E5ECF6",
            "gridcolor": "white",
            "gridwidth": 2,
            "linecolor": "white",
            "showbackground": true,
            "ticks": "",
            "zerolinecolor": "white"
           },
           "zaxis": {
            "backgroundcolor": "#E5ECF6",
            "gridcolor": "white",
            "gridwidth": 2,
            "linecolor": "white",
            "showbackground": true,
            "ticks": "",
            "zerolinecolor": "white"
           }
          },
          "shapedefaults": {
           "line": {
            "color": "#2a3f5f"
           }
          },
          "ternary": {
           "aaxis": {
            "gridcolor": "white",
            "linecolor": "white",
            "ticks": ""
           },
           "baxis": {
            "gridcolor": "white",
            "linecolor": "white",
            "ticks": ""
           },
           "bgcolor": "#E5ECF6",
           "caxis": {
            "gridcolor": "white",
            "linecolor": "white",
            "ticks": ""
           }
          },
          "title": {
           "x": 0.05
          },
          "xaxis": {
           "automargin": true,
           "gridcolor": "white",
           "linecolor": "white",
           "ticks": "",
           "title": {
            "standoff": 15
           },
           "zerolinecolor": "white",
           "zerolinewidth": 2
          },
          "yaxis": {
           "automargin": true,
           "gridcolor": "white",
           "linecolor": "white",
           "ticks": "",
           "title": {
            "standoff": 15
           },
           "zerolinecolor": "white",
           "zerolinewidth": 2
          }
         }
        },
        "xaxis": {
         "anchor": "y",
         "domain": [
          0,
          1
         ],
         "title": {
          "text": "Valores"
         }
        },
        "yaxis": {
         "anchor": "x",
         "categoryarray": [
          "Demanda en b.c.",
          "Saldo I. internacionales",
          "Consumos en bombeo",
          "Generación no renovable",
          "Residuos no renovables",
          "Cogeneración",
          "Fuel + Gas",
          "Turbina de vapor",
          "Turbina de gas",
          "Motores diésel",
          "Carbón",
          "Ciclo combinado",
          "Nuclear",
          "Turbinación bombeo",
          "Generación renovable",
          "Residuos renovables",
          "Otras renovables",
          "Hidroeólica",
          "Solar térmica",
          "Solar fotovoltaica",
          "Eólica",
          "Hidráulica"
         ],
         "categoryorder": "array",
         "domain": [
          0,
          1
         ],
         "title": {
          "text": "nombre"
         }
        }
       }
      }
     },
     "metadata": {},
     "output_type": "display_data"
    }
   ],
   "source": [
    "px.box(data_frame=df_balance,\n",
    "       x = 'Valores',\n",
    "       y = 'nombre',\n",
    "       color = 'nombre',\n",
    "       color_discrete_sequence = colores_personalizados)"
   ]
  },
  {
   "cell_type": "code",
   "execution_count": 44,
   "metadata": {},
   "outputs": [
    {
     "name": "stderr",
     "output_type": "stream",
     "text": [
      "/opt/anaconda3/lib/python3.11/site-packages/plotly/express/_core.py:1979: FutureWarning:\n",
      "\n",
      "When grouping with a length-1 list-like, you will need to pass a length-1 tuple to get_group in a future version of pandas. Pass `(name,)` instead of `name` to silence this warning.\n",
      "\n"
     ]
    },
    {
     "data": {
      "application/vnd.plotly.v1+json": {
       "config": {
        "plotlyServerURL": "https://plot.ly"
       },
       "data": [
        {
         "alignmentgroup": "True",
         "hovertemplate": "tipo de energía=%{y}<br>Valores=%{x}<extra></extra>",
         "legendgroup": "Renovable",
         "marker": {
          "color": "#636EFA"
         },
         "name": "Renovable",
         "notched": false,
         "offsetgroup": "Renovable",
         "orientation": "h",
         "showlegend": true,
         "type": "box",
         "x": [
          34410.083,
          36184.276,
          27251.012,
          24805.877,
          31052.893,
          24153.141,
          15558.041,
          31779.909,
          33073.974,
          29080.481,
          20213.244,
          31118.702,
          24335.723,
          23312.579,
          38970.565,
          40808.219,
          44279.829,
          41709.912,
          43508.807,
          27451.729,
          23512.598,
          25842.727,
          27088.352,
          27620.756,
          38745.423,
          41528.037,
          24530.895,
          22871.902,
          41941.542,
          43709.116,
          46674.527,
          54172.392,
          60510.578,
          121145.44,
          114384.247,
          102730.916,
          123185.593,
          209534.384,
          127090.677,
          61873.719,
          154352.114,
          300443.625,
          191728.164,
          62212.405,
          80956.323,
          59481.707,
          66702.778,
          119078.548,
          93717.424,
          48743.75,
          71790.755,
          67340.717,
          123178.884,
          123386.311,
          104358.274,
          50450.433,
          64416.642,
          75517.746,
          59586.819,
          53814.25,
          40364.161,
          46525.945,
          118190.342,
          118167.259,
          127037.077,
          112494.024,
          83969.818,
          73569.331,
          82520.277,
          97003.07,
          115090.681,
          136933.965,
          79274.995,
          132980.176,
          131582.923,
          124631.015,
          133621.346,
          127279.529,
          124437.232,
          130418.849,
          128452.095,
          126417.895,
          130719.556,
          126647.71,
          120708.613,
          121833.444,
          121536.59,
          120719.663,
          118468.114,
          121475.905,
          115051.014,
          118841.884,
          123595.804,
          14417.226,
          18173.901,
          19163.019,
          14430.12,
          6282.017,
          1329.429,
          2883.921,
          4758.746,
          16799.109,
          20321.971,
          5231.198,
          12841.32,
          19952.207,
          22556.123,
          20529.101,
          21103.343,
          19451.213,
          18621.448,
          19664.765,
          19700.118,
          21472.534,
          18326.516,
          16070.137,
          13369.877,
          15051.556,
          12174.059,
          10156.522,
          15608.325,
          14944.868,
          15093.094,
          16531.887,
          28.649,
          37.994,
          49.623,
          75.188,
          71.507,
          24.817,
          71.798,
          82.063,
          97.676,
          42.124,
          43.431,
          49.377,
          50.166,
          40.149,
          54.191,
          69.267,
          93.93,
          95.334,
          28.09,
          -2.192,
          -0.077,
          2.047,
          21.267,
          26.192,
          2.947,
          3.604,
          4.891,
          13.57,
          10.616,
          6.117,
          14.357,
          10110.756,
          10865.463,
          10824.656,
          10622.483,
          10810.377,
          9479.58,
          7427.447,
          7905.733,
          8720.434,
          8346.948,
          8637.511,
          8869.273,
          8997.682,
          7588.529,
          7919.28,
          7809.369,
          7817.909,
          7734.386,
          7933.016,
          8141.04,
          7084.88,
          7468.318,
          9853.567,
          10251.645,
          10114.513,
          10828.954,
          10404.026,
          9847.209,
          10101.857,
          10455.201,
          10918.157,
          2421.2415,
          2066.7095,
          1570.63,
          2298.9115,
          2406.3415,
          2384.065,
          2473.136,
          2605.383,
          2620.964,
          2560.2315,
          2416.424,
          2390.6595,
          2478.807,
          2549.512,
          2650.328,
          2538.8175,
          2655.089,
          2660.421,
          2616.346,
          2606.464,
          2674.2125,
          2715.025,
          2691.2915,
          2713.163,
          2732.902,
          2738.779,
          2595.3435,
          2419.7675,
          2437.8145,
          2494.276,
          2612.149,
          233750.6895,
          246006.18050000002,
          307041.457,
          279110.85050000006,
          237323.86950000003,
          234125.956,
          320469.00399999996,
          271225.581,
          238276.55700000003,
          351637.8345,
          416260.42799999996,
          379977.6715,
          249609.913,
          261634.23,
          263226.518,
          266311.3225,
          317813.74999999994,
          294957.7739999999,
          250946.869,
          256105.809,
          252804.42049999998,
          304181.2270000001,
          299819.53849999997,
          280173.35099999997,
          238634.364,
          252409.738,
          241677.5375,
          231823.4975,
          238301.96149999998,
          230963.84900000005,
          246872.826
         ],
         "x0": " ",
         "xaxis": "x",
         "y": [
          "Renovable",
          "Renovable",
          "Renovable",
          "Renovable",
          "Renovable",
          "Renovable",
          "Renovable",
          "Renovable",
          "Renovable",
          "Renovable",
          "Renovable",
          "Renovable",
          "Renovable",
          "Renovable",
          "Renovable",
          "Renovable",
          "Renovable",
          "Renovable",
          "Renovable",
          "Renovable",
          "Renovable",
          "Renovable",
          "Renovable",
          "Renovable",
          "Renovable",
          "Renovable",
          "Renovable",
          "Renovable",
          "Renovable",
          "Renovable",
          "Renovable",
          "Renovable",
          "Renovable",
          "Renovable",
          "Renovable",
          "Renovable",
          "Renovable",
          "Renovable",
          "Renovable",
          "Renovable",
          "Renovable",
          "Renovable",
          "Renovable",
          "Renovable",
          "Renovable",
          "Renovable",
          "Renovable",
          "Renovable",
          "Renovable",
          "Renovable",
          "Renovable",
          "Renovable",
          "Renovable",
          "Renovable",
          "Renovable",
          "Renovable",
          "Renovable",
          "Renovable",
          "Renovable",
          "Renovable",
          "Renovable",
          "Renovable",
          "Renovable",
          "Renovable",
          "Renovable",
          "Renovable",
          "Renovable",
          "Renovable",
          "Renovable",
          "Renovable",
          "Renovable",
          "Renovable",
          "Renovable",
          "Renovable",
          "Renovable",
          "Renovable",
          "Renovable",
          "Renovable",
          "Renovable",
          "Renovable",
          "Renovable",
          "Renovable",
          "Renovable",
          "Renovable",
          "Renovable",
          "Renovable",
          "Renovable",
          "Renovable",
          "Renovable",
          "Renovable",
          "Renovable",
          "Renovable",
          "Renovable",
          "Renovable",
          "Renovable",
          "Renovable",
          "Renovable",
          "Renovable",
          "Renovable",
          "Renovable",
          "Renovable",
          "Renovable",
          "Renovable",
          "Renovable",
          "Renovable",
          "Renovable",
          "Renovable",
          "Renovable",
          "Renovable",
          "Renovable",
          "Renovable",
          "Renovable",
          "Renovable",
          "Renovable",
          "Renovable",
          "Renovable",
          "Renovable",
          "Renovable",
          "Renovable",
          "Renovable",
          "Renovable",
          "Renovable",
          "Renovable",
          "Renovable",
          "Renovable",
          "Renovable",
          "Renovable",
          "Renovable",
          "Renovable",
          "Renovable",
          "Renovable",
          "Renovable",
          "Renovable",
          "Renovable",
          "Renovable",
          "Renovable",
          "Renovable",
          "Renovable",
          "Renovable",
          "Renovable",
          "Renovable",
          "Renovable",
          "Renovable",
          "Renovable",
          "Renovable",
          "Renovable",
          "Renovable",
          "Renovable",
          "Renovable",
          "Renovable",
          "Renovable",
          "Renovable",
          "Renovable",
          "Renovable",
          "Renovable",
          "Renovable",
          "Renovable",
          "Renovable",
          "Renovable",
          "Renovable",
          "Renovable",
          "Renovable",
          "Renovable",
          "Renovable",
          "Renovable",
          "Renovable",
          "Renovable",
          "Renovable",
          "Renovable",
          "Renovable",
          "Renovable",
          "Renovable",
          "Renovable",
          "Renovable",
          "Renovable",
          "Renovable",
          "Renovable",
          "Renovable",
          "Renovable",
          "Renovable",
          "Renovable",
          "Renovable",
          "Renovable",
          "Renovable",
          "Renovable",
          "Renovable",
          "Renovable",
          "Renovable",
          "Renovable",
          "Renovable",
          "Renovable",
          "Renovable",
          "Renovable",
          "Renovable",
          "Renovable",
          "Renovable",
          "Renovable",
          "Renovable",
          "Renovable",
          "Renovable",
          "Renovable",
          "Renovable",
          "Renovable",
          "Renovable",
          "Renovable",
          "Renovable",
          "Renovable",
          "Renovable",
          "Renovable",
          "Renovable",
          "Renovable",
          "Renovable",
          "Renovable",
          "Renovable",
          "Renovable",
          "Renovable",
          "Renovable",
          "Renovable",
          "Renovable",
          "Renovable",
          "Renovable",
          "Renovable",
          "Renovable",
          "Renovable",
          "Renovable",
          "Renovable",
          "Renovable",
          "Renovable",
          "Renovable",
          "Renovable",
          "Renovable",
          "Renovable",
          "Renovable",
          "Renovable",
          "Renovable",
          "Renovable",
          "Renovable",
          "Renovable",
          "Renovable",
          "Renovable",
          "Renovable",
          "Renovable",
          "Renovable",
          "Renovable",
          "Renovable",
          "Renovable",
          "Renovable",
          "Renovable"
         ],
         "y0": " ",
         "yaxis": "y"
        },
        {
         "alignmentgroup": "True",
         "hovertemplate": "tipo de energía=%{y}<br>Valores=%{x}<extra></extra>",
         "legendgroup": "No-Renovable",
         "marker": {
          "color": "#EF553B"
         },
         "name": "No-Renovable",
         "notched": false,
         "offsetgroup": "No-Renovable",
         "orientation": "h",
         "showlegend": true,
         "type": "box",
         "x": [
          5242.136,
          4400.221,
          7140.595,
          8771.07,
          10597.651,
          10799.887,
          11025.302,
          15820.152,
          7985.467,
          12816.753,
          16807.971,
          17313.393,
          16396.046,
          14722.586,
          14649.407,
          10635.073,
          12962.414,
          11135.565,
          11965.273,
          16998.403,
          15326.548,
          13878.93,
          10751.625,
          13195.162,
          7382.646,
          10275.258,
          12323.618,
          13197.372,
          13078.548,
          10481.52,
          15061.23,
          163514.484,
          163486.687,
          163605.227,
          162714.088,
          163691.166,
          163837.034,
          161560.003,
          163891.9,
          164125.743,
          144409.722,
          115413.095,
          127688.454,
          139091.629,
          138517.22,
          138503.073,
          138814.453,
          138487.209,
          138404.139,
          138340.676,
          138174.336,
          137688.802,
          137998.815,
          148363.465,
          159640.052,
          154335.239,
          136990.992,
          137676.308,
          138773.399,
          100722.677,
          93265.672,
          93964.593,
          207427.016,
          238916.811,
          202472.327,
          199849.787,
          207626.946,
          123925.093,
          92830.002,
          133945.575,
          210151.804,
          126742.202,
          105865.509,
          114033.419,
          140609.853,
          117110.974,
          181039.945,
          183858.901,
          171414.065,
          192061.19,
          208050.26,
          154436.88,
          143128.675,
          178589.387,
          171362.465,
          184528.624,
          222286.189,
          206888.211,
          140317.5,
          127960.58,
          220550.181,
          260849.031,
          207359.834,
          13141.731,
          12801.155,
          12728.758,
          12937.876,
          12406.252,
          12101.126,
          11523.562,
          12920.307,
          11970.991,
          12904.898,
          13554.938,
          13203.949,
          11660.905,
          10726.508,
          15116.6,
          19459.305,
          19886.878,
          19831.748,
          20136.761,
          12655.73,
          12119.983,
          13778.858,
          12717.874,
          13596.617,
          12795.673,
          12858.636,
          11369.515,
          12236.949,
          16363.071,
          18237.233,
          20324.393,
          8175.841,
          7349.132,
          6942.373,
          6895.553,
          7183.111,
          7679.592,
          6552.737,
          6491.208,
          6680.791,
          7016.332,
          6738.499,
          6892.66,
          6408.033,
          6302.819,
          7001.324,
          6415.588,
          5918.866,
          5953.527,
          7659,
          7695.346,
          6579.752,
          7235.851,
          7788.375,
          7230.269,
          7838.51,
          7954.891,
          7534.932,
          7311.034,
          8276.692,
          8366.964,
          8138.499,
          2598.356,
          2801.504,
          2773.235,
          2750.667,
          3073.966,
          2141.747,
          1995.216,
          3067.666,
          2371.383,
          2011.431,
          1743.816,
          1558.718,
          1222.198,
          1361.139,
          1900.167,
          2317.929,
          2090.492,
          1939.267,
          1688.733,
          2079.891,
          1658.784,
          2859.899,
          3299.137,
          3058.345,
          3401.781,
          2837.518,
          2112.744,
          2137.769,
          3442.04,
          3338.447,
          3508.775,
          4804.434,
          3973.953,
          3294.808,
          2695.01,
          2756.202,
          2920.999,
          2874.813,
          3206.877,
          3307.667,
          3271.521,
          3408.961,
          3503.892,
          3309.608,
          3177.341,
          4152.895,
          3578.103,
          3392.715,
          3515.335,
          4475.366,
          3878.917,
          3685.595,
          3803.922,
          3988.165,
          4625.621,
          4714.82,
          4918.555,
          4981.017,
          4575.141,
          4450.877,
          4838.719,
          4264.555,
          -0.001,
          49574.729,
          51005.98,
          51682.688,
          53485.942,
          54784.603,
          47632.931,
          37676.674,
          50165.262,
          52970.529,
          49710.625,
          47307.661,
          49995.016,
          48660.325,
          42265.843,
          49993.956,
          50966.696,
          49619.151,
          50454.504,
          50695.218,
          44711.977,
          42106.874,
          49198.972,
          49219.474,
          50465.825,
          53123.607,
          53832.03,
          50794.184,
          48585.432,
          53969.552,
          54221.736,
          52342.178,
          3910.8065,
          3526.4855,
          2975.479,
          3780.4485,
          3840.0525,
          3723.483,
          3757.355,
          3934.239,
          4036.15,
          3978.4535,
          3901.789,
          3895.6125,
          4143.66,
          4074.673,
          4179.527,
          4074.2665,
          4201.57,
          4032.016,
          3914.962,
          3905.464,
          3961.2335,
          4022.96,
          4001.3105,
          4024.94,
          4031.225,
          4070.296,
          4239.4665,
          4018.3955,
          4154.7725,
          4251.738,
          4303.413,
          458389.5335,
          488261.9285,
          453615.49,
          453880.4415,
          465959.9495,
          374761.89199999993,
          329795.664,
          393443.186,
          463600.52499999997,
          362861.9375,
          314742.239,
          338085.1135,
          371502.257,
          338259.10300000006,
          416536.8940000001,
          420120.31450000004,
          407973.36000000004,
          427327.291,
          446926.249,
          384536.944,
          366256.24649999995,
          411367.59400000004,
          411491.8905,
          440365.454,
          469909.69000000006,
          440626.387,
          371349.28449999995,
          358796.07149999996,
          425008.4105,
          457851.05999999994,
          409267.47000000003
         ],
         "x0": " ",
         "xaxis": "x",
         "y": [
          "No-Renovable",
          "No-Renovable",
          "No-Renovable",
          "No-Renovable",
          "No-Renovable",
          "No-Renovable",
          "No-Renovable",
          "No-Renovable",
          "No-Renovable",
          "No-Renovable",
          "No-Renovable",
          "No-Renovable",
          "No-Renovable",
          "No-Renovable",
          "No-Renovable",
          "No-Renovable",
          "No-Renovable",
          "No-Renovable",
          "No-Renovable",
          "No-Renovable",
          "No-Renovable",
          "No-Renovable",
          "No-Renovable",
          "No-Renovable",
          "No-Renovable",
          "No-Renovable",
          "No-Renovable",
          "No-Renovable",
          "No-Renovable",
          "No-Renovable",
          "No-Renovable",
          "No-Renovable",
          "No-Renovable",
          "No-Renovable",
          "No-Renovable",
          "No-Renovable",
          "No-Renovable",
          "No-Renovable",
          "No-Renovable",
          "No-Renovable",
          "No-Renovable",
          "No-Renovable",
          "No-Renovable",
          "No-Renovable",
          "No-Renovable",
          "No-Renovable",
          "No-Renovable",
          "No-Renovable",
          "No-Renovable",
          "No-Renovable",
          "No-Renovable",
          "No-Renovable",
          "No-Renovable",
          "No-Renovable",
          "No-Renovable",
          "No-Renovable",
          "No-Renovable",
          "No-Renovable",
          "No-Renovable",
          "No-Renovable",
          "No-Renovable",
          "No-Renovable",
          "No-Renovable",
          "No-Renovable",
          "No-Renovable",
          "No-Renovable",
          "No-Renovable",
          "No-Renovable",
          "No-Renovable",
          "No-Renovable",
          "No-Renovable",
          "No-Renovable",
          "No-Renovable",
          "No-Renovable",
          "No-Renovable",
          "No-Renovable",
          "No-Renovable",
          "No-Renovable",
          "No-Renovable",
          "No-Renovable",
          "No-Renovable",
          "No-Renovable",
          "No-Renovable",
          "No-Renovable",
          "No-Renovable",
          "No-Renovable",
          "No-Renovable",
          "No-Renovable",
          "No-Renovable",
          "No-Renovable",
          "No-Renovable",
          "No-Renovable",
          "No-Renovable",
          "No-Renovable",
          "No-Renovable",
          "No-Renovable",
          "No-Renovable",
          "No-Renovable",
          "No-Renovable",
          "No-Renovable",
          "No-Renovable",
          "No-Renovable",
          "No-Renovable",
          "No-Renovable",
          "No-Renovable",
          "No-Renovable",
          "No-Renovable",
          "No-Renovable",
          "No-Renovable",
          "No-Renovable",
          "No-Renovable",
          "No-Renovable",
          "No-Renovable",
          "No-Renovable",
          "No-Renovable",
          "No-Renovable",
          "No-Renovable",
          "No-Renovable",
          "No-Renovable",
          "No-Renovable",
          "No-Renovable",
          "No-Renovable",
          "No-Renovable",
          "No-Renovable",
          "No-Renovable",
          "No-Renovable",
          "No-Renovable",
          "No-Renovable",
          "No-Renovable",
          "No-Renovable",
          "No-Renovable",
          "No-Renovable",
          "No-Renovable",
          "No-Renovable",
          "No-Renovable",
          "No-Renovable",
          "No-Renovable",
          "No-Renovable",
          "No-Renovable",
          "No-Renovable",
          "No-Renovable",
          "No-Renovable",
          "No-Renovable",
          "No-Renovable",
          "No-Renovable",
          "No-Renovable",
          "No-Renovable",
          "No-Renovable",
          "No-Renovable",
          "No-Renovable",
          "No-Renovable",
          "No-Renovable",
          "No-Renovable",
          "No-Renovable",
          "No-Renovable",
          "No-Renovable",
          "No-Renovable",
          "No-Renovable",
          "No-Renovable",
          "No-Renovable",
          "No-Renovable",
          "No-Renovable",
          "No-Renovable",
          "No-Renovable",
          "No-Renovable",
          "No-Renovable",
          "No-Renovable",
          "No-Renovable",
          "No-Renovable",
          "No-Renovable",
          "No-Renovable",
          "No-Renovable",
          "No-Renovable",
          "No-Renovable",
          "No-Renovable",
          "No-Renovable",
          "No-Renovable",
          "No-Renovable",
          "No-Renovable",
          "No-Renovable",
          "No-Renovable",
          "No-Renovable",
          "No-Renovable",
          "No-Renovable",
          "No-Renovable",
          "No-Renovable",
          "No-Renovable",
          "No-Renovable",
          "No-Renovable",
          "No-Renovable",
          "No-Renovable",
          "No-Renovable",
          "No-Renovable",
          "No-Renovable",
          "No-Renovable",
          "No-Renovable",
          "No-Renovable",
          "No-Renovable",
          "No-Renovable",
          "No-Renovable",
          "No-Renovable",
          "No-Renovable",
          "No-Renovable",
          "No-Renovable",
          "No-Renovable",
          "No-Renovable",
          "No-Renovable",
          "No-Renovable",
          "No-Renovable",
          "No-Renovable",
          "No-Renovable",
          "No-Renovable",
          "No-Renovable",
          "No-Renovable",
          "No-Renovable",
          "No-Renovable",
          "No-Renovable",
          "No-Renovable",
          "No-Renovable",
          "No-Renovable",
          "No-Renovable",
          "No-Renovable",
          "No-Renovable",
          "No-Renovable",
          "No-Renovable",
          "No-Renovable",
          "No-Renovable",
          "No-Renovable",
          "No-Renovable",
          "No-Renovable",
          "No-Renovable",
          "No-Renovable",
          "No-Renovable",
          "No-Renovable",
          "No-Renovable",
          "No-Renovable",
          "No-Renovable",
          "No-Renovable",
          "No-Renovable",
          "No-Renovable",
          "No-Renovable",
          "No-Renovable",
          "No-Renovable",
          "No-Renovable",
          "No-Renovable",
          "No-Renovable",
          "No-Renovable",
          "No-Renovable",
          "No-Renovable",
          "No-Renovable",
          "No-Renovable",
          "No-Renovable",
          "No-Renovable",
          "No-Renovable",
          "No-Renovable",
          "No-Renovable",
          "No-Renovable",
          "No-Renovable",
          "No-Renovable",
          "No-Renovable",
          "No-Renovable",
          "No-Renovable",
          "No-Renovable",
          "No-Renovable",
          "No-Renovable",
          "No-Renovable",
          "No-Renovable",
          "No-Renovable",
          "No-Renovable",
          "No-Renovable",
          "No-Renovable",
          "No-Renovable",
          "No-Renovable",
          "No-Renovable",
          "No-Renovable",
          "No-Renovable",
          "No-Renovable",
          "No-Renovable",
          "No-Renovable",
          "No-Renovable",
          "No-Renovable",
          "No-Renovable",
          "No-Renovable",
          "No-Renovable",
          "No-Renovable",
          "No-Renovable",
          "No-Renovable",
          "No-Renovable",
          "No-Renovable",
          "No-Renovable",
          "No-Renovable",
          "No-Renovable",
          "No-Renovable",
          "No-Renovable",
          "No-Renovable",
          "No-Renovable",
          "No-Renovable",
          "No-Renovable",
          "No-Renovable",
          "No-Renovable",
          "No-Renovable",
          "No-Renovable",
          "No-Renovable",
          "No-Renovable",
          "No-Renovable",
          "No-Renovable",
          "No-Renovable",
          "No-Renovable",
          "No-Renovable",
          "No-Renovable",
          "No-Renovable"
         ],
         "y0": " ",
         "yaxis": "y"
        },
        {
         "alignmentgroup": "True",
         "hovertemplate": "tipo de energía=%{y}<br>Valores=%{x}<extra></extra>",
         "legendgroup": "Demanda en b.c.",
         "marker": {
          "color": "#00CC96"
         },
         "name": "Demanda en b.c.",
         "notched": false,
         "offsetgroup": "Demanda en b.c.",
         "orientation": "h",
         "showlegend": true,
         "type": "box",
         "x": [
          -10473.632,
          -5819.447,
          -17146.533,
          -10599.293,
          -3964.29,
          -14034.962,
          -47500.313,
          -16754.297,
          -12968.557,
          -27228.188,
          -26921.205,
          -21188.824,
          -23405.114,
          -35223.895,
          -18062.309,
          -7580.054,
          -9751.268,
          -15726.052,
          -12311.63,
          -20507.177,
          -33353.207,
          -20807.877,
          -13978.754,
          -17093.26,
          -9064.527,
          -8239.738,
          -21524.147,
          -29344.061,
          -17949.148,
          -15339.835,
          -7628.414,
          -15563.131,
          -28169.598,
          -43040.727,
          -14523.889,
          250.981,
          10204.369,
          -34432.464,
          12604.376,
          -11311.735,
          -12982.596,
          -28474.277,
          -45836.843,
          -26616.742,
          -29493.235,
          -22764.828,
          -11030.622,
          -37384.413,
          -24685.946,
          -9032.859,
          -18161.954,
          -21182.165,
          -23035.579,
          -8755.414,
          -11161.589,
          -6916.082,
          9378.682,
          22528.282,
          6784.183,
          12074.745,
          4768.913,
          23974.685,
          666103.46,
          700279.064,
          700469.687,
          707868.11,
          699570.51,
          605057.255,
          568331.891,
          660518.846,
          677596.79,
          674288.988,
          675607.185,
          651037.118,
          571090.314,
          535176.203,
          638936.275,
          667820.961,
          678651.429,
          681873.0669999999,
          676528.629,
          601973.622,
          564525.295,
          671705.365,
          688577.261,
          692283.956,
          692563.445,
          694175.069,
          614030.957,
          568059.691,
          657435.9689999999,
          678243.987,
          672486.5669999999
         ],
         "x0": " ",
         "xaxis": "x",
         "y": [
          "Demanda en b.c.",
          "Demanda en b.c.",
          "Demanda en b.c.",
          "Demanda en b.c.",
          "Demanda en b.c.",
          "Demanda en b.c.",
          "Demanda en b.c.",
          "Demanda en b.c.",
          "Demanda en b.c.",
          "Demanda en b.c.",
          "Demanda en b.c.",
          "Demanda en b.c.",
          "Demanda en b.c.",
          "Demanda en b.c.",
          "Demanda en b.c.",
          "Demanda en b.c.",
          "Demanda en b.c.",
          "Demanda en b.c.",
          "Demanda en b.c.",
          "Demanda en b.c.",
          "Demanda en b.c.",
          "Demanda en b.c.",
          "Demanda en b.c.",
          "Demanda en b.c.",
          "Demanda en b.c.",
          "Demanda en b.c.",
          "Demanda en b.c.",
          "Demanda en b.c.",
          "Demanda en b.c.",
          "Demanda en b.c.",
          "Demanda en b.c.",
          "Demanda en b.c.",
          "Demanda en b.c.",
          "Demanda en b.c.",
          "Demanda en b.c.",
          "Demanda en b.c.",
          "Demanda en b.c.",
          "Demanda en b.c.",
          "Demanda en b.c.",
          "Demanda en b.c.",
          "Demanda en b.c.",
          "Demanda en b.c.",
          "Demanda en b.c.",
          "Demanda en b.c.",
          "Demanda en b.c.",
          "Demanda en b.c.",
          "Demanda en b.c.",
          "Demanda en b.c.",
          "Demanda en b.c.",
          "Demanda en b.c.",
          "Demanda en b.c.",
          "Demanda en b.c.",
          "Demanda en b.c.",
          "Demanda en b.c.",
          "Demanda en b.c.",
          "Demanda en b.c.",
          "Demanda en b.c.",
          "Demanda en b.c.",
          "Demanda en b.c.",
          "Demanda en b.c.",
          "Demanda en b.c.",
          "Demanda en b.c.",
          "Demanda en b.c.",
          "Demanda en b.c.",
          "Demanda en b.c.",
          "Demanda en b.c.",
          "Demanda en b.c.",
          "Demanda en b.c.",
          "Demanda en b.c.",
          "Demanda en b.c.",
          "Demanda en b.c.",
          "Demanda en b.c.",
          "Demanda en b.c.",
          "Demanda en b.c.",
          "Demanda en b.c.",
          "Demanda en b.c.",
          "Demanda en b.c.",
          "Demanda en b.c.",
          "Demanda en b.c.",
          "Demanda en b.c.",
          "Demanda en b.c.",
          "Demanda en b.c.",
          "Demanda en b.c.",
          "Demanda en b.c.",
          "Demanda en b.c.",
          "Demanda en b.c.",
          "Demanda en b.c.",
          "Demanda en b.c.",
          "Demanda en b.c.",
          "Demanda en b.c.",
          "Demanda en b.c.",
          "Demanda en b.c.",
          "Demanda en b.c."
         ],
         "y0": " ",
         "yaxis": "y"
        }
       ],
       "layout": {
        "boxmode": "overlay",
        "legend": {
         "title": {
          "text": "tipo de energía"
         },
         "tracegroupgap": 0
        },
        "margin": {
         "t": 60
        },
        "template": {
         "data": {
          "bar": [
           {
            "error_x": {
             "color": "#2a3f5f"
            },
            "error_y": {
             "color": "#2a3f5f"
            },
            "marker": {
             "line": {
              "color": "#E5ECF6",
              "width": 0.5
             },
             "pattern": {
              "fillmode": "overlay",
              "size": 10,
              "solidity": 0.2
             }
            },
            "type": "bar"
           }
          ],
          "barpolar": [
           {
            "marker": {
             "line": {
              "color": "#E5ECF6",
              "width": 0.5
             },
             "pattern": {
              "fillmode": "overlay",
              "size": 10,
              "solidity": 0.2
             }
            },
            "type": "barpolar"
           }
          ],
          "carpet": [
           {
            "aaxis": {
             "endlinecolor": "#2a3f5f",
             "gridcolor": "white",
             "linecolor": "white",
             "minorgridcolor": "white",
             "startlinecolor": "#2a3f5f"
            },
            "baxis": {
             "endlinecolor": "#2a3f5f",
             "gridcolor": "white",
             "linecolor": "white",
             "minorgridcolor": "white",
             "startlinecolor": "#2a3f5f"
            },
            "type": "carpet"
           }
          ],
          "choropleth": [
           {
            "colorbar": {
             "outlinewidth": 0,
             "ticks": ""
            },
            "type": "choropleth"
           }
          ],
          "contour": [
           {
            "colorbar": {
             "outlinewidth": 0,
             "ticks": ""
            },
            "colorscale": [
             [
              0,
              "#0d0887"
             ],
             [
              0.1111111111111111,
              "#46039f"
             ],
             [
              0.2222222222222222,
              "#7201a8"
             ],
             [
              0.3333333333333333,
              "#9c179e"
             ],
             [
              0.4444444444444444,
              "#bd3786"
             ],
             [
              0.5555555555555556,
              "#d8576b"
             ],
             [
              0.6666666666666666,
              "#ed7953"
             ],
             [
              0.7777777777777778,
              "#fb9f3a"
             ],
             [
              0.8888888888888888,
              "#fdca26"
             ],
             [
              1,
              "#f0f921"
             ]
            ],
            "type": "contour"
           }
          ],
          "contourcarpet": [
           {
            "colorbar": {
             "outlinewidth": 0,
             "ticks": ""
            },
            "type": "contourcarpet"
           }
          ],
          "heatmap": [
           {
            "colorbar": {
             "outlinewidth": 0,
             "ticks": ""
            },
            "colorscale": [
             [
              0,
              "#0d0887"
             ],
             [
              0.1111111111111111,
              "#46039f"
             ],
             [
              0.2222222222222222,
              "#7201a8"
             ],
             [
              0.3333333333333333,
              "#9c179e"
             ],
             [
              0.4444444444444444,
              "#bd3786"
             ],
             [
              0.5555555555555556,
              "#d8576b"
             ],
             [
              0.6666666666666666,
              "#ed7953"
             ],
             [
              0.7777777777777778,
              "#fb9f3a"
             ],
             [
              0.8888888888888888,
              "#fdca26"
             ],
             [
              1,
              "#f0f921"
             ]
            ],
            "type": "heatmap"
           }
          ],
          "heatmapgl": [
           {
            "colorbar": {
             "outlinewidth": 0,
             "ticks": ""
            },
            "colorscale": [
             [
              0,
              "#0d0887"
             ],
             [
              0.1111111111111111,
              "#46039f"
             ],
             [
              0.2222222222222222,
              "#7201a8"
             ],
             [
              0.3333333333333333,
              "#9c179e"
             ],
             [
              0.4444444444444444,
              "#bd3786"
             ],
             [
              0.5555555555555556,
              "#d8576b"
             ],
             [
              0.6666666666666666,
              "#ed7953"
             ],
             [
              0.7777777777777778,
              "#fb9f3a"
             ],
             [
              0.8888888888888888,
              "#fdca26"
             ],
             [
              1,
              "#f0f921"
             ]
            ],
            "type": "heatmapgl"
           }
          ],
          "histogram": [
           {
            "marker": {
             "pattern": {
              "fillmode": "overlay",
              "size": 10,
              "solidity": 0.2
             }
            },
            "type": "histogram"
           }
          ],
          "histogram2d": [
           {
            "colorbar": {
             "outlinewidth": 0,
             "ticks": ""
            },
            "colorscale": [
             [
              0,
              "#0d0887"
             ],
             [
              0.1111111111111111,
              "#46039f"
             ],
             [
              0.2222222222222222,
              "#7201a8"
             ],
             [
              0.3333333333333333,
              "#9c179e"
             ],
             [
              0.4444444444444444,
              "#bd3786"
             ],
             [
              0.5555555555555556,
              "#d8576b"
             ],
             [
              0.6666666666666666,
              "#ed7953"
             ],
             [
              0.7777777777777778,
              "#fb9f3a"
             ],
             [
              0.8888888888888888,
              "#fdca26"
             ],
             [
              1,
              "#f0f921"
             ]
            ],
            "type": "histogram2d"
           }
          ],
          "histogram2dcontour": [
           {
            "colorbar": {
             "outlinewidth": 0,
             "ticks": ""
            },
            "colorscale": [
             [
              0,
              "#0d0887"
             ],
             [
              0.1111111111111111,
              "#46039f"
             ],
             [
              0.2222222222222222,
              "#7201a8"
             ],
             [
              0.3333333333333333,
              "#9c179e"
             ],
             [
              0.4444444444444444,
              "#bd3786"
             ],
             [
              0.5555555555555556,
              "#d8576b"
             ],
             [
              0.6666666666666666,
              "#ed7953"
             ],
             [
              0.7777777777777778,
              "#fb9f3a"
             ],
             [
              0.8888888888888888,
              "#fdca26"
             ],
             [
              1,
              "#f0f921"
             ]
            ],
            "type": "histogram2dcontour"
           }
          ],
          "mesh3d": [
           {
            "colorbar": {
             "outlinewidth": 0,
             "ticks": ""
            },
            "type": "mesh3d"
           }
          ],
          "parcoords": [
           {
            "line": {
             "colorbar": {
              "outlinewidth": 0,
              "ticks": ""
             }
            },
            "type": "parcoords"
           }
          ],
          "pie": [
           {
            "automargin": true,
            "type": "pie"
           }
          ],
          "scatter": [
           {
            "fillpattern": {
             "fillmode": "overlay",
             "size": 10,
             "solidity": 0.2
            },
            "type": "scatter"
           }
          ],
          "scatter3d": [
           {
            "line": {
             "colorbar": {
              "outlinewidth": 0,
              "ticks": ""
             }
            },
            "marker": {
             "colorbar": {
              "outlinewidth": 0,
              "ticks": ""
             }
            },
            "type": "scatter3d"
           }
          ],
          "scattercarpet": [
           {
            "marker": {
             "colorbar": {
              "outlinewidth": 0,
              "ticks": ""
             }
            },
            "type": "scattercarpet"
           }
          ],
          "scattergeo": [
           {
            "marker": {
             "colorbar": {
              "outlinewidth": 0,
              "ticks": ""
             }
            },
            "type": "scattergeo"
           }
          ],
          "scattergl": [
           {
            "marker": {
             "colorbar": {
              "outlinewidth": 0,
              "ticks": ""
             }
            },
            "type": "scattergl"
           }
          ],
          "scattermapbox": [
           {
            "marker": {
             "colorbar": {
              "outlinewidth": 0,
              "ticks": ""
             }
            },
            "type": "scattermapbox"
           }
          ],
          "scatterpolar": [
           {
            "marker": {
             "colorbar": {
              "outlinewidth": 0,
              "ticks": ""
             }
            },
            "type": "scatterpolar"
           }
          ],
          "scatterpolargl": [
           {
            "marker": {
             "colorbar": {
              "outlinewidth": 0,
              "ticks": ""
             }
            },
            "type": "scatterpolargl"
           }
          ],
          "scatterternary": [
           {
            "marker": {
             "colorbar": {
              "outlinewidth": 0,
              "ticks": ""
             }
            },
            "type": "scatterternary"
           }
          ],
          "surface": [
           {
            "colorbar": {
             "outlinewidth": 0,
             "ticks": ""
            },
            "colorscale": [
             [
              0,
              "#0d0887"
             ],
             [
              0.1111111111111111,
              "#46039f"
             ],
             [
              0.2222222222222222,
              "#7201a8"
             ],
             [
              0.3333333333333333,
              "#9c179e"
             ],
             [
              0.4444444444444444,
              "#bd3786"
             ],
             [
              0.5555555555555556,
              "#d8576b"
             ],
             [
              0.6666666666666666,
              "#ed7953"
             ],
             [
              0.7777777777777778,
              "#fb9f3a"
             ],
             [
              0.8888888888888888,
              "#fdca26"
             ],
             [
              1,
              "#f0f921"
             ]
            ],
            "type": "surface"
           }
          ],
          "table": [
           {
            "cells": {
             "fill": {
              "color": "#EBF0F8"
             },
             "line": {
              "color": "white"
             }
            },
            "header": {
             "fill": {
              "color": "#C8D4E3"
             },
             "line": {
              "color": "white"
             }
            },
            "type": "table"
           }
          ]
         },
         "layout": {
          "annotationdefaults": {
           "arrowcolor": "#2a3f5f",
           "arrowhead": 0,
           "arrowwidth": 1
          },
          "autotypenumbers": "strict",
          "coloraxis": {
           "colorbar": {
            "outlinewidth": 0,
            "ticks": ""
           }
          },
          "colorscale": {
           "diverging": [
            [
             0,
             "#8e0152"
            ],
            [
             0.1,
             "#c51b7d"
            ],
            [
             0.2,
             "#de77ae"
            ],
            [
             0.3,
             "#f1b6da"
            ],
            [
             0.4,
             "#fde0ef"
            ],
            [
             0.5,
             "#f7f7f7"
            ],
            [
             0.6,
             "#e6f5d0"
            ],
            [
             0.7,
             "#b8e186"
            ],
            [
             0.8,
             "#7fbc41"
            ],
            [
             0.9,
             "#4d9221"
            ],
            [
             1,
             "#276419"
            ]
           ],
           "sequential": [
            [
             0,
             "#0d0887"
            ],
            [
             0.1111111111111111,
             "#46039f"
            ],
            [
             0.2222222222222222,
             "#7201a8"
            ],
            [
             0.3333333333333333,
             "#9c179e"
            ],
            [
             0.4444444444444444,
             "#bd3786"
            ],
            [
             0.5555555555555556,
             "#d8576b"
            ],
            [
             0.6666666666666666,
             "#ed7953"
            ],
            [
             0.7777777777777778,
             "#fb9f3a"
            ],
            [
             0.8888888888888888,
             "#fdca26"
            ],
            [
             1,
             "#f0f921"
            ]
           ],
           "sequentialminus": [
            [
             0,
             "#0d0887"
            ],
            [
             0.1111111111111111,
             "#46039f"
            ],
            [
             0.2222222222222222,
             "#7201a8"
            ],
            [
             0.3333333333333333,
             "#9c179e"
            ],
            [
             0.4444444444444444,
             "#bd3786"
            ],
            [
             0.5555555555555556,
             "#d8576b"
            ],
            [
             0.6666666666666666,
             "#ed7953"
            ],
            [
             0.7777777777777778,
             "#fb9f3a"
            ],
            [
             0.8888888888888888,
             "#fdca26"
            ],
            [
             1,
             "#f0f921"
            ]
           ]
          },
          "colorway": [
           "#636efa",
           "#EF553B",
           "#00cc96",
           "#ab63fa",
           "#FFA15A",
           "#19d3f3",
           "#FF6692",
           "#B6E880",
           "#FF97FF",
           "#FECB52"
          ],
          "font": {
           "color": "#2a3f5f"
          },
          "geo": {
           "bgcolor": "white",
           "lakecolor": "white",
           "landcolor": "#E5ECF6",
           "showlakes": true,
           "showland": true,
           "subunitcolor": "white"
          },
          "hoverlabel": {
           "align": "left"
          },
          "hovermode": "closest",
          "mapbox": {
           "style": "light"
          },
          "paper_bgcolor": "white",
          "plot_bgcolor": "#E5ECF6",
          "polar": {
           "angularaxis": {
            "gridcolor": "white",
            "linecolor": "white",
            "ticks": ""
           },
           "bgcolor": "#E5ECF6",
           "radialaxis": {
            "gridcolor": "white",
            "linecolor": "white",
            "ticks": ""
           }
          },
          "scene": {
           "xaxis": {
            "backgroundcolor": "#E5ECF6",
            "gridcolor": "white",
            "gridwidth": 2,
            "linecolor": "white",
            "showbackground": true,
            "ticks": "",
            "zerolinecolor": "white"
           },
           "yaxis": {
            "backgroundcolor": "#E5ECF6",
            "gridcolor": "white",
            "gridwidth": 2,
            "linecolor": "white",
            "showbackground": true,
            "ticks": "",
            "zerolinecolor": "white"
           },
           "zaxis": {
            "backgroundcolor": "#E5ECF6",
            "gridcolor": "white",
            "gridwidth": 2,
            "linecolor": "white",
            "showbackground": true,
            "ticks": "",
            "zerolinecolor": "white"
           }
          },
          "shapedefaults": {
           "line": {
            "color": "#2a3f5f"
           }
          },
          "ternary": {
           "aaxis": {
            "gridcolor": "white",
            "linecolor": "white",
            "ticks": ""
           },
           "baxis": {
            "gridcolor": "white",
            "linecolor": "white",
            "ticks": ""
           },
           "bgcolor": "#E5ECF6",
           "caxis": {
            "gridcolor": "white",
            "linecolor": "white",
            "ticks": ""
           }
          },
          "title": {
           "x": 0.05
          },
          "xaxis": {
           "automargin": true,
           "gridcolor": "white",
           "linecolor": "white",
           "ticks": "",
           "title": {
            "standoff": 15
           },
           "zerolinecolor": "white",
           "zerolinewidth": 2
          },
          "yaxis": {
           "automargin": true,
           "gridcolor": "white",
           "linecolor": "white",
           "ticks": "",
           "title": {
            "standoff": 15
           },
           "zerolinecolor": "white",
           "zerolinewidth": 2
          }
         }
        },
        "xaxis": {
         "anchor": "y",
         "domain": [
          0,
          1
         ],
         "title": {
          "text": "Valores"
         }
        },
        "yaxis": {
         "anchor": "x",
         "categoryarray": [
          "Demanda en b.c.",
          "No-Renovable",
          "Renovable"
         ],
         "categoryorder": "array",
         "domain": [
          0,
          1
         ],
         "title": {
          "text": "tipo de energía"
         }
        }
       }
      }
     },
     "metadata": {},
     "output_type": "display_data"
    }
   ],
   "source": [
    "px.box(data_frame=df_balance,\n",
    "       x = 'Valores',\n",
    "       y = 'tipo de energía',\n",
    "       color = 'tipo de energía',\n",
    "       color_discrete_sequence = colores_personalizados)"
   ]
  }
 ],
 "metadata": {
  "kernelspec": {
   "display_name": "base",
   "language": "python",
   "name": "python3"
  },
  "language_info": {
   "codemirror_mode": {
    "name": "ipython",
    "version": 3
   },
   "file_extension": ".py",
   "mimetype": "text/x-python",
   "name": "python",
   "nbconvert_exporter": "python",
   "pygments_lexer": "ipython3",
   "version": "3.11.7"
  }
 },
 "nbformat": 4,
 "nbformat_minor": 2
}
