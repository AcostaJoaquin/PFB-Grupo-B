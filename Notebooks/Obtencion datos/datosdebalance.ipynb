{
 "cells": [
  {
   "cell_type": "code",
   "execution_count": 122,
   "metadata": {},
   "outputs": [],
   "source": [
    "import pandas as pd\n",
    "import numpy as np\n",
    "\n",
    "import requests\n",
    "\n",
    "from datetime import datetime, timedelta\n",
    "from pprint import pprint\n",
    "\n",
    "import plotly.express as px\n",
    "import plotly.colors as pc"
   ]
  },
  {
   "cell_type": "markdown",
   "metadata": {},
   "source": [
    "### EJEMPLO\n"
   ]
  },
  {
   "cell_type": "code",
   "execution_count": 121,
   "metadata": {},
   "outputs": [],
   "source": [
    "lang    =  \"es\"\n",
    "category = \"balance\"\n",
    "widget   = \"balance-electrico\"\n",
    "query   = \"start_date=2018-01-01T00:00&end_date=2018-12-31T23:59&time_trunc=year\"\n"
   ]
  },
  {
   "cell_type": "code",
   "execution_count": 123,
   "metadata": {},
   "outputs": [],
   "source": [
    "headers = {\n",
    "    'Accept': 'application/json',\n",
    "    'Content-Type': 'application/json',\n",
    "    'Host' : 'apidatos.ree.es'\n",
    "}"
   ]
  },
  {
   "cell_type": "code",
   "execution_count": null,
   "metadata": {},
   "outputs": [],
   "source": [
    "endpoint = f\"https://apidatos.ree.es/{lang}/datos/{category}/{widget}?{query}\"\n",
    "response = requests.get(url = endpoint, headers = headers)\n",
    "data = response.json()\n",
    "pprint(data)"
   ]
  },
  {
   "cell_type": "markdown",
   "metadata": {},
   "source": [
    "# OBTENCIÓN DE DATOS DE BALANCE\n",
    "\n",
    "\n"
   ]
  },
  {
   "cell_type": "code",
   "execution_count": 166,
   "metadata": {},
   "outputs": [],
   "source": [
    "lang          = 'es'\n",
    "\n",
    "hoy           = '2023-12-31'\n",
    "ultima_fecha  = '2023-01-01'"
   ]
  },
  {
   "cell_type": "code",
   "execution_count": 163,
   "metadata": {},
   "outputs": [],
   "source": [
    "headers = {\n",
    "    'Accept':       'application/json',\n",
    "    'Content-Type': 'application/json',\n",
    "    'Host' :        'apidatos.ree.es'\n",
    "}"
   ]
  },
  {
   "cell_type": "code",
   "execution_count": 167,
   "metadata": {},
   "outputs": [],
   "source": [
    "def balance_datos(lang, hoy, ultima_fecha):\n",
    "\n",
    "    query = f\"start_date={ultima_fecha}T00:00&end_date={hoy}T23:59&time_trunc=day\"\n",
    "\n",
    "    endpoint = f\"https://apidatos.ree.es/{lang}/datos/balance/balance-electrico?{query}\"\n",
    "    response = requests.get(url = endpoint, headers = headers)\n",
    "    data = response.json()\n",
    "\n",
    "\n",
    "\n",
    "    lista_nombres = list()\n",
    "    lista_tipos = list()\n",
    "    lista_valores = list()\n",
    "    lista_porcentajes = list()\n",
    "    lista_fechas = list()\n",
    "    lista_dias = list()\n",
    "    lista_meses = list()\n",
    "    lista_años = list()\n",
    "\n",
    "\n",
    "    for dato in data['included']:\n",
    "        for info in dato['attributes']['content']:\n",
    "            nombre = info['type']\n",
    "\n",
    "            tipo = info['groupId']\n",
    "\n",
    "\n",
    "            for i in info['attributes']['values']:\n",
    "                valor = i['value']\n",
    "\n",
    "                porcentaje = i['percentage']\n",
    "\n",
    "                fecha = i['datetime']\n",
    "                fecha = pd.to_datetime(fecha)\n",
    "                dia = fecha.strftime('%d')\n",
    "                mes = fecha.strftime('%m')\n",
    "                año = fecha.strftime('%Y')\n",
    "\n",
    "                fecha = fecha.strftime(\"%d/%m/%Y\")\n",
    "\n",
    "\n",
    "\n",
    "\n",
    "                lista_nombres.append(nombre)\n",
    "                lista_tipos.append(tipo)\n",
    "                lista_valores.append(valor)\n",
    "                lista_porcentajes.append(porcentaje)\n",
    "                lista_fechas.append(fecha)\n",
    "                lista_dias.append(dia)\n",
    "                lista_meses.append(mes)\n",
    "                lista_años.append(año)\n",
    "\n",
    "    df_balance = pd.DataFrame()\n",
    "    df_balance['nombre']               = lista_nombres\n",
    "    df_balance['tipo de energía']      = lista_tipos\n",
    "    df_balance['Valores']              = lista_valores\n",
    "    df_balance[\"Porcentaje\"]           = lista_porcentajes\n",
    "    df_balance[\"Fecha actualización\"]  = lista_fechas\n",
    "\n",
    "\n",
    "    return df_balance\n",
    "\n",
    "df_balance  = balance_datos(lang, hoy, ultima_fecha)\n",
    "\n",
    "#df_balance['tipo de energía'].unique()\n",
    "\n"
   ]
  },
  {
   "cell_type": "code",
   "execution_count": 168,
   "metadata": {},
   "outputs": [
    {
     "data": {
      "text/html": [
       "<div>\n",
       "<style scoped>\n",
       "    .dataframe tbody tr th:only-of-type {\n",
       "        vertical-align: middle;\n",
       "    }\n",
       "\n",
       "    .dataframe tbody tr th {\n",
       "        vertical-align: top;\n",
       "    }\n",
       "\n",
       "    .dataframe thead th {\n",
       "        text-align: right;\n",
       "    }\n",
       "</style>\n",
       "<table border=\"1\" class=\"dataframe\">\n",
       "  <thead>\n",
       "    <tr style=\"text-align: right;\">\n",
       "      <th></th>\n",
       "      <th>nombre</th>\n",
       "      <th>tipo de energía</th>\n",
       "      <th>Valores</th>\n",
       "      <th>Porcentaje</th>\n",
       "      <th>Fecha actualización</th>\n",
       "    </tr>\n",
       "  </thead>\n",
       "  <tbody>\n",
       "    <tr>\n",
       "      <th>0</th>\n",
       "      <td>Hidráulica</td>\n",
       "      <td>Renovable</td>\n",
       "      <td>76595.584</td>\n",
       "      <td>0.272156</td>\n",
       "      <td>01/01/2023</td>\n",
       "    </tr>\n",
       "    <tr>\n",
       "      <th>1</th>\n",
       "      <td>Hidráulica</td>\n",
       "      <td>Renovable</td>\n",
       "      <td>136518.071</td>\n",
       "      <td>0.491590</td>\n",
       "      <td>02/01/2023</td>\n",
       "    </tr>\n",
       "    <tr>\n",
       "      <th>2</th>\n",
       "      <td>Hidráulica</td>\n",
       "      <td>Renovable</td>\n",
       "      <td>153711.167</td>\n",
       "      <td>0.516836</td>\n",
       "      <td>03/01/2023</td>\n",
       "    </tr>\n",
       "    <tr>\n",
       "      <th>3</th>\n",
       "      <td>Hidráulica</td>\n",
       "      <td>Renovable</td>\n",
       "      <td>138220.830</td>\n",
       "      <td>0.487514</td>\n",
       "      <td>04/01/2023</td>\n",
       "    </tr>\n",
       "    <tr>\n",
       "      <th>4</th>\n",
       "      <td>Hidráulica</td>\n",
       "      <td>Renovable</td>\n",
       "      <td>143184.392</td>\n",
       "      <td>0.538530</td>\n",
       "      <td>05/01/2023</td>\n",
       "    </tr>\n",
       "    <tr>\n",
       "      <th>...</th>\n",
       "      <td>...</td>\n",
       "      <td>...</td>\n",
       "      <td>...</td>\n",
       "      <td>...</td>\n",
       "      <td>...</td>\n",
       "    </tr>\n",
       "    <tr>\n",
       "      <th>7664</th>\n",
       "      <td>Demanda en b.c.</td>\n",
       "      <td>Demanda en b.c.</td>\n",
       "      <td>696924.348</td>\n",
       "      <td>1.000000</td>\n",
       "      <td>27/12/2023</td>\n",
       "    </tr>\n",
       "    <tr>\n",
       "      <th>7665</th>\n",
       "      <td>Demanda en b.c.</td>\n",
       "      <td>Demanda en b.c.</td>\n",
       "      <td>704808.954</td>\n",
       "      <td>1.000000</td>\n",
       "      <td>28/12/2023</td>\n",
       "    </tr>\n",
       "    <tr>\n",
       "      <th>7666</th>\n",
       "      <td>Demanda en b.c.</td>\n",
       "      <td>Demanda en b.c.</td>\n",
       "      <td>693457.822</td>\n",
       "      <td>1.000000</td>\n",
       "      <td>29/12/2023</td>\n",
       "    </tr>\n",
       "    <tr>\n",
       "      <th>7667</th>\n",
       "      <td>Demanda en b.c.</td>\n",
       "      <td>Demanda en b.c.</td>\n",
       "      <td>624295.946</td>\n",
       "      <td>1.000000</td>\n",
       "      <td>30/12/2023</td>\n",
       "    </tr>\n",
       "    <tr>\n",
       "      <th>7668</th>\n",
       "      <td>Demanda en b.c.</td>\n",
       "      <td>Demanda en b.c.</td>\n",
       "      <td>600650.136</td>\n",
       "      <td>1.000000</td>\n",
       "      <td>31/12/2023</td>\n",
       "    </tr>\n",
       "  </tbody>\n",
       "</table>\n",
       "<p>7669 rows × 5 columns</p>\n",
       "</div>"
      ],
      "text/plain": [
       "               nombre  tipo de energía     Valores  Porcentaje  \\\n",
       "0          Hidráulica        Renovable   76595.584    0.272156   \n",
       "1          Hidráulica        Renovable  136518.071    0.491590   \n",
       "2          Hidráulica        Renovable  153711.167    0.516836   \n",
       "3          Hidráulica        Renovable  138220.830    0.487514   \n",
       "4          Hidráulica        Renovable  143184.392    0.538530   \n",
       "...               ...              ...         ...         ...   \n",
       "7664  Demanda en b.c.  Demanda en b.c.  696924.348    1.000000   \n",
       "7665  Demanda en b.c.  Demanda en b.c.  704808.954    1.000000   \n",
       "7666  Demanda en b.c.  Demanda en b.c.  693457.822    1.000000   \n",
       "7667  Demanda en b.c.  Demanda en b.c.  624295.946    1.000000   \n",
       "7668  Demanda en b.c.  Demanda en b.c.  600650.136    1.000000   \n",
       "\n",
       "     Fecha actualización  \n",
       "0             01/01/2023  \n",
       "1             02/01/2023  \n",
       "2             03/01/2023  \n",
       "3             04/01/2023  \n",
       "4             05/01/2023  \n",
       "...                  ...  \n",
       "7664          27/12/2023  \n",
       "7665          28/12/2023  \n",
       "7666          29/12/2023  \n",
       "7667          30/12/2023  \n",
       "7668          31/12/2023  \n",
       "\n",
       "[7669 rows x 5 columns]"
      ]
     },
     "execution_count": 168,
     "metadata": {},
     "output_type": "execute_result"
    }
   ],
   "source": [
    "df_balance"
   ]
  },
  {
   "cell_type": "code",
   "execution_count": null,
   "metadata": {},
   "outputs": [],
   "source": []
  },
  {
   "cell_type": "code",
   "execution_count": 56,
   "metadata": {},
   "outputs": [],
   "source": [
    "df_balance.to_csv('balance_electrico.csv')"
   ]
  },
  {
   "cell_type": "code",
   "execution_count": 57,
   "metadata": {},
   "outputs": [],
   "source": [
    "colores_personalizados = px.colors.qualitative.Plotly + px.colors.qualitative.Pastel + px.colors.qualitative.Set1\n",
    "colores_personalizados = colores_personalizados[:30]"
   ]
  },
  {
   "cell_type": "code",
   "execution_count": null,
   "metadata": {},
   "outputs": [],
   "source": [
    "fig_all = px.line(data_frame = df_balance,\n",
    "        x = 'Fecha actualización',\n",
    "        y = 'Valores',\n",
    "        color = 'nombre',\n",
    "        color_discrete_sequence = colores_personalizados,\n",
    ")\n",
    "\n",
    "fig_all.update_layout(title = 'Evolución de energía diaría unificada')\n",
    "\n",
    "fig_all.show()\n"
   ]
  },
  {
   "cell_type": "code",
   "execution_count": null,
   "metadata": {},
   "outputs": [],
   "source": [
    "fig_reno = px.line(data_frame = df_balance[df_balance['tipo de energía'] == 'Renovable'],\n",
    "        x = 'Fecha actualización',\n",
    "        y = 'Valores',\n",
    "        color = 'nombre',\n",
    "        color_discrete_sequence = colores_personalizados\n",
    ")\n",
    "\n",
    "fig_reno.update_layout(title = 'Evolución de energía diaría renovable')\n",
    "\n",
    "fig_reno.show()"
   ]
  },
  {
   "cell_type": "code",
   "execution_count": null,
   "metadata": {},
   "outputs": [],
   "source": [
    "fig_no_reno=px.line(data_frame = df_balance[df_balance['tipo de energía'] == 'No-Renovable'],\n",
    "        x = 'Fecha actualización',\n",
    "        y = 'Valores',\n",
    "        color = 'nombre',\n",
    "        color_discrete_sequence = colores_personalizados\n",
    ")\n",
    "\n",
    "fig_no_reno.update_layout(title = 'Evolución de energía diaría no renovable')\n",
    "\n",
    "fig_no_reno.show()"
   ]
  },
  {
   "cell_type": "code",
   "execution_count": null,
   "metadata": {},
   "outputs": [],
   "source": [
    "\n",
    "fig_dbc = px.line(data_frame = df_balance[df_balance['tipo de energía'] == 'Demanda en b.c.'],\n",
    "        x = 'Fecha actualización',\n",
    "        y = 'Valores',\n",
    "        color = 'nombre',\n",
    "        color_discrete_sequence = colores_personalizados\n",
    ")\n",
    "\n",
    "fig_dbc.update_layout(title = 'Evolución de energía diaría de demanda en barra central')\n",
    "\n",
    "fig_dbc.show()"
   ]
  },
  {
   "cell_type": "code",
   "execution_count": null,
   "metadata": {},
   "outputs": [],
   "source": [
    "px.scatter(data_frame = df_balance,\n",
    "            y = 'Valores',\n",
    "            color = 'nombre',\n",
    "            color_discrete_sequence = colores_personalizados,\n",
    "            opacity     = 0.3,\n",
    "            size        = 'Porcentaje',\n",
    "            size_max    = 30\n",
    "          )"
   ]
  },
  {
   "cell_type": "code",
   "execution_count": null,
   "metadata": {},
   "outputs": [],
   "source": [
    "px.scatter(data_frame = df_balance,\n",
    "            y = 'Valores',\n",
    "            color = 'tipo de energía',\n",
    "            color_discrete_sequence = colores_personalizados,\n",
    "            opacity     = 0.5,\n",
    "            hover_name  = 'nombre',\n",
    "            size        = 'Porcentaje',\n",
    "            size_max    = 30\n",
    "          )"
   ]
  },
  {
   "cell_type": "code",
   "execution_count": null,
   "metadata": {},
   "outputs": [],
   "source": [
    "px.box(data_frame=df_balance,\n",
    "       x = 'Valores',\n",
    "       y = 'nombre',\n",
    "       color = 'nombre',\n",
    "       color_discrete_sequence = colores_personalizados)"
   ]
  },
  {
   "cell_type": "code",
   "execution_count": null,
   "metadata": {},
   "outputs": [],
   "source": [
    "px.box(data_frame=df_balance,\n",
    "       x = 'Valores',\n",
    "       y = 'tipo de energía',\n",
    "       color = 'tipo de energía',\n",
    "       color_discrete_sequence = colores_personalizados)"
   ]
  }
 ],
 "metadata": {
  "kernelspec": {
   "display_name": "base",
   "language": "python",
   "name": "python3"
  },
  "language_info": {
   "codemirror_mode": {
    "name": "ipython",
    "version": 3
   },
   "file_extension": ".py",
   "mimetype": "text/x-python",
   "name": "python",
   "nbconvert_exporter": "python",
   "pygments_lexer": "ipython3",
   "version": "3.11.7"
  }
 },
 "nbformat": 4,
 "nbformat_minor": 2
}
