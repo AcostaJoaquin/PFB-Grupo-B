{
 "cells": [
  {
   "cell_type": "code",
   "execution_count": 77,
   "metadata": {},
   "outputs": [],
   "source": [
    "import pandas as pd\n",
    "import numpy as np\n",
    "\n",
    "import requests\n",
    "\n",
    "from datetime import datetime, timedelta\n",
    "from pprint import pprint\n",
    "\n",
    "import plotly.express as px\n",
    "import plotly.colors as pc"
   ]
  },
  {
   "cell_type": "markdown",
   "metadata": {},
   "source": [
    "### EJEMPLO\n"
   ]
  },
  {
   "cell_type": "code",
   "execution_count": 78,
   "metadata": {},
   "outputs": [],
   "source": [
    "lang    =  \"es\"\n",
    "category = \"balance\"\n",
    "widget   = \"balance-electrico\"\n",
    "query   = \"start_date=2018-01-01T00:00&end_date=2018-12-31T23:59&time_trunc=year\"\n"
   ]
  },
  {
   "cell_type": "code",
   "execution_count": 79,
   "metadata": {},
   "outputs": [],
   "source": [
    "headers = {\n",
    "    'Accept': 'application/json',\n",
    "    'Content-Type': 'application/json',\n",
    "    'Host' : 'apidatos.ree.es'\n",
    "}"
   ]
  },
  {
   "cell_type": "code",
   "execution_count": 80,
   "metadata": {},
   "outputs": [
    {
     "name": "stdout",
     "output_type": "stream",
     "text": [
      "{'data': {'attributes': {'description': 'Balance eléctrico: asignación de '\n",
      "                                        'unidades de producción según '\n",
      "                                        'combustible principal. La producción '\n",
      "                                        'neta de las instalaciones no '\n",
      "                                        'renovables e hidráulicas UGH tiene '\n",
      "                                        'descontados los consumos propios de '\n",
      "                                        'las instalaciones. En dichos tipos de '\n",
      "                                        'producción una generación negativa '\n",
      "                                        'indica que la electricidad horaria '\n",
      "                                        'consumida para los usos de las '\n",
      "                                        'plantas excede la producción horaria '\n",
      "                                        'de las instalaciones.',\n",
      "                         'last-update': '2019-06-12T17:40:40.000+02:00',\n",
      "                         'title': 'Balance de energía eléctrica'},\n",
      "          'id': 'bal1',\n",
      "          'meta': {'cache-control': {'cache': 'HIT',\n",
      "                                     'expireAt': '2024-11-09T09:51:53'}},\n",
      "          'type': 'Balance de energía eléctrica'},\n",
      " 'included': [{'attributes': {'content': [{'attributes': {'color': '#0090d1',\n",
      "                                                          'composite': False,\n",
      "                                                          'description': '10288',\n",
      "                                                          'last-update': '2019-06-12T17:40:36.000+02:00',\n",
      "                                                          'magnitude': None,\n",
      "                                                          'title': 'Hidráulica',\n",
      "                                                          'total': 34117241.3490001,\n",
      "                                                          'type': 'distinct',\n",
      "                                                          'values': [{'datetime': '2018-01-01T00:00:00.000+01:00',\n",
      "                                                                      'percentage': 0.3400014308379199,\n",
      "                                                                      'value': 34117241.3490001}]},\n",
      "                                           'groupId': 'Renovable',\n",
      "                                           'id': '10288',\n",
      "                                           'type': 'Hidráulica'},\n",
      "                                          {'attributes': {'color': '#6fb114',\n",
      "                                                          'composite': False,\n",
      "                                                          'description': '10291',\n",
      "                                                          'last-update': '2019-04-16T08:16:55.000+02:00',\n",
      "                                                          'magnitude': None,\n",
      "                                                          'title': 'Eólica',\n",
      "                                                          'total': 49581488.8660001,\n",
      "                                                          'type': 'distinct',\n",
      "                                                          'values': [{'datetime': '2018-01-01T00:00:00.000+01:00',\n",
      "                                                                      'percentage': 0.49411313725716854,\n",
      "                                                                      'value': 49581488.8660001}]},\n",
      "                                           'groupId': 'Renovable',\n",
      "                                           'id': '10291',\n",
      "                                           'type': 'Eólica'},\n",
      "                                          {'attributes': {'color': '#e48500',\n",
      "                                                          'composite': False,\n",
      "                                                          'description': '1458',\n",
      "                                                          'last-update': '2019-11-11T09:25:06.000+01:00',\n",
      "                                                          'magnitude': None,\n",
      "                                                          'title': 'Solar '\n",
      "                                                                   'fotovoltaica',\n",
      "                                                          'total': 7766178.425,\n",
      "                                                          'type': 'distinct',\n",
      "                                                          'values': [{'datetime': '2018-01-01T00:00:00.000+01:00',\n",
      "                                                                      'percentage': 0.07739523103968578,\n",
      "                                                                      'value': 7766178.425}]},\n",
      "                                           'groupId': 'Renovable',\n",
      "                                           'id': '1458',\n",
      "                                           'type': 'Solar fotovoltaica'},\n",
      "                                          {'attributes': {'color': '#ff0000',\n",
      "                                                          'composite': False,\n",
      "                                                          'description': '1459',\n",
      "                                                          'last-update': '2019-04-16T08:16:57.000+02:00',\n",
      "                                                          'magnitude': None,\n",
      "                                                          'title': 'Solar '\n",
      "                                                                   'térmica',\n",
      "                                                          'total': 4424326.674,\n",
      "                                                          'type': 'distinct',\n",
      "                                                          'values': [{'datetime': '2018-01-01T00:00:00.000+01:00',\n",
      "                                                                      'percentage': 0.04409141361303124,\n",
      "                                                                      'value': 4424326.674}]},\n",
      "                                           'groupId': 'Renovable',\n",
      "                                           'id': '1459',\n",
      "                                           'type': 'Solar térmica'},\n",
      "                                          {'attributes': {'color': '#00FFFF',\n",
      "                                                          'composite': False,\n",
      "                                                          'description': '1455',\n",
      "                                                          'last-update': '2019-04-16T08:16:55.000+02:00',\n",
      "                                                          'magnitude': None,\n",
      "                                                          'title': 'Hidroeólica',\n",
      "                                                          'total': 23655.544,\n",
      "                                                          'type': 'distinct',\n",
      "                                                          'values': [{'datetime': '2018-01-01T00:00:00.000+01:00',\n",
      "                                                                      'percentage': 0.0002357435270036888,\n",
      "                                                                      'value': 23655.544}]},\n",
      "                                           'groupId': 'Renovable',\n",
      "                                           'id': '1455',\n",
      "                                           'type': 'Hidroeólica'},\n",
      "                                          {'attributes': {'color': '#9a5cbc',\n",
      "                                                          'composite': False,\n",
      "                                                          'description': '10292',\n",
      "                                                          'last-update': '2019-04-16T08:16:57.000+02:00',\n",
      "                                                          'magnitude': None,\n",
      "                                                          'title': 'Otras '\n",
      "                                                                   'renovables',\n",
      "                                                          'total': 3557439.11,\n",
      "                                                          'type': 'distinct',\n",
      "                                                          'values': [{'datetime': '2018-01-01T00:00:00.000+01:00',\n",
      "                                                                      'percentage': 0.03545229155974022,\n",
      "                                                                      'value': 3557439.11}]},\n",
      "                                           'groupId': 'Renovable',\n",
      "                                           'id': '10292',\n",
      "                                           'type': 'Otras renovables'},\n",
      "                                          {'attributes': {'color': '#a0a0a0',\n",
      "                                                          'composite': False,\n",
      "                                                          'description': '10295',\n",
      "                                                          'last-update': '2019-04-16T08:16:58.000+02:00',\n",
      "                                                          'magnitude': None,\n",
      "                                                          'title': 'Residuos '\n",
      "                                                                   'renovables',\n",
      "                                                          'total': 874075.245,\n",
      "                                                          'type': 'distinct',\n",
      "                                                          'values': [{'datetime': '2018-01-01T00:00:00.000+01:00',\n",
      "                                                                      'percentage': 0.00871075216545066,\n",
      "                                                                      'value': 874075.245}]},\n",
      "                                           'groupId': 'Renovable',\n",
      "                                           'id': '10295',\n",
      "                                           'type': 'Residuos renovables'},\n",
      "                                          {'attributes': {'color': '#666666',\n",
      "                                                          'composite': True,\n",
      "                                                          'description': None,\n",
      "                                                          'last-update': '2019-06-12T17:40:36.000+02:00',\n",
      "                                                          'magnitude': None,\n",
      "                                                          'title': 'Generación '\n",
      "                                                                   'renovable',\n",
      "                                                          'total': 100344405.2130002,\n",
      "                                                          'type': 'Generación '\n",
      "                                                                  'renovable',\n",
      "                                                          'values': [{'datetime': '2018-01-01T00:00:00.000+01:00',\n",
      "                                                                      'percentage': 1,\n",
      "                                                                      'value': 100344405.2130002}]},\n",
      "                                           'groupId': 'Renovable',\n",
      "                                           'id': 'Renovable',\n",
      "                                           'type': 'Generación renovable'}],\n",
      "                              'description': None,\n",
      "                              'last-update': '2019-06-12T17:40:36.000+02:00',\n",
      "                              'magnitude': None,\n",
      "                              'title': 'Renovable'},\n",
      "               'id': 'Renovable',\n",
      "               'type': 'Renovable'},\n",
      "              {'attributes': {'content': [{'attributes': {'color': '#007cf9',\n",
      "                                                          'composite': False,\n",
      "                                                          'description': '1445',\n",
      "                                                          'last-update': '2019-11-11T09:24:45.000+01:00',\n",
      "                                                          'magnitude': None,\n",
      "                                                          'title': 'Turbinación '\n",
      "                                                                   'bombeo',\n",
      "                                                          'total': 1993996.01,\n",
      "                                                          'type': 'distinct',\n",
      "                                                          'values': [{'datetime': '2018-01-01T00:00:00.000+01:00',\n",
      "                                                                      'percentage': 0.012413017193286132,\n",
      "                                                                      'value': 1993996.01}]},\n",
      "                                           'groupId': 'No-Renovable',\n",
      "                                           'id': '1445',\n",
      "                                           'type': 'Turbinación bombeo'},\n",
      "                                          {'attributes': {'color': '#464394',\n",
      "                                                          'composite': False,\n",
      "                                                          'description': '1446',\n",
      "                                                          'last-update': '2019-04-16T08:16:55.000+02:00',\n",
      "                                                          'magnitude': None,\n",
      "                                                          'title': 'Nuclear',\n",
      "                                                          'total': 53197617.43,\n",
      "                                                          'type': 'distinct',\n",
      "                                                          'values': [{'datetime': '2018-01-01T00:00:00.000+01:00',\n",
      "                                                                      'percentage': 0.33116562745802486,\n",
      "                                                                      'value': 53197617.43}]},\n",
      "                                           'groupId': 'No-Renovable',\n",
      "                                           'id': '1446',\n",
      "                                           'type': 'Nuclear'},\n",
      "                                          {'attributes': {'color': '#ffcc66',\n",
      "                                                          'composite': False,\n",
      "                                                          'description': '1454',\n",
      "                                                          'last-update': '2019-11-11T09:24:47.000+01:00',\n",
      "                                                          'magnitude': None,\n",
      "                                                          'title': 'Ciclo '\n",
      "                                                                   'combinado',\n",
      "                                                          'total': 30044467.195,\n",
      "                                                          'type': 'distinct',\n",
      "                                                          'values': [{'datetime': '2018-01-01T00:00:00.000+01:00',\n",
      "                                                                      'percentage': 0.18703271520320452,\n",
      "                                                                      'value': 30044467.195}]},\n",
      "                                           'groupId': 'No-Renovable',\n",
      "                                           'id': '1454',\n",
      "                                           'type': 'Ciclo combinado'},\n",
      "                                          {'attributes': {'color': '#993300',\n",
      "                                                          'composite': False,\n",
      "                                                          'description': '10289',\n",
      "                                                          'last-update': '2019-04-16T08:16:54.000+02:00',\n",
      "                                                          'magnitude': None,\n",
      "                                                          'title': 'Carbón',\n",
      "                                                          'total': 37276805.7160003,\n",
      "                                                          'type': 'distinct',\n",
      "                                                          'values': [{'datetime': '2018-01-01T00:00:00.000+01:00',\n",
      "                                                                      'percentage': 0.23205544441560771,\n",
      "                                                                      'value': 37276805.7160003}]},\n",
      "                                           'groupId': 'No-Renovable',\n",
      "                                           'id': '10289',\n",
      "                                           'type': 'Carbón'},\n",
      "                                          {'attributes': {'color': '#8DA69F',\n",
      "                                                          'composite': False,\n",
      "                                                          'description': '10344',\n",
      "                                                          'last-update': '2019-04-16T08:16:54.000+02:00',\n",
      "                                                          'magnitude': None,\n",
      "                                                          'title': 'Motores '\n",
      "                                                                   'diésel',\n",
      "                                                          'total': 3178179.141,\n",
      "                                                          'type': 'distinct',\n",
      "                                                          'values': [{'datetime': '2018-01-01T00:00:00.000+01:00',\n",
      "                                                                      'percentage': 0.01978479000094707,\n",
      "                                                                      'value': 3178179.141}]},\n",
      "                                           'groupId': 'No-Renovable',\n",
      "                                           'id': '10344',\n",
      "                                           'type': 'Motores diésel'},\n",
      "                                          {'attributes': {'color': '#00ccff',\n",
      "                                                          'composite': False,\n",
      "                                                          'description': '1450',\n",
      "                                                          'last-update': '2019-11-11T09:24:46.000+01:00',\n",
      "                                                          'magnitude': None,\n",
      "                                                          'title': 'Turbina de '\n",
      "                                                                   'gas',\n",
      "                                                          'total': 1049279.011,\n",
      "                                                          'type': 'distinct',\n",
      "                                                          'values': [{'datetime': '2018-01-01T00:00:00.000+01:00',\n",
      "                                                                      'percentage': 0.006531968137738283,\n",
      "                                                                      'value': 1049279.011}]},\n",
      "                                           'groupId': 'No-Renovable',\n",
      "                                           'id': '1450',\n",
      "                                           'type': 'Turbina de gas'},\n",
      "                                          {'attributes': {'color': '#AF8E00',\n",
      "                                                          'composite': False,\n",
      "                                                          'description': '1451',\n",
      "                                                          'last-update': '2019-07-08T10:37:27.000+02:00',\n",
      "                                                          'magnitude': None,\n",
      "                                                          'title': 'Turbina de '\n",
      "                                                                   'vapor',\n",
      "                                                          'total': 2455432.297,\n",
      "                                                          'type': 'distinct',\n",
      "                                                          'values': [{'datetime': '2018-01-01T00:00:00.000+01:00',\n",
      "                                                                      'percentage': 0.015285548800878021,\n",
      "                                                                      'value': 2455432.297}]},\n",
      "                                           'groupId': 'No-Renovable',\n",
      "                                           'id': '1451',\n",
      "                                           'type': 'Turbina de vapor'},\n",
      "                                          {'attributes': {'color': '#ba0f16',\n",
      "                                                          'composite': False,\n",
      "                                                          'description': '10290',\n",
      "                                                          'last-update': '2019-04-16T08:14:18.000+02:00',\n",
      "                                                          'magnitude': None,\n",
      "                                                          'title': 'Fuel + Gas',\n",
      "                                                          'total': -0.001,\n",
      "                                                          'type': 'distinct',\n",
      "                                                          'values': [{'datetime': '2018-01-01T00:00:00.000+01:00',\n",
      "                                                                      'percentage': 6.225196605727477e-12,\n",
      "                                                                      'value': -0.001}]},\n",
      "                                           'groupId': 'No-Renovable',\n",
      "                                           'id': '10290',\n",
      "                                           'type': 'Fuel + Gas'},\n",
      "                                          {'attributes': {'color': '#cfa2ca',\n",
      "                                                          'composite': False,\n",
      "                                                          'description': '10293',\n",
      "                                                          'last-update': '2019-04-16T08:16:58.000+02:00',\n",
      "                                                          'magnitude': None,\n",
      "                                                          'title': 'Cogeneración',\n",
      "                                                          'total': 29006757.2399999,\n",
      "                                                          'type': 'distinct',\n",
      "                                                          'values': [{'datetime': '2018-01-01T00:00:00.000+01:00',\n",
      "                                                                      'percentage': 0.1805727667136083,\n",
      "                                                                      'value': 29006757.2399999}]},\n",
      "                                           'groupId': 'No-Renovable',\n",
      "                                           'id': '10293',\n",
      "                                           'type': 'Cogeneración'},\n",
      "                                          {'attributes': {'color': '#666666',\n",
      "                                                          'composite': False,\n",
      "                                                          'description': '10294',\n",
      "                                                          'last-update': '2019-04-16T08:16:58.000+02:00',\n",
      "                                                          'magnitude': None,\n",
      "                                                          'title': 'Residuos '\n",
      "                                                                   'no '\n",
      "                                                                   'renovables',\n",
      "                                                          'total': 2434962.786,\n",
      "                                                          'type': 'distinct',\n",
      "                                                          'values': [{'datetime': '2018-01-01T00:00:00.000+01:00',\n",
      "                                                                      'percentage': 0.01515812207047992,\n",
      "                                                                      'value': 2434962.786}]},\n",
      "                                           'groupId': 'No-Renovable',\n",
      "                                           'id': '10294',\n",
      "                                           'type': 'Residuos no renovables'},\n",
      "                                          {'attributes': {'color': '#666666',\n",
      "                                                          'composite': True,\n",
      "                                                          'description': None,\n",
      "                                                          'last-update': '2019-11-11T09:24:45.000+01:00',\n",
      "                                                          'magnitude': None,\n",
      "                                                          'title': 'Generación '\n",
      "                                                                   'no '\n",
      "                                                                   'renovable',\n",
      "                                                          'total': 160637496.8250002,\n",
      "                                                          'type': 'Generación '\n",
      "                                                                  'no '\n",
      "                                                                  'renovable',\n",
      "                                                          'values': [{'datetime': '2018-01-01T00:00:00.000+01:00',\n",
      "                                                                      'percentage': 1,\n",
      "                                                                      'value': 160637496.8250002}]},\n",
      "                                           'groupId': 'No-Renovable',\n",
      "                                           'id': 'No-Renovable',\n",
      "                                           'type': 'Generación no renovable'}],\n",
      "                              'description': None,\n",
      "                              'last-update': '2019-11-11T09:24:45.000+01:00',\n",
      "                              'magnitude': None,\n",
      "                              'title': 'No-Renovable'},\n",
      "               'id': 'No-Renovable',\n",
      "               'type': 'No-Renovable'},\n",
      "              {'attributes': {'content': [{'attributes': {'color': '#4f81bd',\n",
      "                                                          'composite': False,\n",
      "                                                          'description': '1472',\n",
      "                                                          'last-update': '2019-07-08T10:37:33.000+02:00',\n",
      "                                                          'magnitude': None,\n",
      "                                                          'title': 'Consumos '\n",
      "                                                                   'en bombeo',\n",
      "                                                          'total': -3198432.376,\n",
      "                                                          'type': None,\n",
      "                                                          'values': [{'datetime': '2018-01-01T00:00:00.000+01:00',\n",
      "                                                                      'percentage': 0.011618721439898694,\n",
      "                                                                      'value': -3198432.376}]},\n",
      "                                           'groupId': 'Demanda en b.c.',\n",
      "                                           'id': '1472',\n",
      "                                           'type': 'Consumos en bombeo'},\n",
      "                                          {'attributes': {'color': '#00608a',\n",
      "                                                          'composite': False,\n",
      "                                                          'description': '1474',\n",
      "                                                          'last-update': '2019-04-16T08:16:59.000+02:00',\n",
      "                                                          'magnitude': None,\n",
      "                                                          'title': 'Saldo I. '\n",
      "                                                                   'internacionales',\n",
      "                                                          'total': 11102311.146,\n",
      "                                                          'type': None,\n",
      "                                                          'values': [{'datetime': '2018-01-01T00:00:00.000+01:00',\n",
      "                                                                      'percentage': 0.04033058866974664,\n",
      "                                                                      'value': 11102311.146}]},\n",
      "                                           'groupId': 'Demanda en b.c.',\n",
      "                                           'id': '1474',\n",
      "                                           'type': 'Saldo I. internacionales'},\n",
      "                                          {'attributes': {'color': '#666666',\n",
      "                                                          'composite': True,\n",
      "                                                          'description': 'Demanda '\n",
      "                                                                         'corregida: '\n",
      "                                                                         'corregidos '\n",
      "                                                                         'los '\n",
      "                                                                         'efectos '\n",
      "                                                                         'de '\n",
      "                                                                         'temperatura '\n",
      "                                                                         'y '\n",
      "                                                                         'laboralidad.',\n",
      "                                                          'last-update': '2019-07-08T10:37:33.000+02:00',\n",
      "                                                          'magnitude': None,\n",
      "                                                          'title': 'Demanda en '\n",
      "                                                                   'b.c.',\n",
      "                                                          'total': 268885780.8079996,\n",
      "                                                          'type': 'Demanda en '\n",
      "                                                                  'b.c.',\n",
      "                                                          'values': [{'datetime': '2018-01-01T00:00:00.000+01:00',\n",
      "                                                                      'percentage': 1,\n",
      "                                                                      'value': 268885780.8079996}]},\n",
      "                                           'groupId': 'Demanda en b.c.',\n",
      "                                           'id': 'Demanda en b.c.',\n",
      "                                           'type': 'Demanda en b.c.'}],\n",
      "                              'description': 'Demanda corregida: corregidos '\n",
      "                                             'los efectos de temperatura y '\n",
      "                                             'laboralidad.',\n",
      "                              'last-update': '2019-07-08T10:37:33.000+02:00',\n",
      "                              'magnitude': None,\n",
      "                              'title': 'Demanda'},\n",
      "               'id': 'Demanda en b.c.',\n",
      "               'type': 'Demanda'}]}\n"
     ]
    }
   ],
   "source": [
    "endpoint = f\"https://apidatos.ree.es/{lang}/datos/{category}/{widget}?{query}\"\n",
    "response = requests.get(url = endpoint, headers = headers)\n",
    "data = response.json()\n",
    "pprint(data)"
   ]
  },
  {
   "cell_type": "markdown",
   "metadata": {},
   "source": [
    "# OBTENCIÓN DE DATOS DE BALANCE\n",
    "\n",
    "\n"
   ]
  },
  {
   "cell_type": "code",
   "execution_count": 81,
   "metadata": {},
   "outputs": [],
   "source": [
    "lang    =  input('¿En español (es) o en inglés (en)?') \n",
    "\n",
    "restaDia = float(input(\"¿Cuantos días atrás?: ______________\"))\n",
    "input_año = int(input(\"¿Qué año?: ______________\"))"
   ]
  },
  {
   "cell_type": "code",
   "execution_count": 82,
   "metadata": {},
   "outputs": [],
   "source": [
    "headers = {\n",
    "    'Accept': 'application/json',\n",
    "    'Content-Type': 'application/json',\n",
    "    'Host' : 'apidatos.ree.es'\n",
    "}"
   ]
  },
  {
   "cell_type": "code",
   "execution_count": 83,
   "metadata": {},
   "outputs": [
    {
     "data": {
      "text/html": [
       "<div>\n",
       "<style scoped>\n",
       "    .dataframe tbody tr th:only-of-type {\n",
       "        vertical-align: middle;\n",
       "    }\n",
       "\n",
       "    .dataframe tbody tr th {\n",
       "        vertical-align: top;\n",
       "    }\n",
       "\n",
       "    .dataframe thead th {\n",
       "        text-align: right;\n",
       "    }\n",
       "</style>\n",
       "<table border=\"1\" class=\"dataframe\">\n",
       "  <thead>\n",
       "    <tr style=\"text-align: right;\">\n",
       "      <th></th>\n",
       "      <th>nombre</th>\n",
       "      <th>tipo de energía</th>\n",
       "      <th>Valores</th>\n",
       "      <th>Porcentaje</th>\n",
       "      <th>Fecha actualización</th>\n",
       "    </tr>\n",
       "  </thead>\n",
       "  <tbody>\n",
       "    <tr>\n",
       "      <th>0</th>\n",
       "      <td>Hidráulica</td>\n",
       "      <td>Renovable</td>\n",
       "      <td>23389.362</td>\n",
       "      <td>0.064915</td>\n",
       "      <td>30/09/2022</td>\n",
       "    </tr>\n",
       "    <tr>\n",
       "      <th>1</th>\n",
       "      <td>Hidráulica</td>\n",
       "      <td>Renovable</td>\n",
       "      <td>18682.792</td>\n",
       "      <td>0.081283</td>\n",
       "      <td>01/10/2022</td>\n",
       "    </tr>\n",
       "    <tr>\n",
       "      <th>2</th>\n",
       "      <td>Hidráulica</td>\n",
       "      <td>Renovable</td>\n",
       "      <td>15426.459</td>\n",
       "      <td>0.067843</td>\n",
       "      <td>02/10/2022</td>\n",
       "    </tr>\n",
       "    <tr>\n",
       "      <th>3</th>\n",
       "      <td>Hidráulica</td>\n",
       "      <td>Renovable</td>\n",
       "      <td>28347.218</td>\n",
       "      <td>0.174671</td>\n",
       "      <td>03/10/2022</td>\n",
       "    </tr>\n",
       "    <tr>\n",
       "      <th>4</th>\n",
       "      <td>Hidráulica</td>\n",
       "      <td>Renovable</td>\n",
       "      <td>23889.363</td>\n",
       "      <td>0.131823</td>\n",
       "      <td>04/10/2022</td>\n",
       "    </tr>\n",
       "    <tr>\n",
       "      <th>...</th>\n",
       "      <td>...</td>\n",
       "      <td>...</td>\n",
       "      <td>...</td>\n",
       "      <td>...</td>\n",
       "      <td>...</td>\n",
       "    </tr>\n",
       "    <tr>\n",
       "      <th>226</th>\n",
       "      <td>Demanda en b.c.</td>\n",
       "      <td>Demanda en b.c.</td>\n",
       "      <td>675127.531</td>\n",
       "      <td>1.000000</td>\n",
       "      <td>06/10/2022</td>\n",
       "    </tr>\n",
       "    <tr>\n",
       "      <th>227</th>\n",
       "      <td>Demanda en b.c.</td>\n",
       "      <td>Demanda en b.c.</td>\n",
       "      <td>666351.834</td>\n",
       "      <td>1.000000</td>\n",
       "      <td>07/10/2022</td>\n",
       "    </tr>\n",
       "    <tr>\n",
       "      <th>228</th>\n",
       "      <td>Demanda en b.c.</td>\n",
       "      <td>Demanda en b.c.</td>\n",
       "      <td>589542.598</td>\n",
       "      <td>1.000000</td>\n",
       "      <td>08/10/2022</td>\n",
       "    </tr>\n",
       "    <tr>\n",
       "      <th>229</th>\n",
       "      <td>Demanda en b.c.</td>\n",
       "      <td>Demanda en b.c.</td>\n",
       "      <td>540796.450</td>\n",
       "      <td>1.000000</td>\n",
       "      <td>09/10/2022</td>\n",
       "    </tr>\n",
       "    <tr>\n",
       "      <th>230</th>\n",
       "      <td>Demanda en b.c.</td>\n",
       "      <td>Demanda en b.c.</td>\n",
       "      <td>644622.826</td>\n",
       "      <td>1.000000</td>\n",
       "      <td>10/10/2022</td>\n",
       "    </tr>\n",
       "  </tbody>\n",
       "</table>\n",
       "<p>231 rows × 5 columns</p>\n",
       "</div>"
      ],
      "text/plain": [
       "              nombre  tipo de energía     Valores  Porcentaje  \\\n",
       "0         Hidráulica        Renovable   23389.362    0.064915   \n",
       "1         Hidráulica        Renovable   18682.792    0.081283   \n",
       "2         Hidráulica        Renovable   15426.459    0.067843   \n",
       "3         Hidráulica        Renovable   28347.218    0.174671   \n",
       "4         Hidráulica        Renovable   23889.363    0.131823   \n",
       "..               ...              ...         ...         ...   \n",
       "226  Demanda en b.c.  Demanda en b.c.  675127.531    1.000000   \n",
       "227  Demanda en b.c.  Demanda en b.c.  666351.834    1.000000   \n",
       "228  Demanda en b.c.  Demanda en b.c.  589542.598    1.000000   \n",
       "229  Demanda en b.c.  Demanda en b.c.  540796.450    1.000000   \n",
       "230  Demanda en b.c.  Demanda en b.c.  644622.826    1.000000   \n",
       "\n",
       "    Fecha actualización  \n",
       "0            30/09/2022  \n",
       "1            01/10/2022  \n",
       "2            02/10/2022  \n",
       "3            03/10/2022  \n",
       "4            04/10/2022  \n",
       "..                  ...  \n",
       "226          06/10/2022  \n",
       "227          07/10/2022  \n",
       "228          08/10/2022  \n",
       "229          09/10/2022  \n",
       "230          10/10/2022  \n",
       "\n",
       "[231 rows x 5 columns]"
      ]
     },
     "execution_count": 83,
     "metadata": {},
     "output_type": "execute_result"
    }
   ],
   "source": [
    "def balance_datos(lang, category, widget):\n",
    "\n",
    "    now = datetime.now()\n",
    "    ultima_fecha = (now - timedelta(days = restaDia)).replace(year = input_año).strftime('%Y-%m-%d')\n",
    "\n",
    "\n",
    "    hoy = now.replace(year = input_año).strftime('%Y-%m-%d')\n",
    "\n",
    "    query = f\"start_date={ultima_fecha}T00:00&end_date={hoy}T23:59&time_trunc=day\"\n",
    "\n",
    "\n",
    "\n",
    "    endpoint = f\"https://apidatos.ree.es/{lang}/datos/balance/balance-electrico?{query}\"\n",
    "    response = requests.get(url = endpoint, headers = headers)\n",
    "    data = response.json()\n",
    "\n",
    "\n",
    "\n",
    "    lista_nombres = list()\n",
    "    lista_tipos = list()\n",
    "    lista_valores = list()\n",
    "    lista_porcentajes = list()\n",
    "    lista_fechas = list()\n",
    "    lista_dias = list()\n",
    "    lista_meses = list()\n",
    "    lista_años = list()\n",
    "\n",
    "\n",
    "    for dato in data['included']: \n",
    "        for info in dato['attributes']['content']:\n",
    "            nombre = info['type']\n",
    "\n",
    "            tipo = info['groupId']\n",
    "\n",
    "\n",
    "            for i in info['attributes']['values']:\n",
    "                valor = i['value']\n",
    "\n",
    "                porcentaje = i['percentage']\n",
    "\n",
    "                fecha = i['datetime']\n",
    "                fecha = pd.to_datetime(fecha)\n",
    "                dia = fecha.strftime('%d')\n",
    "                mes = fecha.strftime('%m')\n",
    "                año = fecha.strftime('%Y')\n",
    "\n",
    "                fecha = fecha.strftime(\"%d/%m/%Y\")\n",
    "\n",
    "        \n",
    "            \n",
    "            \n",
    "                lista_nombres.append(nombre)\n",
    "                lista_tipos.append(tipo)\n",
    "                lista_valores.append(valor)\n",
    "                lista_porcentajes.append(porcentaje)\n",
    "                lista_fechas.append(fecha)\n",
    "                lista_dias.append(dia)\n",
    "                lista_meses.append(mes)\n",
    "                lista_años.append(año)\n",
    "\n",
    "    df_balance = pd.DataFrame()\n",
    "    df_balance['nombre']               = lista_nombres\n",
    "    df_balance['tipo de energía']      = lista_tipos\n",
    "    df_balance['Valores']              = lista_valores\n",
    "    df_balance[\"Porcentaje\"]           = lista_porcentajes\n",
    "    df_balance[\"Fecha actualización\"]  = lista_fechas\n",
    "               \n",
    "\n",
    "\n",
    "\n",
    "\n",
    "    return df_balance\n",
    "\n",
    "df_balance  = balance_datos(lang, category, widget)\n",
    "\n",
    "df_balance\n"
   ]
  },
  {
   "cell_type": "code",
   "execution_count": 84,
   "metadata": {},
   "outputs": [],
   "source": [
    "df_balance.to_csv('balance_electrico.csv')"
   ]
  },
  {
   "cell_type": "code",
   "execution_count": 85,
   "metadata": {},
   "outputs": [],
   "source": [
    "colores_personalizados = px.colors.qualitative.Plotly + px.colors.qualitative.Pastel + px.colors.qualitative.Set1\n",
    "colores_personalizados = colores_personalizados[:30]"
   ]
  },
  {
   "cell_type": "code",
   "execution_count": 86,
   "metadata": {},
   "outputs": [
    {
     "name": "stderr",
     "output_type": "stream",
     "text": [
      "/opt/anaconda3/lib/python3.11/site-packages/plotly/express/_core.py:1979: FutureWarning:\n",
      "\n",
      "When grouping with a length-1 list-like, you will need to pass a length-1 tuple to get_group in a future version of pandas. Pass `(name,)` instead of `name` to silence this warning.\n",
      "\n"
     ]
    },
    {
     "data": {
      "application/vnd.plotly.v1+json": {
       "config": {
        "plotlyServerURL": "https://plot.ly"
       },
       "data": [
        {
         "alignmentgroup": "True",
         "boxpoints": "all",
         "customdata": [
          [
           "Hidráulica",
           "Renovable",
           0.06491453361249602
          ],
          [
           "Hidráulica",
           "Renovable",
           0.08128316353992167
          ],
          [
           "Hidráulica",
           "Renovable",
           0.06784309093530404
          ],
          [
           "Hidráulica",
           "Renovable",
           0.17467146718359708
          ],
          [
           "Hidráulica",
           "Renovable",
           0.1318231646349135
          ],
          [
           "Hidráulica",
           "Renovable",
           0.0762049250146325
          ],
          [
           "Hidráulica",
           "Renovable",
           0.05983657124938433
          ],
          [
           "Hidráulica",
           "Renovable",
           0.10177206461825768
          ],
          [
           "Hidráulica",
           "Renovable",
           0.05140099431864716
          ],
          [
           "Hidráulica",
           "Renovable",
           0.05909455608606358
          ],
          [
           "Hidráulica",
           "Renovable",
           0.15384859515665653
          ]
         ],
         "fillcolor": "rgba(255,255,255,0)",
         "hoveron": "points",
         "hovertemplate": "nombre=%{customdata[0]}<br>Fecha actualización=%{x}<br>Valores=%{y}<br>tipo de energía=%{customdata[1]}<br>Porcentaje=%{customdata[2]}<extra></extra>",
         "legendgroup": "Hidráulica",
         "line": {
          "color": "rgba(255,255,255,0)"
         },
         "marker": {
          "color": "#636EFA"
         },
         "name": "Hidráulica",
         "offsetgroup": "Hidráulica",
         "orientation": "v",
         "pointpos": 0,
         "showlegend": true,
         "type": "box",
         "x": [
          "30/09/2022",
          "01/10/2022",
          "02/10/2022",
          "03/10/2022",
          "04/10/2022",
          "05/10/2022",
          "06/10/2022",
          "07/10/2022",
          "08/10/2022",
          "09/10/2022",
          "10/10/2022"
         ],
         "x0": " ",
         "xaxis": "x",
         "y": [
          23389.362,
          18682.792,
          15426.459,
          28347.218,
          23889.363,
          16700.245,
          17394.309,
          21798.945,
          13744.212,
          12758.185,
          22934.016
         ],
         "y0": " ",
         "yaxis": "y"
        },
        {
         "alignmentgroup": "True",
         "boxpoints": "all",
         "customdata": [
          [
           "Eólica",
           "Renovable",
           0.562433947434865
          ],
          [
           "Eólica",
           "Renovable",
           0.32436512163140824
          ],
          [
           "Eólica",
           "Renovable",
           0.38217338392124145
          ],
          [
           "Eólica",
           "Renovable",
           0.27033229301182865
          ],
          [
           "Eólica",
           "Renovable",
           0.273735010164284
          ],
          [
           "Eólica",
           "Renovable",
           0.4387996821671538
          ],
          [
           "Eólica",
           "Renovable",
           0.5867894577251056
          ],
          [
           "Eólica",
           "Renovable",
           0.40440125723061604
          ],
          [
           "Eólica",
           "Renovable",
           0.5302934252904279
          ],
          [
           "Eólica",
           "Renovable",
           0.47615089489470674
          ],
          [
           "Eólica",
           "Renovable",
           0.38495424042244775
          ]
         ],
         "fillcolor": "rgba(255,255,255,0)",
         "hoveron": "points",
         "hovertemplate": "nombre=%{customdata[0]}<br>Fecha actualización=%{x}<br>Valores=%{y}<br>tipo de energía=%{customdata[1]}<br>Porcentaje=%{customdata[2]}<extra></extra>",
         "legendgroup": "Eólica",
         "line": {
          "color": "rgba(255,255,255,0)"
         },
         "marker": {
          "color": "#EF553B"
         },
         "name": "Eólica",
         "offsetgroup": "Eólica",
         "orientation": "v",
         "pointpos": 0,
         "showlegend": true,
         "type": "box",
         "x": [
          "30/09/2022",
          "01/10/2022",
          "02/10/2022",
          "03/10/2022",
          "04/10/2022",
          "05/10/2022",
          "06/10/2022",
          "07/10/2022",
          "08/10/2022",
          "09/10/2022",
          "10/10/2022"
         ],
         "x0": " ",
         "xaxis": "x",
         "y": [
          202650.631,
          74554.752,
          86900.257,
          43871.896,
          49607.025,
          96162.58,
          170577.908,
          86620.241,
          141796.192,
          102798.322,
          57384.643
         ],
         "y0": " ",
         "yaxis": "y"
        },
        {
         "alignmentgroup": "True",
         "boxpoints": "all",
         "customdata": [
          [
           "Solar fotovoltaica",
           "Renovable",
           0.28604166363658
          ],
          [
           "Solar fotovoltaica",
           "Renovable",
           0.44914946248511395
          ],
          [
           "Solar fotovoltaica",
           "Renovable",
           0.42737316463176983
          ],
          [
           "Solar fotovoltaica",
           "Renovable",
           0.45711709970571135
          ],
          [
           "Solar fotovoltaica",
           "Renovable",
           0.47613308038502883
          ],
          [
           "Solar fotovoltaica",
           "Renovable",
           0.3865565788444104
          ],
          [
           "Solar fotovoltaica",
           "Renovable",
           0.2762746664349293
          ],
          [
           "Solar fotovoltaica",
           "Renovable",
           0.3843938664937298
          ],
          [
           "Solar fotovoltaica",
           "Renovable",
           0.3230159907432964
          ],
          [
           "Solar fotovoltaica",
           "Renovable",
           0.3673047383486933
          ],
          [
           "Solar fotovoltaica",
           "Renovable",
           0.3510332785166757
          ]
         ],
         "fillcolor": "rgba(255,255,255,0)",
         "hoveron": "points",
         "hovertemplate": "nombre=%{customdata[0]}<br>Fecha actualización=%{x}<br>Valores=%{y}<br>tipo de energía=%{customdata[1]}<br>Porcentaje=%{customdata[2]}<extra></extra>",
         "legendgroup": "Solar fotovoltaica",
         "line": {
          "color": "rgba(255,255,255,0)"
         },
         "marker": {
          "color": "#00CC96"
         },
         "name": "Solar fotovoltaica",
         "offsetgroup": "Solar fotovoltaica",
         "orientation": "v",
         "pointpos": 0,
         "showlegend": true,
         "type": "box",
         "x": [
          "30/09/2022",
          "01/10/2022",
          "02/10/2022",
          "03/10/2022",
          "04/10/2022",
          "05/10/2022",
          "06/10/2022",
          "07/10/2022",
          "08/10/2022",
          "09/10/2022",
          "10/10/2022"
         ],
         "x0": " ",
         "xaxis": "x",
         "y": [
          103063.7,
          103236.213,
          97177.981,
          74184.973,
          86286.17,
          84713.548,
          80312.204,
          82334.782,
          86371.875,
          79299.044,
          52328.088
         ],
         "y0": " ",
         "yaxis": "y"
        },
        {
         "alignmentgroup": "True",
         "boxpoints": "all",
         "customdata": [
          [
           "Solar térmica",
           "Renovable",
           0.05011348578674378
          ],
          [
           "Solar térmica",
           "Renovable",
           0.07983082698319041
          ],
          [
           "Solar térmica",
           "Renovable",
           0.05782603952199838
          ],
          [
           "Solar térmica",
           "Renovable",
           0.010402654317938107
          ],
          [
           "Solar térmica",
           "Renovable",
           0.03920110493823073
          ],
          [
           "Solar térmica",
           "Renovable",
           0.030985353190226297
          ],
          [
           "Solar térmica",
           "Renovable",
           0.029125740340574736
          ],
          [
           "Solar térmica",
           "Renovable",
           0.04297574489756175
          ],
          [
           "Solar térmica",
           "Renovable",
           0.041812182766251434
          ],
          [
           "Solar térmica",
           "Renovable",
           0.03683105818461364
          ],
          [
           "Solar térmica",
           "Renovable",
           0.01063632131025245
          ]
         ],
         "fillcolor": "rgba(255,255,255,0)",
         "hoveron": "points",
         "hovertemplate": "nombre=%{customdata[0]}<br>Fecha actualización=%{x}<br>Valores=%{y}<br>tipo de energía=%{customdata[1]}<br>Porcentaje=%{customdata[2]}<extra></extra>",
         "legendgroup": "Solar térmica",
         "line": {
          "color": "rgba(255,255,255,0)"
         },
         "marker": {
          "color": "#AB63FA"
         },
         "name": "Solar térmica",
         "offsetgroup": "Solar térmica",
         "orientation": "v",
         "pointpos": 0,
         "showlegend": true,
         "type": "box",
         "x": [
          "30/09/2022",
          "01/10/2022",
          "02/10/2022",
          "03/10/2022",
          "04/10/2022",
          "05/10/2022",
          "06/10/2022",
          "07/10/2022",
          "08/10/2022",
          "09/10/2022",
          "10/10/2022"
         ],
         "x0": " ",
         "xaxis": "x",
         "y": [
          18056.395,
          18348.975,
          13148.738,
          1688.234,
          7104.134,
          6790.414,
          8466.764,
          9205.138,
          11180.241,
          7951.62,
          1585.543
         ],
         "y0": " ",
         "yaxis": "y"
        },
        {
         "alignmentgroup": "True",
         "boxpoints": "all",
         "customdata": [
          [
           "Hidroeólica",
           "Renovable",
           0.00029154331348833957
          ],
          [
           "Hidroeólica",
           "Renovable",
           0.0003814255892558742
          ],
          [
           "Hidroeólica",
           "Renovable",
           0.00012906339618692583
          ],
          [
           "Hidroeólica",
           "Renovable",
           0.00004224568276896666
          ],
          [
           "Hidroeólica",
           "Renovable",
           0.000032275188331711024
          ],
          [
           "Hidroeólica",
           "Renovable",
           0.0003704006964097092
          ],
          [
           "Hidroeólica",
           "Renovable",
           0.0004019615561572069
          ],
          [
           "Hidroeólica",
           "Renovable",
           0.0005364441050166263
          ],
          [
           "Hidroeólica",
           "Renovable",
           0.00041141852184718735
          ],
          [
           "Hidroeólica",
           "Renovable",
           0.0004231049573460147
          ],
          [
           "Hidroeólica",
           "Renovable",
           0.0006396713419561138
          ]
         ],
         "fillcolor": "rgba(255,255,255,0)",
         "hoveron": "points",
         "hovertemplate": "nombre=%{customdata[0]}<br>Fecha actualización=%{x}<br>Valores=%{y}<br>tipo de energía=%{customdata[1]}<br>Porcentaje=%{customdata[2]}<extra></extra>",
         "legendgroup": "Hidroeólica",
         "line": {
          "color": "rgba(255,255,255,0)"
         },
         "marker": {
          "color": "#FFA15A"
         },
         "name": "Hidroeólica",
         "offsetgroup": "Hidroeólica",
         "orientation": "v",
         "pointpos": 0,
         "showlegend": true,
         "type": "box",
         "x": [
          "30/09/2022",
          "01/10/2022",
          "02/10/2022",
          "03/10/2022",
          "04/10/2022",
          "05/10/2022",
          "06/10/2022",
          "07/10/2022",
          "08/10/2022",
          "09/10/2022",
          "10/10/2022"
         ],
         "x0": " ",
         "xaxis": "x",
         "y": [
          105.046,
          87.67,
          29.347,
          6.856,
          5.849,
          81.173,
          116.849,
          114.903,
          110.01,
          91.346,
          95.355
         ],
         "y0": " ",
         "yaxis": "y"
        },
        {
         "alignmentgroup": "True",
         "boxpoints": "all",
         "customdata": [
          [
           "Otras renovables",
           "Renovable",
           0.02992301921285174
          ],
          [
           "Otras renovables",
           "Renovable",
           0.054207328514707484
          ],
          [
           "Otras renovables",
           "Renovable",
           0.054511612170893314
          ],
          [
           "Otras renovables",
           "Renovable",
           0.0743147404112629
          ],
          [
           "Otras renovables",
           "Renovable",
           0.06519605149020985
          ],
          [
           "Otras renovables",
           "Renovable",
           0.056040571746486675
          ],
          [
           "Otras renovables",
           "Renovable",
           0.03954492760182138
          ],
          [
           "Otras renovables",
           "Renovable",
           0.0548654729369556
          ],
          [
           "Otras renovables",
           "Renovable",
           0.04417389187800075
          ],
          [
           "Otras renovables",
           "Renovable",
           0.049178950184222345
          ],
          [
           "Otras renovables",
           "Renovable",
           0.0838050963985316
          ]
         ],
         "fillcolor": "rgba(255,255,255,0)",
         "hoveron": "points",
         "hovertemplate": "nombre=%{customdata[0]}<br>Fecha actualización=%{x}<br>Valores=%{y}<br>tipo de energía=%{customdata[1]}<br>Porcentaje=%{customdata[2]}<extra></extra>",
         "legendgroup": "Otras renovables",
         "line": {
          "color": "rgba(255,255,255,0)"
         },
         "marker": {
          "color": "#19D3F3"
         },
         "name": "Otras renovables",
         "offsetgroup": "Otras renovables",
         "orientation": "v",
         "pointpos": 0,
         "showlegend": true,
         "type": "box",
         "x": [
          "30/09/2022",
          "01/10/2022",
          "02/10/2022",
          "03/10/2022",
          "04/10/2022",
          "05/10/2022",
          "06/10/2022",
          "07/10/2022",
          "08/10/2022",
          "09/10/2022",
          "10/10/2022"
         ],
         "x0": " ",
         "xaxis": "x",
         "y": [
          10781.566,
          12459.459,
          12395.089,
          12060.448,
          11815.011,
          12281.244,
          11495.59,
          11751.844,
          11811.743,
          10617.461,
          12492.72
         ],
         "y0": " ",
         "yaxis": "y"
        },
        {
         "alignmentgroup": "True",
         "boxpoints": "all",
         "customdata": [
          [
           "Residuos renovables",
           "Renovable",
           0.0062818070029752445
          ],
          [
           "Residuos renovables",
           "Renovable",
           0.010782671256402362
          ],
          [
           "Residuos renovables",
           "Renovable",
           0.010143645422606045
          ],
          [
           "Residuos renovables",
           "Renovable",
           0.013119499686893006
          ],
          [
           "Residuos renovables",
           "Renovable",
           0.013879313199001451
          ],
          [
           "Residuos renovables",
           "Renovable",
           0.01104248834068063
          ],
          [
           "Residuos renovables",
           "Renovable",
           0.008026675092027279
          ],
          [
           "Residuos renovables",
           "Renovable",
           0.011055149717862395
          ],
          [
           "Residuos renovables",
           "Renovable",
           0.008892096481529055
          ],
          [
           "Residuos renovables",
           "Renovable",
           0.011016697344354495
          ],
          [
           "Residuos renovables",
           "Renovable",
           0.015082796853479779
          ]
         ],
         "fillcolor": "rgba(255,255,255,0)",
         "hoveron": "points",
         "hovertemplate": "nombre=%{customdata[0]}<br>Fecha actualización=%{x}<br>Valores=%{y}<br>tipo de energía=%{customdata[1]}<br>Porcentaje=%{customdata[2]}<extra></extra>",
         "legendgroup": "Residuos renovables",
         "line": {
          "color": "rgba(255,255,255,0)"
         },
         "marker": {
          "color": "#FF6692"
         },
         "name": "Residuos renovables",
         "offsetgroup": "Residuos renovables",
         "orientation": "v",
         "pointpos": 0,
         "showlegend": true,
         "type": "box",
         "x": [
          "30/09/2022",
          "01/10/2022",
          "02/10/2022",
          "03/10/2022",
          "04/10/2022",
          "05/10/2022",
          "06/10/2022",
          "07/10/2022",
          "08/10/2022",
          "09/10/2022",
          "10/10/2022"
         ],
         "x0": " ",
         "xaxis": "x",
         "y": [
          2263.3985,
          2478.378,
          2306.5065,
          2129.1475,
          2515.248,
          2419.952,
          2333.33,
          2367.9445,
          2377.675,
          2378.4435,
          2248.3735
         ],
         "y0": " ",
         "yaxis": "y"
        },
        {
         "alignmentgroup": "True",
         "boxpoints": "all",
         "customdata": [
          [
           "Generación renovable",
           "Renovable",
           1
          ],
          [
           "Generación renovable",
           "Renovable",
           1
          ],
          [
           "Generación renovable",
           "Renovable",
           1
          ],
          [
           "Generación renovable",
           "Renovable",
           1
          ],
          [
           "Generación renovable",
           "Renovable",
           1
          ],
          [
           "Generación renovable",
           "Renovable",
           1
          ],
          [
           "Generación renovable",
           "Renovable",
           1
          ],
          [
           "Generación renovable",
           "Renovable",
           1
          ],
          [
           "Generación renovable",
           "Renovable",
           1
          ],
          [
           "Generación renovable",
           "Renovable",
           1
          ],
          [
           "Generación renovable",
           "Renovable",
           1
          ]
         ],
         "fillcolor": "rgba(255,255,255,0)",
         "hoveron": "points",
         "hovertemplate": "nombre=%{customdata[0]}<br>Fecha actualización=%{x}<br>Valores=%{y}<br>tipo de energía=%{customdata[1]}<br>Porcentaje=%{customdata[2]}<extra></extra>",
         "legendgroup": "Generación renovable",
         "line": {
          "color": "rgba(255,255,255,0)"
         },
         "marker": {
          "color": "#B6E880"
         },
         "name": "Generación renovable",
         "offsetgroup": "Generación renovable",
         "orientation": "v",
         "pointpos": 0,
         "showlegend": true,
         "type": "box",
         "x": [
          "30/09/2022",
          "01/10/2022",
          "02/10/2022",
          "03/10/2022",
          "04/10/2022",
          "05/10/2022",
          "06/10/2022",
          "07/10/2022",
          "08/10/2022",
          "09/10/2022",
          "10/10/2022"
         ],
         "x0": " ",
         "xaxis": "x",
         "y": [
          360310.09849999996,
          229848.239,
          227384.3775,
          162288.7725,
          181222.8,
          219149.156,
          290696.954,
          214193.79750000002,
          267391.94800000003,
          215894.42149999997,
          149068.7385
         ],
         "y0": " ",
         "yaxis": "y"
        },
        {
         "alignmentgroup": "True",
         "boxpoints": "all",
         "customdata": [
          [
           "Turbinación bombeo",
           "No-Renovable",
           0.023346349993948537
          ],
          [
           "Turbinación bombeo",
           "No-Renovable",
           0.037636129403527625
          ],
          [
           "Turbinación bombeo",
           "No-Renovable",
           0.032554259594041624
          ],
          [
           "Turbinación bombeo",
           "No-Renovable",
           0.026629553692672007
          ],
          [
           "Turbinación bombeo",
           "No-Renovable",
           0.023761150069993492
          ],
          [
           "Turbinación bombeo",
           "No-Renovable",
           0.019180066772581397
          ],
          [
           "Turbinación bombeo",
           "No-Renovable",
           0.03239608753167684
          ],
          [
           "Turbinación bombeo",
           "No-Renovable",
           0.02297072992836087
          ],
          [
           "Turbinación bombeo",
           "No-Renovable",
           0.014787590933325583
          ],
          [
           "Turbinación bombeo",
           "No-Renovable",
           0.02138504501938503
          ],
          [
           "Turbinación bombeo",
           "No-Renovable",
           0.03376932301215799
          ]
         ],
         "fillcolor": "rgba(255,255,255,0)",
         "hoveron": "points",
         "hovertemplate": "nombre=%{customdata[0]}<br>Fecha actualización=%{x}<br>Valores=%{y}<br>tipo de energía=%{customdata[1]}<br>Porcentaje=%{customdata[2]}<extra></extra>",
         "legendgroup": "Turbinación bombeo",
         "line": {
          "color": "rgba(255,255,255,0)"
         },
         "marker": {
          "color": "#FF97FF"
         },
         "name": "Turbinación bombeo",
         "offsetgroup": "Turbinación bombeo",
         "orientation": "v",
         "pointpos": 0,
         "showlegend": true,
         "type": "box",
         "x": [
          "30/09/2022",
          "01/10/2022",
          "02/10/2022",
          "03/10/2022",
          "04/10/2022",
          "05/10/2022",
          "06/10/2022",
          "07/10/2022",
          "08/10/2022",
          "09/10/2022",
          "10/10/2022"
         ],
         "x0": " ",
         "xaxis": "x",
         "y": [
          9634.798,
          16706.013,
          14120.401,
          15405.511,
          14186.13,
          10851.402,
          16316.221,
          13065.379,
          6994.752,
          9756.857,
          20140.887
         ],
         "y0": " ",
         "yaxis": "y"
        },
        {
         "alignmentgroup": "True",
         "boxpoints": "all",
         "customdata": [
          [
           "Nuclear",
           "No-Renovable",
           0.34909498496863955
          ],
          [
           "Nuclear",
           "No-Renovable",
           0.32483229367530475
          ],
          [
           "Nuclear",
           "No-Renovable",
           0.3320258370056978
          ],
          [
           "Nuclear",
           "No-Renovable",
           0.24831557519219719
          ],
          [
           "Nuclear",
           "No-Renovable",
           0.2407267203936308
          ],
          [
           "Nuclear",
           "No-Renovable",
           0.2530418174409575
          ],
          [
           "Nuclear",
           "No-Renovable",
           0.2844271324907338
          ],
          [
           "Nuclear",
           "No-Renovable",
           0.2518623800988283
          ],
          [
           "Nuclear",
           "No-Renovable",
           0.3024476531480996
          ],
          [
           "Nuclear",
           "No-Renovable",
           0.3132808337358924
          ],
          [
           "Nuclear",
           "No-Renovable",
           0.239168543934365
          ]
         ],
         "fillcolor": "rgba(255,255,255,0)",
         "hoveron": "points",
         "hovertemplate": "nombre=%{customdata[0]}<br>Fecha actualización=%{x}<br>Valores=%{y}<br>tipo de energía=%{customdata[1]}<br>Porcentaje=%{customdata[2]}<extra></extra>",
         "legendgroup": "Nuclear",
         "line": {
          "color": "rgba(255,255,255,0)"
         },
         "marker": {
          "color": "#FECB52"
         },
         "name": "Nuclear",
         "offsetgroup": "Nuclear",
         "orientation": "v",
         "pointpos": 0,
         "showlegend": true,
         "type": "box",
         "x": [
          "30/09/2022",
          "01/10/2022",
          "02/10/2022",
          "03/10/2022",
          "04/10/2022",
          "05/10/2022",
          "06/10/2022",
          "07/10/2022",
          "08/10/2022",
          "09/10/2022",
          "10/10/2022"
         ],
         "x0": " ",
         "xaxis": "x",
         "y": [
          144067.902,
          144187.317,
          144016.114,
          143653.49,
          143721.181,
          143162.092,
          143251.124,
          143255.241,
          143062.27,
          142933.358,
          142646.23
         ],
         "y0": " ",
         "yaxis": "y"
        },
        {
         "alignmentgroup": "True",
         "boxpoints": "all",
         "customdata": [
          [
           "Ciclo combinado",
           "No-Renovable",
           0.4527761521448709
          ],
          [
           "Ciclo combinado",
           "No-Renovable",
           0.4837641331232521
          ],
          [
           "Ciclo combinado",
           "No-Renovable",
           0.46628005608132717
          ],
          [
           "Ciclo combinado",
           "No-Renovable",
           0.5930923498701989
          ],
          [
           "Ciclo combinado",
           "No-Renovable",
           0.6249691537924836
          ],
          [
           "Ciclo combinado",
           "No-Renovable",
           0.6050278692077421
          ],
          [
           "Ciclo combinado",
           "No-Renovable",
           0.5279208339613679
          ],
          [
           "Ciclo combinado",
           "No-Renovable",
           0.5819304829969246
          ],
          [
           "Ciclo combinado",
           "No-Renovable",
           0.5376909861826829
          ],
          [
           "Ciclo combinado",
           "No-Renovable",
           0.5195452329553266
          ],
          [
           "Ciclo combinado",
           "No-Renovable",
           0.5921624029826416
          ]
         ],
         "fillcolor": "rgba(255,255,255,0)",
         "hoveron": "points",
         "hovertemplate": "nombre=%{customdata[0]}<br>Fecha actualización=%{x}<br>Valores=%{y}<br>tipo de energía=%{customdata[1]}<br>Porcentaje=%{customdata[2]}<extra></extra>",
         "legendgroup": "Ciclo combinado",
         "line": {
          "color": "rgba(255,255,255,0)"
         },
         "marker": {
          "color": "rgb(102, 197, 204)"
         },
         "name": "Ciclo combinado",
         "offsetgroup": "Ciclo combinado",
         "orientation": "v",
         "pointpos": 0,
         "showlegend": true,
         "type": "box",
         "x": [
          "30/09/2022",
          "01/10/2022",
          "02/10/2022",
          "03/10/2022",
          "04/10/2022",
          "05/10/2022",
          "06/10/2022",
          "07/10/2022",
          "08/10/2022",
          "09/10/2022",
          "10/10/2022"
         ],
         "x0": " ",
         "xaxis": "x",
         "y": [
          186856.051,
          214734.353,
          202248.844,
          343110.922,
          373125.612,
          342303.325,
          265886.212,
          330992.63,
          254335.89,
          237040.817,
          353180.786
         ],
         "y0": " ",
         "yaxis": "y"
        },
        {
         "alignmentgroup": "True",
         "boxpoints": "all",
         "customdata": [
          [
           "Carbón",
           "No-Renovable",
           0.05663093948003074
          ],
          [
           "Carbón",
           "No-Renovable",
           0.05518655749163796
          ],
          [
           "Carbón",
           "No-Renovable",
           0.058251096901859555
          ],
          [
           "Carbón",
           "No-Renovable",
           0.03074077667233609
          ],
          [
           "Carbón",
           "No-Renovable",
           0.007870042540292896
          ],
          [
           "Carbón",
           "No-Renovable",
           0.01581902201798933
          ],
          [
           "Carbón",
           "No-Renovable",
           0.037689033405374
          ],
          [
           "Carbón",
           "No-Renovable",
           0.033748950100850925
          ],
          [
           "Carbón",
           "No-Renovable",
           0.025473525280207934
          ],
          [
           "Carbón",
           "No-Renovable",
           0.03212240839776396
          ],
          [
           "Carbón",
           "No-Renovable",
           0.033244853527598345
          ]
         ],
         "fillcolor": "rgba(255,255,255,0)",
         "hoveron": "points",
         "hovertemplate": "nombre=%{customdata[0]}<br>Fecha actualización=%{x}<br>Valores=%{y}<br>tipo de energía=%{customdata[1]}<br>Porcentaje=%{customdata[2]}<extra></extra>",
         "legendgroup": "Carbón",
         "line": {
          "color": "rgba(255,255,255,0)"
         },
         "marker": {
          "color": "rgb(246, 207, 113)"
         },
         "name": "Carbón",
         "offsetgroup": "Carbón",
         "orientation": "v",
         "pointpos": 0,
         "showlegend": true,
         "type": "box",
         "x": [
          "30/09/2022",
          "01/10/2022",
          "02/10/2022",
          "03/10/2022",
          "04/10/2022",
          "05/10/2022",
          "06/10/2022",
          "07/10/2022",
          "08/10/2022",
          "09/10/2022",
          "10/10/2022"
         ],
         "x0": " ",
         "xaxis": "x",
         "y": [
          23371.005,
          24496.338,
          25266.397,
          17783.902,
          4698.655,
          8949.842,
          18982.002,
          19195.856,
          12049.359,
          14655.744,
          19828.08
         ],
         "y0": " ",
         "yaxis": "y"
        },
        {
         "alignmentgroup": "True",
         "boxpoints": "all",
         "customdata": [
          [
           "Motores diésel",
           "No-Renovable",
           0.013780511370537802
          ],
          [
           "Motores diésel",
           "No-Renovable",
           0.01281723680218092
          ],
          [
           "Motores diésel",
           "No-Renovable",
           0.014333733732054356
          ],
          [
           "Motores diésel",
           "No-Renovable",
           0.011837888212058651
          ],
          [
           "Motores diésel",
           "No-Renovable",
           0.010276182816774107
          ],
          [
           "Motores diésel",
           "No-Renovable",
           0.010071344907398742
          ],
          [
           "Motores diésel",
           "No-Renovable",
           0.012176260777554418
          ],
          [
           "Motores diésel",
           "No-Renovable",
           0.011120928598533081
          ],
          [
           "Motores diésel",
           "No-Renovable",
           0.013022623566901087
          ],
          [
           "Motores diésel",
           "No-Renovable",
           0.012275594655130206
          ],
          [
           "Motores diésel",
           "No-Renovable",
           0.011507385988512864
          ]
         ],
         "fillcolor": "rgba(255,255,255,0)",
         "hoveron": "points",
         "hovertemplate": "nombre=%{customdata[0]}<br>Fecha actualización=%{x}<br>Valores=%{y}<br>tipo de energía=%{customdata[1]}<br>Porcentaje=%{customdata[2]}<extra></extra>",
         "legendgroup": "Motores diésel",
         "line": {
          "color": "rgba(255,255,255,0)"
         },
         "marker": {
          "color": "rgb(248, 156, 116)"
         },
         "name": "Motores diésel",
         "offsetgroup": "Motores diésel",
         "orientation": "v",
         "pointpos": 0,
         "showlegend": true,
         "type": "box",
         "x": [
          "30/09/2022",
          "01/10/2022",
          "02/10/2022",
          "03/10/2022",
          "04/10/2022",
          "05/10/2022",
          "06/10/2022",
          "07/10/2022",
          "08/10/2022",
          "09/10/2022",
          "10/10/2022"
         ],
         "x0": " ",
         "xaxis": "x",
         "y": [
          5687.075,
          5689.345,
          6217.253,
          6848.358,
          6135.194,
          5698.01,
          6132.548,
          6325.404,
          6159.896,
          5600.7,
          6863.299
         ],
         "y0": " ",
         "yaxis": "y"
        },
        {
         "alignmentgroup": "True",
         "boxpoints": "all",
         "customdata": [
          [
           "Turbina de gas",
           "No-Renovable",
           0.005691125905694869
          ],
          [
           "Turbina de gas",
           "No-Renovable",
           0.0026072585204365024
          ],
          [
           "Turbina de gas",
           "No-Renovable",
           0.004454236875986643
          ],
          [
           "Turbina de gas",
           "No-Renovable",
           0.005302069911025332
          ],
          [
           "Turbina de gas",
           "No-Renovable",
           0.004646019349984739
          ],
          [
           "Turbina de gas",
           "No-Renovable",
           0.0039172301775750335
          ],
          [
           "Turbina de gas",
           "No-Renovable",
           0.005296235870629664
          ],
          [
           "Turbina de gas",
           "No-Renovable",
           0.004798559684710427
          ],
          [
           "Turbina de gas",
           "No-Renovable",
           0.003297348017592796
          ],
          [
           "Turbina de gas",
           "No-Renovable",
           0.002584005332386635
          ],
          [
           "Turbina de gas",
           "No-Renovable",
           0.005423759944783787
          ]
         ],
         "fillcolor": "rgba(255,255,255,0)",
         "hoveron": "points",
         "hovertemplate": "nombre=%{customdata[0]}<br>Fecha actualización=%{x}<br>Valores=%{y}<br>tipo de energía=%{customdata[1]}<br>Porcentaje=%{customdata[2]}<extra></extra>",
         "legendgroup": "Turbina de gas",
         "line": {
          "color": "rgba(255,255,255,0)"
         },
         "marker": {
          "color": "rgb(220, 176, 242)"
         },
         "name": "Turbina de gas",
         "offsetgroup": "Turbina de gas",
         "orientation": "v",
         "pointpos": 0,
         "showlegend": true,
         "type": "box",
         "x": [
          "30/09/2022",
          "01/10/2022",
          "02/10/2022",
          "03/10/2022",
          "04/10/2022",
          "05/10/2022",
          "06/10/2022",
          "07/10/2022",
          "08/10/2022",
          "09/10/2022",
          "10/10/2022"
         ],
         "x0": " ",
         "xaxis": "x",
         "y": [
          2348.669,
          1157.316,
          1932.024,
          3067.31,
          2773.815,
          2216.23,
          2667.438,
          2729.343,
          1559.695,
          1178.944,
          3234.869
         ],
         "y0": " ",
         "yaxis": "y"
        },
        {
         "alignmentgroup": "True",
         "boxpoints": "all",
         "customdata": [
          [
           "Turbina de vapor",
           "No-Renovable",
           0.010263064663288142
          ],
          [
           "Turbina de vapor",
           "No-Renovable",
           0.006956070914603979
          ],
          [
           "Turbina de vapor",
           "No-Renovable",
           0.00849584409127014
          ],
          [
           "Turbina de vapor",
           "No-Renovable",
           0.007639911599832307
          ],
          [
           "Turbina de vapor",
           "No-Renovable",
           0.00687678163548259
          ],
          [
           "Turbina de vapor",
           "No-Renovable",
           0.006205797005757296
          ],
          [
           "Turbina de vapor",
           "No-Renovable",
           0.007849577273913147
          ],
          [
           "Turbina de vapor",
           "No-Renovable",
           0.0075145705956928205
          ],
          [
           "Turbina de vapor",
           "No-Renovable",
           0.007126571370431318
          ],
          [
           "Turbina de vapor",
           "No-Renovable",
           0.006265907832964851
          ],
          [
           "Turbina de vapor",
           "No-Renovable",
           0.0050942468974398735
          ]
         ],
         "fillcolor": "rgba(255,255,255,0)",
         "hoveron": "points",
         "hovertemplate": "nombre=%{customdata[0]}<br>Fecha actualización=%{x}<br>Valores=%{y}<br>tipo de energía=%{customdata[1]}<br>Porcentaje=%{customdata[2]}<extra></extra>",
         "legendgroup": "Turbina de vapor",
         "line": {
          "color": "rgba(255,255,255,0)"
         },
         "marker": {
          "color": "rgb(135, 197, 95)"
         },
         "name": "Turbina de vapor",
         "offsetgroup": "Turbina de vapor",
         "orientation": "v",
         "pointpos": 0,
         "showlegend": true,
         "type": "box",
         "x": [
          "30/09/2022",
          "01/10/2022",
          "02/10/2022",
          "03/10/2022",
          "04/10/2022",
          "05/10/2022",
          "06/10/2022",
          "07/10/2022",
          "08/10/2022",
          "09/10/2022",
          "10/10/2022"
         ],
         "x0": " ",
         "xaxis": "x",
         "y": [
          4235.461,
          3087.677,
          3685.07,
          4419.779,
          4105.648,
          3511.02,
          3953.423,
          4274.166,
          3370.975,
          2858.8,
          3038.339
         ],
         "y0": " ",
         "yaxis": "y"
        },
        {
         "alignmentgroup": "True",
         "boxpoints": "all",
         "customdata": [
          [
           "Cogeneración",
           "No-Renovable",
           0.07666526345336332
          ],
          [
           "Cogeneración",
           "No-Renovable",
           0.06397301663288762
          ],
          [
           "Cogeneración",
           "No-Renovable",
           0.0712803756146743
          ],
          [
           "Cogeneración",
           "No-Renovable",
           0.06706137904290295
          ],
          [
           "Cogeneración",
           "No-Renovable",
           0.07099704605516388
          ],
          [
           "Cogeneración",
           "No-Renovable",
           0.07673235515753181
          ],
          [
           "Cogeneración",
           "No-Renovable",
           0.0813836494490915
          ],
          [
           "Cogeneración",
           "No-Renovable",
           0.07633330835166764
          ],
          [
           "Cogeneración",
           "No-Renovable",
           0.08422410251880016
          ],
          [
           "Cogeneración",
           "No-Renovable",
           0.08096278624011592
          ],
          [
           "Cogeneración",
           "No-Renovable",
           0.07125985314829282
          ]
         ],
         "fillcolor": "rgba(255,255,255,0)",
         "hoveron": "points",
         "hovertemplate": "nombre=%{customdata[0]}<br>Fecha actualización=%{x}<br>Valores=%{y}<br>tipo de energía=%{customdata[1]}<br>Porcentaje=%{customdata[2]}<extra></extra>",
         "legendgroup": "Cogeneración",
         "line": {
          "color": "rgba(255,255,255,0)"
         },
         "marker": {
          "color": "rgb(158, 185, 243)"
         },
         "name": "Cogeneración",
         "offsetgroup": "Cogeneración",
         "orientation": "v",
         "pointpos": 0,
         "showlegend": true,
         "type": "box",
         "x": [
          "30/09/2022",
          "01/10/2022",
          "02/10/2022",
          "03/10/2022",
          "04/10/2022",
          "05/10/2022",
          "06/10/2022",
          "07/10/2022",
          "08/10/2022",
          "09/10/2022",
          "10/10/2022"
         ],
         "x0": " ",
         "xaxis": "x",
         "y": [
          31638.964,
          28396.492,
          30917.843,
          38795.799,
          42387.398,
          43412.447,
          40988.703,
          43417.149,
          39839.262,
          36939.007,
          42501.197
         ],
         "y0": " ",
         "yaxis": "y"
        },
        {
         "alignmentgroup": "True",
         "boxpoints": "all",
         "customdata": [
          [
           "Residuos no renovables",
           "No-Renovable",
           0.011751608019626027
          ],
          [
           "Residuos no renovables",
           "No-Renovable",
           0.012227303436168506
          ],
          [
           "Residuos no renovables",
           "No-Renovable",
           0.012324560103088297
          ],
          [
           "Residuos no renovables",
           "No-Renovable",
           0.009380495806776532
          ],
          [
           "Residuos no renovables",
           "No-Renovable",
           0.009876903346193674
          ],
          [
           "Residuos no renovables",
           "No-Renovable",
           0.010004497312466859
          ],
          [
           "Residuos no renovables",
           "No-Renovable",
           0.010861189239658597
          ],
          [
           "Residuos no renovables",
           "No-Renovable",
           0.009720089644431194
          ],
          [
           "Residuos no renovables",
           "No-Renovable",
           0.011929598981958663
          ],
          [
           "Residuos no renovables",
           "No-Renovable",
           0.011578185831034432
          ],
          [
           "Residuos no renovables",
           "No-Renovable",
           0.008369630564207796
          ]
         ],
         "fillcolor": "rgba(255,255,255,0)",
         "hoveron": "points",
         "hovertemplate": "nombre=%{customdata[0]}<br>Fecha actualización=%{x}<br>Valores=%{y}<br>tipo de energía=%{customdata[1]}<br>Porcentaje=%{customdata[2]}<extra></extra>",
         "legendgroup": "Residuos no renovables",
         "line": {
          "color": "rgba(255,255,255,0)"
         },
         "marker": {
          "color": "rgb(254, 136, 177)"
         },
         "name": "Residuos no renovables",
         "offsetgroup": "Residuos no renovables",
         "orientation": "v",
         "pointpos": 0,
         "showlegend": true,
         "type": "box",
         "x": [
          "30/09/2022",
          "01/10/2022",
          "02/10/2022",
          "03/10/2022",
          "04/10/2022",
          "05/10/2022",
          "06/10/2022",
          "07/10/2022",
          "08/10/2022",
          "09/10/2022",
          "10/10/2022"
         ],
         "x0": " ",
         "xaxis": "x",
         "y": [
          4849.7675,
          5427.484,
          5345.7745,
          5426.7275,
          5896.812,
          5660.19,
          5470.215,
          5528.6295,
          5642.879,
          5282.5095,
          4991.8615
         ],
         "y0": " ",
         "yaxis": "y"
        },
        {
         "alignmentgroup": "True",
         "boxpoints": "all",
         "customdata": [
          [
           "Generación no renovable",
           "No-Renovable",
           1
          ],
          [
           "Generación no renovable",
           "No-Renovable",
           1
          ],
          [
           "Generación no renovable",
           "No-Renovable",
           1
          ],
          [
           "Generación no renovable",
           "No-Renovable",
           1
          ],
          [
           "Generación no renovable",
           "No-Renovable",
           1
          ],
          [
           "Generación no renovable",
           "No-Renovable",
           1
          ],
          [
           "Generación no renovable",
           "No-Renovable",
           1
          ],
          [
           "Generación no renovable",
           "No-Renovable",
           1
          ],
          [
           "Generación no renovable",
           "No-Renovable",
           1
          ],
          [
           "Generación no renovable",
           "No-Renovable",
           1
          ],
          [
           "Generación no renovable",
           "No-Renovable",
           1
          ]
         ],
         "fillcolor": "rgba(255,255,255,0)",
         "hoveron": "points",
         "hovertemplate": "nombre=%{customdata[0]}<br>Fecha actualización=%{x}<br>Valores=%{y}<br>tipo de energía=%{customdata[1]}<br>Porcentaje=%{customdata[2]}<extra></extra>",
         "legendgroup": "Generación no renovable",
         "line": {
          "color": "rgba(255,255,255,0)"
         },
         "marker": {
          "color": "rgb(201, 219, 116)"
         },
         "name": "Generación no renovable",
         "offsetgroup": "Generación no renovable",
         "orientation": "v",
         "pointpos": 0,
         "showlegend": true,
         "type": "box",
         "x": [
          "30/09/2022",
          "01/10/2022",
          "02/10/2022",
          "03/10/2022",
          "04/10/2022",
          "05/10/2022",
          "06/10/2022",
          "07/10/2022",
          "08/10/2022",
          "09/10/2022",
          "10/10/2022"
         ],
         "x0": " ",
         "xaxis": "x",
         "y": [
          412689.69250000006,
          443882.335,
          433749.72050000005,
          578511.7985,
          597030.4450000002,
          565764.558,
          503647.88600000006,
          568783.7975000001,
          473014.978,
          456246.7365,
          596425.5485
         ],
         "y0": " ",
         "yaxis": "y"
        },
        {
         "alignmentgroup": "True",
         "boxpoints": "all",
         "customdata": [
          [
           "Consumos en bombeo",
           "Demanda en b.c.",
           0.024480827504355714
          ],
          [
           "Consumos en bombeo",
           "Demanda en b.c.",
           0.030438676468156872
          ],
          [
           "Consumos en bombeo",
           "Demanda en b.c.",
           0.03810717568734131
          ],
          [
           "Consumos en bombeo",
           "Demanda en b.c.",
           0.01008361231462829
          ],
          [
           "Consumos en bombeo",
           "Demanda en b.c.",
           0.02074335350661142
          ],
          [
           "Consumos en bombeo",
           "Demanda en b.c.",
           0.022849772031657504
          ],
          [
           "Consumos en bombeo",
           "Demanda en b.c.",
           0.014609743863195015
          ],
          [
           "Consumos en bombeo",
           "Demanda en b.c.",
           0.010260225174171094
          ],
          [
           "Consumos en bombeo",
           "Demanda en b.c.",
           0.034697830611285486
          ],
          [
           "Consumos en bombeo",
           "Demanda en b.c.",
           0.03176335773901466
          ],
          [
           "Consumos en bombeo",
           "Demanda en b.c.",
           0.0134877090985492
          ]
         ],
         "fillcolor": "rgba(255,255,255,0)",
         "hoveron": "points",
         "hovertemplate": "nombre=%{customdata[0]}<br>Fecha actualización=%{x}<br>Valores=%{y}<br>tipo de energía=%{customdata[1]}<br>Porcentaje=%{customdata[2]}<extra></extra>",
         "legendgroup": "Consumos en bombeo",
         "line": {
          "color": "rgba(255,255,255,0)"
         },
         "marker": {
          "color": "rgb(139, 224, 164)"
         },
         "name": "Consumos en bombeo",
         "offsetgroup": "Consumos en bombeo",
         "orientation": "v",
         "pointpos": 0,
         "showlegend": true,
         "type": "box",
         "x": [
          "30/09/2022",
          "01/10/2022",
          "02/10/2022",
          "03/10/2022",
          "04/10/2022",
          "05/10/2022",
          "06/10/2022",
          "07/10/2022",
          "08/10/2022",
          "09/10/2022",
          "10/10/2022"
         ],
         "x0": " ",
         "xaxis": "x",
         "y": [
          -21958.695,
          -23466.109,
          -29958.458,
          -8436.197,
          -18434.496,
          -20579.037,
          -13346.909,
          -9230.133,
          -30925.179,
          -25521.409,
          -11415.535
         ],
         "y0": " ",
         "yaxis": "y"
        },
        {
         "alignmentgroup": "True",
         "boxpoints": "all",
         "customdata": [
          [
           "Saldo I. internacionales",
           "Demanda en b.c.",
           0.11373414636481019
          ],
          [
           "Saldo I. internacionales",
           "Demanda en b.c.",
           0.09564281541055115
          ],
          [
           "Saldo I. internacionales",
           "Demanda en b.c.",
           0.1209298740373832
          ],
          [
           "Saldo I. internacionales",
           "Demanda en b.c.",
           0.10445274092377184
          ],
          [
           "Saldo I. internacionales",
           "Demanda en b.c.",
           0.10352984719806389
          ],
          [
           "Saldo I. internacionales",
           "Demanda en b.c.",
           0.10562745314551578
          ],
          [
           "Saldo I. internacionales",
           "Demanda en b.c.",
           0.1158874632841208
          ],
          [
           "Saldo I. internacionales",
           "Demanda en b.c.",
           0.11938108865836647
          ],
          [
           "Saldo I. internacionales",
           "Demanda en b.c.",
           0.13457087105829627
          ],
          [
           "Saldo I. internacionales",
           "Demanda en b.c.",
           0.13170524022634145
          ],
          [
           "Saldo I. internacionales",
           "Demanda en b.c.",
           0.10569417088461855
          ]
         ],
         "fillcolor": "rgba(255,255,255,0)",
         "hoveron": "points",
         "hovertemplate": "nombre=%{customdata[0]}<br>Fecha actualización=%{x}<br>Valores=%{y}<br>tipo de energía=%{customdata[1]}<br>Porcentaje=%{customdata[2]}<extra></extra>",
         "legendgroup": "Saldo I. internacionales",
         "line": {
          "color": "rgba(255,255,255,0)"
         },
         "marker": {
          "color": "rgb(180, 151, 231)"
         },
         "name": "Saldo I. internacionales",
         "offsetgroup": "Saldo I. internacionales",
         "orientation": "v",
         "pointpos": 0,
         "showlegend": true,
         "type": "box",
         "x": [
          "30/09/2022",
          "01/10/2022",
          "02/10/2022",
          "03/10/2022",
          "04/10/2022",
          "05/10/2022",
          "06/10/2022",
          "07/10/2022",
          "08/10/2022",
          "09/10/2022",
          "10/10/2022"
         ],
         "x0": " ",
         "xaxis": "x",
         "y": [
          -102016.708,
          -73733.979,
          -95070.613,
          -87387.721,
          -92006.365,
          -95130.545,
          -105870.4,
          -107395.628,
          -119939.149,
          -105823.299,
          -89455.926
         ],
         "y0": " ",
         "yaxis": "y"
        },
        {
         "alignmentgroup": "True",
         "boxpoints": "all",
         "customdata": [
          [
           "Demanda en b.c.",
           "Demanda en b.c.",
           1
          ],
          [
           "Demanda en b.c.",
           "Demanda en b.c.",
           1
          ],
          [
           "Demanda en b.c.",
           "Demanda en b.c.",
           1
          ],
          [
           "Demanda en b.c.",
           "Demanda en b.c.",
           1
          ],
          [
           "Demanda en b.c.",
           "Demanda en b.c.",
           1
          ],
          [
           "Demanda en b.c.",
           "Demanda en b.c.",
           1
          ],
          [
           "Demanda en b.c.",
           "Demanda en b.c.",
           1
          ],
          [
           "Demanda en b.c.",
           "Demanda en b.c.",
           1
          ],
          [
           "Demanda en b.c.",
           "Demanda en b.c.",
           1
          ],
          [
           "Demanda en b.c.",
           "Demanda en b.c.",
           1
          ],
          [
           "Demanda en b.c.",
           "Demanda en b.c.",
           1
          ]
         ],
         "fillcolor": "rgba(255,255,255,0)",
         "hoveron": "points",
         "hovertemplate": "nombre=%{customdata[0]}<br>Fecha actualización=%{x}<br>Valores=%{y}<br>tipo de energía=%{customdata[1]}<br>Porcentaje=%{customdata[2]}<extra></extra>",
         "legendgroup": "Demanda en b.c.",
         "line": {
          "color": "rgba(255,255,255,0)"
         },
         "marker": {
          "color": "rgb(179, 179, 179)"
         },
         "name": "Demanda en b.c.",
         "offsetgroup": "Demanda en b.c.",
         "orientation": "v",
         "pointpos": 0,
         "showlegend": true,
         "type": "box",
         "x": [
          "30/09/2022",
          "01/10/2022",
          "02/10/2022",
          "03/10/2022",
          "04/10/2022",
          "05/10/2022",
          "06/10/2022",
          "07/10/2022",
          "08/10/2022",
          "09/10/2022",
          "10/10/2022"
         ],
         "x0": " ",
         "xaxis": "x",
         "y": [
          649024.388,
          576530.486,
          536105.027,
          644976.6529999999,
          667812.384,
          669204.132,
          675127.531,
          666351.834,
          589542.598,
          540796.4500000001,
          644622.826
         ],
         "y0": " ",
         "yaxis": "y"
        }
       ],
       "layout": {
        "boxmode": "group",
        "legend": {
         "title": {
          "text": "nombre"
         },
         "tracegroupgap": 0
        },
        "margin": {
         "t": 60
        },
        "template": {
         "data": {
          "bar": [
           {
            "error_x": {
             "color": "#2a3f5f"
            },
            "error_y": {
             "color": "#2a3f5f"
            },
            "marker": {
             "line": {
              "color": "#E5ECF6",
              "width": 0.5
             },
             "pattern": {
              "fillmode": "overlay",
              "size": 10,
              "solidity": 0.2
             }
            },
            "type": "bar"
           }
          ],
          "barpolar": [
           {
            "marker": {
             "line": {
              "color": "#E5ECF6",
              "width": 0.5
             },
             "pattern": {
              "fillmode": "overlay",
              "size": 10,
              "solidity": 0.2
             }
            },
            "type": "barpolar"
           }
          ],
          "carpet": [
           {
            "aaxis": {
             "endlinecolor": "#2a3f5f",
             "gridcolor": "white",
             "linecolor": "white",
             "minorgridcolor": "white",
             "startlinecolor": "#2a3f5f"
            },
            "baxis": {
             "endlinecolor": "#2a3f5f",
             "gridcolor": "white",
             "linecolor": "white",
             "minorgridcolor": "white",
             "startlinecolor": "#2a3f5f"
            },
            "type": "carpet"
           }
          ],
          "choropleth": [
           {
            "colorbar": {
             "outlinewidth": 0,
             "ticks": ""
            },
            "type": "choropleth"
           }
          ],
          "contour": [
           {
            "colorbar": {
             "outlinewidth": 0,
             "ticks": ""
            },
            "colorscale": [
             [
              0,
              "#0d0887"
             ],
             [
              0.1111111111111111,
              "#46039f"
             ],
             [
              0.2222222222222222,
              "#7201a8"
             ],
             [
              0.3333333333333333,
              "#9c179e"
             ],
             [
              0.4444444444444444,
              "#bd3786"
             ],
             [
              0.5555555555555556,
              "#d8576b"
             ],
             [
              0.6666666666666666,
              "#ed7953"
             ],
             [
              0.7777777777777778,
              "#fb9f3a"
             ],
             [
              0.8888888888888888,
              "#fdca26"
             ],
             [
              1,
              "#f0f921"
             ]
            ],
            "type": "contour"
           }
          ],
          "contourcarpet": [
           {
            "colorbar": {
             "outlinewidth": 0,
             "ticks": ""
            },
            "type": "contourcarpet"
           }
          ],
          "heatmap": [
           {
            "colorbar": {
             "outlinewidth": 0,
             "ticks": ""
            },
            "colorscale": [
             [
              0,
              "#0d0887"
             ],
             [
              0.1111111111111111,
              "#46039f"
             ],
             [
              0.2222222222222222,
              "#7201a8"
             ],
             [
              0.3333333333333333,
              "#9c179e"
             ],
             [
              0.4444444444444444,
              "#bd3786"
             ],
             [
              0.5555555555555556,
              "#d8576b"
             ],
             [
              0.6666666666666666,
              "#ed7953"
             ],
             [
              0.7777777777777778,
              "#fb9f3a"
             ],
             [
              0.8888888888888888,
              "#fdca26"
             ],
             [
              1,
              "#f0f921"
             ]
            ],
            "type": "heatmap"
           }
          ],
          "heatmapgl": [
           {
            "colorbar": {
             "outlinewidth": 0,
             "ticks": ""
            },
            "colorscale": [
             [
              0,
              "#0d0887"
             ],
             [
              0.1111111111111111,
              "#46039f"
             ],
             [
              0.2222222222222222,
              "#7201a8"
             ],
             [
              0.3333333333333333,
              "#9c179e"
             ],
             [
              0.4444444444444444,
              "#bd3786"
             ],
             [
              0.5555555555555556,
              "#d8576b"
             ],
             [
              0.6666666666666666,
              "#ed7953"
             ],
             [
              0.7777777777777778,
              "#fb9f3a"
             ],
             [
              0.8888888888888888,
              "#fdca26"
             ],
             [
              1,
              "#f0f921"
             ]
            ],
            "type": "heatmapgl"
           }
          ],
          "histogram": [
           {
            "marker": {
             "pattern": {
              "fillmode": "overlay",
              "size": 10,
              "solidity": 0.2
             }
            },
            "type": "histogram"
           }
          ],
          "histogram2d": [
           {
            "colorbar": {
             "outlinewidth": 0,
             "ticks": ""
            },
            "colorscale": [
             [
              0,
              "#0d0887"
             ],
             [
              0.1111111111111111,
              "#46039f"
             ],
             [
              0.2222222222222222,
              "#7201a8"
             ],
             [
              0.3333333333333333,
              "#9c179e"
             ],
             [
              0.4444444444444444,
              "#bd3786"
             ],
             [
              0.5555555555555556,
              "#d8576b"
             ],
             [
              0.6666666666666666,
              "#ed7953"
             ],
             [
              0.7777777777777778,
              "#fb9f3a"
             ],
             [
              0.8888888888888888,
              "#fdca26"
             ],
             [
              1,
              "#f0f921"
             ]
            ],
            "type": "histogram2d"
           }
          ],
          "histogram2dcontour": [
           {
            "colorbar": {
             "outlinewidth": 0,
             "ticks": ""
            },
            "colorscale": [
             [
              0,
              "#0d0887"
             ],
             [
              0.1111111111111111,
              "#46039f"
             ],
             [
              0.2222222222222222,
              "#7201a8"
             ],
             [
              0.3333333333333333,
              "#9c179e"
             ],
             [
              0.4444444444444444,
              "#bd3786"
             ],
             [
              0.5555555555555556,
              "#d8576b"
             ],
             [
              0.6666666666666666,
              "#ed7953"
             ],
             [
              0.7777777777777778,
              "#fb9f3a"
             ],
             [
              0.8888888888888888,
              "#fdca26"
             ],
             [
              1,
              "#f0f921"
             ]
            ],
            "type": "histogram2dcontour"
           }
          ],
          "mesh3d": [
           {
            "colorbar": {
             "outlinewidth": 0,
             "ticks": ""
            },
            "type": "mesh3d"
           }
          ],
          "parcoords": [
           {
            "line": {
             "colorbar": {
              "outlinewidth": 0,
              "ticks": ""
             }
            },
            "type": "parcoords"
           }
          ],
          "pie": [
           {
            "automargin": true,
            "type": "pie"
           }
          ],
          "scatter": [
           {
            "fillpattern": {
             "fillmode": "overlay",
             "size": 10,
             "solidity": 0.2
            },
            "type": "scatter"
           }
          ],
          "scatter3d": [
           {
            "line": {
             "colorbar": {
              "outlinewidth": 0,
              "ticks": ""
             }
            },
            "marker": {
             "colorbar": {
              "outlinewidth": 0,
              "ticks": ""
             }
            },
            "type": "scatter3d"
           }
          ],
          "scattercarpet": [
           {
            "marker": {
             "colorbar": {
              "outlinewidth": 0,
              "ticks": ""
             }
            },
            "type": "scattercarpet"
           }
          ],
          "scattergeo": [
           {
            "marker": {
             "colorbar": {
              "outlinewidth": 0,
              "ticks": ""
             }
            },
            "type": "scattergeo"
           }
          ],
          "scattergl": [
           {
            "marker": {
             "colorbar": {
              "outlinewidth": 0,
              "ticks": ""
             }
            },
            "type": "scattergl"
           }
          ],
          "scattermapbox": [
           {
            "marker": {
             "colorbar": {
              "outlinewidth": 0,
              "ticks": ""
             }
            },
            "type": "scattermapbox"
           }
          ],
          "scatterpolar": [
           {
            "marker": {
             "colorbar": {
              "outlinewidth": 0,
              "ticks": ""
             }
            },
            "type": "scatterpolar"
           }
          ],
          "scatterpolargl": [
           {
            "marker": {
             "colorbar": {
              "outlinewidth": 0,
              "ticks": ""
             }
            },
            "type": "scatterpolargl"
           }
          ],
          "scatterternary": [
           {
            "marker": {
             "colorbar": {
              "outlinewidth": 0,
              "ticks": ""
             }
            },
            "type": "scatterternary"
           }
          ],
          "surface": [
           {
            "colorbar": {
             "outlinewidth": 0,
             "ticks": ""
            },
            "colorscale": [
             [
              0,
              "#0d0887"
             ],
             [
              0.1111111111111111,
              "#46039f"
             ],
             [
              0.2222222222222222,
              "#7201a8"
             ],
             [
              0.3333333333333333,
              "#9c179e"
             ],
             [
              0.4444444444444444,
              "#bd3786"
             ],
             [
              0.5555555555555556,
              "#d8576b"
             ],
             [
              0.6666666666666666,
              "#ed7953"
             ],
             [
              0.7777777777777778,
              "#fb9f3a"
             ],
             [
              0.8888888888888888,
              "#fdca26"
             ],
             [
              1,
              "#f0f921"
             ]
            ],
            "type": "surface"
           }
          ],
          "table": [
           {
            "cells": {
             "fill": {
              "color": "#EBF0F8"
             },
             "line": {
              "color": "white"
             }
            },
            "header": {
             "fill": {
              "color": "#C8D4E3"
             },
             "line": {
              "color": "white"
             }
            },
            "type": "table"
           }
          ]
         },
         "layout": {
          "annotationdefaults": {
           "arrowcolor": "#2a3f5f",
           "arrowhead": 0,
           "arrowwidth": 1
          },
          "autotypenumbers": "strict",
          "coloraxis": {
           "colorbar": {
            "outlinewidth": 0,
            "ticks": ""
           }
          },
          "colorscale": {
           "diverging": [
            [
             0,
             "#8e0152"
            ],
            [
             0.1,
             "#c51b7d"
            ],
            [
             0.2,
             "#de77ae"
            ],
            [
             0.3,
             "#f1b6da"
            ],
            [
             0.4,
             "#fde0ef"
            ],
            [
             0.5,
             "#f7f7f7"
            ],
            [
             0.6,
             "#e6f5d0"
            ],
            [
             0.7,
             "#b8e186"
            ],
            [
             0.8,
             "#7fbc41"
            ],
            [
             0.9,
             "#4d9221"
            ],
            [
             1,
             "#276419"
            ]
           ],
           "sequential": [
            [
             0,
             "#0d0887"
            ],
            [
             0.1111111111111111,
             "#46039f"
            ],
            [
             0.2222222222222222,
             "#7201a8"
            ],
            [
             0.3333333333333333,
             "#9c179e"
            ],
            [
             0.4444444444444444,
             "#bd3786"
            ],
            [
             0.5555555555555556,
             "#d8576b"
            ],
            [
             0.6666666666666666,
             "#ed7953"
            ],
            [
             0.7777777777777778,
             "#fb9f3a"
            ],
            [
             0.8888888888888888,
             "#fdca26"
            ],
            [
             1,
             "#f0f921"
            ]
           ],
           "sequentialminus": [
            [
             0,
             "#0d0887"
            ],
            [
             0.1111111111111111,
             "#46039f"
            ],
            [
             0.2222222222222222,
             "#7201a8"
            ],
            [
             0.3333333333333333,
             "#9c179e"
            ],
            [
             0.4444444444444444,
             "#bd3786"
            ],
            [
             0.5555555555555556,
             "#d8576b"
            ],
            [
             0.6666666666666666,
             "#ed7953"
            ],
            [
             0.7777777777777778,
             "#fb9f3a"
            ],
            [
             0.8888888888888888,
             "#fdca26"
            ],
            [
             1,
             "#f0f921"
            ]
           ]
          },
          "colorway": [
           "#636efa",
           "#EF553B",
           "#00cc96",
           "#ab63fa",
           "#FFA15A",
           "#19d3f3",
           "#FF6692",
           "#B6E880",
           "#FF97FF",
           "#FECB52"
          ],
          "font": {
           "color": "#2a3f5f"
          },
          "geo": {
           "bgcolor": "white",
           "lakecolor": "white",
           "landcolor": "#E5ECF6",
           "showlakes": true,
           "showland": true,
           "subunitcolor": "white"
          },
          "hoverlabel": {
           "align": "left"
          },
          "hovermode": "closest",
          "mapbox": {
           "style": "light"
          },
          "paper_bgcolor": "white",
          "plot_bgcolor": "#E5ECF6",
          "polar": {
           "angularaxis": {
            "gridcolor": "white",
            "linecolor": "white",
            "ticks": ""
           },
           "bgcolor": "#E5ECF6",
           "radialaxis": {
            "gridcolor": "white",
            "linecolor": "white",
            "ticks": ""
           }
          },
          "scene": {
           "xaxis": {
            "backgroundcolor": "#E5ECF6",
            "gridcolor": "white",
            "gridwidth": 2,
            "linecolor": "white",
            "showbackground": true,
            "ticks": "",
            "zerolinecolor": "white"
           },
           "yaxis": {
            "backgroundcolor": "#E5ECF6",
            "gridcolor": "white",
            "gridwidth": 2,
            "linecolor": "white",
            "showbackground": true,
            "ticks": "",
            "zerolinecolor": "white"
           },
           "zaxis": {
            "backgroundcolor": "#E5ECF6",
            "gridcolor": "white",
            "gridwidth": 2,
            "linecolor": "white",
            "showbackground": true,
            "ticks": "",
            "zerolinecolor": "white"
           }
          },
          "shapedefaults": {
           "line": {
            "color": "#2a3f5f"
           }
          },
          "ternary": {
           "aaxis": {
            "gridcolor": "white",
            "linecolor": "white",
            "ticks": ""
           },
           "baxis": {
            "gridcolor": "white",
            "linecolor": "white",
            "ticks": ""
           },
           "bgcolor": "#E5ECF6",
           "caxis": {
            "gridcolor": "white",
            "linecolor": "white",
            "ticks": ""
           }
          },
          "title": {
           "x": 0.05
          },
          "xaxis": {
           "automargin": true,
           "gridcolor": "white",
           "linecolor": "white",
           "ticks": "",
           "title": {
            "standoff": 15
           },
           "zerolinecolor": "white",
           "zerolinewidth": 2
          },
          "yaxis": {
           "automargin": true,
           "gridcolor": "white",
           "linecolor": "white",
           "ticks": "",
           "title": {
            "standoff": 15
           },
           "zerolinecolor": "white",
           "zerolinewidth": 2
          }
         }
        },
        "xaxis": {
         "anchor": "y",
         "domain": [
          0,
          1
         ],
         "title": {
          "text": "Fecha actualización"
         }
        },
        "yaxis": {
         "anchor": "x",
         "domain": [
          0,
          1
         ],
         "title": {
          "text": "Valores"
         }
        }
       }
      }
     },
     "metadata": {},
     "output_type": "display_data"
    }
   ],
   "source": [
    "fig1 = px.strip(data_frame = df_balance,\n",
    "         x          = \"Fecha actualización\",\n",
    "         y          = \"Valores\",\n",
    "         color      = \"nombre\",\n",
    "         color_discrete_sequence = colores_personalizados,\n",
    "         hover_data = df_balance.columns)\n",
    "\n",
    "fig1.show()\n"
   ]
  },
  {
   "cell_type": "code",
   "execution_count": 87,
   "metadata": {},
   "outputs": [
    {
     "name": "stderr",
     "output_type": "stream",
     "text": [
      "/opt/anaconda3/lib/python3.11/site-packages/plotly/express/_core.py:1979: FutureWarning:\n",
      "\n",
      "When grouping with a length-1 list-like, you will need to pass a length-1 tuple to get_group in a future version of pandas. Pass `(name,)` instead of `name` to silence this warning.\n",
      "\n"
     ]
    },
    {
     "data": {
      "application/vnd.plotly.v1+json": {
       "config": {
        "plotlyServerURL": "https://plot.ly"
       },
       "data": [
        {
         "alignmentgroup": "True",
         "boxpoints": "all",
         "customdata": [
          [
           "Hidráulica",
           "Renovable",
           23389.362
          ],
          [
           "Hidráulica",
           "Renovable",
           18682.792
          ],
          [
           "Hidráulica",
           "Renovable",
           15426.459
          ],
          [
           "Hidráulica",
           "Renovable",
           28347.218
          ],
          [
           "Hidráulica",
           "Renovable",
           23889.363
          ],
          [
           "Hidráulica",
           "Renovable",
           16700.245
          ],
          [
           "Hidráulica",
           "Renovable",
           17394.309
          ],
          [
           "Hidráulica",
           "Renovable",
           21798.945
          ],
          [
           "Hidráulica",
           "Renovable",
           13744.212
          ],
          [
           "Hidráulica",
           "Renovable",
           12758.185
          ],
          [
           "Hidráulica",
           "Renovable",
           22934.016
          ],
          [
           "Eólica",
           "Renovable",
           202650.631
          ],
          [
           "Eólica",
           "Renovable",
           74554.752
          ],
          [
           "Eólica",
           "Renovable",
           86900.257
          ],
          [
           "Eólica",
           "Renovable",
           43871.896
          ],
          [
           "Eólica",
           "Renovable",
           49607.025
          ],
          [
           "Eólica",
           "Renovable",
           96162.58
          ],
          [
           "Eólica",
           "Renovable",
           170577.908
          ],
          [
           "Eólica",
           "Renovable",
           86620.241
          ],
          [
           "Eólica",
           "Renovable",
           141796.192
          ],
          [
           "Eólica",
           "Renovable",
           102798.322
          ],
          [
           "Eólica",
           "Renovable",
           57384.643
          ],
          [
           "Solar fotovoltaica",
           "Renovable",
           103063.7
          ],
          [
           "Solar fotovoltaica",
           "Renovable",
           103236.213
          ],
          [
           "Solar fotovoltaica",
           "Renovable",
           97177.981
          ],
          [
           "Solar fotovoltaica",
           "Renovable",
           74184.973
          ],
          [
           "Solar fotovoltaica",
           "Renovable",
           86286.17
          ],
          [
           "Solar fotovoltaica",
           "Renovable",
           84713.548
          ],
          [
           "Solar fotovoltaica",
           "Renovable",
           80312.204
          ],
          [
           "Solar fotovoltaica",
           "Renovable",
           82334.782
          ],
          [
           "Solar fotovoltaica",
           "Renovable",
           86371.875
          ],
          [
           "Solar fotovoltaica",
           "Renovable",
           79299.044
          ],
          [
           "Solar fotovoltaica",
           "Renovable",
           52328.088
          ],
          [
           "Solar térmica",
           "Renovable",
           18056.395
          ],
          [
           "Solar térmica",
           "Renovable",
           18348.975
          ],
          [
           "Solar térmica",
           "Renovable",
           13148.738
          ],
          [
           "Solar térmica",
           "Renovable",
           1688.234
          ],
          [
           "Solar térmica",
           "Renovable",
           7104.134
          ],
          [
           "Solar térmica",
           "Renovable",
           6790.414
          ],
          [
           "Solar térmica",
           "Renovable",
           8466.764
          ],
          [
           "Solar térmica",
           "Renovable",
           9205.138
          ],
          [
           "Solar térmica",
           "Renovable",
           11180.241
          ],
          [
           "Solar térmica",
           "Renovable",
           7951.62
          ],
          [
           "Solar térmica",
           "Renovable",
           1585.543
          ],
          [
           "Hidroeólica",
           "Renovable",
           105.046
          ],
          [
           "Hidroeólica",
           "Renovable",
           87.67
          ],
          [
           "Hidroeólica",
           "Renovable",
           29.347
          ],
          [
           "Hidroeólica",
           "Renovable",
           6.856
          ],
          [
           "Hidroeólica",
           "Renovable",
           5.849
          ],
          [
           "Hidroeólica",
           "Renovable",
           81.173
          ],
          [
           "Hidroeólica",
           "Renovable",
           116.849
          ],
          [
           "Hidroeólica",
           "Renovable",
           114.903
          ],
          [
           "Hidroeólica",
           "Renovable",
           110.01
          ],
          [
           "Hidroeólica",
           "Renovable",
           91.346
          ],
          [
           "Hidroeólica",
           "Renovable",
           95.355
          ],
          [
           "Otras renovables",
           "Renovable",
           10781.566
          ],
          [
           "Otras renovables",
           "Renovable",
           12459.459
          ],
          [
           "Otras renovables",
           "Renovable",
           12395.089
          ],
          [
           "Otras renovables",
           "Renovable",
           12060.448
          ],
          [
           "Otras renovables",
           "Renovable",
           11815.011
          ],
          [
           "Otras renovables",
           "Renovable",
           12281.244
          ],
          [
           "Otras renovables",
           "Renovable",
           11495.59
          ],
          [
           "Otras renovables",
           "Renovable",
           11751.844
          ],
          [
           "Otras renovables",
           "Renovable",
           11811.743
          ],
          [
           "Otras renovables",
           "Renovable",
           10617.461
          ],
          [
           "Otras renovables",
           "Renovable",
           12492.72
          ],
          [
           "Residuos renovables",
           "Renovable",
           2263.3985
          ],
          [
           "Residuos renovables",
           "Renovable",
           2478.378
          ],
          [
           "Residuos renovables",
           "Renovable",
           2306.5065
          ],
          [
           "Residuos renovables",
           "Renovable",
           2129.1475
          ],
          [
           "Residuos renovables",
           "Renovable",
           2515.248
          ],
          [
           "Residuos renovables",
           "Renovable",
           2419.952
          ],
          [
           "Residuos renovables",
           "Renovable",
           2333.33
          ],
          [
           "Residuos renovables",
           "Renovable",
           2367.9445
          ],
          [
           "Residuos renovables",
           "Renovable",
           2377.675
          ],
          [
           "Residuos renovables",
           "Renovable",
           2378.4435
          ],
          [
           "Residuos renovables",
           "Renovable",
           2248.3735
          ],
          [
           "Generación renovable",
           "Renovable",
           360310.09849999996
          ],
          [
           "Generación renovable",
           "Renovable",
           229848.239
          ],
          [
           "Generación renovable",
           "Renovable",
           227384.3775
          ],
          [
           "Generación renovable",
           "Renovable",
           162288.7725
          ],
          [
           "Generación renovable",
           "Renovable",
           181222.8
          ],
          [
           "Generación renovable",
           "Renovable",
           219149.156
          ],
          [
           "Generación renovable",
           "Renovable",
           290696.954
          ],
          [
           "Generación renovable",
           "Renovable",
           214193.79750000002
          ],
          [
           "Generación renovable",
           "Renovable",
           267391.94800000003
          ],
          [
           "Generación renovable",
           "Renovable",
           215894.42149999997
          ],
          [
           "Generación renovable",
           "Renovable",
           149068.7385
          ]
         ],
         "fillcolor": "rgba(255,255,255,0)",
         "hoveron": "points",
         "hovertemplate": "tipo de energía=%{customdata[1]}<br>Fecha actualización=%{x}<br>Porcentaje=%{y}<br>nombre=%{customdata[0]}<br>Valores=%{customdata[2]}<extra></extra>",
         "legendgroup": "Renovable",
         "line": {
          "color": "rgba(255,255,255,0)"
         },
         "marker": {
          "color": "#636EFA"
         },
         "name": "Renovable",
         "offsetgroup": "Renovable",
         "orientation": "v",
         "pointpos": 0,
         "showlegend": true,
         "type": "box",
         "x": [
          "30/09/2022",
          "01/10/2022",
          "02/10/2022",
          "03/10/2022",
          "04/10/2022",
          "05/10/2022",
          "06/10/2022",
          "07/10/2022",
          "08/10/2022",
          "09/10/2022",
          "10/10/2022",
          "30/09/2022",
          "01/10/2022",
          "02/10/2022",
          "03/10/2022",
          "04/10/2022",
          "05/10/2022",
          "06/10/2022",
          "07/10/2022",
          "08/10/2022",
          "09/10/2022",
          "10/10/2022",
          "30/09/2022",
          "01/10/2022",
          "02/10/2022",
          "03/10/2022",
          "04/10/2022",
          "05/10/2022",
          "06/10/2022",
          "07/10/2022",
          "08/10/2022",
          "09/10/2022",
          "10/10/2022",
          "30/09/2022",
          "01/10/2022",
          "02/10/2022",
          "03/10/2022",
          "04/10/2022",
          "05/10/2022",
          "06/10/2022",
          "07/10/2022",
          "08/10/2022",
          "09/10/2022",
          "10/10/2022",
          "30/09/2022",
          "01/10/2022",
          "02/10/2022",
          "03/10/2022",
          "04/10/2022",
          "05/10/2022",
          "06/10/2022",
          "07/10/2022",
          "08/10/2022",
          "09/10/2022",
          "10/10/2022",
          "30/09/2022",
          "01/10/2022",
          "02/10/2022",
          "03/10/2022",
          "04/10/2022",
          "05/10/2022",
          "06/10/2022",
          "07/10/2022",
          "08/10/2022",
          "09/10/2022",
          "10/10/2022",
          "30/09/2022",
          "01/10/2022",
          "02/10/2022",
          "03/10/2022",
          "04/10/2022",
          "05/10/2022",
          "06/10/2022",
          "07/10/2022",
          "08/10/2022",
          "09/10/2022",
          "10/10/2022",
          "30/09/2022",
          "01/10/2022",
          "02/10/2022",
          "03/10/2022",
          "04/10/2022",
          "05/10/2022",
          "06/10/2022",
          "07/10/2022",
          "08/10/2022",
          "09/10/2022",
          "10/10/2022"
         ],
         "x0": " ",
         "xaxis": "x",
         "y": [
          0.06491453361249602,
          0.08128316353992167,
          0.06784309093530404,
          0.17467146718359708,
          0.1318231646349135,
          0.0762049250146325,
          0.05983657124938433,
          0.10177206461825768,
          0.05140099431864716,
          0.05909455608606358,
          0.15384859515665653,
          0.562433947434865,
          0.32436512163140824,
          0.38217338392124145,
          0.27033229301182865,
          0.273735010164284,
          0.4387996821671538,
          0.5867894577251056,
          0.40440125723061604,
          0.5302934252904279,
          0.47615089489470674,
          0.38495424042244775,
          0.28604166363658,
          0.44914946248511395,
          0.42737316463176983,
          0.45711709970571135,
          0.47613308038502883,
          0.3865565788444104,
          0.2762746664349293,
          0.3843938664937298,
          0.3230159907432964,
          0.3673047383486933,
          0.3510332785166757,
          0.05011348578674378,
          0.07983082698319041,
          0.05782603952199838,
          0.010402654317938107,
          0.03920110493823073,
          0.030985353190226297,
          0.029125740340574736,
          0.04297574489756175,
          0.041812182766251434,
          0.03683105818461364,
          0.01063632131025245,
          0.00029154331348833957,
          0.0003814255892558742,
          0.00012906339618692583,
          0.00004224568276896666,
          0.000032275188331711024,
          0.0003704006964097092,
          0.0004019615561572069,
          0.0005364441050166263,
          0.00041141852184718735,
          0.0004231049573460147,
          0.0006396713419561138,
          0.02992301921285174,
          0.054207328514707484,
          0.054511612170893314,
          0.0743147404112629,
          0.06519605149020985,
          0.056040571746486675,
          0.03954492760182138,
          0.0548654729369556,
          0.04417389187800075,
          0.049178950184222345,
          0.0838050963985316,
          0.0062818070029752445,
          0.010782671256402362,
          0.010143645422606045,
          0.013119499686893006,
          0.013879313199001451,
          0.01104248834068063,
          0.008026675092027279,
          0.011055149717862395,
          0.008892096481529055,
          0.011016697344354495,
          0.015082796853479779,
          1,
          1,
          1,
          1,
          1,
          1,
          1,
          1,
          1,
          1,
          1
         ],
         "y0": " ",
         "yaxis": "y"
        },
        {
         "alignmentgroup": "True",
         "boxpoints": "all",
         "customdata": [
          [
           "Turbinación bombeo",
           "No-Renovable",
           9634.798
          ],
          [
           "Turbinación bombeo",
           "No-Renovable",
           16706.013
          ],
          [
           "Turbinación bombeo",
           "No-Renovable",
           14120.401
          ],
          [
           "Turbinación bombeo",
           "No-Renovable",
           15405.511
          ],
          [
           "Turbinación bombeo",
           "No-Renovable",
           14186.13
          ],
          [
           "Turbinación bombeo",
           "No-Renovable",
           10851.402
          ],
          [
           "Turbinación bombeo",
           "No-Renovable",
           16316.221
          ],
          [
           "Turbinación bombeo",
           "No-Renovable",
           13065.379
          ],
          [
           "Turbinación bombeo",
           "No-Renovable",
           6994.752
          ],
          [
           "Turbinación bombeo",
           "No-Renovable",
           9756.857
          ],
          [
           "Turbinación bombeo",
           "No-Renovable",
           20140.887
          ],
          [
           "Nuclear",
           "No-Renovable",
           144067.902
          ],
          [
           "Nuclear",
           "No-Renovable",
           144187.317
          ],
          [
           "Nuclear",
           "No-Renovable",
           144016.114
          ],
          [
           "Nuclear",
           "No-Renovable",
           143653.49
          ],
          [
           "Nuclear",
           "No-Renovable",
           143721.181
          ],
          [
           "Nuclear",
           "No-Renovable",
           143162.092
          ],
          [
           "Nuclear",
           "No-Renovable",
           143251.124
          ],
          [
           "Nuclear",
           "No-Renovable",
           143255.241
          ],
          [
           "Nuclear",
           "No-Renovable",
           143062.27
          ],
          [
           "Nuclear",
           "No-Renovable",
           142933.358
          ],
          [
           "Nuclear",
           "No-Renovable",
           142646.23
          ],
          [
           "Ciclo combinado",
           "No-Renovable",
           186856.051
          ],
          [
           "Ciclo combinado",
           "No-Renovable",
           214734.353
          ],
          [
           "Ciclo combinado",
           "No-Renovable",
           202248.844
          ],
          [
           "Ciclo combinado",
           "No-Renovable",
           343110.922
          ],
          [
           "Ciclo combinado",
           "No-Renovable",
           373125.612
          ],
          [
           "Ciclo combinado",
           "No-Renovable",
           342303.325
          ],
          [
           "Ciclo combinado",
           "No-Renovable",
           265886.212
          ],
          [
           "Ciclo combinado",
           "No-Renovable",
           330992.63
          ],
          [
           "Ciclo combinado",
           "No-Renovable",
           254335.89
          ],
          [
           "Ciclo combinado",
           "No-Renovable",
           237040.817
          ],
          [
           "Ciclo combinado",
           "No-Renovable",
           353180.786
          ],
          [
           "Carbón",
           "No-Renovable",
           23371.005
          ],
          [
           "Carbón",
           "No-Renovable",
           24496.338
          ],
          [
           "Carbón",
           "No-Renovable",
           25266.397
          ],
          [
           "Carbón",
           "No-Renovable",
           17783.902
          ],
          [
           "Carbón",
           "No-Renovable",
           4698.655
          ],
          [
           "Carbón",
           "No-Renovable",
           8949.842
          ],
          [
           "Carbón",
           "No-Renovable",
           18982.002
          ],
          [
           "Carbón",
           "No-Renovable",
           19195.856
          ],
          [
           "Carbón",
           "No-Renovable",
           12049.359
          ],
          [
           "Carbón",
           "No-Renovable",
           14655.744
          ],
          [
           "Carbón",
           "No-Renovable",
           19828.08
          ],
          [
           "Motores diésel",
           "No-Renovable",
           5687.075
          ],
          [
           "Motores diésel",
           "No-Renovable",
           5689.345
          ],
          [
           "Motores diésel",
           "No-Renovable",
           6217.253
          ],
          [
           "Motores diésel",
           "No-Renovable",
           6848.358
          ],
          [
           "Motores diésel",
           "No-Renovable",
           6135.194
          ],
          [
           "Motores diésel",
           "No-Renovable",
           5698.01
          ],
          [
           "Motores diésel",
           "No-Renovable",
           6132.548
          ],
          [
           "Motores diésel",
           "No-Renovable",
           6325.404
          ],
          [
           "Motores diésel",
           "No-Renovable",
           6159.896
          ],
          [
           "Motores diésel",
           "No-Renovable",
           5600.7
          ],
          [
           "Motores diésel",
           "No-Renovable",
           6863.299
          ],
          [
           "Turbina de gas",
           "No-Renovable",
           2348.669
          ],
          [
           "Turbina de gas",
           "No-Renovable",
           1157.316
          ],
          [
           "Turbina de gas",
           "No-Renovable",
           1932.024
          ],
          [
           "Turbina de gas",
           "No-Renovable",
           3067.31
          ],
          [
           "Turbina de gas",
           "No-Renovable",
           2773.815
          ],
          [
           "Turbina de gas",
           "No-Renovable",
           2216.23
          ],
          [
           "Turbina de gas",
           "No-Renovable",
           2667.438
          ],
          [
           "Turbina de gas",
           "No-Renovable",
           2729.343
          ],
          [
           "Turbina de gas",
           "No-Renovable",
           1559.695
          ],
          [
           "Turbina de gas",
           "No-Renovable",
           1178.944
          ],
          [
           "Turbina de gas",
           "No-Renovable",
           3234.869
          ],
          [
           "Turbina de vapor",
           "No-Renovable",
           4235.461
          ],
          [
           "Turbina de vapor",
           "No-Renovable",
           3087.677
          ],
          [
           "Turbina de vapor",
           "No-Renovable",
           3685.07
          ],
          [
           "Turbina de vapor",
           "No-Renovable",
           4419.779
          ],
          [
           "Turbina de vapor",
           "No-Renovable",
           4105.648
          ],
          [
           "Turbina de vapor",
           "No-Renovable",
           3511.02
          ],
          [
           "Turbina de vapor",
           "No-Renovable",
           3953.423
          ],
          [
           "Turbina de vapor",
           "No-Renovable",
           4274.166
          ],
          [
           "Turbina de vapor",
           "No-Renovable",
           3370.975
          ],
          [
           "Turbina de vapor",
           "No-Renovable",
           2858.8
          ],
          [
           "Turbina de vapor",
           "No-Renovable",
           3038.339
          ],
          [
           "Cogeneración",
           "No-Renovable",
           31638.964
          ],
          [
           "Cogeneración",
           "No-Renovable",
           28396.492
          ],
          [
           "Cogeneración",
           "No-Renovable",
           30917.843
          ],
          [
           "Cogeneración",
           "No-Renovable",
           38795.799
          ],
          [
           "Cogeneración",
           "No-Renovable",
           42387.398
          ],
          [
           "Cogeneración",
           "No-Renovable",
           43412.447
          ],
          [
           "Cogeneración",
           "No-Renovable",
           40988.703
          ],
          [
           "Cogeneración",
           "No-Renovable",
           43417.149
          ],
          [
           "Cogeneración",
           "No-Renovable",
           39839.262
          ],
          [
           "Cogeneración",
           "No-Renovable",
           36939.007
          ],
          [
           "Cogeneración",
           "No-Renovable",
           42501.197
          ],
          [
           "Residuos no renovables",
           "No-Renovable",
           4849.7675
          ],
          [
           "Residuos no renovables",
           "No-Renovable",
           5427.484
          ],
          [
           "Residuos no renovables",
           "No-Renovable",
           5345.7745
          ],
          [
           "Residuos no renovables",
           "No-Renovable",
           5426.7275
          ],
          [
           "Residuos no renovables",
           "No-Renovable",
           5896.812
          ],
          [
           "Residuos no renovables",
           "No-Renovable",
           5660.19
          ],
          [
           "Residuos no renovables",
           "No-Renovable",
           5470.215
          ],
          [
           "Residuos no renovables",
           "No-Renovable",
           5528.6295
          ],
          [
           "Residuos no renovables",
           "No-Renovable",
           5642.879
          ],
          [
           "Residuos no renovables",
           "No-Renovable",
           5282.5095
          ],
          [
           "Residuos no renovables",
           "No-Renovable",
           4991.8615
          ],
          [
           "Generación no renovable",
           "No-Renovable",
           412689.69250000006
          ],
          [
           "Generación no renovable",
           "No-Renovable",
           443882.335
          ],
          [
           "Generación no renovable",
           "No-Renovable",
           433749.72050000005
          ],
          [
           "Generación no renovable",
           "No-Renovable",
           578511.7985
          ],
          [
           "Generación no renovable",
           "No-Renovable",
           597030.4450000002
          ],
          [
           "Generación no renovable",
           "No-Renovable",
           565764.558
          ],
          [
           "Generación no renovable",
           "No-Renovable",
           503647.88600000006
          ],
          [
           "Generación no renovable",
           "No-Renovable",
           568783.7975000001
          ],
          [
           "Generación no renovable",
           "No-Renovable",
           473014.978
          ],
          [
           "Generación no renovable",
           "No-Renovable",
           456246.7365
          ],
          [
           "Generación no renovable",
           "No-Renovable",
           596425.5485
          ]
         ],
         "fillcolor": "rgba(255,255,255,0)",
         "hoveron": "points",
         "hovertemplate": "tipo de energía=%{customdata[1]}<br>Fecha actualización=%{x}<br>Porcentaje=%{y}<br>nombre=%{customdata[0]}<br>Valores=%{customdata[2]}<extra></extra>",
         "legendgroup": "No-Renovable",
         "line": {
          "color": "rgba(255,255,255,0)"
         },
         "marker": {
          "color": "#EF553B"
         },
         "name": "No-Renovable",
         "offsetgroup": "No-Renovable",
         "orientation": "v",
         "pointpos": 0,
         "showlegend": true,
         "type": "box",
         "x": [
          "30/09/2022",
          "01/10/2022",
          "02/10/2022",
          "03/10/2022",
          "04/10/2022",
          "05/10/2022",
          "06/10/2022",
          "07/10/2022",
          "08/10/2022",
          "09/10/2022",
          "10/10/2022",
          "30/09/2022",
          "01/10/2022",
          "02/10/2022",
          "03/10/2022",
          "04/10/2022",
          "05/10/2022",
          "06/10/2022",
          "07/10/2022",
          "08/10/2022",
          "09/10/2022",
          "10/10/2022",
          "30/09/2022",
          "01/10/2022",
          "02/10/2022",
          "03/10/2022",
          "04/10/2022",
          "05/10/2022",
          "06/10/2022",
          "07/10/2022",
          "08/10/2022",
          "09/10/2022",
          "10/10/2022",
          "30/09/2022",
          "01/10/2022",
          "02/10/2022",
          "03/10/2022",
          "04/10/2022",
          "05/10/2022",
          "06/10/2022",
          "07/10/2022",
          "08/10/2022",
          "09/10/2022",
          "10/10/2022",
          "30/09/2022",
          "01/10/2022",
          "02/10/2022",
          "03/10/2022",
          "04/10/2022",
          "05/10/2022",
          "06/10/2022",
          "07/10/2022",
          "08/10/2022",
          "09/10/2022",
          "10/10/2022",
          "30/09/2022",
          "01/10/2022",
          "02/10/2022",
          "03/10/2022",
          "04/10/2022",
          "05/10/2022",
          "06/10/2022",
          "07/10/2022",
          "08/10/2022",
          "09/10/2022",
          "10/10/2022",
          "30/09/2022",
          "01/10/2022",
          "02/10/2022",
          "03/10/2022",
          "04/10/2022",
          "05/10/2022",
          "06/10/2022",
          "07/10/2022",
          "08/10/2022",
          "09/10/2022",
          "10/10/2022",
          "30/09/2022",
          "01/10/2022",
          "02/10/2022",
          "03/10/2022",
          "04/10/2022",
          "05/10/2022",
          "06/10/2022",
          "07/10/2022",
          "08/10/2022",
          "09/10/2022",
          "10/10/2022",
          "30/09/2022",
          "01/10/2022",
          "02/10/2022",
          "03/10/2022",
          "04/10/2022",
          "05/10/2022",
          "06/10/2022",
          "07/10/2022",
          "08/10/2022",
          "09/10/2022",
          "10/10/2022",
          "30/09/2022",
          "01/10/2022",
          "02/10/2022",
          "03/10/2022",
          "04/10/2022",
          "05/10/2022",
          "06/10/2022",
          "07/10/2022",
          "08/10/2022",
          "09/10/2022",
          "10/10/2022"
         ],
         "x0": " ",
         "xaxis": "x",
         "y": [
          0.023346349993948537,
          0.037636129403527625,
          0.032554259594041624,
          0.026629553692672007,
          0.023761150069993492,
          0.019180066772581397,
          0.03239608753167684,
          0.02297072992836087,
          0.014787590933325583,
          0.02138504501938503,
          0.03376932301215799,
          0.34909498496863955,
          0.32483229367530475,
          0.3320258370056978,
          0.24831557519219719,
          0.2407267203936308,
          0.2530418174409575,
          0.2844271324907338,
          0.2518623800988283,
          0.3024476531480996,
          0.3132808337358924,
          0.239168543934365,
          0.4527761521448709,
          0.4837641331232521,
          0.46628005608132717,
          0.5930923498701989,
          0.6249691537924836,
          0.6050278692077421,
          0.5279208339613679,
          0.5819304829969246,
          0.5376909861826829,
          0.5195452329553266,
          0.5921624029826416,
          0.05663093948003074,
          0.05518655749163796,
          0.058251096901859555,
          0.03074077667233609,
          0.007870042540292896,
          0.01581902201798933,
          0.037689033405374,
          0.033748950100850925,
          0.025473525280207934,
          0.03212240839776396,
          0.033244853527598345,
          0.013780511370537802,
          0.01281723680218092,
          0.014333733732054356,
          0.011837888212058651,
          0.010276182816774107,
          0.010071344907398742,
          0.012176260777554418,
          0.011120928598533081,
          0.013022623566901087,
          0.012275594655130206,
          0.011507385988512864,
          0.005691125905694869,
          0.0026072585204365024,
          0.004454236875986643,
          0.005302069911025332,
          0.004646019349984739,
          0.0039172301775750335,
          0.005296235870629664,
          0.004798559684710427,
          0.003297348017592796,
          0.002584005332386635,
          0.005423759944783787,
          0.010263064663288142,
          0.006956070914603979,
          0.00849584409127014,
          0.007639911599832307,
          0.00687678163548259,
          0.006205797005757296,
          0.007849577273913147,
          0.0075145705956928205,
          0.007126571370431318,
          0.006265907832964851,
          0.0050942468974398735,
          0.07666526345336332,
          0.06397301663288762,
          0.0712803756146743,
          0.06706137904290295,
          0.07099704605516388,
          0.07673235515753181,
          0.0813836494490915,
          0.07633330835166764,
          0.08422410251880016,
          0.08096278624011592,
          0.07125985314829282,
          0.011751608019626027,
          0.012227303436168506,
          0.012324560103088297,
          0.009380495806776532,
          0.009876903346193674,
          0.010004497312466859,
          0.010861189239658597,
          0.009720089644431194,
          0.011929598981958663,
          0.011578185831034432,
          0.008369630564207796,
          1,
          1,
          1,
          1,
          1,
          1,
          1,
          1,
          1,
          1,
          1
         ],
         "y0": " ",
         "yaxis": "y"
        },
        {
         "alignmentgroup": "True",
         "boxpoints": "all",
         "customdata": [
          [
           "Consumos en bombeo",
           "Demanda en b.c.",
           -21958.695
          ],
          [
           "Consumos en bombeo",
           "Demanda en b.c.",
           -23466.109
          ],
          [
           "Consumos en bombeo",
           "Demanda en b.c.",
           -29958.458
          ],
          [
           "Consumos en bombeo",
           "Demanda en b.c.",
           -8436.197
          ],
          [
           "Consumos en bombeo",
           "Demanda en b.c.",
           -18434.496
          ],
          [
           "Consumos en bombeo",
           "Demanda en b.c.",
           -20579.037
          ],
          [
           "Consumos en bombeo",
           "Demanda en b.c.",
           -13346.909
          ],
          [
           "Consumos en bombeo",
           "Demanda en b.c.",
           -9230.133
          ],
          [
           "Consumos en bombeo",
           "Demanda en b.c.",
           -30925.179
          ],
          [
           "Consumos en bombeo",
           "Demanda en b.c.",
           -25521.409
          ],
          [
           "Consumos en bombeo",
           "Demanda en b.c.",
           -11415.535
          ],
          [
           "Saldo I. internacionales",
           "Demanda en b.c.",
           -102016.708
          ],
          [
           "Saldo I. internacionales",
           "Demanda en b.c.",
           -73733.979
          ],
          [
           "Saldo I. internacionales",
           "Demanda en b.c.",
           -95070.613
          ],
          [
           "Saldo I. internacionales",
           "Demanda en b.c.",
           -87387.721
          ],
          [
           "Saldo I. internacionales",
           "Demanda en b.c.",
           -92006.365
          ],
          [
           "Saldo I. internacionales",
           "Demanda en b.c.",
           -95130.545
          ],
          [
           "Saldo I. internacionales",
           "Demanda en b.c.",
           -105870.4
          ],
          [
           "Saldo I. internacionales",
           "Demanda en b.c.",
           -107395.628
          ],
          [
           "Saldo I. internacionales",
           "Demanda en b.c.",
           -119939.149
          ],
          [
           "Saldo I. internacionales",
           "Demanda en b.c.",
           -105823.299
          ],
          [
           "Saldo I. internacionales",
           "Demanda en b.c.",
           -89455.926
          ],
          [
           "Demanda en b.c.",
           "Demanda en b.c.",
           649024.388
          ],
          [
           "Demanda en b.c.",
           "Demanda en b.c.",
           576530.486
          ],
          [
           "Demanda en b.c.",
           "Demanda en b.c.",
           536105.027
          ],
          [
           "Demanda en b.c.",
           "Demanda en b.c.",
           644976.6529999999
          ],
          [
           "Demanda en b.c.",
           "Demanda en b.c.",
           667812.384
          ],
          [
           "Demanda en b.c.",
           "Demanda en b.c.",
           669204.132
          ],
          [
           "Demanda en b.c.",
           "Demanda en b.c.",
           675127.531
          ],
          [
           "Demanda en b.c.",
           "Demanda en b.c.",
           666351.834
          ],
          [
           "Demanda en b.c.",
           "Demanda en b.c.",
           589542.598
          ],
          [
           "Demanda en b.c.",
           "Demanda en b.c.",
           540796.4500000001
          ],
          [
           "Demanda en b.c.",
           "Demanda en b.c.",
           644622.826
          ]
         ],
         "fillcolor": "rgba(255,255,255,0)",
         "hoveron": "points",
         "hovertemplate": "tipo de energía=%{customdata[1]}<br>Fecha actualización=%{x}<br>Porcentaje=%{y}<br>nombre=%{customdata[0]}<br>Valores=%{customdata[2]}<extra></extra>",
         "legendgroup": "Demanda en b.c.",
         "line": {
          "color": "rgba(255,255,255,0)"
         },
         "marker": {
          "color": "#00CC96"
         },
         "name": "Demanda en b.c.",
         "offsetgroup": "Demanda en b.c.",
         "orientation": "v",
         "pointpos": 0,
         "showlegend": true,
         "type": "box",
         "x": [
          "30/09/2022",
          "01/10/2022",
          "02/10/2022",
          "03/10/2022",
          "04/10/2022",
          "05/10/2022",
          "06/10/2022",
          "07/10/2022",
          "08/10/2022",
          "09/10/2022",
          "10/10/2022",
          "30/09/2022",
          "01/10/2022",
          "02/10/2022",
          "03/10/2022",
          "04/10/2022",
          "05/10/2022",
          "06/10/2022",
          "07/10/2022",
          "08/10/2022",
          "09/10/2022",
          "10/10/2022",
          "30/09/2022",
          "01/10/2022",
          "02/10/2022",
          "03/10/2022",
          "04/10/2022",
          "05/10/2022",
          "06/10/2022",
          "07/10/2022",
          "08/10/2022",
          "09/10/2022",
          "10/10/2022"
         ],
         "x0": " ",
         "xaxis": "x",
         "y": [
          0.024480827504355714,
          0.030438676468156872,
          0.03810717568734131,
          0.01008361231462829,
          0.02074335350661142,
          0.022849772031657504,
          0.014609743863195015,
          0.010260225174171094,
          0.034697830611285486,
          0.03176335773901466,
          0.0134877090985492,
          0.11373414636481019,
          0.09564281541055115,
          0.1209298740373832,
          0.10445274092377184,
          0.10352984719806389,
          0.10562745314551578,
          0.1158874632841208,
          0.11938108865836647,
          0.13457087105829627,
          0.13170524022634145,
          0.10569417088461855,
          1,
          1,
          1,
          1,
          1,
          1,
          1,
          1,
          1,
          1,
          1
         ],
         "y0": " ",
         "yaxis": "y"
        }
       ],
       "layout": {
        "boxmode": "group",
        "legend": {
         "title": {
          "text": "tipo de energía"
         },
         "tracegroupgap": 0
        },
        "margin": {
         "t": 60
        },
        "template": {
         "data": {
          "bar": [
           {
            "error_x": {
             "color": "#2a3f5f"
            },
            "error_y": {
             "color": "#2a3f5f"
            },
            "marker": {
             "line": {
              "color": "#E5ECF6",
              "width": 0.5
             },
             "pattern": {
              "fillmode": "overlay",
              "size": 10,
              "solidity": 0.2
             }
            },
            "type": "bar"
           }
          ],
          "barpolar": [
           {
            "marker": {
             "line": {
              "color": "#E5ECF6",
              "width": 0.5
             },
             "pattern": {
              "fillmode": "overlay",
              "size": 10,
              "solidity": 0.2
             }
            },
            "type": "barpolar"
           }
          ],
          "carpet": [
           {
            "aaxis": {
             "endlinecolor": "#2a3f5f",
             "gridcolor": "white",
             "linecolor": "white",
             "minorgridcolor": "white",
             "startlinecolor": "#2a3f5f"
            },
            "baxis": {
             "endlinecolor": "#2a3f5f",
             "gridcolor": "white",
             "linecolor": "white",
             "minorgridcolor": "white",
             "startlinecolor": "#2a3f5f"
            },
            "type": "carpet"
           }
          ],
          "choropleth": [
           {
            "colorbar": {
             "outlinewidth": 0,
             "ticks": ""
            },
            "type": "choropleth"
           }
          ],
          "contour": [
           {
            "colorbar": {
             "outlinewidth": 0,
             "ticks": ""
            },
            "colorscale": [
             [
              0,
              "#0d0887"
             ],
             [
              0.1111111111111111,
              "#46039f"
             ],
             [
              0.2222222222222222,
              "#7201a8"
             ],
             [
              0.3333333333333333,
              "#9c179e"
             ],
             [
              0.4444444444444444,
              "#bd3786"
             ],
             [
              0.5555555555555556,
              "#d8576b"
             ],
             [
              0.6666666666666666,
              "#ed7953"
             ],
             [
              0.7777777777777778,
              "#fb9f3a"
             ],
             [
              0.8888888888888888,
              "#fdca26"
             ],
             [
              1,
              "#f0f921"
             ]
            ],
            "type": "contour"
           }
          ],
          "contourcarpet": [
           {
            "colorbar": {
             "outlinewidth": 0,
             "ticks": ""
            },
            "type": "contourcarpet"
           }
          ],
          "heatmap": [
           {
            "colorbar": {
             "outlinewidth": 0,
             "ticks": ""
            },
            "colorscale": [
             [
              0,
              "#0d0887"
             ],
             [
              0.1111111111111111,
              "#46039f"
             ],
             [
              0.2222222222222222,
              "#7201a8"
             ],
             [
              0.3333333333333333,
              "#9c179e"
             ],
             [
              0.4444444444444444,
              "#bd3786"
             ],
             [
              0.5555555555555556,
              "#d8576b"
             ],
             [
              0.6666666666666666,
              "#ed7953"
             ],
             [
              0.7777777777777778,
              "#fb9f3a"
             ],
             [
              0.8888888888888888,
              "#fdca26"
             ],
             [
              1,
              "#f0f921"
             ]
            ],
            "type": "heatmap"
           }
          ],
          "heatmapgl": [
           {
            "colorbar": {
             "outlinewidth": 0,
             "ticks": ""
            },
            "colorscale": [
             [
              0,
              "#0d0887"
             ],
             [
              0.1111111111111111,
              "#46039f"
             ],
             [
              0.2222222222222222,
              "#7201a8"
             ],
             [
              0.3333333333333333,
              "#9c179e"
             ],
             [
              0.4444444444444444,
              "#bd3786"
             ],
             [
              0.5555555555555556,
              "#d8576b"
             ],
             [
              0.6666666666666666,
              "#ed7953"
             ],
             [
              0.7777777777777778,
              "#fb9f3a"
             ],
             [
              0.8888888888888888,
              "#fdca26"
             ],
             [
              1,
              "#f0f921"
             ]
            ],
            "type": "heatmapgl"
           }
          ],
          "histogram": [
           {
            "marker": {
             "pattern": {
              "fillmode": "overlay",
              "size": 10,
              "solidity": 0.2
             }
            },
            "type": "histogram"
           }
          ],
          "histogram2d": [
           {
            "colorbar": {
             "outlinewidth": 0,
             "ticks": ""
            },
            "colorscale": [
             [
              0,
              "#0d0887"
             ],
             [
              0.1111111111111111,
              "#46039f"
             ],
             [
              0.2222222222222222,
              "#7201a8"
             ],
             [
              0.3333333333333333,
              "#9c179e"
             ],
             [
              0.4444444444444444,
              "#bd3786"
             ],
             [
              0.5555555555555556,
              "#d8576b"
             ],
             [
              0.6666666666666666,
              "#ed7953"
             ],
             [
              0.7777777777777778,
              "#fb9f3a"
             ],
             [
              0.8888888888888888,
              "#fdca26"
             ],
             [
              1,
              "#f0f921"
             ]
            ],
            "type": "histogram2d"
           }
          ],
          "histogram2dcontour": [
           {
            "colorbar": {
             "outlinewidth": 0,
             "ticks": ""
            },
            "colorscale": [
             [
              0,
              "#0d0887"
             ],
             [
              0.1111111111111111,
              "#46039f"
             ],
             [
              0.2222222222222222,
              "#7201a8"
             ],
             [
              0.3333333333333333,
              "#9c179e"
             ],
             [
              0.4444444444444444,
              "#bd3786"
             ],
             [
              0.5555555555555556,
              "#d8576b"
             ],
             [
              0.6666666666666666,
              "#ed7953"
             ],
             [
              0.7777777777777778,
              "#fb9f3a"
             ],
             [
              0.8888888888888888,
              "#fdca26"
             ],
             [
              1,
              "#f0f921"
             ]
            ],
            "type": "histogram2dcontour"
           }
          ],
          "mesh3d": [
           {
            "colorbar": {
             "outlinewidth": 0,
             "ticks": ""
            },
            "type": "mesh3d"
           }
          ],
          "parcoords": [
           {
            "line": {
             "colorbar": {
              "outlinewidth": 0,
              "ticks": ""
             }
            },
            "type": "parcoords"
           }
          ],
          "pie": [
           {
            "automargin": true,
            "type": "pie"
           }
          ],
          "scatter": [
           {
            "fillpattern": {
             "fillmode": "overlay",
             "size": 10,
             "solidity": 0.2
            },
            "type": "scatter"
           }
          ],
          "scatter3d": [
           {
            "line": {
             "colorbar": {
              "outlinewidth": 0,
              "ticks": ""
             }
            },
            "marker": {
             "colorbar": {
              "outlinewidth": 0,
              "ticks": ""
             }
            },
            "type": "scatter3d"
           }
          ],
          "scattercarpet": [
           {
            "marker": {
             "colorbar": {
              "outlinewidth": 0,
              "ticks": ""
             }
            },
            "type": "scattercarpet"
           }
          ],
          "scattergeo": [
           {
            "marker": {
             "colorbar": {
              "outlinewidth": 0,
              "ticks": ""
             }
            },
            "type": "scattergeo"
           }
          ],
          "scattergl": [
           {
            "marker": {
             "colorbar": {
              "outlinewidth": 0,
              "ticks": ""
             }
            },
            "type": "scattergl"
           }
          ],
          "scattermapbox": [
           {
            "marker": {
             "colorbar": {
              "outlinewidth": 0,
              "ticks": ""
             }
            },
            "type": "scattermapbox"
           }
          ],
          "scatterpolar": [
           {
            "marker": {
             "colorbar": {
              "outlinewidth": 0,
              "ticks": ""
             }
            },
            "type": "scatterpolar"
           }
          ],
          "scatterpolargl": [
           {
            "marker": {
             "colorbar": {
              "outlinewidth": 0,
              "ticks": ""
             }
            },
            "type": "scatterpolargl"
           }
          ],
          "scatterternary": [
           {
            "marker": {
             "colorbar": {
              "outlinewidth": 0,
              "ticks": ""
             }
            },
            "type": "scatterternary"
           }
          ],
          "surface": [
           {
            "colorbar": {
             "outlinewidth": 0,
             "ticks": ""
            },
            "colorscale": [
             [
              0,
              "#0d0887"
             ],
             [
              0.1111111111111111,
              "#46039f"
             ],
             [
              0.2222222222222222,
              "#7201a8"
             ],
             [
              0.3333333333333333,
              "#9c179e"
             ],
             [
              0.4444444444444444,
              "#bd3786"
             ],
             [
              0.5555555555555556,
              "#d8576b"
             ],
             [
              0.6666666666666666,
              "#ed7953"
             ],
             [
              0.7777777777777778,
              "#fb9f3a"
             ],
             [
              0.8888888888888888,
              "#fdca26"
             ],
             [
              1,
              "#f0f921"
             ]
            ],
            "type": "surface"
           }
          ],
          "table": [
           {
            "cells": {
             "fill": {
              "color": "#EBF0F8"
             },
             "line": {
              "color": "white"
             }
            },
            "header": {
             "fill": {
              "color": "#C8D4E3"
             },
             "line": {
              "color": "white"
             }
            },
            "type": "table"
           }
          ]
         },
         "layout": {
          "annotationdefaults": {
           "arrowcolor": "#2a3f5f",
           "arrowhead": 0,
           "arrowwidth": 1
          },
          "autotypenumbers": "strict",
          "coloraxis": {
           "colorbar": {
            "outlinewidth": 0,
            "ticks": ""
           }
          },
          "colorscale": {
           "diverging": [
            [
             0,
             "#8e0152"
            ],
            [
             0.1,
             "#c51b7d"
            ],
            [
             0.2,
             "#de77ae"
            ],
            [
             0.3,
             "#f1b6da"
            ],
            [
             0.4,
             "#fde0ef"
            ],
            [
             0.5,
             "#f7f7f7"
            ],
            [
             0.6,
             "#e6f5d0"
            ],
            [
             0.7,
             "#b8e186"
            ],
            [
             0.8,
             "#7fbc41"
            ],
            [
             0.9,
             "#4d9221"
            ],
            [
             1,
             "#276419"
            ]
           ],
           "sequential": [
            [
             0,
             "#0d0887"
            ],
            [
             0.1111111111111111,
             "#46039f"
            ],
            [
             0.2222222222222222,
             "#7201a8"
            ],
            [
             0.3333333333333333,
             "#9c179e"
            ],
            [
             0.4444444444444444,
             "#bd3786"
            ],
            [
             0.5555555555555556,
             "#d8576b"
            ],
            [
             0.6666666666666666,
             "#ed7953"
            ],
            [
             0.7777777777777778,
             "#fb9f3a"
            ],
            [
             0.8888888888888888,
             "#fdca26"
            ],
            [
             1,
             "#f0f921"
            ]
           ],
           "sequentialminus": [
            [
             0,
             "#0d0887"
            ],
            [
             0.1111111111111111,
             "#46039f"
            ],
            [
             0.2222222222222222,
             "#7201a8"
            ],
            [
             0.3333333333333333,
             "#9c179e"
            ],
            [
             0.4444444444444444,
             "#bd3786"
            ],
            [
             0.5555555555555556,
             "#d8576b"
            ],
            [
             0.6666666666666666,
             "#ed7953"
            ],
            [
             0.7777777777777778,
             "#fb9f3a"
            ],
            [
             0.8888888888888888,
             "#fdca26"
            ],
            [
             1,
             "#f0f921"
            ]
           ]
          },
          "colorway": [
           "#636efa",
           "#EF553B",
           "#00cc96",
           "#ab63fa",
           "#FFA15A",
           "#19d3f3",
           "#FF6692",
           "#B6E880",
           "#FF97FF",
           "#FECB52"
          ],
          "font": {
           "color": "#2a3f5f"
          },
          "geo": {
           "bgcolor": "white",
           "lakecolor": "white",
           "landcolor": "#E5ECF6",
           "showlakes": true,
           "showland": true,
           "subunitcolor": "white"
          },
          "hoverlabel": {
           "align": "left"
          },
          "hovermode": "closest",
          "mapbox": {
           "style": "light"
          },
          "paper_bgcolor": "white",
          "plot_bgcolor": "#E5ECF6",
          "polar": {
           "angularaxis": {
            "gridcolor": "white",
            "linecolor": "white",
            "ticks": ""
           },
           "bgcolor": "#E5ECF6",
           "radialaxis": {
            "gridcolor": "white",
            "linecolor": "white",
            "ticks": ""
           }
          },
          "scene": {
           "xaxis": {
            "backgroundcolor": "#E5ECF6",
            "gridcolor": "white",
            "gridwidth": 2,
            "linecolor": "white",
            "showbackground": true,
            "ticks": "",
            "zerolinecolor": "white"
           },
           "yaxis": {
            "backgroundcolor": "#E5ECF6",
            "gridcolor": "white",
            "gridwidth": 2,
            "linecolor": "white",
            "showbackground": true,
            "ticks": "",
            "zerolinecolor": "white"
           },
           "zaxis": {
            "backgroundcolor": "#E5ECF6",
            "gridcolor": "white",
            "gridwidth": 2,
            "linecolor": "white",
            "showbackground": true,
            "ticks": "",
            "zerolinecolor": "white"
           }
          },
          "shapedefaults": {
           "line": {
            "color": "#2a3f5f"
           }
          },
          "ternary": {
           "aaxis": {
            "gridcolor": "white",
            "linecolor": "white",
            "ticks": ""
           },
           "baxis": {
            "gridcolor": "white",
            "linecolor": "white",
            "ticks": ""
           },
           "bgcolor": "#E5ECF6",
           "caxis": {
            "gridcolor": "white",
            "linecolor": "white",
            "ticks": ""
           }
          },
          "title": {
           "x": 0.05
          },
          "xaxis": {
           "automargin": true,
           "gridcolor": "white",
           "linecolor": "white",
           "ticks": "",
           "title": {
            "standoff": 15
           },
           "zerolinecolor": "white",
           "zerolinewidth": 2
          },
          "yaxis": {
           "automargin": true,
           "gridcolor": "white",
           "linecolor": "white",
           "ticks": "",
           "title": {
            "standoff": 15
           },
           "zerolinecolor": "white",
           "zerolinewidth": 2
          }
         }
        },
        "xaxis": {
         "anchor": "y",
         "domain": [
          0,
          1
         ],
         "title": {
          "text": "Fecha actualización"
         }
        },
        "yaxis": {
         "anchor": "x",
         "domain": [
          0,
          1
         ],
         "title": {
          "text": "Porcentaje"
         }
        }
       }
      }
     },
     "metadata": {},
     "output_type": "display_data"
    }
   ],
   "source": [
    "fig2 = px.strip(data_frame = df_balance,\n",
    "         x          = \"Fecha actualización\",\n",
    "         y          = \"Porcentaje\",\n",
    "         color      = \"tipo de energía\",\n",
    "         color_discrete_sequence = colores_personalizados,\n",
    "         hover_data = df_balance.columns)\n",
    "\n",
    "fig2.show()"
   ]
  },
  {
   "cell_type": "code",
   "execution_count": 111,
   "metadata": {},
   "outputs": [
    {
     "name": "stderr",
     "output_type": "stream",
     "text": [
      "/opt/anaconda3/lib/python3.11/site-packages/plotly/express/_core.py:1979: FutureWarning:\n",
      "\n",
      "When grouping with a length-1 list-like, you will need to pass a length-1 tuple to get_group in a future version of pandas. Pass `(name,)` instead of `name` to silence this warning.\n",
      "\n"
     ]
    },
    {
     "data": {
      "application/vnd.plotly.v1+json": {
       "config": {
        "plotlyServerURL": "https://plot.ly"
       },
       "data": [
        {
         "hovertemplate": "nombre=Hidráulica<br>Fecha actualización=%{x}<br>Valores=%{y}<extra></extra>",
         "legendgroup": "Hidráulica",
         "line": {
          "color": "#636EFA",
          "dash": "solid"
         },
         "marker": {
          "symbol": "circle"
         },
         "mode": "lines",
         "name": "Hidráulica",
         "orientation": "v",
         "showlegend": true,
         "type": "scatter",
         "x": [
          "30/09/2022",
          "01/10/2022",
          "02/10/2022",
          "03/10/2022",
          "04/10/2022",
          "05/10/2022",
          "06/10/2022",
          "07/10/2022",
          "08/10/2022",
          "09/10/2022",
          "10/10/2022"
         ],
         "xaxis": "x",
         "y": [
          23389.362,
          18682.792,
          15426.459,
          28347.218,
          23889.363,
          16700.245,
          17394.309,
          21798.945,
          13744.212,
          12758.185,
          22934.016
         ],
         "yaxis": "y"
        },
        {
         "hovertemplate": "nombre=Eólica<br>Fecha actualización=%{x}<br>Valores=%{y}<extra></extra>",
         "legendgroup": "Eólica",
         "line": {
          "color": "#EF553B",
          "dash": "solid"
         },
         "marker": {
          "symbol": "circle"
         },
         "mode": "lines",
         "name": "Eólica",
         "orientation": "v",
         "showlegend": true,
         "type": "scatter",
         "x": [
          "30/09/2022",
          "01/10/2022",
          "02/10/2022",
          "03/10/2022",
          "04/10/2022",
          "05/10/2022",
          "06/10/2022",
          "07/10/2022",
          "08/10/2022",
          "09/10/2022",
          "10/10/2022"
         ],
         "xaxis": "x",
         "y": [
          202650.631,
          74554.752,
          86900.257,
          43871.896,
          49607.025,
          96162.58,
          170577.908,
          86620.241,
          141796.192,
          102798.322,
          57384.643
         ],
         "yaxis": "y"
        },
        {
         "hovertemplate": "nombre=Solar fotovoltaica<br>Fecha actualización=%{x}<br>Valores=%{y}<extra></extra>",
         "legendgroup": "Solar fotovoltaica",
         "line": {
          "color": "#00CC96",
          "dash": "solid"
         },
         "marker": {
          "symbol": "circle"
         },
         "mode": "lines",
         "name": "Solar fotovoltaica",
         "orientation": "v",
         "showlegend": true,
         "type": "scatter",
         "x": [
          "30/09/2022",
          "01/10/2022",
          "02/10/2022",
          "03/10/2022",
          "04/10/2022",
          "05/10/2022",
          "06/10/2022",
          "07/10/2022",
          "08/10/2022",
          "09/10/2022",
          "10/10/2022"
         ],
         "xaxis": "x",
         "y": [
          103063.7,
          103236.213,
          97177.981,
          74184.973,
          86286.17,
          84713.548,
          80312.204,
          82334.782,
          86371.875,
          79299.044,
          52328.088
         ],
         "yaxis": "y"
        },
        {
         "hovertemplate": "nombre=Solar térmica<br>Fecha actualización=%{x}<br>Valores=%{y}<extra></extra>",
         "legendgroup": "Solar térmica",
         "line": {
          "color": "#AB63FA",
          "dash": "solid"
         },
         "marker": {
          "symbol": "circle"
         },
         "mode": "lines",
         "name": "Solar térmica",
         "orientation": "v",
         "showlegend": true,
         "type": "scatter",
         "x": [
          "30/09/2022",
          "01/10/2022",
          "02/10/2022",
          "03/10/2022",
          "04/10/2022",
          "05/10/2022",
          "06/10/2022",
          "07/10/2022",
          "08/10/2022",
          "09/10/2022",
          "10/10/2022"
         ],
         "xaxis": "x",
         "y": [
          18056.395,
          18348.975,
          13148.738,
          1688.234,
          7104.134,
          6790.414,
          8466.764,
          9205.138,
          11180.241,
          7951.62,
          1585.543
         ],
         "yaxis": "y"
        },
        {
         "hovertemplate": "nombre=Hidroeólica<br>Fecha actualización=%{x}<br>Valores=%{y}<extra></extra>",
         "legendgroup": "Hidroeólica",
         "line": {
          "color": "#FFA15A",
          "dash": "solid"
         },
         "marker": {
          "symbol": "circle"
         },
         "mode": "lines",
         "name": "Hidroeólica",
         "orientation": "v",
         "showlegend": true,
         "type": "scatter",
         "x": [
          "30/09/2022",
          "01/10/2022",
          "02/10/2022",
          "03/10/2022",
          "04/10/2022",
          "05/10/2022",
          "06/10/2022",
          "07/10/2022",
          "08/10/2022",
          "09/10/2022",
          "10/10/2022"
         ],
         "xaxis": "x",
         "y": [
          105.046,
          87.67,
          29.347,
          6.856,
          5.849,
          81.173,
          116.849,
          114.903,
          110.01,
          91.346,
          95.355
         ],
         "yaxis": "y"
        },
        {
         "hovertemplate": "nombre=Otras renovables<br>Fecha actualización=%{x}<br>Valores=%{y}<extra></extra>",
         "legendgroup": "Otras renovables",
         "line": {
          "color": "#19D3F3",
          "dash": "solid"
         },
         "marker": {
          "symbol": "circle"
         },
         "mode": "lines",
         "name": "Otras renovables",
         "orientation": "v",
         "showlegend": true,
         "type": "scatter",
         "x": [
          "30/09/2022",
          "01/10/2022",
          "02/10/2022",
          "03/10/2022",
          "04/10/2022",
          "05/10/2022",
          "06/10/2022",
          "07/10/2022",
          "08/10/2022",
          "09/10/2022",
          "10/10/2022"
         ],
         "xaxis": "x",
         "y": [
          10781.566,
          12459.459,
          12395.089,
          12060.448,
          11815.011,
          12281.244,
          11495.59,
          11751.844,
          11811.743,
          10617.461,
          12492.72
         ],
         "yaxis": "y"
        },
        {
         "hovertemplate": "nombre=Residuos renovables<br>Fecha actualización=%{x}<br>Valores=%{y}<extra></extra>",
         "legendgroup": "Residuos renovables",
         "line": {
          "color": "#FF6692",
          "dash": "solid"
         },
         "marker": {
          "symbol": "circle"
         },
         "mode": "lines",
         "name": "Residuos renovables",
         "orientation": "v",
         "showlegend": true,
         "type": "scatter",
         "x": [
          "30/09/2022",
          "01/10/2022",
          "02/10/2022",
          "03/10/2022",
          "04/10/2022",
          "05/10/2022",
          "06/10/2022",
          "07/10/2022",
          "08/10/2022",
          "09/10/2022",
          "10/10/2022"
         ],
         "xaxis": "x",
         "y": [
          2263.3985,
          2478.378,
          2306.5065,
          2129.1475,
          2515.248,
          2419.952,
          2333.33,
          2367.9445,
          2377.675,
          2378.4435,
          2248.3735
         ],
         "yaxis": "y"
        },
        {
         "hovertemplate": "nombre=Generación renovable<br>Fecha actualización=%{x}<br>Valores=%{y}<extra></extra>",
         "legendgroup": "Generación renovable",
         "line": {
          "color": "#B6E880",
          "dash": "solid"
         },
         "marker": {
          "symbol": "circle"
         },
         "mode": "lines",
         "name": "Generación renovable",
         "orientation": "v",
         "showlegend": true,
         "type": "scatter",
         "x": [
          "30/09/2022",
          "01/10/2022",
          "02/10/2022",
          "03/10/2022",
          "04/10/2022",
          "05/10/2022",
          "06/10/2022",
          "07/10/2022",
          "08/10/2022",
          "09/10/2022",
          "10/10/2022"
         ],
         "xaxis": "x",
         "y": [
          360310.09849999996,
          229848.239,
          227384.3775,
          162288.7725,
          181222.8,
          219149.156,
          290696.954,
          214193.79750000002,
          267391.94800000003,
          215894.42149999997,
          149068.7385
         ],
         "yaxis": "y"
        },
        {
         "hovertemplate": "nombre=Turbinación bombeo<br>Fecha actualización=%{x}<br>Valores=%{y}<extra></extra>",
         "legendgroup": "Turbinación bombeo",
         "line": {
          "color": "#FF97FF",
          "dash": "solid"
         },
         "marker": {
          "symbol": "circle"
         },
         "mode": "lines",
         "name": "Turbinación bombeo",
         "orientation": "v",
         "showlegend": true,
         "type": "scatter",
         "x": [
          "30/09/2022",
          "01/10/2022",
          "02/10/2022",
          "03/10/2022",
          "04/10/2022",
          "05/10/2022",
          "06/10/2022",
          "07/10/2022",
          "08/10/2022",
          "09/10/2022",
          "10/10/2022"
         ],
         "xaxis": "x",
         "y": [
          9634.798,
          16706.013,
          14120.401,
          15405.511,
          14186.13,
          10851.402,
          16316.221,
          13065.379,
          6994.752,
          9756.857,
          20140.887
         ],
         "yaxis": "y"
        },
        {
         "hovertemplate": "nombre=Nuclear<br>Fecha actualización=%{x}<br>Valores=%{y}<extra></extra>",
         "legendgroup": "Nuclear",
         "line": {
          "color": "#FECB52",
          "dash": "solid"
         },
         "marker": {
          "symbol": "circle"
         },
         "mode": "lines",
         "name": "Nuclear",
         "orientation": "v",
         "showlegend": true,
         "type": "scatter",
         "x": [
          "30/09/2022",
          "01/10/2022",
          "02/10/2022",
          "03/10/2022",
          "04/10/2022",
          "05/10/2022",
          "06/10/2022",
          "07/10/2022",
          "08/10/2022",
          "09/10/2022",
          "10/10/2022"
         ],
         "xaxis": "x",
         "y": [
          144067.902,
          144187.317,
          144016.114,
          143653.49,
          143721.181,
          143162.092,
          143251.124,
          143255.241,
          143062.27,
          142933.358,
          142646.23
         ],
         "yaxis": "y"
        },
        {
         "hovertemplate": "nombre=Ciclo combinado<br>Fecha actualización=%{x}<br>Valores=%{y}<extra></extra>",
         "legendgroup": "Ciclo combinado",
         "line": {
          "color": "rgb(102, 197, 204)",
          "dash": "solid"
         },
         "marker": {
          "symbol": "circle"
         },
         "mode": "lines",
         "name": "Ciclo combinado",
         "orientation": "v",
         "showlegend": true,
         "type": "scatter",
         "x": [
          "30/09/2022",
          "01/10/2022",
          "02/10/2022",
          "03/10/2022",
          "04/10/2022",
          "05/10/2022",
          "06/10/2022",
          "07/10/2022",
          "08/10/2022",
          "09/10/2022",
          "10/10/2022"
         ],
         "xaxis": "x",
         "y": [
          186856.051,
          214734.353,
          202248.844,
          343110.922,
          373125.612,
          342303.325,
          265886.212,
          330992.63,
          254335.89,
          237040.817,
          353180.786
         ],
         "yaxis": "y"
        },
        {
         "hovertemplate": "nombre=Carbón<br>Fecha actualización=%{x}<br>Valores=%{y}<extra></extra>",
         "legendgroup": "Carbón",
         "line": {
          "color": "rgb(246, 207, 113)",
          "dash": "solid"
         },
         "marker": {
          "symbol": "circle"
         },
         "mode": "lines",
         "name": "Carbón",
         "orientation": "v",
         "showlegend": true,
         "type": "scatter",
         "x": [
          "30/09/2022",
          "01/10/2022",
          "02/10/2022",
          "03/10/2022",
          "04/10/2022",
          "05/10/2022",
          "06/10/2022",
          "07/10/2022",
          "08/10/2022",
          "09/10/2022",
          "10/10/2022"
         ],
         "xaxis": "x",
         "y": [
          23371.005,
          24496.338,
          25266.397,
          17783.902,
          4698.655,
          8949.842,
          18982.002,
          19195.856,
          12049.359,
          14655.744,
          19828.08
         ],
         "yaxis": "y"
        },
        {
         "hovertemplate": "nombre=Motores diésel<br>Fecha actualización=%{x}<br>Valores=%{y}<extra></extra>",
         "legendgroup": "Motores diésel",
         "line": {
          "color": "rgb(248, 156, 116)",
          "dash": "solid"
         },
         "marker": {
          "symbol": "circle"
         },
         "mode": "lines",
         "name": "Motores diésel",
         "orientation": "v",
         "showlegend": true,
         "type": "scatter",
         "x": [
          "30/09/2022",
          "01/10/2022",
          "02/10/2022",
          "03/10/2022",
          "04/10/2022",
          "05/10/2022",
          "06/10/2022",
          "07/10/2022",
          "08/10/2022",
          "09/10/2022",
          "10/10/2022"
         ],
         "xaxis": "x",
         "y": [
          5687.075,
          5689.345,
          6217.253,
          6848.358,
          6135.194,
          5698.01,
          6132.548,
          6325.404,
          6159.896,
          5600.7,
          6863.299
         ],
         "yaxis": "y"
        },
        {
         "hovertemplate": "nombre=Turbina de gas<br>Fecha actualización=%{x}<br>Valores=%{y}<extra></extra>",
         "legendgroup": "Turbina de gas",
         "line": {
          "color": "rgb(220, 176, 242)",
          "dash": "solid"
         },
         "marker": {
          "symbol": "circle"
         },
         "mode": "lines",
         "name": "Turbina de gas",
         "orientation": "v",
         "showlegend": true,
         "type": "scatter",
         "x": [
          "30/09/2022",
          "01/10/2022",
          "02/10/2022",
          "03/10/2022",
          "04/10/2022",
          "05/10/2022",
          "06/10/2022",
          "07/10/2022",
          "08/10/2022",
          "09/10/2022",
          "10/10/2022"
         ],
         "xaxis": "x",
         "y": [
          2348.669,
          1157.316,
          1932.024,
          3067.31,
          2773.815,
          2216.23,
          2667.438,
          2729.343,
          1559.695,
          1178.944,
          3234.869
         ],
         "yaxis": "y"
        },
        {
         "hovertemplate": "nombre=Turbina de vapor<br>Fecha actualización=%{x}<br>Valores=%{y}<extra></extra>",
         "legendgroup": "Turbina de vapor",
         "line": {
          "color": "rgb(135, 197, 95)",
          "dash": "solid"
         },
         "marker": {
          "symbol": "circle"
         },
         "mode": "lines",
         "name": "Turbina de vapor",
         "orientation": "v",
         "showlegend": true,
         "type": "scatter",
         "x": [
          "30/09/2022",
          "01/10/2022",
          "02/10/2022",
          "03/10/2022",
          "04/10/2022",
          "05/10/2022",
          "06/10/2022",
          "07/10/2022",
          "08/10/2022",
          "09/10/2022",
          "10/10/2022"
         ],
         "xaxis": "x",
         "y": [
          4235.461,
          3087.677,
          3685.07,
          4419.779,
          4105.648,
          3511.02,
          3953.423,
          4274.166,
          3370.975,
          2858.8,
          3038.339
         ],
         "yaxis": "y"
        },
        {
         "hovertemplate": "nombre=Cogeneración<br>Fecha actualización=%{x}<br>Valores=%{y}<extra></extra>",
         "legendgroup": "Cogeneración",
         "line": {
          "color": "rgb(158, 185, 243)",
          "dash": "solid"
         },
         "marker": {
          "symbol": "circle"
         },
         "mode": "lines",
         "name": "Cogeneración",
         "orientation": "v",
         "showlegend": true,
         "type": "scatter",
         "x": [
          "30/09/2022",
          "01/10/2022",
          "02/10/2022",
          "03/10/2022",
          "04/10/2022",
          "05/10/2022",
          "06/10/2022",
          "07/10/2022",
          "08/10/2022",
          "09/10/2022",
          "10/10/2022"
         ],
         "xaxis": "x",
         "y": [
          31638.964,
          28396.492,
          30917.843,
          38795.799,
          42387.398,
          43412.447,
          40988.703,
          43417.149,
          39839.262,
          36939.007,
          42501.197
         ],
         "yaxis": "y"
        },
        {
         "hovertemplate": "nombre=Residuos no renovables<br>Fecha actualización=%{x}<br>Valores=%{y}<extra></extra>",
         "legendgroup": "Residuos no renovables",
         "line": {
          "color": "rgb(254, 136, 177)",
          "dash": "solid"
         },
         "marker": {
          "symbol": "circle"
         },
         "mode": "lines",
         "name": "Residuos no renovables",
         "orientation": "v",
         "showlegend": true,
         "type": "scatter",
         "x": [
          "30/09/2022",
          "01/10/2022",
          "02/10/2022",
          "03/10/2022",
          "04/10/2022",
          "05/10/2022",
          "06/10/2022",
          "07/10/2022",
          "08/10/2022",
          "09/10/2022",
          "10/10/2022"
         ],
         "xaxis": "x",
         "y": [
          4849.7675,
          5427.484,
          5345.7745,
          5426.7275,
          5896.812,
          5660.19,
          5470.215,
          5528.6295,
          5642.879,
          5282.5095,
          4991.8615
         ],
         "yaxis": "y"
        },
        {
         "hovertemplate": "nombre=Generación no renovable<br>Fecha actualización=%{x}<br>Valores=%{y}<extra></extra>",
         "legendgroup": "Generación no renovable",
         "line": {
          "color": "rgb(201, 219, 116)",
          "dash": "solid"
         },
         "marker": {
          "symbol": "circle"
         },
         "mode": "lines",
         "name": "Generación no renovable",
         "orientation": "v",
         "showlegend": true,
         "type": "scatter",
         "x": [
          "30/09/2022",
          "01/10/2022",
          "02/10/2022",
          "03/10/2022",
          "04/10/2022",
          "05/10/2022",
          "06/10/2022",
          "07/10/2022",
          "08/10/2022",
          "09/10/2022",
          "10/10/2022"
         ],
         "xaxis": "x",
         "y": [
          412689.69250000006,
          443882.335,
          433749.72050000005,
          578511.7985,
          597030.4450000002,
          565764.558,
          503647.88600000006,
          568783.7975000001,
          473014.978,
          456246.7365,
          596425.5485
         ],
         "yaxis": "y"
        },
        {
         "hovertemplate": "nombre=Consumos en bombeo<br>Fecha actualización=%{x}<br>Valores=%{y}<extra></extra>",
         "legendgroup": "Consumos en bombeo",
         "line": {
          "color": "rgb(139, 224, 164)",
          "dash": "solid"
         },
         "marker": {
          "symbol": "circle"
         },
         "mode": "lines",
         "name": "Consumos en bombeo",
         "orientation": "v",
         "showlegend": true,
         "type": "scatter",
         "x": [
          "30/09/2022",
          "01/10/2022",
          "02/10/2022",
          "03/10/2022",
          "04/10/2022",
          "05/10/2022",
          "06/10/2022",
          "07/10/2022",
          "08/10/2022",
          "09/10/2022",
          "10/10/2022"
         ],
         "xaxis": "x",
         "y": [
          -21958.695,
          -23466.109,
          -29958.458,
          -8436.197,
          -18434.496,
          -20579.037,
          -13346.909,
          -9230.133,
          -30925.179,
          -25521.409,
          -11415.535
         ],
         "yaxis": "y"
        },
        {
         "hovertemplate": "nombre=Saldo I. internacionales<br>Fecha actualización=%{x}<br>Valores=%{y}<extra></extra>",
         "legendgroup": "Saldo I. internacionales",
         "line": {
          "color": "rgb(180, 151, 231)",
          "dash": "solid"
         },
         "marker": {
          "symbol": "circle"
         },
         "mode": "lines",
         "name": "Saldo I. internacionales",
         "orientation": "v",
         "showlegend": true,
         "type": "scatter",
         "x": [
          "30/09/2022",
          "01/10/2022",
          "02/10/2022",
          "03/10/2022",
          "04/10/2022",
          "05/10/2022",
          "06/10/2022",
          "07/10/2022",
          "08/10/2022",
          "09/10/2022",
          "10/10/2022"
         ],
         "xaxis": "x",
         "y": [
          -102016.708,
          -73733.979,
          -95070.613,
          -87387.721,
          -92006.365,
          -95130.545,
          -105870.4,
          -107395.628,
          -119939.149,
          -105823.299,
          -89455.926
         ],
         "yaxis": "y"
        },
        {
         "hovertemplate": "nombre=Demanda en b.c.<br>Fecha actualización=%{x}<br>Valores=%{y}<extra></extra>",
         "legendgroup": "Demanda en b.c.",
         "line": {
          "color": "rgb(179, 179, 179)",
          "dash": "solid"
         },
         "marker": {
          "symbol": "circle"
         },
         "mode": "lines",
         "name": "Demanda en b.c.",
         "orientation": "v",
         "showlegend": true,
         "type": "scatter",
         "x": [
          "30/09/2022",
          "01/10/2022",
          "02/10/2022",
          "03/10/2022",
          "04/10/2022",
          "05/10/2022",
          "06/10/2022",
          "07/10/2022",
          "08/10/2022",
          "09/10/2022",
          "10/10/2022"
         ],
         "xaxis": "x",
         "y": [
          649024.388,
          576530.486,
          536105.027,
          644976.6529999999,
          667812.384,
          669204.132,
          675127.531,
          666351.834,
          589542.598,
          540796.4500000001,
          644622.826
         ],
         "yaxis": "y"
        }
       ],
       "layout": {
        "legend": {
         "title": {
          "text": "nombre"
         },
         "tracegroupgap": 0
        },
        "margin": {
         "t": 60
        },
        "template": {
         "data": {
          "bar": [
           {
            "error_x": {
             "color": "#2a3f5f"
            },
            "error_y": {
             "color": "#2a3f5f"
            },
            "marker": {
             "line": {
              "color": "#E5ECF6",
              "width": 0.5
             },
             "pattern": {
              "fillmode": "overlay",
              "size": 10,
              "solidity": 0.2
             }
            },
            "type": "bar"
           }
          ],
          "barpolar": [
           {
            "marker": {
             "line": {
              "color": "#E5ECF6",
              "width": 0.5
             },
             "pattern": {
              "fillmode": "overlay",
              "size": 10,
              "solidity": 0.2
             }
            },
            "type": "barpolar"
           }
          ],
          "carpet": [
           {
            "aaxis": {
             "endlinecolor": "#2a3f5f",
             "gridcolor": "white",
             "linecolor": "white",
             "minorgridcolor": "white",
             "startlinecolor": "#2a3f5f"
            },
            "baxis": {
             "endlinecolor": "#2a3f5f",
             "gridcolor": "white",
             "linecolor": "white",
             "minorgridcolor": "white",
             "startlinecolor": "#2a3f5f"
            },
            "type": "carpet"
           }
          ],
          "choropleth": [
           {
            "colorbar": {
             "outlinewidth": 0,
             "ticks": ""
            },
            "type": "choropleth"
           }
          ],
          "contour": [
           {
            "colorbar": {
             "outlinewidth": 0,
             "ticks": ""
            },
            "colorscale": [
             [
              0,
              "#0d0887"
             ],
             [
              0.1111111111111111,
              "#46039f"
             ],
             [
              0.2222222222222222,
              "#7201a8"
             ],
             [
              0.3333333333333333,
              "#9c179e"
             ],
             [
              0.4444444444444444,
              "#bd3786"
             ],
             [
              0.5555555555555556,
              "#d8576b"
             ],
             [
              0.6666666666666666,
              "#ed7953"
             ],
             [
              0.7777777777777778,
              "#fb9f3a"
             ],
             [
              0.8888888888888888,
              "#fdca26"
             ],
             [
              1,
              "#f0f921"
             ]
            ],
            "type": "contour"
           }
          ],
          "contourcarpet": [
           {
            "colorbar": {
             "outlinewidth": 0,
             "ticks": ""
            },
            "type": "contourcarpet"
           }
          ],
          "heatmap": [
           {
            "colorbar": {
             "outlinewidth": 0,
             "ticks": ""
            },
            "colorscale": [
             [
              0,
              "#0d0887"
             ],
             [
              0.1111111111111111,
              "#46039f"
             ],
             [
              0.2222222222222222,
              "#7201a8"
             ],
             [
              0.3333333333333333,
              "#9c179e"
             ],
             [
              0.4444444444444444,
              "#bd3786"
             ],
             [
              0.5555555555555556,
              "#d8576b"
             ],
             [
              0.6666666666666666,
              "#ed7953"
             ],
             [
              0.7777777777777778,
              "#fb9f3a"
             ],
             [
              0.8888888888888888,
              "#fdca26"
             ],
             [
              1,
              "#f0f921"
             ]
            ],
            "type": "heatmap"
           }
          ],
          "heatmapgl": [
           {
            "colorbar": {
             "outlinewidth": 0,
             "ticks": ""
            },
            "colorscale": [
             [
              0,
              "#0d0887"
             ],
             [
              0.1111111111111111,
              "#46039f"
             ],
             [
              0.2222222222222222,
              "#7201a8"
             ],
             [
              0.3333333333333333,
              "#9c179e"
             ],
             [
              0.4444444444444444,
              "#bd3786"
             ],
             [
              0.5555555555555556,
              "#d8576b"
             ],
             [
              0.6666666666666666,
              "#ed7953"
             ],
             [
              0.7777777777777778,
              "#fb9f3a"
             ],
             [
              0.8888888888888888,
              "#fdca26"
             ],
             [
              1,
              "#f0f921"
             ]
            ],
            "type": "heatmapgl"
           }
          ],
          "histogram": [
           {
            "marker": {
             "pattern": {
              "fillmode": "overlay",
              "size": 10,
              "solidity": 0.2
             }
            },
            "type": "histogram"
           }
          ],
          "histogram2d": [
           {
            "colorbar": {
             "outlinewidth": 0,
             "ticks": ""
            },
            "colorscale": [
             [
              0,
              "#0d0887"
             ],
             [
              0.1111111111111111,
              "#46039f"
             ],
             [
              0.2222222222222222,
              "#7201a8"
             ],
             [
              0.3333333333333333,
              "#9c179e"
             ],
             [
              0.4444444444444444,
              "#bd3786"
             ],
             [
              0.5555555555555556,
              "#d8576b"
             ],
             [
              0.6666666666666666,
              "#ed7953"
             ],
             [
              0.7777777777777778,
              "#fb9f3a"
             ],
             [
              0.8888888888888888,
              "#fdca26"
             ],
             [
              1,
              "#f0f921"
             ]
            ],
            "type": "histogram2d"
           }
          ],
          "histogram2dcontour": [
           {
            "colorbar": {
             "outlinewidth": 0,
             "ticks": ""
            },
            "colorscale": [
             [
              0,
              "#0d0887"
             ],
             [
              0.1111111111111111,
              "#46039f"
             ],
             [
              0.2222222222222222,
              "#7201a8"
             ],
             [
              0.3333333333333333,
              "#9c179e"
             ],
             [
              0.4444444444444444,
              "#bd3786"
             ],
             [
              0.5555555555555556,
              "#d8576b"
             ],
             [
              0.6666666666666666,
              "#ed7953"
             ],
             [
              0.7777777777777778,
              "#fb9f3a"
             ],
             [
              0.8888888888888888,
              "#fdca26"
             ],
             [
              1,
              "#f0f921"
             ]
            ],
            "type": "histogram2dcontour"
           }
          ],
          "mesh3d": [
           {
            "colorbar": {
             "outlinewidth": 0,
             "ticks": ""
            },
            "type": "mesh3d"
           }
          ],
          "parcoords": [
           {
            "line": {
             "colorbar": {
              "outlinewidth": 0,
              "ticks": ""
             }
            },
            "type": "parcoords"
           }
          ],
          "pie": [
           {
            "automargin": true,
            "type": "pie"
           }
          ],
          "scatter": [
           {
            "fillpattern": {
             "fillmode": "overlay",
             "size": 10,
             "solidity": 0.2
            },
            "type": "scatter"
           }
          ],
          "scatter3d": [
           {
            "line": {
             "colorbar": {
              "outlinewidth": 0,
              "ticks": ""
             }
            },
            "marker": {
             "colorbar": {
              "outlinewidth": 0,
              "ticks": ""
             }
            },
            "type": "scatter3d"
           }
          ],
          "scattercarpet": [
           {
            "marker": {
             "colorbar": {
              "outlinewidth": 0,
              "ticks": ""
             }
            },
            "type": "scattercarpet"
           }
          ],
          "scattergeo": [
           {
            "marker": {
             "colorbar": {
              "outlinewidth": 0,
              "ticks": ""
             }
            },
            "type": "scattergeo"
           }
          ],
          "scattergl": [
           {
            "marker": {
             "colorbar": {
              "outlinewidth": 0,
              "ticks": ""
             }
            },
            "type": "scattergl"
           }
          ],
          "scattermapbox": [
           {
            "marker": {
             "colorbar": {
              "outlinewidth": 0,
              "ticks": ""
             }
            },
            "type": "scattermapbox"
           }
          ],
          "scatterpolar": [
           {
            "marker": {
             "colorbar": {
              "outlinewidth": 0,
              "ticks": ""
             }
            },
            "type": "scatterpolar"
           }
          ],
          "scatterpolargl": [
           {
            "marker": {
             "colorbar": {
              "outlinewidth": 0,
              "ticks": ""
             }
            },
            "type": "scatterpolargl"
           }
          ],
          "scatterternary": [
           {
            "marker": {
             "colorbar": {
              "outlinewidth": 0,
              "ticks": ""
             }
            },
            "type": "scatterternary"
           }
          ],
          "surface": [
           {
            "colorbar": {
             "outlinewidth": 0,
             "ticks": ""
            },
            "colorscale": [
             [
              0,
              "#0d0887"
             ],
             [
              0.1111111111111111,
              "#46039f"
             ],
             [
              0.2222222222222222,
              "#7201a8"
             ],
             [
              0.3333333333333333,
              "#9c179e"
             ],
             [
              0.4444444444444444,
              "#bd3786"
             ],
             [
              0.5555555555555556,
              "#d8576b"
             ],
             [
              0.6666666666666666,
              "#ed7953"
             ],
             [
              0.7777777777777778,
              "#fb9f3a"
             ],
             [
              0.8888888888888888,
              "#fdca26"
             ],
             [
              1,
              "#f0f921"
             ]
            ],
            "type": "surface"
           }
          ],
          "table": [
           {
            "cells": {
             "fill": {
              "color": "#EBF0F8"
             },
             "line": {
              "color": "white"
             }
            },
            "header": {
             "fill": {
              "color": "#C8D4E3"
             },
             "line": {
              "color": "white"
             }
            },
            "type": "table"
           }
          ]
         },
         "layout": {
          "annotationdefaults": {
           "arrowcolor": "#2a3f5f",
           "arrowhead": 0,
           "arrowwidth": 1
          },
          "autotypenumbers": "strict",
          "coloraxis": {
           "colorbar": {
            "outlinewidth": 0,
            "ticks": ""
           }
          },
          "colorscale": {
           "diverging": [
            [
             0,
             "#8e0152"
            ],
            [
             0.1,
             "#c51b7d"
            ],
            [
             0.2,
             "#de77ae"
            ],
            [
             0.3,
             "#f1b6da"
            ],
            [
             0.4,
             "#fde0ef"
            ],
            [
             0.5,
             "#f7f7f7"
            ],
            [
             0.6,
             "#e6f5d0"
            ],
            [
             0.7,
             "#b8e186"
            ],
            [
             0.8,
             "#7fbc41"
            ],
            [
             0.9,
             "#4d9221"
            ],
            [
             1,
             "#276419"
            ]
           ],
           "sequential": [
            [
             0,
             "#0d0887"
            ],
            [
             0.1111111111111111,
             "#46039f"
            ],
            [
             0.2222222222222222,
             "#7201a8"
            ],
            [
             0.3333333333333333,
             "#9c179e"
            ],
            [
             0.4444444444444444,
             "#bd3786"
            ],
            [
             0.5555555555555556,
             "#d8576b"
            ],
            [
             0.6666666666666666,
             "#ed7953"
            ],
            [
             0.7777777777777778,
             "#fb9f3a"
            ],
            [
             0.8888888888888888,
             "#fdca26"
            ],
            [
             1,
             "#f0f921"
            ]
           ],
           "sequentialminus": [
            [
             0,
             "#0d0887"
            ],
            [
             0.1111111111111111,
             "#46039f"
            ],
            [
             0.2222222222222222,
             "#7201a8"
            ],
            [
             0.3333333333333333,
             "#9c179e"
            ],
            [
             0.4444444444444444,
             "#bd3786"
            ],
            [
             0.5555555555555556,
             "#d8576b"
            ],
            [
             0.6666666666666666,
             "#ed7953"
            ],
            [
             0.7777777777777778,
             "#fb9f3a"
            ],
            [
             0.8888888888888888,
             "#fdca26"
            ],
            [
             1,
             "#f0f921"
            ]
           ]
          },
          "colorway": [
           "#636efa",
           "#EF553B",
           "#00cc96",
           "#ab63fa",
           "#FFA15A",
           "#19d3f3",
           "#FF6692",
           "#B6E880",
           "#FF97FF",
           "#FECB52"
          ],
          "font": {
           "color": "#2a3f5f"
          },
          "geo": {
           "bgcolor": "white",
           "lakecolor": "white",
           "landcolor": "#E5ECF6",
           "showlakes": true,
           "showland": true,
           "subunitcolor": "white"
          },
          "hoverlabel": {
           "align": "left"
          },
          "hovermode": "closest",
          "mapbox": {
           "style": "light"
          },
          "paper_bgcolor": "white",
          "plot_bgcolor": "#E5ECF6",
          "polar": {
           "angularaxis": {
            "gridcolor": "white",
            "linecolor": "white",
            "ticks": ""
           },
           "bgcolor": "#E5ECF6",
           "radialaxis": {
            "gridcolor": "white",
            "linecolor": "white",
            "ticks": ""
           }
          },
          "scene": {
           "xaxis": {
            "backgroundcolor": "#E5ECF6",
            "gridcolor": "white",
            "gridwidth": 2,
            "linecolor": "white",
            "showbackground": true,
            "ticks": "",
            "zerolinecolor": "white"
           },
           "yaxis": {
            "backgroundcolor": "#E5ECF6",
            "gridcolor": "white",
            "gridwidth": 2,
            "linecolor": "white",
            "showbackground": true,
            "ticks": "",
            "zerolinecolor": "white"
           },
           "zaxis": {
            "backgroundcolor": "#E5ECF6",
            "gridcolor": "white",
            "gridwidth": 2,
            "linecolor": "white",
            "showbackground": true,
            "ticks": "",
            "zerolinecolor": "white"
           }
          },
          "shapedefaults": {
           "line": {
            "color": "#2a3f5f"
           }
          },
          "ternary": {
           "aaxis": {
            "gridcolor": "white",
            "linecolor": "white",
            "ticks": ""
           },
           "baxis": {
            "gridcolor": "white",
            "linecolor": "white",
            "ticks": ""
           },
           "bgcolor": "#E5ECF6",
           "caxis": {
            "gridcolor": "white",
            "linecolor": "white",
            "ticks": ""
           }
          },
          "title": {
           "x": 0.05
          },
          "xaxis": {
           "automargin": true,
           "gridcolor": "white",
           "linecolor": "white",
           "ticks": "",
           "title": {
            "standoff": 15
           },
           "zerolinecolor": "white",
           "zerolinewidth": 2
          },
          "yaxis": {
           "automargin": true,
           "gridcolor": "white",
           "linecolor": "white",
           "ticks": "",
           "title": {
            "standoff": 15
           },
           "zerolinecolor": "white",
           "zerolinewidth": 2
          }
         }
        },
        "xaxis": {
         "anchor": "y",
         "domain": [
          0,
          1
         ],
         "title": {
          "text": "Fecha actualización"
         }
        },
        "yaxis": {
         "anchor": "x",
         "domain": [
          0,
          1
         ],
         "title": {
          "text": "Valores"
         }
        }
       }
      }
     },
     "metadata": {},
     "output_type": "display_data"
    }
   ],
   "source": [
    "px.line(data_frame = df_balance,\n",
    "        x = 'Fecha actualización',\n",
    "        y = 'Valores',\n",
    "        color = 'nombre',\n",
    "        color_discrete_sequence = colores_personalizados,\n",
    ")\n",
    "\n",
    "#Dividir por energías (tres gráficas)\n"
   ]
  },
  {
   "cell_type": "code",
   "execution_count": 98,
   "metadata": {},
   "outputs": [
    {
     "name": "stderr",
     "output_type": "stream",
     "text": [
      "/opt/anaconda3/lib/python3.11/site-packages/plotly/express/_core.py:1979: FutureWarning:\n",
      "\n",
      "When grouping with a length-1 list-like, you will need to pass a length-1 tuple to get_group in a future version of pandas. Pass `(name,)` instead of `name` to silence this warning.\n",
      "\n"
     ]
    },
    {
     "data": {
      "application/vnd.plotly.v1+json": {
       "config": {
        "plotlyServerURL": "https://plot.ly"
       },
       "data": [
        {
         "hovertemplate": "nombre=Hidráulica<br>index=%{x}<br>Valores=%{y}<br>Porcentaje=%{marker.size}<extra></extra>",
         "legendgroup": "Hidráulica",
         "marker": {
          "color": "#636EFA",
          "opacity": 0.5,
          "size": [
           0.06491453361249602,
           0.08128316353992167,
           0.06784309093530404,
           0.17467146718359708,
           0.1318231646349135,
           0.0762049250146325,
           0.05983657124938433,
           0.10177206461825768,
           0.05140099431864716,
           0.05909455608606358,
           0.15384859515665653
          ],
          "sizemode": "area",
          "sizeref": 0.0011111111111111111,
          "symbol": "circle"
         },
         "mode": "markers",
         "name": "Hidráulica",
         "orientation": "v",
         "showlegend": true,
         "type": "scatter",
         "x": [
          0,
          1,
          2,
          3,
          4,
          5,
          6,
          7,
          8,
          9,
          10
         ],
         "xaxis": "x",
         "y": [
          23389.362,
          18682.792,
          15426.459,
          28347.218,
          23889.363,
          16700.245,
          17394.309,
          21798.945,
          13744.212,
          12758.185,
          22934.016
         ],
         "yaxis": "y"
        },
        {
         "hovertemplate": "nombre=Eólica<br>index=%{x}<br>Valores=%{y}<br>Porcentaje=%{marker.size}<extra></extra>",
         "legendgroup": "Eólica",
         "marker": {
          "color": "#EF553B",
          "opacity": 0.5,
          "size": [
           0.562433947434865,
           0.32436512163140824,
           0.38217338392124145,
           0.27033229301182865,
           0.273735010164284,
           0.4387996821671538,
           0.5867894577251056,
           0.40440125723061604,
           0.5302934252904279,
           0.47615089489470674,
           0.38495424042244775
          ],
          "sizemode": "area",
          "sizeref": 0.0011111111111111111,
          "symbol": "circle"
         },
         "mode": "markers",
         "name": "Eólica",
         "orientation": "v",
         "showlegend": true,
         "type": "scatter",
         "x": [
          11,
          12,
          13,
          14,
          15,
          16,
          17,
          18,
          19,
          20,
          21
         ],
         "xaxis": "x",
         "y": [
          202650.631,
          74554.752,
          86900.257,
          43871.896,
          49607.025,
          96162.58,
          170577.908,
          86620.241,
          141796.192,
          102798.322,
          57384.643
         ],
         "yaxis": "y"
        },
        {
         "hovertemplate": "nombre=Solar fotovoltaica<br>index=%{x}<br>Valores=%{y}<br>Porcentaje=%{marker.size}<extra></extra>",
         "legendgroup": "Solar fotovoltaica",
         "marker": {
          "color": "#00CC96",
          "opacity": 0.5,
          "size": [
           0.28604166363658,
           0.44914946248511395,
           0.42737316463176983,
           0.45711709970571135,
           0.47613308038502883,
           0.3865565788444104,
           0.2762746664349293,
           0.3843938664937298,
           0.3230159907432964,
           0.3673047383486933,
           0.3510332785166757
          ],
          "sizemode": "area",
          "sizeref": 0.0011111111111111111,
          "symbol": "circle"
         },
         "mode": "markers",
         "name": "Solar fotovoltaica",
         "orientation": "v",
         "showlegend": true,
         "type": "scatter",
         "x": [
          22,
          23,
          24,
          25,
          26,
          27,
          28,
          29,
          30,
          31,
          32
         ],
         "xaxis": "x",
         "y": [
          103063.7,
          103236.213,
          97177.981,
          74184.973,
          86286.17,
          84713.548,
          80312.204,
          82334.782,
          86371.875,
          79299.044,
          52328.088
         ],
         "yaxis": "y"
        },
        {
         "hovertemplate": "nombre=Solar térmica<br>index=%{x}<br>Valores=%{y}<br>Porcentaje=%{marker.size}<extra></extra>",
         "legendgroup": "Solar térmica",
         "marker": {
          "color": "#AB63FA",
          "opacity": 0.5,
          "size": [
           0.05011348578674378,
           0.07983082698319041,
           0.05782603952199838,
           0.010402654317938107,
           0.03920110493823073,
           0.030985353190226297,
           0.029125740340574736,
           0.04297574489756175,
           0.041812182766251434,
           0.03683105818461364,
           0.01063632131025245
          ],
          "sizemode": "area",
          "sizeref": 0.0011111111111111111,
          "symbol": "circle"
         },
         "mode": "markers",
         "name": "Solar térmica",
         "orientation": "v",
         "showlegend": true,
         "type": "scatter",
         "x": [
          33,
          34,
          35,
          36,
          37,
          38,
          39,
          40,
          41,
          42,
          43
         ],
         "xaxis": "x",
         "y": [
          18056.395,
          18348.975,
          13148.738,
          1688.234,
          7104.134,
          6790.414,
          8466.764,
          9205.138,
          11180.241,
          7951.62,
          1585.543
         ],
         "yaxis": "y"
        },
        {
         "hovertemplate": "nombre=Hidroeólica<br>index=%{x}<br>Valores=%{y}<br>Porcentaje=%{marker.size}<extra></extra>",
         "legendgroup": "Hidroeólica",
         "marker": {
          "color": "#FFA15A",
          "opacity": 0.5,
          "size": [
           0.00029154331348833957,
           0.0003814255892558742,
           0.00012906339618692583,
           0.00004224568276896666,
           0.000032275188331711024,
           0.0003704006964097092,
           0.0004019615561572069,
           0.0005364441050166263,
           0.00041141852184718735,
           0.0004231049573460147,
           0.0006396713419561138
          ],
          "sizemode": "area",
          "sizeref": 0.0011111111111111111,
          "symbol": "circle"
         },
         "mode": "markers",
         "name": "Hidroeólica",
         "orientation": "v",
         "showlegend": true,
         "type": "scatter",
         "x": [
          44,
          45,
          46,
          47,
          48,
          49,
          50,
          51,
          52,
          53,
          54
         ],
         "xaxis": "x",
         "y": [
          105.046,
          87.67,
          29.347,
          6.856,
          5.849,
          81.173,
          116.849,
          114.903,
          110.01,
          91.346,
          95.355
         ],
         "yaxis": "y"
        },
        {
         "hovertemplate": "nombre=Otras renovables<br>index=%{x}<br>Valores=%{y}<br>Porcentaje=%{marker.size}<extra></extra>",
         "legendgroup": "Otras renovables",
         "marker": {
          "color": "#19D3F3",
          "opacity": 0.5,
          "size": [
           0.02992301921285174,
           0.054207328514707484,
           0.054511612170893314,
           0.0743147404112629,
           0.06519605149020985,
           0.056040571746486675,
           0.03954492760182138,
           0.0548654729369556,
           0.04417389187800075,
           0.049178950184222345,
           0.0838050963985316
          ],
          "sizemode": "area",
          "sizeref": 0.0011111111111111111,
          "symbol": "circle"
         },
         "mode": "markers",
         "name": "Otras renovables",
         "orientation": "v",
         "showlegend": true,
         "type": "scatter",
         "x": [
          55,
          56,
          57,
          58,
          59,
          60,
          61,
          62,
          63,
          64,
          65
         ],
         "xaxis": "x",
         "y": [
          10781.566,
          12459.459,
          12395.089,
          12060.448,
          11815.011,
          12281.244,
          11495.59,
          11751.844,
          11811.743,
          10617.461,
          12492.72
         ],
         "yaxis": "y"
        },
        {
         "hovertemplate": "nombre=Residuos renovables<br>index=%{x}<br>Valores=%{y}<br>Porcentaje=%{marker.size}<extra></extra>",
         "legendgroup": "Residuos renovables",
         "marker": {
          "color": "#FF6692",
          "opacity": 0.5,
          "size": [
           0.0062818070029752445,
           0.010782671256402362,
           0.010143645422606045,
           0.013119499686893006,
           0.013879313199001451,
           0.01104248834068063,
           0.008026675092027279,
           0.011055149717862395,
           0.008892096481529055,
           0.011016697344354495,
           0.015082796853479779
          ],
          "sizemode": "area",
          "sizeref": 0.0011111111111111111,
          "symbol": "circle"
         },
         "mode": "markers",
         "name": "Residuos renovables",
         "orientation": "v",
         "showlegend": true,
         "type": "scatter",
         "x": [
          66,
          67,
          68,
          69,
          70,
          71,
          72,
          73,
          74,
          75,
          76
         ],
         "xaxis": "x",
         "y": [
          2263.3985,
          2478.378,
          2306.5065,
          2129.1475,
          2515.248,
          2419.952,
          2333.33,
          2367.9445,
          2377.675,
          2378.4435,
          2248.3735
         ],
         "yaxis": "y"
        },
        {
         "hovertemplate": "nombre=Generación renovable<br>index=%{x}<br>Valores=%{y}<br>Porcentaje=%{marker.size}<extra></extra>",
         "legendgroup": "Generación renovable",
         "marker": {
          "color": "#B6E880",
          "opacity": 0.5,
          "size": [
           1,
           1,
           1,
           1,
           1,
           1,
           1,
           1,
           1,
           1,
           1
          ],
          "sizemode": "area",
          "sizeref": 0.0011111111111111111,
          "symbol": "circle"
         },
         "mode": "markers",
         "name": "Generación renovable",
         "orientation": "v",
         "showlegend": true,
         "type": "scatter",
         "x": [
          77,
          78,
          79,
          80,
          81,
          82,
          83,
          84,
          85,
          86,
          87
         ],
         "xaxis": "x",
         "y": [
          360310.09849999996,
          229848.239,
          227384.3775,
          162288.7725,
          181222.8,
          219149.156,
          290696.954,
          214193.79750000002,
          267391.94800000003,
          215894.42149999997,
          149068.7385
         ],
         "yaxis": "y"
        },
        {
         "hovertemplate": "nombre=Turbinación bombeo<br>index=%{x}<br>Valores=%{y}<br>Porcentaje=%{marker.size}<extra></extra>",
         "legendgroup": "Turbinación bombeo",
         "marker": {
          "color": "#FF97FF",
          "opacity": 0.5,
          "size": [
           0.023346349993948537,
           0.037636129403527625,
           0.032554259594041624,
           0.026629553692672007,
           0.023761150069993492,
           0.019180066772581397,
           0.03239608753167684,
           0.02297072992836087,
           0.014787590933325583,
           0.02138504501938503,
           0.03376932301215799
          ],
          "sizemode": "area",
          "sizeref": 0.0011111111111111111,
          "symbol": "circle"
         },
         "mode": "markers",
         "name": "Turbinación bombeo",
         "orientation": "v",
         "showlegend": true,
         "type": "scatter",
         "x": [
          88,
          89,
          90,
          91,
          92,
          93,
          94,
          95,
          96,
          97,
          98
         ],
         "xaxis": "x",
         "y": [
          9634.798,
          16706.013,
          14120.401,
          15405.511,
          14186.13,
          10851.402,
          16316.221,
          13065.379,
          6994.752,
          9756.857,
          20140.887
         ],
         "yaxis": "y"
        },
        {
         "hovertemplate": "nombre=Nuclear<br>index=%{x}<br>Valores=%{y}<br>Porcentaje=%{marker.size}<extra></extra>",
         "legendgroup": "Nuclear",
         "marker": {
          "color": "#FECB52",
          "opacity": 0.5,
          "size": [
           0.34909498496863955,
           0.32483229367530475,
           0.3320258370056978,
           0.24831557519219719,
           0.2407267203936308,
           0.2530418174409575,
           0.2844271324907338,
           0.2518623800988283,
           0.3024476531480996,
           0.3132808337358924,
           0.239168543934365
          ],
          "sizemode": "area",
          "sizeref": 0.0011111111111111111,
          "symbol": "circle"
         },
         "mode": "markers",
         "name": "Nuclear",
         "orientation": "v",
         "showlegend": true,
         "type": "scatter",
         "x": [
          99,
          100,
          101,
          102,
          103,
          104,
          105,
          106,
          107,
          108,
          109
         ],
         "xaxis": "x",
         "y": [
          144067.902,
          144187.317,
          144016.114,
          143653.49,
          143721.181,
          143162.092,
          143251.124,
          143255.241,
          143062.27,
          142933.358,
          142646.23
         ],
         "yaxis": "y"
        },
        {
         "hovertemplate": "nombre=Ciclo combinado<br>index=%{x}<br>Valores=%{y}<br>Porcentaje=%{marker.size}<extra></extra>",
         "legendgroup": "Ciclo combinado",
         "marker": {
          "color": "rgb(102, 197, 204)",
          "opacity": 0.5,
          "size": [
           0.4527761521448709,
           0.4837641331232521,
           0.46628005608132717,
           0.5930923498701989,
           0.6249691537924836,
           0.6050278692077421,
           0.5279208339613679,
           0.5819304829969246,
           0.5376909861826829,
           0.5195452329553266,
           0.5921624029826416
          ],
          "sizemode": "area",
          "sizeref": 0.0011111111111111111,
          "symbol": "circle"
         },
         "mode": "markers",
         "name": "Ciclo combinado",
         "orientation": "v",
         "showlegend": true,
         "type": "scatter",
         "x": [
          110,
          111,
          112,
          113,
          114,
          115,
          116,
          117,
          118,
          119,
          120
         ],
         "xaxis": "x",
         "y": [
          186856.051,
          214734.353,
          202248.844,
          343110.922,
          373125.612,
          342303.325,
          265886.212,
          330992.63,
          254335.89,
          237040.817,
          353180.786
         ],
         "yaxis": "y"
        },
        {
         "hovertemplate": "nombre=Carbón<br>index=%{x}<br>Valores=%{y}<br>Porcentaje=%{marker.size}<extra></extra>",
         "legendgroup": "Carbón",
         "marker": {
          "color": "rgb(246, 207, 113)",
          "opacity": 0.5,
          "size": [
           0.05663093948003074,
           0.05518655749163796,
           0.058251096901859555,
           0.03074077667233609,
           0.007870042540292896,
           0.01581902201798933,
           0.037689033405374,
           0.033748950100850925,
           0.025473525280207934,
           0.03212240839776396,
           0.033244853527598345
          ],
          "sizemode": "area",
          "sizeref": 0.0011111111111111111,
          "symbol": "circle"
         },
         "mode": "markers",
         "name": "Carbón",
         "orientation": "v",
         "showlegend": true,
         "type": "scatter",
         "x": [
          121,
          122,
          123,
          124,
          125,
          126,
          127,
          128,
          129,
          130,
          131
         ],
         "xaxis": "x",
         "y": [
          23371.005,
          24496.338,
          25266.397,
          17783.902,
          4698.655,
          8949.842,
          18982.002,
          19195.856,
          12049.359,
          14655.744,
          19828.08
         ],
         "yaxis": "y"
        },
        {
         "hovertemplate": "nombre=Motores diésel<br>index=%{x}<br>Valores=%{y}<br>Porcentaje=%{marker.size}<extra></extra>",
         "legendgroup": "Motores diésel",
         "marker": {
          "color": "rgb(248, 156, 116)",
          "opacity": 0.5,
          "size": [
           0.013780511370537802,
           0.01281723680218092,
           0.014333733732054356,
           0.011837888212058651,
           0.010276182816774107,
           0.010071344907398742,
           0.012176260777554418,
           0.011120928598533081,
           0.013022623566901087,
           0.012275594655130206,
           0.011507385988512864
          ],
          "sizemode": "area",
          "sizeref": 0.0011111111111111111,
          "symbol": "circle"
         },
         "mode": "markers",
         "name": "Motores diésel",
         "orientation": "v",
         "showlegend": true,
         "type": "scatter",
         "x": [
          132,
          133,
          134,
          135,
          136,
          137,
          138,
          139,
          140,
          141,
          142
         ],
         "xaxis": "x",
         "y": [
          5687.075,
          5689.345,
          6217.253,
          6848.358,
          6135.194,
          5698.01,
          6132.548,
          6325.404,
          6159.896,
          5600.7,
          6863.299
         ],
         "yaxis": "y"
        },
        {
         "hovertemplate": "nombre=Turbina de gas<br>index=%{x}<br>Valores=%{y}<br>Porcentaje=%{marker.size}<extra></extra>",
         "legendgroup": "Turbina de gas",
         "marker": {
          "color": "rgb(220, 176, 242)",
          "opacity": 0.5,
          "size": [
           0.005691125905694869,
           0.0026072585204365024,
           0.004454236875986643,
           0.005302069911025332,
           0.004646019349984739,
           0.0039172301775750335,
           0.005296235870629664,
           0.004798559684710427,
           0.003297348017592796,
           0.002584005332386635,
           0.005423759944783787
          ],
          "sizemode": "area",
          "sizeref": 0.0011111111111111111,
          "symbol": "circle"
         },
         "mode": "markers",
         "name": "Turbina de gas",
         "orientation": "v",
         "showlegend": true,
         "type": "scatter",
         "x": [
          143,
          144,
          145,
          146,
          147,
          148,
          149,
          150,
          151,
          152,
          153
         ],
         "xaxis": "x",
         "y": [
          2348.669,
          1157.316,
          1932.024,
          3067.31,
          2773.815,
          2216.23,
          2667.438,
          2729.343,
          1559.695,
          1178.944,
          3234.869
         ],
         "yaxis": "y"
        },
        {
         "hovertemplate": "nombre=Turbina de vapor<br>index=%{x}<br>Valores=%{y}<br>Porcentaje=%{marker.size}<extra></extra>",
         "legendgroup": "Turbina de vapor",
         "marker": {
          "color": "rgb(135, 197, 95)",
          "opacity": 0.5,
          "size": [
           0.010263064663288142,
           0.006956070914603979,
           0.00849584409127014,
           0.007639911599832307,
           0.00687678163548259,
           0.006205797005757296,
           0.007849577273913147,
           0.0075145705956928205,
           0.007126571370431318,
           0.006265907832964851,
           0.0050942468974398735
          ],
          "sizemode": "area",
          "sizeref": 0.0011111111111111111,
          "symbol": "circle"
         },
         "mode": "markers",
         "name": "Turbina de vapor",
         "orientation": "v",
         "showlegend": true,
         "type": "scatter",
         "x": [
          154,
          155,
          156,
          157,
          158,
          159,
          160,
          161,
          162,
          163,
          164
         ],
         "xaxis": "x",
         "y": [
          4235.461,
          3087.677,
          3685.07,
          4419.779,
          4105.648,
          3511.02,
          3953.423,
          4274.166,
          3370.975,
          2858.8,
          3038.339
         ],
         "yaxis": "y"
        },
        {
         "hovertemplate": "nombre=Cogeneración<br>index=%{x}<br>Valores=%{y}<br>Porcentaje=%{marker.size}<extra></extra>",
         "legendgroup": "Cogeneración",
         "marker": {
          "color": "rgb(158, 185, 243)",
          "opacity": 0.5,
          "size": [
           0.07666526345336332,
           0.06397301663288762,
           0.0712803756146743,
           0.06706137904290295,
           0.07099704605516388,
           0.07673235515753181,
           0.0813836494490915,
           0.07633330835166764,
           0.08422410251880016,
           0.08096278624011592,
           0.07125985314829282
          ],
          "sizemode": "area",
          "sizeref": 0.0011111111111111111,
          "symbol": "circle"
         },
         "mode": "markers",
         "name": "Cogeneración",
         "orientation": "v",
         "showlegend": true,
         "type": "scatter",
         "x": [
          165,
          166,
          167,
          168,
          169,
          170,
          171,
          172,
          173,
          174,
          175
         ],
         "xaxis": "x",
         "y": [
          31638.964,
          28396.492,
          30917.843,
          38795.799,
          42387.398,
          43412.447,
          40988.703,
          43417.149,
          39839.262,
          36939.007,
          42501.197
         ],
         "yaxis": "y"
        },
        {
         "hovertemplate": "nombre=Residuos no renovables<br>index=%{x}<br>Valores=%{y}<br>Porcentaje=%{marker.size}<extra></extra>",
         "legendgroup": "Residuos no renovables",
         "marker": {
          "color": "rgb(254, 136, 177)",
          "opacity": 0.5,
          "size": [
           0.011751608019626027,
           0.012227303436168506,
           0.012324560103088297,
           0.009380495806776532,
           0.009876903346193674,
           0.010004497312466859,
           0.010861189239658597,
           0.009720089644431194,
           0.011929598981958663,
           0.011578185831034432,
           0.008369630564207796
          ],
          "sizemode": "area",
          "sizeref": 0.0011111111111111111,
          "symbol": "circle"
         },
         "mode": "markers",
         "name": "Residuos no renovables",
         "orientation": "v",
         "showlegend": true,
         "type": "scatter",
         "x": [
          176,
          177,
          178,
          179,
          180,
          181,
          182,
          183,
          184,
          185,
          186
         ],
         "xaxis": "x",
         "y": [
          4849.7675,
          5427.484,
          5345.7745,
          5426.7275,
          5896.812,
          5660.19,
          5470.215,
          5528.6295,
          5642.879,
          5282.5095,
          4991.8615
         ],
         "yaxis": "y"
        },
        {
         "hovertemplate": "nombre=Generación no renovable<br>index=%{x}<br>Valores=%{y}<br>Porcentaje=%{marker.size}<extra></extra>",
         "legendgroup": "Generación no renovable",
         "marker": {
          "color": "rgb(201, 219, 116)",
          "opacity": 0.5,
          "size": [
           1,
           1,
           1,
           1,
           1,
           1,
           1,
           1,
           1,
           1,
           1
          ],
          "sizemode": "area",
          "sizeref": 0.0011111111111111111,
          "symbol": "circle"
         },
         "mode": "markers",
         "name": "Generación no renovable",
         "orientation": "v",
         "showlegend": true,
         "type": "scatter",
         "x": [
          187,
          188,
          189,
          190,
          191,
          192,
          193,
          194,
          195,
          196,
          197
         ],
         "xaxis": "x",
         "y": [
          412689.69250000006,
          443882.335,
          433749.72050000005,
          578511.7985,
          597030.4450000002,
          565764.558,
          503647.88600000006,
          568783.7975000001,
          473014.978,
          456246.7365,
          596425.5485
         ],
         "yaxis": "y"
        },
        {
         "hovertemplate": "nombre=Consumos en bombeo<br>index=%{x}<br>Valores=%{y}<br>Porcentaje=%{marker.size}<extra></extra>",
         "legendgroup": "Consumos en bombeo",
         "marker": {
          "color": "rgb(139, 224, 164)",
          "opacity": 0.5,
          "size": [
           0.024480827504355714,
           0.030438676468156872,
           0.03810717568734131,
           0.01008361231462829,
           0.02074335350661142,
           0.022849772031657504,
           0.014609743863195015,
           0.010260225174171094,
           0.034697830611285486,
           0.03176335773901466,
           0.0134877090985492
          ],
          "sizemode": "area",
          "sizeref": 0.0011111111111111111,
          "symbol": "circle"
         },
         "mode": "markers",
         "name": "Consumos en bombeo",
         "orientation": "v",
         "showlegend": true,
         "type": "scatter",
         "x": [
          198,
          199,
          200,
          201,
          202,
          203,
          204,
          205,
          206,
          207,
          208
         ],
         "xaxis": "x",
         "y": [
          -21958.695,
          -23466.109,
          -29958.458,
          -8436.197,
          -18434.496,
          -20579.037,
          -13346.909,
          -9230.133,
          -30925.179,
          -25521.409,
          -11415.535
         ],
         "yaxis": "y"
        },
        {
         "hovertemplate": "nombre=Saldo I. internacionales<br>index=%{x}<br>Valores=%{y}<br>Porcentaje=%{marker.size}<extra></extra>",
         "legendgroup": "Saldo I. internacionales",
         "marker": {
          "color": "rgb(180, 151, 231)",
          "opacity": 0.5,
          "size": [
           0.11373414636481019,
           0.09564281541055115,
           0.1209298740373832,
           0.10445274092377184,
           0.10352984719806389,
           0.10562745314551578,
           0.1158874632841208,
           0.11938108865836647,
           0.13457087105829627,
           0.13170524022634145,
           0.10569417088461855
          ],
          "sizemode": "area",
          "sizeref": 0.0011111111111111111,
          "symbol": "circle"
         },
         "mode": "markers",
         "name": "Saldo I. internacionales",
         "orientation": "v",
         "showlegend": true,
         "type": "scatter",
         "x": [
          209,
          210,
          211,
          212,
          213,
          214,
          215,
          216,
          217,
          218,
          219
         ],
         "xaxis": "x",
         "y": [
          -102016.708,
          -73733.979,
          -95070.613,
          -87387.721,
          -92006.365,
          -95130.545,
          -105870.4,
          -107395.628,
          -119939.149,
          -105823.299,
          -89455.926
         ],
         "yaxis": "y"
        },
        {
         "hovertemplate": "nombre=Demanda en b.c.<br>index=%{x}<br>Valores=%{y}<br>Porcentaje=%{marker.size}<extra></extra>",
         "legendgroup": "Demanda en b.c.",
         "marker": {
          "color": "rgb(179, 179, 179)",
          "opacity": 0.5,
          "size": [
           1,
           1,
           1,
           1,
           1,
           1,
           1,
           1,
           1,
           1,
           1
          ],
          "sizemode": "area",
          "sizeref": 0.0011111111111111111,
          "symbol": "circle"
         },
         "mode": "markers",
         "name": "Demanda en b.c.",
         "orientation": "v",
         "showlegend": true,
         "type": "scatter",
         "x": [
          220,
          221,
          222,
          223,
          224,
          225,
          226,
          227,
          228,
          229,
          230
         ],
         "xaxis": "x",
         "y": [
          649024.388,
          576530.486,
          536105.027,
          644976.6529999999,
          667812.384,
          669204.132,
          675127.531,
          666351.834,
          589542.598,
          540796.4500000001,
          644622.826
         ],
         "yaxis": "y"
        }
       ],
       "layout": {
        "legend": {
         "itemsizing": "constant",
         "title": {
          "text": "nombre"
         },
         "tracegroupgap": 0
        },
        "margin": {
         "t": 60
        },
        "template": {
         "data": {
          "bar": [
           {
            "error_x": {
             "color": "#2a3f5f"
            },
            "error_y": {
             "color": "#2a3f5f"
            },
            "marker": {
             "line": {
              "color": "#E5ECF6",
              "width": 0.5
             },
             "pattern": {
              "fillmode": "overlay",
              "size": 10,
              "solidity": 0.2
             }
            },
            "type": "bar"
           }
          ],
          "barpolar": [
           {
            "marker": {
             "line": {
              "color": "#E5ECF6",
              "width": 0.5
             },
             "pattern": {
              "fillmode": "overlay",
              "size": 10,
              "solidity": 0.2
             }
            },
            "type": "barpolar"
           }
          ],
          "carpet": [
           {
            "aaxis": {
             "endlinecolor": "#2a3f5f",
             "gridcolor": "white",
             "linecolor": "white",
             "minorgridcolor": "white",
             "startlinecolor": "#2a3f5f"
            },
            "baxis": {
             "endlinecolor": "#2a3f5f",
             "gridcolor": "white",
             "linecolor": "white",
             "minorgridcolor": "white",
             "startlinecolor": "#2a3f5f"
            },
            "type": "carpet"
           }
          ],
          "choropleth": [
           {
            "colorbar": {
             "outlinewidth": 0,
             "ticks": ""
            },
            "type": "choropleth"
           }
          ],
          "contour": [
           {
            "colorbar": {
             "outlinewidth": 0,
             "ticks": ""
            },
            "colorscale": [
             [
              0,
              "#0d0887"
             ],
             [
              0.1111111111111111,
              "#46039f"
             ],
             [
              0.2222222222222222,
              "#7201a8"
             ],
             [
              0.3333333333333333,
              "#9c179e"
             ],
             [
              0.4444444444444444,
              "#bd3786"
             ],
             [
              0.5555555555555556,
              "#d8576b"
             ],
             [
              0.6666666666666666,
              "#ed7953"
             ],
             [
              0.7777777777777778,
              "#fb9f3a"
             ],
             [
              0.8888888888888888,
              "#fdca26"
             ],
             [
              1,
              "#f0f921"
             ]
            ],
            "type": "contour"
           }
          ],
          "contourcarpet": [
           {
            "colorbar": {
             "outlinewidth": 0,
             "ticks": ""
            },
            "type": "contourcarpet"
           }
          ],
          "heatmap": [
           {
            "colorbar": {
             "outlinewidth": 0,
             "ticks": ""
            },
            "colorscale": [
             [
              0,
              "#0d0887"
             ],
             [
              0.1111111111111111,
              "#46039f"
             ],
             [
              0.2222222222222222,
              "#7201a8"
             ],
             [
              0.3333333333333333,
              "#9c179e"
             ],
             [
              0.4444444444444444,
              "#bd3786"
             ],
             [
              0.5555555555555556,
              "#d8576b"
             ],
             [
              0.6666666666666666,
              "#ed7953"
             ],
             [
              0.7777777777777778,
              "#fb9f3a"
             ],
             [
              0.8888888888888888,
              "#fdca26"
             ],
             [
              1,
              "#f0f921"
             ]
            ],
            "type": "heatmap"
           }
          ],
          "heatmapgl": [
           {
            "colorbar": {
             "outlinewidth": 0,
             "ticks": ""
            },
            "colorscale": [
             [
              0,
              "#0d0887"
             ],
             [
              0.1111111111111111,
              "#46039f"
             ],
             [
              0.2222222222222222,
              "#7201a8"
             ],
             [
              0.3333333333333333,
              "#9c179e"
             ],
             [
              0.4444444444444444,
              "#bd3786"
             ],
             [
              0.5555555555555556,
              "#d8576b"
             ],
             [
              0.6666666666666666,
              "#ed7953"
             ],
             [
              0.7777777777777778,
              "#fb9f3a"
             ],
             [
              0.8888888888888888,
              "#fdca26"
             ],
             [
              1,
              "#f0f921"
             ]
            ],
            "type": "heatmapgl"
           }
          ],
          "histogram": [
           {
            "marker": {
             "pattern": {
              "fillmode": "overlay",
              "size": 10,
              "solidity": 0.2
             }
            },
            "type": "histogram"
           }
          ],
          "histogram2d": [
           {
            "colorbar": {
             "outlinewidth": 0,
             "ticks": ""
            },
            "colorscale": [
             [
              0,
              "#0d0887"
             ],
             [
              0.1111111111111111,
              "#46039f"
             ],
             [
              0.2222222222222222,
              "#7201a8"
             ],
             [
              0.3333333333333333,
              "#9c179e"
             ],
             [
              0.4444444444444444,
              "#bd3786"
             ],
             [
              0.5555555555555556,
              "#d8576b"
             ],
             [
              0.6666666666666666,
              "#ed7953"
             ],
             [
              0.7777777777777778,
              "#fb9f3a"
             ],
             [
              0.8888888888888888,
              "#fdca26"
             ],
             [
              1,
              "#f0f921"
             ]
            ],
            "type": "histogram2d"
           }
          ],
          "histogram2dcontour": [
           {
            "colorbar": {
             "outlinewidth": 0,
             "ticks": ""
            },
            "colorscale": [
             [
              0,
              "#0d0887"
             ],
             [
              0.1111111111111111,
              "#46039f"
             ],
             [
              0.2222222222222222,
              "#7201a8"
             ],
             [
              0.3333333333333333,
              "#9c179e"
             ],
             [
              0.4444444444444444,
              "#bd3786"
             ],
             [
              0.5555555555555556,
              "#d8576b"
             ],
             [
              0.6666666666666666,
              "#ed7953"
             ],
             [
              0.7777777777777778,
              "#fb9f3a"
             ],
             [
              0.8888888888888888,
              "#fdca26"
             ],
             [
              1,
              "#f0f921"
             ]
            ],
            "type": "histogram2dcontour"
           }
          ],
          "mesh3d": [
           {
            "colorbar": {
             "outlinewidth": 0,
             "ticks": ""
            },
            "type": "mesh3d"
           }
          ],
          "parcoords": [
           {
            "line": {
             "colorbar": {
              "outlinewidth": 0,
              "ticks": ""
             }
            },
            "type": "parcoords"
           }
          ],
          "pie": [
           {
            "automargin": true,
            "type": "pie"
           }
          ],
          "scatter": [
           {
            "fillpattern": {
             "fillmode": "overlay",
             "size": 10,
             "solidity": 0.2
            },
            "type": "scatter"
           }
          ],
          "scatter3d": [
           {
            "line": {
             "colorbar": {
              "outlinewidth": 0,
              "ticks": ""
             }
            },
            "marker": {
             "colorbar": {
              "outlinewidth": 0,
              "ticks": ""
             }
            },
            "type": "scatter3d"
           }
          ],
          "scattercarpet": [
           {
            "marker": {
             "colorbar": {
              "outlinewidth": 0,
              "ticks": ""
             }
            },
            "type": "scattercarpet"
           }
          ],
          "scattergeo": [
           {
            "marker": {
             "colorbar": {
              "outlinewidth": 0,
              "ticks": ""
             }
            },
            "type": "scattergeo"
           }
          ],
          "scattergl": [
           {
            "marker": {
             "colorbar": {
              "outlinewidth": 0,
              "ticks": ""
             }
            },
            "type": "scattergl"
           }
          ],
          "scattermapbox": [
           {
            "marker": {
             "colorbar": {
              "outlinewidth": 0,
              "ticks": ""
             }
            },
            "type": "scattermapbox"
           }
          ],
          "scatterpolar": [
           {
            "marker": {
             "colorbar": {
              "outlinewidth": 0,
              "ticks": ""
             }
            },
            "type": "scatterpolar"
           }
          ],
          "scatterpolargl": [
           {
            "marker": {
             "colorbar": {
              "outlinewidth": 0,
              "ticks": ""
             }
            },
            "type": "scatterpolargl"
           }
          ],
          "scatterternary": [
           {
            "marker": {
             "colorbar": {
              "outlinewidth": 0,
              "ticks": ""
             }
            },
            "type": "scatterternary"
           }
          ],
          "surface": [
           {
            "colorbar": {
             "outlinewidth": 0,
             "ticks": ""
            },
            "colorscale": [
             [
              0,
              "#0d0887"
             ],
             [
              0.1111111111111111,
              "#46039f"
             ],
             [
              0.2222222222222222,
              "#7201a8"
             ],
             [
              0.3333333333333333,
              "#9c179e"
             ],
             [
              0.4444444444444444,
              "#bd3786"
             ],
             [
              0.5555555555555556,
              "#d8576b"
             ],
             [
              0.6666666666666666,
              "#ed7953"
             ],
             [
              0.7777777777777778,
              "#fb9f3a"
             ],
             [
              0.8888888888888888,
              "#fdca26"
             ],
             [
              1,
              "#f0f921"
             ]
            ],
            "type": "surface"
           }
          ],
          "table": [
           {
            "cells": {
             "fill": {
              "color": "#EBF0F8"
             },
             "line": {
              "color": "white"
             }
            },
            "header": {
             "fill": {
              "color": "#C8D4E3"
             },
             "line": {
              "color": "white"
             }
            },
            "type": "table"
           }
          ]
         },
         "layout": {
          "annotationdefaults": {
           "arrowcolor": "#2a3f5f",
           "arrowhead": 0,
           "arrowwidth": 1
          },
          "autotypenumbers": "strict",
          "coloraxis": {
           "colorbar": {
            "outlinewidth": 0,
            "ticks": ""
           }
          },
          "colorscale": {
           "diverging": [
            [
             0,
             "#8e0152"
            ],
            [
             0.1,
             "#c51b7d"
            ],
            [
             0.2,
             "#de77ae"
            ],
            [
             0.3,
             "#f1b6da"
            ],
            [
             0.4,
             "#fde0ef"
            ],
            [
             0.5,
             "#f7f7f7"
            ],
            [
             0.6,
             "#e6f5d0"
            ],
            [
             0.7,
             "#b8e186"
            ],
            [
             0.8,
             "#7fbc41"
            ],
            [
             0.9,
             "#4d9221"
            ],
            [
             1,
             "#276419"
            ]
           ],
           "sequential": [
            [
             0,
             "#0d0887"
            ],
            [
             0.1111111111111111,
             "#46039f"
            ],
            [
             0.2222222222222222,
             "#7201a8"
            ],
            [
             0.3333333333333333,
             "#9c179e"
            ],
            [
             0.4444444444444444,
             "#bd3786"
            ],
            [
             0.5555555555555556,
             "#d8576b"
            ],
            [
             0.6666666666666666,
             "#ed7953"
            ],
            [
             0.7777777777777778,
             "#fb9f3a"
            ],
            [
             0.8888888888888888,
             "#fdca26"
            ],
            [
             1,
             "#f0f921"
            ]
           ],
           "sequentialminus": [
            [
             0,
             "#0d0887"
            ],
            [
             0.1111111111111111,
             "#46039f"
            ],
            [
             0.2222222222222222,
             "#7201a8"
            ],
            [
             0.3333333333333333,
             "#9c179e"
            ],
            [
             0.4444444444444444,
             "#bd3786"
            ],
            [
             0.5555555555555556,
             "#d8576b"
            ],
            [
             0.6666666666666666,
             "#ed7953"
            ],
            [
             0.7777777777777778,
             "#fb9f3a"
            ],
            [
             0.8888888888888888,
             "#fdca26"
            ],
            [
             1,
             "#f0f921"
            ]
           ]
          },
          "colorway": [
           "#636efa",
           "#EF553B",
           "#00cc96",
           "#ab63fa",
           "#FFA15A",
           "#19d3f3",
           "#FF6692",
           "#B6E880",
           "#FF97FF",
           "#FECB52"
          ],
          "font": {
           "color": "#2a3f5f"
          },
          "geo": {
           "bgcolor": "white",
           "lakecolor": "white",
           "landcolor": "#E5ECF6",
           "showlakes": true,
           "showland": true,
           "subunitcolor": "white"
          },
          "hoverlabel": {
           "align": "left"
          },
          "hovermode": "closest",
          "mapbox": {
           "style": "light"
          },
          "paper_bgcolor": "white",
          "plot_bgcolor": "#E5ECF6",
          "polar": {
           "angularaxis": {
            "gridcolor": "white",
            "linecolor": "white",
            "ticks": ""
           },
           "bgcolor": "#E5ECF6",
           "radialaxis": {
            "gridcolor": "white",
            "linecolor": "white",
            "ticks": ""
           }
          },
          "scene": {
           "xaxis": {
            "backgroundcolor": "#E5ECF6",
            "gridcolor": "white",
            "gridwidth": 2,
            "linecolor": "white",
            "showbackground": true,
            "ticks": "",
            "zerolinecolor": "white"
           },
           "yaxis": {
            "backgroundcolor": "#E5ECF6",
            "gridcolor": "white",
            "gridwidth": 2,
            "linecolor": "white",
            "showbackground": true,
            "ticks": "",
            "zerolinecolor": "white"
           },
           "zaxis": {
            "backgroundcolor": "#E5ECF6",
            "gridcolor": "white",
            "gridwidth": 2,
            "linecolor": "white",
            "showbackground": true,
            "ticks": "",
            "zerolinecolor": "white"
           }
          },
          "shapedefaults": {
           "line": {
            "color": "#2a3f5f"
           }
          },
          "ternary": {
           "aaxis": {
            "gridcolor": "white",
            "linecolor": "white",
            "ticks": ""
           },
           "baxis": {
            "gridcolor": "white",
            "linecolor": "white",
            "ticks": ""
           },
           "bgcolor": "#E5ECF6",
           "caxis": {
            "gridcolor": "white",
            "linecolor": "white",
            "ticks": ""
           }
          },
          "title": {
           "x": 0.05
          },
          "xaxis": {
           "automargin": true,
           "gridcolor": "white",
           "linecolor": "white",
           "ticks": "",
           "title": {
            "standoff": 15
           },
           "zerolinecolor": "white",
           "zerolinewidth": 2
          },
          "yaxis": {
           "automargin": true,
           "gridcolor": "white",
           "linecolor": "white",
           "ticks": "",
           "title": {
            "standoff": 15
           },
           "zerolinecolor": "white",
           "zerolinewidth": 2
          }
         }
        },
        "xaxis": {
         "anchor": "y",
         "domain": [
          0,
          1
         ],
         "title": {
          "text": "index"
         }
        },
        "yaxis": {
         "anchor": "x",
         "domain": [
          0,
          1
         ],
         "title": {
          "text": "Valores"
         }
        }
       }
      }
     },
     "metadata": {},
     "output_type": "display_data"
    }
   ],
   "source": [
    "px.scatter(data_frame = df_balance,\n",
    "            y = 'Valores',\n",
    "            color = 'nombre',\n",
    "            color_discrete_sequence = colores_personalizados,\n",
    "            opacity     = 0.5,\n",
    "            size        = 'Porcentaje',\n",
    "            size_max    = 30\n",
    "          )"
   ]
  },
  {
   "cell_type": "code",
   "execution_count": 121,
   "metadata": {},
   "outputs": [
    {
     "name": "stderr",
     "output_type": "stream",
     "text": [
      "/opt/anaconda3/lib/python3.11/site-packages/plotly/express/_core.py:1979: FutureWarning:\n",
      "\n",
      "When grouping with a length-1 list-like, you will need to pass a length-1 tuple to get_group in a future version of pandas. Pass `(name,)` instead of `name` to silence this warning.\n",
      "\n"
     ]
    },
    {
     "data": {
      "application/vnd.plotly.v1+json": {
       "config": {
        "plotlyServerURL": "https://plot.ly"
       },
       "data": [
        {
         "hovertemplate": "<b>%{hovertext}</b><br><br>tipo de energía=Renovable<br>index=%{x}<br>Valores=%{y}<br>Porcentaje=%{marker.size}<extra></extra>",
         "hovertext": [
          "Hidráulica",
          "Hidráulica",
          "Hidráulica",
          "Hidráulica",
          "Hidráulica",
          "Hidráulica",
          "Hidráulica",
          "Hidráulica",
          "Hidráulica",
          "Hidráulica",
          "Hidráulica",
          "Eólica",
          "Eólica",
          "Eólica",
          "Eólica",
          "Eólica",
          "Eólica",
          "Eólica",
          "Eólica",
          "Eólica",
          "Eólica",
          "Eólica",
          "Solar fotovoltaica",
          "Solar fotovoltaica",
          "Solar fotovoltaica",
          "Solar fotovoltaica",
          "Solar fotovoltaica",
          "Solar fotovoltaica",
          "Solar fotovoltaica",
          "Solar fotovoltaica",
          "Solar fotovoltaica",
          "Solar fotovoltaica",
          "Solar fotovoltaica",
          "Solar térmica",
          "Solar térmica",
          "Solar térmica",
          "Solar térmica",
          "Solar térmica",
          "Solar térmica",
          "Solar térmica",
          "Solar térmica",
          "Solar térmica",
          "Solar térmica",
          "Solar térmica",
          "Hidroeólica",
          "Hidroeólica",
          "Hidroeólica",
          "Hidroeólica",
          "Hidroeólica",
          "Hidroeólica",
          "Hidroeólica",
          "Hidroeólica",
          "Hidroeólica",
          "Hidroeólica",
          "Hidroeólica",
          "Otras renovables",
          "Otras renovables",
          "Otras renovables",
          "Otras renovables",
          "Otras renovables",
          "Otras renovables",
          "Otras renovables",
          "Otras renovables",
          "Otras renovables",
          "Otras renovables",
          "Otras renovables",
          "Residuos renovables",
          "Residuos renovables",
          "Residuos renovables",
          "Residuos renovables",
          "Residuos renovables",
          "Residuos renovables",
          "Residuos renovables",
          "Residuos renovables",
          "Residuos renovables",
          "Residuos renovables",
          "Residuos renovables",
          "Generación renovable",
          "Generación renovable",
          "Generación renovable",
          "Generación renovable",
          "Generación renovable",
          "Generación renovable",
          "Generación renovable",
          "Generación renovable",
          "Generación renovable",
          "Generación renovable",
          "Generación renovable"
         ],
         "legendgroup": "Renovable",
         "marker": {
          "color": "#636EFA",
          "opacity": 0.5,
          "size": [
           0.06491453361249602,
           0.08128316353992167,
           0.06784309093530404,
           0.17467146718359708,
           0.1318231646349135,
           0.0762049250146325,
           0.05983657124938433,
           0.10177206461825768,
           0.05140099431864716,
           0.05909455608606358,
           0.15384859515665653,
           0.562433947434865,
           0.32436512163140824,
           0.38217338392124145,
           0.27033229301182865,
           0.273735010164284,
           0.4387996821671538,
           0.5867894577251056,
           0.40440125723061604,
           0.5302934252904279,
           0.47615089489470674,
           0.38495424042244775,
           0.28604166363658,
           0.44914946248511395,
           0.42737316463176983,
           0.45711709970571135,
           0.47613308038502883,
           0.3865565788444104,
           0.2762746664349293,
           0.3843938664937298,
           0.3230159907432964,
           0.3673047383486933,
           0.3510332785166757,
           0.05011348578674378,
           0.07983082698319041,
           0.05782603952199838,
           0.010402654317938107,
           0.03920110493823073,
           0.030985353190226297,
           0.029125740340574736,
           0.04297574489756175,
           0.041812182766251434,
           0.03683105818461364,
           0.01063632131025245,
           0.00029154331348833957,
           0.0003814255892558742,
           0.00012906339618692583,
           0.00004224568276896666,
           0.000032275188331711024,
           0.0003704006964097092,
           0.0004019615561572069,
           0.0005364441050166263,
           0.00041141852184718735,
           0.0004231049573460147,
           0.0006396713419561138,
           0.02992301921285174,
           0.054207328514707484,
           0.054511612170893314,
           0.0743147404112629,
           0.06519605149020985,
           0.056040571746486675,
           0.03954492760182138,
           0.0548654729369556,
           0.04417389187800075,
           0.049178950184222345,
           0.0838050963985316,
           0.0062818070029752445,
           0.010782671256402362,
           0.010143645422606045,
           0.013119499686893006,
           0.013879313199001451,
           0.01104248834068063,
           0.008026675092027279,
           0.011055149717862395,
           0.008892096481529055,
           0.011016697344354495,
           0.015082796853479779,
           1,
           1,
           1,
           1,
           1,
           1,
           1,
           1,
           1,
           1,
           1
          ],
          "sizemode": "area",
          "sizeref": 0.0011111111111111111,
          "symbol": "circle"
         },
         "mode": "markers",
         "name": "Renovable",
         "orientation": "v",
         "showlegend": true,
         "type": "scatter",
         "x": [
          0,
          1,
          2,
          3,
          4,
          5,
          6,
          7,
          8,
          9,
          10,
          11,
          12,
          13,
          14,
          15,
          16,
          17,
          18,
          19,
          20,
          21,
          22,
          23,
          24,
          25,
          26,
          27,
          28,
          29,
          30,
          31,
          32,
          33,
          34,
          35,
          36,
          37,
          38,
          39,
          40,
          41,
          42,
          43,
          44,
          45,
          46,
          47,
          48,
          49,
          50,
          51,
          52,
          53,
          54,
          55,
          56,
          57,
          58,
          59,
          60,
          61,
          62,
          63,
          64,
          65,
          66,
          67,
          68,
          69,
          70,
          71,
          72,
          73,
          74,
          75,
          76,
          77,
          78,
          79,
          80,
          81,
          82,
          83,
          84,
          85,
          86,
          87
         ],
         "xaxis": "x",
         "y": [
          23389.362,
          18682.792,
          15426.459,
          28347.218,
          23889.363,
          16700.245,
          17394.309,
          21798.945,
          13744.212,
          12758.185,
          22934.016,
          202650.631,
          74554.752,
          86900.257,
          43871.896,
          49607.025,
          96162.58,
          170577.908,
          86620.241,
          141796.192,
          102798.322,
          57384.643,
          103063.7,
          103236.213,
          97177.981,
          74184.973,
          86286.17,
          84713.548,
          80312.204,
          82334.782,
          86371.875,
          79299.044,
          52328.088,
          18056.395,
          18348.975,
          13148.738,
          1688.234,
          7104.134,
          6790.414,
          8466.764,
          9205.138,
          11180.241,
          7951.62,
          1585.543,
          105.046,
          87.67,
          29.347,
          6.856,
          5.849,
          81.173,
          116.849,
          114.903,
          110.01,
          91.346,
          95.355,
          10781.566,
          12459.459,
          12395.089,
          12060.448,
          11815.011,
          12281.244,
          11495.59,
          11751.844,
          11811.743,
          10617.461,
          12492.72,
          2263.3985,
          2478.378,
          2306.5065,
          2129.1475,
          2515.248,
          2419.952,
          2333.33,
          2367.9445,
          2377.675,
          2378.4435,
          2248.3735,
          360310.09849999996,
          229848.239,
          227384.3775,
          162288.7725,
          181222.8,
          219149.156,
          290696.954,
          214193.79750000002,
          267391.94800000003,
          215894.42149999997,
          149068.7385
         ],
         "yaxis": "y"
        },
        {
         "hovertemplate": "<b>%{hovertext}</b><br><br>tipo de energía=No-Renovable<br>index=%{x}<br>Valores=%{y}<br>Porcentaje=%{marker.size}<extra></extra>",
         "hovertext": [
          "Turbinación bombeo",
          "Turbinación bombeo",
          "Turbinación bombeo",
          "Turbinación bombeo",
          "Turbinación bombeo",
          "Turbinación bombeo",
          "Turbinación bombeo",
          "Turbinación bombeo",
          "Turbinación bombeo",
          "Turbinación bombeo",
          "Turbinación bombeo",
          "Nuclear",
          "Nuclear",
          "Nuclear",
          "Nuclear",
          "Nuclear",
          "Nuclear",
          "Nuclear",
          "Nuclear",
          "Nuclear",
          "Nuclear",
          "Nuclear",
          "Ciclo combinado",
          "Ciclo combinado",
          "Ciclo combinado",
          "Ciclo combinado",
          "Ciclo combinado",
          "Ciclo combinado",
          "Ciclo combinado",
          "Ciclo combinado",
          "Ciclo combinado",
          "Ciclo combinado",
          "Ciclo combinado",
          "Carbón",
          "Carbón",
          "Carbón",
          "Carbón",
          "Carbón",
          "Carbón",
          "Carbón",
          "Carbón",
          "Carbón",
          "Carbón",
          "Carbón",
          "Motores diésel",
          "Motores diésel",
          "Motores diésel",
          "Motores diésel",
          "Motores diésel",
          "Motores diésel",
          "Motores diésel",
          "Motores diésel",
          "Motores diésel",
          "Motores diésel",
          "Motores diésel",
          "Turbina de gas",
          "Turbina de gas",
          "Turbina de gas",
          "Turbina de gas",
          "Turbina de gas",
          "Turbina de gas",
          "Turbina de gas",
          "Turbina de gas",
          "Turbina de gas",
          "Turbina de gas",
          "Turbina de gas",
          "Turbina de vapor",
          "Turbina de vapor",
          "Turbina de vapor",
          "Turbina de vapor",
          "Turbina de vapor",
          "Turbina de vapor",
          "Turbina de vapor",
          "Turbina de vapor",
          "Turbina de vapor",
          "Turbina de vapor",
          "Turbina de vapor",
          "Cogeneración",
          "Cogeneración",
          "Cogeneración",
          "Cogeneración",
          "Cogeneración",
          "Cogeneración",
          "Cogeneración",
          "Cogeneración",
          "Cogeneración",
          "Cogeneración",
          "Cogeneración",
          "Residuos no renovables",
          "Residuos no renovables",
          "Residuos no renovables",
          "Residuos no renovables",
          "Residuos no renovables",
          "Residuos no renovables",
          "Residuos no renovables",
          "Residuos no renovables",
          "Residuos no renovables",
          "Residuos no renovables",
          "Residuos no renovables",
          "Generación no renovable",
          "Generación no renovable",
          "Generación no renovable",
          "Generación no renovable",
          "Generación no renovable",
          "Generación no renovable",
          "Generación no renovable",
          "Generación no renovable",
          "Generación no renovable",
          "Generación no renovable",
          "Generación no renovable"
         ],
         "legendgroup": "No-Renovable",
         "marker": {
          "color": "#EF553B",
          "opacity": 0.5,
          "size": [
           0.023346349993948537,
           0.037636129403527625,
           0.032554259594041624,
           0.026629553692672007,
           0.023761150069993492,
           0.019180066772581397,
           0.03239608753167684,
           0.02297072992836087,
           0.014787590933325583,
           0.02138504501938503,
           0.03376932301215799,
           0.34909498496863955,
           0.32483229367530475,
           0.3320258370056978,
           0.24831557519219719,
           0.2407267203936308,
           0.2530418174409575,
           0.2844271324907338,
           0.2518623800988283,
           0.3024476531480996,
           0.3132808337358924,
           0.239168543934365,
           0.4527761521448709,
           0.4837641331232521,
           0.46628005608132717,
           0.5930923498701989,
           0.6249691537924836,
           0.6050278692077421,
           0.5279208339613679,
           0.5819304829969246,
           0.5376909861826829,
           0.5195452329553266,
           0.5921624029826416,
           0.05663093948003074,
           0.05518655749163796,
           0.058251096901859555,
           0.03074077667233609,
           0.007870042540292896,
           0.01581902201798933,
           0.037689033405374,
           0.033748950100850925,
           0.025473525280207934,
           0.03212240839776396,
           0.033244853527598345,
           0.013780511370537802,
           0.01281723680218092,
           0.014333733732054356,
           0.011837888212058651,
           0.010276182816774107,
           0.010071344907398742,
           0.012176260777554418,
           0.011120928598533081,
           0.013022623566901087,
           0.012275594655130206,
           0.011507385988512864,
           0.005691125905694869,
           0.0026072585204365024,
           0.004454236875986643,
           0.005302069911025332,
           0.004646019349984739,
           0.0039172301775750335,
           0.005296235870629664,
           0.004798559684710427,
           0.003297348017592796,
           0.002584005332386635,
           0.005423759944783787,
           0.010263064663288142,
           0.006956070914603979,
           0.00849584409127014,
           0.007639911599832307,
           0.00687678163548259,
           0.006205797005757296,
           0.007849577273913147,
           0.0075145705956928205,
           0.007126571370431318,
           0.006265907832964851,
           0.0050942468974398735,
           0.07666526345336332,
           0.06397301663288762,
           0.0712803756146743,
           0.06706137904290295,
           0.07099704605516388,
           0.07673235515753181,
           0.0813836494490915,
           0.07633330835166764,
           0.08422410251880016,
           0.08096278624011592,
           0.07125985314829282,
           0.011751608019626027,
           0.012227303436168506,
           0.012324560103088297,
           0.009380495806776532,
           0.009876903346193674,
           0.010004497312466859,
           0.010861189239658597,
           0.009720089644431194,
           0.011929598981958663,
           0.011578185831034432,
           0.008369630564207796,
           1,
           1,
           1,
           1,
           1,
           1,
           1,
           1,
           1,
           1,
           1
          ],
          "sizemode": "area",
          "sizeref": 0.0011111111111111111,
          "symbol": "circle"
         },
         "mode": "markers",
         "name": "No-Renovable",
         "orientation": "v",
         "showlegend": true,
         "type": "scatter",
         "x": [
          88,
          89,
          90,
          91,
          92,
          93,
          94,
          95,
          96,
          97,
          98,
          99,
          100,
          101,
          102,
          103,
          104,
          105,
          106,
          107,
          108,
          109,
          110,
          111,
          112,
          113,
          114,
          115,
          116,
          117,
          118,
          119,
          120,
          121,
          122,
          123,
          124,
          125,
          126,
          127,
          128,
          129,
          130,
          131,
          132,
          133,
          134,
          135,
          136,
          137,
          138,
          139,
          140,
          141,
          142,
          143,
          144,
          145,
          146,
          147,
          148,
          149,
          150,
          151,
          152,
          153,
          154,
          155,
          156,
          157,
          158,
          159,
          160,
          161,
          162,
          163,
          164,
          165,
          166,
          167,
          168,
          169,
          170,
          171,
          172,
          173,
          174,
          175,
          176,
          177,
          178,
          179,
          180,
          181,
          182,
          183,
          184,
          185,
          186,
          187,
          188,
          189,
          190,
          191,
          192,
          193,
          194,
          195,
          196,
          197
         ],
         "xaxis": "x",
         "y": [
          9634.798,
          16706.013,
          14120.401,
          15405.511,
          14186.13,
          10851.402,
          16316.221,
          13065.379,
          6994.752,
          9756.857,
          20140.887,
          144067.902,
          144187.317,
          144016.114,
          143653.49,
          143721.181,
          143162.092,
          143251.124,
          143255.241,
          143062.27,
          142933.358,
          142646.23,
          186856.051,
          214734.353,
          202248.844,
          343110.922,
          373125.612,
          342303.325,
          265886.212,
          330992.63,
          254335.89,
          237040.817,
          353180.786,
          23371.005,
          24496.338,
          25266.397,
          17783.902,
          4698.655,
          8949.842,
          18982.002,
          19195.856,
          12049.359,
          14655.744,
          19828.08,
          5687.075,
          5689.345,
          6217.253,
          6848.358,
          6135.194,
          5698.01,
          6132.548,
          6325.404,
          6159.896,
          5600.7,
          6863.299,
          2348.669,
          1157.316,
          1932.024,
          3067.31,
          2773.815,
          2216.23,
          2667.438,
          2729.343,
          1559.695,
          1178.944,
          3234.869,
          4235.461,
          3087.677,
          3685.07,
          4419.779,
          4105.648,
          3511.02,
          3953.423,
          4274.166,
          3370.975,
          2858.8,
          3038.339,
          31638.964,
          28396.492,
          30917.843,
          38795.799,
          42387.398,
          43412.447,
          40988.703,
          43417.149,
          39839.262,
          36939.007,
          42501.197,
          4849.7675,
          5427.484,
          5345.7745,
          5426.7275,
          5896.812,
          5660.19,
          5470.215,
          5528.6295,
          5642.879,
          5282.5095,
          4991.8615,
          412689.69250000006,
          443882.335,
          433749.72050000005,
          578511.7985,
          597030.4450000002,
          565764.558,
          503647.88600000006,
          568783.7975000001,
          473014.978,
          456246.7365,
          596425.5485
         ],
         "yaxis": "y"
        },
        {
         "hovertemplate": "<b>%{hovertext}</b><br><br>tipo de energía=Demanda en b.c.<br>index=%{x}<br>Valores=%{y}<br>Porcentaje=%{marker.size}<extra></extra>",
         "hovertext": [
          "Consumos en bombeo",
          "Consumos en bombeo",
          "Consumos en bombeo",
          "Consumos en bombeo",
          "Consumos en bombeo",
          "Consumos en bombeo",
          "Consumos en bombeo",
          "Consumos en bombeo",
          "Consumos en bombeo",
          "Consumos en bombeo",
          "Consumos en bombeo",
          "Saldo I. internacionales",
          "Saldo I. internacionales",
          "Saldo I. internacionales",
          "Saldo I. internacionales",
          "Saldo I. internacionales",
          "Saldo I. internacionales",
          "Saldo I. internacionales",
          "Saldo I. internacionales",
          "Saldo I. internacionales",
          "Saldo I. internacionales",
          "Saldo I. internacionales",
          "Demanda en b.c.",
          "Demanda en b.c.",
          "Demanda en b.c.",
          "Demanda en b.c.",
          "Demanda en b.c.",
          "Demanda en b.c.",
          "Demanda en b.c.",
          "Demanda en b.c.",
          "Demanda en b.c.",
          "Demanda en b.c.",
          "Demanda en b.c."
         ],
         "legendgroup": "Demanda en b.c.",
         "marker": {
          "color": "#00CC96",
          "opacity": 0.5,
          "size": [
           0.024480827504355714,
           0.030438676468156872,
           0.03810717568734131,
           0.01008361231462829,
           0.02074335350661142,
           0.022849772031657504,
           0.014609743863195015,
           0.010260225174171094,
           0.034697830611285486,
           0.03176335773901466,
           0.0134877090985492,
           0.11373414636481019,
           0.09564281541055115,
           0.1209298740373832,
           0.10445274092377184,
           0.10352984719806389,
           0.10562745314551578,
           0.1158874632841208,
           0.11938108865836647,
           0.13457087105829627,
           0.13170524022634145,
           0.10569417088461855,
           1,
           1,
           1,
           1,
           1,
           1,
           1,
           1,
           1,
           1,
           1
          ],
          "sizemode": "area",
          "sizeref": 0.0011111111111111111,
          "symbol": "circle"
         },
         "mode": "markers",
         "name": "Demanda en b.c.",
         "orientation": "v",
         "showlegend": true,
         "type": "scatter",
         "x": [
          198,
          199,
          200,
          201,
          202,
          203,
          204,
          205,
          206,
          207,
          208,
          209,
          210,
          211,
          212,
          213,
          214,
          215,
          216,
          217,
          218,
          219,
          220,
          221,
          222,
          223,
          224,
          225,
          226,
          227,
          228,
          229,
          230
         ],
         "xaxis": "x",
         "y": [
          -21958.695,
          -23466.109,
          -29958.458,
          -8436.197,
          -18434.496,
          -20579.037,
          -13346.909,
          -9230.133,
          -30925.179,
          -25521.409,
          -11415.535,
          -102016.708,
          -73733.979,
          -95070.613,
          -87387.721,
          -92006.365,
          -95130.545,
          -105870.4,
          -107395.628,
          -119939.149,
          -105823.299,
          -89455.926,
          649024.388,
          576530.486,
          536105.027,
          644976.6529999999,
          667812.384,
          669204.132,
          675127.531,
          666351.834,
          589542.598,
          540796.4500000001,
          644622.826
         ],
         "yaxis": "y"
        }
       ],
       "layout": {
        "legend": {
         "itemsizing": "constant",
         "title": {
          "text": "tipo de energía"
         },
         "tracegroupgap": 0
        },
        "margin": {
         "t": 60
        },
        "template": {
         "data": {
          "bar": [
           {
            "error_x": {
             "color": "#2a3f5f"
            },
            "error_y": {
             "color": "#2a3f5f"
            },
            "marker": {
             "line": {
              "color": "#E5ECF6",
              "width": 0.5
             },
             "pattern": {
              "fillmode": "overlay",
              "size": 10,
              "solidity": 0.2
             }
            },
            "type": "bar"
           }
          ],
          "barpolar": [
           {
            "marker": {
             "line": {
              "color": "#E5ECF6",
              "width": 0.5
             },
             "pattern": {
              "fillmode": "overlay",
              "size": 10,
              "solidity": 0.2
             }
            },
            "type": "barpolar"
           }
          ],
          "carpet": [
           {
            "aaxis": {
             "endlinecolor": "#2a3f5f",
             "gridcolor": "white",
             "linecolor": "white",
             "minorgridcolor": "white",
             "startlinecolor": "#2a3f5f"
            },
            "baxis": {
             "endlinecolor": "#2a3f5f",
             "gridcolor": "white",
             "linecolor": "white",
             "minorgridcolor": "white",
             "startlinecolor": "#2a3f5f"
            },
            "type": "carpet"
           }
          ],
          "choropleth": [
           {
            "colorbar": {
             "outlinewidth": 0,
             "ticks": ""
            },
            "type": "choropleth"
           }
          ],
          "contour": [
           {
            "colorbar": {
             "outlinewidth": 0,
             "ticks": ""
            },
            "colorscale": [
             [
              0,
              "#0d0887"
             ],
             [
              0.1111111111111111,
              "#46039f"
             ],
             [
              0.2222222222222222,
              "#7201a8"
             ],
             [
              0.3333333333333333,
              "#9c179e"
             ],
             [
              0.4444444444444444,
              "#bd3786"
             ],
             [
              0.5555555555555556,
              "#d8576b"
             ],
             [
              0.6666666666666666,
              "#ed7953"
             ],
             [
              0.7777777777777778,
              "#fb9f3a"
             ],
             [
              0.8888888888888888,
              "#fdca26"
             ],
             [
              1,
              "#f0f921"
             ]
            ],
            "type": "contour"
           }
          ],
          "contourcarpet": [
           {
            "colorbar": {
             "outlinewidth": 0,
             "ticks": ""
            },
            "type": "contourcarpet"
           }
          ],
          "heatmap": [
           {
            "colorbar": {
             "outlinewidth": 0,
             "ticks": ""
            },
            "colorscale": [
             [
              0,
              "#0d0887"
             ],
             [
              0.1111111111111111,
              "#46039f"
             ],
             [
              0.2222222222222222,
              "#7201a8"
             ],
             [
              0.3333333333333333,
              "#9c179e"
             ],
             [
              0.4444444444444444,
              "#bd3786"
             ],
             [
              0.5555555555555556,
              "#d8576b"
             ],
             [
              0.6666666666666666,
              "#ed7953"
             ],
             [
              0.7777777777777778,
              "#fb9f3a"
             ],
             [
              0.8888888888888888,
              "#fdca26"
             ],
             [
              1,
              "#f0f921"
             ]
            ],
            "type": "heatmap"
           }
          ],
          "heatmapgl": [
           {
            "colorbar": {
             "outlinewidth": 0,
             "ticks": ""
            },
            "colorscale": [
             [
              0,
              "#0d0887"
             ],
             [
              0.1111111111111111,
              "#46039f"
             ],
             [
              0.2222222222222222,
              "#7201a8"
             ],
             [
              0.3333333333333333,
              "#9c179e"
             ],
             [
              0.4444444444444444,
              "#bd3786"
             ],
             [
              0.5555555555555556,
              "#d8576b"
             ],
             [
              0.6666666666666666,
              "#ed7953"
             ],
             [
              0.7777777777777778,
              "#fb9f3a"
             ],
             [
              0.8888888888888888,
              "#fdca26"
             ],
             [
              1,
              "#f0f921"
             ]
            ],
            "type": "heatmapgl"
           }
          ],
          "histogram": [
           {
            "marker": {
             "pattern": {
              "fillmode": "overlay",
              "size": 10,
              "solidity": 0.2
             }
            },
            "type": "histogram"
           }
          ],
          "histogram2d": [
           {
            "colorbar": {
             "outlinewidth": 0,
             "ticks": ""
            },
            "colorscale": [
             [
              0,
              "#0d0887"
             ],
             [
              0.1111111111111111,
              "#46039f"
             ],
             [
              0.2222222222222222,
              "#7201a8"
             ],
             [
              0.3333333333333333,
              "#9c179e"
             ],
             [
              0.4444444444444444,
              "#bd3786"
             ],
             [
              0.5555555555555556,
              "#d8576b"
             ],
             [
              0.6666666666666666,
              "#ed7953"
             ],
             [
              0.7777777777777778,
              "#fb9f3a"
             ],
             [
              0.8888888888888888,
              "#fdca26"
             ],
             [
              1,
              "#f0f921"
             ]
            ],
            "type": "histogram2d"
           }
          ],
          "histogram2dcontour": [
           {
            "colorbar": {
             "outlinewidth": 0,
             "ticks": ""
            },
            "colorscale": [
             [
              0,
              "#0d0887"
             ],
             [
              0.1111111111111111,
              "#46039f"
             ],
             [
              0.2222222222222222,
              "#7201a8"
             ],
             [
              0.3333333333333333,
              "#9c179e"
             ],
             [
              0.4444444444444444,
              "#bd3786"
             ],
             [
              0.5555555555555556,
              "#d8576b"
             ],
             [
              0.6666666666666666,
              "#ed7953"
             ],
             [
              0.7777777777777778,
              "#fb9f3a"
             ],
             [
              0.8888888888888888,
              "#fdca26"
             ],
             [
              1,
              "#f0f921"
             ]
            ],
            "type": "histogram2dcontour"
           }
          ],
          "mesh3d": [
           {
            "colorbar": {
             "outlinewidth": 0,
             "ticks": ""
            },
            "type": "mesh3d"
           }
          ],
          "parcoords": [
           {
            "line": {
             "colorbar": {
              "outlinewidth": 0,
              "ticks": ""
             }
            },
            "type": "parcoords"
           }
          ],
          "pie": [
           {
            "automargin": true,
            "type": "pie"
           }
          ],
          "scatter": [
           {
            "fillpattern": {
             "fillmode": "overlay",
             "size": 10,
             "solidity": 0.2
            },
            "type": "scatter"
           }
          ],
          "scatter3d": [
           {
            "line": {
             "colorbar": {
              "outlinewidth": 0,
              "ticks": ""
             }
            },
            "marker": {
             "colorbar": {
              "outlinewidth": 0,
              "ticks": ""
             }
            },
            "type": "scatter3d"
           }
          ],
          "scattercarpet": [
           {
            "marker": {
             "colorbar": {
              "outlinewidth": 0,
              "ticks": ""
             }
            },
            "type": "scattercarpet"
           }
          ],
          "scattergeo": [
           {
            "marker": {
             "colorbar": {
              "outlinewidth": 0,
              "ticks": ""
             }
            },
            "type": "scattergeo"
           }
          ],
          "scattergl": [
           {
            "marker": {
             "colorbar": {
              "outlinewidth": 0,
              "ticks": ""
             }
            },
            "type": "scattergl"
           }
          ],
          "scattermapbox": [
           {
            "marker": {
             "colorbar": {
              "outlinewidth": 0,
              "ticks": ""
             }
            },
            "type": "scattermapbox"
           }
          ],
          "scatterpolar": [
           {
            "marker": {
             "colorbar": {
              "outlinewidth": 0,
              "ticks": ""
             }
            },
            "type": "scatterpolar"
           }
          ],
          "scatterpolargl": [
           {
            "marker": {
             "colorbar": {
              "outlinewidth": 0,
              "ticks": ""
             }
            },
            "type": "scatterpolargl"
           }
          ],
          "scatterternary": [
           {
            "marker": {
             "colorbar": {
              "outlinewidth": 0,
              "ticks": ""
             }
            },
            "type": "scatterternary"
           }
          ],
          "surface": [
           {
            "colorbar": {
             "outlinewidth": 0,
             "ticks": ""
            },
            "colorscale": [
             [
              0,
              "#0d0887"
             ],
             [
              0.1111111111111111,
              "#46039f"
             ],
             [
              0.2222222222222222,
              "#7201a8"
             ],
             [
              0.3333333333333333,
              "#9c179e"
             ],
             [
              0.4444444444444444,
              "#bd3786"
             ],
             [
              0.5555555555555556,
              "#d8576b"
             ],
             [
              0.6666666666666666,
              "#ed7953"
             ],
             [
              0.7777777777777778,
              "#fb9f3a"
             ],
             [
              0.8888888888888888,
              "#fdca26"
             ],
             [
              1,
              "#f0f921"
             ]
            ],
            "type": "surface"
           }
          ],
          "table": [
           {
            "cells": {
             "fill": {
              "color": "#EBF0F8"
             },
             "line": {
              "color": "white"
             }
            },
            "header": {
             "fill": {
              "color": "#C8D4E3"
             },
             "line": {
              "color": "white"
             }
            },
            "type": "table"
           }
          ]
         },
         "layout": {
          "annotationdefaults": {
           "arrowcolor": "#2a3f5f",
           "arrowhead": 0,
           "arrowwidth": 1
          },
          "autotypenumbers": "strict",
          "coloraxis": {
           "colorbar": {
            "outlinewidth": 0,
            "ticks": ""
           }
          },
          "colorscale": {
           "diverging": [
            [
             0,
             "#8e0152"
            ],
            [
             0.1,
             "#c51b7d"
            ],
            [
             0.2,
             "#de77ae"
            ],
            [
             0.3,
             "#f1b6da"
            ],
            [
             0.4,
             "#fde0ef"
            ],
            [
             0.5,
             "#f7f7f7"
            ],
            [
             0.6,
             "#e6f5d0"
            ],
            [
             0.7,
             "#b8e186"
            ],
            [
             0.8,
             "#7fbc41"
            ],
            [
             0.9,
             "#4d9221"
            ],
            [
             1,
             "#276419"
            ]
           ],
           "sequential": [
            [
             0,
             "#0d0887"
            ],
            [
             0.1111111111111111,
             "#46039f"
            ],
            [
             0.2222222222222222,
             "#7201a8"
            ],
            [
             0.3333333333333333,
             "#9c179e"
            ],
            [
             0.4444444444444444,
             "#bd3786"
            ],
            [
             0.5555555555555556,
             "#d8576b"
            ],
            [
             0.6666666666666666,
             "#ed7953"
            ],
            [
             0.7777777777777778,
             "#fb9f3a"
            ],
            [
             0.8888888888888888,
             "#fdca26"
            ],
            [
             1,
             "#f0f921"
            ]
           ],
           "sequentialminus": [
            [
             0,
             "#0d0887"
            ],
            [
             0.1111111111111111,
             "#46039f"
            ],
            [
             0.2222222222222222,
             "#7201a8"
            ],
            [
             0.3333333333333333,
             "#9c179e"
            ],
            [
             0.4444444444444444,
             "#bd3786"
            ],
            [
             0.5555555555555556,
             "#d8576b"
            ],
            [
             0.6666666666666666,
             "#ed7953"
            ],
            [
             0.7777777777777778,
             "#fb9f3a"
            ],
            [
             0.8888888888888888,
             "#fdca26"
            ],
            [
             1,
             "#f0f921"
            ]
           ]
          },
          "colorway": [
           "#636efa",
           "#EF553B",
           "#00cc96",
           "#ab63fa",
           "#FFA15A",
           "#19d3f3",
           "#FF6692",
           "#B6E880",
           "#FF97FF",
           "#FECB52"
          ],
          "font": {
           "color": "#2a3f5f"
          },
          "geo": {
           "bgcolor": "white",
           "lakecolor": "white",
           "landcolor": "#E5ECF6",
           "showlakes": true,
           "showland": true,
           "subunitcolor": "white"
          },
          "hoverlabel": {
           "align": "left"
          },
          "hovermode": "closest",
          "mapbox": {
           "style": "light"
          },
          "paper_bgcolor": "white",
          "plot_bgcolor": "#E5ECF6",
          "polar": {
           "angularaxis": {
            "gridcolor": "white",
            "linecolor": "white",
            "ticks": ""
           },
           "bgcolor": "#E5ECF6",
           "radialaxis": {
            "gridcolor": "white",
            "linecolor": "white",
            "ticks": ""
           }
          },
          "scene": {
           "xaxis": {
            "backgroundcolor": "#E5ECF6",
            "gridcolor": "white",
            "gridwidth": 2,
            "linecolor": "white",
            "showbackground": true,
            "ticks": "",
            "zerolinecolor": "white"
           },
           "yaxis": {
            "backgroundcolor": "#E5ECF6",
            "gridcolor": "white",
            "gridwidth": 2,
            "linecolor": "white",
            "showbackground": true,
            "ticks": "",
            "zerolinecolor": "white"
           },
           "zaxis": {
            "backgroundcolor": "#E5ECF6",
            "gridcolor": "white",
            "gridwidth": 2,
            "linecolor": "white",
            "showbackground": true,
            "ticks": "",
            "zerolinecolor": "white"
           }
          },
          "shapedefaults": {
           "line": {
            "color": "#2a3f5f"
           }
          },
          "ternary": {
           "aaxis": {
            "gridcolor": "white",
            "linecolor": "white",
            "ticks": ""
           },
           "baxis": {
            "gridcolor": "white",
            "linecolor": "white",
            "ticks": ""
           },
           "bgcolor": "#E5ECF6",
           "caxis": {
            "gridcolor": "white",
            "linecolor": "white",
            "ticks": ""
           }
          },
          "title": {
           "x": 0.05
          },
          "xaxis": {
           "automargin": true,
           "gridcolor": "white",
           "linecolor": "white",
           "ticks": "",
           "title": {
            "standoff": 15
           },
           "zerolinecolor": "white",
           "zerolinewidth": 2
          },
          "yaxis": {
           "automargin": true,
           "gridcolor": "white",
           "linecolor": "white",
           "ticks": "",
           "title": {
            "standoff": 15
           },
           "zerolinecolor": "white",
           "zerolinewidth": 2
          }
         }
        },
        "xaxis": {
         "anchor": "y",
         "domain": [
          0,
          1
         ],
         "title": {
          "text": "index"
         }
        },
        "yaxis": {
         "anchor": "x",
         "domain": [
          0,
          1
         ],
         "title": {
          "text": "Valores"
         }
        }
       }
      }
     },
     "metadata": {},
     "output_type": "display_data"
    }
   ],
   "source": [
    "px.scatter(data_frame = df_balance,\n",
    "            y = 'Valores',\n",
    "            color = 'tipo de energía',\n",
    "            color_discrete_sequence = colores_personalizados,\n",
    "            opacity     = 0.5,\n",
    "            hover_name  = 'nombre',\n",
    "            size        = 'Porcentaje',\n",
    "            size_max    = 30\n",
    "          )"
   ]
  },
  {
   "cell_type": "code",
   "execution_count": 69,
   "metadata": {},
   "outputs": [
    {
     "name": "stderr",
     "output_type": "stream",
     "text": [
      "/opt/anaconda3/lib/python3.11/site-packages/plotly/express/_core.py:1979: FutureWarning:\n",
      "\n",
      "When grouping with a length-1 list-like, you will need to pass a length-1 tuple to get_group in a future version of pandas. Pass `(name,)` instead of `name` to silence this warning.\n",
      "\n"
     ]
    },
    {
     "data": {
      "application/vnd.plotly.v1+json": {
       "config": {
        "plotlyServerURL": "https://plot.ly"
       },
       "data": [
        {
         "alignmentgroup": "True",
         "hovertemplate": "nombre=%{y}<br>Valores=%{x}<extra></extra>",
         "legendgroup": "Hidráulica",
         "marker": {
          "color": "#636EFA"
         },
         "name": "Hidráulica",
         "notched": false,
         "offsetgroup": "Hidráulica",
         "orientation": "h",
         "showlegend": true,
         "type": "box",
         "x": [
          83008.9,
          54807.3,
          63360.6,
          57723.1,
          60409.1,
          97712.5
         ],
         "x0": " ",
         "xaxis": "x",
         "y": [
          "Hidráulica",
          "Hidráulica",
          "Hidráulica",
          "Hidráulica",
          "Hidráulica",
          "Hidráulica"
         ],
         "y0": " ",
         "yaxis": "y"
        },
        {
         "alignmentgroup": "True",
         "hovertemplate": "nombre=%{y}<br>Valores=%{x}<extra></extra>",
         "legendgroup": "Eólica",
         "marker": {
          "color": "#EF553B"
         },
         "name": "Eólica",
         "notched": false,
         "offsetgroup": "Eólica",
         "orientation": "h",
         "showlegend": true,
         "type": "box",
         "x": [
          151013.035,
          216702.928,
          294934.188,
          325019.499,
          332221.541,
          175785.688
         ],
         "x0": " ",
         "xaxis": "x",
         "y": [
          "Eólica",
          "Eólica",
          "Eólica",
          "Eólica",
          "Eólica",
          "Eólica"
         ],
         "y0": " ",
         "yaxis": "y"
        },
        {
         "alignmentgroup": "True",
         "hovertemplate": "nombre=%{y}<br>Valores=%{x}<extra></extra>",
         "legendgroup": "Solar fotovoltaica",
         "marker": {
          "color": "#00CC96"
         },
         "name": "Solar fotovoltaica",
         "notched": false,
         "offsetgroup": "Solar fotovoltaica",
         "orientation": "h",
         "showlegend": true,
         "type": "box",
         "x": [
          120892.099,
          104505.558,
          79728.685,
          88050.07,
          61269.618,
          126947.59
         ],
         "x0": " ",
         "xaxis": "x",
         "y": [
          "Solar fotovoltaica",
          "Solar fotovoltaica",
          "Solar fotovoltaica",
          "Solar fotovoltaica",
          "Solar fotovoltaica",
          "Solar fotovoltaica"
         ],
         "y0": " ",
         "yaxis": "y"
        },
        {
         "alignmentgroup": "True",
         "hovertemplate": "nombre=%{y}<br>Valores=%{x}<extra></extra>",
         "legendgroup": "Solar térmica",
         "marker": {
          "color": "#AB63FA"
         },
         "name": "Solar térmica",
         "notched": false,
         "offsetgroup": "Solar térmica",
         "orientation": "h",
         "showlegend": true,
         "type": "box",
         "x": [
          12727.6,
          8865.7,
          1804.5,
          3398.666,
          2117.315,
          6044.663
         ],
         "x0": " ",
         "xaxis": "x",
         "y": [
          "Solar térmica",
          "Solar térmica",
          "Solar térmica",
          "Solar térmica",
          "Solar térmica",
          "Solar térmica"
         ],
         "y0": " ",
         "yaxis": "y"
        },
        {
         "alignmentgroup": "True",
         "hovertemplate": "nombre=%{y}<br>Valores=%{x}<extra></extra>",
         "legendgroup": "Hidroeólica",
         "marker": {
          "color": "#FFA15A"
         },
         "name": "Hidroeólica",
         "notched": false,
         "offsetgroup": "Hidroeólica",
         "orientation": "h",
         "showlegend": true,
         "type": "box",
         "x": [
          50.153,
          1.722,
          5.562,
          13.737,
          55.307,
          29.037
         ],
         "x0": " ",
         "xaxis": "x",
         "y": [
          "Hidroeólica",
          "Hidroeólica",
          "Hidroeólica",
          "Hidroeólica",
          "Hidroeólica",
          "Hidroeólica"
         ],
         "y0": " ",
         "yaxis": "y"
        },
        {
         "alignmentgroup": "True",
         "hovertemplate": "nombre=%{y}<br>Valores=%{x}<extra></extra>",
         "legendgroup": "Otras renovables",
         "marker": {
          "color": "#19D3F3"
         },
         "name": "Otras renovables",
         "notched": false,
         "offsetgroup": "Otras renovables",
         "orientation": "h",
         "showlegend": true,
         "type": "box",
         "x": [
          10221.698,
          9639.618,
          10001.668,
          8601.95,
          7808.284,
          9794.984
         ],
         "x0": " ",
         "xaxis": "x",
         "y": [
          "Otras renovables",
          "Otras renovables",
          "Otras renovables",
          "Otras renovables",
          "Otras renovables",
          "Otras renovables"
         ],
         "y0": " ",
         "yaxis": "y"
        },
        {
         "alignmentgroup": "True",
         "hovertemplate": "nombre=%{y}<br>Valores=%{x}<extra></extra>",
         "legendgroup": "Residuos renovables",
         "marker": {
          "color": "#FF6692"
         },
         "name": "Residuos renovables",
         "notched": false,
         "offsetgroup": "Residuos renovables",
         "orientation": "h",
         "showlegend": true,
         "type": "box",
         "x": [
          1972.75,
          1879.6,
          1856.8,
          1958.8,
          2361.75,
          2447.5
         ],
         "x0": " ",
         "xaxis": "x",
         "y": [
          "Residuos renovables",
          "Residuos renovables",
          "Residuos renovables",
          "Residuos renovables",
          "Residuos renovables",
          "Residuos renovables"
         ],
         "y0": " ",
         "yaxis": "y"
        },
        {
         "alignmentgroup": "True",
         "hovertemplate": "nombre=%{y}<br>Valores=%{x}<extra></extra>",
         "legendgroup": "Generación renovable",
         "marker": {
          "color": "#B6E880"
         },
         "name": "Generación renovable",
         "notched": false,
         "offsetgroup": "Generación renovable",
         "orientation": "h",
         "showlegend": true,
         "type": "box",
         "x": [
          379886.2349999999,
          396402.42600000004,
          451692.00299999997,
          484765.82200000004,
          466242.915,
          418761.96199999994
         ],
         "x0": " ",
         "xaxis": "x",
         "y": [
          "Generación renovable",
          "Generación renovable",
          "Generación renovable",
          "Generación renovable",
          "Generación renovable",
          "Generación renovable"
         ],
         "y0": " ",
         "yaxis": "y"
        },
        {
         "alignmentgroup": "True",
         "hovertemplate": "nombre=%{y}<br>Valores=%{x}<extra></extra>",
         "legendgroup": "Turbinación bombeo",
         "marker": {
          "color": "#FF97FF"
         },
         "name": "Turbinación bombeo",
         "notched": false,
         "offsetgroup": "Turbinación bombeo",
         "orientation": "h",
         "showlegend": true,
         "type": "box",
         "x": [
          9067.2,
          3070.9,
          9643.3,
          8103.1,
          6513.1,
          10105.2
         ],
         "x0": " ",
         "xaxis": "x",
         "y": [
          "Turbinación bombeo",
          "Turbinación bombeo",
          "Turbinación bombeo",
          "Turbinación bombeo",
          "Turbinación bombeo",
          "Turbinación bombeo"
         ],
         "y0": " ",
         "yaxis": "y"
        },
        {
         "alignmentgroup": "True",
         "hovertemplate": "nombre=%{y}<br>Valores=%{x}<extra></extra>",
         "legendgroup": "Nuclear",
         "marker": {
          "color": "#FECB52"
         },
         "name": "Nuclear",
         "notched": false,
         "offsetgroup": "Nuclear",
         "orientation": "h",
         "showlegend": true,
         "type": "box",
         "x": [
          166527.4,
          162276.1,
          143378.2,
          143691,
          143776.6,
          144129.8
         ],
         "x0": " ",
         "xaxis": "x",
         "y": [
          "Nuclear",
          "Nuclear",
          "Nuclear",
          "Nuclear",
          "Nuclear",
          "Nuclear"
         ],
         "y0": " ",
         "yaxis": "y"
        },
        {
         "alignmentgroup": "True",
         "hovertemplate": "nombre=%{y}<br>Valores=%{x}<extra></extra>",
         "legendgroup": "Ciclo combinado",
         "marker": {
          "color": "rgb(102, 197, 204)"
         },
         "name": "Ciclo combinado",
         "notched": false,
         "offsetgroup": "Ciclo combinado",
         "orientation": "h",
         "showlegend": true,
         "type": "box",
         "x": [
          54493.427,
          54462.916,
          59973.139,
          64127.222,
          60038.599,
          84912.031
         ],
         "x0": " ",
         "xaxis": "x",
         "y": [
          "Ciclo combinado",
          "Ciclo combinado",
          "Ciclo combinado",
          "Ciclo combinado",
          "Ciclo combinado",
          "Ciclo combinado"
         ],
         "y0": " ",
         "yaxis": "y"
        },
        {
         "alignmentgroup": "True",
         "hovertemplate": "nombre=%{y}<br>Valores=%{x}<extra></extra>",
         "legendgroup": "Carbón",
         "marker": {
          "color": "rgb(246, 207, 113)"
         },
         "name": "Carbón",
         "notched": false,
         "offsetgroup": "Carbón",
         "orientation": "h",
         "showlegend": true,
         "type": "box",
         "x": [
          5769.5,
          5884,
          8009.9,
          8764,
          10614,
          10824
         ],
         "x0": " ",
         "xaxis": "x",
         "y": [
          "Carbón",
          "Carbón",
          "Carbón",
          "Carbón",
          "Carbón",
          "Carbón"
         ],
         "y0": " ",
         "yaxis": "y"
        },
        {
         "alignmentgroup": "True",
         "hovertemplate": "nombre=%{y}<br>Valores=%{x}<extra></extra>",
         "legendgroup": "Motores diésel",
         "marker": {
          "color": "rgb(248, 156, 116)"
         },
         "name": "Motores diésel",
         "notched": false,
         "offsetgroup": "Motores diésel",
         "orientation": "h",
         "showlegend": true,
         "type": "box",
         "x": [
          7216.581,
          7418.098,
          8239.317,
          8684.946,
          8316.933,
          8548.403
         ],
         "x0": " ",
         "xaxis": "x",
         "y": [
          "Motores diésel",
          "Motores diésel",
          "Motores diésel",
          "Motores diésel",
          "Motores diésel",
          "Motores diésel"
         ],
         "y0": " ",
         "yaxis": "y"
        },
        {
         "alignmentgroup": "True",
         "hovertemplate": "nombre=%{y}<br>Valores=%{x}<extra></extra>",
         "legendgroup": "Turbina de gas",
         "marker": {
          "color": "rgb(220, 176, 242)"
         },
         "name": "Turbina de gas",
         "notched": false,
         "offsetgroup": "Turbina de gas",
         "orientation": "h",
         "showlegend": true,
         "type": "box",
         "x": [
          1055.006,
          1236.689,
          2396.469,
          2678.692,
          2394.502,
          2215.669
         ],
         "x0": " ",
         "xaxis": "x",
         "y": [
          "Turbina de gas",
          "Turbina de gas",
          "Turbina de gas",
          "Turbina de gas",
          "Turbina de gas",
          "Turbina de gas"
         ],
         "y0": " ",
         "yaxis": "y"
        },
        {
         "alignmentgroup": "True",
         "hovertemplate": "nombre=%{y}<br>Valores=%{x}<extra></extra>",
         "legendgroup": "Turbina de vapor",
         "marker": {
          "color": "rgb(135, 197, 95)"
         },
         "name": "Turbina de vapor",
         "notched": false,
         "offsetgroup": "Turbina de vapor",
         "orientation": "h",
         "showlegend": true,
         "type": "box",
         "x": [
          2329.67,
          2559.136,
          2921.456,
          3136.741,
          2660.339,
          2524.565
         ],
         "x0": " ",
         "xaxis": "x",
         "y": [
          "Turbina de vapor",
          "Turbina de vapor",
          "Turbina de vapor",
          "Turbina de vapor",
          "Turbina de vapor",
          "Turbina de vapor"
         ],
         "y0": " ",
         "yaxis": "y"
        },
        {
         "alignmentgroup": "True",
         "hovertemplate": "nombre=%{y}<br>Valores=%{x}<extra></extra>",
         "legendgroup": "Cogeneración",
         "marker": {
          "color": "rgb(158, 185, 243)"
         },
         "name": "Cogeneración",
         "notched": false,
         "offsetgroup": "Cogeneración",
         "orientation": "h",
         "showlegend": true,
         "type": "box",
         "x": [
          38276.2,
          24985.74,
          31621.76,
          25166.3,
          24357.3,
          40964.14
         ],
         "x0": " ",
         "xaxis": "x",
         "y": [
          "Cogeneración",
          "Cogeneración",
          "Cogeneración",
          "Cogeneración",
          "Cogeneración",
          "Cogeneración"
         ],
         "y0": " ",
         "yaxis": "y"
        },
        {
         "alignmentgroup": "True",
         "hovertemplate": "nombre=%{y}<br>Valores=%{x}<extra></extra>",
         "legendgroup": "Residuos no renovables",
         "marker": {
          "color": "rgb(254, 136, 177)"
         },
         "name": "Residuos no renovables",
         "notched": false,
         "offsetgroup": "Residuos no renovables",
         "orientation": "h",
         "showlegend": true,
         "type": "box",
         "x": [
          4152.55,
          3672.7,
          3684.9,
          3720.6,
          4084.55,
          4337.2
         ],
         "x0": " ",
         "xaxis": "x",
         "y": [
          "Residuos no renovables",
          "Residuos no renovables",
          "Residuos no renovables",
          "Residuos no renovables",
          "Residuos no renovables",
          "Residuos no renovables"
         ],
         "y0": " ",
         "yaxis": "y"
        },
        {
         "alignmentgroup": "True",
         "hovertemplate": "nombre=%{y}<br>Valores=%{x}<extra></extra>",
         "legendgroup": "Generación no renovable",
         "marker": {
          "color": "rgb(201, 219, 116)"
         },
         "name": "Generación no renovable",
         "notched": false,
         "offsetgroup": "Generación no renovable",
         "orientation": "h",
         "showlegend": true,
         "type": "box",
         "x": [
          288887.534,
          265566.279,
          269868.44100000005,
          268072.601,
          262755.923,
          308561.00800000003
         ],
         "x0": " ",
         "xaxis": "x",
         "y": [
          "Generación no renovable",
          "Generación no renovable",
          "Generación no renovable",
          "Generación no renovable",
          "Generación no renovable",
          "Generación no renovable"
         ],
         "y0": " ",
         "yaxis": "y"
        },
        {
         "alignmentgroup": "True",
         "hovertemplate": "nombre=%{y}<br>Valores=%{x}<extra></extra>",
         "legendgroup": "Consumos en bombeo",
         "marker": {
          "color": "rgb(139, 224, 164)"
         },
         "name": "Consumos en bombeo",
         "notched": false,
         "offsetgroup": "Consumos en bombeo",
         "orientation": "h",
         "showlegend": true,
         "type": "box",
         "x": [
          -14987.2,
          -33277.3,
          -16645.8,
          -27589.6,
          -26247.4,
          -14341.2
         ],
         "x0": " ",
         "xaxis": "x",
         "y": [
          "Consumos en bombeo",
          "Consumos en bombeo",
          "Consumos en bombeo",
          "Consumos en bombeo",
          "Consumos en bombeo",
          "Consumos en bombeo"
         ],
         "y0": " ",
         "yaxis": "y"
        },
        {
         "alignmentgroup": "True",
         "hovertemplate": "nombre=%{y}<br>Valores=%{x}<extra></extra>",
         "legendgroup": "Saldo I. internacionales",
         "marker": {
          "color": "rgb(180, 151, 231)"
         },
         "name": "Saldo I. internacionales",
         "notched": false,
         "offsetgroup": "Saldo I. internacionales",
         "orientation": "h",
         "showlegend": true,
         "type": "box",
         "x": [
          -55758.8,
          -63158.2,
          -39350,
          -42371.6,
          -23779.7,
          -23434.4
         ],
         "x0": " ",
         "xaxis": "x",
         "y": [
          "Saldo I. internacionales",
          "Saldo I. internacionales",
          "Saldo I. internacionales",
          "Saldo I. internacionales",
          "Saldo I. internacionales",
          "Saldo I. internacionales"
         ],
         "y0": " ",
         "yaxis": "y"
        },
        {
         "alignmentgroup": "True",
         "hovertemplate": "nombre=%{y}<br>Valores=%{x}<extra></extra>",
         "legendgroup": "Demanda en b.c.",
         "marker": {
          "color": "rgb(179, 179, 179)"
         },
         "name": "Demanda en b.c.",
         "notched": false,
         "offsetgroup": "Demanda en b.c.",
         "orientation": "h",
         "showlegend": true,
         "type": "box",
         "x": [
          598027.769,
          565533.205,
          665564.644,
          682877.223,
          678971.738,
          689547.37
         ],
         "x0": " ",
         "xaxis": "x",
         "y": [
          "Demanda en b.c.",
          "Demanda en b.c.",
          "Demanda en b.c.",
          "Demanda en b.c.",
          "Demanda en b.c.",
          "Demanda en b.c."
         ],
         "y0": " ",
         "yaxis": "y"
        }
       ],
       "layout": {
        "boxmode": "overlay",
        "legend": {
         "title": {
          "text": "nombre"
         },
         "tracegroupgap": 0
        },
        "margin": {
         "t": 60
        },
        "template": {
         "data": {
          "bar": [
           {
            "error_x": {
             "color": "#2a3f5f"
            },
            "error_y": {
             "color": "#2a3f5f"
            },
            "marker": {
             "line": {
              "color": "#E5ECF6",
              "width": 0.5
             },
             "pattern": {
              "fillmode": "overlay",
              "size": 10,
              "solidity": 0.2
             }
            },
            "type": "bar"
           }
          ],
          "barpolar": [
           {
            "marker": {
             "line": {
              "color": "#E5ECF6",
              "width": 0.5
             },
             "pattern": {
              "fillmode": "overlay",
              "size": 10,
              "solidity": 0.2
             }
            },
            "type": "barpolar"
           }
          ],
          "carpet": [
           {
            "aaxis": {
             "endlinecolor": "#2a3f5f",
             "gridcolor": "white",
             "linecolor": "white",
             "minorgridcolor": "white",
             "startlinecolor": "#2a3f5f"
            },
            "baxis": {
             "endlinecolor": "#2a3f5f",
             "gridcolor": "white",
             "linecolor": "white",
             "minorgridcolor": "white",
             "startlinecolor": "#2a3f5f"
            },
            "type": "carpet"
           }
          ],
          "choropleth": [
           {
            "colorbar": {
             "outlinewidth": 0,
             "ticks": ""
            },
            "type": "choropleth"
           }
          ],
          "contour": [
           {
            "colorbar": {
             "outlinewidth": 0,
             "ticks": ""
            },
            "colorscale": [
             [
              0,
              "#0d0887"
             ],
             [
              0.1111111111111111,
              "#46039f"
             ],
             [
              0.2222222222222222,
              "#7201a8"
             ],
             [
              0.3333333333333333,
              "#9c179e"
             ],
             [
              0.4444444444444444,
              "#bd3786"
             ],
             [
              0.5555555555555556,
              "#d8576b"
             ],
             [
              0.6666666666666666,
              "#ed7953"
             ],
             [
              0.7777777777777778,
              "#fb9f3a"
             ],
             [
              0.8888888888888888,
              "#fdca26"
             ],
             [
              1,
              "#f0f921"
             ]
            ],
            "type": "contour"
           }
          ],
          "contourcarpet": [
           {
            "colorbar": {
             "outlinewidth": 0,
             "ticks": ""
            },
            "type": "contourcarpet"
           }
          ],
          "heatmap": [
           {
            "colorbar": {
             "outlinewidth": 0,
             "ticks": ""
            },
            "colorscale": [
             [
              0,
              "#0d0887"
             ],
             [
              0.1111111111111111,
              "#46039f"
             ],
             [
              0.2222222222222222,
              "#7201a8"
             ],
             [
              0.3333333333333333,
              "#9c179e"
             ],
             [
              0.4444444444444444,
              "#bd3786"
             ],
             [
              0.5555555555555556,
              "#d8576b"
             ],
             [
              0.6666666666666666,
              "#ed7953"
             ],
             [
              0.7777777777777778,
              "#fb9f3a"
             ],
             [
              0.8888888888888888,
              "#fdca26"
             ],
             [
              1,
              "#f0f921"
             ]
            ],
            "type": "heatmap"
           }
          ],
          "heatmapgl": [
           {
            "colorbar": {
             "outlinewidth": 0,
             "ticks": ""
            },
            "colorscale": [
             [
              0,
              "#0d0887"
             ],
             [
              0.1111111111111111,
              "#46039f"
             ],
             [
              0.2222222222222222,
              "#7201a8"
             ],
             [
              0.3333333333333333,
              "#9c179e"
             ],
             [
              0.4444444444444444,
              "#bd3786"
             ],
             [
              0.5555555555555556,
              "#d8576b"
             ],
             [
              0.6666666666666666,
              "#ed7953"
             ],
             [
              0.7777777777777778,
              "#fb9f3a"
             ],
             [
              0.8888888888888888,
              "#fdca26"
             ],
             [
              1,
              "#f0f921"
             ]
            ],
            "type": "heatmapgl"
           }
          ],
          "histogram": [
           {
            "marker": {
             "pattern": {
              "fillmode": "overlay",
              "size": 10,
              "solidity": 0.2
             }
            },
            "type": "histogram"
           }
          ],
          "histogram2d": [
           {
            "colorbar": {
             "outlinewidth": 0,
             "ticks": ""
            },
            "colorscale": [
             [
              0,
              "#0d0887"
             ],
             [
              0.1111111111111111,
              "#46039f"
             ],
             [
              0.2222222222222222,
              "#7201a8"
             ],
             [
              0.3333333333333333,
              "#9c179e"
             ],
             [
              0.4444444444444444,
              "#bd3786"
             ],
             [
              0.5555555555555556,
              "#d8576b"
             ],
             [
              0.6666666666666666,
              "#ed7953"
             ],
             [
              0.7777777777777778,
              "#fb9f3a"
             ],
             [
              0.8888888888888888,
              "#fdca26"
             ],
             [
              1,
              "#f0f921"
             ]
            ],
            "type": "histogram2d"
           }
          ],
          "histogram2dcontour": [
           {
            "colorbar": {
             "outlinewidth": 0,
             "ticks": ""
            },
            "colorscale": [
             [
              0,
              "#0d0887"
             ],
             [
              0.1111111111111111,
              "#46039f"
             ],
             [
              0.2222222222222222,
              "#7201a8"
             ],
             [
              0.3333333333333333,
              "#9c179e"
             ],
             [
              0.4444444444444444,
              "#bd3786"
             ],
             [
              0.5555555555555556,
              "#d8576b"
             ],
             [
              0.6666666666666666,
              "#ed7953"
             ],
             [
              0.7777777777777778,
              "#fb9f3a"
             ],
             [
              0.8888888888888888,
              "#fdca26"
             ],
             [
              1,
              "#f0f921"
             ]
            ],
            "type": "histogram2dcontour"
           }
          ],
          "mesh3d": [
           {
            "colorbar": {
             "outlinewidth": 0,
             "ticks": ""
            },
            "type": "mesh3d"
           }
          ],
          "parcoords": [
           {
            "line": {
             "colorbar": {
              "outlinewidth": 0,
              "ticks": ""
             }
            },
            "type": "parcoords"
           }
          ],
          "pie": [
           {
            "automargin": true,
            "type": "pie"
           }
          ],
          "scatter": [
           {
            "fillpattern": {
             "fillmode": "overlay",
             "size": 10,
             "solidity": 0.2
            },
            "type": "scatter"
           }
          ],
          "scatter3d": [
           {
            "line": {
             "colorbar": {
              "outlinewidth": 0,
              "ticks": ""
             }
            },
            "marker": {
             "colorbar": {
              "outlinewidth": 0,
              "ticks": ""
             }
            },
            "type": "scatter3d"
           }
          ],
          "scattercarpet": [
           {
            "marker": {
             "colorbar": {
              "outlinewidth": 0,
              "ticks": ""
             }
            },
            "type": "scattercarpet"
           }
          ],
          "scattergeo": [
           {
            "marker": {
             "colorbar": {
              "outlinewidth": 0,
              "ticks": ""
             }
            },
            "type": "scattergeo"
           }
          ],
          "scattergl": [
           {
            "marker": {
             "colorbar": {
              "outlinewidth": 0,
              "ticks": ""
             }
            },
            "type": "scattergl"
           }
          ],
          "scattermapbox": [
           {
            "marker": {
             "colorbar": {
              "outlinewidth": 0,
              "ticks": ""
             }
            },
            "type": "scattermapbox"
           }
          ],
          "scatterpolar": [
           {
            "marker": {
             "colorbar": {
              "outlinewidth": 0,
              "ticks": ""
             }
            },
            "type": "scatterpolar"
           }
          ],
          "scatterpolargl": [
           {
            "marker": {
             "colorbar": {
              "outlinewidth": 0,
              "ticks": ""
             }
            },
            "type": "scatterpolargl"
           }
          ],
          "scatterternary": [
           {
            "marker": {
             "colorbar": {
              "outlinewidth": 0,
              "ticks": ""
             }
            },
            "type": "scatterternary"
           }
          ],
          "surface": [
           {
            "colorbar": {
             "outlinewidth": 0,
             "ticks": ""
            },
            "colorscale": [
             [
              0,
              "#0d0887"
             ],
             [
              0.1111111111111111,
              "#46039f"
             ],
             [
              0.2222222222222222,
              "#7201a8"
             ],
             [
              0.3333333333333333,
              "#9c179e"
             ],
             [
              0.4444444444444444,
              "#bd3786"
             ],
             [
              0.5555555555555556,
              "#d8576b"
             ],
             [
              0.6666666666666666,
              "#ed7953"
             ],
             [
              0.7777777777777778,
              "#fb9f3a"
             ],
             [
              0.8888888888888888,
              "#fdca26"
             ],
             [
              1,
              "#f0f921"
             ]
            ],
            "type": "surface"
           }
          ],
          "table": [
           {
            "cells": {
             "fill": {
              "color": "#EBF0F8"
             },
             "line": {
              "color": "white"
             }
            },
            "header": {
             "fill": {
              "color": "#C8D4E3"
             },
             "line": {
              "color": "white"
             }
            },
            "type": "table"
           }
          ]
         },
         "layout": {
          "annotationdefaults": {
           "arrowcolor": "#2a3f5f",
           "arrowhead": 0,
           "arrowwidth": 1
          },
          "autotypenumbers": "strict",
          "coloraxis": {
           "colorbar": {
            "outlinewidth": 0,
            "ticks": ""
           }
          },
          "colorscale": {
           "diverging": [
            [
             0,
             "#8e0152"
            ],
            [
             0.1,
             "#c51b7d"
            ],
            [
             0.2,
             "#de77ae"
            ],
            [
             0.3,
             "#f1b6da"
            ],
            [
             0.4,
             "#fde0ef"
            ],
            [
             0.5,
             "#f7f7f7"
            ],
            [
             0.6,
             "#e6f5d0"
            ],
            [
             0.7,
             "#b8e186"
            ],
            [
             0.8,
             "#7fbc41"
            ],
            [
             0.9,
             "#4d9221"
            ],
            [
             1,
             "#276419"
            ]
           ],
           "sequential": [
            [
             0,
             "#0d0887"
            ],
            [
             0.1111111111111111,
             "#46039f"
            ],
            [
             0.2222222222222222,
             "#7201a8"
            ],
            [
             0.3333333333333333,
             "#9c179e"
            ],
            [
             0.4444444444444444,
             "#bd3786"
            ],
            [
             0.5555555555555556,
             "#d8576b"
            ],
            [
             0.6666666666666666,
             "#ed7953"
            ],
            [
             0.7777777777777778,
             "#fb9f3a"
            ],
            [
             0.8888888888888888,
             "#fdca26"
            ],
            [
             1,
             "#f0f921"
            ]
           ],
           "sequentialminus": [
            [
             0,
             "#0d0887"
            ],
            [
             0.1111111111111111,
             "#46039f"
            ],
            [
             0.2222222222222222,
             "#7201a8"
            ],
            [
             0.3333333333333333,
             "#9c179e"
            ],
            [
             0.4444444444444444,
             "#bd3786"
            ],
            [
             0.5555555555555556,
             "#d8576b"
            ],
            [
             0.6666666666666666,
             "#ed7953"
            ],
            [
             0.7777777777777778,
             "#fb9f3a"
            ],
            [
             0.8888888888888888,
             "#fdca26"
            ],
            [
             1,
             "#f0f921"
            ]
           ]
          },
          "colorway": [
           "#636efa",
           "#EF553B",
           "#00cc96",
           "#ab63fa",
           "#FFA15A",
           "#19d3f3",
           "#FF6692",
           "#B6E880",
           "#FF97FF",
           "#FECB52"
          ],
          "font": {
           "color": "#2a3f5f"
          },
          "geo": {
           "bgcolor": "white",
           "lakecolor": "white",
           "landcolor": "#E5ECF6",
           "showlakes": true,
           "showland": true,
           "subunitcolor": "white"
          },
          "hoverlabel": {
           "align": "left"
          },
          "hovermode": "closest",
          "mapbox": {
           "style": "light"
          },
          "paper_bgcolor": "white",
          "plot_bgcolor": "#E5ECF6",
          "polar": {
           "angularaxis": {
            "gridcolor": "white",
            "linecolor": "white",
            "ticks": ""
           },
           "bgcolor": "#E5ECF6",
           "radialaxis": {
            "gridcolor": "white",
            "linecolor": "white",
            "ticks": ""
           }
          },
          "scene": {
           "xaxis": {
            "backgroundcolor": "#E5ECF6",
            "gridcolor": "white",
            "gridwidth": 2,
            "linecolor": "white",
            "showbackground": true,
            "ticks": "",
            "zerolinecolor": "white"
           },
           "yaxis": {
            "backgroundcolor": "#E5ECF6",
            "gridcolor": "white",
            "gridwidth": 2,
            "linecolor": "white",
            "showbackground": true,
            "ticks": "",
            "zerolinecolor": "white"
           },
           "zaxis": {
            "backgroundcolor": "#E5ECF6",
            "gridcolor": "white",
            "gridwidth": 2,
            "linecolor": "white",
            "showbackground": true,
            "ticks": "",
            "zerolinecolor": "white"
           }
          },
          "shapedefaults": {
           "line": {
            "color": "#2a3f5f"
           }
          },
          "ternary": {
           "aaxis": {
            "gridcolor": "white",
            "linecolor": "white",
            "ticks": ""
           },
           "baxis": {
            "gridcolor": "white",
            "linecolor": "white",
            "ticks": ""
           },
           "bgcolor": "#E5ECF6",
           "caxis": {
            "gridcolor": "white",
            "linecolor": "white",
            "ticks": ""
           }
          },
          "title": {
           "x": 0.05
          },
          "xaxis": {
           "automargin": true,
           "gridcolor": "white",
           "linecolor": "white",
           "ticks": "",
           "title": {
            "standoff": 15
           },
           "zerolinecolor": "white",
           "zerolinewidth": 2
          },
          "yaxis": {
           "automargin": true,
           "gridcolor": "white",
           "linecolor": "white",
           "ticks": "",
           "title": {
            "standoff": 15
           },
           "zerolinecolor": "white",
           "zerolinewidth": 2
          }
         }
        },
        "xaxis": {
         "anchor": "y",
         "domain": [
          0,
          1
         ],
         "title": {
          "text": "Valores"
         }
        },
        "yaxis": {
         "anchor": "x",
         "categoryarray": [
          "Demanda en b.c.",
          "Saldo I. internacionales",
          "Consumos en bombeo",
          "Generación no renovable",
          "Residuos no renovables",
          "Cogeneración",
          "Turbina de vapor",
          "Turbina de gas",
          "Motores diésel",
          "Carbón",
          "Ciclo combinado",
          "Nuclear",
          "Turbinación bombeo",
          "Generación renovable",
          "Residuos renovables",
          "Otras renovables",
          "Hidroeólica",
          "Solar térmica",
          "Solar fotovoltaica",
          "Eólica",
          "Hidráulica"
         ],
         "categoryorder": "array",
         "domain": [
          0,
          1
         ],
         "title": {
          "text": "nombre"
         }
        }
       }
      }
     },
     "metadata": {},
     "output_type": "display_data"
    }
   ],
   "source": [
    "px.box(data_frame=df_balance,\n",
    "       x = 'Valores',\n",
    "       y = 'nombre',\n",
    "       color = 'nombre',\n",
    "       color_discrete_sequence = colores_personalizados)"
   ]
  },
  {
   "cell_type": "code",
   "execution_count": 71,
   "metadata": {},
   "outputs": [
    {
     "name": "stderr",
     "output_type": "stream",
     "text": [
      "/opt/anaconda3/lib/python3.11/site-packages/plotly/express/_core.py:1979: FutureWarning:\n",
      "\n",
      "When grouping with a length-1 list-like, you will need to pass a length-1 tuple to get_group in a future version of pandas. Pass `(name,)` instead of `name` to silence this warning.\n",
      "\n"
     ]
    },
    {
     "data": {
      "application/vnd.plotly.v1+json": {
       "config": {
        "plotlyServerURL": "https://plot.ly"
       },
       "data": [
        {
         "alignmentgroup": "True",
         "hovertemplate": "tipo de energía=%{y}<br>Valores=%{x}<extra></extra>",
         "legendgroup": "Renovable",
         "marker": {
          "color": "#636EFA"
         },
         "name": "Renovable",
         "notched": false,
         "offsetgroup": "Renovable",
         "orientation": "h",
         "showlegend": true,
         "type": "box",
         "x": [
          83008.9,
          54807.3,
          63360.6,
          57723.1,
          60409.1,
          97712.5,
          151013.035,
          216702.928,
          294934.188,
          325019.499,
          332221.541,
          175785.688,
          120892.099,
          104505.558,
          79728.685,
          88050.07,
          61269.618,
          126947.59,
          12727.6,
          8865.7,
          1804.5,
          3398.666,
          2117.315,
          6044.663,
          50.153,
          1.722,
          5.562,
          13.737,
          55.307,
          29.037,
          10221.698,
          9639.618,
          10001.668,
          8601.95,
          7808.284,
          9794.984,
          1972.75,
          1879.6,
          1856.8,
          1958.8,
          2361.75,
          2447.5,
          379886.2349999999,
          396402.42600000004,
          451692.00299999997,
          484765.82200000004,
          466242.915,
          418761.96199999994
         ],
         "x0": " ",
         "xaxis": "x",
         "y": [
          "Renovable",
          "Renovable",
          "Renovable",
          "Renovable",
          "Renovable",
          "Renovable",
          "Renovable",
          "Renovable",
          "Renovable",
          "Renovable",
          "Renovable",
          "Renovable",
          "Renovable",
          "Renovable",
          "Renovable",
          "Renovable",
          "Renovable",
          "Renovable",
          "Renovable",
          "Renovable",
          "Renovable",
          "Renovable",
          "Renovable",
          "Renovable",
          "Renovable",
          "Renovable",
          "Renovable",
          "Renovable",
          "Renovable",
          "Renovable",
          "Renovable",
          "Renovable",
          "Renovable",
          "Renovable",
          "Renovable",
          "Renovable",
          "Renovable",
          "Renovable",
          "Renovable",
          "Renovable",
          "Renovable",
          "Renovable",
          "Renovable",
          "Renovable",
          "Renovable",
          "Renovable",
          "Renovable",
          "Renovable"
         ],
         "y0": " ",
         "yaxis": "y"
        },
        {
         "alignmentgroup": "True",
         "hovertemplate": "tipo de energía=%{y}<br>Valores=%{x}<extra></extra>",
         "legendgroup": "No-Renovable",
         "marker": {
          "color": "#EF553B"
         },
         "name": "No-Renovable",
         "notched": false,
         "offsetgroup": "No-Renovable",
         "orientation": "h",
         "showlegend": true,
         "type": "box",
         "x": [
          9067.2,
          3070.9,
          9643.3,
          8103.1,
          6513.1,
          10105.2,
          166527.4,
          162276.1,
          143378.2,
          143691,
          143776.6,
          144129.8,
          54493.427,
          54462.916,
          59973.139,
          64127.222,
          60038.599,
          84912.031,
          5769.5,
          5884,
          8009.9,
          8764,
          10614,
          10824,
          7216.581,
          7418.098,
          8239.317,
          8684.946,
          8316.933,
          8548.403,
          1055.006,
          1236.689,
          2396.469,
          2678.692,
          2394.502,
          2215.669,
          2329.67,
          2559.136,
          2921.456,
          3136.741,
          2660.339,
          2524.565,
          38276.2,
          24985.74,
          31621.76,
          25166.3,
          24357.3,
          40964.14,
          4152.55,
          3672.7,
          3684.9,
          3720.6,
          4084.55,
          4337.2,
          288887.534,
          265566.279,
          269868.44100000005,
          268072.601,
          262755.923,
          308561.00800000003
         ],
         "x0": " ",
         "xaxis": "x",
         "y": [
          "No-Renovable",
          "No-Renovable",
          "No-Renovable",
          "No-Renovable",
          "No-Renovable",
          "No-Renovable",
          "No-Renovable",
          "No-Renovable",
          "No-Renovable",
          "No-Renovable",
          "No-Renovable",
          "No-Renovable",
          "No-Renovable",
          "No-Renovable",
          "No-Renovable",
          "No-Renovable",
          "No-Renovable",
          "No-Renovable",
          "No-Renovable",
          "No-Renovable",
          "No-Renovable",
          "No-Renovable",
          "No-Renovable",
          "No-Renovable",
          "No-Renovable",
          "No-Renovable",
          "No-Renovable",
          "No-Renovable",
          "No-Renovable",
          "No-Renovable",
          "No-Renovable",
          "No-Renovable",
          "No-Renovable",
          "No-Renovable",
          "No-Renovable",
          "No-Renovable",
          "No-Renovable",
          "No-Renovable",
          "No-Renovable",
          "No-Renovable",
          "No-Renovable",
          "No-Renovable",
          "No-Renovable",
          "No-Renovable",
          "No-Renovable",
          "No-Renovable",
          "No-Renovable",
          "No-Renovable",
          "No-Renovable",
          "No-Renovable",
          "No-Renovable",
          "No-Renovable",
          "No-Renovable",
          "No-Renovable",
          "No-Renovable",
          "No-Renovable",
          "No-Renovable",
          "No-Renovable",
          "No-Renovable",
          "No-Renovable"
         ],
         "y0": " ",
         "yaxis": "y"
        },
        {
         "alignmentgroup": "True",
         "hovertemplate": "tipo de energía=%{y}<br>Valores=%{x}<extra></extra>",
         "legendgroup": "Demanda en b.c.",
         "marker": {
          "color": "#00CC96"
         },
         "name": "Demanda en b.c.",
         "notched": false,
         "offsetgroup": "Demanda en b.c.",
         "orientation": "h",
         "showlegend": true,
         "type": "box",
         "x": [
          -14987.2,
          -33277.3,
          -16645.8,
          -27589.6,
          -26247.4,
          -14341.2,
          -55758.8,
          -63158.2,
          -39350,
          -42371.6,
          -23779.7,
          -23434.4,
          598027.769,
          565533.205,
          665564.644,
          682877.223,
          678971.738,
          689547.37
         ],
         "x0": " ",
         "xaxis": "x",
         "y": [
          "Demanda en b.c.",
          "Demanda en b.c.",
          "Demanda en b.c.",
          "Demanda en b.c.",
          "Demanda en b.c.",
          "Demanda en b.c.",
          "Demanda en b.c.",
          "Demanda en b.c.",
          "Demanda en b.c.",
          "Demanda en b.c.",
          "Demanda en b.c.",
          "Demanda en b.c.",
          "Demanda en b.c.",
          "Demanda en b.c.",
          "Demanda en b.c.",
          "Demanda en b.c.",
          "Demanda en b.c.",
          "Demanda en b.c."
         ],
         "y0": " ",
         "yaxis": "y"
        }
       ],
       "layout": {
        "boxmode": "overlay",
        "legend": {
         "title": {
          "text": "tipo de energía"
         },
         "tracegroupgap": 0
        },
        "margin": {
         "t": 60
        },
        "template": {
         "data": {
          "bar": [
           {
            "error_x": {
             "color": "#2a3f5f"
            },
            "error_y": {
             "color": "#2a3f5f"
            },
            "marker": {
             "line": {
              "color": "#E5ECF6",
              "width": 0.5
             },
             "pattern": {
              "fillmode": "overlay",
              "size": 10,
              "solidity": 0.2
             }
            },
            "type": "bar"
           }
          ],
          "barpolar": [
           {
            "marker": {
             "line": {
              "color": "#E5ECF6",
              "width": 0.5
             },
             "pattern": {
              "fillmode": "overlay",
              "size": 10,
              "solidity": 0.2
             }
            },
            "type": "barpolar"
           }
          ],
          "carpet": [
           {
            "aaxis": {
             "endlinecolor": "#2a3f5f",
             "gridcolor": "white",
             "linecolor": "white",
             "minorgridcolor": "white",
             "startlinecolor": "#2a3f5f"
            },
            "baxis": {
             "endlinecolor": "#2a3f5f",
             "gridcolor": "white",
             "linecolor": "white",
             "minorgridcolor": "white",
             "startlinecolor": "#2a3f5f"
            },
            "type": "carpet"
           }
          ],
          "choropleth": [
           {
            "colorbar": {
             "outlinewidth": 0,
             "ticks": ""
            },
            "type": "choropleth"
           }
          ],
          "contour": [
           {
            "colorbar": {
             "outlinewidth": 0,
             "ticks": ""
            },
            "colorscale": [
             [
              0,
              "#0d0887"
             ],
             [
              0.1111111111111111,
              "#46039f"
             ],
             [
              0.2222222222222222,
              "#7201a8"
             ],
             [
              0.3333333333333333,
              "#9c179e"
             ],
             [
              0.4444444444444444,
              "#bd3786"
             ],
             [
              0.5555555555555556,
              "#d8576b"
             ],
             [
              0.6666666666666666,
              "#ed7953"
             ],
             [
              0.7777777777777778,
              "#fb9f3a"
             ],
             [
              0.8888888888888888,
              "#fdca26"
             ],
             [
              1,
              "#f0f921"
             ]
            ],
            "type": "contour"
           }
          ],
          "contourcarpet": [
           {
            "colorbar": {
             "outlinewidth": 0,
             "ticks": ""
            },
            "type": "contourcarpet"
           }
          ],
          "heatmap": [
           {
            "colorbar": {
             "outlinewidth": 0,
             "ticks": ""
            },
            "colorscale": [
             [
              0,
              "#0d0887"
             ],
             [
              0.1111111111111111,
              "#46039f"
             ],
             [
              0.2222222222222222,
              "#7201a8"
             ],
             [
              0.3333333333333333,
              "#9c179e"
             ],
             [
              0.4444444444444444,
              "#bd3786"
             ],
             [
              0.5555555555555556,
              "#d8576b"
             ],
             [
              0.6666666666666666,
              "#ed7953"
             ],
             [
              0.7777777777777778,
              "#fb9f3a"
             ],
             [
              0.8888888888888888,
              "#fdca26"
             ],
             [
              1,
              "#f0f921"
             ]
            ],
            "type": "heatmap"
           }
          ],
          "heatmapgl": [
           {
            "colorbar": {
             "outlinewidth": 0,
             "ticks": ""
            },
            "colorscale": [
             [
              0,
              "#0d0887"
             ],
             [
              0.1111111111111111,
              "#46039f"
             ],
             [
              0.2222222222222222,
              "#7201a8"
             ],
             [
              0.3333333333333333,
              "#9c179e"
             ],
             [
              0.4444444444444444,
              "#bd3786"
             ],
             [
              0.5555555555555556,
              "#d8576b"
             ],
             [
              0.6666666666666666,
              "#ed7953"
             ],
             [
              0.7777777777777778,
              "#fb9f3a"
             ],
             [
              0.8888888888888888,
              "#fdca26"
             ],
             [
              1,
              "#f0f921"
             ]
            ],
            "type": "heatmapgl"
           }
          ],
          "histogram": [
           {
            "marker": {
             "pattern": {
              "fillmode": "overlay",
              "size": 10,
              "solidity": 0.2
             }
            },
            "type": "histogram"
           }
          ],
          "histogram2d": [
           {
            "colorbar": {
             "outlinewidth": 0,
             "ticks": ""
            },
            "colorscale": [
             [
              0,
              "#0d0887"
             ],
             [
              0.1111111111111111,
              "#46039f"
             ],
             [
              0.2222222222222222,
              "#7201a8"
             ],
             [
              0.3333333333333333,
              "#9c179e"
             ],
             [
              0.4444444444444444,
              "#bd3786"
             ],
             [
              0.5555555555555556,
              "#d8576b"
             ],
             [
              0.6666666666666666,
              "#ed7953"
             ],
             [
              0.7777777777777778,
              "#fb9f3a"
             ],
             [
              0.8888888888888888,
              "#fdca26"
             ],
             [
              1,
              "#f0f921"
             ]
            ],
            "type": "histogram2d"
           }
          ],
          "histogram2dcontour": [
           {
            "colorbar": {
             "outlinewidth": 0,
             "ticks": ""
            },
            "colorscale": [
             [
              0,
              "#0d0887"
             ],
             [
              0.1111111111111111,
              "#46039f"
             ],
             [
              0.2222222222222222,
              "#7201a8"
             ],
             [
              0.3333333333333333,
              "#9c179e"
             ],
             [
              0.4444444444444444,
              "#bd3786"
             ],
             [
              0.5555555555555556,
              "#d8576b"
             ],
             [
              0.6666666666666666,
              "#ed7953"
             ],
             [
              0.7777777777777778,
              "#fb9f3a"
             ],
             [
              0.8888888888888888,
              "#fdca26"
             ],
             [
              1,
              "#f0f921"
             ]
            ],
            "type": "histogram2dcontour"
           }
          ],
          "mesh3d": [
           {
            "colorbar": {
             "outlinewidth": 0,
             "ticks": ""
            },
            "type": "mesh3d"
           }
          ],
          "parcoords": [
           {
            "line": {
             "colorbar": {
              "outlinewidth": 0,
              "ticks": ""
             }
            },
            "type": "parcoords"
           }
          ],
          "pie": [
           {
            "automargin": true,
            "type": "pie"
           }
          ],
          "scatter": [
           {
            "fillpattern": {
             "fillmode": "overlay",
             "size": 10,
             "solidity": 0.2
            },
            "type": "scatter"
           }
          ],
          "scatter3d": [
           {
            "line": {
             "colorbar": {
              "outlinewidth": 0,
              "ticks": ""
             }
            },
            "marker": {
             "colorbar": {
              "outlinewidth": 0,
              "ticks": ""
             }
            },
            "type": "scatter3d"
           }
          ],
          "scattercarpet": [
           {
            "marker": {
             "colorbar": {
              "outlinewidth": 0,
              "ticks": ""
             }
            },
            "type": "scattercarpet"
           }
          ],
          "scattergeo": [
           {
            "marker": {
             "colorbar": {
              "outlinewidth": 0,
              "ticks": ""
             }
            },
            "type": "scattergeo"
           }
          ],
          "scattergl": [
           {
            "marker": {
             "colorbar": {
              "outlinewidth": 0,
              "ticks": ""
             }
            },
            "type": "scattergl"
           }
          ],
          "scattermapbox": [
           {
            "marker": {
             "colorbar": {
              "outlinewidth": 0,
              "ticks": ""
             }
            },
            "type": "scattermapbox"
           }
          ],
          "scatterpolar": [
           {
            "marker": {
             "colorbar": {
              "outlinewidth": 0,
              "ticks": ""
             }
            },
            "type": "scatterpolar"
           }
          ],
          "scatterpolargl": [
           {
            "marker": {
             "colorbar": {
              "outlinewidth": 0,
              "ticks": ""
             }
            },
            "type": "scatterpolargl"
           }
          ],
          "scatterternary": [
           {
            "marker": {
             "colorbar": {
              "outlinewidth": 0,
              "ticks": ""
             }
            },
            "type": "scatterternary"
           }
          ],
          "surface": [
           {
            "colorbar": {
             "outlinewidth": 0,
             "ticks": ""
            },
            "colorscale": [
             [
              0,
              "#0d0887"
             ],
             [
              0.1111111111111111,
              "#46039f"
             ],
             [
              0.2222222222222222,
              "#7201a8"
             ],
             [
              0.3333333333333333,
              "#9c179e"
             ],
             [
              0.4444444444444444,
              "#bd3786"
             ],
             [
              0.5555555555555556,
              "#d8576b"
             ],
             [
              0.6666666666666666,
              "#ed7953"
             ],
             [
              0.7777777777777778,
              "#fb9f3a"
             ],
             [
              0.8888888888888888,
              "#fdca26"
             ],
             [
              1,
              "#f0f921"
             ]
            ],
            "type": "surface"
           }
          ],
          "table": [
           {
            "cells": {
             "fill": {
              "color": "#EBF0F8"
             },
             "line": {
              "color": "white"
             }
            },
            "header": {
             "fill": {
              "color": "#C8D4E3"
             },
             "line": {
              "color": "white"
             }
            },
            "type": "table"
           }
          ]
         },
         "layout": {
          "annotationdefaults": {
           "arrowcolor": "#2a3f5f",
           "arrowhead": 0,
           "arrowwidth": 1
          },
          "autotypenumbers": "strict",
          "coloraxis": {
           "colorbar": {
            "outlinewidth": 0,
            "ticks": ""
           }
          },
          "colorscale": {
           "diverging": [
            [
             0,
             "#8e0152"
            ],
            [
             0.1,
             "#c51b7d"
            ],
            [
             0.2,
             "#de77ae"
            ],
            [
             0.3,
             "#f1b6da"
            ],
            [
             0.4,
             "#fde0ef"
            ],
            [
             0.5,
             "#f7f7f7"
            ],
            [
             0.6,
             "#e6f5d0"
            ],
            [
             0.7,
             "#b8e186"
            ],
            [
             0.8,
             "#7fbc41"
            ],
            [
             0.9,
             "#4d9221"
            ],
            [
             1,
             "#276419"
            ]
           ],
           "sequential": [
            [
             0,
             "#0d0887"
            ],
            [
             0.1111111111111111,
             "#46039f"
            ],
            [
             0.2222222222222222,
             "#7201a8"
            ],
            [
             0.3333333333333333,
             "#9c179e"
            ],
            [
             0.4444444444444444,
             "#bd3786"
            ],
            [
             0.5555555555555556,
             "#d8576b"
            ],
            [
             0.6666666666666666,
             "#ed7953"
            ],
            [
             0.7777777777777778,
             "#fb9f3a"
            ],
            [
             0.8888888888888888,
             "#fdca26"
            ],
            [
             1,
             "#f0f921"
            ]
           ],
           "sequentialminus": [
            [
             0,
             "#0d0887"
            ],
            [
             0.1111111111111111,
             "#46039f"
            ],
            [
             0.2222222222222222,
             "#7201a8"
            ],
            [
             0.3333333333333333,
             "#9c179e"
            ],
            [
             0.4444444444444444,
             "#bd3786"
            ],
            [
             0.5555555555555556,
             "#d8576b"
            ],
            [
             0.6666666666666666,
             "#ed7953"
            ],
            [
             0.7777777777777778,
             "#fb9f3a"
            ],
            [
             0.8888888888888888,
             "#fdca26"
            ],
            [
             1,
             "#f0f921"
            ]
           ]
          },
          "colorway": [
           "#636efa",
           "#EF553B",
           "#00cc96",
           "#ab63fa",
           "#FFA15A",
           "#19d3f3",
           "#FF6692",
           "#B6E880",
           "#FF97FF",
           "#FECB52"
          ],
          "font": {
           "color": "#2a3f5f"
          },
          "geo": {
           "bgcolor": "white",
           "lakecolor": "white",
           "landcolor": "#E5ECF6",
           "showlakes": true,
           "showland": true,
           "subunitcolor": "white"
          },
          "hoverlabel": {
           "align": "left"
          },
          "hovermode": "closest",
          "mapbox": {
           "style": "light"
          },
          "paper_bgcolor": "white",
          "plot_bgcolor": "#E5ECF6",
          "polar": {
           "angularaxis": {
            "gridcolor": "white",
            "linecolor": "white",
            "ticks": ""
           },
           "bgcolor": "#E5ECF6",
           "radialaxis": {
            "gridcolor": "white",
            "linecolor": "white",
            "ticks": ""
           }
          },
          "scene": {
           "xaxis": {
            "backgroundcolor": "#E5ECF6",
            "gridcolor": "white",
            "gridwidth": 2,
            "linecolor": "white",
            "showbackground": true,
            "ticks": "",
            "zerolinecolor": "white"
           },
           "yaxis": {
            "backgroundcolor": "#E5ECF6",
            "gridcolor": "white",
            "gridwidth": 2,
            "linecolor": "white",
            "showbackground": true,
            "ticks": "",
            "zerolinecolor": "white"
           },
           "zaxis": {
            "backgroundcolor": "#E5ECF6",
            "gridcolor": "white",
            "gridwidth": 2,
            "linecolor": "white",
            "showbackground": true,
            "ticks": "",
            "zerolinecolor": "white"
           }
          },
          "shapedefaults": {
           "line": {
            "color": "#2a3f5f"
           }
          },
          "ternary": {
           "aaxis": {
            "gridcolor": "white",
            "linecolor": "white",
            "ticks": ""
           },
           "baxis": {
            "gridcolor": "white",
            "linecolor": "white",
            "ticks": ""
           },
           "bgcolor": "#E5ECF6",
           "caxis": {
            "gridcolor": "white",
            "linecolor": "white",
            "ticks": ""
           }
          },
          "title": {
           "x": 0.05
          },
          "xaxis": {
           "automargin": true,
           "gridcolor": "white",
           "linecolor": "white",
           "ticks": "",
           "title": {
            "standoff": 15
           },
           "zerolinecolor": "white",
           "zerolinewidth": 2
          },
          "yaxis": {
           "automargin": true,
           "gridcolor": "white",
           "linecolor": "white",
           "ticks": "",
           "title": {
            "standoff": 15
           },
           "zerolinecolor": "white",
           "zerolinewidth": 2
          }
         }
        },
        "xaxis": {
         "anchor": "y",
         "domain": [
          0,
          1
         ],
         "title": {
          "text": "Valores"
         }
        },
        "yaxis": {
         "anchor": "x",
         "categoryarray": [
          "Demanda en b.c.",
          "No-Renovable",
          "Renovable"
         ],
         "categoryorder": "array",
         "domain": [
          0,
          1
         ],
         "title": {
          "text": "tipo de energía"
         }
        }
       }
      }
     },
     "metadata": {},
     "output_type": "display_data"
    }
   ],
   "source": [
    "px.box(data_frame=df_balance,\n",
    "       x = 'Valores',\n",
    "       y = 'tipo de energía',\n",
    "       color = 'tipo de energía',\n",
    "       color_discrete_sequence = colores_personalizados)"
   ]
  }
 ],
 "metadata": {
  "kernelspec": {
   "display_name": "base",
   "language": "python",
   "name": "python3"
  },
  "language_info": {
   "codemirror_mode": {
    "name": "ipython",
    "version": 3
   },
   "file_extension": ".py",
   "mimetype": "text/x-python",
   "name": "python",
   "nbconvert_exporter": "python",
   "pygments_lexer": "ipython3",
   "version": "3.11.7"
  }
 },
 "nbformat": 4,
 "nbformat_minor": 2
}
