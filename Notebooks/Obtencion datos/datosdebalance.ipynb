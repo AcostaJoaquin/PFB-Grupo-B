{
 "cells": [
  {
   "cell_type": "code",
   "execution_count": 99,
   "metadata": {},
   "outputs": [],
   "source": [
    "import pandas as pd\n",
    "import numpy as np\n",
    "\n",
    "import requests\n",
    "\n",
    "from datetime import datetime, timedelta\n",
    "from pprint import pprint\n",
    "\n",
    "import plotly.express as px"
   ]
  },
  {
   "cell_type": "markdown",
   "metadata": {},
   "source": [
    "### EJEMPLO\n"
   ]
  },
  {
   "cell_type": "code",
   "execution_count": 100,
   "metadata": {},
   "outputs": [],
   "source": [
    "lang    =  \"es\"\n",
    "category = \"balance\"\n",
    "widget   = \"balance-electrico\"\n",
    "query   = \"start_date=2018-01-01T00:00&end_date=2018-12-31T23:59&time_trunc=year\"\n"
   ]
  },
  {
   "cell_type": "code",
   "execution_count": 101,
   "metadata": {},
   "outputs": [],
   "source": [
    "headers = {\n",
    "    'Accept': 'application/json',\n",
    "    'Content-Type': 'application/json',\n",
    "    'Host' : 'apidatos.ree.es'\n",
    "}"
   ]
  },
  {
   "cell_type": "code",
   "execution_count": 102,
   "metadata": {},
   "outputs": [
    {
     "name": "stdout",
     "output_type": "stream",
     "text": [
      "{'data': {'attributes': {'description': 'Balance eléctrico: asignación de '\n",
      "                                        'unidades de producción según '\n",
      "                                        'combustible principal. La producción '\n",
      "                                        'neta de las instalaciones no '\n",
      "                                        'renovables e hidráulicas UGH tiene '\n",
      "                                        'descontados los consumos propios de '\n",
      "                                        'las instalaciones. En dichos tipos de '\n",
      "                                        'producción una generación negativa '\n",
      "                                        'indica que la electricidad horaria '\n",
      "                                        'consumida para los usos de las '\n",
      "                                        'plantas excede la producción horaria '\n",
      "                                        'de las instalaciones.',\n",
      "                         'last-update': '2019-06-12T17:40:40.000+02:00',\n",
      "                         'title': 'Balance de energía eléctrica'},\n",
      "          'id': 'bal1',\n",
      "          'meta': {'cache-control': {'cache': 'HIT',\n",
      "                                     'expireAt': '2024-11-08T10:24:21'}},\n",
      "          'type': 'Balance de energía eléctrica'},\n",
      " 'included': [{'attributes': {'content': [{'attributes': {'color': '#0090d1',\n",
      "                                                          'composite': False,\n",
      "                                                          'description': '10288',\n",
      "                                                          'last-update': '2019-06-12T17:40:36.000+02:00',\n",
      "                                                          'magnitude': None,\n",
      "                                                          'title': 'Hidráulica',\n",
      "                                                          'total': 34117241.3490001,\n",
      "                                                          'type': 'distinct',\n",
      "                                                          'values': [{'datetime': '2018-01-01T00:00:00.000+01:00',\n",
      "                                                                      'percentage': 0.3400014308379199,\n",
      "                                                                      'value': 34117241.3490001}]},\n",
      "                                           'groupId': 'Renovable',\n",
      "                                           'id': '10288',\n",
      "                                           'type': 'Hidráulica'},\n",
      "                                          {'attributes': {'color': '#6fb114',\n",
      "                                                          'composite': False,\n",
      "                                                          'description': '10291',\n",
      "                                                          'last-update': '2019-04-16T08:16:55.000+02:00',\n",
      "                                                          'magnitude': None,\n",
      "                                                          'title': 'Eólica',\n",
      "                                                          'total': 49581488.8660001,\n",
      "                                                          'type': 'distinct',\n",
      "                                                          'values': [{'datetime': '2018-01-01T00:00:00.000+01:00',\n",
      "                                                                      'percentage': 0.49411313725716854,\n",
      "                                                                      'value': 49581488.8660001}]},\n",
      "                                           'groupId': 'Renovable',\n",
      "                                           'id': '10291',\n",
      "                                           'type': 'Eólica'},\n",
      "                                          {'attributes': {'color': '#e48500',\n",
      "                                                          'composite': False,\n",
      "                                                          'description': '1458',\n",
      "                                                          'last-update': '2019-11-11T09:25:06.000+01:00',\n",
      "                                                          'magnitude': None,\n",
      "                                                          'title': 'Solar '\n",
      "                                                                   'fotovoltaica',\n",
      "                                                          'total': 7766178.425,\n",
      "                                                          'type': 'distinct',\n",
      "                                                          'values': [{'datetime': '2018-01-01T00:00:00.000+01:00',\n",
      "                                                                      'percentage': 0.07739523103968578,\n",
      "                                                                      'value': 7766178.425}]},\n",
      "                                           'groupId': 'Renovable',\n",
      "                                           'id': '1458',\n",
      "                                           'type': 'Solar fotovoltaica'},\n",
      "                                          {'attributes': {'color': '#ff0000',\n",
      "                                                          'composite': False,\n",
      "                                                          'description': '1459',\n",
      "                                                          'last-update': '2019-04-16T08:16:57.000+02:00',\n",
      "                                                          'magnitude': None,\n",
      "                                                          'title': 'Solar '\n",
      "                                                                   'térmica',\n",
      "                                                          'total': 4424326.674,\n",
      "                                                          'type': 'distinct',\n",
      "                                                          'values': [{'datetime': '2018-01-01T00:00:00.000+01:00',\n",
      "                                                                      'percentage': 0.04409141361303124,\n",
      "                                                                      'value': 4424326.674}]},\n",
      "                                           'groupId': 'Renovable',\n",
      "                                           'id': '1459',\n",
      "                                           'type': 'Solar térmica'},\n",
      "                                          {'attributes': {'color': '#00FFFF',\n",
      "                                                          'composite': False,\n",
      "                                                          'description': '1455',\n",
      "                                                          'last-update': '2019-04-16T08:16:55.000+02:00',\n",
      "                                                          'magnitude': None,\n",
      "                                                          'title': 'Hidroeólica',\n",
      "                                                          'total': 23655.544,\n",
      "                                                          'type': 'distinct',\n",
      "                                                          'values': [{'datetime': '2018-01-01T00:00:00.000+01:00',\n",
      "                                                                      'percentage': 0.0002357435270036888,\n",
      "                                                                      'value': 23655.544}]},\n",
      "                                           'groupId': 'Renovable',\n",
      "                                           'id': '1455',\n",
      "                                           'type': 'Hidroeólica'},\n",
      "                                          {'attributes': {'color': '#9a5cbc',\n",
      "                                                          'composite': False,\n",
      "                                                          'description': '10292',\n",
      "                                                          'last-update': '2019-04-16T08:16:57.000+02:00',\n",
      "                                                          'magnitude': None,\n",
      "                                                          'title': 'Otras '\n",
      "                                                                   'renovables',\n",
      "                                                          'total': 3557439.11,\n",
      "                                                          'type': 'distinct',\n",
      "                                                          'values': [{'datetime': '2018-01-01T00:00:00.000+01:00',\n",
      "                                                                      'percentage': 0.03545229155974022,\n",
      "                                                                      'value': 3557439.11}]},\n",
      "                                           'groupId': 'Renovable',\n",
      "                                           'id': '10292',\n",
      "                                           'type': 'Otras renovables'},\n",
      "                                          {'attributes': {'color': '#a0a0a0',\n",
      "                                                          'composite': False,\n",
      "                                                          'description': '10295',\n",
      "                                                          'last-update': '2019-04-16T08:16:58.000+02:00',\n",
      "                                                          'magnitude': None,\n",
      "                                                          'title': 'Residuos '\n",
      "                                                                   'renovables',\n",
      "                                                          'total': 874075.245,\n",
      "                                                          'type': 'distinct',\n",
      "                                                          'values': [{'datetime': '2018-01-01T00:00:00.000+01:00',\n",
      "                                                                      'percentage': 0.00871075216545066,\n",
      "                                                                      'value': 874075.245}]},\n",
      "                                           'groupId': 'Renovable',\n",
      "                                           'id': '10295',\n",
      "                                           'type': 'Residuos renovables'},\n",
      "                                          {'attributes': {'color': '#666666',\n",
      "                                                          'composite': True,\n",
      "                                                          'description': None,\n",
      "                                                          'last-update': '2019-06-12T17:40:36.000+02:00',\n",
      "                                                          'magnitude': None,\n",
      "                                                          'title': 'Generación '\n",
      "                                                                   'renovable',\n",
      "                                                          'total': 100344405.2130002,\n",
      "                                                          'type': 'Generación '\n",
      "                                                                  'renovable',\n",
      "                                                          'values': [{'datetime': '2018-01-01T00:00:00.000+01:00',\n",
      "                                                                      'percentage': 1,\n",
      "                                                                      'value': 100344405.2130002}]},\n",
      "                                           'groupId': 'Renovable',\n",
      "                                           'id': 'Renovable',\n",
      "                                           'type': 'Generación renovable'}],\n",
      "                              'description': None,\n",
      "                              'last-update': '2019-06-12T17:40:36.000+02:00',\n",
      "                              'magnitude': None,\n",
      "                              'title': 'Renovable'},\n",
      "               'id': 'Renovable',\n",
      "               'type': 'Renovable'},\n",
      "              {'attributes': {'content': [{'attributes': {'color': '#007cf9',\n",
      "                                                          'composite': False,\n",
      "                                                          'description': '1445',\n",
      "                                                          'last-update': '2019-11-11T09:24:45.000+01:00',\n",
      "                                                          'magnitude': None,\n",
      "                                                          'title': 'Turbinación '\n",
      "                                                                   'bombeo',\n",
      "                                                          'total': 1993996.01,\n",
      "                                                          'type': 'distinct',\n",
      "                                                          'values': [{'datetime': '2018-01-01T00:00:00.000+01:00',\n",
      "                                                                      'percentage': 0.012413017193286132,\n",
      "                                                                      'value': 1993996.01}]},\n",
      "                                           'groupId': 'No-Renovable',\n",
      "                                           'id': '1445',\n",
      "                                           'type': 'Turbinación bombeo'},\n",
      "                                          {'attributes': {'color': '#464394',\n",
      "                                                          'composite': False,\n",
      "                                                          'description': '1446',\n",
      "                                                          'last-update': '2019-04-16T08:16:55.000+02:00',\n",
      "                                                          'magnitude': None,\n",
      "                                                          'title': 'Nuclear',\n",
      "                                                          'total': 53197617.43,\n",
      "                                                          'type': 'distinct',\n",
      "                                                          'values': [{'datetime': '2018-01-01T00:00:00.000+01:00',\n",
      "                                                                      'percentage': 0.33116562745802486,\n",
      "                                                                      'value': 53197617.43}]},\n",
      "                                           'groupId': 'No-Renovable',\n",
      "                                           'id': '1446',\n",
      "                                           'type': 'Nuclear'},\n",
      "                                          {'attributes': {'color': '#ffcc66',\n",
      "                                                          'composite': False,\n",
      "                                                          'description': '1454',\n",
      "                                                          'last-update': '2019-11-11T09:24:47.000+01:00',\n",
      "                                                          'magnitude': None,\n",
      "                                                          'title': 'Ciclo '\n",
      "                                                                   'combinado',\n",
      "                                                          'total': 30044467.195,\n",
      "                                                          'type': 'distinct',\n",
      "                                                          'values': [{'datetime': '2018-01-01T00:00:00.000+01:00',\n",
      "                                                                      'percentage': 0.18703271520320452,\n",
      "                                                                      'value': 30044467.195}]},\n",
      "                                           'groupId': 'No-Renovable',\n",
      "                                           'id': '1454',\n",
      "                                           'type': 'Ciclo combinado'},\n",
      "                                          {'attributes': {'color': '#993300',\n",
      "                                                          'composite': False,\n",
      "                                                          'description': '10289',\n",
      "                                                          'last-update': '2019-04-16T08:16:54.000+02:00',\n",
      "                                                          'magnitude': None,\n",
      "                                                          'title': 'Carbón',\n",
      "                                                          'total': 37276805.7160003,\n",
      "                                                          'type': 'distinct',\n",
      "                                                          'values': [{'datetime': '2018-01-01T00:00:00.000+01:00',\n",
      "                                                                      'percentage': 0.23205544441560771,\n",
      "                                                                      'value': 37276805.7160003}]},\n",
      "                                           'groupId': 'No-Renovable',\n",
      "                                           'id': '10289',\n",
      "                                           'type': 'Carbón'},\n",
      "                                          {'attributes': {'color': '#8DA69F',\n",
      "                                                          'composite': False,\n",
      "                                                          'description': '10344',\n",
      "                                                          'last-update': '2019-04-16T08:16:54.000+02:00',\n",
      "                                                          'magnitude': None,\n",
      "                                                          'title': 'Motores '\n",
      "                                                                   'diésel',\n",
      "                                                          'total': 3178179.141,\n",
      "                                                          'type': 'distinct',\n",
      "                                                          'values': [{'datetime': '2018-01-01T00:00:00.000+01:00',\n",
      "                                                                      'percentage': 0.01978479000094707,\n",
      "                                                                      'value': 3178179.141}]},\n",
      "                                           'groupId': 'No-Renovable',\n",
      "                                           'id': '10344',\n",
      "                                           'type': 'Motores diésel'},\n",
      "                                          {'attributes': {'color': '#00ccff',\n",
      "                                                          'composite': False,\n",
      "                                                          'description': '1450',\n",
      "                                                          'last-update': '2019-11-11T09:24:46.000+01:00',\n",
      "                                                          'magnitude': None,\n",
      "                                                          'title': 'Turbina de '\n",
      "                                                                   'gas',\n",
      "                                                          'total': 1049279.011,\n",
      "                                                          'type': 'distinct',\n",
      "                                                          'values': [{'datetime': '2018-01-01T00:00:00.000+01:00',\n",
      "                                                                      'percentage': 0.006531968137738283,\n",
      "                                                                      'value': 1049279.011}]},\n",
      "                                           'groupId': 'No-Renovable',\n",
      "                                           'id': '1450',\n",
      "                                           'type': 'Turbina de gas'},\n",
      "                                          {'attributes': {'color': '#AF8E00',\n",
      "                                                          'composite': False,\n",
      "                                                          'description': '1451',\n",
      "                                                          'last-update': '2019-07-08T10:37:27.000+02:00',\n",
      "                                                          'magnitude': None,\n",
      "                                                          'title': 'Turbina de '\n",
      "                                                                   'vapor',\n",
      "                                                          'total': 2455432.297,\n",
      "                                                          'type': 'distinct',\n",
      "                                                          'values': [{'datetime': '2018-01-01T00:00:00.000+01:00',\n",
      "                                                                      'percentage': 0.015285548800878021,\n",
      "                                                                      'value': 2455432.297}]},\n",
      "                                           'groupId': 'No-Renovable',\n",
      "                                           'id': '1451',\n",
      "                                           'type': 'Turbina de vapor'},\n",
      "                                          {'attributes': {'color': '#ba0f16',\n",
      "                                                          'composite': False,\n",
      "                                                          'description': '10290',\n",
      "                                                          'last-update': '2019-04-16T08:14:18.000+02:00',\n",
      "                                                          'magnitude': None,\n",
      "                                                          'title': 'Fuel + Gas',\n",
      "                                                          'total': -0.001,\n",
      "                                                          'type': 'distinct',\n",
      "                                                          'values': [{'datetime': '2018-01-01T00:00:00.000+01:00',\n",
      "                                                                      'percentage': 6.225196605727477e-12,\n",
      "                                                                      'value': -0.001}]},\n",
      "                                           'groupId': 'No-Renovable',\n",
      "                                           'id': '10290',\n",
      "                                           'type': 'Fuel + Gas'},\n",
      "                                          {'attributes': {'color': '#cfa2ca',\n",
      "                                                          'composite': False,\n",
      "                                                          'description': '10293',\n",
      "                                                          'last-update': '2019-04-16T08:16:58.000+02:00',\n",
      "                                                          'magnitude': None,\n",
      "                                                          'title': 'Cogeneración',\n",
      "                                                          'total': 29006757.2399999,\n",
      "                                                          'type': 'distinct',\n",
      "                                                          'values': [{'datetime': '2018-01-01T00:00:00.000+01:00',\n",
      "                                                                      'percentage': 0.1805727667136083,\n",
      "                                                                      'value': 29006757.2399999}]},\n",
      "                                           'groupId': 'No-Renovable',\n",
      "                                           'id': '10293',\n",
      "                                           'type': 'Cogeneración'},\n",
      "                                          {'attributes': {'color': '#666666',\n",
      "                                                          'composite': False,\n",
      "                                                          'description': '10294',\n",
      "                                                          'last-update': '2019-04-16T08:16:58.000+02:00',\n",
      "                                                          'magnitude': None,\n",
      "                                                          'title': 'Residuos '\n",
      "                                                                   'no '\n",
      "                                                                   'renovables',\n",
      "                                                          'total': 2434962.786,\n",
      "                                                          'type': 'distinct',\n",
      "                                                          'values': [{'datetime': '2018-01-01T00:00:00.000+01:00',\n",
      "                                                                      'percentage': 0.01515812207047992,\n",
      "                                                                      'value': 2434962.786}]},\n",
      "                                           'groupId': 'No-Renovable',\n",
      "                                           'id': '10294',\n",
      "                                           'type': 'Residuos no renovables'},\n",
      "                                          {'attributes': {'color': '#666666',\n",
      "                                                          'composite': True,\n",
      "                                                          'description': None,\n",
      "                                                          'last-update': '2019-11-11T09:24:45.000+01:00',\n",
      "                                                          'magnitude': None,\n",
      "                                                          'title': 'Generación '\n",
      "                                                                   'no '\n",
      "                                                                   'renovable',\n",
      "                                                          'total': 160637496.8250002,\n",
      "                                                          'type': 'Generación '\n",
      "                                                                  'no '\n",
      "                                                                  'renovable',\n",
      "                                                          'values': [{'datetime': '2018-01-01T00:00:00.000+01:00',\n",
      "                                                                      'percentage': 1,\n",
      "                                                                      'value': 160637496.8250002}]},\n",
      "                                           'groupId': 'No-Renovable',\n",
      "                                           'id': 'No-Renovable',\n",
      "                                           'type': 'Generación no renovable'}],\n",
      "                              'description': None,\n",
      "                              'last-update': '2019-11-11T09:24:45.000+01:00',\n",
      "                              'magnitude': None,\n",
      "                              'title': 'No-Renovable'},\n",
      "               'id': 'No-Renovable',\n",
      "               'type': 'No-Renovable'},\n",
      "              {'attributes': {'content': [{'attributes': {'color': '#4f81bd',\n",
      "                                                          'composite': False,\n",
      "                                                          'description': '1472',\n",
      "                                                          'last-update': '2019-07-08T10:37:33.000+02:00',\n",
      "                                                          'magnitude': None,\n",
      "                                                          'title': 'Consumos '\n",
      "                                                                   'en bombeo',\n",
      "                                                          'total': -3198432.376,\n",
      "                                                          'type': None,\n",
      "                                                          'values': [{'datetime': '2018-01-01T00:00:00.000+01:00',\n",
      "                                                                      'percentage': 0.011618721439898694,\n",
      "                                                                      'value': -3198432.376}]},\n",
      "                                           'groupId': 'Demanda en b.c.',\n",
      "                                           'id': '1472',\n",
      "                                           'type': 'Consumos en bombeo'},\n",
      "                                          {'attributes': {'color': '#00608a',\n",
      "                                                          'composite': False,\n",
      "                                                          'description': '1474',\n",
      "                                                          'last-update': '2019-04-16T08:16:59.000+02:00',\n",
      "                                                          'magnitude': None,\n",
      "                                                          'title': 'Saldo I. '\n",
      "                                                                   'internacionales',\n",
      "                                                          'total': 11102311.146,\n",
      "                                                          'type': None,\n",
      "                                                          'values': [{'datetime': '2018-01-01T00:00:00.000+01:00',\n",
      "                                                                      'percentage': 0.04033058866974664,\n",
      "                                                                      'value': 11102311.146}]},\n",
      "                                           'groupId': 'Demanda en b.c.',\n",
      "                                           'id': '1474',\n",
      "                                           'type': 'Saldo I. internacionales'},\n",
      "                                          {'attributes': {'color': '#666666',\n",
      "                                                          'composite': True,\n",
      "                                                          'description': 'Demanda '\n",
      "                                                                         'corregida: '\n",
      "                                                                         'corregidos '\n",
      "                                                                         'los '\n",
      "                                                                         'efectos '\n",
      "                                                                         'de '\n",
      "                                                                         'temperatura '\n",
      "                                                                         'y '\n",
      "                                                                         'laboralidad.',\n",
      "                                                          'last-update': '2019-07-08T10:37:33.000+02:00',\n",
      "                                                          'magnitude': None,\n",
      "                                                          'title': 'Demanda en '\n",
      "                                                                   'b.c.',\n",
      "                                                          'total': 268885780.8079996,\n",
      "                                                          'type': 'Demanda en '\n",
      "                                                                  'b.c.',\n",
      "                                                          'values': [{'datetime': '2018-01-01T00:00:00.000+01:00',\n",
      "                                                                      'percentage': 1,\n",
      "                                                                      'value': 268885780.8079996}]},\n",
      "                                           'groupId': 'Demanda en b.c.',\n",
      "                                           'id': 'Demanda en b.c.',\n",
      "                                           'type': 'Demanda en b.c.'}],\n",
      "                              'description': 'Demanda corregida: corregidos '\n",
      "                                             'los efectos de temperatura y '\n",
      "                                             'laboralidad.',\n",
      "                              'last-update': '2019-07-08T10:37:33.000+02:00',\n",
      "                              'magnitude': None,\n",
      "                              'title': 'Demanda'},\n",
      "               'id': 'Demanda en b.c.',\n",
      "               'type': 'Demanda'}]}\n"
     ]
    }
   ],
   "source": [
    "endpoint = f\"https://apidatos.ree.es/{lang}/datos/{category}/{widget}?{query}\"\n",
    "response = requests.get(url = endpoint, headers = headers)\n",
    "data = response.json()\n",
    "pprint(data)"
   ]
  },
  {
   "cell_type": "markdown",
   "metadata": {},
   "source": [
    "# OBTENCIÓN DE DATOS DE BALANCE\n",
    "\n",
    "\n"
   ]
  },
  {
   "cell_type": "code",
   "execution_count": 103,
   "metadata": {},
   "outputs": [],
   "source": [
    "lang    =  input('¿En español (es) o en inglés (en)?') \n",
    "\n",
    "restaDia = float(input(\"¿Cuantos días atrás?: ______________\"))\n",
    "input_año = int(input(\"¿Qué año?: ______________\"))"
   ]
  },
  {
   "cell_type": "code",
   "execution_count": 104,
   "metadata": {},
   "outputs": [],
   "source": [
    "headers = {\n",
    "    'Accept': 'application/json',\n",
    "    'Content-Type': 'application/json',\n",
    "    'Host' : 'apidatos.ree.es'\n",
    "}"
   ]
  },
  {
   "cell_type": "code",
   "execution_count": 105,
   "metadata": {},
   "outputs": [
    {
     "data": {
      "text/html": [
       "<div>\n",
       "<style scoped>\n",
       "    .dataframe tbody tr th:only-of-type {\n",
       "        vertical-align: middle;\n",
       "    }\n",
       "\n",
       "    .dataframe tbody tr th {\n",
       "        vertical-align: top;\n",
       "    }\n",
       "\n",
       "    .dataframe thead th {\n",
       "        text-align: right;\n",
       "    }\n",
       "</style>\n",
       "<table border=\"1\" class=\"dataframe\">\n",
       "  <thead>\n",
       "    <tr style=\"text-align: right;\">\n",
       "      <th></th>\n",
       "      <th>nombre</th>\n",
       "      <th>tipo de energía</th>\n",
       "      <th>Valores</th>\n",
       "      <th>Porcentaje</th>\n",
       "      <th>Fecha actualización</th>\n",
       "    </tr>\n",
       "  </thead>\n",
       "  <tbody>\n",
       "    <tr>\n",
       "      <th>0</th>\n",
       "      <td>Hidráulica</td>\n",
       "      <td>Renovable</td>\n",
       "      <td>54386.095</td>\n",
       "      <td>0.133044</td>\n",
       "      <td>09/09/2024</td>\n",
       "    </tr>\n",
       "    <tr>\n",
       "      <th>1</th>\n",
       "      <td>Hidráulica</td>\n",
       "      <td>Renovable</td>\n",
       "      <td>51661.691</td>\n",
       "      <td>0.123928</td>\n",
       "      <td>10/09/2024</td>\n",
       "    </tr>\n",
       "    <tr>\n",
       "      <th>2</th>\n",
       "      <td>Hidráulica</td>\n",
       "      <td>Renovable</td>\n",
       "      <td>48588.925</td>\n",
       "      <td>0.117914</td>\n",
       "      <td>11/09/2024</td>\n",
       "    </tr>\n",
       "    <tr>\n",
       "      <th>3</th>\n",
       "      <td>Hidráulica</td>\n",
       "      <td>Renovable</td>\n",
       "      <td>51775.769</td>\n",
       "      <td>0.121602</td>\n",
       "      <td>12/09/2024</td>\n",
       "    </tr>\n",
       "    <tr>\n",
       "      <th>4</th>\n",
       "      <td>Hidráulica</td>\n",
       "      <td>Renovable</td>\n",
       "      <td>39251.575</td>\n",
       "      <td>0.082418</td>\n",
       "      <td>13/09/2024</td>\n",
       "    </tr>\n",
       "    <tr>\n",
       "      <th>...</th>\n",
       "      <td>...</td>\n",
       "      <td>...</td>\n",
       "      <td>...</td>\n",
       "      <td>...</td>\n",
       "      <td>...</td>\n",
       "    </tr>\n",
       "    <tr>\n",
       "      <th>648</th>\n",
       "      <td>Demanda en b.c.</td>\n",
       "      <td>Demanda en b.c.</td>\n",
       "      <td>598027.769</td>\n",
       "      <td>1.000000</td>\n",
       "      <td>05/10/2024</td>\n",
       "    </tr>\n",
       "    <tr>\n",
       "      <th>649</th>\n",
       "      <td>Demanda en b.c.</td>\n",
       "      <td>Demanda en b.c.</td>\n",
       "      <td>565533.205</td>\n",
       "      <td>1.000000</td>\n",
       "      <td>06/10/2024</td>\n",
       "    </tr>\n",
       "    <tr>\n",
       "      <th>650</th>\n",
       "      <td>Demanda en b.c.</td>\n",
       "      <td>Demanda en b.c.</td>\n",
       "      <td>665564.644</td>\n",
       "      <td>1.000000</td>\n",
       "      <td>07/10/2024</td>\n",
       "    </tr>\n",
       "    <tr>\n",
       "      <th>651</th>\n",
       "      <td>Demanda en b.c.</td>\n",
       "      <td>Demanda en b.c.</td>\n",
       "      <td>682877.223</td>\n",
       "      <td>1.000000</td>\n",
       "      <td>08/10/2024</td>\n",
       "    </tr>\n",
       "    <tr>\n",
       "      <th>652</th>\n",
       "      <td>Demanda en b.c.</td>\n",
       "      <td>Demanda en b.c.</td>\n",
       "      <td>688451.740</td>\n",
       "      <td>1.000000</td>\n",
       "      <td>09/10/2024</td>\n",
       "    </tr>\n",
       "  </tbody>\n",
       "</table>\n",
       "<p>653 rows × 5 columns</p>\n",
       "</div>"
      ],
      "text/plain": [
       "              nombre  tipo de energía     Valores  Porcentaje  \\\n",
       "0         Hidráulica        Renovable   54386.095    0.133044   \n",
       "1         Hidráulica        Renovable   51661.691    0.123928   \n",
       "2         Hidráulica        Renovable   48588.925    0.117914   \n",
       "3         Hidráulica        Renovable   51775.769    0.121602   \n",
       "4         Hidráulica        Renovable   39251.575    0.082418   \n",
       "..               ...              ...         ...         ...   \n",
       "648  Demanda en b.c.  Demanda en b.c.  598027.769    1.000000   \n",
       "649  Demanda en b.c.  Demanda en b.c.  565533.205    1.000000   \n",
       "650  Demanda en b.c.  Demanda en b.c.  665564.644    1.000000   \n",
       "651  Demanda en b.c.  Demanda en b.c.  682877.223    1.000000   \n",
       "652  Demanda en b.c.  Demanda en b.c.  688451.740    1.000000   \n",
       "\n",
       "    Fecha actualización  \n",
       "0            09/09/2024  \n",
       "1            10/09/2024  \n",
       "2            11/09/2024  \n",
       "3            12/09/2024  \n",
       "4            13/09/2024  \n",
       "..                  ...  \n",
       "648          05/10/2024  \n",
       "649          06/10/2024  \n",
       "650          07/10/2024  \n",
       "651          08/10/2024  \n",
       "652          09/10/2024  \n",
       "\n",
       "[653 rows x 5 columns]"
      ]
     },
     "execution_count": 105,
     "metadata": {},
     "output_type": "execute_result"
    }
   ],
   "source": [
    "def balance_datos(lang, category, widget):\n",
    "\n",
    "    now = datetime.now()\n",
    "    ultima_fecha = (now - timedelta(days = restaDia)).replace(year = input_año).strftime('%Y-%m-%d')\n",
    "\n",
    "\n",
    "    hoy = now.replace(year = input_año).strftime('%Y-%m-%d')\n",
    "\n",
    "    query = f\"start_date={ultima_fecha}T00:00&end_date={hoy}T23:59&time_trunc=day\"\n",
    "\n",
    "\n",
    "\n",
    "    endpoint = f\"https://apidatos.ree.es/{lang}/datos/balance/balance-electrico?{query}\"\n",
    "    response = requests.get(url = endpoint, headers = headers)\n",
    "    data = response.json()\n",
    "\n",
    "\n",
    "\n",
    "    lista_nombres = list()\n",
    "    lista_tipos = list()\n",
    "    lista_valores = list()\n",
    "    lista_porcentajes = list()\n",
    "    lista_fechas = list()\n",
    "    lista_dias = list()\n",
    "    lista_meses = list()\n",
    "    lista_años = list()\n",
    "\n",
    "\n",
    "    for dato in data['included']: \n",
    "        for info in dato['attributes']['content']:\n",
    "            nombre = info['type']\n",
    "\n",
    "            tipo = info['groupId']\n",
    "\n",
    "\n",
    "            for i in info['attributes']['values']:\n",
    "                valor = i['value']\n",
    "\n",
    "                porcentaje = i['percentage']\n",
    "\n",
    "                fecha = i['datetime']\n",
    "                fecha = pd.to_datetime(fecha)\n",
    "                dia = fecha.strftime('%d')\n",
    "                mes = fecha.strftime('%m')\n",
    "                año = fecha.strftime('%Y')\n",
    "\n",
    "                fecha = fecha.strftime(\"%d/%m/%Y\")\n",
    "\n",
    "        \n",
    "            \n",
    "            \n",
    "                lista_nombres.append(nombre)\n",
    "                lista_tipos.append(tipo)\n",
    "                lista_valores.append(valor)\n",
    "                lista_porcentajes.append(porcentaje)\n",
    "                lista_fechas.append(fecha)\n",
    "                lista_dias.append(dia)\n",
    "                lista_meses.append(mes)\n",
    "                lista_años.append(año)\n",
    "\n",
    "    df_balance = pd.DataFrame()\n",
    "    df_balance['nombre']               = lista_nombres\n",
    "    df_balance['tipo de energía']      = lista_tipos\n",
    "    df_balance['Valores']              = lista_valores\n",
    "    df_balance[\"Porcentaje\"]           = lista_porcentajes\n",
    "    df_balance[\"Fecha actualización\"]  = lista_fechas\n",
    "               \n",
    "\n",
    "\n",
    "\n",
    "\n",
    "    return df_balance\n",
    "\n",
    "df_balance  = balance_datos(lang, category, widget)\n",
    "\n",
    "df_balance\n"
   ]
  },
  {
   "cell_type": "code",
   "execution_count": 106,
   "metadata": {},
   "outputs": [],
   "source": [
    "df_balance.to_csv('balance_electrico.csv')"
   ]
  },
  {
   "cell_type": "code",
   "execution_count": 107,
   "metadata": {},
   "outputs": [
    {
     "name": "stderr",
     "output_type": "stream",
     "text": [
      "/opt/anaconda3/lib/python3.11/site-packages/plotly/express/_core.py:1979: FutureWarning:\n",
      "\n",
      "When grouping with a length-1 list-like, you will need to pass a length-1 tuple to get_group in a future version of pandas. Pass `(name,)` instead of `name` to silence this warning.\n",
      "\n"
     ]
    },
    {
     "data": {
      "application/vnd.plotly.v1+json": {
       "config": {
        "plotlyServerURL": "https://plot.ly"
       },
       "data": [
        {
         "alignmentgroup": "True",
         "boxpoints": "all",
         "customdata": [
          [
           "Hidráulica",
           "Renovable",
           0.1330444825387354
          ],
          [
           "Hidráulica",
           "Renovable",
           0.12392764684471097
          ],
          [
           "Hidráulica",
           "Renovable",
           0.11791413511654514
          ],
          [
           "Hidráulica",
           "Renovable",
           0.121602141383431
          ],
          [
           "Hidráulica",
           "Renovable",
           0.08241827262200777
          ],
          [
           "Hidráulica",
           "Renovable",
           0.07864734013141271
          ],
          [
           "Hidráulica",
           "Renovable",
           0.06586451256276764
          ],
          [
           "Hidráulica",
           "Renovable",
           0.05943556122443905
          ],
          [
           "Hidráulica",
           "Renovable",
           0.06335216684224187
          ],
          [
           "Hidráulica",
           "Renovable",
           0.15250162393679917
          ],
          [
           "Hidráulica",
           "Renovable",
           0.29780780016332004
          ],
          [
           "Hidráulica",
           "Renovable",
           0.31409930994562335
          ],
          [
           "Hidráulica",
           "Renovable",
           0.265759619624578
          ],
          [
           "Hidráulica",
           "Renovable",
           0.273899467166021
          ],
          [
           "Hidráulica",
           "Renovable",
           0.21943380207069946
          ],
          [
           "Hidráulica",
           "Renovable",
           0.2427530550711287
          ],
          [
           "Hidráulica",
           "Renovable",
           0.11706032563144847
          ],
          [
           "Hidráulica",
           "Renovable",
           0.06960271395441223
          ],
          [
           "Hidráulica",
           "Renovable",
           0.08029597655080292
          ],
          [
           "Hidráulica",
           "Renovable",
           0.13247796981174273
          ],
          [
           "Hidráulica",
           "Renovable",
           0.10876657741936249
          ],
          [
           "Hidráulica",
           "Renovable",
           0.19216677903087626
          ],
          [
           "Hidráulica",
           "Renovable",
           0.2041879477674877
          ],
          [
           "Hidráulica",
           "Renovable",
           0.1724561136109803
          ],
          [
           "Hidráulica",
           "Renovable",
           0.16473510171876435
          ],
          [
           "Hidráulica",
           "Renovable",
           0.2393665382058037
          ],
          [
           "Hidráulica",
           "Renovable",
           0.2185098915205496
          ],
          [
           "Hidráulica",
           "Renovable",
           0.1382617673485177
          ],
          [
           "Hidráulica",
           "Renovable",
           0.1402739025246812
          ],
          [
           "Hidráulica",
           "Renovable",
           0.11907419496253181
          ],
          [
           "Hidráulica",
           "Renovable",
           0.1244803352817143
          ]
         ],
         "fillcolor": "rgba(255,255,255,0)",
         "hoveron": "points",
         "hovertemplate": "nombre=%{customdata[0]}<br>Fecha actualización=%{x}<br>Valores=%{y}<br>tipo de energía=%{customdata[1]}<br>Porcentaje=%{customdata[2]}<extra></extra>",
         "legendgroup": "Hidráulica",
         "line": {
          "color": "rgba(255,255,255,0)"
         },
         "marker": {
          "color": "#636efa"
         },
         "name": "Hidráulica",
         "offsetgroup": "Hidráulica",
         "orientation": "v",
         "pointpos": 0,
         "showlegend": true,
         "type": "box",
         "x": [
          "09/09/2024",
          "10/09/2024",
          "11/09/2024",
          "12/09/2024",
          "13/09/2024",
          "14/09/2024",
          "15/09/2024",
          "16/09/2024",
          "17/09/2024",
          "18/09/2024",
          "19/09/2024",
          "20/09/2024",
          "21/09/2024",
          "22/09/2024",
          "23/09/2024",
          "24/09/2024",
          "25/09/2024",
          "26/09/2024",
          "27/09/2024",
          "28/09/2024",
          "29/09/2024",
          "30/09/2024",
          "01/10/2024",
          "02/10/2024",
          "03/10/2024",
          "04/10/2024",
          "05/10/2024",
          "06/10/2024",
          "07/10/2024",
          "08/10/2024",
          "09/10/2024"
         ],
         "x0": " ",
         "xaxis": "x",
         "y": [
          54386.095,
          51661.691,
          48588.925,
          51775.769,
          39251.575,
          30373.812,
          24767.511,
          28356.661,
          29555.708,
          58595.442,
          89991.12,
          93635.162,
          79993.169,
          73825.361,
          72079.272,
          73920.299,
          48576.483,
          35063.646,
          36018.865,
          44949.149,
          36271.997,
          62652.956,
          76159.7,
          72013.7,
          76861.6,
          92057.3,
          83008.9,
          54807.3,
          63360.6,
          57723.1,
          62214.9
         ],
         "y0": " ",
         "yaxis": "y"
        },
        {
         "alignmentgroup": "True",
         "boxpoints": "all",
         "customdata": [
          [
           "Eólica",
           "Renovable",
           0.3380705963991305
          ],
          [
           "Eólica",
           "Renovable",
           0.37747195928313165
          ],
          [
           "Eólica",
           "Renovable",
           0.41029081531836253
          ],
          [
           "Eólica",
           "Renovable",
           0.4499842002940504
          ],
          [
           "Eólica",
           "Renovable",
           0.5293014420382739
          ],
          [
           "Eólica",
           "Renovable",
           0.43460703192126254
          ],
          [
           "Eólica",
           "Renovable",
           0.4822805904773866
          ],
          [
           "Eólica",
           "Renovable",
           0.539752072985126
          ],
          [
           "Eólica",
           "Renovable",
           0.5698086182994903
          ],
          [
           "Eólica",
           "Renovable",
           0.44430277346946706
          ],
          [
           "Eólica",
           "Renovable",
           0.3259278598820587
          ],
          [
           "Eólica",
           "Renovable",
           0.28230706706341097
          ],
          [
           "Eólica",
           "Renovable",
           0.3438534735191961
          ],
          [
           "Eólica",
           "Renovable",
           0.19840991164179964
          ],
          [
           "Eólica",
           "Renovable",
           0.27471336090189097
          ],
          [
           "Eólica",
           "Renovable",
           0.4063873048967647
          ],
          [
           "Eólica",
           "Renovable",
           0.6462472507221675
          ],
          [
           "Eólica",
           "Renovable",
           0.702816491913024
          ],
          [
           "Eólica",
           "Renovable",
           0.5708609934046169
          ],
          [
           "Eólica",
           "Renovable",
           0.37509143197657896
          ],
          [
           "Eólica",
           "Renovable",
           0.41337698632140985
          ],
          [
           "Eólica",
           "Renovable",
           0.23156093812192702
          ],
          [
           "Eólica",
           "Renovable",
           0.3572506058529076
          ],
          [
           "Eólica",
           "Renovable",
           0.5423203591389699
          ],
          [
           "Eólica",
           "Renovable",
           0.5047196674369734
          ],
          [
           "Eólica",
           "Renovable",
           0.338392657048894
          ],
          [
           "Eólica",
           "Renovable",
           0.3975217343687118
          ],
          [
           "Eólica",
           "Renovable",
           0.5466740710613108
          ],
          [
           "Eólica",
           "Renovable",
           0.6529541945421603
          ],
          [
           "Eólica",
           "Renovable",
           0.6704670260355112
          ],
          [
           "Eólica",
           "Renovable",
           0.7117976284832352
          ]
         ],
         "fillcolor": "rgba(255,255,255,0)",
         "hoveron": "points",
         "hovertemplate": "nombre=%{customdata[0]}<br>Fecha actualización=%{x}<br>Valores=%{y}<br>tipo de energía=%{customdata[1]}<br>Porcentaje=%{customdata[2]}<extra></extra>",
         "legendgroup": "Eólica",
         "line": {
          "color": "rgba(255,255,255,0)"
         },
         "marker": {
          "color": "#EF553B"
         },
         "name": "Eólica",
         "offsetgroup": "Eólica",
         "orientation": "v",
         "pointpos": 0,
         "showlegend": true,
         "type": "box",
         "x": [
          "09/09/2024",
          "10/09/2024",
          "11/09/2024",
          "12/09/2024",
          "13/09/2024",
          "14/09/2024",
          "15/09/2024",
          "16/09/2024",
          "17/09/2024",
          "18/09/2024",
          "19/09/2024",
          "20/09/2024",
          "21/09/2024",
          "22/09/2024",
          "23/09/2024",
          "24/09/2024",
          "25/09/2024",
          "26/09/2024",
          "27/09/2024",
          "28/09/2024",
          "29/09/2024",
          "30/09/2024",
          "01/10/2024",
          "02/10/2024",
          "03/10/2024",
          "04/10/2024",
          "05/10/2024",
          "06/10/2024",
          "07/10/2024",
          "08/10/2024",
          "09/10/2024"
         ],
         "x0": " ",
         "xaxis": "x",
         "y": [
          138196.934,
          157356.653,
          169068.701,
          191594.307,
          252078.994,
          167846.392,
          181355.473,
          257515.303,
          265833.009,
          170713.706,
          98488.398,
          84157.676,
          103499.279,
          53478.32,
          90237.415,
          123748.272,
          268172.999,
          354056.721,
          256074.662,
          127266.75,
          137854.929,
          75496.802,
          133250.269,
          226460.488,
          235490.559,
          130141.475,
          151013.035,
          216702.928,
          294934.188,
          325019.499,
          355754.33
         ],
         "y0": " ",
         "yaxis": "y"
        },
        {
         "alignmentgroup": "True",
         "boxpoints": "all",
         "customdata": [
          [
           "Solar fotovoltaica",
           "Renovable",
           0.44003129071794594
          ],
          [
           "Solar fotovoltaica",
           "Renovable",
           0.4119244061972437
          ],
          [
           "Solar fotovoltaica",
           "Renovable",
           0.3938657991673299
          ],
          [
           "Solar fotovoltaica",
           "Renovable",
           0.35766292408665923
          ],
          [
           "Solar fotovoltaica",
           "Renovable",
           0.31749501003630554
          ],
          [
           "Solar fotovoltaica",
           "Renovable",
           0.39873282022613105
          ],
          [
           "Solar fotovoltaica",
           "Renovable",
           0.3647852638008182
          ],
          [
           "Solar fotovoltaica",
           "Renovable",
           0.33394260594695957
          ],
          [
           "Solar fotovoltaica",
           "Renovable",
           0.3081497715493707
          ],
          [
           "Solar fotovoltaica",
           "Renovable",
           0.33993063993735084
          ],
          [
           "Solar fotovoltaica",
           "Renovable",
           0.31673755737746534
          ],
          [
           "Solar fotovoltaica",
           "Renovable",
           0.34603634653913934
          ],
          [
           "Solar fotovoltaica",
           "Renovable",
           0.32612113865515485
          ],
          [
           "Solar fotovoltaica",
           "Renovable",
           0.45563640116840926
          ],
          [
           "Solar fotovoltaica",
           "Renovable",
           0.4358537107072895
          ],
          [
           "Solar fotovoltaica",
           "Renovable",
           0.3059063467690442
          ],
          [
           "Solar fotovoltaica",
           "Renovable",
           0.20645188115447635
          ],
          [
           "Solar fotovoltaica",
           "Renovable",
           0.1976662733076474
          ],
          [
           "Solar fotovoltaica",
           "Renovable",
           0.2923895438307371
          ],
          [
           "Solar fotovoltaica",
           "Renovable",
           0.40890042047697434
          ],
          [
           "Solar fotovoltaica",
           "Renovable",
           0.3854880604974675
          ],
          [
           "Solar fotovoltaica",
           "Renovable",
           0.4809362365424328
          ],
          [
           "Solar fotovoltaica",
           "Renovable",
           0.3655773432675451
          ],
          [
           "Solar fotovoltaica",
           "Renovable",
           0.23882845816575485
          ],
          [
           "Solar fotovoltaica",
           "Renovable",
           0.2859534901748317
          ],
          [
           "Solar fotovoltaica",
           "Renovable",
           0.3614854865725995
          ],
          [
           "Solar fotovoltaica",
           "Renovable",
           0.31823237554264117
          ],
          [
           "Solar fotovoltaica",
           "Renovable",
           0.26363501115404375
          ],
          [
           "Solar fotovoltaica",
           "Renovable",
           0.17651117237070058
          ],
          [
           "Solar fotovoltaica",
           "Renovable",
           0.18163423658196762
          ],
          [
           "Solar fotovoltaica",
           "Renovable",
           0.13664060598681244
          ]
         ],
         "fillcolor": "rgba(255,255,255,0)",
         "hoveron": "points",
         "hovertemplate": "nombre=%{customdata[0]}<br>Fecha actualización=%{x}<br>Valores=%{y}<br>tipo de energía=%{customdata[1]}<br>Porcentaje=%{customdata[2]}<extra></extra>",
         "legendgroup": "Solar fotovoltaica",
         "line": {
          "color": "rgba(255,255,255,0)"
         },
         "marker": {
          "color": "#00cc96"
         },
         "name": "Solar fotovoltaica",
         "offsetgroup": "Solar fotovoltaica",
         "orientation": "v",
         "pointpos": 0,
         "showlegend": true,
         "type": "box",
         "x": [
          "09/09/2024",
          "10/09/2024",
          "11/09/2024",
          "12/09/2024",
          "13/09/2024",
          "14/09/2024",
          "15/09/2024",
          "16/09/2024",
          "17/09/2024",
          "18/09/2024",
          "19/09/2024",
          "20/09/2024",
          "21/09/2024",
          "22/09/2024",
          "23/09/2024",
          "24/09/2024",
          "25/09/2024",
          "26/09/2024",
          "27/09/2024",
          "28/09/2024",
          "29/09/2024",
          "30/09/2024",
          "01/10/2024",
          "02/10/2024",
          "03/10/2024",
          "04/10/2024",
          "05/10/2024",
          "06/10/2024",
          "07/10/2024",
          "08/10/2024",
          "09/10/2024"
         ],
         "x0": " ",
         "xaxis": "x",
         "y": [
          179876.558,
          171718.837,
          162300.438,
          152285.747,
          151206.508,
          153991.676,
          137172.852,
          159323.763,
          143761.218,
          130610.977,
          95711.286,
          103155.812,
          98161.878,
          122809.738,
          143168.545,
          93150.995,
          85671.266,
          99578.017,
          131158.994,
          138737.98,
          128554.397,
          156801.696,
          136356.044,
          99729.262,
          133419.305,
          139022.681,
          120892.099,
          104505.558,
          79728.685,
          88050.07,
          68292.567
         ],
         "y0": " ",
         "yaxis": "y"
        },
        {
         "alignmentgroup": "True",
         "boxpoints": "all",
         "customdata": [
          [
           "Solar térmica",
           "Renovable",
           0.05750566785054793
          ],
          [
           "Solar térmica",
           "Renovable",
           0.05640377900167343
          ],
          [
           "Solar térmica",
           "Renovable",
           0.0485051557385395
          ],
          [
           "Solar térmica",
           "Renovable",
           0.04074087064609384
          ],
          [
           "Solar térmica",
           "Renovable",
           0.04273040423826677
          ],
          [
           "Solar térmica",
           "Renovable",
           0.05458416825173581
          ],
          [
           "Solar térmica",
           "Renovable",
           0.055134820581776794
          ],
          [
           "Solar térmica",
           "Renovable",
           0.042685180265698536
          ],
          [
           "Solar térmica",
           "Renovable",
           0.03237102643234087
          ],
          [
           "Solar térmica",
           "Renovable",
           0.030015081007239153
          ],
          [
           "Solar térmica",
           "Renovable",
           0.014033459473007742
          ],
          [
           "Solar térmica",
           "Renovable",
           0.01387548702563528
          ],
          [
           "Solar térmica",
           "Renovable",
           0.02449041166547547
          ],
          [
           "Solar térmica",
           "Renovable",
           0.028003715598304717
          ],
          [
           "Solar térmica",
           "Renovable",
           0.03359798028507111
          ],
          [
           "Solar térmica",
           "Renovable",
           0.0061534103843695
          ],
          [
           "Solar térmica",
           "Renovable",
           0.0030303709761255056
          ],
          [
           "Solar térmica",
           "Renovable",
           0.008550387889723291
          ],
          [
           "Solar térmica",
           "Renovable",
           0.031391559835990596
          ],
          [
           "Solar térmica",
           "Renovable",
           0.05108619646008714
          ],
          [
           "Solar térmica",
           "Renovable",
           0.06040975733376034
          ],
          [
           "Solar térmica",
           "Renovable",
           0.0616515216203229
          ],
          [
           "Solar térmica",
           "Renovable",
           0.03958998448165484
          ],
          [
           "Solar térmica",
           "Renovable",
           0.01674411338813275
          ],
          [
           "Solar térmica",
           "Renovable",
           0.022950302589106516
          ],
          [
           "Solar térmica",
           "Renovable",
           0.030064424509718173
          ],
          [
           "Solar térmica",
           "Renovable",
           0.033503714605505525
          ],
          [
           "Solar térmica",
           "Renovable",
           0.022365402980656833
          ],
          [
           "Solar térmica",
           "Renovable",
           0.003994978852879979
          ],
          [
           "Solar térmica",
           "Renovable",
           0.0070109439357298586
          ],
          [
           "Solar térmica",
           "Renovable",
           0.005906719951098547
          ]
         ],
         "fillcolor": "rgba(255,255,255,0)",
         "hoveron": "points",
         "hovertemplate": "nombre=%{customdata[0]}<br>Fecha actualización=%{x}<br>Valores=%{y}<br>tipo de energía=%{customdata[1]}<br>Porcentaje=%{customdata[2]}<extra></extra>",
         "legendgroup": "Solar térmica",
         "line": {
          "color": "rgba(255,255,255,0)"
         },
         "marker": {
          "color": "#ab63fa"
         },
         "name": "Solar térmica",
         "offsetgroup": "Solar térmica",
         "orientation": "v",
         "pointpos": 0,
         "showlegend": true,
         "type": "box",
         "x": [
          "09/09/2024",
          "10/09/2024",
          "11/09/2024",
          "12/09/2024",
          "13/09/2024",
          "14/09/2024",
          "15/09/2024",
          "16/09/2024",
          "17/09/2024",
          "18/09/2024",
          "19/09/2024",
          "20/09/2024",
          "21/09/2024",
          "22/09/2024",
          "23/09/2024",
          "24/09/2024",
          "25/09/2024",
          "26/09/2024",
          "27/09/2024",
          "28/09/2024",
          "29/09/2024",
          "30/09/2024",
          "01/10/2024",
          "02/10/2024",
          "03/10/2024",
          "04/10/2024",
          "05/10/2024",
          "06/10/2024",
          "07/10/2024",
          "08/10/2024",
          "09/10/2024"
         ],
         "x0": " ",
         "xaxis": "x",
         "y": [
          23507.241,
          23513.031,
          19987.539,
          17346.651,
          20350.289,
          21080.551,
          20732.747,
          20365.067,
          15102.066,
          11532.644,
          4240.61,
          4136.378,
          7371.57,
          7547.968,
          11036.212,
          1873.764,
          1257.512,
          4307.415,
          14081.507,
          17333.305,
          20145.734,
          20100.509,
          14766.598,
          6991.956,
          10708.082,
          11562.392,
          12727.6,
          8865.7,
          1804.5,
          3398.666,
          2952.161
         ],
         "y0": " ",
         "yaxis": "y"
        },
        {
         "alignmentgroup": "True",
         "boxpoints": "all",
         "customdata": [
          [
           "Hidroeólica",
           "Renovable",
           0.0001848347811546174
          ],
          [
           "Hidroeólica",
           "Renovable",
           0.0003062467125675392
          ],
          [
           "Hidroeólica",
           "Renovable",
           0.00031673956567831774
          ],
          [
           "Hidroeólica",
           "Renovable",
           0.0003181501616341484
          ],
          [
           "Hidroeólica",
           "Renovable",
           0.0002813573431960005
          ],
          [
           "Hidroeólica",
           "Renovable",
           0.00029809996609280224
          ],
          [
           "Hidroeólica",
           "Renovable",
           0.00021585892701258568
          ],
          [
           "Hidroeólica",
           "Renovable",
           0.00008943212765157242
          ],
          [
           "Hidroeólica",
           "Renovable",
           0.00003677145619988733
          ],
          [
           "Hidroeólica",
           "Renovable",
           0.000043627706094487086
          ],
          [
           "Hidroeólica",
           "Renovable",
           0.000053316165733143994
          ],
          [
           "Hidroeólica",
           "Renovable",
           0.00004439347547474078
          ],
          [
           "Hidroeólica",
           "Renovable",
           0.00007276455304599207
          ],
          [
           "Hidroeólica",
           "Renovable",
           0.0002141877794402056
          ],
          [
           "Hidroeólica",
           "Renovable",
           0.00032396038369465513
          ],
          [
           "Hidroeólica",
           "Renovable",
           0.0002681569708597646
          ],
          [
           "Hidroeólica",
           "Renovable",
           0.00013260246688085847
          ],
          [
           "Hidroeólica",
           "Renovable",
           0.00008575171104900653
          ],
          [
           "Hidroeólica",
           "Renovable",
           0.00013646287601180244
          ],
          [
           "Hidroeólica",
           "Renovable",
           0.0001753782166965553
          ],
          [
           "Hidroeólica",
           "Renovable",
           0.0001342100272438379
          ],
          [
           "Hidroeólica",
           "Renovable",
           0.00033920973752843723
          ],
          [
           "Hidroeólica",
           "Renovable",
           0.0005070401364735848
          ],
          [
           "Hidroeólica",
           "Renovable",
           0.00043649438687185047
          ],
          [
           "Hidroeólica",
           "Renovable",
           0.00035286784489234357
          ],
          [
           "Hidroeólica",
           "Renovable",
           0.00039184354282102783
          ],
          [
           "Hidroeólica",
           "Renovable",
           0.00013202110363382872
          ],
          [
           "Hidroeólica",
           "Renovable",
           0.000004344070285785788
          ],
          [
           "Hidroeólica",
           "Renovable",
           0.000012313700404388166
          ],
          [
           "Hidroeólica",
           "Renovable",
           0.000028337393802486344
          ],
          [
           "Hidroeólica",
           "Renovable",
           0.000034259908495051735
          ]
         ],
         "fillcolor": "rgba(255,255,255,0)",
         "hoveron": "points",
         "hovertemplate": "nombre=%{customdata[0]}<br>Fecha actualización=%{x}<br>Valores=%{y}<br>tipo de energía=%{customdata[1]}<br>Porcentaje=%{customdata[2]}<extra></extra>",
         "legendgroup": "Hidroeólica",
         "line": {
          "color": "rgba(255,255,255,0)"
         },
         "marker": {
          "color": "#FFA15A"
         },
         "name": "Hidroeólica",
         "offsetgroup": "Hidroeólica",
         "orientation": "v",
         "pointpos": 0,
         "showlegend": true,
         "type": "box",
         "x": [
          "09/09/2024",
          "10/09/2024",
          "11/09/2024",
          "12/09/2024",
          "13/09/2024",
          "14/09/2024",
          "15/09/2024",
          "16/09/2024",
          "17/09/2024",
          "18/09/2024",
          "19/09/2024",
          "20/09/2024",
          "21/09/2024",
          "22/09/2024",
          "23/09/2024",
          "24/09/2024",
          "25/09/2024",
          "26/09/2024",
          "27/09/2024",
          "28/09/2024",
          "29/09/2024",
          "30/09/2024",
          "01/10/2024",
          "02/10/2024",
          "03/10/2024",
          "04/10/2024",
          "05/10/2024",
          "06/10/2024",
          "07/10/2024",
          "08/10/2024",
          "09/10/2024"
         ],
         "x0": " ",
         "xaxis": "x",
         "y": [
          75.557,
          127.665,
          130.519,
          135.462,
          133.996,
          115.127,
          81.171,
          42.668,
          17.155,
          16.763,
          16.111,
          13.234,
          21.902,
          57.731,
          106.414,
          81.656,
          55.026,
          43.199,
          61.214,
          59.505,
          44.757,
          110.594,
          189.12,
          182.27,
          164.64,
          150.698,
          50.153,
          1.722,
          5.562,
          13.737,
          17.123
         ],
         "y0": " ",
         "yaxis": "y"
        },
        {
         "alignmentgroup": "True",
         "boxpoints": "all",
         "customdata": [
          [
           "Otras renovables",
           "Renovable",
           0.024815854554458165
          ],
          [
           "Otras renovables",
           "Renovable",
           0.023867333286026797
          ],
          [
           "Otras renovables",
           "Renovable",
           0.022808122024265312
          ],
          [
           "Otras renovables",
           "Renovable",
           0.023759465438208997
          ],
          [
           "Otras renovables",
           "Renovable",
           0.022458279680928308
          ],
          [
           "Otras renovables",
           "Renovable",
           0.026595104204363715
          ],
          [
           "Otras renovables",
           "Renovable",
           0.024957071907202286
          ],
          [
           "Otras renovables",
           "Renovable",
           0.018902367206356376
          ],
          [
           "Otras renovables",
           "Renovable",
           0.02095835606113344
          ],
          [
           "Otras renovables",
           "Renovable",
           0.02626876939040789
          ],
          [
           "Otras renovables",
           "Renovable",
           0.036297894490640484
          ],
          [
           "Otras renovables",
           "Renovable",
           0.03445770309563429
          ],
          [
           "Otras renovables",
           "Renovable",
           0.030760150009797236
          ],
          [
           "Otras renovables",
           "Renovable",
           0.03422167613755936
          ],
          [
           "Otras renovables",
           "Renovable",
           0.028193999968074014
          ],
          [
           "Otras renovables",
           "Renovable",
           0.030066085606695932
          ],
          [
           "Otras renovables",
           "Renovable",
           0.02115458295239132
          ],
          [
           "Otras renovables",
           "Renovable",
           0.01654989562380696
          ],
          [
           "Otras renovables",
           "Renovable",
           0.020589604961040602
          ],
          [
           "Otras renovables",
           "Renovable",
           0.025852098997777524
          ],
          [
           "Otras renovables",
           "Renovable",
           0.026126554484222107
          ],
          [
           "Otras renovables",
           "Renovable",
           0.027615133620653327
          ],
          [
           "Otras renovables",
           "Renovable",
           0.027671632335502367
          ],
          [
           "Otras renovables",
           "Renovable",
           0.02435595572918604
          ],
          [
           "Otras renovables",
           "Renovable",
           0.017263081980592173
          ],
          [
           "Otras renovables",
           "Renovable",
           0.025043024575973117
          ],
          [
           "Otras renovables",
           "Renovable",
           0.026907260801381765
          ],
          [
           "Otras renovables",
           "Renovable",
           0.024317757328760646
          ],
          [
           "Otras renovables",
           "Renovable",
           0.022142672293447713
          ],
          [
           "Otras renovables",
           "Renovable",
           0.017744547180555976
          ],
          [
           "Otras renovables",
           "Renovable",
           0.016405628192877462
          ]
         ],
         "fillcolor": "rgba(255,255,255,0)",
         "hoveron": "points",
         "hovertemplate": "nombre=%{customdata[0]}<br>Fecha actualización=%{x}<br>Valores=%{y}<br>tipo de energía=%{customdata[1]}<br>Porcentaje=%{customdata[2]}<extra></extra>",
         "legendgroup": "Otras renovables",
         "line": {
          "color": "rgba(255,255,255,0)"
         },
         "marker": {
          "color": "#19d3f3"
         },
         "name": "Otras renovables",
         "offsetgroup": "Otras renovables",
         "orientation": "v",
         "pointpos": 0,
         "showlegend": true,
         "type": "box",
         "x": [
          "09/09/2024",
          "10/09/2024",
          "11/09/2024",
          "12/09/2024",
          "13/09/2024",
          "14/09/2024",
          "15/09/2024",
          "16/09/2024",
          "17/09/2024",
          "18/09/2024",
          "19/09/2024",
          "20/09/2024",
          "21/09/2024",
          "22/09/2024",
          "23/09/2024",
          "24/09/2024",
          "25/09/2024",
          "26/09/2024",
          "27/09/2024",
          "28/09/2024",
          "29/09/2024",
          "30/09/2024",
          "01/10/2024",
          "02/10/2024",
          "03/10/2024",
          "04/10/2024",
          "05/10/2024",
          "06/10/2024",
          "07/10/2024",
          "08/10/2024",
          "09/10/2024"
         ],
         "x0": " ",
         "xaxis": "x",
         "y": [
          10144.257,
          9949.57,
          9398.552,
          10116.307,
          10695.721,
          10271.1,
          9384.789,
          9018.305,
          9777.709,
          10093.205,
          10968.444,
          10272.078,
          9258.75,
          9223.923,
          9261.121,
          9155.37,
          8778.51,
          8337.314,
          9236.007,
          8771.495,
          8712.808,
          9003.48,
          10321.193,
          10170.486,
          8054.556,
          9631.226,
          10221.698,
          9639.618,
          10001.668,
          8601.95,
          8199.484
         ],
         "y0": " ",
         "yaxis": "y"
        },
        {
         "alignmentgroup": "True",
         "boxpoints": "all",
         "customdata": [
          [
           "Residuos renovables",
           "Renovable",
           0.006347273158027634
          ],
          [
           "Residuos renovables",
           "Renovable",
           0.006098628674646004
          ],
          [
           "Residuos renovables",
           "Renovable",
           0.006299233069279304
          ],
          [
           "Residuos renovables",
           "Renovable",
           0.005932247989922384
          ],
          [
           "Residuos renovables",
           "Renovable",
           0.0053152340410217176
          ],
          [
           "Residuos renovables",
           "Renovable",
           0.0065354352990015215
          ],
          [
           "Residuos renovables",
           "Renovable",
           0.006761881743036039
          ],
          [
           "Residuos renovables",
           "Renovable",
           0.005192780243768928
          ],
          [
           "Residuos renovables",
           "Renovable",
           0.005323289359223048
          ],
          [
           "Residuos renovables",
           "Renovable",
           0.006937484552641573
          ],
          [
           "Residuos renovables",
           "Renovable",
           0.009142112447774624
          ],
          [
           "Residuos renovables",
           "Renovable",
           0.009179692855081958
          ],
          [
           "Residuos renovables",
           "Renovable",
           0.00894244197275235
          ],
          [
           "Residuos renovables",
           "Renovable",
           0.009614640508466082
          ],
          [
           "Residuos renovables",
           "Renovable",
           0.007883185683280572
          ],
          [
           "Residuos renovables",
           "Renovable",
           0.008465640301136966
          ],
          [
           "Residuos renovables",
           "Renovable",
           0.005922986096509892
          ],
          [
           "Residuos renovables",
           "Renovable",
           0.004728485600337115
          ],
          [
           "Residuos renovables",
           "Renovable",
           0.004335858540800198
          ],
          [
           "Residuos renovables",
           "Renovable",
           0.006416504060142765
          ],
          [
           "Residuos renovables",
           "Renovable",
           0.005697853916533961
          ],
          [
           "Residuos renovables",
           "Renovable",
           0.005730181326259189
          ],
          [
           "Residuos renovables",
           "Renovable",
           0.005215446158428852
          ],
          [
           "Residuos renovables",
           "Renovable",
           0.004858505580104297
          ],
          [
           "Residuos renovables",
           "Renovable",
           0.004025488254839649
          ],
          [
           "Residuos renovables",
           "Renovable",
           0.005256025544190538
          ],
          [
           "Residuos renovables",
           "Renovable",
           0.005193002057576528
          ],
          [
           "Residuos renovables",
           "Renovable",
           0.004741646056424488
          ],
          [
           "Residuos renovables",
           "Renovable",
           0.004110765715725988
          ],
          [
           "Residuos renovables",
           "Renovable",
           0.004040713909901015
          ],
          [
           "Residuos renovables",
           "Renovable",
           0.004734822195766815
          ]
         ],
         "fillcolor": "rgba(255,255,255,0)",
         "hoveron": "points",
         "hovertemplate": "nombre=%{customdata[0]}<br>Fecha actualización=%{x}<br>Valores=%{y}<br>tipo de energía=%{customdata[1]}<br>Porcentaje=%{customdata[2]}<extra></extra>",
         "legendgroup": "Residuos renovables",
         "line": {
          "color": "rgba(255,255,255,0)"
         },
         "marker": {
          "color": "#FF6692"
         },
         "name": "Residuos renovables",
         "offsetgroup": "Residuos renovables",
         "orientation": "v",
         "pointpos": 0,
         "showlegend": true,
         "type": "box",
         "x": [
          "09/09/2024",
          "10/09/2024",
          "11/09/2024",
          "12/09/2024",
          "13/09/2024",
          "14/09/2024",
          "15/09/2024",
          "16/09/2024",
          "17/09/2024",
          "18/09/2024",
          "19/09/2024",
          "20/09/2024",
          "21/09/2024",
          "22/09/2024",
          "23/09/2024",
          "24/09/2024",
          "25/09/2024",
          "26/09/2024",
          "27/09/2024",
          "28/09/2024",
          "29/09/2024",
          "30/09/2024",
          "01/10/2024",
          "02/10/2024",
          "03/10/2024",
          "04/10/2024",
          "05/10/2024",
          "06/10/2024",
          "07/10/2024",
          "08/10/2024",
          "09/10/2024"
         ],
         "x0": " ",
         "xaxis": "x",
         "y": [
          2594.6465,
          2542.334,
          2595.7275,
          2525.833,
          2531.372,
          2524.0025,
          2542.7195,
          2477.4715,
          2483.476,
          2665.578,
          2762.55,
          2736.5295,
          2691.659,
          2591.4775,
          2589.4565,
          2577.857,
          2457.8595,
          2382.0615,
          1944.963,
          2177.0895,
          1900.1475,
          1868.2355,
          1945.3,
          2028.8,
          1878.2,
          2021.4,
          1972.75,
          1879.6,
          1856.8,
          1958.8,
          2366.45
         ],
         "y0": " ",
         "yaxis": "y"
        },
        {
         "alignmentgroup": "True",
         "boxpoints": "all",
         "customdata": [
          [
           "Generación renovable",
           "Renovable",
           1
          ],
          [
           "Generación renovable",
           "Renovable",
           1
          ],
          [
           "Generación renovable",
           "Renovable",
           1
          ],
          [
           "Generación renovable",
           "Renovable",
           1
          ],
          [
           "Generación renovable",
           "Renovable",
           1
          ],
          [
           "Generación renovable",
           "Renovable",
           1
          ],
          [
           "Generación renovable",
           "Renovable",
           1
          ],
          [
           "Generación renovable",
           "Renovable",
           1
          ],
          [
           "Generación renovable",
           "Renovable",
           1
          ],
          [
           "Generación renovable",
           "Renovable",
           1
          ],
          [
           "Generación renovable",
           "Renovable",
           1
          ],
          [
           "Generación renovable",
           "Renovable",
           1
          ],
          [
           "Generación renovable",
           "Renovable",
           1
          ],
          [
           "Generación renovable",
           "Renovable",
           1
          ],
          [
           "Generación renovable",
           "Renovable",
           1
          ],
          [
           "Generación renovable",
           "Renovable",
           1
          ],
          [
           "Generación renovable",
           "Renovable",
           1
          ],
          [
           "Generación renovable",
           "Renovable",
           1
          ],
          [
           "Generación renovable",
           "Renovable",
           1
          ],
          [
           "Generación renovable",
           "Renovable",
           1
          ],
          [
           "Generación renovable",
           "Renovable",
           1
          ],
          [
           "Generación renovable",
           "Renovable",
           1
          ],
          [
           "Generación renovable",
           "Renovable",
           1
          ],
          [
           "Generación renovable",
           "Renovable",
           1
          ],
          [
           "Generación renovable",
           "Renovable",
           1
          ],
          [
           "Generación renovable",
           "Renovable",
           1
          ],
          [
           "Generación renovable",
           "Renovable",
           1
          ],
          [
           "Generación renovable",
           "Renovable",
           1
          ],
          [
           "Generación renovable",
           "Renovable",
           1
          ],
          [
           "Generación renovable",
           "Renovable",
           1
          ],
          [
           "Generación renovable",
           "Renovable",
           1
          ]
         ],
         "fillcolor": "rgba(255,255,255,0)",
         "hoveron": "points",
         "hovertemplate": "nombre=%{customdata[0]}<br>Fecha actualización=%{x}<br>Valores=%{y}<br>tipo de energía=%{customdata[1]}<br>Porcentaje=%{customdata[2]}<extra></extra>",
         "legendgroup": "Generación renovable",
         "line": {
          "color": "rgba(255,255,255,0)"
         },
         "marker": {
          "color": "#B6E880"
         },
         "name": "Generación renovable",
         "offsetgroup": "Generación renovable",
         "orientation": "v",
         "pointpos": 0,
         "showlegend": true,
         "type": "box",
         "x": [
          "09/09/2024",
          "10/09/2024",
          "11/09/2024",
          "12/09/2024",
          "13/09/2024",
          "14/09/2024",
          "15/09/2024",
          "16/09/2024",
          "17/09/2024",
          "18/09/2024",
          "19/09/2024",
          "20/09/2024",
          "21/09/2024",
          "22/09/2024",
          "23/09/2024",
          "24/09/2024",
          "25/09/2024",
          "26/09/2024",
          "27/09/2024",
          "28/09/2024",
          "29/09/2024",
          "30/09/2024",
          "01/10/2024",
          "02/10/2024",
          "03/10/2024",
          "04/10/2024",
          "05/10/2024",
          "06/10/2024",
          "07/10/2024",
          "08/10/2024",
          "09/10/2024"
         ],
         "x0": " ",
         "xaxis": "x",
         "y": [
          408781.2884999999,
          416869.78099999996,
          412070.4015,
          425780.076,
          476248.455,
          386202.66049999994,
          376037.26249999995,
          477099.23850000004,
          466530.341,
          384228.31499999994,
          302178.519,
          298106.86950000003,
          300998.207,
          269534.51849999995,
          328478.4354999999,
          304508.21300000005,
          414969.65550000005,
          503768.37350000005,
          448576.21199999994,
          339295.2735,
          333484.7695,
          326034.2725,
          372988.224,
          417576.962,
          466576.942,
          384587.172,
          379886.2349999999,
          396402.42600000004,
          451692.00299999997,
          484765.82200000004,
          499797.0150000001
         ],
         "y0": " ",
         "yaxis": "y"
        },
        {
         "alignmentgroup": "True",
         "boxpoints": "all",
         "customdata": [
          [
           "Turbinación bombeo",
           "No-Renovable",
           0.04715090191814879
          ],
          [
           "Turbinación bombeo",
           "No-Renovable",
           0.05076189593434132
          ],
          [
           "Turbinación bombeo",
           "No-Renovable",
           0.05621963740792447
          ],
          [
           "Turbinación bombeo",
           "No-Renovable",
           0.047752369400006024
          ],
          [
           "Turbinación bombeo",
           "No-Renovable",
           0.050942427893397584
          ],
          [
           "Turbinación bombeo",
           "No-Renovable",
           0.07975283850880145
          ],
          [
           "Turbinación bombeo",
           "No-Renovable",
           0.0726121374575948
          ],
          [
           "Turbinación bombeo",
           "No-Renovable",
           0.060937648012750215
          ],
          [
           "Turbinación bombeo",
           "No-Renovable",
           0.05517141960408998
          ],
          [
           "Turbinación bombeo",
           "No-Renovable",
           0.03128791062649133
          ],
          [
           "Turbinación bombeo",
           "No-Renovable",
           0.023284196517066615
          ],
          [
           "Turbinación bombeo",
           "No-Renovable",
           0.013541297702589343
          ],
          [
           "Turbinación bombeo",
           "No-Renovable",
           0.018830232113740686
          ],
          [
           "Turbinación bombeo",
           "No-Renovable",
           0.027739475158886324
          ],
          [
           "Turbinación bombeo",
           "No-Renovable",
           0.026693245142616548
          ],
          [
           "Turbinación bombeo",
           "No-Renovable",
           0.03700824241433835
          ],
          [
           "Turbinación bombeo",
           "No-Renovable",
           0.04319938867591157
          ],
          [
           "Turbinación bombeo",
           "No-Renovable",
           0.030487660578932953
          ],
          [
           "Turbinación bombeo",
           "No-Renovable",
           0.049725676738246884
          ],
          [
           "Turbinación bombeo",
           "No-Renovable",
           0.05247786002236839
          ],
          [
           "Turbinación bombeo",
           "No-Renovable",
           0.04199310085317813
          ],
          [
           "Turbinación bombeo",
           "No-Renovable",
           0.032400888249607795
          ],
          [
           "Turbinación bombeo",
           "No-Renovable",
           0.025623814114817768
          ],
          [
           "Turbinación bombeo",
           "No-Renovable",
           0.011198123792280537
          ],
          [
           "Turbinación bombeo",
           "No-Renovable",
           0.014983682383563018
          ],
          [
           "Turbinación bombeo",
           "No-Renovable",
           0.03388639697294278
          ],
          [
           "Turbinación bombeo",
           "No-Renovable",
           0.03138660874165654
          ],
          [
           "Turbinación bombeo",
           "No-Renovable",
           0.011563591626028696
          ],
          [
           "Turbinación bombeo",
           "No-Renovable",
           0.035733337192991745
          ],
          [
           "Turbinación bombeo",
           "No-Renovable",
           0.030227259219229197
          ],
          [
           "Turbinación bombeo",
           "No-Renovable",
           0.025923233699183732
          ]
         ],
         "fillcolor": "rgba(255,255,255,0)",
         "hoveron": "points",
         "hovertemplate": "nombre=%{customdata[0]}<br>Fecha actualización=%{x}<br>Valores=%{y}<br>tipo de energía=%{customdata[1]}<br>Porcentaje=%{customdata[2]}<extra></extra>",
         "legendgroup": "Turbinación bombeo",
         "line": {
          "color": "rgba(255,255,255,0)"
         },
         "marker": {
          "color": "#FF97FF"
         },
         "name": "Turbinación bombeo",
         "offsetgroup": "Turbinación bombeo",
         "orientation": "v",
         "pointpos": 0,
         "showlegend": true,
         "type": "box",
         "x": [
          "09/09/2024",
          "10/09/2024",
          "11/09/2024",
          "12/09/2024",
          "13/09/2024",
          "14/09/2024",
          "15/09/2024",
          "16/09/2024",
          "17/09/2024",
          "18/09/2024",
          "19/09/2024",
          "20/09/2024",
          "21/09/2024",
          "22/09/2024",
          "23/09/2024",
          "24/09/2024",
          "25/09/2024",
          "26/09/2024",
          "27/09/2024",
          "28/09/2024",
          "29/09/2024",
          "30/09/2024",
          "01/10/2024",
          "02/10/2024",
          "03/10/2024",
          "04/10/2024",
          "05/10/2024",
          "06/10/2024",
          "07/10/2024",
          "08/10/2024",
          "09/10/2024"
         ],
         "x0": " ",
         "xaxis": "x",
         "y": [
          16718.097,
          18119.192,
          19295.654,
          16742.391,
          15973.392,
          23817.482,
          21897.701,
          19050.059,
          16718.588,
          10965.108,
          9675.002,
          5583.481,
          6637.878,
          9321.993,
          9390.187,
          13349.637,
          13612.451,
          8857.698,
          14534.355,
          15678.775,
          12370.354,
          11484.908,
          9043.6,
          4016,
          4991.7,
          12501.5,
          9067.2,
          3070.9,
          9643.3,
          8103.1,
          6607.4
         ],
         "y0": " ",
         "yaxis": "y"
        },
        {
         "alignmentgroup": "True",
         "boxpoints": "all",
         "customdata": [
          [
           "Nuclear",
           "No-Renovable",
           0.46905207603154725
          ],
          [
           "Nuclear",
           "No-Renovable",
           0.46557742991845974
          ],
          [
           "Nuclear",
           "No-Renovable",
           0.48435400719228305
          ],
          [
           "Nuclear",
           "No-Renovable",
           0.47397223226064
          ],
          [
           "Nuclear",
           "No-Renovable",
           0.5323026497618242
          ],
          [
           "Nuclear",
           "No-Renovable",
           0.5592285718999924
          ],
          [
           "Nuclear",
           "No-Renovable",
           0.5531402287565906
          ],
          [
           "Nuclear",
           "No-Renovable",
           0.5336773099899765
          ],
          [
           "Nuclear",
           "No-Renovable",
           0.5501250886595773
          ],
          [
           "Nuclear",
           "No-Renovable",
           0.47500946482075196
          ],
          [
           "Nuclear",
           "No-Renovable",
           0.4005483401876579
          ],
          [
           "Nuclear",
           "No-Renovable",
           0.4035874324072524
          ],
          [
           "Nuclear",
           "No-Renovable",
           0.47226611847424793
          ],
          [
           "Nuclear",
           "No-Renovable",
           0.4973025460338715
          ],
          [
           "Nuclear",
           "No-Renovable",
           0.474903208674386
          ],
          [
           "Nuclear",
           "No-Renovable",
           0.4633363386414235
          ],
          [
           "Nuclear",
           "No-Renovable",
           0.5286486849520048
          ],
          [
           "Nuclear",
           "No-Renovable",
           0.5713585933567032
          ],
          [
           "Nuclear",
           "No-Renovable",
           0.5698710957808198
          ],
          [
           "Nuclear",
           "No-Renovable",
           0.5605872659047061
          ],
          [
           "Nuclear",
           "No-Renovable",
           0.5645191790488666
          ],
          [
           "Nuclear",
           "No-Renovable",
           0.4621484438259798
          ],
          [
           "Nuclear",
           "No-Renovable",
           0.47328235281580844
          ],
          [
           "Nuclear",
           "No-Renovable",
           0.4673482312510491
          ],
          [
           "Nuclear",
           "No-Renovable",
           0.501996134349825
          ],
          [
           "Nuclear",
           "No-Renovable",
           0.4526175264966402
          ],
          [
           "Nuclear",
           "No-Renovable",
           0.5764437035209695
          ],
          [
           "Nuclear",
           "No-Renovable",
           0.6110568729247436
          ],
          [
           "Nuclear",
           "No-Renovable",
           0.5312892440061192
          ],
          [
           "Nuclear",
           "No-Renovable",
           0.5360152416322472
          ],
          [
           "Nuclear",
           "No-Renovable",
           0.5640879017880044
          ]
         ],
         "fillcolor": "rgba(255,255,255,0)",
         "hoveron": "points",
         "hovertemplate": "nombre=%{customdata[0]}<br>Fecha actualización=%{x}<br>Valores=%{y}<br>tipo de energía=%{customdata[1]}<br>Porcentaje=%{customdata[2]}<extra></extra>",
         "legendgroup": "Nuclear",
         "line": {
          "color": "rgba(255,255,255,0)"
         },
         "marker": {
          "color": "#FECB52"
         },
         "name": "Nuclear",
         "offsetgroup": "Nuclear",
         "orientation": "v",
         "pointpos": 0,
         "showlegend": true,
         "type": "box",
         "x": [
          "09/09/2024",
          "10/09/2024",
          "11/09/2024",
          "12/09/2024",
          "13/09/2024",
          "14/09/2024",
          "15/09/2024",
          "16/09/2024",
          "17/09/2024",
          "18/09/2024",
          "19/09/2024",
          "20/09/2024",
          "21/09/2024",
          "22/09/2024",
          "23/09/2024",
          "24/09/2024",
          "25/09/2024",
          "26/09/2024",
          "27/09/2024",
          "28/09/2024",
          "29/09/2024",
          "30/09/2024",
          "01/10/2024",
          "02/10/2024",
          "03/10/2024",
          "04/10/2024",
          "05/10/2024",
          "06/10/2024",
          "07/10/2024",
          "08/10/2024",
          "09/10/2024"
         ],
         "x0": " ",
         "xaxis": "x",
         "y": [
          166309.822,
          166185.417,
          166239.552,
          166178.737,
          166907.61,
          167008.682,
          166810.946,
          166835.849,
          166704.333,
          166471.01,
          166435.032,
          166411.138,
          166479.354,
          167121.073,
          167062.113,
          167134.982,
          166581.161,
          165999.023,
          166568.046,
          167486.281,
          166296.414,
          163814.409,
          167039,
          167605.8,
          167236.2,
          166981.4,
          166527.4,
          162276.1,
          143378.2,
          143691,
          143776.6
         ],
         "y0": " ",
         "yaxis": "y"
        },
        {
         "alignmentgroup": "True",
         "boxpoints": "all",
         "customdata": [
          [
           "Ciclo combinado",
           "No-Renovable",
           0.28225416425497857
          ],
          [
           "Ciclo combinado",
           "No-Renovable",
           0.27583751373059157
          ],
          [
           "Ciclo combinado",
           "No-Renovable",
           0.2381187593045791
          ],
          [
           "Ciclo combinado",
           "No-Renovable",
           0.2583510417793754
          ],
          [
           "Ciclo combinado",
           "No-Renovable",
           0.2004356779864291
          ],
          [
           "Ciclo combinado",
           "No-Renovable",
           0.17949546191607382
          ],
          [
           "Ciclo combinado",
           "No-Renovable",
           0.21137140334323834
          ],
          [
           "Ciclo combinado",
           "No-Renovable",
           0.23845892383484066
          ],
          [
           "Ciclo combinado",
           "No-Renovable",
           0.21908188271395082
          ],
          [
           "Ciclo combinado",
           "No-Renovable",
           0.2847262533524637
          ],
          [
           "Ciclo combinado",
           "No-Renovable",
           0.3820515371360584
          ],
          [
           "Ciclo combinado",
           "No-Renovable",
           0.3840194958098733
          ],
          [
           "Ciclo combinado",
           "No-Renovable",
           0.3043747370619531
          ],
          [
           "Ciclo combinado",
           "No-Renovable",
           0.27255447437631386
          ],
          [
           "Ciclo combinado",
           "No-Renovable",
           0.2746637016927284
          ],
          [
           "Ciclo combinado",
           "No-Renovable",
           0.2739851070846534
          ],
          [
           "Ciclo combinado",
           "No-Renovable",
           0.19838005660363683
          ],
          [
           "Ciclo combinado",
           "No-Renovable",
           0.20553333799865287
          ],
          [
           "Ciclo combinado",
           "No-Renovable",
           0.19792934735534884
          ],
          [
           "Ciclo combinado",
           "No-Renovable",
           0.22136725122371453
          ],
          [
           "Ciclo combinado",
           "No-Renovable",
           0.22830465659185276
          ],
          [
           "Ciclo combinado",
           "No-Renovable",
           0.31581596804255463
          ],
          [
           "Ciclo combinado",
           "No-Renovable",
           0.28852601695333946
          ],
          [
           "Ciclo combinado",
           "No-Renovable",
           0.3126896051346922
          ],
          [
           "Ciclo combinado",
           "No-Renovable",
           0.29480011319843796
          ],
          [
           "Ciclo combinado",
           "No-Renovable",
           0.3138891300030864
          ],
          [
           "Ciclo combinado",
           "No-Renovable",
           0.188631978145516
          ],
          [
           "Ciclo combinado",
           "No-Renovable",
           0.2050821972017012
          ],
          [
           "Ciclo combinado",
           "No-Renovable",
           0.22223102033631265
          ],
          [
           "Ciclo combinado",
           "No-Renovable",
           0.23921587570226915
          ],
          [
           "Ciclo combinado",
           "No-Renovable",
           0.2053911922249131
          ]
         ],
         "fillcolor": "rgba(255,255,255,0)",
         "hoveron": "points",
         "hovertemplate": "nombre=%{customdata[0]}<br>Fecha actualización=%{x}<br>Valores=%{y}<br>tipo de energía=%{customdata[1]}<br>Porcentaje=%{customdata[2]}<extra></extra>",
         "legendgroup": "Ciclo combinado",
         "line": {
          "color": "rgba(255,255,255,0)"
         },
         "marker": {
          "color": "#636efa"
         },
         "name": "Ciclo combinado",
         "offsetgroup": "Ciclo combinado",
         "orientation": "v",
         "pointpos": 0,
         "showlegend": true,
         "type": "box",
         "x": [
          "09/09/2024",
          "10/09/2024",
          "11/09/2024",
          "12/09/2024",
          "13/09/2024",
          "14/09/2024",
          "15/09/2024",
          "16/09/2024",
          "17/09/2024",
          "18/09/2024",
          "19/09/2024",
          "20/09/2024",
          "21/09/2024",
          "22/09/2024",
          "23/09/2024",
          "24/09/2024",
          "25/09/2024",
          "26/09/2024",
          "27/09/2024",
          "28/09/2024",
          "29/09/2024",
          "30/09/2024",
          "01/10/2024",
          "02/10/2024",
          "03/10/2024",
          "04/10/2024",
          "05/10/2024",
          "06/10/2024",
          "07/10/2024",
          "08/10/2024",
          "09/10/2024"
         ],
         "x0": " ",
         "xaxis": "x",
         "y": [
          100077.672,
          98458.751,
          81726.909,
          90580.095,
          62848.156,
          53604.737,
          63743.445,
          74545.978,
          66388.354,
          99784.679,
          158749.278,
          158342.694,
          107295.67,
          91593.33,
          96621.58,
          98832.084,
          62511.042,
          59714.396,
          57852.916,
          66137.745,
          67254.129,
          111944.997,
          101831.596,
          112140.344,
          98210.419,
          115801.186,
          54493.427,
          54462.916,
          59973.139,
          64127.222,
          52350.79
         ],
         "y0": " ",
         "yaxis": "y"
        },
        {
         "alignmentgroup": "True",
         "boxpoints": "all",
         "customdata": [
          [
           "Carbón",
           "No-Renovable",
           0.022057505606339584
          ],
          [
           "Carbón",
           "No-Renovable",
           0.03318698808690964
          ],
          [
           "Carbón",
           "No-Renovable",
           0.036965543511116514
          ],
          [
           "Carbón",
           "No-Renovable",
           0.037122903707961605
          ],
          [
           "Carbón",
           "No-Renovable",
           0.03913052323452693
          ],
          [
           "Carbón",
           "No-Renovable",
           0.019542515707792578
          ],
          [
           "Carbón",
           "No-Renovable",
           0.019491465467885292
          ],
          [
           "Carbón",
           "No-Renovable",
           0.025222129554455516
          ],
          [
           "Carbón",
           "No-Renovable",
           0.028784865523552947
          ],
          [
           "Carbón",
           "No-Renovable",
           0.025238777266114745
          ],
          [
           "Carbón",
           "No-Renovable",
           0.022466527903473303
          ],
          [
           "Carbón",
           "No-Renovable",
           0.022635320772322054
          ],
          [
           "Carbón",
           "No-Renovable",
           0.016810066805546958
          ],
          [
           "Carbón",
           "No-Renovable",
           0.02260935859981249
          ],
          [
           "Carbón",
           "No-Renovable",
           0.03221380146072506
          ],
          [
           "Carbón",
           "No-Renovable",
           0.036138278340782405
          ],
          [
           "Carbón",
           "No-Renovable",
           0.04110853708471734
          ],
          [
           "Carbón",
           "No-Renovable",
           0.045749863941422504
          ],
          [
           "Carbón",
           "No-Renovable",
           0.03977739383966737
          ],
          [
           "Carbón",
           "No-Renovable",
           0.02509598638402402
          ],
          [
           "Carbón",
           "No-Renovable",
           0.02095836393722123
          ],
          [
           "Carbón",
           "No-Renovable",
           0.02375767260273044
          ],
          [
           "Carbón",
           "No-Renovable",
           0.02522062636342025
          ],
          [
           "Carbón",
           "No-Renovable",
           0.02443733986940902
          ],
          [
           "Carbón",
           "No-Renovable",
           0.028108099813627444
          ],
          [
           "Carbón",
           "No-Renovable",
           0.02547002592938902
          ],
          [
           "Carbón",
           "No-Renovable",
           0.01997143981989891
          ],
          [
           "Carbón",
           "No-Renovable",
           0.022156427473233528
          ],
          [
           "Carbón",
           "No-Renovable",
           0.029680758410725018
          ],
          [
           "Carbón",
           "No-Renovable",
           0.032692636126584226
          ],
          [
           "Carbón",
           "No-Renovable",
           0.03850389192780657
          ]
         ],
         "fillcolor": "rgba(255,255,255,0)",
         "hoveron": "points",
         "hovertemplate": "nombre=%{customdata[0]}<br>Fecha actualización=%{x}<br>Valores=%{y}<br>tipo de energía=%{customdata[1]}<br>Porcentaje=%{customdata[2]}<extra></extra>",
         "legendgroup": "Carbón",
         "line": {
          "color": "rgba(255,255,255,0)"
         },
         "marker": {
          "color": "#EF553B"
         },
         "name": "Carbón",
         "offsetgroup": "Carbón",
         "orientation": "v",
         "pointpos": 0,
         "showlegend": true,
         "type": "box",
         "x": [
          "09/09/2024",
          "10/09/2024",
          "11/09/2024",
          "12/09/2024",
          "13/09/2024",
          "14/09/2024",
          "15/09/2024",
          "16/09/2024",
          "17/09/2024",
          "18/09/2024",
          "19/09/2024",
          "20/09/2024",
          "21/09/2024",
          "22/09/2024",
          "23/09/2024",
          "24/09/2024",
          "25/09/2024",
          "26/09/2024",
          "27/09/2024",
          "28/09/2024",
          "29/09/2024",
          "30/09/2024",
          "01/10/2024",
          "02/10/2024",
          "03/10/2024",
          "04/10/2024",
          "05/10/2024",
          "06/10/2024",
          "07/10/2024",
          "08/10/2024",
          "09/10/2024"
         ],
         "x0": " ",
         "xaxis": "x",
         "y": [
          7820.837,
          11845.921,
          12687.281,
          13015.609,
          12269.678,
          5836.2,
          5878.057,
          7884.831,
          8722.674,
          8845.139,
          9335.246,
          9333.218,
          5925.746,
          7597.991,
          11332.216,
          13035.823,
          12953.608,
          13291.885,
          11626.564,
          7497.911,
          6173.928,
          8421.21,
          8901.3,
          8764,
          9364,
          9396.5,
          5769.5,
          5884,
          8009.9,
          8764,
          9814
         ],
         "y0": " ",
         "yaxis": "y"
        },
        {
         "alignmentgroup": "True",
         "boxpoints": "all",
         "customdata": [
          [
           "Motores diésel",
           "No-Renovable",
           0.021785993234042768
          ],
          [
           "Motores diésel",
           "No-Renovable",
           0.020416518528659108
          ],
          [
           "Motores diésel",
           "No-Renovable",
           0.020957145913478657
          ],
          [
           "Motores diésel",
           "No-Renovable",
           0.019532693026530275
          ],
          [
           "Motores diésel",
           "No-Renovable",
           0.02414779895283653
          ],
          [
           "Motores diésel",
           "No-Renovable",
           0.023187669369746082
          ],
          [
           "Motores diésel",
           "No-Renovable",
           0.02254011598075481
          ],
          [
           "Motores diésel",
           "No-Renovable",
           0.02537395179553
          ],
          [
           "Motores diésel",
           "No-Renovable",
           0.026165866263717606
          ],
          [
           "Motores diésel",
           "No-Renovable",
           0.02231615281385502
          ],
          [
           "Motores diésel",
           "No-Renovable",
           0.0194346975133328
          ],
          [
           "Motores diésel",
           "No-Renovable",
           0.01929690115084482
          ],
          [
           "Motores diésel",
           "No-Renovable",
           0.022287663004568362
          ],
          [
           "Motores diésel",
           "No-Renovable",
           0.019828276242738238
          ],
          [
           "Motores diésel",
           "No-Renovable",
           0.01926433889328391
          ],
          [
           "Motores diésel",
           "No-Renovable",
           0.0187713681803345
          ],
          [
           "Motores diésel",
           "No-Renovable",
           0.023970962937261687
          ],
          [
           "Motores diésel",
           "No-Renovable",
           0.02574682260926553
          ],
          [
           "Motores diésel",
           "No-Renovable",
           0.02472076921026541
          ],
          [
           "Motores diésel",
           "No-Renovable",
           0.02233665026294692
          ],
          [
           "Motores diésel",
           "No-Renovable",
           0.022424465098269234
          ],
          [
           "Motores diésel",
           "No-Renovable",
           0.018199215496413023
          ],
          [
           "Motores diésel",
           "No-Renovable",
           0.018522989305162975
          ],
          [
           "Motores diésel",
           "No-Renovable",
           0.01878533783922487
          ],
          [
           "Motores diésel",
           "No-Renovable",
           0.020397871533652783
          ],
          [
           "Motores diésel",
           "No-Renovable",
           0.019602825947964128
          ],
          [
           "Motores diésel",
           "No-Renovable",
           0.024980589851274097
          ],
          [
           "Motores diésel",
           "No-Renovable",
           0.027933132278439615
          ],
          [
           "Motores diésel",
           "No-Renovable",
           0.030530865222584504
          ],
          [
           "Motores diésel",
           "No-Renovable",
           0.03239773840221739
          ],
          [
           "Motores diésel",
           "No-Renovable",
           0.033875201526031566
          ]
         ],
         "fillcolor": "rgba(255,255,255,0)",
         "hoveron": "points",
         "hovertemplate": "nombre=%{customdata[0]}<br>Fecha actualización=%{x}<br>Valores=%{y}<br>tipo de energía=%{customdata[1]}<br>Porcentaje=%{customdata[2]}<extra></extra>",
         "legendgroup": "Motores diésel",
         "line": {
          "color": "rgba(255,255,255,0)"
         },
         "marker": {
          "color": "#00cc96"
         },
         "name": "Motores diésel",
         "offsetgroup": "Motores diésel",
         "orientation": "v",
         "pointpos": 0,
         "showlegend": true,
         "type": "box",
         "x": [
          "09/09/2024",
          "10/09/2024",
          "11/09/2024",
          "12/09/2024",
          "13/09/2024",
          "14/09/2024",
          "15/09/2024",
          "16/09/2024",
          "17/09/2024",
          "18/09/2024",
          "19/09/2024",
          "20/09/2024",
          "21/09/2024",
          "22/09/2024",
          "23/09/2024",
          "24/09/2024",
          "25/09/2024",
          "26/09/2024",
          "27/09/2024",
          "28/09/2024",
          "29/09/2024",
          "30/09/2024",
          "01/10/2024",
          "02/10/2024",
          "03/10/2024",
          "04/10/2024",
          "05/10/2024",
          "06/10/2024",
          "07/10/2024",
          "08/10/2024",
          "09/10/2024"
         ],
         "x0": " ",
         "xaxis": "x",
         "y": [
          7724.568,
          7287.569,
          7192.893,
          6848.33,
          7571.729,
          6924.793,
          6797.441,
          7932.293,
          7929.039,
          7820.881,
          8075.466,
          7956.688,
          7856.663,
          6663.394,
          6776.836,
          6771.22,
          7553.43,
          7480.324,
          7225.652,
          6673.506,
          6605.813,
          6450.944,
          6537.454,
          6737.014,
          6795.396,
          7231.95,
          7216.581,
          7418.098,
          8239.317,
          8684.946,
          8634.224
         ],
         "y0": " ",
         "yaxis": "y"
        },
        {
         "alignmentgroup": "True",
         "boxpoints": "all",
         "customdata": [
          [
           "Turbina de gas",
           "No-Renovable",
           0.0051527249056169165
          ],
          [
           "Turbina de gas",
           "No-Renovable",
           0.0044665904802716734
          ],
          [
           "Turbina de gas",
           "No-Renovable",
           0.004960251171794086
          ],
          [
           "Turbina de gas",
           "No-Renovable",
           0.004563581830304945
          ],
          [
           "Turbina de gas",
           "No-Renovable",
           0.003337107981159029
          ],
          [
           "Turbina de gas",
           "No-Renovable",
           0.003464023251381279
          ],
          [
           "Turbina de gas",
           "No-Renovable",
           0.00431461521913186
          ],
          [
           "Turbina de gas",
           "No-Renovable",
           0.007897382764433343
          ],
          [
           "Turbina de gas",
           "No-Renovable",
           0.010012171473473367
          ],
          [
           "Turbina de gas",
           "No-Renovable",
           0.009188625268145666
          ],
          [
           "Turbina de gas",
           "No-Renovable",
           0.007320525805325766
          ],
          [
           "Turbina de gas",
           "No-Renovable",
           0.006350656197913249
          ],
          [
           "Turbina de gas",
           "No-Renovable",
           0.005833618378208594
          ],
          [
           "Turbina de gas",
           "No-Renovable",
           0.004203619773609618
          ],
          [
           "Turbina de gas",
           "No-Renovable",
           0.006926361195034719
          ],
          [
           "Turbina de gas",
           "No-Renovable",
           0.005125681149331951
          ],
          [
           "Turbina de gas",
           "No-Renovable",
           0.006897938191355252
          ],
          [
           "Turbina de gas",
           "No-Renovable",
           0.00870898117439626
          ],
          [
           "Turbina de gas",
           "No-Renovable",
           0.009302607301525111
          ],
          [
           "Turbina de gas",
           "No-Renovable",
           0.004975005324216204
          ],
          [
           "Turbina de gas",
           "No-Renovable",
           0.0042393962243834245
          ],
          [
           "Turbina de gas",
           "No-Renovable",
           0.004957550525587453
          ],
          [
           "Turbina de gas",
           "No-Renovable",
           0.005144188369158784
          ],
          [
           "Turbina de gas",
           "No-Renovable",
           0.00418369266196038
          ],
          [
           "Turbina de gas",
           "No-Renovable",
           0.005243688490380896
          ],
          [
           "Turbina de gas",
           "No-Renovable",
           0.0027857049707838218
          ],
          [
           "Turbina de gas",
           "No-Renovable",
           0.003651960973850814
          ],
          [
           "Turbina de gas",
           "No-Renovable",
           0.004656799819076428
          ],
          [
           "Turbina de gas",
           "No-Renovable",
           0.008880138007689456
          ],
          [
           "Turbina de gas",
           "No-Renovable",
           0.009992412465905084
          ],
          [
           "Turbina de gas",
           "No-Renovable",
           0.00817885987637677
          ]
         ],
         "fillcolor": "rgba(255,255,255,0)",
         "hoveron": "points",
         "hovertemplate": "nombre=%{customdata[0]}<br>Fecha actualización=%{x}<br>Valores=%{y}<br>tipo de energía=%{customdata[1]}<br>Porcentaje=%{customdata[2]}<extra></extra>",
         "legendgroup": "Turbina de gas",
         "line": {
          "color": "rgba(255,255,255,0)"
         },
         "marker": {
          "color": "#ab63fa"
         },
         "name": "Turbina de gas",
         "offsetgroup": "Turbina de gas",
         "orientation": "v",
         "pointpos": 0,
         "showlegend": true,
         "type": "box",
         "x": [
          "09/09/2024",
          "10/09/2024",
          "11/09/2024",
          "12/09/2024",
          "13/09/2024",
          "14/09/2024",
          "15/09/2024",
          "16/09/2024",
          "17/09/2024",
          "18/09/2024",
          "19/09/2024",
          "20/09/2024",
          "21/09/2024",
          "22/09/2024",
          "23/09/2024",
          "24/09/2024",
          "25/09/2024",
          "26/09/2024",
          "27/09/2024",
          "28/09/2024",
          "29/09/2024",
          "30/09/2024",
          "01/10/2024",
          "02/10/2024",
          "03/10/2024",
          "04/10/2024",
          "05/10/2024",
          "06/10/2024",
          "07/10/2024",
          "08/10/2024",
          "09/10/2024"
         ],
         "x0": " ",
         "xaxis": "x",
         "y": [
          1826.98,
          1594.326,
          1702.453,
          1600.031,
          1046.376,
          1034.5,
          1301.162,
          2468.845,
          3033.987,
          3220.23,
          3041.81,
          2618.565,
          2056.419,
          1412.648,
          2436.565,
          1848.939,
          2173.592,
          2530.254,
          2719.066,
          1486.379,
          1248.844,
          1757.267,
          1815.576,
          1500.404,
          1746.895,
          1027.713,
          1055.006,
          1236.689,
          2396.469,
          2678.692,
          2084.655
         ],
         "y0": " ",
         "yaxis": "y"
        },
        {
         "alignmentgroup": "True",
         "boxpoints": "all",
         "customdata": [
          [
           "Turbina de vapor",
           "No-Renovable",
           0.0060082614652779195
          ],
          [
           "Turbina de vapor",
           "No-Renovable",
           0.005858915222298623
          ],
          [
           "Turbina de vapor",
           "No-Renovable",
           0.006176861745066314
          ],
          [
           "Turbina de vapor",
           "No-Renovable",
           0.006208327604247645
          ],
          [
           "Turbina de vapor",
           "No-Renovable",
           0.006805027599877788
          ],
          [
           "Turbina de vapor",
           "No-Renovable",
           0.004537100304309169
          ],
          [
           "Turbina de vapor",
           "No-Renovable",
           0.004613447193115841
          ],
          [
           "Turbina de vapor",
           "No-Renovable",
           0.005590437701566541
          ],
          [
           "Turbina de vapor",
           "No-Renovable",
           0.006796429056953554
          ],
          [
           "Turbina de vapor",
           "No-Renovable",
           0.005534978040083576
          ],
          [
           "Turbina de vapor",
           "No-Renovable",
           0.005848933603393376
          ],
          [
           "Turbina de vapor",
           "No-Renovable",
           0.004314592018550082
          ],
          [
           "Turbina de vapor",
           "No-Renovable",
           0.008286662879029285
          ],
          [
           "Turbina de vapor",
           "No-Renovable",
           0.006685254241727733
          ],
          [
           "Turbina de vapor",
           "No-Renovable",
           0.0066305212170622635
          ],
          [
           "Turbina de vapor",
           "No-Renovable",
           0.006032477049005484
          ],
          [
           "Turbina de vapor",
           "No-Renovable",
           0.006922209274100994
          ],
          [
           "Turbina de vapor",
           "No-Renovable",
           0.008931034458961764
          ],
          [
           "Turbina de vapor",
           "No-Renovable",
           0.008091121791017513
          ],
          [
           "Turbina de vapor",
           "No-Renovable",
           0.007867403966133692
          ],
          [
           "Turbina de vapor",
           "No-Renovable",
           0.007431602066228881
          ],
          [
           "Turbina de vapor",
           "No-Renovable",
           0.007440838251237238
          ],
          [
           "Turbina de vapor",
           "No-Renovable",
           0.006825583293604135
          ],
          [
           "Turbina de vapor",
           "No-Renovable",
           0.006236998039988155
          ],
          [
           "Turbina de vapor",
           "No-Renovable",
           0.006304859309925257
          ],
          [
           "Turbina de vapor",
           "No-Renovable",
           0.005093408856850563
          ],
          [
           "Turbina de vapor",
           "No-Renovable",
           0.008064280129166114
          ],
          [
           "Turbina de vapor",
           "No-Renovable",
           0.009636524673375418
          ],
          [
           "Turbina de vapor",
           "No-Renovable",
           0.010825482183743003
          ],
          [
           "Turbina de vapor",
           "No-Renovable",
           0.01170108764677521
          ],
          [
           "Turbina de vapor",
           "No-Renovable",
           0.010478543466898041
          ]
         ],
         "fillcolor": "rgba(255,255,255,0)",
         "hoveron": "points",
         "hovertemplate": "nombre=%{customdata[0]}<br>Fecha actualización=%{x}<br>Valores=%{y}<br>tipo de energía=%{customdata[1]}<br>Porcentaje=%{customdata[2]}<extra></extra>",
         "legendgroup": "Turbina de vapor",
         "line": {
          "color": "rgba(255,255,255,0)"
         },
         "marker": {
          "color": "#FFA15A"
         },
         "name": "Turbina de vapor",
         "offsetgroup": "Turbina de vapor",
         "orientation": "v",
         "pointpos": 0,
         "showlegend": true,
         "type": "box",
         "x": [
          "09/09/2024",
          "10/09/2024",
          "11/09/2024",
          "12/09/2024",
          "13/09/2024",
          "14/09/2024",
          "15/09/2024",
          "16/09/2024",
          "17/09/2024",
          "18/09/2024",
          "19/09/2024",
          "20/09/2024",
          "21/09/2024",
          "22/09/2024",
          "23/09/2024",
          "24/09/2024",
          "25/09/2024",
          "26/09/2024",
          "27/09/2024",
          "28/09/2024",
          "29/09/2024",
          "30/09/2024",
          "01/10/2024",
          "02/10/2024",
          "03/10/2024",
          "04/10/2024",
          "05/10/2024",
          "06/10/2024",
          "07/10/2024",
          "08/10/2024",
          "09/10/2024"
         ],
         "x0": " ",
         "xaxis": "x",
         "y": [
          2130.324,
          2091.309,
          2120.017,
          2176.693,
          2133.769,
          1354.965,
          1391.281,
          1747.658,
          2059.521,
          1939.779,
          2430.337,
          1779.035,
          2921.146,
          2246.614,
          2332.494,
          2176.039,
          2181.24,
          2594.768,
          2364.96,
          2350.539,
          2189.206,
          2637.5,
          2409.003,
          2236.784,
          2100.416,
          1879.08,
          2329.67,
          2559.136,
          2921.456,
          3136.741,
          2670.806
         ],
         "y0": " ",
         "yaxis": "y"
        },
        {
         "alignmentgroup": "True",
         "boxpoints": "all",
         "customdata": [
          [
           "Fuel + Gas",
           "No-Renovable",
           3.1988167602394415e-9
          ],
          [
           "Fuel + Gas",
           "No-Renovable",
           2.8534065169710447e-9
          ]
         ],
         "fillcolor": "rgba(255,255,255,0)",
         "hoveron": "points",
         "hovertemplate": "nombre=%{customdata[0]}<br>Fecha actualización=%{x}<br>Valores=%{y}<br>tipo de energía=%{customdata[1]}<br>Porcentaje=%{customdata[2]}<extra></extra>",
         "legendgroup": "Fuel + Gas",
         "line": {
          "color": "rgba(255,255,255,0)"
         },
         "marker": {
          "color": "#19d3f3"
         },
         "name": "Fuel + Gas",
         "offsetgroup": "Fuel + Gas",
         "orientation": "v",
         "pointpos": 0,
         "showlegend": true,
         "type": "box",
         "x": [
          "16/09/2024",
          "18/09/2024"
         ],
         "x0": " ",
         "xaxis": "x",
         "y": [
          -0.001,
          0.001
         ],
         "y0": " ",
         "yaxis": "y"
        },
        {
         "alignmentgroup": "True",
         "boxpoints": "all",
         "customdata": [
          [
           "Cogeneración",
           "No-Renovable",
           0.1323678671998914
          ],
          [
           "Cogeneración",
           "No-Renovable",
           0.13010589075908655
          ],
          [
           "Cogeneración",
           "No-Renovable",
           0.13759062481577458
          ],
          [
           "Cogeneración",
           "No-Renovable",
           0.13846466432288684
          ],
          [
           "Cogeneración",
           "No-Renovable",
           0.12791211088277782
          ],
          [
           "Cogeneración",
           "No-Renovable",
           0.1160513520267755
          ],
          [
           "Cogeneración",
           "No-Renovable",
           0.0976480089252405
          ],
          [
           "Cogeneración",
           "No-Renovable",
           0.08952190351950566
          ],
          [
           "Cogeneración",
           "No-Renovable",
           0.0901983133886987
          ],
          [
           "Cogeneración",
           "No-Renovable",
           0.13714755182814173
          ],
          [
           "Cogeneración",
           "No-Renovable",
           0.12946390113619322
          ],
          [
           "Cogeneración",
           "No-Renovable",
           0.13570886151127295
          ],
          [
           "Cogeneración",
           "No-Renovable",
           0.13977776502233205
          ],
          [
           "Cogeneración",
           "No-Renovable",
           0.13704378105280093
          ],
          [
           "Cogeneración",
           "No-Renovable",
           0.14437545815118427
          ],
          [
           "Cogeneración",
           "No-Renovable",
           0.14587234199402338
          ],
          [
           "Cogeneración",
           "No-Renovable",
           0.13625264444085744
          ],
          [
           "Cogeneración",
           "No-Renovable",
           0.08953177488313459
          ],
          [
           "Cogeneración",
           "No-Renovable",
           0.0885877935586896
          ],
          [
           "Cogeneración",
           "No-Renovable",
           0.09330659589443098
          ],
          [
           "Cogeneración",
           "No-Renovable",
           0.09924348131141107
          ],
          [
           "Cogeneración",
           "No-Renovable",
           0.12545444284855978
          ],
          [
           "Cogeneración",
           "No-Renovable",
           0.144811780156685
          ],
          [
           "Cogeneración",
           "No-Renovable",
           0.14279409126982837
          ],
          [
           "Cogeneración",
           "No-Renovable",
           0.11565828698493578
          ],
          [
           "Cogeneración",
           "No-Renovable",
           0.1349097385135435
          ],
          [
           "Cogeneración",
           "No-Renovable",
           0.13249515986383822
          ],
          [
           "Cogeneración",
           "No-Renovable",
           0.09408476141656526
          ],
          [
           "Cogeneración",
           "No-Renovable",
           0.11717472366470592
          ],
          [
           "Cogeneración",
           "No-Renovable",
           0.093878672815205
          ],
          [
           "Cogeneración",
           "No-Renovable",
           0.09749402005800104
          ]
         ],
         "fillcolor": "rgba(255,255,255,0)",
         "hoveron": "points",
         "hovertemplate": "nombre=%{customdata[0]}<br>Fecha actualización=%{x}<br>Valores=%{y}<br>tipo de energía=%{customdata[1]}<br>Porcentaje=%{customdata[2]}<extra></extra>",
         "legendgroup": "Cogeneración",
         "line": {
          "color": "rgba(255,255,255,0)"
         },
         "marker": {
          "color": "#FF6692"
         },
         "name": "Cogeneración",
         "offsetgroup": "Cogeneración",
         "orientation": "v",
         "pointpos": 0,
         "showlegend": true,
         "type": "box",
         "x": [
          "09/09/2024",
          "10/09/2024",
          "11/09/2024",
          "12/09/2024",
          "13/09/2024",
          "14/09/2024",
          "15/09/2024",
          "16/09/2024",
          "17/09/2024",
          "18/09/2024",
          "19/09/2024",
          "20/09/2024",
          "21/09/2024",
          "22/09/2024",
          "23/09/2024",
          "24/09/2024",
          "25/09/2024",
          "26/09/2024",
          "27/09/2024",
          "28/09/2024",
          "29/09/2024",
          "30/09/2024",
          "01/10/2024",
          "02/10/2024",
          "03/10/2024",
          "04/10/2024",
          "05/10/2024",
          "06/10/2024",
          "07/10/2024",
          "08/10/2024",
          "09/10/2024"
         ],
         "x0": " ",
         "xaxis": "x",
         "y": [
          46933.118,
          46440.614,
          47223.732,
          48546.901,
          40107.831,
          34657.713,
          29447.789,
          27985.943,
          27332.783,
          48064.498,
          53794.577,
          55956.812,
          49273.304,
          46054.266,
          50788.6,
          52619.165,
          42934.229,
          26012.013,
          25893.392,
          27877.149,
          29235.207,
          44468.927,
          51109.48,
          51210.46,
          38530.68,
          49771.42,
          38276.2,
          24985.74,
          31621.76,
          25166.3,
          24849.6
         ],
         "y0": " ",
         "yaxis": "y"
        },
        {
         "alignmentgroup": "True",
         "boxpoints": "all",
         "customdata": [
          [
           "Residuos no renovables",
           "No-Renovable",
           0.014170505384156562
          ],
          [
           "Residuos no renovables",
           "No-Renovable",
           0.013788257339381757
          ],
          [
           "Residuos no renovables",
           "No-Renovable",
           0.014657168937983222
          ],
          [
           "Residuos no renovables",
           "No-Renovable",
           0.01403218606804707
          ],
          [
           "Residuos no renovables",
           "No-Renovable",
           0.014986675707170976
          ],
          [
           "Residuos no renovables",
           "No-Renovable",
           0.01474046701512776
          ],
          [
           "Residuos no renovables",
           "No-Renovable",
           0.014268577656447803
          ],
          [
           "Residuos no renovables",
           "No-Renovable",
           0.013320309628124805
          ],
          [
           "Residuos no renovables",
           "No-Renovable",
           0.013663963315985735
          ],
          [
           "Residuos no renovables",
           "No-Renovable",
           0.009550283130545678
          ],
          [
           "Residuos no renovables",
           "No-Renovable",
           0.009581340197498608
          ],
          [
           "Residuos no renovables",
           "No-Renovable",
           0.010545442429381928
          ],
          [
           "Residuos no renovables",
           "No-Renovable",
           0.011533136260373009
          ],
          [
           "Residuos no renovables",
           "No-Renovable",
           0.012033214520239475
          ],
          [
           "Residuos no renovables",
           "No-Renovable",
           0.014329363572978843
          ],
          [
           "Residuos no renovables",
           "No-Renovable",
           0.013730165146107262
          ],
          [
           "Residuos no renovables",
           "No-Renovable",
           0.014619577840154274
          ],
          [
           "Residuos no renovables",
           "No-Renovable",
           0.013951930998530277
          ],
          [
           "Residuos no renovables",
           "No-Renovable",
           0.011994194424419386
          ],
          [
           "Residuos no renovables",
           "No-Renovable",
           0.011985981017459093
          ],
          [
           "Residuos no renovables",
           "No-Renovable",
           0.010885754868588567
          ],
          [
           "Residuos no renovables",
           "No-Renovable",
           0.009824980157329731
          ],
          [
           "Residuos no renovables",
           "No-Renovable",
           0.012042648628003224
          ],
          [
           "Residuos no renovables",
           "No-Renovable",
           0.012326580141567373
          ],
          [
           "Residuos no renovables",
           "No-Renovable",
           0.012507263935651587
          ],
          [
           "Residuos no renovables",
           "No-Renovable",
           0.011745242308799616
          ],
          [
           "Residuos no renovables",
           "No-Renovable",
           0.014374278953829834
          ],
          [
           "Residuos no renovables",
           "No-Renovable",
           0.013829692586836298
          ],
          [
           "Residuos no renovables",
           "No-Renovable",
           0.013654430975128357
          ],
          [
           "Residuos no renovables",
           "No-Renovable",
           0.013879075989567466
          ],
          [
           "Residuos no renovables",
           "No-Renovable",
           0.016067155432784783
          ]
         ],
         "fillcolor": "rgba(255,255,255,0)",
         "hoveron": "points",
         "hovertemplate": "nombre=%{customdata[0]}<br>Fecha actualización=%{x}<br>Valores=%{y}<br>tipo de energía=%{customdata[1]}<br>Porcentaje=%{customdata[2]}<extra></extra>",
         "legendgroup": "Residuos no renovables",
         "line": {
          "color": "rgba(255,255,255,0)"
         },
         "marker": {
          "color": "#B6E880"
         },
         "name": "Residuos no renovables",
         "offsetgroup": "Residuos no renovables",
         "orientation": "v",
         "pointpos": 0,
         "showlegend": true,
         "type": "box",
         "x": [
          "09/09/2024",
          "10/09/2024",
          "11/09/2024",
          "12/09/2024",
          "13/09/2024",
          "14/09/2024",
          "15/09/2024",
          "16/09/2024",
          "17/09/2024",
          "18/09/2024",
          "19/09/2024",
          "20/09/2024",
          "21/09/2024",
          "22/09/2024",
          "23/09/2024",
          "24/09/2024",
          "25/09/2024",
          "26/09/2024",
          "27/09/2024",
          "28/09/2024",
          "29/09/2024",
          "30/09/2024",
          "01/10/2024",
          "02/10/2024",
          "03/10/2024",
          "04/10/2024",
          "05/10/2024",
          "06/10/2024",
          "07/10/2024",
          "08/10/2024",
          "09/10/2024"
         ],
         "x0": " ",
         "xaxis": "x",
         "y": [
          5024.3765,
          4921.646,
          5030.6205,
          4919.805,
          4699.188,
          4402.1105,
          4302.9865,
          4164.1365,
          4140.589,
          3346.976,
          3981.219,
          4348.2005,
          4065.566,
          4043.8235,
          5040.8035,
          4952.754,
          4606.7385,
          4053.5085,
          3505.792,
          3581.0435,
          3206.7325,
          3482.5895,
          4250.3,
          4420.7,
          4166.7,
          4333.1,
          4152.55,
          3672.7,
          3684.9,
          3720.6,
          4095.25
         ],
         "y0": " ",
         "yaxis": "y"
        },
        {
         "alignmentgroup": "True",
         "boxpoints": "all",
         "customdata": [
          [
           "Generación no renovable",
           "No-Renovable",
           1
          ],
          [
           "Generación no renovable",
           "No-Renovable",
           1
          ],
          [
           "Generación no renovable",
           "No-Renovable",
           1
          ],
          [
           "Generación no renovable",
           "No-Renovable",
           1
          ],
          [
           "Generación no renovable",
           "No-Renovable",
           1
          ],
          [
           "Generación no renovable",
           "No-Renovable",
           1
          ],
          [
           "Generación no renovable",
           "No-Renovable",
           1
          ],
          [
           "Generación no renovable",
           "No-Renovable",
           1
          ],
          [
           "Generación no renovable",
           "No-Renovable",
           1
          ],
          [
           "Generación no renovable",
           "No-Renovable",
           1
          ],
          [
           "Generación no renovable",
           "No-Renovable",
           1
          ],
          [
           "Generación no renovable",
           "No-Renovable",
           1
          ],
          [
           "Generación no renovable",
           "No-Renovable",
           1
          ],
          [
           "Generación no renovable",
           "No-Renovable",
           1
          ],
          [
           "Generación no renovable",
           "No-Renovable",
           1
          ],
          [
           "Generación no renovable",
           "No-Renovable",
           1
          ],
          [
           "Generación no renovable",
           "No-Renovable",
           1
          ],
          [
           "Generación no renovable",
           "No-Renovable",
           1
          ],
          [
           "Generación no renovable",
           "No-Renovable",
           1
          ],
          [
           "Generación no renovable",
           "No-Renovable",
           1
          ],
          [
           "Generación no renovable",
           "No-Renovable",
           1
          ],
          [
           "Generación no renovable",
           "No-Renovable",
           1
          ],
          [
           "Generación no renovable",
           "No-Renovable",
           1
          ],
          [
           "Generación no renovable",
           "No-Renovable",
           1
          ],
          [
           "Generación no renovable",
           "No-Renovable",
           1
          ],
          [
           "Generación no renovable",
           "No-Renovable",
           1
          ],
          [
           "Generación no renovable",
           "No-Renovable",
           1
          ],
          [
           "Generación no renovable",
           "No-Renovable",
           1
          ],
          [
           "Generación no renovable",
           "No-Renovable",
           1
          ],
          [
           "Generación no renovable",
           "No-Renovable",
           1
          ],
          [
           "Generación no renovable",
           "No-Renovable",
           1
          ]
         ],
         "fillcolor": "rgba(255,255,255,0)",
         "hoveron": "points",
         "hovertemplate": "nombre=%{customdata[0]}<br>Fecha actualización=%{x}<br>Valores=%{y}<br>tipo de energía=%{customdata[1]}<br>Porcentaje=%{customdata[2]}<extra></extra>",
         "legendgroup": "Generación no renovable",
         "line": {
          "color": "rgba(255,255,255,0)"
         },
         "marker": {
          "color": "#FF97FF"
         },
         "name": "Generación no renovable",
         "offsetgroup": "Generación no renovable",
         "orientation": "v",
         "pointpos": 0,
         "showlegend": true,
         "type": "box",
         "x": [
          "09/09/2024",
          "10/09/2024",
          "11/09/2024",
          "12/09/2024",
          "13/09/2024",
          "14/09/2024",
          "15/09/2024",
          "16/09/2024",
          "17/09/2024",
          "18/09/2024",
          "19/09/2024",
          "20/09/2024",
          "21/09/2024",
          "22/09/2024",
          "23/09/2024",
          "24/09/2024",
          "25/09/2024",
          "26/09/2024",
          "27/09/2024",
          "28/09/2024",
          "29/09/2024",
          "30/09/2024",
          "01/10/2024",
          "02/10/2024",
          "03/10/2024",
          "04/10/2024",
          "05/10/2024",
          "06/10/2024",
          "07/10/2024",
          "08/10/2024",
          "09/10/2024"
         ],
         "x0": " ",
         "xaxis": "x",
         "y": [
          354565.7945000001,
          356944.745,
          343219.1115,
          350608.59200000006,
          313557.729,
          298641.1825,
          301570.80850000004,
          312615.5915,
          303029.868,
          350458.30100000004,
          415517.967,
          412329.8314999999,
          352511.746,
          336055.13249999995,
          351781.3945,
          360720.6429999999,
          315107.49149999995,
          290533.8695,
          292290.743,
          298769.3285,
          294580.6275,
          354462.7515000001,
          352937.309,
          358631.506,
          333142.4060000001,
          368923.849,
          288887.534,
          265566.279,
          269868.44100000005,
          268072.601,
          254883.325
         ],
         "y0": " ",
         "yaxis": "y"
        },
        {
         "alignmentgroup": "True",
         "boxpoints": "all",
         "customdata": [
          [
           "Consumos en bombeo",
           "Demanda en b.c.",
           0.03512922584152288
          ],
          [
           "Consumos en bombeo",
           "Demanda en b.c.",
           0.035446346076026904
          ],
          [
           "Consumos en bombeo",
           "Demanda en b.c.",
           0.031162545737895394
          ],
          [
           "Consumos en bombeo",
           "Demanda en b.c.",
           0.03205257570052361
          ],
          [
           "Consumos en bombeo",
           "Demanda en b.c.",
           0.0444420627980012
          ],
          [
           "Consumos en bombeo",
           "Demanda en b.c.",
           0.054479933439574
          ],
          [
           "Consumos en bombeo",
           "Demanda en b.c.",
           0.051781317536021894
          ],
          [
           "Consumos en bombeo",
           "Demanda en b.c.",
           0.03999583456041921
          ],
          [
           "Consumos en bombeo",
           "Demanda en b.c.",
           0.03324056823331869
          ],
          [
           "Consumos en bombeo",
           "Demanda en b.c.",
           0.016246920996535002
          ],
          [
           "Consumos en bombeo",
           "Demanda en b.c.",
           0.0022414264397902384
          ],
          [
           "Consumos en bombeo",
           "Demanda en b.c.",
           0.006070828663430936
          ],
          [
           "Consumos en bombeo",
           "Demanda en b.c.",
           0.01858350380610364
          ],
          [
           "Consumos en bombeo",
           "Demanda en b.c.",
           0.03204700815841474
          ],
          [
           "Consumos en bombeo",
           "Demanda en b.c.",
           0.025861591278860976
          ],
          [
           "Consumos en bombeo",
           "Demanda en b.c.",
           0.00920624647325647
          ],
          [
           "Consumos en bombeo",
           "Demanda en b.c.",
           0.03175710494099933
          ],
          [
           "Consumos en bombeo",
           "Demanda en b.c.",
           0.039266326451111624
          ],
          [
           "Consumos en bombeo",
           "Demanda en b.c.",
           0.04307228504818449
          ],
          [
           "Consumos en bombeo",
           "Demanda en b.c.",
           0.031695746000488176
          ],
          [
           "Consumos en bombeo",
           "Demanda en b.c.",
           0.041336510155552515
          ],
          [
           "Consumos en bombeo",
           "Demanda en b.c.",
           0.023365519150164278
          ],
          [
           "Consumos en bombeo",
           "Demanda en b.c.",
           0.014764921716221692
          ],
          [
           "Consumos en bombeo",
           "Demanda en b.c.",
           0.013673526379328641
          ],
          [
           "Consumos en bombeo",
           "Demanda en b.c.",
           0.02798117702357773
          ],
          [
           "Consumos en bombeo",
           "Demanda en b.c.",
           0.01583365627767487
          ],
          [
           "Consumos en bombeo",
           "Demanda en b.c.",
           0.02026612489381606
          ],
          [
           "Consumos en bombeo",
           "Demanda en b.c.",
           0.043878053128674314
          ],
          [
           "Consumos en bombeo",
           "Demanda en b.c.",
           0.02140784043398409
          ],
          [
           "Consumos en bombeo",
           "Demanda en b.c.",
           0.03353137170798145
          ],
          [
           "Consumos en bombeo",
           "Demanda en b.c.",
           0.031239883926711773
          ]
         ],
         "fillcolor": "rgba(255,255,255,0)",
         "hoveron": "points",
         "hovertemplate": "nombre=%{customdata[0]}<br>Fecha actualización=%{x}<br>Valores=%{y}<br>tipo de energía=%{customdata[1]}<br>Porcentaje=%{customdata[2]}<extra></extra>",
         "legendgroup": "Consumos en bombeo",
         "line": {
          "color": "rgba(255,255,255,0)"
         },
         "marker": {
          "color": "#FECB52"
         },
         "name": "Consumos en bombeo",
         "offsetgroup": "Consumos en bombeo",
         "orientation": "v",
         "pointpos": 0,
         "showlegend": true,
         "type": "box",
         "x": [
          "09/09/2024",
          "10/09/2024",
          "11/09/2024",
          "12/09/2024",
          "13/09/2024",
          "14/09/2024",
          "15/09/2024",
          "16/09/2024",
          "17/09/2024",
          "18/09/2024",
          "19/09/2024",
          "20/09/2024",
          "21/09/2024",
          "22/09/2024",
          "23/09/2024",
          "24/09/2024",
          "25/09/2024",
          "26/09/2024",
          "27/09/2024",
          "28/09/2024",
          "29/09/2024",
          "30/09/2024",
          "01/10/2024",
          "02/10/2024",
          "03/10/2024",
          "04/10/2024",
          "05/10/2024",
          "06/10/2024",
          "07/10/2024",
          "08/10/2024",
          "09/10/2024"
         ],
         "x0": " ",
         "xaxis": "x",
         "y": [
          -30029.35,
          -30216.28,
          -25771.441,
          -27173.394,
          -40012.917,
          -42165.889,
          -41243.457,
          -36379.022,
          -28362.316,
          -12677.221,
          -1677.125,
          -4506.807,
          -13055.198,
          -21003.558,
          -18367.203,
          -6185.448,
          -24699.308,
          -34801.155,
          -34760.906,
          -22061.226,
          -29614.368,
          -16745.747,
          -11369.6,
          -11660.4,
          -25476.6,
          -13205.2,
          -14987.2,
          -33277.3,
          -16645.8,
          -27589.6,
          -25645.1
         ],
         "y0": " ",
         "yaxis": "y"
        },
        {
         "alignmentgroup": "True",
         "boxpoints": "all",
         "customdata": [
          [
           "Saldo I. internacionales",
           "Demanda en b.c.",
           0.07188467641827591
          ],
          [
           "Saldo I. internacionales",
           "Demanda en b.c.",
           0.05680135988735722
          ],
          [
           "Saldo I. internacionales",
           "Demanda en b.c.",
           0.05554960224733986
          ],
          [
           "Saldo I. internacionales",
           "Demanda en b.c.",
           0.05215249069277672
          ],
          [
           "Saldo I. internacionales",
           "Demanda en b.c.",
           0.07832581669507133
          ],
          [
           "Saldo I. internacionales",
           "Demanda en b.c.",
           0.06067575595803195
          ],
          [
           "Saldo I. internacionales",
           "Demanda en b.c.",
           0.09747916541955905
          ],
          [
           "Saldo I. internacionales",
           "Demanda en b.c.",
           0.09177566576772092
          ],
          [
           "Saldo I. internacionales",
           "Demanda en b.c.",
           0.06483666082965729
          ],
          [
           "Saldo I. internacionales",
           "Demanda en b.c.",
           0.04219061769087531
          ],
          [
           "Saldo I. internacionales",
           "Demanda en b.c.",
           0.03857909709605541
          ],
          [
           "Saldo I. internacionales",
           "Demanda en b.c.",
           0.03694577089716396
          ],
          [
           "Saldo I. internacionales",
           "Demanda en b.c.",
           0.05117363822252664
          ],
          [
           "Saldo I. internacionales",
           "Demanda en b.c.",
           0.043950663938449264
          ],
          [
           "Saldo I. internacionales",
           "Demanda en b.c.",
           0.016311477375770503
          ],
          [
           "Saldo I. internacionales",
           "Demanda en b.c.",
           0.0006858729886747929
          ],
          [
           "Saldo I. internacionales",
           "Demanda en b.c.",
           0.029547099520745374
          ],
          [
           "Saldo I. internacionales",
           "Demanda en b.c.",
           0.06451826993690497
          ],
          [
           "Saldo I. internacionales",
           "Demanda en b.c.",
           0.03891848157508852
          ],
          [
           "Saldo I. internacionales",
           "Demanda en b.c.",
           0.051585774396674874
          ],
          [
           "Saldo I. internacionales",
           "Demanda en b.c.",
           0.08199336602341498
          ],
          [
           "Saldo I. internacionales",
           "Demanda en b.c.",
           0.027129735202967745
          ],
          [
           "Saldo I. internacionales",
           "Demanda en b.c.",
           0.04252524974526269
          ],
          [
           "Saldo I. internacionales",
           "Demanda en b.c.",
           0.07610838821568769
          ],
          [
           "Saldo I. internacionales",
           "Demanda en b.c.",
           0.09367992981296387
          ],
          [
           "Saldo I. internacionales",
           "Demanda en b.c.",
           0.08067116697726642
          ],
          [
           "Saldo I. internacionales",
           "Demanda en b.c.",
           0.0753986605055855
          ],
          [
           "Saldo I. internacionales",
           "Demanda en b.c.",
           0.08327775556044023
          ],
          [
           "Saldo I. internacionales",
           "Demanda en b.c.",
           0.05060727156864037
          ],
          [
           "Saldo I. internacionales",
           "Demanda en b.c.",
           0.051496863653764706
          ],
          [
           "Saldo I. internacionales",
           "Demanda en b.c.",
           0.049437273761447895
          ]
         ],
         "fillcolor": "rgba(255,255,255,0)",
         "hoveron": "points",
         "hovertemplate": "nombre=%{customdata[0]}<br>Fecha actualización=%{x}<br>Valores=%{y}<br>tipo de energía=%{customdata[1]}<br>Porcentaje=%{customdata[2]}<extra></extra>",
         "legendgroup": "Saldo I. internacionales",
         "line": {
          "color": "rgba(255,255,255,0)"
         },
         "marker": {
          "color": "#636efa"
         },
         "name": "Saldo I. internacionales",
         "offsetgroup": "Saldo I. internacionales",
         "orientation": "v",
         "pointpos": 0,
         "showlegend": true,
         "type": "box",
         "x": [
          "09/09/2024",
          "10/09/2024",
          "11/09/2024",
          "12/09/2024",
          "13/09/2024",
          "14/09/2024",
          "15/09/2024",
          "16/09/2024",
          "17/09/2024",
          "18/09/2024",
          "19/09/2024",
          "20/09/2024",
          "21/09/2024",
          "22/09/2024",
          "23/09/2024",
          "24/09/2024",
          "25/09/2024",
          "26/09/2024",
          "27/09/2024",
          "28/09/2024",
          "29/09/2024",
          "30/09/2024",
          "01/10/2024",
          "02/10/2024",
          "03/10/2024",
          "04/10/2024",
          "05/10/2024",
          "06/10/2024",
          "07/10/2024",
          "08/10/2024",
          "09/10/2024"
         ],
         "x0": " ",
         "xaxis": "x",
         "y": [
          -61448.838,
          -48420.387,
          -45939.549,
          -44213.613,
          -70519.778,
          -46961.276,
          -77641.473,
          -83476.417,
          -55321.493,
          -32920.686,
          -28866.425,
          -27427.468,
          -35950.27,
          -28805.195,
          -11584.601,
          -460.821,
          -22980.461,
          -57181.573,
          -31408.635,
          -35905.305,
          -58741.817,
          -19443.509,
          -32746.2,
          -64903.1,
          -85294.7,
          -67279.4,
          -55758.8,
          -63158.2,
          -39350,
          -42371.6,
          -40583.5
         ],
         "y0": " ",
         "yaxis": "y"
        },
        {
         "alignmentgroup": "True",
         "boxpoints": "all",
         "customdata": [
          [
           "Demanda en b.c.",
           "Demanda en b.c.",
           1
          ],
          [
           "Demanda en b.c.",
           "Demanda en b.c.",
           1
          ],
          [
           "Demanda en b.c.",
           "Demanda en b.c.",
           1
          ],
          [
           "Demanda en b.c.",
           "Demanda en b.c.",
           1
          ],
          [
           "Demanda en b.c.",
           "Demanda en b.c.",
           1
          ],
          [
           "Demanda en b.c.",
           "Demanda en b.c.",
           1
          ],
          [
           "Demanda en b.c.",
           "Demanda en b.c.",
           1
          ],
          [
           "Demanda en b.c.",
           "Demanda en b.c.",
           1
          ],
          [
           "Demanda en b.c.",
           "Demanda en b.c.",
           1
          ],
          [
           "Demanda en b.c.",
           "Demanda en b.c.",
           1
          ],
          [
           "Demanda en b.c.",
           "Demanda en b.c.",
           1
          ],
          [
           "Demanda en b.c.",
           "Demanda en b.c.",
           1
          ],
          [
           "Demanda en b.c.",
           "Demanda en b.c.",
           1
          ],
          [
           "Demanda en b.c.",
           "Demanda en b.c.",
           1
          ],
          [
           "Demanda en b.c.",
           "Demanda en b.c.",
           1
          ],
          [
           "Demanda en b.c.",
           "Demanda en b.c.",
           1
          ],
          [
           "Demanda en b.c.",
           "Demanda en b.c.",
           1
          ],
          [
           "Demanda en b.c.",
           "Demanda en b.c.",
           1
          ],
          [
           "Demanda en b.c.",
           "Demanda en b.c.",
           1
          ],
          [
           "Demanda en b.c.",
           "Demanda en b.c.",
           1
          ],
          [
           "Demanda en b.c.",
           "Demanda en b.c.",
           1
          ],
          [
           "Demanda en b.c.",
           "Demanda en b.c.",
           1
          ],
          [
           "Demanda en b.c.",
           "Demanda en b.c.",
           1
          ],
          [
           "Demanda en b.c.",
           "Demanda en b.c.",
           1
          ],
          [
           "Demanda en b.c.",
           "Demanda en b.c.",
           1
          ],
          [
           "Demanda en b.c.",
           "Demanda en b.c.",
           1
          ],
          [
           "Demanda en b.c.",
           "Demanda en b.c.",
           1
          ],
          [
           "Demanda en b.c.",
           "Demanda en b.c.",
           1
          ],
          [
           "Demanda en b.c.",
           "Demanda en b.c.",
           1
          ],
          [
           "Demanda en b.c.",
           "Demanda en b.c.",
           1
          ],
          [
           "Demanda en b.c.",
           "Demanda en b.c.",
           1
          ]
         ],
         "fillcolor": "rgba(255,255,255,0)",
         "hoveron": "points",
         "hovertemplate": "nombre=%{customdata[0]}<br>Fecha actualización=%{x}<br>Valores=%{y}<br>tipo de energía=%{customdata[1]}<br>Porcentaje=%{customdata[2]}<extra></extra>",
         "legendgroup": "Demanda en b.c.",
         "line": {
          "color": "rgba(255,255,255,0)"
         },
         "marker": {
          "color": "#EF553B"
         },
         "name": "Demanda en b.c.",
         "offsetgroup": "Demanda en b.c.",
         "orientation": "v",
         "pointpos": 0,
         "showlegend": true,
         "type": "box",
         "x": [
          "09/09/2024",
          "10/09/2024",
          "11/09/2024",
          "12/09/2024",
          "13/09/2024",
          "14/09/2024",
          "15/09/2024",
          "16/09/2024",
          "17/09/2024",
          "18/09/2024",
          "19/09/2024",
          "20/09/2024",
          "21/09/2024",
          "22/09/2024",
          "23/09/2024",
          "24/09/2024",
          "25/09/2024",
          "26/09/2024",
          "27/09/2024",
          "28/09/2024",
          "29/09/2024",
          "30/09/2024",
          "01/10/2024",
          "02/10/2024",
          "03/10/2024",
          "04/10/2024",
          "05/10/2024",
          "06/10/2024",
          "07/10/2024",
          "08/10/2024",
          "09/10/2024"
         ],
         "x0": " ",
         "xaxis": "x",
         "y": [
          671868.895,
          695177.8589999999,
          683578.523,
          705001.661,
          679273.4890000001,
          595716.678,
          558723.1410000001,
          669859.391,
          685876.4,
          689088.709,
          687152.936,
          678502.426,
          604504.485,
          555780.8979999999,
          650308.026,
          658582.587,
          682397.378,
          702319.515,
          674697.414,
          580098.071,
          539709.212,
          644307.7679999999,
          681809.733,
          699644.968,
          688948.048,
          673026.421,
          598027.769,
          565533.205,
          665564.644,
          682877.223,
          688451.74
         ],
         "y0": " ",
         "yaxis": "y"
        }
       ],
       "layout": {
        "boxmode": "group",
        "legend": {
         "title": {
          "text": "nombre"
         },
         "tracegroupgap": 0
        },
        "margin": {
         "t": 60
        },
        "template": {
         "data": {
          "bar": [
           {
            "error_x": {
             "color": "#2a3f5f"
            },
            "error_y": {
             "color": "#2a3f5f"
            },
            "marker": {
             "line": {
              "color": "#E5ECF6",
              "width": 0.5
             },
             "pattern": {
              "fillmode": "overlay",
              "size": 10,
              "solidity": 0.2
             }
            },
            "type": "bar"
           }
          ],
          "barpolar": [
           {
            "marker": {
             "line": {
              "color": "#E5ECF6",
              "width": 0.5
             },
             "pattern": {
              "fillmode": "overlay",
              "size": 10,
              "solidity": 0.2
             }
            },
            "type": "barpolar"
           }
          ],
          "carpet": [
           {
            "aaxis": {
             "endlinecolor": "#2a3f5f",
             "gridcolor": "white",
             "linecolor": "white",
             "minorgridcolor": "white",
             "startlinecolor": "#2a3f5f"
            },
            "baxis": {
             "endlinecolor": "#2a3f5f",
             "gridcolor": "white",
             "linecolor": "white",
             "minorgridcolor": "white",
             "startlinecolor": "#2a3f5f"
            },
            "type": "carpet"
           }
          ],
          "choropleth": [
           {
            "colorbar": {
             "outlinewidth": 0,
             "ticks": ""
            },
            "type": "choropleth"
           }
          ],
          "contour": [
           {
            "colorbar": {
             "outlinewidth": 0,
             "ticks": ""
            },
            "colorscale": [
             [
              0,
              "#0d0887"
             ],
             [
              0.1111111111111111,
              "#46039f"
             ],
             [
              0.2222222222222222,
              "#7201a8"
             ],
             [
              0.3333333333333333,
              "#9c179e"
             ],
             [
              0.4444444444444444,
              "#bd3786"
             ],
             [
              0.5555555555555556,
              "#d8576b"
             ],
             [
              0.6666666666666666,
              "#ed7953"
             ],
             [
              0.7777777777777778,
              "#fb9f3a"
             ],
             [
              0.8888888888888888,
              "#fdca26"
             ],
             [
              1,
              "#f0f921"
             ]
            ],
            "type": "contour"
           }
          ],
          "contourcarpet": [
           {
            "colorbar": {
             "outlinewidth": 0,
             "ticks": ""
            },
            "type": "contourcarpet"
           }
          ],
          "heatmap": [
           {
            "colorbar": {
             "outlinewidth": 0,
             "ticks": ""
            },
            "colorscale": [
             [
              0,
              "#0d0887"
             ],
             [
              0.1111111111111111,
              "#46039f"
             ],
             [
              0.2222222222222222,
              "#7201a8"
             ],
             [
              0.3333333333333333,
              "#9c179e"
             ],
             [
              0.4444444444444444,
              "#bd3786"
             ],
             [
              0.5555555555555556,
              "#d8576b"
             ],
             [
              0.6666666666666666,
              "#ed7953"
             ],
             [
              0.7777777777777778,
              "#fb9f3a"
             ],
             [
              0.8888888888888888,
              "#fdca26"
             ],
             [
              1,
              "#f0f921"
             ]
            ],
            "type": "heatmap"
           }
          ],
          "heatmapgl": [
           {
            "colorbar": {
             "outlinewidth": 0,
             "ticks": ""
            },
            "colorscale": [
             [
              0,
              "#0d0887"
             ],
             [
              0.1111111111111111,
              "#46039f"
             ],
             [
              0.2222222222222222,
              "#7201a8"
             ],
             [
              0.3333333333333333,
              "#9c179e"
             ],
             [
              0.4444444444444444,
              "#bd3786"
             ],
             [
              0.5555555555555556,
              "#d8576b"
             ],
             [
              0.6666666666666666,
              "#ed7953"
             ],
             [
              0.7777777777777778,
              "#fb9f3a"
             ],
             [
              0.8888888888888888,
              "#fdca26"
             ],
             [
              1,
              "#f0f921"
             ]
            ],
            "type": "heatmapgl"
           }
          ],
          "histogram": [
           {
            "marker": {
             "pattern": {
              "fillmode": "overlay",
              "size": 10,
              "solidity": 0.2
             }
            },
            "type": "histogram"
           }
          ],
          "histogram2d": [
           {
            "colorbar": {
             "outlinewidth": 0,
             "ticks": ""
            },
            "colorscale": [
             [
              0,
              "#0d0887"
             ],
             [
              0.1111111111111111,
              "#46039f"
             ],
             [
              0.2222222222222222,
              "#7201a8"
             ],
             [
              0.3333333333333333,
              "#9c179e"
             ],
             [
              0.4444444444444444,
              "#bd3786"
             ],
             [
              0.5555555555555556,
              "#d8576b"
             ],
             [
              0.6666666666666666,
              "#ed7953"
             ],
             [
              0.7777777777777778,
              "#fb9f3a"
             ],
             [
              0.8888888888888888,
              "#fdca26"
             ],
             [
              1,
              "#f0f921"
             ]
            ],
            "type": "histogram2d"
           }
          ],
          "histogram2dcontour": [
           {
            "colorbar": {
             "outlinewidth": 0,
             "ticks": ""
            },
            "colorscale": [
             [
              0,
              "#0d0887"
             ],
             [
              0.1111111111111111,
              "#46039f"
             ],
             [
              0.2222222222222222,
              "#7201a8"
             ],
             [
              0.3333333333333333,
              "#9c179e"
             ],
             [
              0.4444444444444444,
              "#bd3786"
             ],
             [
              0.5555555555555556,
              "#d8576b"
             ],
             [
              0.6666666666666666,
              "#ed7953"
             ],
             [
              0.7777777777777778,
              "#fb9f3a"
             ],
             [
              0.8888888888888888,
              "#fdca26"
             ],
             [
              1,
              "#f0f921"
             ]
            ],
            "type": "histogram2dcontour"
           }
          ],
          "mesh3d": [
           {
            "colorbar": {
             "outlinewidth": 0,
             "ticks": ""
            },
            "type": "mesh3d"
           }
          ],
          "parcoords": [
           {
            "line": {
             "colorbar": {
              "outlinewidth": 0,
              "ticks": ""
             }
            },
            "type": "parcoords"
           }
          ],
          "pie": [
           {
            "automargin": true,
            "type": "pie"
           }
          ],
          "scatter": [
           {
            "fillpattern": {
             "fillmode": "overlay",
             "size": 10,
             "solidity": 0.2
            },
            "type": "scatter"
           }
          ],
          "scatter3d": [
           {
            "line": {
             "colorbar": {
              "outlinewidth": 0,
              "ticks": ""
             }
            },
            "marker": {
             "colorbar": {
              "outlinewidth": 0,
              "ticks": ""
             }
            },
            "type": "scatter3d"
           }
          ],
          "scattercarpet": [
           {
            "marker": {
             "colorbar": {
              "outlinewidth": 0,
              "ticks": ""
             }
            },
            "type": "scattercarpet"
           }
          ],
          "scattergeo": [
           {
            "marker": {
             "colorbar": {
              "outlinewidth": 0,
              "ticks": ""
             }
            },
            "type": "scattergeo"
           }
          ],
          "scattergl": [
           {
            "marker": {
             "colorbar": {
              "outlinewidth": 0,
              "ticks": ""
             }
            },
            "type": "scattergl"
           }
          ],
          "scattermapbox": [
           {
            "marker": {
             "colorbar": {
              "outlinewidth": 0,
              "ticks": ""
             }
            },
            "type": "scattermapbox"
           }
          ],
          "scatterpolar": [
           {
            "marker": {
             "colorbar": {
              "outlinewidth": 0,
              "ticks": ""
             }
            },
            "type": "scatterpolar"
           }
          ],
          "scatterpolargl": [
           {
            "marker": {
             "colorbar": {
              "outlinewidth": 0,
              "ticks": ""
             }
            },
            "type": "scatterpolargl"
           }
          ],
          "scatterternary": [
           {
            "marker": {
             "colorbar": {
              "outlinewidth": 0,
              "ticks": ""
             }
            },
            "type": "scatterternary"
           }
          ],
          "surface": [
           {
            "colorbar": {
             "outlinewidth": 0,
             "ticks": ""
            },
            "colorscale": [
             [
              0,
              "#0d0887"
             ],
             [
              0.1111111111111111,
              "#46039f"
             ],
             [
              0.2222222222222222,
              "#7201a8"
             ],
             [
              0.3333333333333333,
              "#9c179e"
             ],
             [
              0.4444444444444444,
              "#bd3786"
             ],
             [
              0.5555555555555556,
              "#d8576b"
             ],
             [
              0.6666666666666666,
              "#ed7953"
             ],
             [
              0.7777777777777778,
              "#fb9f3a"
             ],
             [
              0.8888888888888888,
              "#fdca26"
             ],
             [
              1,
              "#f0f921"
             ]
            ],
            "type": "surface"
           }
          ],
          "table": [
           {
            "cells": {
             "fill": {
              "color": "#EBF0F8"
             },
             "line": {
              "color": "white"
             }
            },
            "header": {
             "fill": {
              "color": "#C8D4E3"
             },
             "line": {
              "color": "white"
             }
            },
            "type": "table"
           }
          ]
         },
         "layout": {
          "annotationdefaults": {
           "arrowcolor": "#2a3f5f",
           "arrowhead": 0,
           "arrowwidth": 1
          },
          "autotypenumbers": "strict",
          "coloraxis": {
           "colorbar": {
            "outlinewidth": 0,
            "ticks": ""
           }
          },
          "colorscale": {
           "diverging": [
            [
             0,
             "#8e0152"
            ],
            [
             0.1,
             "#c51b7d"
            ],
            [
             0.2,
             "#de77ae"
            ],
            [
             0.3,
             "#f1b6da"
            ],
            [
             0.4,
             "#fde0ef"
            ],
            [
             0.5,
             "#f7f7f7"
            ],
            [
             0.6,
             "#e6f5d0"
            ],
            [
             0.7,
             "#b8e186"
            ],
            [
             0.8,
             "#7fbc41"
            ],
            [
             0.9,
             "#4d9221"
            ],
            [
             1,
             "#276419"
            ]
           ],
           "sequential": [
            [
             0,
             "#0d0887"
            ],
            [
             0.1111111111111111,
             "#46039f"
            ],
            [
             0.2222222222222222,
             "#7201a8"
            ],
            [
             0.3333333333333333,
             "#9c179e"
            ],
            [
             0.4444444444444444,
             "#bd3786"
            ],
            [
             0.5555555555555556,
             "#d8576b"
            ],
            [
             0.6666666666666666,
             "#ed7953"
            ],
            [
             0.7777777777777778,
             "#fb9f3a"
            ],
            [
             0.8888888888888888,
             "#fdca26"
            ],
            [
             1,
             "#f0f921"
            ]
           ],
           "sequentialminus": [
            [
             0,
             "#0d0887"
            ],
            [
             0.1111111111111111,
             "#46039f"
            ],
            [
             0.2222222222222222,
             "#7201a8"
            ],
            [
             0.3333333333333333,
             "#9c179e"
            ],
            [
             0.4444444444444444,
             "#bd3786"
            ],
            [
             0.5555555555555556,
             "#d8576b"
            ],
            [
             0.6666666666666666,
             "#ed7953"
            ],
            [
             0.7777777777777778,
             "#fb9f3a"
            ],
            [
             0.8888888888888888,
             "#fdca26"
            ],
            [
             1,
             "#f0f921"
            ]
           ]
          },
          "colorway": [
           "#636efa",
           "#EF553B",
           "#00cc96",
           "#ab63fa",
           "#FFA15A",
           "#19d3f3",
           "#FF6692",
           "#B6E880",
           "#FF97FF",
           "#FECB52"
          ],
          "font": {
           "color": "#2a3f5f"
          },
          "geo": {
           "bgcolor": "white",
           "lakecolor": "white",
           "landcolor": "#E5ECF6",
           "showlakes": true,
           "showland": true,
           "subunitcolor": "white"
          },
          "hoverlabel": {
           "align": "left"
          },
          "hovermode": "closest",
          "mapbox": {
           "style": "light"
          },
          "paper_bgcolor": "white",
          "plot_bgcolor": "#E5ECF6",
          "polar": {
           "angularaxis": {
            "gridcolor": "white",
            "linecolor": "white",
            "ticks": ""
           },
           "bgcolor": "#E5ECF6",
           "radialaxis": {
            "gridcolor": "white",
            "linecolor": "white",
            "ticks": ""
           }
          },
          "scene": {
           "xaxis": {
            "backgroundcolor": "#E5ECF6",
            "gridcolor": "white",
            "gridwidth": 2,
            "linecolor": "white",
            "showbackground": true,
            "ticks": "",
            "zerolinecolor": "white"
           },
           "yaxis": {
            "backgroundcolor": "#E5ECF6",
            "gridcolor": "white",
            "gridwidth": 2,
            "linecolor": "white",
            "showbackground": true,
            "ticks": "",
            "zerolinecolor": "white"
           },
           "zaxis": {
            "backgroundcolor": "#E5ECF6",
            "gridcolor": "white",
            "gridwidth": 2,
            "linecolor": "white",
            "showbackground": true,
            "ticks": "",
            "zerolinecolor": "white"
           }
          },
          "shapedefaults": {
           "line": {
            "color": "#2a3f5f"
           }
          },
          "ternary": {
           "aaxis": {
            "gridcolor": "white",
            "linecolor": "white",
            "ticks": ""
           },
           "baxis": {
            "gridcolor": "white",
            "linecolor": "white",
            "ticks": ""
           },
           "bgcolor": "#E5ECF6",
           "caxis": {
            "gridcolor": "white",
            "linecolor": "white",
            "ticks": ""
           }
          },
          "title": {
           "x": 0.05
          },
          "xaxis": {
           "automargin": true,
           "gridcolor": "white",
           "linecolor": "white",
           "ticks": "",
           "title": {
            "standoff": 15
           },
           "zerolinecolor": "white",
           "zerolinewidth": 2
          },
          "yaxis": {
           "automargin": true,
           "gridcolor": "white",
           "linecolor": "white",
           "ticks": "",
           "title": {
            "standoff": 15
           },
           "zerolinecolor": "white",
           "zerolinewidth": 2
          }
         }
        },
        "xaxis": {
         "anchor": "y",
         "domain": [
          0,
          1
         ],
         "title": {
          "text": "Fecha actualización"
         }
        },
        "yaxis": {
         "anchor": "x",
         "domain": [
          0,
          1
         ],
         "title": {
          "text": "Valores"
         }
        }
       }
      }
     },
     "metadata": {},
     "output_type": "display_data"
    }
   ],
   "source": [
    "fig1 = px.strip(data_frame = df_balance,\n",
    "         x          = \"Fecha actualización\",\n",
    "         y          = \"Valores\",\n",
    "         color      = \"nombre\",\n",
    "         hover_data = df_balance.columns)\n",
    "\n",
    "fig1.show()\n"
   ]
  },
  {
   "cell_type": "code",
   "execution_count": 108,
   "metadata": {},
   "outputs": [
    {
     "name": "stderr",
     "output_type": "stream",
     "text": [
      "/opt/anaconda3/lib/python3.11/site-packages/plotly/express/_core.py:1979: FutureWarning:\n",
      "\n",
      "When grouping with a length-1 list-like, you will need to pass a length-1 tuple to get_group in a future version of pandas. Pass `(name,)` instead of `name` to silence this warning.\n",
      "\n"
     ]
    },
    {
     "data": {
      "application/vnd.plotly.v1+json": {
       "config": {
        "plotlyServerURL": "https://plot.ly"
       },
       "data": [
        {
         "alignmentgroup": "True",
         "boxpoints": "all",
         "customdata": [
          [
           "Hidráulica",
           "Renovable",
           54386.095
          ],
          [
           "Hidráulica",
           "Renovable",
           51661.691
          ],
          [
           "Hidráulica",
           "Renovable",
           48588.925
          ],
          [
           "Hidráulica",
           "Renovable",
           51775.769
          ],
          [
           "Hidráulica",
           "Renovable",
           39251.575
          ],
          [
           "Hidráulica",
           "Renovable",
           30373.812
          ],
          [
           "Hidráulica",
           "Renovable",
           24767.511
          ],
          [
           "Hidráulica",
           "Renovable",
           28356.661
          ],
          [
           "Hidráulica",
           "Renovable",
           29555.708
          ],
          [
           "Hidráulica",
           "Renovable",
           58595.442
          ],
          [
           "Hidráulica",
           "Renovable",
           89991.12
          ],
          [
           "Hidráulica",
           "Renovable",
           93635.162
          ],
          [
           "Hidráulica",
           "Renovable",
           79993.169
          ],
          [
           "Hidráulica",
           "Renovable",
           73825.361
          ],
          [
           "Hidráulica",
           "Renovable",
           72079.272
          ],
          [
           "Hidráulica",
           "Renovable",
           73920.299
          ],
          [
           "Hidráulica",
           "Renovable",
           48576.483
          ],
          [
           "Hidráulica",
           "Renovable",
           35063.646
          ],
          [
           "Hidráulica",
           "Renovable",
           36018.865
          ],
          [
           "Hidráulica",
           "Renovable",
           44949.149
          ],
          [
           "Hidráulica",
           "Renovable",
           36271.997
          ],
          [
           "Hidráulica",
           "Renovable",
           62652.956
          ],
          [
           "Hidráulica",
           "Renovable",
           76159.7
          ],
          [
           "Hidráulica",
           "Renovable",
           72013.7
          ],
          [
           "Hidráulica",
           "Renovable",
           76861.6
          ],
          [
           "Hidráulica",
           "Renovable",
           92057.3
          ],
          [
           "Hidráulica",
           "Renovable",
           83008.9
          ],
          [
           "Hidráulica",
           "Renovable",
           54807.3
          ],
          [
           "Hidráulica",
           "Renovable",
           63360.6
          ],
          [
           "Hidráulica",
           "Renovable",
           57723.1
          ],
          [
           "Hidráulica",
           "Renovable",
           62214.9
          ]
         ],
         "fillcolor": "rgba(255,255,255,0)",
         "hoveron": "points",
         "hovertemplate": "nombre=%{customdata[0]}<br>Fecha actualización=%{x}<br>Porcentaje=%{y}<br>tipo de energía=%{customdata[1]}<br>Valores=%{customdata[2]}<extra></extra>",
         "legendgroup": "Hidráulica",
         "line": {
          "color": "rgba(255,255,255,0)"
         },
         "marker": {
          "color": "#636efa"
         },
         "name": "Hidráulica",
         "offsetgroup": "Hidráulica",
         "orientation": "v",
         "pointpos": 0,
         "showlegend": true,
         "type": "box",
         "x": [
          "09/09/2024",
          "10/09/2024",
          "11/09/2024",
          "12/09/2024",
          "13/09/2024",
          "14/09/2024",
          "15/09/2024",
          "16/09/2024",
          "17/09/2024",
          "18/09/2024",
          "19/09/2024",
          "20/09/2024",
          "21/09/2024",
          "22/09/2024",
          "23/09/2024",
          "24/09/2024",
          "25/09/2024",
          "26/09/2024",
          "27/09/2024",
          "28/09/2024",
          "29/09/2024",
          "30/09/2024",
          "01/10/2024",
          "02/10/2024",
          "03/10/2024",
          "04/10/2024",
          "05/10/2024",
          "06/10/2024",
          "07/10/2024",
          "08/10/2024",
          "09/10/2024"
         ],
         "x0": " ",
         "xaxis": "x",
         "y": [
          0.1330444825387354,
          0.12392764684471097,
          0.11791413511654514,
          0.121602141383431,
          0.08241827262200777,
          0.07864734013141271,
          0.06586451256276764,
          0.05943556122443905,
          0.06335216684224187,
          0.15250162393679917,
          0.29780780016332004,
          0.31409930994562335,
          0.265759619624578,
          0.273899467166021,
          0.21943380207069946,
          0.2427530550711287,
          0.11706032563144847,
          0.06960271395441223,
          0.08029597655080292,
          0.13247796981174273,
          0.10876657741936249,
          0.19216677903087626,
          0.2041879477674877,
          0.1724561136109803,
          0.16473510171876435,
          0.2393665382058037,
          0.2185098915205496,
          0.1382617673485177,
          0.1402739025246812,
          0.11907419496253181,
          0.1244803352817143
         ],
         "y0": " ",
         "yaxis": "y"
        },
        {
         "alignmentgroup": "True",
         "boxpoints": "all",
         "customdata": [
          [
           "Eólica",
           "Renovable",
           138196.934
          ],
          [
           "Eólica",
           "Renovable",
           157356.653
          ],
          [
           "Eólica",
           "Renovable",
           169068.701
          ],
          [
           "Eólica",
           "Renovable",
           191594.307
          ],
          [
           "Eólica",
           "Renovable",
           252078.994
          ],
          [
           "Eólica",
           "Renovable",
           167846.392
          ],
          [
           "Eólica",
           "Renovable",
           181355.473
          ],
          [
           "Eólica",
           "Renovable",
           257515.303
          ],
          [
           "Eólica",
           "Renovable",
           265833.009
          ],
          [
           "Eólica",
           "Renovable",
           170713.706
          ],
          [
           "Eólica",
           "Renovable",
           98488.398
          ],
          [
           "Eólica",
           "Renovable",
           84157.676
          ],
          [
           "Eólica",
           "Renovable",
           103499.279
          ],
          [
           "Eólica",
           "Renovable",
           53478.32
          ],
          [
           "Eólica",
           "Renovable",
           90237.415
          ],
          [
           "Eólica",
           "Renovable",
           123748.272
          ],
          [
           "Eólica",
           "Renovable",
           268172.999
          ],
          [
           "Eólica",
           "Renovable",
           354056.721
          ],
          [
           "Eólica",
           "Renovable",
           256074.662
          ],
          [
           "Eólica",
           "Renovable",
           127266.75
          ],
          [
           "Eólica",
           "Renovable",
           137854.929
          ],
          [
           "Eólica",
           "Renovable",
           75496.802
          ],
          [
           "Eólica",
           "Renovable",
           133250.269
          ],
          [
           "Eólica",
           "Renovable",
           226460.488
          ],
          [
           "Eólica",
           "Renovable",
           235490.559
          ],
          [
           "Eólica",
           "Renovable",
           130141.475
          ],
          [
           "Eólica",
           "Renovable",
           151013.035
          ],
          [
           "Eólica",
           "Renovable",
           216702.928
          ],
          [
           "Eólica",
           "Renovable",
           294934.188
          ],
          [
           "Eólica",
           "Renovable",
           325019.499
          ],
          [
           "Eólica",
           "Renovable",
           355754.33
          ]
         ],
         "fillcolor": "rgba(255,255,255,0)",
         "hoveron": "points",
         "hovertemplate": "nombre=%{customdata[0]}<br>Fecha actualización=%{x}<br>Porcentaje=%{y}<br>tipo de energía=%{customdata[1]}<br>Valores=%{customdata[2]}<extra></extra>",
         "legendgroup": "Eólica",
         "line": {
          "color": "rgba(255,255,255,0)"
         },
         "marker": {
          "color": "#EF553B"
         },
         "name": "Eólica",
         "offsetgroup": "Eólica",
         "orientation": "v",
         "pointpos": 0,
         "showlegend": true,
         "type": "box",
         "x": [
          "09/09/2024",
          "10/09/2024",
          "11/09/2024",
          "12/09/2024",
          "13/09/2024",
          "14/09/2024",
          "15/09/2024",
          "16/09/2024",
          "17/09/2024",
          "18/09/2024",
          "19/09/2024",
          "20/09/2024",
          "21/09/2024",
          "22/09/2024",
          "23/09/2024",
          "24/09/2024",
          "25/09/2024",
          "26/09/2024",
          "27/09/2024",
          "28/09/2024",
          "29/09/2024",
          "30/09/2024",
          "01/10/2024",
          "02/10/2024",
          "03/10/2024",
          "04/10/2024",
          "05/10/2024",
          "06/10/2024",
          "07/10/2024",
          "08/10/2024",
          "09/10/2024"
         ],
         "x0": " ",
         "xaxis": "x",
         "y": [
          0.3380705963991305,
          0.37747195928313165,
          0.41029081531836253,
          0.4499842002940504,
          0.5293014420382739,
          0.43460703192126254,
          0.4822805904773866,
          0.539752072985126,
          0.5698086182994903,
          0.44430277346946706,
          0.3259278598820587,
          0.28230706706341097,
          0.3438534735191961,
          0.19840991164179964,
          0.27471336090189097,
          0.4063873048967647,
          0.6462472507221675,
          0.702816491913024,
          0.5708609934046169,
          0.37509143197657896,
          0.41337698632140985,
          0.23156093812192702,
          0.3572506058529076,
          0.5423203591389699,
          0.5047196674369734,
          0.338392657048894,
          0.3975217343687118,
          0.5466740710613108,
          0.6529541945421603,
          0.6704670260355112,
          0.7117976284832352
         ],
         "y0": " ",
         "yaxis": "y"
        },
        {
         "alignmentgroup": "True",
         "boxpoints": "all",
         "customdata": [
          [
           "Solar fotovoltaica",
           "Renovable",
           179876.558
          ],
          [
           "Solar fotovoltaica",
           "Renovable",
           171718.837
          ],
          [
           "Solar fotovoltaica",
           "Renovable",
           162300.438
          ],
          [
           "Solar fotovoltaica",
           "Renovable",
           152285.747
          ],
          [
           "Solar fotovoltaica",
           "Renovable",
           151206.508
          ],
          [
           "Solar fotovoltaica",
           "Renovable",
           153991.676
          ],
          [
           "Solar fotovoltaica",
           "Renovable",
           137172.852
          ],
          [
           "Solar fotovoltaica",
           "Renovable",
           159323.763
          ],
          [
           "Solar fotovoltaica",
           "Renovable",
           143761.218
          ],
          [
           "Solar fotovoltaica",
           "Renovable",
           130610.977
          ],
          [
           "Solar fotovoltaica",
           "Renovable",
           95711.286
          ],
          [
           "Solar fotovoltaica",
           "Renovable",
           103155.812
          ],
          [
           "Solar fotovoltaica",
           "Renovable",
           98161.878
          ],
          [
           "Solar fotovoltaica",
           "Renovable",
           122809.738
          ],
          [
           "Solar fotovoltaica",
           "Renovable",
           143168.545
          ],
          [
           "Solar fotovoltaica",
           "Renovable",
           93150.995
          ],
          [
           "Solar fotovoltaica",
           "Renovable",
           85671.266
          ],
          [
           "Solar fotovoltaica",
           "Renovable",
           99578.017
          ],
          [
           "Solar fotovoltaica",
           "Renovable",
           131158.994
          ],
          [
           "Solar fotovoltaica",
           "Renovable",
           138737.98
          ],
          [
           "Solar fotovoltaica",
           "Renovable",
           128554.397
          ],
          [
           "Solar fotovoltaica",
           "Renovable",
           156801.696
          ],
          [
           "Solar fotovoltaica",
           "Renovable",
           136356.044
          ],
          [
           "Solar fotovoltaica",
           "Renovable",
           99729.262
          ],
          [
           "Solar fotovoltaica",
           "Renovable",
           133419.305
          ],
          [
           "Solar fotovoltaica",
           "Renovable",
           139022.681
          ],
          [
           "Solar fotovoltaica",
           "Renovable",
           120892.099
          ],
          [
           "Solar fotovoltaica",
           "Renovable",
           104505.558
          ],
          [
           "Solar fotovoltaica",
           "Renovable",
           79728.685
          ],
          [
           "Solar fotovoltaica",
           "Renovable",
           88050.07
          ],
          [
           "Solar fotovoltaica",
           "Renovable",
           68292.567
          ]
         ],
         "fillcolor": "rgba(255,255,255,0)",
         "hoveron": "points",
         "hovertemplate": "nombre=%{customdata[0]}<br>Fecha actualización=%{x}<br>Porcentaje=%{y}<br>tipo de energía=%{customdata[1]}<br>Valores=%{customdata[2]}<extra></extra>",
         "legendgroup": "Solar fotovoltaica",
         "line": {
          "color": "rgba(255,255,255,0)"
         },
         "marker": {
          "color": "#00cc96"
         },
         "name": "Solar fotovoltaica",
         "offsetgroup": "Solar fotovoltaica",
         "orientation": "v",
         "pointpos": 0,
         "showlegend": true,
         "type": "box",
         "x": [
          "09/09/2024",
          "10/09/2024",
          "11/09/2024",
          "12/09/2024",
          "13/09/2024",
          "14/09/2024",
          "15/09/2024",
          "16/09/2024",
          "17/09/2024",
          "18/09/2024",
          "19/09/2024",
          "20/09/2024",
          "21/09/2024",
          "22/09/2024",
          "23/09/2024",
          "24/09/2024",
          "25/09/2024",
          "26/09/2024",
          "27/09/2024",
          "28/09/2024",
          "29/09/2024",
          "30/09/2024",
          "01/10/2024",
          "02/10/2024",
          "03/10/2024",
          "04/10/2024",
          "05/10/2024",
          "06/10/2024",
          "07/10/2024",
          "08/10/2024",
          "09/10/2024"
         ],
         "x0": " ",
         "xaxis": "x",
         "y": [
          0.44003129071794594,
          0.4119244061972437,
          0.3938657991673299,
          0.35766292408665923,
          0.31749501003630554,
          0.39873282022613105,
          0.3647852638008182,
          0.33394260594695957,
          0.3081497715493707,
          0.33993063993735084,
          0.31673755737746534,
          0.34603634653913934,
          0.32612113865515485,
          0.45563640116840926,
          0.4358537107072895,
          0.3059063467690442,
          0.20645188115447635,
          0.1976662733076474,
          0.2923895438307371,
          0.40890042047697434,
          0.3854880604974675,
          0.4809362365424328,
          0.3655773432675451,
          0.23882845816575485,
          0.2859534901748317,
          0.3614854865725995,
          0.31823237554264117,
          0.26363501115404375,
          0.17651117237070058,
          0.18163423658196762,
          0.13664060598681244
         ],
         "y0": " ",
         "yaxis": "y"
        },
        {
         "alignmentgroup": "True",
         "boxpoints": "all",
         "customdata": [
          [
           "Solar térmica",
           "Renovable",
           23507.241
          ],
          [
           "Solar térmica",
           "Renovable",
           23513.031
          ],
          [
           "Solar térmica",
           "Renovable",
           19987.539
          ],
          [
           "Solar térmica",
           "Renovable",
           17346.651
          ],
          [
           "Solar térmica",
           "Renovable",
           20350.289
          ],
          [
           "Solar térmica",
           "Renovable",
           21080.551
          ],
          [
           "Solar térmica",
           "Renovable",
           20732.747
          ],
          [
           "Solar térmica",
           "Renovable",
           20365.067
          ],
          [
           "Solar térmica",
           "Renovable",
           15102.066
          ],
          [
           "Solar térmica",
           "Renovable",
           11532.644
          ],
          [
           "Solar térmica",
           "Renovable",
           4240.61
          ],
          [
           "Solar térmica",
           "Renovable",
           4136.378
          ],
          [
           "Solar térmica",
           "Renovable",
           7371.57
          ],
          [
           "Solar térmica",
           "Renovable",
           7547.968
          ],
          [
           "Solar térmica",
           "Renovable",
           11036.212
          ],
          [
           "Solar térmica",
           "Renovable",
           1873.764
          ],
          [
           "Solar térmica",
           "Renovable",
           1257.512
          ],
          [
           "Solar térmica",
           "Renovable",
           4307.415
          ],
          [
           "Solar térmica",
           "Renovable",
           14081.507
          ],
          [
           "Solar térmica",
           "Renovable",
           17333.305
          ],
          [
           "Solar térmica",
           "Renovable",
           20145.734
          ],
          [
           "Solar térmica",
           "Renovable",
           20100.509
          ],
          [
           "Solar térmica",
           "Renovable",
           14766.598
          ],
          [
           "Solar térmica",
           "Renovable",
           6991.956
          ],
          [
           "Solar térmica",
           "Renovable",
           10708.082
          ],
          [
           "Solar térmica",
           "Renovable",
           11562.392
          ],
          [
           "Solar térmica",
           "Renovable",
           12727.6
          ],
          [
           "Solar térmica",
           "Renovable",
           8865.7
          ],
          [
           "Solar térmica",
           "Renovable",
           1804.5
          ],
          [
           "Solar térmica",
           "Renovable",
           3398.666
          ],
          [
           "Solar térmica",
           "Renovable",
           2952.161
          ]
         ],
         "fillcolor": "rgba(255,255,255,0)",
         "hoveron": "points",
         "hovertemplate": "nombre=%{customdata[0]}<br>Fecha actualización=%{x}<br>Porcentaje=%{y}<br>tipo de energía=%{customdata[1]}<br>Valores=%{customdata[2]}<extra></extra>",
         "legendgroup": "Solar térmica",
         "line": {
          "color": "rgba(255,255,255,0)"
         },
         "marker": {
          "color": "#ab63fa"
         },
         "name": "Solar térmica",
         "offsetgroup": "Solar térmica",
         "orientation": "v",
         "pointpos": 0,
         "showlegend": true,
         "type": "box",
         "x": [
          "09/09/2024",
          "10/09/2024",
          "11/09/2024",
          "12/09/2024",
          "13/09/2024",
          "14/09/2024",
          "15/09/2024",
          "16/09/2024",
          "17/09/2024",
          "18/09/2024",
          "19/09/2024",
          "20/09/2024",
          "21/09/2024",
          "22/09/2024",
          "23/09/2024",
          "24/09/2024",
          "25/09/2024",
          "26/09/2024",
          "27/09/2024",
          "28/09/2024",
          "29/09/2024",
          "30/09/2024",
          "01/10/2024",
          "02/10/2024",
          "03/10/2024",
          "04/10/2024",
          "05/10/2024",
          "06/10/2024",
          "07/10/2024",
          "08/10/2024",
          "09/10/2024"
         ],
         "x0": " ",
         "xaxis": "x",
         "y": [
          0.05750566785054793,
          0.05640377900167343,
          0.0485051557385395,
          0.04074087064609384,
          0.04273040423826677,
          0.05458416825173581,
          0.055134820581776794,
          0.042685180265698536,
          0.03237102643234087,
          0.030015081007239153,
          0.014033459473007742,
          0.01387548702563528,
          0.02449041166547547,
          0.028003715598304717,
          0.03359798028507111,
          0.0061534103843695,
          0.0030303709761255056,
          0.008550387889723291,
          0.031391559835990596,
          0.05108619646008714,
          0.06040975733376034,
          0.0616515216203229,
          0.03958998448165484,
          0.01674411338813275,
          0.022950302589106516,
          0.030064424509718173,
          0.033503714605505525,
          0.022365402980656833,
          0.003994978852879979,
          0.0070109439357298586,
          0.005906719951098547
         ],
         "y0": " ",
         "yaxis": "y"
        },
        {
         "alignmentgroup": "True",
         "boxpoints": "all",
         "customdata": [
          [
           "Hidroeólica",
           "Renovable",
           75.557
          ],
          [
           "Hidroeólica",
           "Renovable",
           127.665
          ],
          [
           "Hidroeólica",
           "Renovable",
           130.519
          ],
          [
           "Hidroeólica",
           "Renovable",
           135.462
          ],
          [
           "Hidroeólica",
           "Renovable",
           133.996
          ],
          [
           "Hidroeólica",
           "Renovable",
           115.127
          ],
          [
           "Hidroeólica",
           "Renovable",
           81.171
          ],
          [
           "Hidroeólica",
           "Renovable",
           42.668
          ],
          [
           "Hidroeólica",
           "Renovable",
           17.155
          ],
          [
           "Hidroeólica",
           "Renovable",
           16.763
          ],
          [
           "Hidroeólica",
           "Renovable",
           16.111
          ],
          [
           "Hidroeólica",
           "Renovable",
           13.234
          ],
          [
           "Hidroeólica",
           "Renovable",
           21.902
          ],
          [
           "Hidroeólica",
           "Renovable",
           57.731
          ],
          [
           "Hidroeólica",
           "Renovable",
           106.414
          ],
          [
           "Hidroeólica",
           "Renovable",
           81.656
          ],
          [
           "Hidroeólica",
           "Renovable",
           55.026
          ],
          [
           "Hidroeólica",
           "Renovable",
           43.199
          ],
          [
           "Hidroeólica",
           "Renovable",
           61.214
          ],
          [
           "Hidroeólica",
           "Renovable",
           59.505
          ],
          [
           "Hidroeólica",
           "Renovable",
           44.757
          ],
          [
           "Hidroeólica",
           "Renovable",
           110.594
          ],
          [
           "Hidroeólica",
           "Renovable",
           189.12
          ],
          [
           "Hidroeólica",
           "Renovable",
           182.27
          ],
          [
           "Hidroeólica",
           "Renovable",
           164.64
          ],
          [
           "Hidroeólica",
           "Renovable",
           150.698
          ],
          [
           "Hidroeólica",
           "Renovable",
           50.153
          ],
          [
           "Hidroeólica",
           "Renovable",
           1.722
          ],
          [
           "Hidroeólica",
           "Renovable",
           5.562
          ],
          [
           "Hidroeólica",
           "Renovable",
           13.737
          ],
          [
           "Hidroeólica",
           "Renovable",
           17.123
          ]
         ],
         "fillcolor": "rgba(255,255,255,0)",
         "hoveron": "points",
         "hovertemplate": "nombre=%{customdata[0]}<br>Fecha actualización=%{x}<br>Porcentaje=%{y}<br>tipo de energía=%{customdata[1]}<br>Valores=%{customdata[2]}<extra></extra>",
         "legendgroup": "Hidroeólica",
         "line": {
          "color": "rgba(255,255,255,0)"
         },
         "marker": {
          "color": "#FFA15A"
         },
         "name": "Hidroeólica",
         "offsetgroup": "Hidroeólica",
         "orientation": "v",
         "pointpos": 0,
         "showlegend": true,
         "type": "box",
         "x": [
          "09/09/2024",
          "10/09/2024",
          "11/09/2024",
          "12/09/2024",
          "13/09/2024",
          "14/09/2024",
          "15/09/2024",
          "16/09/2024",
          "17/09/2024",
          "18/09/2024",
          "19/09/2024",
          "20/09/2024",
          "21/09/2024",
          "22/09/2024",
          "23/09/2024",
          "24/09/2024",
          "25/09/2024",
          "26/09/2024",
          "27/09/2024",
          "28/09/2024",
          "29/09/2024",
          "30/09/2024",
          "01/10/2024",
          "02/10/2024",
          "03/10/2024",
          "04/10/2024",
          "05/10/2024",
          "06/10/2024",
          "07/10/2024",
          "08/10/2024",
          "09/10/2024"
         ],
         "x0": " ",
         "xaxis": "x",
         "y": [
          0.0001848347811546174,
          0.0003062467125675392,
          0.00031673956567831774,
          0.0003181501616341484,
          0.0002813573431960005,
          0.00029809996609280224,
          0.00021585892701258568,
          0.00008943212765157242,
          0.00003677145619988733,
          0.000043627706094487086,
          0.000053316165733143994,
          0.00004439347547474078,
          0.00007276455304599207,
          0.0002141877794402056,
          0.00032396038369465513,
          0.0002681569708597646,
          0.00013260246688085847,
          0.00008575171104900653,
          0.00013646287601180244,
          0.0001753782166965553,
          0.0001342100272438379,
          0.00033920973752843723,
          0.0005070401364735848,
          0.00043649438687185047,
          0.00035286784489234357,
          0.00039184354282102783,
          0.00013202110363382872,
          0.000004344070285785788,
          0.000012313700404388166,
          0.000028337393802486344,
          0.000034259908495051735
         ],
         "y0": " ",
         "yaxis": "y"
        },
        {
         "alignmentgroup": "True",
         "boxpoints": "all",
         "customdata": [
          [
           "Otras renovables",
           "Renovable",
           10144.257
          ],
          [
           "Otras renovables",
           "Renovable",
           9949.57
          ],
          [
           "Otras renovables",
           "Renovable",
           9398.552
          ],
          [
           "Otras renovables",
           "Renovable",
           10116.307
          ],
          [
           "Otras renovables",
           "Renovable",
           10695.721
          ],
          [
           "Otras renovables",
           "Renovable",
           10271.1
          ],
          [
           "Otras renovables",
           "Renovable",
           9384.789
          ],
          [
           "Otras renovables",
           "Renovable",
           9018.305
          ],
          [
           "Otras renovables",
           "Renovable",
           9777.709
          ],
          [
           "Otras renovables",
           "Renovable",
           10093.205
          ],
          [
           "Otras renovables",
           "Renovable",
           10968.444
          ],
          [
           "Otras renovables",
           "Renovable",
           10272.078
          ],
          [
           "Otras renovables",
           "Renovable",
           9258.75
          ],
          [
           "Otras renovables",
           "Renovable",
           9223.923
          ],
          [
           "Otras renovables",
           "Renovable",
           9261.121
          ],
          [
           "Otras renovables",
           "Renovable",
           9155.37
          ],
          [
           "Otras renovables",
           "Renovable",
           8778.51
          ],
          [
           "Otras renovables",
           "Renovable",
           8337.314
          ],
          [
           "Otras renovables",
           "Renovable",
           9236.007
          ],
          [
           "Otras renovables",
           "Renovable",
           8771.495
          ],
          [
           "Otras renovables",
           "Renovable",
           8712.808
          ],
          [
           "Otras renovables",
           "Renovable",
           9003.48
          ],
          [
           "Otras renovables",
           "Renovable",
           10321.193
          ],
          [
           "Otras renovables",
           "Renovable",
           10170.486
          ],
          [
           "Otras renovables",
           "Renovable",
           8054.556
          ],
          [
           "Otras renovables",
           "Renovable",
           9631.226
          ],
          [
           "Otras renovables",
           "Renovable",
           10221.698
          ],
          [
           "Otras renovables",
           "Renovable",
           9639.618
          ],
          [
           "Otras renovables",
           "Renovable",
           10001.668
          ],
          [
           "Otras renovables",
           "Renovable",
           8601.95
          ],
          [
           "Otras renovables",
           "Renovable",
           8199.484
          ]
         ],
         "fillcolor": "rgba(255,255,255,0)",
         "hoveron": "points",
         "hovertemplate": "nombre=%{customdata[0]}<br>Fecha actualización=%{x}<br>Porcentaje=%{y}<br>tipo de energía=%{customdata[1]}<br>Valores=%{customdata[2]}<extra></extra>",
         "legendgroup": "Otras renovables",
         "line": {
          "color": "rgba(255,255,255,0)"
         },
         "marker": {
          "color": "#19d3f3"
         },
         "name": "Otras renovables",
         "offsetgroup": "Otras renovables",
         "orientation": "v",
         "pointpos": 0,
         "showlegend": true,
         "type": "box",
         "x": [
          "09/09/2024",
          "10/09/2024",
          "11/09/2024",
          "12/09/2024",
          "13/09/2024",
          "14/09/2024",
          "15/09/2024",
          "16/09/2024",
          "17/09/2024",
          "18/09/2024",
          "19/09/2024",
          "20/09/2024",
          "21/09/2024",
          "22/09/2024",
          "23/09/2024",
          "24/09/2024",
          "25/09/2024",
          "26/09/2024",
          "27/09/2024",
          "28/09/2024",
          "29/09/2024",
          "30/09/2024",
          "01/10/2024",
          "02/10/2024",
          "03/10/2024",
          "04/10/2024",
          "05/10/2024",
          "06/10/2024",
          "07/10/2024",
          "08/10/2024",
          "09/10/2024"
         ],
         "x0": " ",
         "xaxis": "x",
         "y": [
          0.024815854554458165,
          0.023867333286026797,
          0.022808122024265312,
          0.023759465438208997,
          0.022458279680928308,
          0.026595104204363715,
          0.024957071907202286,
          0.018902367206356376,
          0.02095835606113344,
          0.02626876939040789,
          0.036297894490640484,
          0.03445770309563429,
          0.030760150009797236,
          0.03422167613755936,
          0.028193999968074014,
          0.030066085606695932,
          0.02115458295239132,
          0.01654989562380696,
          0.020589604961040602,
          0.025852098997777524,
          0.026126554484222107,
          0.027615133620653327,
          0.027671632335502367,
          0.02435595572918604,
          0.017263081980592173,
          0.025043024575973117,
          0.026907260801381765,
          0.024317757328760646,
          0.022142672293447713,
          0.017744547180555976,
          0.016405628192877462
         ],
         "y0": " ",
         "yaxis": "y"
        },
        {
         "alignmentgroup": "True",
         "boxpoints": "all",
         "customdata": [
          [
           "Residuos renovables",
           "Renovable",
           2594.6465
          ],
          [
           "Residuos renovables",
           "Renovable",
           2542.334
          ],
          [
           "Residuos renovables",
           "Renovable",
           2595.7275
          ],
          [
           "Residuos renovables",
           "Renovable",
           2525.833
          ],
          [
           "Residuos renovables",
           "Renovable",
           2531.372
          ],
          [
           "Residuos renovables",
           "Renovable",
           2524.0025
          ],
          [
           "Residuos renovables",
           "Renovable",
           2542.7195
          ],
          [
           "Residuos renovables",
           "Renovable",
           2477.4715
          ],
          [
           "Residuos renovables",
           "Renovable",
           2483.476
          ],
          [
           "Residuos renovables",
           "Renovable",
           2665.578
          ],
          [
           "Residuos renovables",
           "Renovable",
           2762.55
          ],
          [
           "Residuos renovables",
           "Renovable",
           2736.5295
          ],
          [
           "Residuos renovables",
           "Renovable",
           2691.659
          ],
          [
           "Residuos renovables",
           "Renovable",
           2591.4775
          ],
          [
           "Residuos renovables",
           "Renovable",
           2589.4565
          ],
          [
           "Residuos renovables",
           "Renovable",
           2577.857
          ],
          [
           "Residuos renovables",
           "Renovable",
           2457.8595
          ],
          [
           "Residuos renovables",
           "Renovable",
           2382.0615
          ],
          [
           "Residuos renovables",
           "Renovable",
           1944.963
          ],
          [
           "Residuos renovables",
           "Renovable",
           2177.0895
          ],
          [
           "Residuos renovables",
           "Renovable",
           1900.1475
          ],
          [
           "Residuos renovables",
           "Renovable",
           1868.2355
          ],
          [
           "Residuos renovables",
           "Renovable",
           1945.3
          ],
          [
           "Residuos renovables",
           "Renovable",
           2028.8
          ],
          [
           "Residuos renovables",
           "Renovable",
           1878.2
          ],
          [
           "Residuos renovables",
           "Renovable",
           2021.4
          ],
          [
           "Residuos renovables",
           "Renovable",
           1972.75
          ],
          [
           "Residuos renovables",
           "Renovable",
           1879.6
          ],
          [
           "Residuos renovables",
           "Renovable",
           1856.8
          ],
          [
           "Residuos renovables",
           "Renovable",
           1958.8
          ],
          [
           "Residuos renovables",
           "Renovable",
           2366.45
          ]
         ],
         "fillcolor": "rgba(255,255,255,0)",
         "hoveron": "points",
         "hovertemplate": "nombre=%{customdata[0]}<br>Fecha actualización=%{x}<br>Porcentaje=%{y}<br>tipo de energía=%{customdata[1]}<br>Valores=%{customdata[2]}<extra></extra>",
         "legendgroup": "Residuos renovables",
         "line": {
          "color": "rgba(255,255,255,0)"
         },
         "marker": {
          "color": "#FF6692"
         },
         "name": "Residuos renovables",
         "offsetgroup": "Residuos renovables",
         "orientation": "v",
         "pointpos": 0,
         "showlegend": true,
         "type": "box",
         "x": [
          "09/09/2024",
          "10/09/2024",
          "11/09/2024",
          "12/09/2024",
          "13/09/2024",
          "14/09/2024",
          "15/09/2024",
          "16/09/2024",
          "17/09/2024",
          "18/09/2024",
          "19/09/2024",
          "20/09/2024",
          "21/09/2024",
          "22/09/2024",
          "23/09/2024",
          "24/09/2024",
          "25/09/2024",
          "26/09/2024",
          "27/09/2024",
          "28/09/2024",
          "29/09/2024",
          "30/09/2024",
          "01/10/2024",
          "02/10/2024",
          "03/10/2024",
          "04/10/2024",
          "05/10/2024",
          "06/10/2024",
          "07/10/2024",
          "08/10/2024",
          "09/10/2024"
         ],
         "x0": " ",
         "xaxis": "x",
         "y": [
          0.006347273158027634,
          0.006098628674646004,
          0.006299233069279304,
          0.005932247989922384,
          0.0053152340410217176,
          0.0065354352990015215,
          0.006761881743036039,
          0.005192780243768928,
          0.005323289359223048,
          0.006937484552641573,
          0.009142112447774624,
          0.009179692855081958,
          0.00894244197275235,
          0.009614640508466082,
          0.007883185683280572,
          0.008465640301136966,
          0.005922986096509892,
          0.004728485600337115,
          0.004335858540800198,
          0.006416504060142765,
          0.005697853916533961,
          0.005730181326259189,
          0.005215446158428852,
          0.004858505580104297,
          0.004025488254839649,
          0.005256025544190538,
          0.005193002057576528,
          0.004741646056424488,
          0.004110765715725988,
          0.004040713909901015,
          0.004734822195766815
         ],
         "y0": " ",
         "yaxis": "y"
        },
        {
         "alignmentgroup": "True",
         "boxpoints": "all",
         "customdata": [
          [
           "Generación renovable",
           "Renovable",
           408781.2884999999
          ],
          [
           "Generación renovable",
           "Renovable",
           416869.78099999996
          ],
          [
           "Generación renovable",
           "Renovable",
           412070.4015
          ],
          [
           "Generación renovable",
           "Renovable",
           425780.076
          ],
          [
           "Generación renovable",
           "Renovable",
           476248.455
          ],
          [
           "Generación renovable",
           "Renovable",
           386202.66049999994
          ],
          [
           "Generación renovable",
           "Renovable",
           376037.26249999995
          ],
          [
           "Generación renovable",
           "Renovable",
           477099.23850000004
          ],
          [
           "Generación renovable",
           "Renovable",
           466530.341
          ],
          [
           "Generación renovable",
           "Renovable",
           384228.31499999994
          ],
          [
           "Generación renovable",
           "Renovable",
           302178.519
          ],
          [
           "Generación renovable",
           "Renovable",
           298106.86950000003
          ],
          [
           "Generación renovable",
           "Renovable",
           300998.207
          ],
          [
           "Generación renovable",
           "Renovable",
           269534.51849999995
          ],
          [
           "Generación renovable",
           "Renovable",
           328478.4354999999
          ],
          [
           "Generación renovable",
           "Renovable",
           304508.21300000005
          ],
          [
           "Generación renovable",
           "Renovable",
           414969.65550000005
          ],
          [
           "Generación renovable",
           "Renovable",
           503768.37350000005
          ],
          [
           "Generación renovable",
           "Renovable",
           448576.21199999994
          ],
          [
           "Generación renovable",
           "Renovable",
           339295.2735
          ],
          [
           "Generación renovable",
           "Renovable",
           333484.7695
          ],
          [
           "Generación renovable",
           "Renovable",
           326034.2725
          ],
          [
           "Generación renovable",
           "Renovable",
           372988.224
          ],
          [
           "Generación renovable",
           "Renovable",
           417576.962
          ],
          [
           "Generación renovable",
           "Renovable",
           466576.942
          ],
          [
           "Generación renovable",
           "Renovable",
           384587.172
          ],
          [
           "Generación renovable",
           "Renovable",
           379886.2349999999
          ],
          [
           "Generación renovable",
           "Renovable",
           396402.42600000004
          ],
          [
           "Generación renovable",
           "Renovable",
           451692.00299999997
          ],
          [
           "Generación renovable",
           "Renovable",
           484765.82200000004
          ],
          [
           "Generación renovable",
           "Renovable",
           499797.0150000001
          ]
         ],
         "fillcolor": "rgba(255,255,255,0)",
         "hoveron": "points",
         "hovertemplate": "nombre=%{customdata[0]}<br>Fecha actualización=%{x}<br>Porcentaje=%{y}<br>tipo de energía=%{customdata[1]}<br>Valores=%{customdata[2]}<extra></extra>",
         "legendgroup": "Generación renovable",
         "line": {
          "color": "rgba(255,255,255,0)"
         },
         "marker": {
          "color": "#B6E880"
         },
         "name": "Generación renovable",
         "offsetgroup": "Generación renovable",
         "orientation": "v",
         "pointpos": 0,
         "showlegend": true,
         "type": "box",
         "x": [
          "09/09/2024",
          "10/09/2024",
          "11/09/2024",
          "12/09/2024",
          "13/09/2024",
          "14/09/2024",
          "15/09/2024",
          "16/09/2024",
          "17/09/2024",
          "18/09/2024",
          "19/09/2024",
          "20/09/2024",
          "21/09/2024",
          "22/09/2024",
          "23/09/2024",
          "24/09/2024",
          "25/09/2024",
          "26/09/2024",
          "27/09/2024",
          "28/09/2024",
          "29/09/2024",
          "30/09/2024",
          "01/10/2024",
          "02/10/2024",
          "03/10/2024",
          "04/10/2024",
          "05/10/2024",
          "06/10/2024",
          "07/10/2024",
          "08/10/2024",
          "09/10/2024"
         ],
         "x0": " ",
         "xaxis": "x",
         "y": [
          1,
          1,
          1,
          1,
          1,
          1,
          1,
          1,
          1,
          1,
          1,
          1,
          1,
          1,
          1,
          1,
          1,
          1,
          1,
          1,
          1,
          1,
          1,
          1,
          1,
          1,
          1,
          1,
          1,
          1,
          1
         ],
         "y0": " ",
         "yaxis": "y"
        },
        {
         "alignmentgroup": "True",
         "boxpoints": "all",
         "customdata": [
          [
           "Turbinación bombeo",
           "No-Renovable",
           16718.097
          ],
          [
           "Turbinación bombeo",
           "No-Renovable",
           18119.192
          ],
          [
           "Turbinación bombeo",
           "No-Renovable",
           19295.654
          ],
          [
           "Turbinación bombeo",
           "No-Renovable",
           16742.391
          ],
          [
           "Turbinación bombeo",
           "No-Renovable",
           15973.392
          ],
          [
           "Turbinación bombeo",
           "No-Renovable",
           23817.482
          ],
          [
           "Turbinación bombeo",
           "No-Renovable",
           21897.701
          ],
          [
           "Turbinación bombeo",
           "No-Renovable",
           19050.059
          ],
          [
           "Turbinación bombeo",
           "No-Renovable",
           16718.588
          ],
          [
           "Turbinación bombeo",
           "No-Renovable",
           10965.108
          ],
          [
           "Turbinación bombeo",
           "No-Renovable",
           9675.002
          ],
          [
           "Turbinación bombeo",
           "No-Renovable",
           5583.481
          ],
          [
           "Turbinación bombeo",
           "No-Renovable",
           6637.878
          ],
          [
           "Turbinación bombeo",
           "No-Renovable",
           9321.993
          ],
          [
           "Turbinación bombeo",
           "No-Renovable",
           9390.187
          ],
          [
           "Turbinación bombeo",
           "No-Renovable",
           13349.637
          ],
          [
           "Turbinación bombeo",
           "No-Renovable",
           13612.451
          ],
          [
           "Turbinación bombeo",
           "No-Renovable",
           8857.698
          ],
          [
           "Turbinación bombeo",
           "No-Renovable",
           14534.355
          ],
          [
           "Turbinación bombeo",
           "No-Renovable",
           15678.775
          ],
          [
           "Turbinación bombeo",
           "No-Renovable",
           12370.354
          ],
          [
           "Turbinación bombeo",
           "No-Renovable",
           11484.908
          ],
          [
           "Turbinación bombeo",
           "No-Renovable",
           9043.6
          ],
          [
           "Turbinación bombeo",
           "No-Renovable",
           4016
          ],
          [
           "Turbinación bombeo",
           "No-Renovable",
           4991.7
          ],
          [
           "Turbinación bombeo",
           "No-Renovable",
           12501.5
          ],
          [
           "Turbinación bombeo",
           "No-Renovable",
           9067.2
          ],
          [
           "Turbinación bombeo",
           "No-Renovable",
           3070.9
          ],
          [
           "Turbinación bombeo",
           "No-Renovable",
           9643.3
          ],
          [
           "Turbinación bombeo",
           "No-Renovable",
           8103.1
          ],
          [
           "Turbinación bombeo",
           "No-Renovable",
           6607.4
          ]
         ],
         "fillcolor": "rgba(255,255,255,0)",
         "hoveron": "points",
         "hovertemplate": "nombre=%{customdata[0]}<br>Fecha actualización=%{x}<br>Porcentaje=%{y}<br>tipo de energía=%{customdata[1]}<br>Valores=%{customdata[2]}<extra></extra>",
         "legendgroup": "Turbinación bombeo",
         "line": {
          "color": "rgba(255,255,255,0)"
         },
         "marker": {
          "color": "#FF97FF"
         },
         "name": "Turbinación bombeo",
         "offsetgroup": "Turbinación bombeo",
         "orientation": "v",
         "pointpos": 0,
         "showlegend": true,
         "type": "box",
         "x": [
          "09/09/2024",
          "10/09/2024",
          "11/09/2024",
          "12/09/2024",
          "13/09/2024",
          "14/09/2024",
          "15/09/2024",
          "16/09/2024",
          "17/09/2024",
          "18/09/2024",
          "19/09/2024",
          "20/09/2024",
          "21/09/2024",
          "22/09/2024",
          "23/09/2024",
          "24/09/2024",
          "25/09/2024",
          "26/09/2024",
          "27/09/2024",
          "28/09/2024",
          "29/09/2024",
          "30/09/2024",
          "01/10/2024",
          "02/10/2024",
          "03/10/2024",
          "04/10/2024",
          "05/10/2024",
          "06/10/2024",
          "07/10/2024",
          "08/10/2024",
          "09/10/2024"
         ],
         "x0": " ",
         "xaxis": "x",
         "y": [
          0.04715090191814879,
          0.05076189593434132,
          0.05621963740792447,
          0.047752369400006024,
          0.050942427893397584,
          0.07975283850880145,
          0.0726121374575948,
          0.060937648012750215,
          0.05517141960408998,
          0.03128791062649133,
          0.023284196517066615,
          0.013541297702589343,
          0.018830232113740686,
          0.027739475158886324,
          0.026693245142616548,
          0.03700824241433835,
          0.04319938867591157,
          0.030487660578932953,
          0.049725676738246884,
          0.05247786002236839,
          0.04199310085317813,
          0.032400888249607795,
          0.025623814114817768,
          0.011198123792280537,
          0.014983682383563018,
          0.03388639697294278,
          0.03138660874165654,
          0.011563591626028696,
          0.035733337192991745,
          0.030227259219229197,
          0.025923233699183732
         ],
         "y0": " ",
         "yaxis": "y"
        },
        {
         "alignmentgroup": "True",
         "boxpoints": "all",
         "customdata": [
          [
           "Nuclear",
           "No-Renovable",
           166309.822
          ],
          [
           "Nuclear",
           "No-Renovable",
           166185.417
          ],
          [
           "Nuclear",
           "No-Renovable",
           166239.552
          ],
          [
           "Nuclear",
           "No-Renovable",
           166178.737
          ],
          [
           "Nuclear",
           "No-Renovable",
           166907.61
          ],
          [
           "Nuclear",
           "No-Renovable",
           167008.682
          ],
          [
           "Nuclear",
           "No-Renovable",
           166810.946
          ],
          [
           "Nuclear",
           "No-Renovable",
           166835.849
          ],
          [
           "Nuclear",
           "No-Renovable",
           166704.333
          ],
          [
           "Nuclear",
           "No-Renovable",
           166471.01
          ],
          [
           "Nuclear",
           "No-Renovable",
           166435.032
          ],
          [
           "Nuclear",
           "No-Renovable",
           166411.138
          ],
          [
           "Nuclear",
           "No-Renovable",
           166479.354
          ],
          [
           "Nuclear",
           "No-Renovable",
           167121.073
          ],
          [
           "Nuclear",
           "No-Renovable",
           167062.113
          ],
          [
           "Nuclear",
           "No-Renovable",
           167134.982
          ],
          [
           "Nuclear",
           "No-Renovable",
           166581.161
          ],
          [
           "Nuclear",
           "No-Renovable",
           165999.023
          ],
          [
           "Nuclear",
           "No-Renovable",
           166568.046
          ],
          [
           "Nuclear",
           "No-Renovable",
           167486.281
          ],
          [
           "Nuclear",
           "No-Renovable",
           166296.414
          ],
          [
           "Nuclear",
           "No-Renovable",
           163814.409
          ],
          [
           "Nuclear",
           "No-Renovable",
           167039
          ],
          [
           "Nuclear",
           "No-Renovable",
           167605.8
          ],
          [
           "Nuclear",
           "No-Renovable",
           167236.2
          ],
          [
           "Nuclear",
           "No-Renovable",
           166981.4
          ],
          [
           "Nuclear",
           "No-Renovable",
           166527.4
          ],
          [
           "Nuclear",
           "No-Renovable",
           162276.1
          ],
          [
           "Nuclear",
           "No-Renovable",
           143378.2
          ],
          [
           "Nuclear",
           "No-Renovable",
           143691
          ],
          [
           "Nuclear",
           "No-Renovable",
           143776.6
          ]
         ],
         "fillcolor": "rgba(255,255,255,0)",
         "hoveron": "points",
         "hovertemplate": "nombre=%{customdata[0]}<br>Fecha actualización=%{x}<br>Porcentaje=%{y}<br>tipo de energía=%{customdata[1]}<br>Valores=%{customdata[2]}<extra></extra>",
         "legendgroup": "Nuclear",
         "line": {
          "color": "rgba(255,255,255,0)"
         },
         "marker": {
          "color": "#FECB52"
         },
         "name": "Nuclear",
         "offsetgroup": "Nuclear",
         "orientation": "v",
         "pointpos": 0,
         "showlegend": true,
         "type": "box",
         "x": [
          "09/09/2024",
          "10/09/2024",
          "11/09/2024",
          "12/09/2024",
          "13/09/2024",
          "14/09/2024",
          "15/09/2024",
          "16/09/2024",
          "17/09/2024",
          "18/09/2024",
          "19/09/2024",
          "20/09/2024",
          "21/09/2024",
          "22/09/2024",
          "23/09/2024",
          "24/09/2024",
          "25/09/2024",
          "26/09/2024",
          "27/09/2024",
          "28/09/2024",
          "29/09/2024",
          "30/09/2024",
          "01/10/2024",
          "02/10/2024",
          "03/10/2024",
          "04/10/2024",
          "05/10/2024",
          "06/10/2024",
          "07/10/2024",
          "08/10/2024",
          "09/10/2024"
         ],
         "x0": " ",
         "xaxis": "x",
         "y": [
          0.46905207603154725,
          0.46557742991845974,
          0.48435400719228305,
          0.47397223226064,
          0.5323026497618242,
          0.5592285718999924,
          0.5531402287565906,
          0.5336773099899765,
          0.5501250886595773,
          0.47500946482075196,
          0.4005483401876579,
          0.4035874324072524,
          0.47226611847424793,
          0.4973025460338715,
          0.474903208674386,
          0.4633363386414235,
          0.5286486849520048,
          0.5713585933567032,
          0.5698710957808198,
          0.5605872659047061,
          0.5645191790488666,
          0.4621484438259798,
          0.47328235281580844,
          0.4673482312510491,
          0.501996134349825,
          0.4526175264966402,
          0.5764437035209695,
          0.6110568729247436,
          0.5312892440061192,
          0.5360152416322472,
          0.5640879017880044
         ],
         "y0": " ",
         "yaxis": "y"
        },
        {
         "alignmentgroup": "True",
         "boxpoints": "all",
         "customdata": [
          [
           "Ciclo combinado",
           "No-Renovable",
           100077.672
          ],
          [
           "Ciclo combinado",
           "No-Renovable",
           98458.751
          ],
          [
           "Ciclo combinado",
           "No-Renovable",
           81726.909
          ],
          [
           "Ciclo combinado",
           "No-Renovable",
           90580.095
          ],
          [
           "Ciclo combinado",
           "No-Renovable",
           62848.156
          ],
          [
           "Ciclo combinado",
           "No-Renovable",
           53604.737
          ],
          [
           "Ciclo combinado",
           "No-Renovable",
           63743.445
          ],
          [
           "Ciclo combinado",
           "No-Renovable",
           74545.978
          ],
          [
           "Ciclo combinado",
           "No-Renovable",
           66388.354
          ],
          [
           "Ciclo combinado",
           "No-Renovable",
           99784.679
          ],
          [
           "Ciclo combinado",
           "No-Renovable",
           158749.278
          ],
          [
           "Ciclo combinado",
           "No-Renovable",
           158342.694
          ],
          [
           "Ciclo combinado",
           "No-Renovable",
           107295.67
          ],
          [
           "Ciclo combinado",
           "No-Renovable",
           91593.33
          ],
          [
           "Ciclo combinado",
           "No-Renovable",
           96621.58
          ],
          [
           "Ciclo combinado",
           "No-Renovable",
           98832.084
          ],
          [
           "Ciclo combinado",
           "No-Renovable",
           62511.042
          ],
          [
           "Ciclo combinado",
           "No-Renovable",
           59714.396
          ],
          [
           "Ciclo combinado",
           "No-Renovable",
           57852.916
          ],
          [
           "Ciclo combinado",
           "No-Renovable",
           66137.745
          ],
          [
           "Ciclo combinado",
           "No-Renovable",
           67254.129
          ],
          [
           "Ciclo combinado",
           "No-Renovable",
           111944.997
          ],
          [
           "Ciclo combinado",
           "No-Renovable",
           101831.596
          ],
          [
           "Ciclo combinado",
           "No-Renovable",
           112140.344
          ],
          [
           "Ciclo combinado",
           "No-Renovable",
           98210.419
          ],
          [
           "Ciclo combinado",
           "No-Renovable",
           115801.186
          ],
          [
           "Ciclo combinado",
           "No-Renovable",
           54493.427
          ],
          [
           "Ciclo combinado",
           "No-Renovable",
           54462.916
          ],
          [
           "Ciclo combinado",
           "No-Renovable",
           59973.139
          ],
          [
           "Ciclo combinado",
           "No-Renovable",
           64127.222
          ],
          [
           "Ciclo combinado",
           "No-Renovable",
           52350.79
          ]
         ],
         "fillcolor": "rgba(255,255,255,0)",
         "hoveron": "points",
         "hovertemplate": "nombre=%{customdata[0]}<br>Fecha actualización=%{x}<br>Porcentaje=%{y}<br>tipo de energía=%{customdata[1]}<br>Valores=%{customdata[2]}<extra></extra>",
         "legendgroup": "Ciclo combinado",
         "line": {
          "color": "rgba(255,255,255,0)"
         },
         "marker": {
          "color": "#636efa"
         },
         "name": "Ciclo combinado",
         "offsetgroup": "Ciclo combinado",
         "orientation": "v",
         "pointpos": 0,
         "showlegend": true,
         "type": "box",
         "x": [
          "09/09/2024",
          "10/09/2024",
          "11/09/2024",
          "12/09/2024",
          "13/09/2024",
          "14/09/2024",
          "15/09/2024",
          "16/09/2024",
          "17/09/2024",
          "18/09/2024",
          "19/09/2024",
          "20/09/2024",
          "21/09/2024",
          "22/09/2024",
          "23/09/2024",
          "24/09/2024",
          "25/09/2024",
          "26/09/2024",
          "27/09/2024",
          "28/09/2024",
          "29/09/2024",
          "30/09/2024",
          "01/10/2024",
          "02/10/2024",
          "03/10/2024",
          "04/10/2024",
          "05/10/2024",
          "06/10/2024",
          "07/10/2024",
          "08/10/2024",
          "09/10/2024"
         ],
         "x0": " ",
         "xaxis": "x",
         "y": [
          0.28225416425497857,
          0.27583751373059157,
          0.2381187593045791,
          0.2583510417793754,
          0.2004356779864291,
          0.17949546191607382,
          0.21137140334323834,
          0.23845892383484066,
          0.21908188271395082,
          0.2847262533524637,
          0.3820515371360584,
          0.3840194958098733,
          0.3043747370619531,
          0.27255447437631386,
          0.2746637016927284,
          0.2739851070846534,
          0.19838005660363683,
          0.20553333799865287,
          0.19792934735534884,
          0.22136725122371453,
          0.22830465659185276,
          0.31581596804255463,
          0.28852601695333946,
          0.3126896051346922,
          0.29480011319843796,
          0.3138891300030864,
          0.188631978145516,
          0.2050821972017012,
          0.22223102033631265,
          0.23921587570226915,
          0.2053911922249131
         ],
         "y0": " ",
         "yaxis": "y"
        },
        {
         "alignmentgroup": "True",
         "boxpoints": "all",
         "customdata": [
          [
           "Carbón",
           "No-Renovable",
           7820.837
          ],
          [
           "Carbón",
           "No-Renovable",
           11845.921
          ],
          [
           "Carbón",
           "No-Renovable",
           12687.281
          ],
          [
           "Carbón",
           "No-Renovable",
           13015.609
          ],
          [
           "Carbón",
           "No-Renovable",
           12269.678
          ],
          [
           "Carbón",
           "No-Renovable",
           5836.2
          ],
          [
           "Carbón",
           "No-Renovable",
           5878.057
          ],
          [
           "Carbón",
           "No-Renovable",
           7884.831
          ],
          [
           "Carbón",
           "No-Renovable",
           8722.674
          ],
          [
           "Carbón",
           "No-Renovable",
           8845.139
          ],
          [
           "Carbón",
           "No-Renovable",
           9335.246
          ],
          [
           "Carbón",
           "No-Renovable",
           9333.218
          ],
          [
           "Carbón",
           "No-Renovable",
           5925.746
          ],
          [
           "Carbón",
           "No-Renovable",
           7597.991
          ],
          [
           "Carbón",
           "No-Renovable",
           11332.216
          ],
          [
           "Carbón",
           "No-Renovable",
           13035.823
          ],
          [
           "Carbón",
           "No-Renovable",
           12953.608
          ],
          [
           "Carbón",
           "No-Renovable",
           13291.885
          ],
          [
           "Carbón",
           "No-Renovable",
           11626.564
          ],
          [
           "Carbón",
           "No-Renovable",
           7497.911
          ],
          [
           "Carbón",
           "No-Renovable",
           6173.928
          ],
          [
           "Carbón",
           "No-Renovable",
           8421.21
          ],
          [
           "Carbón",
           "No-Renovable",
           8901.3
          ],
          [
           "Carbón",
           "No-Renovable",
           8764
          ],
          [
           "Carbón",
           "No-Renovable",
           9364
          ],
          [
           "Carbón",
           "No-Renovable",
           9396.5
          ],
          [
           "Carbón",
           "No-Renovable",
           5769.5
          ],
          [
           "Carbón",
           "No-Renovable",
           5884
          ],
          [
           "Carbón",
           "No-Renovable",
           8009.9
          ],
          [
           "Carbón",
           "No-Renovable",
           8764
          ],
          [
           "Carbón",
           "No-Renovable",
           9814
          ]
         ],
         "fillcolor": "rgba(255,255,255,0)",
         "hoveron": "points",
         "hovertemplate": "nombre=%{customdata[0]}<br>Fecha actualización=%{x}<br>Porcentaje=%{y}<br>tipo de energía=%{customdata[1]}<br>Valores=%{customdata[2]}<extra></extra>",
         "legendgroup": "Carbón",
         "line": {
          "color": "rgba(255,255,255,0)"
         },
         "marker": {
          "color": "#EF553B"
         },
         "name": "Carbón",
         "offsetgroup": "Carbón",
         "orientation": "v",
         "pointpos": 0,
         "showlegend": true,
         "type": "box",
         "x": [
          "09/09/2024",
          "10/09/2024",
          "11/09/2024",
          "12/09/2024",
          "13/09/2024",
          "14/09/2024",
          "15/09/2024",
          "16/09/2024",
          "17/09/2024",
          "18/09/2024",
          "19/09/2024",
          "20/09/2024",
          "21/09/2024",
          "22/09/2024",
          "23/09/2024",
          "24/09/2024",
          "25/09/2024",
          "26/09/2024",
          "27/09/2024",
          "28/09/2024",
          "29/09/2024",
          "30/09/2024",
          "01/10/2024",
          "02/10/2024",
          "03/10/2024",
          "04/10/2024",
          "05/10/2024",
          "06/10/2024",
          "07/10/2024",
          "08/10/2024",
          "09/10/2024"
         ],
         "x0": " ",
         "xaxis": "x",
         "y": [
          0.022057505606339584,
          0.03318698808690964,
          0.036965543511116514,
          0.037122903707961605,
          0.03913052323452693,
          0.019542515707792578,
          0.019491465467885292,
          0.025222129554455516,
          0.028784865523552947,
          0.025238777266114745,
          0.022466527903473303,
          0.022635320772322054,
          0.016810066805546958,
          0.02260935859981249,
          0.03221380146072506,
          0.036138278340782405,
          0.04110853708471734,
          0.045749863941422504,
          0.03977739383966737,
          0.02509598638402402,
          0.02095836393722123,
          0.02375767260273044,
          0.02522062636342025,
          0.02443733986940902,
          0.028108099813627444,
          0.02547002592938902,
          0.01997143981989891,
          0.022156427473233528,
          0.029680758410725018,
          0.032692636126584226,
          0.03850389192780657
         ],
         "y0": " ",
         "yaxis": "y"
        },
        {
         "alignmentgroup": "True",
         "boxpoints": "all",
         "customdata": [
          [
           "Motores diésel",
           "No-Renovable",
           7724.568
          ],
          [
           "Motores diésel",
           "No-Renovable",
           7287.569
          ],
          [
           "Motores diésel",
           "No-Renovable",
           7192.893
          ],
          [
           "Motores diésel",
           "No-Renovable",
           6848.33
          ],
          [
           "Motores diésel",
           "No-Renovable",
           7571.729
          ],
          [
           "Motores diésel",
           "No-Renovable",
           6924.793
          ],
          [
           "Motores diésel",
           "No-Renovable",
           6797.441
          ],
          [
           "Motores diésel",
           "No-Renovable",
           7932.293
          ],
          [
           "Motores diésel",
           "No-Renovable",
           7929.039
          ],
          [
           "Motores diésel",
           "No-Renovable",
           7820.881
          ],
          [
           "Motores diésel",
           "No-Renovable",
           8075.466
          ],
          [
           "Motores diésel",
           "No-Renovable",
           7956.688
          ],
          [
           "Motores diésel",
           "No-Renovable",
           7856.663
          ],
          [
           "Motores diésel",
           "No-Renovable",
           6663.394
          ],
          [
           "Motores diésel",
           "No-Renovable",
           6776.836
          ],
          [
           "Motores diésel",
           "No-Renovable",
           6771.22
          ],
          [
           "Motores diésel",
           "No-Renovable",
           7553.43
          ],
          [
           "Motores diésel",
           "No-Renovable",
           7480.324
          ],
          [
           "Motores diésel",
           "No-Renovable",
           7225.652
          ],
          [
           "Motores diésel",
           "No-Renovable",
           6673.506
          ],
          [
           "Motores diésel",
           "No-Renovable",
           6605.813
          ],
          [
           "Motores diésel",
           "No-Renovable",
           6450.944
          ],
          [
           "Motores diésel",
           "No-Renovable",
           6537.454
          ],
          [
           "Motores diésel",
           "No-Renovable",
           6737.014
          ],
          [
           "Motores diésel",
           "No-Renovable",
           6795.396
          ],
          [
           "Motores diésel",
           "No-Renovable",
           7231.95
          ],
          [
           "Motores diésel",
           "No-Renovable",
           7216.581
          ],
          [
           "Motores diésel",
           "No-Renovable",
           7418.098
          ],
          [
           "Motores diésel",
           "No-Renovable",
           8239.317
          ],
          [
           "Motores diésel",
           "No-Renovable",
           8684.946
          ],
          [
           "Motores diésel",
           "No-Renovable",
           8634.224
          ]
         ],
         "fillcolor": "rgba(255,255,255,0)",
         "hoveron": "points",
         "hovertemplate": "nombre=%{customdata[0]}<br>Fecha actualización=%{x}<br>Porcentaje=%{y}<br>tipo de energía=%{customdata[1]}<br>Valores=%{customdata[2]}<extra></extra>",
         "legendgroup": "Motores diésel",
         "line": {
          "color": "rgba(255,255,255,0)"
         },
         "marker": {
          "color": "#00cc96"
         },
         "name": "Motores diésel",
         "offsetgroup": "Motores diésel",
         "orientation": "v",
         "pointpos": 0,
         "showlegend": true,
         "type": "box",
         "x": [
          "09/09/2024",
          "10/09/2024",
          "11/09/2024",
          "12/09/2024",
          "13/09/2024",
          "14/09/2024",
          "15/09/2024",
          "16/09/2024",
          "17/09/2024",
          "18/09/2024",
          "19/09/2024",
          "20/09/2024",
          "21/09/2024",
          "22/09/2024",
          "23/09/2024",
          "24/09/2024",
          "25/09/2024",
          "26/09/2024",
          "27/09/2024",
          "28/09/2024",
          "29/09/2024",
          "30/09/2024",
          "01/10/2024",
          "02/10/2024",
          "03/10/2024",
          "04/10/2024",
          "05/10/2024",
          "06/10/2024",
          "07/10/2024",
          "08/10/2024",
          "09/10/2024"
         ],
         "x0": " ",
         "xaxis": "x",
         "y": [
          0.021785993234042768,
          0.020416518528659108,
          0.020957145913478657,
          0.019532693026530275,
          0.02414779895283653,
          0.023187669369746082,
          0.02254011598075481,
          0.02537395179553,
          0.026165866263717606,
          0.02231615281385502,
          0.0194346975133328,
          0.01929690115084482,
          0.022287663004568362,
          0.019828276242738238,
          0.01926433889328391,
          0.0187713681803345,
          0.023970962937261687,
          0.02574682260926553,
          0.02472076921026541,
          0.02233665026294692,
          0.022424465098269234,
          0.018199215496413023,
          0.018522989305162975,
          0.01878533783922487,
          0.020397871533652783,
          0.019602825947964128,
          0.024980589851274097,
          0.027933132278439615,
          0.030530865222584504,
          0.03239773840221739,
          0.033875201526031566
         ],
         "y0": " ",
         "yaxis": "y"
        },
        {
         "alignmentgroup": "True",
         "boxpoints": "all",
         "customdata": [
          [
           "Turbina de gas",
           "No-Renovable",
           1826.98
          ],
          [
           "Turbina de gas",
           "No-Renovable",
           1594.326
          ],
          [
           "Turbina de gas",
           "No-Renovable",
           1702.453
          ],
          [
           "Turbina de gas",
           "No-Renovable",
           1600.031
          ],
          [
           "Turbina de gas",
           "No-Renovable",
           1046.376
          ],
          [
           "Turbina de gas",
           "No-Renovable",
           1034.5
          ],
          [
           "Turbina de gas",
           "No-Renovable",
           1301.162
          ],
          [
           "Turbina de gas",
           "No-Renovable",
           2468.845
          ],
          [
           "Turbina de gas",
           "No-Renovable",
           3033.987
          ],
          [
           "Turbina de gas",
           "No-Renovable",
           3220.23
          ],
          [
           "Turbina de gas",
           "No-Renovable",
           3041.81
          ],
          [
           "Turbina de gas",
           "No-Renovable",
           2618.565
          ],
          [
           "Turbina de gas",
           "No-Renovable",
           2056.419
          ],
          [
           "Turbina de gas",
           "No-Renovable",
           1412.648
          ],
          [
           "Turbina de gas",
           "No-Renovable",
           2436.565
          ],
          [
           "Turbina de gas",
           "No-Renovable",
           1848.939
          ],
          [
           "Turbina de gas",
           "No-Renovable",
           2173.592
          ],
          [
           "Turbina de gas",
           "No-Renovable",
           2530.254
          ],
          [
           "Turbina de gas",
           "No-Renovable",
           2719.066
          ],
          [
           "Turbina de gas",
           "No-Renovable",
           1486.379
          ],
          [
           "Turbina de gas",
           "No-Renovable",
           1248.844
          ],
          [
           "Turbina de gas",
           "No-Renovable",
           1757.267
          ],
          [
           "Turbina de gas",
           "No-Renovable",
           1815.576
          ],
          [
           "Turbina de gas",
           "No-Renovable",
           1500.404
          ],
          [
           "Turbina de gas",
           "No-Renovable",
           1746.895
          ],
          [
           "Turbina de gas",
           "No-Renovable",
           1027.713
          ],
          [
           "Turbina de gas",
           "No-Renovable",
           1055.006
          ],
          [
           "Turbina de gas",
           "No-Renovable",
           1236.689
          ],
          [
           "Turbina de gas",
           "No-Renovable",
           2396.469
          ],
          [
           "Turbina de gas",
           "No-Renovable",
           2678.692
          ],
          [
           "Turbina de gas",
           "No-Renovable",
           2084.655
          ]
         ],
         "fillcolor": "rgba(255,255,255,0)",
         "hoveron": "points",
         "hovertemplate": "nombre=%{customdata[0]}<br>Fecha actualización=%{x}<br>Porcentaje=%{y}<br>tipo de energía=%{customdata[1]}<br>Valores=%{customdata[2]}<extra></extra>",
         "legendgroup": "Turbina de gas",
         "line": {
          "color": "rgba(255,255,255,0)"
         },
         "marker": {
          "color": "#ab63fa"
         },
         "name": "Turbina de gas",
         "offsetgroup": "Turbina de gas",
         "orientation": "v",
         "pointpos": 0,
         "showlegend": true,
         "type": "box",
         "x": [
          "09/09/2024",
          "10/09/2024",
          "11/09/2024",
          "12/09/2024",
          "13/09/2024",
          "14/09/2024",
          "15/09/2024",
          "16/09/2024",
          "17/09/2024",
          "18/09/2024",
          "19/09/2024",
          "20/09/2024",
          "21/09/2024",
          "22/09/2024",
          "23/09/2024",
          "24/09/2024",
          "25/09/2024",
          "26/09/2024",
          "27/09/2024",
          "28/09/2024",
          "29/09/2024",
          "30/09/2024",
          "01/10/2024",
          "02/10/2024",
          "03/10/2024",
          "04/10/2024",
          "05/10/2024",
          "06/10/2024",
          "07/10/2024",
          "08/10/2024",
          "09/10/2024"
         ],
         "x0": " ",
         "xaxis": "x",
         "y": [
          0.0051527249056169165,
          0.0044665904802716734,
          0.004960251171794086,
          0.004563581830304945,
          0.003337107981159029,
          0.003464023251381279,
          0.00431461521913186,
          0.007897382764433343,
          0.010012171473473367,
          0.009188625268145666,
          0.007320525805325766,
          0.006350656197913249,
          0.005833618378208594,
          0.004203619773609618,
          0.006926361195034719,
          0.005125681149331951,
          0.006897938191355252,
          0.00870898117439626,
          0.009302607301525111,
          0.004975005324216204,
          0.0042393962243834245,
          0.004957550525587453,
          0.005144188369158784,
          0.00418369266196038,
          0.005243688490380896,
          0.0027857049707838218,
          0.003651960973850814,
          0.004656799819076428,
          0.008880138007689456,
          0.009992412465905084,
          0.00817885987637677
         ],
         "y0": " ",
         "yaxis": "y"
        },
        {
         "alignmentgroup": "True",
         "boxpoints": "all",
         "customdata": [
          [
           "Turbina de vapor",
           "No-Renovable",
           2130.324
          ],
          [
           "Turbina de vapor",
           "No-Renovable",
           2091.309
          ],
          [
           "Turbina de vapor",
           "No-Renovable",
           2120.017
          ],
          [
           "Turbina de vapor",
           "No-Renovable",
           2176.693
          ],
          [
           "Turbina de vapor",
           "No-Renovable",
           2133.769
          ],
          [
           "Turbina de vapor",
           "No-Renovable",
           1354.965
          ],
          [
           "Turbina de vapor",
           "No-Renovable",
           1391.281
          ],
          [
           "Turbina de vapor",
           "No-Renovable",
           1747.658
          ],
          [
           "Turbina de vapor",
           "No-Renovable",
           2059.521
          ],
          [
           "Turbina de vapor",
           "No-Renovable",
           1939.779
          ],
          [
           "Turbina de vapor",
           "No-Renovable",
           2430.337
          ],
          [
           "Turbina de vapor",
           "No-Renovable",
           1779.035
          ],
          [
           "Turbina de vapor",
           "No-Renovable",
           2921.146
          ],
          [
           "Turbina de vapor",
           "No-Renovable",
           2246.614
          ],
          [
           "Turbina de vapor",
           "No-Renovable",
           2332.494
          ],
          [
           "Turbina de vapor",
           "No-Renovable",
           2176.039
          ],
          [
           "Turbina de vapor",
           "No-Renovable",
           2181.24
          ],
          [
           "Turbina de vapor",
           "No-Renovable",
           2594.768
          ],
          [
           "Turbina de vapor",
           "No-Renovable",
           2364.96
          ],
          [
           "Turbina de vapor",
           "No-Renovable",
           2350.539
          ],
          [
           "Turbina de vapor",
           "No-Renovable",
           2189.206
          ],
          [
           "Turbina de vapor",
           "No-Renovable",
           2637.5
          ],
          [
           "Turbina de vapor",
           "No-Renovable",
           2409.003
          ],
          [
           "Turbina de vapor",
           "No-Renovable",
           2236.784
          ],
          [
           "Turbina de vapor",
           "No-Renovable",
           2100.416
          ],
          [
           "Turbina de vapor",
           "No-Renovable",
           1879.08
          ],
          [
           "Turbina de vapor",
           "No-Renovable",
           2329.67
          ],
          [
           "Turbina de vapor",
           "No-Renovable",
           2559.136
          ],
          [
           "Turbina de vapor",
           "No-Renovable",
           2921.456
          ],
          [
           "Turbina de vapor",
           "No-Renovable",
           3136.741
          ],
          [
           "Turbina de vapor",
           "No-Renovable",
           2670.806
          ]
         ],
         "fillcolor": "rgba(255,255,255,0)",
         "hoveron": "points",
         "hovertemplate": "nombre=%{customdata[0]}<br>Fecha actualización=%{x}<br>Porcentaje=%{y}<br>tipo de energía=%{customdata[1]}<br>Valores=%{customdata[2]}<extra></extra>",
         "legendgroup": "Turbina de vapor",
         "line": {
          "color": "rgba(255,255,255,0)"
         },
         "marker": {
          "color": "#FFA15A"
         },
         "name": "Turbina de vapor",
         "offsetgroup": "Turbina de vapor",
         "orientation": "v",
         "pointpos": 0,
         "showlegend": true,
         "type": "box",
         "x": [
          "09/09/2024",
          "10/09/2024",
          "11/09/2024",
          "12/09/2024",
          "13/09/2024",
          "14/09/2024",
          "15/09/2024",
          "16/09/2024",
          "17/09/2024",
          "18/09/2024",
          "19/09/2024",
          "20/09/2024",
          "21/09/2024",
          "22/09/2024",
          "23/09/2024",
          "24/09/2024",
          "25/09/2024",
          "26/09/2024",
          "27/09/2024",
          "28/09/2024",
          "29/09/2024",
          "30/09/2024",
          "01/10/2024",
          "02/10/2024",
          "03/10/2024",
          "04/10/2024",
          "05/10/2024",
          "06/10/2024",
          "07/10/2024",
          "08/10/2024",
          "09/10/2024"
         ],
         "x0": " ",
         "xaxis": "x",
         "y": [
          0.0060082614652779195,
          0.005858915222298623,
          0.006176861745066314,
          0.006208327604247645,
          0.006805027599877788,
          0.004537100304309169,
          0.004613447193115841,
          0.005590437701566541,
          0.006796429056953554,
          0.005534978040083576,
          0.005848933603393376,
          0.004314592018550082,
          0.008286662879029285,
          0.006685254241727733,
          0.0066305212170622635,
          0.006032477049005484,
          0.006922209274100994,
          0.008931034458961764,
          0.008091121791017513,
          0.007867403966133692,
          0.007431602066228881,
          0.007440838251237238,
          0.006825583293604135,
          0.006236998039988155,
          0.006304859309925257,
          0.005093408856850563,
          0.008064280129166114,
          0.009636524673375418,
          0.010825482183743003,
          0.01170108764677521,
          0.010478543466898041
         ],
         "y0": " ",
         "yaxis": "y"
        },
        {
         "alignmentgroup": "True",
         "boxpoints": "all",
         "customdata": [
          [
           "Fuel + Gas",
           "No-Renovable",
           -0.001
          ],
          [
           "Fuel + Gas",
           "No-Renovable",
           0.001
          ]
         ],
         "fillcolor": "rgba(255,255,255,0)",
         "hoveron": "points",
         "hovertemplate": "nombre=%{customdata[0]}<br>Fecha actualización=%{x}<br>Porcentaje=%{y}<br>tipo de energía=%{customdata[1]}<br>Valores=%{customdata[2]}<extra></extra>",
         "legendgroup": "Fuel + Gas",
         "line": {
          "color": "rgba(255,255,255,0)"
         },
         "marker": {
          "color": "#19d3f3"
         },
         "name": "Fuel + Gas",
         "offsetgroup": "Fuel + Gas",
         "orientation": "v",
         "pointpos": 0,
         "showlegend": true,
         "type": "box",
         "x": [
          "16/09/2024",
          "18/09/2024"
         ],
         "x0": " ",
         "xaxis": "x",
         "y": [
          3.1988167602394415e-9,
          2.8534065169710447e-9
         ],
         "y0": " ",
         "yaxis": "y"
        },
        {
         "alignmentgroup": "True",
         "boxpoints": "all",
         "customdata": [
          [
           "Cogeneración",
           "No-Renovable",
           46933.118
          ],
          [
           "Cogeneración",
           "No-Renovable",
           46440.614
          ],
          [
           "Cogeneración",
           "No-Renovable",
           47223.732
          ],
          [
           "Cogeneración",
           "No-Renovable",
           48546.901
          ],
          [
           "Cogeneración",
           "No-Renovable",
           40107.831
          ],
          [
           "Cogeneración",
           "No-Renovable",
           34657.713
          ],
          [
           "Cogeneración",
           "No-Renovable",
           29447.789
          ],
          [
           "Cogeneración",
           "No-Renovable",
           27985.943
          ],
          [
           "Cogeneración",
           "No-Renovable",
           27332.783
          ],
          [
           "Cogeneración",
           "No-Renovable",
           48064.498
          ],
          [
           "Cogeneración",
           "No-Renovable",
           53794.577
          ],
          [
           "Cogeneración",
           "No-Renovable",
           55956.812
          ],
          [
           "Cogeneración",
           "No-Renovable",
           49273.304
          ],
          [
           "Cogeneración",
           "No-Renovable",
           46054.266
          ],
          [
           "Cogeneración",
           "No-Renovable",
           50788.6
          ],
          [
           "Cogeneración",
           "No-Renovable",
           52619.165
          ],
          [
           "Cogeneración",
           "No-Renovable",
           42934.229
          ],
          [
           "Cogeneración",
           "No-Renovable",
           26012.013
          ],
          [
           "Cogeneración",
           "No-Renovable",
           25893.392
          ],
          [
           "Cogeneración",
           "No-Renovable",
           27877.149
          ],
          [
           "Cogeneración",
           "No-Renovable",
           29235.207
          ],
          [
           "Cogeneración",
           "No-Renovable",
           44468.927
          ],
          [
           "Cogeneración",
           "No-Renovable",
           51109.48
          ],
          [
           "Cogeneración",
           "No-Renovable",
           51210.46
          ],
          [
           "Cogeneración",
           "No-Renovable",
           38530.68
          ],
          [
           "Cogeneración",
           "No-Renovable",
           49771.42
          ],
          [
           "Cogeneración",
           "No-Renovable",
           38276.2
          ],
          [
           "Cogeneración",
           "No-Renovable",
           24985.74
          ],
          [
           "Cogeneración",
           "No-Renovable",
           31621.76
          ],
          [
           "Cogeneración",
           "No-Renovable",
           25166.3
          ],
          [
           "Cogeneración",
           "No-Renovable",
           24849.6
          ]
         ],
         "fillcolor": "rgba(255,255,255,0)",
         "hoveron": "points",
         "hovertemplate": "nombre=%{customdata[0]}<br>Fecha actualización=%{x}<br>Porcentaje=%{y}<br>tipo de energía=%{customdata[1]}<br>Valores=%{customdata[2]}<extra></extra>",
         "legendgroup": "Cogeneración",
         "line": {
          "color": "rgba(255,255,255,0)"
         },
         "marker": {
          "color": "#FF6692"
         },
         "name": "Cogeneración",
         "offsetgroup": "Cogeneración",
         "orientation": "v",
         "pointpos": 0,
         "showlegend": true,
         "type": "box",
         "x": [
          "09/09/2024",
          "10/09/2024",
          "11/09/2024",
          "12/09/2024",
          "13/09/2024",
          "14/09/2024",
          "15/09/2024",
          "16/09/2024",
          "17/09/2024",
          "18/09/2024",
          "19/09/2024",
          "20/09/2024",
          "21/09/2024",
          "22/09/2024",
          "23/09/2024",
          "24/09/2024",
          "25/09/2024",
          "26/09/2024",
          "27/09/2024",
          "28/09/2024",
          "29/09/2024",
          "30/09/2024",
          "01/10/2024",
          "02/10/2024",
          "03/10/2024",
          "04/10/2024",
          "05/10/2024",
          "06/10/2024",
          "07/10/2024",
          "08/10/2024",
          "09/10/2024"
         ],
         "x0": " ",
         "xaxis": "x",
         "y": [
          0.1323678671998914,
          0.13010589075908655,
          0.13759062481577458,
          0.13846466432288684,
          0.12791211088277782,
          0.1160513520267755,
          0.0976480089252405,
          0.08952190351950566,
          0.0901983133886987,
          0.13714755182814173,
          0.12946390113619322,
          0.13570886151127295,
          0.13977776502233205,
          0.13704378105280093,
          0.14437545815118427,
          0.14587234199402338,
          0.13625264444085744,
          0.08953177488313459,
          0.0885877935586896,
          0.09330659589443098,
          0.09924348131141107,
          0.12545444284855978,
          0.144811780156685,
          0.14279409126982837,
          0.11565828698493578,
          0.1349097385135435,
          0.13249515986383822,
          0.09408476141656526,
          0.11717472366470592,
          0.093878672815205,
          0.09749402005800104
         ],
         "y0": " ",
         "yaxis": "y"
        },
        {
         "alignmentgroup": "True",
         "boxpoints": "all",
         "customdata": [
          [
           "Residuos no renovables",
           "No-Renovable",
           5024.3765
          ],
          [
           "Residuos no renovables",
           "No-Renovable",
           4921.646
          ],
          [
           "Residuos no renovables",
           "No-Renovable",
           5030.6205
          ],
          [
           "Residuos no renovables",
           "No-Renovable",
           4919.805
          ],
          [
           "Residuos no renovables",
           "No-Renovable",
           4699.188
          ],
          [
           "Residuos no renovables",
           "No-Renovable",
           4402.1105
          ],
          [
           "Residuos no renovables",
           "No-Renovable",
           4302.9865
          ],
          [
           "Residuos no renovables",
           "No-Renovable",
           4164.1365
          ],
          [
           "Residuos no renovables",
           "No-Renovable",
           4140.589
          ],
          [
           "Residuos no renovables",
           "No-Renovable",
           3346.976
          ],
          [
           "Residuos no renovables",
           "No-Renovable",
           3981.219
          ],
          [
           "Residuos no renovables",
           "No-Renovable",
           4348.2005
          ],
          [
           "Residuos no renovables",
           "No-Renovable",
           4065.566
          ],
          [
           "Residuos no renovables",
           "No-Renovable",
           4043.8235
          ],
          [
           "Residuos no renovables",
           "No-Renovable",
           5040.8035
          ],
          [
           "Residuos no renovables",
           "No-Renovable",
           4952.754
          ],
          [
           "Residuos no renovables",
           "No-Renovable",
           4606.7385
          ],
          [
           "Residuos no renovables",
           "No-Renovable",
           4053.5085
          ],
          [
           "Residuos no renovables",
           "No-Renovable",
           3505.792
          ],
          [
           "Residuos no renovables",
           "No-Renovable",
           3581.0435
          ],
          [
           "Residuos no renovables",
           "No-Renovable",
           3206.7325
          ],
          [
           "Residuos no renovables",
           "No-Renovable",
           3482.5895
          ],
          [
           "Residuos no renovables",
           "No-Renovable",
           4250.3
          ],
          [
           "Residuos no renovables",
           "No-Renovable",
           4420.7
          ],
          [
           "Residuos no renovables",
           "No-Renovable",
           4166.7
          ],
          [
           "Residuos no renovables",
           "No-Renovable",
           4333.1
          ],
          [
           "Residuos no renovables",
           "No-Renovable",
           4152.55
          ],
          [
           "Residuos no renovables",
           "No-Renovable",
           3672.7
          ],
          [
           "Residuos no renovables",
           "No-Renovable",
           3684.9
          ],
          [
           "Residuos no renovables",
           "No-Renovable",
           3720.6
          ],
          [
           "Residuos no renovables",
           "No-Renovable",
           4095.25
          ]
         ],
         "fillcolor": "rgba(255,255,255,0)",
         "hoveron": "points",
         "hovertemplate": "nombre=%{customdata[0]}<br>Fecha actualización=%{x}<br>Porcentaje=%{y}<br>tipo de energía=%{customdata[1]}<br>Valores=%{customdata[2]}<extra></extra>",
         "legendgroup": "Residuos no renovables",
         "line": {
          "color": "rgba(255,255,255,0)"
         },
         "marker": {
          "color": "#B6E880"
         },
         "name": "Residuos no renovables",
         "offsetgroup": "Residuos no renovables",
         "orientation": "v",
         "pointpos": 0,
         "showlegend": true,
         "type": "box",
         "x": [
          "09/09/2024",
          "10/09/2024",
          "11/09/2024",
          "12/09/2024",
          "13/09/2024",
          "14/09/2024",
          "15/09/2024",
          "16/09/2024",
          "17/09/2024",
          "18/09/2024",
          "19/09/2024",
          "20/09/2024",
          "21/09/2024",
          "22/09/2024",
          "23/09/2024",
          "24/09/2024",
          "25/09/2024",
          "26/09/2024",
          "27/09/2024",
          "28/09/2024",
          "29/09/2024",
          "30/09/2024",
          "01/10/2024",
          "02/10/2024",
          "03/10/2024",
          "04/10/2024",
          "05/10/2024",
          "06/10/2024",
          "07/10/2024",
          "08/10/2024",
          "09/10/2024"
         ],
         "x0": " ",
         "xaxis": "x",
         "y": [
          0.014170505384156562,
          0.013788257339381757,
          0.014657168937983222,
          0.01403218606804707,
          0.014986675707170976,
          0.01474046701512776,
          0.014268577656447803,
          0.013320309628124805,
          0.013663963315985735,
          0.009550283130545678,
          0.009581340197498608,
          0.010545442429381928,
          0.011533136260373009,
          0.012033214520239475,
          0.014329363572978843,
          0.013730165146107262,
          0.014619577840154274,
          0.013951930998530277,
          0.011994194424419386,
          0.011985981017459093,
          0.010885754868588567,
          0.009824980157329731,
          0.012042648628003224,
          0.012326580141567373,
          0.012507263935651587,
          0.011745242308799616,
          0.014374278953829834,
          0.013829692586836298,
          0.013654430975128357,
          0.013879075989567466,
          0.016067155432784783
         ],
         "y0": " ",
         "yaxis": "y"
        },
        {
         "alignmentgroup": "True",
         "boxpoints": "all",
         "customdata": [
          [
           "Generación no renovable",
           "No-Renovable",
           354565.7945000001
          ],
          [
           "Generación no renovable",
           "No-Renovable",
           356944.745
          ],
          [
           "Generación no renovable",
           "No-Renovable",
           343219.1115
          ],
          [
           "Generación no renovable",
           "No-Renovable",
           350608.59200000006
          ],
          [
           "Generación no renovable",
           "No-Renovable",
           313557.729
          ],
          [
           "Generación no renovable",
           "No-Renovable",
           298641.1825
          ],
          [
           "Generación no renovable",
           "No-Renovable",
           301570.80850000004
          ],
          [
           "Generación no renovable",
           "No-Renovable",
           312615.5915
          ],
          [
           "Generación no renovable",
           "No-Renovable",
           303029.868
          ],
          [
           "Generación no renovable",
           "No-Renovable",
           350458.30100000004
          ],
          [
           "Generación no renovable",
           "No-Renovable",
           415517.967
          ],
          [
           "Generación no renovable",
           "No-Renovable",
           412329.8314999999
          ],
          [
           "Generación no renovable",
           "No-Renovable",
           352511.746
          ],
          [
           "Generación no renovable",
           "No-Renovable",
           336055.13249999995
          ],
          [
           "Generación no renovable",
           "No-Renovable",
           351781.3945
          ],
          [
           "Generación no renovable",
           "No-Renovable",
           360720.6429999999
          ],
          [
           "Generación no renovable",
           "No-Renovable",
           315107.49149999995
          ],
          [
           "Generación no renovable",
           "No-Renovable",
           290533.8695
          ],
          [
           "Generación no renovable",
           "No-Renovable",
           292290.743
          ],
          [
           "Generación no renovable",
           "No-Renovable",
           298769.3285
          ],
          [
           "Generación no renovable",
           "No-Renovable",
           294580.6275
          ],
          [
           "Generación no renovable",
           "No-Renovable",
           354462.7515000001
          ],
          [
           "Generación no renovable",
           "No-Renovable",
           352937.309
          ],
          [
           "Generación no renovable",
           "No-Renovable",
           358631.506
          ],
          [
           "Generación no renovable",
           "No-Renovable",
           333142.4060000001
          ],
          [
           "Generación no renovable",
           "No-Renovable",
           368923.849
          ],
          [
           "Generación no renovable",
           "No-Renovable",
           288887.534
          ],
          [
           "Generación no renovable",
           "No-Renovable",
           265566.279
          ],
          [
           "Generación no renovable",
           "No-Renovable",
           269868.44100000005
          ],
          [
           "Generación no renovable",
           "No-Renovable",
           268072.601
          ],
          [
           "Generación no renovable",
           "No-Renovable",
           254883.325
          ]
         ],
         "fillcolor": "rgba(255,255,255,0)",
         "hoveron": "points",
         "hovertemplate": "nombre=%{customdata[0]}<br>Fecha actualización=%{x}<br>Porcentaje=%{y}<br>tipo de energía=%{customdata[1]}<br>Valores=%{customdata[2]}<extra></extra>",
         "legendgroup": "Generación no renovable",
         "line": {
          "color": "rgba(255,255,255,0)"
         },
         "marker": {
          "color": "#FF97FF"
         },
         "name": "Generación no renovable",
         "offsetgroup": "Generación no renovable",
         "orientation": "v",
         "pointpos": 0,
         "showlegend": true,
         "type": "box",
         "x": [
          "09/09/2024",
          "10/09/2024",
          "11/09/2024",
          "12/09/2024",
          "13/09/2024",
          "14/09/2024",
          "15/09/2024",
          "16/09/2024",
          "17/09/2024",
          "18/09/2024",
          "19/09/2024",
          "20/09/2024",
          "21/09/2024",
          "22/09/2024",
          "23/09/2024",
          "24/09/2024",
          "25/09/2024",
          "26/09/2024",
          "27/09/2024",
          "28/09/2024",
          "29/09/2024",
          "30/09/2024",
          "01/10/2024",
          "02/10/2024",
          "03/10/2024",
          "04/10/2024",
          "05/10/2024",
          "06/10/2024",
          "07/10/2024",
          "08/10/2024",
          "09/10/2024"
         ],
         "x0": " ",
         "xaxis": "x",
         "y": [
          1,
          1,
          1,
          1,
          1,
          1,
          1,
          1,
          1,
          1,
          1,
          1,
          1,
          1,
          1,
          1,
          1,
          1,
          1,
          1,
          1,
          1,
          1,
          1,
          1,
          1,
          1,
          1,
          1,
          1,
          1
         ],
         "y0": " ",
         "yaxis": "y"
        },
        {
         "alignmentgroup": "True",
         "boxpoints": "all",
         "customdata": [
          [
           "Consumos en bombeo",
           "Demanda en b.c.",
           -30029.35
          ],
          [
           "Consumos en bombeo",
           "Demanda en b.c.",
           -30216.28
          ],
          [
           "Consumos en bombeo",
           "Demanda en b.c.",
           -25771.441
          ],
          [
           "Consumos en bombeo",
           "Demanda en b.c.",
           -27173.394
          ],
          [
           "Consumos en bombeo",
           "Demanda en b.c.",
           -40012.917
          ],
          [
           "Consumos en bombeo",
           "Demanda en b.c.",
           -42165.889
          ],
          [
           "Consumos en bombeo",
           "Demanda en b.c.",
           -41243.457
          ],
          [
           "Consumos en bombeo",
           "Demanda en b.c.",
           -36379.022
          ],
          [
           "Consumos en bombeo",
           "Demanda en b.c.",
           -28362.316
          ],
          [
           "Consumos en bombeo",
           "Demanda en b.c.",
           -12677.221
          ],
          [
           "Consumos en bombeo",
           "Demanda en b.c.",
           -1677.125
          ],
          [
           "Consumos en bombeo",
           "Demanda en b.c.",
           -4506.807
          ],
          [
           "Consumos en bombeo",
           "Demanda en b.c.",
           -13055.198
          ],
          [
           "Consumos en bombeo",
           "Demanda en b.c.",
           -21003.558
          ],
          [
           "Consumos en bombeo",
           "Demanda en b.c.",
           -18367.203
          ],
          [
           "Consumos en bombeo",
           "Demanda en b.c.",
           -6185.448
          ],
          [
           "Consumos en bombeo",
           "Demanda en b.c.",
           -24699.308
          ],
          [
           "Consumos en bombeo",
           "Demanda en b.c.",
           -34801.155
          ],
          [
           "Consumos en bombeo",
           "Demanda en b.c.",
           -34760.906
          ],
          [
           "Consumos en bombeo",
           "Demanda en b.c.",
           -22061.226
          ],
          [
           "Consumos en bombeo",
           "Demanda en b.c.",
           -29614.368
          ],
          [
           "Consumos en bombeo",
           "Demanda en b.c.",
           -16745.747
          ],
          [
           "Consumos en bombeo",
           "Demanda en b.c.",
           -11369.6
          ],
          [
           "Consumos en bombeo",
           "Demanda en b.c.",
           -11660.4
          ],
          [
           "Consumos en bombeo",
           "Demanda en b.c.",
           -25476.6
          ],
          [
           "Consumos en bombeo",
           "Demanda en b.c.",
           -13205.2
          ],
          [
           "Consumos en bombeo",
           "Demanda en b.c.",
           -14987.2
          ],
          [
           "Consumos en bombeo",
           "Demanda en b.c.",
           -33277.3
          ],
          [
           "Consumos en bombeo",
           "Demanda en b.c.",
           -16645.8
          ],
          [
           "Consumos en bombeo",
           "Demanda en b.c.",
           -27589.6
          ],
          [
           "Consumos en bombeo",
           "Demanda en b.c.",
           -25645.1
          ]
         ],
         "fillcolor": "rgba(255,255,255,0)",
         "hoveron": "points",
         "hovertemplate": "nombre=%{customdata[0]}<br>Fecha actualización=%{x}<br>Porcentaje=%{y}<br>tipo de energía=%{customdata[1]}<br>Valores=%{customdata[2]}<extra></extra>",
         "legendgroup": "Consumos en bombeo",
         "line": {
          "color": "rgba(255,255,255,0)"
         },
         "marker": {
          "color": "#FECB52"
         },
         "name": "Consumos en bombeo",
         "offsetgroup": "Consumos en bombeo",
         "orientation": "v",
         "pointpos": 0,
         "showlegend": true,
         "type": "box",
         "x": [
          "09/09/2024",
          "10/09/2024",
          "11/09/2024",
          "12/09/2024",
          "13/09/2024",
          "14/09/2024",
          "15/09/2024",
          "16/09/2024",
          "17/09/2024",
          "18/09/2024",
          "19/09/2024",
          "20/09/2024",
          "21/09/2024",
          "22/09/2024",
          "23/09/2024",
          "24/09/2024",
          "25/09/2024",
          "26/09/2024",
          "27/09/2024",
          "28/09/2024",
          "29/09/2024",
          "30/09/2024",
          "01/10/2024",
          "02/10/2024",
          "03/10/2024",
          "04/10/2024",
          "05/10/2024",
          "06/10/2024",
          "07/10/2024",
          "08/10/2024",
          "09/10/2024"
         ],
         "x0": " ",
         "xaxis": "x",
         "y": [
          0.03512922584152288,
          0.035446346076026904,
          0.031162545737895394,
          0.03205257570052361,
          0.0444420627980012,
          0.054479933439574,
          0.051781317536021894,
          0.03999583456041921,
          0.03324056823331869,
          0.016246920996535002,
          0.0022414264397902384,
          0.006070828663430936,
          0.01858350380610364,
          0.03204700815841474,
          0.025861591278860976,
          0.00920624647325647,
          0.03175710494099933,
          0.039266326451111624,
          0.04307228504818449,
          0.031695746000488176,
          0.041336510155552515,
          0.023365519150164278,
          0.014764921716221692,
          0.013673526379328641,
          0.02798117702357773,
          0.01583365627767487,
          0.02026612489381606,
          0.043878053128674314,
          0.02140784043398409,
          0.03353137170798145,
          0.031239883926711773
         ],
         "y0": " ",
         "yaxis": "y"
        },
        {
         "alignmentgroup": "True",
         "boxpoints": "all",
         "customdata": [
          [
           "Saldo I. internacionales",
           "Demanda en b.c.",
           -61448.838
          ],
          [
           "Saldo I. internacionales",
           "Demanda en b.c.",
           -48420.387
          ],
          [
           "Saldo I. internacionales",
           "Demanda en b.c.",
           -45939.549
          ],
          [
           "Saldo I. internacionales",
           "Demanda en b.c.",
           -44213.613
          ],
          [
           "Saldo I. internacionales",
           "Demanda en b.c.",
           -70519.778
          ],
          [
           "Saldo I. internacionales",
           "Demanda en b.c.",
           -46961.276
          ],
          [
           "Saldo I. internacionales",
           "Demanda en b.c.",
           -77641.473
          ],
          [
           "Saldo I. internacionales",
           "Demanda en b.c.",
           -83476.417
          ],
          [
           "Saldo I. internacionales",
           "Demanda en b.c.",
           -55321.493
          ],
          [
           "Saldo I. internacionales",
           "Demanda en b.c.",
           -32920.686
          ],
          [
           "Saldo I. internacionales",
           "Demanda en b.c.",
           -28866.425
          ],
          [
           "Saldo I. internacionales",
           "Demanda en b.c.",
           -27427.468
          ],
          [
           "Saldo I. internacionales",
           "Demanda en b.c.",
           -35950.27
          ],
          [
           "Saldo I. internacionales",
           "Demanda en b.c.",
           -28805.195
          ],
          [
           "Saldo I. internacionales",
           "Demanda en b.c.",
           -11584.601
          ],
          [
           "Saldo I. internacionales",
           "Demanda en b.c.",
           -460.821
          ],
          [
           "Saldo I. internacionales",
           "Demanda en b.c.",
           -22980.461
          ],
          [
           "Saldo I. internacionales",
           "Demanda en b.c.",
           -57181.573
          ],
          [
           "Saldo I. internacionales",
           "Demanda en b.c.",
           -31408.635
          ],
          [
           "Saldo I. internacionales",
           "Demanda en b.c.",
           -35905.305
          ],
          [
           "Saldo I. internacionales",
           "Demanda en b.c.",
           -58741.817
          ],
          [
           "Saldo I. internacionales",
           "Demanda en b.c.",
           -19443.509
          ],
          [
           "Saldo I. internacionales",
           "Demanda en b.c.",
           -32746.2
          ],
          [
           "Saldo I. internacionales",
           "Demanda en b.c.",
           -64903.1
          ],
          [
           "Saldo I. internacionales",
           "Demanda en b.c.",
           -85294.7
          ],
          [
           "Saldo I. internacionales",
           "Demanda en b.c.",
           -67279.4
          ],
          [
           "Saldo I. internacionales",
           "Demanda en b.c.",
           -55758.8
          ],
          [
           "Saldo I. internacionales",
           "Demanda en b.c.",
           -63158.2
          ],
          [
           "Saldo I. internacionales",
           "Demanda en b.c.",
           -39350
          ],
          [
           "Saldo I. internacionales",
           "Demanda en b.c.",
           -42371.6
          ],
          [
           "Saldo I. internacionales",
           "Demanda en b.c.",
           -40583.5
          ]
         ],
         "fillcolor": "rgba(255,255,255,0)",
         "hoveron": "points",
         "hovertemplate": "nombre=%{customdata[0]}<br>Fecha actualización=%{x}<br>Porcentaje=%{y}<br>tipo de energía=%{customdata[1]}<br>Valores=%{customdata[2]}<extra></extra>",
         "legendgroup": "Saldo I. internacionales",
         "line": {
          "color": "rgba(255,255,255,0)"
         },
         "marker": {
          "color": "#636efa"
         },
         "name": "Saldo I. internacionales",
         "offsetgroup": "Saldo I. internacionales",
         "orientation": "v",
         "pointpos": 0,
         "showlegend": true,
         "type": "box",
         "x": [
          "09/09/2024",
          "10/09/2024",
          "11/09/2024",
          "12/09/2024",
          "13/09/2024",
          "14/09/2024",
          "15/09/2024",
          "16/09/2024",
          "17/09/2024",
          "18/09/2024",
          "19/09/2024",
          "20/09/2024",
          "21/09/2024",
          "22/09/2024",
          "23/09/2024",
          "24/09/2024",
          "25/09/2024",
          "26/09/2024",
          "27/09/2024",
          "28/09/2024",
          "29/09/2024",
          "30/09/2024",
          "01/10/2024",
          "02/10/2024",
          "03/10/2024",
          "04/10/2024",
          "05/10/2024",
          "06/10/2024",
          "07/10/2024",
          "08/10/2024",
          "09/10/2024"
         ],
         "x0": " ",
         "xaxis": "x",
         "y": [
          0.07188467641827591,
          0.05680135988735722,
          0.05554960224733986,
          0.05215249069277672,
          0.07832581669507133,
          0.06067575595803195,
          0.09747916541955905,
          0.09177566576772092,
          0.06483666082965729,
          0.04219061769087531,
          0.03857909709605541,
          0.03694577089716396,
          0.05117363822252664,
          0.043950663938449264,
          0.016311477375770503,
          0.0006858729886747929,
          0.029547099520745374,
          0.06451826993690497,
          0.03891848157508852,
          0.051585774396674874,
          0.08199336602341498,
          0.027129735202967745,
          0.04252524974526269,
          0.07610838821568769,
          0.09367992981296387,
          0.08067116697726642,
          0.0753986605055855,
          0.08327775556044023,
          0.05060727156864037,
          0.051496863653764706,
          0.049437273761447895
         ],
         "y0": " ",
         "yaxis": "y"
        },
        {
         "alignmentgroup": "True",
         "boxpoints": "all",
         "customdata": [
          [
           "Demanda en b.c.",
           "Demanda en b.c.",
           671868.895
          ],
          [
           "Demanda en b.c.",
           "Demanda en b.c.",
           695177.8589999999
          ],
          [
           "Demanda en b.c.",
           "Demanda en b.c.",
           683578.523
          ],
          [
           "Demanda en b.c.",
           "Demanda en b.c.",
           705001.661
          ],
          [
           "Demanda en b.c.",
           "Demanda en b.c.",
           679273.4890000001
          ],
          [
           "Demanda en b.c.",
           "Demanda en b.c.",
           595716.678
          ],
          [
           "Demanda en b.c.",
           "Demanda en b.c.",
           558723.1410000001
          ],
          [
           "Demanda en b.c.",
           "Demanda en b.c.",
           669859.391
          ],
          [
           "Demanda en b.c.",
           "Demanda en b.c.",
           685876.4
          ],
          [
           "Demanda en b.c.",
           "Demanda en b.c.",
           689088.709
          ],
          [
           "Demanda en b.c.",
           "Demanda en b.c.",
           687152.936
          ],
          [
           "Demanda en b.c.",
           "Demanda en b.c.",
           678502.426
          ],
          [
           "Demanda en b.c.",
           "Demanda en b.c.",
           604504.485
          ],
          [
           "Demanda en b.c.",
           "Demanda en b.c.",
           555780.8979999999
          ],
          [
           "Demanda en b.c.",
           "Demanda en b.c.",
           650308.026
          ],
          [
           "Demanda en b.c.",
           "Demanda en b.c.",
           658582.587
          ],
          [
           "Demanda en b.c.",
           "Demanda en b.c.",
           682397.378
          ],
          [
           "Demanda en b.c.",
           "Demanda en b.c.",
           702319.515
          ],
          [
           "Demanda en b.c.",
           "Demanda en b.c.",
           674697.414
          ],
          [
           "Demanda en b.c.",
           "Demanda en b.c.",
           580098.071
          ],
          [
           "Demanda en b.c.",
           "Demanda en b.c.",
           539709.212
          ],
          [
           "Demanda en b.c.",
           "Demanda en b.c.",
           644307.7679999999
          ],
          [
           "Demanda en b.c.",
           "Demanda en b.c.",
           681809.733
          ],
          [
           "Demanda en b.c.",
           "Demanda en b.c.",
           699644.968
          ],
          [
           "Demanda en b.c.",
           "Demanda en b.c.",
           688948.048
          ],
          [
           "Demanda en b.c.",
           "Demanda en b.c.",
           673026.421
          ],
          [
           "Demanda en b.c.",
           "Demanda en b.c.",
           598027.769
          ],
          [
           "Demanda en b.c.",
           "Demanda en b.c.",
           565533.205
          ],
          [
           "Demanda en b.c.",
           "Demanda en b.c.",
           665564.644
          ],
          [
           "Demanda en b.c.",
           "Demanda en b.c.",
           682877.223
          ],
          [
           "Demanda en b.c.",
           "Demanda en b.c.",
           688451.74
          ]
         ],
         "fillcolor": "rgba(255,255,255,0)",
         "hoveron": "points",
         "hovertemplate": "nombre=%{customdata[0]}<br>Fecha actualización=%{x}<br>Porcentaje=%{y}<br>tipo de energía=%{customdata[1]}<br>Valores=%{customdata[2]}<extra></extra>",
         "legendgroup": "Demanda en b.c.",
         "line": {
          "color": "rgba(255,255,255,0)"
         },
         "marker": {
          "color": "#EF553B"
         },
         "name": "Demanda en b.c.",
         "offsetgroup": "Demanda en b.c.",
         "orientation": "v",
         "pointpos": 0,
         "showlegend": true,
         "type": "box",
         "x": [
          "09/09/2024",
          "10/09/2024",
          "11/09/2024",
          "12/09/2024",
          "13/09/2024",
          "14/09/2024",
          "15/09/2024",
          "16/09/2024",
          "17/09/2024",
          "18/09/2024",
          "19/09/2024",
          "20/09/2024",
          "21/09/2024",
          "22/09/2024",
          "23/09/2024",
          "24/09/2024",
          "25/09/2024",
          "26/09/2024",
          "27/09/2024",
          "28/09/2024",
          "29/09/2024",
          "30/09/2024",
          "01/10/2024",
          "02/10/2024",
          "03/10/2024",
          "04/10/2024",
          "05/10/2024",
          "06/10/2024",
          "07/10/2024",
          "08/10/2024",
          "09/10/2024"
         ],
         "x0": " ",
         "xaxis": "x",
         "y": [
          1,
          1,
          1,
          1,
          1,
          1,
          1,
          1,
          1,
          1,
          1,
          1,
          1,
          1,
          1,
          1,
          1,
          1,
          1,
          1,
          1,
          1,
          1,
          1,
          1,
          1,
          1,
          1,
          1,
          1,
          1
         ],
         "y0": " ",
         "yaxis": "y"
        }
       ],
       "layout": {
        "boxmode": "group",
        "legend": {
         "title": {
          "text": "nombre"
         },
         "tracegroupgap": 0
        },
        "margin": {
         "t": 60
        },
        "template": {
         "data": {
          "bar": [
           {
            "error_x": {
             "color": "#2a3f5f"
            },
            "error_y": {
             "color": "#2a3f5f"
            },
            "marker": {
             "line": {
              "color": "#E5ECF6",
              "width": 0.5
             },
             "pattern": {
              "fillmode": "overlay",
              "size": 10,
              "solidity": 0.2
             }
            },
            "type": "bar"
           }
          ],
          "barpolar": [
           {
            "marker": {
             "line": {
              "color": "#E5ECF6",
              "width": 0.5
             },
             "pattern": {
              "fillmode": "overlay",
              "size": 10,
              "solidity": 0.2
             }
            },
            "type": "barpolar"
           }
          ],
          "carpet": [
           {
            "aaxis": {
             "endlinecolor": "#2a3f5f",
             "gridcolor": "white",
             "linecolor": "white",
             "minorgridcolor": "white",
             "startlinecolor": "#2a3f5f"
            },
            "baxis": {
             "endlinecolor": "#2a3f5f",
             "gridcolor": "white",
             "linecolor": "white",
             "minorgridcolor": "white",
             "startlinecolor": "#2a3f5f"
            },
            "type": "carpet"
           }
          ],
          "choropleth": [
           {
            "colorbar": {
             "outlinewidth": 0,
             "ticks": ""
            },
            "type": "choropleth"
           }
          ],
          "contour": [
           {
            "colorbar": {
             "outlinewidth": 0,
             "ticks": ""
            },
            "colorscale": [
             [
              0,
              "#0d0887"
             ],
             [
              0.1111111111111111,
              "#46039f"
             ],
             [
              0.2222222222222222,
              "#7201a8"
             ],
             [
              0.3333333333333333,
              "#9c179e"
             ],
             [
              0.4444444444444444,
              "#bd3786"
             ],
             [
              0.5555555555555556,
              "#d8576b"
             ],
             [
              0.6666666666666666,
              "#ed7953"
             ],
             [
              0.7777777777777778,
              "#fb9f3a"
             ],
             [
              0.8888888888888888,
              "#fdca26"
             ],
             [
              1,
              "#f0f921"
             ]
            ],
            "type": "contour"
           }
          ],
          "contourcarpet": [
           {
            "colorbar": {
             "outlinewidth": 0,
             "ticks": ""
            },
            "type": "contourcarpet"
           }
          ],
          "heatmap": [
           {
            "colorbar": {
             "outlinewidth": 0,
             "ticks": ""
            },
            "colorscale": [
             [
              0,
              "#0d0887"
             ],
             [
              0.1111111111111111,
              "#46039f"
             ],
             [
              0.2222222222222222,
              "#7201a8"
             ],
             [
              0.3333333333333333,
              "#9c179e"
             ],
             [
              0.4444444444444444,
              "#bd3786"
             ],
             [
              0.5555555555555556,
              "#d8576b"
             ],
             [
              0.6666666666666666,
              "#ed7953"
             ],
             [
              0.7777777777777778,
              "#fb9f3a"
             ],
             [
              0.8888888888888888,
              "#fdca26"
             ],
             [
              1,
              "#f0f921"
             ]
            ],
            "type": "heatmap"
           }
          ],
          "heatmapgl": [
           {
            "colorbar": {
             "outlinewidth": 0,
             "ticks": ""
            },
            "colorscale": [
             [
              0,
              "#0d0887"
             ],
             [
              0.1111111111111111,
              "#46039f"
             ],
             [
              0.2222222222222222,
              "#7201a8"
             ],
             [
              0.3333333333333333,
              "#9c179e"
             ],
             [
              0.4444444444444444,
              "#bd3786"
             ],
             [
              0.5555555555555556,
              "#d8576b"
             ],
             [
              0.6666666666666666,
              "#ed7953"
             ],
             [
              0.7777777777777778,
              "#fb9f3a"
             ],
             [
              0.8888888888888888,
              "#fdca26"
             ],
             [
              1,
              "#f0f921"
             ]
            ],
            "type": "heatmapgl"
           }
          ],
          "histogram": [
           {
            "marker": {
             "pattern": {
              "fillmode": "overlay",
              "size": 10,
              "solidity": 0.2
             }
            },
            "type": "histogram"
           }
          ],
          "histogram2d": [
           {
            "colorbar": {
             "outlinewidth": 0,
             "ticks": ""
            },
            "colorscale": [
             [
              0,
              "#0d0887"
             ],
             [
              0.1111111111111111,
              "#46039f"
             ],
             [
              0.2222222222222222,
              "#7201a8"
             ],
             [
              0.3333333333333333,
              "#9c179e"
             ],
             [
              0.4444444444444444,
              "#bd3786"
             ],
             [
              0.5555555555555556,
              "#d8576b"
             ],
             [
              0.6666666666666666,
              "#ed7953"
             ],
             [
              0.7777777777777778,
              "#fb9f3a"
             ],
             [
              0.8888888888888888,
              "#fdca26"
             ],
             [
              1,
              "#f0f921"
             ]
            ],
            "type": "histogram2d"
           }
          ],
          "histogram2dcontour": [
           {
            "colorbar": {
             "outlinewidth": 0,
             "ticks": ""
            },
            "colorscale": [
             [
              0,
              "#0d0887"
             ],
             [
              0.1111111111111111,
              "#46039f"
             ],
             [
              0.2222222222222222,
              "#7201a8"
             ],
             [
              0.3333333333333333,
              "#9c179e"
             ],
             [
              0.4444444444444444,
              "#bd3786"
             ],
             [
              0.5555555555555556,
              "#d8576b"
             ],
             [
              0.6666666666666666,
              "#ed7953"
             ],
             [
              0.7777777777777778,
              "#fb9f3a"
             ],
             [
              0.8888888888888888,
              "#fdca26"
             ],
             [
              1,
              "#f0f921"
             ]
            ],
            "type": "histogram2dcontour"
           }
          ],
          "mesh3d": [
           {
            "colorbar": {
             "outlinewidth": 0,
             "ticks": ""
            },
            "type": "mesh3d"
           }
          ],
          "parcoords": [
           {
            "line": {
             "colorbar": {
              "outlinewidth": 0,
              "ticks": ""
             }
            },
            "type": "parcoords"
           }
          ],
          "pie": [
           {
            "automargin": true,
            "type": "pie"
           }
          ],
          "scatter": [
           {
            "fillpattern": {
             "fillmode": "overlay",
             "size": 10,
             "solidity": 0.2
            },
            "type": "scatter"
           }
          ],
          "scatter3d": [
           {
            "line": {
             "colorbar": {
              "outlinewidth": 0,
              "ticks": ""
             }
            },
            "marker": {
             "colorbar": {
              "outlinewidth": 0,
              "ticks": ""
             }
            },
            "type": "scatter3d"
           }
          ],
          "scattercarpet": [
           {
            "marker": {
             "colorbar": {
              "outlinewidth": 0,
              "ticks": ""
             }
            },
            "type": "scattercarpet"
           }
          ],
          "scattergeo": [
           {
            "marker": {
             "colorbar": {
              "outlinewidth": 0,
              "ticks": ""
             }
            },
            "type": "scattergeo"
           }
          ],
          "scattergl": [
           {
            "marker": {
             "colorbar": {
              "outlinewidth": 0,
              "ticks": ""
             }
            },
            "type": "scattergl"
           }
          ],
          "scattermapbox": [
           {
            "marker": {
             "colorbar": {
              "outlinewidth": 0,
              "ticks": ""
             }
            },
            "type": "scattermapbox"
           }
          ],
          "scatterpolar": [
           {
            "marker": {
             "colorbar": {
              "outlinewidth": 0,
              "ticks": ""
             }
            },
            "type": "scatterpolar"
           }
          ],
          "scatterpolargl": [
           {
            "marker": {
             "colorbar": {
              "outlinewidth": 0,
              "ticks": ""
             }
            },
            "type": "scatterpolargl"
           }
          ],
          "scatterternary": [
           {
            "marker": {
             "colorbar": {
              "outlinewidth": 0,
              "ticks": ""
             }
            },
            "type": "scatterternary"
           }
          ],
          "surface": [
           {
            "colorbar": {
             "outlinewidth": 0,
             "ticks": ""
            },
            "colorscale": [
             [
              0,
              "#0d0887"
             ],
             [
              0.1111111111111111,
              "#46039f"
             ],
             [
              0.2222222222222222,
              "#7201a8"
             ],
             [
              0.3333333333333333,
              "#9c179e"
             ],
             [
              0.4444444444444444,
              "#bd3786"
             ],
             [
              0.5555555555555556,
              "#d8576b"
             ],
             [
              0.6666666666666666,
              "#ed7953"
             ],
             [
              0.7777777777777778,
              "#fb9f3a"
             ],
             [
              0.8888888888888888,
              "#fdca26"
             ],
             [
              1,
              "#f0f921"
             ]
            ],
            "type": "surface"
           }
          ],
          "table": [
           {
            "cells": {
             "fill": {
              "color": "#EBF0F8"
             },
             "line": {
              "color": "white"
             }
            },
            "header": {
             "fill": {
              "color": "#C8D4E3"
             },
             "line": {
              "color": "white"
             }
            },
            "type": "table"
           }
          ]
         },
         "layout": {
          "annotationdefaults": {
           "arrowcolor": "#2a3f5f",
           "arrowhead": 0,
           "arrowwidth": 1
          },
          "autotypenumbers": "strict",
          "coloraxis": {
           "colorbar": {
            "outlinewidth": 0,
            "ticks": ""
           }
          },
          "colorscale": {
           "diverging": [
            [
             0,
             "#8e0152"
            ],
            [
             0.1,
             "#c51b7d"
            ],
            [
             0.2,
             "#de77ae"
            ],
            [
             0.3,
             "#f1b6da"
            ],
            [
             0.4,
             "#fde0ef"
            ],
            [
             0.5,
             "#f7f7f7"
            ],
            [
             0.6,
             "#e6f5d0"
            ],
            [
             0.7,
             "#b8e186"
            ],
            [
             0.8,
             "#7fbc41"
            ],
            [
             0.9,
             "#4d9221"
            ],
            [
             1,
             "#276419"
            ]
           ],
           "sequential": [
            [
             0,
             "#0d0887"
            ],
            [
             0.1111111111111111,
             "#46039f"
            ],
            [
             0.2222222222222222,
             "#7201a8"
            ],
            [
             0.3333333333333333,
             "#9c179e"
            ],
            [
             0.4444444444444444,
             "#bd3786"
            ],
            [
             0.5555555555555556,
             "#d8576b"
            ],
            [
             0.6666666666666666,
             "#ed7953"
            ],
            [
             0.7777777777777778,
             "#fb9f3a"
            ],
            [
             0.8888888888888888,
             "#fdca26"
            ],
            [
             1,
             "#f0f921"
            ]
           ],
           "sequentialminus": [
            [
             0,
             "#0d0887"
            ],
            [
             0.1111111111111111,
             "#46039f"
            ],
            [
             0.2222222222222222,
             "#7201a8"
            ],
            [
             0.3333333333333333,
             "#9c179e"
            ],
            [
             0.4444444444444444,
             "#bd3786"
            ],
            [
             0.5555555555555556,
             "#d8576b"
            ],
            [
             0.6666666666666666,
             "#ed7953"
            ],
            [
             0.7777777777777778,
             "#fb9f3a"
            ],
            [
             0.8888888888888888,
             "#fdca26"
            ],
            [
             1,
             "#f0f921"
            ]
           ]
          },
          "colorway": [
           "#636efa",
           "#EF553B",
           "#00cc96",
           "#ab63fa",
           "#FFA15A",
           "#19d3f3",
           "#FF6692",
           "#B6E880",
           "#FF97FF",
           "#FECB52"
          ],
          "font": {
           "color": "#2a3f5f"
          },
          "geo": {
           "bgcolor": "white",
           "lakecolor": "white",
           "landcolor": "#E5ECF6",
           "showlakes": true,
           "showland": true,
           "subunitcolor": "white"
          },
          "hoverlabel": {
           "align": "left"
          },
          "hovermode": "closest",
          "mapbox": {
           "style": "light"
          },
          "paper_bgcolor": "white",
          "plot_bgcolor": "#E5ECF6",
          "polar": {
           "angularaxis": {
            "gridcolor": "white",
            "linecolor": "white",
            "ticks": ""
           },
           "bgcolor": "#E5ECF6",
           "radialaxis": {
            "gridcolor": "white",
            "linecolor": "white",
            "ticks": ""
           }
          },
          "scene": {
           "xaxis": {
            "backgroundcolor": "#E5ECF6",
            "gridcolor": "white",
            "gridwidth": 2,
            "linecolor": "white",
            "showbackground": true,
            "ticks": "",
            "zerolinecolor": "white"
           },
           "yaxis": {
            "backgroundcolor": "#E5ECF6",
            "gridcolor": "white",
            "gridwidth": 2,
            "linecolor": "white",
            "showbackground": true,
            "ticks": "",
            "zerolinecolor": "white"
           },
           "zaxis": {
            "backgroundcolor": "#E5ECF6",
            "gridcolor": "white",
            "gridwidth": 2,
            "linecolor": "white",
            "showbackground": true,
            "ticks": "",
            "zerolinecolor": "white"
           }
          },
          "shapedefaults": {
           "line": {
            "color": "#2a3f5f"
           }
          },
          "ternary": {
           "aaxis": {
            "gridcolor": "white",
            "linecolor": "white",
            "ticks": ""
           },
           "baxis": {
            "gridcolor": "white",
            "linecolor": "white",
            "ticks": ""
           },
           "bgcolor": "#E5ECF6",
           "caxis": {
            "gridcolor": "white",
            "linecolor": "white",
            "ticks": ""
           }
          },
          "title": {
           "x": 0.05
          },
          "xaxis": {
           "automargin": true,
           "gridcolor": "white",
           "linecolor": "white",
           "ticks": "",
           "title": {
            "standoff": 15
           },
           "zerolinecolor": "white",
           "zerolinewidth": 2
          },
          "yaxis": {
           "automargin": true,
           "gridcolor": "white",
           "linecolor": "white",
           "ticks": "",
           "title": {
            "standoff": 15
           },
           "zerolinecolor": "white",
           "zerolinewidth": 2
          }
         }
        },
        "xaxis": {
         "anchor": "y",
         "domain": [
          0,
          1
         ],
         "title": {
          "text": "Fecha actualización"
         }
        },
        "yaxis": {
         "anchor": "x",
         "domain": [
          0,
          1
         ],
         "title": {
          "text": "Porcentaje"
         }
        }
       }
      }
     },
     "metadata": {},
     "output_type": "display_data"
    }
   ],
   "source": [
    "fig2 = px.strip(data_frame = df_balance,\n",
    "         x          = \"Fecha actualización\",\n",
    "         y          = \"Porcentaje\",\n",
    "         color      = \"nombre\",\n",
    "         hover_data = df_balance.columns)\n",
    "\n",
    "fig2.show()"
   ]
  },
  {
   "cell_type": "code",
   "execution_count": 109,
   "metadata": {},
   "outputs": [
    {
     "name": "stderr",
     "output_type": "stream",
     "text": [
      "/opt/anaconda3/lib/python3.11/site-packages/plotly/express/_core.py:1979: FutureWarning:\n",
      "\n",
      "When grouping with a length-1 list-like, you will need to pass a length-1 tuple to get_group in a future version of pandas. Pass `(name,)` instead of `name` to silence this warning.\n",
      "\n"
     ]
    },
    {
     "data": {
      "application/vnd.plotly.v1+json": {
       "config": {
        "plotlyServerURL": "https://plot.ly"
       },
       "data": [
        {
         "alignmentgroup": "True",
         "bingroup": "x",
         "hovertemplate": "nombre=Hidráulica<br>Valores=%{x}<br>count=%{y}<extra></extra>",
         "legendgroup": "Hidráulica",
         "marker": {
          "color": "#636efa",
          "pattern": {
           "shape": ""
          }
         },
         "name": "Hidráulica",
         "nbinsx": 50,
         "offsetgroup": "Hidráulica",
         "orientation": "v",
         "showlegend": true,
         "type": "histogram",
         "x": [
          54386.095,
          51661.691,
          48588.925,
          51775.769,
          39251.575,
          30373.812,
          24767.511,
          28356.661,
          29555.708,
          58595.442,
          89991.12,
          93635.162,
          79993.169,
          73825.361,
          72079.272,
          73920.299,
          48576.483,
          35063.646,
          36018.865,
          44949.149,
          36271.997,
          62652.956,
          76159.7,
          72013.7,
          76861.6,
          92057.3,
          83008.9,
          54807.3,
          63360.6,
          57723.1,
          62214.9
         ],
         "xaxis": "x",
         "yaxis": "y"
        },
        {
         "alignmentgroup": "True",
         "bingroup": "x",
         "hovertemplate": "nombre=Eólica<br>Valores=%{x}<br>count=%{y}<extra></extra>",
         "legendgroup": "Eólica",
         "marker": {
          "color": "#EF553B",
          "pattern": {
           "shape": ""
          }
         },
         "name": "Eólica",
         "nbinsx": 50,
         "offsetgroup": "Eólica",
         "orientation": "v",
         "showlegend": true,
         "type": "histogram",
         "x": [
          138196.934,
          157356.653,
          169068.701,
          191594.307,
          252078.994,
          167846.392,
          181355.473,
          257515.303,
          265833.009,
          170713.706,
          98488.398,
          84157.676,
          103499.279,
          53478.32,
          90237.415,
          123748.272,
          268172.999,
          354056.721,
          256074.662,
          127266.75,
          137854.929,
          75496.802,
          133250.269,
          226460.488,
          235490.559,
          130141.475,
          151013.035,
          216702.928,
          294934.188,
          325019.499,
          355754.33
         ],
         "xaxis": "x",
         "yaxis": "y"
        },
        {
         "alignmentgroup": "True",
         "bingroup": "x",
         "hovertemplate": "nombre=Solar fotovoltaica<br>Valores=%{x}<br>count=%{y}<extra></extra>",
         "legendgroup": "Solar fotovoltaica",
         "marker": {
          "color": "#00cc96",
          "pattern": {
           "shape": ""
          }
         },
         "name": "Solar fotovoltaica",
         "nbinsx": 50,
         "offsetgroup": "Solar fotovoltaica",
         "orientation": "v",
         "showlegend": true,
         "type": "histogram",
         "x": [
          179876.558,
          171718.837,
          162300.438,
          152285.747,
          151206.508,
          153991.676,
          137172.852,
          159323.763,
          143761.218,
          130610.977,
          95711.286,
          103155.812,
          98161.878,
          122809.738,
          143168.545,
          93150.995,
          85671.266,
          99578.017,
          131158.994,
          138737.98,
          128554.397,
          156801.696,
          136356.044,
          99729.262,
          133419.305,
          139022.681,
          120892.099,
          104505.558,
          79728.685,
          88050.07,
          68292.567
         ],
         "xaxis": "x",
         "yaxis": "y"
        },
        {
         "alignmentgroup": "True",
         "bingroup": "x",
         "hovertemplate": "nombre=Solar térmica<br>Valores=%{x}<br>count=%{y}<extra></extra>",
         "legendgroup": "Solar térmica",
         "marker": {
          "color": "#ab63fa",
          "pattern": {
           "shape": ""
          }
         },
         "name": "Solar térmica",
         "nbinsx": 50,
         "offsetgroup": "Solar térmica",
         "orientation": "v",
         "showlegend": true,
         "type": "histogram",
         "x": [
          23507.241,
          23513.031,
          19987.539,
          17346.651,
          20350.289,
          21080.551,
          20732.747,
          20365.067,
          15102.066,
          11532.644,
          4240.61,
          4136.378,
          7371.57,
          7547.968,
          11036.212,
          1873.764,
          1257.512,
          4307.415,
          14081.507,
          17333.305,
          20145.734,
          20100.509,
          14766.598,
          6991.956,
          10708.082,
          11562.392,
          12727.6,
          8865.7,
          1804.5,
          3398.666,
          2952.161
         ],
         "xaxis": "x",
         "yaxis": "y"
        },
        {
         "alignmentgroup": "True",
         "bingroup": "x",
         "hovertemplate": "nombre=Hidroeólica<br>Valores=%{x}<br>count=%{y}<extra></extra>",
         "legendgroup": "Hidroeólica",
         "marker": {
          "color": "#FFA15A",
          "pattern": {
           "shape": ""
          }
         },
         "name": "Hidroeólica",
         "nbinsx": 50,
         "offsetgroup": "Hidroeólica",
         "orientation": "v",
         "showlegend": true,
         "type": "histogram",
         "x": [
          75.557,
          127.665,
          130.519,
          135.462,
          133.996,
          115.127,
          81.171,
          42.668,
          17.155,
          16.763,
          16.111,
          13.234,
          21.902,
          57.731,
          106.414,
          81.656,
          55.026,
          43.199,
          61.214,
          59.505,
          44.757,
          110.594,
          189.12,
          182.27,
          164.64,
          150.698,
          50.153,
          1.722,
          5.562,
          13.737,
          17.123
         ],
         "xaxis": "x",
         "yaxis": "y"
        },
        {
         "alignmentgroup": "True",
         "bingroup": "x",
         "hovertemplate": "nombre=Otras renovables<br>Valores=%{x}<br>count=%{y}<extra></extra>",
         "legendgroup": "Otras renovables",
         "marker": {
          "color": "#19d3f3",
          "pattern": {
           "shape": ""
          }
         },
         "name": "Otras renovables",
         "nbinsx": 50,
         "offsetgroup": "Otras renovables",
         "orientation": "v",
         "showlegend": true,
         "type": "histogram",
         "x": [
          10144.257,
          9949.57,
          9398.552,
          10116.307,
          10695.721,
          10271.1,
          9384.789,
          9018.305,
          9777.709,
          10093.205,
          10968.444,
          10272.078,
          9258.75,
          9223.923,
          9261.121,
          9155.37,
          8778.51,
          8337.314,
          9236.007,
          8771.495,
          8712.808,
          9003.48,
          10321.193,
          10170.486,
          8054.556,
          9631.226,
          10221.698,
          9639.618,
          10001.668,
          8601.95,
          8199.484
         ],
         "xaxis": "x",
         "yaxis": "y"
        },
        {
         "alignmentgroup": "True",
         "bingroup": "x",
         "hovertemplate": "nombre=Residuos renovables<br>Valores=%{x}<br>count=%{y}<extra></extra>",
         "legendgroup": "Residuos renovables",
         "marker": {
          "color": "#FF6692",
          "pattern": {
           "shape": ""
          }
         },
         "name": "Residuos renovables",
         "nbinsx": 50,
         "offsetgroup": "Residuos renovables",
         "orientation": "v",
         "showlegend": true,
         "type": "histogram",
         "x": [
          2594.6465,
          2542.334,
          2595.7275,
          2525.833,
          2531.372,
          2524.0025,
          2542.7195,
          2477.4715,
          2483.476,
          2665.578,
          2762.55,
          2736.5295,
          2691.659,
          2591.4775,
          2589.4565,
          2577.857,
          2457.8595,
          2382.0615,
          1944.963,
          2177.0895,
          1900.1475,
          1868.2355,
          1945.3,
          2028.8,
          1878.2,
          2021.4,
          1972.75,
          1879.6,
          1856.8,
          1958.8,
          2366.45
         ],
         "xaxis": "x",
         "yaxis": "y"
        },
        {
         "alignmentgroup": "True",
         "bingroup": "x",
         "hovertemplate": "nombre=Generación renovable<br>Valores=%{x}<br>count=%{y}<extra></extra>",
         "legendgroup": "Generación renovable",
         "marker": {
          "color": "#B6E880",
          "pattern": {
           "shape": ""
          }
         },
         "name": "Generación renovable",
         "nbinsx": 50,
         "offsetgroup": "Generación renovable",
         "orientation": "v",
         "showlegend": true,
         "type": "histogram",
         "x": [
          408781.2884999999,
          416869.78099999996,
          412070.4015,
          425780.076,
          476248.455,
          386202.66049999994,
          376037.26249999995,
          477099.23850000004,
          466530.341,
          384228.31499999994,
          302178.519,
          298106.86950000003,
          300998.207,
          269534.51849999995,
          328478.4354999999,
          304508.21300000005,
          414969.65550000005,
          503768.37350000005,
          448576.21199999994,
          339295.2735,
          333484.7695,
          326034.2725,
          372988.224,
          417576.962,
          466576.942,
          384587.172,
          379886.2349999999,
          396402.42600000004,
          451692.00299999997,
          484765.82200000004,
          499797.0150000001
         ],
         "xaxis": "x",
         "yaxis": "y"
        },
        {
         "alignmentgroup": "True",
         "bingroup": "x",
         "hovertemplate": "nombre=Turbinación bombeo<br>Valores=%{x}<br>count=%{y}<extra></extra>",
         "legendgroup": "Turbinación bombeo",
         "marker": {
          "color": "#FF97FF",
          "pattern": {
           "shape": ""
          }
         },
         "name": "Turbinación bombeo",
         "nbinsx": 50,
         "offsetgroup": "Turbinación bombeo",
         "orientation": "v",
         "showlegend": true,
         "type": "histogram",
         "x": [
          16718.097,
          18119.192,
          19295.654,
          16742.391,
          15973.392,
          23817.482,
          21897.701,
          19050.059,
          16718.588,
          10965.108,
          9675.002,
          5583.481,
          6637.878,
          9321.993,
          9390.187,
          13349.637,
          13612.451,
          8857.698,
          14534.355,
          15678.775,
          12370.354,
          11484.908,
          9043.6,
          4016,
          4991.7,
          12501.5,
          9067.2,
          3070.9,
          9643.3,
          8103.1,
          6607.4
         ],
         "xaxis": "x",
         "yaxis": "y"
        },
        {
         "alignmentgroup": "True",
         "bingroup": "x",
         "hovertemplate": "nombre=Nuclear<br>Valores=%{x}<br>count=%{y}<extra></extra>",
         "legendgroup": "Nuclear",
         "marker": {
          "color": "#FECB52",
          "pattern": {
           "shape": ""
          }
         },
         "name": "Nuclear",
         "nbinsx": 50,
         "offsetgroup": "Nuclear",
         "orientation": "v",
         "showlegend": true,
         "type": "histogram",
         "x": [
          166309.822,
          166185.417,
          166239.552,
          166178.737,
          166907.61,
          167008.682,
          166810.946,
          166835.849,
          166704.333,
          166471.01,
          166435.032,
          166411.138,
          166479.354,
          167121.073,
          167062.113,
          167134.982,
          166581.161,
          165999.023,
          166568.046,
          167486.281,
          166296.414,
          163814.409,
          167039,
          167605.8,
          167236.2,
          166981.4,
          166527.4,
          162276.1,
          143378.2,
          143691,
          143776.6
         ],
         "xaxis": "x",
         "yaxis": "y"
        },
        {
         "alignmentgroup": "True",
         "bingroup": "x",
         "hovertemplate": "nombre=Ciclo combinado<br>Valores=%{x}<br>count=%{y}<extra></extra>",
         "legendgroup": "Ciclo combinado",
         "marker": {
          "color": "#636efa",
          "pattern": {
           "shape": ""
          }
         },
         "name": "Ciclo combinado",
         "nbinsx": 50,
         "offsetgroup": "Ciclo combinado",
         "orientation": "v",
         "showlegend": true,
         "type": "histogram",
         "x": [
          100077.672,
          98458.751,
          81726.909,
          90580.095,
          62848.156,
          53604.737,
          63743.445,
          74545.978,
          66388.354,
          99784.679,
          158749.278,
          158342.694,
          107295.67,
          91593.33,
          96621.58,
          98832.084,
          62511.042,
          59714.396,
          57852.916,
          66137.745,
          67254.129,
          111944.997,
          101831.596,
          112140.344,
          98210.419,
          115801.186,
          54493.427,
          54462.916,
          59973.139,
          64127.222,
          52350.79
         ],
         "xaxis": "x",
         "yaxis": "y"
        },
        {
         "alignmentgroup": "True",
         "bingroup": "x",
         "hovertemplate": "nombre=Carbón<br>Valores=%{x}<br>count=%{y}<extra></extra>",
         "legendgroup": "Carbón",
         "marker": {
          "color": "#EF553B",
          "pattern": {
           "shape": ""
          }
         },
         "name": "Carbón",
         "nbinsx": 50,
         "offsetgroup": "Carbón",
         "orientation": "v",
         "showlegend": true,
         "type": "histogram",
         "x": [
          7820.837,
          11845.921,
          12687.281,
          13015.609,
          12269.678,
          5836.2,
          5878.057,
          7884.831,
          8722.674,
          8845.139,
          9335.246,
          9333.218,
          5925.746,
          7597.991,
          11332.216,
          13035.823,
          12953.608,
          13291.885,
          11626.564,
          7497.911,
          6173.928,
          8421.21,
          8901.3,
          8764,
          9364,
          9396.5,
          5769.5,
          5884,
          8009.9,
          8764,
          9814
         ],
         "xaxis": "x",
         "yaxis": "y"
        },
        {
         "alignmentgroup": "True",
         "bingroup": "x",
         "hovertemplate": "nombre=Motores diésel<br>Valores=%{x}<br>count=%{y}<extra></extra>",
         "legendgroup": "Motores diésel",
         "marker": {
          "color": "#00cc96",
          "pattern": {
           "shape": ""
          }
         },
         "name": "Motores diésel",
         "nbinsx": 50,
         "offsetgroup": "Motores diésel",
         "orientation": "v",
         "showlegend": true,
         "type": "histogram",
         "x": [
          7724.568,
          7287.569,
          7192.893,
          6848.33,
          7571.729,
          6924.793,
          6797.441,
          7932.293,
          7929.039,
          7820.881,
          8075.466,
          7956.688,
          7856.663,
          6663.394,
          6776.836,
          6771.22,
          7553.43,
          7480.324,
          7225.652,
          6673.506,
          6605.813,
          6450.944,
          6537.454,
          6737.014,
          6795.396,
          7231.95,
          7216.581,
          7418.098,
          8239.317,
          8684.946,
          8634.224
         ],
         "xaxis": "x",
         "yaxis": "y"
        },
        {
         "alignmentgroup": "True",
         "bingroup": "x",
         "hovertemplate": "nombre=Turbina de gas<br>Valores=%{x}<br>count=%{y}<extra></extra>",
         "legendgroup": "Turbina de gas",
         "marker": {
          "color": "#ab63fa",
          "pattern": {
           "shape": ""
          }
         },
         "name": "Turbina de gas",
         "nbinsx": 50,
         "offsetgroup": "Turbina de gas",
         "orientation": "v",
         "showlegend": true,
         "type": "histogram",
         "x": [
          1826.98,
          1594.326,
          1702.453,
          1600.031,
          1046.376,
          1034.5,
          1301.162,
          2468.845,
          3033.987,
          3220.23,
          3041.81,
          2618.565,
          2056.419,
          1412.648,
          2436.565,
          1848.939,
          2173.592,
          2530.254,
          2719.066,
          1486.379,
          1248.844,
          1757.267,
          1815.576,
          1500.404,
          1746.895,
          1027.713,
          1055.006,
          1236.689,
          2396.469,
          2678.692,
          2084.655
         ],
         "xaxis": "x",
         "yaxis": "y"
        },
        {
         "alignmentgroup": "True",
         "bingroup": "x",
         "hovertemplate": "nombre=Turbina de vapor<br>Valores=%{x}<br>count=%{y}<extra></extra>",
         "legendgroup": "Turbina de vapor",
         "marker": {
          "color": "#FFA15A",
          "pattern": {
           "shape": ""
          }
         },
         "name": "Turbina de vapor",
         "nbinsx": 50,
         "offsetgroup": "Turbina de vapor",
         "orientation": "v",
         "showlegend": true,
         "type": "histogram",
         "x": [
          2130.324,
          2091.309,
          2120.017,
          2176.693,
          2133.769,
          1354.965,
          1391.281,
          1747.658,
          2059.521,
          1939.779,
          2430.337,
          1779.035,
          2921.146,
          2246.614,
          2332.494,
          2176.039,
          2181.24,
          2594.768,
          2364.96,
          2350.539,
          2189.206,
          2637.5,
          2409.003,
          2236.784,
          2100.416,
          1879.08,
          2329.67,
          2559.136,
          2921.456,
          3136.741,
          2670.806
         ],
         "xaxis": "x",
         "yaxis": "y"
        },
        {
         "alignmentgroup": "True",
         "bingroup": "x",
         "hovertemplate": "nombre=Fuel + Gas<br>Valores=%{x}<br>count=%{y}<extra></extra>",
         "legendgroup": "Fuel + Gas",
         "marker": {
          "color": "#19d3f3",
          "pattern": {
           "shape": ""
          }
         },
         "name": "Fuel + Gas",
         "nbinsx": 50,
         "offsetgroup": "Fuel + Gas",
         "orientation": "v",
         "showlegend": true,
         "type": "histogram",
         "x": [
          -0.001,
          0.001
         ],
         "xaxis": "x",
         "yaxis": "y"
        },
        {
         "alignmentgroup": "True",
         "bingroup": "x",
         "hovertemplate": "nombre=Cogeneración<br>Valores=%{x}<br>count=%{y}<extra></extra>",
         "legendgroup": "Cogeneración",
         "marker": {
          "color": "#FF6692",
          "pattern": {
           "shape": ""
          }
         },
         "name": "Cogeneración",
         "nbinsx": 50,
         "offsetgroup": "Cogeneración",
         "orientation": "v",
         "showlegend": true,
         "type": "histogram",
         "x": [
          46933.118,
          46440.614,
          47223.732,
          48546.901,
          40107.831,
          34657.713,
          29447.789,
          27985.943,
          27332.783,
          48064.498,
          53794.577,
          55956.812,
          49273.304,
          46054.266,
          50788.6,
          52619.165,
          42934.229,
          26012.013,
          25893.392,
          27877.149,
          29235.207,
          44468.927,
          51109.48,
          51210.46,
          38530.68,
          49771.42,
          38276.2,
          24985.74,
          31621.76,
          25166.3,
          24849.6
         ],
         "xaxis": "x",
         "yaxis": "y"
        },
        {
         "alignmentgroup": "True",
         "bingroup": "x",
         "hovertemplate": "nombre=Residuos no renovables<br>Valores=%{x}<br>count=%{y}<extra></extra>",
         "legendgroup": "Residuos no renovables",
         "marker": {
          "color": "#B6E880",
          "pattern": {
           "shape": ""
          }
         },
         "name": "Residuos no renovables",
         "nbinsx": 50,
         "offsetgroup": "Residuos no renovables",
         "orientation": "v",
         "showlegend": true,
         "type": "histogram",
         "x": [
          5024.3765,
          4921.646,
          5030.6205,
          4919.805,
          4699.188,
          4402.1105,
          4302.9865,
          4164.1365,
          4140.589,
          3346.976,
          3981.219,
          4348.2005,
          4065.566,
          4043.8235,
          5040.8035,
          4952.754,
          4606.7385,
          4053.5085,
          3505.792,
          3581.0435,
          3206.7325,
          3482.5895,
          4250.3,
          4420.7,
          4166.7,
          4333.1,
          4152.55,
          3672.7,
          3684.9,
          3720.6,
          4095.25
         ],
         "xaxis": "x",
         "yaxis": "y"
        },
        {
         "alignmentgroup": "True",
         "bingroup": "x",
         "hovertemplate": "nombre=Generación no renovable<br>Valores=%{x}<br>count=%{y}<extra></extra>",
         "legendgroup": "Generación no renovable",
         "marker": {
          "color": "#FF97FF",
          "pattern": {
           "shape": ""
          }
         },
         "name": "Generación no renovable",
         "nbinsx": 50,
         "offsetgroup": "Generación no renovable",
         "orientation": "v",
         "showlegend": true,
         "type": "histogram",
         "x": [
          354565.7945000001,
          356944.745,
          343219.1115,
          350608.59200000006,
          313557.729,
          298641.1825,
          301570.80850000004,
          312615.5915,
          303029.868,
          350458.30100000004,
          415517.967,
          412329.8314999999,
          352511.746,
          336055.13249999995,
          351781.3945,
          360720.6429999999,
          315107.49149999995,
          290533.8695,
          292290.743,
          298769.3285,
          294580.6275,
          354462.7515000001,
          352937.309,
          358631.506,
          333142.4060000001,
          368923.849,
          288887.534,
          265566.279,
          269868.44100000005,
          268072.601,
          254883.325
         ],
         "xaxis": "x",
         "yaxis": "y"
        },
        {
         "alignmentgroup": "True",
         "bingroup": "x",
         "hovertemplate": "nombre=Consumos en bombeo<br>Valores=%{x}<br>count=%{y}<extra></extra>",
         "legendgroup": "Consumos en bombeo",
         "marker": {
          "color": "#FECB52",
          "pattern": {
           "shape": ""
          }
         },
         "name": "Consumos en bombeo",
         "nbinsx": 50,
         "offsetgroup": "Consumos en bombeo",
         "orientation": "v",
         "showlegend": true,
         "type": "histogram",
         "x": [
          -30029.35,
          -30216.28,
          -25771.441,
          -27173.394,
          -40012.917,
          -42165.889,
          -41243.457,
          -36379.022,
          -28362.316,
          -12677.221,
          -1677.125,
          -4506.807,
          -13055.198,
          -21003.558,
          -18367.203,
          -6185.448,
          -24699.308,
          -34801.155,
          -34760.906,
          -22061.226,
          -29614.368,
          -16745.747,
          -11369.6,
          -11660.4,
          -25476.6,
          -13205.2,
          -14987.2,
          -33277.3,
          -16645.8,
          -27589.6,
          -25645.1
         ],
         "xaxis": "x",
         "yaxis": "y"
        },
        {
         "alignmentgroup": "True",
         "bingroup": "x",
         "hovertemplate": "nombre=Saldo I. internacionales<br>Valores=%{x}<br>count=%{y}<extra></extra>",
         "legendgroup": "Saldo I. internacionales",
         "marker": {
          "color": "#636efa",
          "pattern": {
           "shape": ""
          }
         },
         "name": "Saldo I. internacionales",
         "nbinsx": 50,
         "offsetgroup": "Saldo I. internacionales",
         "orientation": "v",
         "showlegend": true,
         "type": "histogram",
         "x": [
          -61448.838,
          -48420.387,
          -45939.549,
          -44213.613,
          -70519.778,
          -46961.276,
          -77641.473,
          -83476.417,
          -55321.493,
          -32920.686,
          -28866.425,
          -27427.468,
          -35950.27,
          -28805.195,
          -11584.601,
          -460.821,
          -22980.461,
          -57181.573,
          -31408.635,
          -35905.305,
          -58741.817,
          -19443.509,
          -32746.2,
          -64903.1,
          -85294.7,
          -67279.4,
          -55758.8,
          -63158.2,
          -39350,
          -42371.6,
          -40583.5
         ],
         "xaxis": "x",
         "yaxis": "y"
        },
        {
         "alignmentgroup": "True",
         "bingroup": "x",
         "hovertemplate": "nombre=Demanda en b.c.<br>Valores=%{x}<br>count=%{y}<extra></extra>",
         "legendgroup": "Demanda en b.c.",
         "marker": {
          "color": "#EF553B",
          "pattern": {
           "shape": ""
          }
         },
         "name": "Demanda en b.c.",
         "nbinsx": 50,
         "offsetgroup": "Demanda en b.c.",
         "orientation": "v",
         "showlegend": true,
         "type": "histogram",
         "x": [
          671868.895,
          695177.8589999999,
          683578.523,
          705001.661,
          679273.4890000001,
          595716.678,
          558723.1410000001,
          669859.391,
          685876.4,
          689088.709,
          687152.936,
          678502.426,
          604504.485,
          555780.8979999999,
          650308.026,
          658582.587,
          682397.378,
          702319.515,
          674697.414,
          580098.071,
          539709.212,
          644307.7679999999,
          681809.733,
          699644.968,
          688948.048,
          673026.421,
          598027.769,
          565533.205,
          665564.644,
          682877.223,
          688451.74
         ],
         "xaxis": "x",
         "yaxis": "y"
        }
       ],
       "layout": {
        "barmode": "relative",
        "legend": {
         "title": {
          "text": "nombre"
         },
         "tracegroupgap": 0
        },
        "margin": {
         "t": 60
        },
        "template": {
         "data": {
          "bar": [
           {
            "error_x": {
             "color": "#2a3f5f"
            },
            "error_y": {
             "color": "#2a3f5f"
            },
            "marker": {
             "line": {
              "color": "#E5ECF6",
              "width": 0.5
             },
             "pattern": {
              "fillmode": "overlay",
              "size": 10,
              "solidity": 0.2
             }
            },
            "type": "bar"
           }
          ],
          "barpolar": [
           {
            "marker": {
             "line": {
              "color": "#E5ECF6",
              "width": 0.5
             },
             "pattern": {
              "fillmode": "overlay",
              "size": 10,
              "solidity": 0.2
             }
            },
            "type": "barpolar"
           }
          ],
          "carpet": [
           {
            "aaxis": {
             "endlinecolor": "#2a3f5f",
             "gridcolor": "white",
             "linecolor": "white",
             "minorgridcolor": "white",
             "startlinecolor": "#2a3f5f"
            },
            "baxis": {
             "endlinecolor": "#2a3f5f",
             "gridcolor": "white",
             "linecolor": "white",
             "minorgridcolor": "white",
             "startlinecolor": "#2a3f5f"
            },
            "type": "carpet"
           }
          ],
          "choropleth": [
           {
            "colorbar": {
             "outlinewidth": 0,
             "ticks": ""
            },
            "type": "choropleth"
           }
          ],
          "contour": [
           {
            "colorbar": {
             "outlinewidth": 0,
             "ticks": ""
            },
            "colorscale": [
             [
              0,
              "#0d0887"
             ],
             [
              0.1111111111111111,
              "#46039f"
             ],
             [
              0.2222222222222222,
              "#7201a8"
             ],
             [
              0.3333333333333333,
              "#9c179e"
             ],
             [
              0.4444444444444444,
              "#bd3786"
             ],
             [
              0.5555555555555556,
              "#d8576b"
             ],
             [
              0.6666666666666666,
              "#ed7953"
             ],
             [
              0.7777777777777778,
              "#fb9f3a"
             ],
             [
              0.8888888888888888,
              "#fdca26"
             ],
             [
              1,
              "#f0f921"
             ]
            ],
            "type": "contour"
           }
          ],
          "contourcarpet": [
           {
            "colorbar": {
             "outlinewidth": 0,
             "ticks": ""
            },
            "type": "contourcarpet"
           }
          ],
          "heatmap": [
           {
            "colorbar": {
             "outlinewidth": 0,
             "ticks": ""
            },
            "colorscale": [
             [
              0,
              "#0d0887"
             ],
             [
              0.1111111111111111,
              "#46039f"
             ],
             [
              0.2222222222222222,
              "#7201a8"
             ],
             [
              0.3333333333333333,
              "#9c179e"
             ],
             [
              0.4444444444444444,
              "#bd3786"
             ],
             [
              0.5555555555555556,
              "#d8576b"
             ],
             [
              0.6666666666666666,
              "#ed7953"
             ],
             [
              0.7777777777777778,
              "#fb9f3a"
             ],
             [
              0.8888888888888888,
              "#fdca26"
             ],
             [
              1,
              "#f0f921"
             ]
            ],
            "type": "heatmap"
           }
          ],
          "heatmapgl": [
           {
            "colorbar": {
             "outlinewidth": 0,
             "ticks": ""
            },
            "colorscale": [
             [
              0,
              "#0d0887"
             ],
             [
              0.1111111111111111,
              "#46039f"
             ],
             [
              0.2222222222222222,
              "#7201a8"
             ],
             [
              0.3333333333333333,
              "#9c179e"
             ],
             [
              0.4444444444444444,
              "#bd3786"
             ],
             [
              0.5555555555555556,
              "#d8576b"
             ],
             [
              0.6666666666666666,
              "#ed7953"
             ],
             [
              0.7777777777777778,
              "#fb9f3a"
             ],
             [
              0.8888888888888888,
              "#fdca26"
             ],
             [
              1,
              "#f0f921"
             ]
            ],
            "type": "heatmapgl"
           }
          ],
          "histogram": [
           {
            "marker": {
             "pattern": {
              "fillmode": "overlay",
              "size": 10,
              "solidity": 0.2
             }
            },
            "type": "histogram"
           }
          ],
          "histogram2d": [
           {
            "colorbar": {
             "outlinewidth": 0,
             "ticks": ""
            },
            "colorscale": [
             [
              0,
              "#0d0887"
             ],
             [
              0.1111111111111111,
              "#46039f"
             ],
             [
              0.2222222222222222,
              "#7201a8"
             ],
             [
              0.3333333333333333,
              "#9c179e"
             ],
             [
              0.4444444444444444,
              "#bd3786"
             ],
             [
              0.5555555555555556,
              "#d8576b"
             ],
             [
              0.6666666666666666,
              "#ed7953"
             ],
             [
              0.7777777777777778,
              "#fb9f3a"
             ],
             [
              0.8888888888888888,
              "#fdca26"
             ],
             [
              1,
              "#f0f921"
             ]
            ],
            "type": "histogram2d"
           }
          ],
          "histogram2dcontour": [
           {
            "colorbar": {
             "outlinewidth": 0,
             "ticks": ""
            },
            "colorscale": [
             [
              0,
              "#0d0887"
             ],
             [
              0.1111111111111111,
              "#46039f"
             ],
             [
              0.2222222222222222,
              "#7201a8"
             ],
             [
              0.3333333333333333,
              "#9c179e"
             ],
             [
              0.4444444444444444,
              "#bd3786"
             ],
             [
              0.5555555555555556,
              "#d8576b"
             ],
             [
              0.6666666666666666,
              "#ed7953"
             ],
             [
              0.7777777777777778,
              "#fb9f3a"
             ],
             [
              0.8888888888888888,
              "#fdca26"
             ],
             [
              1,
              "#f0f921"
             ]
            ],
            "type": "histogram2dcontour"
           }
          ],
          "mesh3d": [
           {
            "colorbar": {
             "outlinewidth": 0,
             "ticks": ""
            },
            "type": "mesh3d"
           }
          ],
          "parcoords": [
           {
            "line": {
             "colorbar": {
              "outlinewidth": 0,
              "ticks": ""
             }
            },
            "type": "parcoords"
           }
          ],
          "pie": [
           {
            "automargin": true,
            "type": "pie"
           }
          ],
          "scatter": [
           {
            "fillpattern": {
             "fillmode": "overlay",
             "size": 10,
             "solidity": 0.2
            },
            "type": "scatter"
           }
          ],
          "scatter3d": [
           {
            "line": {
             "colorbar": {
              "outlinewidth": 0,
              "ticks": ""
             }
            },
            "marker": {
             "colorbar": {
              "outlinewidth": 0,
              "ticks": ""
             }
            },
            "type": "scatter3d"
           }
          ],
          "scattercarpet": [
           {
            "marker": {
             "colorbar": {
              "outlinewidth": 0,
              "ticks": ""
             }
            },
            "type": "scattercarpet"
           }
          ],
          "scattergeo": [
           {
            "marker": {
             "colorbar": {
              "outlinewidth": 0,
              "ticks": ""
             }
            },
            "type": "scattergeo"
           }
          ],
          "scattergl": [
           {
            "marker": {
             "colorbar": {
              "outlinewidth": 0,
              "ticks": ""
             }
            },
            "type": "scattergl"
           }
          ],
          "scattermapbox": [
           {
            "marker": {
             "colorbar": {
              "outlinewidth": 0,
              "ticks": ""
             }
            },
            "type": "scattermapbox"
           }
          ],
          "scatterpolar": [
           {
            "marker": {
             "colorbar": {
              "outlinewidth": 0,
              "ticks": ""
             }
            },
            "type": "scatterpolar"
           }
          ],
          "scatterpolargl": [
           {
            "marker": {
             "colorbar": {
              "outlinewidth": 0,
              "ticks": ""
             }
            },
            "type": "scatterpolargl"
           }
          ],
          "scatterternary": [
           {
            "marker": {
             "colorbar": {
              "outlinewidth": 0,
              "ticks": ""
             }
            },
            "type": "scatterternary"
           }
          ],
          "surface": [
           {
            "colorbar": {
             "outlinewidth": 0,
             "ticks": ""
            },
            "colorscale": [
             [
              0,
              "#0d0887"
             ],
             [
              0.1111111111111111,
              "#46039f"
             ],
             [
              0.2222222222222222,
              "#7201a8"
             ],
             [
              0.3333333333333333,
              "#9c179e"
             ],
             [
              0.4444444444444444,
              "#bd3786"
             ],
             [
              0.5555555555555556,
              "#d8576b"
             ],
             [
              0.6666666666666666,
              "#ed7953"
             ],
             [
              0.7777777777777778,
              "#fb9f3a"
             ],
             [
              0.8888888888888888,
              "#fdca26"
             ],
             [
              1,
              "#f0f921"
             ]
            ],
            "type": "surface"
           }
          ],
          "table": [
           {
            "cells": {
             "fill": {
              "color": "#EBF0F8"
             },
             "line": {
              "color": "white"
             }
            },
            "header": {
             "fill": {
              "color": "#C8D4E3"
             },
             "line": {
              "color": "white"
             }
            },
            "type": "table"
           }
          ]
         },
         "layout": {
          "annotationdefaults": {
           "arrowcolor": "#2a3f5f",
           "arrowhead": 0,
           "arrowwidth": 1
          },
          "autotypenumbers": "strict",
          "coloraxis": {
           "colorbar": {
            "outlinewidth": 0,
            "ticks": ""
           }
          },
          "colorscale": {
           "diverging": [
            [
             0,
             "#8e0152"
            ],
            [
             0.1,
             "#c51b7d"
            ],
            [
             0.2,
             "#de77ae"
            ],
            [
             0.3,
             "#f1b6da"
            ],
            [
             0.4,
             "#fde0ef"
            ],
            [
             0.5,
             "#f7f7f7"
            ],
            [
             0.6,
             "#e6f5d0"
            ],
            [
             0.7,
             "#b8e186"
            ],
            [
             0.8,
             "#7fbc41"
            ],
            [
             0.9,
             "#4d9221"
            ],
            [
             1,
             "#276419"
            ]
           ],
           "sequential": [
            [
             0,
             "#0d0887"
            ],
            [
             0.1111111111111111,
             "#46039f"
            ],
            [
             0.2222222222222222,
             "#7201a8"
            ],
            [
             0.3333333333333333,
             "#9c179e"
            ],
            [
             0.4444444444444444,
             "#bd3786"
            ],
            [
             0.5555555555555556,
             "#d8576b"
            ],
            [
             0.6666666666666666,
             "#ed7953"
            ],
            [
             0.7777777777777778,
             "#fb9f3a"
            ],
            [
             0.8888888888888888,
             "#fdca26"
            ],
            [
             1,
             "#f0f921"
            ]
           ],
           "sequentialminus": [
            [
             0,
             "#0d0887"
            ],
            [
             0.1111111111111111,
             "#46039f"
            ],
            [
             0.2222222222222222,
             "#7201a8"
            ],
            [
             0.3333333333333333,
             "#9c179e"
            ],
            [
             0.4444444444444444,
             "#bd3786"
            ],
            [
             0.5555555555555556,
             "#d8576b"
            ],
            [
             0.6666666666666666,
             "#ed7953"
            ],
            [
             0.7777777777777778,
             "#fb9f3a"
            ],
            [
             0.8888888888888888,
             "#fdca26"
            ],
            [
             1,
             "#f0f921"
            ]
           ]
          },
          "colorway": [
           "#636efa",
           "#EF553B",
           "#00cc96",
           "#ab63fa",
           "#FFA15A",
           "#19d3f3",
           "#FF6692",
           "#B6E880",
           "#FF97FF",
           "#FECB52"
          ],
          "font": {
           "color": "#2a3f5f"
          },
          "geo": {
           "bgcolor": "white",
           "lakecolor": "white",
           "landcolor": "#E5ECF6",
           "showlakes": true,
           "showland": true,
           "subunitcolor": "white"
          },
          "hoverlabel": {
           "align": "left"
          },
          "hovermode": "closest",
          "mapbox": {
           "style": "light"
          },
          "paper_bgcolor": "white",
          "plot_bgcolor": "#E5ECF6",
          "polar": {
           "angularaxis": {
            "gridcolor": "white",
            "linecolor": "white",
            "ticks": ""
           },
           "bgcolor": "#E5ECF6",
           "radialaxis": {
            "gridcolor": "white",
            "linecolor": "white",
            "ticks": ""
           }
          },
          "scene": {
           "xaxis": {
            "backgroundcolor": "#E5ECF6",
            "gridcolor": "white",
            "gridwidth": 2,
            "linecolor": "white",
            "showbackground": true,
            "ticks": "",
            "zerolinecolor": "white"
           },
           "yaxis": {
            "backgroundcolor": "#E5ECF6",
            "gridcolor": "white",
            "gridwidth": 2,
            "linecolor": "white",
            "showbackground": true,
            "ticks": "",
            "zerolinecolor": "white"
           },
           "zaxis": {
            "backgroundcolor": "#E5ECF6",
            "gridcolor": "white",
            "gridwidth": 2,
            "linecolor": "white",
            "showbackground": true,
            "ticks": "",
            "zerolinecolor": "white"
           }
          },
          "shapedefaults": {
           "line": {
            "color": "#2a3f5f"
           }
          },
          "ternary": {
           "aaxis": {
            "gridcolor": "white",
            "linecolor": "white",
            "ticks": ""
           },
           "baxis": {
            "gridcolor": "white",
            "linecolor": "white",
            "ticks": ""
           },
           "bgcolor": "#E5ECF6",
           "caxis": {
            "gridcolor": "white",
            "linecolor": "white",
            "ticks": ""
           }
          },
          "title": {
           "x": 0.05
          },
          "xaxis": {
           "automargin": true,
           "gridcolor": "white",
           "linecolor": "white",
           "ticks": "",
           "title": {
            "standoff": 15
           },
           "zerolinecolor": "white",
           "zerolinewidth": 2
          },
          "yaxis": {
           "automargin": true,
           "gridcolor": "white",
           "linecolor": "white",
           "ticks": "",
           "title": {
            "standoff": 15
           },
           "zerolinecolor": "white",
           "zerolinewidth": 2
          }
         }
        },
        "xaxis": {
         "anchor": "y",
         "domain": [
          0,
          1
         ],
         "title": {
          "text": "Valores"
         }
        },
        "yaxis": {
         "anchor": "x",
         "domain": [
          0,
          1
         ],
         "title": {
          "text": "count"
         }
        }
       }
      }
     },
     "metadata": {},
     "output_type": "display_data"
    }
   ],
   "source": [
    "fig3 = px.histogram(data_frame = df_balance, \n",
    "             x          = \"Valores\",\n",
    "             color      = \"nombre\",\n",
    "             nbins      = 50)\n",
    "\n",
    "fig3.show()"
   ]
  },
  {
   "cell_type": "code",
   "execution_count": 110,
   "metadata": {},
   "outputs": [
    {
     "name": "stderr",
     "output_type": "stream",
     "text": [
      "/opt/anaconda3/lib/python3.11/site-packages/plotly/express/_core.py:1979: FutureWarning:\n",
      "\n",
      "When grouping with a length-1 list-like, you will need to pass a length-1 tuple to get_group in a future version of pandas. Pass `(name,)` instead of `name` to silence this warning.\n",
      "\n"
     ]
    },
    {
     "data": {
      "application/vnd.plotly.v1+json": {
       "config": {
        "plotlyServerURL": "https://plot.ly"
       },
       "data": [
        {
         "alignmentgroup": "True",
         "hovertemplate": "nombre=Hidráulica<br>tipo de energía=%{x}<br>count=%{y}<extra></extra>",
         "legendgroup": "Hidráulica",
         "marker": {
          "color": "#636efa",
          "pattern": {
           "shape": ""
          }
         },
         "name": "Hidráulica",
         "offsetgroup": "Hidráulica",
         "orientation": "v",
         "showlegend": true,
         "textposition": "auto",
         "type": "bar",
         "x": [
          "Renovable",
          "Renovable",
          "Renovable",
          "Renovable",
          "Renovable",
          "Renovable",
          "Renovable",
          "Renovable",
          "Renovable",
          "Renovable",
          "Renovable",
          "Renovable",
          "Renovable",
          "Renovable",
          "Renovable",
          "Renovable",
          "Renovable",
          "Renovable",
          "Renovable",
          "Renovable",
          "Renovable",
          "Renovable",
          "Renovable",
          "Renovable",
          "Renovable",
          "Renovable",
          "Renovable",
          "Renovable",
          "Renovable",
          "Renovable",
          "Renovable"
         ],
         "xaxis": "x",
         "y": [
          1,
          1,
          1,
          1,
          1,
          1,
          1,
          1,
          1,
          1,
          1,
          1,
          1,
          1,
          1,
          1,
          1,
          1,
          1,
          1,
          1,
          1,
          1,
          1,
          1,
          1,
          1,
          1,
          1,
          1,
          1
         ],
         "yaxis": "y"
        },
        {
         "alignmentgroup": "True",
         "hovertemplate": "nombre=Eólica<br>tipo de energía=%{x}<br>count=%{y}<extra></extra>",
         "legendgroup": "Eólica",
         "marker": {
          "color": "#EF553B",
          "pattern": {
           "shape": ""
          }
         },
         "name": "Eólica",
         "offsetgroup": "Eólica",
         "orientation": "v",
         "showlegend": true,
         "textposition": "auto",
         "type": "bar",
         "x": [
          "Renovable",
          "Renovable",
          "Renovable",
          "Renovable",
          "Renovable",
          "Renovable",
          "Renovable",
          "Renovable",
          "Renovable",
          "Renovable",
          "Renovable",
          "Renovable",
          "Renovable",
          "Renovable",
          "Renovable",
          "Renovable",
          "Renovable",
          "Renovable",
          "Renovable",
          "Renovable",
          "Renovable",
          "Renovable",
          "Renovable",
          "Renovable",
          "Renovable",
          "Renovable",
          "Renovable",
          "Renovable",
          "Renovable",
          "Renovable",
          "Renovable"
         ],
         "xaxis": "x",
         "y": [
          1,
          1,
          1,
          1,
          1,
          1,
          1,
          1,
          1,
          1,
          1,
          1,
          1,
          1,
          1,
          1,
          1,
          1,
          1,
          1,
          1,
          1,
          1,
          1,
          1,
          1,
          1,
          1,
          1,
          1,
          1
         ],
         "yaxis": "y"
        },
        {
         "alignmentgroup": "True",
         "hovertemplate": "nombre=Solar fotovoltaica<br>tipo de energía=%{x}<br>count=%{y}<extra></extra>",
         "legendgroup": "Solar fotovoltaica",
         "marker": {
          "color": "#00cc96",
          "pattern": {
           "shape": ""
          }
         },
         "name": "Solar fotovoltaica",
         "offsetgroup": "Solar fotovoltaica",
         "orientation": "v",
         "showlegend": true,
         "textposition": "auto",
         "type": "bar",
         "x": [
          "Renovable",
          "Renovable",
          "Renovable",
          "Renovable",
          "Renovable",
          "Renovable",
          "Renovable",
          "Renovable",
          "Renovable",
          "Renovable",
          "Renovable",
          "Renovable",
          "Renovable",
          "Renovable",
          "Renovable",
          "Renovable",
          "Renovable",
          "Renovable",
          "Renovable",
          "Renovable",
          "Renovable",
          "Renovable",
          "Renovable",
          "Renovable",
          "Renovable",
          "Renovable",
          "Renovable",
          "Renovable",
          "Renovable",
          "Renovable",
          "Renovable"
         ],
         "xaxis": "x",
         "y": [
          1,
          1,
          1,
          1,
          1,
          1,
          1,
          1,
          1,
          1,
          1,
          1,
          1,
          1,
          1,
          1,
          1,
          1,
          1,
          1,
          1,
          1,
          1,
          1,
          1,
          1,
          1,
          1,
          1,
          1,
          1
         ],
         "yaxis": "y"
        },
        {
         "alignmentgroup": "True",
         "hovertemplate": "nombre=Solar térmica<br>tipo de energía=%{x}<br>count=%{y}<extra></extra>",
         "legendgroup": "Solar térmica",
         "marker": {
          "color": "#ab63fa",
          "pattern": {
           "shape": ""
          }
         },
         "name": "Solar térmica",
         "offsetgroup": "Solar térmica",
         "orientation": "v",
         "showlegend": true,
         "textposition": "auto",
         "type": "bar",
         "x": [
          "Renovable",
          "Renovable",
          "Renovable",
          "Renovable",
          "Renovable",
          "Renovable",
          "Renovable",
          "Renovable",
          "Renovable",
          "Renovable",
          "Renovable",
          "Renovable",
          "Renovable",
          "Renovable",
          "Renovable",
          "Renovable",
          "Renovable",
          "Renovable",
          "Renovable",
          "Renovable",
          "Renovable",
          "Renovable",
          "Renovable",
          "Renovable",
          "Renovable",
          "Renovable",
          "Renovable",
          "Renovable",
          "Renovable",
          "Renovable",
          "Renovable"
         ],
         "xaxis": "x",
         "y": [
          1,
          1,
          1,
          1,
          1,
          1,
          1,
          1,
          1,
          1,
          1,
          1,
          1,
          1,
          1,
          1,
          1,
          1,
          1,
          1,
          1,
          1,
          1,
          1,
          1,
          1,
          1,
          1,
          1,
          1,
          1
         ],
         "yaxis": "y"
        },
        {
         "alignmentgroup": "True",
         "hovertemplate": "nombre=Hidroeólica<br>tipo de energía=%{x}<br>count=%{y}<extra></extra>",
         "legendgroup": "Hidroeólica",
         "marker": {
          "color": "#FFA15A",
          "pattern": {
           "shape": ""
          }
         },
         "name": "Hidroeólica",
         "offsetgroup": "Hidroeólica",
         "orientation": "v",
         "showlegend": true,
         "textposition": "auto",
         "type": "bar",
         "x": [
          "Renovable",
          "Renovable",
          "Renovable",
          "Renovable",
          "Renovable",
          "Renovable",
          "Renovable",
          "Renovable",
          "Renovable",
          "Renovable",
          "Renovable",
          "Renovable",
          "Renovable",
          "Renovable",
          "Renovable",
          "Renovable",
          "Renovable",
          "Renovable",
          "Renovable",
          "Renovable",
          "Renovable",
          "Renovable",
          "Renovable",
          "Renovable",
          "Renovable",
          "Renovable",
          "Renovable",
          "Renovable",
          "Renovable",
          "Renovable",
          "Renovable"
         ],
         "xaxis": "x",
         "y": [
          1,
          1,
          1,
          1,
          1,
          1,
          1,
          1,
          1,
          1,
          1,
          1,
          1,
          1,
          1,
          1,
          1,
          1,
          1,
          1,
          1,
          1,
          1,
          1,
          1,
          1,
          1,
          1,
          1,
          1,
          1
         ],
         "yaxis": "y"
        },
        {
         "alignmentgroup": "True",
         "hovertemplate": "nombre=Otras renovables<br>tipo de energía=%{x}<br>count=%{y}<extra></extra>",
         "legendgroup": "Otras renovables",
         "marker": {
          "color": "#19d3f3",
          "pattern": {
           "shape": ""
          }
         },
         "name": "Otras renovables",
         "offsetgroup": "Otras renovables",
         "orientation": "v",
         "showlegend": true,
         "textposition": "auto",
         "type": "bar",
         "x": [
          "Renovable",
          "Renovable",
          "Renovable",
          "Renovable",
          "Renovable",
          "Renovable",
          "Renovable",
          "Renovable",
          "Renovable",
          "Renovable",
          "Renovable",
          "Renovable",
          "Renovable",
          "Renovable",
          "Renovable",
          "Renovable",
          "Renovable",
          "Renovable",
          "Renovable",
          "Renovable",
          "Renovable",
          "Renovable",
          "Renovable",
          "Renovable",
          "Renovable",
          "Renovable",
          "Renovable",
          "Renovable",
          "Renovable",
          "Renovable",
          "Renovable"
         ],
         "xaxis": "x",
         "y": [
          1,
          1,
          1,
          1,
          1,
          1,
          1,
          1,
          1,
          1,
          1,
          1,
          1,
          1,
          1,
          1,
          1,
          1,
          1,
          1,
          1,
          1,
          1,
          1,
          1,
          1,
          1,
          1,
          1,
          1,
          1
         ],
         "yaxis": "y"
        },
        {
         "alignmentgroup": "True",
         "hovertemplate": "nombre=Residuos renovables<br>tipo de energía=%{x}<br>count=%{y}<extra></extra>",
         "legendgroup": "Residuos renovables",
         "marker": {
          "color": "#FF6692",
          "pattern": {
           "shape": ""
          }
         },
         "name": "Residuos renovables",
         "offsetgroup": "Residuos renovables",
         "orientation": "v",
         "showlegend": true,
         "textposition": "auto",
         "type": "bar",
         "x": [
          "Renovable",
          "Renovable",
          "Renovable",
          "Renovable",
          "Renovable",
          "Renovable",
          "Renovable",
          "Renovable",
          "Renovable",
          "Renovable",
          "Renovable",
          "Renovable",
          "Renovable",
          "Renovable",
          "Renovable",
          "Renovable",
          "Renovable",
          "Renovable",
          "Renovable",
          "Renovable",
          "Renovable",
          "Renovable",
          "Renovable",
          "Renovable",
          "Renovable",
          "Renovable",
          "Renovable",
          "Renovable",
          "Renovable",
          "Renovable",
          "Renovable"
         ],
         "xaxis": "x",
         "y": [
          1,
          1,
          1,
          1,
          1,
          1,
          1,
          1,
          1,
          1,
          1,
          1,
          1,
          1,
          1,
          1,
          1,
          1,
          1,
          1,
          1,
          1,
          1,
          1,
          1,
          1,
          1,
          1,
          1,
          1,
          1
         ],
         "yaxis": "y"
        },
        {
         "alignmentgroup": "True",
         "hovertemplate": "nombre=Generación renovable<br>tipo de energía=%{x}<br>count=%{y}<extra></extra>",
         "legendgroup": "Generación renovable",
         "marker": {
          "color": "#B6E880",
          "pattern": {
           "shape": ""
          }
         },
         "name": "Generación renovable",
         "offsetgroup": "Generación renovable",
         "orientation": "v",
         "showlegend": true,
         "textposition": "auto",
         "type": "bar",
         "x": [
          "Renovable",
          "Renovable",
          "Renovable",
          "Renovable",
          "Renovable",
          "Renovable",
          "Renovable",
          "Renovable",
          "Renovable",
          "Renovable",
          "Renovable",
          "Renovable",
          "Renovable",
          "Renovable",
          "Renovable",
          "Renovable",
          "Renovable",
          "Renovable",
          "Renovable",
          "Renovable",
          "Renovable",
          "Renovable",
          "Renovable",
          "Renovable",
          "Renovable",
          "Renovable",
          "Renovable",
          "Renovable",
          "Renovable",
          "Renovable",
          "Renovable"
         ],
         "xaxis": "x",
         "y": [
          1,
          1,
          1,
          1,
          1,
          1,
          1,
          1,
          1,
          1,
          1,
          1,
          1,
          1,
          1,
          1,
          1,
          1,
          1,
          1,
          1,
          1,
          1,
          1,
          1,
          1,
          1,
          1,
          1,
          1,
          1
         ],
         "yaxis": "y"
        },
        {
         "alignmentgroup": "True",
         "hovertemplate": "nombre=Turbinación bombeo<br>tipo de energía=%{x}<br>count=%{y}<extra></extra>",
         "legendgroup": "Turbinación bombeo",
         "marker": {
          "color": "#FF97FF",
          "pattern": {
           "shape": ""
          }
         },
         "name": "Turbinación bombeo",
         "offsetgroup": "Turbinación bombeo",
         "orientation": "v",
         "showlegend": true,
         "textposition": "auto",
         "type": "bar",
         "x": [
          "No-Renovable",
          "No-Renovable",
          "No-Renovable",
          "No-Renovable",
          "No-Renovable",
          "No-Renovable",
          "No-Renovable",
          "No-Renovable",
          "No-Renovable",
          "No-Renovable",
          "No-Renovable",
          "No-Renovable",
          "No-Renovable",
          "No-Renovable",
          "No-Renovable",
          "No-Renovable",
          "No-Renovable",
          "No-Renovable",
          "No-Renovable",
          "No-Renovable",
          "No-Renovable",
          "No-Renovable",
          "No-Renovable",
          "No-Renovable",
          "No-Renovable",
          "No-Renovable",
          "No-Renovable",
          "No-Renovable",
          "No-Renovable",
          "No-Renovable",
          "No-Renovable"
         ],
         "xaxis": "x",
         "y": [
          1,
          1,
          1,
          1,
          1,
          1,
          1,
          1,
          1,
          1,
          1,
          1,
          1,
          1,
          1,
          1,
          1,
          1,
          1,
          1,
          1,
          1,
          1,
          1,
          1,
          1,
          1,
          1,
          1,
          1,
          1
         ],
         "yaxis": "y"
        },
        {
         "alignmentgroup": "True",
         "hovertemplate": "nombre=Nuclear<br>tipo de energía=%{x}<br>count=%{y}<extra></extra>",
         "legendgroup": "Nuclear",
         "marker": {
          "color": "#FECB52",
          "pattern": {
           "shape": ""
          }
         },
         "name": "Nuclear",
         "offsetgroup": "Nuclear",
         "orientation": "v",
         "showlegend": true,
         "textposition": "auto",
         "type": "bar",
         "x": [
          "No-Renovable",
          "No-Renovable",
          "No-Renovable",
          "No-Renovable",
          "No-Renovable",
          "No-Renovable",
          "No-Renovable",
          "No-Renovable",
          "No-Renovable",
          "No-Renovable",
          "No-Renovable",
          "No-Renovable",
          "No-Renovable",
          "No-Renovable",
          "No-Renovable",
          "No-Renovable",
          "No-Renovable",
          "No-Renovable",
          "No-Renovable",
          "No-Renovable",
          "No-Renovable",
          "No-Renovable",
          "No-Renovable",
          "No-Renovable",
          "No-Renovable",
          "No-Renovable",
          "No-Renovable",
          "No-Renovable",
          "No-Renovable",
          "No-Renovable",
          "No-Renovable"
         ],
         "xaxis": "x",
         "y": [
          1,
          1,
          1,
          1,
          1,
          1,
          1,
          1,
          1,
          1,
          1,
          1,
          1,
          1,
          1,
          1,
          1,
          1,
          1,
          1,
          1,
          1,
          1,
          1,
          1,
          1,
          1,
          1,
          1,
          1,
          1
         ],
         "yaxis": "y"
        },
        {
         "alignmentgroup": "True",
         "hovertemplate": "nombre=Ciclo combinado<br>tipo de energía=%{x}<br>count=%{y}<extra></extra>",
         "legendgroup": "Ciclo combinado",
         "marker": {
          "color": "#636efa",
          "pattern": {
           "shape": ""
          }
         },
         "name": "Ciclo combinado",
         "offsetgroup": "Ciclo combinado",
         "orientation": "v",
         "showlegend": true,
         "textposition": "auto",
         "type": "bar",
         "x": [
          "No-Renovable",
          "No-Renovable",
          "No-Renovable",
          "No-Renovable",
          "No-Renovable",
          "No-Renovable",
          "No-Renovable",
          "No-Renovable",
          "No-Renovable",
          "No-Renovable",
          "No-Renovable",
          "No-Renovable",
          "No-Renovable",
          "No-Renovable",
          "No-Renovable",
          "No-Renovable",
          "No-Renovable",
          "No-Renovable",
          "No-Renovable",
          "No-Renovable",
          "No-Renovable",
          "No-Renovable",
          "No-Renovable",
          "No-Renovable",
          "No-Renovable",
          "No-Renovable",
          "No-Renovable",
          "No-Renovable",
          "No-Renovable",
          "No-Renovable",
          "No-Renovable"
         ],
         "xaxis": "x",
         "y": [
          1,
          1,
          1,
          1,
          1,
          1,
          1,
          1,
          1,
          1,
          1,
          1,
          1,
          1,
          1,
          1,
          1,
          1,
          1,
          1,
          1,
          1,
          1,
          1,
          1,
          1,
          1,
          1,
          1,
          1,
          1
         ],
         "yaxis": "y"
        },
        {
         "alignmentgroup": "True",
         "hovertemplate": "nombre=Carbón<br>tipo de energía=%{x}<br>count=%{y}<extra></extra>",
         "legendgroup": "Carbón",
         "marker": {
          "color": "#EF553B",
          "pattern": {
           "shape": ""
          }
         },
         "name": "Carbón",
         "offsetgroup": "Carbón",
         "orientation": "v",
         "showlegend": true,
         "textposition": "auto",
         "type": "bar",
         "x": [
          "No-Renovable",
          "No-Renovable",
          "No-Renovable",
          "No-Renovable",
          "No-Renovable",
          "No-Renovable",
          "No-Renovable",
          "No-Renovable",
          "No-Renovable",
          "No-Renovable",
          "No-Renovable",
          "No-Renovable",
          "No-Renovable",
          "No-Renovable",
          "No-Renovable",
          "No-Renovable",
          "No-Renovable",
          "No-Renovable",
          "No-Renovable",
          "No-Renovable",
          "No-Renovable",
          "No-Renovable",
          "No-Renovable",
          "No-Renovable",
          "No-Renovable",
          "No-Renovable",
          "No-Renovable",
          "No-Renovable",
          "No-Renovable",
          "No-Renovable",
          "No-Renovable"
         ],
         "xaxis": "x",
         "y": [
          1,
          1,
          1,
          1,
          1,
          1,
          1,
          1,
          1,
          1,
          1,
          1,
          1,
          1,
          1,
          1,
          1,
          1,
          1,
          1,
          1,
          1,
          1,
          1,
          1,
          1,
          1,
          1,
          1,
          1,
          1
         ],
         "yaxis": "y"
        },
        {
         "alignmentgroup": "True",
         "hovertemplate": "nombre=Motores diésel<br>tipo de energía=%{x}<br>count=%{y}<extra></extra>",
         "legendgroup": "Motores diésel",
         "marker": {
          "color": "#00cc96",
          "pattern": {
           "shape": ""
          }
         },
         "name": "Motores diésel",
         "offsetgroup": "Motores diésel",
         "orientation": "v",
         "showlegend": true,
         "textposition": "auto",
         "type": "bar",
         "x": [
          "No-Renovable",
          "No-Renovable",
          "No-Renovable",
          "No-Renovable",
          "No-Renovable",
          "No-Renovable",
          "No-Renovable",
          "No-Renovable",
          "No-Renovable",
          "No-Renovable",
          "No-Renovable",
          "No-Renovable",
          "No-Renovable",
          "No-Renovable",
          "No-Renovable",
          "No-Renovable",
          "No-Renovable",
          "No-Renovable",
          "No-Renovable",
          "No-Renovable",
          "No-Renovable",
          "No-Renovable",
          "No-Renovable",
          "No-Renovable",
          "No-Renovable",
          "No-Renovable",
          "No-Renovable",
          "No-Renovable",
          "No-Renovable",
          "No-Renovable",
          "No-Renovable"
         ],
         "xaxis": "x",
         "y": [
          1,
          1,
          1,
          1,
          1,
          1,
          1,
          1,
          1,
          1,
          1,
          1,
          1,
          1,
          1,
          1,
          1,
          1,
          1,
          1,
          1,
          1,
          1,
          1,
          1,
          1,
          1,
          1,
          1,
          1,
          1
         ],
         "yaxis": "y"
        },
        {
         "alignmentgroup": "True",
         "hovertemplate": "nombre=Turbina de gas<br>tipo de energía=%{x}<br>count=%{y}<extra></extra>",
         "legendgroup": "Turbina de gas",
         "marker": {
          "color": "#ab63fa",
          "pattern": {
           "shape": ""
          }
         },
         "name": "Turbina de gas",
         "offsetgroup": "Turbina de gas",
         "orientation": "v",
         "showlegend": true,
         "textposition": "auto",
         "type": "bar",
         "x": [
          "No-Renovable",
          "No-Renovable",
          "No-Renovable",
          "No-Renovable",
          "No-Renovable",
          "No-Renovable",
          "No-Renovable",
          "No-Renovable",
          "No-Renovable",
          "No-Renovable",
          "No-Renovable",
          "No-Renovable",
          "No-Renovable",
          "No-Renovable",
          "No-Renovable",
          "No-Renovable",
          "No-Renovable",
          "No-Renovable",
          "No-Renovable",
          "No-Renovable",
          "No-Renovable",
          "No-Renovable",
          "No-Renovable",
          "No-Renovable",
          "No-Renovable",
          "No-Renovable",
          "No-Renovable",
          "No-Renovable",
          "No-Renovable",
          "No-Renovable",
          "No-Renovable"
         ],
         "xaxis": "x",
         "y": [
          1,
          1,
          1,
          1,
          1,
          1,
          1,
          1,
          1,
          1,
          1,
          1,
          1,
          1,
          1,
          1,
          1,
          1,
          1,
          1,
          1,
          1,
          1,
          1,
          1,
          1,
          1,
          1,
          1,
          1,
          1
         ],
         "yaxis": "y"
        },
        {
         "alignmentgroup": "True",
         "hovertemplate": "nombre=Turbina de vapor<br>tipo de energía=%{x}<br>count=%{y}<extra></extra>",
         "legendgroup": "Turbina de vapor",
         "marker": {
          "color": "#FFA15A",
          "pattern": {
           "shape": ""
          }
         },
         "name": "Turbina de vapor",
         "offsetgroup": "Turbina de vapor",
         "orientation": "v",
         "showlegend": true,
         "textposition": "auto",
         "type": "bar",
         "x": [
          "No-Renovable",
          "No-Renovable",
          "No-Renovable",
          "No-Renovable",
          "No-Renovable",
          "No-Renovable",
          "No-Renovable",
          "No-Renovable",
          "No-Renovable",
          "No-Renovable",
          "No-Renovable",
          "No-Renovable",
          "No-Renovable",
          "No-Renovable",
          "No-Renovable",
          "No-Renovable",
          "No-Renovable",
          "No-Renovable",
          "No-Renovable",
          "No-Renovable",
          "No-Renovable",
          "No-Renovable",
          "No-Renovable",
          "No-Renovable",
          "No-Renovable",
          "No-Renovable",
          "No-Renovable",
          "No-Renovable",
          "No-Renovable",
          "No-Renovable",
          "No-Renovable"
         ],
         "xaxis": "x",
         "y": [
          1,
          1,
          1,
          1,
          1,
          1,
          1,
          1,
          1,
          1,
          1,
          1,
          1,
          1,
          1,
          1,
          1,
          1,
          1,
          1,
          1,
          1,
          1,
          1,
          1,
          1,
          1,
          1,
          1,
          1,
          1
         ],
         "yaxis": "y"
        },
        {
         "alignmentgroup": "True",
         "hovertemplate": "nombre=Fuel + Gas<br>tipo de energía=%{x}<br>count=%{y}<extra></extra>",
         "legendgroup": "Fuel + Gas",
         "marker": {
          "color": "#19d3f3",
          "pattern": {
           "shape": ""
          }
         },
         "name": "Fuel + Gas",
         "offsetgroup": "Fuel + Gas",
         "orientation": "v",
         "showlegend": true,
         "textposition": "auto",
         "type": "bar",
         "x": [
          "No-Renovable",
          "No-Renovable"
         ],
         "xaxis": "x",
         "y": [
          1,
          1
         ],
         "yaxis": "y"
        },
        {
         "alignmentgroup": "True",
         "hovertemplate": "nombre=Cogeneración<br>tipo de energía=%{x}<br>count=%{y}<extra></extra>",
         "legendgroup": "Cogeneración",
         "marker": {
          "color": "#FF6692",
          "pattern": {
           "shape": ""
          }
         },
         "name": "Cogeneración",
         "offsetgroup": "Cogeneración",
         "orientation": "v",
         "showlegend": true,
         "textposition": "auto",
         "type": "bar",
         "x": [
          "No-Renovable",
          "No-Renovable",
          "No-Renovable",
          "No-Renovable",
          "No-Renovable",
          "No-Renovable",
          "No-Renovable",
          "No-Renovable",
          "No-Renovable",
          "No-Renovable",
          "No-Renovable",
          "No-Renovable",
          "No-Renovable",
          "No-Renovable",
          "No-Renovable",
          "No-Renovable",
          "No-Renovable",
          "No-Renovable",
          "No-Renovable",
          "No-Renovable",
          "No-Renovable",
          "No-Renovable",
          "No-Renovable",
          "No-Renovable",
          "No-Renovable",
          "No-Renovable",
          "No-Renovable",
          "No-Renovable",
          "No-Renovable",
          "No-Renovable",
          "No-Renovable"
         ],
         "xaxis": "x",
         "y": [
          1,
          1,
          1,
          1,
          1,
          1,
          1,
          1,
          1,
          1,
          1,
          1,
          1,
          1,
          1,
          1,
          1,
          1,
          1,
          1,
          1,
          1,
          1,
          1,
          1,
          1,
          1,
          1,
          1,
          1,
          1
         ],
         "yaxis": "y"
        },
        {
         "alignmentgroup": "True",
         "hovertemplate": "nombre=Residuos no renovables<br>tipo de energía=%{x}<br>count=%{y}<extra></extra>",
         "legendgroup": "Residuos no renovables",
         "marker": {
          "color": "#B6E880",
          "pattern": {
           "shape": ""
          }
         },
         "name": "Residuos no renovables",
         "offsetgroup": "Residuos no renovables",
         "orientation": "v",
         "showlegend": true,
         "textposition": "auto",
         "type": "bar",
         "x": [
          "No-Renovable",
          "No-Renovable",
          "No-Renovable",
          "No-Renovable",
          "No-Renovable",
          "No-Renovable",
          "No-Renovable",
          "No-Renovable",
          "No-Renovable",
          "No-Renovable",
          "No-Renovable",
          "No-Renovable",
          "No-Renovable",
          "No-Renovable",
          "No-Renovable",
          "No-Renovable",
          "No-Renovable",
          "No-Renovable",
          "No-Renovable",
          "No-Renovable",
          "No-Renovable",
          "No-Renovable",
          "No-Renovable",
          "No-Renovable",
          "No-Renovable",
          "No-Renovable",
          "No-Renovable",
          "No-Renovable",
          "No-Renovable",
          "No-Renovable",
          "No-Renovable"
         ],
         "xaxis": "x",
         "y": [
          1,
          1,
          1,
          1,
          1,
          1,
          1,
          1,
          1,
          1,
          1,
          1,
          1,
          1,
          1,
          1,
          1,
          1,
          1,
          1,
          1,
          1,
          1,
          1,
          1,
          1,
          1,
          1,
          1,
          1,
          1
         ],
         "yaxis": "y"
        },
        {
         "alignmentgroup": "True",
         "hovertemplate": "nombre=Generación no renovable<br>tipo de energía=%{x}<br>count=%{y}<extra></extra>",
         "legendgroup": "Generación no renovable",
         "marker": {
          "color": "#FF97FF",
          "pattern": {
           "shape": ""
          }
         },
         "name": "Generación no renovable",
         "offsetgroup": "Generación no renovable",
         "orientation": "v",
         "showlegend": true,
         "textposition": "auto",
         "type": "bar",
         "x": [
          "No-Renovable",
          "No-Renovable",
          "No-Renovable",
          "No-Renovable",
          "No-Renovable",
          "No-Renovable",
          "No-Renovable",
          "No-Renovable",
          "No-Renovable",
          "No-Renovable",
          "No-Renovable",
          "No-Renovable",
          "No-Renovable",
          "No-Renovable",
          "No-Renovable",
          "No-Renovable",
          "No-Renovable",
          "No-Renovable",
          "No-Renovable",
          "No-Renovable",
          "No-Renovable",
          "No-Renovable",
          "No-Renovable",
          "No-Renovable",
          "No-Renovable",
          "No-Renovable",
          "No-Renovable",
          "No-Renovable",
          "No-Renovable",
          "No-Renovable",
          "No-Renovable"
         ],
         "xaxis": "x",
         "y": [
          1,
          1,
          1,
          1,
          1,
          1,
          1,
          1,
          1,
          1,
          1,
          1,
          1,
          1,
          1,
          1,
          1,
          1,
          1,
          1,
          1,
          1,
          1,
          1,
          1,
          1,
          1,
          1,
          1,
          1,
          1
         ],
         "yaxis": "y"
        },
        {
         "alignmentgroup": "True",
         "hovertemplate": "nombre=Consumos en bombeo<br>tipo de energía=%{x}<br>count=%{y}<extra></extra>",
         "legendgroup": "Consumos en bombeo",
         "marker": {
          "color": "#FECB52",
          "pattern": {
           "shape": ""
          }
         },
         "name": "Consumos en bombeo",
         "offsetgroup": "Consumos en bombeo",
         "orientation": "v",
         "showlegend": true,
         "textposition": "auto",
         "type": "bar",
         "x": [
          "Demanda en b.c.",
          "Demanda en b.c.",
          "Demanda en b.c.",
          "Demanda en b.c.",
          "Demanda en b.c.",
          "Demanda en b.c.",
          "Demanda en b.c.",
          "Demanda en b.c.",
          "Demanda en b.c.",
          "Demanda en b.c.",
          "Demanda en b.c.",
          "Demanda en b.c.",
          "Demanda en b.c.",
          "Demanda en b.c.",
          "Demanda en b.c.",
          "Demanda en b.c.",
          "Demanda en b.c.",
          "Demanda en b.c.",
          "Demanda en b.c.",
          "Demanda en b.c.",
          "Demanda en b.c.",
          "Demanda en b.c.",
          "Demanda en b.c.",
          "Demanda en b.c.",
          "Demanda en b.c.",
          "Demanda en b.c.",
          "Demanda en b.c.",
          "Demanda en b.c.",
          "Demanda en b.c.",
          "Demanda en b.c.",
          "Demanda en b.c."
         ],
         "xaxis": "x",
         "y": [
          1,
          1,
          1,
          1,
          1,
          1,
          1,
          1,
          1,
          1,
          1,
          1,
          1,
          1,
          1,
          1,
          1,
          1,
          1,
          1,
          1,
          1,
          1,
          1,
          1,
          1,
          1,
          1,
          1,
          1,
          1
         ],
         "yaxis": "y"
        },
        {
         "alignmentgroup": "True",
         "hovertemplate": "nombre=Saldo I. internacionales<br>tipo de energía=%{x}<br>count=%{y}<extra></extra>",
         "legendgroup": "Saldo I. internacionales",
         "marker": {
          "color": "#636efa",
          "pattern": {
           "shape": ""
          }
         },
         "name": "Saldo I. internacionales",
         "offsetgroup": "Saldo I. internacionales",
         "orientation": "v",
         "showlegend": true,
         "textposition": "auto",
         "type": "bar",
         "x": [
          "Demanda en b.c.",
          "Demanda en b.c.",
          "Demanda en b.c.",
          "Demanda en b.c.",
          "Demanda en b.c.",
          "Demanda en b.c.",
          "Demanda en b.c.",
          "Demanda en b.c.",
          "Demanda en b.c.",
          "Demanda en b.c.",
          "Demanda en b.c.",
          "Demanda en b.c.",
          "Demanda en b.c.",
          "Demanda en b.c.",
          "Demanda en b.c.",
          "Demanda en b.c.",
          "Demanda en b.c.",
          "Demanda en b.c.",
          "Demanda en b.c.",
          "Demanda en b.c.",
          "Demanda en b.c.",
          "Demanda en b.c.",
          "Demanda en b.c.",
          "Demanda en b.c.",
          "Demanda en b.c.",
          "Demanda en b.c.",
          "Demanda en b.c.",
          "Demanda en b.c.",
          "Demanda en b.c.",
          "Demanda en b.c.",
          "Demanda en b.c."
         ],
         "xaxis": "x",
         "y": [
          1,
          1,
          1,
          1,
          1,
          1,
          1,
          1,
          1,
          1,
          1,
          1,
          1,
          1,
          1,
          1,
          1,
          1,
          1,
          1,
          1,
          1,
          1,
          1,
          1,
          1,
          1,
          1,
          1,
          1,
          1
         ],
         "yaxis": "y"
        },
        {
         "alignmentgroup": "True",
         "hovertemplate": "nombre=Demanda en b.c.<br>tipo de energía=%{x}<br>count=%{y}<extra></extra>",
         "legendgroup": "Demanda en b.c.",
         "marker": {
          "color": "#EF553B",
          "pattern": {
           "shape": ""
          }
         },
         "name": "Demanda en b.c.",
         "offsetgroup": "Demanda en b.c.",
         "orientation": "v",
         "showlegend": true,
         "textposition": "auto",
         "type": "bar",
         "x": [
          "Demanda en b.c.",
          "Demanda en b.c.",
          "Demanda en b.c.",
          "Demanda en b.c.",
          "Demanda en b.c.",
          "Demanda en b.c.",
          "Demanda en b.c.",
          "Demanda en b.c.",
          "Demanda en b.c.",
          "Demanda en b.c.",
          "Demanda en b.c.",
          "Demanda en b.c.",
          "Demanda en b.c.",
          "Demanda en b.c.",
          "Demanda en b.c.",
          "Demanda en b.c.",
          "Demanda en b.c.",
          "Demanda en b.c.",
          "Demanda en b.c.",
          "Demanda en b.c.",
          "Demanda en b.c.",
          "Demanda en b.c.",
          "Demanda en b.c.",
          "Demanda en b.c.",
          "Demanda en b.c.",
          "Demanda en b.c.",
          "Demanda en b.c.",
          "Demanda en b.c.",
          "Demanda en b.c.",
          "Demanda en b.c.",
          "Demanda en b.c."
         ],
         "xaxis": "x",
         "y": [
          1,
          1,
          1,
          1,
          1,
          1,
          1,
          1,
          1,
          1,
          1,
          1,
          1,
          1,
          1,
          1,
          1,
          1,
          1,
          1,
          1,
          1,
          1,
          1,
          1,
          1,
          1,
          1,
          1,
          1,
          1
         ],
         "yaxis": "y"
        }
       ],
       "layout": {
        "barmode": "relative",
        "legend": {
         "title": {
          "text": "nombre"
         },
         "tracegroupgap": 0
        },
        "margin": {
         "t": 60
        },
        "template": {
         "data": {
          "bar": [
           {
            "error_x": {
             "color": "#2a3f5f"
            },
            "error_y": {
             "color": "#2a3f5f"
            },
            "marker": {
             "line": {
              "color": "#E5ECF6",
              "width": 0.5
             },
             "pattern": {
              "fillmode": "overlay",
              "size": 10,
              "solidity": 0.2
             }
            },
            "type": "bar"
           }
          ],
          "barpolar": [
           {
            "marker": {
             "line": {
              "color": "#E5ECF6",
              "width": 0.5
             },
             "pattern": {
              "fillmode": "overlay",
              "size": 10,
              "solidity": 0.2
             }
            },
            "type": "barpolar"
           }
          ],
          "carpet": [
           {
            "aaxis": {
             "endlinecolor": "#2a3f5f",
             "gridcolor": "white",
             "linecolor": "white",
             "minorgridcolor": "white",
             "startlinecolor": "#2a3f5f"
            },
            "baxis": {
             "endlinecolor": "#2a3f5f",
             "gridcolor": "white",
             "linecolor": "white",
             "minorgridcolor": "white",
             "startlinecolor": "#2a3f5f"
            },
            "type": "carpet"
           }
          ],
          "choropleth": [
           {
            "colorbar": {
             "outlinewidth": 0,
             "ticks": ""
            },
            "type": "choropleth"
           }
          ],
          "contour": [
           {
            "colorbar": {
             "outlinewidth": 0,
             "ticks": ""
            },
            "colorscale": [
             [
              0,
              "#0d0887"
             ],
             [
              0.1111111111111111,
              "#46039f"
             ],
             [
              0.2222222222222222,
              "#7201a8"
             ],
             [
              0.3333333333333333,
              "#9c179e"
             ],
             [
              0.4444444444444444,
              "#bd3786"
             ],
             [
              0.5555555555555556,
              "#d8576b"
             ],
             [
              0.6666666666666666,
              "#ed7953"
             ],
             [
              0.7777777777777778,
              "#fb9f3a"
             ],
             [
              0.8888888888888888,
              "#fdca26"
             ],
             [
              1,
              "#f0f921"
             ]
            ],
            "type": "contour"
           }
          ],
          "contourcarpet": [
           {
            "colorbar": {
             "outlinewidth": 0,
             "ticks": ""
            },
            "type": "contourcarpet"
           }
          ],
          "heatmap": [
           {
            "colorbar": {
             "outlinewidth": 0,
             "ticks": ""
            },
            "colorscale": [
             [
              0,
              "#0d0887"
             ],
             [
              0.1111111111111111,
              "#46039f"
             ],
             [
              0.2222222222222222,
              "#7201a8"
             ],
             [
              0.3333333333333333,
              "#9c179e"
             ],
             [
              0.4444444444444444,
              "#bd3786"
             ],
             [
              0.5555555555555556,
              "#d8576b"
             ],
             [
              0.6666666666666666,
              "#ed7953"
             ],
             [
              0.7777777777777778,
              "#fb9f3a"
             ],
             [
              0.8888888888888888,
              "#fdca26"
             ],
             [
              1,
              "#f0f921"
             ]
            ],
            "type": "heatmap"
           }
          ],
          "heatmapgl": [
           {
            "colorbar": {
             "outlinewidth": 0,
             "ticks": ""
            },
            "colorscale": [
             [
              0,
              "#0d0887"
             ],
             [
              0.1111111111111111,
              "#46039f"
             ],
             [
              0.2222222222222222,
              "#7201a8"
             ],
             [
              0.3333333333333333,
              "#9c179e"
             ],
             [
              0.4444444444444444,
              "#bd3786"
             ],
             [
              0.5555555555555556,
              "#d8576b"
             ],
             [
              0.6666666666666666,
              "#ed7953"
             ],
             [
              0.7777777777777778,
              "#fb9f3a"
             ],
             [
              0.8888888888888888,
              "#fdca26"
             ],
             [
              1,
              "#f0f921"
             ]
            ],
            "type": "heatmapgl"
           }
          ],
          "histogram": [
           {
            "marker": {
             "pattern": {
              "fillmode": "overlay",
              "size": 10,
              "solidity": 0.2
             }
            },
            "type": "histogram"
           }
          ],
          "histogram2d": [
           {
            "colorbar": {
             "outlinewidth": 0,
             "ticks": ""
            },
            "colorscale": [
             [
              0,
              "#0d0887"
             ],
             [
              0.1111111111111111,
              "#46039f"
             ],
             [
              0.2222222222222222,
              "#7201a8"
             ],
             [
              0.3333333333333333,
              "#9c179e"
             ],
             [
              0.4444444444444444,
              "#bd3786"
             ],
             [
              0.5555555555555556,
              "#d8576b"
             ],
             [
              0.6666666666666666,
              "#ed7953"
             ],
             [
              0.7777777777777778,
              "#fb9f3a"
             ],
             [
              0.8888888888888888,
              "#fdca26"
             ],
             [
              1,
              "#f0f921"
             ]
            ],
            "type": "histogram2d"
           }
          ],
          "histogram2dcontour": [
           {
            "colorbar": {
             "outlinewidth": 0,
             "ticks": ""
            },
            "colorscale": [
             [
              0,
              "#0d0887"
             ],
             [
              0.1111111111111111,
              "#46039f"
             ],
             [
              0.2222222222222222,
              "#7201a8"
             ],
             [
              0.3333333333333333,
              "#9c179e"
             ],
             [
              0.4444444444444444,
              "#bd3786"
             ],
             [
              0.5555555555555556,
              "#d8576b"
             ],
             [
              0.6666666666666666,
              "#ed7953"
             ],
             [
              0.7777777777777778,
              "#fb9f3a"
             ],
             [
              0.8888888888888888,
              "#fdca26"
             ],
             [
              1,
              "#f0f921"
             ]
            ],
            "type": "histogram2dcontour"
           }
          ],
          "mesh3d": [
           {
            "colorbar": {
             "outlinewidth": 0,
             "ticks": ""
            },
            "type": "mesh3d"
           }
          ],
          "parcoords": [
           {
            "line": {
             "colorbar": {
              "outlinewidth": 0,
              "ticks": ""
             }
            },
            "type": "parcoords"
           }
          ],
          "pie": [
           {
            "automargin": true,
            "type": "pie"
           }
          ],
          "scatter": [
           {
            "fillpattern": {
             "fillmode": "overlay",
             "size": 10,
             "solidity": 0.2
            },
            "type": "scatter"
           }
          ],
          "scatter3d": [
           {
            "line": {
             "colorbar": {
              "outlinewidth": 0,
              "ticks": ""
             }
            },
            "marker": {
             "colorbar": {
              "outlinewidth": 0,
              "ticks": ""
             }
            },
            "type": "scatter3d"
           }
          ],
          "scattercarpet": [
           {
            "marker": {
             "colorbar": {
              "outlinewidth": 0,
              "ticks": ""
             }
            },
            "type": "scattercarpet"
           }
          ],
          "scattergeo": [
           {
            "marker": {
             "colorbar": {
              "outlinewidth": 0,
              "ticks": ""
             }
            },
            "type": "scattergeo"
           }
          ],
          "scattergl": [
           {
            "marker": {
             "colorbar": {
              "outlinewidth": 0,
              "ticks": ""
             }
            },
            "type": "scattergl"
           }
          ],
          "scattermapbox": [
           {
            "marker": {
             "colorbar": {
              "outlinewidth": 0,
              "ticks": ""
             }
            },
            "type": "scattermapbox"
           }
          ],
          "scatterpolar": [
           {
            "marker": {
             "colorbar": {
              "outlinewidth": 0,
              "ticks": ""
             }
            },
            "type": "scatterpolar"
           }
          ],
          "scatterpolargl": [
           {
            "marker": {
             "colorbar": {
              "outlinewidth": 0,
              "ticks": ""
             }
            },
            "type": "scatterpolargl"
           }
          ],
          "scatterternary": [
           {
            "marker": {
             "colorbar": {
              "outlinewidth": 0,
              "ticks": ""
             }
            },
            "type": "scatterternary"
           }
          ],
          "surface": [
           {
            "colorbar": {
             "outlinewidth": 0,
             "ticks": ""
            },
            "colorscale": [
             [
              0,
              "#0d0887"
             ],
             [
              0.1111111111111111,
              "#46039f"
             ],
             [
              0.2222222222222222,
              "#7201a8"
             ],
             [
              0.3333333333333333,
              "#9c179e"
             ],
             [
              0.4444444444444444,
              "#bd3786"
             ],
             [
              0.5555555555555556,
              "#d8576b"
             ],
             [
              0.6666666666666666,
              "#ed7953"
             ],
             [
              0.7777777777777778,
              "#fb9f3a"
             ],
             [
              0.8888888888888888,
              "#fdca26"
             ],
             [
              1,
              "#f0f921"
             ]
            ],
            "type": "surface"
           }
          ],
          "table": [
           {
            "cells": {
             "fill": {
              "color": "#EBF0F8"
             },
             "line": {
              "color": "white"
             }
            },
            "header": {
             "fill": {
              "color": "#C8D4E3"
             },
             "line": {
              "color": "white"
             }
            },
            "type": "table"
           }
          ]
         },
         "layout": {
          "annotationdefaults": {
           "arrowcolor": "#2a3f5f",
           "arrowhead": 0,
           "arrowwidth": 1
          },
          "autotypenumbers": "strict",
          "coloraxis": {
           "colorbar": {
            "outlinewidth": 0,
            "ticks": ""
           }
          },
          "colorscale": {
           "diverging": [
            [
             0,
             "#8e0152"
            ],
            [
             0.1,
             "#c51b7d"
            ],
            [
             0.2,
             "#de77ae"
            ],
            [
             0.3,
             "#f1b6da"
            ],
            [
             0.4,
             "#fde0ef"
            ],
            [
             0.5,
             "#f7f7f7"
            ],
            [
             0.6,
             "#e6f5d0"
            ],
            [
             0.7,
             "#b8e186"
            ],
            [
             0.8,
             "#7fbc41"
            ],
            [
             0.9,
             "#4d9221"
            ],
            [
             1,
             "#276419"
            ]
           ],
           "sequential": [
            [
             0,
             "#0d0887"
            ],
            [
             0.1111111111111111,
             "#46039f"
            ],
            [
             0.2222222222222222,
             "#7201a8"
            ],
            [
             0.3333333333333333,
             "#9c179e"
            ],
            [
             0.4444444444444444,
             "#bd3786"
            ],
            [
             0.5555555555555556,
             "#d8576b"
            ],
            [
             0.6666666666666666,
             "#ed7953"
            ],
            [
             0.7777777777777778,
             "#fb9f3a"
            ],
            [
             0.8888888888888888,
             "#fdca26"
            ],
            [
             1,
             "#f0f921"
            ]
           ],
           "sequentialminus": [
            [
             0,
             "#0d0887"
            ],
            [
             0.1111111111111111,
             "#46039f"
            ],
            [
             0.2222222222222222,
             "#7201a8"
            ],
            [
             0.3333333333333333,
             "#9c179e"
            ],
            [
             0.4444444444444444,
             "#bd3786"
            ],
            [
             0.5555555555555556,
             "#d8576b"
            ],
            [
             0.6666666666666666,
             "#ed7953"
            ],
            [
             0.7777777777777778,
             "#fb9f3a"
            ],
            [
             0.8888888888888888,
             "#fdca26"
            ],
            [
             1,
             "#f0f921"
            ]
           ]
          },
          "colorway": [
           "#636efa",
           "#EF553B",
           "#00cc96",
           "#ab63fa",
           "#FFA15A",
           "#19d3f3",
           "#FF6692",
           "#B6E880",
           "#FF97FF",
           "#FECB52"
          ],
          "font": {
           "color": "#2a3f5f"
          },
          "geo": {
           "bgcolor": "white",
           "lakecolor": "white",
           "landcolor": "#E5ECF6",
           "showlakes": true,
           "showland": true,
           "subunitcolor": "white"
          },
          "hoverlabel": {
           "align": "left"
          },
          "hovermode": "closest",
          "mapbox": {
           "style": "light"
          },
          "paper_bgcolor": "white",
          "plot_bgcolor": "#E5ECF6",
          "polar": {
           "angularaxis": {
            "gridcolor": "white",
            "linecolor": "white",
            "ticks": ""
           },
           "bgcolor": "#E5ECF6",
           "radialaxis": {
            "gridcolor": "white",
            "linecolor": "white",
            "ticks": ""
           }
          },
          "scene": {
           "xaxis": {
            "backgroundcolor": "#E5ECF6",
            "gridcolor": "white",
            "gridwidth": 2,
            "linecolor": "white",
            "showbackground": true,
            "ticks": "",
            "zerolinecolor": "white"
           },
           "yaxis": {
            "backgroundcolor": "#E5ECF6",
            "gridcolor": "white",
            "gridwidth": 2,
            "linecolor": "white",
            "showbackground": true,
            "ticks": "",
            "zerolinecolor": "white"
           },
           "zaxis": {
            "backgroundcolor": "#E5ECF6",
            "gridcolor": "white",
            "gridwidth": 2,
            "linecolor": "white",
            "showbackground": true,
            "ticks": "",
            "zerolinecolor": "white"
           }
          },
          "shapedefaults": {
           "line": {
            "color": "#2a3f5f"
           }
          },
          "ternary": {
           "aaxis": {
            "gridcolor": "white",
            "linecolor": "white",
            "ticks": ""
           },
           "baxis": {
            "gridcolor": "white",
            "linecolor": "white",
            "ticks": ""
           },
           "bgcolor": "#E5ECF6",
           "caxis": {
            "gridcolor": "white",
            "linecolor": "white",
            "ticks": ""
           }
          },
          "title": {
           "x": 0.05
          },
          "xaxis": {
           "automargin": true,
           "gridcolor": "white",
           "linecolor": "white",
           "ticks": "",
           "title": {
            "standoff": 15
           },
           "zerolinecolor": "white",
           "zerolinewidth": 2
          },
          "yaxis": {
           "automargin": true,
           "gridcolor": "white",
           "linecolor": "white",
           "ticks": "",
           "title": {
            "standoff": 15
           },
           "zerolinecolor": "white",
           "zerolinewidth": 2
          }
         }
        },
        "xaxis": {
         "anchor": "y",
         "domain": [
          0,
          1
         ],
         "title": {
          "text": "tipo de energía"
         }
        },
        "yaxis": {
         "anchor": "x",
         "domain": [
          0,
          1
         ],
         "title": {
          "text": "count"
         }
        }
       }
      }
     },
     "metadata": {},
     "output_type": "display_data"
    }
   ],
   "source": [
    "fig4 = px.bar(data_frame = df_balance,\n",
    "       x          = 'tipo de energía',\n",
    "       color      = 'nombre')\n",
    "\n",
    "fig4.show()"
   ]
  },
  {
   "cell_type": "code",
   "execution_count": 111,
   "metadata": {},
   "outputs": [
    {
     "name": "stderr",
     "output_type": "stream",
     "text": [
      "/opt/anaconda3/lib/python3.11/site-packages/plotly/express/_core.py:1979: FutureWarning:\n",
      "\n",
      "When grouping with a length-1 list-like, you will need to pass a length-1 tuple to get_group in a future version of pandas. Pass `(name,)` instead of `name` to silence this warning.\n",
      "\n"
     ]
    },
    {
     "data": {
      "application/vnd.plotly.v1+json": {
       "config": {
        "plotlyServerURL": "https://plot.ly"
       },
       "data": [
        {
         "alignmentgroup": "True",
         "hovertemplate": "tipo de energía=Renovable<br>nombre=%{x}<br>count=%{y}<extra></extra>",
         "legendgroup": "Renovable",
         "marker": {
          "color": "#636efa",
          "pattern": {
           "shape": ""
          }
         },
         "name": "Renovable",
         "offsetgroup": "Renovable",
         "orientation": "v",
         "showlegend": true,
         "textposition": "auto",
         "type": "bar",
         "x": [
          "Hidráulica",
          "Hidráulica",
          "Hidráulica",
          "Hidráulica",
          "Hidráulica",
          "Hidráulica",
          "Hidráulica",
          "Hidráulica",
          "Hidráulica",
          "Hidráulica",
          "Hidráulica",
          "Hidráulica",
          "Hidráulica",
          "Hidráulica",
          "Hidráulica",
          "Hidráulica",
          "Hidráulica",
          "Hidráulica",
          "Hidráulica",
          "Hidráulica",
          "Hidráulica",
          "Hidráulica",
          "Hidráulica",
          "Hidráulica",
          "Hidráulica",
          "Hidráulica",
          "Hidráulica",
          "Hidráulica",
          "Hidráulica",
          "Hidráulica",
          "Hidráulica",
          "Eólica",
          "Eólica",
          "Eólica",
          "Eólica",
          "Eólica",
          "Eólica",
          "Eólica",
          "Eólica",
          "Eólica",
          "Eólica",
          "Eólica",
          "Eólica",
          "Eólica",
          "Eólica",
          "Eólica",
          "Eólica",
          "Eólica",
          "Eólica",
          "Eólica",
          "Eólica",
          "Eólica",
          "Eólica",
          "Eólica",
          "Eólica",
          "Eólica",
          "Eólica",
          "Eólica",
          "Eólica",
          "Eólica",
          "Eólica",
          "Eólica",
          "Solar fotovoltaica",
          "Solar fotovoltaica",
          "Solar fotovoltaica",
          "Solar fotovoltaica",
          "Solar fotovoltaica",
          "Solar fotovoltaica",
          "Solar fotovoltaica",
          "Solar fotovoltaica",
          "Solar fotovoltaica",
          "Solar fotovoltaica",
          "Solar fotovoltaica",
          "Solar fotovoltaica",
          "Solar fotovoltaica",
          "Solar fotovoltaica",
          "Solar fotovoltaica",
          "Solar fotovoltaica",
          "Solar fotovoltaica",
          "Solar fotovoltaica",
          "Solar fotovoltaica",
          "Solar fotovoltaica",
          "Solar fotovoltaica",
          "Solar fotovoltaica",
          "Solar fotovoltaica",
          "Solar fotovoltaica",
          "Solar fotovoltaica",
          "Solar fotovoltaica",
          "Solar fotovoltaica",
          "Solar fotovoltaica",
          "Solar fotovoltaica",
          "Solar fotovoltaica",
          "Solar fotovoltaica",
          "Solar térmica",
          "Solar térmica",
          "Solar térmica",
          "Solar térmica",
          "Solar térmica",
          "Solar térmica",
          "Solar térmica",
          "Solar térmica",
          "Solar térmica",
          "Solar térmica",
          "Solar térmica",
          "Solar térmica",
          "Solar térmica",
          "Solar térmica",
          "Solar térmica",
          "Solar térmica",
          "Solar térmica",
          "Solar térmica",
          "Solar térmica",
          "Solar térmica",
          "Solar térmica",
          "Solar térmica",
          "Solar térmica",
          "Solar térmica",
          "Solar térmica",
          "Solar térmica",
          "Solar térmica",
          "Solar térmica",
          "Solar térmica",
          "Solar térmica",
          "Solar térmica",
          "Hidroeólica",
          "Hidroeólica",
          "Hidroeólica",
          "Hidroeólica",
          "Hidroeólica",
          "Hidroeólica",
          "Hidroeólica",
          "Hidroeólica",
          "Hidroeólica",
          "Hidroeólica",
          "Hidroeólica",
          "Hidroeólica",
          "Hidroeólica",
          "Hidroeólica",
          "Hidroeólica",
          "Hidroeólica",
          "Hidroeólica",
          "Hidroeólica",
          "Hidroeólica",
          "Hidroeólica",
          "Hidroeólica",
          "Hidroeólica",
          "Hidroeólica",
          "Hidroeólica",
          "Hidroeólica",
          "Hidroeólica",
          "Hidroeólica",
          "Hidroeólica",
          "Hidroeólica",
          "Hidroeólica",
          "Hidroeólica",
          "Otras renovables",
          "Otras renovables",
          "Otras renovables",
          "Otras renovables",
          "Otras renovables",
          "Otras renovables",
          "Otras renovables",
          "Otras renovables",
          "Otras renovables",
          "Otras renovables",
          "Otras renovables",
          "Otras renovables",
          "Otras renovables",
          "Otras renovables",
          "Otras renovables",
          "Otras renovables",
          "Otras renovables",
          "Otras renovables",
          "Otras renovables",
          "Otras renovables",
          "Otras renovables",
          "Otras renovables",
          "Otras renovables",
          "Otras renovables",
          "Otras renovables",
          "Otras renovables",
          "Otras renovables",
          "Otras renovables",
          "Otras renovables",
          "Otras renovables",
          "Otras renovables",
          "Residuos renovables",
          "Residuos renovables",
          "Residuos renovables",
          "Residuos renovables",
          "Residuos renovables",
          "Residuos renovables",
          "Residuos renovables",
          "Residuos renovables",
          "Residuos renovables",
          "Residuos renovables",
          "Residuos renovables",
          "Residuos renovables",
          "Residuos renovables",
          "Residuos renovables",
          "Residuos renovables",
          "Residuos renovables",
          "Residuos renovables",
          "Residuos renovables",
          "Residuos renovables",
          "Residuos renovables",
          "Residuos renovables",
          "Residuos renovables",
          "Residuos renovables",
          "Residuos renovables",
          "Residuos renovables",
          "Residuos renovables",
          "Residuos renovables",
          "Residuos renovables",
          "Residuos renovables",
          "Residuos renovables",
          "Residuos renovables",
          "Generación renovable",
          "Generación renovable",
          "Generación renovable",
          "Generación renovable",
          "Generación renovable",
          "Generación renovable",
          "Generación renovable",
          "Generación renovable",
          "Generación renovable",
          "Generación renovable",
          "Generación renovable",
          "Generación renovable",
          "Generación renovable",
          "Generación renovable",
          "Generación renovable",
          "Generación renovable",
          "Generación renovable",
          "Generación renovable",
          "Generación renovable",
          "Generación renovable",
          "Generación renovable",
          "Generación renovable",
          "Generación renovable",
          "Generación renovable",
          "Generación renovable",
          "Generación renovable",
          "Generación renovable",
          "Generación renovable",
          "Generación renovable",
          "Generación renovable",
          "Generación renovable"
         ],
         "xaxis": "x",
         "y": [
          1,
          1,
          1,
          1,
          1,
          1,
          1,
          1,
          1,
          1,
          1,
          1,
          1,
          1,
          1,
          1,
          1,
          1,
          1,
          1,
          1,
          1,
          1,
          1,
          1,
          1,
          1,
          1,
          1,
          1,
          1,
          1,
          1,
          1,
          1,
          1,
          1,
          1,
          1,
          1,
          1,
          1,
          1,
          1,
          1,
          1,
          1,
          1,
          1,
          1,
          1,
          1,
          1,
          1,
          1,
          1,
          1,
          1,
          1,
          1,
          1,
          1,
          1,
          1,
          1,
          1,
          1,
          1,
          1,
          1,
          1,
          1,
          1,
          1,
          1,
          1,
          1,
          1,
          1,
          1,
          1,
          1,
          1,
          1,
          1,
          1,
          1,
          1,
          1,
          1,
          1,
          1,
          1,
          1,
          1,
          1,
          1,
          1,
          1,
          1,
          1,
          1,
          1,
          1,
          1,
          1,
          1,
          1,
          1,
          1,
          1,
          1,
          1,
          1,
          1,
          1,
          1,
          1,
          1,
          1,
          1,
          1,
          1,
          1,
          1,
          1,
          1,
          1,
          1,
          1,
          1,
          1,
          1,
          1,
          1,
          1,
          1,
          1,
          1,
          1,
          1,
          1,
          1,
          1,
          1,
          1,
          1,
          1,
          1,
          1,
          1,
          1,
          1,
          1,
          1,
          1,
          1,
          1,
          1,
          1,
          1,
          1,
          1,
          1,
          1,
          1,
          1,
          1,
          1,
          1,
          1,
          1,
          1,
          1,
          1,
          1,
          1,
          1,
          1,
          1,
          1,
          1,
          1,
          1,
          1,
          1,
          1,
          1,
          1,
          1,
          1,
          1,
          1,
          1,
          1,
          1,
          1,
          1,
          1,
          1,
          1,
          1,
          1,
          1,
          1,
          1,
          1,
          1,
          1,
          1,
          1,
          1,
          1,
          1,
          1,
          1,
          1,
          1,
          1,
          1,
          1,
          1,
          1,
          1,
          1,
          1,
          1,
          1,
          1,
          1,
          1,
          1,
          1,
          1,
          1,
          1,
          1,
          1,
          1,
          1,
          1,
          1,
          1,
          1,
          1,
          1,
          1,
          1
         ],
         "yaxis": "y"
        },
        {
         "alignmentgroup": "True",
         "hovertemplate": "tipo de energía=No-Renovable<br>nombre=%{x}<br>count=%{y}<extra></extra>",
         "legendgroup": "No-Renovable",
         "marker": {
          "color": "#EF553B",
          "pattern": {
           "shape": ""
          }
         },
         "name": "No-Renovable",
         "offsetgroup": "No-Renovable",
         "orientation": "v",
         "showlegend": true,
         "textposition": "auto",
         "type": "bar",
         "x": [
          "Turbinación bombeo",
          "Turbinación bombeo",
          "Turbinación bombeo",
          "Turbinación bombeo",
          "Turbinación bombeo",
          "Turbinación bombeo",
          "Turbinación bombeo",
          "Turbinación bombeo",
          "Turbinación bombeo",
          "Turbinación bombeo",
          "Turbinación bombeo",
          "Turbinación bombeo",
          "Turbinación bombeo",
          "Turbinación bombeo",
          "Turbinación bombeo",
          "Turbinación bombeo",
          "Turbinación bombeo",
          "Turbinación bombeo",
          "Turbinación bombeo",
          "Turbinación bombeo",
          "Turbinación bombeo",
          "Turbinación bombeo",
          "Turbinación bombeo",
          "Turbinación bombeo",
          "Turbinación bombeo",
          "Turbinación bombeo",
          "Turbinación bombeo",
          "Turbinación bombeo",
          "Turbinación bombeo",
          "Turbinación bombeo",
          "Turbinación bombeo",
          "Nuclear",
          "Nuclear",
          "Nuclear",
          "Nuclear",
          "Nuclear",
          "Nuclear",
          "Nuclear",
          "Nuclear",
          "Nuclear",
          "Nuclear",
          "Nuclear",
          "Nuclear",
          "Nuclear",
          "Nuclear",
          "Nuclear",
          "Nuclear",
          "Nuclear",
          "Nuclear",
          "Nuclear",
          "Nuclear",
          "Nuclear",
          "Nuclear",
          "Nuclear",
          "Nuclear",
          "Nuclear",
          "Nuclear",
          "Nuclear",
          "Nuclear",
          "Nuclear",
          "Nuclear",
          "Nuclear",
          "Ciclo combinado",
          "Ciclo combinado",
          "Ciclo combinado",
          "Ciclo combinado",
          "Ciclo combinado",
          "Ciclo combinado",
          "Ciclo combinado",
          "Ciclo combinado",
          "Ciclo combinado",
          "Ciclo combinado",
          "Ciclo combinado",
          "Ciclo combinado",
          "Ciclo combinado",
          "Ciclo combinado",
          "Ciclo combinado",
          "Ciclo combinado",
          "Ciclo combinado",
          "Ciclo combinado",
          "Ciclo combinado",
          "Ciclo combinado",
          "Ciclo combinado",
          "Ciclo combinado",
          "Ciclo combinado",
          "Ciclo combinado",
          "Ciclo combinado",
          "Ciclo combinado",
          "Ciclo combinado",
          "Ciclo combinado",
          "Ciclo combinado",
          "Ciclo combinado",
          "Ciclo combinado",
          "Carbón",
          "Carbón",
          "Carbón",
          "Carbón",
          "Carbón",
          "Carbón",
          "Carbón",
          "Carbón",
          "Carbón",
          "Carbón",
          "Carbón",
          "Carbón",
          "Carbón",
          "Carbón",
          "Carbón",
          "Carbón",
          "Carbón",
          "Carbón",
          "Carbón",
          "Carbón",
          "Carbón",
          "Carbón",
          "Carbón",
          "Carbón",
          "Carbón",
          "Carbón",
          "Carbón",
          "Carbón",
          "Carbón",
          "Carbón",
          "Carbón",
          "Motores diésel",
          "Motores diésel",
          "Motores diésel",
          "Motores diésel",
          "Motores diésel",
          "Motores diésel",
          "Motores diésel",
          "Motores diésel",
          "Motores diésel",
          "Motores diésel",
          "Motores diésel",
          "Motores diésel",
          "Motores diésel",
          "Motores diésel",
          "Motores diésel",
          "Motores diésel",
          "Motores diésel",
          "Motores diésel",
          "Motores diésel",
          "Motores diésel",
          "Motores diésel",
          "Motores diésel",
          "Motores diésel",
          "Motores diésel",
          "Motores diésel",
          "Motores diésel",
          "Motores diésel",
          "Motores diésel",
          "Motores diésel",
          "Motores diésel",
          "Motores diésel",
          "Turbina de gas",
          "Turbina de gas",
          "Turbina de gas",
          "Turbina de gas",
          "Turbina de gas",
          "Turbina de gas",
          "Turbina de gas",
          "Turbina de gas",
          "Turbina de gas",
          "Turbina de gas",
          "Turbina de gas",
          "Turbina de gas",
          "Turbina de gas",
          "Turbina de gas",
          "Turbina de gas",
          "Turbina de gas",
          "Turbina de gas",
          "Turbina de gas",
          "Turbina de gas",
          "Turbina de gas",
          "Turbina de gas",
          "Turbina de gas",
          "Turbina de gas",
          "Turbina de gas",
          "Turbina de gas",
          "Turbina de gas",
          "Turbina de gas",
          "Turbina de gas",
          "Turbina de gas",
          "Turbina de gas",
          "Turbina de gas",
          "Turbina de vapor",
          "Turbina de vapor",
          "Turbina de vapor",
          "Turbina de vapor",
          "Turbina de vapor",
          "Turbina de vapor",
          "Turbina de vapor",
          "Turbina de vapor",
          "Turbina de vapor",
          "Turbina de vapor",
          "Turbina de vapor",
          "Turbina de vapor",
          "Turbina de vapor",
          "Turbina de vapor",
          "Turbina de vapor",
          "Turbina de vapor",
          "Turbina de vapor",
          "Turbina de vapor",
          "Turbina de vapor",
          "Turbina de vapor",
          "Turbina de vapor",
          "Turbina de vapor",
          "Turbina de vapor",
          "Turbina de vapor",
          "Turbina de vapor",
          "Turbina de vapor",
          "Turbina de vapor",
          "Turbina de vapor",
          "Turbina de vapor",
          "Turbina de vapor",
          "Turbina de vapor",
          "Fuel + Gas",
          "Fuel + Gas",
          "Cogeneración",
          "Cogeneración",
          "Cogeneración",
          "Cogeneración",
          "Cogeneración",
          "Cogeneración",
          "Cogeneración",
          "Cogeneración",
          "Cogeneración",
          "Cogeneración",
          "Cogeneración",
          "Cogeneración",
          "Cogeneración",
          "Cogeneración",
          "Cogeneración",
          "Cogeneración",
          "Cogeneración",
          "Cogeneración",
          "Cogeneración",
          "Cogeneración",
          "Cogeneración",
          "Cogeneración",
          "Cogeneración",
          "Cogeneración",
          "Cogeneración",
          "Cogeneración",
          "Cogeneración",
          "Cogeneración",
          "Cogeneración",
          "Cogeneración",
          "Cogeneración",
          "Residuos no renovables",
          "Residuos no renovables",
          "Residuos no renovables",
          "Residuos no renovables",
          "Residuos no renovables",
          "Residuos no renovables",
          "Residuos no renovables",
          "Residuos no renovables",
          "Residuos no renovables",
          "Residuos no renovables",
          "Residuos no renovables",
          "Residuos no renovables",
          "Residuos no renovables",
          "Residuos no renovables",
          "Residuos no renovables",
          "Residuos no renovables",
          "Residuos no renovables",
          "Residuos no renovables",
          "Residuos no renovables",
          "Residuos no renovables",
          "Residuos no renovables",
          "Residuos no renovables",
          "Residuos no renovables",
          "Residuos no renovables",
          "Residuos no renovables",
          "Residuos no renovables",
          "Residuos no renovables",
          "Residuos no renovables",
          "Residuos no renovables",
          "Residuos no renovables",
          "Residuos no renovables",
          "Generación no renovable",
          "Generación no renovable",
          "Generación no renovable",
          "Generación no renovable",
          "Generación no renovable",
          "Generación no renovable",
          "Generación no renovable",
          "Generación no renovable",
          "Generación no renovable",
          "Generación no renovable",
          "Generación no renovable",
          "Generación no renovable",
          "Generación no renovable",
          "Generación no renovable",
          "Generación no renovable",
          "Generación no renovable",
          "Generación no renovable",
          "Generación no renovable",
          "Generación no renovable",
          "Generación no renovable",
          "Generación no renovable",
          "Generación no renovable",
          "Generación no renovable",
          "Generación no renovable",
          "Generación no renovable",
          "Generación no renovable",
          "Generación no renovable",
          "Generación no renovable",
          "Generación no renovable",
          "Generación no renovable",
          "Generación no renovable"
         ],
         "xaxis": "x",
         "y": [
          1,
          1,
          1,
          1,
          1,
          1,
          1,
          1,
          1,
          1,
          1,
          1,
          1,
          1,
          1,
          1,
          1,
          1,
          1,
          1,
          1,
          1,
          1,
          1,
          1,
          1,
          1,
          1,
          1,
          1,
          1,
          1,
          1,
          1,
          1,
          1,
          1,
          1,
          1,
          1,
          1,
          1,
          1,
          1,
          1,
          1,
          1,
          1,
          1,
          1,
          1,
          1,
          1,
          1,
          1,
          1,
          1,
          1,
          1,
          1,
          1,
          1,
          1,
          1,
          1,
          1,
          1,
          1,
          1,
          1,
          1,
          1,
          1,
          1,
          1,
          1,
          1,
          1,
          1,
          1,
          1,
          1,
          1,
          1,
          1,
          1,
          1,
          1,
          1,
          1,
          1,
          1,
          1,
          1,
          1,
          1,
          1,
          1,
          1,
          1,
          1,
          1,
          1,
          1,
          1,
          1,
          1,
          1,
          1,
          1,
          1,
          1,
          1,
          1,
          1,
          1,
          1,
          1,
          1,
          1,
          1,
          1,
          1,
          1,
          1,
          1,
          1,
          1,
          1,
          1,
          1,
          1,
          1,
          1,
          1,
          1,
          1,
          1,
          1,
          1,
          1,
          1,
          1,
          1,
          1,
          1,
          1,
          1,
          1,
          1,
          1,
          1,
          1,
          1,
          1,
          1,
          1,
          1,
          1,
          1,
          1,
          1,
          1,
          1,
          1,
          1,
          1,
          1,
          1,
          1,
          1,
          1,
          1,
          1,
          1,
          1,
          1,
          1,
          1,
          1,
          1,
          1,
          1,
          1,
          1,
          1,
          1,
          1,
          1,
          1,
          1,
          1,
          1,
          1,
          1,
          1,
          1,
          1,
          1,
          1,
          1,
          1,
          1,
          1,
          1,
          1,
          1,
          1,
          1,
          1,
          1,
          1,
          1,
          1,
          1,
          1,
          1,
          1,
          1,
          1,
          1,
          1,
          1,
          1,
          1,
          1,
          1,
          1,
          1,
          1,
          1,
          1,
          1,
          1,
          1,
          1,
          1,
          1,
          1,
          1,
          1,
          1,
          1,
          1,
          1,
          1,
          1,
          1,
          1,
          1,
          1,
          1,
          1,
          1,
          1,
          1,
          1,
          1,
          1,
          1,
          1,
          1,
          1,
          1,
          1,
          1,
          1,
          1,
          1,
          1,
          1,
          1,
          1,
          1,
          1,
          1,
          1,
          1,
          1,
          1,
          1,
          1,
          1,
          1,
          1,
          1,
          1,
          1,
          1,
          1,
          1,
          1,
          1,
          1,
          1,
          1,
          1,
          1,
          1,
          1,
          1,
          1,
          1,
          1,
          1,
          1,
          1,
          1,
          1,
          1,
          1,
          1
         ],
         "yaxis": "y"
        },
        {
         "alignmentgroup": "True",
         "hovertemplate": "tipo de energía=Demanda en b.c.<br>nombre=%{x}<br>count=%{y}<extra></extra>",
         "legendgroup": "Demanda en b.c.",
         "marker": {
          "color": "#00cc96",
          "pattern": {
           "shape": ""
          }
         },
         "name": "Demanda en b.c.",
         "offsetgroup": "Demanda en b.c.",
         "orientation": "v",
         "showlegend": true,
         "textposition": "auto",
         "type": "bar",
         "x": [
          "Consumos en bombeo",
          "Consumos en bombeo",
          "Consumos en bombeo",
          "Consumos en bombeo",
          "Consumos en bombeo",
          "Consumos en bombeo",
          "Consumos en bombeo",
          "Consumos en bombeo",
          "Consumos en bombeo",
          "Consumos en bombeo",
          "Consumos en bombeo",
          "Consumos en bombeo",
          "Consumos en bombeo",
          "Consumos en bombeo",
          "Consumos en bombeo",
          "Consumos en bombeo",
          "Consumos en bombeo",
          "Consumos en bombeo",
          "Consumos en bombeo",
          "Consumos en bombeo",
          "Consumos en bombeo",
          "Consumos en bombeo",
          "Consumos en bombeo",
          "Consumos en bombeo",
          "Consumos en bombeo",
          "Consumos en bombeo",
          "Consumos en bombeo",
          "Consumos en bombeo",
          "Consumos en bombeo",
          "Consumos en bombeo",
          "Consumos en bombeo",
          "Saldo I. internacionales",
          "Saldo I. internacionales",
          "Saldo I. internacionales",
          "Saldo I. internacionales",
          "Saldo I. internacionales",
          "Saldo I. internacionales",
          "Saldo I. internacionales",
          "Saldo I. internacionales",
          "Saldo I. internacionales",
          "Saldo I. internacionales",
          "Saldo I. internacionales",
          "Saldo I. internacionales",
          "Saldo I. internacionales",
          "Saldo I. internacionales",
          "Saldo I. internacionales",
          "Saldo I. internacionales",
          "Saldo I. internacionales",
          "Saldo I. internacionales",
          "Saldo I. internacionales",
          "Saldo I. internacionales",
          "Saldo I. internacionales",
          "Saldo I. internacionales",
          "Saldo I. internacionales",
          "Saldo I. internacionales",
          "Saldo I. internacionales",
          "Saldo I. internacionales",
          "Saldo I. internacionales",
          "Saldo I. internacionales",
          "Saldo I. internacionales",
          "Saldo I. internacionales",
          "Saldo I. internacionales",
          "Demanda en b.c.",
          "Demanda en b.c.",
          "Demanda en b.c.",
          "Demanda en b.c.",
          "Demanda en b.c.",
          "Demanda en b.c.",
          "Demanda en b.c.",
          "Demanda en b.c.",
          "Demanda en b.c.",
          "Demanda en b.c.",
          "Demanda en b.c.",
          "Demanda en b.c.",
          "Demanda en b.c.",
          "Demanda en b.c.",
          "Demanda en b.c.",
          "Demanda en b.c.",
          "Demanda en b.c.",
          "Demanda en b.c.",
          "Demanda en b.c.",
          "Demanda en b.c.",
          "Demanda en b.c.",
          "Demanda en b.c.",
          "Demanda en b.c.",
          "Demanda en b.c.",
          "Demanda en b.c.",
          "Demanda en b.c.",
          "Demanda en b.c.",
          "Demanda en b.c.",
          "Demanda en b.c.",
          "Demanda en b.c.",
          "Demanda en b.c."
         ],
         "xaxis": "x",
         "y": [
          1,
          1,
          1,
          1,
          1,
          1,
          1,
          1,
          1,
          1,
          1,
          1,
          1,
          1,
          1,
          1,
          1,
          1,
          1,
          1,
          1,
          1,
          1,
          1,
          1,
          1,
          1,
          1,
          1,
          1,
          1,
          1,
          1,
          1,
          1,
          1,
          1,
          1,
          1,
          1,
          1,
          1,
          1,
          1,
          1,
          1,
          1,
          1,
          1,
          1,
          1,
          1,
          1,
          1,
          1,
          1,
          1,
          1,
          1,
          1,
          1,
          1,
          1,
          1,
          1,
          1,
          1,
          1,
          1,
          1,
          1,
          1,
          1,
          1,
          1,
          1,
          1,
          1,
          1,
          1,
          1,
          1,
          1,
          1,
          1,
          1,
          1,
          1,
          1,
          1,
          1,
          1,
          1
         ],
         "yaxis": "y"
        }
       ],
       "layout": {
        "barmode": "relative",
        "legend": {
         "title": {
          "text": "tipo de energía"
         },
         "tracegroupgap": 0
        },
        "margin": {
         "t": 60
        },
        "template": {
         "data": {
          "bar": [
           {
            "error_x": {
             "color": "#2a3f5f"
            },
            "error_y": {
             "color": "#2a3f5f"
            },
            "marker": {
             "line": {
              "color": "#E5ECF6",
              "width": 0.5
             },
             "pattern": {
              "fillmode": "overlay",
              "size": 10,
              "solidity": 0.2
             }
            },
            "type": "bar"
           }
          ],
          "barpolar": [
           {
            "marker": {
             "line": {
              "color": "#E5ECF6",
              "width": 0.5
             },
             "pattern": {
              "fillmode": "overlay",
              "size": 10,
              "solidity": 0.2
             }
            },
            "type": "barpolar"
           }
          ],
          "carpet": [
           {
            "aaxis": {
             "endlinecolor": "#2a3f5f",
             "gridcolor": "white",
             "linecolor": "white",
             "minorgridcolor": "white",
             "startlinecolor": "#2a3f5f"
            },
            "baxis": {
             "endlinecolor": "#2a3f5f",
             "gridcolor": "white",
             "linecolor": "white",
             "minorgridcolor": "white",
             "startlinecolor": "#2a3f5f"
            },
            "type": "carpet"
           }
          ],
          "choropleth": [
           {
            "colorbar": {
             "outlinewidth": 0,
             "ticks": ""
            },
            "type": "choropleth"
           }
          ],
          "contour": [
           {
            "colorbar": {
             "outlinewidth": 0,
             "ticks": ""
            },
            "colorscale": [
             [
              0,
              "#0d0887"
             ],
             [
              0.1111111111111111,
              "#46039f"
             ],
             [
              0.2222222222222222,
              "#7201a8"
             ],
             [
              0.3333333333333333,
              "#9c179e"
             ],
             [
              0.4444444444444444,
              "#bd3786"
             ],
             [
              0.5555555555555556,
              "#d8576b"
             ],
             [
              0.6666666666666666,
              "#ed7953"
             ],
             [
              0.7777777777777778,
              "#fb9f3a"
             ],
             [
              0.8888888888888888,
              "#fdca26"
             ],
             [
              1,
              "#f0f921"
             ]
            ],
            "type": "contour"
           }
          ],
          "contourcarpet": [
           {
            "colorbar": {
             "outlinewidth": 0,
             "ticks": ""
            },
            "type": "contourcarpet"
           }
          ],
          "heatmap": [
           {
            "colorbar": {
             "outlinewidth": 0,
             "ticks": ""
            },
            "colorscale": [
             [
              0,
              "#0d0887"
             ],
             [
              0.1111111111111111,
              "#46039f"
             ],
             [
              0.2222222222222222,
              "#7201a8"
             ],
             [
              0.3333333333333333,
              "#9c179e"
             ],
             [
              0.4444444444444444,
              "#bd3786"
             ],
             [
              0.5555555555555556,
              "#d8576b"
             ],
             [
              0.6666666666666666,
              "#ed7953"
             ],
             [
              0.7777777777777778,
              "#fb9f3a"
             ],
             [
              0.8888888888888888,
              "#fdca26"
             ],
             [
              1,
              "#f0f921"
             ]
            ],
            "type": "heatmap"
           }
          ],
          "heatmapgl": [
           {
            "colorbar": {
             "outlinewidth": 0,
             "ticks": ""
            },
            "colorscale": [
             [
              0,
              "#0d0887"
             ],
             [
              0.1111111111111111,
              "#46039f"
             ],
             [
              0.2222222222222222,
              "#7201a8"
             ],
             [
              0.3333333333333333,
              "#9c179e"
             ],
             [
              0.4444444444444444,
              "#bd3786"
             ],
             [
              0.5555555555555556,
              "#d8576b"
             ],
             [
              0.6666666666666666,
              "#ed7953"
             ],
             [
              0.7777777777777778,
              "#fb9f3a"
             ],
             [
              0.8888888888888888,
              "#fdca26"
             ],
             [
              1,
              "#f0f921"
             ]
            ],
            "type": "heatmapgl"
           }
          ],
          "histogram": [
           {
            "marker": {
             "pattern": {
              "fillmode": "overlay",
              "size": 10,
              "solidity": 0.2
             }
            },
            "type": "histogram"
           }
          ],
          "histogram2d": [
           {
            "colorbar": {
             "outlinewidth": 0,
             "ticks": ""
            },
            "colorscale": [
             [
              0,
              "#0d0887"
             ],
             [
              0.1111111111111111,
              "#46039f"
             ],
             [
              0.2222222222222222,
              "#7201a8"
             ],
             [
              0.3333333333333333,
              "#9c179e"
             ],
             [
              0.4444444444444444,
              "#bd3786"
             ],
             [
              0.5555555555555556,
              "#d8576b"
             ],
             [
              0.6666666666666666,
              "#ed7953"
             ],
             [
              0.7777777777777778,
              "#fb9f3a"
             ],
             [
              0.8888888888888888,
              "#fdca26"
             ],
             [
              1,
              "#f0f921"
             ]
            ],
            "type": "histogram2d"
           }
          ],
          "histogram2dcontour": [
           {
            "colorbar": {
             "outlinewidth": 0,
             "ticks": ""
            },
            "colorscale": [
             [
              0,
              "#0d0887"
             ],
             [
              0.1111111111111111,
              "#46039f"
             ],
             [
              0.2222222222222222,
              "#7201a8"
             ],
             [
              0.3333333333333333,
              "#9c179e"
             ],
             [
              0.4444444444444444,
              "#bd3786"
             ],
             [
              0.5555555555555556,
              "#d8576b"
             ],
             [
              0.6666666666666666,
              "#ed7953"
             ],
             [
              0.7777777777777778,
              "#fb9f3a"
             ],
             [
              0.8888888888888888,
              "#fdca26"
             ],
             [
              1,
              "#f0f921"
             ]
            ],
            "type": "histogram2dcontour"
           }
          ],
          "mesh3d": [
           {
            "colorbar": {
             "outlinewidth": 0,
             "ticks": ""
            },
            "type": "mesh3d"
           }
          ],
          "parcoords": [
           {
            "line": {
             "colorbar": {
              "outlinewidth": 0,
              "ticks": ""
             }
            },
            "type": "parcoords"
           }
          ],
          "pie": [
           {
            "automargin": true,
            "type": "pie"
           }
          ],
          "scatter": [
           {
            "fillpattern": {
             "fillmode": "overlay",
             "size": 10,
             "solidity": 0.2
            },
            "type": "scatter"
           }
          ],
          "scatter3d": [
           {
            "line": {
             "colorbar": {
              "outlinewidth": 0,
              "ticks": ""
             }
            },
            "marker": {
             "colorbar": {
              "outlinewidth": 0,
              "ticks": ""
             }
            },
            "type": "scatter3d"
           }
          ],
          "scattercarpet": [
           {
            "marker": {
             "colorbar": {
              "outlinewidth": 0,
              "ticks": ""
             }
            },
            "type": "scattercarpet"
           }
          ],
          "scattergeo": [
           {
            "marker": {
             "colorbar": {
              "outlinewidth": 0,
              "ticks": ""
             }
            },
            "type": "scattergeo"
           }
          ],
          "scattergl": [
           {
            "marker": {
             "colorbar": {
              "outlinewidth": 0,
              "ticks": ""
             }
            },
            "type": "scattergl"
           }
          ],
          "scattermapbox": [
           {
            "marker": {
             "colorbar": {
              "outlinewidth": 0,
              "ticks": ""
             }
            },
            "type": "scattermapbox"
           }
          ],
          "scatterpolar": [
           {
            "marker": {
             "colorbar": {
              "outlinewidth": 0,
              "ticks": ""
             }
            },
            "type": "scatterpolar"
           }
          ],
          "scatterpolargl": [
           {
            "marker": {
             "colorbar": {
              "outlinewidth": 0,
              "ticks": ""
             }
            },
            "type": "scatterpolargl"
           }
          ],
          "scatterternary": [
           {
            "marker": {
             "colorbar": {
              "outlinewidth": 0,
              "ticks": ""
             }
            },
            "type": "scatterternary"
           }
          ],
          "surface": [
           {
            "colorbar": {
             "outlinewidth": 0,
             "ticks": ""
            },
            "colorscale": [
             [
              0,
              "#0d0887"
             ],
             [
              0.1111111111111111,
              "#46039f"
             ],
             [
              0.2222222222222222,
              "#7201a8"
             ],
             [
              0.3333333333333333,
              "#9c179e"
             ],
             [
              0.4444444444444444,
              "#bd3786"
             ],
             [
              0.5555555555555556,
              "#d8576b"
             ],
             [
              0.6666666666666666,
              "#ed7953"
             ],
             [
              0.7777777777777778,
              "#fb9f3a"
             ],
             [
              0.8888888888888888,
              "#fdca26"
             ],
             [
              1,
              "#f0f921"
             ]
            ],
            "type": "surface"
           }
          ],
          "table": [
           {
            "cells": {
             "fill": {
              "color": "#EBF0F8"
             },
             "line": {
              "color": "white"
             }
            },
            "header": {
             "fill": {
              "color": "#C8D4E3"
             },
             "line": {
              "color": "white"
             }
            },
            "type": "table"
           }
          ]
         },
         "layout": {
          "annotationdefaults": {
           "arrowcolor": "#2a3f5f",
           "arrowhead": 0,
           "arrowwidth": 1
          },
          "autotypenumbers": "strict",
          "coloraxis": {
           "colorbar": {
            "outlinewidth": 0,
            "ticks": ""
           }
          },
          "colorscale": {
           "diverging": [
            [
             0,
             "#8e0152"
            ],
            [
             0.1,
             "#c51b7d"
            ],
            [
             0.2,
             "#de77ae"
            ],
            [
             0.3,
             "#f1b6da"
            ],
            [
             0.4,
             "#fde0ef"
            ],
            [
             0.5,
             "#f7f7f7"
            ],
            [
             0.6,
             "#e6f5d0"
            ],
            [
             0.7,
             "#b8e186"
            ],
            [
             0.8,
             "#7fbc41"
            ],
            [
             0.9,
             "#4d9221"
            ],
            [
             1,
             "#276419"
            ]
           ],
           "sequential": [
            [
             0,
             "#0d0887"
            ],
            [
             0.1111111111111111,
             "#46039f"
            ],
            [
             0.2222222222222222,
             "#7201a8"
            ],
            [
             0.3333333333333333,
             "#9c179e"
            ],
            [
             0.4444444444444444,
             "#bd3786"
            ],
            [
             0.5555555555555556,
             "#d8576b"
            ],
            [
             0.6666666666666666,
             "#ed7953"
            ],
            [
             0.7777777777777778,
             "#fb9f3a"
            ],
            [
             0.8888888888888888,
             "#fdca26"
            ],
            [
             1,
             "#f0f921"
            ]
           ],
           "sequentialminus": [
            [
             0,
             "#0d0887"
            ],
            [
             0.1111111111111111,
             "#46039f"
            ],
            [
             0.2222222222222222,
             "#7201a8"
            ],
            [
             0.3333333333333333,
             "#9c179e"
            ],
            [
             0.4444444444444444,
             "#bd3786"
            ],
            [
             0.5555555555555556,
             "#d8576b"
            ],
            [
             0.6666666666666666,
             "#ed7953"
            ],
            [
             0.7777777777777778,
             "#fb9f3a"
            ],
            [
             0.8888888888888888,
             "#fdca26"
            ],
            [
             1,
             "#f0f921"
            ]
           ]
          },
          "colorway": [
           "#636efa",
           "#EF553B",
           "#00cc96",
           "#ab63fa",
           "#FFA15A",
           "#19d3f3",
           "#FF6692",
           "#B6E880",
           "#FF97FF",
           "#FECB52"
          ],
          "font": {
           "color": "#2a3f5f"
          },
          "geo": {
           "bgcolor": "white",
           "lakecolor": "white",
           "landcolor": "#E5ECF6",
           "showlakes": true,
           "showland": true,
           "subunitcolor": "white"
          },
          "hoverlabel": {
           "align": "left"
          },
          "hovermode": "closest",
          "mapbox": {
           "style": "light"
          },
          "paper_bgcolor": "white",
          "plot_bgcolor": "#E5ECF6",
          "polar": {
           "angularaxis": {
            "gridcolor": "white",
            "linecolor": "white",
            "ticks": ""
           },
           "bgcolor": "#E5ECF6",
           "radialaxis": {
            "gridcolor": "white",
            "linecolor": "white",
            "ticks": ""
           }
          },
          "scene": {
           "xaxis": {
            "backgroundcolor": "#E5ECF6",
            "gridcolor": "white",
            "gridwidth": 2,
            "linecolor": "white",
            "showbackground": true,
            "ticks": "",
            "zerolinecolor": "white"
           },
           "yaxis": {
            "backgroundcolor": "#E5ECF6",
            "gridcolor": "white",
            "gridwidth": 2,
            "linecolor": "white",
            "showbackground": true,
            "ticks": "",
            "zerolinecolor": "white"
           },
           "zaxis": {
            "backgroundcolor": "#E5ECF6",
            "gridcolor": "white",
            "gridwidth": 2,
            "linecolor": "white",
            "showbackground": true,
            "ticks": "",
            "zerolinecolor": "white"
           }
          },
          "shapedefaults": {
           "line": {
            "color": "#2a3f5f"
           }
          },
          "ternary": {
           "aaxis": {
            "gridcolor": "white",
            "linecolor": "white",
            "ticks": ""
           },
           "baxis": {
            "gridcolor": "white",
            "linecolor": "white",
            "ticks": ""
           },
           "bgcolor": "#E5ECF6",
           "caxis": {
            "gridcolor": "white",
            "linecolor": "white",
            "ticks": ""
           }
          },
          "title": {
           "x": 0.05
          },
          "xaxis": {
           "automargin": true,
           "gridcolor": "white",
           "linecolor": "white",
           "ticks": "",
           "title": {
            "standoff": 15
           },
           "zerolinecolor": "white",
           "zerolinewidth": 2
          },
          "yaxis": {
           "automargin": true,
           "gridcolor": "white",
           "linecolor": "white",
           "ticks": "",
           "title": {
            "standoff": 15
           },
           "zerolinecolor": "white",
           "zerolinewidth": 2
          }
         }
        },
        "xaxis": {
         "anchor": "y",
         "domain": [
          0,
          1
         ],
         "title": {
          "text": "nombre"
         }
        },
        "yaxis": {
         "anchor": "x",
         "domain": [
          0,
          1
         ],
         "title": {
          "text": "count"
         }
        }
       }
      }
     },
     "metadata": {},
     "output_type": "display_data"
    }
   ],
   "source": [
    "fig4 = px.bar(data_frame = df_balance,\n",
    "       x          = 'nombre',\n",
    "       color      = 'tipo de energía')\n",
    "\n",
    "fig4.show()"
   ]
  },
  {
   "cell_type": "code",
   "execution_count": 112,
   "metadata": {},
   "outputs": [
    {
     "data": {
      "application/vnd.plotly.v1+json": {
       "config": {
        "plotlyServerURL": "https://plot.ly"
       },
       "data": [
        {
         "branchvalues": "total",
         "domain": {
          "x": [
           0,
           1
          ],
          "y": [
           0,
           1
          ]
         },
         "hovertemplate": "<b>%{hovertext}</b><br><br>labels=%{label}<br>Porcentaje=%{value}<br>parent=%{parent}<br>id=%{id}<extra></extra>",
         "hovertext": [
          "03/10/2024",
          "16/09/2024",
          "15/09/2024",
          "13/09/2024",
          "04/10/2024",
          "02/10/2024",
          "06/10/2024",
          "09/09/2024",
          "29/09/2024",
          "26/09/2024",
          "05/10/2024",
          "17/09/2024",
          "10/09/2024",
          "14/09/2024",
          "11/09/2024",
          "12/09/2024",
          "08/10/2024",
          "14/09/2024",
          "15/09/2024",
          "09/10/2024",
          "13/09/2024",
          "07/10/2024",
          "16/09/2024",
          "21/09/2024",
          "28/09/2024",
          "26/09/2024",
          "27/09/2024",
          "06/10/2024",
          "18/09/2024",
          "01/10/2024",
          "27/09/2024",
          "10/09/2024",
          "09/09/2024",
          "29/09/2024",
          "19/09/2024",
          "22/09/2024",
          "17/09/2024",
          "08/10/2024",
          "20/09/2024",
          "12/09/2024",
          "11/09/2024",
          "09/10/2024",
          "03/10/2024",
          "25/09/2024",
          "25/09/2024",
          "28/09/2024",
          "22/09/2024",
          "30/09/2024",
          "23/09/2024",
          "30/09/2024",
          "07/10/2024",
          "05/10/2024",
          "04/10/2024",
          "21/09/2024",
          "18/09/2024",
          "02/10/2024",
          "23/09/2024",
          "01/10/2024",
          "24/09/2024",
          "20/09/2024",
          "19/09/2024",
          "24/09/2024",
          "16/09/2024",
          "18/09/2024",
          "06/10/2024",
          "07/10/2024",
          "20/09/2024",
          "08/10/2024",
          "19/09/2024",
          "18/09/2024",
          "09/10/2024",
          "17/09/2024",
          "21/09/2024",
          "16/09/2024",
          "26/09/2024",
          "29/09/2024",
          "05/10/2024",
          "25/09/2024",
          "22/09/2024",
          "28/09/2024",
          "27/09/2024",
          "09/09/2024",
          "15/09/2024",
          "24/09/2024",
          "23/09/2024",
          "30/09/2024",
          "14/09/2024",
          "10/09/2024",
          "11/09/2024",
          "13/09/2024",
          "12/09/2024",
          "04/10/2024",
          "03/10/2024",
          "02/10/2024",
          "01/10/2024",
          "04/10/2024",
          "14/09/2024",
          "13/09/2024",
          "05/10/2024",
          "06/10/2024",
          "29/09/2024",
          "25/09/2024",
          "15/09/2024",
          "14/09/2024",
          "15/09/2024",
          "22/09/2024",
          "28/09/2024",
          "02/10/2024",
          "10/09/2024",
          "12/09/2024",
          "11/09/2024",
          "03/10/2024",
          "16/09/2024",
          "30/09/2024",
          "20/09/2024",
          "07/10/2024",
          "01/10/2024",
          "09/09/2024",
          "24/09/2024",
          "07/10/2024",
          "30/09/2024",
          "24/09/2024",
          "03/10/2024",
          "04/10/2024",
          "06/10/2024",
          "29/09/2024",
          "18/09/2024",
          "27/09/2024",
          "01/10/2024",
          "08/10/2024",
          "05/10/2024",
          "04/10/2024",
          "02/10/2024",
          "21/09/2024",
          "17/09/2024",
          "09/10/2024",
          "10/09/2024",
          "03/10/2024",
          "11/09/2024",
          "09/09/2024",
          "13/09/2024",
          "25/09/2024",
          "24/09/2024",
          "12/09/2024",
          "28/09/2024",
          "25/09/2024",
          "29/09/2024",
          "02/10/2024",
          "22/09/2024",
          "05/10/2024",
          "23/09/2024",
          "28/09/2024",
          "27/09/2024",
          "09/10/2024",
          "26/09/2024",
          "07/10/2024",
          "01/10/2024",
          "19/09/2024",
          "23/09/2024",
          "25/09/2024",
          "16/09/2024",
          "16/09/2024",
          "17/09/2024",
          "14/09/2024",
          "12/09/2024",
          "26/09/2024",
          "13/09/2024",
          "10/09/2024",
          "15/09/2024",
          "06/10/2024",
          "24/09/2024",
          "23/09/2024",
          "22/09/2024",
          "09/09/2024",
          "26/09/2024",
          "11/09/2024",
          "20/09/2024",
          "30/09/2024",
          "18/09/2024",
          "09/10/2024",
          "08/10/2024",
          "21/09/2024",
          "27/09/2024",
          "20/09/2024",
          "19/09/2024",
          "21/09/2024",
          "07/10/2024",
          "09/10/2024",
          "17/09/2024",
          "19/09/2024",
          "06/10/2024",
          "08/10/2024",
          "29/09/2024",
          "18/09/2024",
          "18/09/2024",
          "08/10/2024",
          "30/09/2024",
          "27/09/2024",
          "28/09/2024",
          "06/10/2024",
          "07/10/2024",
          "08/10/2024",
          "19/09/2024",
          "02/10/2024",
          "22/09/2024",
          "26/09/2024",
          "21/09/2024",
          "09/10/2024",
          "20/09/2024",
          "17/09/2024",
          "05/10/2024",
          "16/09/2024",
          "03/10/2024",
          "19/09/2024",
          "01/10/2024",
          "15/09/2024",
          "26/09/2024",
          "04/10/2024",
          "20/09/2024",
          "14/09/2024",
          "02/10/2024",
          "25/09/2024",
          "13/09/2024",
          "12/09/2024",
          "10/09/2024",
          "24/09/2024",
          "03/10/2024",
          "09/09/2024",
          "11/09/2024",
          "23/09/2024",
          "20/09/2024",
          "05/10/2024",
          "14/09/2024",
          "15/09/2024",
          "06/10/2024",
          "21/09/2024",
          "29/09/2024",
          "30/09/2024",
          "01/10/2024",
          "29/09/2024",
          "09/10/2024",
          "21/09/2024",
          "22/09/2024",
          "28/09/2024",
          "02/10/2024",
          "24/09/2024",
          "23/09/2024",
          "03/10/2024",
          "15/09/2024",
          "12/09/2024",
          "14/09/2024",
          "02/10/2024",
          "11/09/2024",
          "05/10/2024",
          "27/09/2024",
          "04/10/2024",
          "10/09/2024",
          "21/09/2024",
          "06/10/2024",
          "26/09/2024",
          "28/09/2024",
          "22/09/2024",
          "25/09/2024",
          "13/09/2024",
          "22/09/2024",
          "09/09/2024",
          "09/09/2024",
          "18/09/2024",
          "21/09/2024",
          "16/09/2024",
          "17/09/2024",
          "16/09/2024",
          "20/09/2024",
          "07/10/2024",
          "03/10/2024",
          "19/09/2024",
          "08/10/2024",
          "09/10/2024",
          "07/10/2024",
          "26/09/2024",
          "30/09/2024",
          "08/10/2024",
          "09/10/2024",
          "08/10/2024",
          "29/09/2024",
          "17/09/2024",
          "(?)",
          "28/09/2024",
          "25/09/2024",
          "18/09/2024",
          "26/09/2024",
          "06/10/2024",
          "01/10/2024",
          "30/09/2024",
          "16/09/2024",
          "01/10/2024",
          "05/10/2024",
          "24/09/2024",
          "22/09/2024",
          "27/09/2024",
          "21/09/2024",
          "23/09/2024",
          "22/09/2024",
          "20/09/2024",
          "19/09/2024",
          "03/10/2024",
          "15/09/2024",
          "23/09/2024",
          "04/10/2024",
          "11/09/2024",
          "04/10/2024",
          "06/10/2024",
          "07/10/2024",
          "19/09/2024",
          "17/09/2024",
          "09/10/2024",
          "10/09/2024",
          "07/10/2024",
          "18/09/2024",
          "12/09/2024",
          "09/09/2024",
          "02/10/2024",
          "05/10/2024",
          "14/09/2024",
          "20/09/2024",
          "01/10/2024",
          "13/09/2024",
          "03/10/2024",
          "18/09/2024",
          "19/09/2024",
          "23/09/2024",
          "23/09/2024",
          "30/09/2024",
          "18/09/2024",
          "04/10/2024",
          "27/09/2024",
          "10/09/2024",
          "13/09/2024",
          "29/09/2024",
          "04/10/2024",
          "11/09/2024",
          "05/10/2024",
          "25/09/2024",
          "12/09/2024",
          "24/09/2024",
          "26/09/2024",
          "24/09/2024",
          "25/09/2024",
          "27/09/2024",
          "27/09/2024",
          "01/10/2024",
          "17/09/2024",
          "28/09/2024",
          "13/09/2024",
          "09/09/2024",
          "17/09/2024",
          "12/09/2024",
          "28/09/2024",
          "12/09/2024",
          "10/09/2024",
          "16/09/2024",
          "11/09/2024",
          "11/09/2024",
          "30/09/2024",
          "29/09/2024",
          "13/09/2024",
          "16/09/2024",
          "15/09/2024",
          "14/09/2024",
          "15/09/2024",
          "09/09/2024",
          "10/09/2024",
          "14/09/2024",
          "15/09/2024",
          "09/10/2024",
          "06/10/2024",
          "08/10/2024",
          "27/09/2024",
          "26/09/2024",
          "17/09/2024",
          "28/09/2024",
          "16/09/2024",
          "16/09/2024",
          "29/09/2024",
          "15/09/2024",
          "17/09/2024",
          "14/09/2024",
          "07/10/2024",
          "14/09/2024",
          "26/09/2024",
          "27/09/2024",
          "29/09/2024",
          "05/10/2024",
          "03/10/2024",
          "13/09/2024",
          "13/09/2024",
          "25/09/2024",
          "30/09/2024",
          "28/09/2024",
          "22/09/2024",
          "10/09/2024",
          "09/09/2024",
          "11/09/2024",
          "18/09/2024",
          "12/09/2024",
          "25/09/2024",
          "11/09/2024",
          "21/09/2024",
          "04/10/2024",
          "23/09/2024",
          "01/10/2024",
          "02/10/2024",
          "10/09/2024",
          "12/09/2024",
          "09/10/2024",
          "24/09/2024",
          "22/09/2024",
          "14/09/2024",
          "19/09/2024",
          "09/09/2024",
          "06/10/2024",
          "05/10/2024",
          "06/10/2024",
          "20/09/2024",
          "08/10/2024",
          "27/09/2024",
          "18/09/2024",
          "26/09/2024",
          "07/10/2024",
          "09/10/2024",
          "25/09/2024",
          "30/09/2024",
          "13/09/2024",
          "07/10/2024",
          "15/09/2024",
          "08/10/2024",
          "28/09/2024",
          "17/09/2024",
          "29/09/2024",
          "09/10/2024",
          "02/10/2024",
          "23/09/2024",
          "22/09/2024",
          "24/09/2024",
          "16/09/2024",
          "30/09/2024",
          "01/10/2024",
          "03/10/2024",
          "07/10/2024",
          "21/09/2024",
          "11/09/2024",
          "05/10/2024",
          "20/09/2024",
          "25/09/2024",
          "08/10/2024",
          "19/09/2024",
          "23/09/2024",
          "12/09/2024",
          "22/09/2024",
          "04/10/2024",
          "24/09/2024",
          "20/09/2024",
          "19/09/2024",
          "23/09/2024",
          "21/09/2024",
          "03/10/2024",
          "10/09/2024",
          "19/09/2024",
          "24/09/2024",
          "26/09/2024",
          "02/10/2024",
          "18/09/2024",
          "09/09/2024",
          "01/10/2024",
          "20/09/2024",
          "21/09/2024",
          "06/10/2024",
          "21/09/2024",
          "30/09/2024",
          "02/10/2024",
          "04/10/2024",
          "05/10/2024",
          "22/09/2024",
          "24/09/2024",
          "28/09/2024",
          "29/09/2024",
          "04/10/2024",
          "18/09/2024",
          "27/09/2024",
          "01/10/2024",
          "03/10/2024",
          "01/10/2024",
          "15/09/2024",
          "29/09/2024",
          "09/09/2024",
          "28/09/2024",
          "04/10/2024",
          "23/09/2024",
          "07/10/2024",
          "08/10/2024",
          "17/09/2024",
          "09/10/2024",
          "05/10/2024",
          "13/09/2024",
          "12/09/2024",
          "14/09/2024",
          "30/09/2024",
          "10/09/2024",
          "20/09/2024",
          "19/09/2024",
          "16/09/2024",
          "06/10/2024",
          "11/09/2024",
          "30/09/2024",
          "26/09/2024",
          "12/09/2024",
          "10/09/2024",
          "11/09/2024",
          "29/09/2024",
          "09/09/2024",
          "20/09/2024",
          "19/09/2024",
          "18/09/2024",
          "21/09/2024",
          "05/10/2024",
          "27/09/2024",
          "25/09/2024",
          "17/09/2024",
          "15/09/2024",
          "16/09/2024",
          "13/09/2024",
          "04/10/2024",
          "14/09/2024",
          "01/10/2024",
          "23/09/2024",
          "22/09/2024",
          "24/09/2024",
          "03/10/2024",
          "28/09/2024",
          "02/10/2024",
          "14/09/2024",
          "11/09/2024",
          "18/09/2024",
          "10/09/2024",
          "09/09/2024",
          "15/09/2024",
          "12/09/2024",
          "06/10/2024",
          "02/10/2024",
          "03/10/2024",
          "13/09/2024",
          "09/10/2024",
          "27/09/2024",
          "16/09/2024",
          "06/10/2024",
          "17/09/2024",
          "08/10/2024",
          "25/09/2024",
          "22/09/2024",
          "07/10/2024",
          "05/10/2024",
          "26/09/2024",
          "27/09/2024",
          "29/09/2024",
          "07/10/2024",
          "20/09/2024",
          "14/09/2024",
          "28/09/2024",
          "21/09/2024",
          "15/09/2024",
          "19/09/2024",
          "17/09/2024",
          "24/09/2024",
          "16/09/2024",
          "13/09/2024",
          "25/09/2024",
          "08/10/2024",
          "30/09/2024",
          "23/09/2024",
          "03/10/2024",
          "29/09/2024",
          "22/09/2024",
          "28/09/2024",
          "11/09/2024",
          "18/09/2024",
          "12/09/2024",
          "23/09/2024",
          "21/09/2024",
          "01/10/2024",
          "26/09/2024",
          "30/09/2024",
          "09/09/2024",
          "09/10/2024",
          "10/09/2024",
          "02/10/2024",
          "24/09/2024",
          "04/10/2024",
          "01/10/2024",
          "15/09/2024",
          "05/10/2024",
          "18/09/2024",
          "04/10/2024",
          "14/09/2024",
          "06/10/2024",
          "09/09/2024",
          "11/09/2024",
          "20/09/2024",
          "25/09/2024",
          "19/09/2024",
          "10/09/2024",
          "02/10/2024",
          "12/09/2024",
          "27/09/2024",
          "07/10/2024",
          "17/09/2024",
          "03/10/2024",
          "13/09/2024",
          "16/09/2024",
          "08/10/2024",
          "09/10/2024",
          "26/09/2024",
          "29/09/2024",
          "22/09/2024",
          "15/09/2024",
          "06/10/2024",
          "28/09/2024",
          "14/09/2024",
          "05/10/2024",
          "21/09/2024",
          "30/09/2024",
          "23/09/2024",
          "24/09/2024",
          "07/10/2024",
          "16/09/2024",
          "09/09/2024",
          "04/10/2024",
          "27/09/2024",
          "20/09/2024",
          "13/09/2024",
          "01/10/2024",
          "25/09/2024",
          "08/10/2024",
          "11/09/2024",
          "17/09/2024",
          "19/09/2024",
          "09/10/2024",
          "03/10/2024",
          "18/09/2024",
          "10/09/2024",
          "02/10/2024",
          "26/09/2024",
          "12/09/2024",
          "(?)",
          "(?)",
          "(?)",
          "(?)",
          "(?)",
          "(?)",
          "(?)",
          "(?)",
          "(?)",
          "(?)",
          "(?)",
          "(?)",
          "(?)",
          "(?)",
          "(?)",
          "(?)",
          "(?)",
          "(?)",
          "(?)",
          "(?)",
          "(?)",
          "(?)",
          "(?)",
          "(?)",
          "(?)"
         ],
         "ids": [
          "Demanda en b.c./Saldo I. internacionales/-85294.7",
          "Demanda en b.c./Saldo I. internacionales/-83476.417",
          "Demanda en b.c./Saldo I. internacionales/-77641.473",
          "Demanda en b.c./Saldo I. internacionales/-70519.778",
          "Demanda en b.c./Saldo I. internacionales/-67279.4",
          "Demanda en b.c./Saldo I. internacionales/-64903.1",
          "Demanda en b.c./Saldo I. internacionales/-63158.2",
          "Demanda en b.c./Saldo I. internacionales/-61448.838",
          "Demanda en b.c./Saldo I. internacionales/-58741.817",
          "Demanda en b.c./Saldo I. internacionales/-57181.573",
          "Demanda en b.c./Saldo I. internacionales/-55758.8",
          "Demanda en b.c./Saldo I. internacionales/-55321.493",
          "Demanda en b.c./Saldo I. internacionales/-48420.387",
          "Demanda en b.c./Saldo I. internacionales/-46961.276",
          "Demanda en b.c./Saldo I. internacionales/-45939.549",
          "Demanda en b.c./Saldo I. internacionales/-44213.613",
          "Demanda en b.c./Saldo I. internacionales/-42371.6",
          "Demanda en b.c./Consumos en bombeo/-42165.889",
          "Demanda en b.c./Consumos en bombeo/-41243.457",
          "Demanda en b.c./Saldo I. internacionales/-40583.5",
          "Demanda en b.c./Consumos en bombeo/-40012.917",
          "Demanda en b.c./Saldo I. internacionales/-39350.0",
          "Demanda en b.c./Consumos en bombeo/-36379.022",
          "Demanda en b.c./Saldo I. internacionales/-35950.27",
          "Demanda en b.c./Saldo I. internacionales/-35905.305",
          "Demanda en b.c./Consumos en bombeo/-34801.155",
          "Demanda en b.c./Consumos en bombeo/-34760.906",
          "Demanda en b.c./Consumos en bombeo/-33277.3",
          "Demanda en b.c./Saldo I. internacionales/-32920.686",
          "Demanda en b.c./Saldo I. internacionales/-32746.2",
          "Demanda en b.c./Saldo I. internacionales/-31408.635",
          "Demanda en b.c./Consumos en bombeo/-30216.28",
          "Demanda en b.c./Consumos en bombeo/-30029.35",
          "Demanda en b.c./Consumos en bombeo/-29614.368",
          "Demanda en b.c./Saldo I. internacionales/-28866.425",
          "Demanda en b.c./Saldo I. internacionales/-28805.195",
          "Demanda en b.c./Consumos en bombeo/-28362.316",
          "Demanda en b.c./Consumos en bombeo/-27589.6",
          "Demanda en b.c./Saldo I. internacionales/-27427.468",
          "Demanda en b.c./Consumos en bombeo/-27173.394",
          "Demanda en b.c./Consumos en bombeo/-25771.441",
          "Demanda en b.c./Consumos en bombeo/-25645.1",
          "Demanda en b.c./Consumos en bombeo/-25476.6",
          "Demanda en b.c./Consumos en bombeo/-24699.308",
          "Demanda en b.c./Saldo I. internacionales/-22980.461",
          "Demanda en b.c./Consumos en bombeo/-22061.226",
          "Demanda en b.c./Consumos en bombeo/-21003.558",
          "Demanda en b.c./Saldo I. internacionales/-19443.509",
          "Demanda en b.c./Consumos en bombeo/-18367.203",
          "Demanda en b.c./Consumos en bombeo/-16745.747",
          "Demanda en b.c./Consumos en bombeo/-16645.8",
          "Demanda en b.c./Consumos en bombeo/-14987.2",
          "Demanda en b.c./Consumos en bombeo/-13205.2",
          "Demanda en b.c./Consumos en bombeo/-13055.198",
          "Demanda en b.c./Consumos en bombeo/-12677.221",
          "Demanda en b.c./Consumos en bombeo/-11660.4",
          "Demanda en b.c./Saldo I. internacionales/-11584.601",
          "Demanda en b.c./Consumos en bombeo/-11369.6",
          "Demanda en b.c./Consumos en bombeo/-6185.448",
          "Demanda en b.c./Consumos en bombeo/-4506.807",
          "Demanda en b.c./Consumos en bombeo/-1677.125",
          "Demanda en b.c./Saldo I. internacionales/-460.821",
          "No-Renovable/Fuel + Gas/-0.001",
          "No-Renovable/Fuel + Gas/0.001",
          "Renovable/Hidroeólica/1.722",
          "Renovable/Hidroeólica/5.562",
          "Renovable/Hidroeólica/13.234",
          "Renovable/Hidroeólica/13.737",
          "Renovable/Hidroeólica/16.111",
          "Renovable/Hidroeólica/16.763",
          "Renovable/Hidroeólica/17.123",
          "Renovable/Hidroeólica/17.155",
          "Renovable/Hidroeólica/21.902",
          "Renovable/Hidroeólica/42.668",
          "Renovable/Hidroeólica/43.199",
          "Renovable/Hidroeólica/44.757",
          "Renovable/Hidroeólica/50.153",
          "Renovable/Hidroeólica/55.026",
          "Renovable/Hidroeólica/57.731",
          "Renovable/Hidroeólica/59.505",
          "Renovable/Hidroeólica/61.214",
          "Renovable/Hidroeólica/75.557",
          "Renovable/Hidroeólica/81.171",
          "Renovable/Hidroeólica/81.656",
          "Renovable/Hidroeólica/106.414",
          "Renovable/Hidroeólica/110.594",
          "Renovable/Hidroeólica/115.127",
          "Renovable/Hidroeólica/127.665",
          "Renovable/Hidroeólica/130.519",
          "Renovable/Hidroeólica/133.996",
          "Renovable/Hidroeólica/135.462",
          "Renovable/Hidroeólica/150.698",
          "Renovable/Hidroeólica/164.64",
          "Renovable/Hidroeólica/182.27",
          "Renovable/Hidroeólica/189.12",
          "No-Renovable/Turbina de gas/1027.713",
          "No-Renovable/Turbina de gas/1034.5",
          "No-Renovable/Turbina de gas/1046.376",
          "No-Renovable/Turbina de gas/1055.006",
          "No-Renovable/Turbina de gas/1236.689",
          "No-Renovable/Turbina de gas/1248.844",
          "Renovable/Solar térmica/1257.512",
          "No-Renovable/Turbina de gas/1301.162",
          "No-Renovable/Turbina de vapor/1354.965",
          "No-Renovable/Turbina de vapor/1391.281",
          "No-Renovable/Turbina de gas/1412.648",
          "No-Renovable/Turbina de gas/1486.379",
          "No-Renovable/Turbina de gas/1500.404",
          "No-Renovable/Turbina de gas/1594.326",
          "No-Renovable/Turbina de gas/1600.031",
          "No-Renovable/Turbina de gas/1702.453",
          "No-Renovable/Turbina de gas/1746.895",
          "No-Renovable/Turbina de vapor/1747.658",
          "No-Renovable/Turbina de gas/1757.267",
          "No-Renovable/Turbina de vapor/1779.035",
          "Renovable/Solar térmica/1804.5",
          "No-Renovable/Turbina de gas/1815.576",
          "No-Renovable/Turbina de gas/1826.98",
          "No-Renovable/Turbina de gas/1848.939",
          "Renovable/Residuos renovables/1856.8",
          "Renovable/Residuos renovables/1868.2355",
          "Renovable/Solar térmica/1873.764",
          "Renovable/Residuos renovables/1878.2",
          "No-Renovable/Turbina de vapor/1879.08",
          "Renovable/Residuos renovables/1879.6",
          "Renovable/Residuos renovables/1900.1475",
          "No-Renovable/Turbina de vapor/1939.779",
          "Renovable/Residuos renovables/1944.963",
          "Renovable/Residuos renovables/1945.3",
          "Renovable/Residuos renovables/1958.8",
          "Renovable/Residuos renovables/1972.75",
          "Renovable/Residuos renovables/2021.4",
          "Renovable/Residuos renovables/2028.8",
          "No-Renovable/Turbina de gas/2056.419",
          "No-Renovable/Turbina de vapor/2059.521",
          "No-Renovable/Turbina de gas/2084.655",
          "No-Renovable/Turbina de vapor/2091.309",
          "No-Renovable/Turbina de vapor/2100.416",
          "No-Renovable/Turbina de vapor/2120.017",
          "No-Renovable/Turbina de vapor/2130.324",
          "No-Renovable/Turbina de vapor/2133.769",
          "No-Renovable/Turbina de gas/2173.592",
          "No-Renovable/Turbina de vapor/2176.039",
          "No-Renovable/Turbina de vapor/2176.693",
          "Renovable/Residuos renovables/2177.0895",
          "No-Renovable/Turbina de vapor/2181.24",
          "No-Renovable/Turbina de vapor/2189.206",
          "No-Renovable/Turbina de vapor/2236.784",
          "No-Renovable/Turbina de vapor/2246.614",
          "No-Renovable/Turbina de vapor/2329.67",
          "No-Renovable/Turbina de vapor/2332.494",
          "No-Renovable/Turbina de vapor/2350.539",
          "No-Renovable/Turbina de vapor/2364.96",
          "Renovable/Residuos renovables/2366.45",
          "Renovable/Residuos renovables/2382.0615",
          "No-Renovable/Turbina de gas/2396.469",
          "No-Renovable/Turbina de vapor/2409.003",
          "No-Renovable/Turbina de vapor/2430.337",
          "No-Renovable/Turbina de gas/2436.565",
          "Renovable/Residuos renovables/2457.8595",
          "No-Renovable/Turbina de gas/2468.845",
          "Renovable/Residuos renovables/2477.4715",
          "Renovable/Residuos renovables/2483.476",
          "Renovable/Residuos renovables/2524.0025",
          "Renovable/Residuos renovables/2525.833",
          "No-Renovable/Turbina de gas/2530.254",
          "Renovable/Residuos renovables/2531.372",
          "Renovable/Residuos renovables/2542.334",
          "Renovable/Residuos renovables/2542.7195",
          "No-Renovable/Turbina de vapor/2559.136",
          "Renovable/Residuos renovables/2577.857",
          "Renovable/Residuos renovables/2589.4565",
          "Renovable/Residuos renovables/2591.4775",
          "Renovable/Residuos renovables/2594.6465",
          "No-Renovable/Turbina de vapor/2594.768",
          "Renovable/Residuos renovables/2595.7275",
          "No-Renovable/Turbina de gas/2618.565",
          "No-Renovable/Turbina de vapor/2637.5",
          "Renovable/Residuos renovables/2665.578",
          "No-Renovable/Turbina de vapor/2670.806",
          "No-Renovable/Turbina de gas/2678.692",
          "Renovable/Residuos renovables/2691.659",
          "No-Renovable/Turbina de gas/2719.066",
          "Renovable/Residuos renovables/2736.5295",
          "Renovable/Residuos renovables/2762.55",
          "No-Renovable/Turbina de vapor/2921.146",
          "No-Renovable/Turbina de vapor/2921.456",
          "Renovable/Solar térmica/2952.161",
          "No-Renovable/Turbina de gas/3033.987",
          "No-Renovable/Turbina de gas/3041.81",
          "No-Renovable/Turbinación bombeo/3070.9",
          "No-Renovable/Turbina de vapor/3136.741",
          "No-Renovable/Residuos no renovables/3206.7325",
          "No-Renovable/Turbina de gas/3220.23",
          "No-Renovable/Residuos no renovables/3346.976",
          "Renovable/Solar térmica/3398.666",
          "No-Renovable/Residuos no renovables/3482.5895",
          "No-Renovable/Residuos no renovables/3505.792",
          "No-Renovable/Residuos no renovables/3581.0435",
          "No-Renovable/Residuos no renovables/3672.7",
          "No-Renovable/Residuos no renovables/3684.9",
          "No-Renovable/Residuos no renovables/3720.6",
          "No-Renovable/Residuos no renovables/3981.219",
          "No-Renovable/Turbinación bombeo/4016.0",
          "No-Renovable/Residuos no renovables/4043.8235",
          "No-Renovable/Residuos no renovables/4053.5085",
          "No-Renovable/Residuos no renovables/4065.566",
          "No-Renovable/Residuos no renovables/4095.25",
          "Renovable/Solar térmica/4136.378",
          "No-Renovable/Residuos no renovables/4140.589",
          "No-Renovable/Residuos no renovables/4152.55",
          "No-Renovable/Residuos no renovables/4164.1365",
          "No-Renovable/Residuos no renovables/4166.7",
          "Renovable/Solar térmica/4240.61",
          "No-Renovable/Residuos no renovables/4250.3",
          "No-Renovable/Residuos no renovables/4302.9865",
          "Renovable/Solar térmica/4307.415",
          "No-Renovable/Residuos no renovables/4333.1",
          "No-Renovable/Residuos no renovables/4348.2005",
          "No-Renovable/Residuos no renovables/4402.1105",
          "No-Renovable/Residuos no renovables/4420.7",
          "No-Renovable/Residuos no renovables/4606.7385",
          "No-Renovable/Residuos no renovables/4699.188",
          "No-Renovable/Residuos no renovables/4919.805",
          "No-Renovable/Residuos no renovables/4921.646",
          "No-Renovable/Residuos no renovables/4952.754",
          "No-Renovable/Turbinación bombeo/4991.7",
          "No-Renovable/Residuos no renovables/5024.3765",
          "No-Renovable/Residuos no renovables/5030.6205",
          "No-Renovable/Residuos no renovables/5040.8035",
          "No-Renovable/Turbinación bombeo/5583.481",
          "No-Renovable/Carbón/5769.5",
          "No-Renovable/Carbón/5836.2",
          "No-Renovable/Carbón/5878.057",
          "No-Renovable/Carbón/5884.0",
          "No-Renovable/Carbón/5925.746",
          "No-Renovable/Carbón/6173.928",
          "No-Renovable/Motores diésel/6450.944",
          "No-Renovable/Motores diésel/6537.454",
          "No-Renovable/Motores diésel/6605.813",
          "No-Renovable/Turbinación bombeo/6607.4",
          "No-Renovable/Turbinación bombeo/6637.878",
          "No-Renovable/Motores diésel/6663.394",
          "No-Renovable/Motores diésel/6673.506",
          "No-Renovable/Motores diésel/6737.014",
          "No-Renovable/Motores diésel/6771.22",
          "No-Renovable/Motores diésel/6776.836",
          "No-Renovable/Motores diésel/6795.396",
          "No-Renovable/Motores diésel/6797.441",
          "No-Renovable/Motores diésel/6848.33",
          "No-Renovable/Motores diésel/6924.793",
          "Renovable/Solar térmica/6991.956",
          "No-Renovable/Motores diésel/7192.893",
          "No-Renovable/Motores diésel/7216.581",
          "No-Renovable/Motores diésel/7225.652",
          "No-Renovable/Motores diésel/7231.95",
          "No-Renovable/Motores diésel/7287.569",
          "Renovable/Solar térmica/7371.57",
          "No-Renovable/Motores diésel/7418.098",
          "No-Renovable/Motores diésel/7480.324",
          "No-Renovable/Carbón/7497.911",
          "Renovable/Solar térmica/7547.968",
          "No-Renovable/Motores diésel/7553.43",
          "No-Renovable/Motores diésel/7571.729",
          "No-Renovable/Carbón/7597.991",
          "No-Renovable/Motores diésel/7724.568",
          "No-Renovable/Carbón/7820.837",
          "No-Renovable/Motores diésel/7820.881",
          "No-Renovable/Motores diésel/7856.663",
          "No-Renovable/Carbón/7884.831",
          "No-Renovable/Motores diésel/7929.039",
          "No-Renovable/Motores diésel/7932.293",
          "No-Renovable/Motores diésel/7956.688",
          "No-Renovable/Carbón/8009.9",
          "Renovable/Otras renovables/8054.556",
          "No-Renovable/Motores diésel/8075.466",
          "No-Renovable/Turbinación bombeo/8103.1",
          "Renovable/Otras renovables/8199.484",
          "No-Renovable/Motores diésel/8239.317",
          "Renovable/Otras renovables/8337.314",
          "No-Renovable/Carbón/8421.21",
          "Renovable/Otras renovables/8601.95",
          "No-Renovable/Motores diésel/8634.224",
          "No-Renovable/Motores diésel/8684.946",
          "Renovable/Otras renovables/8712.808",
          "No-Renovable/Carbón/8722.674",
          "No-Renovable/Carbón/8764.0",
          "Renovable/Otras renovables/8771.495",
          "Renovable/Otras renovables/8778.51",
          "No-Renovable/Carbón/8845.139",
          "No-Renovable/Turbinación bombeo/8857.698",
          "Renovable/Solar térmica/8865.7",
          "No-Renovable/Carbón/8901.3",
          "Renovable/Otras renovables/9003.48",
          "Renovable/Otras renovables/9018.305",
          "No-Renovable/Turbinación bombeo/9043.6",
          "No-Renovable/Turbinación bombeo/9067.2",
          "Renovable/Otras renovables/9155.37",
          "Renovable/Otras renovables/9223.923",
          "Renovable/Otras renovables/9236.007",
          "Renovable/Otras renovables/9258.75",
          "Renovable/Otras renovables/9261.121",
          "No-Renovable/Turbinación bombeo/9321.993",
          "No-Renovable/Carbón/9333.218",
          "No-Renovable/Carbón/9335.246",
          "No-Renovable/Carbón/9364.0",
          "Renovable/Otras renovables/9384.789",
          "No-Renovable/Turbinación bombeo/9390.187",
          "No-Renovable/Carbón/9396.5",
          "Renovable/Otras renovables/9398.552",
          "Renovable/Otras renovables/9631.226",
          "Renovable/Otras renovables/9639.618",
          "No-Renovable/Turbinación bombeo/9643.3",
          "No-Renovable/Turbinación bombeo/9675.002",
          "Renovable/Otras renovables/9777.709",
          "No-Renovable/Carbón/9814.0",
          "Renovable/Otras renovables/9949.57",
          "Renovable/Otras renovables/10001.668",
          "Renovable/Otras renovables/10093.205",
          "Renovable/Otras renovables/10116.307",
          "Renovable/Otras renovables/10144.257",
          "Renovable/Otras renovables/10170.486",
          "Renovable/Otras renovables/10221.698",
          "Renovable/Otras renovables/10271.1",
          "Renovable/Otras renovables/10272.078",
          "Renovable/Otras renovables/10321.193",
          "Renovable/Otras renovables/10695.721",
          "Renovable/Solar térmica/10708.082",
          "No-Renovable/Turbinación bombeo/10965.108",
          "Renovable/Otras renovables/10968.444",
          "Renovable/Solar térmica/11036.212",
          "No-Renovable/Carbón/11332.216",
          "No-Renovable/Turbinación bombeo/11484.908",
          "Renovable/Solar térmica/11532.644",
          "Renovable/Solar térmica/11562.392",
          "No-Renovable/Carbón/11626.564",
          "No-Renovable/Carbón/11845.921",
          "No-Renovable/Carbón/12269.678",
          "No-Renovable/Turbinación bombeo/12370.354",
          "No-Renovable/Turbinación bombeo/12501.5",
          "No-Renovable/Carbón/12687.281",
          "Renovable/Solar térmica/12727.6",
          "No-Renovable/Carbón/12953.608",
          "No-Renovable/Carbón/13015.609",
          "No-Renovable/Carbón/13035.823",
          "No-Renovable/Carbón/13291.885",
          "No-Renovable/Turbinación bombeo/13349.637",
          "No-Renovable/Turbinación bombeo/13612.451",
          "Renovable/Solar térmica/14081.507",
          "No-Renovable/Turbinación bombeo/14534.355",
          "Renovable/Solar térmica/14766.598",
          "Renovable/Solar térmica/15102.066",
          "No-Renovable/Turbinación bombeo/15678.775",
          "No-Renovable/Turbinación bombeo/15973.392",
          "No-Renovable/Turbinación bombeo/16718.097",
          "No-Renovable/Turbinación bombeo/16718.588",
          "No-Renovable/Turbinación bombeo/16742.391",
          "Renovable/Solar térmica/17333.305",
          "Renovable/Solar térmica/17346.651",
          "No-Renovable/Turbinación bombeo/18119.192",
          "No-Renovable/Turbinación bombeo/19050.059",
          "No-Renovable/Turbinación bombeo/19295.654",
          "Renovable/Solar térmica/19987.539",
          "Renovable/Solar térmica/20100.509",
          "Renovable/Solar térmica/20145.734",
          "Renovable/Solar térmica/20350.289",
          "Renovable/Solar térmica/20365.067",
          "Renovable/Solar térmica/20732.747",
          "Renovable/Solar térmica/21080.551",
          "No-Renovable/Turbinación bombeo/21897.701",
          "Renovable/Solar térmica/23507.241",
          "Renovable/Solar térmica/23513.031",
          "No-Renovable/Turbinación bombeo/23817.482",
          "Renovable/Hidráulica/24767.511",
          "No-Renovable/Cogeneración/24849.6",
          "No-Renovable/Cogeneración/24985.74",
          "No-Renovable/Cogeneración/25166.3",
          "No-Renovable/Cogeneración/25893.392",
          "No-Renovable/Cogeneración/26012.013",
          "No-Renovable/Cogeneración/27332.783",
          "No-Renovable/Cogeneración/27877.149",
          "No-Renovable/Cogeneración/27985.943",
          "Renovable/Hidráulica/28356.661",
          "No-Renovable/Cogeneración/29235.207",
          "No-Renovable/Cogeneración/29447.789",
          "Renovable/Hidráulica/29555.708",
          "Renovable/Hidráulica/30373.812",
          "No-Renovable/Cogeneración/31621.76",
          "No-Renovable/Cogeneración/34657.713",
          "Renovable/Hidráulica/35063.646",
          "Renovable/Hidráulica/36018.865",
          "Renovable/Hidráulica/36271.997",
          "No-Renovable/Cogeneración/38276.2",
          "No-Renovable/Cogeneración/38530.68",
          "Renovable/Hidráulica/39251.575",
          "No-Renovable/Cogeneración/40107.831",
          "No-Renovable/Cogeneración/42934.229",
          "No-Renovable/Cogeneración/44468.927",
          "Renovable/Hidráulica/44949.149",
          "No-Renovable/Cogeneración/46054.266",
          "No-Renovable/Cogeneración/46440.614",
          "No-Renovable/Cogeneración/46933.118",
          "No-Renovable/Cogeneración/47223.732",
          "No-Renovable/Cogeneración/48064.498",
          "No-Renovable/Cogeneración/48546.901",
          "Renovable/Hidráulica/48576.483",
          "Renovable/Hidráulica/48588.925",
          "No-Renovable/Cogeneración/49273.304",
          "No-Renovable/Cogeneración/49771.42",
          "No-Renovable/Cogeneración/50788.6",
          "No-Renovable/Cogeneración/51109.48",
          "No-Renovable/Cogeneración/51210.46",
          "Renovable/Hidráulica/51661.691",
          "Renovable/Hidráulica/51775.769",
          "No-Renovable/Ciclo combinado/52350.79",
          "No-Renovable/Cogeneración/52619.165",
          "Renovable/Eólica/53478.32",
          "No-Renovable/Ciclo combinado/53604.737",
          "No-Renovable/Cogeneración/53794.577",
          "Renovable/Hidráulica/54386.095",
          "No-Renovable/Ciclo combinado/54462.916",
          "No-Renovable/Ciclo combinado/54493.427",
          "Renovable/Hidráulica/54807.3",
          "No-Renovable/Cogeneración/55956.812",
          "Renovable/Hidráulica/57723.1",
          "No-Renovable/Ciclo combinado/57852.916",
          "Renovable/Hidráulica/58595.442",
          "No-Renovable/Ciclo combinado/59714.396",
          "No-Renovable/Ciclo combinado/59973.139",
          "Renovable/Hidráulica/62214.9",
          "No-Renovable/Ciclo combinado/62511.042",
          "Renovable/Hidráulica/62652.956",
          "No-Renovable/Ciclo combinado/62848.156",
          "Renovable/Hidráulica/63360.6",
          "No-Renovable/Ciclo combinado/63743.445",
          "No-Renovable/Ciclo combinado/64127.222",
          "No-Renovable/Ciclo combinado/66137.745",
          "No-Renovable/Ciclo combinado/66388.354",
          "No-Renovable/Ciclo combinado/67254.129",
          "Renovable/Solar fotovoltaica/68292.567",
          "Renovable/Hidráulica/72013.7",
          "Renovable/Hidráulica/72079.272",
          "Renovable/Hidráulica/73825.361",
          "Renovable/Hidráulica/73920.299",
          "No-Renovable/Ciclo combinado/74545.978",
          "Renovable/Eólica/75496.802",
          "Renovable/Hidráulica/76159.7",
          "Renovable/Hidráulica/76861.6",
          "Renovable/Solar fotovoltaica/79728.685",
          "Renovable/Hidráulica/79993.169",
          "No-Renovable/Ciclo combinado/81726.909",
          "Renovable/Hidráulica/83008.9",
          "Renovable/Eólica/84157.676",
          "Renovable/Solar fotovoltaica/85671.266",
          "Renovable/Solar fotovoltaica/88050.07",
          "Renovable/Hidráulica/89991.12",
          "Renovable/Eólica/90237.415",
          "No-Renovable/Ciclo combinado/90580.095",
          "No-Renovable/Ciclo combinado/91593.33",
          "Renovable/Hidráulica/92057.3",
          "Renovable/Solar fotovoltaica/93150.995",
          "Renovable/Hidráulica/93635.162",
          "Renovable/Solar fotovoltaica/95711.286",
          "No-Renovable/Ciclo combinado/96621.58",
          "Renovable/Solar fotovoltaica/98161.878",
          "No-Renovable/Ciclo combinado/98210.419",
          "No-Renovable/Ciclo combinado/98458.751",
          "Renovable/Eólica/98488.398",
          "No-Renovable/Ciclo combinado/98832.084",
          "Renovable/Solar fotovoltaica/99578.017",
          "Renovable/Solar fotovoltaica/99729.262",
          "No-Renovable/Ciclo combinado/99784.679",
          "No-Renovable/Ciclo combinado/100077.672",
          "No-Renovable/Ciclo combinado/101831.596",
          "Renovable/Solar fotovoltaica/103155.812",
          "Renovable/Eólica/103499.279",
          "Renovable/Solar fotovoltaica/104505.558",
          "No-Renovable/Ciclo combinado/107295.67",
          "No-Renovable/Ciclo combinado/111944.997",
          "No-Renovable/Ciclo combinado/112140.344",
          "No-Renovable/Ciclo combinado/115801.186",
          "Renovable/Solar fotovoltaica/120892.099",
          "Renovable/Solar fotovoltaica/122809.738",
          "Renovable/Eólica/123748.272",
          "Renovable/Eólica/127266.75",
          "Renovable/Solar fotovoltaica/128554.397",
          "Renovable/Eólica/130141.475",
          "Renovable/Solar fotovoltaica/130610.977",
          "Renovable/Solar fotovoltaica/131158.994",
          "Renovable/Eólica/133250.269",
          "Renovable/Solar fotovoltaica/133419.305",
          "Renovable/Solar fotovoltaica/136356.044",
          "Renovable/Solar fotovoltaica/137172.852",
          "Renovable/Eólica/137854.929",
          "Renovable/Eólica/138196.934",
          "Renovable/Solar fotovoltaica/138737.98",
          "Renovable/Solar fotovoltaica/139022.681",
          "Renovable/Solar fotovoltaica/143168.545",
          "No-Renovable/Nuclear/143378.2",
          "No-Renovable/Nuclear/143691.0",
          "Renovable/Solar fotovoltaica/143761.218",
          "No-Renovable/Nuclear/143776.6",
          "Renovable/Eólica/151013.035",
          "Renovable/Solar fotovoltaica/151206.508",
          "Renovable/Solar fotovoltaica/152285.747",
          "Renovable/Solar fotovoltaica/153991.676",
          "Renovable/Solar fotovoltaica/156801.696",
          "Renovable/Eólica/157356.653",
          "No-Renovable/Ciclo combinado/158342.694",
          "No-Renovable/Ciclo combinado/158749.278",
          "Renovable/Solar fotovoltaica/159323.763",
          "No-Renovable/Nuclear/162276.1",
          "Renovable/Solar fotovoltaica/162300.438",
          "No-Renovable/Nuclear/163814.409",
          "No-Renovable/Nuclear/165999.023",
          "No-Renovable/Nuclear/166178.737",
          "No-Renovable/Nuclear/166185.417",
          "No-Renovable/Nuclear/166239.552",
          "No-Renovable/Nuclear/166296.414",
          "No-Renovable/Nuclear/166309.822",
          "No-Renovable/Nuclear/166411.138",
          "No-Renovable/Nuclear/166435.032",
          "No-Renovable/Nuclear/166471.01",
          "No-Renovable/Nuclear/166479.354",
          "No-Renovable/Nuclear/166527.4",
          "No-Renovable/Nuclear/166568.046",
          "No-Renovable/Nuclear/166581.161",
          "No-Renovable/Nuclear/166704.333",
          "No-Renovable/Nuclear/166810.946",
          "No-Renovable/Nuclear/166835.849",
          "No-Renovable/Nuclear/166907.61",
          "No-Renovable/Nuclear/166981.4",
          "No-Renovable/Nuclear/167008.682",
          "No-Renovable/Nuclear/167039.0",
          "No-Renovable/Nuclear/167062.113",
          "No-Renovable/Nuclear/167121.073",
          "No-Renovable/Nuclear/167134.982",
          "No-Renovable/Nuclear/167236.2",
          "No-Renovable/Nuclear/167486.281",
          "No-Renovable/Nuclear/167605.8",
          "Renovable/Eólica/167846.392",
          "Renovable/Eólica/169068.701",
          "Renovable/Eólica/170713.706",
          "Renovable/Solar fotovoltaica/171718.837",
          "Renovable/Solar fotovoltaica/179876.558",
          "Renovable/Eólica/181355.473",
          "Renovable/Eólica/191594.307",
          "Renovable/Eólica/216702.928",
          "Renovable/Eólica/226460.488",
          "Renovable/Eólica/235490.559",
          "Renovable/Eólica/252078.994",
          "No-Renovable/Generación no renovable/254883.325",
          "Renovable/Eólica/256074.662",
          "Renovable/Eólica/257515.303",
          "No-Renovable/Generación no renovable/265566.279",
          "Renovable/Eólica/265833.009",
          "No-Renovable/Generación no renovable/268072.601",
          "Renovable/Eólica/268172.999",
          "Renovable/Generación renovable/269534.51849999995",
          "No-Renovable/Generación no renovable/269868.44100000005",
          "No-Renovable/Generación no renovable/288887.534",
          "No-Renovable/Generación no renovable/290533.8695",
          "No-Renovable/Generación no renovable/292290.743",
          "No-Renovable/Generación no renovable/294580.6275",
          "Renovable/Eólica/294934.188",
          "Renovable/Generación renovable/298106.86950000003",
          "No-Renovable/Generación no renovable/298641.1825",
          "No-Renovable/Generación no renovable/298769.3285",
          "Renovable/Generación renovable/300998.207",
          "No-Renovable/Generación no renovable/301570.80850000004",
          "Renovable/Generación renovable/302178.519",
          "No-Renovable/Generación no renovable/303029.868",
          "Renovable/Generación renovable/304508.21300000005",
          "No-Renovable/Generación no renovable/312615.5915",
          "No-Renovable/Generación no renovable/313557.729",
          "No-Renovable/Generación no renovable/315107.49149999995",
          "Renovable/Eólica/325019.499",
          "Renovable/Generación renovable/326034.2725",
          "Renovable/Generación renovable/328478.4354999999",
          "No-Renovable/Generación no renovable/333142.4060000001",
          "Renovable/Generación renovable/333484.7695",
          "No-Renovable/Generación no renovable/336055.13249999995",
          "Renovable/Generación renovable/339295.2735",
          "No-Renovable/Generación no renovable/343219.1115",
          "No-Renovable/Generación no renovable/350458.30100000004",
          "No-Renovable/Generación no renovable/350608.59200000006",
          "No-Renovable/Generación no renovable/351781.3945",
          "No-Renovable/Generación no renovable/352511.746",
          "No-Renovable/Generación no renovable/352937.309",
          "Renovable/Eólica/354056.721",
          "No-Renovable/Generación no renovable/354462.7515000001",
          "No-Renovable/Generación no renovable/354565.7945000001",
          "Renovable/Eólica/355754.33",
          "No-Renovable/Generación no renovable/356944.745",
          "No-Renovable/Generación no renovable/358631.506",
          "No-Renovable/Generación no renovable/360720.6429999999",
          "No-Renovable/Generación no renovable/368923.849",
          "Renovable/Generación renovable/372988.224",
          "Renovable/Generación renovable/376037.26249999995",
          "Renovable/Generación renovable/379886.2349999999",
          "Renovable/Generación renovable/384228.31499999994",
          "Renovable/Generación renovable/384587.172",
          "Renovable/Generación renovable/386202.66049999994",
          "Renovable/Generación renovable/396402.42600000004",
          "Renovable/Generación renovable/408781.2884999999",
          "Renovable/Generación renovable/412070.4015",
          "No-Renovable/Generación no renovable/412329.8314999999",
          "Renovable/Generación renovable/414969.65550000005",
          "No-Renovable/Generación no renovable/415517.967",
          "Renovable/Generación renovable/416869.78099999996",
          "Renovable/Generación renovable/417576.962",
          "Renovable/Generación renovable/425780.076",
          "Renovable/Generación renovable/448576.21199999994",
          "Renovable/Generación renovable/451692.00299999997",
          "Renovable/Generación renovable/466530.341",
          "Renovable/Generación renovable/466576.942",
          "Renovable/Generación renovable/476248.455",
          "Renovable/Generación renovable/477099.23850000004",
          "Renovable/Generación renovable/484765.82200000004",
          "Renovable/Generación renovable/499797.0150000001",
          "Renovable/Generación renovable/503768.37350000005",
          "Demanda en b.c./Demanda en b.c./539709.212",
          "Demanda en b.c./Demanda en b.c./555780.8979999999",
          "Demanda en b.c./Demanda en b.c./558723.1410000001",
          "Demanda en b.c./Demanda en b.c./565533.205",
          "Demanda en b.c./Demanda en b.c./580098.071",
          "Demanda en b.c./Demanda en b.c./595716.678",
          "Demanda en b.c./Demanda en b.c./598027.769",
          "Demanda en b.c./Demanda en b.c./604504.485",
          "Demanda en b.c./Demanda en b.c./644307.7679999999",
          "Demanda en b.c./Demanda en b.c./650308.026",
          "Demanda en b.c./Demanda en b.c./658582.587",
          "Demanda en b.c./Demanda en b.c./665564.644",
          "Demanda en b.c./Demanda en b.c./669859.391",
          "Demanda en b.c./Demanda en b.c./671868.895",
          "Demanda en b.c./Demanda en b.c./673026.421",
          "Demanda en b.c./Demanda en b.c./674697.414",
          "Demanda en b.c./Demanda en b.c./678502.426",
          "Demanda en b.c./Demanda en b.c./679273.4890000001",
          "Demanda en b.c./Demanda en b.c./681809.733",
          "Demanda en b.c./Demanda en b.c./682397.378",
          "Demanda en b.c./Demanda en b.c./682877.223",
          "Demanda en b.c./Demanda en b.c./683578.523",
          "Demanda en b.c./Demanda en b.c./685876.4",
          "Demanda en b.c./Demanda en b.c./687152.936",
          "Demanda en b.c./Demanda en b.c./688451.74",
          "Demanda en b.c./Demanda en b.c./688948.048",
          "Demanda en b.c./Demanda en b.c./689088.709",
          "Demanda en b.c./Demanda en b.c./695177.8589999999",
          "Demanda en b.c./Demanda en b.c./699644.968",
          "Demanda en b.c./Demanda en b.c./702319.515",
          "Demanda en b.c./Demanda en b.c./705001.661",
          "No-Renovable/Carbón",
          "No-Renovable/Ciclo combinado",
          "No-Renovable/Cogeneración",
          "Demanda en b.c./Consumos en bombeo",
          "Demanda en b.c./Demanda en b.c.",
          "Renovable/Eólica",
          "No-Renovable/Fuel + Gas",
          "No-Renovable/Generación no renovable",
          "Renovable/Generación renovable",
          "Renovable/Hidroeólica",
          "Renovable/Hidráulica",
          "No-Renovable/Motores diésel",
          "No-Renovable/Nuclear",
          "Renovable/Otras renovables",
          "No-Renovable/Residuos no renovables",
          "Renovable/Residuos renovables",
          "Demanda en b.c./Saldo I. internacionales",
          "Renovable/Solar fotovoltaica",
          "Renovable/Solar térmica",
          "No-Renovable/Turbina de gas",
          "No-Renovable/Turbina de vapor",
          "No-Renovable/Turbinación bombeo",
          "Demanda en b.c.",
          "No-Renovable",
          "Renovable"
         ],
         "labels": [
          "-85294.7",
          "-83476.417",
          "-77641.473",
          "-70519.778",
          "-67279.4",
          "-64903.1",
          "-63158.2",
          "-61448.838",
          "-58741.817",
          "-57181.573",
          "-55758.8",
          "-55321.493",
          "-48420.387",
          "-46961.276",
          "-45939.549",
          "-44213.613",
          "-42371.6",
          "-42165.889",
          "-41243.457",
          "-40583.5",
          "-40012.917",
          "-39350.0",
          "-36379.022",
          "-35950.27",
          "-35905.305",
          "-34801.155",
          "-34760.906",
          "-33277.3",
          "-32920.686",
          "-32746.2",
          "-31408.635",
          "-30216.28",
          "-30029.35",
          "-29614.368",
          "-28866.425",
          "-28805.195",
          "-28362.316",
          "-27589.6",
          "-27427.468",
          "-27173.394",
          "-25771.441",
          "-25645.1",
          "-25476.6",
          "-24699.308",
          "-22980.461",
          "-22061.226",
          "-21003.558",
          "-19443.509",
          "-18367.203",
          "-16745.747",
          "-16645.8",
          "-14987.2",
          "-13205.2",
          "-13055.198",
          "-12677.221",
          "-11660.4",
          "-11584.601",
          "-11369.6",
          "-6185.448",
          "-4506.807",
          "-1677.125",
          "-460.821",
          "-0.001",
          "0.001",
          "1.722",
          "5.562",
          "13.234",
          "13.737",
          "16.111",
          "16.763",
          "17.123",
          "17.155",
          "21.902",
          "42.668",
          "43.199",
          "44.757",
          "50.153",
          "55.026",
          "57.731",
          "59.505",
          "61.214",
          "75.557",
          "81.171",
          "81.656",
          "106.414",
          "110.594",
          "115.127",
          "127.665",
          "130.519",
          "133.996",
          "135.462",
          "150.698",
          "164.64",
          "182.27",
          "189.12",
          "1027.713",
          "1034.5",
          "1046.376",
          "1055.006",
          "1236.689",
          "1248.844",
          "1257.512",
          "1301.162",
          "1354.965",
          "1391.281",
          "1412.648",
          "1486.379",
          "1500.404",
          "1594.326",
          "1600.031",
          "1702.453",
          "1746.895",
          "1747.658",
          "1757.267",
          "1779.035",
          "1804.5",
          "1815.576",
          "1826.98",
          "1848.939",
          "1856.8",
          "1868.2355",
          "1873.764",
          "1878.2",
          "1879.08",
          "1879.6",
          "1900.1475",
          "1939.779",
          "1944.963",
          "1945.3",
          "1958.8",
          "1972.75",
          "2021.4",
          "2028.8",
          "2056.419",
          "2059.521",
          "2084.655",
          "2091.309",
          "2100.416",
          "2120.017",
          "2130.324",
          "2133.769",
          "2173.592",
          "2176.039",
          "2176.693",
          "2177.0895",
          "2181.24",
          "2189.206",
          "2236.784",
          "2246.614",
          "2329.67",
          "2332.494",
          "2350.539",
          "2364.96",
          "2366.45",
          "2382.0615",
          "2396.469",
          "2409.003",
          "2430.337",
          "2436.565",
          "2457.8595",
          "2468.845",
          "2477.4715",
          "2483.476",
          "2524.0025",
          "2525.833",
          "2530.254",
          "2531.372",
          "2542.334",
          "2542.7195",
          "2559.136",
          "2577.857",
          "2589.4565",
          "2591.4775",
          "2594.6465",
          "2594.768",
          "2595.7275",
          "2618.565",
          "2637.5",
          "2665.578",
          "2670.806",
          "2678.692",
          "2691.659",
          "2719.066",
          "2736.5295",
          "2762.55",
          "2921.146",
          "2921.456",
          "2952.161",
          "3033.987",
          "3041.81",
          "3070.9",
          "3136.741",
          "3206.7325",
          "3220.23",
          "3346.976",
          "3398.666",
          "3482.5895",
          "3505.792",
          "3581.0435",
          "3672.7",
          "3684.9",
          "3720.6",
          "3981.219",
          "4016.0",
          "4043.8235",
          "4053.5085",
          "4065.566",
          "4095.25",
          "4136.378",
          "4140.589",
          "4152.55",
          "4164.1365",
          "4166.7",
          "4240.61",
          "4250.3",
          "4302.9865",
          "4307.415",
          "4333.1",
          "4348.2005",
          "4402.1105",
          "4420.7",
          "4606.7385",
          "4699.188",
          "4919.805",
          "4921.646",
          "4952.754",
          "4991.7",
          "5024.3765",
          "5030.6205",
          "5040.8035",
          "5583.481",
          "5769.5",
          "5836.2",
          "5878.057",
          "5884.0",
          "5925.746",
          "6173.928",
          "6450.944",
          "6537.454",
          "6605.813",
          "6607.4",
          "6637.878",
          "6663.394",
          "6673.506",
          "6737.014",
          "6771.22",
          "6776.836",
          "6795.396",
          "6797.441",
          "6848.33",
          "6924.793",
          "6991.956",
          "7192.893",
          "7216.581",
          "7225.652",
          "7231.95",
          "7287.569",
          "7371.57",
          "7418.098",
          "7480.324",
          "7497.911",
          "7547.968",
          "7553.43",
          "7571.729",
          "7597.991",
          "7724.568",
          "7820.837",
          "7820.881",
          "7856.663",
          "7884.831",
          "7929.039",
          "7932.293",
          "7956.688",
          "8009.9",
          "8054.556",
          "8075.466",
          "8103.1",
          "8199.484",
          "8239.317",
          "8337.314",
          "8421.21",
          "8601.95",
          "8634.224",
          "8684.946",
          "8712.808",
          "8722.674",
          "8764.0",
          "8771.495",
          "8778.51",
          "8845.139",
          "8857.698",
          "8865.7",
          "8901.3",
          "9003.48",
          "9018.305",
          "9043.6",
          "9067.2",
          "9155.37",
          "9223.923",
          "9236.007",
          "9258.75",
          "9261.121",
          "9321.993",
          "9333.218",
          "9335.246",
          "9364.0",
          "9384.789",
          "9390.187",
          "9396.5",
          "9398.552",
          "9631.226",
          "9639.618",
          "9643.3",
          "9675.002",
          "9777.709",
          "9814.0",
          "9949.57",
          "10001.668",
          "10093.205",
          "10116.307",
          "10144.257",
          "10170.486",
          "10221.698",
          "10271.1",
          "10272.078",
          "10321.193",
          "10695.721",
          "10708.082",
          "10965.108",
          "10968.444",
          "11036.212",
          "11332.216",
          "11484.908",
          "11532.644",
          "11562.392",
          "11626.564",
          "11845.921",
          "12269.678",
          "12370.354",
          "12501.5",
          "12687.281",
          "12727.6",
          "12953.608",
          "13015.609",
          "13035.823",
          "13291.885",
          "13349.637",
          "13612.451",
          "14081.507",
          "14534.355",
          "14766.598",
          "15102.066",
          "15678.775",
          "15973.392",
          "16718.097",
          "16718.588",
          "16742.391",
          "17333.305",
          "17346.651",
          "18119.192",
          "19050.059",
          "19295.654",
          "19987.539",
          "20100.509",
          "20145.734",
          "20350.289",
          "20365.067",
          "20732.747",
          "21080.551",
          "21897.701",
          "23507.241",
          "23513.031",
          "23817.482",
          "24767.511",
          "24849.6",
          "24985.74",
          "25166.3",
          "25893.392",
          "26012.013",
          "27332.783",
          "27877.149",
          "27985.943",
          "28356.661",
          "29235.207",
          "29447.789",
          "29555.708",
          "30373.812",
          "31621.76",
          "34657.713",
          "35063.646",
          "36018.865",
          "36271.997",
          "38276.2",
          "38530.68",
          "39251.575",
          "40107.831",
          "42934.229",
          "44468.927",
          "44949.149",
          "46054.266",
          "46440.614",
          "46933.118",
          "47223.732",
          "48064.498",
          "48546.901",
          "48576.483",
          "48588.925",
          "49273.304",
          "49771.42",
          "50788.6",
          "51109.48",
          "51210.46",
          "51661.691",
          "51775.769",
          "52350.79",
          "52619.165",
          "53478.32",
          "53604.737",
          "53794.577",
          "54386.095",
          "54462.916",
          "54493.427",
          "54807.3",
          "55956.812",
          "57723.1",
          "57852.916",
          "58595.442",
          "59714.396",
          "59973.139",
          "62214.9",
          "62511.042",
          "62652.956",
          "62848.156",
          "63360.6",
          "63743.445",
          "64127.222",
          "66137.745",
          "66388.354",
          "67254.129",
          "68292.567",
          "72013.7",
          "72079.272",
          "73825.361",
          "73920.299",
          "74545.978",
          "75496.802",
          "76159.7",
          "76861.6",
          "79728.685",
          "79993.169",
          "81726.909",
          "83008.9",
          "84157.676",
          "85671.266",
          "88050.07",
          "89991.12",
          "90237.415",
          "90580.095",
          "91593.33",
          "92057.3",
          "93150.995",
          "93635.162",
          "95711.286",
          "96621.58",
          "98161.878",
          "98210.419",
          "98458.751",
          "98488.398",
          "98832.084",
          "99578.017",
          "99729.262",
          "99784.679",
          "100077.672",
          "101831.596",
          "103155.812",
          "103499.279",
          "104505.558",
          "107295.67",
          "111944.997",
          "112140.344",
          "115801.186",
          "120892.099",
          "122809.738",
          "123748.272",
          "127266.75",
          "128554.397",
          "130141.475",
          "130610.977",
          "131158.994",
          "133250.269",
          "133419.305",
          "136356.044",
          "137172.852",
          "137854.929",
          "138196.934",
          "138737.98",
          "139022.681",
          "143168.545",
          "143378.2",
          "143691.0",
          "143761.218",
          "143776.6",
          "151013.035",
          "151206.508",
          "152285.747",
          "153991.676",
          "156801.696",
          "157356.653",
          "158342.694",
          "158749.278",
          "159323.763",
          "162276.1",
          "162300.438",
          "163814.409",
          "165999.023",
          "166178.737",
          "166185.417",
          "166239.552",
          "166296.414",
          "166309.822",
          "166411.138",
          "166435.032",
          "166471.01",
          "166479.354",
          "166527.4",
          "166568.046",
          "166581.161",
          "166704.333",
          "166810.946",
          "166835.849",
          "166907.61",
          "166981.4",
          "167008.682",
          "167039.0",
          "167062.113",
          "167121.073",
          "167134.982",
          "167236.2",
          "167486.281",
          "167605.8",
          "167846.392",
          "169068.701",
          "170713.706",
          "171718.837",
          "179876.558",
          "181355.473",
          "191594.307",
          "216702.928",
          "226460.488",
          "235490.559",
          "252078.994",
          "254883.325",
          "256074.662",
          "257515.303",
          "265566.279",
          "265833.009",
          "268072.601",
          "268172.999",
          "269534.51849999995",
          "269868.44100000005",
          "288887.534",
          "290533.8695",
          "292290.743",
          "294580.6275",
          "294934.188",
          "298106.86950000003",
          "298641.1825",
          "298769.3285",
          "300998.207",
          "301570.80850000004",
          "302178.519",
          "303029.868",
          "304508.21300000005",
          "312615.5915",
          "313557.729",
          "315107.49149999995",
          "325019.499",
          "326034.2725",
          "328478.4354999999",
          "333142.4060000001",
          "333484.7695",
          "336055.13249999995",
          "339295.2735",
          "343219.1115",
          "350458.30100000004",
          "350608.59200000006",
          "351781.3945",
          "352511.746",
          "352937.309",
          "354056.721",
          "354462.7515000001",
          "354565.7945000001",
          "355754.33",
          "356944.745",
          "358631.506",
          "360720.6429999999",
          "368923.849",
          "372988.224",
          "376037.26249999995",
          "379886.2349999999",
          "384228.31499999994",
          "384587.172",
          "386202.66049999994",
          "396402.42600000004",
          "408781.2884999999",
          "412070.4015",
          "412329.8314999999",
          "414969.65550000005",
          "415517.967",
          "416869.78099999996",
          "417576.962",
          "425780.076",
          "448576.21199999994",
          "451692.00299999997",
          "466530.341",
          "466576.942",
          "476248.455",
          "477099.23850000004",
          "484765.82200000004",
          "499797.0150000001",
          "503768.37350000005",
          "539709.212",
          "555780.8979999999",
          "558723.1410000001",
          "565533.205",
          "580098.071",
          "595716.678",
          "598027.769",
          "604504.485",
          "644307.7679999999",
          "650308.026",
          "658582.587",
          "665564.644",
          "669859.391",
          "671868.895",
          "673026.421",
          "674697.414",
          "678502.426",
          "679273.4890000001",
          "681809.733",
          "682397.378",
          "682877.223",
          "683578.523",
          "685876.4",
          "687152.936",
          "688451.74",
          "688948.048",
          "689088.709",
          "695177.8589999999",
          "699644.968",
          "702319.515",
          "705001.661",
          "Carbón",
          "Ciclo combinado",
          "Cogeneración",
          "Consumos en bombeo",
          "Demanda en b.c.",
          "Eólica",
          "Fuel + Gas",
          "Generación no renovable",
          "Generación renovable",
          "Hidroeólica",
          "Hidráulica",
          "Motores diésel",
          "Nuclear",
          "Otras renovables",
          "Residuos no renovables",
          "Residuos renovables",
          "Saldo I. internacionales",
          "Solar fotovoltaica",
          "Solar térmica",
          "Turbina de gas",
          "Turbina de vapor",
          "Turbinación bombeo",
          "Demanda en b.c.",
          "No-Renovable",
          "Renovable"
         ],
         "name": "",
         "parents": [
          "Demanda en b.c./Saldo I. internacionales",
          "Demanda en b.c./Saldo I. internacionales",
          "Demanda en b.c./Saldo I. internacionales",
          "Demanda en b.c./Saldo I. internacionales",
          "Demanda en b.c./Saldo I. internacionales",
          "Demanda en b.c./Saldo I. internacionales",
          "Demanda en b.c./Saldo I. internacionales",
          "Demanda en b.c./Saldo I. internacionales",
          "Demanda en b.c./Saldo I. internacionales",
          "Demanda en b.c./Saldo I. internacionales",
          "Demanda en b.c./Saldo I. internacionales",
          "Demanda en b.c./Saldo I. internacionales",
          "Demanda en b.c./Saldo I. internacionales",
          "Demanda en b.c./Saldo I. internacionales",
          "Demanda en b.c./Saldo I. internacionales",
          "Demanda en b.c./Saldo I. internacionales",
          "Demanda en b.c./Saldo I. internacionales",
          "Demanda en b.c./Consumos en bombeo",
          "Demanda en b.c./Consumos en bombeo",
          "Demanda en b.c./Saldo I. internacionales",
          "Demanda en b.c./Consumos en bombeo",
          "Demanda en b.c./Saldo I. internacionales",
          "Demanda en b.c./Consumos en bombeo",
          "Demanda en b.c./Saldo I. internacionales",
          "Demanda en b.c./Saldo I. internacionales",
          "Demanda en b.c./Consumos en bombeo",
          "Demanda en b.c./Consumos en bombeo",
          "Demanda en b.c./Consumos en bombeo",
          "Demanda en b.c./Saldo I. internacionales",
          "Demanda en b.c./Saldo I. internacionales",
          "Demanda en b.c./Saldo I. internacionales",
          "Demanda en b.c./Consumos en bombeo",
          "Demanda en b.c./Consumos en bombeo",
          "Demanda en b.c./Consumos en bombeo",
          "Demanda en b.c./Saldo I. internacionales",
          "Demanda en b.c./Saldo I. internacionales",
          "Demanda en b.c./Consumos en bombeo",
          "Demanda en b.c./Consumos en bombeo",
          "Demanda en b.c./Saldo I. internacionales",
          "Demanda en b.c./Consumos en bombeo",
          "Demanda en b.c./Consumos en bombeo",
          "Demanda en b.c./Consumos en bombeo",
          "Demanda en b.c./Consumos en bombeo",
          "Demanda en b.c./Consumos en bombeo",
          "Demanda en b.c./Saldo I. internacionales",
          "Demanda en b.c./Consumos en bombeo",
          "Demanda en b.c./Consumos en bombeo",
          "Demanda en b.c./Saldo I. internacionales",
          "Demanda en b.c./Consumos en bombeo",
          "Demanda en b.c./Consumos en bombeo",
          "Demanda en b.c./Consumos en bombeo",
          "Demanda en b.c./Consumos en bombeo",
          "Demanda en b.c./Consumos en bombeo",
          "Demanda en b.c./Consumos en bombeo",
          "Demanda en b.c./Consumos en bombeo",
          "Demanda en b.c./Consumos en bombeo",
          "Demanda en b.c./Saldo I. internacionales",
          "Demanda en b.c./Consumos en bombeo",
          "Demanda en b.c./Consumos en bombeo",
          "Demanda en b.c./Consumos en bombeo",
          "Demanda en b.c./Consumos en bombeo",
          "Demanda en b.c./Saldo I. internacionales",
          "No-Renovable/Fuel + Gas",
          "No-Renovable/Fuel + Gas",
          "Renovable/Hidroeólica",
          "Renovable/Hidroeólica",
          "Renovable/Hidroeólica",
          "Renovable/Hidroeólica",
          "Renovable/Hidroeólica",
          "Renovable/Hidroeólica",
          "Renovable/Hidroeólica",
          "Renovable/Hidroeólica",
          "Renovable/Hidroeólica",
          "Renovable/Hidroeólica",
          "Renovable/Hidroeólica",
          "Renovable/Hidroeólica",
          "Renovable/Hidroeólica",
          "Renovable/Hidroeólica",
          "Renovable/Hidroeólica",
          "Renovable/Hidroeólica",
          "Renovable/Hidroeólica",
          "Renovable/Hidroeólica",
          "Renovable/Hidroeólica",
          "Renovable/Hidroeólica",
          "Renovable/Hidroeólica",
          "Renovable/Hidroeólica",
          "Renovable/Hidroeólica",
          "Renovable/Hidroeólica",
          "Renovable/Hidroeólica",
          "Renovable/Hidroeólica",
          "Renovable/Hidroeólica",
          "Renovable/Hidroeólica",
          "Renovable/Hidroeólica",
          "Renovable/Hidroeólica",
          "Renovable/Hidroeólica",
          "No-Renovable/Turbina de gas",
          "No-Renovable/Turbina de gas",
          "No-Renovable/Turbina de gas",
          "No-Renovable/Turbina de gas",
          "No-Renovable/Turbina de gas",
          "No-Renovable/Turbina de gas",
          "Renovable/Solar térmica",
          "No-Renovable/Turbina de gas",
          "No-Renovable/Turbina de vapor",
          "No-Renovable/Turbina de vapor",
          "No-Renovable/Turbina de gas",
          "No-Renovable/Turbina de gas",
          "No-Renovable/Turbina de gas",
          "No-Renovable/Turbina de gas",
          "No-Renovable/Turbina de gas",
          "No-Renovable/Turbina de gas",
          "No-Renovable/Turbina de gas",
          "No-Renovable/Turbina de vapor",
          "No-Renovable/Turbina de gas",
          "No-Renovable/Turbina de vapor",
          "Renovable/Solar térmica",
          "No-Renovable/Turbina de gas",
          "No-Renovable/Turbina de gas",
          "No-Renovable/Turbina de gas",
          "Renovable/Residuos renovables",
          "Renovable/Residuos renovables",
          "Renovable/Solar térmica",
          "Renovable/Residuos renovables",
          "No-Renovable/Turbina de vapor",
          "Renovable/Residuos renovables",
          "Renovable/Residuos renovables",
          "No-Renovable/Turbina de vapor",
          "Renovable/Residuos renovables",
          "Renovable/Residuos renovables",
          "Renovable/Residuos renovables",
          "Renovable/Residuos renovables",
          "Renovable/Residuos renovables",
          "Renovable/Residuos renovables",
          "No-Renovable/Turbina de gas",
          "No-Renovable/Turbina de vapor",
          "No-Renovable/Turbina de gas",
          "No-Renovable/Turbina de vapor",
          "No-Renovable/Turbina de vapor",
          "No-Renovable/Turbina de vapor",
          "No-Renovable/Turbina de vapor",
          "No-Renovable/Turbina de vapor",
          "No-Renovable/Turbina de gas",
          "No-Renovable/Turbina de vapor",
          "No-Renovable/Turbina de vapor",
          "Renovable/Residuos renovables",
          "No-Renovable/Turbina de vapor",
          "No-Renovable/Turbina de vapor",
          "No-Renovable/Turbina de vapor",
          "No-Renovable/Turbina de vapor",
          "No-Renovable/Turbina de vapor",
          "No-Renovable/Turbina de vapor",
          "No-Renovable/Turbina de vapor",
          "No-Renovable/Turbina de vapor",
          "Renovable/Residuos renovables",
          "Renovable/Residuos renovables",
          "No-Renovable/Turbina de gas",
          "No-Renovable/Turbina de vapor",
          "No-Renovable/Turbina de vapor",
          "No-Renovable/Turbina de gas",
          "Renovable/Residuos renovables",
          "No-Renovable/Turbina de gas",
          "Renovable/Residuos renovables",
          "Renovable/Residuos renovables",
          "Renovable/Residuos renovables",
          "Renovable/Residuos renovables",
          "No-Renovable/Turbina de gas",
          "Renovable/Residuos renovables",
          "Renovable/Residuos renovables",
          "Renovable/Residuos renovables",
          "No-Renovable/Turbina de vapor",
          "Renovable/Residuos renovables",
          "Renovable/Residuos renovables",
          "Renovable/Residuos renovables",
          "Renovable/Residuos renovables",
          "No-Renovable/Turbina de vapor",
          "Renovable/Residuos renovables",
          "No-Renovable/Turbina de gas",
          "No-Renovable/Turbina de vapor",
          "Renovable/Residuos renovables",
          "No-Renovable/Turbina de vapor",
          "No-Renovable/Turbina de gas",
          "Renovable/Residuos renovables",
          "No-Renovable/Turbina de gas",
          "Renovable/Residuos renovables",
          "Renovable/Residuos renovables",
          "No-Renovable/Turbina de vapor",
          "No-Renovable/Turbina de vapor",
          "Renovable/Solar térmica",
          "No-Renovable/Turbina de gas",
          "No-Renovable/Turbina de gas",
          "No-Renovable/Turbinación bombeo",
          "No-Renovable/Turbina de vapor",
          "No-Renovable/Residuos no renovables",
          "No-Renovable/Turbina de gas",
          "No-Renovable/Residuos no renovables",
          "Renovable/Solar térmica",
          "No-Renovable/Residuos no renovables",
          "No-Renovable/Residuos no renovables",
          "No-Renovable/Residuos no renovables",
          "No-Renovable/Residuos no renovables",
          "No-Renovable/Residuos no renovables",
          "No-Renovable/Residuos no renovables",
          "No-Renovable/Residuos no renovables",
          "No-Renovable/Turbinación bombeo",
          "No-Renovable/Residuos no renovables",
          "No-Renovable/Residuos no renovables",
          "No-Renovable/Residuos no renovables",
          "No-Renovable/Residuos no renovables",
          "Renovable/Solar térmica",
          "No-Renovable/Residuos no renovables",
          "No-Renovable/Residuos no renovables",
          "No-Renovable/Residuos no renovables",
          "No-Renovable/Residuos no renovables",
          "Renovable/Solar térmica",
          "No-Renovable/Residuos no renovables",
          "No-Renovable/Residuos no renovables",
          "Renovable/Solar térmica",
          "No-Renovable/Residuos no renovables",
          "No-Renovable/Residuos no renovables",
          "No-Renovable/Residuos no renovables",
          "No-Renovable/Residuos no renovables",
          "No-Renovable/Residuos no renovables",
          "No-Renovable/Residuos no renovables",
          "No-Renovable/Residuos no renovables",
          "No-Renovable/Residuos no renovables",
          "No-Renovable/Residuos no renovables",
          "No-Renovable/Turbinación bombeo",
          "No-Renovable/Residuos no renovables",
          "No-Renovable/Residuos no renovables",
          "No-Renovable/Residuos no renovables",
          "No-Renovable/Turbinación bombeo",
          "No-Renovable/Carbón",
          "No-Renovable/Carbón",
          "No-Renovable/Carbón",
          "No-Renovable/Carbón",
          "No-Renovable/Carbón",
          "No-Renovable/Carbón",
          "No-Renovable/Motores diésel",
          "No-Renovable/Motores diésel",
          "No-Renovable/Motores diésel",
          "No-Renovable/Turbinación bombeo",
          "No-Renovable/Turbinación bombeo",
          "No-Renovable/Motores diésel",
          "No-Renovable/Motores diésel",
          "No-Renovable/Motores diésel",
          "No-Renovable/Motores diésel",
          "No-Renovable/Motores diésel",
          "No-Renovable/Motores diésel",
          "No-Renovable/Motores diésel",
          "No-Renovable/Motores diésel",
          "No-Renovable/Motores diésel",
          "Renovable/Solar térmica",
          "No-Renovable/Motores diésel",
          "No-Renovable/Motores diésel",
          "No-Renovable/Motores diésel",
          "No-Renovable/Motores diésel",
          "No-Renovable/Motores diésel",
          "Renovable/Solar térmica",
          "No-Renovable/Motores diésel",
          "No-Renovable/Motores diésel",
          "No-Renovable/Carbón",
          "Renovable/Solar térmica",
          "No-Renovable/Motores diésel",
          "No-Renovable/Motores diésel",
          "No-Renovable/Carbón",
          "No-Renovable/Motores diésel",
          "No-Renovable/Carbón",
          "No-Renovable/Motores diésel",
          "No-Renovable/Motores diésel",
          "No-Renovable/Carbón",
          "No-Renovable/Motores diésel",
          "No-Renovable/Motores diésel",
          "No-Renovable/Motores diésel",
          "No-Renovable/Carbón",
          "Renovable/Otras renovables",
          "No-Renovable/Motores diésel",
          "No-Renovable/Turbinación bombeo",
          "Renovable/Otras renovables",
          "No-Renovable/Motores diésel",
          "Renovable/Otras renovables",
          "No-Renovable/Carbón",
          "Renovable/Otras renovables",
          "No-Renovable/Motores diésel",
          "No-Renovable/Motores diésel",
          "Renovable/Otras renovables",
          "No-Renovable/Carbón",
          "No-Renovable/Carbón",
          "Renovable/Otras renovables",
          "Renovable/Otras renovables",
          "No-Renovable/Carbón",
          "No-Renovable/Turbinación bombeo",
          "Renovable/Solar térmica",
          "No-Renovable/Carbón",
          "Renovable/Otras renovables",
          "Renovable/Otras renovables",
          "No-Renovable/Turbinación bombeo",
          "No-Renovable/Turbinación bombeo",
          "Renovable/Otras renovables",
          "Renovable/Otras renovables",
          "Renovable/Otras renovables",
          "Renovable/Otras renovables",
          "Renovable/Otras renovables",
          "No-Renovable/Turbinación bombeo",
          "No-Renovable/Carbón",
          "No-Renovable/Carbón",
          "No-Renovable/Carbón",
          "Renovable/Otras renovables",
          "No-Renovable/Turbinación bombeo",
          "No-Renovable/Carbón",
          "Renovable/Otras renovables",
          "Renovable/Otras renovables",
          "Renovable/Otras renovables",
          "No-Renovable/Turbinación bombeo",
          "No-Renovable/Turbinación bombeo",
          "Renovable/Otras renovables",
          "No-Renovable/Carbón",
          "Renovable/Otras renovables",
          "Renovable/Otras renovables",
          "Renovable/Otras renovables",
          "Renovable/Otras renovables",
          "Renovable/Otras renovables",
          "Renovable/Otras renovables",
          "Renovable/Otras renovables",
          "Renovable/Otras renovables",
          "Renovable/Otras renovables",
          "Renovable/Otras renovables",
          "Renovable/Otras renovables",
          "Renovable/Solar térmica",
          "No-Renovable/Turbinación bombeo",
          "Renovable/Otras renovables",
          "Renovable/Solar térmica",
          "No-Renovable/Carbón",
          "No-Renovable/Turbinación bombeo",
          "Renovable/Solar térmica",
          "Renovable/Solar térmica",
          "No-Renovable/Carbón",
          "No-Renovable/Carbón",
          "No-Renovable/Carbón",
          "No-Renovable/Turbinación bombeo",
          "No-Renovable/Turbinación bombeo",
          "No-Renovable/Carbón",
          "Renovable/Solar térmica",
          "No-Renovable/Carbón",
          "No-Renovable/Carbón",
          "No-Renovable/Carbón",
          "No-Renovable/Carbón",
          "No-Renovable/Turbinación bombeo",
          "No-Renovable/Turbinación bombeo",
          "Renovable/Solar térmica",
          "No-Renovable/Turbinación bombeo",
          "Renovable/Solar térmica",
          "Renovable/Solar térmica",
          "No-Renovable/Turbinación bombeo",
          "No-Renovable/Turbinación bombeo",
          "No-Renovable/Turbinación bombeo",
          "No-Renovable/Turbinación bombeo",
          "No-Renovable/Turbinación bombeo",
          "Renovable/Solar térmica",
          "Renovable/Solar térmica",
          "No-Renovable/Turbinación bombeo",
          "No-Renovable/Turbinación bombeo",
          "No-Renovable/Turbinación bombeo",
          "Renovable/Solar térmica",
          "Renovable/Solar térmica",
          "Renovable/Solar térmica",
          "Renovable/Solar térmica",
          "Renovable/Solar térmica",
          "Renovable/Solar térmica",
          "Renovable/Solar térmica",
          "No-Renovable/Turbinación bombeo",
          "Renovable/Solar térmica",
          "Renovable/Solar térmica",
          "No-Renovable/Turbinación bombeo",
          "Renovable/Hidráulica",
          "No-Renovable/Cogeneración",
          "No-Renovable/Cogeneración",
          "No-Renovable/Cogeneración",
          "No-Renovable/Cogeneración",
          "No-Renovable/Cogeneración",
          "No-Renovable/Cogeneración",
          "No-Renovable/Cogeneración",
          "No-Renovable/Cogeneración",
          "Renovable/Hidráulica",
          "No-Renovable/Cogeneración",
          "No-Renovable/Cogeneración",
          "Renovable/Hidráulica",
          "Renovable/Hidráulica",
          "No-Renovable/Cogeneración",
          "No-Renovable/Cogeneración",
          "Renovable/Hidráulica",
          "Renovable/Hidráulica",
          "Renovable/Hidráulica",
          "No-Renovable/Cogeneración",
          "No-Renovable/Cogeneración",
          "Renovable/Hidráulica",
          "No-Renovable/Cogeneración",
          "No-Renovable/Cogeneración",
          "No-Renovable/Cogeneración",
          "Renovable/Hidráulica",
          "No-Renovable/Cogeneración",
          "No-Renovable/Cogeneración",
          "No-Renovable/Cogeneración",
          "No-Renovable/Cogeneración",
          "No-Renovable/Cogeneración",
          "No-Renovable/Cogeneración",
          "Renovable/Hidráulica",
          "Renovable/Hidráulica",
          "No-Renovable/Cogeneración",
          "No-Renovable/Cogeneración",
          "No-Renovable/Cogeneración",
          "No-Renovable/Cogeneración",
          "No-Renovable/Cogeneración",
          "Renovable/Hidráulica",
          "Renovable/Hidráulica",
          "No-Renovable/Ciclo combinado",
          "No-Renovable/Cogeneración",
          "Renovable/Eólica",
          "No-Renovable/Ciclo combinado",
          "No-Renovable/Cogeneración",
          "Renovable/Hidráulica",
          "No-Renovable/Ciclo combinado",
          "No-Renovable/Ciclo combinado",
          "Renovable/Hidráulica",
          "No-Renovable/Cogeneración",
          "Renovable/Hidráulica",
          "No-Renovable/Ciclo combinado",
          "Renovable/Hidráulica",
          "No-Renovable/Ciclo combinado",
          "No-Renovable/Ciclo combinado",
          "Renovable/Hidráulica",
          "No-Renovable/Ciclo combinado",
          "Renovable/Hidráulica",
          "No-Renovable/Ciclo combinado",
          "Renovable/Hidráulica",
          "No-Renovable/Ciclo combinado",
          "No-Renovable/Ciclo combinado",
          "No-Renovable/Ciclo combinado",
          "No-Renovable/Ciclo combinado",
          "No-Renovable/Ciclo combinado",
          "Renovable/Solar fotovoltaica",
          "Renovable/Hidráulica",
          "Renovable/Hidráulica",
          "Renovable/Hidráulica",
          "Renovable/Hidráulica",
          "No-Renovable/Ciclo combinado",
          "Renovable/Eólica",
          "Renovable/Hidráulica",
          "Renovable/Hidráulica",
          "Renovable/Solar fotovoltaica",
          "Renovable/Hidráulica",
          "No-Renovable/Ciclo combinado",
          "Renovable/Hidráulica",
          "Renovable/Eólica",
          "Renovable/Solar fotovoltaica",
          "Renovable/Solar fotovoltaica",
          "Renovable/Hidráulica",
          "Renovable/Eólica",
          "No-Renovable/Ciclo combinado",
          "No-Renovable/Ciclo combinado",
          "Renovable/Hidráulica",
          "Renovable/Solar fotovoltaica",
          "Renovable/Hidráulica",
          "Renovable/Solar fotovoltaica",
          "No-Renovable/Ciclo combinado",
          "Renovable/Solar fotovoltaica",
          "No-Renovable/Ciclo combinado",
          "No-Renovable/Ciclo combinado",
          "Renovable/Eólica",
          "No-Renovable/Ciclo combinado",
          "Renovable/Solar fotovoltaica",
          "Renovable/Solar fotovoltaica",
          "No-Renovable/Ciclo combinado",
          "No-Renovable/Ciclo combinado",
          "No-Renovable/Ciclo combinado",
          "Renovable/Solar fotovoltaica",
          "Renovable/Eólica",
          "Renovable/Solar fotovoltaica",
          "No-Renovable/Ciclo combinado",
          "No-Renovable/Ciclo combinado",
          "No-Renovable/Ciclo combinado",
          "No-Renovable/Ciclo combinado",
          "Renovable/Solar fotovoltaica",
          "Renovable/Solar fotovoltaica",
          "Renovable/Eólica",
          "Renovable/Eólica",
          "Renovable/Solar fotovoltaica",
          "Renovable/Eólica",
          "Renovable/Solar fotovoltaica",
          "Renovable/Solar fotovoltaica",
          "Renovable/Eólica",
          "Renovable/Solar fotovoltaica",
          "Renovable/Solar fotovoltaica",
          "Renovable/Solar fotovoltaica",
          "Renovable/Eólica",
          "Renovable/Eólica",
          "Renovable/Solar fotovoltaica",
          "Renovable/Solar fotovoltaica",
          "Renovable/Solar fotovoltaica",
          "No-Renovable/Nuclear",
          "No-Renovable/Nuclear",
          "Renovable/Solar fotovoltaica",
          "No-Renovable/Nuclear",
          "Renovable/Eólica",
          "Renovable/Solar fotovoltaica",
          "Renovable/Solar fotovoltaica",
          "Renovable/Solar fotovoltaica",
          "Renovable/Solar fotovoltaica",
          "Renovable/Eólica",
          "No-Renovable/Ciclo combinado",
          "No-Renovable/Ciclo combinado",
          "Renovable/Solar fotovoltaica",
          "No-Renovable/Nuclear",
          "Renovable/Solar fotovoltaica",
          "No-Renovable/Nuclear",
          "No-Renovable/Nuclear",
          "No-Renovable/Nuclear",
          "No-Renovable/Nuclear",
          "No-Renovable/Nuclear",
          "No-Renovable/Nuclear",
          "No-Renovable/Nuclear",
          "No-Renovable/Nuclear",
          "No-Renovable/Nuclear",
          "No-Renovable/Nuclear",
          "No-Renovable/Nuclear",
          "No-Renovable/Nuclear",
          "No-Renovable/Nuclear",
          "No-Renovable/Nuclear",
          "No-Renovable/Nuclear",
          "No-Renovable/Nuclear",
          "No-Renovable/Nuclear",
          "No-Renovable/Nuclear",
          "No-Renovable/Nuclear",
          "No-Renovable/Nuclear",
          "No-Renovable/Nuclear",
          "No-Renovable/Nuclear",
          "No-Renovable/Nuclear",
          "No-Renovable/Nuclear",
          "No-Renovable/Nuclear",
          "No-Renovable/Nuclear",
          "No-Renovable/Nuclear",
          "Renovable/Eólica",
          "Renovable/Eólica",
          "Renovable/Eólica",
          "Renovable/Solar fotovoltaica",
          "Renovable/Solar fotovoltaica",
          "Renovable/Eólica",
          "Renovable/Eólica",
          "Renovable/Eólica",
          "Renovable/Eólica",
          "Renovable/Eólica",
          "Renovable/Eólica",
          "No-Renovable/Generación no renovable",
          "Renovable/Eólica",
          "Renovable/Eólica",
          "No-Renovable/Generación no renovable",
          "Renovable/Eólica",
          "No-Renovable/Generación no renovable",
          "Renovable/Eólica",
          "Renovable/Generación renovable",
          "No-Renovable/Generación no renovable",
          "No-Renovable/Generación no renovable",
          "No-Renovable/Generación no renovable",
          "No-Renovable/Generación no renovable",
          "No-Renovable/Generación no renovable",
          "Renovable/Eólica",
          "Renovable/Generación renovable",
          "No-Renovable/Generación no renovable",
          "No-Renovable/Generación no renovable",
          "Renovable/Generación renovable",
          "No-Renovable/Generación no renovable",
          "Renovable/Generación renovable",
          "No-Renovable/Generación no renovable",
          "Renovable/Generación renovable",
          "No-Renovable/Generación no renovable",
          "No-Renovable/Generación no renovable",
          "No-Renovable/Generación no renovable",
          "Renovable/Eólica",
          "Renovable/Generación renovable",
          "Renovable/Generación renovable",
          "No-Renovable/Generación no renovable",
          "Renovable/Generación renovable",
          "No-Renovable/Generación no renovable",
          "Renovable/Generación renovable",
          "No-Renovable/Generación no renovable",
          "No-Renovable/Generación no renovable",
          "No-Renovable/Generación no renovable",
          "No-Renovable/Generación no renovable",
          "No-Renovable/Generación no renovable",
          "No-Renovable/Generación no renovable",
          "Renovable/Eólica",
          "No-Renovable/Generación no renovable",
          "No-Renovable/Generación no renovable",
          "Renovable/Eólica",
          "No-Renovable/Generación no renovable",
          "No-Renovable/Generación no renovable",
          "No-Renovable/Generación no renovable",
          "No-Renovable/Generación no renovable",
          "Renovable/Generación renovable",
          "Renovable/Generación renovable",
          "Renovable/Generación renovable",
          "Renovable/Generación renovable",
          "Renovable/Generación renovable",
          "Renovable/Generación renovable",
          "Renovable/Generación renovable",
          "Renovable/Generación renovable",
          "Renovable/Generación renovable",
          "No-Renovable/Generación no renovable",
          "Renovable/Generación renovable",
          "No-Renovable/Generación no renovable",
          "Renovable/Generación renovable",
          "Renovable/Generación renovable",
          "Renovable/Generación renovable",
          "Renovable/Generación renovable",
          "Renovable/Generación renovable",
          "Renovable/Generación renovable",
          "Renovable/Generación renovable",
          "Renovable/Generación renovable",
          "Renovable/Generación renovable",
          "Renovable/Generación renovable",
          "Renovable/Generación renovable",
          "Renovable/Generación renovable",
          "Demanda en b.c./Demanda en b.c.",
          "Demanda en b.c./Demanda en b.c.",
          "Demanda en b.c./Demanda en b.c.",
          "Demanda en b.c./Demanda en b.c.",
          "Demanda en b.c./Demanda en b.c.",
          "Demanda en b.c./Demanda en b.c.",
          "Demanda en b.c./Demanda en b.c.",
          "Demanda en b.c./Demanda en b.c.",
          "Demanda en b.c./Demanda en b.c.",
          "Demanda en b.c./Demanda en b.c.",
          "Demanda en b.c./Demanda en b.c.",
          "Demanda en b.c./Demanda en b.c.",
          "Demanda en b.c./Demanda en b.c.",
          "Demanda en b.c./Demanda en b.c.",
          "Demanda en b.c./Demanda en b.c.",
          "Demanda en b.c./Demanda en b.c.",
          "Demanda en b.c./Demanda en b.c.",
          "Demanda en b.c./Demanda en b.c.",
          "Demanda en b.c./Demanda en b.c.",
          "Demanda en b.c./Demanda en b.c.",
          "Demanda en b.c./Demanda en b.c.",
          "Demanda en b.c./Demanda en b.c.",
          "Demanda en b.c./Demanda en b.c.",
          "Demanda en b.c./Demanda en b.c.",
          "Demanda en b.c./Demanda en b.c.",
          "Demanda en b.c./Demanda en b.c.",
          "Demanda en b.c./Demanda en b.c.",
          "Demanda en b.c./Demanda en b.c.",
          "Demanda en b.c./Demanda en b.c.",
          "Demanda en b.c./Demanda en b.c.",
          "Demanda en b.c./Demanda en b.c.",
          "No-Renovable",
          "No-Renovable",
          "No-Renovable",
          "Demanda en b.c.",
          "Demanda en b.c.",
          "Renovable",
          "No-Renovable",
          "No-Renovable",
          "Renovable",
          "Renovable",
          "Renovable",
          "No-Renovable",
          "No-Renovable",
          "Renovable",
          "No-Renovable",
          "Renovable",
          "Demanda en b.c.",
          "Renovable",
          "Renovable",
          "No-Renovable",
          "No-Renovable",
          "No-Renovable",
          "",
          "",
          ""
         ],
         "type": "sunburst",
         "values": [
          0.09367992981296387,
          0.09177566576772092,
          0.09747916541955905,
          0.07832581669507133,
          0.08067116697726642,
          0.07610838821568769,
          0.08327775556044023,
          0.07188467641827591,
          0.08199336602341498,
          0.06451826993690497,
          0.0753986605055855,
          0.06483666082965729,
          0.05680135988735722,
          0.06067575595803195,
          0.05554960224733986,
          0.05215249069277672,
          0.051496863653764706,
          0.054479933439574,
          0.051781317536021894,
          0.049437273761447895,
          0.0444420627980012,
          0.05060727156864037,
          0.03999583456041921,
          0.05117363822252664,
          0.051585774396674874,
          0.039266326451111624,
          0.04307228504818449,
          0.043878053128674314,
          0.04219061769087531,
          0.04252524974526269,
          0.03891848157508852,
          0.035446346076026904,
          0.03512922584152288,
          0.041336510155552515,
          0.03857909709605541,
          0.043950663938449264,
          0.03324056823331869,
          0.03353137170798145,
          0.03694577089716396,
          0.03205257570052361,
          0.031162545737895394,
          0.031239883926711773,
          0.02798117702357773,
          0.03175710494099933,
          0.029547099520745374,
          0.031695746000488176,
          0.03204700815841474,
          0.027129735202967745,
          0.025861591278860976,
          0.023365519150164278,
          0.02140784043398409,
          0.02026612489381606,
          0.01583365627767487,
          0.01858350380610364,
          0.016246920996535002,
          0.013673526379328641,
          0.016311477375770503,
          0.014764921716221692,
          0.00920624647325647,
          0.006070828663430936,
          0.0022414264397902384,
          0.0006858729886747929,
          3.1988167602394415e-9,
          2.8534065169710447e-9,
          0.000004344070285785788,
          0.000012313700404388166,
          0.00004439347547474078,
          0.000028337393802486344,
          0.000053316165733143994,
          0.000043627706094487086,
          0.000034259908495051735,
          0.00003677145619988733,
          0.00007276455304599207,
          0.00008943212765157242,
          0.00008575171104900653,
          0.0001342100272438379,
          0.00013202110363382872,
          0.00013260246688085847,
          0.0002141877794402056,
          0.0001753782166965553,
          0.00013646287601180244,
          0.0001848347811546174,
          0.00021585892701258568,
          0.0002681569708597646,
          0.00032396038369465513,
          0.00033920973752843723,
          0.00029809996609280224,
          0.0003062467125675392,
          0.00031673956567831774,
          0.0002813573431960005,
          0.0003181501616341484,
          0.00039184354282102783,
          0.00035286784489234357,
          0.00043649438687185047,
          0.0005070401364735848,
          0.0027857049707838218,
          0.003464023251381279,
          0.003337107981159029,
          0.003651960973850814,
          0.004656799819076428,
          0.0042393962243834245,
          0.0030303709761255056,
          0.00431461521913186,
          0.004537100304309169,
          0.004613447193115841,
          0.004203619773609618,
          0.004975005324216204,
          0.00418369266196038,
          0.0044665904802716734,
          0.004563581830304945,
          0.004960251171794086,
          0.005243688490380896,
          0.005590437701566541,
          0.004957550525587453,
          0.004314592018550082,
          0.003994978852879979,
          0.005144188369158784,
          0.0051527249056169165,
          0.005125681149331951,
          0.004110765715725988,
          0.005730181326259189,
          0.0061534103843695,
          0.004025488254839649,
          0.005093408856850563,
          0.004741646056424488,
          0.005697853916533961,
          0.005534978040083576,
          0.004335858540800198,
          0.005215446158428852,
          0.004040713909901015,
          0.005193002057576528,
          0.005256025544190538,
          0.004858505580104297,
          0.005833618378208594,
          0.006796429056953554,
          0.00817885987637677,
          0.005858915222298623,
          0.006304859309925257,
          0.006176861745066314,
          0.0060082614652779195,
          0.006805027599877788,
          0.006897938191355252,
          0.006032477049005484,
          0.006208327604247645,
          0.006416504060142765,
          0.006922209274100994,
          0.007431602066228881,
          0.006236998039988155,
          0.006685254241727733,
          0.008064280129166114,
          0.0066305212170622635,
          0.007867403966133692,
          0.008091121791017513,
          0.004734822195766815,
          0.004728485600337115,
          0.008880138007689456,
          0.006825583293604135,
          0.005848933603393376,
          0.006926361195034719,
          0.005922986096509892,
          0.007897382764433343,
          0.005192780243768928,
          0.005323289359223048,
          0.0065354352990015215,
          0.005932247989922384,
          0.00870898117439626,
          0.0053152340410217176,
          0.006098628674646004,
          0.006761881743036039,
          0.009636524673375418,
          0.008465640301136966,
          0.007883185683280572,
          0.009614640508466082,
          0.006347273158027634,
          0.008931034458961764,
          0.006299233069279304,
          0.006350656197913249,
          0.007440838251237238,
          0.006937484552641573,
          0.010478543466898041,
          0.009992412465905084,
          0.00894244197275235,
          0.009302607301525111,
          0.009179692855081958,
          0.009142112447774624,
          0.008286662879029285,
          0.010825482183743003,
          0.005906719951098547,
          0.010012171473473367,
          0.007320525805325766,
          0.011563591626028696,
          0.01170108764677521,
          0.010885754868588567,
          0.009188625268145666,
          0.009550283130545678,
          0.0070109439357298586,
          0.009824980157329731,
          0.011994194424419386,
          0.011985981017459093,
          0.013829692586836298,
          0.013654430975128357,
          0.013879075989567466,
          0.009581340197498608,
          0.011198123792280537,
          0.012033214520239475,
          0.013951930998530277,
          0.011533136260373009,
          0.016067155432784783,
          0.01387548702563528,
          0.013663963315985735,
          0.014374278953829834,
          0.013320309628124805,
          0.012507263935651587,
          0.014033459473007742,
          0.012042648628003224,
          0.014268577656447803,
          0.008550387889723291,
          0.011745242308799616,
          0.010545442429381928,
          0.01474046701512776,
          0.012326580141567373,
          0.014619577840154274,
          0.014986675707170976,
          0.01403218606804707,
          0.013788257339381757,
          0.013730165146107262,
          0.014983682383563018,
          0.014170505384156562,
          0.014657168937983222,
          0.014329363572978843,
          0.013541297702589343,
          0.01997143981989891,
          0.019542515707792578,
          0.019491465467885292,
          0.022156427473233528,
          0.016810066805546958,
          0.02095836393722123,
          0.018199215496413023,
          0.018522989305162975,
          0.022424465098269234,
          0.025923233699183732,
          0.018830232113740686,
          0.019828276242738238,
          0.02233665026294692,
          0.01878533783922487,
          0.0187713681803345,
          0.01926433889328391,
          0.020397871533652783,
          0.02254011598075481,
          0.019532693026530275,
          0.023187669369746082,
          0.01674411338813275,
          0.020957145913478657,
          0.024980589851274097,
          0.02472076921026541,
          0.019602825947964128,
          0.020416518528659108,
          0.02449041166547547,
          0.027933132278439615,
          0.02574682260926553,
          0.02509598638402402,
          0.028003715598304717,
          0.023970962937261687,
          0.02414779895283653,
          0.02260935859981249,
          0.021785993234042768,
          0.022057505606339584,
          0.02231615281385502,
          0.022287663004568362,
          0.025222129554455516,
          0.026165866263717606,
          0.02537395179553,
          0.01929690115084482,
          0.029680758410725018,
          0.017263081980592173,
          0.0194346975133328,
          0.030227259219229197,
          0.016405628192877462,
          0.030530865222584504,
          0.01654989562380696,
          0.02375767260273044,
          0.017744547180555976,
          0.033875201526031566,
          0.03239773840221739,
          0.026126554484222107,
          0.028784865523552947,
          0.057129975995993246,
          0.025852098997777524,
          0.02115458295239132,
          0.025238777266114745,
          0.030487660578932953,
          0.022365402980656833,
          0.02522062636342025,
          0.027615133620653327,
          0.018902367206356376,
          0.025623814114817768,
          0.03138660874165654,
          0.030066085606695932,
          0.03422167613755936,
          0.020589604961040602,
          0.030760150009797236,
          0.028193999968074014,
          0.027739475158886324,
          0.022635320772322054,
          0.022466527903473303,
          0.028108099813627444,
          0.024957071907202286,
          0.026693245142616548,
          0.02547002592938902,
          0.022808122024265312,
          0.025043024575973117,
          0.024317757328760646,
          0.035733337192991745,
          0.023284196517066615,
          0.02095835606113344,
          0.03850389192780657,
          0.023867333286026797,
          0.022142672293447713,
          0.02626876939040789,
          0.023759465438208997,
          0.024815854554458165,
          0.02435595572918604,
          0.026907260801381765,
          0.026595104204363715,
          0.03445770309563429,
          0.027671632335502367,
          0.022458279680928308,
          0.022950302589106516,
          0.03128791062649133,
          0.036297894490640484,
          0.03359798028507111,
          0.03221380146072506,
          0.032400888249607795,
          0.030015081007239153,
          0.030064424509718173,
          0.03977739383966737,
          0.03318698808690964,
          0.03913052323452693,
          0.04199310085317813,
          0.03388639697294278,
          0.036965543511116514,
          0.033503714605505525,
          0.04110853708471734,
          0.037122903707961605,
          0.036138278340782405,
          0.045749863941422504,
          0.03700824241433835,
          0.04319938867591157,
          0.031391559835990596,
          0.049725676738246884,
          0.03958998448165484,
          0.03237102643234087,
          0.05247786002236839,
          0.050942427893397584,
          0.04715090191814879,
          0.05517141960408998,
          0.047752369400006024,
          0.05108619646008714,
          0.04074087064609384,
          0.05076189593434132,
          0.060937648012750215,
          0.05621963740792447,
          0.0485051557385395,
          0.0616515216203229,
          0.06040975733376034,
          0.04273040423826677,
          0.042685180265698536,
          0.055134820581776794,
          0.05458416825173581,
          0.0726121374575948,
          0.05750566785054793,
          0.05640377900167343,
          0.07975283850880145,
          0.06586451256276764,
          0.09749402005800104,
          0.09408476141656526,
          0.093878672815205,
          0.0885877935586896,
          0.08953177488313459,
          0.0901983133886987,
          0.09330659589443098,
          0.08952190351950566,
          0.05943556122443905,
          0.09924348131141107,
          0.0976480089252405,
          0.06335216684224187,
          0.07864734013141271,
          0.11717472366470592,
          0.1160513520267755,
          0.06960271395441223,
          0.08029597655080292,
          0.10876657741936249,
          0.13249515986383822,
          0.11565828698493578,
          0.08241827262200777,
          0.12791211088277782,
          0.13625264444085744,
          0.12545444284855978,
          0.13247796981174273,
          0.13704378105280093,
          0.13010589075908655,
          0.1323678671998914,
          0.13759062481577458,
          0.13714755182814173,
          0.13846466432288684,
          0.11706032563144847,
          0.11791413511654514,
          0.13977776502233205,
          0.1349097385135435,
          0.14437545815118427,
          0.144811780156685,
          0.14279409126982837,
          0.12392764684471097,
          0.121602141383431,
          0.2053911922249131,
          0.14587234199402338,
          0.19840991164179964,
          0.17949546191607382,
          0.12946390113619322,
          0.1330444825387354,
          0.2050821972017012,
          0.188631978145516,
          0.1382617673485177,
          0.13570886151127295,
          0.11907419496253181,
          0.19792934735534884,
          0.15250162393679917,
          0.20553333799865287,
          0.22223102033631265,
          0.1244803352817143,
          0.19838005660363683,
          0.19216677903087626,
          0.2004356779864291,
          0.1402739025246812,
          0.21137140334323834,
          0.23921587570226915,
          0.22136725122371453,
          0.21908188271395082,
          0.22830465659185276,
          0.13664060598681244,
          0.1724561136109803,
          0.21943380207069946,
          0.273899467166021,
          0.2427530550711287,
          0.23845892383484066,
          0.23156093812192702,
          0.2041879477674877,
          0.16473510171876435,
          0.17651117237070058,
          0.265759619624578,
          0.2381187593045791,
          0.2185098915205496,
          0.28230706706341097,
          0.20645188115447635,
          0.18163423658196762,
          0.29780780016332004,
          0.27471336090189097,
          0.2583510417793754,
          0.27255447437631386,
          0.2393665382058037,
          0.3059063467690442,
          0.31409930994562335,
          0.31673755737746534,
          0.2746637016927284,
          0.32612113865515485,
          0.29480011319843796,
          0.27583751373059157,
          0.3259278598820587,
          0.2739851070846534,
          0.1976662733076474,
          0.23882845816575485,
          0.2847262533524637,
          0.28225416425497857,
          0.28852601695333946,
          0.34603634653913934,
          0.3438534735191961,
          0.26363501115404375,
          0.3043747370619531,
          0.31581596804255463,
          0.3126896051346922,
          0.3138891300030864,
          0.31823237554264117,
          0.45563640116840926,
          0.4063873048967647,
          0.37509143197657896,
          0.3854880604974675,
          0.338392657048894,
          0.33993063993735084,
          0.2923895438307371,
          0.3572506058529076,
          0.2859534901748317,
          0.3655773432675451,
          0.3647852638008182,
          0.41337698632140985,
          0.3380705963991305,
          0.40890042047697434,
          0.3614854865725995,
          0.4358537107072895,
          0.5312892440061192,
          0.5360152416322472,
          0.3081497715493707,
          0.5640879017880044,
          0.3975217343687118,
          0.31749501003630554,
          0.35766292408665923,
          0.39873282022613105,
          0.4809362365424328,
          0.37747195928313165,
          0.3840194958098733,
          0.3820515371360584,
          0.33394260594695957,
          0.6110568729247436,
          0.3938657991673299,
          0.4621484438259798,
          0.5713585933567032,
          0.47397223226064,
          0.46557742991845974,
          0.48435400719228305,
          0.5645191790488666,
          0.46905207603154725,
          0.4035874324072524,
          0.4005483401876579,
          0.47500946482075196,
          0.47226611847424793,
          0.5764437035209695,
          0.5698710957808198,
          0.5286486849520048,
          0.5501250886595773,
          0.5531402287565906,
          0.5336773099899765,
          0.5323026497618242,
          0.4526175264966402,
          0.5592285718999924,
          0.47328235281580844,
          0.474903208674386,
          0.4973025460338715,
          0.4633363386414235,
          0.501996134349825,
          0.5605872659047061,
          0.4673482312510491,
          0.43460703192126254,
          0.41029081531836253,
          0.44430277346946706,
          0.4119244061972437,
          0.44003129071794594,
          0.4822805904773866,
          0.4499842002940504,
          0.5466740710613108,
          0.5423203591389699,
          0.5047196674369734,
          0.5293014420382739,
          1,
          0.5708609934046169,
          0.539752072985126,
          1,
          0.5698086182994903,
          1,
          0.6462472507221675,
          1,
          1,
          1,
          1,
          1,
          1,
          0.6529541945421603,
          1,
          1,
          1,
          1,
          1,
          1,
          1,
          1,
          1,
          1,
          1,
          0.6704670260355112,
          1,
          1,
          1,
          1,
          1,
          1,
          1,
          1,
          1,
          1,
          1,
          1,
          0.702816491913024,
          1,
          1,
          0.7117976284832352,
          1,
          1,
          1,
          1,
          1,
          1,
          1,
          1,
          1,
          1,
          1,
          1,
          1,
          1,
          1,
          1,
          1,
          1,
          1,
          1,
          1,
          1,
          1,
          1,
          1,
          1,
          1,
          1,
          1,
          1,
          1,
          1,
          1,
          1,
          1,
          1,
          1,
          1,
          1,
          1,
          1,
          1,
          1,
          1,
          1,
          1,
          1,
          1,
          1,
          1,
          1,
          1,
          1,
          1,
          1,
          1,
          1,
          1,
          1,
          0.8823056350731945,
          7.91756788209413,
          3.7349283642169775,
          0.9010579829741668,
          31,
          14.069521114819201,
          6.052223277210486e-9,
          31,
          31,
          0.005971035198621306,
          4.834177072584137,
          0.7097325883852272,
          15.77965351536497,
          0.7691276641199217,
          0.4026198445682004,
          0.188979486912602,
          1.756213618582162,
          10.153142628509249,
          0.9790809978562692,
          0.1849164612217822,
          0.21777920434957118,
          1.1704964986737236,
          33.65727160155633,
          62,
          62
         ]
        }
       ],
       "layout": {
        "legend": {
         "tracegroupgap": 0
        },
        "margin": {
         "t": 60
        },
        "template": {
         "data": {
          "bar": [
           {
            "error_x": {
             "color": "#2a3f5f"
            },
            "error_y": {
             "color": "#2a3f5f"
            },
            "marker": {
             "line": {
              "color": "#E5ECF6",
              "width": 0.5
             },
             "pattern": {
              "fillmode": "overlay",
              "size": 10,
              "solidity": 0.2
             }
            },
            "type": "bar"
           }
          ],
          "barpolar": [
           {
            "marker": {
             "line": {
              "color": "#E5ECF6",
              "width": 0.5
             },
             "pattern": {
              "fillmode": "overlay",
              "size": 10,
              "solidity": 0.2
             }
            },
            "type": "barpolar"
           }
          ],
          "carpet": [
           {
            "aaxis": {
             "endlinecolor": "#2a3f5f",
             "gridcolor": "white",
             "linecolor": "white",
             "minorgridcolor": "white",
             "startlinecolor": "#2a3f5f"
            },
            "baxis": {
             "endlinecolor": "#2a3f5f",
             "gridcolor": "white",
             "linecolor": "white",
             "minorgridcolor": "white",
             "startlinecolor": "#2a3f5f"
            },
            "type": "carpet"
           }
          ],
          "choropleth": [
           {
            "colorbar": {
             "outlinewidth": 0,
             "ticks": ""
            },
            "type": "choropleth"
           }
          ],
          "contour": [
           {
            "colorbar": {
             "outlinewidth": 0,
             "ticks": ""
            },
            "colorscale": [
             [
              0,
              "#0d0887"
             ],
             [
              0.1111111111111111,
              "#46039f"
             ],
             [
              0.2222222222222222,
              "#7201a8"
             ],
             [
              0.3333333333333333,
              "#9c179e"
             ],
             [
              0.4444444444444444,
              "#bd3786"
             ],
             [
              0.5555555555555556,
              "#d8576b"
             ],
             [
              0.6666666666666666,
              "#ed7953"
             ],
             [
              0.7777777777777778,
              "#fb9f3a"
             ],
             [
              0.8888888888888888,
              "#fdca26"
             ],
             [
              1,
              "#f0f921"
             ]
            ],
            "type": "contour"
           }
          ],
          "contourcarpet": [
           {
            "colorbar": {
             "outlinewidth": 0,
             "ticks": ""
            },
            "type": "contourcarpet"
           }
          ],
          "heatmap": [
           {
            "colorbar": {
             "outlinewidth": 0,
             "ticks": ""
            },
            "colorscale": [
             [
              0,
              "#0d0887"
             ],
             [
              0.1111111111111111,
              "#46039f"
             ],
             [
              0.2222222222222222,
              "#7201a8"
             ],
             [
              0.3333333333333333,
              "#9c179e"
             ],
             [
              0.4444444444444444,
              "#bd3786"
             ],
             [
              0.5555555555555556,
              "#d8576b"
             ],
             [
              0.6666666666666666,
              "#ed7953"
             ],
             [
              0.7777777777777778,
              "#fb9f3a"
             ],
             [
              0.8888888888888888,
              "#fdca26"
             ],
             [
              1,
              "#f0f921"
             ]
            ],
            "type": "heatmap"
           }
          ],
          "heatmapgl": [
           {
            "colorbar": {
             "outlinewidth": 0,
             "ticks": ""
            },
            "colorscale": [
             [
              0,
              "#0d0887"
             ],
             [
              0.1111111111111111,
              "#46039f"
             ],
             [
              0.2222222222222222,
              "#7201a8"
             ],
             [
              0.3333333333333333,
              "#9c179e"
             ],
             [
              0.4444444444444444,
              "#bd3786"
             ],
             [
              0.5555555555555556,
              "#d8576b"
             ],
             [
              0.6666666666666666,
              "#ed7953"
             ],
             [
              0.7777777777777778,
              "#fb9f3a"
             ],
             [
              0.8888888888888888,
              "#fdca26"
             ],
             [
              1,
              "#f0f921"
             ]
            ],
            "type": "heatmapgl"
           }
          ],
          "histogram": [
           {
            "marker": {
             "pattern": {
              "fillmode": "overlay",
              "size": 10,
              "solidity": 0.2
             }
            },
            "type": "histogram"
           }
          ],
          "histogram2d": [
           {
            "colorbar": {
             "outlinewidth": 0,
             "ticks": ""
            },
            "colorscale": [
             [
              0,
              "#0d0887"
             ],
             [
              0.1111111111111111,
              "#46039f"
             ],
             [
              0.2222222222222222,
              "#7201a8"
             ],
             [
              0.3333333333333333,
              "#9c179e"
             ],
             [
              0.4444444444444444,
              "#bd3786"
             ],
             [
              0.5555555555555556,
              "#d8576b"
             ],
             [
              0.6666666666666666,
              "#ed7953"
             ],
             [
              0.7777777777777778,
              "#fb9f3a"
             ],
             [
              0.8888888888888888,
              "#fdca26"
             ],
             [
              1,
              "#f0f921"
             ]
            ],
            "type": "histogram2d"
           }
          ],
          "histogram2dcontour": [
           {
            "colorbar": {
             "outlinewidth": 0,
             "ticks": ""
            },
            "colorscale": [
             [
              0,
              "#0d0887"
             ],
             [
              0.1111111111111111,
              "#46039f"
             ],
             [
              0.2222222222222222,
              "#7201a8"
             ],
             [
              0.3333333333333333,
              "#9c179e"
             ],
             [
              0.4444444444444444,
              "#bd3786"
             ],
             [
              0.5555555555555556,
              "#d8576b"
             ],
             [
              0.6666666666666666,
              "#ed7953"
             ],
             [
              0.7777777777777778,
              "#fb9f3a"
             ],
             [
              0.8888888888888888,
              "#fdca26"
             ],
             [
              1,
              "#f0f921"
             ]
            ],
            "type": "histogram2dcontour"
           }
          ],
          "mesh3d": [
           {
            "colorbar": {
             "outlinewidth": 0,
             "ticks": ""
            },
            "type": "mesh3d"
           }
          ],
          "parcoords": [
           {
            "line": {
             "colorbar": {
              "outlinewidth": 0,
              "ticks": ""
             }
            },
            "type": "parcoords"
           }
          ],
          "pie": [
           {
            "automargin": true,
            "type": "pie"
           }
          ],
          "scatter": [
           {
            "fillpattern": {
             "fillmode": "overlay",
             "size": 10,
             "solidity": 0.2
            },
            "type": "scatter"
           }
          ],
          "scatter3d": [
           {
            "line": {
             "colorbar": {
              "outlinewidth": 0,
              "ticks": ""
             }
            },
            "marker": {
             "colorbar": {
              "outlinewidth": 0,
              "ticks": ""
             }
            },
            "type": "scatter3d"
           }
          ],
          "scattercarpet": [
           {
            "marker": {
             "colorbar": {
              "outlinewidth": 0,
              "ticks": ""
             }
            },
            "type": "scattercarpet"
           }
          ],
          "scattergeo": [
           {
            "marker": {
             "colorbar": {
              "outlinewidth": 0,
              "ticks": ""
             }
            },
            "type": "scattergeo"
           }
          ],
          "scattergl": [
           {
            "marker": {
             "colorbar": {
              "outlinewidth": 0,
              "ticks": ""
             }
            },
            "type": "scattergl"
           }
          ],
          "scattermapbox": [
           {
            "marker": {
             "colorbar": {
              "outlinewidth": 0,
              "ticks": ""
             }
            },
            "type": "scattermapbox"
           }
          ],
          "scatterpolar": [
           {
            "marker": {
             "colorbar": {
              "outlinewidth": 0,
              "ticks": ""
             }
            },
            "type": "scatterpolar"
           }
          ],
          "scatterpolargl": [
           {
            "marker": {
             "colorbar": {
              "outlinewidth": 0,
              "ticks": ""
             }
            },
            "type": "scatterpolargl"
           }
          ],
          "scatterternary": [
           {
            "marker": {
             "colorbar": {
              "outlinewidth": 0,
              "ticks": ""
             }
            },
            "type": "scatterternary"
           }
          ],
          "surface": [
           {
            "colorbar": {
             "outlinewidth": 0,
             "ticks": ""
            },
            "colorscale": [
             [
              0,
              "#0d0887"
             ],
             [
              0.1111111111111111,
              "#46039f"
             ],
             [
              0.2222222222222222,
              "#7201a8"
             ],
             [
              0.3333333333333333,
              "#9c179e"
             ],
             [
              0.4444444444444444,
              "#bd3786"
             ],
             [
              0.5555555555555556,
              "#d8576b"
             ],
             [
              0.6666666666666666,
              "#ed7953"
             ],
             [
              0.7777777777777778,
              "#fb9f3a"
             ],
             [
              0.8888888888888888,
              "#fdca26"
             ],
             [
              1,
              "#f0f921"
             ]
            ],
            "type": "surface"
           }
          ],
          "table": [
           {
            "cells": {
             "fill": {
              "color": "#EBF0F8"
             },
             "line": {
              "color": "white"
             }
            },
            "header": {
             "fill": {
              "color": "#C8D4E3"
             },
             "line": {
              "color": "white"
             }
            },
            "type": "table"
           }
          ]
         },
         "layout": {
          "annotationdefaults": {
           "arrowcolor": "#2a3f5f",
           "arrowhead": 0,
           "arrowwidth": 1
          },
          "autotypenumbers": "strict",
          "coloraxis": {
           "colorbar": {
            "outlinewidth": 0,
            "ticks": ""
           }
          },
          "colorscale": {
           "diverging": [
            [
             0,
             "#8e0152"
            ],
            [
             0.1,
             "#c51b7d"
            ],
            [
             0.2,
             "#de77ae"
            ],
            [
             0.3,
             "#f1b6da"
            ],
            [
             0.4,
             "#fde0ef"
            ],
            [
             0.5,
             "#f7f7f7"
            ],
            [
             0.6,
             "#e6f5d0"
            ],
            [
             0.7,
             "#b8e186"
            ],
            [
             0.8,
             "#7fbc41"
            ],
            [
             0.9,
             "#4d9221"
            ],
            [
             1,
             "#276419"
            ]
           ],
           "sequential": [
            [
             0,
             "#0d0887"
            ],
            [
             0.1111111111111111,
             "#46039f"
            ],
            [
             0.2222222222222222,
             "#7201a8"
            ],
            [
             0.3333333333333333,
             "#9c179e"
            ],
            [
             0.4444444444444444,
             "#bd3786"
            ],
            [
             0.5555555555555556,
             "#d8576b"
            ],
            [
             0.6666666666666666,
             "#ed7953"
            ],
            [
             0.7777777777777778,
             "#fb9f3a"
            ],
            [
             0.8888888888888888,
             "#fdca26"
            ],
            [
             1,
             "#f0f921"
            ]
           ],
           "sequentialminus": [
            [
             0,
             "#0d0887"
            ],
            [
             0.1111111111111111,
             "#46039f"
            ],
            [
             0.2222222222222222,
             "#7201a8"
            ],
            [
             0.3333333333333333,
             "#9c179e"
            ],
            [
             0.4444444444444444,
             "#bd3786"
            ],
            [
             0.5555555555555556,
             "#d8576b"
            ],
            [
             0.6666666666666666,
             "#ed7953"
            ],
            [
             0.7777777777777778,
             "#fb9f3a"
            ],
            [
             0.8888888888888888,
             "#fdca26"
            ],
            [
             1,
             "#f0f921"
            ]
           ]
          },
          "colorway": [
           "#636efa",
           "#EF553B",
           "#00cc96",
           "#ab63fa",
           "#FFA15A",
           "#19d3f3",
           "#FF6692",
           "#B6E880",
           "#FF97FF",
           "#FECB52"
          ],
          "font": {
           "color": "#2a3f5f"
          },
          "geo": {
           "bgcolor": "white",
           "lakecolor": "white",
           "landcolor": "#E5ECF6",
           "showlakes": true,
           "showland": true,
           "subunitcolor": "white"
          },
          "hoverlabel": {
           "align": "left"
          },
          "hovermode": "closest",
          "mapbox": {
           "style": "light"
          },
          "paper_bgcolor": "white",
          "plot_bgcolor": "#E5ECF6",
          "polar": {
           "angularaxis": {
            "gridcolor": "white",
            "linecolor": "white",
            "ticks": ""
           },
           "bgcolor": "#E5ECF6",
           "radialaxis": {
            "gridcolor": "white",
            "linecolor": "white",
            "ticks": ""
           }
          },
          "scene": {
           "xaxis": {
            "backgroundcolor": "#E5ECF6",
            "gridcolor": "white",
            "gridwidth": 2,
            "linecolor": "white",
            "showbackground": true,
            "ticks": "",
            "zerolinecolor": "white"
           },
           "yaxis": {
            "backgroundcolor": "#E5ECF6",
            "gridcolor": "white",
            "gridwidth": 2,
            "linecolor": "white",
            "showbackground": true,
            "ticks": "",
            "zerolinecolor": "white"
           },
           "zaxis": {
            "backgroundcolor": "#E5ECF6",
            "gridcolor": "white",
            "gridwidth": 2,
            "linecolor": "white",
            "showbackground": true,
            "ticks": "",
            "zerolinecolor": "white"
           }
          },
          "shapedefaults": {
           "line": {
            "color": "#2a3f5f"
           }
          },
          "ternary": {
           "aaxis": {
            "gridcolor": "white",
            "linecolor": "white",
            "ticks": ""
           },
           "baxis": {
            "gridcolor": "white",
            "linecolor": "white",
            "ticks": ""
           },
           "bgcolor": "#E5ECF6",
           "caxis": {
            "gridcolor": "white",
            "linecolor": "white",
            "ticks": ""
           }
          },
          "title": {
           "x": 0.05
          },
          "xaxis": {
           "automargin": true,
           "gridcolor": "white",
           "linecolor": "white",
           "ticks": "",
           "title": {
            "standoff": 15
           },
           "zerolinecolor": "white",
           "zerolinewidth": 2
          },
          "yaxis": {
           "automargin": true,
           "gridcolor": "white",
           "linecolor": "white",
           "ticks": "",
           "title": {
            "standoff": 15
           },
           "zerolinecolor": "white",
           "zerolinewidth": 2
          }
         }
        }
       }
      }
     },
     "metadata": {},
     "output_type": "display_data"
    }
   ],
   "source": [
    "px.sunburst(data_frame = df_balance,\n",
    "                  values     = 'Porcentaje',\n",
    "                  path       = [\"tipo de energía\", \"nombre\", \"Valores\"],\n",
    "                  hover_name = \"Fecha actualización\")\n",
    "\n"
   ]
  },
  {
   "cell_type": "code",
   "execution_count": 113,
   "metadata": {},
   "outputs": [
    {
     "data": {
      "application/vnd.plotly.v1+json": {
       "config": {
        "plotlyServerURL": "https://plot.ly"
       },
       "data": [
        {
         "branchvalues": "total",
         "domain": {
          "x": [
           0,
           1
          ],
          "y": [
           0,
           1
          ]
         },
         "hovertemplate": "<b>%{hovertext}</b><br><br>labels=%{label}<br>Porcentaje=%{value}<br>parent=%{parent}<br>id=%{id}<extra></extra>",
         "hovertext": [
          "03/10/2024",
          "16/09/2024",
          "15/09/2024",
          "13/09/2024",
          "04/10/2024",
          "02/10/2024",
          "06/10/2024",
          "09/09/2024",
          "29/09/2024",
          "26/09/2024",
          "05/10/2024",
          "17/09/2024",
          "10/09/2024",
          "14/09/2024",
          "11/09/2024",
          "12/09/2024",
          "08/10/2024",
          "14/09/2024",
          "15/09/2024",
          "09/10/2024",
          "13/09/2024",
          "07/10/2024",
          "16/09/2024",
          "21/09/2024",
          "28/09/2024",
          "26/09/2024",
          "27/09/2024",
          "06/10/2024",
          "18/09/2024",
          "01/10/2024",
          "27/09/2024",
          "10/09/2024",
          "09/09/2024",
          "29/09/2024",
          "19/09/2024",
          "22/09/2024",
          "17/09/2024",
          "08/10/2024",
          "20/09/2024",
          "12/09/2024",
          "11/09/2024",
          "09/10/2024",
          "03/10/2024",
          "25/09/2024",
          "25/09/2024",
          "28/09/2024",
          "22/09/2024",
          "30/09/2024",
          "23/09/2024",
          "30/09/2024",
          "07/10/2024",
          "05/10/2024",
          "04/10/2024",
          "21/09/2024",
          "18/09/2024",
          "02/10/2024",
          "23/09/2024",
          "01/10/2024",
          "24/09/2024",
          "20/09/2024",
          "19/09/2024",
          "24/09/2024",
          "16/09/2024",
          "18/09/2024",
          "06/10/2024",
          "07/10/2024",
          "20/09/2024",
          "08/10/2024",
          "19/09/2024",
          "18/09/2024",
          "09/10/2024",
          "17/09/2024",
          "21/09/2024",
          "16/09/2024",
          "26/09/2024",
          "29/09/2024",
          "05/10/2024",
          "25/09/2024",
          "22/09/2024",
          "28/09/2024",
          "27/09/2024",
          "09/09/2024",
          "15/09/2024",
          "24/09/2024",
          "23/09/2024",
          "30/09/2024",
          "14/09/2024",
          "10/09/2024",
          "11/09/2024",
          "13/09/2024",
          "12/09/2024",
          "04/10/2024",
          "03/10/2024",
          "02/10/2024",
          "01/10/2024",
          "04/10/2024",
          "14/09/2024",
          "13/09/2024",
          "05/10/2024",
          "06/10/2024",
          "29/09/2024",
          "25/09/2024",
          "15/09/2024",
          "14/09/2024",
          "15/09/2024",
          "22/09/2024",
          "28/09/2024",
          "02/10/2024",
          "10/09/2024",
          "12/09/2024",
          "11/09/2024",
          "03/10/2024",
          "16/09/2024",
          "30/09/2024",
          "20/09/2024",
          "07/10/2024",
          "01/10/2024",
          "09/09/2024",
          "24/09/2024",
          "07/10/2024",
          "30/09/2024",
          "24/09/2024",
          "03/10/2024",
          "04/10/2024",
          "06/10/2024",
          "29/09/2024",
          "18/09/2024",
          "27/09/2024",
          "01/10/2024",
          "08/10/2024",
          "05/10/2024",
          "04/10/2024",
          "02/10/2024",
          "21/09/2024",
          "17/09/2024",
          "09/10/2024",
          "10/09/2024",
          "03/10/2024",
          "11/09/2024",
          "09/09/2024",
          "13/09/2024",
          "25/09/2024",
          "24/09/2024",
          "12/09/2024",
          "28/09/2024",
          "25/09/2024",
          "29/09/2024",
          "02/10/2024",
          "22/09/2024",
          "05/10/2024",
          "23/09/2024",
          "28/09/2024",
          "27/09/2024",
          "09/10/2024",
          "26/09/2024",
          "07/10/2024",
          "01/10/2024",
          "19/09/2024",
          "23/09/2024",
          "25/09/2024",
          "16/09/2024",
          "16/09/2024",
          "17/09/2024",
          "14/09/2024",
          "12/09/2024",
          "26/09/2024",
          "13/09/2024",
          "10/09/2024",
          "15/09/2024",
          "06/10/2024",
          "24/09/2024",
          "23/09/2024",
          "22/09/2024",
          "09/09/2024",
          "26/09/2024",
          "11/09/2024",
          "20/09/2024",
          "30/09/2024",
          "18/09/2024",
          "09/10/2024",
          "08/10/2024",
          "21/09/2024",
          "27/09/2024",
          "20/09/2024",
          "19/09/2024",
          "21/09/2024",
          "07/10/2024",
          "09/10/2024",
          "17/09/2024",
          "19/09/2024",
          "06/10/2024",
          "08/10/2024",
          "29/09/2024",
          "18/09/2024",
          "18/09/2024",
          "08/10/2024",
          "30/09/2024",
          "27/09/2024",
          "28/09/2024",
          "06/10/2024",
          "07/10/2024",
          "08/10/2024",
          "19/09/2024",
          "02/10/2024",
          "22/09/2024",
          "26/09/2024",
          "21/09/2024",
          "09/10/2024",
          "20/09/2024",
          "17/09/2024",
          "05/10/2024",
          "16/09/2024",
          "03/10/2024",
          "19/09/2024",
          "01/10/2024",
          "15/09/2024",
          "26/09/2024",
          "04/10/2024",
          "20/09/2024",
          "14/09/2024",
          "02/10/2024",
          "25/09/2024",
          "13/09/2024",
          "12/09/2024",
          "10/09/2024",
          "24/09/2024",
          "03/10/2024",
          "09/09/2024",
          "11/09/2024",
          "23/09/2024",
          "20/09/2024",
          "05/10/2024",
          "14/09/2024",
          "15/09/2024",
          "06/10/2024",
          "21/09/2024",
          "29/09/2024",
          "30/09/2024",
          "01/10/2024",
          "29/09/2024",
          "09/10/2024",
          "21/09/2024",
          "22/09/2024",
          "28/09/2024",
          "02/10/2024",
          "24/09/2024",
          "23/09/2024",
          "03/10/2024",
          "15/09/2024",
          "12/09/2024",
          "14/09/2024",
          "02/10/2024",
          "11/09/2024",
          "05/10/2024",
          "27/09/2024",
          "04/10/2024",
          "10/09/2024",
          "21/09/2024",
          "06/10/2024",
          "26/09/2024",
          "28/09/2024",
          "22/09/2024",
          "25/09/2024",
          "13/09/2024",
          "22/09/2024",
          "09/09/2024",
          "09/09/2024",
          "18/09/2024",
          "21/09/2024",
          "16/09/2024",
          "17/09/2024",
          "16/09/2024",
          "20/09/2024",
          "07/10/2024",
          "03/10/2024",
          "19/09/2024",
          "08/10/2024",
          "09/10/2024",
          "07/10/2024",
          "26/09/2024",
          "30/09/2024",
          "08/10/2024",
          "09/10/2024",
          "08/10/2024",
          "29/09/2024",
          "17/09/2024",
          "(?)",
          "28/09/2024",
          "25/09/2024",
          "18/09/2024",
          "26/09/2024",
          "06/10/2024",
          "01/10/2024",
          "30/09/2024",
          "16/09/2024",
          "01/10/2024",
          "05/10/2024",
          "24/09/2024",
          "22/09/2024",
          "27/09/2024",
          "21/09/2024",
          "23/09/2024",
          "22/09/2024",
          "20/09/2024",
          "19/09/2024",
          "03/10/2024",
          "15/09/2024",
          "23/09/2024",
          "04/10/2024",
          "11/09/2024",
          "04/10/2024",
          "06/10/2024",
          "07/10/2024",
          "19/09/2024",
          "17/09/2024",
          "09/10/2024",
          "10/09/2024",
          "07/10/2024",
          "18/09/2024",
          "12/09/2024",
          "09/09/2024",
          "02/10/2024",
          "05/10/2024",
          "14/09/2024",
          "20/09/2024",
          "01/10/2024",
          "13/09/2024",
          "03/10/2024",
          "18/09/2024",
          "19/09/2024",
          "23/09/2024",
          "23/09/2024",
          "30/09/2024",
          "18/09/2024",
          "04/10/2024",
          "27/09/2024",
          "10/09/2024",
          "13/09/2024",
          "29/09/2024",
          "04/10/2024",
          "11/09/2024",
          "05/10/2024",
          "25/09/2024",
          "12/09/2024",
          "24/09/2024",
          "26/09/2024",
          "24/09/2024",
          "25/09/2024",
          "27/09/2024",
          "27/09/2024",
          "01/10/2024",
          "17/09/2024",
          "28/09/2024",
          "13/09/2024",
          "09/09/2024",
          "17/09/2024",
          "12/09/2024",
          "28/09/2024",
          "12/09/2024",
          "10/09/2024",
          "16/09/2024",
          "11/09/2024",
          "11/09/2024",
          "30/09/2024",
          "29/09/2024",
          "13/09/2024",
          "16/09/2024",
          "15/09/2024",
          "14/09/2024",
          "15/09/2024",
          "09/09/2024",
          "10/09/2024",
          "14/09/2024",
          "15/09/2024",
          "09/10/2024",
          "06/10/2024",
          "08/10/2024",
          "27/09/2024",
          "26/09/2024",
          "17/09/2024",
          "28/09/2024",
          "16/09/2024",
          "16/09/2024",
          "29/09/2024",
          "15/09/2024",
          "17/09/2024",
          "14/09/2024",
          "07/10/2024",
          "14/09/2024",
          "26/09/2024",
          "27/09/2024",
          "29/09/2024",
          "05/10/2024",
          "03/10/2024",
          "13/09/2024",
          "13/09/2024",
          "25/09/2024",
          "30/09/2024",
          "28/09/2024",
          "22/09/2024",
          "10/09/2024",
          "09/09/2024",
          "11/09/2024",
          "18/09/2024",
          "12/09/2024",
          "25/09/2024",
          "11/09/2024",
          "21/09/2024",
          "04/10/2024",
          "23/09/2024",
          "01/10/2024",
          "02/10/2024",
          "10/09/2024",
          "12/09/2024",
          "09/10/2024",
          "24/09/2024",
          "22/09/2024",
          "14/09/2024",
          "19/09/2024",
          "09/09/2024",
          "06/10/2024",
          "05/10/2024",
          "06/10/2024",
          "20/09/2024",
          "08/10/2024",
          "27/09/2024",
          "18/09/2024",
          "26/09/2024",
          "07/10/2024",
          "09/10/2024",
          "25/09/2024",
          "30/09/2024",
          "13/09/2024",
          "07/10/2024",
          "15/09/2024",
          "08/10/2024",
          "28/09/2024",
          "17/09/2024",
          "29/09/2024",
          "09/10/2024",
          "02/10/2024",
          "23/09/2024",
          "22/09/2024",
          "24/09/2024",
          "16/09/2024",
          "30/09/2024",
          "01/10/2024",
          "03/10/2024",
          "07/10/2024",
          "21/09/2024",
          "11/09/2024",
          "05/10/2024",
          "20/09/2024",
          "25/09/2024",
          "08/10/2024",
          "19/09/2024",
          "23/09/2024",
          "12/09/2024",
          "22/09/2024",
          "04/10/2024",
          "24/09/2024",
          "20/09/2024",
          "19/09/2024",
          "23/09/2024",
          "21/09/2024",
          "03/10/2024",
          "10/09/2024",
          "19/09/2024",
          "24/09/2024",
          "26/09/2024",
          "02/10/2024",
          "18/09/2024",
          "09/09/2024",
          "01/10/2024",
          "20/09/2024",
          "21/09/2024",
          "06/10/2024",
          "21/09/2024",
          "30/09/2024",
          "02/10/2024",
          "04/10/2024",
          "05/10/2024",
          "22/09/2024",
          "24/09/2024",
          "28/09/2024",
          "29/09/2024",
          "04/10/2024",
          "18/09/2024",
          "27/09/2024",
          "01/10/2024",
          "03/10/2024",
          "01/10/2024",
          "15/09/2024",
          "29/09/2024",
          "09/09/2024",
          "28/09/2024",
          "04/10/2024",
          "23/09/2024",
          "07/10/2024",
          "08/10/2024",
          "17/09/2024",
          "09/10/2024",
          "05/10/2024",
          "13/09/2024",
          "12/09/2024",
          "14/09/2024",
          "30/09/2024",
          "10/09/2024",
          "20/09/2024",
          "19/09/2024",
          "16/09/2024",
          "06/10/2024",
          "11/09/2024",
          "30/09/2024",
          "26/09/2024",
          "12/09/2024",
          "10/09/2024",
          "11/09/2024",
          "29/09/2024",
          "09/09/2024",
          "20/09/2024",
          "19/09/2024",
          "18/09/2024",
          "21/09/2024",
          "05/10/2024",
          "27/09/2024",
          "25/09/2024",
          "17/09/2024",
          "15/09/2024",
          "16/09/2024",
          "13/09/2024",
          "04/10/2024",
          "14/09/2024",
          "01/10/2024",
          "23/09/2024",
          "22/09/2024",
          "24/09/2024",
          "03/10/2024",
          "28/09/2024",
          "02/10/2024",
          "14/09/2024",
          "11/09/2024",
          "18/09/2024",
          "10/09/2024",
          "09/09/2024",
          "15/09/2024",
          "12/09/2024",
          "06/10/2024",
          "02/10/2024",
          "03/10/2024",
          "13/09/2024",
          "09/10/2024",
          "27/09/2024",
          "16/09/2024",
          "06/10/2024",
          "17/09/2024",
          "08/10/2024",
          "25/09/2024",
          "22/09/2024",
          "07/10/2024",
          "05/10/2024",
          "26/09/2024",
          "27/09/2024",
          "29/09/2024",
          "07/10/2024",
          "20/09/2024",
          "14/09/2024",
          "28/09/2024",
          "21/09/2024",
          "15/09/2024",
          "19/09/2024",
          "17/09/2024",
          "24/09/2024",
          "16/09/2024",
          "13/09/2024",
          "25/09/2024",
          "08/10/2024",
          "30/09/2024",
          "23/09/2024",
          "03/10/2024",
          "29/09/2024",
          "22/09/2024",
          "28/09/2024",
          "11/09/2024",
          "18/09/2024",
          "12/09/2024",
          "23/09/2024",
          "21/09/2024",
          "01/10/2024",
          "26/09/2024",
          "30/09/2024",
          "09/09/2024",
          "09/10/2024",
          "10/09/2024",
          "02/10/2024",
          "24/09/2024",
          "04/10/2024",
          "01/10/2024",
          "15/09/2024",
          "05/10/2024",
          "18/09/2024",
          "04/10/2024",
          "14/09/2024",
          "06/10/2024",
          "09/09/2024",
          "11/09/2024",
          "20/09/2024",
          "25/09/2024",
          "19/09/2024",
          "10/09/2024",
          "02/10/2024",
          "12/09/2024",
          "27/09/2024",
          "07/10/2024",
          "17/09/2024",
          "03/10/2024",
          "13/09/2024",
          "16/09/2024",
          "08/10/2024",
          "09/10/2024",
          "26/09/2024",
          "29/09/2024",
          "22/09/2024",
          "15/09/2024",
          "06/10/2024",
          "28/09/2024",
          "14/09/2024",
          "05/10/2024",
          "21/09/2024",
          "30/09/2024",
          "23/09/2024",
          "24/09/2024",
          "07/10/2024",
          "16/09/2024",
          "09/09/2024",
          "04/10/2024",
          "27/09/2024",
          "20/09/2024",
          "13/09/2024",
          "01/10/2024",
          "25/09/2024",
          "08/10/2024",
          "11/09/2024",
          "17/09/2024",
          "19/09/2024",
          "09/10/2024",
          "03/10/2024",
          "18/09/2024",
          "10/09/2024",
          "02/10/2024",
          "26/09/2024",
          "12/09/2024",
          "(?)",
          "(?)",
          "(?)",
          "(?)",
          "(?)",
          "(?)",
          "(?)",
          "(?)",
          "(?)",
          "(?)",
          "(?)",
          "(?)",
          "(?)",
          "(?)",
          "(?)",
          "(?)",
          "(?)",
          "(?)",
          "(?)",
          "(?)",
          "(?)",
          "(?)",
          "(?)",
          "(?)",
          "(?)"
         ],
         "ids": [
          "Demanda en b.c./Saldo I. internacionales/-85294.7",
          "Demanda en b.c./Saldo I. internacionales/-83476.417",
          "Demanda en b.c./Saldo I. internacionales/-77641.473",
          "Demanda en b.c./Saldo I. internacionales/-70519.778",
          "Demanda en b.c./Saldo I. internacionales/-67279.4",
          "Demanda en b.c./Saldo I. internacionales/-64903.1",
          "Demanda en b.c./Saldo I. internacionales/-63158.2",
          "Demanda en b.c./Saldo I. internacionales/-61448.838",
          "Demanda en b.c./Saldo I. internacionales/-58741.817",
          "Demanda en b.c./Saldo I. internacionales/-57181.573",
          "Demanda en b.c./Saldo I. internacionales/-55758.8",
          "Demanda en b.c./Saldo I. internacionales/-55321.493",
          "Demanda en b.c./Saldo I. internacionales/-48420.387",
          "Demanda en b.c./Saldo I. internacionales/-46961.276",
          "Demanda en b.c./Saldo I. internacionales/-45939.549",
          "Demanda en b.c./Saldo I. internacionales/-44213.613",
          "Demanda en b.c./Saldo I. internacionales/-42371.6",
          "Demanda en b.c./Consumos en bombeo/-42165.889",
          "Demanda en b.c./Consumos en bombeo/-41243.457",
          "Demanda en b.c./Saldo I. internacionales/-40583.5",
          "Demanda en b.c./Consumos en bombeo/-40012.917",
          "Demanda en b.c./Saldo I. internacionales/-39350.0",
          "Demanda en b.c./Consumos en bombeo/-36379.022",
          "Demanda en b.c./Saldo I. internacionales/-35950.27",
          "Demanda en b.c./Saldo I. internacionales/-35905.305",
          "Demanda en b.c./Consumos en bombeo/-34801.155",
          "Demanda en b.c./Consumos en bombeo/-34760.906",
          "Demanda en b.c./Consumos en bombeo/-33277.3",
          "Demanda en b.c./Saldo I. internacionales/-32920.686",
          "Demanda en b.c./Saldo I. internacionales/-32746.2",
          "Demanda en b.c./Saldo I. internacionales/-31408.635",
          "Demanda en b.c./Consumos en bombeo/-30216.28",
          "Demanda en b.c./Consumos en bombeo/-30029.35",
          "Demanda en b.c./Consumos en bombeo/-29614.368",
          "Demanda en b.c./Saldo I. internacionales/-28866.425",
          "Demanda en b.c./Saldo I. internacionales/-28805.195",
          "Demanda en b.c./Consumos en bombeo/-28362.316",
          "Demanda en b.c./Consumos en bombeo/-27589.6",
          "Demanda en b.c./Saldo I. internacionales/-27427.468",
          "Demanda en b.c./Consumos en bombeo/-27173.394",
          "Demanda en b.c./Consumos en bombeo/-25771.441",
          "Demanda en b.c./Consumos en bombeo/-25645.1",
          "Demanda en b.c./Consumos en bombeo/-25476.6",
          "Demanda en b.c./Consumos en bombeo/-24699.308",
          "Demanda en b.c./Saldo I. internacionales/-22980.461",
          "Demanda en b.c./Consumos en bombeo/-22061.226",
          "Demanda en b.c./Consumos en bombeo/-21003.558",
          "Demanda en b.c./Saldo I. internacionales/-19443.509",
          "Demanda en b.c./Consumos en bombeo/-18367.203",
          "Demanda en b.c./Consumos en bombeo/-16745.747",
          "Demanda en b.c./Consumos en bombeo/-16645.8",
          "Demanda en b.c./Consumos en bombeo/-14987.2",
          "Demanda en b.c./Consumos en bombeo/-13205.2",
          "Demanda en b.c./Consumos en bombeo/-13055.198",
          "Demanda en b.c./Consumos en bombeo/-12677.221",
          "Demanda en b.c./Consumos en bombeo/-11660.4",
          "Demanda en b.c./Saldo I. internacionales/-11584.601",
          "Demanda en b.c./Consumos en bombeo/-11369.6",
          "Demanda en b.c./Consumos en bombeo/-6185.448",
          "Demanda en b.c./Consumos en bombeo/-4506.807",
          "Demanda en b.c./Consumos en bombeo/-1677.125",
          "Demanda en b.c./Saldo I. internacionales/-460.821",
          "No-Renovable/Fuel + Gas/-0.001",
          "No-Renovable/Fuel + Gas/0.001",
          "Renovable/Hidroeólica/1.722",
          "Renovable/Hidroeólica/5.562",
          "Renovable/Hidroeólica/13.234",
          "Renovable/Hidroeólica/13.737",
          "Renovable/Hidroeólica/16.111",
          "Renovable/Hidroeólica/16.763",
          "Renovable/Hidroeólica/17.123",
          "Renovable/Hidroeólica/17.155",
          "Renovable/Hidroeólica/21.902",
          "Renovable/Hidroeólica/42.668",
          "Renovable/Hidroeólica/43.199",
          "Renovable/Hidroeólica/44.757",
          "Renovable/Hidroeólica/50.153",
          "Renovable/Hidroeólica/55.026",
          "Renovable/Hidroeólica/57.731",
          "Renovable/Hidroeólica/59.505",
          "Renovable/Hidroeólica/61.214",
          "Renovable/Hidroeólica/75.557",
          "Renovable/Hidroeólica/81.171",
          "Renovable/Hidroeólica/81.656",
          "Renovable/Hidroeólica/106.414",
          "Renovable/Hidroeólica/110.594",
          "Renovable/Hidroeólica/115.127",
          "Renovable/Hidroeólica/127.665",
          "Renovable/Hidroeólica/130.519",
          "Renovable/Hidroeólica/133.996",
          "Renovable/Hidroeólica/135.462",
          "Renovable/Hidroeólica/150.698",
          "Renovable/Hidroeólica/164.64",
          "Renovable/Hidroeólica/182.27",
          "Renovable/Hidroeólica/189.12",
          "No-Renovable/Turbina de gas/1027.713",
          "No-Renovable/Turbina de gas/1034.5",
          "No-Renovable/Turbina de gas/1046.376",
          "No-Renovable/Turbina de gas/1055.006",
          "No-Renovable/Turbina de gas/1236.689",
          "No-Renovable/Turbina de gas/1248.844",
          "Renovable/Solar térmica/1257.512",
          "No-Renovable/Turbina de gas/1301.162",
          "No-Renovable/Turbina de vapor/1354.965",
          "No-Renovable/Turbina de vapor/1391.281",
          "No-Renovable/Turbina de gas/1412.648",
          "No-Renovable/Turbina de gas/1486.379",
          "No-Renovable/Turbina de gas/1500.404",
          "No-Renovable/Turbina de gas/1594.326",
          "No-Renovable/Turbina de gas/1600.031",
          "No-Renovable/Turbina de gas/1702.453",
          "No-Renovable/Turbina de gas/1746.895",
          "No-Renovable/Turbina de vapor/1747.658",
          "No-Renovable/Turbina de gas/1757.267",
          "No-Renovable/Turbina de vapor/1779.035",
          "Renovable/Solar térmica/1804.5",
          "No-Renovable/Turbina de gas/1815.576",
          "No-Renovable/Turbina de gas/1826.98",
          "No-Renovable/Turbina de gas/1848.939",
          "Renovable/Residuos renovables/1856.8",
          "Renovable/Residuos renovables/1868.2355",
          "Renovable/Solar térmica/1873.764",
          "Renovable/Residuos renovables/1878.2",
          "No-Renovable/Turbina de vapor/1879.08",
          "Renovable/Residuos renovables/1879.6",
          "Renovable/Residuos renovables/1900.1475",
          "No-Renovable/Turbina de vapor/1939.779",
          "Renovable/Residuos renovables/1944.963",
          "Renovable/Residuos renovables/1945.3",
          "Renovable/Residuos renovables/1958.8",
          "Renovable/Residuos renovables/1972.75",
          "Renovable/Residuos renovables/2021.4",
          "Renovable/Residuos renovables/2028.8",
          "No-Renovable/Turbina de gas/2056.419",
          "No-Renovable/Turbina de vapor/2059.521",
          "No-Renovable/Turbina de gas/2084.655",
          "No-Renovable/Turbina de vapor/2091.309",
          "No-Renovable/Turbina de vapor/2100.416",
          "No-Renovable/Turbina de vapor/2120.017",
          "No-Renovable/Turbina de vapor/2130.324",
          "No-Renovable/Turbina de vapor/2133.769",
          "No-Renovable/Turbina de gas/2173.592",
          "No-Renovable/Turbina de vapor/2176.039",
          "No-Renovable/Turbina de vapor/2176.693",
          "Renovable/Residuos renovables/2177.0895",
          "No-Renovable/Turbina de vapor/2181.24",
          "No-Renovable/Turbina de vapor/2189.206",
          "No-Renovable/Turbina de vapor/2236.784",
          "No-Renovable/Turbina de vapor/2246.614",
          "No-Renovable/Turbina de vapor/2329.67",
          "No-Renovable/Turbina de vapor/2332.494",
          "No-Renovable/Turbina de vapor/2350.539",
          "No-Renovable/Turbina de vapor/2364.96",
          "Renovable/Residuos renovables/2366.45",
          "Renovable/Residuos renovables/2382.0615",
          "No-Renovable/Turbina de gas/2396.469",
          "No-Renovable/Turbina de vapor/2409.003",
          "No-Renovable/Turbina de vapor/2430.337",
          "No-Renovable/Turbina de gas/2436.565",
          "Renovable/Residuos renovables/2457.8595",
          "No-Renovable/Turbina de gas/2468.845",
          "Renovable/Residuos renovables/2477.4715",
          "Renovable/Residuos renovables/2483.476",
          "Renovable/Residuos renovables/2524.0025",
          "Renovable/Residuos renovables/2525.833",
          "No-Renovable/Turbina de gas/2530.254",
          "Renovable/Residuos renovables/2531.372",
          "Renovable/Residuos renovables/2542.334",
          "Renovable/Residuos renovables/2542.7195",
          "No-Renovable/Turbina de vapor/2559.136",
          "Renovable/Residuos renovables/2577.857",
          "Renovable/Residuos renovables/2589.4565",
          "Renovable/Residuos renovables/2591.4775",
          "Renovable/Residuos renovables/2594.6465",
          "No-Renovable/Turbina de vapor/2594.768",
          "Renovable/Residuos renovables/2595.7275",
          "No-Renovable/Turbina de gas/2618.565",
          "No-Renovable/Turbina de vapor/2637.5",
          "Renovable/Residuos renovables/2665.578",
          "No-Renovable/Turbina de vapor/2670.806",
          "No-Renovable/Turbina de gas/2678.692",
          "Renovable/Residuos renovables/2691.659",
          "No-Renovable/Turbina de gas/2719.066",
          "Renovable/Residuos renovables/2736.5295",
          "Renovable/Residuos renovables/2762.55",
          "No-Renovable/Turbina de vapor/2921.146",
          "No-Renovable/Turbina de vapor/2921.456",
          "Renovable/Solar térmica/2952.161",
          "No-Renovable/Turbina de gas/3033.987",
          "No-Renovable/Turbina de gas/3041.81",
          "No-Renovable/Turbinación bombeo/3070.9",
          "No-Renovable/Turbina de vapor/3136.741",
          "No-Renovable/Residuos no renovables/3206.7325",
          "No-Renovable/Turbina de gas/3220.23",
          "No-Renovable/Residuos no renovables/3346.976",
          "Renovable/Solar térmica/3398.666",
          "No-Renovable/Residuos no renovables/3482.5895",
          "No-Renovable/Residuos no renovables/3505.792",
          "No-Renovable/Residuos no renovables/3581.0435",
          "No-Renovable/Residuos no renovables/3672.7",
          "No-Renovable/Residuos no renovables/3684.9",
          "No-Renovable/Residuos no renovables/3720.6",
          "No-Renovable/Residuos no renovables/3981.219",
          "No-Renovable/Turbinación bombeo/4016.0",
          "No-Renovable/Residuos no renovables/4043.8235",
          "No-Renovable/Residuos no renovables/4053.5085",
          "No-Renovable/Residuos no renovables/4065.566",
          "No-Renovable/Residuos no renovables/4095.25",
          "Renovable/Solar térmica/4136.378",
          "No-Renovable/Residuos no renovables/4140.589",
          "No-Renovable/Residuos no renovables/4152.55",
          "No-Renovable/Residuos no renovables/4164.1365",
          "No-Renovable/Residuos no renovables/4166.7",
          "Renovable/Solar térmica/4240.61",
          "No-Renovable/Residuos no renovables/4250.3",
          "No-Renovable/Residuos no renovables/4302.9865",
          "Renovable/Solar térmica/4307.415",
          "No-Renovable/Residuos no renovables/4333.1",
          "No-Renovable/Residuos no renovables/4348.2005",
          "No-Renovable/Residuos no renovables/4402.1105",
          "No-Renovable/Residuos no renovables/4420.7",
          "No-Renovable/Residuos no renovables/4606.7385",
          "No-Renovable/Residuos no renovables/4699.188",
          "No-Renovable/Residuos no renovables/4919.805",
          "No-Renovable/Residuos no renovables/4921.646",
          "No-Renovable/Residuos no renovables/4952.754",
          "No-Renovable/Turbinación bombeo/4991.7",
          "No-Renovable/Residuos no renovables/5024.3765",
          "No-Renovable/Residuos no renovables/5030.6205",
          "No-Renovable/Residuos no renovables/5040.8035",
          "No-Renovable/Turbinación bombeo/5583.481",
          "No-Renovable/Carbón/5769.5",
          "No-Renovable/Carbón/5836.2",
          "No-Renovable/Carbón/5878.057",
          "No-Renovable/Carbón/5884.0",
          "No-Renovable/Carbón/5925.746",
          "No-Renovable/Carbón/6173.928",
          "No-Renovable/Motores diésel/6450.944",
          "No-Renovable/Motores diésel/6537.454",
          "No-Renovable/Motores diésel/6605.813",
          "No-Renovable/Turbinación bombeo/6607.4",
          "No-Renovable/Turbinación bombeo/6637.878",
          "No-Renovable/Motores diésel/6663.394",
          "No-Renovable/Motores diésel/6673.506",
          "No-Renovable/Motores diésel/6737.014",
          "No-Renovable/Motores diésel/6771.22",
          "No-Renovable/Motores diésel/6776.836",
          "No-Renovable/Motores diésel/6795.396",
          "No-Renovable/Motores diésel/6797.441",
          "No-Renovable/Motores diésel/6848.33",
          "No-Renovable/Motores diésel/6924.793",
          "Renovable/Solar térmica/6991.956",
          "No-Renovable/Motores diésel/7192.893",
          "No-Renovable/Motores diésel/7216.581",
          "No-Renovable/Motores diésel/7225.652",
          "No-Renovable/Motores diésel/7231.95",
          "No-Renovable/Motores diésel/7287.569",
          "Renovable/Solar térmica/7371.57",
          "No-Renovable/Motores diésel/7418.098",
          "No-Renovable/Motores diésel/7480.324",
          "No-Renovable/Carbón/7497.911",
          "Renovable/Solar térmica/7547.968",
          "No-Renovable/Motores diésel/7553.43",
          "No-Renovable/Motores diésel/7571.729",
          "No-Renovable/Carbón/7597.991",
          "No-Renovable/Motores diésel/7724.568",
          "No-Renovable/Carbón/7820.837",
          "No-Renovable/Motores diésel/7820.881",
          "No-Renovable/Motores diésel/7856.663",
          "No-Renovable/Carbón/7884.831",
          "No-Renovable/Motores diésel/7929.039",
          "No-Renovable/Motores diésel/7932.293",
          "No-Renovable/Motores diésel/7956.688",
          "No-Renovable/Carbón/8009.9",
          "Renovable/Otras renovables/8054.556",
          "No-Renovable/Motores diésel/8075.466",
          "No-Renovable/Turbinación bombeo/8103.1",
          "Renovable/Otras renovables/8199.484",
          "No-Renovable/Motores diésel/8239.317",
          "Renovable/Otras renovables/8337.314",
          "No-Renovable/Carbón/8421.21",
          "Renovable/Otras renovables/8601.95",
          "No-Renovable/Motores diésel/8634.224",
          "No-Renovable/Motores diésel/8684.946",
          "Renovable/Otras renovables/8712.808",
          "No-Renovable/Carbón/8722.674",
          "No-Renovable/Carbón/8764.0",
          "Renovable/Otras renovables/8771.495",
          "Renovable/Otras renovables/8778.51",
          "No-Renovable/Carbón/8845.139",
          "No-Renovable/Turbinación bombeo/8857.698",
          "Renovable/Solar térmica/8865.7",
          "No-Renovable/Carbón/8901.3",
          "Renovable/Otras renovables/9003.48",
          "Renovable/Otras renovables/9018.305",
          "No-Renovable/Turbinación bombeo/9043.6",
          "No-Renovable/Turbinación bombeo/9067.2",
          "Renovable/Otras renovables/9155.37",
          "Renovable/Otras renovables/9223.923",
          "Renovable/Otras renovables/9236.007",
          "Renovable/Otras renovables/9258.75",
          "Renovable/Otras renovables/9261.121",
          "No-Renovable/Turbinación bombeo/9321.993",
          "No-Renovable/Carbón/9333.218",
          "No-Renovable/Carbón/9335.246",
          "No-Renovable/Carbón/9364.0",
          "Renovable/Otras renovables/9384.789",
          "No-Renovable/Turbinación bombeo/9390.187",
          "No-Renovable/Carbón/9396.5",
          "Renovable/Otras renovables/9398.552",
          "Renovable/Otras renovables/9631.226",
          "Renovable/Otras renovables/9639.618",
          "No-Renovable/Turbinación bombeo/9643.3",
          "No-Renovable/Turbinación bombeo/9675.002",
          "Renovable/Otras renovables/9777.709",
          "No-Renovable/Carbón/9814.0",
          "Renovable/Otras renovables/9949.57",
          "Renovable/Otras renovables/10001.668",
          "Renovable/Otras renovables/10093.205",
          "Renovable/Otras renovables/10116.307",
          "Renovable/Otras renovables/10144.257",
          "Renovable/Otras renovables/10170.486",
          "Renovable/Otras renovables/10221.698",
          "Renovable/Otras renovables/10271.1",
          "Renovable/Otras renovables/10272.078",
          "Renovable/Otras renovables/10321.193",
          "Renovable/Otras renovables/10695.721",
          "Renovable/Solar térmica/10708.082",
          "No-Renovable/Turbinación bombeo/10965.108",
          "Renovable/Otras renovables/10968.444",
          "Renovable/Solar térmica/11036.212",
          "No-Renovable/Carbón/11332.216",
          "No-Renovable/Turbinación bombeo/11484.908",
          "Renovable/Solar térmica/11532.644",
          "Renovable/Solar térmica/11562.392",
          "No-Renovable/Carbón/11626.564",
          "No-Renovable/Carbón/11845.921",
          "No-Renovable/Carbón/12269.678",
          "No-Renovable/Turbinación bombeo/12370.354",
          "No-Renovable/Turbinación bombeo/12501.5",
          "No-Renovable/Carbón/12687.281",
          "Renovable/Solar térmica/12727.6",
          "No-Renovable/Carbón/12953.608",
          "No-Renovable/Carbón/13015.609",
          "No-Renovable/Carbón/13035.823",
          "No-Renovable/Carbón/13291.885",
          "No-Renovable/Turbinación bombeo/13349.637",
          "No-Renovable/Turbinación bombeo/13612.451",
          "Renovable/Solar térmica/14081.507",
          "No-Renovable/Turbinación bombeo/14534.355",
          "Renovable/Solar térmica/14766.598",
          "Renovable/Solar térmica/15102.066",
          "No-Renovable/Turbinación bombeo/15678.775",
          "No-Renovable/Turbinación bombeo/15973.392",
          "No-Renovable/Turbinación bombeo/16718.097",
          "No-Renovable/Turbinación bombeo/16718.588",
          "No-Renovable/Turbinación bombeo/16742.391",
          "Renovable/Solar térmica/17333.305",
          "Renovable/Solar térmica/17346.651",
          "No-Renovable/Turbinación bombeo/18119.192",
          "No-Renovable/Turbinación bombeo/19050.059",
          "No-Renovable/Turbinación bombeo/19295.654",
          "Renovable/Solar térmica/19987.539",
          "Renovable/Solar térmica/20100.509",
          "Renovable/Solar térmica/20145.734",
          "Renovable/Solar térmica/20350.289",
          "Renovable/Solar térmica/20365.067",
          "Renovable/Solar térmica/20732.747",
          "Renovable/Solar térmica/21080.551",
          "No-Renovable/Turbinación bombeo/21897.701",
          "Renovable/Solar térmica/23507.241",
          "Renovable/Solar térmica/23513.031",
          "No-Renovable/Turbinación bombeo/23817.482",
          "Renovable/Hidráulica/24767.511",
          "No-Renovable/Cogeneración/24849.6",
          "No-Renovable/Cogeneración/24985.74",
          "No-Renovable/Cogeneración/25166.3",
          "No-Renovable/Cogeneración/25893.392",
          "No-Renovable/Cogeneración/26012.013",
          "No-Renovable/Cogeneración/27332.783",
          "No-Renovable/Cogeneración/27877.149",
          "No-Renovable/Cogeneración/27985.943",
          "Renovable/Hidráulica/28356.661",
          "No-Renovable/Cogeneración/29235.207",
          "No-Renovable/Cogeneración/29447.789",
          "Renovable/Hidráulica/29555.708",
          "Renovable/Hidráulica/30373.812",
          "No-Renovable/Cogeneración/31621.76",
          "No-Renovable/Cogeneración/34657.713",
          "Renovable/Hidráulica/35063.646",
          "Renovable/Hidráulica/36018.865",
          "Renovable/Hidráulica/36271.997",
          "No-Renovable/Cogeneración/38276.2",
          "No-Renovable/Cogeneración/38530.68",
          "Renovable/Hidráulica/39251.575",
          "No-Renovable/Cogeneración/40107.831",
          "No-Renovable/Cogeneración/42934.229",
          "No-Renovable/Cogeneración/44468.927",
          "Renovable/Hidráulica/44949.149",
          "No-Renovable/Cogeneración/46054.266",
          "No-Renovable/Cogeneración/46440.614",
          "No-Renovable/Cogeneración/46933.118",
          "No-Renovable/Cogeneración/47223.732",
          "No-Renovable/Cogeneración/48064.498",
          "No-Renovable/Cogeneración/48546.901",
          "Renovable/Hidráulica/48576.483",
          "Renovable/Hidráulica/48588.925",
          "No-Renovable/Cogeneración/49273.304",
          "No-Renovable/Cogeneración/49771.42",
          "No-Renovable/Cogeneración/50788.6",
          "No-Renovable/Cogeneración/51109.48",
          "No-Renovable/Cogeneración/51210.46",
          "Renovable/Hidráulica/51661.691",
          "Renovable/Hidráulica/51775.769",
          "No-Renovable/Ciclo combinado/52350.79",
          "No-Renovable/Cogeneración/52619.165",
          "Renovable/Eólica/53478.32",
          "No-Renovable/Ciclo combinado/53604.737",
          "No-Renovable/Cogeneración/53794.577",
          "Renovable/Hidráulica/54386.095",
          "No-Renovable/Ciclo combinado/54462.916",
          "No-Renovable/Ciclo combinado/54493.427",
          "Renovable/Hidráulica/54807.3",
          "No-Renovable/Cogeneración/55956.812",
          "Renovable/Hidráulica/57723.1",
          "No-Renovable/Ciclo combinado/57852.916",
          "Renovable/Hidráulica/58595.442",
          "No-Renovable/Ciclo combinado/59714.396",
          "No-Renovable/Ciclo combinado/59973.139",
          "Renovable/Hidráulica/62214.9",
          "No-Renovable/Ciclo combinado/62511.042",
          "Renovable/Hidráulica/62652.956",
          "No-Renovable/Ciclo combinado/62848.156",
          "Renovable/Hidráulica/63360.6",
          "No-Renovable/Ciclo combinado/63743.445",
          "No-Renovable/Ciclo combinado/64127.222",
          "No-Renovable/Ciclo combinado/66137.745",
          "No-Renovable/Ciclo combinado/66388.354",
          "No-Renovable/Ciclo combinado/67254.129",
          "Renovable/Solar fotovoltaica/68292.567",
          "Renovable/Hidráulica/72013.7",
          "Renovable/Hidráulica/72079.272",
          "Renovable/Hidráulica/73825.361",
          "Renovable/Hidráulica/73920.299",
          "No-Renovable/Ciclo combinado/74545.978",
          "Renovable/Eólica/75496.802",
          "Renovable/Hidráulica/76159.7",
          "Renovable/Hidráulica/76861.6",
          "Renovable/Solar fotovoltaica/79728.685",
          "Renovable/Hidráulica/79993.169",
          "No-Renovable/Ciclo combinado/81726.909",
          "Renovable/Hidráulica/83008.9",
          "Renovable/Eólica/84157.676",
          "Renovable/Solar fotovoltaica/85671.266",
          "Renovable/Solar fotovoltaica/88050.07",
          "Renovable/Hidráulica/89991.12",
          "Renovable/Eólica/90237.415",
          "No-Renovable/Ciclo combinado/90580.095",
          "No-Renovable/Ciclo combinado/91593.33",
          "Renovable/Hidráulica/92057.3",
          "Renovable/Solar fotovoltaica/93150.995",
          "Renovable/Hidráulica/93635.162",
          "Renovable/Solar fotovoltaica/95711.286",
          "No-Renovable/Ciclo combinado/96621.58",
          "Renovable/Solar fotovoltaica/98161.878",
          "No-Renovable/Ciclo combinado/98210.419",
          "No-Renovable/Ciclo combinado/98458.751",
          "Renovable/Eólica/98488.398",
          "No-Renovable/Ciclo combinado/98832.084",
          "Renovable/Solar fotovoltaica/99578.017",
          "Renovable/Solar fotovoltaica/99729.262",
          "No-Renovable/Ciclo combinado/99784.679",
          "No-Renovable/Ciclo combinado/100077.672",
          "No-Renovable/Ciclo combinado/101831.596",
          "Renovable/Solar fotovoltaica/103155.812",
          "Renovable/Eólica/103499.279",
          "Renovable/Solar fotovoltaica/104505.558",
          "No-Renovable/Ciclo combinado/107295.67",
          "No-Renovable/Ciclo combinado/111944.997",
          "No-Renovable/Ciclo combinado/112140.344",
          "No-Renovable/Ciclo combinado/115801.186",
          "Renovable/Solar fotovoltaica/120892.099",
          "Renovable/Solar fotovoltaica/122809.738",
          "Renovable/Eólica/123748.272",
          "Renovable/Eólica/127266.75",
          "Renovable/Solar fotovoltaica/128554.397",
          "Renovable/Eólica/130141.475",
          "Renovable/Solar fotovoltaica/130610.977",
          "Renovable/Solar fotovoltaica/131158.994",
          "Renovable/Eólica/133250.269",
          "Renovable/Solar fotovoltaica/133419.305",
          "Renovable/Solar fotovoltaica/136356.044",
          "Renovable/Solar fotovoltaica/137172.852",
          "Renovable/Eólica/137854.929",
          "Renovable/Eólica/138196.934",
          "Renovable/Solar fotovoltaica/138737.98",
          "Renovable/Solar fotovoltaica/139022.681",
          "Renovable/Solar fotovoltaica/143168.545",
          "No-Renovable/Nuclear/143378.2",
          "No-Renovable/Nuclear/143691.0",
          "Renovable/Solar fotovoltaica/143761.218",
          "No-Renovable/Nuclear/143776.6",
          "Renovable/Eólica/151013.035",
          "Renovable/Solar fotovoltaica/151206.508",
          "Renovable/Solar fotovoltaica/152285.747",
          "Renovable/Solar fotovoltaica/153991.676",
          "Renovable/Solar fotovoltaica/156801.696",
          "Renovable/Eólica/157356.653",
          "No-Renovable/Ciclo combinado/158342.694",
          "No-Renovable/Ciclo combinado/158749.278",
          "Renovable/Solar fotovoltaica/159323.763",
          "No-Renovable/Nuclear/162276.1",
          "Renovable/Solar fotovoltaica/162300.438",
          "No-Renovable/Nuclear/163814.409",
          "No-Renovable/Nuclear/165999.023",
          "No-Renovable/Nuclear/166178.737",
          "No-Renovable/Nuclear/166185.417",
          "No-Renovable/Nuclear/166239.552",
          "No-Renovable/Nuclear/166296.414",
          "No-Renovable/Nuclear/166309.822",
          "No-Renovable/Nuclear/166411.138",
          "No-Renovable/Nuclear/166435.032",
          "No-Renovable/Nuclear/166471.01",
          "No-Renovable/Nuclear/166479.354",
          "No-Renovable/Nuclear/166527.4",
          "No-Renovable/Nuclear/166568.046",
          "No-Renovable/Nuclear/166581.161",
          "No-Renovable/Nuclear/166704.333",
          "No-Renovable/Nuclear/166810.946",
          "No-Renovable/Nuclear/166835.849",
          "No-Renovable/Nuclear/166907.61",
          "No-Renovable/Nuclear/166981.4",
          "No-Renovable/Nuclear/167008.682",
          "No-Renovable/Nuclear/167039.0",
          "No-Renovable/Nuclear/167062.113",
          "No-Renovable/Nuclear/167121.073",
          "No-Renovable/Nuclear/167134.982",
          "No-Renovable/Nuclear/167236.2",
          "No-Renovable/Nuclear/167486.281",
          "No-Renovable/Nuclear/167605.8",
          "Renovable/Eólica/167846.392",
          "Renovable/Eólica/169068.701",
          "Renovable/Eólica/170713.706",
          "Renovable/Solar fotovoltaica/171718.837",
          "Renovable/Solar fotovoltaica/179876.558",
          "Renovable/Eólica/181355.473",
          "Renovable/Eólica/191594.307",
          "Renovable/Eólica/216702.928",
          "Renovable/Eólica/226460.488",
          "Renovable/Eólica/235490.559",
          "Renovable/Eólica/252078.994",
          "No-Renovable/Generación no renovable/254883.325",
          "Renovable/Eólica/256074.662",
          "Renovable/Eólica/257515.303",
          "No-Renovable/Generación no renovable/265566.279",
          "Renovable/Eólica/265833.009",
          "No-Renovable/Generación no renovable/268072.601",
          "Renovable/Eólica/268172.999",
          "Renovable/Generación renovable/269534.51849999995",
          "No-Renovable/Generación no renovable/269868.44100000005",
          "No-Renovable/Generación no renovable/288887.534",
          "No-Renovable/Generación no renovable/290533.8695",
          "No-Renovable/Generación no renovable/292290.743",
          "No-Renovable/Generación no renovable/294580.6275",
          "Renovable/Eólica/294934.188",
          "Renovable/Generación renovable/298106.86950000003",
          "No-Renovable/Generación no renovable/298641.1825",
          "No-Renovable/Generación no renovable/298769.3285",
          "Renovable/Generación renovable/300998.207",
          "No-Renovable/Generación no renovable/301570.80850000004",
          "Renovable/Generación renovable/302178.519",
          "No-Renovable/Generación no renovable/303029.868",
          "Renovable/Generación renovable/304508.21300000005",
          "No-Renovable/Generación no renovable/312615.5915",
          "No-Renovable/Generación no renovable/313557.729",
          "No-Renovable/Generación no renovable/315107.49149999995",
          "Renovable/Eólica/325019.499",
          "Renovable/Generación renovable/326034.2725",
          "Renovable/Generación renovable/328478.4354999999",
          "No-Renovable/Generación no renovable/333142.4060000001",
          "Renovable/Generación renovable/333484.7695",
          "No-Renovable/Generación no renovable/336055.13249999995",
          "Renovable/Generación renovable/339295.2735",
          "No-Renovable/Generación no renovable/343219.1115",
          "No-Renovable/Generación no renovable/350458.30100000004",
          "No-Renovable/Generación no renovable/350608.59200000006",
          "No-Renovable/Generación no renovable/351781.3945",
          "No-Renovable/Generación no renovable/352511.746",
          "No-Renovable/Generación no renovable/352937.309",
          "Renovable/Eólica/354056.721",
          "No-Renovable/Generación no renovable/354462.7515000001",
          "No-Renovable/Generación no renovable/354565.7945000001",
          "Renovable/Eólica/355754.33",
          "No-Renovable/Generación no renovable/356944.745",
          "No-Renovable/Generación no renovable/358631.506",
          "No-Renovable/Generación no renovable/360720.6429999999",
          "No-Renovable/Generación no renovable/368923.849",
          "Renovable/Generación renovable/372988.224",
          "Renovable/Generación renovable/376037.26249999995",
          "Renovable/Generación renovable/379886.2349999999",
          "Renovable/Generación renovable/384228.31499999994",
          "Renovable/Generación renovable/384587.172",
          "Renovable/Generación renovable/386202.66049999994",
          "Renovable/Generación renovable/396402.42600000004",
          "Renovable/Generación renovable/408781.2884999999",
          "Renovable/Generación renovable/412070.4015",
          "No-Renovable/Generación no renovable/412329.8314999999",
          "Renovable/Generación renovable/414969.65550000005",
          "No-Renovable/Generación no renovable/415517.967",
          "Renovable/Generación renovable/416869.78099999996",
          "Renovable/Generación renovable/417576.962",
          "Renovable/Generación renovable/425780.076",
          "Renovable/Generación renovable/448576.21199999994",
          "Renovable/Generación renovable/451692.00299999997",
          "Renovable/Generación renovable/466530.341",
          "Renovable/Generación renovable/466576.942",
          "Renovable/Generación renovable/476248.455",
          "Renovable/Generación renovable/477099.23850000004",
          "Renovable/Generación renovable/484765.82200000004",
          "Renovable/Generación renovable/499797.0150000001",
          "Renovable/Generación renovable/503768.37350000005",
          "Demanda en b.c./Demanda en b.c./539709.212",
          "Demanda en b.c./Demanda en b.c./555780.8979999999",
          "Demanda en b.c./Demanda en b.c./558723.1410000001",
          "Demanda en b.c./Demanda en b.c./565533.205",
          "Demanda en b.c./Demanda en b.c./580098.071",
          "Demanda en b.c./Demanda en b.c./595716.678",
          "Demanda en b.c./Demanda en b.c./598027.769",
          "Demanda en b.c./Demanda en b.c./604504.485",
          "Demanda en b.c./Demanda en b.c./644307.7679999999",
          "Demanda en b.c./Demanda en b.c./650308.026",
          "Demanda en b.c./Demanda en b.c./658582.587",
          "Demanda en b.c./Demanda en b.c./665564.644",
          "Demanda en b.c./Demanda en b.c./669859.391",
          "Demanda en b.c./Demanda en b.c./671868.895",
          "Demanda en b.c./Demanda en b.c./673026.421",
          "Demanda en b.c./Demanda en b.c./674697.414",
          "Demanda en b.c./Demanda en b.c./678502.426",
          "Demanda en b.c./Demanda en b.c./679273.4890000001",
          "Demanda en b.c./Demanda en b.c./681809.733",
          "Demanda en b.c./Demanda en b.c./682397.378",
          "Demanda en b.c./Demanda en b.c./682877.223",
          "Demanda en b.c./Demanda en b.c./683578.523",
          "Demanda en b.c./Demanda en b.c./685876.4",
          "Demanda en b.c./Demanda en b.c./687152.936",
          "Demanda en b.c./Demanda en b.c./688451.74",
          "Demanda en b.c./Demanda en b.c./688948.048",
          "Demanda en b.c./Demanda en b.c./689088.709",
          "Demanda en b.c./Demanda en b.c./695177.8589999999",
          "Demanda en b.c./Demanda en b.c./699644.968",
          "Demanda en b.c./Demanda en b.c./702319.515",
          "Demanda en b.c./Demanda en b.c./705001.661",
          "No-Renovable/Carbón",
          "No-Renovable/Ciclo combinado",
          "No-Renovable/Cogeneración",
          "Demanda en b.c./Consumos en bombeo",
          "Demanda en b.c./Demanda en b.c.",
          "Renovable/Eólica",
          "No-Renovable/Fuel + Gas",
          "No-Renovable/Generación no renovable",
          "Renovable/Generación renovable",
          "Renovable/Hidroeólica",
          "Renovable/Hidráulica",
          "No-Renovable/Motores diésel",
          "No-Renovable/Nuclear",
          "Renovable/Otras renovables",
          "No-Renovable/Residuos no renovables",
          "Renovable/Residuos renovables",
          "Demanda en b.c./Saldo I. internacionales",
          "Renovable/Solar fotovoltaica",
          "Renovable/Solar térmica",
          "No-Renovable/Turbina de gas",
          "No-Renovable/Turbina de vapor",
          "No-Renovable/Turbinación bombeo",
          "Demanda en b.c.",
          "No-Renovable",
          "Renovable"
         ],
         "labels": [
          "-85294.7",
          "-83476.417",
          "-77641.473",
          "-70519.778",
          "-67279.4",
          "-64903.1",
          "-63158.2",
          "-61448.838",
          "-58741.817",
          "-57181.573",
          "-55758.8",
          "-55321.493",
          "-48420.387",
          "-46961.276",
          "-45939.549",
          "-44213.613",
          "-42371.6",
          "-42165.889",
          "-41243.457",
          "-40583.5",
          "-40012.917",
          "-39350.0",
          "-36379.022",
          "-35950.27",
          "-35905.305",
          "-34801.155",
          "-34760.906",
          "-33277.3",
          "-32920.686",
          "-32746.2",
          "-31408.635",
          "-30216.28",
          "-30029.35",
          "-29614.368",
          "-28866.425",
          "-28805.195",
          "-28362.316",
          "-27589.6",
          "-27427.468",
          "-27173.394",
          "-25771.441",
          "-25645.1",
          "-25476.6",
          "-24699.308",
          "-22980.461",
          "-22061.226",
          "-21003.558",
          "-19443.509",
          "-18367.203",
          "-16745.747",
          "-16645.8",
          "-14987.2",
          "-13205.2",
          "-13055.198",
          "-12677.221",
          "-11660.4",
          "-11584.601",
          "-11369.6",
          "-6185.448",
          "-4506.807",
          "-1677.125",
          "-460.821",
          "-0.001",
          "0.001",
          "1.722",
          "5.562",
          "13.234",
          "13.737",
          "16.111",
          "16.763",
          "17.123",
          "17.155",
          "21.902",
          "42.668",
          "43.199",
          "44.757",
          "50.153",
          "55.026",
          "57.731",
          "59.505",
          "61.214",
          "75.557",
          "81.171",
          "81.656",
          "106.414",
          "110.594",
          "115.127",
          "127.665",
          "130.519",
          "133.996",
          "135.462",
          "150.698",
          "164.64",
          "182.27",
          "189.12",
          "1027.713",
          "1034.5",
          "1046.376",
          "1055.006",
          "1236.689",
          "1248.844",
          "1257.512",
          "1301.162",
          "1354.965",
          "1391.281",
          "1412.648",
          "1486.379",
          "1500.404",
          "1594.326",
          "1600.031",
          "1702.453",
          "1746.895",
          "1747.658",
          "1757.267",
          "1779.035",
          "1804.5",
          "1815.576",
          "1826.98",
          "1848.939",
          "1856.8",
          "1868.2355",
          "1873.764",
          "1878.2",
          "1879.08",
          "1879.6",
          "1900.1475",
          "1939.779",
          "1944.963",
          "1945.3",
          "1958.8",
          "1972.75",
          "2021.4",
          "2028.8",
          "2056.419",
          "2059.521",
          "2084.655",
          "2091.309",
          "2100.416",
          "2120.017",
          "2130.324",
          "2133.769",
          "2173.592",
          "2176.039",
          "2176.693",
          "2177.0895",
          "2181.24",
          "2189.206",
          "2236.784",
          "2246.614",
          "2329.67",
          "2332.494",
          "2350.539",
          "2364.96",
          "2366.45",
          "2382.0615",
          "2396.469",
          "2409.003",
          "2430.337",
          "2436.565",
          "2457.8595",
          "2468.845",
          "2477.4715",
          "2483.476",
          "2524.0025",
          "2525.833",
          "2530.254",
          "2531.372",
          "2542.334",
          "2542.7195",
          "2559.136",
          "2577.857",
          "2589.4565",
          "2591.4775",
          "2594.6465",
          "2594.768",
          "2595.7275",
          "2618.565",
          "2637.5",
          "2665.578",
          "2670.806",
          "2678.692",
          "2691.659",
          "2719.066",
          "2736.5295",
          "2762.55",
          "2921.146",
          "2921.456",
          "2952.161",
          "3033.987",
          "3041.81",
          "3070.9",
          "3136.741",
          "3206.7325",
          "3220.23",
          "3346.976",
          "3398.666",
          "3482.5895",
          "3505.792",
          "3581.0435",
          "3672.7",
          "3684.9",
          "3720.6",
          "3981.219",
          "4016.0",
          "4043.8235",
          "4053.5085",
          "4065.566",
          "4095.25",
          "4136.378",
          "4140.589",
          "4152.55",
          "4164.1365",
          "4166.7",
          "4240.61",
          "4250.3",
          "4302.9865",
          "4307.415",
          "4333.1",
          "4348.2005",
          "4402.1105",
          "4420.7",
          "4606.7385",
          "4699.188",
          "4919.805",
          "4921.646",
          "4952.754",
          "4991.7",
          "5024.3765",
          "5030.6205",
          "5040.8035",
          "5583.481",
          "5769.5",
          "5836.2",
          "5878.057",
          "5884.0",
          "5925.746",
          "6173.928",
          "6450.944",
          "6537.454",
          "6605.813",
          "6607.4",
          "6637.878",
          "6663.394",
          "6673.506",
          "6737.014",
          "6771.22",
          "6776.836",
          "6795.396",
          "6797.441",
          "6848.33",
          "6924.793",
          "6991.956",
          "7192.893",
          "7216.581",
          "7225.652",
          "7231.95",
          "7287.569",
          "7371.57",
          "7418.098",
          "7480.324",
          "7497.911",
          "7547.968",
          "7553.43",
          "7571.729",
          "7597.991",
          "7724.568",
          "7820.837",
          "7820.881",
          "7856.663",
          "7884.831",
          "7929.039",
          "7932.293",
          "7956.688",
          "8009.9",
          "8054.556",
          "8075.466",
          "8103.1",
          "8199.484",
          "8239.317",
          "8337.314",
          "8421.21",
          "8601.95",
          "8634.224",
          "8684.946",
          "8712.808",
          "8722.674",
          "8764.0",
          "8771.495",
          "8778.51",
          "8845.139",
          "8857.698",
          "8865.7",
          "8901.3",
          "9003.48",
          "9018.305",
          "9043.6",
          "9067.2",
          "9155.37",
          "9223.923",
          "9236.007",
          "9258.75",
          "9261.121",
          "9321.993",
          "9333.218",
          "9335.246",
          "9364.0",
          "9384.789",
          "9390.187",
          "9396.5",
          "9398.552",
          "9631.226",
          "9639.618",
          "9643.3",
          "9675.002",
          "9777.709",
          "9814.0",
          "9949.57",
          "10001.668",
          "10093.205",
          "10116.307",
          "10144.257",
          "10170.486",
          "10221.698",
          "10271.1",
          "10272.078",
          "10321.193",
          "10695.721",
          "10708.082",
          "10965.108",
          "10968.444",
          "11036.212",
          "11332.216",
          "11484.908",
          "11532.644",
          "11562.392",
          "11626.564",
          "11845.921",
          "12269.678",
          "12370.354",
          "12501.5",
          "12687.281",
          "12727.6",
          "12953.608",
          "13015.609",
          "13035.823",
          "13291.885",
          "13349.637",
          "13612.451",
          "14081.507",
          "14534.355",
          "14766.598",
          "15102.066",
          "15678.775",
          "15973.392",
          "16718.097",
          "16718.588",
          "16742.391",
          "17333.305",
          "17346.651",
          "18119.192",
          "19050.059",
          "19295.654",
          "19987.539",
          "20100.509",
          "20145.734",
          "20350.289",
          "20365.067",
          "20732.747",
          "21080.551",
          "21897.701",
          "23507.241",
          "23513.031",
          "23817.482",
          "24767.511",
          "24849.6",
          "24985.74",
          "25166.3",
          "25893.392",
          "26012.013",
          "27332.783",
          "27877.149",
          "27985.943",
          "28356.661",
          "29235.207",
          "29447.789",
          "29555.708",
          "30373.812",
          "31621.76",
          "34657.713",
          "35063.646",
          "36018.865",
          "36271.997",
          "38276.2",
          "38530.68",
          "39251.575",
          "40107.831",
          "42934.229",
          "44468.927",
          "44949.149",
          "46054.266",
          "46440.614",
          "46933.118",
          "47223.732",
          "48064.498",
          "48546.901",
          "48576.483",
          "48588.925",
          "49273.304",
          "49771.42",
          "50788.6",
          "51109.48",
          "51210.46",
          "51661.691",
          "51775.769",
          "52350.79",
          "52619.165",
          "53478.32",
          "53604.737",
          "53794.577",
          "54386.095",
          "54462.916",
          "54493.427",
          "54807.3",
          "55956.812",
          "57723.1",
          "57852.916",
          "58595.442",
          "59714.396",
          "59973.139",
          "62214.9",
          "62511.042",
          "62652.956",
          "62848.156",
          "63360.6",
          "63743.445",
          "64127.222",
          "66137.745",
          "66388.354",
          "67254.129",
          "68292.567",
          "72013.7",
          "72079.272",
          "73825.361",
          "73920.299",
          "74545.978",
          "75496.802",
          "76159.7",
          "76861.6",
          "79728.685",
          "79993.169",
          "81726.909",
          "83008.9",
          "84157.676",
          "85671.266",
          "88050.07",
          "89991.12",
          "90237.415",
          "90580.095",
          "91593.33",
          "92057.3",
          "93150.995",
          "93635.162",
          "95711.286",
          "96621.58",
          "98161.878",
          "98210.419",
          "98458.751",
          "98488.398",
          "98832.084",
          "99578.017",
          "99729.262",
          "99784.679",
          "100077.672",
          "101831.596",
          "103155.812",
          "103499.279",
          "104505.558",
          "107295.67",
          "111944.997",
          "112140.344",
          "115801.186",
          "120892.099",
          "122809.738",
          "123748.272",
          "127266.75",
          "128554.397",
          "130141.475",
          "130610.977",
          "131158.994",
          "133250.269",
          "133419.305",
          "136356.044",
          "137172.852",
          "137854.929",
          "138196.934",
          "138737.98",
          "139022.681",
          "143168.545",
          "143378.2",
          "143691.0",
          "143761.218",
          "143776.6",
          "151013.035",
          "151206.508",
          "152285.747",
          "153991.676",
          "156801.696",
          "157356.653",
          "158342.694",
          "158749.278",
          "159323.763",
          "162276.1",
          "162300.438",
          "163814.409",
          "165999.023",
          "166178.737",
          "166185.417",
          "166239.552",
          "166296.414",
          "166309.822",
          "166411.138",
          "166435.032",
          "166471.01",
          "166479.354",
          "166527.4",
          "166568.046",
          "166581.161",
          "166704.333",
          "166810.946",
          "166835.849",
          "166907.61",
          "166981.4",
          "167008.682",
          "167039.0",
          "167062.113",
          "167121.073",
          "167134.982",
          "167236.2",
          "167486.281",
          "167605.8",
          "167846.392",
          "169068.701",
          "170713.706",
          "171718.837",
          "179876.558",
          "181355.473",
          "191594.307",
          "216702.928",
          "226460.488",
          "235490.559",
          "252078.994",
          "254883.325",
          "256074.662",
          "257515.303",
          "265566.279",
          "265833.009",
          "268072.601",
          "268172.999",
          "269534.51849999995",
          "269868.44100000005",
          "288887.534",
          "290533.8695",
          "292290.743",
          "294580.6275",
          "294934.188",
          "298106.86950000003",
          "298641.1825",
          "298769.3285",
          "300998.207",
          "301570.80850000004",
          "302178.519",
          "303029.868",
          "304508.21300000005",
          "312615.5915",
          "313557.729",
          "315107.49149999995",
          "325019.499",
          "326034.2725",
          "328478.4354999999",
          "333142.4060000001",
          "333484.7695",
          "336055.13249999995",
          "339295.2735",
          "343219.1115",
          "350458.30100000004",
          "350608.59200000006",
          "351781.3945",
          "352511.746",
          "352937.309",
          "354056.721",
          "354462.7515000001",
          "354565.7945000001",
          "355754.33",
          "356944.745",
          "358631.506",
          "360720.6429999999",
          "368923.849",
          "372988.224",
          "376037.26249999995",
          "379886.2349999999",
          "384228.31499999994",
          "384587.172",
          "386202.66049999994",
          "396402.42600000004",
          "408781.2884999999",
          "412070.4015",
          "412329.8314999999",
          "414969.65550000005",
          "415517.967",
          "416869.78099999996",
          "417576.962",
          "425780.076",
          "448576.21199999994",
          "451692.00299999997",
          "466530.341",
          "466576.942",
          "476248.455",
          "477099.23850000004",
          "484765.82200000004",
          "499797.0150000001",
          "503768.37350000005",
          "539709.212",
          "555780.8979999999",
          "558723.1410000001",
          "565533.205",
          "580098.071",
          "595716.678",
          "598027.769",
          "604504.485",
          "644307.7679999999",
          "650308.026",
          "658582.587",
          "665564.644",
          "669859.391",
          "671868.895",
          "673026.421",
          "674697.414",
          "678502.426",
          "679273.4890000001",
          "681809.733",
          "682397.378",
          "682877.223",
          "683578.523",
          "685876.4",
          "687152.936",
          "688451.74",
          "688948.048",
          "689088.709",
          "695177.8589999999",
          "699644.968",
          "702319.515",
          "705001.661",
          "Carbón",
          "Ciclo combinado",
          "Cogeneración",
          "Consumos en bombeo",
          "Demanda en b.c.",
          "Eólica",
          "Fuel + Gas",
          "Generación no renovable",
          "Generación renovable",
          "Hidroeólica",
          "Hidráulica",
          "Motores diésel",
          "Nuclear",
          "Otras renovables",
          "Residuos no renovables",
          "Residuos renovables",
          "Saldo I. internacionales",
          "Solar fotovoltaica",
          "Solar térmica",
          "Turbina de gas",
          "Turbina de vapor",
          "Turbinación bombeo",
          "Demanda en b.c.",
          "No-Renovable",
          "Renovable"
         ],
         "name": "",
         "parents": [
          "Demanda en b.c./Saldo I. internacionales",
          "Demanda en b.c./Saldo I. internacionales",
          "Demanda en b.c./Saldo I. internacionales",
          "Demanda en b.c./Saldo I. internacionales",
          "Demanda en b.c./Saldo I. internacionales",
          "Demanda en b.c./Saldo I. internacionales",
          "Demanda en b.c./Saldo I. internacionales",
          "Demanda en b.c./Saldo I. internacionales",
          "Demanda en b.c./Saldo I. internacionales",
          "Demanda en b.c./Saldo I. internacionales",
          "Demanda en b.c./Saldo I. internacionales",
          "Demanda en b.c./Saldo I. internacionales",
          "Demanda en b.c./Saldo I. internacionales",
          "Demanda en b.c./Saldo I. internacionales",
          "Demanda en b.c./Saldo I. internacionales",
          "Demanda en b.c./Saldo I. internacionales",
          "Demanda en b.c./Saldo I. internacionales",
          "Demanda en b.c./Consumos en bombeo",
          "Demanda en b.c./Consumos en bombeo",
          "Demanda en b.c./Saldo I. internacionales",
          "Demanda en b.c./Consumos en bombeo",
          "Demanda en b.c./Saldo I. internacionales",
          "Demanda en b.c./Consumos en bombeo",
          "Demanda en b.c./Saldo I. internacionales",
          "Demanda en b.c./Saldo I. internacionales",
          "Demanda en b.c./Consumos en bombeo",
          "Demanda en b.c./Consumos en bombeo",
          "Demanda en b.c./Consumos en bombeo",
          "Demanda en b.c./Saldo I. internacionales",
          "Demanda en b.c./Saldo I. internacionales",
          "Demanda en b.c./Saldo I. internacionales",
          "Demanda en b.c./Consumos en bombeo",
          "Demanda en b.c./Consumos en bombeo",
          "Demanda en b.c./Consumos en bombeo",
          "Demanda en b.c./Saldo I. internacionales",
          "Demanda en b.c./Saldo I. internacionales",
          "Demanda en b.c./Consumos en bombeo",
          "Demanda en b.c./Consumos en bombeo",
          "Demanda en b.c./Saldo I. internacionales",
          "Demanda en b.c./Consumos en bombeo",
          "Demanda en b.c./Consumos en bombeo",
          "Demanda en b.c./Consumos en bombeo",
          "Demanda en b.c./Consumos en bombeo",
          "Demanda en b.c./Consumos en bombeo",
          "Demanda en b.c./Saldo I. internacionales",
          "Demanda en b.c./Consumos en bombeo",
          "Demanda en b.c./Consumos en bombeo",
          "Demanda en b.c./Saldo I. internacionales",
          "Demanda en b.c./Consumos en bombeo",
          "Demanda en b.c./Consumos en bombeo",
          "Demanda en b.c./Consumos en bombeo",
          "Demanda en b.c./Consumos en bombeo",
          "Demanda en b.c./Consumos en bombeo",
          "Demanda en b.c./Consumos en bombeo",
          "Demanda en b.c./Consumos en bombeo",
          "Demanda en b.c./Consumos en bombeo",
          "Demanda en b.c./Saldo I. internacionales",
          "Demanda en b.c./Consumos en bombeo",
          "Demanda en b.c./Consumos en bombeo",
          "Demanda en b.c./Consumos en bombeo",
          "Demanda en b.c./Consumos en bombeo",
          "Demanda en b.c./Saldo I. internacionales",
          "No-Renovable/Fuel + Gas",
          "No-Renovable/Fuel + Gas",
          "Renovable/Hidroeólica",
          "Renovable/Hidroeólica",
          "Renovable/Hidroeólica",
          "Renovable/Hidroeólica",
          "Renovable/Hidroeólica",
          "Renovable/Hidroeólica",
          "Renovable/Hidroeólica",
          "Renovable/Hidroeólica",
          "Renovable/Hidroeólica",
          "Renovable/Hidroeólica",
          "Renovable/Hidroeólica",
          "Renovable/Hidroeólica",
          "Renovable/Hidroeólica",
          "Renovable/Hidroeólica",
          "Renovable/Hidroeólica",
          "Renovable/Hidroeólica",
          "Renovable/Hidroeólica",
          "Renovable/Hidroeólica",
          "Renovable/Hidroeólica",
          "Renovable/Hidroeólica",
          "Renovable/Hidroeólica",
          "Renovable/Hidroeólica",
          "Renovable/Hidroeólica",
          "Renovable/Hidroeólica",
          "Renovable/Hidroeólica",
          "Renovable/Hidroeólica",
          "Renovable/Hidroeólica",
          "Renovable/Hidroeólica",
          "Renovable/Hidroeólica",
          "Renovable/Hidroeólica",
          "Renovable/Hidroeólica",
          "No-Renovable/Turbina de gas",
          "No-Renovable/Turbina de gas",
          "No-Renovable/Turbina de gas",
          "No-Renovable/Turbina de gas",
          "No-Renovable/Turbina de gas",
          "No-Renovable/Turbina de gas",
          "Renovable/Solar térmica",
          "No-Renovable/Turbina de gas",
          "No-Renovable/Turbina de vapor",
          "No-Renovable/Turbina de vapor",
          "No-Renovable/Turbina de gas",
          "No-Renovable/Turbina de gas",
          "No-Renovable/Turbina de gas",
          "No-Renovable/Turbina de gas",
          "No-Renovable/Turbina de gas",
          "No-Renovable/Turbina de gas",
          "No-Renovable/Turbina de gas",
          "No-Renovable/Turbina de vapor",
          "No-Renovable/Turbina de gas",
          "No-Renovable/Turbina de vapor",
          "Renovable/Solar térmica",
          "No-Renovable/Turbina de gas",
          "No-Renovable/Turbina de gas",
          "No-Renovable/Turbina de gas",
          "Renovable/Residuos renovables",
          "Renovable/Residuos renovables",
          "Renovable/Solar térmica",
          "Renovable/Residuos renovables",
          "No-Renovable/Turbina de vapor",
          "Renovable/Residuos renovables",
          "Renovable/Residuos renovables",
          "No-Renovable/Turbina de vapor",
          "Renovable/Residuos renovables",
          "Renovable/Residuos renovables",
          "Renovable/Residuos renovables",
          "Renovable/Residuos renovables",
          "Renovable/Residuos renovables",
          "Renovable/Residuos renovables",
          "No-Renovable/Turbina de gas",
          "No-Renovable/Turbina de vapor",
          "No-Renovable/Turbina de gas",
          "No-Renovable/Turbina de vapor",
          "No-Renovable/Turbina de vapor",
          "No-Renovable/Turbina de vapor",
          "No-Renovable/Turbina de vapor",
          "No-Renovable/Turbina de vapor",
          "No-Renovable/Turbina de gas",
          "No-Renovable/Turbina de vapor",
          "No-Renovable/Turbina de vapor",
          "Renovable/Residuos renovables",
          "No-Renovable/Turbina de vapor",
          "No-Renovable/Turbina de vapor",
          "No-Renovable/Turbina de vapor",
          "No-Renovable/Turbina de vapor",
          "No-Renovable/Turbina de vapor",
          "No-Renovable/Turbina de vapor",
          "No-Renovable/Turbina de vapor",
          "No-Renovable/Turbina de vapor",
          "Renovable/Residuos renovables",
          "Renovable/Residuos renovables",
          "No-Renovable/Turbina de gas",
          "No-Renovable/Turbina de vapor",
          "No-Renovable/Turbina de vapor",
          "No-Renovable/Turbina de gas",
          "Renovable/Residuos renovables",
          "No-Renovable/Turbina de gas",
          "Renovable/Residuos renovables",
          "Renovable/Residuos renovables",
          "Renovable/Residuos renovables",
          "Renovable/Residuos renovables",
          "No-Renovable/Turbina de gas",
          "Renovable/Residuos renovables",
          "Renovable/Residuos renovables",
          "Renovable/Residuos renovables",
          "No-Renovable/Turbina de vapor",
          "Renovable/Residuos renovables",
          "Renovable/Residuos renovables",
          "Renovable/Residuos renovables",
          "Renovable/Residuos renovables",
          "No-Renovable/Turbina de vapor",
          "Renovable/Residuos renovables",
          "No-Renovable/Turbina de gas",
          "No-Renovable/Turbina de vapor",
          "Renovable/Residuos renovables",
          "No-Renovable/Turbina de vapor",
          "No-Renovable/Turbina de gas",
          "Renovable/Residuos renovables",
          "No-Renovable/Turbina de gas",
          "Renovable/Residuos renovables",
          "Renovable/Residuos renovables",
          "No-Renovable/Turbina de vapor",
          "No-Renovable/Turbina de vapor",
          "Renovable/Solar térmica",
          "No-Renovable/Turbina de gas",
          "No-Renovable/Turbina de gas",
          "No-Renovable/Turbinación bombeo",
          "No-Renovable/Turbina de vapor",
          "No-Renovable/Residuos no renovables",
          "No-Renovable/Turbina de gas",
          "No-Renovable/Residuos no renovables",
          "Renovable/Solar térmica",
          "No-Renovable/Residuos no renovables",
          "No-Renovable/Residuos no renovables",
          "No-Renovable/Residuos no renovables",
          "No-Renovable/Residuos no renovables",
          "No-Renovable/Residuos no renovables",
          "No-Renovable/Residuos no renovables",
          "No-Renovable/Residuos no renovables",
          "No-Renovable/Turbinación bombeo",
          "No-Renovable/Residuos no renovables",
          "No-Renovable/Residuos no renovables",
          "No-Renovable/Residuos no renovables",
          "No-Renovable/Residuos no renovables",
          "Renovable/Solar térmica",
          "No-Renovable/Residuos no renovables",
          "No-Renovable/Residuos no renovables",
          "No-Renovable/Residuos no renovables",
          "No-Renovable/Residuos no renovables",
          "Renovable/Solar térmica",
          "No-Renovable/Residuos no renovables",
          "No-Renovable/Residuos no renovables",
          "Renovable/Solar térmica",
          "No-Renovable/Residuos no renovables",
          "No-Renovable/Residuos no renovables",
          "No-Renovable/Residuos no renovables",
          "No-Renovable/Residuos no renovables",
          "No-Renovable/Residuos no renovables",
          "No-Renovable/Residuos no renovables",
          "No-Renovable/Residuos no renovables",
          "No-Renovable/Residuos no renovables",
          "No-Renovable/Residuos no renovables",
          "No-Renovable/Turbinación bombeo",
          "No-Renovable/Residuos no renovables",
          "No-Renovable/Residuos no renovables",
          "No-Renovable/Residuos no renovables",
          "No-Renovable/Turbinación bombeo",
          "No-Renovable/Carbón",
          "No-Renovable/Carbón",
          "No-Renovable/Carbón",
          "No-Renovable/Carbón",
          "No-Renovable/Carbón",
          "No-Renovable/Carbón",
          "No-Renovable/Motores diésel",
          "No-Renovable/Motores diésel",
          "No-Renovable/Motores diésel",
          "No-Renovable/Turbinación bombeo",
          "No-Renovable/Turbinación bombeo",
          "No-Renovable/Motores diésel",
          "No-Renovable/Motores diésel",
          "No-Renovable/Motores diésel",
          "No-Renovable/Motores diésel",
          "No-Renovable/Motores diésel",
          "No-Renovable/Motores diésel",
          "No-Renovable/Motores diésel",
          "No-Renovable/Motores diésel",
          "No-Renovable/Motores diésel",
          "Renovable/Solar térmica",
          "No-Renovable/Motores diésel",
          "No-Renovable/Motores diésel",
          "No-Renovable/Motores diésel",
          "No-Renovable/Motores diésel",
          "No-Renovable/Motores diésel",
          "Renovable/Solar térmica",
          "No-Renovable/Motores diésel",
          "No-Renovable/Motores diésel",
          "No-Renovable/Carbón",
          "Renovable/Solar térmica",
          "No-Renovable/Motores diésel",
          "No-Renovable/Motores diésel",
          "No-Renovable/Carbón",
          "No-Renovable/Motores diésel",
          "No-Renovable/Carbón",
          "No-Renovable/Motores diésel",
          "No-Renovable/Motores diésel",
          "No-Renovable/Carbón",
          "No-Renovable/Motores diésel",
          "No-Renovable/Motores diésel",
          "No-Renovable/Motores diésel",
          "No-Renovable/Carbón",
          "Renovable/Otras renovables",
          "No-Renovable/Motores diésel",
          "No-Renovable/Turbinación bombeo",
          "Renovable/Otras renovables",
          "No-Renovable/Motores diésel",
          "Renovable/Otras renovables",
          "No-Renovable/Carbón",
          "Renovable/Otras renovables",
          "No-Renovable/Motores diésel",
          "No-Renovable/Motores diésel",
          "Renovable/Otras renovables",
          "No-Renovable/Carbón",
          "No-Renovable/Carbón",
          "Renovable/Otras renovables",
          "Renovable/Otras renovables",
          "No-Renovable/Carbón",
          "No-Renovable/Turbinación bombeo",
          "Renovable/Solar térmica",
          "No-Renovable/Carbón",
          "Renovable/Otras renovables",
          "Renovable/Otras renovables",
          "No-Renovable/Turbinación bombeo",
          "No-Renovable/Turbinación bombeo",
          "Renovable/Otras renovables",
          "Renovable/Otras renovables",
          "Renovable/Otras renovables",
          "Renovable/Otras renovables",
          "Renovable/Otras renovables",
          "No-Renovable/Turbinación bombeo",
          "No-Renovable/Carbón",
          "No-Renovable/Carbón",
          "No-Renovable/Carbón",
          "Renovable/Otras renovables",
          "No-Renovable/Turbinación bombeo",
          "No-Renovable/Carbón",
          "Renovable/Otras renovables",
          "Renovable/Otras renovables",
          "Renovable/Otras renovables",
          "No-Renovable/Turbinación bombeo",
          "No-Renovable/Turbinación bombeo",
          "Renovable/Otras renovables",
          "No-Renovable/Carbón",
          "Renovable/Otras renovables",
          "Renovable/Otras renovables",
          "Renovable/Otras renovables",
          "Renovable/Otras renovables",
          "Renovable/Otras renovables",
          "Renovable/Otras renovables",
          "Renovable/Otras renovables",
          "Renovable/Otras renovables",
          "Renovable/Otras renovables",
          "Renovable/Otras renovables",
          "Renovable/Otras renovables",
          "Renovable/Solar térmica",
          "No-Renovable/Turbinación bombeo",
          "Renovable/Otras renovables",
          "Renovable/Solar térmica",
          "No-Renovable/Carbón",
          "No-Renovable/Turbinación bombeo",
          "Renovable/Solar térmica",
          "Renovable/Solar térmica",
          "No-Renovable/Carbón",
          "No-Renovable/Carbón",
          "No-Renovable/Carbón",
          "No-Renovable/Turbinación bombeo",
          "No-Renovable/Turbinación bombeo",
          "No-Renovable/Carbón",
          "Renovable/Solar térmica",
          "No-Renovable/Carbón",
          "No-Renovable/Carbón",
          "No-Renovable/Carbón",
          "No-Renovable/Carbón",
          "No-Renovable/Turbinación bombeo",
          "No-Renovable/Turbinación bombeo",
          "Renovable/Solar térmica",
          "No-Renovable/Turbinación bombeo",
          "Renovable/Solar térmica",
          "Renovable/Solar térmica",
          "No-Renovable/Turbinación bombeo",
          "No-Renovable/Turbinación bombeo",
          "No-Renovable/Turbinación bombeo",
          "No-Renovable/Turbinación bombeo",
          "No-Renovable/Turbinación bombeo",
          "Renovable/Solar térmica",
          "Renovable/Solar térmica",
          "No-Renovable/Turbinación bombeo",
          "No-Renovable/Turbinación bombeo",
          "No-Renovable/Turbinación bombeo",
          "Renovable/Solar térmica",
          "Renovable/Solar térmica",
          "Renovable/Solar térmica",
          "Renovable/Solar térmica",
          "Renovable/Solar térmica",
          "Renovable/Solar térmica",
          "Renovable/Solar térmica",
          "No-Renovable/Turbinación bombeo",
          "Renovable/Solar térmica",
          "Renovable/Solar térmica",
          "No-Renovable/Turbinación bombeo",
          "Renovable/Hidráulica",
          "No-Renovable/Cogeneración",
          "No-Renovable/Cogeneración",
          "No-Renovable/Cogeneración",
          "No-Renovable/Cogeneración",
          "No-Renovable/Cogeneración",
          "No-Renovable/Cogeneración",
          "No-Renovable/Cogeneración",
          "No-Renovable/Cogeneración",
          "Renovable/Hidráulica",
          "No-Renovable/Cogeneración",
          "No-Renovable/Cogeneración",
          "Renovable/Hidráulica",
          "Renovable/Hidráulica",
          "No-Renovable/Cogeneración",
          "No-Renovable/Cogeneración",
          "Renovable/Hidráulica",
          "Renovable/Hidráulica",
          "Renovable/Hidráulica",
          "No-Renovable/Cogeneración",
          "No-Renovable/Cogeneración",
          "Renovable/Hidráulica",
          "No-Renovable/Cogeneración",
          "No-Renovable/Cogeneración",
          "No-Renovable/Cogeneración",
          "Renovable/Hidráulica",
          "No-Renovable/Cogeneración",
          "No-Renovable/Cogeneración",
          "No-Renovable/Cogeneración",
          "No-Renovable/Cogeneración",
          "No-Renovable/Cogeneración",
          "No-Renovable/Cogeneración",
          "Renovable/Hidráulica",
          "Renovable/Hidráulica",
          "No-Renovable/Cogeneración",
          "No-Renovable/Cogeneración",
          "No-Renovable/Cogeneración",
          "No-Renovable/Cogeneración",
          "No-Renovable/Cogeneración",
          "Renovable/Hidráulica",
          "Renovable/Hidráulica",
          "No-Renovable/Ciclo combinado",
          "No-Renovable/Cogeneración",
          "Renovable/Eólica",
          "No-Renovable/Ciclo combinado",
          "No-Renovable/Cogeneración",
          "Renovable/Hidráulica",
          "No-Renovable/Ciclo combinado",
          "No-Renovable/Ciclo combinado",
          "Renovable/Hidráulica",
          "No-Renovable/Cogeneración",
          "Renovable/Hidráulica",
          "No-Renovable/Ciclo combinado",
          "Renovable/Hidráulica",
          "No-Renovable/Ciclo combinado",
          "No-Renovable/Ciclo combinado",
          "Renovable/Hidráulica",
          "No-Renovable/Ciclo combinado",
          "Renovable/Hidráulica",
          "No-Renovable/Ciclo combinado",
          "Renovable/Hidráulica",
          "No-Renovable/Ciclo combinado",
          "No-Renovable/Ciclo combinado",
          "No-Renovable/Ciclo combinado",
          "No-Renovable/Ciclo combinado",
          "No-Renovable/Ciclo combinado",
          "Renovable/Solar fotovoltaica",
          "Renovable/Hidráulica",
          "Renovable/Hidráulica",
          "Renovable/Hidráulica",
          "Renovable/Hidráulica",
          "No-Renovable/Ciclo combinado",
          "Renovable/Eólica",
          "Renovable/Hidráulica",
          "Renovable/Hidráulica",
          "Renovable/Solar fotovoltaica",
          "Renovable/Hidráulica",
          "No-Renovable/Ciclo combinado",
          "Renovable/Hidráulica",
          "Renovable/Eólica",
          "Renovable/Solar fotovoltaica",
          "Renovable/Solar fotovoltaica",
          "Renovable/Hidráulica",
          "Renovable/Eólica",
          "No-Renovable/Ciclo combinado",
          "No-Renovable/Ciclo combinado",
          "Renovable/Hidráulica",
          "Renovable/Solar fotovoltaica",
          "Renovable/Hidráulica",
          "Renovable/Solar fotovoltaica",
          "No-Renovable/Ciclo combinado",
          "Renovable/Solar fotovoltaica",
          "No-Renovable/Ciclo combinado",
          "No-Renovable/Ciclo combinado",
          "Renovable/Eólica",
          "No-Renovable/Ciclo combinado",
          "Renovable/Solar fotovoltaica",
          "Renovable/Solar fotovoltaica",
          "No-Renovable/Ciclo combinado",
          "No-Renovable/Ciclo combinado",
          "No-Renovable/Ciclo combinado",
          "Renovable/Solar fotovoltaica",
          "Renovable/Eólica",
          "Renovable/Solar fotovoltaica",
          "No-Renovable/Ciclo combinado",
          "No-Renovable/Ciclo combinado",
          "No-Renovable/Ciclo combinado",
          "No-Renovable/Ciclo combinado",
          "Renovable/Solar fotovoltaica",
          "Renovable/Solar fotovoltaica",
          "Renovable/Eólica",
          "Renovable/Eólica",
          "Renovable/Solar fotovoltaica",
          "Renovable/Eólica",
          "Renovable/Solar fotovoltaica",
          "Renovable/Solar fotovoltaica",
          "Renovable/Eólica",
          "Renovable/Solar fotovoltaica",
          "Renovable/Solar fotovoltaica",
          "Renovable/Solar fotovoltaica",
          "Renovable/Eólica",
          "Renovable/Eólica",
          "Renovable/Solar fotovoltaica",
          "Renovable/Solar fotovoltaica",
          "Renovable/Solar fotovoltaica",
          "No-Renovable/Nuclear",
          "No-Renovable/Nuclear",
          "Renovable/Solar fotovoltaica",
          "No-Renovable/Nuclear",
          "Renovable/Eólica",
          "Renovable/Solar fotovoltaica",
          "Renovable/Solar fotovoltaica",
          "Renovable/Solar fotovoltaica",
          "Renovable/Solar fotovoltaica",
          "Renovable/Eólica",
          "No-Renovable/Ciclo combinado",
          "No-Renovable/Ciclo combinado",
          "Renovable/Solar fotovoltaica",
          "No-Renovable/Nuclear",
          "Renovable/Solar fotovoltaica",
          "No-Renovable/Nuclear",
          "No-Renovable/Nuclear",
          "No-Renovable/Nuclear",
          "No-Renovable/Nuclear",
          "No-Renovable/Nuclear",
          "No-Renovable/Nuclear",
          "No-Renovable/Nuclear",
          "No-Renovable/Nuclear",
          "No-Renovable/Nuclear",
          "No-Renovable/Nuclear",
          "No-Renovable/Nuclear",
          "No-Renovable/Nuclear",
          "No-Renovable/Nuclear",
          "No-Renovable/Nuclear",
          "No-Renovable/Nuclear",
          "No-Renovable/Nuclear",
          "No-Renovable/Nuclear",
          "No-Renovable/Nuclear",
          "No-Renovable/Nuclear",
          "No-Renovable/Nuclear",
          "No-Renovable/Nuclear",
          "No-Renovable/Nuclear",
          "No-Renovable/Nuclear",
          "No-Renovable/Nuclear",
          "No-Renovable/Nuclear",
          "No-Renovable/Nuclear",
          "No-Renovable/Nuclear",
          "Renovable/Eólica",
          "Renovable/Eólica",
          "Renovable/Eólica",
          "Renovable/Solar fotovoltaica",
          "Renovable/Solar fotovoltaica",
          "Renovable/Eólica",
          "Renovable/Eólica",
          "Renovable/Eólica",
          "Renovable/Eólica",
          "Renovable/Eólica",
          "Renovable/Eólica",
          "No-Renovable/Generación no renovable",
          "Renovable/Eólica",
          "Renovable/Eólica",
          "No-Renovable/Generación no renovable",
          "Renovable/Eólica",
          "No-Renovable/Generación no renovable",
          "Renovable/Eólica",
          "Renovable/Generación renovable",
          "No-Renovable/Generación no renovable",
          "No-Renovable/Generación no renovable",
          "No-Renovable/Generación no renovable",
          "No-Renovable/Generación no renovable",
          "No-Renovable/Generación no renovable",
          "Renovable/Eólica",
          "Renovable/Generación renovable",
          "No-Renovable/Generación no renovable",
          "No-Renovable/Generación no renovable",
          "Renovable/Generación renovable",
          "No-Renovable/Generación no renovable",
          "Renovable/Generación renovable",
          "No-Renovable/Generación no renovable",
          "Renovable/Generación renovable",
          "No-Renovable/Generación no renovable",
          "No-Renovable/Generación no renovable",
          "No-Renovable/Generación no renovable",
          "Renovable/Eólica",
          "Renovable/Generación renovable",
          "Renovable/Generación renovable",
          "No-Renovable/Generación no renovable",
          "Renovable/Generación renovable",
          "No-Renovable/Generación no renovable",
          "Renovable/Generación renovable",
          "No-Renovable/Generación no renovable",
          "No-Renovable/Generación no renovable",
          "No-Renovable/Generación no renovable",
          "No-Renovable/Generación no renovable",
          "No-Renovable/Generación no renovable",
          "No-Renovable/Generación no renovable",
          "Renovable/Eólica",
          "No-Renovable/Generación no renovable",
          "No-Renovable/Generación no renovable",
          "Renovable/Eólica",
          "No-Renovable/Generación no renovable",
          "No-Renovable/Generación no renovable",
          "No-Renovable/Generación no renovable",
          "No-Renovable/Generación no renovable",
          "Renovable/Generación renovable",
          "Renovable/Generación renovable",
          "Renovable/Generación renovable",
          "Renovable/Generación renovable",
          "Renovable/Generación renovable",
          "Renovable/Generación renovable",
          "Renovable/Generación renovable",
          "Renovable/Generación renovable",
          "Renovable/Generación renovable",
          "No-Renovable/Generación no renovable",
          "Renovable/Generación renovable",
          "No-Renovable/Generación no renovable",
          "Renovable/Generación renovable",
          "Renovable/Generación renovable",
          "Renovable/Generación renovable",
          "Renovable/Generación renovable",
          "Renovable/Generación renovable",
          "Renovable/Generación renovable",
          "Renovable/Generación renovable",
          "Renovable/Generación renovable",
          "Renovable/Generación renovable",
          "Renovable/Generación renovable",
          "Renovable/Generación renovable",
          "Renovable/Generación renovable",
          "Demanda en b.c./Demanda en b.c.",
          "Demanda en b.c./Demanda en b.c.",
          "Demanda en b.c./Demanda en b.c.",
          "Demanda en b.c./Demanda en b.c.",
          "Demanda en b.c./Demanda en b.c.",
          "Demanda en b.c./Demanda en b.c.",
          "Demanda en b.c./Demanda en b.c.",
          "Demanda en b.c./Demanda en b.c.",
          "Demanda en b.c./Demanda en b.c.",
          "Demanda en b.c./Demanda en b.c.",
          "Demanda en b.c./Demanda en b.c.",
          "Demanda en b.c./Demanda en b.c.",
          "Demanda en b.c./Demanda en b.c.",
          "Demanda en b.c./Demanda en b.c.",
          "Demanda en b.c./Demanda en b.c.",
          "Demanda en b.c./Demanda en b.c.",
          "Demanda en b.c./Demanda en b.c.",
          "Demanda en b.c./Demanda en b.c.",
          "Demanda en b.c./Demanda en b.c.",
          "Demanda en b.c./Demanda en b.c.",
          "Demanda en b.c./Demanda en b.c.",
          "Demanda en b.c./Demanda en b.c.",
          "Demanda en b.c./Demanda en b.c.",
          "Demanda en b.c./Demanda en b.c.",
          "Demanda en b.c./Demanda en b.c.",
          "Demanda en b.c./Demanda en b.c.",
          "Demanda en b.c./Demanda en b.c.",
          "Demanda en b.c./Demanda en b.c.",
          "Demanda en b.c./Demanda en b.c.",
          "Demanda en b.c./Demanda en b.c.",
          "Demanda en b.c./Demanda en b.c.",
          "No-Renovable",
          "No-Renovable",
          "No-Renovable",
          "Demanda en b.c.",
          "Demanda en b.c.",
          "Renovable",
          "No-Renovable",
          "No-Renovable",
          "Renovable",
          "Renovable",
          "Renovable",
          "No-Renovable",
          "No-Renovable",
          "Renovable",
          "No-Renovable",
          "Renovable",
          "Demanda en b.c.",
          "Renovable",
          "Renovable",
          "No-Renovable",
          "No-Renovable",
          "No-Renovable",
          "",
          "",
          ""
         ],
         "type": "treemap",
         "values": [
          0.09367992981296387,
          0.09177566576772092,
          0.09747916541955905,
          0.07832581669507133,
          0.08067116697726642,
          0.07610838821568769,
          0.08327775556044023,
          0.07188467641827591,
          0.08199336602341498,
          0.06451826993690497,
          0.0753986605055855,
          0.06483666082965729,
          0.05680135988735722,
          0.06067575595803195,
          0.05554960224733986,
          0.05215249069277672,
          0.051496863653764706,
          0.054479933439574,
          0.051781317536021894,
          0.049437273761447895,
          0.0444420627980012,
          0.05060727156864037,
          0.03999583456041921,
          0.05117363822252664,
          0.051585774396674874,
          0.039266326451111624,
          0.04307228504818449,
          0.043878053128674314,
          0.04219061769087531,
          0.04252524974526269,
          0.03891848157508852,
          0.035446346076026904,
          0.03512922584152288,
          0.041336510155552515,
          0.03857909709605541,
          0.043950663938449264,
          0.03324056823331869,
          0.03353137170798145,
          0.03694577089716396,
          0.03205257570052361,
          0.031162545737895394,
          0.031239883926711773,
          0.02798117702357773,
          0.03175710494099933,
          0.029547099520745374,
          0.031695746000488176,
          0.03204700815841474,
          0.027129735202967745,
          0.025861591278860976,
          0.023365519150164278,
          0.02140784043398409,
          0.02026612489381606,
          0.01583365627767487,
          0.01858350380610364,
          0.016246920996535002,
          0.013673526379328641,
          0.016311477375770503,
          0.014764921716221692,
          0.00920624647325647,
          0.006070828663430936,
          0.0022414264397902384,
          0.0006858729886747929,
          3.1988167602394415e-9,
          2.8534065169710447e-9,
          0.000004344070285785788,
          0.000012313700404388166,
          0.00004439347547474078,
          0.000028337393802486344,
          0.000053316165733143994,
          0.000043627706094487086,
          0.000034259908495051735,
          0.00003677145619988733,
          0.00007276455304599207,
          0.00008943212765157242,
          0.00008575171104900653,
          0.0001342100272438379,
          0.00013202110363382872,
          0.00013260246688085847,
          0.0002141877794402056,
          0.0001753782166965553,
          0.00013646287601180244,
          0.0001848347811546174,
          0.00021585892701258568,
          0.0002681569708597646,
          0.00032396038369465513,
          0.00033920973752843723,
          0.00029809996609280224,
          0.0003062467125675392,
          0.00031673956567831774,
          0.0002813573431960005,
          0.0003181501616341484,
          0.00039184354282102783,
          0.00035286784489234357,
          0.00043649438687185047,
          0.0005070401364735848,
          0.0027857049707838218,
          0.003464023251381279,
          0.003337107981159029,
          0.003651960973850814,
          0.004656799819076428,
          0.0042393962243834245,
          0.0030303709761255056,
          0.00431461521913186,
          0.004537100304309169,
          0.004613447193115841,
          0.004203619773609618,
          0.004975005324216204,
          0.00418369266196038,
          0.0044665904802716734,
          0.004563581830304945,
          0.004960251171794086,
          0.005243688490380896,
          0.005590437701566541,
          0.004957550525587453,
          0.004314592018550082,
          0.003994978852879979,
          0.005144188369158784,
          0.0051527249056169165,
          0.005125681149331951,
          0.004110765715725988,
          0.005730181326259189,
          0.0061534103843695,
          0.004025488254839649,
          0.005093408856850563,
          0.004741646056424488,
          0.005697853916533961,
          0.005534978040083576,
          0.004335858540800198,
          0.005215446158428852,
          0.004040713909901015,
          0.005193002057576528,
          0.005256025544190538,
          0.004858505580104297,
          0.005833618378208594,
          0.006796429056953554,
          0.00817885987637677,
          0.005858915222298623,
          0.006304859309925257,
          0.006176861745066314,
          0.0060082614652779195,
          0.006805027599877788,
          0.006897938191355252,
          0.006032477049005484,
          0.006208327604247645,
          0.006416504060142765,
          0.006922209274100994,
          0.007431602066228881,
          0.006236998039988155,
          0.006685254241727733,
          0.008064280129166114,
          0.0066305212170622635,
          0.007867403966133692,
          0.008091121791017513,
          0.004734822195766815,
          0.004728485600337115,
          0.008880138007689456,
          0.006825583293604135,
          0.005848933603393376,
          0.006926361195034719,
          0.005922986096509892,
          0.007897382764433343,
          0.005192780243768928,
          0.005323289359223048,
          0.0065354352990015215,
          0.005932247989922384,
          0.00870898117439626,
          0.0053152340410217176,
          0.006098628674646004,
          0.006761881743036039,
          0.009636524673375418,
          0.008465640301136966,
          0.007883185683280572,
          0.009614640508466082,
          0.006347273158027634,
          0.008931034458961764,
          0.006299233069279304,
          0.006350656197913249,
          0.007440838251237238,
          0.006937484552641573,
          0.010478543466898041,
          0.009992412465905084,
          0.00894244197275235,
          0.009302607301525111,
          0.009179692855081958,
          0.009142112447774624,
          0.008286662879029285,
          0.010825482183743003,
          0.005906719951098547,
          0.010012171473473367,
          0.007320525805325766,
          0.011563591626028696,
          0.01170108764677521,
          0.010885754868588567,
          0.009188625268145666,
          0.009550283130545678,
          0.0070109439357298586,
          0.009824980157329731,
          0.011994194424419386,
          0.011985981017459093,
          0.013829692586836298,
          0.013654430975128357,
          0.013879075989567466,
          0.009581340197498608,
          0.011198123792280537,
          0.012033214520239475,
          0.013951930998530277,
          0.011533136260373009,
          0.016067155432784783,
          0.01387548702563528,
          0.013663963315985735,
          0.014374278953829834,
          0.013320309628124805,
          0.012507263935651587,
          0.014033459473007742,
          0.012042648628003224,
          0.014268577656447803,
          0.008550387889723291,
          0.011745242308799616,
          0.010545442429381928,
          0.01474046701512776,
          0.012326580141567373,
          0.014619577840154274,
          0.014986675707170976,
          0.01403218606804707,
          0.013788257339381757,
          0.013730165146107262,
          0.014983682383563018,
          0.014170505384156562,
          0.014657168937983222,
          0.014329363572978843,
          0.013541297702589343,
          0.01997143981989891,
          0.019542515707792578,
          0.019491465467885292,
          0.022156427473233528,
          0.016810066805546958,
          0.02095836393722123,
          0.018199215496413023,
          0.018522989305162975,
          0.022424465098269234,
          0.025923233699183732,
          0.018830232113740686,
          0.019828276242738238,
          0.02233665026294692,
          0.01878533783922487,
          0.0187713681803345,
          0.01926433889328391,
          0.020397871533652783,
          0.02254011598075481,
          0.019532693026530275,
          0.023187669369746082,
          0.01674411338813275,
          0.020957145913478657,
          0.024980589851274097,
          0.02472076921026541,
          0.019602825947964128,
          0.020416518528659108,
          0.02449041166547547,
          0.027933132278439615,
          0.02574682260926553,
          0.02509598638402402,
          0.028003715598304717,
          0.023970962937261687,
          0.02414779895283653,
          0.02260935859981249,
          0.021785993234042768,
          0.022057505606339584,
          0.02231615281385502,
          0.022287663004568362,
          0.025222129554455516,
          0.026165866263717606,
          0.02537395179553,
          0.01929690115084482,
          0.029680758410725018,
          0.017263081980592173,
          0.0194346975133328,
          0.030227259219229197,
          0.016405628192877462,
          0.030530865222584504,
          0.01654989562380696,
          0.02375767260273044,
          0.017744547180555976,
          0.033875201526031566,
          0.03239773840221739,
          0.026126554484222107,
          0.028784865523552947,
          0.057129975995993246,
          0.025852098997777524,
          0.02115458295239132,
          0.025238777266114745,
          0.030487660578932953,
          0.022365402980656833,
          0.02522062636342025,
          0.027615133620653327,
          0.018902367206356376,
          0.025623814114817768,
          0.03138660874165654,
          0.030066085606695932,
          0.03422167613755936,
          0.020589604961040602,
          0.030760150009797236,
          0.028193999968074014,
          0.027739475158886324,
          0.022635320772322054,
          0.022466527903473303,
          0.028108099813627444,
          0.024957071907202286,
          0.026693245142616548,
          0.02547002592938902,
          0.022808122024265312,
          0.025043024575973117,
          0.024317757328760646,
          0.035733337192991745,
          0.023284196517066615,
          0.02095835606113344,
          0.03850389192780657,
          0.023867333286026797,
          0.022142672293447713,
          0.02626876939040789,
          0.023759465438208997,
          0.024815854554458165,
          0.02435595572918604,
          0.026907260801381765,
          0.026595104204363715,
          0.03445770309563429,
          0.027671632335502367,
          0.022458279680928308,
          0.022950302589106516,
          0.03128791062649133,
          0.036297894490640484,
          0.03359798028507111,
          0.03221380146072506,
          0.032400888249607795,
          0.030015081007239153,
          0.030064424509718173,
          0.03977739383966737,
          0.03318698808690964,
          0.03913052323452693,
          0.04199310085317813,
          0.03388639697294278,
          0.036965543511116514,
          0.033503714605505525,
          0.04110853708471734,
          0.037122903707961605,
          0.036138278340782405,
          0.045749863941422504,
          0.03700824241433835,
          0.04319938867591157,
          0.031391559835990596,
          0.049725676738246884,
          0.03958998448165484,
          0.03237102643234087,
          0.05247786002236839,
          0.050942427893397584,
          0.04715090191814879,
          0.05517141960408998,
          0.047752369400006024,
          0.05108619646008714,
          0.04074087064609384,
          0.05076189593434132,
          0.060937648012750215,
          0.05621963740792447,
          0.0485051557385395,
          0.0616515216203229,
          0.06040975733376034,
          0.04273040423826677,
          0.042685180265698536,
          0.055134820581776794,
          0.05458416825173581,
          0.0726121374575948,
          0.05750566785054793,
          0.05640377900167343,
          0.07975283850880145,
          0.06586451256276764,
          0.09749402005800104,
          0.09408476141656526,
          0.093878672815205,
          0.0885877935586896,
          0.08953177488313459,
          0.0901983133886987,
          0.09330659589443098,
          0.08952190351950566,
          0.05943556122443905,
          0.09924348131141107,
          0.0976480089252405,
          0.06335216684224187,
          0.07864734013141271,
          0.11717472366470592,
          0.1160513520267755,
          0.06960271395441223,
          0.08029597655080292,
          0.10876657741936249,
          0.13249515986383822,
          0.11565828698493578,
          0.08241827262200777,
          0.12791211088277782,
          0.13625264444085744,
          0.12545444284855978,
          0.13247796981174273,
          0.13704378105280093,
          0.13010589075908655,
          0.1323678671998914,
          0.13759062481577458,
          0.13714755182814173,
          0.13846466432288684,
          0.11706032563144847,
          0.11791413511654514,
          0.13977776502233205,
          0.1349097385135435,
          0.14437545815118427,
          0.144811780156685,
          0.14279409126982837,
          0.12392764684471097,
          0.121602141383431,
          0.2053911922249131,
          0.14587234199402338,
          0.19840991164179964,
          0.17949546191607382,
          0.12946390113619322,
          0.1330444825387354,
          0.2050821972017012,
          0.188631978145516,
          0.1382617673485177,
          0.13570886151127295,
          0.11907419496253181,
          0.19792934735534884,
          0.15250162393679917,
          0.20553333799865287,
          0.22223102033631265,
          0.1244803352817143,
          0.19838005660363683,
          0.19216677903087626,
          0.2004356779864291,
          0.1402739025246812,
          0.21137140334323834,
          0.23921587570226915,
          0.22136725122371453,
          0.21908188271395082,
          0.22830465659185276,
          0.13664060598681244,
          0.1724561136109803,
          0.21943380207069946,
          0.273899467166021,
          0.2427530550711287,
          0.23845892383484066,
          0.23156093812192702,
          0.2041879477674877,
          0.16473510171876435,
          0.17651117237070058,
          0.265759619624578,
          0.2381187593045791,
          0.2185098915205496,
          0.28230706706341097,
          0.20645188115447635,
          0.18163423658196762,
          0.29780780016332004,
          0.27471336090189097,
          0.2583510417793754,
          0.27255447437631386,
          0.2393665382058037,
          0.3059063467690442,
          0.31409930994562335,
          0.31673755737746534,
          0.2746637016927284,
          0.32612113865515485,
          0.29480011319843796,
          0.27583751373059157,
          0.3259278598820587,
          0.2739851070846534,
          0.1976662733076474,
          0.23882845816575485,
          0.2847262533524637,
          0.28225416425497857,
          0.28852601695333946,
          0.34603634653913934,
          0.3438534735191961,
          0.26363501115404375,
          0.3043747370619531,
          0.31581596804255463,
          0.3126896051346922,
          0.3138891300030864,
          0.31823237554264117,
          0.45563640116840926,
          0.4063873048967647,
          0.37509143197657896,
          0.3854880604974675,
          0.338392657048894,
          0.33993063993735084,
          0.2923895438307371,
          0.3572506058529076,
          0.2859534901748317,
          0.3655773432675451,
          0.3647852638008182,
          0.41337698632140985,
          0.3380705963991305,
          0.40890042047697434,
          0.3614854865725995,
          0.4358537107072895,
          0.5312892440061192,
          0.5360152416322472,
          0.3081497715493707,
          0.5640879017880044,
          0.3975217343687118,
          0.31749501003630554,
          0.35766292408665923,
          0.39873282022613105,
          0.4809362365424328,
          0.37747195928313165,
          0.3840194958098733,
          0.3820515371360584,
          0.33394260594695957,
          0.6110568729247436,
          0.3938657991673299,
          0.4621484438259798,
          0.5713585933567032,
          0.47397223226064,
          0.46557742991845974,
          0.48435400719228305,
          0.5645191790488666,
          0.46905207603154725,
          0.4035874324072524,
          0.4005483401876579,
          0.47500946482075196,
          0.47226611847424793,
          0.5764437035209695,
          0.5698710957808198,
          0.5286486849520048,
          0.5501250886595773,
          0.5531402287565906,
          0.5336773099899765,
          0.5323026497618242,
          0.4526175264966402,
          0.5592285718999924,
          0.47328235281580844,
          0.474903208674386,
          0.4973025460338715,
          0.4633363386414235,
          0.501996134349825,
          0.5605872659047061,
          0.4673482312510491,
          0.43460703192126254,
          0.41029081531836253,
          0.44430277346946706,
          0.4119244061972437,
          0.44003129071794594,
          0.4822805904773866,
          0.4499842002940504,
          0.5466740710613108,
          0.5423203591389699,
          0.5047196674369734,
          0.5293014420382739,
          1,
          0.5708609934046169,
          0.539752072985126,
          1,
          0.5698086182994903,
          1,
          0.6462472507221675,
          1,
          1,
          1,
          1,
          1,
          1,
          0.6529541945421603,
          1,
          1,
          1,
          1,
          1,
          1,
          1,
          1,
          1,
          1,
          1,
          0.6704670260355112,
          1,
          1,
          1,
          1,
          1,
          1,
          1,
          1,
          1,
          1,
          1,
          1,
          0.702816491913024,
          1,
          1,
          0.7117976284832352,
          1,
          1,
          1,
          1,
          1,
          1,
          1,
          1,
          1,
          1,
          1,
          1,
          1,
          1,
          1,
          1,
          1,
          1,
          1,
          1,
          1,
          1,
          1,
          1,
          1,
          1,
          1,
          1,
          1,
          1,
          1,
          1,
          1,
          1,
          1,
          1,
          1,
          1,
          1,
          1,
          1,
          1,
          1,
          1,
          1,
          1,
          1,
          1,
          1,
          1,
          1,
          1,
          1,
          1,
          1,
          1,
          1,
          1,
          1,
          0.8823056350731945,
          7.91756788209413,
          3.7349283642169775,
          0.9010579829741668,
          31,
          14.069521114819201,
          6.052223277210486e-9,
          31,
          31,
          0.005971035198621306,
          4.834177072584137,
          0.7097325883852272,
          15.77965351536497,
          0.7691276641199217,
          0.4026198445682004,
          0.188979486912602,
          1.756213618582162,
          10.153142628509249,
          0.9790809978562692,
          0.1849164612217822,
          0.21777920434957118,
          1.1704964986737236,
          33.65727160155633,
          62,
          62
         ]
        }
       ],
       "layout": {
        "legend": {
         "tracegroupgap": 0
        },
        "margin": {
         "t": 60
        },
        "template": {
         "data": {
          "bar": [
           {
            "error_x": {
             "color": "#2a3f5f"
            },
            "error_y": {
             "color": "#2a3f5f"
            },
            "marker": {
             "line": {
              "color": "#E5ECF6",
              "width": 0.5
             },
             "pattern": {
              "fillmode": "overlay",
              "size": 10,
              "solidity": 0.2
             }
            },
            "type": "bar"
           }
          ],
          "barpolar": [
           {
            "marker": {
             "line": {
              "color": "#E5ECF6",
              "width": 0.5
             },
             "pattern": {
              "fillmode": "overlay",
              "size": 10,
              "solidity": 0.2
             }
            },
            "type": "barpolar"
           }
          ],
          "carpet": [
           {
            "aaxis": {
             "endlinecolor": "#2a3f5f",
             "gridcolor": "white",
             "linecolor": "white",
             "minorgridcolor": "white",
             "startlinecolor": "#2a3f5f"
            },
            "baxis": {
             "endlinecolor": "#2a3f5f",
             "gridcolor": "white",
             "linecolor": "white",
             "minorgridcolor": "white",
             "startlinecolor": "#2a3f5f"
            },
            "type": "carpet"
           }
          ],
          "choropleth": [
           {
            "colorbar": {
             "outlinewidth": 0,
             "ticks": ""
            },
            "type": "choropleth"
           }
          ],
          "contour": [
           {
            "colorbar": {
             "outlinewidth": 0,
             "ticks": ""
            },
            "colorscale": [
             [
              0,
              "#0d0887"
             ],
             [
              0.1111111111111111,
              "#46039f"
             ],
             [
              0.2222222222222222,
              "#7201a8"
             ],
             [
              0.3333333333333333,
              "#9c179e"
             ],
             [
              0.4444444444444444,
              "#bd3786"
             ],
             [
              0.5555555555555556,
              "#d8576b"
             ],
             [
              0.6666666666666666,
              "#ed7953"
             ],
             [
              0.7777777777777778,
              "#fb9f3a"
             ],
             [
              0.8888888888888888,
              "#fdca26"
             ],
             [
              1,
              "#f0f921"
             ]
            ],
            "type": "contour"
           }
          ],
          "contourcarpet": [
           {
            "colorbar": {
             "outlinewidth": 0,
             "ticks": ""
            },
            "type": "contourcarpet"
           }
          ],
          "heatmap": [
           {
            "colorbar": {
             "outlinewidth": 0,
             "ticks": ""
            },
            "colorscale": [
             [
              0,
              "#0d0887"
             ],
             [
              0.1111111111111111,
              "#46039f"
             ],
             [
              0.2222222222222222,
              "#7201a8"
             ],
             [
              0.3333333333333333,
              "#9c179e"
             ],
             [
              0.4444444444444444,
              "#bd3786"
             ],
             [
              0.5555555555555556,
              "#d8576b"
             ],
             [
              0.6666666666666666,
              "#ed7953"
             ],
             [
              0.7777777777777778,
              "#fb9f3a"
             ],
             [
              0.8888888888888888,
              "#fdca26"
             ],
             [
              1,
              "#f0f921"
             ]
            ],
            "type": "heatmap"
           }
          ],
          "heatmapgl": [
           {
            "colorbar": {
             "outlinewidth": 0,
             "ticks": ""
            },
            "colorscale": [
             [
              0,
              "#0d0887"
             ],
             [
              0.1111111111111111,
              "#46039f"
             ],
             [
              0.2222222222222222,
              "#7201a8"
             ],
             [
              0.3333333333333333,
              "#9c179e"
             ],
             [
              0.4444444444444444,
              "#bd3786"
             ],
             [
              0.5555555555555556,
              "#d8576b"
             ],
             [
              0.6666666666666666,
              "#ed7953"
             ],
             [
              0.7777777777777778,
              "#fb9f3a"
             ],
             [
              0.8888888888888888,
              "#fdca26"
             ],
             [
              1,
              "#f0f921"
             ]
            ],
            "type": "heatmapgl"
           }
          ],
          "histogram": [
           {
            "marker": {
             "pattern": {
              "fillmode": "overlay",
              "size": 10,
              "solidity": 0.2
             }
            },
            "type": "histogram"
           }
          ],
          "histogram2d": [
           {
            "colorbar": {
             "outlinewidth": 0,
             "ticks": ""
            },
            "colorscale": [
             [
              0,
              "#0d0887"
             ],
             [
              0.1111111111111111,
              "#46039f"
             ],
             [
              0.2222222222222222,
              "#7201a8"
             ],
             [
              0.3333333333333333,
              "#9c179e"
             ],
             [
              0.4444444444444444,
              "#bd3786"
             ],
             [
              0.5555555555555556,
              "#d8576b"
             ],
             [
              0.6666666666666666,
              "#ed7953"
             ],
             [
              0.7777777777777778,
              "#fb9f3a"
             ],
             [
              0.8888888888888888,
              "#fdca26"
             ],
             [
              1,
              "#f0f921"
             ]
            ],
            "type": "histogram2d"
           }
          ],
          "histogram2dcontour": [
           {
            "colorbar": {
             "outlinewidth": 0,
             "ticks": ""
            },
            "colorscale": [
             [
              0,
              "#0d0887"
             ],
             [
              0.1111111111111111,
              "#46039f"
             ],
             [
              0.2222222222222222,
              "#7201a8"
             ],
             [
              0.3333333333333333,
              "#9c179e"
             ],
             [
              0.4444444444444444,
              "#bd3786"
             ],
             [
              0.5555555555555556,
              "#d8576b"
             ],
             [
              0.6666666666666666,
              "#ed7953"
             ],
             [
              0.7777777777777778,
              "#fb9f3a"
             ],
             [
              0.8888888888888888,
              "#fdca26"
             ],
             [
              1,
              "#f0f921"
             ]
            ],
            "type": "histogram2dcontour"
           }
          ],
          "mesh3d": [
           {
            "colorbar": {
             "outlinewidth": 0,
             "ticks": ""
            },
            "type": "mesh3d"
           }
          ],
          "parcoords": [
           {
            "line": {
             "colorbar": {
              "outlinewidth": 0,
              "ticks": ""
             }
            },
            "type": "parcoords"
           }
          ],
          "pie": [
           {
            "automargin": true,
            "type": "pie"
           }
          ],
          "scatter": [
           {
            "fillpattern": {
             "fillmode": "overlay",
             "size": 10,
             "solidity": 0.2
            },
            "type": "scatter"
           }
          ],
          "scatter3d": [
           {
            "line": {
             "colorbar": {
              "outlinewidth": 0,
              "ticks": ""
             }
            },
            "marker": {
             "colorbar": {
              "outlinewidth": 0,
              "ticks": ""
             }
            },
            "type": "scatter3d"
           }
          ],
          "scattercarpet": [
           {
            "marker": {
             "colorbar": {
              "outlinewidth": 0,
              "ticks": ""
             }
            },
            "type": "scattercarpet"
           }
          ],
          "scattergeo": [
           {
            "marker": {
             "colorbar": {
              "outlinewidth": 0,
              "ticks": ""
             }
            },
            "type": "scattergeo"
           }
          ],
          "scattergl": [
           {
            "marker": {
             "colorbar": {
              "outlinewidth": 0,
              "ticks": ""
             }
            },
            "type": "scattergl"
           }
          ],
          "scattermapbox": [
           {
            "marker": {
             "colorbar": {
              "outlinewidth": 0,
              "ticks": ""
             }
            },
            "type": "scattermapbox"
           }
          ],
          "scatterpolar": [
           {
            "marker": {
             "colorbar": {
              "outlinewidth": 0,
              "ticks": ""
             }
            },
            "type": "scatterpolar"
           }
          ],
          "scatterpolargl": [
           {
            "marker": {
             "colorbar": {
              "outlinewidth": 0,
              "ticks": ""
             }
            },
            "type": "scatterpolargl"
           }
          ],
          "scatterternary": [
           {
            "marker": {
             "colorbar": {
              "outlinewidth": 0,
              "ticks": ""
             }
            },
            "type": "scatterternary"
           }
          ],
          "surface": [
           {
            "colorbar": {
             "outlinewidth": 0,
             "ticks": ""
            },
            "colorscale": [
             [
              0,
              "#0d0887"
             ],
             [
              0.1111111111111111,
              "#46039f"
             ],
             [
              0.2222222222222222,
              "#7201a8"
             ],
             [
              0.3333333333333333,
              "#9c179e"
             ],
             [
              0.4444444444444444,
              "#bd3786"
             ],
             [
              0.5555555555555556,
              "#d8576b"
             ],
             [
              0.6666666666666666,
              "#ed7953"
             ],
             [
              0.7777777777777778,
              "#fb9f3a"
             ],
             [
              0.8888888888888888,
              "#fdca26"
             ],
             [
              1,
              "#f0f921"
             ]
            ],
            "type": "surface"
           }
          ],
          "table": [
           {
            "cells": {
             "fill": {
              "color": "#EBF0F8"
             },
             "line": {
              "color": "white"
             }
            },
            "header": {
             "fill": {
              "color": "#C8D4E3"
             },
             "line": {
              "color": "white"
             }
            },
            "type": "table"
           }
          ]
         },
         "layout": {
          "annotationdefaults": {
           "arrowcolor": "#2a3f5f",
           "arrowhead": 0,
           "arrowwidth": 1
          },
          "autotypenumbers": "strict",
          "coloraxis": {
           "colorbar": {
            "outlinewidth": 0,
            "ticks": ""
           }
          },
          "colorscale": {
           "diverging": [
            [
             0,
             "#8e0152"
            ],
            [
             0.1,
             "#c51b7d"
            ],
            [
             0.2,
             "#de77ae"
            ],
            [
             0.3,
             "#f1b6da"
            ],
            [
             0.4,
             "#fde0ef"
            ],
            [
             0.5,
             "#f7f7f7"
            ],
            [
             0.6,
             "#e6f5d0"
            ],
            [
             0.7,
             "#b8e186"
            ],
            [
             0.8,
             "#7fbc41"
            ],
            [
             0.9,
             "#4d9221"
            ],
            [
             1,
             "#276419"
            ]
           ],
           "sequential": [
            [
             0,
             "#0d0887"
            ],
            [
             0.1111111111111111,
             "#46039f"
            ],
            [
             0.2222222222222222,
             "#7201a8"
            ],
            [
             0.3333333333333333,
             "#9c179e"
            ],
            [
             0.4444444444444444,
             "#bd3786"
            ],
            [
             0.5555555555555556,
             "#d8576b"
            ],
            [
             0.6666666666666666,
             "#ed7953"
            ],
            [
             0.7777777777777778,
             "#fb9f3a"
            ],
            [
             0.8888888888888888,
             "#fdca26"
            ],
            [
             1,
             "#f0f921"
            ]
           ],
           "sequentialminus": [
            [
             0,
             "#0d0887"
            ],
            [
             0.1111111111111111,
             "#46039f"
            ],
            [
             0.2222222222222222,
             "#7201a8"
            ],
            [
             0.3333333333333333,
             "#9c179e"
            ],
            [
             0.4444444444444444,
             "#bd3786"
            ],
            [
             0.5555555555555556,
             "#d8576b"
            ],
            [
             0.6666666666666666,
             "#ed7953"
            ],
            [
             0.7777777777777778,
             "#fb9f3a"
            ],
            [
             0.8888888888888888,
             "#fdca26"
            ],
            [
             1,
             "#f0f921"
            ]
           ]
          },
          "colorway": [
           "#636efa",
           "#EF553B",
           "#00cc96",
           "#ab63fa",
           "#FFA15A",
           "#19d3f3",
           "#FF6692",
           "#B6E880",
           "#FF97FF",
           "#FECB52"
          ],
          "font": {
           "color": "#2a3f5f"
          },
          "geo": {
           "bgcolor": "white",
           "lakecolor": "white",
           "landcolor": "#E5ECF6",
           "showlakes": true,
           "showland": true,
           "subunitcolor": "white"
          },
          "hoverlabel": {
           "align": "left"
          },
          "hovermode": "closest",
          "mapbox": {
           "style": "light"
          },
          "paper_bgcolor": "white",
          "plot_bgcolor": "#E5ECF6",
          "polar": {
           "angularaxis": {
            "gridcolor": "white",
            "linecolor": "white",
            "ticks": ""
           },
           "bgcolor": "#E5ECF6",
           "radialaxis": {
            "gridcolor": "white",
            "linecolor": "white",
            "ticks": ""
           }
          },
          "scene": {
           "xaxis": {
            "backgroundcolor": "#E5ECF6",
            "gridcolor": "white",
            "gridwidth": 2,
            "linecolor": "white",
            "showbackground": true,
            "ticks": "",
            "zerolinecolor": "white"
           },
           "yaxis": {
            "backgroundcolor": "#E5ECF6",
            "gridcolor": "white",
            "gridwidth": 2,
            "linecolor": "white",
            "showbackground": true,
            "ticks": "",
            "zerolinecolor": "white"
           },
           "zaxis": {
            "backgroundcolor": "#E5ECF6",
            "gridcolor": "white",
            "gridwidth": 2,
            "linecolor": "white",
            "showbackground": true,
            "ticks": "",
            "zerolinecolor": "white"
           }
          },
          "shapedefaults": {
           "line": {
            "color": "#2a3f5f"
           }
          },
          "ternary": {
           "aaxis": {
            "gridcolor": "white",
            "linecolor": "white",
            "ticks": ""
           },
           "baxis": {
            "gridcolor": "white",
            "linecolor": "white",
            "ticks": ""
           },
           "bgcolor": "#E5ECF6",
           "caxis": {
            "gridcolor": "white",
            "linecolor": "white",
            "ticks": ""
           }
          },
          "title": {
           "x": 0.05
          },
          "xaxis": {
           "automargin": true,
           "gridcolor": "white",
           "linecolor": "white",
           "ticks": "",
           "title": {
            "standoff": 15
           },
           "zerolinecolor": "white",
           "zerolinewidth": 2
          },
          "yaxis": {
           "automargin": true,
           "gridcolor": "white",
           "linecolor": "white",
           "ticks": "",
           "title": {
            "standoff": 15
           },
           "zerolinecolor": "white",
           "zerolinewidth": 2
          }
         }
        }
       }
      }
     },
     "metadata": {},
     "output_type": "display_data"
    }
   ],
   "source": [
    "px.treemap(data_frame = df_balance,\n",
    "                  values     = 'Porcentaje',\n",
    "                  path       = [\"tipo de energía\", \"nombre\", \"Valores\"],\n",
    "                  hover_name = \"Fecha actualización\")\n"
   ]
  },
  {
   "cell_type": "code",
   "execution_count": 114,
   "metadata": {},
   "outputs": [
    {
     "name": "stderr",
     "output_type": "stream",
     "text": [
      "/opt/anaconda3/lib/python3.11/site-packages/plotly/express/_core.py:1979: FutureWarning:\n",
      "\n",
      "When grouping with a length-1 list-like, you will need to pass a length-1 tuple to get_group in a future version of pandas. Pass `(name,)` instead of `name` to silence this warning.\n",
      "\n"
     ]
    },
    {
     "data": {
      "application/vnd.plotly.v1+json": {
       "config": {
        "plotlyServerURL": "https://plot.ly"
       },
       "data": [
        {
         "hovertemplate": "nombre=Hidráulica<br>Fecha actualización=%{x}<br>Valores=%{y}<extra></extra>",
         "legendgroup": "Hidráulica",
         "line": {
          "color": "#636efa",
          "dash": "solid"
         },
         "marker": {
          "symbol": "circle"
         },
         "mode": "lines",
         "name": "Hidráulica",
         "orientation": "v",
         "showlegend": true,
         "type": "scatter",
         "x": [
          "09/09/2024",
          "10/09/2024",
          "11/09/2024",
          "12/09/2024",
          "13/09/2024",
          "14/09/2024",
          "15/09/2024",
          "16/09/2024",
          "17/09/2024",
          "18/09/2024",
          "19/09/2024",
          "20/09/2024",
          "21/09/2024",
          "22/09/2024",
          "23/09/2024",
          "24/09/2024",
          "25/09/2024",
          "26/09/2024",
          "27/09/2024",
          "28/09/2024",
          "29/09/2024",
          "30/09/2024",
          "01/10/2024",
          "02/10/2024",
          "03/10/2024",
          "04/10/2024",
          "05/10/2024",
          "06/10/2024",
          "07/10/2024",
          "08/10/2024",
          "09/10/2024"
         ],
         "xaxis": "x",
         "y": [
          54386.095,
          51661.691,
          48588.925,
          51775.769,
          39251.575,
          30373.812,
          24767.511,
          28356.661,
          29555.708,
          58595.442,
          89991.12,
          93635.162,
          79993.169,
          73825.361,
          72079.272,
          73920.299,
          48576.483,
          35063.646,
          36018.865,
          44949.149,
          36271.997,
          62652.956,
          76159.7,
          72013.7,
          76861.6,
          92057.3,
          83008.9,
          54807.3,
          63360.6,
          57723.1,
          62214.9
         ],
         "yaxis": "y"
        },
        {
         "hovertemplate": "nombre=Eólica<br>Fecha actualización=%{x}<br>Valores=%{y}<extra></extra>",
         "legendgroup": "Eólica",
         "line": {
          "color": "#EF553B",
          "dash": "solid"
         },
         "marker": {
          "symbol": "circle"
         },
         "mode": "lines",
         "name": "Eólica",
         "orientation": "v",
         "showlegend": true,
         "type": "scatter",
         "x": [
          "09/09/2024",
          "10/09/2024",
          "11/09/2024",
          "12/09/2024",
          "13/09/2024",
          "14/09/2024",
          "15/09/2024",
          "16/09/2024",
          "17/09/2024",
          "18/09/2024",
          "19/09/2024",
          "20/09/2024",
          "21/09/2024",
          "22/09/2024",
          "23/09/2024",
          "24/09/2024",
          "25/09/2024",
          "26/09/2024",
          "27/09/2024",
          "28/09/2024",
          "29/09/2024",
          "30/09/2024",
          "01/10/2024",
          "02/10/2024",
          "03/10/2024",
          "04/10/2024",
          "05/10/2024",
          "06/10/2024",
          "07/10/2024",
          "08/10/2024",
          "09/10/2024"
         ],
         "xaxis": "x",
         "y": [
          138196.934,
          157356.653,
          169068.701,
          191594.307,
          252078.994,
          167846.392,
          181355.473,
          257515.303,
          265833.009,
          170713.706,
          98488.398,
          84157.676,
          103499.279,
          53478.32,
          90237.415,
          123748.272,
          268172.999,
          354056.721,
          256074.662,
          127266.75,
          137854.929,
          75496.802,
          133250.269,
          226460.488,
          235490.559,
          130141.475,
          151013.035,
          216702.928,
          294934.188,
          325019.499,
          355754.33
         ],
         "yaxis": "y"
        },
        {
         "hovertemplate": "nombre=Solar fotovoltaica<br>Fecha actualización=%{x}<br>Valores=%{y}<extra></extra>",
         "legendgroup": "Solar fotovoltaica",
         "line": {
          "color": "#00cc96",
          "dash": "solid"
         },
         "marker": {
          "symbol": "circle"
         },
         "mode": "lines",
         "name": "Solar fotovoltaica",
         "orientation": "v",
         "showlegend": true,
         "type": "scatter",
         "x": [
          "09/09/2024",
          "10/09/2024",
          "11/09/2024",
          "12/09/2024",
          "13/09/2024",
          "14/09/2024",
          "15/09/2024",
          "16/09/2024",
          "17/09/2024",
          "18/09/2024",
          "19/09/2024",
          "20/09/2024",
          "21/09/2024",
          "22/09/2024",
          "23/09/2024",
          "24/09/2024",
          "25/09/2024",
          "26/09/2024",
          "27/09/2024",
          "28/09/2024",
          "29/09/2024",
          "30/09/2024",
          "01/10/2024",
          "02/10/2024",
          "03/10/2024",
          "04/10/2024",
          "05/10/2024",
          "06/10/2024",
          "07/10/2024",
          "08/10/2024",
          "09/10/2024"
         ],
         "xaxis": "x",
         "y": [
          179876.558,
          171718.837,
          162300.438,
          152285.747,
          151206.508,
          153991.676,
          137172.852,
          159323.763,
          143761.218,
          130610.977,
          95711.286,
          103155.812,
          98161.878,
          122809.738,
          143168.545,
          93150.995,
          85671.266,
          99578.017,
          131158.994,
          138737.98,
          128554.397,
          156801.696,
          136356.044,
          99729.262,
          133419.305,
          139022.681,
          120892.099,
          104505.558,
          79728.685,
          88050.07,
          68292.567
         ],
         "yaxis": "y"
        },
        {
         "hovertemplate": "nombre=Solar térmica<br>Fecha actualización=%{x}<br>Valores=%{y}<extra></extra>",
         "legendgroup": "Solar térmica",
         "line": {
          "color": "#ab63fa",
          "dash": "solid"
         },
         "marker": {
          "symbol": "circle"
         },
         "mode": "lines",
         "name": "Solar térmica",
         "orientation": "v",
         "showlegend": true,
         "type": "scatter",
         "x": [
          "09/09/2024",
          "10/09/2024",
          "11/09/2024",
          "12/09/2024",
          "13/09/2024",
          "14/09/2024",
          "15/09/2024",
          "16/09/2024",
          "17/09/2024",
          "18/09/2024",
          "19/09/2024",
          "20/09/2024",
          "21/09/2024",
          "22/09/2024",
          "23/09/2024",
          "24/09/2024",
          "25/09/2024",
          "26/09/2024",
          "27/09/2024",
          "28/09/2024",
          "29/09/2024",
          "30/09/2024",
          "01/10/2024",
          "02/10/2024",
          "03/10/2024",
          "04/10/2024",
          "05/10/2024",
          "06/10/2024",
          "07/10/2024",
          "08/10/2024",
          "09/10/2024"
         ],
         "xaxis": "x",
         "y": [
          23507.241,
          23513.031,
          19987.539,
          17346.651,
          20350.289,
          21080.551,
          20732.747,
          20365.067,
          15102.066,
          11532.644,
          4240.61,
          4136.378,
          7371.57,
          7547.968,
          11036.212,
          1873.764,
          1257.512,
          4307.415,
          14081.507,
          17333.305,
          20145.734,
          20100.509,
          14766.598,
          6991.956,
          10708.082,
          11562.392,
          12727.6,
          8865.7,
          1804.5,
          3398.666,
          2952.161
         ],
         "yaxis": "y"
        },
        {
         "hovertemplate": "nombre=Hidroeólica<br>Fecha actualización=%{x}<br>Valores=%{y}<extra></extra>",
         "legendgroup": "Hidroeólica",
         "line": {
          "color": "#FFA15A",
          "dash": "solid"
         },
         "marker": {
          "symbol": "circle"
         },
         "mode": "lines",
         "name": "Hidroeólica",
         "orientation": "v",
         "showlegend": true,
         "type": "scatter",
         "x": [
          "09/09/2024",
          "10/09/2024",
          "11/09/2024",
          "12/09/2024",
          "13/09/2024",
          "14/09/2024",
          "15/09/2024",
          "16/09/2024",
          "17/09/2024",
          "18/09/2024",
          "19/09/2024",
          "20/09/2024",
          "21/09/2024",
          "22/09/2024",
          "23/09/2024",
          "24/09/2024",
          "25/09/2024",
          "26/09/2024",
          "27/09/2024",
          "28/09/2024",
          "29/09/2024",
          "30/09/2024",
          "01/10/2024",
          "02/10/2024",
          "03/10/2024",
          "04/10/2024",
          "05/10/2024",
          "06/10/2024",
          "07/10/2024",
          "08/10/2024",
          "09/10/2024"
         ],
         "xaxis": "x",
         "y": [
          75.557,
          127.665,
          130.519,
          135.462,
          133.996,
          115.127,
          81.171,
          42.668,
          17.155,
          16.763,
          16.111,
          13.234,
          21.902,
          57.731,
          106.414,
          81.656,
          55.026,
          43.199,
          61.214,
          59.505,
          44.757,
          110.594,
          189.12,
          182.27,
          164.64,
          150.698,
          50.153,
          1.722,
          5.562,
          13.737,
          17.123
         ],
         "yaxis": "y"
        },
        {
         "hovertemplate": "nombre=Otras renovables<br>Fecha actualización=%{x}<br>Valores=%{y}<extra></extra>",
         "legendgroup": "Otras renovables",
         "line": {
          "color": "#19d3f3",
          "dash": "solid"
         },
         "marker": {
          "symbol": "circle"
         },
         "mode": "lines",
         "name": "Otras renovables",
         "orientation": "v",
         "showlegend": true,
         "type": "scatter",
         "x": [
          "09/09/2024",
          "10/09/2024",
          "11/09/2024",
          "12/09/2024",
          "13/09/2024",
          "14/09/2024",
          "15/09/2024",
          "16/09/2024",
          "17/09/2024",
          "18/09/2024",
          "19/09/2024",
          "20/09/2024",
          "21/09/2024",
          "22/09/2024",
          "23/09/2024",
          "24/09/2024",
          "25/09/2024",
          "26/09/2024",
          "27/09/2024",
          "28/09/2024",
          "29/09/2024",
          "30/09/2024",
          "01/10/2024",
          "02/10/2024",
          "03/10/2024",
          "04/10/2024",
          "05/10/2024",
          "06/10/2024",
          "07/10/2024",
          "08/10/2024",
          "09/10/2024"
         ],
         "xaxis": "x",
         "y": [
          10144.257,
          9949.57,
          9398.552,
          10116.307,
          10695.721,
          10271.1,
          9384.789,
          9018.305,
          9777.709,
          10093.205,
          10968.444,
          10272.078,
          9258.75,
          9223.923,
          9261.121,
          9155.37,
          8778.51,
          8337.314,
          9236.007,
          8771.495,
          8712.808,
          9003.48,
          10321.193,
          10170.486,
          8054.556,
          9631.226,
          10221.698,
          9639.618,
          10001.668,
          8601.95,
          8199.484
         ],
         "yaxis": "y"
        },
        {
         "hovertemplate": "nombre=Residuos renovables<br>Fecha actualización=%{x}<br>Valores=%{y}<extra></extra>",
         "legendgroup": "Residuos renovables",
         "line": {
          "color": "#FF6692",
          "dash": "solid"
         },
         "marker": {
          "symbol": "circle"
         },
         "mode": "lines",
         "name": "Residuos renovables",
         "orientation": "v",
         "showlegend": true,
         "type": "scatter",
         "x": [
          "09/09/2024",
          "10/09/2024",
          "11/09/2024",
          "12/09/2024",
          "13/09/2024",
          "14/09/2024",
          "15/09/2024",
          "16/09/2024",
          "17/09/2024",
          "18/09/2024",
          "19/09/2024",
          "20/09/2024",
          "21/09/2024",
          "22/09/2024",
          "23/09/2024",
          "24/09/2024",
          "25/09/2024",
          "26/09/2024",
          "27/09/2024",
          "28/09/2024",
          "29/09/2024",
          "30/09/2024",
          "01/10/2024",
          "02/10/2024",
          "03/10/2024",
          "04/10/2024",
          "05/10/2024",
          "06/10/2024",
          "07/10/2024",
          "08/10/2024",
          "09/10/2024"
         ],
         "xaxis": "x",
         "y": [
          2594.6465,
          2542.334,
          2595.7275,
          2525.833,
          2531.372,
          2524.0025,
          2542.7195,
          2477.4715,
          2483.476,
          2665.578,
          2762.55,
          2736.5295,
          2691.659,
          2591.4775,
          2589.4565,
          2577.857,
          2457.8595,
          2382.0615,
          1944.963,
          2177.0895,
          1900.1475,
          1868.2355,
          1945.3,
          2028.8,
          1878.2,
          2021.4,
          1972.75,
          1879.6,
          1856.8,
          1958.8,
          2366.45
         ],
         "yaxis": "y"
        },
        {
         "hovertemplate": "nombre=Generación renovable<br>Fecha actualización=%{x}<br>Valores=%{y}<extra></extra>",
         "legendgroup": "Generación renovable",
         "line": {
          "color": "#B6E880",
          "dash": "solid"
         },
         "marker": {
          "symbol": "circle"
         },
         "mode": "lines",
         "name": "Generación renovable",
         "orientation": "v",
         "showlegend": true,
         "type": "scatter",
         "x": [
          "09/09/2024",
          "10/09/2024",
          "11/09/2024",
          "12/09/2024",
          "13/09/2024",
          "14/09/2024",
          "15/09/2024",
          "16/09/2024",
          "17/09/2024",
          "18/09/2024",
          "19/09/2024",
          "20/09/2024",
          "21/09/2024",
          "22/09/2024",
          "23/09/2024",
          "24/09/2024",
          "25/09/2024",
          "26/09/2024",
          "27/09/2024",
          "28/09/2024",
          "29/09/2024",
          "30/09/2024",
          "01/10/2024",
          "02/10/2024",
          "03/10/2024",
          "04/10/2024",
          "05/10/2024",
          "06/10/2024",
          "07/10/2024",
          "08/10/2024",
          "09/10/2024"
         ],
         "xaxis": "x",
         "y": [
          408781.2884999999,
          416869.78099999996,
          412070.4015,
          425780.076,
          476248.455,
          386202.66049999994,
          376037.26249999995,
          477099.23850000004,
          466530.341,
          384228.31499999994,
          302178.519,
          298106.86950000003,
          300998.207,
          269534.51849999995,
          328478.4354999999,
          304508.21300000005,
          414969.65550000005,
          503768.37350000005,
          448576.21199999994,
          339295.2735,
          333484.7695,
          326034.2725,
          372988.224,
          417576.962,
          466576.942,
          384587.172,
          379886.2349999999,
          396402.42600000004,
          451692.00299999997,
          484765.82200000004,
          499797.0150000001
         ],
         "yaxis": "y"
        },
        {
         "hovertemplate": "nombre=Turbinación bombeo<br>Fecha actualización=%{x}<br>Valores=%{y}<extra></extra>",
         "legendgroup": "Turbinación bombeo",
         "line": {
          "color": "#FF97FF",
          "dash": "solid"
         },
         "marker": {
          "symbol": "circle"
         },
         "mode": "lines",
         "name": "Turbinación bombeo",
         "orientation": "v",
         "showlegend": true,
         "type": "scatter",
         "x": [
          "09/09/2024",
          "10/09/2024",
          "11/09/2024",
          "12/09/2024",
          "13/09/2024",
          "14/09/2024",
          "15/09/2024",
          "16/09/2024",
          "17/09/2024",
          "18/09/2024",
          "19/09/2024",
          "20/09/2024",
          "21/09/2024",
          "22/09/2024",
          "23/09/2024",
          "24/09/2024",
          "25/09/2024",
          "26/09/2024",
          "27/09/2024",
          "28/09/2024",
          "29/09/2024",
          "30/09/2024",
          "01/10/2024",
          "02/10/2024",
          "03/10/2024",
          "04/10/2024",
          "05/10/2024",
          "06/10/2024",
          "07/10/2024",
          "08/10/2024",
          "09/10/2024"
         ],
         "xaxis": "x",
         "y": [
          16718.097,
          18119.192,
          19295.654,
          16742.391,
          15973.392,
          23817.482,
          21897.701,
          19050.059,
          16718.588,
          10965.108,
          9675.002,
          5583.481,
          6637.878,
          9321.993,
          9390.187,
          13349.637,
          13612.451,
          8857.698,
          14534.355,
          15678.775,
          12370.354,
          11484.908,
          9043.6,
          4016,
          4991.7,
          12501.5,
          9067.2,
          3070.9,
          9643.3,
          8103.1,
          6607.4
         ],
         "yaxis": "y"
        },
        {
         "hovertemplate": "nombre=Nuclear<br>Fecha actualización=%{x}<br>Valores=%{y}<extra></extra>",
         "legendgroup": "Nuclear",
         "line": {
          "color": "#FECB52",
          "dash": "solid"
         },
         "marker": {
          "symbol": "circle"
         },
         "mode": "lines",
         "name": "Nuclear",
         "orientation": "v",
         "showlegend": true,
         "type": "scatter",
         "x": [
          "09/09/2024",
          "10/09/2024",
          "11/09/2024",
          "12/09/2024",
          "13/09/2024",
          "14/09/2024",
          "15/09/2024",
          "16/09/2024",
          "17/09/2024",
          "18/09/2024",
          "19/09/2024",
          "20/09/2024",
          "21/09/2024",
          "22/09/2024",
          "23/09/2024",
          "24/09/2024",
          "25/09/2024",
          "26/09/2024",
          "27/09/2024",
          "28/09/2024",
          "29/09/2024",
          "30/09/2024",
          "01/10/2024",
          "02/10/2024",
          "03/10/2024",
          "04/10/2024",
          "05/10/2024",
          "06/10/2024",
          "07/10/2024",
          "08/10/2024",
          "09/10/2024"
         ],
         "xaxis": "x",
         "y": [
          166309.822,
          166185.417,
          166239.552,
          166178.737,
          166907.61,
          167008.682,
          166810.946,
          166835.849,
          166704.333,
          166471.01,
          166435.032,
          166411.138,
          166479.354,
          167121.073,
          167062.113,
          167134.982,
          166581.161,
          165999.023,
          166568.046,
          167486.281,
          166296.414,
          163814.409,
          167039,
          167605.8,
          167236.2,
          166981.4,
          166527.4,
          162276.1,
          143378.2,
          143691,
          143776.6
         ],
         "yaxis": "y"
        },
        {
         "hovertemplate": "nombre=Ciclo combinado<br>Fecha actualización=%{x}<br>Valores=%{y}<extra></extra>",
         "legendgroup": "Ciclo combinado",
         "line": {
          "color": "#636efa",
          "dash": "solid"
         },
         "marker": {
          "symbol": "circle"
         },
         "mode": "lines",
         "name": "Ciclo combinado",
         "orientation": "v",
         "showlegend": true,
         "type": "scatter",
         "x": [
          "09/09/2024",
          "10/09/2024",
          "11/09/2024",
          "12/09/2024",
          "13/09/2024",
          "14/09/2024",
          "15/09/2024",
          "16/09/2024",
          "17/09/2024",
          "18/09/2024",
          "19/09/2024",
          "20/09/2024",
          "21/09/2024",
          "22/09/2024",
          "23/09/2024",
          "24/09/2024",
          "25/09/2024",
          "26/09/2024",
          "27/09/2024",
          "28/09/2024",
          "29/09/2024",
          "30/09/2024",
          "01/10/2024",
          "02/10/2024",
          "03/10/2024",
          "04/10/2024",
          "05/10/2024",
          "06/10/2024",
          "07/10/2024",
          "08/10/2024",
          "09/10/2024"
         ],
         "xaxis": "x",
         "y": [
          100077.672,
          98458.751,
          81726.909,
          90580.095,
          62848.156,
          53604.737,
          63743.445,
          74545.978,
          66388.354,
          99784.679,
          158749.278,
          158342.694,
          107295.67,
          91593.33,
          96621.58,
          98832.084,
          62511.042,
          59714.396,
          57852.916,
          66137.745,
          67254.129,
          111944.997,
          101831.596,
          112140.344,
          98210.419,
          115801.186,
          54493.427,
          54462.916,
          59973.139,
          64127.222,
          52350.79
         ],
         "yaxis": "y"
        },
        {
         "hovertemplate": "nombre=Carbón<br>Fecha actualización=%{x}<br>Valores=%{y}<extra></extra>",
         "legendgroup": "Carbón",
         "line": {
          "color": "#EF553B",
          "dash": "solid"
         },
         "marker": {
          "symbol": "circle"
         },
         "mode": "lines",
         "name": "Carbón",
         "orientation": "v",
         "showlegend": true,
         "type": "scatter",
         "x": [
          "09/09/2024",
          "10/09/2024",
          "11/09/2024",
          "12/09/2024",
          "13/09/2024",
          "14/09/2024",
          "15/09/2024",
          "16/09/2024",
          "17/09/2024",
          "18/09/2024",
          "19/09/2024",
          "20/09/2024",
          "21/09/2024",
          "22/09/2024",
          "23/09/2024",
          "24/09/2024",
          "25/09/2024",
          "26/09/2024",
          "27/09/2024",
          "28/09/2024",
          "29/09/2024",
          "30/09/2024",
          "01/10/2024",
          "02/10/2024",
          "03/10/2024",
          "04/10/2024",
          "05/10/2024",
          "06/10/2024",
          "07/10/2024",
          "08/10/2024",
          "09/10/2024"
         ],
         "xaxis": "x",
         "y": [
          7820.837,
          11845.921,
          12687.281,
          13015.609,
          12269.678,
          5836.2,
          5878.057,
          7884.831,
          8722.674,
          8845.139,
          9335.246,
          9333.218,
          5925.746,
          7597.991,
          11332.216,
          13035.823,
          12953.608,
          13291.885,
          11626.564,
          7497.911,
          6173.928,
          8421.21,
          8901.3,
          8764,
          9364,
          9396.5,
          5769.5,
          5884,
          8009.9,
          8764,
          9814
         ],
         "yaxis": "y"
        },
        {
         "hovertemplate": "nombre=Motores diésel<br>Fecha actualización=%{x}<br>Valores=%{y}<extra></extra>",
         "legendgroup": "Motores diésel",
         "line": {
          "color": "#00cc96",
          "dash": "solid"
         },
         "marker": {
          "symbol": "circle"
         },
         "mode": "lines",
         "name": "Motores diésel",
         "orientation": "v",
         "showlegend": true,
         "type": "scatter",
         "x": [
          "09/09/2024",
          "10/09/2024",
          "11/09/2024",
          "12/09/2024",
          "13/09/2024",
          "14/09/2024",
          "15/09/2024",
          "16/09/2024",
          "17/09/2024",
          "18/09/2024",
          "19/09/2024",
          "20/09/2024",
          "21/09/2024",
          "22/09/2024",
          "23/09/2024",
          "24/09/2024",
          "25/09/2024",
          "26/09/2024",
          "27/09/2024",
          "28/09/2024",
          "29/09/2024",
          "30/09/2024",
          "01/10/2024",
          "02/10/2024",
          "03/10/2024",
          "04/10/2024",
          "05/10/2024",
          "06/10/2024",
          "07/10/2024",
          "08/10/2024",
          "09/10/2024"
         ],
         "xaxis": "x",
         "y": [
          7724.568,
          7287.569,
          7192.893,
          6848.33,
          7571.729,
          6924.793,
          6797.441,
          7932.293,
          7929.039,
          7820.881,
          8075.466,
          7956.688,
          7856.663,
          6663.394,
          6776.836,
          6771.22,
          7553.43,
          7480.324,
          7225.652,
          6673.506,
          6605.813,
          6450.944,
          6537.454,
          6737.014,
          6795.396,
          7231.95,
          7216.581,
          7418.098,
          8239.317,
          8684.946,
          8634.224
         ],
         "yaxis": "y"
        },
        {
         "hovertemplate": "nombre=Turbina de gas<br>Fecha actualización=%{x}<br>Valores=%{y}<extra></extra>",
         "legendgroup": "Turbina de gas",
         "line": {
          "color": "#ab63fa",
          "dash": "solid"
         },
         "marker": {
          "symbol": "circle"
         },
         "mode": "lines",
         "name": "Turbina de gas",
         "orientation": "v",
         "showlegend": true,
         "type": "scatter",
         "x": [
          "09/09/2024",
          "10/09/2024",
          "11/09/2024",
          "12/09/2024",
          "13/09/2024",
          "14/09/2024",
          "15/09/2024",
          "16/09/2024",
          "17/09/2024",
          "18/09/2024",
          "19/09/2024",
          "20/09/2024",
          "21/09/2024",
          "22/09/2024",
          "23/09/2024",
          "24/09/2024",
          "25/09/2024",
          "26/09/2024",
          "27/09/2024",
          "28/09/2024",
          "29/09/2024",
          "30/09/2024",
          "01/10/2024",
          "02/10/2024",
          "03/10/2024",
          "04/10/2024",
          "05/10/2024",
          "06/10/2024",
          "07/10/2024",
          "08/10/2024",
          "09/10/2024"
         ],
         "xaxis": "x",
         "y": [
          1826.98,
          1594.326,
          1702.453,
          1600.031,
          1046.376,
          1034.5,
          1301.162,
          2468.845,
          3033.987,
          3220.23,
          3041.81,
          2618.565,
          2056.419,
          1412.648,
          2436.565,
          1848.939,
          2173.592,
          2530.254,
          2719.066,
          1486.379,
          1248.844,
          1757.267,
          1815.576,
          1500.404,
          1746.895,
          1027.713,
          1055.006,
          1236.689,
          2396.469,
          2678.692,
          2084.655
         ],
         "yaxis": "y"
        },
        {
         "hovertemplate": "nombre=Turbina de vapor<br>Fecha actualización=%{x}<br>Valores=%{y}<extra></extra>",
         "legendgroup": "Turbina de vapor",
         "line": {
          "color": "#FFA15A",
          "dash": "solid"
         },
         "marker": {
          "symbol": "circle"
         },
         "mode": "lines",
         "name": "Turbina de vapor",
         "orientation": "v",
         "showlegend": true,
         "type": "scatter",
         "x": [
          "09/09/2024",
          "10/09/2024",
          "11/09/2024",
          "12/09/2024",
          "13/09/2024",
          "14/09/2024",
          "15/09/2024",
          "16/09/2024",
          "17/09/2024",
          "18/09/2024",
          "19/09/2024",
          "20/09/2024",
          "21/09/2024",
          "22/09/2024",
          "23/09/2024",
          "24/09/2024",
          "25/09/2024",
          "26/09/2024",
          "27/09/2024",
          "28/09/2024",
          "29/09/2024",
          "30/09/2024",
          "01/10/2024",
          "02/10/2024",
          "03/10/2024",
          "04/10/2024",
          "05/10/2024",
          "06/10/2024",
          "07/10/2024",
          "08/10/2024",
          "09/10/2024"
         ],
         "xaxis": "x",
         "y": [
          2130.324,
          2091.309,
          2120.017,
          2176.693,
          2133.769,
          1354.965,
          1391.281,
          1747.658,
          2059.521,
          1939.779,
          2430.337,
          1779.035,
          2921.146,
          2246.614,
          2332.494,
          2176.039,
          2181.24,
          2594.768,
          2364.96,
          2350.539,
          2189.206,
          2637.5,
          2409.003,
          2236.784,
          2100.416,
          1879.08,
          2329.67,
          2559.136,
          2921.456,
          3136.741,
          2670.806
         ],
         "yaxis": "y"
        },
        {
         "hovertemplate": "nombre=Fuel + Gas<br>Fecha actualización=%{x}<br>Valores=%{y}<extra></extra>",
         "legendgroup": "Fuel + Gas",
         "line": {
          "color": "#19d3f3",
          "dash": "solid"
         },
         "marker": {
          "symbol": "circle"
         },
         "mode": "lines",
         "name": "Fuel + Gas",
         "orientation": "v",
         "showlegend": true,
         "type": "scatter",
         "x": [
          "16/09/2024",
          "18/09/2024"
         ],
         "xaxis": "x",
         "y": [
          -0.001,
          0.001
         ],
         "yaxis": "y"
        },
        {
         "hovertemplate": "nombre=Cogeneración<br>Fecha actualización=%{x}<br>Valores=%{y}<extra></extra>",
         "legendgroup": "Cogeneración",
         "line": {
          "color": "#FF6692",
          "dash": "solid"
         },
         "marker": {
          "symbol": "circle"
         },
         "mode": "lines",
         "name": "Cogeneración",
         "orientation": "v",
         "showlegend": true,
         "type": "scatter",
         "x": [
          "09/09/2024",
          "10/09/2024",
          "11/09/2024",
          "12/09/2024",
          "13/09/2024",
          "14/09/2024",
          "15/09/2024",
          "16/09/2024",
          "17/09/2024",
          "18/09/2024",
          "19/09/2024",
          "20/09/2024",
          "21/09/2024",
          "22/09/2024",
          "23/09/2024",
          "24/09/2024",
          "25/09/2024",
          "26/09/2024",
          "27/09/2024",
          "28/09/2024",
          "29/09/2024",
          "30/09/2024",
          "01/10/2024",
          "02/10/2024",
          "03/10/2024",
          "04/10/2024",
          "05/10/2024",
          "06/10/2024",
          "07/10/2024",
          "08/10/2024",
          "09/10/2024"
         ],
         "xaxis": "x",
         "y": [
          46933.118,
          46440.614,
          47223.732,
          48546.901,
          40107.831,
          34657.713,
          29447.789,
          27985.943,
          27332.783,
          48064.498,
          53794.577,
          55956.812,
          49273.304,
          46054.266,
          50788.6,
          52619.165,
          42934.229,
          26012.013,
          25893.392,
          27877.149,
          29235.207,
          44468.927,
          51109.48,
          51210.46,
          38530.68,
          49771.42,
          38276.2,
          24985.74,
          31621.76,
          25166.3,
          24849.6
         ],
         "yaxis": "y"
        },
        {
         "hovertemplate": "nombre=Residuos no renovables<br>Fecha actualización=%{x}<br>Valores=%{y}<extra></extra>",
         "legendgroup": "Residuos no renovables",
         "line": {
          "color": "#B6E880",
          "dash": "solid"
         },
         "marker": {
          "symbol": "circle"
         },
         "mode": "lines",
         "name": "Residuos no renovables",
         "orientation": "v",
         "showlegend": true,
         "type": "scatter",
         "x": [
          "09/09/2024",
          "10/09/2024",
          "11/09/2024",
          "12/09/2024",
          "13/09/2024",
          "14/09/2024",
          "15/09/2024",
          "16/09/2024",
          "17/09/2024",
          "18/09/2024",
          "19/09/2024",
          "20/09/2024",
          "21/09/2024",
          "22/09/2024",
          "23/09/2024",
          "24/09/2024",
          "25/09/2024",
          "26/09/2024",
          "27/09/2024",
          "28/09/2024",
          "29/09/2024",
          "30/09/2024",
          "01/10/2024",
          "02/10/2024",
          "03/10/2024",
          "04/10/2024",
          "05/10/2024",
          "06/10/2024",
          "07/10/2024",
          "08/10/2024",
          "09/10/2024"
         ],
         "xaxis": "x",
         "y": [
          5024.3765,
          4921.646,
          5030.6205,
          4919.805,
          4699.188,
          4402.1105,
          4302.9865,
          4164.1365,
          4140.589,
          3346.976,
          3981.219,
          4348.2005,
          4065.566,
          4043.8235,
          5040.8035,
          4952.754,
          4606.7385,
          4053.5085,
          3505.792,
          3581.0435,
          3206.7325,
          3482.5895,
          4250.3,
          4420.7,
          4166.7,
          4333.1,
          4152.55,
          3672.7,
          3684.9,
          3720.6,
          4095.25
         ],
         "yaxis": "y"
        },
        {
         "hovertemplate": "nombre=Generación no renovable<br>Fecha actualización=%{x}<br>Valores=%{y}<extra></extra>",
         "legendgroup": "Generación no renovable",
         "line": {
          "color": "#FF97FF",
          "dash": "solid"
         },
         "marker": {
          "symbol": "circle"
         },
         "mode": "lines",
         "name": "Generación no renovable",
         "orientation": "v",
         "showlegend": true,
         "type": "scatter",
         "x": [
          "09/09/2024",
          "10/09/2024",
          "11/09/2024",
          "12/09/2024",
          "13/09/2024",
          "14/09/2024",
          "15/09/2024",
          "16/09/2024",
          "17/09/2024",
          "18/09/2024",
          "19/09/2024",
          "20/09/2024",
          "21/09/2024",
          "22/09/2024",
          "23/09/2024",
          "24/09/2024",
          "25/09/2024",
          "26/09/2024",
          "27/09/2024",
          "28/09/2024",
          "29/09/2024",
          "30/09/2024",
          "01/10/2024",
          "02/10/2024",
          "03/10/2024",
          "04/10/2024",
          "05/10/2024",
          "06/10/2024",
          "07/10/2024",
          "08/10/2024",
          "09/10/2024"
         ],
         "xaxis": "x",
         "y": [
          354565.7945000001,
          356944.745,
          343219.1115,
          350608.59200000006,
          313557.729,
          298641.1825,
          301570.80850000004,
          312615.5915,
          303029.868,
          350458.30100000004,
          415517.967,
          412329.8314999999,
          352511.746,
          336055.13249999995,
          351781.3945,
          360720.6429999999,
          315107.49149999995,
          290533.8695,
          292290.743,
          298769.3285,
          294580.6275,
          354462.7515000001,
          352937.309,
          358631.506,
          333142.4060000001,
          368923.849,
          288887.534,
          265566.279,
          269868.44100000005,
          268072.601,
          254883.325
         ],
         "yaxis": "y"
        },
        {
         "hovertemplate": "nombre=Consumos en bombeo<br>Fecha actualización=%{x}<br>Valores=%{y}<extra></extra>",
         "legendgroup": "Consumos en bombeo",
         "line": {
          "color": "#FECB52",
          "dash": "solid"
         },
         "marker": {
          "symbol": "circle"
         },
         "mode": "lines",
         "name": "Consumos en bombeo",
         "orientation": "v",
         "showlegend": true,
         "type": "scatter",
         "x": [
          "09/09/2024",
          "10/09/2024",
          "11/09/2024",
          "12/09/2024",
          "13/09/2024",
          "14/09/2024",
          "15/09/2024",
          "16/09/2024",
          "17/09/2024",
          "18/09/2024",
          "19/09/2024",
          "20/09/2024",
          "21/09/2024",
          "22/09/2024",
          "23/09/2024",
          "24/09/2024",
          "25/09/2024",
          "26/09/2024",
          "27/09/2024",
          "28/09/2024",
          "29/09/2024",
          "30/09/2024",
          "01/10/2024",
          "02/10/2024",
          "03/10/2024",
          "04/10/2024",
          "05/10/2024",
          "06/10/2024",
          "07/10/2024",
          "08/10/2024",
          "09/10/2024"
         ],
         "xaxis": "x",
         "y": [
          -30029.35,
          -30216.28,
          -25771.441,
          -27173.394,
          -40012.917,
          -42165.889,
          -41243.457,
          -36379.022,
          -28362.316,
          -12677.221,
          -1677.125,
          -4506.807,
          -13055.198,
          -21003.558,
          -18367.203,
          -6185.448,
          -24699.308,
          -34801.155,
          -34760.906,
          -22061.226,
          -29614.368,
          -16745.747,
          -11369.6,
          -11660.4,
          -25476.6,
          -13205.2,
          -14987.2,
          -33277.3,
          -16645.8,
          -27589.6,
          -25645.1
         ],
         "yaxis": "y"
        },
        {
         "hovertemplate": "nombre=Saldo I. internacionales<br>Fecha actualización=%{x}<br>Valores=%{y}<extra></extra>",
         "legendgroup": "Saldo I. internacionales",
         "line": {
          "color": "#636efa",
          "dash": "solid"
         },
         "marker": {
          "symbol": "circle"
         },
         "mode": "lines",
         "name": "Saldo I. internacionales",
         "orientation": "v",
         "showlegend": true,
         "type": "scatter",
         "x": [
          "09/09/2024",
          "10/09/2024",
          "11/09/2024",
          "12/09/2024",
          "13/09/2024",
          "14/09/2024",
          "15/09/2024",
          "16/09/2024",
          "17/09/2024",
          "18/09/2024",
          "19/09/2024",
          "20/09/2024",
          "21/09/2024",
          "22/09/2024",
          "23/09/2024",
          "24/09/2024",
          "25/09/2024",
          "26/09/2024",
          "27/09/2024",
          "28/09/2024",
          "29/09/2024",
          "30/09/2024",
          "01/10/2024",
          "02/10/2024",
          "03/10/2024",
          "04/10/2024",
          "05/10/2024",
          "06/10/2024",
          "07/10/2024",
          "08/10/2024",
          "09/10/2024"
         ],
         "xaxis": "x",
         "y": [
          -61448.838,
          -48420.387,
          -45939.549,
          -44213.613,
          -70519.778,
          -46961.276,
          -77641.473,
          -83476.417,
          -55321.493,
          -32920.686,
          -28866.425,
          -27427.468,
          -35950.27,
          -28805.195,
          -11584.601,
          -460.821,
          -22980.461,
          -57181.573,
          -31408.635,
          -35905.305,
          -58741.817,
          -19443.509,
          -32746.2,
          -64903.1,
          -85294.7,
          -67279.4,
          -55758.8,
          -63158.2,
          -39350,
          -42371.6,
          -40583.5
         ],
         "yaxis": "y"
        },
        {
         "hovertemplate": "nombre=Demanda en b.c.<br>Fecha actualización=%{x}<br>Valores=%{y}<extra></extra>",
         "legendgroup": "Demanda en b.c.",
         "line": {
          "color": "#EF553B",
          "dash": "solid"
         },
         "marker": {
          "symbol": "circle"
         },
         "mode": "lines",
         "name": "Demanda en b.c.",
         "orientation": "v",
         "showlegend": true,
         "type": "scatter",
         "x": [
          "09/09/2024",
          "10/09/2024",
          "11/09/2024",
          "12/09/2024",
          "13/09/2024",
          "14/09/2024",
          "15/09/2024",
          "16/09/2024",
          "17/09/2024",
          "18/09/2024",
          "19/09/2024",
          "20/09/2024",
          "21/09/2024",
          "22/09/2024",
          "23/09/2024",
          "24/09/2024",
          "25/09/2024",
          "26/09/2024",
          "27/09/2024",
          "28/09/2024",
          "29/09/2024",
          "30/09/2024",
          "01/10/2024",
          "02/10/2024",
          "03/10/2024",
          "04/10/2024",
          "05/10/2024",
          "06/10/2024",
          "07/10/2024",
          "08/10/2024",
          "09/10/2024"
         ],
         "xaxis": "x",
         "y": [
          671868.895,
          695177.8589999999,
          683578.523,
          705001.661,
          679273.4890000001,
          595716.678,
          558723.1410000001,
          669859.391,
          685876.4,
          689088.709,
          687152.936,
          678502.426,
          604504.485,
          555780.8979999999,
          650308.026,
          658582.587,
          682397.378,
          702319.515,
          674697.414,
          580098.071,
          539709.212,
          644307.7679999999,
          681809.733,
          699644.968,
          688948.048,
          673026.421,
          598027.769,
          565533.205,
          665564.644,
          682877.223,
          688451.74
         ],
         "yaxis": "y"
        }
       ],
       "layout": {
        "legend": {
         "title": {
          "text": "nombre"
         },
         "tracegroupgap": 0
        },
        "margin": {
         "t": 60
        },
        "template": {
         "data": {
          "bar": [
           {
            "error_x": {
             "color": "#2a3f5f"
            },
            "error_y": {
             "color": "#2a3f5f"
            },
            "marker": {
             "line": {
              "color": "#E5ECF6",
              "width": 0.5
             },
             "pattern": {
              "fillmode": "overlay",
              "size": 10,
              "solidity": 0.2
             }
            },
            "type": "bar"
           }
          ],
          "barpolar": [
           {
            "marker": {
             "line": {
              "color": "#E5ECF6",
              "width": 0.5
             },
             "pattern": {
              "fillmode": "overlay",
              "size": 10,
              "solidity": 0.2
             }
            },
            "type": "barpolar"
           }
          ],
          "carpet": [
           {
            "aaxis": {
             "endlinecolor": "#2a3f5f",
             "gridcolor": "white",
             "linecolor": "white",
             "minorgridcolor": "white",
             "startlinecolor": "#2a3f5f"
            },
            "baxis": {
             "endlinecolor": "#2a3f5f",
             "gridcolor": "white",
             "linecolor": "white",
             "minorgridcolor": "white",
             "startlinecolor": "#2a3f5f"
            },
            "type": "carpet"
           }
          ],
          "choropleth": [
           {
            "colorbar": {
             "outlinewidth": 0,
             "ticks": ""
            },
            "type": "choropleth"
           }
          ],
          "contour": [
           {
            "colorbar": {
             "outlinewidth": 0,
             "ticks": ""
            },
            "colorscale": [
             [
              0,
              "#0d0887"
             ],
             [
              0.1111111111111111,
              "#46039f"
             ],
             [
              0.2222222222222222,
              "#7201a8"
             ],
             [
              0.3333333333333333,
              "#9c179e"
             ],
             [
              0.4444444444444444,
              "#bd3786"
             ],
             [
              0.5555555555555556,
              "#d8576b"
             ],
             [
              0.6666666666666666,
              "#ed7953"
             ],
             [
              0.7777777777777778,
              "#fb9f3a"
             ],
             [
              0.8888888888888888,
              "#fdca26"
             ],
             [
              1,
              "#f0f921"
             ]
            ],
            "type": "contour"
           }
          ],
          "contourcarpet": [
           {
            "colorbar": {
             "outlinewidth": 0,
             "ticks": ""
            },
            "type": "contourcarpet"
           }
          ],
          "heatmap": [
           {
            "colorbar": {
             "outlinewidth": 0,
             "ticks": ""
            },
            "colorscale": [
             [
              0,
              "#0d0887"
             ],
             [
              0.1111111111111111,
              "#46039f"
             ],
             [
              0.2222222222222222,
              "#7201a8"
             ],
             [
              0.3333333333333333,
              "#9c179e"
             ],
             [
              0.4444444444444444,
              "#bd3786"
             ],
             [
              0.5555555555555556,
              "#d8576b"
             ],
             [
              0.6666666666666666,
              "#ed7953"
             ],
             [
              0.7777777777777778,
              "#fb9f3a"
             ],
             [
              0.8888888888888888,
              "#fdca26"
             ],
             [
              1,
              "#f0f921"
             ]
            ],
            "type": "heatmap"
           }
          ],
          "heatmapgl": [
           {
            "colorbar": {
             "outlinewidth": 0,
             "ticks": ""
            },
            "colorscale": [
             [
              0,
              "#0d0887"
             ],
             [
              0.1111111111111111,
              "#46039f"
             ],
             [
              0.2222222222222222,
              "#7201a8"
             ],
             [
              0.3333333333333333,
              "#9c179e"
             ],
             [
              0.4444444444444444,
              "#bd3786"
             ],
             [
              0.5555555555555556,
              "#d8576b"
             ],
             [
              0.6666666666666666,
              "#ed7953"
             ],
             [
              0.7777777777777778,
              "#fb9f3a"
             ],
             [
              0.8888888888888888,
              "#fdca26"
             ],
             [
              1,
              "#f0f921"
             ]
            ],
            "type": "heatmapgl"
           }
          ],
          "histogram": [
           {
            "marker": {
             "pattern": {
              "fillmode": "overlay",
              "size": 10,
              "solidity": 0.2
             }
            },
            "type": "histogram"
           }
          ],
          "histogram2d": [
           {
            "colorbar": {
             "outlinewidth": 0,
             "ticks": ""
            },
            "colorscale": [
             [
              0,
              "#0d0887"
             ],
             [
              0.1111111111111111,
              "#46039f"
             ],
             [
              0.2222222222222222,
              "#7201a8"
             ],
             [
              0.3333333333333333,
              "#9c179e"
             ],
             [
              0.4444444444444444,
              "#bd3786"
             ],
             [
              0.5555555555555556,
              "#d8576b"
             ],
             [
              0.6666666666666666,
              "#ed7953"
             ],
             [
              0.7777777777777778,
              "#fb9f3a"
             ],
             [
              0.8888888888888888,
              "#fdca26"
             ],
             [
              1,
              "#f0f921"
             ]
            ],
            "type": "histogram2d"
           }
          ],
          "histogram2dcontour": [
           {
            "colorbar": {
             "outlinewidth": 0,
             "ticks": ""
            },
            "colorscale": [
             [
              0,
              "#0d0887"
             ],
             [
              0.1111111111111111,
              "#46039f"
             ],
             [
              0.2222222222222222,
              "#7201a8"
             ],
             [
              0.3333333333333333,
              "#9c179e"
             ],
             [
              0.4444444444444444,
              "#bd3786"
             ],
             [
              0.5555555555555556,
              "#d8576b"
             ],
             [
              0.6666666666666666,
              "#ed7953"
             ],
             [
              0.7777777777777778,
              "#fb9f3a"
             ],
             [
              0.8888888888888888,
              "#fdca26"
             ],
             [
              1,
              "#f0f921"
             ]
            ],
            "type": "histogram2dcontour"
           }
          ],
          "mesh3d": [
           {
            "colorbar": {
             "outlinewidth": 0,
             "ticks": ""
            },
            "type": "mesh3d"
           }
          ],
          "parcoords": [
           {
            "line": {
             "colorbar": {
              "outlinewidth": 0,
              "ticks": ""
             }
            },
            "type": "parcoords"
           }
          ],
          "pie": [
           {
            "automargin": true,
            "type": "pie"
           }
          ],
          "scatter": [
           {
            "fillpattern": {
             "fillmode": "overlay",
             "size": 10,
             "solidity": 0.2
            },
            "type": "scatter"
           }
          ],
          "scatter3d": [
           {
            "line": {
             "colorbar": {
              "outlinewidth": 0,
              "ticks": ""
             }
            },
            "marker": {
             "colorbar": {
              "outlinewidth": 0,
              "ticks": ""
             }
            },
            "type": "scatter3d"
           }
          ],
          "scattercarpet": [
           {
            "marker": {
             "colorbar": {
              "outlinewidth": 0,
              "ticks": ""
             }
            },
            "type": "scattercarpet"
           }
          ],
          "scattergeo": [
           {
            "marker": {
             "colorbar": {
              "outlinewidth": 0,
              "ticks": ""
             }
            },
            "type": "scattergeo"
           }
          ],
          "scattergl": [
           {
            "marker": {
             "colorbar": {
              "outlinewidth": 0,
              "ticks": ""
             }
            },
            "type": "scattergl"
           }
          ],
          "scattermapbox": [
           {
            "marker": {
             "colorbar": {
              "outlinewidth": 0,
              "ticks": ""
             }
            },
            "type": "scattermapbox"
           }
          ],
          "scatterpolar": [
           {
            "marker": {
             "colorbar": {
              "outlinewidth": 0,
              "ticks": ""
             }
            },
            "type": "scatterpolar"
           }
          ],
          "scatterpolargl": [
           {
            "marker": {
             "colorbar": {
              "outlinewidth": 0,
              "ticks": ""
             }
            },
            "type": "scatterpolargl"
           }
          ],
          "scatterternary": [
           {
            "marker": {
             "colorbar": {
              "outlinewidth": 0,
              "ticks": ""
             }
            },
            "type": "scatterternary"
           }
          ],
          "surface": [
           {
            "colorbar": {
             "outlinewidth": 0,
             "ticks": ""
            },
            "colorscale": [
             [
              0,
              "#0d0887"
             ],
             [
              0.1111111111111111,
              "#46039f"
             ],
             [
              0.2222222222222222,
              "#7201a8"
             ],
             [
              0.3333333333333333,
              "#9c179e"
             ],
             [
              0.4444444444444444,
              "#bd3786"
             ],
             [
              0.5555555555555556,
              "#d8576b"
             ],
             [
              0.6666666666666666,
              "#ed7953"
             ],
             [
              0.7777777777777778,
              "#fb9f3a"
             ],
             [
              0.8888888888888888,
              "#fdca26"
             ],
             [
              1,
              "#f0f921"
             ]
            ],
            "type": "surface"
           }
          ],
          "table": [
           {
            "cells": {
             "fill": {
              "color": "#EBF0F8"
             },
             "line": {
              "color": "white"
             }
            },
            "header": {
             "fill": {
              "color": "#C8D4E3"
             },
             "line": {
              "color": "white"
             }
            },
            "type": "table"
           }
          ]
         },
         "layout": {
          "annotationdefaults": {
           "arrowcolor": "#2a3f5f",
           "arrowhead": 0,
           "arrowwidth": 1
          },
          "autotypenumbers": "strict",
          "coloraxis": {
           "colorbar": {
            "outlinewidth": 0,
            "ticks": ""
           }
          },
          "colorscale": {
           "diverging": [
            [
             0,
             "#8e0152"
            ],
            [
             0.1,
             "#c51b7d"
            ],
            [
             0.2,
             "#de77ae"
            ],
            [
             0.3,
             "#f1b6da"
            ],
            [
             0.4,
             "#fde0ef"
            ],
            [
             0.5,
             "#f7f7f7"
            ],
            [
             0.6,
             "#e6f5d0"
            ],
            [
             0.7,
             "#b8e186"
            ],
            [
             0.8,
             "#7fbc41"
            ],
            [
             0.9,
             "#4d9221"
            ],
            [
             1,
             "#276419"
            ]
           ],
           "sequential": [
            [
             0,
             "#0d0887"
            ],
            [
             0.1111111111111111,
             "#46039f"
            ],
            [
             0.2222222222222222,
             "#7201a8"
            ],
            [
             0.3333333333333333,
             "#9c179e"
            ],
            [
             0.4444444444444444,
             "#bd3786"
            ],
            [
             0.5555555555555556,
             "#d8576b"
            ],
            [
             0.6666666666666666,
             "#ed7953"
            ],
            [
             0.7777777777777778,
             "#fb9f3a"
            ],
            [
             0.8888888888888888,
             "#fdca26"
            ],
            [
             1,
             "#f0f921"
            ]
           ],
           "sequentialminus": [
            [
             0,
             "#0d0887"
            ],
            [
             0.1111111111111111,
             "#46039f"
            ],
            [
             0.2222222222222222,
             "#7201a8"
            ],
            [
             0.3333333333333333,
             "#9c179e"
            ],
            [
             0.4444444444444444,
             "#bd3786"
            ],
            [
             0.5555555555555556,
             "#d8576b"
            ],
            [
             0.6666666666666666,
             "#ed7953"
            ],
            [
             0.7777777777777778,
             "#fb9f3a"
            ],
            [
             0.8888888888888888,
             "#fdca26"
            ],
            [
             1,
             "#f0f921"
            ]
           ]
          },
          "colorway": [
           "#636efa",
           "#EF553B",
           "#00cc96",
           "#ab63fa",
           "#FFA15A",
           "#19d3f3",
           "#FF6692",
           "#B6E880",
           "#FF97FF",
           "#FECB52"
          ],
          "font": {
           "color": "#2a3f5f"
          },
          "geo": {
           "bgcolor": "white",
           "lakecolor": "white",
           "landcolor": "#E5ECF6",
           "showlakes": true,
           "showland": true,
           "subunitcolor": "white"
          },
          "hoverlabel": {
           "align": "left"
          },
          "hovermode": "closest",
          "mapbox": {
           "style": "light"
          },
          "paper_bgcolor": "white",
          "plot_bgcolor": "#E5ECF6",
          "polar": {
           "angularaxis": {
            "gridcolor": "white",
            "linecolor": "white",
            "ticks": ""
           },
           "bgcolor": "#E5ECF6",
           "radialaxis": {
            "gridcolor": "white",
            "linecolor": "white",
            "ticks": ""
           }
          },
          "scene": {
           "xaxis": {
            "backgroundcolor": "#E5ECF6",
            "gridcolor": "white",
            "gridwidth": 2,
            "linecolor": "white",
            "showbackground": true,
            "ticks": "",
            "zerolinecolor": "white"
           },
           "yaxis": {
            "backgroundcolor": "#E5ECF6",
            "gridcolor": "white",
            "gridwidth": 2,
            "linecolor": "white",
            "showbackground": true,
            "ticks": "",
            "zerolinecolor": "white"
           },
           "zaxis": {
            "backgroundcolor": "#E5ECF6",
            "gridcolor": "white",
            "gridwidth": 2,
            "linecolor": "white",
            "showbackground": true,
            "ticks": "",
            "zerolinecolor": "white"
           }
          },
          "shapedefaults": {
           "line": {
            "color": "#2a3f5f"
           }
          },
          "ternary": {
           "aaxis": {
            "gridcolor": "white",
            "linecolor": "white",
            "ticks": ""
           },
           "baxis": {
            "gridcolor": "white",
            "linecolor": "white",
            "ticks": ""
           },
           "bgcolor": "#E5ECF6",
           "caxis": {
            "gridcolor": "white",
            "linecolor": "white",
            "ticks": ""
           }
          },
          "title": {
           "x": 0.05
          },
          "xaxis": {
           "automargin": true,
           "gridcolor": "white",
           "linecolor": "white",
           "ticks": "",
           "title": {
            "standoff": 15
           },
           "zerolinecolor": "white",
           "zerolinewidth": 2
          },
          "yaxis": {
           "automargin": true,
           "gridcolor": "white",
           "linecolor": "white",
           "ticks": "",
           "title": {
            "standoff": 15
           },
           "zerolinecolor": "white",
           "zerolinewidth": 2
          }
         }
        },
        "xaxis": {
         "anchor": "y",
         "domain": [
          0,
          1
         ],
         "title": {
          "text": "Fecha actualización"
         }
        },
        "yaxis": {
         "anchor": "x",
         "domain": [
          0,
          1
         ],
         "title": {
          "text": "Valores"
         }
        }
       }
      }
     },
     "metadata": {},
     "output_type": "display_data"
    }
   ],
   "source": [
    "px.line(data_frame = df_balance,\n",
    "        x = 'Fecha actualización',\n",
    "        y = 'Valores',\n",
    "        color = 'nombre')\n"
   ]
  },
  {
   "cell_type": "code",
   "execution_count": 119,
   "metadata": {},
   "outputs": [
    {
     "name": "stderr",
     "output_type": "stream",
     "text": [
      "/opt/anaconda3/lib/python3.11/site-packages/plotly/express/_core.py:1979: FutureWarning:\n",
      "\n",
      "When grouping with a length-1 list-like, you will need to pass a length-1 tuple to get_group in a future version of pandas. Pass `(name,)` instead of `name` to silence this warning.\n",
      "\n"
     ]
    },
    {
     "data": {
      "application/vnd.plotly.v1+json": {
       "config": {
        "plotlyServerURL": "https://plot.ly"
       },
       "data": [
        {
         "hovertemplate": "nombre=Hidráulica<br>Valores=%{x}<br>index=%{y}<extra></extra>",
         "legendgroup": "Hidráulica",
         "marker": {
          "color": "#636efa",
          "opacity": 0.9,
          "symbol": "circle"
         },
         "mode": "markers",
         "name": "Hidráulica",
         "orientation": "h",
         "showlegend": true,
         "type": "scatter",
         "x": [
          54386.095,
          51661.691,
          48588.925,
          51775.769,
          39251.575,
          30373.812,
          24767.511,
          28356.661,
          29555.708,
          58595.442,
          89991.12,
          93635.162,
          79993.169,
          73825.361,
          72079.272,
          73920.299,
          48576.483,
          35063.646,
          36018.865,
          44949.149,
          36271.997,
          62652.956,
          76159.7,
          72013.7,
          76861.6,
          92057.3,
          83008.9,
          54807.3,
          63360.6,
          57723.1,
          62214.9
         ],
         "xaxis": "x",
         "y": [
          0,
          1,
          2,
          3,
          4,
          5,
          6,
          7,
          8,
          9,
          10,
          11,
          12,
          13,
          14,
          15,
          16,
          17,
          18,
          19,
          20,
          21,
          22,
          23,
          24,
          25,
          26,
          27,
          28,
          29,
          30
         ],
         "yaxis": "y"
        },
        {
         "hovertemplate": "nombre=Eólica<br>Valores=%{x}<br>index=%{y}<extra></extra>",
         "legendgroup": "Eólica",
         "marker": {
          "color": "#EF553B",
          "opacity": 0.9,
          "symbol": "circle"
         },
         "mode": "markers",
         "name": "Eólica",
         "orientation": "h",
         "showlegend": true,
         "type": "scatter",
         "x": [
          138196.934,
          157356.653,
          169068.701,
          191594.307,
          252078.994,
          167846.392,
          181355.473,
          257515.303,
          265833.009,
          170713.706,
          98488.398,
          84157.676,
          103499.279,
          53478.32,
          90237.415,
          123748.272,
          268172.999,
          354056.721,
          256074.662,
          127266.75,
          137854.929,
          75496.802,
          133250.269,
          226460.488,
          235490.559,
          130141.475,
          151013.035,
          216702.928,
          294934.188,
          325019.499,
          355754.33
         ],
         "xaxis": "x",
         "y": [
          31,
          32,
          33,
          34,
          35,
          36,
          37,
          38,
          39,
          40,
          41,
          42,
          43,
          44,
          45,
          46,
          47,
          48,
          49,
          50,
          51,
          52,
          53,
          54,
          55,
          56,
          57,
          58,
          59,
          60,
          61
         ],
         "yaxis": "y"
        },
        {
         "hovertemplate": "nombre=Solar fotovoltaica<br>Valores=%{x}<br>index=%{y}<extra></extra>",
         "legendgroup": "Solar fotovoltaica",
         "marker": {
          "color": "#00cc96",
          "opacity": 0.9,
          "symbol": "circle"
         },
         "mode": "markers",
         "name": "Solar fotovoltaica",
         "orientation": "h",
         "showlegend": true,
         "type": "scatter",
         "x": [
          179876.558,
          171718.837,
          162300.438,
          152285.747,
          151206.508,
          153991.676,
          137172.852,
          159323.763,
          143761.218,
          130610.977,
          95711.286,
          103155.812,
          98161.878,
          122809.738,
          143168.545,
          93150.995,
          85671.266,
          99578.017,
          131158.994,
          138737.98,
          128554.397,
          156801.696,
          136356.044,
          99729.262,
          133419.305,
          139022.681,
          120892.099,
          104505.558,
          79728.685,
          88050.07,
          68292.567
         ],
         "xaxis": "x",
         "y": [
          62,
          63,
          64,
          65,
          66,
          67,
          68,
          69,
          70,
          71,
          72,
          73,
          74,
          75,
          76,
          77,
          78,
          79,
          80,
          81,
          82,
          83,
          84,
          85,
          86,
          87,
          88,
          89,
          90,
          91,
          92
         ],
         "yaxis": "y"
        },
        {
         "hovertemplate": "nombre=Solar térmica<br>Valores=%{x}<br>index=%{y}<extra></extra>",
         "legendgroup": "Solar térmica",
         "marker": {
          "color": "#ab63fa",
          "opacity": 0.9,
          "symbol": "circle"
         },
         "mode": "markers",
         "name": "Solar térmica",
         "orientation": "h",
         "showlegend": true,
         "type": "scatter",
         "x": [
          23507.241,
          23513.031,
          19987.539,
          17346.651,
          20350.289,
          21080.551,
          20732.747,
          20365.067,
          15102.066,
          11532.644,
          4240.61,
          4136.378,
          7371.57,
          7547.968,
          11036.212,
          1873.764,
          1257.512,
          4307.415,
          14081.507,
          17333.305,
          20145.734,
          20100.509,
          14766.598,
          6991.956,
          10708.082,
          11562.392,
          12727.6,
          8865.7,
          1804.5,
          3398.666,
          2952.161
         ],
         "xaxis": "x",
         "y": [
          93,
          94,
          95,
          96,
          97,
          98,
          99,
          100,
          101,
          102,
          103,
          104,
          105,
          106,
          107,
          108,
          109,
          110,
          111,
          112,
          113,
          114,
          115,
          116,
          117,
          118,
          119,
          120,
          121,
          122,
          123
         ],
         "yaxis": "y"
        },
        {
         "hovertemplate": "nombre=Hidroeólica<br>Valores=%{x}<br>index=%{y}<extra></extra>",
         "legendgroup": "Hidroeólica",
         "marker": {
          "color": "#FFA15A",
          "opacity": 0.9,
          "symbol": "circle"
         },
         "mode": "markers",
         "name": "Hidroeólica",
         "orientation": "h",
         "showlegend": true,
         "type": "scatter",
         "x": [
          75.557,
          127.665,
          130.519,
          135.462,
          133.996,
          115.127,
          81.171,
          42.668,
          17.155,
          16.763,
          16.111,
          13.234,
          21.902,
          57.731,
          106.414,
          81.656,
          55.026,
          43.199,
          61.214,
          59.505,
          44.757,
          110.594,
          189.12,
          182.27,
          164.64,
          150.698,
          50.153,
          1.722,
          5.562,
          13.737,
          17.123
         ],
         "xaxis": "x",
         "y": [
          124,
          125,
          126,
          127,
          128,
          129,
          130,
          131,
          132,
          133,
          134,
          135,
          136,
          137,
          138,
          139,
          140,
          141,
          142,
          143,
          144,
          145,
          146,
          147,
          148,
          149,
          150,
          151,
          152,
          153,
          154
         ],
         "yaxis": "y"
        },
        {
         "hovertemplate": "nombre=Otras renovables<br>Valores=%{x}<br>index=%{y}<extra></extra>",
         "legendgroup": "Otras renovables",
         "marker": {
          "color": "#19d3f3",
          "opacity": 0.9,
          "symbol": "circle"
         },
         "mode": "markers",
         "name": "Otras renovables",
         "orientation": "h",
         "showlegend": true,
         "type": "scatter",
         "x": [
          10144.257,
          9949.57,
          9398.552,
          10116.307,
          10695.721,
          10271.1,
          9384.789,
          9018.305,
          9777.709,
          10093.205,
          10968.444,
          10272.078,
          9258.75,
          9223.923,
          9261.121,
          9155.37,
          8778.51,
          8337.314,
          9236.007,
          8771.495,
          8712.808,
          9003.48,
          10321.193,
          10170.486,
          8054.556,
          9631.226,
          10221.698,
          9639.618,
          10001.668,
          8601.95,
          8199.484
         ],
         "xaxis": "x",
         "y": [
          155,
          156,
          157,
          158,
          159,
          160,
          161,
          162,
          163,
          164,
          165,
          166,
          167,
          168,
          169,
          170,
          171,
          172,
          173,
          174,
          175,
          176,
          177,
          178,
          179,
          180,
          181,
          182,
          183,
          184,
          185
         ],
         "yaxis": "y"
        },
        {
         "hovertemplate": "nombre=Residuos renovables<br>Valores=%{x}<br>index=%{y}<extra></extra>",
         "legendgroup": "Residuos renovables",
         "marker": {
          "color": "#FF6692",
          "opacity": 0.9,
          "symbol": "circle"
         },
         "mode": "markers",
         "name": "Residuos renovables",
         "orientation": "h",
         "showlegend": true,
         "type": "scatter",
         "x": [
          2594.6465,
          2542.334,
          2595.7275,
          2525.833,
          2531.372,
          2524.0025,
          2542.7195,
          2477.4715,
          2483.476,
          2665.578,
          2762.55,
          2736.5295,
          2691.659,
          2591.4775,
          2589.4565,
          2577.857,
          2457.8595,
          2382.0615,
          1944.963,
          2177.0895,
          1900.1475,
          1868.2355,
          1945.3,
          2028.8,
          1878.2,
          2021.4,
          1972.75,
          1879.6,
          1856.8,
          1958.8,
          2366.45
         ],
         "xaxis": "x",
         "y": [
          186,
          187,
          188,
          189,
          190,
          191,
          192,
          193,
          194,
          195,
          196,
          197,
          198,
          199,
          200,
          201,
          202,
          203,
          204,
          205,
          206,
          207,
          208,
          209,
          210,
          211,
          212,
          213,
          214,
          215,
          216
         ],
         "yaxis": "y"
        },
        {
         "hovertemplate": "nombre=Generación renovable<br>Valores=%{x}<br>index=%{y}<extra></extra>",
         "legendgroup": "Generación renovable",
         "marker": {
          "color": "#B6E880",
          "opacity": 0.9,
          "symbol": "circle"
         },
         "mode": "markers",
         "name": "Generación renovable",
         "orientation": "h",
         "showlegend": true,
         "type": "scatter",
         "x": [
          408781.2884999999,
          416869.78099999996,
          412070.4015,
          425780.076,
          476248.455,
          386202.66049999994,
          376037.26249999995,
          477099.23850000004,
          466530.341,
          384228.31499999994,
          302178.519,
          298106.86950000003,
          300998.207,
          269534.51849999995,
          328478.4354999999,
          304508.21300000005,
          414969.65550000005,
          503768.37350000005,
          448576.21199999994,
          339295.2735,
          333484.7695,
          326034.2725,
          372988.224,
          417576.962,
          466576.942,
          384587.172,
          379886.2349999999,
          396402.42600000004,
          451692.00299999997,
          484765.82200000004,
          499797.0150000001
         ],
         "xaxis": "x",
         "y": [
          217,
          218,
          219,
          220,
          221,
          222,
          223,
          224,
          225,
          226,
          227,
          228,
          229,
          230,
          231,
          232,
          233,
          234,
          235,
          236,
          237,
          238,
          239,
          240,
          241,
          242,
          243,
          244,
          245,
          246,
          247
         ],
         "yaxis": "y"
        },
        {
         "hovertemplate": "nombre=Turbinación bombeo<br>Valores=%{x}<br>index=%{y}<extra></extra>",
         "legendgroup": "Turbinación bombeo",
         "marker": {
          "color": "#FF97FF",
          "opacity": 0.9,
          "symbol": "circle"
         },
         "mode": "markers",
         "name": "Turbinación bombeo",
         "orientation": "h",
         "showlegend": true,
         "type": "scatter",
         "x": [
          16718.097,
          18119.192,
          19295.654,
          16742.391,
          15973.392,
          23817.482,
          21897.701,
          19050.059,
          16718.588,
          10965.108,
          9675.002,
          5583.481,
          6637.878,
          9321.993,
          9390.187,
          13349.637,
          13612.451,
          8857.698,
          14534.355,
          15678.775,
          12370.354,
          11484.908,
          9043.6,
          4016,
          4991.7,
          12501.5,
          9067.2,
          3070.9,
          9643.3,
          8103.1,
          6607.4
         ],
         "xaxis": "x",
         "y": [
          248,
          249,
          250,
          251,
          252,
          253,
          254,
          255,
          256,
          257,
          258,
          259,
          260,
          261,
          262,
          263,
          264,
          265,
          266,
          267,
          268,
          269,
          270,
          271,
          272,
          273,
          274,
          275,
          276,
          277,
          278
         ],
         "yaxis": "y"
        },
        {
         "hovertemplate": "nombre=Nuclear<br>Valores=%{x}<br>index=%{y}<extra></extra>",
         "legendgroup": "Nuclear",
         "marker": {
          "color": "#FECB52",
          "opacity": 0.9,
          "symbol": "circle"
         },
         "mode": "markers",
         "name": "Nuclear",
         "orientation": "h",
         "showlegend": true,
         "type": "scatter",
         "x": [
          166309.822,
          166185.417,
          166239.552,
          166178.737,
          166907.61,
          167008.682,
          166810.946,
          166835.849,
          166704.333,
          166471.01,
          166435.032,
          166411.138,
          166479.354,
          167121.073,
          167062.113,
          167134.982,
          166581.161,
          165999.023,
          166568.046,
          167486.281,
          166296.414,
          163814.409,
          167039,
          167605.8,
          167236.2,
          166981.4,
          166527.4,
          162276.1,
          143378.2,
          143691,
          143776.6
         ],
         "xaxis": "x",
         "y": [
          279,
          280,
          281,
          282,
          283,
          284,
          285,
          286,
          287,
          288,
          289,
          290,
          291,
          292,
          293,
          294,
          295,
          296,
          297,
          298,
          299,
          300,
          301,
          302,
          303,
          304,
          305,
          306,
          307,
          308,
          309
         ],
         "yaxis": "y"
        },
        {
         "hovertemplate": "nombre=Ciclo combinado<br>Valores=%{x}<br>index=%{y}<extra></extra>",
         "legendgroup": "Ciclo combinado",
         "marker": {
          "color": "#636efa",
          "opacity": 0.9,
          "symbol": "circle"
         },
         "mode": "markers",
         "name": "Ciclo combinado",
         "orientation": "h",
         "showlegend": true,
         "type": "scatter",
         "x": [
          100077.672,
          98458.751,
          81726.909,
          90580.095,
          62848.156,
          53604.737,
          63743.445,
          74545.978,
          66388.354,
          99784.679,
          158749.278,
          158342.694,
          107295.67,
          91593.33,
          96621.58,
          98832.084,
          62511.042,
          59714.396,
          57852.916,
          66137.745,
          67254.129,
          111944.997,
          101831.596,
          112140.344,
          98210.419,
          115801.186,
          54493.427,
          54462.916,
          59973.139,
          64127.222,
          52350.79
         ],
         "xaxis": "x",
         "y": [
          310,
          311,
          312,
          313,
          314,
          315,
          316,
          317,
          318,
          319,
          320,
          321,
          322,
          323,
          324,
          325,
          326,
          327,
          328,
          329,
          330,
          331,
          332,
          333,
          334,
          335,
          336,
          337,
          338,
          339,
          340
         ],
         "yaxis": "y"
        },
        {
         "hovertemplate": "nombre=Carbón<br>Valores=%{x}<br>index=%{y}<extra></extra>",
         "legendgroup": "Carbón",
         "marker": {
          "color": "#EF553B",
          "opacity": 0.9,
          "symbol": "circle"
         },
         "mode": "markers",
         "name": "Carbón",
         "orientation": "h",
         "showlegend": true,
         "type": "scatter",
         "x": [
          7820.837,
          11845.921,
          12687.281,
          13015.609,
          12269.678,
          5836.2,
          5878.057,
          7884.831,
          8722.674,
          8845.139,
          9335.246,
          9333.218,
          5925.746,
          7597.991,
          11332.216,
          13035.823,
          12953.608,
          13291.885,
          11626.564,
          7497.911,
          6173.928,
          8421.21,
          8901.3,
          8764,
          9364,
          9396.5,
          5769.5,
          5884,
          8009.9,
          8764,
          9814
         ],
         "xaxis": "x",
         "y": [
          341,
          342,
          343,
          344,
          345,
          346,
          347,
          348,
          349,
          350,
          351,
          352,
          353,
          354,
          355,
          356,
          357,
          358,
          359,
          360,
          361,
          362,
          363,
          364,
          365,
          366,
          367,
          368,
          369,
          370,
          371
         ],
         "yaxis": "y"
        },
        {
         "hovertemplate": "nombre=Motores diésel<br>Valores=%{x}<br>index=%{y}<extra></extra>",
         "legendgroup": "Motores diésel",
         "marker": {
          "color": "#00cc96",
          "opacity": 0.9,
          "symbol": "circle"
         },
         "mode": "markers",
         "name": "Motores diésel",
         "orientation": "h",
         "showlegend": true,
         "type": "scatter",
         "x": [
          7724.568,
          7287.569,
          7192.893,
          6848.33,
          7571.729,
          6924.793,
          6797.441,
          7932.293,
          7929.039,
          7820.881,
          8075.466,
          7956.688,
          7856.663,
          6663.394,
          6776.836,
          6771.22,
          7553.43,
          7480.324,
          7225.652,
          6673.506,
          6605.813,
          6450.944,
          6537.454,
          6737.014,
          6795.396,
          7231.95,
          7216.581,
          7418.098,
          8239.317,
          8684.946,
          8634.224
         ],
         "xaxis": "x",
         "y": [
          372,
          373,
          374,
          375,
          376,
          377,
          378,
          379,
          380,
          381,
          382,
          383,
          384,
          385,
          386,
          387,
          388,
          389,
          390,
          391,
          392,
          393,
          394,
          395,
          396,
          397,
          398,
          399,
          400,
          401,
          402
         ],
         "yaxis": "y"
        },
        {
         "hovertemplate": "nombre=Turbina de gas<br>Valores=%{x}<br>index=%{y}<extra></extra>",
         "legendgroup": "Turbina de gas",
         "marker": {
          "color": "#ab63fa",
          "opacity": 0.9,
          "symbol": "circle"
         },
         "mode": "markers",
         "name": "Turbina de gas",
         "orientation": "h",
         "showlegend": true,
         "type": "scatter",
         "x": [
          1826.98,
          1594.326,
          1702.453,
          1600.031,
          1046.376,
          1034.5,
          1301.162,
          2468.845,
          3033.987,
          3220.23,
          3041.81,
          2618.565,
          2056.419,
          1412.648,
          2436.565,
          1848.939,
          2173.592,
          2530.254,
          2719.066,
          1486.379,
          1248.844,
          1757.267,
          1815.576,
          1500.404,
          1746.895,
          1027.713,
          1055.006,
          1236.689,
          2396.469,
          2678.692,
          2084.655
         ],
         "xaxis": "x",
         "y": [
          403,
          404,
          405,
          406,
          407,
          408,
          409,
          410,
          411,
          412,
          413,
          414,
          415,
          416,
          417,
          418,
          419,
          420,
          421,
          422,
          423,
          424,
          425,
          426,
          427,
          428,
          429,
          430,
          431,
          432,
          433
         ],
         "yaxis": "y"
        },
        {
         "hovertemplate": "nombre=Turbina de vapor<br>Valores=%{x}<br>index=%{y}<extra></extra>",
         "legendgroup": "Turbina de vapor",
         "marker": {
          "color": "#FFA15A",
          "opacity": 0.9,
          "symbol": "circle"
         },
         "mode": "markers",
         "name": "Turbina de vapor",
         "orientation": "h",
         "showlegend": true,
         "type": "scatter",
         "x": [
          2130.324,
          2091.309,
          2120.017,
          2176.693,
          2133.769,
          1354.965,
          1391.281,
          1747.658,
          2059.521,
          1939.779,
          2430.337,
          1779.035,
          2921.146,
          2246.614,
          2332.494,
          2176.039,
          2181.24,
          2594.768,
          2364.96,
          2350.539,
          2189.206,
          2637.5,
          2409.003,
          2236.784,
          2100.416,
          1879.08,
          2329.67,
          2559.136,
          2921.456,
          3136.741,
          2670.806
         ],
         "xaxis": "x",
         "y": [
          434,
          435,
          436,
          437,
          438,
          439,
          440,
          441,
          442,
          443,
          444,
          445,
          446,
          447,
          448,
          449,
          450,
          451,
          452,
          453,
          454,
          455,
          456,
          457,
          458,
          459,
          460,
          461,
          462,
          463,
          464
         ],
         "yaxis": "y"
        },
        {
         "hovertemplate": "nombre=Fuel + Gas<br>Valores=%{x}<br>index=%{y}<extra></extra>",
         "legendgroup": "Fuel + Gas",
         "marker": {
          "color": "#19d3f3",
          "opacity": 0.9,
          "symbol": "circle"
         },
         "mode": "markers",
         "name": "Fuel + Gas",
         "orientation": "h",
         "showlegend": true,
         "type": "scatter",
         "x": [
          -0.001,
          0.001
         ],
         "xaxis": "x",
         "y": [
          465,
          466
         ],
         "yaxis": "y"
        },
        {
         "hovertemplate": "nombre=Cogeneración<br>Valores=%{x}<br>index=%{y}<extra></extra>",
         "legendgroup": "Cogeneración",
         "marker": {
          "color": "#FF6692",
          "opacity": 0.9,
          "symbol": "circle"
         },
         "mode": "markers",
         "name": "Cogeneración",
         "orientation": "h",
         "showlegend": true,
         "type": "scatter",
         "x": [
          46933.118,
          46440.614,
          47223.732,
          48546.901,
          40107.831,
          34657.713,
          29447.789,
          27985.943,
          27332.783,
          48064.498,
          53794.577,
          55956.812,
          49273.304,
          46054.266,
          50788.6,
          52619.165,
          42934.229,
          26012.013,
          25893.392,
          27877.149,
          29235.207,
          44468.927,
          51109.48,
          51210.46,
          38530.68,
          49771.42,
          38276.2,
          24985.74,
          31621.76,
          25166.3,
          24849.6
         ],
         "xaxis": "x",
         "y": [
          467,
          468,
          469,
          470,
          471,
          472,
          473,
          474,
          475,
          476,
          477,
          478,
          479,
          480,
          481,
          482,
          483,
          484,
          485,
          486,
          487,
          488,
          489,
          490,
          491,
          492,
          493,
          494,
          495,
          496,
          497
         ],
         "yaxis": "y"
        },
        {
         "hovertemplate": "nombre=Residuos no renovables<br>Valores=%{x}<br>index=%{y}<extra></extra>",
         "legendgroup": "Residuos no renovables",
         "marker": {
          "color": "#B6E880",
          "opacity": 0.9,
          "symbol": "circle"
         },
         "mode": "markers",
         "name": "Residuos no renovables",
         "orientation": "h",
         "showlegend": true,
         "type": "scatter",
         "x": [
          5024.3765,
          4921.646,
          5030.6205,
          4919.805,
          4699.188,
          4402.1105,
          4302.9865,
          4164.1365,
          4140.589,
          3346.976,
          3981.219,
          4348.2005,
          4065.566,
          4043.8235,
          5040.8035,
          4952.754,
          4606.7385,
          4053.5085,
          3505.792,
          3581.0435,
          3206.7325,
          3482.5895,
          4250.3,
          4420.7,
          4166.7,
          4333.1,
          4152.55,
          3672.7,
          3684.9,
          3720.6,
          4095.25
         ],
         "xaxis": "x",
         "y": [
          498,
          499,
          500,
          501,
          502,
          503,
          504,
          505,
          506,
          507,
          508,
          509,
          510,
          511,
          512,
          513,
          514,
          515,
          516,
          517,
          518,
          519,
          520,
          521,
          522,
          523,
          524,
          525,
          526,
          527,
          528
         ],
         "yaxis": "y"
        },
        {
         "hovertemplate": "nombre=Generación no renovable<br>Valores=%{x}<br>index=%{y}<extra></extra>",
         "legendgroup": "Generación no renovable",
         "marker": {
          "color": "#FF97FF",
          "opacity": 0.9,
          "symbol": "circle"
         },
         "mode": "markers",
         "name": "Generación no renovable",
         "orientation": "h",
         "showlegend": true,
         "type": "scatter",
         "x": [
          354565.7945000001,
          356944.745,
          343219.1115,
          350608.59200000006,
          313557.729,
          298641.1825,
          301570.80850000004,
          312615.5915,
          303029.868,
          350458.30100000004,
          415517.967,
          412329.8314999999,
          352511.746,
          336055.13249999995,
          351781.3945,
          360720.6429999999,
          315107.49149999995,
          290533.8695,
          292290.743,
          298769.3285,
          294580.6275,
          354462.7515000001,
          352937.309,
          358631.506,
          333142.4060000001,
          368923.849,
          288887.534,
          265566.279,
          269868.44100000005,
          268072.601,
          254883.325
         ],
         "xaxis": "x",
         "y": [
          529,
          530,
          531,
          532,
          533,
          534,
          535,
          536,
          537,
          538,
          539,
          540,
          541,
          542,
          543,
          544,
          545,
          546,
          547,
          548,
          549,
          550,
          551,
          552,
          553,
          554,
          555,
          556,
          557,
          558,
          559
         ],
         "yaxis": "y"
        },
        {
         "hovertemplate": "nombre=Consumos en bombeo<br>Valores=%{x}<br>index=%{y}<extra></extra>",
         "legendgroup": "Consumos en bombeo",
         "marker": {
          "color": "#FECB52",
          "opacity": 0.9,
          "symbol": "circle"
         },
         "mode": "markers",
         "name": "Consumos en bombeo",
         "orientation": "h",
         "showlegend": true,
         "type": "scatter",
         "x": [
          -30029.35,
          -30216.28,
          -25771.441,
          -27173.394,
          -40012.917,
          -42165.889,
          -41243.457,
          -36379.022,
          -28362.316,
          -12677.221,
          -1677.125,
          -4506.807,
          -13055.198,
          -21003.558,
          -18367.203,
          -6185.448,
          -24699.308,
          -34801.155,
          -34760.906,
          -22061.226,
          -29614.368,
          -16745.747,
          -11369.6,
          -11660.4,
          -25476.6,
          -13205.2,
          -14987.2,
          -33277.3,
          -16645.8,
          -27589.6,
          -25645.1
         ],
         "xaxis": "x",
         "y": [
          560,
          561,
          562,
          563,
          564,
          565,
          566,
          567,
          568,
          569,
          570,
          571,
          572,
          573,
          574,
          575,
          576,
          577,
          578,
          579,
          580,
          581,
          582,
          583,
          584,
          585,
          586,
          587,
          588,
          589,
          590
         ],
         "yaxis": "y"
        },
        {
         "hovertemplate": "nombre=Saldo I. internacionales<br>Valores=%{x}<br>index=%{y}<extra></extra>",
         "legendgroup": "Saldo I. internacionales",
         "marker": {
          "color": "#636efa",
          "opacity": 0.9,
          "symbol": "circle"
         },
         "mode": "markers",
         "name": "Saldo I. internacionales",
         "orientation": "h",
         "showlegend": true,
         "type": "scatter",
         "x": [
          -61448.838,
          -48420.387,
          -45939.549,
          -44213.613,
          -70519.778,
          -46961.276,
          -77641.473,
          -83476.417,
          -55321.493,
          -32920.686,
          -28866.425,
          -27427.468,
          -35950.27,
          -28805.195,
          -11584.601,
          -460.821,
          -22980.461,
          -57181.573,
          -31408.635,
          -35905.305,
          -58741.817,
          -19443.509,
          -32746.2,
          -64903.1,
          -85294.7,
          -67279.4,
          -55758.8,
          -63158.2,
          -39350,
          -42371.6,
          -40583.5
         ],
         "xaxis": "x",
         "y": [
          591,
          592,
          593,
          594,
          595,
          596,
          597,
          598,
          599,
          600,
          601,
          602,
          603,
          604,
          605,
          606,
          607,
          608,
          609,
          610,
          611,
          612,
          613,
          614,
          615,
          616,
          617,
          618,
          619,
          620,
          621
         ],
         "yaxis": "y"
        },
        {
         "hovertemplate": "nombre=Demanda en b.c.<br>Valores=%{x}<br>index=%{y}<extra></extra>",
         "legendgroup": "Demanda en b.c.",
         "marker": {
          "color": "#EF553B",
          "opacity": 0.9,
          "symbol": "circle"
         },
         "mode": "markers",
         "name": "Demanda en b.c.",
         "orientation": "h",
         "showlegend": true,
         "type": "scatter",
         "x": [
          671868.895,
          695177.8589999999,
          683578.523,
          705001.661,
          679273.4890000001,
          595716.678,
          558723.1410000001,
          669859.391,
          685876.4,
          689088.709,
          687152.936,
          678502.426,
          604504.485,
          555780.8979999999,
          650308.026,
          658582.587,
          682397.378,
          702319.515,
          674697.414,
          580098.071,
          539709.212,
          644307.7679999999,
          681809.733,
          699644.968,
          688948.048,
          673026.421,
          598027.769,
          565533.205,
          665564.644,
          682877.223,
          688451.74
         ],
         "xaxis": "x",
         "y": [
          622,
          623,
          624,
          625,
          626,
          627,
          628,
          629,
          630,
          631,
          632,
          633,
          634,
          635,
          636,
          637,
          638,
          639,
          640,
          641,
          642,
          643,
          644,
          645,
          646,
          647,
          648,
          649,
          650,
          651,
          652
         ],
         "yaxis": "y"
        }
       ],
       "layout": {
        "legend": {
         "title": {
          "text": "nombre"
         },
         "tracegroupgap": 0
        },
        "margin": {
         "t": 60
        },
        "template": {
         "data": {
          "bar": [
           {
            "error_x": {
             "color": "#2a3f5f"
            },
            "error_y": {
             "color": "#2a3f5f"
            },
            "marker": {
             "line": {
              "color": "#E5ECF6",
              "width": 0.5
             },
             "pattern": {
              "fillmode": "overlay",
              "size": 10,
              "solidity": 0.2
             }
            },
            "type": "bar"
           }
          ],
          "barpolar": [
           {
            "marker": {
             "line": {
              "color": "#E5ECF6",
              "width": 0.5
             },
             "pattern": {
              "fillmode": "overlay",
              "size": 10,
              "solidity": 0.2
             }
            },
            "type": "barpolar"
           }
          ],
          "carpet": [
           {
            "aaxis": {
             "endlinecolor": "#2a3f5f",
             "gridcolor": "white",
             "linecolor": "white",
             "minorgridcolor": "white",
             "startlinecolor": "#2a3f5f"
            },
            "baxis": {
             "endlinecolor": "#2a3f5f",
             "gridcolor": "white",
             "linecolor": "white",
             "minorgridcolor": "white",
             "startlinecolor": "#2a3f5f"
            },
            "type": "carpet"
           }
          ],
          "choropleth": [
           {
            "colorbar": {
             "outlinewidth": 0,
             "ticks": ""
            },
            "type": "choropleth"
           }
          ],
          "contour": [
           {
            "colorbar": {
             "outlinewidth": 0,
             "ticks": ""
            },
            "colorscale": [
             [
              0,
              "#0d0887"
             ],
             [
              0.1111111111111111,
              "#46039f"
             ],
             [
              0.2222222222222222,
              "#7201a8"
             ],
             [
              0.3333333333333333,
              "#9c179e"
             ],
             [
              0.4444444444444444,
              "#bd3786"
             ],
             [
              0.5555555555555556,
              "#d8576b"
             ],
             [
              0.6666666666666666,
              "#ed7953"
             ],
             [
              0.7777777777777778,
              "#fb9f3a"
             ],
             [
              0.8888888888888888,
              "#fdca26"
             ],
             [
              1,
              "#f0f921"
             ]
            ],
            "type": "contour"
           }
          ],
          "contourcarpet": [
           {
            "colorbar": {
             "outlinewidth": 0,
             "ticks": ""
            },
            "type": "contourcarpet"
           }
          ],
          "heatmap": [
           {
            "colorbar": {
             "outlinewidth": 0,
             "ticks": ""
            },
            "colorscale": [
             [
              0,
              "#0d0887"
             ],
             [
              0.1111111111111111,
              "#46039f"
             ],
             [
              0.2222222222222222,
              "#7201a8"
             ],
             [
              0.3333333333333333,
              "#9c179e"
             ],
             [
              0.4444444444444444,
              "#bd3786"
             ],
             [
              0.5555555555555556,
              "#d8576b"
             ],
             [
              0.6666666666666666,
              "#ed7953"
             ],
             [
              0.7777777777777778,
              "#fb9f3a"
             ],
             [
              0.8888888888888888,
              "#fdca26"
             ],
             [
              1,
              "#f0f921"
             ]
            ],
            "type": "heatmap"
           }
          ],
          "heatmapgl": [
           {
            "colorbar": {
             "outlinewidth": 0,
             "ticks": ""
            },
            "colorscale": [
             [
              0,
              "#0d0887"
             ],
             [
              0.1111111111111111,
              "#46039f"
             ],
             [
              0.2222222222222222,
              "#7201a8"
             ],
             [
              0.3333333333333333,
              "#9c179e"
             ],
             [
              0.4444444444444444,
              "#bd3786"
             ],
             [
              0.5555555555555556,
              "#d8576b"
             ],
             [
              0.6666666666666666,
              "#ed7953"
             ],
             [
              0.7777777777777778,
              "#fb9f3a"
             ],
             [
              0.8888888888888888,
              "#fdca26"
             ],
             [
              1,
              "#f0f921"
             ]
            ],
            "type": "heatmapgl"
           }
          ],
          "histogram": [
           {
            "marker": {
             "pattern": {
              "fillmode": "overlay",
              "size": 10,
              "solidity": 0.2
             }
            },
            "type": "histogram"
           }
          ],
          "histogram2d": [
           {
            "colorbar": {
             "outlinewidth": 0,
             "ticks": ""
            },
            "colorscale": [
             [
              0,
              "#0d0887"
             ],
             [
              0.1111111111111111,
              "#46039f"
             ],
             [
              0.2222222222222222,
              "#7201a8"
             ],
             [
              0.3333333333333333,
              "#9c179e"
             ],
             [
              0.4444444444444444,
              "#bd3786"
             ],
             [
              0.5555555555555556,
              "#d8576b"
             ],
             [
              0.6666666666666666,
              "#ed7953"
             ],
             [
              0.7777777777777778,
              "#fb9f3a"
             ],
             [
              0.8888888888888888,
              "#fdca26"
             ],
             [
              1,
              "#f0f921"
             ]
            ],
            "type": "histogram2d"
           }
          ],
          "histogram2dcontour": [
           {
            "colorbar": {
             "outlinewidth": 0,
             "ticks": ""
            },
            "colorscale": [
             [
              0,
              "#0d0887"
             ],
             [
              0.1111111111111111,
              "#46039f"
             ],
             [
              0.2222222222222222,
              "#7201a8"
             ],
             [
              0.3333333333333333,
              "#9c179e"
             ],
             [
              0.4444444444444444,
              "#bd3786"
             ],
             [
              0.5555555555555556,
              "#d8576b"
             ],
             [
              0.6666666666666666,
              "#ed7953"
             ],
             [
              0.7777777777777778,
              "#fb9f3a"
             ],
             [
              0.8888888888888888,
              "#fdca26"
             ],
             [
              1,
              "#f0f921"
             ]
            ],
            "type": "histogram2dcontour"
           }
          ],
          "mesh3d": [
           {
            "colorbar": {
             "outlinewidth": 0,
             "ticks": ""
            },
            "type": "mesh3d"
           }
          ],
          "parcoords": [
           {
            "line": {
             "colorbar": {
              "outlinewidth": 0,
              "ticks": ""
             }
            },
            "type": "parcoords"
           }
          ],
          "pie": [
           {
            "automargin": true,
            "type": "pie"
           }
          ],
          "scatter": [
           {
            "fillpattern": {
             "fillmode": "overlay",
             "size": 10,
             "solidity": 0.2
            },
            "type": "scatter"
           }
          ],
          "scatter3d": [
           {
            "line": {
             "colorbar": {
              "outlinewidth": 0,
              "ticks": ""
             }
            },
            "marker": {
             "colorbar": {
              "outlinewidth": 0,
              "ticks": ""
             }
            },
            "type": "scatter3d"
           }
          ],
          "scattercarpet": [
           {
            "marker": {
             "colorbar": {
              "outlinewidth": 0,
              "ticks": ""
             }
            },
            "type": "scattercarpet"
           }
          ],
          "scattergeo": [
           {
            "marker": {
             "colorbar": {
              "outlinewidth": 0,
              "ticks": ""
             }
            },
            "type": "scattergeo"
           }
          ],
          "scattergl": [
           {
            "marker": {
             "colorbar": {
              "outlinewidth": 0,
              "ticks": ""
             }
            },
            "type": "scattergl"
           }
          ],
          "scattermapbox": [
           {
            "marker": {
             "colorbar": {
              "outlinewidth": 0,
              "ticks": ""
             }
            },
            "type": "scattermapbox"
           }
          ],
          "scatterpolar": [
           {
            "marker": {
             "colorbar": {
              "outlinewidth": 0,
              "ticks": ""
             }
            },
            "type": "scatterpolar"
           }
          ],
          "scatterpolargl": [
           {
            "marker": {
             "colorbar": {
              "outlinewidth": 0,
              "ticks": ""
             }
            },
            "type": "scatterpolargl"
           }
          ],
          "scatterternary": [
           {
            "marker": {
             "colorbar": {
              "outlinewidth": 0,
              "ticks": ""
             }
            },
            "type": "scatterternary"
           }
          ],
          "surface": [
           {
            "colorbar": {
             "outlinewidth": 0,
             "ticks": ""
            },
            "colorscale": [
             [
              0,
              "#0d0887"
             ],
             [
              0.1111111111111111,
              "#46039f"
             ],
             [
              0.2222222222222222,
              "#7201a8"
             ],
             [
              0.3333333333333333,
              "#9c179e"
             ],
             [
              0.4444444444444444,
              "#bd3786"
             ],
             [
              0.5555555555555556,
              "#d8576b"
             ],
             [
              0.6666666666666666,
              "#ed7953"
             ],
             [
              0.7777777777777778,
              "#fb9f3a"
             ],
             [
              0.8888888888888888,
              "#fdca26"
             ],
             [
              1,
              "#f0f921"
             ]
            ],
            "type": "surface"
           }
          ],
          "table": [
           {
            "cells": {
             "fill": {
              "color": "#EBF0F8"
             },
             "line": {
              "color": "white"
             }
            },
            "header": {
             "fill": {
              "color": "#C8D4E3"
             },
             "line": {
              "color": "white"
             }
            },
            "type": "table"
           }
          ]
         },
         "layout": {
          "annotationdefaults": {
           "arrowcolor": "#2a3f5f",
           "arrowhead": 0,
           "arrowwidth": 1
          },
          "autotypenumbers": "strict",
          "coloraxis": {
           "colorbar": {
            "outlinewidth": 0,
            "ticks": ""
           }
          },
          "colorscale": {
           "diverging": [
            [
             0,
             "#8e0152"
            ],
            [
             0.1,
             "#c51b7d"
            ],
            [
             0.2,
             "#de77ae"
            ],
            [
             0.3,
             "#f1b6da"
            ],
            [
             0.4,
             "#fde0ef"
            ],
            [
             0.5,
             "#f7f7f7"
            ],
            [
             0.6,
             "#e6f5d0"
            ],
            [
             0.7,
             "#b8e186"
            ],
            [
             0.8,
             "#7fbc41"
            ],
            [
             0.9,
             "#4d9221"
            ],
            [
             1,
             "#276419"
            ]
           ],
           "sequential": [
            [
             0,
             "#0d0887"
            ],
            [
             0.1111111111111111,
             "#46039f"
            ],
            [
             0.2222222222222222,
             "#7201a8"
            ],
            [
             0.3333333333333333,
             "#9c179e"
            ],
            [
             0.4444444444444444,
             "#bd3786"
            ],
            [
             0.5555555555555556,
             "#d8576b"
            ],
            [
             0.6666666666666666,
             "#ed7953"
            ],
            [
             0.7777777777777778,
             "#fb9f3a"
            ],
            [
             0.8888888888888888,
             "#fdca26"
            ],
            [
             1,
             "#f0f921"
            ]
           ],
           "sequentialminus": [
            [
             0,
             "#0d0887"
            ],
            [
             0.1111111111111111,
             "#46039f"
            ],
            [
             0.2222222222222222,
             "#7201a8"
            ],
            [
             0.3333333333333333,
             "#9c179e"
            ],
            [
             0.4444444444444444,
             "#bd3786"
            ],
            [
             0.5555555555555556,
             "#d8576b"
            ],
            [
             0.6666666666666666,
             "#ed7953"
            ],
            [
             0.7777777777777778,
             "#fb9f3a"
            ],
            [
             0.8888888888888888,
             "#fdca26"
            ],
            [
             1,
             "#f0f921"
            ]
           ]
          },
          "colorway": [
           "#636efa",
           "#EF553B",
           "#00cc96",
           "#ab63fa",
           "#FFA15A",
           "#19d3f3",
           "#FF6692",
           "#B6E880",
           "#FF97FF",
           "#FECB52"
          ],
          "font": {
           "color": "#2a3f5f"
          },
          "geo": {
           "bgcolor": "white",
           "lakecolor": "white",
           "landcolor": "#E5ECF6",
           "showlakes": true,
           "showland": true,
           "subunitcolor": "white"
          },
          "hoverlabel": {
           "align": "left"
          },
          "hovermode": "closest",
          "mapbox": {
           "style": "light"
          },
          "paper_bgcolor": "white",
          "plot_bgcolor": "#E5ECF6",
          "polar": {
           "angularaxis": {
            "gridcolor": "white",
            "linecolor": "white",
            "ticks": ""
           },
           "bgcolor": "#E5ECF6",
           "radialaxis": {
            "gridcolor": "white",
            "linecolor": "white",
            "ticks": ""
           }
          },
          "scene": {
           "xaxis": {
            "backgroundcolor": "#E5ECF6",
            "gridcolor": "white",
            "gridwidth": 2,
            "linecolor": "white",
            "showbackground": true,
            "ticks": "",
            "zerolinecolor": "white"
           },
           "yaxis": {
            "backgroundcolor": "#E5ECF6",
            "gridcolor": "white",
            "gridwidth": 2,
            "linecolor": "white",
            "showbackground": true,
            "ticks": "",
            "zerolinecolor": "white"
           },
           "zaxis": {
            "backgroundcolor": "#E5ECF6",
            "gridcolor": "white",
            "gridwidth": 2,
            "linecolor": "white",
            "showbackground": true,
            "ticks": "",
            "zerolinecolor": "white"
           }
          },
          "shapedefaults": {
           "line": {
            "color": "#2a3f5f"
           }
          },
          "ternary": {
           "aaxis": {
            "gridcolor": "white",
            "linecolor": "white",
            "ticks": ""
           },
           "baxis": {
            "gridcolor": "white",
            "linecolor": "white",
            "ticks": ""
           },
           "bgcolor": "#E5ECF6",
           "caxis": {
            "gridcolor": "white",
            "linecolor": "white",
            "ticks": ""
           }
          },
          "title": {
           "x": 0.05
          },
          "xaxis": {
           "automargin": true,
           "gridcolor": "white",
           "linecolor": "white",
           "ticks": "",
           "title": {
            "standoff": 15
           },
           "zerolinecolor": "white",
           "zerolinewidth": 2
          },
          "yaxis": {
           "automargin": true,
           "gridcolor": "white",
           "linecolor": "white",
           "ticks": "",
           "title": {
            "standoff": 15
           },
           "zerolinecolor": "white",
           "zerolinewidth": 2
          }
         }
        },
        "xaxis": {
         "anchor": "y",
         "domain": [
          0,
          1
         ],
         "title": {
          "text": "Valores"
         }
        },
        "yaxis": {
         "anchor": "x",
         "domain": [
          0,
          1
         ],
         "title": {
          "text": "index"
         }
        }
       }
      }
     },
     "metadata": {},
     "output_type": "display_data"
    }
   ],
   "source": [
    "px.scatter(data_frame = df_balance,\n",
    "            x = 'Valores',\n",
    "            color = 'nombre',\n",
    "            opacity     = 0.9,\n",
    "            size_max    = 30\n",
    "          )"
   ]
  },
  {
   "cell_type": "code",
   "execution_count": 147,
   "metadata": {},
   "outputs": [
    {
     "data": {
      "application/vnd.plotly.v1+json": {
       "config": {
        "plotlyServerURL": "https://plot.ly"
       },
       "data": [
        {
         "alignmentgroup": "True",
         "hovertemplate": "Valores=%{x}<br>nombre=%{y}<extra></extra>",
         "legendgroup": "",
         "marker": {
          "color": "#636efa"
         },
         "name": "",
         "notched": false,
         "offsetgroup": "",
         "orientation": "h",
         "showlegend": false,
         "type": "box",
         "x": [
          54386.095,
          51661.691,
          48588.925,
          51775.769,
          39251.575,
          30373.812,
          24767.511,
          28356.661,
          29555.708,
          58595.442,
          89991.12,
          93635.162,
          79993.169,
          73825.361,
          72079.272,
          73920.299,
          48576.483,
          35063.646,
          36018.865,
          44949.149,
          36271.997,
          62652.956,
          76159.7,
          72013.7,
          76861.6,
          92057.3,
          83008.9,
          54807.3,
          63360.6,
          57723.1,
          62214.9,
          138196.934,
          157356.653,
          169068.701,
          191594.307,
          252078.994,
          167846.392,
          181355.473,
          257515.303,
          265833.009,
          170713.706,
          98488.398,
          84157.676,
          103499.279,
          53478.32,
          90237.415,
          123748.272,
          268172.999,
          354056.721,
          256074.662,
          127266.75,
          137854.929,
          75496.802,
          133250.269,
          226460.488,
          235490.559,
          130141.475,
          151013.035,
          216702.928,
          294934.188,
          325019.499,
          355754.33,
          179876.558,
          171718.837,
          162300.438,
          152285.747,
          151206.508,
          153991.676,
          137172.852,
          159323.763,
          143761.218,
          130610.977,
          95711.286,
          103155.812,
          98161.878,
          122809.738,
          143168.545,
          93150.995,
          85671.266,
          99578.017,
          131158.994,
          138737.98,
          128554.397,
          156801.696,
          136356.044,
          99729.262,
          133419.305,
          139022.681,
          120892.099,
          104505.558,
          79728.685,
          88050.07,
          68292.567,
          23507.241,
          23513.031,
          19987.539,
          17346.651,
          20350.289,
          21080.551,
          20732.747,
          20365.067,
          15102.066,
          11532.644,
          4240.61,
          4136.378,
          7371.57,
          7547.968,
          11036.212,
          1873.764,
          1257.512,
          4307.415,
          14081.507,
          17333.305,
          20145.734,
          20100.509,
          14766.598,
          6991.956,
          10708.082,
          11562.392,
          12727.6,
          8865.7,
          1804.5,
          3398.666,
          2952.161,
          75.557,
          127.665,
          130.519,
          135.462,
          133.996,
          115.127,
          81.171,
          42.668,
          17.155,
          16.763,
          16.111,
          13.234,
          21.902,
          57.731,
          106.414,
          81.656,
          55.026,
          43.199,
          61.214,
          59.505,
          44.757,
          110.594,
          189.12,
          182.27,
          164.64,
          150.698,
          50.153,
          1.722,
          5.562,
          13.737,
          17.123,
          10144.257,
          9949.57,
          9398.552,
          10116.307,
          10695.721,
          10271.1,
          9384.789,
          9018.305,
          9777.709,
          10093.205,
          10968.444,
          10272.078,
          9258.75,
          9223.923,
          9261.121,
          9155.37,
          8778.51,
          8337.314,
          9236.007,
          8771.495,
          8712.808,
          9003.48,
          10321.193,
          10170.486,
          8054.556,
          9631.226,
          10221.698,
          9639.618,
          10001.668,
          8601.95,
          8199.484,
          2594.6465,
          2542.334,
          2595.7275,
          2525.833,
          2531.372,
          2524.0025,
          2542.7195,
          2477.4715,
          2483.476,
          2665.578,
          2762.55,
          2736.5295,
          2691.659,
          2591.4775,
          2589.4565,
          2577.857,
          2457.8595,
          2382.0615,
          1944.963,
          2177.0895,
          1900.1475,
          1868.2355,
          1945.3,
          2028.8,
          1878.2,
          2021.4,
          1972.75,
          1879.6,
          1856.8,
          1958.8,
          2366.45,
          408781.2884999999,
          416869.78099999996,
          412070.4015,
          425780.076,
          476248.455,
          386202.66049999994,
          376037.26249999995,
          477099.23850000004,
          466530.341,
          384228.31499999994,
          302178.519,
          298106.86950000003,
          300998.207,
          269534.51849999995,
          328478.4354999999,
          304508.21300000005,
          414969.65550000005,
          503768.37350000005,
          448576.21199999994,
          339295.2735,
          333484.7695,
          326034.2725,
          372988.224,
          417576.962,
          466576.942,
          384587.172,
          379886.2349999999,
          396402.42600000004,
          451692.00299999997,
          484765.82200000004,
          499797.0150000001,
          16718.097,
          18119.192,
          19295.654,
          16742.391,
          15973.392,
          23817.482,
          21897.701,
          19050.059,
          16718.588,
          10965.108,
          9675.002,
          5583.481,
          6637.878,
          9321.993,
          9390.187,
          13349.637,
          13612.451,
          8857.698,
          14534.355,
          15678.775,
          12370.354,
          11484.908,
          9043.6,
          4016,
          4991.7,
          12501.5,
          9067.2,
          3070.9,
          9643.3,
          8103.1,
          6607.4,
          166309.822,
          166185.417,
          166239.552,
          166178.737,
          166907.61,
          167008.682,
          166810.946,
          166835.849,
          166704.333,
          166471.01,
          166435.032,
          166411.138,
          166479.354,
          167121.073,
          167062.113,
          167134.982,
          166581.161,
          165999.023,
          166568.046,
          167486.281,
          166296.414,
          163814.409,
          167039,
          167605.8,
          167236.2,
          166981.4,
          166527.4,
          162276.1,
          143378.2,
          143691,
          143776.6,
          100077.672,
          98458.751,
          81726.909,
          90580.095,
          62848.156,
          53604.737,
          63743.445,
          74545.978,
          66388.354,
          99784.679,
          158749.278,
          158342.694,
          107295.67,
          91593.33,
          96621.58,
          98832.084,
          62511.042,
          59714.396,
          57852.916,
          66137.745,
          67254.129,
          111944.997,
          101831.596,
          112140.344,
          98210.419,
          115801.186,
          54493.427,
          54462.916,
          59973.139,
          64127.222,
          52350.79,
          7820.837,
          11845.921,
          12687.281,
          13015.609,
          12269.678,
          5836.2,
          5878.057,
          7884.831,
          8722.674,
          8845.139,
          9335.246,
          9333.218,
          5925.746,
          7597.991,
          11332.216,
          13035.823,
          12953.608,
          13291.885,
          11626.564,
          7497.911,
          6173.928,
          8421.21,
          8901.3,
          8764,
          9364,
          9396.5,
          5769.5,
          5884,
          8009.9,
          8764,
          9814,
          7724.568,
          7287.569,
          7192.893,
          6848.33,
          7571.729,
          6924.793,
          6797.441,
          7932.293,
          7929.039,
          7820.881,
          8075.466,
          7956.688,
          7856.663,
          6663.394,
          6776.836,
          6771.22,
          7553.43,
          7480.324,
          7225.652,
          6673.506,
          6605.813,
          6450.944,
          6537.454,
          6737.014,
          6795.396,
          7231.95,
          7216.581,
          7418.098,
          8239.317,
          8684.946,
          8634.224,
          1826.98,
          1594.326,
          1702.453,
          1600.031,
          1046.376,
          1034.5,
          1301.162,
          2468.845,
          3033.987,
          3220.23,
          3041.81,
          2618.565,
          2056.419,
          1412.648,
          2436.565,
          1848.939,
          2173.592,
          2530.254,
          2719.066,
          1486.379,
          1248.844,
          1757.267,
          1815.576,
          1500.404,
          1746.895,
          1027.713,
          1055.006,
          1236.689,
          2396.469,
          2678.692,
          2084.655,
          2130.324,
          2091.309,
          2120.017,
          2176.693,
          2133.769,
          1354.965,
          1391.281,
          1747.658,
          2059.521,
          1939.779,
          2430.337,
          1779.035,
          2921.146,
          2246.614,
          2332.494,
          2176.039,
          2181.24,
          2594.768,
          2364.96,
          2350.539,
          2189.206,
          2637.5,
          2409.003,
          2236.784,
          2100.416,
          1879.08,
          2329.67,
          2559.136,
          2921.456,
          3136.741,
          2670.806,
          -0.001,
          0.001,
          46933.118,
          46440.614,
          47223.732,
          48546.901,
          40107.831,
          34657.713,
          29447.789,
          27985.943,
          27332.783,
          48064.498,
          53794.577,
          55956.812,
          49273.304,
          46054.266,
          50788.6,
          52619.165,
          42934.229,
          26012.013,
          25893.392,
          27877.149,
          29235.207,
          44468.927,
          51109.48,
          51210.46,
          38530.68,
          49771.42,
          38276.2,
          24985.74,
          31621.76,
          25166.3,
          24849.6,
          5024.3765,
          4921.646,
          5030.6205,
          4919.805,
          4699.188,
          4402.1105,
          4302.9865,
          4164.1365,
          4140.589,
          3346.976,
          3981.219,
          4348.2005,
          4065.566,
          4043.8235,
          5040.8035,
          4952.754,
          4606.7385,
          4053.5085,
          3505.792,
          3581.0435,
          3206.7325,
          3482.5895,
          4250.3,
          4420.7,
          4166.7,
          4333.1,
          4152.55,
          3672.7,
          3684.9,
          3720.6,
          4095.25,
          354565.7945000001,
          356944.745,
          343219.1115,
          350608.59200000006,
          313557.729,
          298641.1825,
          301570.80850000004,
          312615.5915,
          303029.868,
          350458.30100000004,
          415517.967,
          412329.8314999999,
          352511.746,
          336055.13249999995,
          351781.3945,
          360720.6429999999,
          315107.49149999995,
          290533.8695,
          292290.743,
          298769.3285,
          294580.6275,
          354462.7515000001,
          352937.309,
          358631.506,
          333142.4060000001,
          368923.849,
          288887.534,
          265566.279,
          269868.44100000005,
          268072.601,
          254883.325,
          -30029.35,
          -30216.28,
          -25771.441,
          -27173.394,
          -40012.917,
          -42165.889,
          -41243.457,
          -36379.022,
          -28362.316,
          -12677.221,
          -1677.125,
          -4506.807,
          -13055.198,
          -21003.558,
          -18367.203,
          -6185.448,
          -24699.308,
          -34801.155,
          -34760.906,
          -22061.226,
          -29614.368,
          -16745.747,
          -11369.6,
          -11660.4,
          -25476.6,
          -13205.2,
          -14987.2,
          -33277.3,
          -16645.8,
          -27589.6,
          -25645.1,
          -61448.838,
          -48420.387,
          -45939.549,
          -44213.613,
          -70519.778,
          -46961.276,
          -77641.473,
          -83476.417,
          -55321.493,
          -32920.686,
          -28866.425,
          -27427.468,
          -35950.27,
          -28805.195,
          -11584.601,
          -460.821,
          -22980.461,
          -57181.573,
          -31408.635,
          -35905.305,
          -58741.817,
          -19443.509,
          -32746.2,
          -64903.1,
          -85294.7,
          -67279.4,
          -55758.8,
          -63158.2,
          -39350,
          -42371.6,
          -40583.5,
          671868.895,
          695177.8589999999,
          683578.523,
          705001.661,
          679273.4890000001,
          595716.678,
          558723.1410000001,
          669859.391,
          685876.4,
          689088.709,
          687152.936,
          678502.426,
          604504.485,
          555780.8979999999,
          650308.026,
          658582.587,
          682397.378,
          702319.515,
          674697.414,
          580098.071,
          539709.212,
          644307.7679999999,
          681809.733,
          699644.968,
          688948.048,
          673026.421,
          598027.769,
          565533.205,
          665564.644,
          682877.223,
          688451.74
         ],
         "x0": " ",
         "xaxis": "x",
         "y": [
          "Hidráulica",
          "Hidráulica",
          "Hidráulica",
          "Hidráulica",
          "Hidráulica",
          "Hidráulica",
          "Hidráulica",
          "Hidráulica",
          "Hidráulica",
          "Hidráulica",
          "Hidráulica",
          "Hidráulica",
          "Hidráulica",
          "Hidráulica",
          "Hidráulica",
          "Hidráulica",
          "Hidráulica",
          "Hidráulica",
          "Hidráulica",
          "Hidráulica",
          "Hidráulica",
          "Hidráulica",
          "Hidráulica",
          "Hidráulica",
          "Hidráulica",
          "Hidráulica",
          "Hidráulica",
          "Hidráulica",
          "Hidráulica",
          "Hidráulica",
          "Hidráulica",
          "Eólica",
          "Eólica",
          "Eólica",
          "Eólica",
          "Eólica",
          "Eólica",
          "Eólica",
          "Eólica",
          "Eólica",
          "Eólica",
          "Eólica",
          "Eólica",
          "Eólica",
          "Eólica",
          "Eólica",
          "Eólica",
          "Eólica",
          "Eólica",
          "Eólica",
          "Eólica",
          "Eólica",
          "Eólica",
          "Eólica",
          "Eólica",
          "Eólica",
          "Eólica",
          "Eólica",
          "Eólica",
          "Eólica",
          "Eólica",
          "Eólica",
          "Solar fotovoltaica",
          "Solar fotovoltaica",
          "Solar fotovoltaica",
          "Solar fotovoltaica",
          "Solar fotovoltaica",
          "Solar fotovoltaica",
          "Solar fotovoltaica",
          "Solar fotovoltaica",
          "Solar fotovoltaica",
          "Solar fotovoltaica",
          "Solar fotovoltaica",
          "Solar fotovoltaica",
          "Solar fotovoltaica",
          "Solar fotovoltaica",
          "Solar fotovoltaica",
          "Solar fotovoltaica",
          "Solar fotovoltaica",
          "Solar fotovoltaica",
          "Solar fotovoltaica",
          "Solar fotovoltaica",
          "Solar fotovoltaica",
          "Solar fotovoltaica",
          "Solar fotovoltaica",
          "Solar fotovoltaica",
          "Solar fotovoltaica",
          "Solar fotovoltaica",
          "Solar fotovoltaica",
          "Solar fotovoltaica",
          "Solar fotovoltaica",
          "Solar fotovoltaica",
          "Solar fotovoltaica",
          "Solar térmica",
          "Solar térmica",
          "Solar térmica",
          "Solar térmica",
          "Solar térmica",
          "Solar térmica",
          "Solar térmica",
          "Solar térmica",
          "Solar térmica",
          "Solar térmica",
          "Solar térmica",
          "Solar térmica",
          "Solar térmica",
          "Solar térmica",
          "Solar térmica",
          "Solar térmica",
          "Solar térmica",
          "Solar térmica",
          "Solar térmica",
          "Solar térmica",
          "Solar térmica",
          "Solar térmica",
          "Solar térmica",
          "Solar térmica",
          "Solar térmica",
          "Solar térmica",
          "Solar térmica",
          "Solar térmica",
          "Solar térmica",
          "Solar térmica",
          "Solar térmica",
          "Hidroeólica",
          "Hidroeólica",
          "Hidroeólica",
          "Hidroeólica",
          "Hidroeólica",
          "Hidroeólica",
          "Hidroeólica",
          "Hidroeólica",
          "Hidroeólica",
          "Hidroeólica",
          "Hidroeólica",
          "Hidroeólica",
          "Hidroeólica",
          "Hidroeólica",
          "Hidroeólica",
          "Hidroeólica",
          "Hidroeólica",
          "Hidroeólica",
          "Hidroeólica",
          "Hidroeólica",
          "Hidroeólica",
          "Hidroeólica",
          "Hidroeólica",
          "Hidroeólica",
          "Hidroeólica",
          "Hidroeólica",
          "Hidroeólica",
          "Hidroeólica",
          "Hidroeólica",
          "Hidroeólica",
          "Hidroeólica",
          "Otras renovables",
          "Otras renovables",
          "Otras renovables",
          "Otras renovables",
          "Otras renovables",
          "Otras renovables",
          "Otras renovables",
          "Otras renovables",
          "Otras renovables",
          "Otras renovables",
          "Otras renovables",
          "Otras renovables",
          "Otras renovables",
          "Otras renovables",
          "Otras renovables",
          "Otras renovables",
          "Otras renovables",
          "Otras renovables",
          "Otras renovables",
          "Otras renovables",
          "Otras renovables",
          "Otras renovables",
          "Otras renovables",
          "Otras renovables",
          "Otras renovables",
          "Otras renovables",
          "Otras renovables",
          "Otras renovables",
          "Otras renovables",
          "Otras renovables",
          "Otras renovables",
          "Residuos renovables",
          "Residuos renovables",
          "Residuos renovables",
          "Residuos renovables",
          "Residuos renovables",
          "Residuos renovables",
          "Residuos renovables",
          "Residuos renovables",
          "Residuos renovables",
          "Residuos renovables",
          "Residuos renovables",
          "Residuos renovables",
          "Residuos renovables",
          "Residuos renovables",
          "Residuos renovables",
          "Residuos renovables",
          "Residuos renovables",
          "Residuos renovables",
          "Residuos renovables",
          "Residuos renovables",
          "Residuos renovables",
          "Residuos renovables",
          "Residuos renovables",
          "Residuos renovables",
          "Residuos renovables",
          "Residuos renovables",
          "Residuos renovables",
          "Residuos renovables",
          "Residuos renovables",
          "Residuos renovables",
          "Residuos renovables",
          "Generación renovable",
          "Generación renovable",
          "Generación renovable",
          "Generación renovable",
          "Generación renovable",
          "Generación renovable",
          "Generación renovable",
          "Generación renovable",
          "Generación renovable",
          "Generación renovable",
          "Generación renovable",
          "Generación renovable",
          "Generación renovable",
          "Generación renovable",
          "Generación renovable",
          "Generación renovable",
          "Generación renovable",
          "Generación renovable",
          "Generación renovable",
          "Generación renovable",
          "Generación renovable",
          "Generación renovable",
          "Generación renovable",
          "Generación renovable",
          "Generación renovable",
          "Generación renovable",
          "Generación renovable",
          "Generación renovable",
          "Generación renovable",
          "Generación renovable",
          "Generación renovable",
          "Turbinación bombeo",
          "Turbinación bombeo",
          "Turbinación bombeo",
          "Turbinación bombeo",
          "Turbinación bombeo",
          "Turbinación bombeo",
          "Turbinación bombeo",
          "Turbinación bombeo",
          "Turbinación bombeo",
          "Turbinación bombeo",
          "Turbinación bombeo",
          "Turbinación bombeo",
          "Turbinación bombeo",
          "Turbinación bombeo",
          "Turbinación bombeo",
          "Turbinación bombeo",
          "Turbinación bombeo",
          "Turbinación bombeo",
          "Turbinación bombeo",
          "Turbinación bombeo",
          "Turbinación bombeo",
          "Turbinación bombeo",
          "Turbinación bombeo",
          "Turbinación bombeo",
          "Turbinación bombeo",
          "Turbinación bombeo",
          "Turbinación bombeo",
          "Turbinación bombeo",
          "Turbinación bombeo",
          "Turbinación bombeo",
          "Turbinación bombeo",
          "Nuclear",
          "Nuclear",
          "Nuclear",
          "Nuclear",
          "Nuclear",
          "Nuclear",
          "Nuclear",
          "Nuclear",
          "Nuclear",
          "Nuclear",
          "Nuclear",
          "Nuclear",
          "Nuclear",
          "Nuclear",
          "Nuclear",
          "Nuclear",
          "Nuclear",
          "Nuclear",
          "Nuclear",
          "Nuclear",
          "Nuclear",
          "Nuclear",
          "Nuclear",
          "Nuclear",
          "Nuclear",
          "Nuclear",
          "Nuclear",
          "Nuclear",
          "Nuclear",
          "Nuclear",
          "Nuclear",
          "Ciclo combinado",
          "Ciclo combinado",
          "Ciclo combinado",
          "Ciclo combinado",
          "Ciclo combinado",
          "Ciclo combinado",
          "Ciclo combinado",
          "Ciclo combinado",
          "Ciclo combinado",
          "Ciclo combinado",
          "Ciclo combinado",
          "Ciclo combinado",
          "Ciclo combinado",
          "Ciclo combinado",
          "Ciclo combinado",
          "Ciclo combinado",
          "Ciclo combinado",
          "Ciclo combinado",
          "Ciclo combinado",
          "Ciclo combinado",
          "Ciclo combinado",
          "Ciclo combinado",
          "Ciclo combinado",
          "Ciclo combinado",
          "Ciclo combinado",
          "Ciclo combinado",
          "Ciclo combinado",
          "Ciclo combinado",
          "Ciclo combinado",
          "Ciclo combinado",
          "Ciclo combinado",
          "Carbón",
          "Carbón",
          "Carbón",
          "Carbón",
          "Carbón",
          "Carbón",
          "Carbón",
          "Carbón",
          "Carbón",
          "Carbón",
          "Carbón",
          "Carbón",
          "Carbón",
          "Carbón",
          "Carbón",
          "Carbón",
          "Carbón",
          "Carbón",
          "Carbón",
          "Carbón",
          "Carbón",
          "Carbón",
          "Carbón",
          "Carbón",
          "Carbón",
          "Carbón",
          "Carbón",
          "Carbón",
          "Carbón",
          "Carbón",
          "Carbón",
          "Motores diésel",
          "Motores diésel",
          "Motores diésel",
          "Motores diésel",
          "Motores diésel",
          "Motores diésel",
          "Motores diésel",
          "Motores diésel",
          "Motores diésel",
          "Motores diésel",
          "Motores diésel",
          "Motores diésel",
          "Motores diésel",
          "Motores diésel",
          "Motores diésel",
          "Motores diésel",
          "Motores diésel",
          "Motores diésel",
          "Motores diésel",
          "Motores diésel",
          "Motores diésel",
          "Motores diésel",
          "Motores diésel",
          "Motores diésel",
          "Motores diésel",
          "Motores diésel",
          "Motores diésel",
          "Motores diésel",
          "Motores diésel",
          "Motores diésel",
          "Motores diésel",
          "Turbina de gas",
          "Turbina de gas",
          "Turbina de gas",
          "Turbina de gas",
          "Turbina de gas",
          "Turbina de gas",
          "Turbina de gas",
          "Turbina de gas",
          "Turbina de gas",
          "Turbina de gas",
          "Turbina de gas",
          "Turbina de gas",
          "Turbina de gas",
          "Turbina de gas",
          "Turbina de gas",
          "Turbina de gas",
          "Turbina de gas",
          "Turbina de gas",
          "Turbina de gas",
          "Turbina de gas",
          "Turbina de gas",
          "Turbina de gas",
          "Turbina de gas",
          "Turbina de gas",
          "Turbina de gas",
          "Turbina de gas",
          "Turbina de gas",
          "Turbina de gas",
          "Turbina de gas",
          "Turbina de gas",
          "Turbina de gas",
          "Turbina de vapor",
          "Turbina de vapor",
          "Turbina de vapor",
          "Turbina de vapor",
          "Turbina de vapor",
          "Turbina de vapor",
          "Turbina de vapor",
          "Turbina de vapor",
          "Turbina de vapor",
          "Turbina de vapor",
          "Turbina de vapor",
          "Turbina de vapor",
          "Turbina de vapor",
          "Turbina de vapor",
          "Turbina de vapor",
          "Turbina de vapor",
          "Turbina de vapor",
          "Turbina de vapor",
          "Turbina de vapor",
          "Turbina de vapor",
          "Turbina de vapor",
          "Turbina de vapor",
          "Turbina de vapor",
          "Turbina de vapor",
          "Turbina de vapor",
          "Turbina de vapor",
          "Turbina de vapor",
          "Turbina de vapor",
          "Turbina de vapor",
          "Turbina de vapor",
          "Turbina de vapor",
          "Fuel + Gas",
          "Fuel + Gas",
          "Cogeneración",
          "Cogeneración",
          "Cogeneración",
          "Cogeneración",
          "Cogeneración",
          "Cogeneración",
          "Cogeneración",
          "Cogeneración",
          "Cogeneración",
          "Cogeneración",
          "Cogeneración",
          "Cogeneración",
          "Cogeneración",
          "Cogeneración",
          "Cogeneración",
          "Cogeneración",
          "Cogeneración",
          "Cogeneración",
          "Cogeneración",
          "Cogeneración",
          "Cogeneración",
          "Cogeneración",
          "Cogeneración",
          "Cogeneración",
          "Cogeneración",
          "Cogeneración",
          "Cogeneración",
          "Cogeneración",
          "Cogeneración",
          "Cogeneración",
          "Cogeneración",
          "Residuos no renovables",
          "Residuos no renovables",
          "Residuos no renovables",
          "Residuos no renovables",
          "Residuos no renovables",
          "Residuos no renovables",
          "Residuos no renovables",
          "Residuos no renovables",
          "Residuos no renovables",
          "Residuos no renovables",
          "Residuos no renovables",
          "Residuos no renovables",
          "Residuos no renovables",
          "Residuos no renovables",
          "Residuos no renovables",
          "Residuos no renovables",
          "Residuos no renovables",
          "Residuos no renovables",
          "Residuos no renovables",
          "Residuos no renovables",
          "Residuos no renovables",
          "Residuos no renovables",
          "Residuos no renovables",
          "Residuos no renovables",
          "Residuos no renovables",
          "Residuos no renovables",
          "Residuos no renovables",
          "Residuos no renovables",
          "Residuos no renovables",
          "Residuos no renovables",
          "Residuos no renovables",
          "Generación no renovable",
          "Generación no renovable",
          "Generación no renovable",
          "Generación no renovable",
          "Generación no renovable",
          "Generación no renovable",
          "Generación no renovable",
          "Generación no renovable",
          "Generación no renovable",
          "Generación no renovable",
          "Generación no renovable",
          "Generación no renovable",
          "Generación no renovable",
          "Generación no renovable",
          "Generación no renovable",
          "Generación no renovable",
          "Generación no renovable",
          "Generación no renovable",
          "Generación no renovable",
          "Generación no renovable",
          "Generación no renovable",
          "Generación no renovable",
          "Generación no renovable",
          "Generación no renovable",
          "Generación no renovable",
          "Generación no renovable",
          "Generación no renovable",
          "Generación no renovable",
          "Generación no renovable",
          "Generación no renovable",
          "Generación no renovable",
          "Consumos en bombeo",
          "Consumos en bombeo",
          "Consumos en bombeo",
          "Consumos en bombeo",
          "Consumos en bombeo",
          "Consumos en bombeo",
          "Consumos en bombeo",
          "Consumos en bombeo",
          "Consumos en bombeo",
          "Consumos en bombeo",
          "Consumos en bombeo",
          "Consumos en bombeo",
          "Consumos en bombeo",
          "Consumos en bombeo",
          "Consumos en bombeo",
          "Consumos en bombeo",
          "Consumos en bombeo",
          "Consumos en bombeo",
          "Consumos en bombeo",
          "Consumos en bombeo",
          "Consumos en bombeo",
          "Consumos en bombeo",
          "Consumos en bombeo",
          "Consumos en bombeo",
          "Consumos en bombeo",
          "Consumos en bombeo",
          "Consumos en bombeo",
          "Consumos en bombeo",
          "Consumos en bombeo",
          "Consumos en bombeo",
          "Consumos en bombeo",
          "Saldo I. internacionales",
          "Saldo I. internacionales",
          "Saldo I. internacionales",
          "Saldo I. internacionales",
          "Saldo I. internacionales",
          "Saldo I. internacionales",
          "Saldo I. internacionales",
          "Saldo I. internacionales",
          "Saldo I. internacionales",
          "Saldo I. internacionales",
          "Saldo I. internacionales",
          "Saldo I. internacionales",
          "Saldo I. internacionales",
          "Saldo I. internacionales",
          "Saldo I. internacionales",
          "Saldo I. internacionales",
          "Saldo I. internacionales",
          "Saldo I. internacionales",
          "Saldo I. internacionales",
          "Saldo I. internacionales",
          "Saldo I. internacionales",
          "Saldo I. internacionales",
          "Saldo I. internacionales",
          "Saldo I. internacionales",
          "Saldo I. internacionales",
          "Saldo I. internacionales",
          "Saldo I. internacionales",
          "Saldo I. internacionales",
          "Saldo I. internacionales",
          "Saldo I. internacionales",
          "Saldo I. internacionales",
          "Demanda en b.c.",
          "Demanda en b.c.",
          "Demanda en b.c.",
          "Demanda en b.c.",
          "Demanda en b.c.",
          "Demanda en b.c.",
          "Demanda en b.c.",
          "Demanda en b.c.",
          "Demanda en b.c.",
          "Demanda en b.c.",
          "Demanda en b.c.",
          "Demanda en b.c.",
          "Demanda en b.c.",
          "Demanda en b.c.",
          "Demanda en b.c.",
          "Demanda en b.c.",
          "Demanda en b.c.",
          "Demanda en b.c.",
          "Demanda en b.c.",
          "Demanda en b.c.",
          "Demanda en b.c.",
          "Demanda en b.c.",
          "Demanda en b.c.",
          "Demanda en b.c.",
          "Demanda en b.c.",
          "Demanda en b.c.",
          "Demanda en b.c.",
          "Demanda en b.c.",
          "Demanda en b.c.",
          "Demanda en b.c.",
          "Demanda en b.c."
         ],
         "y0": " ",
         "yaxis": "y"
        }
       ],
       "layout": {
        "boxmode": "group",
        "legend": {
         "tracegroupgap": 0
        },
        "margin": {
         "t": 60
        },
        "template": {
         "data": {
          "bar": [
           {
            "error_x": {
             "color": "#2a3f5f"
            },
            "error_y": {
             "color": "#2a3f5f"
            },
            "marker": {
             "line": {
              "color": "#E5ECF6",
              "width": 0.5
             },
             "pattern": {
              "fillmode": "overlay",
              "size": 10,
              "solidity": 0.2
             }
            },
            "type": "bar"
           }
          ],
          "barpolar": [
           {
            "marker": {
             "line": {
              "color": "#E5ECF6",
              "width": 0.5
             },
             "pattern": {
              "fillmode": "overlay",
              "size": 10,
              "solidity": 0.2
             }
            },
            "type": "barpolar"
           }
          ],
          "carpet": [
           {
            "aaxis": {
             "endlinecolor": "#2a3f5f",
             "gridcolor": "white",
             "linecolor": "white",
             "minorgridcolor": "white",
             "startlinecolor": "#2a3f5f"
            },
            "baxis": {
             "endlinecolor": "#2a3f5f",
             "gridcolor": "white",
             "linecolor": "white",
             "minorgridcolor": "white",
             "startlinecolor": "#2a3f5f"
            },
            "type": "carpet"
           }
          ],
          "choropleth": [
           {
            "colorbar": {
             "outlinewidth": 0,
             "ticks": ""
            },
            "type": "choropleth"
           }
          ],
          "contour": [
           {
            "colorbar": {
             "outlinewidth": 0,
             "ticks": ""
            },
            "colorscale": [
             [
              0,
              "#0d0887"
             ],
             [
              0.1111111111111111,
              "#46039f"
             ],
             [
              0.2222222222222222,
              "#7201a8"
             ],
             [
              0.3333333333333333,
              "#9c179e"
             ],
             [
              0.4444444444444444,
              "#bd3786"
             ],
             [
              0.5555555555555556,
              "#d8576b"
             ],
             [
              0.6666666666666666,
              "#ed7953"
             ],
             [
              0.7777777777777778,
              "#fb9f3a"
             ],
             [
              0.8888888888888888,
              "#fdca26"
             ],
             [
              1,
              "#f0f921"
             ]
            ],
            "type": "contour"
           }
          ],
          "contourcarpet": [
           {
            "colorbar": {
             "outlinewidth": 0,
             "ticks": ""
            },
            "type": "contourcarpet"
           }
          ],
          "heatmap": [
           {
            "colorbar": {
             "outlinewidth": 0,
             "ticks": ""
            },
            "colorscale": [
             [
              0,
              "#0d0887"
             ],
             [
              0.1111111111111111,
              "#46039f"
             ],
             [
              0.2222222222222222,
              "#7201a8"
             ],
             [
              0.3333333333333333,
              "#9c179e"
             ],
             [
              0.4444444444444444,
              "#bd3786"
             ],
             [
              0.5555555555555556,
              "#d8576b"
             ],
             [
              0.6666666666666666,
              "#ed7953"
             ],
             [
              0.7777777777777778,
              "#fb9f3a"
             ],
             [
              0.8888888888888888,
              "#fdca26"
             ],
             [
              1,
              "#f0f921"
             ]
            ],
            "type": "heatmap"
           }
          ],
          "heatmapgl": [
           {
            "colorbar": {
             "outlinewidth": 0,
             "ticks": ""
            },
            "colorscale": [
             [
              0,
              "#0d0887"
             ],
             [
              0.1111111111111111,
              "#46039f"
             ],
             [
              0.2222222222222222,
              "#7201a8"
             ],
             [
              0.3333333333333333,
              "#9c179e"
             ],
             [
              0.4444444444444444,
              "#bd3786"
             ],
             [
              0.5555555555555556,
              "#d8576b"
             ],
             [
              0.6666666666666666,
              "#ed7953"
             ],
             [
              0.7777777777777778,
              "#fb9f3a"
             ],
             [
              0.8888888888888888,
              "#fdca26"
             ],
             [
              1,
              "#f0f921"
             ]
            ],
            "type": "heatmapgl"
           }
          ],
          "histogram": [
           {
            "marker": {
             "pattern": {
              "fillmode": "overlay",
              "size": 10,
              "solidity": 0.2
             }
            },
            "type": "histogram"
           }
          ],
          "histogram2d": [
           {
            "colorbar": {
             "outlinewidth": 0,
             "ticks": ""
            },
            "colorscale": [
             [
              0,
              "#0d0887"
             ],
             [
              0.1111111111111111,
              "#46039f"
             ],
             [
              0.2222222222222222,
              "#7201a8"
             ],
             [
              0.3333333333333333,
              "#9c179e"
             ],
             [
              0.4444444444444444,
              "#bd3786"
             ],
             [
              0.5555555555555556,
              "#d8576b"
             ],
             [
              0.6666666666666666,
              "#ed7953"
             ],
             [
              0.7777777777777778,
              "#fb9f3a"
             ],
             [
              0.8888888888888888,
              "#fdca26"
             ],
             [
              1,
              "#f0f921"
             ]
            ],
            "type": "histogram2d"
           }
          ],
          "histogram2dcontour": [
           {
            "colorbar": {
             "outlinewidth": 0,
             "ticks": ""
            },
            "colorscale": [
             [
              0,
              "#0d0887"
             ],
             [
              0.1111111111111111,
              "#46039f"
             ],
             [
              0.2222222222222222,
              "#7201a8"
             ],
             [
              0.3333333333333333,
              "#9c179e"
             ],
             [
              0.4444444444444444,
              "#bd3786"
             ],
             [
              0.5555555555555556,
              "#d8576b"
             ],
             [
              0.6666666666666666,
              "#ed7953"
             ],
             [
              0.7777777777777778,
              "#fb9f3a"
             ],
             [
              0.8888888888888888,
              "#fdca26"
             ],
             [
              1,
              "#f0f921"
             ]
            ],
            "type": "histogram2dcontour"
           }
          ],
          "mesh3d": [
           {
            "colorbar": {
             "outlinewidth": 0,
             "ticks": ""
            },
            "type": "mesh3d"
           }
          ],
          "parcoords": [
           {
            "line": {
             "colorbar": {
              "outlinewidth": 0,
              "ticks": ""
             }
            },
            "type": "parcoords"
           }
          ],
          "pie": [
           {
            "automargin": true,
            "type": "pie"
           }
          ],
          "scatter": [
           {
            "fillpattern": {
             "fillmode": "overlay",
             "size": 10,
             "solidity": 0.2
            },
            "type": "scatter"
           }
          ],
          "scatter3d": [
           {
            "line": {
             "colorbar": {
              "outlinewidth": 0,
              "ticks": ""
             }
            },
            "marker": {
             "colorbar": {
              "outlinewidth": 0,
              "ticks": ""
             }
            },
            "type": "scatter3d"
           }
          ],
          "scattercarpet": [
           {
            "marker": {
             "colorbar": {
              "outlinewidth": 0,
              "ticks": ""
             }
            },
            "type": "scattercarpet"
           }
          ],
          "scattergeo": [
           {
            "marker": {
             "colorbar": {
              "outlinewidth": 0,
              "ticks": ""
             }
            },
            "type": "scattergeo"
           }
          ],
          "scattergl": [
           {
            "marker": {
             "colorbar": {
              "outlinewidth": 0,
              "ticks": ""
             }
            },
            "type": "scattergl"
           }
          ],
          "scattermapbox": [
           {
            "marker": {
             "colorbar": {
              "outlinewidth": 0,
              "ticks": ""
             }
            },
            "type": "scattermapbox"
           }
          ],
          "scatterpolar": [
           {
            "marker": {
             "colorbar": {
              "outlinewidth": 0,
              "ticks": ""
             }
            },
            "type": "scatterpolar"
           }
          ],
          "scatterpolargl": [
           {
            "marker": {
             "colorbar": {
              "outlinewidth": 0,
              "ticks": ""
             }
            },
            "type": "scatterpolargl"
           }
          ],
          "scatterternary": [
           {
            "marker": {
             "colorbar": {
              "outlinewidth": 0,
              "ticks": ""
             }
            },
            "type": "scatterternary"
           }
          ],
          "surface": [
           {
            "colorbar": {
             "outlinewidth": 0,
             "ticks": ""
            },
            "colorscale": [
             [
              0,
              "#0d0887"
             ],
             [
              0.1111111111111111,
              "#46039f"
             ],
             [
              0.2222222222222222,
              "#7201a8"
             ],
             [
              0.3333333333333333,
              "#9c179e"
             ],
             [
              0.4444444444444444,
              "#bd3786"
             ],
             [
              0.5555555555555556,
              "#d8576b"
             ],
             [
              0.6666666666666666,
              "#ed7953"
             ],
             [
              0.7777777777777778,
              "#fb9f3a"
             ],
             [
              0.8888888888888888,
              "#fdca26"
             ],
             [
              1,
              "#f0f921"
             ]
            ],
            "type": "surface"
           }
          ],
          "table": [
           {
            "cells": {
             "fill": {
              "color": "#EBF0F8"
             },
             "line": {
              "color": "white"
             }
            },
            "header": {
             "fill": {
              "color": "#C8D4E3"
             },
             "line": {
              "color": "white"
             }
            },
            "type": "table"
           }
          ]
         },
         "layout": {
          "annotationdefaults": {
           "arrowcolor": "#2a3f5f",
           "arrowhead": 0,
           "arrowwidth": 1
          },
          "autotypenumbers": "strict",
          "coloraxis": {
           "colorbar": {
            "outlinewidth": 0,
            "ticks": ""
           }
          },
          "colorscale": {
           "diverging": [
            [
             0,
             "#8e0152"
            ],
            [
             0.1,
             "#c51b7d"
            ],
            [
             0.2,
             "#de77ae"
            ],
            [
             0.3,
             "#f1b6da"
            ],
            [
             0.4,
             "#fde0ef"
            ],
            [
             0.5,
             "#f7f7f7"
            ],
            [
             0.6,
             "#e6f5d0"
            ],
            [
             0.7,
             "#b8e186"
            ],
            [
             0.8,
             "#7fbc41"
            ],
            [
             0.9,
             "#4d9221"
            ],
            [
             1,
             "#276419"
            ]
           ],
           "sequential": [
            [
             0,
             "#0d0887"
            ],
            [
             0.1111111111111111,
             "#46039f"
            ],
            [
             0.2222222222222222,
             "#7201a8"
            ],
            [
             0.3333333333333333,
             "#9c179e"
            ],
            [
             0.4444444444444444,
             "#bd3786"
            ],
            [
             0.5555555555555556,
             "#d8576b"
            ],
            [
             0.6666666666666666,
             "#ed7953"
            ],
            [
             0.7777777777777778,
             "#fb9f3a"
            ],
            [
             0.8888888888888888,
             "#fdca26"
            ],
            [
             1,
             "#f0f921"
            ]
           ],
           "sequentialminus": [
            [
             0,
             "#0d0887"
            ],
            [
             0.1111111111111111,
             "#46039f"
            ],
            [
             0.2222222222222222,
             "#7201a8"
            ],
            [
             0.3333333333333333,
             "#9c179e"
            ],
            [
             0.4444444444444444,
             "#bd3786"
            ],
            [
             0.5555555555555556,
             "#d8576b"
            ],
            [
             0.6666666666666666,
             "#ed7953"
            ],
            [
             0.7777777777777778,
             "#fb9f3a"
            ],
            [
             0.8888888888888888,
             "#fdca26"
            ],
            [
             1,
             "#f0f921"
            ]
           ]
          },
          "colorway": [
           "#636efa",
           "#EF553B",
           "#00cc96",
           "#ab63fa",
           "#FFA15A",
           "#19d3f3",
           "#FF6692",
           "#B6E880",
           "#FF97FF",
           "#FECB52"
          ],
          "font": {
           "color": "#2a3f5f"
          },
          "geo": {
           "bgcolor": "white",
           "lakecolor": "white",
           "landcolor": "#E5ECF6",
           "showlakes": true,
           "showland": true,
           "subunitcolor": "white"
          },
          "hoverlabel": {
           "align": "left"
          },
          "hovermode": "closest",
          "mapbox": {
           "style": "light"
          },
          "paper_bgcolor": "white",
          "plot_bgcolor": "#E5ECF6",
          "polar": {
           "angularaxis": {
            "gridcolor": "white",
            "linecolor": "white",
            "ticks": ""
           },
           "bgcolor": "#E5ECF6",
           "radialaxis": {
            "gridcolor": "white",
            "linecolor": "white",
            "ticks": ""
           }
          },
          "scene": {
           "xaxis": {
            "backgroundcolor": "#E5ECF6",
            "gridcolor": "white",
            "gridwidth": 2,
            "linecolor": "white",
            "showbackground": true,
            "ticks": "",
            "zerolinecolor": "white"
           },
           "yaxis": {
            "backgroundcolor": "#E5ECF6",
            "gridcolor": "white",
            "gridwidth": 2,
            "linecolor": "white",
            "showbackground": true,
            "ticks": "",
            "zerolinecolor": "white"
           },
           "zaxis": {
            "backgroundcolor": "#E5ECF6",
            "gridcolor": "white",
            "gridwidth": 2,
            "linecolor": "white",
            "showbackground": true,
            "ticks": "",
            "zerolinecolor": "white"
           }
          },
          "shapedefaults": {
           "line": {
            "color": "#2a3f5f"
           }
          },
          "ternary": {
           "aaxis": {
            "gridcolor": "white",
            "linecolor": "white",
            "ticks": ""
           },
           "baxis": {
            "gridcolor": "white",
            "linecolor": "white",
            "ticks": ""
           },
           "bgcolor": "#E5ECF6",
           "caxis": {
            "gridcolor": "white",
            "linecolor": "white",
            "ticks": ""
           }
          },
          "title": {
           "x": 0.05
          },
          "xaxis": {
           "automargin": true,
           "gridcolor": "white",
           "linecolor": "white",
           "ticks": "",
           "title": {
            "standoff": 15
           },
           "zerolinecolor": "white",
           "zerolinewidth": 2
          },
          "yaxis": {
           "automargin": true,
           "gridcolor": "white",
           "linecolor": "white",
           "ticks": "",
           "title": {
            "standoff": 15
           },
           "zerolinecolor": "white",
           "zerolinewidth": 2
          }
         }
        },
        "xaxis": {
         "anchor": "y",
         "domain": [
          0,
          1
         ],
         "title": {
          "text": "Valores"
         }
        },
        "yaxis": {
         "anchor": "x",
         "domain": [
          0,
          1
         ],
         "title": {
          "text": "nombre"
         }
        }
       }
      }
     },
     "metadata": {},
     "output_type": "display_data"
    }
   ],
   "source": [
    "px.box(data_frame=df_balance,\n",
    "       x = 'Valores',\n",
    "       y = 'nombre')"
   ]
  },
  {
   "cell_type": "code",
   "execution_count": 120,
   "metadata": {},
   "outputs": [
    {
     "name": "stderr",
     "output_type": "stream",
     "text": [
      "/opt/anaconda3/lib/python3.11/site-packages/plotly/express/_core.py:1979: FutureWarning:\n",
      "\n",
      "When grouping with a length-1 list-like, you will need to pass a length-1 tuple to get_group in a future version of pandas. Pass `(name,)` instead of `name` to silence this warning.\n",
      "\n"
     ]
    },
    {
     "data": {
      "application/vnd.plotly.v1+json": {
       "config": {
        "plotlyServerURL": "https://plot.ly"
       },
       "data": [
        {
         "hovertemplate": "tipo de energía=Renovable<br>Valores=%{x}<br>Porcentaje=%{y}<br>nombre=%{z}<extra></extra>",
         "legendgroup": "Renovable",
         "marker": {
          "color": "#636efa",
          "opacity": 0.9,
          "symbol": "circle"
         },
         "mode": "markers",
         "name": "Renovable",
         "scene": "scene",
         "showlegend": true,
         "type": "scatter3d",
         "x": [
          54386.095,
          51661.691,
          48588.925,
          51775.769,
          39251.575,
          30373.812,
          24767.511,
          28356.661,
          29555.708,
          58595.442,
          89991.12,
          93635.162,
          79993.169,
          73825.361,
          72079.272,
          73920.299,
          48576.483,
          35063.646,
          36018.865,
          44949.149,
          36271.997,
          62652.956,
          76159.7,
          72013.7,
          76861.6,
          92057.3,
          83008.9,
          54807.3,
          63360.6,
          57723.1,
          62214.9,
          138196.934,
          157356.653,
          169068.701,
          191594.307,
          252078.994,
          167846.392,
          181355.473,
          257515.303,
          265833.009,
          170713.706,
          98488.398,
          84157.676,
          103499.279,
          53478.32,
          90237.415,
          123748.272,
          268172.999,
          354056.721,
          256074.662,
          127266.75,
          137854.929,
          75496.802,
          133250.269,
          226460.488,
          235490.559,
          130141.475,
          151013.035,
          216702.928,
          294934.188,
          325019.499,
          355754.33,
          179876.558,
          171718.837,
          162300.438,
          152285.747,
          151206.508,
          153991.676,
          137172.852,
          159323.763,
          143761.218,
          130610.977,
          95711.286,
          103155.812,
          98161.878,
          122809.738,
          143168.545,
          93150.995,
          85671.266,
          99578.017,
          131158.994,
          138737.98,
          128554.397,
          156801.696,
          136356.044,
          99729.262,
          133419.305,
          139022.681,
          120892.099,
          104505.558,
          79728.685,
          88050.07,
          68292.567,
          23507.241,
          23513.031,
          19987.539,
          17346.651,
          20350.289,
          21080.551,
          20732.747,
          20365.067,
          15102.066,
          11532.644,
          4240.61,
          4136.378,
          7371.57,
          7547.968,
          11036.212,
          1873.764,
          1257.512,
          4307.415,
          14081.507,
          17333.305,
          20145.734,
          20100.509,
          14766.598,
          6991.956,
          10708.082,
          11562.392,
          12727.6,
          8865.7,
          1804.5,
          3398.666,
          2952.161,
          75.557,
          127.665,
          130.519,
          135.462,
          133.996,
          115.127,
          81.171,
          42.668,
          17.155,
          16.763,
          16.111,
          13.234,
          21.902,
          57.731,
          106.414,
          81.656,
          55.026,
          43.199,
          61.214,
          59.505,
          44.757,
          110.594,
          189.12,
          182.27,
          164.64,
          150.698,
          50.153,
          1.722,
          5.562,
          13.737,
          17.123,
          10144.257,
          9949.57,
          9398.552,
          10116.307,
          10695.721,
          10271.1,
          9384.789,
          9018.305,
          9777.709,
          10093.205,
          10968.444,
          10272.078,
          9258.75,
          9223.923,
          9261.121,
          9155.37,
          8778.51,
          8337.314,
          9236.007,
          8771.495,
          8712.808,
          9003.48,
          10321.193,
          10170.486,
          8054.556,
          9631.226,
          10221.698,
          9639.618,
          10001.668,
          8601.95,
          8199.484,
          2594.6465,
          2542.334,
          2595.7275,
          2525.833,
          2531.372,
          2524.0025,
          2542.7195,
          2477.4715,
          2483.476,
          2665.578,
          2762.55,
          2736.5295,
          2691.659,
          2591.4775,
          2589.4565,
          2577.857,
          2457.8595,
          2382.0615,
          1944.963,
          2177.0895,
          1900.1475,
          1868.2355,
          1945.3,
          2028.8,
          1878.2,
          2021.4,
          1972.75,
          1879.6,
          1856.8,
          1958.8,
          2366.45,
          408781.2884999999,
          416869.78099999996,
          412070.4015,
          425780.076,
          476248.455,
          386202.66049999994,
          376037.26249999995,
          477099.23850000004,
          466530.341,
          384228.31499999994,
          302178.519,
          298106.86950000003,
          300998.207,
          269534.51849999995,
          328478.4354999999,
          304508.21300000005,
          414969.65550000005,
          503768.37350000005,
          448576.21199999994,
          339295.2735,
          333484.7695,
          326034.2725,
          372988.224,
          417576.962,
          466576.942,
          384587.172,
          379886.2349999999,
          396402.42600000004,
          451692.00299999997,
          484765.82200000004,
          499797.0150000001
         ],
         "y": [
          0.1330444825387354,
          0.12392764684471097,
          0.11791413511654514,
          0.121602141383431,
          0.08241827262200777,
          0.07864734013141271,
          0.06586451256276764,
          0.05943556122443905,
          0.06335216684224187,
          0.15250162393679917,
          0.29780780016332004,
          0.31409930994562335,
          0.265759619624578,
          0.273899467166021,
          0.21943380207069946,
          0.2427530550711287,
          0.11706032563144847,
          0.06960271395441223,
          0.08029597655080292,
          0.13247796981174273,
          0.10876657741936249,
          0.19216677903087626,
          0.2041879477674877,
          0.1724561136109803,
          0.16473510171876435,
          0.2393665382058037,
          0.2185098915205496,
          0.1382617673485177,
          0.1402739025246812,
          0.11907419496253181,
          0.1244803352817143,
          0.3380705963991305,
          0.37747195928313165,
          0.41029081531836253,
          0.4499842002940504,
          0.5293014420382739,
          0.43460703192126254,
          0.4822805904773866,
          0.539752072985126,
          0.5698086182994903,
          0.44430277346946706,
          0.3259278598820587,
          0.28230706706341097,
          0.3438534735191961,
          0.19840991164179964,
          0.27471336090189097,
          0.4063873048967647,
          0.6462472507221675,
          0.702816491913024,
          0.5708609934046169,
          0.37509143197657896,
          0.41337698632140985,
          0.23156093812192702,
          0.3572506058529076,
          0.5423203591389699,
          0.5047196674369734,
          0.338392657048894,
          0.3975217343687118,
          0.5466740710613108,
          0.6529541945421603,
          0.6704670260355112,
          0.7117976284832352,
          0.44003129071794594,
          0.4119244061972437,
          0.3938657991673299,
          0.35766292408665923,
          0.31749501003630554,
          0.39873282022613105,
          0.3647852638008182,
          0.33394260594695957,
          0.3081497715493707,
          0.33993063993735084,
          0.31673755737746534,
          0.34603634653913934,
          0.32612113865515485,
          0.45563640116840926,
          0.4358537107072895,
          0.3059063467690442,
          0.20645188115447635,
          0.1976662733076474,
          0.2923895438307371,
          0.40890042047697434,
          0.3854880604974675,
          0.4809362365424328,
          0.3655773432675451,
          0.23882845816575485,
          0.2859534901748317,
          0.3614854865725995,
          0.31823237554264117,
          0.26363501115404375,
          0.17651117237070058,
          0.18163423658196762,
          0.13664060598681244,
          0.05750566785054793,
          0.05640377900167343,
          0.0485051557385395,
          0.04074087064609384,
          0.04273040423826677,
          0.05458416825173581,
          0.055134820581776794,
          0.042685180265698536,
          0.03237102643234087,
          0.030015081007239153,
          0.014033459473007742,
          0.01387548702563528,
          0.02449041166547547,
          0.028003715598304717,
          0.03359798028507111,
          0.0061534103843695,
          0.0030303709761255056,
          0.008550387889723291,
          0.031391559835990596,
          0.05108619646008714,
          0.06040975733376034,
          0.0616515216203229,
          0.03958998448165484,
          0.01674411338813275,
          0.022950302589106516,
          0.030064424509718173,
          0.033503714605505525,
          0.022365402980656833,
          0.003994978852879979,
          0.0070109439357298586,
          0.005906719951098547,
          0.0001848347811546174,
          0.0003062467125675392,
          0.00031673956567831774,
          0.0003181501616341484,
          0.0002813573431960005,
          0.00029809996609280224,
          0.00021585892701258568,
          0.00008943212765157242,
          0.00003677145619988733,
          0.000043627706094487086,
          0.000053316165733143994,
          0.00004439347547474078,
          0.00007276455304599207,
          0.0002141877794402056,
          0.00032396038369465513,
          0.0002681569708597646,
          0.00013260246688085847,
          0.00008575171104900653,
          0.00013646287601180244,
          0.0001753782166965553,
          0.0001342100272438379,
          0.00033920973752843723,
          0.0005070401364735848,
          0.00043649438687185047,
          0.00035286784489234357,
          0.00039184354282102783,
          0.00013202110363382872,
          0.000004344070285785788,
          0.000012313700404388166,
          0.000028337393802486344,
          0.000034259908495051735,
          0.024815854554458165,
          0.023867333286026797,
          0.022808122024265312,
          0.023759465438208997,
          0.022458279680928308,
          0.026595104204363715,
          0.024957071907202286,
          0.018902367206356376,
          0.02095835606113344,
          0.02626876939040789,
          0.036297894490640484,
          0.03445770309563429,
          0.030760150009797236,
          0.03422167613755936,
          0.028193999968074014,
          0.030066085606695932,
          0.02115458295239132,
          0.01654989562380696,
          0.020589604961040602,
          0.025852098997777524,
          0.026126554484222107,
          0.027615133620653327,
          0.027671632335502367,
          0.02435595572918604,
          0.017263081980592173,
          0.025043024575973117,
          0.026907260801381765,
          0.024317757328760646,
          0.022142672293447713,
          0.017744547180555976,
          0.016405628192877462,
          0.006347273158027634,
          0.006098628674646004,
          0.006299233069279304,
          0.005932247989922384,
          0.0053152340410217176,
          0.0065354352990015215,
          0.006761881743036039,
          0.005192780243768928,
          0.005323289359223048,
          0.006937484552641573,
          0.009142112447774624,
          0.009179692855081958,
          0.00894244197275235,
          0.009614640508466082,
          0.007883185683280572,
          0.008465640301136966,
          0.005922986096509892,
          0.004728485600337115,
          0.004335858540800198,
          0.006416504060142765,
          0.005697853916533961,
          0.005730181326259189,
          0.005215446158428852,
          0.004858505580104297,
          0.004025488254839649,
          0.005256025544190538,
          0.005193002057576528,
          0.004741646056424488,
          0.004110765715725988,
          0.004040713909901015,
          0.004734822195766815,
          1,
          1,
          1,
          1,
          1,
          1,
          1,
          1,
          1,
          1,
          1,
          1,
          1,
          1,
          1,
          1,
          1,
          1,
          1,
          1,
          1,
          1,
          1,
          1,
          1,
          1,
          1,
          1,
          1,
          1,
          1
         ],
         "z": [
          "Hidráulica",
          "Hidráulica",
          "Hidráulica",
          "Hidráulica",
          "Hidráulica",
          "Hidráulica",
          "Hidráulica",
          "Hidráulica",
          "Hidráulica",
          "Hidráulica",
          "Hidráulica",
          "Hidráulica",
          "Hidráulica",
          "Hidráulica",
          "Hidráulica",
          "Hidráulica",
          "Hidráulica",
          "Hidráulica",
          "Hidráulica",
          "Hidráulica",
          "Hidráulica",
          "Hidráulica",
          "Hidráulica",
          "Hidráulica",
          "Hidráulica",
          "Hidráulica",
          "Hidráulica",
          "Hidráulica",
          "Hidráulica",
          "Hidráulica",
          "Hidráulica",
          "Eólica",
          "Eólica",
          "Eólica",
          "Eólica",
          "Eólica",
          "Eólica",
          "Eólica",
          "Eólica",
          "Eólica",
          "Eólica",
          "Eólica",
          "Eólica",
          "Eólica",
          "Eólica",
          "Eólica",
          "Eólica",
          "Eólica",
          "Eólica",
          "Eólica",
          "Eólica",
          "Eólica",
          "Eólica",
          "Eólica",
          "Eólica",
          "Eólica",
          "Eólica",
          "Eólica",
          "Eólica",
          "Eólica",
          "Eólica",
          "Eólica",
          "Solar fotovoltaica",
          "Solar fotovoltaica",
          "Solar fotovoltaica",
          "Solar fotovoltaica",
          "Solar fotovoltaica",
          "Solar fotovoltaica",
          "Solar fotovoltaica",
          "Solar fotovoltaica",
          "Solar fotovoltaica",
          "Solar fotovoltaica",
          "Solar fotovoltaica",
          "Solar fotovoltaica",
          "Solar fotovoltaica",
          "Solar fotovoltaica",
          "Solar fotovoltaica",
          "Solar fotovoltaica",
          "Solar fotovoltaica",
          "Solar fotovoltaica",
          "Solar fotovoltaica",
          "Solar fotovoltaica",
          "Solar fotovoltaica",
          "Solar fotovoltaica",
          "Solar fotovoltaica",
          "Solar fotovoltaica",
          "Solar fotovoltaica",
          "Solar fotovoltaica",
          "Solar fotovoltaica",
          "Solar fotovoltaica",
          "Solar fotovoltaica",
          "Solar fotovoltaica",
          "Solar fotovoltaica",
          "Solar térmica",
          "Solar térmica",
          "Solar térmica",
          "Solar térmica",
          "Solar térmica",
          "Solar térmica",
          "Solar térmica",
          "Solar térmica",
          "Solar térmica",
          "Solar térmica",
          "Solar térmica",
          "Solar térmica",
          "Solar térmica",
          "Solar térmica",
          "Solar térmica",
          "Solar térmica",
          "Solar térmica",
          "Solar térmica",
          "Solar térmica",
          "Solar térmica",
          "Solar térmica",
          "Solar térmica",
          "Solar térmica",
          "Solar térmica",
          "Solar térmica",
          "Solar térmica",
          "Solar térmica",
          "Solar térmica",
          "Solar térmica",
          "Solar térmica",
          "Solar térmica",
          "Hidroeólica",
          "Hidroeólica",
          "Hidroeólica",
          "Hidroeólica",
          "Hidroeólica",
          "Hidroeólica",
          "Hidroeólica",
          "Hidroeólica",
          "Hidroeólica",
          "Hidroeólica",
          "Hidroeólica",
          "Hidroeólica",
          "Hidroeólica",
          "Hidroeólica",
          "Hidroeólica",
          "Hidroeólica",
          "Hidroeólica",
          "Hidroeólica",
          "Hidroeólica",
          "Hidroeólica",
          "Hidroeólica",
          "Hidroeólica",
          "Hidroeólica",
          "Hidroeólica",
          "Hidroeólica",
          "Hidroeólica",
          "Hidroeólica",
          "Hidroeólica",
          "Hidroeólica",
          "Hidroeólica",
          "Hidroeólica",
          "Otras renovables",
          "Otras renovables",
          "Otras renovables",
          "Otras renovables",
          "Otras renovables",
          "Otras renovables",
          "Otras renovables",
          "Otras renovables",
          "Otras renovables",
          "Otras renovables",
          "Otras renovables",
          "Otras renovables",
          "Otras renovables",
          "Otras renovables",
          "Otras renovables",
          "Otras renovables",
          "Otras renovables",
          "Otras renovables",
          "Otras renovables",
          "Otras renovables",
          "Otras renovables",
          "Otras renovables",
          "Otras renovables",
          "Otras renovables",
          "Otras renovables",
          "Otras renovables",
          "Otras renovables",
          "Otras renovables",
          "Otras renovables",
          "Otras renovables",
          "Otras renovables",
          "Residuos renovables",
          "Residuos renovables",
          "Residuos renovables",
          "Residuos renovables",
          "Residuos renovables",
          "Residuos renovables",
          "Residuos renovables",
          "Residuos renovables",
          "Residuos renovables",
          "Residuos renovables",
          "Residuos renovables",
          "Residuos renovables",
          "Residuos renovables",
          "Residuos renovables",
          "Residuos renovables",
          "Residuos renovables",
          "Residuos renovables",
          "Residuos renovables",
          "Residuos renovables",
          "Residuos renovables",
          "Residuos renovables",
          "Residuos renovables",
          "Residuos renovables",
          "Residuos renovables",
          "Residuos renovables",
          "Residuos renovables",
          "Residuos renovables",
          "Residuos renovables",
          "Residuos renovables",
          "Residuos renovables",
          "Residuos renovables",
          "Generación renovable",
          "Generación renovable",
          "Generación renovable",
          "Generación renovable",
          "Generación renovable",
          "Generación renovable",
          "Generación renovable",
          "Generación renovable",
          "Generación renovable",
          "Generación renovable",
          "Generación renovable",
          "Generación renovable",
          "Generación renovable",
          "Generación renovable",
          "Generación renovable",
          "Generación renovable",
          "Generación renovable",
          "Generación renovable",
          "Generación renovable",
          "Generación renovable",
          "Generación renovable",
          "Generación renovable",
          "Generación renovable",
          "Generación renovable",
          "Generación renovable",
          "Generación renovable",
          "Generación renovable",
          "Generación renovable",
          "Generación renovable",
          "Generación renovable",
          "Generación renovable"
         ]
        },
        {
         "hovertemplate": "tipo de energía=No-Renovable<br>Valores=%{x}<br>Porcentaje=%{y}<br>nombre=%{z}<extra></extra>",
         "legendgroup": "No-Renovable",
         "marker": {
          "color": "#EF553B",
          "opacity": 0.9,
          "symbol": "circle"
         },
         "mode": "markers",
         "name": "No-Renovable",
         "scene": "scene",
         "showlegend": true,
         "type": "scatter3d",
         "x": [
          16718.097,
          18119.192,
          19295.654,
          16742.391,
          15973.392,
          23817.482,
          21897.701,
          19050.059,
          16718.588,
          10965.108,
          9675.002,
          5583.481,
          6637.878,
          9321.993,
          9390.187,
          13349.637,
          13612.451,
          8857.698,
          14534.355,
          15678.775,
          12370.354,
          11484.908,
          9043.6,
          4016,
          4991.7,
          12501.5,
          9067.2,
          3070.9,
          9643.3,
          8103.1,
          6607.4,
          166309.822,
          166185.417,
          166239.552,
          166178.737,
          166907.61,
          167008.682,
          166810.946,
          166835.849,
          166704.333,
          166471.01,
          166435.032,
          166411.138,
          166479.354,
          167121.073,
          167062.113,
          167134.982,
          166581.161,
          165999.023,
          166568.046,
          167486.281,
          166296.414,
          163814.409,
          167039,
          167605.8,
          167236.2,
          166981.4,
          166527.4,
          162276.1,
          143378.2,
          143691,
          143776.6,
          100077.672,
          98458.751,
          81726.909,
          90580.095,
          62848.156,
          53604.737,
          63743.445,
          74545.978,
          66388.354,
          99784.679,
          158749.278,
          158342.694,
          107295.67,
          91593.33,
          96621.58,
          98832.084,
          62511.042,
          59714.396,
          57852.916,
          66137.745,
          67254.129,
          111944.997,
          101831.596,
          112140.344,
          98210.419,
          115801.186,
          54493.427,
          54462.916,
          59973.139,
          64127.222,
          52350.79,
          7820.837,
          11845.921,
          12687.281,
          13015.609,
          12269.678,
          5836.2,
          5878.057,
          7884.831,
          8722.674,
          8845.139,
          9335.246,
          9333.218,
          5925.746,
          7597.991,
          11332.216,
          13035.823,
          12953.608,
          13291.885,
          11626.564,
          7497.911,
          6173.928,
          8421.21,
          8901.3,
          8764,
          9364,
          9396.5,
          5769.5,
          5884,
          8009.9,
          8764,
          9814,
          7724.568,
          7287.569,
          7192.893,
          6848.33,
          7571.729,
          6924.793,
          6797.441,
          7932.293,
          7929.039,
          7820.881,
          8075.466,
          7956.688,
          7856.663,
          6663.394,
          6776.836,
          6771.22,
          7553.43,
          7480.324,
          7225.652,
          6673.506,
          6605.813,
          6450.944,
          6537.454,
          6737.014,
          6795.396,
          7231.95,
          7216.581,
          7418.098,
          8239.317,
          8684.946,
          8634.224,
          1826.98,
          1594.326,
          1702.453,
          1600.031,
          1046.376,
          1034.5,
          1301.162,
          2468.845,
          3033.987,
          3220.23,
          3041.81,
          2618.565,
          2056.419,
          1412.648,
          2436.565,
          1848.939,
          2173.592,
          2530.254,
          2719.066,
          1486.379,
          1248.844,
          1757.267,
          1815.576,
          1500.404,
          1746.895,
          1027.713,
          1055.006,
          1236.689,
          2396.469,
          2678.692,
          2084.655,
          2130.324,
          2091.309,
          2120.017,
          2176.693,
          2133.769,
          1354.965,
          1391.281,
          1747.658,
          2059.521,
          1939.779,
          2430.337,
          1779.035,
          2921.146,
          2246.614,
          2332.494,
          2176.039,
          2181.24,
          2594.768,
          2364.96,
          2350.539,
          2189.206,
          2637.5,
          2409.003,
          2236.784,
          2100.416,
          1879.08,
          2329.67,
          2559.136,
          2921.456,
          3136.741,
          2670.806,
          -0.001,
          0.001,
          46933.118,
          46440.614,
          47223.732,
          48546.901,
          40107.831,
          34657.713,
          29447.789,
          27985.943,
          27332.783,
          48064.498,
          53794.577,
          55956.812,
          49273.304,
          46054.266,
          50788.6,
          52619.165,
          42934.229,
          26012.013,
          25893.392,
          27877.149,
          29235.207,
          44468.927,
          51109.48,
          51210.46,
          38530.68,
          49771.42,
          38276.2,
          24985.74,
          31621.76,
          25166.3,
          24849.6,
          5024.3765,
          4921.646,
          5030.6205,
          4919.805,
          4699.188,
          4402.1105,
          4302.9865,
          4164.1365,
          4140.589,
          3346.976,
          3981.219,
          4348.2005,
          4065.566,
          4043.8235,
          5040.8035,
          4952.754,
          4606.7385,
          4053.5085,
          3505.792,
          3581.0435,
          3206.7325,
          3482.5895,
          4250.3,
          4420.7,
          4166.7,
          4333.1,
          4152.55,
          3672.7,
          3684.9,
          3720.6,
          4095.25,
          354565.7945000001,
          356944.745,
          343219.1115,
          350608.59200000006,
          313557.729,
          298641.1825,
          301570.80850000004,
          312615.5915,
          303029.868,
          350458.30100000004,
          415517.967,
          412329.8314999999,
          352511.746,
          336055.13249999995,
          351781.3945,
          360720.6429999999,
          315107.49149999995,
          290533.8695,
          292290.743,
          298769.3285,
          294580.6275,
          354462.7515000001,
          352937.309,
          358631.506,
          333142.4060000001,
          368923.849,
          288887.534,
          265566.279,
          269868.44100000005,
          268072.601,
          254883.325
         ],
         "y": [
          0.04715090191814879,
          0.05076189593434132,
          0.05621963740792447,
          0.047752369400006024,
          0.050942427893397584,
          0.07975283850880145,
          0.0726121374575948,
          0.060937648012750215,
          0.05517141960408998,
          0.03128791062649133,
          0.023284196517066615,
          0.013541297702589343,
          0.018830232113740686,
          0.027739475158886324,
          0.026693245142616548,
          0.03700824241433835,
          0.04319938867591157,
          0.030487660578932953,
          0.049725676738246884,
          0.05247786002236839,
          0.04199310085317813,
          0.032400888249607795,
          0.025623814114817768,
          0.011198123792280537,
          0.014983682383563018,
          0.03388639697294278,
          0.03138660874165654,
          0.011563591626028696,
          0.035733337192991745,
          0.030227259219229197,
          0.025923233699183732,
          0.46905207603154725,
          0.46557742991845974,
          0.48435400719228305,
          0.47397223226064,
          0.5323026497618242,
          0.5592285718999924,
          0.5531402287565906,
          0.5336773099899765,
          0.5501250886595773,
          0.47500946482075196,
          0.4005483401876579,
          0.4035874324072524,
          0.47226611847424793,
          0.4973025460338715,
          0.474903208674386,
          0.4633363386414235,
          0.5286486849520048,
          0.5713585933567032,
          0.5698710957808198,
          0.5605872659047061,
          0.5645191790488666,
          0.4621484438259798,
          0.47328235281580844,
          0.4673482312510491,
          0.501996134349825,
          0.4526175264966402,
          0.5764437035209695,
          0.6110568729247436,
          0.5312892440061192,
          0.5360152416322472,
          0.5640879017880044,
          0.28225416425497857,
          0.27583751373059157,
          0.2381187593045791,
          0.2583510417793754,
          0.2004356779864291,
          0.17949546191607382,
          0.21137140334323834,
          0.23845892383484066,
          0.21908188271395082,
          0.2847262533524637,
          0.3820515371360584,
          0.3840194958098733,
          0.3043747370619531,
          0.27255447437631386,
          0.2746637016927284,
          0.2739851070846534,
          0.19838005660363683,
          0.20553333799865287,
          0.19792934735534884,
          0.22136725122371453,
          0.22830465659185276,
          0.31581596804255463,
          0.28852601695333946,
          0.3126896051346922,
          0.29480011319843796,
          0.3138891300030864,
          0.188631978145516,
          0.2050821972017012,
          0.22223102033631265,
          0.23921587570226915,
          0.2053911922249131,
          0.022057505606339584,
          0.03318698808690964,
          0.036965543511116514,
          0.037122903707961605,
          0.03913052323452693,
          0.019542515707792578,
          0.019491465467885292,
          0.025222129554455516,
          0.028784865523552947,
          0.025238777266114745,
          0.022466527903473303,
          0.022635320772322054,
          0.016810066805546958,
          0.02260935859981249,
          0.03221380146072506,
          0.036138278340782405,
          0.04110853708471734,
          0.045749863941422504,
          0.03977739383966737,
          0.02509598638402402,
          0.02095836393722123,
          0.02375767260273044,
          0.02522062636342025,
          0.02443733986940902,
          0.028108099813627444,
          0.02547002592938902,
          0.01997143981989891,
          0.022156427473233528,
          0.029680758410725018,
          0.032692636126584226,
          0.03850389192780657,
          0.021785993234042768,
          0.020416518528659108,
          0.020957145913478657,
          0.019532693026530275,
          0.02414779895283653,
          0.023187669369746082,
          0.02254011598075481,
          0.02537395179553,
          0.026165866263717606,
          0.02231615281385502,
          0.0194346975133328,
          0.01929690115084482,
          0.022287663004568362,
          0.019828276242738238,
          0.01926433889328391,
          0.0187713681803345,
          0.023970962937261687,
          0.02574682260926553,
          0.02472076921026541,
          0.02233665026294692,
          0.022424465098269234,
          0.018199215496413023,
          0.018522989305162975,
          0.01878533783922487,
          0.020397871533652783,
          0.019602825947964128,
          0.024980589851274097,
          0.027933132278439615,
          0.030530865222584504,
          0.03239773840221739,
          0.033875201526031566,
          0.0051527249056169165,
          0.0044665904802716734,
          0.004960251171794086,
          0.004563581830304945,
          0.003337107981159029,
          0.003464023251381279,
          0.00431461521913186,
          0.007897382764433343,
          0.010012171473473367,
          0.009188625268145666,
          0.007320525805325766,
          0.006350656197913249,
          0.005833618378208594,
          0.004203619773609618,
          0.006926361195034719,
          0.005125681149331951,
          0.006897938191355252,
          0.00870898117439626,
          0.009302607301525111,
          0.004975005324216204,
          0.0042393962243834245,
          0.004957550525587453,
          0.005144188369158784,
          0.00418369266196038,
          0.005243688490380896,
          0.0027857049707838218,
          0.003651960973850814,
          0.004656799819076428,
          0.008880138007689456,
          0.009992412465905084,
          0.00817885987637677,
          0.0060082614652779195,
          0.005858915222298623,
          0.006176861745066314,
          0.006208327604247645,
          0.006805027599877788,
          0.004537100304309169,
          0.004613447193115841,
          0.005590437701566541,
          0.006796429056953554,
          0.005534978040083576,
          0.005848933603393376,
          0.004314592018550082,
          0.008286662879029285,
          0.006685254241727733,
          0.0066305212170622635,
          0.006032477049005484,
          0.006922209274100994,
          0.008931034458961764,
          0.008091121791017513,
          0.007867403966133692,
          0.007431602066228881,
          0.007440838251237238,
          0.006825583293604135,
          0.006236998039988155,
          0.006304859309925257,
          0.005093408856850563,
          0.008064280129166114,
          0.009636524673375418,
          0.010825482183743003,
          0.01170108764677521,
          0.010478543466898041,
          3.1988167602394415e-9,
          2.8534065169710447e-9,
          0.1323678671998914,
          0.13010589075908655,
          0.13759062481577458,
          0.13846466432288684,
          0.12791211088277782,
          0.1160513520267755,
          0.0976480089252405,
          0.08952190351950566,
          0.0901983133886987,
          0.13714755182814173,
          0.12946390113619322,
          0.13570886151127295,
          0.13977776502233205,
          0.13704378105280093,
          0.14437545815118427,
          0.14587234199402338,
          0.13625264444085744,
          0.08953177488313459,
          0.0885877935586896,
          0.09330659589443098,
          0.09924348131141107,
          0.12545444284855978,
          0.144811780156685,
          0.14279409126982837,
          0.11565828698493578,
          0.1349097385135435,
          0.13249515986383822,
          0.09408476141656526,
          0.11717472366470592,
          0.093878672815205,
          0.09749402005800104,
          0.014170505384156562,
          0.013788257339381757,
          0.014657168937983222,
          0.01403218606804707,
          0.014986675707170976,
          0.01474046701512776,
          0.014268577656447803,
          0.013320309628124805,
          0.013663963315985735,
          0.009550283130545678,
          0.009581340197498608,
          0.010545442429381928,
          0.011533136260373009,
          0.012033214520239475,
          0.014329363572978843,
          0.013730165146107262,
          0.014619577840154274,
          0.013951930998530277,
          0.011994194424419386,
          0.011985981017459093,
          0.010885754868588567,
          0.009824980157329731,
          0.012042648628003224,
          0.012326580141567373,
          0.012507263935651587,
          0.011745242308799616,
          0.014374278953829834,
          0.013829692586836298,
          0.013654430975128357,
          0.013879075989567466,
          0.016067155432784783,
          1,
          1,
          1,
          1,
          1,
          1,
          1,
          1,
          1,
          1,
          1,
          1,
          1,
          1,
          1,
          1,
          1,
          1,
          1,
          1,
          1,
          1,
          1,
          1,
          1,
          1,
          1,
          1,
          1,
          1,
          1
         ],
         "z": [
          "Turbinación bombeo",
          "Turbinación bombeo",
          "Turbinación bombeo",
          "Turbinación bombeo",
          "Turbinación bombeo",
          "Turbinación bombeo",
          "Turbinación bombeo",
          "Turbinación bombeo",
          "Turbinación bombeo",
          "Turbinación bombeo",
          "Turbinación bombeo",
          "Turbinación bombeo",
          "Turbinación bombeo",
          "Turbinación bombeo",
          "Turbinación bombeo",
          "Turbinación bombeo",
          "Turbinación bombeo",
          "Turbinación bombeo",
          "Turbinación bombeo",
          "Turbinación bombeo",
          "Turbinación bombeo",
          "Turbinación bombeo",
          "Turbinación bombeo",
          "Turbinación bombeo",
          "Turbinación bombeo",
          "Turbinación bombeo",
          "Turbinación bombeo",
          "Turbinación bombeo",
          "Turbinación bombeo",
          "Turbinación bombeo",
          "Turbinación bombeo",
          "Nuclear",
          "Nuclear",
          "Nuclear",
          "Nuclear",
          "Nuclear",
          "Nuclear",
          "Nuclear",
          "Nuclear",
          "Nuclear",
          "Nuclear",
          "Nuclear",
          "Nuclear",
          "Nuclear",
          "Nuclear",
          "Nuclear",
          "Nuclear",
          "Nuclear",
          "Nuclear",
          "Nuclear",
          "Nuclear",
          "Nuclear",
          "Nuclear",
          "Nuclear",
          "Nuclear",
          "Nuclear",
          "Nuclear",
          "Nuclear",
          "Nuclear",
          "Nuclear",
          "Nuclear",
          "Nuclear",
          "Ciclo combinado",
          "Ciclo combinado",
          "Ciclo combinado",
          "Ciclo combinado",
          "Ciclo combinado",
          "Ciclo combinado",
          "Ciclo combinado",
          "Ciclo combinado",
          "Ciclo combinado",
          "Ciclo combinado",
          "Ciclo combinado",
          "Ciclo combinado",
          "Ciclo combinado",
          "Ciclo combinado",
          "Ciclo combinado",
          "Ciclo combinado",
          "Ciclo combinado",
          "Ciclo combinado",
          "Ciclo combinado",
          "Ciclo combinado",
          "Ciclo combinado",
          "Ciclo combinado",
          "Ciclo combinado",
          "Ciclo combinado",
          "Ciclo combinado",
          "Ciclo combinado",
          "Ciclo combinado",
          "Ciclo combinado",
          "Ciclo combinado",
          "Ciclo combinado",
          "Ciclo combinado",
          "Carbón",
          "Carbón",
          "Carbón",
          "Carbón",
          "Carbón",
          "Carbón",
          "Carbón",
          "Carbón",
          "Carbón",
          "Carbón",
          "Carbón",
          "Carbón",
          "Carbón",
          "Carbón",
          "Carbón",
          "Carbón",
          "Carbón",
          "Carbón",
          "Carbón",
          "Carbón",
          "Carbón",
          "Carbón",
          "Carbón",
          "Carbón",
          "Carbón",
          "Carbón",
          "Carbón",
          "Carbón",
          "Carbón",
          "Carbón",
          "Carbón",
          "Motores diésel",
          "Motores diésel",
          "Motores diésel",
          "Motores diésel",
          "Motores diésel",
          "Motores diésel",
          "Motores diésel",
          "Motores diésel",
          "Motores diésel",
          "Motores diésel",
          "Motores diésel",
          "Motores diésel",
          "Motores diésel",
          "Motores diésel",
          "Motores diésel",
          "Motores diésel",
          "Motores diésel",
          "Motores diésel",
          "Motores diésel",
          "Motores diésel",
          "Motores diésel",
          "Motores diésel",
          "Motores diésel",
          "Motores diésel",
          "Motores diésel",
          "Motores diésel",
          "Motores diésel",
          "Motores diésel",
          "Motores diésel",
          "Motores diésel",
          "Motores diésel",
          "Turbina de gas",
          "Turbina de gas",
          "Turbina de gas",
          "Turbina de gas",
          "Turbina de gas",
          "Turbina de gas",
          "Turbina de gas",
          "Turbina de gas",
          "Turbina de gas",
          "Turbina de gas",
          "Turbina de gas",
          "Turbina de gas",
          "Turbina de gas",
          "Turbina de gas",
          "Turbina de gas",
          "Turbina de gas",
          "Turbina de gas",
          "Turbina de gas",
          "Turbina de gas",
          "Turbina de gas",
          "Turbina de gas",
          "Turbina de gas",
          "Turbina de gas",
          "Turbina de gas",
          "Turbina de gas",
          "Turbina de gas",
          "Turbina de gas",
          "Turbina de gas",
          "Turbina de gas",
          "Turbina de gas",
          "Turbina de gas",
          "Turbina de vapor",
          "Turbina de vapor",
          "Turbina de vapor",
          "Turbina de vapor",
          "Turbina de vapor",
          "Turbina de vapor",
          "Turbina de vapor",
          "Turbina de vapor",
          "Turbina de vapor",
          "Turbina de vapor",
          "Turbina de vapor",
          "Turbina de vapor",
          "Turbina de vapor",
          "Turbina de vapor",
          "Turbina de vapor",
          "Turbina de vapor",
          "Turbina de vapor",
          "Turbina de vapor",
          "Turbina de vapor",
          "Turbina de vapor",
          "Turbina de vapor",
          "Turbina de vapor",
          "Turbina de vapor",
          "Turbina de vapor",
          "Turbina de vapor",
          "Turbina de vapor",
          "Turbina de vapor",
          "Turbina de vapor",
          "Turbina de vapor",
          "Turbina de vapor",
          "Turbina de vapor",
          "Fuel + Gas",
          "Fuel + Gas",
          "Cogeneración",
          "Cogeneración",
          "Cogeneración",
          "Cogeneración",
          "Cogeneración",
          "Cogeneración",
          "Cogeneración",
          "Cogeneración",
          "Cogeneración",
          "Cogeneración",
          "Cogeneración",
          "Cogeneración",
          "Cogeneración",
          "Cogeneración",
          "Cogeneración",
          "Cogeneración",
          "Cogeneración",
          "Cogeneración",
          "Cogeneración",
          "Cogeneración",
          "Cogeneración",
          "Cogeneración",
          "Cogeneración",
          "Cogeneración",
          "Cogeneración",
          "Cogeneración",
          "Cogeneración",
          "Cogeneración",
          "Cogeneración",
          "Cogeneración",
          "Cogeneración",
          "Residuos no renovables",
          "Residuos no renovables",
          "Residuos no renovables",
          "Residuos no renovables",
          "Residuos no renovables",
          "Residuos no renovables",
          "Residuos no renovables",
          "Residuos no renovables",
          "Residuos no renovables",
          "Residuos no renovables",
          "Residuos no renovables",
          "Residuos no renovables",
          "Residuos no renovables",
          "Residuos no renovables",
          "Residuos no renovables",
          "Residuos no renovables",
          "Residuos no renovables",
          "Residuos no renovables",
          "Residuos no renovables",
          "Residuos no renovables",
          "Residuos no renovables",
          "Residuos no renovables",
          "Residuos no renovables",
          "Residuos no renovables",
          "Residuos no renovables",
          "Residuos no renovables",
          "Residuos no renovables",
          "Residuos no renovables",
          "Residuos no renovables",
          "Residuos no renovables",
          "Residuos no renovables",
          "Generación no renovable",
          "Generación no renovable",
          "Generación no renovable",
          "Generación no renovable",
          "Generación no renovable",
          "Generación no renovable",
          "Generación no renovable",
          "Generación no renovable",
          "Generación no renovable",
          "Generación no renovable",
          "Generación no renovable",
          "Generación no renovable",
          "Generación no renovable",
          "Generación no renovable",
          "Generación no renovable",
          "Generación no renovable",
          "Generación no renovable",
          "Generación no renovable",
          "Generación no renovable",
          "Generación no renovable",
          "Generación no renovable",
          "Generación no renovable",
          "Generación no renovable",
          "Generación no renovable",
          "Generación no renovable",
          "Generación no renovable",
          "Generación no renovable",
          "Generación no renovable",
          "Generación no renovable",
          "Generación no renovable",
          "Generación no renovable"
         ]
        },
        {
         "hovertemplate": "tipo de energía=Demanda en b.c.<br>Valores=%{x}<br>Porcentaje=%{y}<br>nombre=%{z}<extra></extra>",
         "legendgroup": "Demanda en b.c.",
         "marker": {
          "color": "#00cc96",
          "opacity": 0.9,
          "symbol": "circle"
         },
         "mode": "markers",
         "name": "Demanda en b.c.",
         "scene": "scene",
         "showlegend": true,
         "type": "scatter3d",
         "x": [
          -30029.35,
          -30216.28,
          -25771.441,
          -27173.394,
          -40012.917,
          -42165.889,
          -41243.457,
          -36379.022,
          -28362.316,
          -12677.221,
          -1677.125,
          -4506.807,
          -13055.198,
          -21003.558,
          -18367.203,
          -6185.448,
          -24699.308,
          -34801.155,
          -34760.906,
          -22061.226,
          -29614.368,
          -16745.747,
          -11369.6,
          -11660.4,
          -25476.6,
          -13205.2,
          -14987.2,
          -33277.3,
          -16645.8,
          -27589.6,
          -25645.1,
          -61448.838,
          -48420.387,
          -45939.549,
          -44213.613,
          -70519.778,
          -46961.276,
          -77641.473,
          -83476.417,
          -55321.493,
          -32920.686,
          -28866.425,
          -27427.468,
          -35950.27,
          -28805.195,
          -11584.601,
          -460.821,
          -22980.461,
          -57181.573,
          -31408.635,
          -35905.305,
          -58741.817,
          -19443.509,
          -32746.2,
          -64903.1,
          -85294.7,
          -67279.4,
          -55758.8,
          -63158.2,
          -39350,
          -42371.6,
          -40583.5,
          671868.895,
          695177.8589999999,
          683578.523,
          705001.661,
          679273.4890000001,
          595716.678,
          558723.1410000001,
          669859.391,
          685876.4,
          689088.709,
          687152.936,
          678502.426,
          604504.485,
          555780.8979999999,
          650308.026,
          658582.587,
          682397.378,
          702319.515,
          674697.414,
          580098.071,
          539709.212,
          644307.7679999999,
          681809.733,
          699644.968,
          688948.048,
          673026.421,
          598027.769,
          565533.205,
          665564.644,
          682877.223,
          688451.74
         ],
         "y": [
          0.03512922584152288,
          0.035446346076026904,
          0.031162545737895394,
          0.03205257570052361,
          0.0444420627980012,
          0.054479933439574,
          0.051781317536021894,
          0.03999583456041921,
          0.03324056823331869,
          0.016246920996535002,
          0.0022414264397902384,
          0.006070828663430936,
          0.01858350380610364,
          0.03204700815841474,
          0.025861591278860976,
          0.00920624647325647,
          0.03175710494099933,
          0.039266326451111624,
          0.04307228504818449,
          0.031695746000488176,
          0.041336510155552515,
          0.023365519150164278,
          0.014764921716221692,
          0.013673526379328641,
          0.02798117702357773,
          0.01583365627767487,
          0.02026612489381606,
          0.043878053128674314,
          0.02140784043398409,
          0.03353137170798145,
          0.031239883926711773,
          0.07188467641827591,
          0.05680135988735722,
          0.05554960224733986,
          0.05215249069277672,
          0.07832581669507133,
          0.06067575595803195,
          0.09747916541955905,
          0.09177566576772092,
          0.06483666082965729,
          0.04219061769087531,
          0.03857909709605541,
          0.03694577089716396,
          0.05117363822252664,
          0.043950663938449264,
          0.016311477375770503,
          0.0006858729886747929,
          0.029547099520745374,
          0.06451826993690497,
          0.03891848157508852,
          0.051585774396674874,
          0.08199336602341498,
          0.027129735202967745,
          0.04252524974526269,
          0.07610838821568769,
          0.09367992981296387,
          0.08067116697726642,
          0.0753986605055855,
          0.08327775556044023,
          0.05060727156864037,
          0.051496863653764706,
          0.049437273761447895,
          1,
          1,
          1,
          1,
          1,
          1,
          1,
          1,
          1,
          1,
          1,
          1,
          1,
          1,
          1,
          1,
          1,
          1,
          1,
          1,
          1,
          1,
          1,
          1,
          1,
          1,
          1,
          1,
          1,
          1,
          1
         ],
         "z": [
          "Consumos en bombeo",
          "Consumos en bombeo",
          "Consumos en bombeo",
          "Consumos en bombeo",
          "Consumos en bombeo",
          "Consumos en bombeo",
          "Consumos en bombeo",
          "Consumos en bombeo",
          "Consumos en bombeo",
          "Consumos en bombeo",
          "Consumos en bombeo",
          "Consumos en bombeo",
          "Consumos en bombeo",
          "Consumos en bombeo",
          "Consumos en bombeo",
          "Consumos en bombeo",
          "Consumos en bombeo",
          "Consumos en bombeo",
          "Consumos en bombeo",
          "Consumos en bombeo",
          "Consumos en bombeo",
          "Consumos en bombeo",
          "Consumos en bombeo",
          "Consumos en bombeo",
          "Consumos en bombeo",
          "Consumos en bombeo",
          "Consumos en bombeo",
          "Consumos en bombeo",
          "Consumos en bombeo",
          "Consumos en bombeo",
          "Consumos en bombeo",
          "Saldo I. internacionales",
          "Saldo I. internacionales",
          "Saldo I. internacionales",
          "Saldo I. internacionales",
          "Saldo I. internacionales",
          "Saldo I. internacionales",
          "Saldo I. internacionales",
          "Saldo I. internacionales",
          "Saldo I. internacionales",
          "Saldo I. internacionales",
          "Saldo I. internacionales",
          "Saldo I. internacionales",
          "Saldo I. internacionales",
          "Saldo I. internacionales",
          "Saldo I. internacionales",
          "Saldo I. internacionales",
          "Saldo I. internacionales",
          "Saldo I. internacionales",
          "Saldo I. internacionales",
          "Saldo I. internacionales",
          "Saldo I. internacionales",
          "Saldo I. internacionales",
          "Saldo I. internacionales",
          "Saldo I. internacionales",
          "Saldo I. internacionales",
          "Saldo I. internacionales",
          "Saldo I. internacionales",
          "Saldo I. internacionales",
          "Saldo I. internacionales",
          "Saldo I. internacionales",
          "Saldo I. internacionales",
          "Demanda en b.c.",
          "Demanda en b.c.",
          "Demanda en b.c.",
          "Demanda en b.c.",
          "Demanda en b.c.",
          "Demanda en b.c.",
          "Demanda en b.c.",
          "Demanda en b.c.",
          "Demanda en b.c.",
          "Demanda en b.c.",
          "Demanda en b.c.",
          "Demanda en b.c.",
          "Demanda en b.c.",
          "Demanda en b.c.",
          "Demanda en b.c.",
          "Demanda en b.c.",
          "Demanda en b.c.",
          "Demanda en b.c.",
          "Demanda en b.c.",
          "Demanda en b.c.",
          "Demanda en b.c.",
          "Demanda en b.c.",
          "Demanda en b.c.",
          "Demanda en b.c.",
          "Demanda en b.c.",
          "Demanda en b.c.",
          "Demanda en b.c.",
          "Demanda en b.c.",
          "Demanda en b.c.",
          "Demanda en b.c.",
          "Demanda en b.c."
         ]
        }
       ],
       "layout": {
        "legend": {
         "title": {
          "text": "tipo de energía"
         },
         "tracegroupgap": 0
        },
        "margin": {
         "t": 60
        },
        "scene": {
         "domain": {
          "x": [
           0,
           1
          ],
          "y": [
           0,
           1
          ]
         },
         "xaxis": {
          "title": {
           "text": "Valores"
          }
         },
         "yaxis": {
          "title": {
           "text": "Porcentaje"
          }
         },
         "zaxis": {
          "title": {
           "text": "nombre"
          }
         }
        },
        "template": {
         "data": {
          "bar": [
           {
            "error_x": {
             "color": "#2a3f5f"
            },
            "error_y": {
             "color": "#2a3f5f"
            },
            "marker": {
             "line": {
              "color": "#E5ECF6",
              "width": 0.5
             },
             "pattern": {
              "fillmode": "overlay",
              "size": 10,
              "solidity": 0.2
             }
            },
            "type": "bar"
           }
          ],
          "barpolar": [
           {
            "marker": {
             "line": {
              "color": "#E5ECF6",
              "width": 0.5
             },
             "pattern": {
              "fillmode": "overlay",
              "size": 10,
              "solidity": 0.2
             }
            },
            "type": "barpolar"
           }
          ],
          "carpet": [
           {
            "aaxis": {
             "endlinecolor": "#2a3f5f",
             "gridcolor": "white",
             "linecolor": "white",
             "minorgridcolor": "white",
             "startlinecolor": "#2a3f5f"
            },
            "baxis": {
             "endlinecolor": "#2a3f5f",
             "gridcolor": "white",
             "linecolor": "white",
             "minorgridcolor": "white",
             "startlinecolor": "#2a3f5f"
            },
            "type": "carpet"
           }
          ],
          "choropleth": [
           {
            "colorbar": {
             "outlinewidth": 0,
             "ticks": ""
            },
            "type": "choropleth"
           }
          ],
          "contour": [
           {
            "colorbar": {
             "outlinewidth": 0,
             "ticks": ""
            },
            "colorscale": [
             [
              0,
              "#0d0887"
             ],
             [
              0.1111111111111111,
              "#46039f"
             ],
             [
              0.2222222222222222,
              "#7201a8"
             ],
             [
              0.3333333333333333,
              "#9c179e"
             ],
             [
              0.4444444444444444,
              "#bd3786"
             ],
             [
              0.5555555555555556,
              "#d8576b"
             ],
             [
              0.6666666666666666,
              "#ed7953"
             ],
             [
              0.7777777777777778,
              "#fb9f3a"
             ],
             [
              0.8888888888888888,
              "#fdca26"
             ],
             [
              1,
              "#f0f921"
             ]
            ],
            "type": "contour"
           }
          ],
          "contourcarpet": [
           {
            "colorbar": {
             "outlinewidth": 0,
             "ticks": ""
            },
            "type": "contourcarpet"
           }
          ],
          "heatmap": [
           {
            "colorbar": {
             "outlinewidth": 0,
             "ticks": ""
            },
            "colorscale": [
             [
              0,
              "#0d0887"
             ],
             [
              0.1111111111111111,
              "#46039f"
             ],
             [
              0.2222222222222222,
              "#7201a8"
             ],
             [
              0.3333333333333333,
              "#9c179e"
             ],
             [
              0.4444444444444444,
              "#bd3786"
             ],
             [
              0.5555555555555556,
              "#d8576b"
             ],
             [
              0.6666666666666666,
              "#ed7953"
             ],
             [
              0.7777777777777778,
              "#fb9f3a"
             ],
             [
              0.8888888888888888,
              "#fdca26"
             ],
             [
              1,
              "#f0f921"
             ]
            ],
            "type": "heatmap"
           }
          ],
          "heatmapgl": [
           {
            "colorbar": {
             "outlinewidth": 0,
             "ticks": ""
            },
            "colorscale": [
             [
              0,
              "#0d0887"
             ],
             [
              0.1111111111111111,
              "#46039f"
             ],
             [
              0.2222222222222222,
              "#7201a8"
             ],
             [
              0.3333333333333333,
              "#9c179e"
             ],
             [
              0.4444444444444444,
              "#bd3786"
             ],
             [
              0.5555555555555556,
              "#d8576b"
             ],
             [
              0.6666666666666666,
              "#ed7953"
             ],
             [
              0.7777777777777778,
              "#fb9f3a"
             ],
             [
              0.8888888888888888,
              "#fdca26"
             ],
             [
              1,
              "#f0f921"
             ]
            ],
            "type": "heatmapgl"
           }
          ],
          "histogram": [
           {
            "marker": {
             "pattern": {
              "fillmode": "overlay",
              "size": 10,
              "solidity": 0.2
             }
            },
            "type": "histogram"
           }
          ],
          "histogram2d": [
           {
            "colorbar": {
             "outlinewidth": 0,
             "ticks": ""
            },
            "colorscale": [
             [
              0,
              "#0d0887"
             ],
             [
              0.1111111111111111,
              "#46039f"
             ],
             [
              0.2222222222222222,
              "#7201a8"
             ],
             [
              0.3333333333333333,
              "#9c179e"
             ],
             [
              0.4444444444444444,
              "#bd3786"
             ],
             [
              0.5555555555555556,
              "#d8576b"
             ],
             [
              0.6666666666666666,
              "#ed7953"
             ],
             [
              0.7777777777777778,
              "#fb9f3a"
             ],
             [
              0.8888888888888888,
              "#fdca26"
             ],
             [
              1,
              "#f0f921"
             ]
            ],
            "type": "histogram2d"
           }
          ],
          "histogram2dcontour": [
           {
            "colorbar": {
             "outlinewidth": 0,
             "ticks": ""
            },
            "colorscale": [
             [
              0,
              "#0d0887"
             ],
             [
              0.1111111111111111,
              "#46039f"
             ],
             [
              0.2222222222222222,
              "#7201a8"
             ],
             [
              0.3333333333333333,
              "#9c179e"
             ],
             [
              0.4444444444444444,
              "#bd3786"
             ],
             [
              0.5555555555555556,
              "#d8576b"
             ],
             [
              0.6666666666666666,
              "#ed7953"
             ],
             [
              0.7777777777777778,
              "#fb9f3a"
             ],
             [
              0.8888888888888888,
              "#fdca26"
             ],
             [
              1,
              "#f0f921"
             ]
            ],
            "type": "histogram2dcontour"
           }
          ],
          "mesh3d": [
           {
            "colorbar": {
             "outlinewidth": 0,
             "ticks": ""
            },
            "type": "mesh3d"
           }
          ],
          "parcoords": [
           {
            "line": {
             "colorbar": {
              "outlinewidth": 0,
              "ticks": ""
             }
            },
            "type": "parcoords"
           }
          ],
          "pie": [
           {
            "automargin": true,
            "type": "pie"
           }
          ],
          "scatter": [
           {
            "fillpattern": {
             "fillmode": "overlay",
             "size": 10,
             "solidity": 0.2
            },
            "type": "scatter"
           }
          ],
          "scatter3d": [
           {
            "line": {
             "colorbar": {
              "outlinewidth": 0,
              "ticks": ""
             }
            },
            "marker": {
             "colorbar": {
              "outlinewidth": 0,
              "ticks": ""
             }
            },
            "type": "scatter3d"
           }
          ],
          "scattercarpet": [
           {
            "marker": {
             "colorbar": {
              "outlinewidth": 0,
              "ticks": ""
             }
            },
            "type": "scattercarpet"
           }
          ],
          "scattergeo": [
           {
            "marker": {
             "colorbar": {
              "outlinewidth": 0,
              "ticks": ""
             }
            },
            "type": "scattergeo"
           }
          ],
          "scattergl": [
           {
            "marker": {
             "colorbar": {
              "outlinewidth": 0,
              "ticks": ""
             }
            },
            "type": "scattergl"
           }
          ],
          "scattermapbox": [
           {
            "marker": {
             "colorbar": {
              "outlinewidth": 0,
              "ticks": ""
             }
            },
            "type": "scattermapbox"
           }
          ],
          "scatterpolar": [
           {
            "marker": {
             "colorbar": {
              "outlinewidth": 0,
              "ticks": ""
             }
            },
            "type": "scatterpolar"
           }
          ],
          "scatterpolargl": [
           {
            "marker": {
             "colorbar": {
              "outlinewidth": 0,
              "ticks": ""
             }
            },
            "type": "scatterpolargl"
           }
          ],
          "scatterternary": [
           {
            "marker": {
             "colorbar": {
              "outlinewidth": 0,
              "ticks": ""
             }
            },
            "type": "scatterternary"
           }
          ],
          "surface": [
           {
            "colorbar": {
             "outlinewidth": 0,
             "ticks": ""
            },
            "colorscale": [
             [
              0,
              "#0d0887"
             ],
             [
              0.1111111111111111,
              "#46039f"
             ],
             [
              0.2222222222222222,
              "#7201a8"
             ],
             [
              0.3333333333333333,
              "#9c179e"
             ],
             [
              0.4444444444444444,
              "#bd3786"
             ],
             [
              0.5555555555555556,
              "#d8576b"
             ],
             [
              0.6666666666666666,
              "#ed7953"
             ],
             [
              0.7777777777777778,
              "#fb9f3a"
             ],
             [
              0.8888888888888888,
              "#fdca26"
             ],
             [
              1,
              "#f0f921"
             ]
            ],
            "type": "surface"
           }
          ],
          "table": [
           {
            "cells": {
             "fill": {
              "color": "#EBF0F8"
             },
             "line": {
              "color": "white"
             }
            },
            "header": {
             "fill": {
              "color": "#C8D4E3"
             },
             "line": {
              "color": "white"
             }
            },
            "type": "table"
           }
          ]
         },
         "layout": {
          "annotationdefaults": {
           "arrowcolor": "#2a3f5f",
           "arrowhead": 0,
           "arrowwidth": 1
          },
          "autotypenumbers": "strict",
          "coloraxis": {
           "colorbar": {
            "outlinewidth": 0,
            "ticks": ""
           }
          },
          "colorscale": {
           "diverging": [
            [
             0,
             "#8e0152"
            ],
            [
             0.1,
             "#c51b7d"
            ],
            [
             0.2,
             "#de77ae"
            ],
            [
             0.3,
             "#f1b6da"
            ],
            [
             0.4,
             "#fde0ef"
            ],
            [
             0.5,
             "#f7f7f7"
            ],
            [
             0.6,
             "#e6f5d0"
            ],
            [
             0.7,
             "#b8e186"
            ],
            [
             0.8,
             "#7fbc41"
            ],
            [
             0.9,
             "#4d9221"
            ],
            [
             1,
             "#276419"
            ]
           ],
           "sequential": [
            [
             0,
             "#0d0887"
            ],
            [
             0.1111111111111111,
             "#46039f"
            ],
            [
             0.2222222222222222,
             "#7201a8"
            ],
            [
             0.3333333333333333,
             "#9c179e"
            ],
            [
             0.4444444444444444,
             "#bd3786"
            ],
            [
             0.5555555555555556,
             "#d8576b"
            ],
            [
             0.6666666666666666,
             "#ed7953"
            ],
            [
             0.7777777777777778,
             "#fb9f3a"
            ],
            [
             0.8888888888888888,
             "#fdca26"
            ],
            [
             1,
             "#f0f921"
            ]
           ],
           "sequentialminus": [
            [
             0,
             "#0d0887"
            ],
            [
             0.1111111111111111,
             "#46039f"
            ],
            [
             0.2222222222222222,
             "#7201a8"
            ],
            [
             0.3333333333333333,
             "#9c179e"
            ],
            [
             0.4444444444444444,
             "#bd3786"
            ],
            [
             0.5555555555555556,
             "#d8576b"
            ],
            [
             0.6666666666666666,
             "#ed7953"
            ],
            [
             0.7777777777777778,
             "#fb9f3a"
            ],
            [
             0.8888888888888888,
             "#fdca26"
            ],
            [
             1,
             "#f0f921"
            ]
           ]
          },
          "colorway": [
           "#636efa",
           "#EF553B",
           "#00cc96",
           "#ab63fa",
           "#FFA15A",
           "#19d3f3",
           "#FF6692",
           "#B6E880",
           "#FF97FF",
           "#FECB52"
          ],
          "font": {
           "color": "#2a3f5f"
          },
          "geo": {
           "bgcolor": "white",
           "lakecolor": "white",
           "landcolor": "#E5ECF6",
           "showlakes": true,
           "showland": true,
           "subunitcolor": "white"
          },
          "hoverlabel": {
           "align": "left"
          },
          "hovermode": "closest",
          "mapbox": {
           "style": "light"
          },
          "paper_bgcolor": "white",
          "plot_bgcolor": "#E5ECF6",
          "polar": {
           "angularaxis": {
            "gridcolor": "white",
            "linecolor": "white",
            "ticks": ""
           },
           "bgcolor": "#E5ECF6",
           "radialaxis": {
            "gridcolor": "white",
            "linecolor": "white",
            "ticks": ""
           }
          },
          "scene": {
           "xaxis": {
            "backgroundcolor": "#E5ECF6",
            "gridcolor": "white",
            "gridwidth": 2,
            "linecolor": "white",
            "showbackground": true,
            "ticks": "",
            "zerolinecolor": "white"
           },
           "yaxis": {
            "backgroundcolor": "#E5ECF6",
            "gridcolor": "white",
            "gridwidth": 2,
            "linecolor": "white",
            "showbackground": true,
            "ticks": "",
            "zerolinecolor": "white"
           },
           "zaxis": {
            "backgroundcolor": "#E5ECF6",
            "gridcolor": "white",
            "gridwidth": 2,
            "linecolor": "white",
            "showbackground": true,
            "ticks": "",
            "zerolinecolor": "white"
           }
          },
          "shapedefaults": {
           "line": {
            "color": "#2a3f5f"
           }
          },
          "ternary": {
           "aaxis": {
            "gridcolor": "white",
            "linecolor": "white",
            "ticks": ""
           },
           "baxis": {
            "gridcolor": "white",
            "linecolor": "white",
            "ticks": ""
           },
           "bgcolor": "#E5ECF6",
           "caxis": {
            "gridcolor": "white",
            "linecolor": "white",
            "ticks": ""
           }
          },
          "title": {
           "x": 0.05
          },
          "xaxis": {
           "automargin": true,
           "gridcolor": "white",
           "linecolor": "white",
           "ticks": "",
           "title": {
            "standoff": 15
           },
           "zerolinecolor": "white",
           "zerolinewidth": 2
          },
          "yaxis": {
           "automargin": true,
           "gridcolor": "white",
           "linecolor": "white",
           "ticks": "",
           "title": {
            "standoff": 15
           },
           "zerolinecolor": "white",
           "zerolinewidth": 2
          }
         }
        }
       }
      }
     },
     "metadata": {},
     "output_type": "display_data"
    }
   ],
   "source": [
    "px.scatter_3d(data_frame    = df_balance,\n",
    "              x             = 'Valores',\n",
    "              y             = 'Porcentaje',\n",
    "              z             = 'nombre',\n",
    "              color         = 'tipo de energía',\n",
    "              opacity       = 0.9,\n",
    "              size_max      = 30)"
   ]
  }
 ],
 "metadata": {
  "kernelspec": {
   "display_name": "base",
   "language": "python",
   "name": "python3"
  },
  "language_info": {
   "codemirror_mode": {
    "name": "ipython",
    "version": 3
   },
   "file_extension": ".py",
   "mimetype": "text/x-python",
   "name": "python",
   "nbconvert_exporter": "python",
   "pygments_lexer": "ipython3",
   "version": "3.11.7"
  }
 },
 "nbformat": 4,
 "nbformat_minor": 2
}
