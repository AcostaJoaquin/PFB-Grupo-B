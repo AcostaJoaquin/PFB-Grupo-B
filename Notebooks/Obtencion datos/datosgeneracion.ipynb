{
 "cells": [
  {
   "cell_type": "code",
   "execution_count": 1,
   "metadata": {},
   "outputs": [],
   "source": [
    "import pandas as pd\n",
    "import numpy as np\n",
    "\n",
    "import requests\n",
    "\n",
    "import json\n",
    "\n",
    "from datetime import datetime, timedelta\n",
    "\n",
    "from pprint import  pprint\n",
    "\n",
    "import plotly.express as px\n"
   ]
  },
  {
   "cell_type": "code",
   "execution_count": 2,
   "metadata": {},
   "outputs": [],
   "source": [
    "lang = input('¿En español (es) o en ingles (en)?')\n",
    "\n",
    "restaDia = float(input('¿Cuantos días atrás?:____________'))\n",
    "input_año = int(input('¿Qué año?:_____________'))"
   ]
  },
  {
   "cell_type": "code",
   "execution_count": 3,
   "metadata": {},
   "outputs": [],
   "source": [
    "headers = {\n",
    "    \"Accept\": \"application/json\",\n",
    "    \"Content-Type\": \"application/json\",\n",
    "    \"Host\": \"apidatos.ree.es\"\n",
    "}"
   ]
  },
  {
   "cell_type": "code",
   "execution_count": 4,
   "metadata": {},
   "outputs": [
    {
     "data": {
      "text/html": [
       "<div>\n",
       "<style scoped>\n",
       "    .dataframe tbody tr th:only-of-type {\n",
       "        vertical-align: middle;\n",
       "    }\n",
       "\n",
       "    .dataframe tbody tr th {\n",
       "        vertical-align: top;\n",
       "    }\n",
       "\n",
       "    .dataframe thead th {\n",
       "        text-align: right;\n",
       "    }\n",
       "</style>\n",
       "<table border=\"1\" class=\"dataframe\">\n",
       "  <thead>\n",
       "    <tr style=\"text-align: right;\">\n",
       "      <th></th>\n",
       "      <th>nombre</th>\n",
       "      <th>tipo de energía</th>\n",
       "      <th>Valores</th>\n",
       "      <th>Porcentaje</th>\n",
       "      <th>Fecha actualización</th>\n",
       "    </tr>\n",
       "  </thead>\n",
       "  <tbody>\n",
       "    <tr>\n",
       "      <th>0</th>\n",
       "      <td>Hidráulica</td>\n",
       "      <td>Renovable</td>\n",
       "      <td>24805.877</td>\n",
       "      <td>0.033842</td>\n",
       "      <td>14/09/2023</td>\n",
       "    </tr>\n",
       "    <tr>\n",
       "      <th>1</th>\n",
       "      <td>Hidráulica</td>\n",
       "      <td>Renovable</td>\n",
       "      <td>31052.893</td>\n",
       "      <td>0.044154</td>\n",
       "      <td>15/09/2023</td>\n",
       "    </tr>\n",
       "    <tr>\n",
       "      <th>2</th>\n",
       "      <td>Hidráulica</td>\n",
       "      <td>Renovable</td>\n",
       "      <td>24153.141</td>\n",
       "      <td>0.039668</td>\n",
       "      <td>16/09/2023</td>\n",
       "    </tr>\n",
       "    <tr>\n",
       "      <th>3</th>\n",
       "      <td>Hidráulica</td>\n",
       "      <td>Renovable</td>\n",
       "      <td>15558.041</td>\n",
       "      <td>0.023926</td>\n",
       "      <td>17/09/2023</td>\n",
       "    </tr>\n",
       "    <tr>\n",
       "      <th>4</th>\n",
       "      <td>Hidráulica</td>\n",
       "      <td>Renovable</td>\n",
       "      <td>31779.909</td>\n",
       "      <td>0.047813</td>\n",
       "      <td>18/09/2023</td>\n",
       "    </tr>\n",
       "    <tr>\n",
       "      <th>...</th>\n",
       "      <td>...</td>\n",
       "      <td>...</td>\n",
       "      <td>...</td>\n",
       "      <td>...</td>\n",
       "      <td>...</td>\n",
       "    </tr>\n",
       "    <tr>\n",
       "      <th>523</th>\n",
       "      <td>Generación total</td>\n",
       "      <td>Generación total</td>\n",
       "      <td>688814.909</td>\n",
       "      <td>1.000000</td>\n",
       "      <td>10/10/2023</td>\n",
       "    </tr>\n",
       "    <tr>\n",
       "      <th>524</th>\n",
       "      <td>Generación total</td>\n",
       "      <td>Generación total</td>\n",
       "      <td>656140.296</td>\n",
       "      <td>1.000000</td>\n",
       "      <td>11/10/2023</td>\n",
       "    </tr>\n",
       "    <tr>\n",
       "      <th>525</th>\n",
       "      <td>Generación total</td>\n",
       "      <td>Generación total</td>\n",
       "      <td>635614.935</td>\n",
       "      <td>1.000000</td>\n",
       "      <td>12/10/2023</td>\n",
       "    </tr>\n",
       "    <tr>\n",
       "      <th>526</th>\n",
       "      <td>Generación total</td>\n",
       "      <td>Generación total</td>\n",
       "      <td>619507.095</td>\n",
       "      <td>1.000000</td>\n",
       "      <td>13/10/2023</td>\n",
       "    </tr>\n",
       "    <tr>\n",
       "      <th>527</th>\n",
       "      <td>Generación total</td>\n",
       "      <td>Generación total</td>\n",
       "      <td>551485.698</td>\n",
       "      <td>1.000000</td>\n",
       "      <td>14/10/2023</td>\n",
       "    </tr>\n",
       "  </tbody>\n",
       "</table>\n",
       "<p>528 rows × 5 columns</p>\n",
       "</div>"
      ],
      "text/plain": [
       "               nombre   tipo de energía     Valores  Porcentaje  \\\n",
       "0          Hidráulica         Renovable   24805.877    0.033842   \n",
       "1          Hidráulica         Renovable   31052.893    0.044154   \n",
       "2          Hidráulica         Renovable   24153.141    0.039668   \n",
       "3          Hidráulica         Renovable   15558.041    0.023926   \n",
       "4          Hidráulica         Renovable   31779.909    0.047813   \n",
       "..                ...               ...         ...         ...   \n",
       "523  Generación total  Generación total  688814.909    1.000000   \n",
       "524  Generación total  Generación total  656140.296    1.000000   \n",
       "525  Generación total  Generación total  635614.935    1.000000   \n",
       "526  Generación total  Generación total  619507.095    1.000000   \n",
       "527  Generación total  Generación total  551485.698    1.000000   \n",
       "\n",
       "    Fecha actualización  \n",
       "0            14/09/2023  \n",
       "1            15/09/2023  \n",
       "2            16/09/2023  \n",
       "3            17/09/2023  \n",
       "4            18/09/2023  \n",
       "..                  ...  \n",
       "523          10/10/2023  \n",
       "524          11/10/2023  \n",
       "525          12/10/2023  \n",
       "526          13/10/2023  \n",
       "527          14/10/2023  \n",
       "\n",
       "[528 rows x 5 columns]"
      ]
     },
     "execution_count": 4,
     "metadata": {},
     "output_type": "execute_result"
    }
   ],
   "source": [
    "def generacion_datos(lang):\n",
    "\n",
    "    now = datetime.now()\n",
    "    ultima_fecha = (now - timedelta(days = restaDia)).replace(year = input_año).strftime('%Y-%m-%d')\n",
    "    \n",
    "    hoy = now.replace(year = input_año).strftime('%Y-%m-%d')\n",
    "    \n",
    "    query = f'start_date={ultima_fecha}T00:00&end_date={hoy}T23:59&time_trunc=day'\n",
    "\n",
    "\n",
    "    endpoint = f\"https://apidatos.ree.es/{lang}/datos/generacion/estructura-generacion?{query}\"\n",
    "    response = requests.get(url= endpoint, headers= headers)\n",
    "    data = response.json()\n",
    "\n",
    "    lista_nombres = list()\n",
    "    lista_tipos = list()\n",
    "    lista_valores = list()\n",
    "    lista_porcentajes = list()\n",
    "    lista_fechas = list()\n",
    "    \n",
    "\n",
    "\n",
    "\n",
    "    for dato in data['included']:\n",
    "        nombre = dato['attributes']['title']\n",
    "        tipo = dato['attributes']['type']\n",
    "\n",
    "\n",
    "        for i in dato['attributes']['values']:\n",
    "            valor = i['value']\n",
    "\n",
    "            porcentaje = i['percentage']\n",
    "\n",
    "            fecha = i['datetime']\n",
    "            fecha = pd.to_datetime(fecha)\n",
    "            \n",
    "\n",
    "            fecha =  fecha.strftime(\"%d/%m/%Y\")\n",
    "\n",
    "            lista_nombres.append(nombre)\n",
    "            lista_tipos.append(tipo)\n",
    "            lista_valores.append(valor)\n",
    "            lista_porcentajes.append(porcentaje)\n",
    "            lista_fechas.append(fecha)\n",
    "            \n",
    "\n",
    "    df_generacion = pd.DataFrame()\n",
    "    df_generacion['nombre']               = lista_nombres\n",
    "    df_generacion['tipo de energía']      = lista_tipos\n",
    "    df_generacion['Valores']              = lista_valores\n",
    "    df_generacion[\"Porcentaje\"]           = lista_porcentajes\n",
    "    df_generacion[\"Fecha actualización\"]  = lista_fechas\n",
    "   \n",
    "\n",
    "\n",
    "    return df_generacion\n",
    "    \n",
    "df_generacion = generacion_datos(lang)\n",
    "\n",
    "df_generacion"
   ]
  },
  {
   "cell_type": "code",
   "execution_count": 5,
   "metadata": {},
   "outputs": [],
   "source": [
    "df_generacion.to_csv('generacion_estructura.csv')"
   ]
  },
  {
   "cell_type": "code",
   "execution_count": 6,
   "metadata": {},
   "outputs": [
    {
     "data": {
      "application/vnd.plotly.v1+json": {
       "config": {
        "plotlyServerURL": "https://plot.ly"
       },
       "data": [
        {
         "hovertemplate": "nombre=Hidráulica<br>tipo de energía=Renovable<br>Fecha actualización=%{x}<br>Valores=%{y}<extra></extra>",
         "legendgroup": "Hidráulica",
         "line": {
          "color": "#636efa",
          "dash": "solid"
         },
         "marker": {
          "symbol": "circle"
         },
         "mode": "lines+markers",
         "name": "Hidráulica",
         "orientation": "v",
         "showlegend": true,
         "type": "scatter",
         "x": [
          "14/09/2023",
          "15/09/2023",
          "16/09/2023",
          "17/09/2023",
          "18/09/2023",
          "19/09/2023",
          "20/09/2023",
          "21/09/2023",
          "22/09/2023",
          "23/09/2023",
          "24/09/2023",
          "25/09/2023",
          "26/09/2023",
          "27/09/2023",
          "28/09/2023",
          "29/09/2023",
          "30/09/2023",
          "01/10/2023",
          "02/10/2023",
          "03/10/2023",
          "04/10/2023",
          "05/10/2023",
          "06/10/2023",
          "07/10/2023",
          "08/10/2023",
          "09/10/2023",
          "10/10/2023",
          "11/10/2023",
          "12/10/2023",
          "13/10/2023",
          "14/10/2023"
         ],
         "xaxis": "x",
         "y": [
          24805.877,
          31052.893,
          24153.141,
          15558.041,
          31779.909,
          33073.974,
          29080.481,
          20213.244,
          31118.702,
          24335.723,
          23312.579,
          38970.565,
          40808.219,
          44279.829,
          41709.912,
          43508.807,
          27451.729,
          23512.598,
          25842.727,
          27088.352,
          27620.756,
          38745.423,
          41528.037,
          24530.895,
          22871.902,
          41941.542,
          43709.116,
          46674.527,
          38684.046,
          33757.041,
          41595.229
         ],
         "yaxis": "y"
        },
        {
         "hovertemplate": "nombre=Turbinación bombeo<br>tipo de energía=No-Renovable<br>Fecha actualización=%{x}<br>Valores=%{y}<extra></extra>",
         "legendgroup": "Turbinación bombeo",
         "line": {
          "color": "#EF553B",
          "dash": "solid"
         },
         "marker": {
          "symbol": "circle"
         },
         "mode": "lines+markers",
         "name": "Turbinación bombeo",
         "orientation": "v",
         "showlegend": true,
         "type": "scatter",
         "x": [
          "14/09/2023",
          "15/09/2023",
          "16/09/2023",
          "17/09/2023",
          "18/09/2023",
          "19/09/2023",
          "20/09/2023",
          "21/09/2023",
          "22/09/2023",
          "23/09/2023",
          "24/09/2023",
          "25/09/2023",
          "26/09/2023",
          "27/09/2023",
          "28/09/2023",
          "29/09/2023",
          "30/09/2023",
          "01/10/2023",
          "02/10/2023",
          "03/10/2023",
          "04/10/2023",
          "05/10/2023",
          "06/10/2023",
          "07/10/2023",
          "08/10/2023",
          "09/10/2023",
          "10/10/2023",
          "11/10/2023",
          "12/10/2023",
          "13/10/2023",
          "14/10/2023"
         ],
         "xaxis": "x",
         "y": [
          8771.07,
          10597.651,
          10799.887,
          11025.302,
          15820.152,
          7985.467,
          12816.753,
          16807.971,
          17313.393,
          16396.046,
          14722.586,
          14649.407,
          10635.073,
          12962.414,
          11135.565,
          11965.273,
          16998.403,
          15326.548,
          13878.93,
          10751.625,
          13195.162,
          7382.646,
          10275.258,
          12323.618,
          13197.372,
          13078.548,
          10481.52,
          15061.23,
          10886.82,
          13480.264,
          12822.74
         ],
         "yaxis": "y"
        },
        {
         "hovertemplate": "nombre=Nuclear<br>tipo de energía=No-Renovable<br>Fecha actualización=%{x}<br>Valores=%{y}<extra></extra>",
         "legendgroup": "Nuclear",
         "line": {
          "color": "#00cc96",
          "dash": "solid"
         },
         "marker": {
          "symbol": "circle"
         },
         "mode": "lines+markers",
         "name": "Nuclear",
         "orientation": "v",
         "showlegend": true,
         "type": "scatter",
         "x": [
          "14/09/2023",
          "15/09/2023",
          "16/09/2023",
          "17/09/2023",
          "18/09/2023",
          "19/09/2023",
          "20/09/2023",
          "21/09/2023",
          "22/09/2023",
          "23/09/2023",
          "24/09/2023",
          "25/09/2023",
          "26/09/2023",
          "27/09/2023",
          "28/09/2023",
          "29/09/2023",
          "30/09/2023",
          "01/10/2023",
          "02/10/2023",
          "03/10/2023",
          "04/10/2023",
          "05/10/2023",
          "06/10/2023",
          "07/10/2023",
          "08/10/2023",
          "09/10/2023",
          "10/10/2023",
          "11/10/2023",
          "12/10/2023",
          "13/10/2023",
          "14/10/2023"
         ],
         "xaxis": "x",
         "y": [
          162714.088,
          163691.166,
          163837.034,
          161560.003,
          163891.9,
          164125.743,
          144409.722,
          115413.095,
          127688.454,
          139091.629,
          138517.22,
          138503.073,
          138814.453,
          138487.209,
          138404.139,
          138340.676,
          138174.336,
          137688.802,
          137998.815,
          148363.465,
          159640.052,
          154335.239,
          136990.992,
          137676.308,
          138773.399,
          100722.677,
          93265.672,
          93964.593,
          115515.185,
          130910.227,
          128407.893
         ],
         "yaxis": "y"
        },
        {
         "hovertemplate": "nombre=Carbón<br>tipo de energía=No-Renovable<br>Fecha actualización=%{x}<br>Valores=%{y}<extra></extra>",
         "legendgroup": "Carbón",
         "line": {
          "color": "#ab63fa",
          "dash": "solid"
         },
         "marker": {
          "symbol": "circle"
         },
         "mode": "lines+markers",
         "name": "Carbón",
         "orientation": "v",
         "showlegend": true,
         "type": "scatter",
         "x": [
          "14/09/2023",
          "15/09/2023",
          "16/09/2023",
          "17/09/2023",
          "18/09/2023",
          "19/09/2023",
          "20/09/2023",
          "21/09/2023",
          "22/09/2023",
          "23/09/2023",
          "24/09/2023",
          "25/09/2023",
          "26/09/2023",
          "27/09/2023",
          "28/09/2023",
          "29/09/2023",
          "30/09/2023",
          "01/10/2023",
          "02/10/2023",
          "03/10/2023",
          "04/10/2023",
          "05/10/2023",
          "06/10/2023",
          "07/10/2023",
          "08/10/2023",
          "09/10/2023",
          "10/10/2023",
          "11/10/2023",
          "12/10/2023",
          "13/10/2023",
          "14/10/2023"
         ],
         "xaxis": "x",
         "y": [
          12937.876,
          12406.252,
          12101.126,
          11523.562,
          12920.307,
          11970.991,
          12904.898,
          13554.938,
          13203.949,
          11660.905,
          10726.508,
          15116.6,
          19459.305,
          19886.878,
          19831.748,
          20136.761,
          12655.73,
          12119.983,
          13778.858,
          12717.874,
          13596.617,
          12795.673,
          12858.636,
          11369.515,
          12236.949,
          16363.071,
          18237.233,
          20324.393,
          17950.377,
          18328.268,
          18290.297
         ],
         "yaxis": "y"
        },
        {
         "hovertemplate": "nombre=Fuel + Gas<br>tipo de energía=No-Renovable<br>Fecha actualización=%{x}<br>Valores=%{y}<extra></extra>",
         "legendgroup": "Fuel + Gas",
         "line": {
          "color": "#FFA15A",
          "dash": "solid"
         },
         "marker": {
          "symbol": "circle"
         },
         "mode": "lines+markers",
         "name": "Fuel + Gas",
         "orientation": "v",
         "showlegend": true,
         "type": "scatter",
         "x": [
          "04/10/2023"
         ],
         "xaxis": "x",
         "y": [
          -0.001
         ],
         "yaxis": "y"
        },
        {
         "hovertemplate": "nombre=Motores diésel<br>tipo de energía=No-Renovable<br>Fecha actualización=%{x}<br>Valores=%{y}<extra></extra>",
         "legendgroup": "Motores diésel",
         "line": {
          "color": "#19d3f3",
          "dash": "solid"
         },
         "marker": {
          "symbol": "circle"
         },
         "mode": "lines+markers",
         "name": "Motores diésel",
         "orientation": "v",
         "showlegend": true,
         "type": "scatter",
         "x": [
          "14/09/2023",
          "15/09/2023",
          "16/09/2023",
          "17/09/2023",
          "18/09/2023",
          "19/09/2023",
          "20/09/2023",
          "21/09/2023",
          "22/09/2023",
          "23/09/2023",
          "24/09/2023",
          "25/09/2023",
          "26/09/2023",
          "27/09/2023",
          "28/09/2023",
          "29/09/2023",
          "30/09/2023",
          "01/10/2023",
          "02/10/2023",
          "03/10/2023",
          "04/10/2023",
          "05/10/2023",
          "06/10/2023",
          "07/10/2023",
          "08/10/2023",
          "09/10/2023",
          "10/10/2023",
          "11/10/2023",
          "12/10/2023",
          "13/10/2023",
          "14/10/2023"
         ],
         "xaxis": "x",
         "y": [
          6895.553,
          7183.111,
          7679.592,
          6552.737,
          6491.208,
          6680.791,
          7016.332,
          6738.499,
          6892.66,
          6408.033,
          6302.819,
          7001.324,
          6415.588,
          5918.866,
          5953.527,
          7659,
          7695.346,
          6579.752,
          7235.851,
          7788.375,
          7230.269,
          7838.51,
          7954.891,
          7534.932,
          7311.034,
          8276.692,
          8366.964,
          8138.499,
          7445.251,
          8310.598,
          8323.241
         ],
         "yaxis": "y"
        },
        {
         "hovertemplate": "nombre=Turbina de gas<br>tipo de energía=No-Renovable<br>Fecha actualización=%{x}<br>Valores=%{y}<extra></extra>",
         "legendgroup": "Turbina de gas",
         "line": {
          "color": "#FF6692",
          "dash": "solid"
         },
         "marker": {
          "symbol": "circle"
         },
         "mode": "lines+markers",
         "name": "Turbina de gas",
         "orientation": "v",
         "showlegend": true,
         "type": "scatter",
         "x": [
          "14/09/2023",
          "15/09/2023",
          "16/09/2023",
          "17/09/2023",
          "18/09/2023",
          "19/09/2023",
          "20/09/2023",
          "21/09/2023",
          "22/09/2023",
          "23/09/2023",
          "24/09/2023",
          "25/09/2023",
          "26/09/2023",
          "27/09/2023",
          "28/09/2023",
          "29/09/2023",
          "30/09/2023",
          "01/10/2023",
          "02/10/2023",
          "03/10/2023",
          "04/10/2023",
          "05/10/2023",
          "06/10/2023",
          "07/10/2023",
          "08/10/2023",
          "09/10/2023",
          "10/10/2023",
          "11/10/2023",
          "12/10/2023",
          "13/10/2023",
          "14/10/2023"
         ],
         "xaxis": "x",
         "y": [
          2750.667,
          3073.966,
          2141.747,
          1995.216,
          3067.666,
          2371.383,
          2011.431,
          1743.816,
          1558.718,
          1222.198,
          1361.139,
          1900.167,
          2317.929,
          2090.492,
          1939.267,
          1688.733,
          2079.891,
          1658.784,
          2859.899,
          3299.137,
          3058.345,
          3401.781,
          2837.518,
          2112.744,
          2137.769,
          3442.04,
          3338.447,
          3508.775,
          1707.765,
          2989.38,
          1912.767
         ],
         "yaxis": "y"
        },
        {
         "hovertemplate": "nombre=Turbina de vapor<br>tipo de energía=No-Renovable<br>Fecha actualización=%{x}<br>Valores=%{y}<extra></extra>",
         "legendgroup": "Turbina de vapor",
         "line": {
          "color": "#B6E880",
          "dash": "solid"
         },
         "marker": {
          "symbol": "circle"
         },
         "mode": "lines+markers",
         "name": "Turbina de vapor",
         "orientation": "v",
         "showlegend": true,
         "type": "scatter",
         "x": [
          "14/09/2023",
          "15/09/2023",
          "16/09/2023",
          "17/09/2023",
          "18/09/2023",
          "19/09/2023",
          "20/09/2023",
          "21/09/2023",
          "22/09/2023",
          "23/09/2023",
          "24/09/2023",
          "25/09/2023",
          "26/09/2023",
          "27/09/2023",
          "28/09/2023",
          "29/09/2023",
          "30/09/2023",
          "01/10/2023",
          "02/10/2023",
          "03/10/2023",
          "04/10/2023",
          "05/10/2023",
          "06/10/2023",
          "07/10/2023",
          "08/10/2023",
          "09/10/2023",
          "10/10/2023",
          "11/10/2023",
          "12/10/2023",
          "13/10/2023",
          "14/10/2023"
         ],
         "xaxis": "x",
         "y": [
          2695.01,
          2756.202,
          2920.999,
          2874.813,
          3206.877,
          3307.667,
          3271.521,
          3408.961,
          3503.892,
          3309.608,
          3177.341,
          4152.895,
          3578.103,
          3392.715,
          3515.335,
          4475.366,
          3878.917,
          3685.595,
          3803.922,
          3988.165,
          4625.621,
          4714.82,
          4918.555,
          4981.017,
          4575.141,
          4450.877,
          4838.719,
          4264.555,
          3501.405,
          4085.773,
          3683.833
         ],
         "yaxis": "y"
        },
        {
         "hovertemplate": "nombre=Ciclo combinado<br>tipo de energía=No-Renovable<br>Fecha actualización=%{x}<br>Valores=%{y}<extra></extra>",
         "legendgroup": "Ciclo combinado",
         "line": {
          "color": "#FF97FF",
          "dash": "solid"
         },
         "marker": {
          "symbol": "circle"
         },
         "mode": "lines+markers",
         "name": "Ciclo combinado",
         "orientation": "v",
         "showlegend": true,
         "type": "scatter",
         "x": [
          "14/09/2023",
          "15/09/2023",
          "16/09/2023",
          "17/09/2023",
          "18/09/2023",
          "19/09/2023",
          "20/09/2023",
          "21/09/2023",
          "22/09/2023",
          "23/09/2023",
          "24/09/2023",
          "25/09/2023",
          "26/09/2023",
          "27/09/2023",
          "28/09/2023",
          "29/09/2023",
          "30/09/2023",
          "01/10/2023",
          "02/10/2023",
          "03/10/2023",
          "04/10/2023",
          "05/10/2023",
          "06/10/2023",
          "07/10/2023",
          "08/10/2023",
          "09/10/2023",
          "10/10/2023",
          "11/10/2023",
          "12/10/2023",
          "13/10/2023",
          "14/10/2023"
         ],
         "xaxis": "x",
         "y": [
          199849.787,
          207626.946,
          123925.093,
          92830.002,
          133945.575,
          210151.804,
          126742.202,
          105865.509,
          114033.419,
          140609.853,
          117110.974,
          181039.945,
          183858.901,
          171414.065,
          192061.19,
          208050.26,
          154436.88,
          143128.675,
          178589.387,
          171362.465,
          184528.624,
          222286.189,
          206888.211,
          140317.5,
          127960.58,
          220550.181,
          260849.031,
          207359.834,
          150317.111,
          94088.207,
          115573.66
         ],
         "yaxis": "y"
        },
        {
         "hovertemplate": "nombre=Hidroeólica<br>tipo de energía=Renovable<br>Fecha actualización=%{x}<br>Valores=%{y}<extra></extra>",
         "legendgroup": "Hidroeólica",
         "line": {
          "color": "#FECB52",
          "dash": "solid"
         },
         "marker": {
          "symbol": "circle"
         },
         "mode": "lines+markers",
         "name": "Hidroeólica",
         "orientation": "v",
         "showlegend": true,
         "type": "scatter",
         "x": [
          "14/09/2023",
          "15/09/2023",
          "16/09/2023",
          "17/09/2023",
          "18/09/2023",
          "19/09/2023",
          "20/09/2023",
          "21/09/2023",
          "22/09/2023",
          "23/09/2023",
          "24/09/2023",
          "25/09/2023",
          "26/09/2023",
          "27/09/2023",
          "28/09/2023",
          "29/09/2023",
          "30/09/2023",
          "01/10/2023",
          "02/10/2023",
          "03/10/2023",
          "04/10/2023",
          "05/10/2023",
          "06/10/2023",
          "07/10/2023",
          "08/10/2023",
          "09/10/2023",
          "10/10/2023",
          "11/10/2023",
          "12/10/2023",
          "13/10/2023",
          "14/10/2023"
         ],
         "xaxis": "x",
         "y": [
          75.188,
          71.507,
          24.817,
          71.798,
          82.063,
          97.676,
          42.124,
          43.431,
          49.377,
          50.166,
          40.149,
          54.191,
          69.267,
          93.93,
          95.334,
          28.09,
          -2.192,
          -0.077,
          2.047,
          21.267,
          26.192,
          2.947,
          3.604,
          4.891,
          13.57,
          10.616,
          6.117,
          14.357,
          0.664,
          0.94,
          1.746
         ],
         "yaxis": "y"
        },
        {
         "hovertemplate": "nombre=Eólica<br>tipo de energía=Renovable<br>Fecha actualización=%{x}<br>Valores=%{y}<extra></extra>",
         "legendgroup": "Eólica",
         "line": {
          "color": "#636efa",
          "dash": "solid"
         },
         "marker": {
          "symbol": "circle"
         },
         "mode": "lines+markers",
         "name": "Eólica",
         "orientation": "v",
         "showlegend": true,
         "type": "scatter",
         "x": [
          "14/09/2023",
          "15/09/2023",
          "16/09/2023",
          "17/09/2023",
          "18/09/2023",
          "19/09/2023",
          "20/09/2023",
          "21/09/2023",
          "22/09/2023",
          "23/09/2023",
          "24/09/2023",
          "25/09/2023",
          "26/09/2023",
          "27/09/2023",
          "28/09/2023",
          "29/09/2023",
          "30/09/2023",
          "01/10/2023",
          "02/10/2023",
          "03/10/2023",
          "04/10/2023",
          "05/10/2023",
          "06/10/2023",
          "07/10/2023",
          "08/10/2023",
          "09/10/2023",
          "10/10/2023",
          "11/10/2023",
          "12/10/2023",
          "13/10/2023",
          "14/10/2023"
         ],
         "xaxis": "x",
         "y": [
          114384.247,
          102730.916,
          123185.593,
          209534.384,
          127090.677,
          61873.719,
          154352.114,
          300443.625,
          191728.164,
          62212.405,
          80956.323,
          59481.707,
          66702.778,
          119078.548,
          93717.424,
          48743.75,
          71790.755,
          67340.717,
          123178.884,
          123386.311,
          104358.274,
          50450.433,
          64416.642,
          75517.746,
          59586.819,
          53814.25,
          40364.161,
          46525.945,
          87103.14,
          155090.68,
          78888.568
         ],
         "yaxis": "y"
        },
        {
         "hovertemplate": "nombre=Solar fotovoltaica<br>tipo de energía=Renovable<br>Fecha actualización=%{x}<br>Valores=%{y}<extra></extra>",
         "legendgroup": "Solar fotovoltaica",
         "line": {
          "color": "#EF553B",
          "dash": "solid"
         },
         "marker": {
          "symbol": "circle"
         },
         "mode": "lines+markers",
         "name": "Solar fotovoltaica",
         "orientation": "v",
         "showlegend": true,
         "type": "scatter",
         "x": [
          "14/09/2023",
          "15/09/2023",
          "16/09/2023",
          "17/09/2023",
          "18/09/2023",
          "19/09/2023",
          "20/09/2023",
          "21/09/2023",
          "22/09/2023",
          "23/09/2023",
          "24/09/2023",
          "25/09/2023",
          "26/09/2023",
          "27/09/2023",
          "28/09/2023",
          "29/09/2023",
          "30/09/2023",
          "01/10/2023",
          "02/10/2023",
          "03/10/2023",
          "04/10/2023",
          "05/10/2023",
          "06/10/2023",
          "07/10/2023",
          "08/10/2023",
          "09/10/2023",
          "10/10/2023",
          "11/10/2023",
          "12/10/2023",
          "13/10/2023",
          "14/10/2023"
         ],
         "xaxis": "x",
         "y": [
          112494.024,
          83969.818,
          73569.331,
          82520.277,
          97003.07,
          115090.681,
          136933.965,
          79274.995,
          132980.176,
          131582.923,
          124631.015,
          133621.346,
          127279.529,
          124437.232,
          130418.849,
          128452.095,
          126417.895,
          130719.556,
          126647.71,
          120708.613,
          121833.444,
          121536.59,
          120719.663,
          118468.114,
          121475.905,
          115051.014,
          118841.884,
          123595.804,
          120410.662,
          88908.629,
          71359.43
         ],
         "yaxis": "y"
        },
        {
         "hovertemplate": "nombre=Solar térmica<br>tipo de energía=Renovable<br>Fecha actualización=%{x}<br>Valores=%{y}<extra></extra>",
         "legendgroup": "Solar térmica",
         "line": {
          "color": "#00cc96",
          "dash": "solid"
         },
         "marker": {
          "symbol": "circle"
         },
         "mode": "lines+markers",
         "name": "Solar térmica",
         "orientation": "v",
         "showlegend": true,
         "type": "scatter",
         "x": [
          "14/09/2023",
          "15/09/2023",
          "16/09/2023",
          "17/09/2023",
          "18/09/2023",
          "19/09/2023",
          "20/09/2023",
          "21/09/2023",
          "22/09/2023",
          "23/09/2023",
          "24/09/2023",
          "25/09/2023",
          "26/09/2023",
          "27/09/2023",
          "28/09/2023",
          "29/09/2023",
          "30/09/2023",
          "01/10/2023",
          "02/10/2023",
          "03/10/2023",
          "04/10/2023",
          "05/10/2023",
          "06/10/2023",
          "07/10/2023",
          "08/10/2023",
          "09/10/2023",
          "10/10/2023",
          "11/10/2023",
          "12/10/2023",
          "13/10/2023",
          "14/10/2023"
         ],
         "xaxis": "x",
         "y": [
          14430.12,
          6282.017,
          1329.429,
          2883.921,
          4758.746,
          16799.109,
          20321.971,
          5231.198,
          12841.32,
          19952.207,
          22556.123,
          20529.101,
          21103.343,
          19451.213,
          18621.448,
          19664.765,
          19700.118,
          21472.534,
          18326.516,
          16070.137,
          13369.877,
          15051.556,
          12174.059,
          10156.522,
          15608.325,
          14944.868,
          15093.094,
          16531.887,
          16134.804,
          4994.006,
          3828.743
         ],
         "yaxis": "y"
        },
        {
         "hovertemplate": "nombre=Otras renovables<br>tipo de energía=Renovable<br>Fecha actualización=%{x}<br>Valores=%{y}<extra></extra>",
         "legendgroup": "Otras renovables",
         "line": {
          "color": "#ab63fa",
          "dash": "solid"
         },
         "marker": {
          "symbol": "circle"
         },
         "mode": "lines+markers",
         "name": "Otras renovables",
         "orientation": "v",
         "showlegend": true,
         "type": "scatter",
         "x": [
          "14/09/2023",
          "15/09/2023",
          "16/09/2023",
          "17/09/2023",
          "18/09/2023",
          "19/09/2023",
          "20/09/2023",
          "21/09/2023",
          "22/09/2023",
          "23/09/2023",
          "24/09/2023",
          "25/09/2023",
          "26/09/2023",
          "27/09/2023",
          "28/09/2023",
          "29/09/2023",
          "30/09/2023",
          "01/10/2023",
          "02/10/2023",
          "03/10/2023",
          "04/10/2023",
          "05/10/2023",
          "06/10/2023",
          "07/10/2023",
          "08/10/2023",
          "09/10/2023",
          "10/10/2023",
          "11/10/2023",
          "12/10/2023",
          "13/10/2023",
          "14/10/2023"
         ],
         "xaxis": "x",
         "y": [
          10622.483,
          10810.377,
          9479.58,
          7427.447,
          7905.733,
          8720.434,
          8346.948,
          8637.511,
          8869.273,
          8997.682,
          7588.529,
          7919.28,
          7809.369,
          7817.909,
          7734.386,
          7933.016,
          8141.04,
          7084.88,
          7468.318,
          9853.567,
          10251.645,
          10114.513,
          10828.954,
          10404.026,
          9847.209,
          10101.857,
          10455.201,
          10918.157,
          10905.575,
          10130.513,
          10129.139
         ],
         "yaxis": "y"
        },
        {
         "hovertemplate": "nombre=Cogeneración<br>tipo de energía=No-Renovable<br>Fecha actualización=%{x}<br>Valores=%{y}<extra></extra>",
         "legendgroup": "Cogeneración",
         "line": {
          "color": "#FFA15A",
          "dash": "solid"
         },
         "marker": {
          "symbol": "circle"
         },
         "mode": "lines+markers",
         "name": "Cogeneración",
         "orientation": "v",
         "showlegend": true,
         "type": "scatter",
         "x": [
          "14/09/2023",
          "15/09/2023",
          "16/09/2023",
          "17/09/2023",
          "18/09/2023",
          "19/09/2023",
          "20/09/2023",
          "21/09/2023",
          "22/09/2023",
          "23/09/2023",
          "24/09/2023",
          "25/09/2023",
          "26/09/2023",
          "27/09/2023",
          "28/09/2023",
          "29/09/2023",
          "30/09/2023",
          "01/10/2023",
          "02/10/2023",
          "03/10/2023",
          "04/10/2023",
          "05/10/2023",
          "06/10/2023",
          "07/10/2023",
          "08/10/2023",
          "09/10/2023",
          "10/10/2023",
          "11/10/2023",
          "12/10/2023",
          "13/10/2023",
          "14/10/2023"
         ],
         "xaxis": "x",
         "y": [
          53485.942,
          54784.603,
          47632.931,
          37676.674,
          50165.262,
          52970.529,
          49710.625,
          47307.661,
          49995.016,
          48660.325,
          42265.843,
          49993.956,
          50966.696,
          49619.151,
          50454.504,
          50695.218,
          44711.977,
          42106.874,
          49198.972,
          49219.474,
          50465.825,
          53123.607,
          53832.03,
          50794.184,
          48585.432,
          53969.552,
          54221.736,
          52342.178,
          48353.074,
          47680.64,
          49999.61
         ],
         "yaxis": "y"
        },
        {
         "hovertemplate": "nombre=Residuos no renovables<br>tipo de energía=No-Renovable<br>Fecha actualización=%{x}<br>Valores=%{y}<extra></extra>",
         "legendgroup": "Residuos no renovables",
         "line": {
          "color": "#19d3f3",
          "dash": "solid"
         },
         "marker": {
          "symbol": "circle"
         },
         "mode": "lines+markers",
         "name": "Residuos no renovables",
         "orientation": "v",
         "showlegend": true,
         "type": "scatter",
         "x": [
          "14/09/2023",
          "15/09/2023",
          "16/09/2023",
          "17/09/2023",
          "18/09/2023",
          "19/09/2023",
          "20/09/2023",
          "21/09/2023",
          "22/09/2023",
          "23/09/2023",
          "24/09/2023",
          "25/09/2023",
          "26/09/2023",
          "27/09/2023",
          "28/09/2023",
          "29/09/2023",
          "30/09/2023",
          "01/10/2023",
          "02/10/2023",
          "03/10/2023",
          "04/10/2023",
          "05/10/2023",
          "06/10/2023",
          "07/10/2023",
          "08/10/2023",
          "09/10/2023",
          "10/10/2023",
          "11/10/2023",
          "12/10/2023",
          "13/10/2023",
          "14/10/2023"
         ],
         "xaxis": "x",
         "y": [
          3780.4485,
          3840.0525,
          3723.483,
          3757.355,
          3934.239,
          4036.15,
          3978.4535,
          3901.789,
          3895.6125,
          4143.66,
          4074.673,
          4179.527,
          4074.2665,
          4201.57,
          4032.016,
          3914.962,
          3905.464,
          3961.2335,
          4022.96,
          4001.3105,
          4024.94,
          4031.225,
          4070.296,
          4239.4665,
          4018.3955,
          4154.7725,
          4251.738,
          4303.413,
          4061.1975,
          4034.669,
          4012.702
         ],
         "yaxis": "y"
        },
        {
         "hovertemplate": "nombre=Residuos renovables<br>tipo de energía=Renovable<br>Fecha actualización=%{x}<br>Valores=%{y}<extra></extra>",
         "legendgroup": "Residuos renovables",
         "line": {
          "color": "#FF6692",
          "dash": "solid"
         },
         "marker": {
          "symbol": "circle"
         },
         "mode": "lines+markers",
         "name": "Residuos renovables",
         "orientation": "v",
         "showlegend": true,
         "type": "scatter",
         "x": [
          "14/09/2023",
          "15/09/2023",
          "16/09/2023",
          "17/09/2023",
          "18/09/2023",
          "19/09/2023",
          "20/09/2023",
          "21/09/2023",
          "22/09/2023",
          "23/09/2023",
          "24/09/2023",
          "25/09/2023",
          "26/09/2023",
          "27/09/2023",
          "28/09/2023",
          "29/09/2023",
          "30/09/2023",
          "01/10/2023",
          "02/10/2023",
          "03/10/2023",
          "04/10/2023",
          "05/10/2023",
          "06/10/2023",
          "07/10/2023",
          "08/10/2023",
          "09/10/2023",
          "10/10/2023",
          "11/10/2023",
          "12/10/2023",
          "13/10/2023",
          "14/10/2023"
         ],
         "xaxis": "x",
         "y": [
          2298.9115,
          2406.3415,
          2384.065,
          2473.136,
          2605.383,
          2620.964,
          2560.2315,
          2416.424,
          2390.6595,
          2478.807,
          2549.512,
          2650.328,
          2538.8175,
          2655.089,
          2660.421,
          2616.346,
          2606.464,
          2674.2125,
          2715.025,
          2691.2915,
          2713.163,
          2732.902,
          2738.779,
          2595.3435,
          2419.7675,
          2437.8145,
          2494.276,
          2612.149,
          2637.8585,
          2717.26,
          2656.1
         ],
         "yaxis": "y"
        },
        {
         "hovertemplate": "nombre=Generación total<br>tipo de energía=Generación total<br>Fecha actualización=%{x}<br>Valores=%{y}<extra></extra>",
         "legendgroup": "Generación total",
         "line": {
          "color": "#B6E880",
          "dash": "solid"
         },
         "marker": {
          "symbol": "circle"
         },
         "mode": "lines+markers",
         "name": "Generación total",
         "orientation": "v",
         "showlegend": true,
         "type": "scatter",
         "x": [
          "14/09/2023",
          "15/09/2023",
          "16/09/2023",
          "17/09/2023",
          "18/09/2023",
          "19/09/2023",
          "20/09/2023",
          "21/09/2023",
          "22/09/2023",
          "23/09/2023",
          "24/09/2023",
          "25/09/2023",
          "26/09/2023",
          "27/09/2023",
          "28/09/2023",
          "29/09/2023",
          "30/09/2023",
          "01/10/2023",
          "02/10/2023",
          "03/10/2023",
          "04/10/2023",
          "05/10/2023",
          "06/10/2023",
          "07/10/2023",
          "08/10/2023",
          "09/10/2023",
          "10/10/2023",
          "11/10/2023",
          "12/10/2023",
          "13/10/2023",
          "14/10/2023"
         ],
         "xaxis": "x",
         "y": [
          732991.2920000001,
          703283.8189999999,
          608887.8479999999,
          650264.6680000001,
          664668.7670000001,
          701877.082,
          714499.772,
          731002.6669999999,
          718062.785,
          621112.1700000002,
          599893.3329999999,
          679763.412,
          686431.637,
          725787.1099999999,
          722285.0649999998,
          697873.1180000001,
          640642.753,
          619060.667,
          715548.8209999999,
          711311.4290000001,
          720538.8049999999,
          708544.054,
          693036.125,
          613026.8219999999,
          590619.569,
          663310.372,
          688814.9090000001,
          656140.2959999999,
          635614.9349999999,
          619507.0950000001,
          551485.6980000001
         ],
         "yaxis": "y"
        }
       ],
       "layout": {
        "legend": {
         "title": {
          "text": "nombre"
         },
         "tracegroupgap": 0
        },
        "template": {
         "data": {
          "bar": [
           {
            "error_x": {
             "color": "#2a3f5f"
            },
            "error_y": {
             "color": "#2a3f5f"
            },
            "marker": {
             "line": {
              "color": "#E5ECF6",
              "width": 0.5
             },
             "pattern": {
              "fillmode": "overlay",
              "size": 10,
              "solidity": 0.2
             }
            },
            "type": "bar"
           }
          ],
          "barpolar": [
           {
            "marker": {
             "line": {
              "color": "#E5ECF6",
              "width": 0.5
             },
             "pattern": {
              "fillmode": "overlay",
              "size": 10,
              "solidity": 0.2
             }
            },
            "type": "barpolar"
           }
          ],
          "carpet": [
           {
            "aaxis": {
             "endlinecolor": "#2a3f5f",
             "gridcolor": "white",
             "linecolor": "white",
             "minorgridcolor": "white",
             "startlinecolor": "#2a3f5f"
            },
            "baxis": {
             "endlinecolor": "#2a3f5f",
             "gridcolor": "white",
             "linecolor": "white",
             "minorgridcolor": "white",
             "startlinecolor": "#2a3f5f"
            },
            "type": "carpet"
           }
          ],
          "choropleth": [
           {
            "colorbar": {
             "outlinewidth": 0,
             "ticks": ""
            },
            "type": "choropleth"
           }
          ],
          "contour": [
           {
            "colorbar": {
             "outlinewidth": 0,
             "ticks": ""
            },
            "colorscale": [
             [
              0,
              "#0d0887"
             ],
             [
              0.1111111111111111,
              "#46039f"
             ],
             [
              0.2222222222222222,
              "#7201a8"
             ],
             [
              0.3333333333333333,
              "#9c179e"
             ],
             [
              0.4444444444444444,
              "#bd3786"
             ],
             [
              0.5555555555555556,
              "#d8576b"
             ],
             [
              0.6666666666666666,
              "#ed7953"
             ],
             [
              0.7777777777777778,
              "#fb9f3a"
             ],
             [
              0.8888888888888888,
              "#fdca26"
             ],
             [
              1,
              "#f0f921"
             ]
            ],
            "type": "contour"
           }
          ],
          "contourcarpet": [
           {
            "colorbar": {
             "outlinewidth": 0,
             "ticks": ""
            },
            "type": "contourcarpet"
           }
          ],
          "heatmap": [
           {
            "colorbar": {
             "outlinewidth": 0,
             "ticks": ""
            },
            "colorscale": [
             [
              0,
              "#0d0887"
             ],
             [
              0.1111111111111111,
              "#46039f"
             ],
             [
              0.2222222222222222,
              "#7201a8"
             ],
             [
              0.3333333333333333,
              "#9c179e"
             ],
             [
              0.4444444444444444,
              "#bd3786"
             ],
             [
              0.5555555555555556,
              "#d8576b"
             ],
             [
              0.6666666666666666,
              "#ed7953"
             ],
             [
              0.7777777777777778,
              "#fb9f3a"
             ],
             [
              0.8888888888888888,
              "#fdca26"
             ],
             [
              1,
              "#f0f921"
             ]
            ],
            "type": "heatmap"
           }
          ],
          "heatmapgl": [
           {
            "colorbar": {
             "outlinewidth": 0,
             "ticks": ""
            },
            "colorscale": [
             [
              0,
              "#0d0887"
             ],
             [
              0.1111111111111111,
              "#46039f"
             ],
             [
              0.2222222222222222,
              "#7201a8"
             ],
             [
              0.3333333333333333,
              "#9c179e"
             ],
             [
              0.4444444444444444,
              "#bd3786"
             ],
             [
              0.5555555555555556,
              "#d8576b"
             ],
             [
              0.6666666666666666,
              "#ed7953"
             ],
             [
              0.7777777777777778,
              "#fb9f3a"
             ],
             [
              0.8888888888888888,
              "#fdca26"
             ],
             [
              1,
              "#f0f921"
             ]
            ],
            "type": "heatmapgl"
           }
          ],
          "histogram": [
           {
            "marker": {
             "pattern": {
              "fillmode": "overlay",
              "size": 10,
              "solidity": 0.2
             }
            },
            "type": "histogram"
           }
          ],
          "histogram2d": [
           {
            "colorbar": {
             "outlinewidth": 0,
             "ticks": ""
            },
            "colorscale": [
             [
              0,
              "#0d0887"
             ],
             [
              0.1111111111111111,
              "#46039f"
             ],
             [
              0.2222222222222222,
              "#7201a8"
             ],
             [
              0.3333333333333333,
              "#9c179e"
             ],
             [
              0.4444444444444444,
              "#bd3786"
             ],
             [
              0.5555555555555556,
              "#d8576b"
             ],
             [
              0.6666666666666666,
              "#ed7953"
             ],
             [
              0.7777777777777778,
              "#fb9f3a"
             ],
             [
              0.8888888888888888,
              "#fdca26"
             ],
             [
              1,
              "#f0f921"
             ]
            ],
            "type": "histogram2d"
           }
          ],
          "histogram2dcontour": [
           {
            "colorbar": {
             "outlinewidth": 0,
             "ticks": ""
            },
            "colorscale": [
             [
              0,
              "#0d0887"
             ],
             [
              0.1111111111111111,
              "#46039f"
             ],
             [
              0.2222222222222222,
              "#7201a8"
             ],
             [
              0.3333333333333333,
              "#9c179e"
             ],
             [
              0.4444444444444444,
              "#bd3786"
             ],
             [
              0.5555555555555556,
              "#d8576b"
             ],
             [
              0.6666666666666666,
              "#ed7953"
             ],
             [
              0.7777777777777778,
              "#fb9f3a"
             ],
             [
              0.8888888888888888,
              "#fdca26"
             ],
             [
              1,
              "#f0f921"
             ]
            ],
            "type": "histogram2dcontour"
           }
          ],
          "mesh3d": [
           {
            "colorbar": {
             "outlinewidth": 0,
             "ticks": ""
            },
            "type": "mesh3d"
           }
          ],
          "parcoords": [
           {
            "line": {
             "colorbar": {
              "outlinewidth": 0,
              "ticks": ""
             }
            },
            "type": "parcoords"
           }
          ],
          "pie": [
           {
            "automargin": true,
            "type": "pie"
           }
          ],
          "scatter": [
           {
            "fillpattern": {
             "fillmode": "overlay",
             "size": 10,
             "solidity": 0.2
            },
            "type": "scatter"
           }
          ],
          "scatter3d": [
           {
            "line": {
             "colorbar": {
              "outlinewidth": 0,
              "ticks": ""
             }
            },
            "marker": {
             "colorbar": {
              "outlinewidth": 0,
              "ticks": ""
             }
            },
            "type": "scatter3d"
           }
          ],
          "scattercarpet": [
           {
            "marker": {
             "colorbar": {
              "outlinewidth": 0,
              "ticks": ""
             }
            },
            "type": "scattercarpet"
           }
          ],
          "scattergeo": [
           {
            "marker": {
             "colorbar": {
              "outlinewidth": 0,
              "ticks": ""
             }
            },
            "type": "scattergeo"
           }
          ],
          "scattergl": [
           {
            "marker": {
             "colorbar": {
              "outlinewidth": 0,
              "ticks": ""
             }
            },
            "type": "scattergl"
           }
          ],
          "scattermapbox": [
           {
            "marker": {
             "colorbar": {
              "outlinewidth": 0,
              "ticks": ""
             }
            },
            "type": "scattermapbox"
           }
          ],
          "scatterpolar": [
           {
            "marker": {
             "colorbar": {
              "outlinewidth": 0,
              "ticks": ""
             }
            },
            "type": "scatterpolar"
           }
          ],
          "scatterpolargl": [
           {
            "marker": {
             "colorbar": {
              "outlinewidth": 0,
              "ticks": ""
             }
            },
            "type": "scatterpolargl"
           }
          ],
          "scatterternary": [
           {
            "marker": {
             "colorbar": {
              "outlinewidth": 0,
              "ticks": ""
             }
            },
            "type": "scatterternary"
           }
          ],
          "surface": [
           {
            "colorbar": {
             "outlinewidth": 0,
             "ticks": ""
            },
            "colorscale": [
             [
              0,
              "#0d0887"
             ],
             [
              0.1111111111111111,
              "#46039f"
             ],
             [
              0.2222222222222222,
              "#7201a8"
             ],
             [
              0.3333333333333333,
              "#9c179e"
             ],
             [
              0.4444444444444444,
              "#bd3786"
             ],
             [
              0.5555555555555556,
              "#d8576b"
             ],
             [
              0.6666666666666666,
              "#ed7953"
             ],
             [
              0.7777777777777778,
              "#fb9f3a"
             ],
             [
              0.8888888888888888,
              "#fdca26"
             ],
             [
              1,
              "#f0f921"
             ]
            ],
            "type": "surface"
           }
          ],
          "table": [
           {
            "cells": {
             "fill": {
              "color": "#EBF0F8"
             },
             "line": {
              "color": "white"
             }
            },
            "header": {
             "fill": {
              "color": "#C8D4E3"
             },
             "line": {
              "color": "white"
             }
            },
            "type": "table"
           }
          ]
         },
         "layout": {
          "annotationdefaults": {
           "arrowcolor": "#2a3f5f",
           "arrowhead": 0,
           "arrowwidth": 1
          },
          "autotypenumbers": "strict",
          "coloraxis": {
           "colorbar": {
            "outlinewidth": 0,
            "ticks": ""
           }
          },
          "colorscale": {
           "diverging": [
            [
             0,
             "#8e0152"
            ],
            [
             0.1,
             "#c51b7d"
            ],
            [
             0.2,
             "#de77ae"
            ],
            [
             0.3,
             "#f1b6da"
            ],
            [
             0.4,
             "#fde0ef"
            ],
            [
             0.5,
             "#f7f7f7"
            ],
            [
             0.6,
             "#e6f5d0"
            ],
            [
             0.7,
             "#b8e186"
            ],
            [
             0.8,
             "#7fbc41"
            ],
            [
             0.9,
             "#4d9221"
            ],
            [
             1,
             "#276419"
            ]
           ],
           "sequential": [
            [
             0,
             "#0d0887"
            ],
            [
             0.1111111111111111,
             "#46039f"
            ],
            [
             0.2222222222222222,
             "#7201a8"
            ],
            [
             0.3333333333333333,
             "#9c179e"
            ],
            [
             0.4444444444444444,
             "#bd3786"
            ],
            [
             0.5555555555555556,
             "#d8576b"
            ],
            [
             0.6666666666666666,
             "#ed7953"
            ],
            [
             0.7777777777777778,
             "#fb9f3a"
            ],
            [
             0.8888888888888888,
             "#fdca26"
            ],
            [
             1,
             "#f0f921"
            ]
           ],
           "sequentialminus": [
            [
             0,
             "#0d0887"
            ],
            [
             0.1111111111111111,
             "#46039f"
            ],
            [
             0.2222222222222222,
             "#7201a8"
            ],
            [
             0.3333333333333333,
             "#9c179e"
            ],
            [
             0.4444444444444444,
             "#bd3786"
            ],
            [
             0.5555555555555556,
             "#d8576b"
            ],
            [
             0.6666666666666666,
             "#ed7953"
            ],
            [
             0.7777777777777778,
             "#fb9f3a"
            ],
            [
             0.8888888888888888,
             "#fdca26"
            ],
            [
             1,
             "#f0f921"
            ]
           ]
          },
          "colorway": [
           "#636efa",
           "#EF553B",
           "#00cc96",
           "#ab63fa",
           "#FFA15A",
           "#19d3f3",
           "#FF6692",
           "#B6E880",
           "#FF97FF",
           "#FECB52"
          ],
          "font": {
           "color": "#2a3f5f"
          },
          "geo": {
           "bgcolor": "white",
           "lakecolor": "white",
           "landcolor": "#E5ECF6",
           "showlakes": true,
           "showland": true,
           "subunitcolor": "white"
          },
          "hoverlabel": {
           "align": "left"
          },
          "hovermode": "closest",
          "mapbox": {
           "style": "light"
          },
          "paper_bgcolor": "white",
          "plot_bgcolor": "#E5ECF6",
          "polar": {
           "angularaxis": {
            "gridcolor": "white",
            "linecolor": "white",
            "ticks": ""
           },
           "bgcolor": "#E5ECF6",
           "radialaxis": {
            "gridcolor": "white",
            "linecolor": "white",
            "ticks": ""
           }
          },
          "scene": {
           "xaxis": {
            "backgroundcolor": "#E5ECF6",
            "gridcolor": "white",
            "gridwidth": 2,
            "linecolor": "white",
            "showbackground": true,
            "ticks": "",
            "zerolinecolor": "white"
           },
           "yaxis": {
            "backgroundcolor": "#E5ECF6",
            "gridcolor": "white",
            "gridwidth": 2,
            "linecolor": "white",
            "showbackground": true,
            "ticks": "",
            "zerolinecolor": "white"
           },
           "zaxis": {
            "backgroundcolor": "#E5ECF6",
            "gridcolor": "white",
            "gridwidth": 2,
            "linecolor": "white",
            "showbackground": true,
            "ticks": "",
            "zerolinecolor": "white"
           }
          },
          "shapedefaults": {
           "line": {
            "color": "#2a3f5f"
           }
          },
          "ternary": {
           "aaxis": {
            "gridcolor": "white",
            "linecolor": "white",
            "ticks": ""
           },
           "baxis": {
            "gridcolor": "white",
            "linecolor": "white",
            "ticks": ""
           },
           "bgcolor": "#E5ECF6",
           "caxis": {
            "gridcolor": "white",
            "linecolor": "white",
            "ticks": ""
           }
          },
          "title": {
           "x": 0.05
          },
          "xaxis": {
           "automargin": true,
           "gridcolor": "white",
           "linecolor": "white",
           "ticks": "",
           "title": {
            "standoff": 15
           },
           "zerolinecolor": "white",
           "zerolinewidth": 2
          },
          "yaxis": {
           "automargin": true,
           "gridcolor": "white",
           "linecolor": "white",
           "ticks": "",
           "title": {
            "standoff": 15
           },
           "zerolinecolor": "white",
           "zerolinewidth": 2
          }
         }
        },
        "title": {
         "text": "Tipo de energía"
        },
        "xaxis": {
         "anchor": "y",
         "domain": [
          0,
          1
         ],
         "title": {
          "text": "Fecha actualización"
         }
        },
        "yaxis": {
         "anchor": "x",
         "domain": [
          0,
          1
         ],
         "title": {
          "text": "Valores"
         }
        }
       }
      }
     },
     "metadata": {},
     "output_type": "display_data"
    }
   ],
   "source": [
    "px.line(data_frame = df_generacion, x = 'Fecha actualización', y = 'Valores', color = 'nombre',\n",
    "        line_group= 'tipo de energía',\n",
    "        title= 'Tipo de energía',\n",
    "        markers = True)"
   ]
  },
  {
   "cell_type": "code",
   "execution_count": 18,
   "metadata": {},
   "outputs": [
    {
     "data": {
      "application/vnd.plotly.v1+json": {
       "config": {
        "plotlyServerURL": "https://plot.ly"
       },
       "data": [
        {
         "alignmentgroup": "True",
         "hovertemplate": "nombre=%{y}<br>Valores=%{x}<extra></extra>",
         "legendgroup": "Hidráulica",
         "marker": {
          "color": "#636efa"
         },
         "name": "Hidráulica",
         "notched": false,
         "offsetgroup": "Hidráulica",
         "orientation": "h",
         "showlegend": true,
         "type": "box",
         "x": [
          22677.543,
          34410.083,
          36184.276,
          27251.012,
          24805.877,
          31052.893,
          24153.141,
          15558.041,
          31779.909,
          33073.974,
          29080.481,
          20213.244,
          31118.702,
          24335.723,
          23312.579,
          38970.565,
          40808.219,
          44279.829,
          41709.912,
          43508.807,
          27451.729,
          23512.598,
          25842.727,
          27088.352,
          27620.756,
          38745.423,
          41528.037,
          24530.895,
          22871.902,
          41941.542,
          43709.116
         ],
         "x0": " ",
         "xaxis": "x",
         "y": [
          "Hidráulica",
          "Hidráulica",
          "Hidráulica",
          "Hidráulica",
          "Hidráulica",
          "Hidráulica",
          "Hidráulica",
          "Hidráulica",
          "Hidráulica",
          "Hidráulica",
          "Hidráulica",
          "Hidráulica",
          "Hidráulica",
          "Hidráulica",
          "Hidráulica",
          "Hidráulica",
          "Hidráulica",
          "Hidráulica",
          "Hidráulica",
          "Hidráulica",
          "Hidráulica",
          "Hidráulica",
          "Hidráulica",
          "Hidráulica",
          "Hidráulica",
          "Hidráulica",
          "Hidráulica",
          "Hidráulica",
          "Hidráulica",
          "Hidráulica",
          "Hidráulica"
         ],
         "y0": " ",
         "yaxis": "y"
        },
        {
         "alignmentgroup": "True",
         "hovertemplate": "nombre=%{y}<br>Valores=%{x}<extra></extra>",
         "legendgroup": "Turbinación bombeo",
         "marker": {
          "color": "#EF553B"
         },
         "name": "Turbinación bombeo",
         "notched": false,
         "offsetgroup": "Turbinación bombeo",
         "orientation": "h",
         "showlegend": true,
         "type": "box",
         "x": [
          12419.169,
          5242.136,
          4400.221,
          7140.595,
          8771.07,
          10597.651,
          10799.887,
          11025.302,
          15820.152,
          7985.467,
          12816.753,
          16807.971,
          17313.393,
          16396.046,
          14722.586,
          14649.407,
          10635.073,
          12962.414,
          11135.565,
          11965.273,
          16998.403,
          15326.548,
          13878.93,
          10751.625,
          13195.162,
          7382.646,
          10275.258,
          12323.618,
          13197.372,
          13078.548,
          10481.52
         ],
         "x0": " ",
         "xaxis": "x",
         "y": [
          "Turbinación bombeo",
          "Turbinación bombeo",
          "Turbinación bombeo",
          "Turbinación bombeo",
          "Turbinación bombeo",
          "Turbinación bombeo",
          "Turbinación bombeo",
          "Turbinación bombeo",
          "Turbinación bombeo",
          "Turbinación bombeo",
          "Turbinación bombeo",
          "Turbinación bombeo",
          "Turbinación bombeo",
          "Turbinación bombeo",
          "Turbinación bombeo",
          "Turbinación bombeo",
          "Turbinación bombeo",
          "Turbinación bombeo",
          "Turbinación bombeo",
          "Turbinación bombeo",
          "Turbinación bombeo",
          "Turbinación bombeo",
          "Turbinación bombeo",
          "Turbinación bombeo",
          "Turbinación bombeo",
          "Turbinación bombeo",
          "Turbinación bombeo",
          "Turbinación bombeo",
          "Turbinación bombeo",
          "Turbinación bombeo",
          "Turbinación bombeo"
         ],
         "y0": " ",
         "yaxis": "y"
        },
        {
         "alignmentgroup": "True",
         "hovertemplate": "nombre=%{y}<br>Valores=%{x}<extra></extra>",
         "legendgroup": "Nuclear",
         "marker": {
          "color": "#00cc96"
         },
         "name": "Nuclear",
         "notched": false,
         "offsetgroup": "Nuclear",
         "orientation": "h",
         "showlegend": true,
         "type": "box",
         "x": [
          163778.663,
          163514.484,
          163486.687,
          163605.227,
          162714.088,
          163691.166,
          163837.034,
          161560.003,
          163891.9,
          164125.743,
          144409.722,
          115413.095,
          127688.454,
          139091.629,
          138517.22,
          138503.073,
          138814.453,
          138487.209,
          138404.139,
          138340.676,
          138174.336,
          137688.802,
          137998.815,
          148363.465,
          159640.052,
          154335.239,
          136990.992,
          137676.308,
          138773.399,
          100722.677,
          93265.672
         ],
         "x0": " ",
         "xaxis": "x",
         "y": [
          "Nuclear",
          "Nuclear",
          "Nuclear",
          "Nuclear",
          "Nuclear",
          "Nuclear",
          "Nuclear",
          "Nuclear",
          "Nuclear",
          "Nuclear",
          "Nuclear",
          "Nuclear",
          "Nuclear",
          "Nuclear",
          "Nuclear",
          "Nuclear",
          "Nuclear",
          "Nuclear",
          "Nuclear",
          "Nuclear",
          "Nuclear",
          "Nuclear",
          "Nuclear",
          "Nuclear",
          "Nuclear",
          "Nuclear",
          "Nuclear",
          "Nuclear",
          "Nuclear",
          "Nuclear",
          "Nuclear"
         ],
         "y0": " ",
         "yaxis": "y"
        },
        {
         "alignmentgroup": "True",
         "hovertemplate": "nombre=%{y}<br>Valores=%{x}<extra></extra>",
         "legendgroup": "Carbón",
         "marker": {
          "color": "#ab63fa"
         },
         "name": "Carbón",
         "notched": false,
         "offsetgroup": "Carbón",
         "orientation": "h",
         "showlegend": true,
         "type": "box",
         "x": [
          11475.828,
          13141.731,
          12801.155,
          12728.758,
          12937.876,
          12406.252,
          12101.126,
          11523.562,
          12920.307,
          11970.991,
          12904.898,
          13554.938,
          13203.949,
          11660.905,
          10726.508,
          15116.6,
          19459.305,
          19886.878,
          19831.748,
          20136.761,
          12655.73,
          12119.983,
          13778.858,
          12717.874,
          13596.617,
          12795.673,
          12858.636,
          11369.515,
          12236.949,
          16363.071,
          18237.233
         ],
         "x0": " ",
         "xaxis": "x",
         "y": [
          "Carbón",
          "Carbón",
          "Carbón",
          "Carbón",
          "Carbón",
          "Carbón",
          "Carbón",
          "Carbón",
          "Carbón",
          "Carbón",
          "Carbón",
          "Carbón",
          "Carbón",
          "Carbón",
          "Carbón",
          "Carbón",
          "Carbón",
          "Carbón",
          "Carbón",
          "Carbón",
          "Carbón",
          "Carbón",
          "Carbón",
          "Carbón",
          "Carbón",
          "Carbón",
          "Carbón",
          "Carbón",
          "Carbón",
          "Carbón",
          "Carbón"
         ],
         "y0": " ",
         "yaxis": "y"
        },
        {
         "alignmentgroup": "True",
         "hovertemplate": "nombre=%{y}<br>Valores=%{x}<extra></extra>",
         "legendgroup": "Fuel + Gas",
         "marker": {
          "color": "#FFA15A"
         },
         "name": "Fuel + Gas",
         "notched": false,
         "offsetgroup": "Fuel + Gas",
         "orientation": "h",
         "showlegend": true,
         "type": "box",
         "x": [
          -0.001
         ],
         "x0": " ",
         "xaxis": "x",
         "y": [
          "Fuel + Gas"
         ],
         "y0": " ",
         "yaxis": "y"
        },
        {
         "alignmentgroup": "True",
         "hovertemplate": "nombre=%{y}<br>Valores=%{x}<extra></extra>",
         "legendgroup": "Motores diésel",
         "marker": {
          "color": "#19d3f3"
         },
         "name": "Motores diésel",
         "notched": false,
         "offsetgroup": "Motores diésel",
         "orientation": "h",
         "showlegend": true,
         "type": "box",
         "x": [
          8001.976,
          8175.841,
          7349.132,
          6942.373,
          6895.553,
          7183.111,
          7679.592,
          6552.737,
          6491.208,
          6680.791,
          7016.332,
          6738.499,
          6892.66,
          6408.033,
          6302.819,
          7001.324,
          6415.588,
          5918.866,
          5953.527,
          7659,
          7695.346,
          6579.752,
          7235.851,
          7788.375,
          7230.269,
          7838.51,
          7954.891,
          7534.932,
          7311.034,
          8276.692,
          8366.964
         ],
         "x0": " ",
         "xaxis": "x",
         "y": [
          "Motores diésel",
          "Motores diésel",
          "Motores diésel",
          "Motores diésel",
          "Motores diésel",
          "Motores diésel",
          "Motores diésel",
          "Motores diésel",
          "Motores diésel",
          "Motores diésel",
          "Motores diésel",
          "Motores diésel",
          "Motores diésel",
          "Motores diésel",
          "Motores diésel",
          "Motores diésel",
          "Motores diésel",
          "Motores diésel",
          "Motores diésel",
          "Motores diésel",
          "Motores diésel",
          "Motores diésel",
          "Motores diésel",
          "Motores diésel",
          "Motores diésel",
          "Motores diésel",
          "Motores diésel",
          "Motores diésel",
          "Motores diésel",
          "Motores diésel",
          "Motores diésel"
         ],
         "y0": " ",
         "yaxis": "y"
        },
        {
         "alignmentgroup": "True",
         "hovertemplate": "nombre=%{y}<br>Valores=%{x}<extra></extra>",
         "legendgroup": "Turbina de gas",
         "marker": {
          "color": "#FF6692"
         },
         "name": "Turbina de gas",
         "notched": false,
         "offsetgroup": "Turbina de gas",
         "orientation": "h",
         "showlegend": true,
         "type": "box",
         "x": [
          1914.995,
          2598.356,
          2801.504,
          2773.235,
          2750.667,
          3073.966,
          2141.747,
          1995.216,
          3067.666,
          2371.383,
          2011.431,
          1743.816,
          1558.718,
          1222.198,
          1361.139,
          1900.167,
          2317.929,
          2090.492,
          1939.267,
          1688.733,
          2079.891,
          1658.784,
          2859.899,
          3299.137,
          3058.345,
          3401.781,
          2837.518,
          2112.744,
          2137.769,
          3442.04,
          3338.447
         ],
         "x0": " ",
         "xaxis": "x",
         "y": [
          "Turbina de gas",
          "Turbina de gas",
          "Turbina de gas",
          "Turbina de gas",
          "Turbina de gas",
          "Turbina de gas",
          "Turbina de gas",
          "Turbina de gas",
          "Turbina de gas",
          "Turbina de gas",
          "Turbina de gas",
          "Turbina de gas",
          "Turbina de gas",
          "Turbina de gas",
          "Turbina de gas",
          "Turbina de gas",
          "Turbina de gas",
          "Turbina de gas",
          "Turbina de gas",
          "Turbina de gas",
          "Turbina de gas",
          "Turbina de gas",
          "Turbina de gas",
          "Turbina de gas",
          "Turbina de gas",
          "Turbina de gas",
          "Turbina de gas",
          "Turbina de gas",
          "Turbina de gas",
          "Turbina de gas",
          "Turbina de gas"
         ],
         "y0": " ",
         "yaxis": "y"
        },
        {
         "alignmentgroup": "True",
         "hovertemplate": "nombre=%{y}<br>Valores=%{x}<extra></extra>",
         "legendgroup": "Turbina de vapor",
         "marker": {
          "color": "#B6E880"
         },
         "name": "Turbina de vapor",
         "notched": false,
         "offsetgroup": "Turbina de vapor",
         "orientation": "h",
         "showlegend": true,
         "type": "box",
         "x": [
          4249.815,
          4804.434,
          3973.953,
          3294.808,
          2695.01,
          2756.202,
          2920.999,
          2874.813,
          3206.877,
          3307.667,
          3271.521,
          3408.961,
          3503.892,
          3309.608,
          3177.341,
          4152.895,
          3578.103,
          3392.715,
          3515.335,
          4475.366,
          3878.917,
          3685.595,
          3803.922,
          3988.165,
          4625.621,
          4714.82,
          4918.555,
          4981.017,
          4575.141,
          4450.877,
          4838.719
         ],
         "x0": " ",
         "xaxis": "x",
         "y": [
          "Turbina de vapor",
          "Turbina de vapor",
          "Turbina de vapor",
          "Turbina de vapor",
          "Turbina de vapor",
          "Turbina de vapor",
          "Turbina de vapor",
          "Turbina de vapor",
          "Turbina de vapor",
          "Turbina de vapor",
          "Turbina de vapor",
          "Turbina de vapor",
          "Turbina de vapor",
          "Turbina de vapor",
          "Turbina de vapor",
          "Turbina de vapor",
          "Turbina de vapor",
          "Turbina de vapor",
          "Turbina de vapor",
          "Turbina de vapor",
          "Turbina de vapor",
          "Turbina de vapor",
          "Turbina de vapor",
          "Turbina de vapor",
          "Turbina de vapor",
          "Turbina de vapor",
          "Turbina de vapor",
          "Turbina de vapor",
          "Turbina de vapor",
          "Turbina de vapor",
          "Turbina de vapor"
         ],
         "y0": " ",
         "yaxis": "y"
        },
        {
         "alignmentgroup": "True",
         "hovertemplate": "nombre=%{y}<br>Valores=%{x}<extra></extra>",
         "legendgroup": "Ciclo combinado",
         "marker": {
          "color": "#FF97FF"
         },
         "name": "Ciclo combinado",
         "notched": false,
         "offsetgroup": "Ciclo combinado",
         "orientation": "h",
         "showlegend": true,
         "type": "box",
         "x": [
          153185.437,
          207427.016,
          238916.811,
          202472.327,
          199849.787,
          207626.946,
          123925.093,
          92830.002,
          133945.575,
          210151.804,
          126742.202,
          105865.509,
          114033.419,
          140609.853,
          117110.974,
          181039.945,
          183858.901,
          171414.065,
          192061.19,
          208050.26,
          154436.88,
          143128.675,
          178589.387,
          171362.465,
          184528.624,
          222286.189,
          206888.211,
          140317.5,
          127960.58,
          220550.181,
          260849.031
         ],
         "x0": " ",
         "xaxis": "x",
         "y": [
          "Ciclo combinado",
          "Ciclo combinado",
          "Ciclo combinado",
          "Ciclo combinado",
          "Ciclo combinado",
          "Ciclo combinado",
          "Ciclo combinado",
          "Ciclo combinado",
          "Ciclo combinado",
          "Ciclo combinado",
          "Ciclo combinado",
          "Ciclo combinado",
          "Ciclo combinado",
          "Ciclo combinado",
          "Ciclo combinado",
          "Ciclo combinado",
          "Ciclo combinado",
          "Ciclo combinado",
          "Ciclo combinado",
          "Ciclo combinado",
          "Ciclo combinado",
          "Ciclo combinado",
          "Ciclo combinado",
          "Ciclo combinado",
          "Ciclo combinado",
          "Ciclo combinado",
          "Ciclo combinado",
          "Ciclo combinado",
          "Ciclo combinado",
          "Ciclo combinado",
          "Ciclo combinado"
         ],
         "y0": " ",
         "yaxis": "y"
        },
        {
         "alignmentgroup": "True",
         "hovertemplate": "nombre=%{y}<br>Valores=%{x}<extra></extra>",
         "legendgroup": "Hidroeólica",
         "marker": {
          "color": "#FECB52"
         },
         "name": "Hidroeólica",
         "notched": false,
         "offsetgroup": "Hidroeólica",
         "orientation": "h",
         "showlegend": true,
         "type": "box",
         "x": [
          5.401,
          28.649,
          37.994,
          49.623,
          75.188,
          71.507,
          24.817,
          71.798,
          82.063,
          97.676,
          42.124,
          43.431,
          49.377,
          50.166,
          40.149,
          54.191,
          69.267,
          93.93,
          95.334,
          28.09,
          -2.192,
          -0.077,
          2.047,
          21.267,
          26.192,
          2.947,
          3.604,
          4.891,
          13.57,
          10.616,
          6.117
         ],
         "x0": " ",
         "xaxis": "x",
         "y": [
          "Hidroeólica",
          "Hidroeólica",
          "Hidroeólica",
          "Hidroeólica",
          "Hidroeólica",
          "Hidroeólica",
          "Hidroeólica",
          "Hidroeólica",
          "Hidroeólica",
          "Hidroeólica",
          "Hidroeólica",
          "Hidroeólica",
          "Hidroeólica",
          "Hidroeólica",
          "Hidroeólica",
          "Hidroeólica",
          "Hidroeólica",
          "Hidroeólica",
          "Hidroeólica",
          "Hidroeólica",
          "Hidroeólica",
          "Hidroeólica",
          "Hidroeólica",
          "Hidroeólica",
          "Hidroeólica",
          "Hidroeólica",
          "Hidroeólica",
          "Hidroeólica",
          "Hidroeólica",
          "Hidroeólica",
          "Hidroeólica"
         ],
         "y0": " ",
         "yaxis": "y"
        },
        {
         "alignmentgroup": "True",
         "hovertemplate": "nombre=%{y}<br>Valores=%{x}<extra></extra>",
         "legendgroup": "Eólica",
         "marker": {
          "color": "#636efa"
         },
         "name": "Eólica",
         "notched": false,
         "offsetgroup": "Eólica",
         "orientation": "h",
         "showlegend": true,
         "type": "box",
         "x": [
          69826.543,
          54172.392,
          60510.578,
          121145.44,
          114384.247,
          102730.916,
          123185.593,
          209534.384,
          127090.677,
          61873.719,
          154352.114,
          300443.625,
          191728.164,
          62212.405,
          80956.323,
          59481.707,
          66702.778,
          119078.548,
          93717.424,
          48743.75,
          71790.755,
          67340.717,
          123178.884,
          123386.311,
          104358.274,
          50450.433,
          64416.642,
          75517.746,
          59586.819,
          53814.25,
          40364.161
         ],
         "x0": " ",
         "xaxis": "x",
         "y": [
          "Eólica",
          "Eólica",
          "Eólica",
          "Eólica",
          "Eólica",
          "Eólica",
          "Eólica",
          "Eólica",
          "Eólica",
          "Eólica",
          "Eólica",
          "Eólica",
          "Eólica",
          "Eólica",
          "Eólica",
          "Eólica",
          "Eólica",
          "Eólica",
          "Eólica",
          "Eólica",
          "Eólica",
          "Eólica",
          "Eólica",
          "Eólica",
          "Eólica",
          "Eólica",
          "Eólica",
          "Eólica",
          "Eólica",
          "Eólica",
          "Eólica"
         ],
         "y0": " ",
         "yaxis": "y"
        },
        {
         "alignmentgroup": "True",
         "hovertemplate": "nombre=%{y}<br>Valores=%{x}<extra></extra>",
         "legendgroup": "Solar fotovoltaica",
         "marker": {
          "color": "#EF553B"
         },
         "name": "Solar fotovoltaica",
         "notched": false,
         "offsetgroup": "Solar fotovoltaica",
         "orientation": "h",
         "showlegend": true,
         "type": "box",
         "x": [
          121887.424,
          118190.342,
          118167.259,
          127037.077,
          112494.024,
          83969.818,
          73569.331,
          82520.277,
          97003.07,
          115090.681,
          136933.965,
          79274.995,
          132980.176,
          131582.923,
          124631.015,
          133621.346,
          127279.529,
          124437.232,
          130418.849,
          128452.095,
          126417.895,
          130719.556,
          126647.71,
          120708.613,
          121833.444,
          121536.59,
          120719.663,
          118468.114,
          121475.905,
          115051.014,
          118841.884
         ],
         "x0": " ",
         "xaxis": "x",
         "y": [
          "Solar fotovoltaica",
          "Solar fotovoltaica",
          "Solar fotovoltaica",
          "Solar fotovoltaica",
          "Solar fotovoltaica",
          "Solar fotovoltaica",
          "Solar fotovoltaica",
          "Solar fotovoltaica",
          "Solar fotovoltaica",
          "Solar fotovoltaica",
          "Solar fotovoltaica",
          "Solar fotovoltaica",
          "Solar fotovoltaica",
          "Solar fotovoltaica",
          "Solar fotovoltaica",
          "Solar fotovoltaica",
          "Solar fotovoltaica",
          "Solar fotovoltaica",
          "Solar fotovoltaica",
          "Solar fotovoltaica",
          "Solar fotovoltaica",
          "Solar fotovoltaica",
          "Solar fotovoltaica",
          "Solar fotovoltaica",
          "Solar fotovoltaica",
          "Solar fotovoltaica",
          "Solar fotovoltaica",
          "Solar fotovoltaica",
          "Solar fotovoltaica",
          "Solar fotovoltaica",
          "Solar fotovoltaica"
         ],
         "y0": " ",
         "yaxis": "y"
        },
        {
         "alignmentgroup": "True",
         "hovertemplate": "nombre=%{y}<br>Valores=%{x}<extra></extra>",
         "legendgroup": "Solar térmica",
         "marker": {
          "color": "#00cc96"
         },
         "name": "Solar térmica",
         "notched": false,
         "offsetgroup": "Solar térmica",
         "orientation": "h",
         "showlegend": true,
         "type": "box",
         "x": [
          15358.585,
          14417.226,
          18173.901,
          19163.019,
          14430.12,
          6282.017,
          1329.429,
          2883.921,
          4758.746,
          16799.109,
          20321.971,
          5231.198,
          12841.32,
          19952.207,
          22556.123,
          20529.101,
          21103.343,
          19451.213,
          18621.448,
          19664.765,
          19700.118,
          21472.534,
          18326.516,
          16070.137,
          13369.877,
          15051.556,
          12174.059,
          10156.522,
          15608.325,
          14944.868,
          15093.094
         ],
         "x0": " ",
         "xaxis": "x",
         "y": [
          "Solar térmica",
          "Solar térmica",
          "Solar térmica",
          "Solar térmica",
          "Solar térmica",
          "Solar térmica",
          "Solar térmica",
          "Solar térmica",
          "Solar térmica",
          "Solar térmica",
          "Solar térmica",
          "Solar térmica",
          "Solar térmica",
          "Solar térmica",
          "Solar térmica",
          "Solar térmica",
          "Solar térmica",
          "Solar térmica",
          "Solar térmica",
          "Solar térmica",
          "Solar térmica",
          "Solar térmica",
          "Solar térmica",
          "Solar térmica",
          "Solar térmica",
          "Solar térmica",
          "Solar térmica",
          "Solar térmica",
          "Solar térmica",
          "Solar térmica",
          "Solar térmica"
         ],
         "y0": " ",
         "yaxis": "y"
        },
        {
         "alignmentgroup": "True",
         "hovertemplate": "nombre=%{y}<br>Valores=%{x}<extra></extra>",
         "legendgroup": "Otras renovables",
         "marker": {
          "color": "#ab63fa"
         },
         "name": "Otras renovables",
         "notched": false,
         "offsetgroup": "Otras renovables",
         "orientation": "h",
         "showlegend": true,
         "type": "box",
         "x": [
          10425.517,
          10110.756,
          10865.463,
          10824.656,
          10622.483,
          10810.377,
          9479.58,
          7427.447,
          7905.733,
          8720.434,
          8346.948,
          8637.511,
          8869.273,
          8997.682,
          7588.529,
          7919.28,
          7809.369,
          7817.909,
          7734.386,
          7933.016,
          8141.04,
          7084.88,
          7468.318,
          9853.567,
          10251.645,
          10114.513,
          10828.954,
          10404.026,
          9847.209,
          10101.857,
          10455.201
         ],
         "x0": " ",
         "xaxis": "x",
         "y": [
          "Otras renovables",
          "Otras renovables",
          "Otras renovables",
          "Otras renovables",
          "Otras renovables",
          "Otras renovables",
          "Otras renovables",
          "Otras renovables",
          "Otras renovables",
          "Otras renovables",
          "Otras renovables",
          "Otras renovables",
          "Otras renovables",
          "Otras renovables",
          "Otras renovables",
          "Otras renovables",
          "Otras renovables",
          "Otras renovables",
          "Otras renovables",
          "Otras renovables",
          "Otras renovables",
          "Otras renovables",
          "Otras renovables",
          "Otras renovables",
          "Otras renovables",
          "Otras renovables",
          "Otras renovables",
          "Otras renovables",
          "Otras renovables",
          "Otras renovables",
          "Otras renovables"
         ],
         "y0": " ",
         "yaxis": "y"
        },
        {
         "alignmentgroup": "True",
         "hovertemplate": "nombre=%{y}<br>Valores=%{x}<extra></extra>",
         "legendgroup": "Cogeneración",
         "marker": {
          "color": "#FFA15A"
         },
         "name": "Cogeneración",
         "notched": false,
         "offsetgroup": "Cogeneración",
         "orientation": "h",
         "showlegend": true,
         "type": "box",
         "x": [
          45445.834,
          49574.729,
          51005.98,
          51682.688,
          53485.942,
          54784.603,
          47632.931,
          37676.674,
          50165.262,
          52970.529,
          49710.625,
          47307.661,
          49995.016,
          48660.325,
          42265.843,
          49993.956,
          50966.696,
          49619.151,
          50454.504,
          50695.218,
          44711.977,
          42106.874,
          49198.972,
          49219.474,
          50465.825,
          53123.607,
          53832.03,
          50794.184,
          48585.432,
          53969.552,
          54221.736
         ],
         "x0": " ",
         "xaxis": "x",
         "y": [
          "Cogeneración",
          "Cogeneración",
          "Cogeneración",
          "Cogeneración",
          "Cogeneración",
          "Cogeneración",
          "Cogeneración",
          "Cogeneración",
          "Cogeneración",
          "Cogeneración",
          "Cogeneración",
          "Cogeneración",
          "Cogeneración",
          "Cogeneración",
          "Cogeneración",
          "Cogeneración",
          "Cogeneración",
          "Cogeneración",
          "Cogeneración",
          "Cogeneración",
          "Cogeneración",
          "Cogeneración",
          "Cogeneración",
          "Cogeneración",
          "Cogeneración",
          "Cogeneración",
          "Cogeneración",
          "Cogeneración",
          "Cogeneración",
          "Cogeneración",
          "Cogeneración"
         ],
         "y0": " ",
         "yaxis": "y"
        },
        {
         "alignmentgroup": "True",
         "hovertemplate": "nombre=%{y}<br>Valores=%{x}<extra></extra>",
         "legendgroup": "Residuos no renovables",
         "marker": {
          "color": "#19d3f3"
         },
         "name": "Residuos no renovables",
         "notched": false,
         "offsetgroup": "Residuos no renovables",
         "orientation": "h",
         "showlegend": true,
         "type": "box",
         "x": [
          3864.7635,
          3910.8065,
          3526.4855,
          2975.479,
          3780.4485,
          3840.0525,
          3723.483,
          3757.355,
          3934.239,
          4036.15,
          3978.4535,
          3901.789,
          3895.6125,
          4143.66,
          4074.673,
          4179.527,
          4074.2665,
          4201.57,
          4032.016,
          3914.962,
          3905.464,
          3961.2335,
          4022.96,
          4001.3105,
          4024.94,
          4031.225,
          4070.296,
          4239.4665,
          4018.3955,
          4154.7725,
          4251.738
         ],
         "x0": " ",
         "xaxis": "x",
         "y": [
          "Residuos no renovables",
          "Residuos no renovables",
          "Residuos no renovables",
          "Residuos no renovables",
          "Residuos no renovables",
          "Residuos no renovables",
          "Residuos no renovables",
          "Residuos no renovables",
          "Residuos no renovables",
          "Residuos no renovables",
          "Residuos no renovables",
          "Residuos no renovables",
          "Residuos no renovables",
          "Residuos no renovables",
          "Residuos no renovables",
          "Residuos no renovables",
          "Residuos no renovables",
          "Residuos no renovables",
          "Residuos no renovables",
          "Residuos no renovables",
          "Residuos no renovables",
          "Residuos no renovables",
          "Residuos no renovables",
          "Residuos no renovables",
          "Residuos no renovables",
          "Residuos no renovables",
          "Residuos no renovables",
          "Residuos no renovables",
          "Residuos no renovables",
          "Residuos no renovables",
          "Residuos no renovables"
         ],
         "y0": " ",
         "yaxis": "y"
        },
        {
         "alignmentgroup": "True",
         "hovertemplate": "nombre=%{y}<br>Valores=%{x}<extra></extra>",
         "legendgroup": "Residuos renovables",
         "marker": {
          "color": "#FF6692"
         },
         "name": "Residuos renovables",
         "notched": false,
         "offsetgroup": "Residuos renovables",
         "orientation": "h",
         "showlegend": true,
         "type": "box",
         "x": [
          2417.2605,
          2421.2415,
          2066.7095,
          1570.63,
          2298.9115,
          2406.3415,
          2384.065,
          2473.136,
          2605.383,
          2620.964,
          2560.2315,
          2416.424,
          2390.6595,
          2478.807,
          2549.512,
          2650.328,
          2538.8175,
          2655.089,
          2660.421,
          2616.346,
          2606.464,
          2674.2125,
          2715.025,
          2691.2915,
          2713.163,
          2732.902,
          2738.779,
          2595.3435,
          2419.7675,
          2437.8145,
          2494.276
         ],
         "x0": " ",
         "xaxis": "x",
         "y": [
          "Residuos renovables",
          "Residuos renovables",
          "Residuos renovables",
          "Residuos renovables",
          "Residuos renovables",
          "Residuos renovables",
          "Residuos renovables",
          "Residuos renovables",
          "Residuos renovables",
          "Residuos renovables",
          "Residuos renovables",
          "Residuos renovables",
          "Residuos renovables",
          "Residuos renovables",
          "Residuos renovables",
          "Residuos renovables",
          "Residuos renovables",
          "Residuos renovables",
          "Residuos renovables",
          "Residuos renovables",
          "Residuos renovables",
          "Residuos renovables",
          "Residuos renovables",
          "Residuos renovables",
          "Residuos renovables",
          "Residuos renovables",
          "Residuos renovables",
          "Residuos renovables",
          "Residuos renovables",
          "Residuos renovables",
          "Residuos renovables"
         ],
         "y0": " ",
         "yaxis": "y"
        },
        {
         "alignmentgroup": "True",
         "hovertemplate": "nombre=%{y}<br>Valores=%{x}<extra></extra>",
         "legendgroup": "Generación total",
         "marker": {
          "color": "#B6E880"
         },
         "name": "Generación total",
         "notched": false,
         "offsetgroup": "Generación total",
         "orientation": "h",
         "showlegend": true,
         "type": "box",
         "x": [
          646934.754,
          692140.223,
          734268.1089999998,
          760656.947,
          732991.2920000001,
          703283.8189999999,
          608887.8479999999,
          650264.6680000001,
          664668.7670000001,
          701877.082,
          714499.772,
          731002.6669999999,
          718062.785,
          621112.1700000002,
          599893.3329999999,
          679763.412,
          686431.637,
          725787.1099999999,
          722285.0649999998,
          697873.1180000001,
          640642.753,
          619060.667,
          715548.8209999999,
          711311.4290000001,
          720538.8049999999,
          708544.054,
          693036.125,
          613026.8219999999,
          590619.569,
          663310.372,
          688814.9090000001
         ],
         "x0": " ",
         "xaxis": "x",
         "y": [
          "Generación total",
          "Generación total",
          "Generación total",
          "Generación total",
          "Generación total",
          "Generación total",
          "Generación total",
          "Generación total",
          "Generación total",
          "Generación total",
          "Generación total",
          "Generación total",
          "Generación total",
          "Generación total",
          "Generación total",
          "Generación total",
          "Generación total",
          "Generación total",
          "Generación total",
          "Generación total",
          "Generación total",
          "Generación total",
          "Generación total",
          "Generación total",
          "Generación total",
          "Generación total",
          "Generación total",
          "Generación total",
          "Generación total",
          "Generación total",
          "Generación total"
         ],
         "y0": " ",
         "yaxis": "y"
        }
       ],
       "layout": {
        "boxmode": "overlay",
        "legend": {
         "title": {
          "text": "nombre"
         },
         "tracegroupgap": 0
        },
        "margin": {
         "t": 60
        },
        "template": {
         "data": {
          "bar": [
           {
            "error_x": {
             "color": "#2a3f5f"
            },
            "error_y": {
             "color": "#2a3f5f"
            },
            "marker": {
             "line": {
              "color": "#E5ECF6",
              "width": 0.5
             },
             "pattern": {
              "fillmode": "overlay",
              "size": 10,
              "solidity": 0.2
             }
            },
            "type": "bar"
           }
          ],
          "barpolar": [
           {
            "marker": {
             "line": {
              "color": "#E5ECF6",
              "width": 0.5
             },
             "pattern": {
              "fillmode": "overlay",
              "size": 10,
              "solidity": 0.2
             }
            },
            "type": "barpolar"
           }
          ],
          "carpet": [
           {
            "aaxis": {
             "endlinecolor": "#2a3f5f",
             "gridcolor": "white",
             "linecolor": "white",
             "minorgridcolor": "white",
             "startlinecolor": "#2a3f5f"
            },
            "baxis": {
             "endlinecolor": "#2a3f5f",
             "gridcolor": "white",
             "linecolor": "white",
             "minorgridcolor": "white",
             "startlinecolor": "#2a3f5f"
            },
            "type": "carpet"
           }
          ],
          "choropleth": [
           {
            "colorbar": {
             "outlinewidth": 0,
             "ticks": ""
            },
            "type": "choropleth"
           }
          ],
          "contour": [
           {
            "colorbar": {
             "outlinewidth": 0,
             "ticks": ""
            },
            "colorscale": [
             [
              0,
              "#0d0887"
             ],
             [
              0.1111111111111111,
              "#46039f"
             ],
             [
              0.2222222222222222,
              "#7201a8"
             ],
             [
              0.3333333333333333,
              "#9c179e"
             ],
             [
              0.4444444444444444,
              "#bd3786"
             ],
             [
              0.5555555555555556,
              "#d8576b"
             ],
             [
              0.6666666666666666,
              "#ed7953"
             ],
             [
              0.7777777777777778,
              "#fb9f3a"
             ],
             [
              0.8888888888888888,
              "#fdca26"
             ],
             [
              1,
              "#f0f921"
             ]
            ],
            "type": "contour"
           }
          ],
          "contourcarpet": [
           {
            "colorbar": {
             "outlinewidth": 0,
             "ticks": ""
            },
            "type": "contourcarpet"
           }
          ],
          "heatmap": [
           {
            "colorbar": {
             "outlinewidth": 0,
             "ticks": ""
            },
            "colorscale": [
             [
              0,
              "#0d0887"
             ],
             [
              0.1111111111111111,
              "#46039f"
             ],
             [
              0.2222222222222222,
              "#7201a8"
             ],
             [
              0.3333333333333333,
              "#9c179e"
             ],
             [
              0.4444444444444444,
              "#bd3786"
             ],
             [
              0.5555555555555556,
              "#d8576b"
             ],
             [
              0.6666666666666666,
              "#ed7953"
             ],
             [
              0.7777777777777778,
              "#fb9f3a"
             ],
             [
              0.8888888888888888,
              "#fdca26"
             ],
             [
              1,
              "#f0f921"
             ]
            ],
            "type": "heatmap"
           }
          ],
          "heatmapgl": [
           {
            "colorbar": {
             "outlinewidth": 0,
             "ticks": ""
            },
            "colorscale": [
             [
              0,
              "#0d0887"
             ],
             [
              0.1111111111111111,
              "#46039f"
             ],
             [
              0.2222222222222222,
              "#7201a8"
             ],
             [
              0.3333333333333333,
              "#9c179e"
             ],
             [
              0.4444444444444444,
              "#bd3786"
             ],
             [
              0.5555555555555556,
              "#d8576b"
             ],
             [
              0.6666666666666666,
              "#ed7953"
             ],
             [
              0.7777777777777778,
              "#fb9f3a"
             ],
             [
              0.8888888888888888,
              "#fdca26"
             ],
             [
              1,
              "#f0f921"
             ]
            ],
            "type": "heatmapgl"
           }
          ],
          "histogram": [
           {
            "marker": {
             "pattern": {
              "fillmode": "overlay",
              "size": 10,
              "solidity": 0.2
             }
            },
            "type": "histogram"
           }
          ],
          "histogram2d": [
           {
            "colorbar": {
             "outlinewidth": 0,
             "ticks": ""
            },
            "colorscale": [
             [
              0,
              "#0d0887"
             ],
             [
              0.1111111111111111,
              "#46039f"
             ],
             [
              0.2222222222222222,
              "#7201a8"
             ],
             [
              0.3333333333333333,
              "#9c179e"
             ],
             [
              0.4444444444444444,
              "#bd3786"
             ],
             [
              0.5555555555555556,
              "#d8576b"
             ],
             [
              0.6666666666666666,
              "#ed7953"
             ],
             [
              0.7777777777777778,
              "#fb9f3a"
             ],
             [
              0.8888888888888888,
              "#fdca26"
             ],
             [
              1,
              "#f0f921"
             ]
            ],
            "type": "histogram2d"
           }
          ],
          "histogram2dcontour": [
           {
            "colorbar": {
             "outlinewidth": 0,
             "ticks": ""
            },
            "colorscale": [
             [
              0,
              "#0d0887"
             ],
             [
              0.1111111111111111,
              "#46039f"
             ],
             [
              0.2222222222222222,
              "#7201a8"
             ],
             [
              0.3333333333333333,
              "#9c179e"
             ],
             [
              0.4444444444444444,
              "#bd3786"
             ],
             [
              0.5555555555555556,
              "#d8576b"
             ],
             [
              0.6666666666666666,
              "#ed7953"
             ],
             [
              0.7777777777777778,
              "#fb9f3a"
             ],
             [
              0.8888888888888888,
              "#fdca26"
             ],
             [
              1,
              "#f0f921"
             ]
            ],
            "type": "histogram2dcontour"
           }
          ],
          "mesh3d": [
           {
            "colorbar": {
             "outlinewidth": 0,
             "ticks": ""
            },
            "type": "mesh3d"
           }
          ],
          "parcoords": [
           {
            "line": {
             "colorbar": {
              "outlinewidth": 0,
              "ticks": ""
             }
            },
            "type": "parcoords"
           }
          ],
          "pie": [
           {
            "automargin": true,
            "type": "pie"
           }
          ],
          "scatter": [
           {
            "fillpattern": {
             "fillmode": "overlay",
             "size": 10,
             "solidity": 0.2
            },
            "type": "scatter"
           }
          ],
          "scatter3d": [
           {
            "line": {
             "colorbar": {
              "outlinewidth": 0,
              "ticks": ""
             }
            },
            "marker": {
             "colorbar": {
              "outlinewidth": 0,
              "ticks": ""
             }
            },
            "type": "scatter3d"
           }
          ],
          "scattercarpet": [
           {
            "marker": {
             "colorbar": {
              "outlinewidth": 0,
              "ticks": ""
             }
            },
            "type": "scattercarpet"
           }
          ],
          "scattergeo": [
           {
            "marker": {
             "colorbar": {
              "outlinewidth": 0,
              "ticks": ""
             }
            },
            "type": "scattergeo"
           }
          ],
          "scattergl": [
           {
            "marker": {
             "colorbar": {
              "outlinewidth": 0,
              "ticks": ""
             }
            },
            "type": "scattergl"
           }
          ],
          "scattermapbox": [
           {
            "marker": {
             "colorbar": {
              "outlinewidth": 0,
              "ticks": ""
             }
            },
            "type": "scattermapbox"
           }
          ],
          "scatterpolar": [
           {
            "marker": {
             "colorbar": {
              "outlinewidth": 0,
              "ticks": ""
             }
            },
            "type": "scatterpolar"
           }
          ],
          "scatterpolargl": [
           {
            "marker": {
             "colorbar": {
              "outlinewidth": 0,
              "ticks": ""
             }
            },
            "type": "scatterpolargl"
           }
          ],
          "scatterternary": [
           {
            "marker": {
             "colorbar": {
              "outlinewidth": 0,
              "ticks": ""
             }
            },
            "type": "scatterternary"
           }
          ],
          "surface": [
           {
            "colorbar": {
             "outlinewidth": 0,
             "ticks": ""
            },
            "colorscale": [
             [
              0,
              "#0d0887"
             ],
             [
              0.1111111111111111,
              "#46039f"
             ],
             [
              0.2222222222222222,
              "#7201a8"
             ],
             [
              0.3333333333333333,
              "#9c179e"
             ],
             [
              0.4444444444444444,
              "#bd3786"
             ],
             [
              0.5555555555555556,
              "#d8576b"
             ],
             [
              0.6666666666666666,
              "#ed7953"
             ],
             [
              0.7777777777777778,
              "#fb9f3a"
             ],
             [
              0.8888888888888888,
              "#fdca26"
             ],
             [
              1,
              "#f0f921"
             ]
            ],
            "type": "surface"
           }
          ],
          "table": [
           {
            "cells": {
             "fill": {
              "color": "#EBF0F8"
             },
             "line": {
              "color": "white"
             }
            },
            "header": {
             "fill": {
              "color": "#C8D4E3"
             },
             "line": {
              "color": "white"
             }
            },
            "type": "table"
           }
          ]
         },
         "layout": {
          "annotationdefaults": {
           "arrowcolor": "#2a3f5f",
           "arrowhead": 0,
           "arrowwidth": 1
          },
          "autotypenumbers": "strict",
          "coloraxis": {
           "colorbar": {
            "outlinewidth": 0,
            "ticks": ""
           }
          },
          "colorscale": {
           "diverging": [
            [
             0,
             "#8e0152"
            ],
            [
             0.1,
             "#c51b7d"
            ],
            [
             0.2,
             "#de77ae"
            ],
            [
             0.3,
             "#f1b6da"
            ],
            [
             0.4,
             "#fde0ef"
            ],
            [
             0.5,
             "#f7f7f7"
            ],
            [
             0.6,
             "#e6f5d0"
            ],
            [
             0.7,
             "#b8e186"
            ],
            [
             0.8,
             "#7fbc41"
            ],
            [
             0.9,
             "#4d9221"
            ],
            [
             1,
             "#276419"
            ]
           ],
           "sequential": [
            [
             0,
             "#0d0887"
            ],
            [
             0.1111111111111111,
             "#46039f"
            ],
            [
             0.2222222222222222,
             "#7201a8"
            ],
            [
             0.3333333333333333,
             "#9c179e"
            ],
            [
             0.4444444444444444,
             "#bd3786"
            ],
            [
             0.5555555555555556,
             "#d8576b"
            ],
            [
             0.6666666666666666,
             "#ed7953"
            ],
            [
             0.7777777777777778,
             "#fb9f3a"
            ],
            [
             0.8888888888888888,
             "#fdca26"
            ],
            [
             1,
             "#f0f921"
            ]
           ],
           "sequentialminus": [
            [
             0,
             "#0d0887"
            ],
            [
             0.1111111111111111,
             "#46039f"
            ],
            [
             0.2222222222222222,
             "#7201a8"
            ],
            [
             0.3333333333333333,
             "#9c179e"
            ],
            [
             0.4444444444444444,
             "#bd3786"
            ],
            [
             0.5555555555555556,
             "#d8576b"
            ],
            [
             0.6666666666666666,
             "#ed7953"
            ],
            [
             0.7777777777777778,
             "#fb9f3a"
            ],
            [
             0.8888888888888888,
             "#fdca26"
            ],
            [
             1,
             "#f0f921"
            ]
           ]
          },
          "colorway": [
           "#636efa",
           "#EF553B",
           "#00cc96",
           "#ab63fa",
           "#FFA15A",
           "#19d3f3",
           "#FF6692",
           "#B6E880",
           "#FF97FF",
           "#FECB52"
          ],
          "font": {
           "color": "#2a3f5f"
          },
          "geo": {
           "bgcolor": "white",
           "lakecolor": "white",
           "landcolor": "#E5ECF6",
           "showlakes": true,
           "showland": true,
           "subunitcolor": "white"
          },
          "hoverlabel": {
           "align": "left"
          },
          "hovermode": "closest",
          "mapbox": {
           "style": "light"
          },
          "paper_bgcolor": "white",
          "plot_bgcolor": "#E5ECF6",
          "polar": {
           "angularaxis": {
            "gridcolor": "white",
            "linecolor": "white",
            "ticks": ""
           },
           "bgcolor": "#E5ECF6",
           "radialaxis": {
            "gridcolor": "white",
            "linecolor": "white",
            "ticks": ""
           }
          },
          "scene": {
           "xaxis": {
            "backgroundcolor": "#E5ECF6",
            "gridcolor": "white",
            "gridwidth": 2,
            "linecolor": "white",
            "showbackground": true,
            "ticks": "",
            "zerolinecolor": "white"
           },
           "yaxis": {
            "backgroundcolor": "#E5ECF6",
            "gridcolor": "white",
            "gridwidth": 2,
            "linecolor": "white",
            "showbackground": true,
            "ticks": "",
            "zerolinecolor": "white"
           },
           "zaxis": {
            "backgroundcolor": "#E5ECF6",
            "gridcolor": "white",
            "gridwidth": 2,
            "linecolor": "white",
            "showbackground": true,
            "ticks": "",
            "zerolinecolor": "white"
           }
          },
          "shapedefaults": {
           "line": {
            "color": "#2a3f5f"
           }
          },
          "ternary": {
           "aaxis": {
            "gridcolor": "white",
            "linecolor": "white",
            "ticks": ""
           },
           "baxis": {
            "gridcolor": "white",
            "linecolor": "white",
            "ticks": ""
           },
           "bgcolor": "#E5ECF6",
           "caxis": {
            "gridcolor": "white",
            "linecolor": "white",
            "ticks": ""
           }
          },
          "title": {
           "x": 0.05
          },
          "xaxis": {
           "automargin": true,
           "gridcolor": "white",
           "linecolor": "white",
           "ticks": "",
           "title": {
            "standoff": 15
           },
           "zerolinecolor": "white",
           "zerolinewidth": 2
          },
          "yaxis": {
           "automargin": true,
           "gridcolor": "white",
           "linecolor": "white",
           "ticks": "",
           "title": {
            "standoff": 15
           },
           "zerolinecolor": "white",
           "zerolinewidth": 2
          }
         }
        },
        "xaxis": {
         "anchor": "y",
         "domain": [
          0,
          1
         ],
         "title": {
          "text": "Valores"
         }
        },
        "yaxis": {
         "anchor": "x",
         "categoryarray": [
          "Generación total",
          "Residuos renovables",
          "Residuos no renovables",
          "Cogeneración",
          "Otras renovables",
          "Solar térmica",
          "Solar fotovoltaica",
          "Eólica",
          "Hidroeólica",
          "Ciclo combinado",
          "Turbina de vapor",
          "Turbina de gas",
          "Motores diésel",
          "Fuel + Gas",
          "Carbón",
          "Nuclear",
          "Turbinación bombeo",
          "Hidráulica"
         ],
         "categoryorder": "array",
         "domain": [
          0,
          1
         ],
         "title": {
          "text": "nombre"
         }
        }
       }
      }
     },
     "metadata": {},
     "output_type": "display_data"
    }
   ],
   "source": [
    "px.box(data_frame = df_generacion,\n",
    "       x = 'Valores',\n",
    "       y = 'nombre',\n",
    "       color= 'nombre')"
   ]
  },
  {
   "cell_type": "code",
   "execution_count": 9,
   "metadata": {},
   "outputs": [
    {
     "data": {
      "application/vnd.plotly.v1+json": {
       "config": {
        "plotlyServerURL": "https://plot.ly"
       },
       "data": [
        {
         "alignmentgroup": "True",
         "hovertemplate": "tipo de energía=%{y}<br>Valores=%{x}<extra></extra>",
         "legendgroup": "Renovable",
         "marker": {
          "color": "#636efa"
         },
         "name": "Renovable",
         "notched": false,
         "offsetgroup": "Renovable",
         "orientation": "h",
         "showlegend": true,
         "type": "box",
         "x": [
          24805.877,
          31052.893,
          24153.141,
          15558.041,
          31779.909,
          33073.974,
          29080.481,
          20213.244,
          31118.702,
          24335.723,
          23312.579,
          38970.565,
          40808.219,
          44279.829,
          41709.912,
          43508.807,
          27451.729,
          23512.598,
          25842.727,
          27088.352,
          27620.756,
          38745.423,
          41528.037,
          24530.895,
          22871.902,
          41941.542,
          43709.116,
          46674.527,
          38684.046,
          33757.041,
          41595.229,
          75.188,
          71.507,
          24.817,
          71.798,
          82.063,
          97.676,
          42.124,
          43.431,
          49.377,
          50.166,
          40.149,
          54.191,
          69.267,
          93.93,
          95.334,
          28.09,
          -2.192,
          -0.077,
          2.047,
          21.267,
          26.192,
          2.947,
          3.604,
          4.891,
          13.57,
          10.616,
          6.117,
          14.357,
          0.664,
          0.94,
          1.746,
          114384.247,
          102730.916,
          123185.593,
          209534.384,
          127090.677,
          61873.719,
          154352.114,
          300443.625,
          191728.164,
          62212.405,
          80956.323,
          59481.707,
          66702.778,
          119078.548,
          93717.424,
          48743.75,
          71790.755,
          67340.717,
          123178.884,
          123386.311,
          104358.274,
          50450.433,
          64416.642,
          75517.746,
          59586.819,
          53814.25,
          40364.161,
          46525.945,
          87103.14,
          155090.68,
          78888.568,
          112494.024,
          83969.818,
          73569.331,
          82520.277,
          97003.07,
          115090.681,
          136933.965,
          79274.995,
          132980.176,
          131582.923,
          124631.015,
          133621.346,
          127279.529,
          124437.232,
          130418.849,
          128452.095,
          126417.895,
          130719.556,
          126647.71,
          120708.613,
          121833.444,
          121536.59,
          120719.663,
          118468.114,
          121475.905,
          115051.014,
          118841.884,
          123595.804,
          120410.662,
          88908.629,
          71359.43,
          14430.12,
          6282.017,
          1329.429,
          2883.921,
          4758.746,
          16799.109,
          20321.971,
          5231.198,
          12841.32,
          19952.207,
          22556.123,
          20529.101,
          21103.343,
          19451.213,
          18621.448,
          19664.765,
          19700.118,
          21472.534,
          18326.516,
          16070.137,
          13369.877,
          15051.556,
          12174.059,
          10156.522,
          15608.325,
          14944.868,
          15093.094,
          16531.887,
          16134.804,
          4994.006,
          3828.743,
          10622.483,
          10810.377,
          9479.58,
          7427.447,
          7905.733,
          8720.434,
          8346.948,
          8637.511,
          8869.273,
          8997.682,
          7588.529,
          7919.28,
          7809.369,
          7817.909,
          7734.386,
          7933.016,
          8141.04,
          7084.88,
          7468.318,
          9853.567,
          10251.645,
          10114.513,
          10828.954,
          10404.026,
          9847.209,
          10101.857,
          10455.201,
          10918.157,
          10905.575,
          10130.513,
          10129.139,
          2298.9115,
          2406.3415,
          2384.065,
          2473.136,
          2605.383,
          2620.964,
          2560.2315,
          2416.424,
          2390.6595,
          2478.807,
          2549.512,
          2650.328,
          2538.8175,
          2655.089,
          2660.421,
          2616.346,
          2606.464,
          2674.2125,
          2715.025,
          2691.2915,
          2713.163,
          2732.902,
          2738.779,
          2595.3435,
          2419.7675,
          2437.8145,
          2494.276,
          2612.149,
          2637.8585,
          2717.26,
          2656.1
         ],
         "x0": " ",
         "xaxis": "x",
         "y": [
          "Renovable",
          "Renovable",
          "Renovable",
          "Renovable",
          "Renovable",
          "Renovable",
          "Renovable",
          "Renovable",
          "Renovable",
          "Renovable",
          "Renovable",
          "Renovable",
          "Renovable",
          "Renovable",
          "Renovable",
          "Renovable",
          "Renovable",
          "Renovable",
          "Renovable",
          "Renovable",
          "Renovable",
          "Renovable",
          "Renovable",
          "Renovable",
          "Renovable",
          "Renovable",
          "Renovable",
          "Renovable",
          "Renovable",
          "Renovable",
          "Renovable",
          "Renovable",
          "Renovable",
          "Renovable",
          "Renovable",
          "Renovable",
          "Renovable",
          "Renovable",
          "Renovable",
          "Renovable",
          "Renovable",
          "Renovable",
          "Renovable",
          "Renovable",
          "Renovable",
          "Renovable",
          "Renovable",
          "Renovable",
          "Renovable",
          "Renovable",
          "Renovable",
          "Renovable",
          "Renovable",
          "Renovable",
          "Renovable",
          "Renovable",
          "Renovable",
          "Renovable",
          "Renovable",
          "Renovable",
          "Renovable",
          "Renovable",
          "Renovable",
          "Renovable",
          "Renovable",
          "Renovable",
          "Renovable",
          "Renovable",
          "Renovable",
          "Renovable",
          "Renovable",
          "Renovable",
          "Renovable",
          "Renovable",
          "Renovable",
          "Renovable",
          "Renovable",
          "Renovable",
          "Renovable",
          "Renovable",
          "Renovable",
          "Renovable",
          "Renovable",
          "Renovable",
          "Renovable",
          "Renovable",
          "Renovable",
          "Renovable",
          "Renovable",
          "Renovable",
          "Renovable",
          "Renovable",
          "Renovable",
          "Renovable",
          "Renovable",
          "Renovable",
          "Renovable",
          "Renovable",
          "Renovable",
          "Renovable",
          "Renovable",
          "Renovable",
          "Renovable",
          "Renovable",
          "Renovable",
          "Renovable",
          "Renovable",
          "Renovable",
          "Renovable",
          "Renovable",
          "Renovable",
          "Renovable",
          "Renovable",
          "Renovable",
          "Renovable",
          "Renovable",
          "Renovable",
          "Renovable",
          "Renovable",
          "Renovable",
          "Renovable",
          "Renovable",
          "Renovable",
          "Renovable",
          "Renovable",
          "Renovable",
          "Renovable",
          "Renovable",
          "Renovable",
          "Renovable",
          "Renovable",
          "Renovable",
          "Renovable",
          "Renovable",
          "Renovable",
          "Renovable",
          "Renovable",
          "Renovable",
          "Renovable",
          "Renovable",
          "Renovable",
          "Renovable",
          "Renovable",
          "Renovable",
          "Renovable",
          "Renovable",
          "Renovable",
          "Renovable",
          "Renovable",
          "Renovable",
          "Renovable",
          "Renovable",
          "Renovable",
          "Renovable",
          "Renovable",
          "Renovable",
          "Renovable",
          "Renovable",
          "Renovable",
          "Renovable",
          "Renovable",
          "Renovable",
          "Renovable",
          "Renovable",
          "Renovable",
          "Renovable",
          "Renovable",
          "Renovable",
          "Renovable",
          "Renovable",
          "Renovable",
          "Renovable",
          "Renovable",
          "Renovable",
          "Renovable",
          "Renovable",
          "Renovable",
          "Renovable",
          "Renovable",
          "Renovable",
          "Renovable",
          "Renovable",
          "Renovable",
          "Renovable",
          "Renovable",
          "Renovable",
          "Renovable",
          "Renovable",
          "Renovable",
          "Renovable",
          "Renovable",
          "Renovable",
          "Renovable",
          "Renovable",
          "Renovable",
          "Renovable",
          "Renovable",
          "Renovable",
          "Renovable",
          "Renovable",
          "Renovable",
          "Renovable",
          "Renovable",
          "Renovable",
          "Renovable",
          "Renovable",
          "Renovable",
          "Renovable",
          "Renovable",
          "Renovable",
          "Renovable",
          "Renovable",
          "Renovable",
          "Renovable",
          "Renovable",
          "Renovable",
          "Renovable"
         ],
         "y0": " ",
         "yaxis": "y"
        },
        {
         "alignmentgroup": "True",
         "hovertemplate": "tipo de energía=%{y}<br>Valores=%{x}<extra></extra>",
         "legendgroup": "No-Renovable",
         "marker": {
          "color": "#EF553B"
         },
         "name": "No-Renovable",
         "notched": false,
         "offsetgroup": "No-Renovable",
         "orientation": "h",
         "showlegend": true,
         "type": "box",
         "x": [
          8771.07,
          10597.651,
          10799.887,
          11025.302,
          15820.152,
          7985.467,
          12816.753,
          16807.971,
          17313.393,
          16396.046,
          14722.586,
          14649.407,
          10635.073,
          12962.414,
          11135.565,
          11965.273,
          16998.403,
          15326.548,
          13878.93,
          10751.625,
          13195.162,
          7382.646,
          10275.258,
          12323.618,
          13197.372,
          13078.548,
          10481.52,
          15061.23,
          10886.82,
          13480.264,
          12822.74,
          162714.088,
          163691.166,
          163837.034,
          161560.003,
          163891.9,
          164125.743,
          144409.722,
          115413.095,
          127688.454,
          139091.629,
          138517.22,
          138503.073,
          138814.453,
          138487.209,
          138404.139,
          138340.676,
          138174.336,
          137688.802,
          137998.815,
          148363.465,
          159640.052,
          154335.239,
          136990.992,
          137676.308,
          138773.399,
          100722.677,
          93265.672,
          93964.593,
          115515.185,
          130910.227,
          128407.893,
          12937.876,
          12406.252,
          12101.126,
          11523.562,
          12920.307,
          11970.991,
          12904.898,
          13554.938,
          13203.949,
          11660.905,
          10726.508,
          15116.6,
          19459.305,
          19886.878,
          19831.748,
          20136.761,
          12655.73,
          12119.983,
          13778.858,
          12717.874,
          13596.617,
          12795.673,
          12858.636,
          11369.515,
          12236.949,
          16363.071,
          18237.233,
          20324.393,
          17950.377,
          18328.268,
          18290.297,
          -0.001,
          6895.553,
          7183.111,
          7679.592,
          6552.737,
          6491.208,
          6680.791,
          7016.332,
          6738.499,
          6892.66,
          6408.033,
          6302.819,
          7001.324,
          6415.588,
          5918.866,
          5953.527,
          7659,
          7695.346,
          6579.752,
          7235.851,
          7788.375,
          7230.269,
          7838.51,
          7954.891,
          7534.932,
          7311.034,
          8276.692,
          8366.964,
          8138.499,
          7445.251,
          8310.598,
          8323.241,
          2750.667,
          3073.966,
          2141.747,
          1995.216,
          3067.666,
          2371.383,
          2011.431,
          1743.816,
          1558.718,
          1222.198,
          1361.139,
          1900.167,
          2317.929,
          2090.492,
          1939.267,
          1688.733,
          2079.891,
          1658.784,
          2859.899,
          3299.137,
          3058.345,
          3401.781,
          2837.518,
          2112.744,
          2137.769,
          3442.04,
          3338.447,
          3508.775,
          1707.765,
          2989.38,
          1912.767,
          2695.01,
          2756.202,
          2920.999,
          2874.813,
          3206.877,
          3307.667,
          3271.521,
          3408.961,
          3503.892,
          3309.608,
          3177.341,
          4152.895,
          3578.103,
          3392.715,
          3515.335,
          4475.366,
          3878.917,
          3685.595,
          3803.922,
          3988.165,
          4625.621,
          4714.82,
          4918.555,
          4981.017,
          4575.141,
          4450.877,
          4838.719,
          4264.555,
          3501.405,
          4085.773,
          3683.833,
          199849.787,
          207626.946,
          123925.093,
          92830.002,
          133945.575,
          210151.804,
          126742.202,
          105865.509,
          114033.419,
          140609.853,
          117110.974,
          181039.945,
          183858.901,
          171414.065,
          192061.19,
          208050.26,
          154436.88,
          143128.675,
          178589.387,
          171362.465,
          184528.624,
          222286.189,
          206888.211,
          140317.5,
          127960.58,
          220550.181,
          260849.031,
          207359.834,
          150317.111,
          94088.207,
          115573.66,
          53485.942,
          54784.603,
          47632.931,
          37676.674,
          50165.262,
          52970.529,
          49710.625,
          47307.661,
          49995.016,
          48660.325,
          42265.843,
          49993.956,
          50966.696,
          49619.151,
          50454.504,
          50695.218,
          44711.977,
          42106.874,
          49198.972,
          49219.474,
          50465.825,
          53123.607,
          53832.03,
          50794.184,
          48585.432,
          53969.552,
          54221.736,
          52342.178,
          48353.074,
          47680.64,
          49999.61,
          3780.4485,
          3840.0525,
          3723.483,
          3757.355,
          3934.239,
          4036.15,
          3978.4535,
          3901.789,
          3895.6125,
          4143.66,
          4074.673,
          4179.527,
          4074.2665,
          4201.57,
          4032.016,
          3914.962,
          3905.464,
          3961.2335,
          4022.96,
          4001.3105,
          4024.94,
          4031.225,
          4070.296,
          4239.4665,
          4018.3955,
          4154.7725,
          4251.738,
          4303.413,
          4061.1975,
          4034.669,
          4012.702
         ],
         "x0": " ",
         "xaxis": "x",
         "y": [
          "No-Renovable",
          "No-Renovable",
          "No-Renovable",
          "No-Renovable",
          "No-Renovable",
          "No-Renovable",
          "No-Renovable",
          "No-Renovable",
          "No-Renovable",
          "No-Renovable",
          "No-Renovable",
          "No-Renovable",
          "No-Renovable",
          "No-Renovable",
          "No-Renovable",
          "No-Renovable",
          "No-Renovable",
          "No-Renovable",
          "No-Renovable",
          "No-Renovable",
          "No-Renovable",
          "No-Renovable",
          "No-Renovable",
          "No-Renovable",
          "No-Renovable",
          "No-Renovable",
          "No-Renovable",
          "No-Renovable",
          "No-Renovable",
          "No-Renovable",
          "No-Renovable",
          "No-Renovable",
          "No-Renovable",
          "No-Renovable",
          "No-Renovable",
          "No-Renovable",
          "No-Renovable",
          "No-Renovable",
          "No-Renovable",
          "No-Renovable",
          "No-Renovable",
          "No-Renovable",
          "No-Renovable",
          "No-Renovable",
          "No-Renovable",
          "No-Renovable",
          "No-Renovable",
          "No-Renovable",
          "No-Renovable",
          "No-Renovable",
          "No-Renovable",
          "No-Renovable",
          "No-Renovable",
          "No-Renovable",
          "No-Renovable",
          "No-Renovable",
          "No-Renovable",
          "No-Renovable",
          "No-Renovable",
          "No-Renovable",
          "No-Renovable",
          "No-Renovable",
          "No-Renovable",
          "No-Renovable",
          "No-Renovable",
          "No-Renovable",
          "No-Renovable",
          "No-Renovable",
          "No-Renovable",
          "No-Renovable",
          "No-Renovable",
          "No-Renovable",
          "No-Renovable",
          "No-Renovable",
          "No-Renovable",
          "No-Renovable",
          "No-Renovable",
          "No-Renovable",
          "No-Renovable",
          "No-Renovable",
          "No-Renovable",
          "No-Renovable",
          "No-Renovable",
          "No-Renovable",
          "No-Renovable",
          "No-Renovable",
          "No-Renovable",
          "No-Renovable",
          "No-Renovable",
          "No-Renovable",
          "No-Renovable",
          "No-Renovable",
          "No-Renovable",
          "No-Renovable",
          "No-Renovable",
          "No-Renovable",
          "No-Renovable",
          "No-Renovable",
          "No-Renovable",
          "No-Renovable",
          "No-Renovable",
          "No-Renovable",
          "No-Renovable",
          "No-Renovable",
          "No-Renovable",
          "No-Renovable",
          "No-Renovable",
          "No-Renovable",
          "No-Renovable",
          "No-Renovable",
          "No-Renovable",
          "No-Renovable",
          "No-Renovable",
          "No-Renovable",
          "No-Renovable",
          "No-Renovable",
          "No-Renovable",
          "No-Renovable",
          "No-Renovable",
          "No-Renovable",
          "No-Renovable",
          "No-Renovable",
          "No-Renovable",
          "No-Renovable",
          "No-Renovable",
          "No-Renovable",
          "No-Renovable",
          "No-Renovable",
          "No-Renovable",
          "No-Renovable",
          "No-Renovable",
          "No-Renovable",
          "No-Renovable",
          "No-Renovable",
          "No-Renovable",
          "No-Renovable",
          "No-Renovable",
          "No-Renovable",
          "No-Renovable",
          "No-Renovable",
          "No-Renovable",
          "No-Renovable",
          "No-Renovable",
          "No-Renovable",
          "No-Renovable",
          "No-Renovable",
          "No-Renovable",
          "No-Renovable",
          "No-Renovable",
          "No-Renovable",
          "No-Renovable",
          "No-Renovable",
          "No-Renovable",
          "No-Renovable",
          "No-Renovable",
          "No-Renovable",
          "No-Renovable",
          "No-Renovable",
          "No-Renovable",
          "No-Renovable",
          "No-Renovable",
          "No-Renovable",
          "No-Renovable",
          "No-Renovable",
          "No-Renovable",
          "No-Renovable",
          "No-Renovable",
          "No-Renovable",
          "No-Renovable",
          "No-Renovable",
          "No-Renovable",
          "No-Renovable",
          "No-Renovable",
          "No-Renovable",
          "No-Renovable",
          "No-Renovable",
          "No-Renovable",
          "No-Renovable",
          "No-Renovable",
          "No-Renovable",
          "No-Renovable",
          "No-Renovable",
          "No-Renovable",
          "No-Renovable",
          "No-Renovable",
          "No-Renovable",
          "No-Renovable",
          "No-Renovable",
          "No-Renovable",
          "No-Renovable",
          "No-Renovable",
          "No-Renovable",
          "No-Renovable",
          "No-Renovable",
          "No-Renovable",
          "No-Renovable",
          "No-Renovable",
          "No-Renovable",
          "No-Renovable",
          "No-Renovable",
          "No-Renovable",
          "No-Renovable",
          "No-Renovable",
          "No-Renovable",
          "No-Renovable",
          "No-Renovable",
          "No-Renovable",
          "No-Renovable",
          "No-Renovable",
          "No-Renovable",
          "No-Renovable",
          "No-Renovable",
          "No-Renovable",
          "No-Renovable",
          "No-Renovable",
          "No-Renovable",
          "No-Renovable",
          "No-Renovable",
          "No-Renovable",
          "No-Renovable",
          "No-Renovable",
          "No-Renovable",
          "No-Renovable",
          "No-Renovable",
          "No-Renovable",
          "No-Renovable",
          "No-Renovable",
          "No-Renovable",
          "No-Renovable",
          "No-Renovable",
          "No-Renovable",
          "No-Renovable",
          "No-Renovable",
          "No-Renovable",
          "No-Renovable",
          "No-Renovable",
          "No-Renovable",
          "No-Renovable",
          "No-Renovable",
          "No-Renovable",
          "No-Renovable",
          "No-Renovable",
          "No-Renovable",
          "No-Renovable",
          "No-Renovable",
          "No-Renovable",
          "No-Renovable",
          "No-Renovable",
          "No-Renovable",
          "No-Renovable",
          "No-Renovable",
          "No-Renovable",
          "No-Renovable",
          "No-Renovable",
          "No-Renovable",
          "No-Renovable",
          "No-Renovable",
          "No-Renovable",
          "No-Renovable",
          "No-Renovable",
          "No-Renovable",
          "No-Renovable",
          "No-Renovable",
          "No-Renovable",
          "No-Renovable",
          "No-Renovable",
          "No-Renovable",
          "No-Renovable",
          "No-Renovable",
          "No-Renovable",
          "No-Renovable",
          "No-Renovable",
          "No-Renovable",
          "No-Renovable",
          "No-Renovable",
          "No-Renovable",
          "No-Renovable",
          "No-Renovable",
          "No-Renovable",
          "No-Renovable"
         ],
         "y0": " ",
         "yaxis": "y"
        },
        {
         "alignmentgroup": "True",
         "hovertemplate": "tipo de energía=%{y}<br>Valores=%{x}<extra></extra>",
         "legendgroup": "Generación total",
         "marker": {
          "color": "#00cc96"
         },
         "name": "Generación total",
         "notched": false,
         "offsetgroup": "Generación total",
         "orientation": "h",
         "showlegend": true,
         "type": "box",
         "x": [
          732991.2920000001,
          703283.8189999999,
          608887.8479999999,
          650264.6680000001,
          664668.7670000001,
          701877.082,
          714499.772,
          731002.6669999999,
          718062.785,
          621112.1700000002,
          599893.3329999999,
          679763.412,
          686431.637,
          725787.1099999999,
          722285.0649999998,
          697873.1180000001,
          640642.753,
          619060.667,
          715548.8209999999,
          711311.4290000001,
          720538.8049999999,
          708544.054,
          693036.125,
          613026.8219999999,
          590619.569,
          663310.372,
          688814.9090000001,
          656140.2959999999,
          635614.9349999999,
          619507.0950000001,
          551485.6980000001
         ],
         "x0": " ",
         "xaxis": "x",
         "y": [
          "Generación total",
          "Generación total",
          "Generación total",
          "Generación total",
          "Generación total",
          "Generación total",
          "Generación total",
          "Generación total",
          "Generación total",
          "Generación total",
          "Generación total",
          "Generación total",
          "Generación total",
          "Generación total",
          "Generación total",
          "Generación total",
          "Generación total",
          "Generación total",
          "Generación total",
          "Generación total",
          "Generación total",
          "Generación total",
          "Generación total",
          "Generación total",
          "Generación total",
          "Generación total",
          "Generación total",
          "Generación total",
          "Generación total",
          "Generación total",
          "Generación total"
         ],
         "y0": " ",
         "yaxis": "y"
        }
       ],
       "layout": {
        "boxmode": "overlay",
        "legend": {
         "title": {
          "text": "tipo de energía"
         },
         "tracegroupgap": 0
        },
        "template": {
         "data": {
          "bar": [
           {
            "error_x": {
             "color": "#2a3f5f"
            },
            "error_y": {
             "color": "#2a3f5f"
            },
            "marker": {
             "line": {
              "color": "#E5ECF6",
              "width": 0.5
             },
             "pattern": {
              "fillmode": "overlay",
              "size": 10,
              "solidity": 0.2
             }
            },
            "type": "bar"
           }
          ],
          "barpolar": [
           {
            "marker": {
             "line": {
              "color": "#E5ECF6",
              "width": 0.5
             },
             "pattern": {
              "fillmode": "overlay",
              "size": 10,
              "solidity": 0.2
             }
            },
            "type": "barpolar"
           }
          ],
          "carpet": [
           {
            "aaxis": {
             "endlinecolor": "#2a3f5f",
             "gridcolor": "white",
             "linecolor": "white",
             "minorgridcolor": "white",
             "startlinecolor": "#2a3f5f"
            },
            "baxis": {
             "endlinecolor": "#2a3f5f",
             "gridcolor": "white",
             "linecolor": "white",
             "minorgridcolor": "white",
             "startlinecolor": "#2a3f5f"
            },
            "type": "carpet"
           }
          ],
          "choropleth": [
           {
            "colorbar": {
             "outlinewidth": 0,
             "ticks": ""
            },
            "type": "choropleth"
           }
          ],
          "contour": [
           {
            "colorbar": {
             "outlinewidth": 0,
             "ticks": ""
            },
            "colorscale": [
             [
              0,
              "#0d0887"
             ],
             [
              0.1111111111111111,
              "#46039f"
             ],
             [
              0.2222222222222222,
              "#7201a8"
             ],
             [
              0.3333333333333333,
              "#9c179e"
             ],
             [
              0.4444444444444444,
              "#bd3786"
             ],
             [
              0.5555555555555556,
              "#d8576b"
             ],
             [
              0.6666666666666666,
              "#ed7953"
             ],
             [
              0.7777777777777778,
              "#fb9f3a"
             ],
             [
              0.8888888888888888,
              "#fdca26"
             ],
             [
              1,
              "#f0f921"
             ]
            ],
            "type": "contour"
           }
          ],
          "contourcarpet": [
           {
            "colorbar": {
             "outlinewidth": 0,
             "ticks": ""
            },
            "type": "contourcarpet"
           }
          ],
          "heatmap": [
           {
            "colorbar": {
             "outlinewidth": 0,
             "ticks": ""
            },
            "colorscale": [
             [
              0,
              "#0d0887"
             ],
             [
              0.1111111111111111,
              "#46039f"
             ],
             [
              0.2222222222222222,
              "#7201a8"
             ],
             [
              0.3333333333333333,
              "#9c179e"
             ],
             [
              0.4444444444444444,
              "#bd3786"
             ],
             [
              0.5555555555555556,
              "#d8576b"
             ],
             [
              0.6666666666666666,
              "#ed7953"
             ],
             [
              0.7777777777777778,
              "#fb9f3a"
             ],
             [
              0.8888888888888888,
              "#fdca26"
             ],
             [
              1,
              "#f0f921"
             ]
            ],
            "type": "heatmap"
           }
          ],
          "heatmapgl": [
           {
            "colorbar": {
             "outlinewidth": 0,
             "ticks": ""
            },
            "colorscale": [
             [
              0,
              "#0d0887"
             ],
             [
              0.1111111111111111,
              "#46039f"
             ],
             [
              0.2222222222222222,
              "#7201a8"
             ],
             [
              0.3333333333333333,
              "#9c179e"
             ],
             [
              0.4444444444444444,
              "#bd3786"
             ],
             [
              0.5555555555555556,
              "#d8576b"
             ],
             [
              0.6666666666666666,
              "#ed7953"
             ],
             [
              0.7777777777777778,
              "#fb9f3a"
             ],
             [
              0.8888888888888888,
              "#fdca26"
             ],
             [
              1,
              "#f0f921"
             ]
            ],
            "type": "heatmapgl"
           }
          ],
          "histogram": [
           {
            "marker": {
             "pattern": {
              "fillmode": "overlay",
              "size": 10,
              "solidity": 0.2
             }
            },
            "type": "histogram"
           }
          ],
          "histogram2d": [
           {
            "colorbar": {
             "outlinewidth": 0,
             "ticks": ""
            },
            "colorscale": [
             [
              0,
              "#0d0887"
             ],
             [
              0.1111111111111111,
              "#46039f"
             ],
             [
              0.2222222222222222,
              "#7201a8"
             ],
             [
              0.3333333333333333,
              "#9c179e"
             ],
             [
              0.4444444444444444,
              "#bd3786"
             ],
             [
              0.5555555555555556,
              "#d8576b"
             ],
             [
              0.6666666666666666,
              "#ed7953"
             ],
             [
              0.7777777777777778,
              "#fb9f3a"
             ],
             [
              0.8888888888888888,
              "#fdca26"
             ],
             [
              1,
              "#f0f921"
             ]
            ],
            "type": "histogram2d"
           }
          ],
          "histogram2dcontour": [
           {
            "colorbar": {
             "outlinewidth": 0,
             "ticks": ""
            },
            "colorscale": [
             [
              0,
              "#0d0887"
             ],
             [
              0.1111111111111111,
              "#46039f"
             ],
             [
              0.2222222222222222,
              "#7201a8"
             ],
             [
              0.3333333333333333,
              "#9c179e"
             ],
             [
              0.4444444444444444,
              "#bd3786"
             ],
             [
              0.5555555555555556,
              "#d8576b"
             ],
             [
              0.6666666666666666,
              "#ed7953"
             ],
             [
              0.7777777777777778,
              "#fb9f3a"
             ],
             [
              0.8888888888888888,
              "#fdca26"
             ],
             [
              1,
              "#f0f921"
             ]
            ],
            "type": "histogram2dcontour"
           }
          ],
          "mesh3d": [
           {
            "colorbar": {
             "outlinewidth": 0,
             "ticks": ""
            },
            "type": "mesh3d"
           }
          ],
          "parcoords": [
           {
            "line": {
             "colorbar": {
              "outlinewidth": 0,
              "ticks": ""
             }
            },
            "type": "parcoords"
           }
          ],
          "pie": [
           {
            "automargin": true,
            "type": "pie"
           }
          ],
          "scatter": [
           {
            "fillpattern": {
             "fillmode": "overlay",
             "size": 10,
             "solidity": 0.2
            },
            "type": "scatter"
           }
          ],
          "scatter3d": [
           {
            "line": {
             "colorbar": {
              "outlinewidth": 0,
              "ticks": ""
             }
            },
            "marker": {
             "colorbar": {
              "outlinewidth": 0,
              "ticks": ""
             }
            },
            "type": "scatter3d"
           }
          ],
          "scattercarpet": [
           {
            "marker": {
             "colorbar": {
              "outlinewidth": 0,
              "ticks": ""
             }
            },
            "type": "scattercarpet"
           }
          ],
          "scattergeo": [
           {
            "marker": {
             "colorbar": {
              "outlinewidth": 0,
              "ticks": ""
             }
            },
            "type": "scattergeo"
           }
          ],
          "scattergl": [
           {
            "marker": {
             "colorbar": {
              "outlinewidth": 0,
              "ticks": ""
             }
            },
            "type": "scattergl"
           }
          ],
          "scattermapbox": [
           {
            "marker": {
             "colorbar": {
              "outlinewidth": 0,
              "ticks": ""
             }
            },
            "type": "scattermapbox"
           }
          ],
          "scatterpolar": [
           {
            "marker": {
             "colorbar": {
              "outlinewidth": 0,
              "ticks": ""
             }
            },
            "type": "scatterpolar"
           }
          ],
          "scatterpolargl": [
           {
            "marker": {
             "colorbar": {
              "outlinewidth": 0,
              "ticks": ""
             }
            },
            "type": "scatterpolargl"
           }
          ],
          "scatterternary": [
           {
            "marker": {
             "colorbar": {
              "outlinewidth": 0,
              "ticks": ""
             }
            },
            "type": "scatterternary"
           }
          ],
          "surface": [
           {
            "colorbar": {
             "outlinewidth": 0,
             "ticks": ""
            },
            "colorscale": [
             [
              0,
              "#0d0887"
             ],
             [
              0.1111111111111111,
              "#46039f"
             ],
             [
              0.2222222222222222,
              "#7201a8"
             ],
             [
              0.3333333333333333,
              "#9c179e"
             ],
             [
              0.4444444444444444,
              "#bd3786"
             ],
             [
              0.5555555555555556,
              "#d8576b"
             ],
             [
              0.6666666666666666,
              "#ed7953"
             ],
             [
              0.7777777777777778,
              "#fb9f3a"
             ],
             [
              0.8888888888888888,
              "#fdca26"
             ],
             [
              1,
              "#f0f921"
             ]
            ],
            "type": "surface"
           }
          ],
          "table": [
           {
            "cells": {
             "fill": {
              "color": "#EBF0F8"
             },
             "line": {
              "color": "white"
             }
            },
            "header": {
             "fill": {
              "color": "#C8D4E3"
             },
             "line": {
              "color": "white"
             }
            },
            "type": "table"
           }
          ]
         },
         "layout": {
          "annotationdefaults": {
           "arrowcolor": "#2a3f5f",
           "arrowhead": 0,
           "arrowwidth": 1
          },
          "autotypenumbers": "strict",
          "coloraxis": {
           "colorbar": {
            "outlinewidth": 0,
            "ticks": ""
           }
          },
          "colorscale": {
           "diverging": [
            [
             0,
             "#8e0152"
            ],
            [
             0.1,
             "#c51b7d"
            ],
            [
             0.2,
             "#de77ae"
            ],
            [
             0.3,
             "#f1b6da"
            ],
            [
             0.4,
             "#fde0ef"
            ],
            [
             0.5,
             "#f7f7f7"
            ],
            [
             0.6,
             "#e6f5d0"
            ],
            [
             0.7,
             "#b8e186"
            ],
            [
             0.8,
             "#7fbc41"
            ],
            [
             0.9,
             "#4d9221"
            ],
            [
             1,
             "#276419"
            ]
           ],
           "sequential": [
            [
             0,
             "#0d0887"
            ],
            [
             0.1111111111111111,
             "#46039f"
            ],
            [
             0.2222222222222222,
             "#7201a8"
            ],
            [
             0.3333333333333333,
             "#9c179e"
            ],
            [
             0.4444444444444444,
             "#bd3786"
            ],
            [
             0.5555555555555556,
             "#d8576b"
            ],
            [
             0.6666666666666666,
             "#ed7953"
            ],
            [
             0.7777777777777778,
             "#fb9f3a"
            ],
            [
             0.8888888888888888,
             "#fdca26"
            ],
            [
             1,
             "#f0f921"
            ]
           ],
           "sequentialminus": [
            [
             0,
             "#0d0887"
            ],
            [
             0.1111111111111111,
             "#46039f"
            ],
            [
             0.2222222222222222,
             "#7201a8"
            ],
            [
             0.3333333333333333,
             "#9c179e"
            ],
            [
             0.4444444444444444,
             "#bd3786"
            ],
            [
             0.5555555555555556,
             "#d8576b"
            ],
            [
             0.6666666666666666,
             "#ed7953"
            ],
            [
             0.7777777777777778,
             "#fb9f3a"
            ],
            [
             0.8888888888888888,
             "#fdca26"
            ],
            [
             1,
             "#f0f921"
            ]
           ]
          },
          "colorway": [
           "#636efa",
           "#EF553B",
           "#00cc96",
           "#ab63fa",
           "#FFA15A",
           "#19d3f3",
           "#FF6692",
           "#B6E880",
           "#FF97FF",
           "#FECB52"
          ],
          "font": {
           "color": "#2a3f5f"
          },
          "geo": {
           "bgcolor": "white",
           "lakecolor": "white",
           "landcolor": "#E5ECF6",
           "showlakes": true,
           "showland": true,
           "subunitcolor": "white"
          },
          "hoverlabel": {
           "align": "left"
          },
          "hovermode": "closest",
          "mapbox": {
           "style": "light"
          },
          "paper_bgcolor": "white",
          "plot_bgcolor": "#E5ECF6",
          "polar": {
           "angularaxis": {
            "gridcolor": "white",
            "linecolor": "white",
            "ticks": ""
           },
           "bgcolor": "#E5ECF6",
           "radialaxis": {
            "gridcolor": "white",
            "linecolor": "white",
            "ticks": ""
           }
          },
          "scene": {
           "xaxis": {
            "backgroundcolor": "#E5ECF6",
            "gridcolor": "white",
            "gridwidth": 2,
            "linecolor": "white",
            "showbackground": true,
            "ticks": "",
            "zerolinecolor": "white"
           },
           "yaxis": {
            "backgroundcolor": "#E5ECF6",
            "gridcolor": "white",
            "gridwidth": 2,
            "linecolor": "white",
            "showbackground": true,
            "ticks": "",
            "zerolinecolor": "white"
           },
           "zaxis": {
            "backgroundcolor": "#E5ECF6",
            "gridcolor": "white",
            "gridwidth": 2,
            "linecolor": "white",
            "showbackground": true,
            "ticks": "",
            "zerolinecolor": "white"
           }
          },
          "shapedefaults": {
           "line": {
            "color": "#2a3f5f"
           }
          },
          "ternary": {
           "aaxis": {
            "gridcolor": "white",
            "linecolor": "white",
            "ticks": ""
           },
           "baxis": {
            "gridcolor": "white",
            "linecolor": "white",
            "ticks": ""
           },
           "bgcolor": "#E5ECF6",
           "caxis": {
            "gridcolor": "white",
            "linecolor": "white",
            "ticks": ""
           }
          },
          "title": {
           "x": 0.05
          },
          "xaxis": {
           "automargin": true,
           "gridcolor": "white",
           "linecolor": "white",
           "ticks": "",
           "title": {
            "standoff": 15
           },
           "zerolinecolor": "white",
           "zerolinewidth": 2
          },
          "yaxis": {
           "automargin": true,
           "gridcolor": "white",
           "linecolor": "white",
           "ticks": "",
           "title": {
            "standoff": 15
           },
           "zerolinecolor": "white",
           "zerolinewidth": 2
          }
         }
        },
        "title": {
         "text": "Box tipo de energía"
        },
        "xaxis": {
         "anchor": "y",
         "domain": [
          0,
          1
         ],
         "title": {
          "text": "Valores"
         }
        },
        "yaxis": {
         "anchor": "x",
         "categoryarray": [
          "Generación total",
          "No-Renovable",
          "Renovable"
         ],
         "categoryorder": "array",
         "domain": [
          0,
          1
         ],
         "title": {
          "text": "tipo de energía"
         }
        }
       }
      }
     },
     "metadata": {},
     "output_type": "display_data"
    }
   ],
   "source": [
    "px.box(data_frame= df_generacion,\n",
    "       x = 'Valores',\n",
    "       y = 'tipo de energía',\n",
    "       title= 'Box tipo de energía',\n",
    "       color = 'tipo de energía')"
   ]
  },
  {
   "cell_type": "code",
   "execution_count": 32,
   "metadata": {},
   "outputs": [
    {
     "data": {
      "application/vnd.plotly.v1+json": {
       "config": {
        "plotlyServerURL": "https://plot.ly"
       },
       "data": [
        {
         "alignmentgroup": "True",
         "bingroup": "x",
         "histfunc": "sum",
         "hovertemplate": "nombre=Hidráulica<br>Valores=%{x}<br>sum of Porcentaje=%{y}<extra></extra>",
         "legendgroup": "Hidráulica",
         "marker": {
          "color": "#636efa",
          "pattern": {
           "shape": ""
          }
         },
         "name": "Hidráulica",
         "nbinsx": 200,
         "offsetgroup": "Hidráulica",
         "orientation": "v",
         "showlegend": true,
         "type": "histogram",
         "x": [
          22677.543,
          34410.083,
          36184.276,
          27251.012,
          24805.877,
          31052.893,
          24153.141,
          15558.041,
          31779.909,
          33073.974,
          29080.481,
          20213.244,
          31118.702,
          24335.723,
          23312.579,
          38970.565,
          40808.219,
          44279.829,
          41709.912,
          43508.807,
          27451.729,
          23512.598,
          25842.727,
          27088.352,
          27620.756,
          38745.423,
          41528.037,
          24530.895,
          22871.902,
          41941.542,
          43709.116
         ],
         "xaxis": "x",
         "y": [
          0.03505383326492304,
          0.04971547940221356,
          0.049279378412987844,
          0.03582562692351247,
          0.03384198048562901,
          0.044154141132031366,
          0.0396676351471544,
          0.02392570558669812,
          0.047813152321628485,
          0.047122174021917984,
          0.0407004762487174,
          0.0276513956959339,
          0.04333702100993857,
          0.03918088257713578,
          0.03886120701394761,
          0.05732960072879004,
          0.059449793395813424,
          0.06100939020534549,
          0.057747161087984014,
          0.06234486739464865,
          0.042849998719341816,
          0.03798107908366568,
          0.03611595217763625,
          0.03808226733834751,
          0.03833347452165752,
          0.054683153124025795,
          0.05992189368194911,
          0.04001602233319573,
          0.03872526953132499,
          0.06323064400989045,
          0.06345553127393182
         ],
         "yaxis": "y"
        },
        {
         "alignmentgroup": "True",
         "bingroup": "x",
         "histfunc": "sum",
         "hovertemplate": "nombre=Turbinación bombeo<br>Valores=%{x}<br>sum of Porcentaje=%{y}<extra></extra>",
         "legendgroup": "Turbinación bombeo",
         "marker": {
          "color": "#EF553B",
          "pattern": {
           "shape": ""
          }
         },
         "name": "Turbinación bombeo",
         "nbinsx": 200,
         "offsetgroup": "Turbinación bombeo",
         "orientation": "v",
         "showlegend": true,
         "type": "histogram",
         "x": [
          12419.169,
          5242.136,
          4400.221,
          7140.595,
          8771.07,
          10597.651,
          10799.887,
          11025.302,
          15820.152,
          7985.467,
          12816.753,
          16807.971,
          17313.393,
          16396.046,
          14722.586,
          14649.407,
          10635.073,
          12962.414,
          11135.565,
          11965.273,
          16998.403,
          15326.548,
          13878.93,
          10751.625,
          13195.162,
          7382.646,
          10275.258,
          12323.618,
          13197.372,
          13078.548,
          10481.52
         ],
         "xaxis": "x",
         "y": [
          0.019196942076789403,
          0.0075738063268142135,
          0.0059926625520924,
          0.00938740522670859,
          0.011966131242934327,
          0.015068811074124827,
          0.01773707101475936,
          0.016955099273516117,
          0.023801557686251258,
          0.011377301246602035,
          0.017938078502283974,
          0.02299303649462609,
          0.02411125233290011,
          0.026397882366400893,
          0.02454200637032251,
          0.021550743599009707,
          0.015493273367293822,
          0.017859801891494054,
          0.015417133123194237,
          0.017145341597754445,
          0.02653317562550818,
          0.024757741856837684,
          0.019396202736528586,
          0.015115214745129588,
          0.01831290955019998,
          0.010419459394687122,
          0.014826439242254507,
          0.020102901794401423,
          0.0223449622950099,
          0.019717086528536903,
          0.015216743805990992
         ],
         "yaxis": "y"
        },
        {
         "alignmentgroup": "True",
         "bingroup": "x",
         "histfunc": "sum",
         "hovertemplate": "nombre=Nuclear<br>Valores=%{x}<br>sum of Porcentaje=%{y}<extra></extra>",
         "legendgroup": "Nuclear",
         "marker": {
          "color": "#00cc96",
          "pattern": {
           "shape": ""
          }
         },
         "name": "Nuclear",
         "nbinsx": 200,
         "offsetgroup": "Nuclear",
         "orientation": "v",
         "showlegend": true,
         "type": "histogram",
         "x": [
          163778.663,
          163514.484,
          163486.687,
          163605.227,
          162714.088,
          163691.166,
          163837.034,
          161560.003,
          163891.9,
          164125.743,
          144409.722,
          115413.095,
          127688.454,
          139091.629,
          138517.22,
          138503.073,
          138814.453,
          138487.209,
          138404.139,
          138340.676,
          138174.336,
          137688.802,
          137998.815,
          148363.465,
          159640.052,
          154335.239,
          136990.992,
          137676.308,
          138773.399,
          100722.677,
          93265.672
         ],
         "xaxis": "x",
         "y": [
          0.25316102124264606,
          0.23624473562779777,
          0.22265257743884945,
          0.21508411596745727,
          0.22198638616296135,
          0.23275264065189594,
          0.2690758807851919,
          0.24845268542254548,
          0.24657680357049178,
          0.23383829905419248,
          0.2021130414020622,
          0.15788327486361964,
          0.17782352277175872,
          0.22393962913333343,
          0.23090308289857261,
          0.20375187977901935,
          0.20222618760213118,
          0.19080968384792618,
          0.19161982672312355,
          0.1982318453481396,
          0.2156793155231099,
          0.222415629174504,
          0.19285730190588915,
          0.20857736703117133,
          0.22155649418061116,
          0.21782024438525596,
          0.19766789501773807,
          0.2245844766642201,
          0.23496241283532548,
          0.15184848790514616,
          0.13540019355185007
         ],
         "yaxis": "y"
        },
        {
         "alignmentgroup": "True",
         "bingroup": "x",
         "histfunc": "sum",
         "hovertemplate": "nombre=Carbón<br>Valores=%{x}<br>sum of Porcentaje=%{y}<extra></extra>",
         "legendgroup": "Carbón",
         "marker": {
          "color": "#ab63fa",
          "pattern": {
           "shape": ""
          }
         },
         "name": "Carbón",
         "nbinsx": 200,
         "offsetgroup": "Carbón",
         "orientation": "v",
         "showlegend": true,
         "type": "histogram",
         "x": [
          11475.828,
          13141.731,
          12801.155,
          12728.758,
          12937.876,
          12406.252,
          12101.126,
          11523.562,
          12920.307,
          11970.991,
          12904.898,
          13554.938,
          13203.949,
          11660.905,
          10726.508,
          15116.6,
          19459.305,
          19886.878,
          19831.748,
          20136.761,
          12655.73,
          12119.983,
          13778.858,
          12717.874,
          13596.617,
          12795.673,
          12858.636,
          11369.515,
          12236.949,
          16363.071,
          18237.233
         ],
         "xaxis": "x",
         "y": [
          0.01773877184529802,
          0.018987093313315502,
          0.01743389756833359,
          0.016733900939446752,
          0.01765079086369282,
          0.017640462733296586,
          0.019874146018430645,
          0.01772134112013602,
          0.019438715404540736,
          0.01705568012833335,
          0.018061444531853536,
          0.01854293918738877,
          0.018388293162971813,
          0.018774233646073942,
          0.017880692132979586,
          0.022238031251967414,
          0.028348496705433757,
          0.027400428756581257,
          0.027456954270541376,
          0.028854472941598524,
          0.01975460322708037,
          0.019578016551624094,
          0.019256349246364005,
          0.01787947371783337,
          0.018870068992689247,
          0.018059107161740435,
          0.018554063108903594,
          0.01854652128092366,
          0.020718834326330964,
          0.024668800143532205,
          0.026476246030267034
         ],
         "yaxis": "y"
        },
        {
         "alignmentgroup": "True",
         "bingroup": "x",
         "histfunc": "sum",
         "hovertemplate": "nombre=Fuel + Gas<br>Valores=%{x}<br>sum of Porcentaje=%{y}<extra></extra>",
         "legendgroup": "Fuel + Gas",
         "marker": {
          "color": "#FFA15A",
          "pattern": {
           "shape": ""
          }
         },
         "name": "Fuel + Gas",
         "nbinsx": 200,
         "offsetgroup": "Fuel + Gas",
         "orientation": "v",
         "showlegend": true,
         "type": "histogram",
         "x": [
          -0.001
         ],
         "xaxis": "x",
         "y": [
          1.3878503007541691e-9
         ],
         "yaxis": "y"
        },
        {
         "alignmentgroup": "True",
         "bingroup": "x",
         "histfunc": "sum",
         "hovertemplate": "nombre=Motores diésel<br>Valores=%{x}<br>sum of Porcentaje=%{y}<extra></extra>",
         "legendgroup": "Motores diésel",
         "marker": {
          "color": "#19d3f3",
          "pattern": {
           "shape": ""
          }
         },
         "name": "Motores diésel",
         "nbinsx": 200,
         "offsetgroup": "Motores diésel",
         "orientation": "v",
         "showlegend": true,
         "type": "histogram",
         "x": [
          8001.976,
          8175.841,
          7349.132,
          6942.373,
          6895.553,
          7183.111,
          7679.592,
          6552.737,
          6491.208,
          6680.791,
          7016.332,
          6738.499,
          6892.66,
          6408.033,
          6302.819,
          7001.324,
          6415.588,
          5918.866,
          5953.527,
          7659,
          7695.346,
          6579.752,
          7235.851,
          7788.375,
          7230.269,
          7838.51,
          7954.891,
          7534.932,
          7311.034,
          8276.692,
          8366.964
         ],
         "xaxis": "x",
         "y": [
          0.012369061872969033,
          0.011812405533322112,
          0.010008785496633902,
          0.009126812063414967,
          0.00940741462451098,
          0.010213673066179275,
          0.012612490174052547,
          0.010077030665304423,
          0.00976607947037776,
          0.009518462949328782,
          0.00981992195793171,
          0.009218159254677522,
          0.009598965639195463,
          0.010317030175080934,
          0.010506566173156656,
          0.010299648195834347,
          0.009346288332569962,
          0.008155099365156817,
          0.008242627860511003,
          0.01097477435719196,
          0.01201183234195894,
          0.010628603485795462,
          0.010112309303909817,
          0.010949317953388316,
          0.010034531006183544,
          0.011062840702351022,
          0.01147832084510746,
          0.012291357783363027,
          0.012378584089888156,
          0.012477857047590385,
          0.012146897360492525
         ],
         "yaxis": "y"
        },
        {
         "alignmentgroup": "True",
         "bingroup": "x",
         "histfunc": "sum",
         "hovertemplate": "nombre=Turbina de gas<br>Valores=%{x}<br>sum of Porcentaje=%{y}<extra></extra>",
         "legendgroup": "Turbina de gas",
         "marker": {
          "color": "#FF6692",
          "pattern": {
           "shape": ""
          }
         },
         "name": "Turbina de gas",
         "nbinsx": 200,
         "offsetgroup": "Turbina de gas",
         "orientation": "v",
         "showlegend": true,
         "type": "histogram",
         "x": [
          1914.995,
          2598.356,
          2801.504,
          2773.235,
          2750.667,
          3073.966,
          2141.747,
          1995.216,
          3067.666,
          2371.383,
          2011.431,
          1743.816,
          1558.718,
          1222.198,
          1361.139,
          1900.167,
          2317.929,
          2090.492,
          1939.267,
          1688.733,
          2079.891,
          1658.784,
          2859.899,
          3299.137,
          3058.345,
          3401.781,
          2837.518,
          2112.744,
          2137.769,
          3442.04,
          3338.447
         ],
         "xaxis": "x",
         "y": [
          0.002960105309166927,
          0.0037540890034359416,
          0.0038153692985732008,
          0.003645841940887447,
          0.0037526598610669436,
          0.004370875480074141,
          0.0035174737138127287,
          0.0030683137162236217,
          0.004615330450753676,
          0.003378630049071754,
          0.0028151597506737903,
          0.0023855125004626013,
          0.002170726616893257,
          0.0019677572893153903,
          0.0022689683734158123,
          0.0027953357983909848,
          0.003376780548941977,
          0.0028803101780079843,
          0.0026849053012054187,
          0.002419828126980526,
          0.0032465469364924364,
          0.002679517009848052,
          0.00399679087725029,
          0.004638104865878655,
          0.004244525028060009,
          0.0048010860874431955,
          0.004094329137604479,
          0.0034464136383252743,
          0.003619536351664636,
          0.0051891846491434026,
          0.0048466532248070135
         ],
         "yaxis": "y"
        },
        {
         "alignmentgroup": "True",
         "bingroup": "x",
         "histfunc": "sum",
         "hovertemplate": "nombre=Turbina de vapor<br>Valores=%{x}<br>sum of Porcentaje=%{y}<extra></extra>",
         "legendgroup": "Turbina de vapor",
         "marker": {
          "color": "#B6E880",
          "pattern": {
           "shape": ""
          }
         },
         "name": "Turbina de vapor",
         "nbinsx": 200,
         "offsetgroup": "Turbina de vapor",
         "orientation": "v",
         "showlegend": true,
         "type": "histogram",
         "x": [
          4249.815,
          4804.434,
          3973.953,
          3294.808,
          2695.01,
          2756.202,
          2920.999,
          2874.813,
          3206.877,
          3307.667,
          3271.521,
          3408.961,
          3503.892,
          3309.608,
          3177.341,
          4152.895,
          3578.103,
          3392.715,
          3515.335,
          4475.366,
          3878.917,
          3685.595,
          3803.922,
          3988.165,
          4625.621,
          4714.82,
          4918.555,
          4981.017,
          4575.141,
          4450.877,
          4838.719
         ],
         "xaxis": "x",
         "y": [
          0.0065691555040494854,
          0.006941417129574913,
          0.00541212801058748,
          0.004331529493018618,
          0.003676728536087438,
          0.003919046515131042,
          0.00479726933226626,
          0.004420989085631821,
          0.004824774623417801,
          0.004712601515032799,
          0.004578757234368999,
          0.004663404326539893,
          0.00487964572624384,
          0.005328519001648284,
          0.005296509938042603,
          0.0061093241070173995,
          0.00521261376535301,
          0.0046745319023370376,
          0.004866963433613294,
          0.006412864866934162,
          0.00605468560768734,
          0.005953526495258533,
          0.005316090095269685,
          0.0056067776186399495,
          0.0064196694960248,
          0.0066542369149568785,
          0.007097112001196186,
          0.0081252839537256,
          0.007746341706466552,
          0.006710097094637321,
          0.007024701319291565
         ],
         "yaxis": "y"
        },
        {
         "alignmentgroup": "True",
         "bingroup": "x",
         "histfunc": "sum",
         "hovertemplate": "nombre=Ciclo combinado<br>Valores=%{x}<br>sum of Porcentaje=%{y}<extra></extra>",
         "legendgroup": "Ciclo combinado",
         "marker": {
          "color": "#FF97FF",
          "pattern": {
           "shape": ""
          }
         },
         "name": "Ciclo combinado",
         "nbinsx": 200,
         "offsetgroup": "Ciclo combinado",
         "orientation": "v",
         "showlegend": true,
         "type": "histogram",
         "x": [
          153185.437,
          207427.016,
          238916.811,
          202472.327,
          199849.787,
          207626.946,
          123925.093,
          92830.002,
          133945.575,
          210151.804,
          126742.202,
          105865.509,
          114033.419,
          140609.853,
          117110.974,
          181039.945,
          183858.901,
          171414.065,
          192061.19,
          208050.26,
          154436.88,
          143128.675,
          178589.387,
          171362.465,
          184528.624,
          222286.189,
          206888.211,
          140317.5,
          127960.58,
          220550.181,
          260849.031
         ],
         "xaxis": "x",
         "y": [
          0.23678653226288104,
          0.2996892957628327,
          0.32538089026552025,
          0.26618086878525543,
          0.27264960604743443,
          0.295224972323727,
          0.2035269605183515,
          0.1427572595717287,
          0.20152229448747364,
          0.2994139706074631,
          0.1773859236444935,
          0.1448223293554687,
          0.15880703105926872,
          0.2263839927657511,
          0.1952196624928986,
          0.26632787496953425,
          0.2678473588477683,
          0.23617678329944441,
          0.2659077410108155,
          0.2981204672222379,
          0.24106387288826675,
          0.23120292892836775,
          0.24958379045390114,
          0.24091060260469957,
          0.256098106316153,
          0.3137224675658629,
          0.2985244254042313,
          0.22889292109962525,
          0.21665482607807057,
          0.33249921953579825,
          0.37869248704081104
         ],
         "yaxis": "y"
        },
        {
         "alignmentgroup": "True",
         "bingroup": "x",
         "histfunc": "sum",
         "hovertemplate": "nombre=Hidroeólica<br>Valores=%{x}<br>sum of Porcentaje=%{y}<extra></extra>",
         "legendgroup": "Hidroeólica",
         "marker": {
          "color": "#FECB52",
          "pattern": {
           "shape": ""
          }
         },
         "name": "Hidroeólica",
         "nbinsx": 200,
         "offsetgroup": "Hidroeólica",
         "orientation": "v",
         "showlegend": true,
         "type": "histogram",
         "x": [
          5.401,
          28.649,
          37.994,
          49.623,
          75.188,
          71.507,
          24.817,
          71.798,
          82.063,
          97.676,
          42.124,
          43.431,
          49.377,
          50.166,
          40.149,
          54.191,
          69.267,
          93.93,
          95.334,
          28.09,
          -2.192,
          -0.077,
          2.047,
          21.267,
          26.192,
          2.947,
          3.604,
          4.891,
          13.57,
          10.616,
          6.117
         ],
         "xaxis": "x",
         "y": [
          0.000008348600792592447,
          0.00004139190159448369,
          0.000051744042175199535,
          0.00006523702990646583,
          0.00010257693484304038,
          0.00010167587831279254,
          0.00004075791639054029,
          0.00011041350319836229,
          0.0001234645045386945,
          0.00013916396831432657,
          0.00005895593203912177,
          0.00005941291593126295,
          0.00006876418195102535,
          0.00008076801972822395,
          0.00006692689815240872,
          0.00007972038365607122,
          0.00010090881053024657,
          0.00012941811545812658,
          0.00013198943826977792,
          0.0000402508697863327,
          0.000003421540304175277,
          1.2438196278617347e-7,
          0.000002860741209997746,
          0.00002989829648863971,
          0.00003635057507735319,
          0.000004159233266249384,
          0.000005200306116798746,
          0.000007978443722973023,
          0.000022975872646712116,
          0.000016004574100041362,
          0.000008880469804116855
         ],
         "yaxis": "y"
        },
        {
         "alignmentgroup": "True",
         "bingroup": "x",
         "histfunc": "sum",
         "hovertemplate": "nombre=Eólica<br>Valores=%{x}<br>sum of Porcentaje=%{y}<extra></extra>",
         "legendgroup": "Eólica",
         "marker": {
          "color": "#636efa",
          "pattern": {
           "shape": ""
          }
         },
         "name": "Eólica",
         "nbinsx": 200,
         "offsetgroup": "Eólica",
         "orientation": "v",
         "showlegend": true,
         "type": "histogram",
         "x": [
          69826.543,
          54172.392,
          60510.578,
          121145.44,
          114384.247,
          102730.916,
          123185.593,
          209534.384,
          127090.677,
          61873.719,
          154352.114,
          300443.625,
          191728.164,
          62212.405,
          80956.323,
          59481.707,
          66702.778,
          119078.548,
          93717.424,
          48743.75,
          71790.755,
          67340.717,
          123178.884,
          123386.311,
          104358.274,
          50450.433,
          64416.642,
          75517.746,
          59586.819,
          53814.25,
          40364.161
         ],
         "xaxis": "x",
         "y": [
          0.10793444403513992,
          0.07826794369094195,
          0.08240937779853927,
          0.15926422611111707,
          0.1560513040856152,
          0.1460731972279317,
          0.20231245114289095,
          0.3222293849125445,
          0.19120904021656845,
          0.08815463645527608,
          0.2160282200901808,
          0.41100209146022176,
          0.2670075207977809,
          0.10016291421241993,
          0.13495119639877715,
          0.08750354307095305,
          0.09717322804572308,
          0.164068149405409,
          0.12975129701733487,
          0.06984614931105569,
          0.1120597453009456,
          0.10877883838815897,
          0.17214602328301512,
          0.17346313579336567,
          0.14483366195708597,
          0.07120295868011052,
          0.09294846210217397,
          0.12318832274519957,
          0.10088866357897465,
          0.08112981836502928,
          0.05859942993771639
         ],
         "yaxis": "y"
        },
        {
         "alignmentgroup": "True",
         "bingroup": "x",
         "histfunc": "sum",
         "hovertemplate": "nombre=Solar fotovoltaica<br>Valores=%{x}<br>sum of Porcentaje=%{y}<extra></extra>",
         "legendgroup": "Solar fotovoltaica",
         "marker": {
          "color": "#EF553B",
          "pattern": {
           "shape": ""
          }
         },
         "name": "Solar fotovoltaica",
         "nbinsx": 200,
         "offsetgroup": "Solar fotovoltaica",
         "orientation": "v",
         "showlegend": true,
         "type": "histogram",
         "x": [
          121887.424,
          118190.342,
          118167.259,
          127037.077,
          112494.024,
          83969.818,
          73569.331,
          82520.277,
          97003.07,
          115090.681,
          136933.965,
          79274.995,
          132980.176,
          131582.923,
          124631.015,
          133621.346,
          127279.529,
          124437.232,
          130418.849,
          128452.095,
          126417.895,
          130719.556,
          126647.71,
          120708.613,
          121833.444,
          121536.59,
          120719.663,
          118468.114,
          121475.905,
          115051.014,
          118841.884
         ],
         "xaxis": "x",
         "y": [
          0.18840759944703792,
          0.17076068991875365,
          0.16093203225308542,
          0.1670096848533745,
          0.15347252447304652,
          0.1193967723008284,
          0.12082575016343572,
          0.12690259991182543,
          0.14594197112318952,
          0.16397555063637195,
          0.19165011713957553,
          0.10844692992070849,
          0.18519296470711819,
          0.21185049875934645,
          0.20775529272301485,
          0.1965703708689752,
          0.18542200291971683,
          0.171451421891469,
          0.18056423331970742,
          0.18406224811771582,
          0.19732843198517253,
          0.21115785649113142,
          0.17699380710739795,
          0.16969868341592467,
          0.1690865818973162,
          0.17153004010672285,
          0.1741895676794626,
          0.19325111030786188,
          0.20567538120295503,
          0.17344974367444385,
          0.17253094038357986
         ],
         "yaxis": "y"
        },
        {
         "alignmentgroup": "True",
         "bingroup": "x",
         "histfunc": "sum",
         "hovertemplate": "nombre=Solar térmica<br>Valores=%{x}<br>sum of Porcentaje=%{y}<extra></extra>",
         "legendgroup": "Solar térmica",
         "marker": {
          "color": "#00cc96",
          "pattern": {
           "shape": ""
          }
         },
         "name": "Solar térmica",
         "nbinsx": 200,
         "offsetgroup": "Solar térmica",
         "orientation": "v",
         "showlegend": true,
         "type": "histogram",
         "x": [
          15358.585,
          14417.226,
          18173.901,
          19163.019,
          14430.12,
          6282.017,
          1329.429,
          2883.921,
          4758.746,
          16799.109,
          20321.971,
          5231.198,
          12841.32,
          19952.207,
          22556.123,
          20529.101,
          21103.343,
          19451.213,
          18621.448,
          19664.765,
          19700.118,
          21472.534,
          18326.516,
          16070.137,
          13369.877,
          15051.556,
          12174.059,
          10156.522,
          15608.325,
          14944.868,
          15093.094
         ],
         "xaxis": "x",
         "y": [
          0.023740547103147283,
          0.020829920760146316,
          0.024751042265407724,
          0.025192721995872337,
          0.01968661859628204,
          0.008932406562307102,
          0.00218337252807187,
          0.004434995690093375,
          0.0071595751692662265,
          0.023934545564774545,
          0.028442235808019266,
          0.00715619550537153,
          0.01788328300567756,
          0.03212335543191819,
          0.037600222838282495,
          0.030200361828241498,
          0.03074354657112053,
          0.026800163204882495,
          0.025781300074368844,
          0.028178137963468592,
          0.030750341119529578,
          0.03468566136250448,
          0.025611831732722544,
          0.02259226598199366,
          0.018555387815496246,
          0.021242936010863765,
          0.017566269002211102,
          0.016567826456376493,
          0.02642703665648437,
          0.02253073166176874,
          0.02191168309918216
         ],
         "yaxis": "y"
        },
        {
         "alignmentgroup": "True",
         "bingroup": "x",
         "histfunc": "sum",
         "hovertemplate": "nombre=Otras renovables<br>Valores=%{x}<br>sum of Porcentaje=%{y}<extra></extra>",
         "legendgroup": "Otras renovables",
         "marker": {
          "color": "#ab63fa",
          "pattern": {
           "shape": ""
          }
         },
         "name": "Otras renovables",
         "nbinsx": 200,
         "offsetgroup": "Otras renovables",
         "orientation": "v",
         "showlegend": true,
         "type": "histogram",
         "x": [
          10425.517,
          10110.756,
          10865.463,
          10824.656,
          10622.483,
          10810.377,
          9479.58,
          7427.447,
          7905.733,
          8720.434,
          8346.948,
          8637.511,
          8869.273,
          8997.682,
          7588.529,
          7919.28,
          7809.369,
          7817.909,
          7734.386,
          7933.016,
          8141.04,
          7084.88,
          7468.318,
          9853.567,
          10251.645,
          10114.513,
          10828.954,
          10404.026,
          9847.209,
          10101.857,
          10455.201
         ],
         "xaxis": "x",
         "y": [
          0.016115252636435113,
          0.014607959000238598,
          0.014797677941913725,
          0.014230667375999132,
          0.014491963432493272,
          0.015371286396680202,
          0.015568679899159363,
          0.011422190633306867,
          0.011894244761466275,
          0.012424446136852205,
          0.011682226261088297,
          0.011815977410107044,
          0.012351667828043754,
          0.014486404283464609,
          0.012649797193195348,
          0.011650053327671599,
          0.011376761470567242,
          0.01077162833602818,
          0.010708218091149375,
          0.01136741879775343,
          0.01270752576546674,
          0.011444562084474088,
          0.010437188603794795,
          0.013852676335951292,
          0.014227748596474974,
          0.014275065809810607,
          0.015625381721623817,
          0.016971567355008817,
          0.01667267648559745,
          0.015229457319566835,
          0.015178534702709226
         ],
         "yaxis": "y"
        },
        {
         "alignmentgroup": "True",
         "bingroup": "x",
         "histfunc": "sum",
         "hovertemplate": "nombre=Cogeneración<br>Valores=%{x}<br>sum of Porcentaje=%{y}<extra></extra>",
         "legendgroup": "Cogeneración",
         "marker": {
          "color": "#FFA15A",
          "pattern": {
           "shape": ""
          }
         },
         "name": "Cogeneración",
         "nbinsx": 200,
         "offsetgroup": "Cogeneración",
         "orientation": "v",
         "showlegend": true,
         "type": "histogram",
         "x": [
          45445.834,
          49574.729,
          51005.98,
          51682.688,
          53485.942,
          54784.603,
          47632.931,
          37676.674,
          50165.262,
          52970.529,
          49710.625,
          47307.661,
          49995.016,
          48660.325,
          42265.843,
          49993.956,
          50966.696,
          49619.151,
          50454.504,
          50695.218,
          44711.977,
          42106.874,
          49198.972,
          49219.474,
          50465.825,
          53123.607,
          53832.03,
          50794.184,
          48585.432,
          53969.552,
          54221.736
         ],
         "xaxis": "x",
         "y": [
          0.07024794033557209,
          0.07162526804918835,
          0.06946506238636059,
          0.06794480508438713,
          0.07296940984668614,
          0.07789828447624217,
          0.07822939997317865,
          0.057940521535455765,
          0.0754740774512728,
          0.07546980854405501,
          0.06957402500052862,
          0.06471612640504909,
          0.06962485320834445,
          0.07834386017585195,
          0.07045559714530118,
          0.0735461119522567,
          0.07424875727282366,
          0.06836598544716509,
          0.06985400424969332,
          0.07264245704904769,
          0.06979189387995345,
          0.06801734590792333,
          0.06875697444549352,
          0.06919539317566623,
          0.07003901040405726,
          0.07497572903208641,
          0.07767564786034782,
          0.0828580123693185,
          0.08226180531447985,
          0.08136395008760695,
          0.07871742508987997
         ],
         "yaxis": "y"
        },
        {
         "alignmentgroup": "True",
         "bingroup": "x",
         "histfunc": "sum",
         "hovertemplate": "nombre=Residuos no renovables<br>Valores=%{x}<br>sum of Porcentaje=%{y}<extra></extra>",
         "legendgroup": "Residuos no renovables",
         "marker": {
          "color": "#19d3f3",
          "pattern": {
           "shape": ""
          }
         },
         "name": "Residuos no renovables",
         "nbinsx": 200,
         "offsetgroup": "Residuos no renovables",
         "orientation": "v",
         "showlegend": true,
         "type": "histogram",
         "x": [
          3864.7635,
          3910.8065,
          3526.4855,
          2975.479,
          3780.4485,
          3840.0525,
          3723.483,
          3757.355,
          3934.239,
          4036.15,
          3978.4535,
          3901.789,
          3895.6125,
          4143.66,
          4074.673,
          4179.527,
          4074.2665,
          4201.57,
          4032.016,
          3914.962,
          3905.464,
          3961.2335,
          4022.96,
          4001.3105,
          4024.94,
          4031.225,
          4070.296,
          4239.4665,
          4018.3955,
          4154.7725,
          4251.738
         ],
         "xaxis": "x",
         "y": [
          0.005973961788424804,
          0.005650309532726001,
          0.00480272186245801,
          0.003911722638878364,
          0.005157562635819143,
          0.005460174678069765,
          0.00611521976047057,
          0.005778193380176085,
          0.005919097143314392,
          0.005750508320486805,
          0.005568166227490413,
          0.0053375851773739165,
          0.005425169750302545,
          0.006671355352769853,
          0.0067923291956305185,
          0.0061485024439650185,
          0.005935429371825413,
          0.005788984045197496,
          0.005582305651024366,
          0.005609847834832348,
          0.006096123395303646,
          0.006398779192004464,
          0.005622201982497572,
          0.005625258272069743,
          0.005586014189517485,
          0.005689448633775423,
          0.00587313684405701,
          0.006915629704698306,
          0.006803695154909437,
          0.006263692948856829,
          0.006172540612067384
         ],
         "yaxis": "y"
        },
        {
         "alignmentgroup": "True",
         "bingroup": "x",
         "histfunc": "sum",
         "hovertemplate": "nombre=Residuos renovables<br>Valores=%{x}<br>sum of Porcentaje=%{y}<extra></extra>",
         "legendgroup": "Residuos renovables",
         "marker": {
          "color": "#FF6692",
          "pattern": {
           "shape": ""
          }
         },
         "name": "Residuos renovables",
         "nbinsx": 200,
         "offsetgroup": "Residuos renovables",
         "orientation": "v",
         "showlegend": true,
         "type": "histogram",
         "x": [
          2417.2605,
          2421.2415,
          2066.7095,
          1570.63,
          2298.9115,
          2406.3415,
          2384.065,
          2473.136,
          2605.383,
          2620.964,
          2560.2315,
          2416.424,
          2390.6595,
          2478.807,
          2549.512,
          2650.328,
          2538.8175,
          2655.089,
          2660.421,
          2616.346,
          2606.464,
          2674.2125,
          2715.025,
          2691.2915,
          2713.163,
          2732.902,
          2738.779,
          2595.3435,
          2419.7675,
          2437.8145,
          2494.276
         ],
         "xaxis": "x",
         "y": [
          0.0037364826747273497,
          0.003498195047103916,
          0.002814652406482222,
          0.0020648335707634047,
          0.003136342170897168,
          0.003421579503167839,
          0.0039154419123831824,
          0.003803275991615155,
          0.003919821615448345,
          0.003734220801926682,
          0.003583250268692878,
          0.0033056295265199084,
          0.0033293182016110195,
          0.003990916809760786,
          0.004249942214310291,
          0.0038988976947173497,
          0.003698572972387635,
          0.003658220108097539,
          0.0036833393474638722,
          0.0037490282008541265,
          0.0040684861438786074,
          0.00431978960593922,
          0.003794325307119751,
          0.003783562853451634,
          0.0037654640855450832,
          0.0038570671570408803,
          0.003951856045022184,
          0.004233654070033497,
          0.004096998519871257,
          0.003675224454352419,
          0.0036211120976186646
         ],
         "yaxis": "y"
        },
        {
         "alignmentgroup": "True",
         "bingroup": "x",
         "histfunc": "sum",
         "hovertemplate": "nombre=Generación total<br>Valores=%{x}<br>sum of Porcentaje=%{y}<extra></extra>",
         "legendgroup": "Generación total",
         "marker": {
          "color": "#B6E880",
          "pattern": {
           "shape": ""
          }
         },
         "name": "Generación total",
         "nbinsx": 200,
         "offsetgroup": "Generación total",
         "orientation": "v",
         "showlegend": true,
         "type": "histogram",
         "x": [
          646934.754,
          692140.223,
          734268.1089999998,
          760656.947,
          732991.2920000001,
          703283.8189999999,
          608887.8479999999,
          650264.6680000001,
          664668.7670000001,
          701877.082,
          714499.772,
          731002.6669999999,
          718062.785,
          621112.1700000002,
          599893.3329999999,
          679763.412,
          686431.637,
          725787.1099999999,
          722285.0649999998,
          697873.1180000001,
          640642.753,
          619060.667,
          715548.8209999999,
          711311.4290000001,
          720538.8049999999,
          708544.054,
          693036.125,
          613026.8219999999,
          590619.569,
          663310.372,
          688814.9090000001
         ],
         "xaxis": "x",
         "y": [
          1,
          1,
          1,
          1,
          1,
          1,
          1,
          1,
          1,
          1,
          1,
          1,
          1,
          1,
          1,
          1,
          1,
          1,
          1,
          1,
          1,
          1,
          1,
          1,
          1,
          1,
          1,
          1,
          1,
          1,
          1
         ],
         "yaxis": "y"
        }
       ],
       "layout": {
        "barmode": "relative",
        "legend": {
         "title": {
          "text": "nombre"
         },
         "tracegroupgap": 0
        },
        "margin": {
         "t": 60
        },
        "template": {
         "data": {
          "bar": [
           {
            "error_x": {
             "color": "#2a3f5f"
            },
            "error_y": {
             "color": "#2a3f5f"
            },
            "marker": {
             "line": {
              "color": "#E5ECF6",
              "width": 0.5
             },
             "pattern": {
              "fillmode": "overlay",
              "size": 10,
              "solidity": 0.2
             }
            },
            "type": "bar"
           }
          ],
          "barpolar": [
           {
            "marker": {
             "line": {
              "color": "#E5ECF6",
              "width": 0.5
             },
             "pattern": {
              "fillmode": "overlay",
              "size": 10,
              "solidity": 0.2
             }
            },
            "type": "barpolar"
           }
          ],
          "carpet": [
           {
            "aaxis": {
             "endlinecolor": "#2a3f5f",
             "gridcolor": "white",
             "linecolor": "white",
             "minorgridcolor": "white",
             "startlinecolor": "#2a3f5f"
            },
            "baxis": {
             "endlinecolor": "#2a3f5f",
             "gridcolor": "white",
             "linecolor": "white",
             "minorgridcolor": "white",
             "startlinecolor": "#2a3f5f"
            },
            "type": "carpet"
           }
          ],
          "choropleth": [
           {
            "colorbar": {
             "outlinewidth": 0,
             "ticks": ""
            },
            "type": "choropleth"
           }
          ],
          "contour": [
           {
            "colorbar": {
             "outlinewidth": 0,
             "ticks": ""
            },
            "colorscale": [
             [
              0,
              "#0d0887"
             ],
             [
              0.1111111111111111,
              "#46039f"
             ],
             [
              0.2222222222222222,
              "#7201a8"
             ],
             [
              0.3333333333333333,
              "#9c179e"
             ],
             [
              0.4444444444444444,
              "#bd3786"
             ],
             [
              0.5555555555555556,
              "#d8576b"
             ],
             [
              0.6666666666666666,
              "#ed7953"
             ],
             [
              0.7777777777777778,
              "#fb9f3a"
             ],
             [
              0.8888888888888888,
              "#fdca26"
             ],
             [
              1,
              "#f0f921"
             ]
            ],
            "type": "contour"
           }
          ],
          "contourcarpet": [
           {
            "colorbar": {
             "outlinewidth": 0,
             "ticks": ""
            },
            "type": "contourcarpet"
           }
          ],
          "heatmap": [
           {
            "colorbar": {
             "outlinewidth": 0,
             "ticks": ""
            },
            "colorscale": [
             [
              0,
              "#0d0887"
             ],
             [
              0.1111111111111111,
              "#46039f"
             ],
             [
              0.2222222222222222,
              "#7201a8"
             ],
             [
              0.3333333333333333,
              "#9c179e"
             ],
             [
              0.4444444444444444,
              "#bd3786"
             ],
             [
              0.5555555555555556,
              "#d8576b"
             ],
             [
              0.6666666666666666,
              "#ed7953"
             ],
             [
              0.7777777777777778,
              "#fb9f3a"
             ],
             [
              0.8888888888888888,
              "#fdca26"
             ],
             [
              1,
              "#f0f921"
             ]
            ],
            "type": "heatmap"
           }
          ],
          "heatmapgl": [
           {
            "colorbar": {
             "outlinewidth": 0,
             "ticks": ""
            },
            "colorscale": [
             [
              0,
              "#0d0887"
             ],
             [
              0.1111111111111111,
              "#46039f"
             ],
             [
              0.2222222222222222,
              "#7201a8"
             ],
             [
              0.3333333333333333,
              "#9c179e"
             ],
             [
              0.4444444444444444,
              "#bd3786"
             ],
             [
              0.5555555555555556,
              "#d8576b"
             ],
             [
              0.6666666666666666,
              "#ed7953"
             ],
             [
              0.7777777777777778,
              "#fb9f3a"
             ],
             [
              0.8888888888888888,
              "#fdca26"
             ],
             [
              1,
              "#f0f921"
             ]
            ],
            "type": "heatmapgl"
           }
          ],
          "histogram": [
           {
            "marker": {
             "pattern": {
              "fillmode": "overlay",
              "size": 10,
              "solidity": 0.2
             }
            },
            "type": "histogram"
           }
          ],
          "histogram2d": [
           {
            "colorbar": {
             "outlinewidth": 0,
             "ticks": ""
            },
            "colorscale": [
             [
              0,
              "#0d0887"
             ],
             [
              0.1111111111111111,
              "#46039f"
             ],
             [
              0.2222222222222222,
              "#7201a8"
             ],
             [
              0.3333333333333333,
              "#9c179e"
             ],
             [
              0.4444444444444444,
              "#bd3786"
             ],
             [
              0.5555555555555556,
              "#d8576b"
             ],
             [
              0.6666666666666666,
              "#ed7953"
             ],
             [
              0.7777777777777778,
              "#fb9f3a"
             ],
             [
              0.8888888888888888,
              "#fdca26"
             ],
             [
              1,
              "#f0f921"
             ]
            ],
            "type": "histogram2d"
           }
          ],
          "histogram2dcontour": [
           {
            "colorbar": {
             "outlinewidth": 0,
             "ticks": ""
            },
            "colorscale": [
             [
              0,
              "#0d0887"
             ],
             [
              0.1111111111111111,
              "#46039f"
             ],
             [
              0.2222222222222222,
              "#7201a8"
             ],
             [
              0.3333333333333333,
              "#9c179e"
             ],
             [
              0.4444444444444444,
              "#bd3786"
             ],
             [
              0.5555555555555556,
              "#d8576b"
             ],
             [
              0.6666666666666666,
              "#ed7953"
             ],
             [
              0.7777777777777778,
              "#fb9f3a"
             ],
             [
              0.8888888888888888,
              "#fdca26"
             ],
             [
              1,
              "#f0f921"
             ]
            ],
            "type": "histogram2dcontour"
           }
          ],
          "mesh3d": [
           {
            "colorbar": {
             "outlinewidth": 0,
             "ticks": ""
            },
            "type": "mesh3d"
           }
          ],
          "parcoords": [
           {
            "line": {
             "colorbar": {
              "outlinewidth": 0,
              "ticks": ""
             }
            },
            "type": "parcoords"
           }
          ],
          "pie": [
           {
            "automargin": true,
            "type": "pie"
           }
          ],
          "scatter": [
           {
            "fillpattern": {
             "fillmode": "overlay",
             "size": 10,
             "solidity": 0.2
            },
            "type": "scatter"
           }
          ],
          "scatter3d": [
           {
            "line": {
             "colorbar": {
              "outlinewidth": 0,
              "ticks": ""
             }
            },
            "marker": {
             "colorbar": {
              "outlinewidth": 0,
              "ticks": ""
             }
            },
            "type": "scatter3d"
           }
          ],
          "scattercarpet": [
           {
            "marker": {
             "colorbar": {
              "outlinewidth": 0,
              "ticks": ""
             }
            },
            "type": "scattercarpet"
           }
          ],
          "scattergeo": [
           {
            "marker": {
             "colorbar": {
              "outlinewidth": 0,
              "ticks": ""
             }
            },
            "type": "scattergeo"
           }
          ],
          "scattergl": [
           {
            "marker": {
             "colorbar": {
              "outlinewidth": 0,
              "ticks": ""
             }
            },
            "type": "scattergl"
           }
          ],
          "scattermapbox": [
           {
            "marker": {
             "colorbar": {
              "outlinewidth": 0,
              "ticks": ""
             }
            },
            "type": "scattermapbox"
           }
          ],
          "scatterpolar": [
           {
            "marker": {
             "colorbar": {
              "outlinewidth": 0,
              "ticks": ""
             }
            },
            "type": "scatterpolar"
           }
          ],
          "scatterpolargl": [
           {
            "marker": {
             "colorbar": {
              "outlinewidth": 0,
              "ticks": ""
             }
            },
            "type": "scatterpolargl"
           }
          ],
          "scatterternary": [
           {
            "marker": {
             "colorbar": {
              "outlinewidth": 0,
              "ticks": ""
             }
            },
            "type": "scatterternary"
           }
          ],
          "surface": [
           {
            "colorbar": {
             "outlinewidth": 0,
             "ticks": ""
            },
            "colorscale": [
             [
              0,
              "#0d0887"
             ],
             [
              0.1111111111111111,
              "#46039f"
             ],
             [
              0.2222222222222222,
              "#7201a8"
             ],
             [
              0.3333333333333333,
              "#9c179e"
             ],
             [
              0.4444444444444444,
              "#bd3786"
             ],
             [
              0.5555555555555556,
              "#d8576b"
             ],
             [
              0.6666666666666666,
              "#ed7953"
             ],
             [
              0.7777777777777778,
              "#fb9f3a"
             ],
             [
              0.8888888888888888,
              "#fdca26"
             ],
             [
              1,
              "#f0f921"
             ]
            ],
            "type": "surface"
           }
          ],
          "table": [
           {
            "cells": {
             "fill": {
              "color": "#EBF0F8"
             },
             "line": {
              "color": "white"
             }
            },
            "header": {
             "fill": {
              "color": "#C8D4E3"
             },
             "line": {
              "color": "white"
             }
            },
            "type": "table"
           }
          ]
         },
         "layout": {
          "annotationdefaults": {
           "arrowcolor": "#2a3f5f",
           "arrowhead": 0,
           "arrowwidth": 1
          },
          "autotypenumbers": "strict",
          "coloraxis": {
           "colorbar": {
            "outlinewidth": 0,
            "ticks": ""
           }
          },
          "colorscale": {
           "diverging": [
            [
             0,
             "#8e0152"
            ],
            [
             0.1,
             "#c51b7d"
            ],
            [
             0.2,
             "#de77ae"
            ],
            [
             0.3,
             "#f1b6da"
            ],
            [
             0.4,
             "#fde0ef"
            ],
            [
             0.5,
             "#f7f7f7"
            ],
            [
             0.6,
             "#e6f5d0"
            ],
            [
             0.7,
             "#b8e186"
            ],
            [
             0.8,
             "#7fbc41"
            ],
            [
             0.9,
             "#4d9221"
            ],
            [
             1,
             "#276419"
            ]
           ],
           "sequential": [
            [
             0,
             "#0d0887"
            ],
            [
             0.1111111111111111,
             "#46039f"
            ],
            [
             0.2222222222222222,
             "#7201a8"
            ],
            [
             0.3333333333333333,
             "#9c179e"
            ],
            [
             0.4444444444444444,
             "#bd3786"
            ],
            [
             0.5555555555555556,
             "#d8576b"
            ],
            [
             0.6666666666666666,
             "#ed7953"
            ],
            [
             0.7777777777777778,
             "#fb9f3a"
            ],
            [
             0.8888888888888888,
             "#fdca26"
            ],
            [
             1,
             "#f0f921"
            ]
           ],
           "sequentialminus": [
            [
             0,
             "#0d0887"
            ],
            [
             0.1111111111111111,
             "#46039f"
            ],
            [
             0.2222222222222222,
             "#7201a8"
            ],
            [
             0.3333333333333333,
             "#9c179e"
            ],
            [
             0.4444444444444444,
             "#bd3786"
            ],
            [
             0.5555555555555556,
             "#d8576b"
            ],
            [
             0.6666666666666666,
             "#ed7953"
            ],
            [
             0.7777777777777778,
             "#fb9f3a"
            ],
            [
             0.8888888888888888,
             "#fdca26"
            ],
            [
             1,
             "#f0f921"
            ]
           ]
          },
          "colorway": [
           "#636efa",
           "#EF553B",
           "#00cc96",
           "#ab63fa",
           "#FFA15A",
           "#19d3f3",
           "#FF6692",
           "#B6E880",
           "#FF97FF",
           "#FECB52"
          ],
          "font": {
           "color": "#2a3f5f"
          },
          "geo": {
           "bgcolor": "white",
           "lakecolor": "white",
           "landcolor": "#E5ECF6",
           "showlakes": true,
           "showland": true,
           "subunitcolor": "white"
          },
          "hoverlabel": {
           "align": "left"
          },
          "hovermode": "closest",
          "mapbox": {
           "style": "light"
          },
          "paper_bgcolor": "white",
          "plot_bgcolor": "#E5ECF6",
          "polar": {
           "angularaxis": {
            "gridcolor": "white",
            "linecolor": "white",
            "ticks": ""
           },
           "bgcolor": "#E5ECF6",
           "radialaxis": {
            "gridcolor": "white",
            "linecolor": "white",
            "ticks": ""
           }
          },
          "scene": {
           "xaxis": {
            "backgroundcolor": "#E5ECF6",
            "gridcolor": "white",
            "gridwidth": 2,
            "linecolor": "white",
            "showbackground": true,
            "ticks": "",
            "zerolinecolor": "white"
           },
           "yaxis": {
            "backgroundcolor": "#E5ECF6",
            "gridcolor": "white",
            "gridwidth": 2,
            "linecolor": "white",
            "showbackground": true,
            "ticks": "",
            "zerolinecolor": "white"
           },
           "zaxis": {
            "backgroundcolor": "#E5ECF6",
            "gridcolor": "white",
            "gridwidth": 2,
            "linecolor": "white",
            "showbackground": true,
            "ticks": "",
            "zerolinecolor": "white"
           }
          },
          "shapedefaults": {
           "line": {
            "color": "#2a3f5f"
           }
          },
          "ternary": {
           "aaxis": {
            "gridcolor": "white",
            "linecolor": "white",
            "ticks": ""
           },
           "baxis": {
            "gridcolor": "white",
            "linecolor": "white",
            "ticks": ""
           },
           "bgcolor": "#E5ECF6",
           "caxis": {
            "gridcolor": "white",
            "linecolor": "white",
            "ticks": ""
           }
          },
          "title": {
           "x": 0.05
          },
          "xaxis": {
           "automargin": true,
           "gridcolor": "white",
           "linecolor": "white",
           "ticks": "",
           "title": {
            "standoff": 15
           },
           "zerolinecolor": "white",
           "zerolinewidth": 2
          },
          "yaxis": {
           "automargin": true,
           "gridcolor": "white",
           "linecolor": "white",
           "ticks": "",
           "title": {
            "standoff": 15
           },
           "zerolinecolor": "white",
           "zerolinewidth": 2
          }
         }
        },
        "xaxis": {
         "anchor": "y",
         "domain": [
          0,
          1
         ],
         "title": {
          "text": "Valores"
         }
        },
        "yaxis": {
         "anchor": "x",
         "domain": [
          0,
          1
         ],
         "title": {
          "text": "sum of Porcentaje"
         }
        }
       }
      }
     },
     "metadata": {},
     "output_type": "display_data"
    }
   ],
   "source": [
    "px.histogram(data_frame= df_generacion,\n",
    "             x = 'Valores',\n",
    "             y = 'Porcentaje',\n",
    "             color = 'nombre',\n",
    "             nbins= 200)"
   ]
  },
  {
   "cell_type": "code",
   "execution_count": 10,
   "metadata": {},
   "outputs": [
    {
     "data": {
      "application/vnd.plotly.v1+json": {
       "config": {
        "plotlyServerURL": "https://plot.ly"
       },
       "data": [
        {
         "alignmentgroup": "True",
         "bingroup": "x",
         "histfunc": "sum",
         "hovertemplate": "tipo de energía=Renovable<br>Valores=%{x}<br>sum of Porcentaje=%{y}<extra></extra>",
         "legendgroup": "Renovable",
         "marker": {
          "color": "#636efa",
          "pattern": {
           "shape": ""
          }
         },
         "name": "Renovable",
         "nbinsx": 50,
         "offsetgroup": "Renovable",
         "orientation": "v",
         "showlegend": true,
         "type": "histogram",
         "x": [
          24805.877,
          31052.893,
          24153.141,
          15558.041,
          31779.909,
          33073.974,
          29080.481,
          20213.244,
          31118.702,
          24335.723,
          23312.579,
          38970.565,
          40808.219,
          44279.829,
          41709.912,
          43508.807,
          27451.729,
          23512.598,
          25842.727,
          27088.352,
          27620.756,
          38745.423,
          41528.037,
          24530.895,
          22871.902,
          41941.542,
          43709.116,
          46674.527,
          38684.046,
          33757.041,
          41595.229,
          75.188,
          71.507,
          24.817,
          71.798,
          82.063,
          97.676,
          42.124,
          43.431,
          49.377,
          50.166,
          40.149,
          54.191,
          69.267,
          93.93,
          95.334,
          28.09,
          -2.192,
          -0.077,
          2.047,
          21.267,
          26.192,
          2.947,
          3.604,
          4.891,
          13.57,
          10.616,
          6.117,
          14.357,
          0.664,
          0.94,
          1.746,
          114384.247,
          102730.916,
          123185.593,
          209534.384,
          127090.677,
          61873.719,
          154352.114,
          300443.625,
          191728.164,
          62212.405,
          80956.323,
          59481.707,
          66702.778,
          119078.548,
          93717.424,
          48743.75,
          71790.755,
          67340.717,
          123178.884,
          123386.311,
          104358.274,
          50450.433,
          64416.642,
          75517.746,
          59586.819,
          53814.25,
          40364.161,
          46525.945,
          87103.14,
          155090.68,
          78888.568,
          112494.024,
          83969.818,
          73569.331,
          82520.277,
          97003.07,
          115090.681,
          136933.965,
          79274.995,
          132980.176,
          131582.923,
          124631.015,
          133621.346,
          127279.529,
          124437.232,
          130418.849,
          128452.095,
          126417.895,
          130719.556,
          126647.71,
          120708.613,
          121833.444,
          121536.59,
          120719.663,
          118468.114,
          121475.905,
          115051.014,
          118841.884,
          123595.804,
          120410.662,
          88908.629,
          71359.43,
          14430.12,
          6282.017,
          1329.429,
          2883.921,
          4758.746,
          16799.109,
          20321.971,
          5231.198,
          12841.32,
          19952.207,
          22556.123,
          20529.101,
          21103.343,
          19451.213,
          18621.448,
          19664.765,
          19700.118,
          21472.534,
          18326.516,
          16070.137,
          13369.877,
          15051.556,
          12174.059,
          10156.522,
          15608.325,
          14944.868,
          15093.094,
          16531.887,
          16134.804,
          4994.006,
          3828.743,
          10622.483,
          10810.377,
          9479.58,
          7427.447,
          7905.733,
          8720.434,
          8346.948,
          8637.511,
          8869.273,
          8997.682,
          7588.529,
          7919.28,
          7809.369,
          7817.909,
          7734.386,
          7933.016,
          8141.04,
          7084.88,
          7468.318,
          9853.567,
          10251.645,
          10114.513,
          10828.954,
          10404.026,
          9847.209,
          10101.857,
          10455.201,
          10918.157,
          10905.575,
          10130.513,
          10129.139,
          2298.9115,
          2406.3415,
          2384.065,
          2473.136,
          2605.383,
          2620.964,
          2560.2315,
          2416.424,
          2390.6595,
          2478.807,
          2549.512,
          2650.328,
          2538.8175,
          2655.089,
          2660.421,
          2616.346,
          2606.464,
          2674.2125,
          2715.025,
          2691.2915,
          2713.163,
          2732.902,
          2738.779,
          2595.3435,
          2419.7675,
          2437.8145,
          2494.276,
          2612.149,
          2637.8585,
          2717.26,
          2656.1
         ],
         "xaxis": "x",
         "y": [
          0.03384198048562901,
          0.044154141132031366,
          0.0396676351471544,
          0.02392570558669812,
          0.047813152321628485,
          0.047122174021917984,
          0.0407004762487174,
          0.0276513956959339,
          0.04333702100993857,
          0.03918088257713578,
          0.03886120701394761,
          0.05732960072879004,
          0.059449793395813424,
          0.06100939020534549,
          0.057747161087984014,
          0.06234486739464865,
          0.042849998719341816,
          0.03798107908366568,
          0.03611595217763625,
          0.03808226733834751,
          0.03833347452165752,
          0.054683153124025795,
          0.05992189368194911,
          0.04001602233319573,
          0.03872526953132499,
          0.06323064400989045,
          0.06345553127393182,
          0.07113498025428393,
          0.060860819766609175,
          0.054490160439566865,
          0.07542394870954566,
          0.00010257693484304038,
          0.00010167587831279254,
          0.00004075791639054029,
          0.00011041350319836229,
          0.0001234645045386945,
          0.00013916396831432657,
          0.00005895593203912177,
          0.00005941291593126295,
          0.00006876418195102535,
          0.00008076801972822395,
          0.00006692689815240872,
          0.00007972038365607122,
          0.00010090881053024657,
          0.00012941811545812658,
          0.00013198943826977792,
          0.0000402508697863327,
          0.000003421540304175277,
          1.2438196278617347e-7,
          0.000002860741209997746,
          0.00002989829648863971,
          0.00003635057507735319,
          0.000004159233266249384,
          0.000005200306116798746,
          0.000007978443722973023,
          0.000022975872646712116,
          0.000016004574100041362,
          0.000008880469804116855,
          0.00002188099113485937,
          0.000001044657643231747,
          0.0000015173353260788722,
          0.000003165993254824171,
          0.1560513040856152,
          0.1460731972279317,
          0.20231245114289095,
          0.3222293849125445,
          0.19120904021656845,
          0.08815463645527608,
          0.2160282200901808,
          0.41100209146022176,
          0.2670075207977809,
          0.10016291421241993,
          0.13495119639877715,
          0.08750354307095305,
          0.09717322804572308,
          0.164068149405409,
          0.12975129701733487,
          0.06984614931105569,
          0.1120597453009456,
          0.10877883838815897,
          0.17214602328301512,
          0.17346313579336567,
          0.14483366195708597,
          0.07120295868011052,
          0.09294846210217397,
          0.12318832274519957,
          0.10088866357897465,
          0.08112981836502928,
          0.05859942993771639,
          0.0709085317326708,
          0.13703759179289896,
          0.2503452845846745,
          0.14304735061325197,
          0.15347252447304652,
          0.1193967723008284,
          0.12082575016343572,
          0.12690259991182543,
          0.14594197112318952,
          0.16397555063637195,
          0.19165011713957553,
          0.10844692992070849,
          0.18519296470711819,
          0.21185049875934645,
          0.20775529272301485,
          0.1965703708689752,
          0.18542200291971683,
          0.171451421891469,
          0.18056423331970742,
          0.18406224811771582,
          0.19732843198517253,
          0.21115785649113142,
          0.17699380710739795,
          0.16969868341592467,
          0.1690865818973162,
          0.17153004010672285,
          0.1741895676794626,
          0.19325111030786188,
          0.20567538120295503,
          0.17344974367444385,
          0.17253094038357986,
          0.18836795233195072,
          0.189439636121829,
          0.14351511018610688,
          0.1293948877709608,
          0.01968661859628204,
          0.008932406562307102,
          0.00218337252807187,
          0.004434995690093375,
          0.0071595751692662265,
          0.023934545564774545,
          0.028442235808019266,
          0.00715619550537153,
          0.01788328300567756,
          0.03212335543191819,
          0.037600222838282495,
          0.030200361828241498,
          0.03074354657112053,
          0.026800163204882495,
          0.025781300074368844,
          0.028178137963468592,
          0.030750341119529578,
          0.03468566136250448,
          0.025611831732722544,
          0.02259226598199366,
          0.018555387815496246,
          0.021242936010863765,
          0.017566269002211102,
          0.016567826456376493,
          0.02642703665648437,
          0.02253073166176874,
          0.02191168309918216,
          0.025195658765027294,
          0.025384557711816514,
          0.008061257151542389,
          0.006942597086171397,
          0.014491963432493272,
          0.015371286396680202,
          0.015568679899159363,
          0.011422190633306867,
          0.011894244761466275,
          0.012424446136852205,
          0.011682226261088297,
          0.011815977410107044,
          0.012351667828043754,
          0.014486404283464609,
          0.012649797193195348,
          0.011650053327671599,
          0.011376761470567242,
          0.01077162833602818,
          0.010708218091149375,
          0.01136741879775343,
          0.01270752576546674,
          0.011444562084474088,
          0.010437188603794795,
          0.013852676335951292,
          0.014227748596474974,
          0.014275065809810607,
          0.015625381721623817,
          0.016971567355008817,
          0.01667267648559745,
          0.015229457319566835,
          0.015178534702709226,
          0.01663997329010258,
          0.017157518490341958,
          0.01635253749595878,
          0.018367002148440118,
          0.003136342170897168,
          0.003421579503167839,
          0.0039154419123831824,
          0.003803275991615155,
          0.003919821615448345,
          0.003734220801926682,
          0.003583250268692878,
          0.0033056295265199084,
          0.0033293182016110195,
          0.003990916809760786,
          0.004249942214310291,
          0.0038988976947173497,
          0.003698572972387635,
          0.003658220108097539,
          0.0036833393474638722,
          0.0037490282008541265,
          0.0040684861438786074,
          0.00431978960593922,
          0.003794325307119751,
          0.003783562853451634,
          0.0037654640855450832,
          0.0038570671570408803,
          0.003951856045022184,
          0.004233654070033497,
          0.004096998519871257,
          0.003675224454352419,
          0.0036211120976186646,
          0.003981083033498069,
          0.0041500889213687215,
          0.004386164455469231,
          0.004816262705692142
         ],
         "yaxis": "y"
        },
        {
         "alignmentgroup": "True",
         "bingroup": "x",
         "histfunc": "sum",
         "hovertemplate": "tipo de energía=No-Renovable<br>Valores=%{x}<br>sum of Porcentaje=%{y}<extra></extra>",
         "legendgroup": "No-Renovable",
         "marker": {
          "color": "#EF553B",
          "pattern": {
           "shape": ""
          }
         },
         "name": "No-Renovable",
         "nbinsx": 50,
         "offsetgroup": "No-Renovable",
         "orientation": "v",
         "showlegend": true,
         "type": "histogram",
         "x": [
          8771.07,
          10597.651,
          10799.887,
          11025.302,
          15820.152,
          7985.467,
          12816.753,
          16807.971,
          17313.393,
          16396.046,
          14722.586,
          14649.407,
          10635.073,
          12962.414,
          11135.565,
          11965.273,
          16998.403,
          15326.548,
          13878.93,
          10751.625,
          13195.162,
          7382.646,
          10275.258,
          12323.618,
          13197.372,
          13078.548,
          10481.52,
          15061.23,
          10886.82,
          13480.264,
          12822.74,
          162714.088,
          163691.166,
          163837.034,
          161560.003,
          163891.9,
          164125.743,
          144409.722,
          115413.095,
          127688.454,
          139091.629,
          138517.22,
          138503.073,
          138814.453,
          138487.209,
          138404.139,
          138340.676,
          138174.336,
          137688.802,
          137998.815,
          148363.465,
          159640.052,
          154335.239,
          136990.992,
          137676.308,
          138773.399,
          100722.677,
          93265.672,
          93964.593,
          115515.185,
          130910.227,
          128407.893,
          12937.876,
          12406.252,
          12101.126,
          11523.562,
          12920.307,
          11970.991,
          12904.898,
          13554.938,
          13203.949,
          11660.905,
          10726.508,
          15116.6,
          19459.305,
          19886.878,
          19831.748,
          20136.761,
          12655.73,
          12119.983,
          13778.858,
          12717.874,
          13596.617,
          12795.673,
          12858.636,
          11369.515,
          12236.949,
          16363.071,
          18237.233,
          20324.393,
          17950.377,
          18328.268,
          18290.297,
          -0.001,
          6895.553,
          7183.111,
          7679.592,
          6552.737,
          6491.208,
          6680.791,
          7016.332,
          6738.499,
          6892.66,
          6408.033,
          6302.819,
          7001.324,
          6415.588,
          5918.866,
          5953.527,
          7659,
          7695.346,
          6579.752,
          7235.851,
          7788.375,
          7230.269,
          7838.51,
          7954.891,
          7534.932,
          7311.034,
          8276.692,
          8366.964,
          8138.499,
          7445.251,
          8310.598,
          8323.241,
          2750.667,
          3073.966,
          2141.747,
          1995.216,
          3067.666,
          2371.383,
          2011.431,
          1743.816,
          1558.718,
          1222.198,
          1361.139,
          1900.167,
          2317.929,
          2090.492,
          1939.267,
          1688.733,
          2079.891,
          1658.784,
          2859.899,
          3299.137,
          3058.345,
          3401.781,
          2837.518,
          2112.744,
          2137.769,
          3442.04,
          3338.447,
          3508.775,
          1707.765,
          2989.38,
          1912.767,
          2695.01,
          2756.202,
          2920.999,
          2874.813,
          3206.877,
          3307.667,
          3271.521,
          3408.961,
          3503.892,
          3309.608,
          3177.341,
          4152.895,
          3578.103,
          3392.715,
          3515.335,
          4475.366,
          3878.917,
          3685.595,
          3803.922,
          3988.165,
          4625.621,
          4714.82,
          4918.555,
          4981.017,
          4575.141,
          4450.877,
          4838.719,
          4264.555,
          3501.405,
          4085.773,
          3683.833,
          199849.787,
          207626.946,
          123925.093,
          92830.002,
          133945.575,
          210151.804,
          126742.202,
          105865.509,
          114033.419,
          140609.853,
          117110.974,
          181039.945,
          183858.901,
          171414.065,
          192061.19,
          208050.26,
          154436.88,
          143128.675,
          178589.387,
          171362.465,
          184528.624,
          222286.189,
          206888.211,
          140317.5,
          127960.58,
          220550.181,
          260849.031,
          207359.834,
          150317.111,
          94088.207,
          115573.66,
          53485.942,
          54784.603,
          47632.931,
          37676.674,
          50165.262,
          52970.529,
          49710.625,
          47307.661,
          49995.016,
          48660.325,
          42265.843,
          49993.956,
          50966.696,
          49619.151,
          50454.504,
          50695.218,
          44711.977,
          42106.874,
          49198.972,
          49219.474,
          50465.825,
          53123.607,
          53832.03,
          50794.184,
          48585.432,
          53969.552,
          54221.736,
          52342.178,
          48353.074,
          47680.64,
          49999.61,
          3780.4485,
          3840.0525,
          3723.483,
          3757.355,
          3934.239,
          4036.15,
          3978.4535,
          3901.789,
          3895.6125,
          4143.66,
          4074.673,
          4179.527,
          4074.2665,
          4201.57,
          4032.016,
          3914.962,
          3905.464,
          3961.2335,
          4022.96,
          4001.3105,
          4024.94,
          4031.225,
          4070.296,
          4239.4665,
          4018.3955,
          4154.7725,
          4251.738,
          4303.413,
          4061.1975,
          4034.669,
          4012.702
         ],
         "xaxis": "x2",
         "y": [
          0.011966131242934327,
          0.015068811074124827,
          0.01773707101475936,
          0.016955099273516117,
          0.023801557686251258,
          0.011377301246602035,
          0.017938078502283974,
          0.02299303649462609,
          0.02411125233290011,
          0.026397882366400893,
          0.02454200637032251,
          0.021550743599009707,
          0.015493273367293822,
          0.017859801891494054,
          0.015417133123194237,
          0.017145341597754445,
          0.02653317562550818,
          0.024757741856837684,
          0.019396202736528586,
          0.015115214745129588,
          0.01831290955019998,
          0.010419459394687122,
          0.014826439242254507,
          0.020102901794401423,
          0.0223449622950099,
          0.019717086528536903,
          0.015216743805990992,
          0.02295428293585554,
          0.01712801163175941,
          0.021759660395818385,
          0.023251264804332237,
          0.22198638616296135,
          0.23275264065189594,
          0.2690758807851919,
          0.24845268542254548,
          0.24657680357049178,
          0.23383829905419248,
          0.2021130414020622,
          0.15788327486361964,
          0.17782352277175872,
          0.22393962913333343,
          0.23090308289857261,
          0.20375187977901935,
          0.20222618760213118,
          0.19080968384792618,
          0.19161982672312355,
          0.1982318453481396,
          0.2156793155231099,
          0.222415629174504,
          0.19285730190588915,
          0.20857736703117133,
          0.22155649418061116,
          0.21782024438525596,
          0.19766789501773807,
          0.2245844766642201,
          0.23496241283532548,
          0.15184848790514616,
          0.13540019355185007,
          0.14320808152285774,
          0.18173768210780009,
          0.21131352337457893,
          0.23283993304936074,
          0.01765079086369282,
          0.017640462733296586,
          0.019874146018430645,
          0.01772134112013602,
          0.019438715404540736,
          0.01705568012833335,
          0.018061444531853536,
          0.01854293918738877,
          0.018388293162971813,
          0.018774233646073942,
          0.017880692132979586,
          0.022238031251967414,
          0.028348496705433757,
          0.027400428756581257,
          0.027456954270541376,
          0.028854472941598524,
          0.01975460322708037,
          0.019578016551624094,
          0.019256349246364005,
          0.01787947371783337,
          0.018870068992689247,
          0.018059107161740435,
          0.018554063108903594,
          0.01854652128092366,
          0.020718834326330964,
          0.024668800143532205,
          0.026476246030267034,
          0.030975681761816386,
          0.028240961644489998,
          0.029585243087490384,
          0.03316549652390078,
          1.3878503007541691e-9,
          0.00940741462451098,
          0.010213673066179275,
          0.012612490174052547,
          0.010077030665304423,
          0.00976607947037776,
          0.009518462949328782,
          0.00981992195793171,
          0.009218159254677522,
          0.009598965639195463,
          0.010317030175080934,
          0.010506566173156656,
          0.010299648195834347,
          0.009346288332569962,
          0.008155099365156817,
          0.008242627860511003,
          0.01097477435719196,
          0.01201183234195894,
          0.010628603485795462,
          0.010112309303909817,
          0.010949317953388316,
          0.010034531006183544,
          0.011062840702351022,
          0.01147832084510746,
          0.012291357783363027,
          0.012378584089888156,
          0.012477857047590385,
          0.012146897360492525,
          0.012403595770011969,
          0.011713461389953024,
          0.013414855240681301,
          0.015092396829482237,
          0.0037526598610669436,
          0.004370875480074141,
          0.0035174737138127287,
          0.0030683137162236217,
          0.004615330450753676,
          0.003378630049071754,
          0.0028151597506737903,
          0.0023855125004626013,
          0.002170726616893257,
          0.0019677572893153903,
          0.0022689683734158123,
          0.0027953357983909848,
          0.003376780548941977,
          0.0028803101780079843,
          0.0026849053012054187,
          0.002419828126980526,
          0.0032465469364924364,
          0.002679517009848052,
          0.00399679087725029,
          0.004638104865878655,
          0.004244525028060009,
          0.0048010860874431955,
          0.004094329137604479,
          0.0034464136383252743,
          0.003619536351664636,
          0.0051891846491434026,
          0.0048466532248070135,
          0.005347598709285797,
          0.002686791807369977,
          0.004825416890503893,
          0.003468389129467506,
          0.003676728536087438,
          0.003919046515131042,
          0.00479726933226626,
          0.004420989085631821,
          0.004824774623417801,
          0.004712601515032799,
          0.004578757234368999,
          0.004663404326539893,
          0.00487964572624384,
          0.005328519001648284,
          0.005296509938042603,
          0.0061093241070173995,
          0.00521261376535301,
          0.0046745319023370376,
          0.004866963433613294,
          0.006412864866934162,
          0.00605468560768734,
          0.005953526495258533,
          0.005316090095269685,
          0.0056067776186399495,
          0.0064196694960248,
          0.0066542369149568785,
          0.007097112001196186,
          0.0081252839537256,
          0.007746341706466552,
          0.006710097094637321,
          0.007024701319291565,
          0.006499456024874292,
          0.0055086889989455655,
          0.006595199688552396,
          0.0066798341522902,
          0.27264960604743443,
          0.295224972323727,
          0.2035269605183515,
          0.1427572595717287,
          0.20152229448747364,
          0.2994139706074631,
          0.1773859236444935,
          0.1448223293554687,
          0.15880703105926872,
          0.2263839927657511,
          0.1952196624928986,
          0.26632787496953425,
          0.2678473588477683,
          0.23617678329944441,
          0.2659077410108155,
          0.2981204672222379,
          0.24106387288826675,
          0.23120292892836775,
          0.24958379045390114,
          0.24091060260469957,
          0.256098106316153,
          0.3137224675658629,
          0.2985244254042313,
          0.22889292109962525,
          0.21665482607807057,
          0.33249921953579825,
          0.37869248704081104,
          0.31602971996098844,
          0.23649084173895318,
          0.1518759151580015,
          0.2095678281760264,
          0.07296940984668614,
          0.07789828447624217,
          0.07822939997317865,
          0.057940521535455765,
          0.0754740774512728,
          0.07546980854405501,
          0.06957402500052862,
          0.06471612640504909,
          0.06962485320834445,
          0.07834386017585195,
          0.07045559714530118,
          0.0735461119522567,
          0.07424875727282366,
          0.06836598544716509,
          0.06985400424969332,
          0.07264245704904769,
          0.06979189387995345,
          0.06801734590792333,
          0.06875697444549352,
          0.06919539317566623,
          0.07003901040405726,
          0.07497572903208641,
          0.07767564786034782,
          0.0828580123693185,
          0.08226180531447985,
          0.08136395008760695,
          0.07871742508987997,
          0.07977284480025292,
          0.07607290410820823,
          0.07696544621494608,
          0.09066347537447833,
          0.005157562635819143,
          0.005460174678069765,
          0.00611521976047057,
          0.005778193380176085,
          0.005919097143314392,
          0.005750508320486805,
          0.005568166227490413,
          0.0053375851773739165,
          0.005425169750302545,
          0.006671355352769853,
          0.0067923291956305185,
          0.0061485024439650185,
          0.005935429371825413,
          0.005788984045197496,
          0.005582305651024366,
          0.005609847834832348,
          0.006096123395303646,
          0.006398779192004464,
          0.005622201982497572,
          0.005625258272069743,
          0.005586014189517485,
          0.005689448633775423,
          0.00587313684405701,
          0.006915629704698306,
          0.006803695154909437,
          0.006263692948856829,
          0.006172540612067384,
          0.006558678115388909,
          0.006389399110013047,
          0.006512708300782252,
          0.0072761669333444795
         ],
         "yaxis": "y2"
        },
        {
         "alignmentgroup": "True",
         "bingroup": "x",
         "histfunc": "sum",
         "hovertemplate": "tipo de energía=Generación total<br>Valores=%{x}<br>sum of Porcentaje=%{y}<extra></extra>",
         "legendgroup": "Generación total",
         "marker": {
          "color": "#00cc96",
          "pattern": {
           "shape": ""
          }
         },
         "name": "Generación total",
         "nbinsx": 50,
         "offsetgroup": "Generación total",
         "orientation": "v",
         "showlegend": true,
         "type": "histogram",
         "x": [
          732991.2920000001,
          703283.8189999999,
          608887.8479999999,
          650264.6680000001,
          664668.7670000001,
          701877.082,
          714499.772,
          731002.6669999999,
          718062.785,
          621112.1700000002,
          599893.3329999999,
          679763.412,
          686431.637,
          725787.1099999999,
          722285.0649999998,
          697873.1180000001,
          640642.753,
          619060.667,
          715548.8209999999,
          711311.4290000001,
          720538.8049999999,
          708544.054,
          693036.125,
          613026.8219999999,
          590619.569,
          663310.372,
          688814.9090000001,
          656140.2959999999,
          635614.9349999999,
          619507.0950000001,
          551485.6980000001
         ],
         "xaxis": "x3",
         "y": [
          1,
          1,
          1,
          1,
          1,
          1,
          1,
          1,
          1,
          1,
          1,
          1,
          1,
          1,
          1,
          1,
          1,
          1,
          1,
          1,
          1,
          1,
          1,
          1,
          1,
          1,
          1,
          1,
          1,
          1,
          1
         ],
         "yaxis": "y3"
        }
       ],
       "layout": {
        "annotations": [
         {
          "font": {},
          "showarrow": false,
          "text": "tipo de energía=Renovable",
          "x": 0.15999999999999998,
          "xanchor": "center",
          "xref": "paper",
          "y": 1,
          "yanchor": "bottom",
          "yref": "paper"
         },
         {
          "font": {},
          "showarrow": false,
          "text": "tipo de energía=No-Renovable",
          "x": 0.49999999999999994,
          "xanchor": "center",
          "xref": "paper",
          "y": 1,
          "yanchor": "bottom",
          "yref": "paper"
         },
         {
          "font": {},
          "showarrow": false,
          "text": "tipo de energía=Generación total",
          "x": 0.8399999999999999,
          "xanchor": "center",
          "xref": "paper",
          "y": 1,
          "yanchor": "bottom",
          "yref": "paper"
         }
        ],
        "barmode": "relative",
        "legend": {
         "title": {
          "text": "tipo de energía"
         },
         "tracegroupgap": 0
        },
        "template": {
         "data": {
          "bar": [
           {
            "error_x": {
             "color": "#2a3f5f"
            },
            "error_y": {
             "color": "#2a3f5f"
            },
            "marker": {
             "line": {
              "color": "#E5ECF6",
              "width": 0.5
             },
             "pattern": {
              "fillmode": "overlay",
              "size": 10,
              "solidity": 0.2
             }
            },
            "type": "bar"
           }
          ],
          "barpolar": [
           {
            "marker": {
             "line": {
              "color": "#E5ECF6",
              "width": 0.5
             },
             "pattern": {
              "fillmode": "overlay",
              "size": 10,
              "solidity": 0.2
             }
            },
            "type": "barpolar"
           }
          ],
          "carpet": [
           {
            "aaxis": {
             "endlinecolor": "#2a3f5f",
             "gridcolor": "white",
             "linecolor": "white",
             "minorgridcolor": "white",
             "startlinecolor": "#2a3f5f"
            },
            "baxis": {
             "endlinecolor": "#2a3f5f",
             "gridcolor": "white",
             "linecolor": "white",
             "minorgridcolor": "white",
             "startlinecolor": "#2a3f5f"
            },
            "type": "carpet"
           }
          ],
          "choropleth": [
           {
            "colorbar": {
             "outlinewidth": 0,
             "ticks": ""
            },
            "type": "choropleth"
           }
          ],
          "contour": [
           {
            "colorbar": {
             "outlinewidth": 0,
             "ticks": ""
            },
            "colorscale": [
             [
              0,
              "#0d0887"
             ],
             [
              0.1111111111111111,
              "#46039f"
             ],
             [
              0.2222222222222222,
              "#7201a8"
             ],
             [
              0.3333333333333333,
              "#9c179e"
             ],
             [
              0.4444444444444444,
              "#bd3786"
             ],
             [
              0.5555555555555556,
              "#d8576b"
             ],
             [
              0.6666666666666666,
              "#ed7953"
             ],
             [
              0.7777777777777778,
              "#fb9f3a"
             ],
             [
              0.8888888888888888,
              "#fdca26"
             ],
             [
              1,
              "#f0f921"
             ]
            ],
            "type": "contour"
           }
          ],
          "contourcarpet": [
           {
            "colorbar": {
             "outlinewidth": 0,
             "ticks": ""
            },
            "type": "contourcarpet"
           }
          ],
          "heatmap": [
           {
            "colorbar": {
             "outlinewidth": 0,
             "ticks": ""
            },
            "colorscale": [
             [
              0,
              "#0d0887"
             ],
             [
              0.1111111111111111,
              "#46039f"
             ],
             [
              0.2222222222222222,
              "#7201a8"
             ],
             [
              0.3333333333333333,
              "#9c179e"
             ],
             [
              0.4444444444444444,
              "#bd3786"
             ],
             [
              0.5555555555555556,
              "#d8576b"
             ],
             [
              0.6666666666666666,
              "#ed7953"
             ],
             [
              0.7777777777777778,
              "#fb9f3a"
             ],
             [
              0.8888888888888888,
              "#fdca26"
             ],
             [
              1,
              "#f0f921"
             ]
            ],
            "type": "heatmap"
           }
          ],
          "heatmapgl": [
           {
            "colorbar": {
             "outlinewidth": 0,
             "ticks": ""
            },
            "colorscale": [
             [
              0,
              "#0d0887"
             ],
             [
              0.1111111111111111,
              "#46039f"
             ],
             [
              0.2222222222222222,
              "#7201a8"
             ],
             [
              0.3333333333333333,
              "#9c179e"
             ],
             [
              0.4444444444444444,
              "#bd3786"
             ],
             [
              0.5555555555555556,
              "#d8576b"
             ],
             [
              0.6666666666666666,
              "#ed7953"
             ],
             [
              0.7777777777777778,
              "#fb9f3a"
             ],
             [
              0.8888888888888888,
              "#fdca26"
             ],
             [
              1,
              "#f0f921"
             ]
            ],
            "type": "heatmapgl"
           }
          ],
          "histogram": [
           {
            "marker": {
             "pattern": {
              "fillmode": "overlay",
              "size": 10,
              "solidity": 0.2
             }
            },
            "type": "histogram"
           }
          ],
          "histogram2d": [
           {
            "colorbar": {
             "outlinewidth": 0,
             "ticks": ""
            },
            "colorscale": [
             [
              0,
              "#0d0887"
             ],
             [
              0.1111111111111111,
              "#46039f"
             ],
             [
              0.2222222222222222,
              "#7201a8"
             ],
             [
              0.3333333333333333,
              "#9c179e"
             ],
             [
              0.4444444444444444,
              "#bd3786"
             ],
             [
              0.5555555555555556,
              "#d8576b"
             ],
             [
              0.6666666666666666,
              "#ed7953"
             ],
             [
              0.7777777777777778,
              "#fb9f3a"
             ],
             [
              0.8888888888888888,
              "#fdca26"
             ],
             [
              1,
              "#f0f921"
             ]
            ],
            "type": "histogram2d"
           }
          ],
          "histogram2dcontour": [
           {
            "colorbar": {
             "outlinewidth": 0,
             "ticks": ""
            },
            "colorscale": [
             [
              0,
              "#0d0887"
             ],
             [
              0.1111111111111111,
              "#46039f"
             ],
             [
              0.2222222222222222,
              "#7201a8"
             ],
             [
              0.3333333333333333,
              "#9c179e"
             ],
             [
              0.4444444444444444,
              "#bd3786"
             ],
             [
              0.5555555555555556,
              "#d8576b"
             ],
             [
              0.6666666666666666,
              "#ed7953"
             ],
             [
              0.7777777777777778,
              "#fb9f3a"
             ],
             [
              0.8888888888888888,
              "#fdca26"
             ],
             [
              1,
              "#f0f921"
             ]
            ],
            "type": "histogram2dcontour"
           }
          ],
          "mesh3d": [
           {
            "colorbar": {
             "outlinewidth": 0,
             "ticks": ""
            },
            "type": "mesh3d"
           }
          ],
          "parcoords": [
           {
            "line": {
             "colorbar": {
              "outlinewidth": 0,
              "ticks": ""
             }
            },
            "type": "parcoords"
           }
          ],
          "pie": [
           {
            "automargin": true,
            "type": "pie"
           }
          ],
          "scatter": [
           {
            "fillpattern": {
             "fillmode": "overlay",
             "size": 10,
             "solidity": 0.2
            },
            "type": "scatter"
           }
          ],
          "scatter3d": [
           {
            "line": {
             "colorbar": {
              "outlinewidth": 0,
              "ticks": ""
             }
            },
            "marker": {
             "colorbar": {
              "outlinewidth": 0,
              "ticks": ""
             }
            },
            "type": "scatter3d"
           }
          ],
          "scattercarpet": [
           {
            "marker": {
             "colorbar": {
              "outlinewidth": 0,
              "ticks": ""
             }
            },
            "type": "scattercarpet"
           }
          ],
          "scattergeo": [
           {
            "marker": {
             "colorbar": {
              "outlinewidth": 0,
              "ticks": ""
             }
            },
            "type": "scattergeo"
           }
          ],
          "scattergl": [
           {
            "marker": {
             "colorbar": {
              "outlinewidth": 0,
              "ticks": ""
             }
            },
            "type": "scattergl"
           }
          ],
          "scattermapbox": [
           {
            "marker": {
             "colorbar": {
              "outlinewidth": 0,
              "ticks": ""
             }
            },
            "type": "scattermapbox"
           }
          ],
          "scatterpolar": [
           {
            "marker": {
             "colorbar": {
              "outlinewidth": 0,
              "ticks": ""
             }
            },
            "type": "scatterpolar"
           }
          ],
          "scatterpolargl": [
           {
            "marker": {
             "colorbar": {
              "outlinewidth": 0,
              "ticks": ""
             }
            },
            "type": "scatterpolargl"
           }
          ],
          "scatterternary": [
           {
            "marker": {
             "colorbar": {
              "outlinewidth": 0,
              "ticks": ""
             }
            },
            "type": "scatterternary"
           }
          ],
          "surface": [
           {
            "colorbar": {
             "outlinewidth": 0,
             "ticks": ""
            },
            "colorscale": [
             [
              0,
              "#0d0887"
             ],
             [
              0.1111111111111111,
              "#46039f"
             ],
             [
              0.2222222222222222,
              "#7201a8"
             ],
             [
              0.3333333333333333,
              "#9c179e"
             ],
             [
              0.4444444444444444,
              "#bd3786"
             ],
             [
              0.5555555555555556,
              "#d8576b"
             ],
             [
              0.6666666666666666,
              "#ed7953"
             ],
             [
              0.7777777777777778,
              "#fb9f3a"
             ],
             [
              0.8888888888888888,
              "#fdca26"
             ],
             [
              1,
              "#f0f921"
             ]
            ],
            "type": "surface"
           }
          ],
          "table": [
           {
            "cells": {
             "fill": {
              "color": "#EBF0F8"
             },
             "line": {
              "color": "white"
             }
            },
            "header": {
             "fill": {
              "color": "#C8D4E3"
             },
             "line": {
              "color": "white"
             }
            },
            "type": "table"
           }
          ]
         },
         "layout": {
          "annotationdefaults": {
           "arrowcolor": "#2a3f5f",
           "arrowhead": 0,
           "arrowwidth": 1
          },
          "autotypenumbers": "strict",
          "coloraxis": {
           "colorbar": {
            "outlinewidth": 0,
            "ticks": ""
           }
          },
          "colorscale": {
           "diverging": [
            [
             0,
             "#8e0152"
            ],
            [
             0.1,
             "#c51b7d"
            ],
            [
             0.2,
             "#de77ae"
            ],
            [
             0.3,
             "#f1b6da"
            ],
            [
             0.4,
             "#fde0ef"
            ],
            [
             0.5,
             "#f7f7f7"
            ],
            [
             0.6,
             "#e6f5d0"
            ],
            [
             0.7,
             "#b8e186"
            ],
            [
             0.8,
             "#7fbc41"
            ],
            [
             0.9,
             "#4d9221"
            ],
            [
             1,
             "#276419"
            ]
           ],
           "sequential": [
            [
             0,
             "#0d0887"
            ],
            [
             0.1111111111111111,
             "#46039f"
            ],
            [
             0.2222222222222222,
             "#7201a8"
            ],
            [
             0.3333333333333333,
             "#9c179e"
            ],
            [
             0.4444444444444444,
             "#bd3786"
            ],
            [
             0.5555555555555556,
             "#d8576b"
            ],
            [
             0.6666666666666666,
             "#ed7953"
            ],
            [
             0.7777777777777778,
             "#fb9f3a"
            ],
            [
             0.8888888888888888,
             "#fdca26"
            ],
            [
             1,
             "#f0f921"
            ]
           ],
           "sequentialminus": [
            [
             0,
             "#0d0887"
            ],
            [
             0.1111111111111111,
             "#46039f"
            ],
            [
             0.2222222222222222,
             "#7201a8"
            ],
            [
             0.3333333333333333,
             "#9c179e"
            ],
            [
             0.4444444444444444,
             "#bd3786"
            ],
            [
             0.5555555555555556,
             "#d8576b"
            ],
            [
             0.6666666666666666,
             "#ed7953"
            ],
            [
             0.7777777777777778,
             "#fb9f3a"
            ],
            [
             0.8888888888888888,
             "#fdca26"
            ],
            [
             1,
             "#f0f921"
            ]
           ]
          },
          "colorway": [
           "#636efa",
           "#EF553B",
           "#00cc96",
           "#ab63fa",
           "#FFA15A",
           "#19d3f3",
           "#FF6692",
           "#B6E880",
           "#FF97FF",
           "#FECB52"
          ],
          "font": {
           "color": "#2a3f5f"
          },
          "geo": {
           "bgcolor": "white",
           "lakecolor": "white",
           "landcolor": "#E5ECF6",
           "showlakes": true,
           "showland": true,
           "subunitcolor": "white"
          },
          "hoverlabel": {
           "align": "left"
          },
          "hovermode": "closest",
          "mapbox": {
           "style": "light"
          },
          "paper_bgcolor": "white",
          "plot_bgcolor": "#E5ECF6",
          "polar": {
           "angularaxis": {
            "gridcolor": "white",
            "linecolor": "white",
            "ticks": ""
           },
           "bgcolor": "#E5ECF6",
           "radialaxis": {
            "gridcolor": "white",
            "linecolor": "white",
            "ticks": ""
           }
          },
          "scene": {
           "xaxis": {
            "backgroundcolor": "#E5ECF6",
            "gridcolor": "white",
            "gridwidth": 2,
            "linecolor": "white",
            "showbackground": true,
            "ticks": "",
            "zerolinecolor": "white"
           },
           "yaxis": {
            "backgroundcolor": "#E5ECF6",
            "gridcolor": "white",
            "gridwidth": 2,
            "linecolor": "white",
            "showbackground": true,
            "ticks": "",
            "zerolinecolor": "white"
           },
           "zaxis": {
            "backgroundcolor": "#E5ECF6",
            "gridcolor": "white",
            "gridwidth": 2,
            "linecolor": "white",
            "showbackground": true,
            "ticks": "",
            "zerolinecolor": "white"
           }
          },
          "shapedefaults": {
           "line": {
            "color": "#2a3f5f"
           }
          },
          "ternary": {
           "aaxis": {
            "gridcolor": "white",
            "linecolor": "white",
            "ticks": ""
           },
           "baxis": {
            "gridcolor": "white",
            "linecolor": "white",
            "ticks": ""
           },
           "bgcolor": "#E5ECF6",
           "caxis": {
            "gridcolor": "white",
            "linecolor": "white",
            "ticks": ""
           }
          },
          "title": {
           "x": 0.05
          },
          "xaxis": {
           "automargin": true,
           "gridcolor": "white",
           "linecolor": "white",
           "ticks": "",
           "title": {
            "standoff": 15
           },
           "zerolinecolor": "white",
           "zerolinewidth": 2
          },
          "yaxis": {
           "automargin": true,
           "gridcolor": "white",
           "linecolor": "white",
           "ticks": "",
           "title": {
            "standoff": 15
           },
           "zerolinecolor": "white",
           "zerolinewidth": 2
          }
         }
        },
        "title": {
         "text": "Histograma por su tipo de energía"
        },
        "xaxis": {
         "anchor": "y",
         "domain": [
          0,
          0.31999999999999995
         ],
         "title": {
          "text": "Valores"
         }
        },
        "xaxis2": {
         "anchor": "y2",
         "domain": [
          0.33999999999999997,
          0.6599999999999999
         ],
         "matches": "x",
         "title": {
          "text": "Valores"
         }
        },
        "xaxis3": {
         "anchor": "y3",
         "domain": [
          0.6799999999999999,
          0.9999999999999999
         ],
         "matches": "x",
         "title": {
          "text": "Valores"
         }
        },
        "yaxis": {
         "anchor": "x",
         "domain": [
          0,
          1
         ],
         "title": {
          "text": "sum of Porcentaje"
         }
        },
        "yaxis2": {
         "anchor": "x2",
         "domain": [
          0,
          1
         ],
         "matches": "y",
         "showticklabels": false
        },
        "yaxis3": {
         "anchor": "x3",
         "domain": [
          0,
          1
         ],
         "matches": "y",
         "showticklabels": false
        }
       }
      }
     },
     "metadata": {},
     "output_type": "display_data"
    }
   ],
   "source": [
    "px.histogram(data_frame= df_generacion,\n",
    "             x = 'Valores',\n",
    "             y = 'Porcentaje',\n",
    "             color = 'tipo de energía',\n",
    "             title= 'Histograma por su tipo de energía',\n",
    "             facet_col= 'tipo de energía',\n",
    "             nbins= 50)"
   ]
  },
  {
   "cell_type": "code",
   "execution_count": 37,
   "metadata": {},
   "outputs": [
    {
     "data": {
      "application/vnd.plotly.v1+json": {
       "config": {
        "plotlyServerURL": "https://plot.ly"
       },
       "data": [
        {
         "alignmentgroup": "True",
         "box": {
          "visible": false
         },
         "hovertemplate": "nombre=%{x}<br>Valores=%{y}<extra></extra>",
         "legendgroup": "Hidráulica",
         "marker": {
          "color": "#636efa"
         },
         "name": "Hidráulica",
         "offsetgroup": "Hidráulica",
         "orientation": "v",
         "points": "suspectedoutliers",
         "scalegroup": "True",
         "showlegend": true,
         "type": "violin",
         "x": [
          "Hidráulica",
          "Hidráulica",
          "Hidráulica",
          "Hidráulica",
          "Hidráulica",
          "Hidráulica",
          "Hidráulica",
          "Hidráulica",
          "Hidráulica",
          "Hidráulica",
          "Hidráulica",
          "Hidráulica",
          "Hidráulica",
          "Hidráulica",
          "Hidráulica",
          "Hidráulica",
          "Hidráulica",
          "Hidráulica",
          "Hidráulica",
          "Hidráulica",
          "Hidráulica",
          "Hidráulica",
          "Hidráulica",
          "Hidráulica",
          "Hidráulica",
          "Hidráulica",
          "Hidráulica",
          "Hidráulica",
          "Hidráulica",
          "Hidráulica",
          "Hidráulica"
         ],
         "x0": " ",
         "xaxis": "x",
         "y": [
          22677.543,
          34410.083,
          36184.276,
          27251.012,
          24805.877,
          31052.893,
          24153.141,
          15558.041,
          31779.909,
          33073.974,
          29080.481,
          20213.244,
          31118.702,
          24335.723,
          23312.579,
          38970.565,
          40808.219,
          44279.829,
          41709.912,
          43508.807,
          27451.729,
          23512.598,
          25842.727,
          27088.352,
          27620.756,
          38745.423,
          41528.037,
          24530.895,
          22871.902,
          41941.542,
          43709.116
         ],
         "y0": " ",
         "yaxis": "y"
        },
        {
         "alignmentgroup": "True",
         "box": {
          "visible": false
         },
         "hovertemplate": "nombre=%{x}<br>Valores=%{y}<extra></extra>",
         "legendgroup": "Turbinación bombeo",
         "marker": {
          "color": "#EF553B"
         },
         "name": "Turbinación bombeo",
         "offsetgroup": "Turbinación bombeo",
         "orientation": "v",
         "points": "suspectedoutliers",
         "scalegroup": "True",
         "showlegend": true,
         "type": "violin",
         "x": [
          "Turbinación bombeo",
          "Turbinación bombeo",
          "Turbinación bombeo",
          "Turbinación bombeo",
          "Turbinación bombeo",
          "Turbinación bombeo",
          "Turbinación bombeo",
          "Turbinación bombeo",
          "Turbinación bombeo",
          "Turbinación bombeo",
          "Turbinación bombeo",
          "Turbinación bombeo",
          "Turbinación bombeo",
          "Turbinación bombeo",
          "Turbinación bombeo",
          "Turbinación bombeo",
          "Turbinación bombeo",
          "Turbinación bombeo",
          "Turbinación bombeo",
          "Turbinación bombeo",
          "Turbinación bombeo",
          "Turbinación bombeo",
          "Turbinación bombeo",
          "Turbinación bombeo",
          "Turbinación bombeo",
          "Turbinación bombeo",
          "Turbinación bombeo",
          "Turbinación bombeo",
          "Turbinación bombeo",
          "Turbinación bombeo",
          "Turbinación bombeo"
         ],
         "x0": " ",
         "xaxis": "x",
         "y": [
          12419.169,
          5242.136,
          4400.221,
          7140.595,
          8771.07,
          10597.651,
          10799.887,
          11025.302,
          15820.152,
          7985.467,
          12816.753,
          16807.971,
          17313.393,
          16396.046,
          14722.586,
          14649.407,
          10635.073,
          12962.414,
          11135.565,
          11965.273,
          16998.403,
          15326.548,
          13878.93,
          10751.625,
          13195.162,
          7382.646,
          10275.258,
          12323.618,
          13197.372,
          13078.548,
          10481.52
         ],
         "y0": " ",
         "yaxis": "y"
        },
        {
         "alignmentgroup": "True",
         "box": {
          "visible": false
         },
         "hovertemplate": "nombre=%{x}<br>Valores=%{y}<extra></extra>",
         "legendgroup": "Nuclear",
         "marker": {
          "color": "#00cc96"
         },
         "name": "Nuclear",
         "offsetgroup": "Nuclear",
         "orientation": "v",
         "points": "suspectedoutliers",
         "scalegroup": "True",
         "showlegend": true,
         "type": "violin",
         "x": [
          "Nuclear",
          "Nuclear",
          "Nuclear",
          "Nuclear",
          "Nuclear",
          "Nuclear",
          "Nuclear",
          "Nuclear",
          "Nuclear",
          "Nuclear",
          "Nuclear",
          "Nuclear",
          "Nuclear",
          "Nuclear",
          "Nuclear",
          "Nuclear",
          "Nuclear",
          "Nuclear",
          "Nuclear",
          "Nuclear",
          "Nuclear",
          "Nuclear",
          "Nuclear",
          "Nuclear",
          "Nuclear",
          "Nuclear",
          "Nuclear",
          "Nuclear",
          "Nuclear",
          "Nuclear",
          "Nuclear"
         ],
         "x0": " ",
         "xaxis": "x",
         "y": [
          163778.663,
          163514.484,
          163486.687,
          163605.227,
          162714.088,
          163691.166,
          163837.034,
          161560.003,
          163891.9,
          164125.743,
          144409.722,
          115413.095,
          127688.454,
          139091.629,
          138517.22,
          138503.073,
          138814.453,
          138487.209,
          138404.139,
          138340.676,
          138174.336,
          137688.802,
          137998.815,
          148363.465,
          159640.052,
          154335.239,
          136990.992,
          137676.308,
          138773.399,
          100722.677,
          93265.672
         ],
         "y0": " ",
         "yaxis": "y"
        },
        {
         "alignmentgroup": "True",
         "box": {
          "visible": false
         },
         "hovertemplate": "nombre=%{x}<br>Valores=%{y}<extra></extra>",
         "legendgroup": "Carbón",
         "marker": {
          "color": "#ab63fa"
         },
         "name": "Carbón",
         "offsetgroup": "Carbón",
         "orientation": "v",
         "points": "suspectedoutliers",
         "scalegroup": "True",
         "showlegend": true,
         "type": "violin",
         "x": [
          "Carbón",
          "Carbón",
          "Carbón",
          "Carbón",
          "Carbón",
          "Carbón",
          "Carbón",
          "Carbón",
          "Carbón",
          "Carbón",
          "Carbón",
          "Carbón",
          "Carbón",
          "Carbón",
          "Carbón",
          "Carbón",
          "Carbón",
          "Carbón",
          "Carbón",
          "Carbón",
          "Carbón",
          "Carbón",
          "Carbón",
          "Carbón",
          "Carbón",
          "Carbón",
          "Carbón",
          "Carbón",
          "Carbón",
          "Carbón",
          "Carbón"
         ],
         "x0": " ",
         "xaxis": "x",
         "y": [
          11475.828,
          13141.731,
          12801.155,
          12728.758,
          12937.876,
          12406.252,
          12101.126,
          11523.562,
          12920.307,
          11970.991,
          12904.898,
          13554.938,
          13203.949,
          11660.905,
          10726.508,
          15116.6,
          19459.305,
          19886.878,
          19831.748,
          20136.761,
          12655.73,
          12119.983,
          13778.858,
          12717.874,
          13596.617,
          12795.673,
          12858.636,
          11369.515,
          12236.949,
          16363.071,
          18237.233
         ],
         "y0": " ",
         "yaxis": "y"
        },
        {
         "alignmentgroup": "True",
         "box": {
          "visible": false
         },
         "hovertemplate": "nombre=%{x}<br>Valores=%{y}<extra></extra>",
         "legendgroup": "Fuel + Gas",
         "marker": {
          "color": "#FFA15A"
         },
         "name": "Fuel + Gas",
         "offsetgroup": "Fuel + Gas",
         "orientation": "v",
         "points": "suspectedoutliers",
         "scalegroup": "True",
         "showlegend": true,
         "type": "violin",
         "x": [
          "Fuel + Gas"
         ],
         "x0": " ",
         "xaxis": "x",
         "y": [
          -0.001
         ],
         "y0": " ",
         "yaxis": "y"
        },
        {
         "alignmentgroup": "True",
         "box": {
          "visible": false
         },
         "hovertemplate": "nombre=%{x}<br>Valores=%{y}<extra></extra>",
         "legendgroup": "Motores diésel",
         "marker": {
          "color": "#19d3f3"
         },
         "name": "Motores diésel",
         "offsetgroup": "Motores diésel",
         "orientation": "v",
         "points": "suspectedoutliers",
         "scalegroup": "True",
         "showlegend": true,
         "type": "violin",
         "x": [
          "Motores diésel",
          "Motores diésel",
          "Motores diésel",
          "Motores diésel",
          "Motores diésel",
          "Motores diésel",
          "Motores diésel",
          "Motores diésel",
          "Motores diésel",
          "Motores diésel",
          "Motores diésel",
          "Motores diésel",
          "Motores diésel",
          "Motores diésel",
          "Motores diésel",
          "Motores diésel",
          "Motores diésel",
          "Motores diésel",
          "Motores diésel",
          "Motores diésel",
          "Motores diésel",
          "Motores diésel",
          "Motores diésel",
          "Motores diésel",
          "Motores diésel",
          "Motores diésel",
          "Motores diésel",
          "Motores diésel",
          "Motores diésel",
          "Motores diésel",
          "Motores diésel"
         ],
         "x0": " ",
         "xaxis": "x",
         "y": [
          8001.976,
          8175.841,
          7349.132,
          6942.373,
          6895.553,
          7183.111,
          7679.592,
          6552.737,
          6491.208,
          6680.791,
          7016.332,
          6738.499,
          6892.66,
          6408.033,
          6302.819,
          7001.324,
          6415.588,
          5918.866,
          5953.527,
          7659,
          7695.346,
          6579.752,
          7235.851,
          7788.375,
          7230.269,
          7838.51,
          7954.891,
          7534.932,
          7311.034,
          8276.692,
          8366.964
         ],
         "y0": " ",
         "yaxis": "y"
        },
        {
         "alignmentgroup": "True",
         "box": {
          "visible": false
         },
         "hovertemplate": "nombre=%{x}<br>Valores=%{y}<extra></extra>",
         "legendgroup": "Turbina de gas",
         "marker": {
          "color": "#FF6692"
         },
         "name": "Turbina de gas",
         "offsetgroup": "Turbina de gas",
         "orientation": "v",
         "points": "suspectedoutliers",
         "scalegroup": "True",
         "showlegend": true,
         "type": "violin",
         "x": [
          "Turbina de gas",
          "Turbina de gas",
          "Turbina de gas",
          "Turbina de gas",
          "Turbina de gas",
          "Turbina de gas",
          "Turbina de gas",
          "Turbina de gas",
          "Turbina de gas",
          "Turbina de gas",
          "Turbina de gas",
          "Turbina de gas",
          "Turbina de gas",
          "Turbina de gas",
          "Turbina de gas",
          "Turbina de gas",
          "Turbina de gas",
          "Turbina de gas",
          "Turbina de gas",
          "Turbina de gas",
          "Turbina de gas",
          "Turbina de gas",
          "Turbina de gas",
          "Turbina de gas",
          "Turbina de gas",
          "Turbina de gas",
          "Turbina de gas",
          "Turbina de gas",
          "Turbina de gas",
          "Turbina de gas",
          "Turbina de gas"
         ],
         "x0": " ",
         "xaxis": "x",
         "y": [
          1914.995,
          2598.356,
          2801.504,
          2773.235,
          2750.667,
          3073.966,
          2141.747,
          1995.216,
          3067.666,
          2371.383,
          2011.431,
          1743.816,
          1558.718,
          1222.198,
          1361.139,
          1900.167,
          2317.929,
          2090.492,
          1939.267,
          1688.733,
          2079.891,
          1658.784,
          2859.899,
          3299.137,
          3058.345,
          3401.781,
          2837.518,
          2112.744,
          2137.769,
          3442.04,
          3338.447
         ],
         "y0": " ",
         "yaxis": "y"
        },
        {
         "alignmentgroup": "True",
         "box": {
          "visible": false
         },
         "hovertemplate": "nombre=%{x}<br>Valores=%{y}<extra></extra>",
         "legendgroup": "Turbina de vapor",
         "marker": {
          "color": "#B6E880"
         },
         "name": "Turbina de vapor",
         "offsetgroup": "Turbina de vapor",
         "orientation": "v",
         "points": "suspectedoutliers",
         "scalegroup": "True",
         "showlegend": true,
         "type": "violin",
         "x": [
          "Turbina de vapor",
          "Turbina de vapor",
          "Turbina de vapor",
          "Turbina de vapor",
          "Turbina de vapor",
          "Turbina de vapor",
          "Turbina de vapor",
          "Turbina de vapor",
          "Turbina de vapor",
          "Turbina de vapor",
          "Turbina de vapor",
          "Turbina de vapor",
          "Turbina de vapor",
          "Turbina de vapor",
          "Turbina de vapor",
          "Turbina de vapor",
          "Turbina de vapor",
          "Turbina de vapor",
          "Turbina de vapor",
          "Turbina de vapor",
          "Turbina de vapor",
          "Turbina de vapor",
          "Turbina de vapor",
          "Turbina de vapor",
          "Turbina de vapor",
          "Turbina de vapor",
          "Turbina de vapor",
          "Turbina de vapor",
          "Turbina de vapor",
          "Turbina de vapor",
          "Turbina de vapor"
         ],
         "x0": " ",
         "xaxis": "x",
         "y": [
          4249.815,
          4804.434,
          3973.953,
          3294.808,
          2695.01,
          2756.202,
          2920.999,
          2874.813,
          3206.877,
          3307.667,
          3271.521,
          3408.961,
          3503.892,
          3309.608,
          3177.341,
          4152.895,
          3578.103,
          3392.715,
          3515.335,
          4475.366,
          3878.917,
          3685.595,
          3803.922,
          3988.165,
          4625.621,
          4714.82,
          4918.555,
          4981.017,
          4575.141,
          4450.877,
          4838.719
         ],
         "y0": " ",
         "yaxis": "y"
        },
        {
         "alignmentgroup": "True",
         "box": {
          "visible": false
         },
         "hovertemplate": "nombre=%{x}<br>Valores=%{y}<extra></extra>",
         "legendgroup": "Ciclo combinado",
         "marker": {
          "color": "#FF97FF"
         },
         "name": "Ciclo combinado",
         "offsetgroup": "Ciclo combinado",
         "orientation": "v",
         "points": "suspectedoutliers",
         "scalegroup": "True",
         "showlegend": true,
         "type": "violin",
         "x": [
          "Ciclo combinado",
          "Ciclo combinado",
          "Ciclo combinado",
          "Ciclo combinado",
          "Ciclo combinado",
          "Ciclo combinado",
          "Ciclo combinado",
          "Ciclo combinado",
          "Ciclo combinado",
          "Ciclo combinado",
          "Ciclo combinado",
          "Ciclo combinado",
          "Ciclo combinado",
          "Ciclo combinado",
          "Ciclo combinado",
          "Ciclo combinado",
          "Ciclo combinado",
          "Ciclo combinado",
          "Ciclo combinado",
          "Ciclo combinado",
          "Ciclo combinado",
          "Ciclo combinado",
          "Ciclo combinado",
          "Ciclo combinado",
          "Ciclo combinado",
          "Ciclo combinado",
          "Ciclo combinado",
          "Ciclo combinado",
          "Ciclo combinado",
          "Ciclo combinado",
          "Ciclo combinado"
         ],
         "x0": " ",
         "xaxis": "x",
         "y": [
          153185.437,
          207427.016,
          238916.811,
          202472.327,
          199849.787,
          207626.946,
          123925.093,
          92830.002,
          133945.575,
          210151.804,
          126742.202,
          105865.509,
          114033.419,
          140609.853,
          117110.974,
          181039.945,
          183858.901,
          171414.065,
          192061.19,
          208050.26,
          154436.88,
          143128.675,
          178589.387,
          171362.465,
          184528.624,
          222286.189,
          206888.211,
          140317.5,
          127960.58,
          220550.181,
          260849.031
         ],
         "y0": " ",
         "yaxis": "y"
        },
        {
         "alignmentgroup": "True",
         "box": {
          "visible": false
         },
         "hovertemplate": "nombre=%{x}<br>Valores=%{y}<extra></extra>",
         "legendgroup": "Hidroeólica",
         "marker": {
          "color": "#FECB52"
         },
         "name": "Hidroeólica",
         "offsetgroup": "Hidroeólica",
         "orientation": "v",
         "points": "suspectedoutliers",
         "scalegroup": "True",
         "showlegend": true,
         "type": "violin",
         "x": [
          "Hidroeólica",
          "Hidroeólica",
          "Hidroeólica",
          "Hidroeólica",
          "Hidroeólica",
          "Hidroeólica",
          "Hidroeólica",
          "Hidroeólica",
          "Hidroeólica",
          "Hidroeólica",
          "Hidroeólica",
          "Hidroeólica",
          "Hidroeólica",
          "Hidroeólica",
          "Hidroeólica",
          "Hidroeólica",
          "Hidroeólica",
          "Hidroeólica",
          "Hidroeólica",
          "Hidroeólica",
          "Hidroeólica",
          "Hidroeólica",
          "Hidroeólica",
          "Hidroeólica",
          "Hidroeólica",
          "Hidroeólica",
          "Hidroeólica",
          "Hidroeólica",
          "Hidroeólica",
          "Hidroeólica",
          "Hidroeólica"
         ],
         "x0": " ",
         "xaxis": "x",
         "y": [
          5.401,
          28.649,
          37.994,
          49.623,
          75.188,
          71.507,
          24.817,
          71.798,
          82.063,
          97.676,
          42.124,
          43.431,
          49.377,
          50.166,
          40.149,
          54.191,
          69.267,
          93.93,
          95.334,
          28.09,
          -2.192,
          -0.077,
          2.047,
          21.267,
          26.192,
          2.947,
          3.604,
          4.891,
          13.57,
          10.616,
          6.117
         ],
         "y0": " ",
         "yaxis": "y"
        },
        {
         "alignmentgroup": "True",
         "box": {
          "visible": false
         },
         "hovertemplate": "nombre=%{x}<br>Valores=%{y}<extra></extra>",
         "legendgroup": "Eólica",
         "marker": {
          "color": "#636efa"
         },
         "name": "Eólica",
         "offsetgroup": "Eólica",
         "orientation": "v",
         "points": "suspectedoutliers",
         "scalegroup": "True",
         "showlegend": true,
         "type": "violin",
         "x": [
          "Eólica",
          "Eólica",
          "Eólica",
          "Eólica",
          "Eólica",
          "Eólica",
          "Eólica",
          "Eólica",
          "Eólica",
          "Eólica",
          "Eólica",
          "Eólica",
          "Eólica",
          "Eólica",
          "Eólica",
          "Eólica",
          "Eólica",
          "Eólica",
          "Eólica",
          "Eólica",
          "Eólica",
          "Eólica",
          "Eólica",
          "Eólica",
          "Eólica",
          "Eólica",
          "Eólica",
          "Eólica",
          "Eólica",
          "Eólica",
          "Eólica"
         ],
         "x0": " ",
         "xaxis": "x",
         "y": [
          69826.543,
          54172.392,
          60510.578,
          121145.44,
          114384.247,
          102730.916,
          123185.593,
          209534.384,
          127090.677,
          61873.719,
          154352.114,
          300443.625,
          191728.164,
          62212.405,
          80956.323,
          59481.707,
          66702.778,
          119078.548,
          93717.424,
          48743.75,
          71790.755,
          67340.717,
          123178.884,
          123386.311,
          104358.274,
          50450.433,
          64416.642,
          75517.746,
          59586.819,
          53814.25,
          40364.161
         ],
         "y0": " ",
         "yaxis": "y"
        },
        {
         "alignmentgroup": "True",
         "box": {
          "visible": false
         },
         "hovertemplate": "nombre=%{x}<br>Valores=%{y}<extra></extra>",
         "legendgroup": "Solar fotovoltaica",
         "marker": {
          "color": "#EF553B"
         },
         "name": "Solar fotovoltaica",
         "offsetgroup": "Solar fotovoltaica",
         "orientation": "v",
         "points": "suspectedoutliers",
         "scalegroup": "True",
         "showlegend": true,
         "type": "violin",
         "x": [
          "Solar fotovoltaica",
          "Solar fotovoltaica",
          "Solar fotovoltaica",
          "Solar fotovoltaica",
          "Solar fotovoltaica",
          "Solar fotovoltaica",
          "Solar fotovoltaica",
          "Solar fotovoltaica",
          "Solar fotovoltaica",
          "Solar fotovoltaica",
          "Solar fotovoltaica",
          "Solar fotovoltaica",
          "Solar fotovoltaica",
          "Solar fotovoltaica",
          "Solar fotovoltaica",
          "Solar fotovoltaica",
          "Solar fotovoltaica",
          "Solar fotovoltaica",
          "Solar fotovoltaica",
          "Solar fotovoltaica",
          "Solar fotovoltaica",
          "Solar fotovoltaica",
          "Solar fotovoltaica",
          "Solar fotovoltaica",
          "Solar fotovoltaica",
          "Solar fotovoltaica",
          "Solar fotovoltaica",
          "Solar fotovoltaica",
          "Solar fotovoltaica",
          "Solar fotovoltaica",
          "Solar fotovoltaica"
         ],
         "x0": " ",
         "xaxis": "x",
         "y": [
          121887.424,
          118190.342,
          118167.259,
          127037.077,
          112494.024,
          83969.818,
          73569.331,
          82520.277,
          97003.07,
          115090.681,
          136933.965,
          79274.995,
          132980.176,
          131582.923,
          124631.015,
          133621.346,
          127279.529,
          124437.232,
          130418.849,
          128452.095,
          126417.895,
          130719.556,
          126647.71,
          120708.613,
          121833.444,
          121536.59,
          120719.663,
          118468.114,
          121475.905,
          115051.014,
          118841.884
         ],
         "y0": " ",
         "yaxis": "y"
        },
        {
         "alignmentgroup": "True",
         "box": {
          "visible": false
         },
         "hovertemplate": "nombre=%{x}<br>Valores=%{y}<extra></extra>",
         "legendgroup": "Solar térmica",
         "marker": {
          "color": "#00cc96"
         },
         "name": "Solar térmica",
         "offsetgroup": "Solar térmica",
         "orientation": "v",
         "points": "suspectedoutliers",
         "scalegroup": "True",
         "showlegend": true,
         "type": "violin",
         "x": [
          "Solar térmica",
          "Solar térmica",
          "Solar térmica",
          "Solar térmica",
          "Solar térmica",
          "Solar térmica",
          "Solar térmica",
          "Solar térmica",
          "Solar térmica",
          "Solar térmica",
          "Solar térmica",
          "Solar térmica",
          "Solar térmica",
          "Solar térmica",
          "Solar térmica",
          "Solar térmica",
          "Solar térmica",
          "Solar térmica",
          "Solar térmica",
          "Solar térmica",
          "Solar térmica",
          "Solar térmica",
          "Solar térmica",
          "Solar térmica",
          "Solar térmica",
          "Solar térmica",
          "Solar térmica",
          "Solar térmica",
          "Solar térmica",
          "Solar térmica",
          "Solar térmica"
         ],
         "x0": " ",
         "xaxis": "x",
         "y": [
          15358.585,
          14417.226,
          18173.901,
          19163.019,
          14430.12,
          6282.017,
          1329.429,
          2883.921,
          4758.746,
          16799.109,
          20321.971,
          5231.198,
          12841.32,
          19952.207,
          22556.123,
          20529.101,
          21103.343,
          19451.213,
          18621.448,
          19664.765,
          19700.118,
          21472.534,
          18326.516,
          16070.137,
          13369.877,
          15051.556,
          12174.059,
          10156.522,
          15608.325,
          14944.868,
          15093.094
         ],
         "y0": " ",
         "yaxis": "y"
        },
        {
         "alignmentgroup": "True",
         "box": {
          "visible": false
         },
         "hovertemplate": "nombre=%{x}<br>Valores=%{y}<extra></extra>",
         "legendgroup": "Otras renovables",
         "marker": {
          "color": "#ab63fa"
         },
         "name": "Otras renovables",
         "offsetgroup": "Otras renovables",
         "orientation": "v",
         "points": "suspectedoutliers",
         "scalegroup": "True",
         "showlegend": true,
         "type": "violin",
         "x": [
          "Otras renovables",
          "Otras renovables",
          "Otras renovables",
          "Otras renovables",
          "Otras renovables",
          "Otras renovables",
          "Otras renovables",
          "Otras renovables",
          "Otras renovables",
          "Otras renovables",
          "Otras renovables",
          "Otras renovables",
          "Otras renovables",
          "Otras renovables",
          "Otras renovables",
          "Otras renovables",
          "Otras renovables",
          "Otras renovables",
          "Otras renovables",
          "Otras renovables",
          "Otras renovables",
          "Otras renovables",
          "Otras renovables",
          "Otras renovables",
          "Otras renovables",
          "Otras renovables",
          "Otras renovables",
          "Otras renovables",
          "Otras renovables",
          "Otras renovables",
          "Otras renovables"
         ],
         "x0": " ",
         "xaxis": "x",
         "y": [
          10425.517,
          10110.756,
          10865.463,
          10824.656,
          10622.483,
          10810.377,
          9479.58,
          7427.447,
          7905.733,
          8720.434,
          8346.948,
          8637.511,
          8869.273,
          8997.682,
          7588.529,
          7919.28,
          7809.369,
          7817.909,
          7734.386,
          7933.016,
          8141.04,
          7084.88,
          7468.318,
          9853.567,
          10251.645,
          10114.513,
          10828.954,
          10404.026,
          9847.209,
          10101.857,
          10455.201
         ],
         "y0": " ",
         "yaxis": "y"
        },
        {
         "alignmentgroup": "True",
         "box": {
          "visible": false
         },
         "hovertemplate": "nombre=%{x}<br>Valores=%{y}<extra></extra>",
         "legendgroup": "Cogeneración",
         "marker": {
          "color": "#FFA15A"
         },
         "name": "Cogeneración",
         "offsetgroup": "Cogeneración",
         "orientation": "v",
         "points": "suspectedoutliers",
         "scalegroup": "True",
         "showlegend": true,
         "type": "violin",
         "x": [
          "Cogeneración",
          "Cogeneración",
          "Cogeneración",
          "Cogeneración",
          "Cogeneración",
          "Cogeneración",
          "Cogeneración",
          "Cogeneración",
          "Cogeneración",
          "Cogeneración",
          "Cogeneración",
          "Cogeneración",
          "Cogeneración",
          "Cogeneración",
          "Cogeneración",
          "Cogeneración",
          "Cogeneración",
          "Cogeneración",
          "Cogeneración",
          "Cogeneración",
          "Cogeneración",
          "Cogeneración",
          "Cogeneración",
          "Cogeneración",
          "Cogeneración",
          "Cogeneración",
          "Cogeneración",
          "Cogeneración",
          "Cogeneración",
          "Cogeneración",
          "Cogeneración"
         ],
         "x0": " ",
         "xaxis": "x",
         "y": [
          45445.834,
          49574.729,
          51005.98,
          51682.688,
          53485.942,
          54784.603,
          47632.931,
          37676.674,
          50165.262,
          52970.529,
          49710.625,
          47307.661,
          49995.016,
          48660.325,
          42265.843,
          49993.956,
          50966.696,
          49619.151,
          50454.504,
          50695.218,
          44711.977,
          42106.874,
          49198.972,
          49219.474,
          50465.825,
          53123.607,
          53832.03,
          50794.184,
          48585.432,
          53969.552,
          54221.736
         ],
         "y0": " ",
         "yaxis": "y"
        },
        {
         "alignmentgroup": "True",
         "box": {
          "visible": false
         },
         "hovertemplate": "nombre=%{x}<br>Valores=%{y}<extra></extra>",
         "legendgroup": "Residuos no renovables",
         "marker": {
          "color": "#19d3f3"
         },
         "name": "Residuos no renovables",
         "offsetgroup": "Residuos no renovables",
         "orientation": "v",
         "points": "suspectedoutliers",
         "scalegroup": "True",
         "showlegend": true,
         "type": "violin",
         "x": [
          "Residuos no renovables",
          "Residuos no renovables",
          "Residuos no renovables",
          "Residuos no renovables",
          "Residuos no renovables",
          "Residuos no renovables",
          "Residuos no renovables",
          "Residuos no renovables",
          "Residuos no renovables",
          "Residuos no renovables",
          "Residuos no renovables",
          "Residuos no renovables",
          "Residuos no renovables",
          "Residuos no renovables",
          "Residuos no renovables",
          "Residuos no renovables",
          "Residuos no renovables",
          "Residuos no renovables",
          "Residuos no renovables",
          "Residuos no renovables",
          "Residuos no renovables",
          "Residuos no renovables",
          "Residuos no renovables",
          "Residuos no renovables",
          "Residuos no renovables",
          "Residuos no renovables",
          "Residuos no renovables",
          "Residuos no renovables",
          "Residuos no renovables",
          "Residuos no renovables",
          "Residuos no renovables"
         ],
         "x0": " ",
         "xaxis": "x",
         "y": [
          3864.7635,
          3910.8065,
          3526.4855,
          2975.479,
          3780.4485,
          3840.0525,
          3723.483,
          3757.355,
          3934.239,
          4036.15,
          3978.4535,
          3901.789,
          3895.6125,
          4143.66,
          4074.673,
          4179.527,
          4074.2665,
          4201.57,
          4032.016,
          3914.962,
          3905.464,
          3961.2335,
          4022.96,
          4001.3105,
          4024.94,
          4031.225,
          4070.296,
          4239.4665,
          4018.3955,
          4154.7725,
          4251.738
         ],
         "y0": " ",
         "yaxis": "y"
        },
        {
         "alignmentgroup": "True",
         "box": {
          "visible": false
         },
         "hovertemplate": "nombre=%{x}<br>Valores=%{y}<extra></extra>",
         "legendgroup": "Residuos renovables",
         "marker": {
          "color": "#FF6692"
         },
         "name": "Residuos renovables",
         "offsetgroup": "Residuos renovables",
         "orientation": "v",
         "points": "suspectedoutliers",
         "scalegroup": "True",
         "showlegend": true,
         "type": "violin",
         "x": [
          "Residuos renovables",
          "Residuos renovables",
          "Residuos renovables",
          "Residuos renovables",
          "Residuos renovables",
          "Residuos renovables",
          "Residuos renovables",
          "Residuos renovables",
          "Residuos renovables",
          "Residuos renovables",
          "Residuos renovables",
          "Residuos renovables",
          "Residuos renovables",
          "Residuos renovables",
          "Residuos renovables",
          "Residuos renovables",
          "Residuos renovables",
          "Residuos renovables",
          "Residuos renovables",
          "Residuos renovables",
          "Residuos renovables",
          "Residuos renovables",
          "Residuos renovables",
          "Residuos renovables",
          "Residuos renovables",
          "Residuos renovables",
          "Residuos renovables",
          "Residuos renovables",
          "Residuos renovables",
          "Residuos renovables",
          "Residuos renovables"
         ],
         "x0": " ",
         "xaxis": "x",
         "y": [
          2417.2605,
          2421.2415,
          2066.7095,
          1570.63,
          2298.9115,
          2406.3415,
          2384.065,
          2473.136,
          2605.383,
          2620.964,
          2560.2315,
          2416.424,
          2390.6595,
          2478.807,
          2549.512,
          2650.328,
          2538.8175,
          2655.089,
          2660.421,
          2616.346,
          2606.464,
          2674.2125,
          2715.025,
          2691.2915,
          2713.163,
          2732.902,
          2738.779,
          2595.3435,
          2419.7675,
          2437.8145,
          2494.276
         ],
         "y0": " ",
         "yaxis": "y"
        },
        {
         "alignmentgroup": "True",
         "box": {
          "visible": false
         },
         "hovertemplate": "nombre=%{x}<br>Valores=%{y}<extra></extra>",
         "legendgroup": "Generación total",
         "marker": {
          "color": "#B6E880"
         },
         "name": "Generación total",
         "offsetgroup": "Generación total",
         "orientation": "v",
         "points": "suspectedoutliers",
         "scalegroup": "True",
         "showlegend": true,
         "type": "violin",
         "x": [
          "Generación total",
          "Generación total",
          "Generación total",
          "Generación total",
          "Generación total",
          "Generación total",
          "Generación total",
          "Generación total",
          "Generación total",
          "Generación total",
          "Generación total",
          "Generación total",
          "Generación total",
          "Generación total",
          "Generación total",
          "Generación total",
          "Generación total",
          "Generación total",
          "Generación total",
          "Generación total",
          "Generación total",
          "Generación total",
          "Generación total",
          "Generación total",
          "Generación total",
          "Generación total",
          "Generación total",
          "Generación total",
          "Generación total",
          "Generación total",
          "Generación total"
         ],
         "x0": " ",
         "xaxis": "x",
         "y": [
          646934.754,
          692140.223,
          734268.1089999998,
          760656.947,
          732991.2920000001,
          703283.8189999999,
          608887.8479999999,
          650264.6680000001,
          664668.7670000001,
          701877.082,
          714499.772,
          731002.6669999999,
          718062.785,
          621112.1700000002,
          599893.3329999999,
          679763.412,
          686431.637,
          725787.1099999999,
          722285.0649999998,
          697873.1180000001,
          640642.753,
          619060.667,
          715548.8209999999,
          711311.4290000001,
          720538.8049999999,
          708544.054,
          693036.125,
          613026.8219999999,
          590619.569,
          663310.372,
          688814.9090000001
         ],
         "y0": " ",
         "yaxis": "y"
        }
       ],
       "layout": {
        "legend": {
         "title": {
          "text": "nombre"
         },
         "tracegroupgap": 0
        },
        "margin": {
         "t": 60
        },
        "template": {
         "data": {
          "bar": [
           {
            "error_x": {
             "color": "#2a3f5f"
            },
            "error_y": {
             "color": "#2a3f5f"
            },
            "marker": {
             "line": {
              "color": "#E5ECF6",
              "width": 0.5
             },
             "pattern": {
              "fillmode": "overlay",
              "size": 10,
              "solidity": 0.2
             }
            },
            "type": "bar"
           }
          ],
          "barpolar": [
           {
            "marker": {
             "line": {
              "color": "#E5ECF6",
              "width": 0.5
             },
             "pattern": {
              "fillmode": "overlay",
              "size": 10,
              "solidity": 0.2
             }
            },
            "type": "barpolar"
           }
          ],
          "carpet": [
           {
            "aaxis": {
             "endlinecolor": "#2a3f5f",
             "gridcolor": "white",
             "linecolor": "white",
             "minorgridcolor": "white",
             "startlinecolor": "#2a3f5f"
            },
            "baxis": {
             "endlinecolor": "#2a3f5f",
             "gridcolor": "white",
             "linecolor": "white",
             "minorgridcolor": "white",
             "startlinecolor": "#2a3f5f"
            },
            "type": "carpet"
           }
          ],
          "choropleth": [
           {
            "colorbar": {
             "outlinewidth": 0,
             "ticks": ""
            },
            "type": "choropleth"
           }
          ],
          "contour": [
           {
            "colorbar": {
             "outlinewidth": 0,
             "ticks": ""
            },
            "colorscale": [
             [
              0,
              "#0d0887"
             ],
             [
              0.1111111111111111,
              "#46039f"
             ],
             [
              0.2222222222222222,
              "#7201a8"
             ],
             [
              0.3333333333333333,
              "#9c179e"
             ],
             [
              0.4444444444444444,
              "#bd3786"
             ],
             [
              0.5555555555555556,
              "#d8576b"
             ],
             [
              0.6666666666666666,
              "#ed7953"
             ],
             [
              0.7777777777777778,
              "#fb9f3a"
             ],
             [
              0.8888888888888888,
              "#fdca26"
             ],
             [
              1,
              "#f0f921"
             ]
            ],
            "type": "contour"
           }
          ],
          "contourcarpet": [
           {
            "colorbar": {
             "outlinewidth": 0,
             "ticks": ""
            },
            "type": "contourcarpet"
           }
          ],
          "heatmap": [
           {
            "colorbar": {
             "outlinewidth": 0,
             "ticks": ""
            },
            "colorscale": [
             [
              0,
              "#0d0887"
             ],
             [
              0.1111111111111111,
              "#46039f"
             ],
             [
              0.2222222222222222,
              "#7201a8"
             ],
             [
              0.3333333333333333,
              "#9c179e"
             ],
             [
              0.4444444444444444,
              "#bd3786"
             ],
             [
              0.5555555555555556,
              "#d8576b"
             ],
             [
              0.6666666666666666,
              "#ed7953"
             ],
             [
              0.7777777777777778,
              "#fb9f3a"
             ],
             [
              0.8888888888888888,
              "#fdca26"
             ],
             [
              1,
              "#f0f921"
             ]
            ],
            "type": "heatmap"
           }
          ],
          "heatmapgl": [
           {
            "colorbar": {
             "outlinewidth": 0,
             "ticks": ""
            },
            "colorscale": [
             [
              0,
              "#0d0887"
             ],
             [
              0.1111111111111111,
              "#46039f"
             ],
             [
              0.2222222222222222,
              "#7201a8"
             ],
             [
              0.3333333333333333,
              "#9c179e"
             ],
             [
              0.4444444444444444,
              "#bd3786"
             ],
             [
              0.5555555555555556,
              "#d8576b"
             ],
             [
              0.6666666666666666,
              "#ed7953"
             ],
             [
              0.7777777777777778,
              "#fb9f3a"
             ],
             [
              0.8888888888888888,
              "#fdca26"
             ],
             [
              1,
              "#f0f921"
             ]
            ],
            "type": "heatmapgl"
           }
          ],
          "histogram": [
           {
            "marker": {
             "pattern": {
              "fillmode": "overlay",
              "size": 10,
              "solidity": 0.2
             }
            },
            "type": "histogram"
           }
          ],
          "histogram2d": [
           {
            "colorbar": {
             "outlinewidth": 0,
             "ticks": ""
            },
            "colorscale": [
             [
              0,
              "#0d0887"
             ],
             [
              0.1111111111111111,
              "#46039f"
             ],
             [
              0.2222222222222222,
              "#7201a8"
             ],
             [
              0.3333333333333333,
              "#9c179e"
             ],
             [
              0.4444444444444444,
              "#bd3786"
             ],
             [
              0.5555555555555556,
              "#d8576b"
             ],
             [
              0.6666666666666666,
              "#ed7953"
             ],
             [
              0.7777777777777778,
              "#fb9f3a"
             ],
             [
              0.8888888888888888,
              "#fdca26"
             ],
             [
              1,
              "#f0f921"
             ]
            ],
            "type": "histogram2d"
           }
          ],
          "histogram2dcontour": [
           {
            "colorbar": {
             "outlinewidth": 0,
             "ticks": ""
            },
            "colorscale": [
             [
              0,
              "#0d0887"
             ],
             [
              0.1111111111111111,
              "#46039f"
             ],
             [
              0.2222222222222222,
              "#7201a8"
             ],
             [
              0.3333333333333333,
              "#9c179e"
             ],
             [
              0.4444444444444444,
              "#bd3786"
             ],
             [
              0.5555555555555556,
              "#d8576b"
             ],
             [
              0.6666666666666666,
              "#ed7953"
             ],
             [
              0.7777777777777778,
              "#fb9f3a"
             ],
             [
              0.8888888888888888,
              "#fdca26"
             ],
             [
              1,
              "#f0f921"
             ]
            ],
            "type": "histogram2dcontour"
           }
          ],
          "mesh3d": [
           {
            "colorbar": {
             "outlinewidth": 0,
             "ticks": ""
            },
            "type": "mesh3d"
           }
          ],
          "parcoords": [
           {
            "line": {
             "colorbar": {
              "outlinewidth": 0,
              "ticks": ""
             }
            },
            "type": "parcoords"
           }
          ],
          "pie": [
           {
            "automargin": true,
            "type": "pie"
           }
          ],
          "scatter": [
           {
            "fillpattern": {
             "fillmode": "overlay",
             "size": 10,
             "solidity": 0.2
            },
            "type": "scatter"
           }
          ],
          "scatter3d": [
           {
            "line": {
             "colorbar": {
              "outlinewidth": 0,
              "ticks": ""
             }
            },
            "marker": {
             "colorbar": {
              "outlinewidth": 0,
              "ticks": ""
             }
            },
            "type": "scatter3d"
           }
          ],
          "scattercarpet": [
           {
            "marker": {
             "colorbar": {
              "outlinewidth": 0,
              "ticks": ""
             }
            },
            "type": "scattercarpet"
           }
          ],
          "scattergeo": [
           {
            "marker": {
             "colorbar": {
              "outlinewidth": 0,
              "ticks": ""
             }
            },
            "type": "scattergeo"
           }
          ],
          "scattergl": [
           {
            "marker": {
             "colorbar": {
              "outlinewidth": 0,
              "ticks": ""
             }
            },
            "type": "scattergl"
           }
          ],
          "scattermapbox": [
           {
            "marker": {
             "colorbar": {
              "outlinewidth": 0,
              "ticks": ""
             }
            },
            "type": "scattermapbox"
           }
          ],
          "scatterpolar": [
           {
            "marker": {
             "colorbar": {
              "outlinewidth": 0,
              "ticks": ""
             }
            },
            "type": "scatterpolar"
           }
          ],
          "scatterpolargl": [
           {
            "marker": {
             "colorbar": {
              "outlinewidth": 0,
              "ticks": ""
             }
            },
            "type": "scatterpolargl"
           }
          ],
          "scatterternary": [
           {
            "marker": {
             "colorbar": {
              "outlinewidth": 0,
              "ticks": ""
             }
            },
            "type": "scatterternary"
           }
          ],
          "surface": [
           {
            "colorbar": {
             "outlinewidth": 0,
             "ticks": ""
            },
            "colorscale": [
             [
              0,
              "#0d0887"
             ],
             [
              0.1111111111111111,
              "#46039f"
             ],
             [
              0.2222222222222222,
              "#7201a8"
             ],
             [
              0.3333333333333333,
              "#9c179e"
             ],
             [
              0.4444444444444444,
              "#bd3786"
             ],
             [
              0.5555555555555556,
              "#d8576b"
             ],
             [
              0.6666666666666666,
              "#ed7953"
             ],
             [
              0.7777777777777778,
              "#fb9f3a"
             ],
             [
              0.8888888888888888,
              "#fdca26"
             ],
             [
              1,
              "#f0f921"
             ]
            ],
            "type": "surface"
           }
          ],
          "table": [
           {
            "cells": {
             "fill": {
              "color": "#EBF0F8"
             },
             "line": {
              "color": "white"
             }
            },
            "header": {
             "fill": {
              "color": "#C8D4E3"
             },
             "line": {
              "color": "white"
             }
            },
            "type": "table"
           }
          ]
         },
         "layout": {
          "annotationdefaults": {
           "arrowcolor": "#2a3f5f",
           "arrowhead": 0,
           "arrowwidth": 1
          },
          "autotypenumbers": "strict",
          "coloraxis": {
           "colorbar": {
            "outlinewidth": 0,
            "ticks": ""
           }
          },
          "colorscale": {
           "diverging": [
            [
             0,
             "#8e0152"
            ],
            [
             0.1,
             "#c51b7d"
            ],
            [
             0.2,
             "#de77ae"
            ],
            [
             0.3,
             "#f1b6da"
            ],
            [
             0.4,
             "#fde0ef"
            ],
            [
             0.5,
             "#f7f7f7"
            ],
            [
             0.6,
             "#e6f5d0"
            ],
            [
             0.7,
             "#b8e186"
            ],
            [
             0.8,
             "#7fbc41"
            ],
            [
             0.9,
             "#4d9221"
            ],
            [
             1,
             "#276419"
            ]
           ],
           "sequential": [
            [
             0,
             "#0d0887"
            ],
            [
             0.1111111111111111,
             "#46039f"
            ],
            [
             0.2222222222222222,
             "#7201a8"
            ],
            [
             0.3333333333333333,
             "#9c179e"
            ],
            [
             0.4444444444444444,
             "#bd3786"
            ],
            [
             0.5555555555555556,
             "#d8576b"
            ],
            [
             0.6666666666666666,
             "#ed7953"
            ],
            [
             0.7777777777777778,
             "#fb9f3a"
            ],
            [
             0.8888888888888888,
             "#fdca26"
            ],
            [
             1,
             "#f0f921"
            ]
           ],
           "sequentialminus": [
            [
             0,
             "#0d0887"
            ],
            [
             0.1111111111111111,
             "#46039f"
            ],
            [
             0.2222222222222222,
             "#7201a8"
            ],
            [
             0.3333333333333333,
             "#9c179e"
            ],
            [
             0.4444444444444444,
             "#bd3786"
            ],
            [
             0.5555555555555556,
             "#d8576b"
            ],
            [
             0.6666666666666666,
             "#ed7953"
            ],
            [
             0.7777777777777778,
             "#fb9f3a"
            ],
            [
             0.8888888888888888,
             "#fdca26"
            ],
            [
             1,
             "#f0f921"
            ]
           ]
          },
          "colorway": [
           "#636efa",
           "#EF553B",
           "#00cc96",
           "#ab63fa",
           "#FFA15A",
           "#19d3f3",
           "#FF6692",
           "#B6E880",
           "#FF97FF",
           "#FECB52"
          ],
          "font": {
           "color": "#2a3f5f"
          },
          "geo": {
           "bgcolor": "white",
           "lakecolor": "white",
           "landcolor": "#E5ECF6",
           "showlakes": true,
           "showland": true,
           "subunitcolor": "white"
          },
          "hoverlabel": {
           "align": "left"
          },
          "hovermode": "closest",
          "mapbox": {
           "style": "light"
          },
          "paper_bgcolor": "white",
          "plot_bgcolor": "#E5ECF6",
          "polar": {
           "angularaxis": {
            "gridcolor": "white",
            "linecolor": "white",
            "ticks": ""
           },
           "bgcolor": "#E5ECF6",
           "radialaxis": {
            "gridcolor": "white",
            "linecolor": "white",
            "ticks": ""
           }
          },
          "scene": {
           "xaxis": {
            "backgroundcolor": "#E5ECF6",
            "gridcolor": "white",
            "gridwidth": 2,
            "linecolor": "white",
            "showbackground": true,
            "ticks": "",
            "zerolinecolor": "white"
           },
           "yaxis": {
            "backgroundcolor": "#E5ECF6",
            "gridcolor": "white",
            "gridwidth": 2,
            "linecolor": "white",
            "showbackground": true,
            "ticks": "",
            "zerolinecolor": "white"
           },
           "zaxis": {
            "backgroundcolor": "#E5ECF6",
            "gridcolor": "white",
            "gridwidth": 2,
            "linecolor": "white",
            "showbackground": true,
            "ticks": "",
            "zerolinecolor": "white"
           }
          },
          "shapedefaults": {
           "line": {
            "color": "#2a3f5f"
           }
          },
          "ternary": {
           "aaxis": {
            "gridcolor": "white",
            "linecolor": "white",
            "ticks": ""
           },
           "baxis": {
            "gridcolor": "white",
            "linecolor": "white",
            "ticks": ""
           },
           "bgcolor": "#E5ECF6",
           "caxis": {
            "gridcolor": "white",
            "linecolor": "white",
            "ticks": ""
           }
          },
          "title": {
           "x": 0.05
          },
          "xaxis": {
           "automargin": true,
           "gridcolor": "white",
           "linecolor": "white",
           "ticks": "",
           "title": {
            "standoff": 15
           },
           "zerolinecolor": "white",
           "zerolinewidth": 2
          },
          "yaxis": {
           "automargin": true,
           "gridcolor": "white",
           "linecolor": "white",
           "ticks": "",
           "title": {
            "standoff": 15
           },
           "zerolinecolor": "white",
           "zerolinewidth": 2
          }
         }
        },
        "violinmode": "overlay",
        "xaxis": {
         "anchor": "y",
         "categoryarray": [
          "Hidráulica",
          "Turbinación bombeo",
          "Nuclear",
          "Carbón",
          "Fuel + Gas",
          "Motores diésel",
          "Turbina de gas",
          "Turbina de vapor",
          "Ciclo combinado",
          "Hidroeólica",
          "Eólica",
          "Solar fotovoltaica",
          "Solar térmica",
          "Otras renovables",
          "Cogeneración",
          "Residuos no renovables",
          "Residuos renovables",
          "Generación total"
         ],
         "categoryorder": "array",
         "domain": [
          0,
          1
         ],
         "title": {
          "text": "nombre"
         }
        },
        "yaxis": {
         "anchor": "x",
         "domain": [
          0,
          1
         ],
         "title": {
          "text": "Valores"
         }
        }
       }
      }
     },
     "metadata": {},
     "output_type": "display_data"
    }
   ],
   "source": [
    "px.violin(data_frame=df_generacion,\n",
    "             x = 'nombre',\n",
    "             y = 'Valores',\n",
    "             color = 'nombre',\n",
    "             points= 'suspectedoutliers'\n",
    "             )"
   ]
  },
  {
   "cell_type": "code",
   "execution_count": 39,
   "metadata": {},
   "outputs": [
    {
     "data": {
      "application/vnd.plotly.v1+json": {
       "config": {
        "plotlyServerURL": "https://plot.ly"
       },
       "data": [
        {
         "hovertemplate": "<b>%{hovertext}</b><br><br>nombre=Hidráulica<br>Valores=%{x}<br>Porcentaje=%{y}<extra></extra>",
         "hovertext": [
          "Hidráulica",
          "Hidráulica",
          "Hidráulica",
          "Hidráulica",
          "Hidráulica",
          "Hidráulica",
          "Hidráulica",
          "Hidráulica",
          "Hidráulica",
          "Hidráulica",
          "Hidráulica",
          "Hidráulica",
          "Hidráulica",
          "Hidráulica",
          "Hidráulica",
          "Hidráulica",
          "Hidráulica",
          "Hidráulica",
          "Hidráulica",
          "Hidráulica",
          "Hidráulica",
          "Hidráulica",
          "Hidráulica",
          "Hidráulica",
          "Hidráulica",
          "Hidráulica",
          "Hidráulica",
          "Hidráulica",
          "Hidráulica",
          "Hidráulica",
          "Hidráulica"
         ],
         "legendgroup": "Hidráulica",
         "marker": {
          "color": "#636efa",
          "symbol": "circle"
         },
         "mode": "markers",
         "name": "Hidráulica",
         "orientation": "v",
         "showlegend": true,
         "type": "scatter",
         "x": [
          22677.543,
          34410.083,
          36184.276,
          27251.012,
          24805.877,
          31052.893,
          24153.141,
          15558.041,
          31779.909,
          33073.974,
          29080.481,
          20213.244,
          31118.702,
          24335.723,
          23312.579,
          38970.565,
          40808.219,
          44279.829,
          41709.912,
          43508.807,
          27451.729,
          23512.598,
          25842.727,
          27088.352,
          27620.756,
          38745.423,
          41528.037,
          24530.895,
          22871.902,
          41941.542,
          43709.116
         ],
         "xaxis": "x",
         "y": [
          0.03505383326492304,
          0.04971547940221356,
          0.049279378412987844,
          0.03582562692351247,
          0.03384198048562901,
          0.044154141132031366,
          0.0396676351471544,
          0.02392570558669812,
          0.047813152321628485,
          0.047122174021917984,
          0.0407004762487174,
          0.0276513956959339,
          0.04333702100993857,
          0.03918088257713578,
          0.03886120701394761,
          0.05732960072879004,
          0.059449793395813424,
          0.06100939020534549,
          0.057747161087984014,
          0.06234486739464865,
          0.042849998719341816,
          0.03798107908366568,
          0.03611595217763625,
          0.03808226733834751,
          0.03833347452165752,
          0.054683153124025795,
          0.05992189368194911,
          0.04001602233319573,
          0.03872526953132499,
          0.06323064400989045,
          0.06345553127393182
         ],
         "yaxis": "y"
        },
        {
         "hovertemplate": "<b>%{hovertext}</b><br><br>nombre=Turbinación bombeo<br>Valores=%{x}<br>Porcentaje=%{y}<extra></extra>",
         "hovertext": [
          "Turbinación bombeo",
          "Turbinación bombeo",
          "Turbinación bombeo",
          "Turbinación bombeo",
          "Turbinación bombeo",
          "Turbinación bombeo",
          "Turbinación bombeo",
          "Turbinación bombeo",
          "Turbinación bombeo",
          "Turbinación bombeo",
          "Turbinación bombeo",
          "Turbinación bombeo",
          "Turbinación bombeo",
          "Turbinación bombeo",
          "Turbinación bombeo",
          "Turbinación bombeo",
          "Turbinación bombeo",
          "Turbinación bombeo",
          "Turbinación bombeo",
          "Turbinación bombeo",
          "Turbinación bombeo",
          "Turbinación bombeo",
          "Turbinación bombeo",
          "Turbinación bombeo",
          "Turbinación bombeo",
          "Turbinación bombeo",
          "Turbinación bombeo",
          "Turbinación bombeo",
          "Turbinación bombeo",
          "Turbinación bombeo",
          "Turbinación bombeo"
         ],
         "legendgroup": "Turbinación bombeo",
         "marker": {
          "color": "#EF553B",
          "symbol": "circle"
         },
         "mode": "markers",
         "name": "Turbinación bombeo",
         "orientation": "v",
         "showlegend": true,
         "type": "scatter",
         "x": [
          12419.169,
          5242.136,
          4400.221,
          7140.595,
          8771.07,
          10597.651,
          10799.887,
          11025.302,
          15820.152,
          7985.467,
          12816.753,
          16807.971,
          17313.393,
          16396.046,
          14722.586,
          14649.407,
          10635.073,
          12962.414,
          11135.565,
          11965.273,
          16998.403,
          15326.548,
          13878.93,
          10751.625,
          13195.162,
          7382.646,
          10275.258,
          12323.618,
          13197.372,
          13078.548,
          10481.52
         ],
         "xaxis": "x",
         "y": [
          0.019196942076789403,
          0.0075738063268142135,
          0.0059926625520924,
          0.00938740522670859,
          0.011966131242934327,
          0.015068811074124827,
          0.01773707101475936,
          0.016955099273516117,
          0.023801557686251258,
          0.011377301246602035,
          0.017938078502283974,
          0.02299303649462609,
          0.02411125233290011,
          0.026397882366400893,
          0.02454200637032251,
          0.021550743599009707,
          0.015493273367293822,
          0.017859801891494054,
          0.015417133123194237,
          0.017145341597754445,
          0.02653317562550818,
          0.024757741856837684,
          0.019396202736528586,
          0.015115214745129588,
          0.01831290955019998,
          0.010419459394687122,
          0.014826439242254507,
          0.020102901794401423,
          0.0223449622950099,
          0.019717086528536903,
          0.015216743805990992
         ],
         "yaxis": "y"
        },
        {
         "hovertemplate": "<b>%{hovertext}</b><br><br>nombre=Nuclear<br>Valores=%{x}<br>Porcentaje=%{y}<extra></extra>",
         "hovertext": [
          "Nuclear",
          "Nuclear",
          "Nuclear",
          "Nuclear",
          "Nuclear",
          "Nuclear",
          "Nuclear",
          "Nuclear",
          "Nuclear",
          "Nuclear",
          "Nuclear",
          "Nuclear",
          "Nuclear",
          "Nuclear",
          "Nuclear",
          "Nuclear",
          "Nuclear",
          "Nuclear",
          "Nuclear",
          "Nuclear",
          "Nuclear",
          "Nuclear",
          "Nuclear",
          "Nuclear",
          "Nuclear",
          "Nuclear",
          "Nuclear",
          "Nuclear",
          "Nuclear",
          "Nuclear",
          "Nuclear"
         ],
         "legendgroup": "Nuclear",
         "marker": {
          "color": "#00cc96",
          "symbol": "circle"
         },
         "mode": "markers",
         "name": "Nuclear",
         "orientation": "v",
         "showlegend": true,
         "type": "scatter",
         "x": [
          163778.663,
          163514.484,
          163486.687,
          163605.227,
          162714.088,
          163691.166,
          163837.034,
          161560.003,
          163891.9,
          164125.743,
          144409.722,
          115413.095,
          127688.454,
          139091.629,
          138517.22,
          138503.073,
          138814.453,
          138487.209,
          138404.139,
          138340.676,
          138174.336,
          137688.802,
          137998.815,
          148363.465,
          159640.052,
          154335.239,
          136990.992,
          137676.308,
          138773.399,
          100722.677,
          93265.672
         ],
         "xaxis": "x",
         "y": [
          0.25316102124264606,
          0.23624473562779777,
          0.22265257743884945,
          0.21508411596745727,
          0.22198638616296135,
          0.23275264065189594,
          0.2690758807851919,
          0.24845268542254548,
          0.24657680357049178,
          0.23383829905419248,
          0.2021130414020622,
          0.15788327486361964,
          0.17782352277175872,
          0.22393962913333343,
          0.23090308289857261,
          0.20375187977901935,
          0.20222618760213118,
          0.19080968384792618,
          0.19161982672312355,
          0.1982318453481396,
          0.2156793155231099,
          0.222415629174504,
          0.19285730190588915,
          0.20857736703117133,
          0.22155649418061116,
          0.21782024438525596,
          0.19766789501773807,
          0.2245844766642201,
          0.23496241283532548,
          0.15184848790514616,
          0.13540019355185007
         ],
         "yaxis": "y"
        },
        {
         "hovertemplate": "<b>%{hovertext}</b><br><br>nombre=Carbón<br>Valores=%{x}<br>Porcentaje=%{y}<extra></extra>",
         "hovertext": [
          "Carbón",
          "Carbón",
          "Carbón",
          "Carbón",
          "Carbón",
          "Carbón",
          "Carbón",
          "Carbón",
          "Carbón",
          "Carbón",
          "Carbón",
          "Carbón",
          "Carbón",
          "Carbón",
          "Carbón",
          "Carbón",
          "Carbón",
          "Carbón",
          "Carbón",
          "Carbón",
          "Carbón",
          "Carbón",
          "Carbón",
          "Carbón",
          "Carbón",
          "Carbón",
          "Carbón",
          "Carbón",
          "Carbón",
          "Carbón",
          "Carbón"
         ],
         "legendgroup": "Carbón",
         "marker": {
          "color": "#ab63fa",
          "symbol": "circle"
         },
         "mode": "markers",
         "name": "Carbón",
         "orientation": "v",
         "showlegend": true,
         "type": "scatter",
         "x": [
          11475.828,
          13141.731,
          12801.155,
          12728.758,
          12937.876,
          12406.252,
          12101.126,
          11523.562,
          12920.307,
          11970.991,
          12904.898,
          13554.938,
          13203.949,
          11660.905,
          10726.508,
          15116.6,
          19459.305,
          19886.878,
          19831.748,
          20136.761,
          12655.73,
          12119.983,
          13778.858,
          12717.874,
          13596.617,
          12795.673,
          12858.636,
          11369.515,
          12236.949,
          16363.071,
          18237.233
         ],
         "xaxis": "x",
         "y": [
          0.01773877184529802,
          0.018987093313315502,
          0.01743389756833359,
          0.016733900939446752,
          0.01765079086369282,
          0.017640462733296586,
          0.019874146018430645,
          0.01772134112013602,
          0.019438715404540736,
          0.01705568012833335,
          0.018061444531853536,
          0.01854293918738877,
          0.018388293162971813,
          0.018774233646073942,
          0.017880692132979586,
          0.022238031251967414,
          0.028348496705433757,
          0.027400428756581257,
          0.027456954270541376,
          0.028854472941598524,
          0.01975460322708037,
          0.019578016551624094,
          0.019256349246364005,
          0.01787947371783337,
          0.018870068992689247,
          0.018059107161740435,
          0.018554063108903594,
          0.01854652128092366,
          0.020718834326330964,
          0.024668800143532205,
          0.026476246030267034
         ],
         "yaxis": "y"
        },
        {
         "hovertemplate": "<b>%{hovertext}</b><br><br>nombre=Fuel + Gas<br>Valores=%{x}<br>Porcentaje=%{y}<extra></extra>",
         "hovertext": [
          "Fuel + Gas"
         ],
         "legendgroup": "Fuel + Gas",
         "marker": {
          "color": "#FFA15A",
          "symbol": "circle"
         },
         "mode": "markers",
         "name": "Fuel + Gas",
         "orientation": "v",
         "showlegend": true,
         "type": "scatter",
         "x": [
          -0.001
         ],
         "xaxis": "x",
         "y": [
          1.3878503007541691e-9
         ],
         "yaxis": "y"
        },
        {
         "hovertemplate": "<b>%{hovertext}</b><br><br>nombre=Motores diésel<br>Valores=%{x}<br>Porcentaje=%{y}<extra></extra>",
         "hovertext": [
          "Motores diésel",
          "Motores diésel",
          "Motores diésel",
          "Motores diésel",
          "Motores diésel",
          "Motores diésel",
          "Motores diésel",
          "Motores diésel",
          "Motores diésel",
          "Motores diésel",
          "Motores diésel",
          "Motores diésel",
          "Motores diésel",
          "Motores diésel",
          "Motores diésel",
          "Motores diésel",
          "Motores diésel",
          "Motores diésel",
          "Motores diésel",
          "Motores diésel",
          "Motores diésel",
          "Motores diésel",
          "Motores diésel",
          "Motores diésel",
          "Motores diésel",
          "Motores diésel",
          "Motores diésel",
          "Motores diésel",
          "Motores diésel",
          "Motores diésel",
          "Motores diésel"
         ],
         "legendgroup": "Motores diésel",
         "marker": {
          "color": "#19d3f3",
          "symbol": "circle"
         },
         "mode": "markers",
         "name": "Motores diésel",
         "orientation": "v",
         "showlegend": true,
         "type": "scatter",
         "x": [
          8001.976,
          8175.841,
          7349.132,
          6942.373,
          6895.553,
          7183.111,
          7679.592,
          6552.737,
          6491.208,
          6680.791,
          7016.332,
          6738.499,
          6892.66,
          6408.033,
          6302.819,
          7001.324,
          6415.588,
          5918.866,
          5953.527,
          7659,
          7695.346,
          6579.752,
          7235.851,
          7788.375,
          7230.269,
          7838.51,
          7954.891,
          7534.932,
          7311.034,
          8276.692,
          8366.964
         ],
         "xaxis": "x",
         "y": [
          0.012369061872969033,
          0.011812405533322112,
          0.010008785496633902,
          0.009126812063414967,
          0.00940741462451098,
          0.010213673066179275,
          0.012612490174052547,
          0.010077030665304423,
          0.00976607947037776,
          0.009518462949328782,
          0.00981992195793171,
          0.009218159254677522,
          0.009598965639195463,
          0.010317030175080934,
          0.010506566173156656,
          0.010299648195834347,
          0.009346288332569962,
          0.008155099365156817,
          0.008242627860511003,
          0.01097477435719196,
          0.01201183234195894,
          0.010628603485795462,
          0.010112309303909817,
          0.010949317953388316,
          0.010034531006183544,
          0.011062840702351022,
          0.01147832084510746,
          0.012291357783363027,
          0.012378584089888156,
          0.012477857047590385,
          0.012146897360492525
         ],
         "yaxis": "y"
        },
        {
         "hovertemplate": "<b>%{hovertext}</b><br><br>nombre=Turbina de gas<br>Valores=%{x}<br>Porcentaje=%{y}<extra></extra>",
         "hovertext": [
          "Turbina de gas",
          "Turbina de gas",
          "Turbina de gas",
          "Turbina de gas",
          "Turbina de gas",
          "Turbina de gas",
          "Turbina de gas",
          "Turbina de gas",
          "Turbina de gas",
          "Turbina de gas",
          "Turbina de gas",
          "Turbina de gas",
          "Turbina de gas",
          "Turbina de gas",
          "Turbina de gas",
          "Turbina de gas",
          "Turbina de gas",
          "Turbina de gas",
          "Turbina de gas",
          "Turbina de gas",
          "Turbina de gas",
          "Turbina de gas",
          "Turbina de gas",
          "Turbina de gas",
          "Turbina de gas",
          "Turbina de gas",
          "Turbina de gas",
          "Turbina de gas",
          "Turbina de gas",
          "Turbina de gas",
          "Turbina de gas"
         ],
         "legendgroup": "Turbina de gas",
         "marker": {
          "color": "#FF6692",
          "symbol": "circle"
         },
         "mode": "markers",
         "name": "Turbina de gas",
         "orientation": "v",
         "showlegend": true,
         "type": "scatter",
         "x": [
          1914.995,
          2598.356,
          2801.504,
          2773.235,
          2750.667,
          3073.966,
          2141.747,
          1995.216,
          3067.666,
          2371.383,
          2011.431,
          1743.816,
          1558.718,
          1222.198,
          1361.139,
          1900.167,
          2317.929,
          2090.492,
          1939.267,
          1688.733,
          2079.891,
          1658.784,
          2859.899,
          3299.137,
          3058.345,
          3401.781,
          2837.518,
          2112.744,
          2137.769,
          3442.04,
          3338.447
         ],
         "xaxis": "x",
         "y": [
          0.002960105309166927,
          0.0037540890034359416,
          0.0038153692985732008,
          0.003645841940887447,
          0.0037526598610669436,
          0.004370875480074141,
          0.0035174737138127287,
          0.0030683137162236217,
          0.004615330450753676,
          0.003378630049071754,
          0.0028151597506737903,
          0.0023855125004626013,
          0.002170726616893257,
          0.0019677572893153903,
          0.0022689683734158123,
          0.0027953357983909848,
          0.003376780548941977,
          0.0028803101780079843,
          0.0026849053012054187,
          0.002419828126980526,
          0.0032465469364924364,
          0.002679517009848052,
          0.00399679087725029,
          0.004638104865878655,
          0.004244525028060009,
          0.0048010860874431955,
          0.004094329137604479,
          0.0034464136383252743,
          0.003619536351664636,
          0.0051891846491434026,
          0.0048466532248070135
         ],
         "yaxis": "y"
        },
        {
         "hovertemplate": "<b>%{hovertext}</b><br><br>nombre=Turbina de vapor<br>Valores=%{x}<br>Porcentaje=%{y}<extra></extra>",
         "hovertext": [
          "Turbina de vapor",
          "Turbina de vapor",
          "Turbina de vapor",
          "Turbina de vapor",
          "Turbina de vapor",
          "Turbina de vapor",
          "Turbina de vapor",
          "Turbina de vapor",
          "Turbina de vapor",
          "Turbina de vapor",
          "Turbina de vapor",
          "Turbina de vapor",
          "Turbina de vapor",
          "Turbina de vapor",
          "Turbina de vapor",
          "Turbina de vapor",
          "Turbina de vapor",
          "Turbina de vapor",
          "Turbina de vapor",
          "Turbina de vapor",
          "Turbina de vapor",
          "Turbina de vapor",
          "Turbina de vapor",
          "Turbina de vapor",
          "Turbina de vapor",
          "Turbina de vapor",
          "Turbina de vapor",
          "Turbina de vapor",
          "Turbina de vapor",
          "Turbina de vapor",
          "Turbina de vapor"
         ],
         "legendgroup": "Turbina de vapor",
         "marker": {
          "color": "#B6E880",
          "symbol": "circle"
         },
         "mode": "markers",
         "name": "Turbina de vapor",
         "orientation": "v",
         "showlegend": true,
         "type": "scatter",
         "x": [
          4249.815,
          4804.434,
          3973.953,
          3294.808,
          2695.01,
          2756.202,
          2920.999,
          2874.813,
          3206.877,
          3307.667,
          3271.521,
          3408.961,
          3503.892,
          3309.608,
          3177.341,
          4152.895,
          3578.103,
          3392.715,
          3515.335,
          4475.366,
          3878.917,
          3685.595,
          3803.922,
          3988.165,
          4625.621,
          4714.82,
          4918.555,
          4981.017,
          4575.141,
          4450.877,
          4838.719
         ],
         "xaxis": "x",
         "y": [
          0.0065691555040494854,
          0.006941417129574913,
          0.00541212801058748,
          0.004331529493018618,
          0.003676728536087438,
          0.003919046515131042,
          0.00479726933226626,
          0.004420989085631821,
          0.004824774623417801,
          0.004712601515032799,
          0.004578757234368999,
          0.004663404326539893,
          0.00487964572624384,
          0.005328519001648284,
          0.005296509938042603,
          0.0061093241070173995,
          0.00521261376535301,
          0.0046745319023370376,
          0.004866963433613294,
          0.006412864866934162,
          0.00605468560768734,
          0.005953526495258533,
          0.005316090095269685,
          0.0056067776186399495,
          0.0064196694960248,
          0.0066542369149568785,
          0.007097112001196186,
          0.0081252839537256,
          0.007746341706466552,
          0.006710097094637321,
          0.007024701319291565
         ],
         "yaxis": "y"
        },
        {
         "hovertemplate": "<b>%{hovertext}</b><br><br>nombre=Ciclo combinado<br>Valores=%{x}<br>Porcentaje=%{y}<extra></extra>",
         "hovertext": [
          "Ciclo combinado",
          "Ciclo combinado",
          "Ciclo combinado",
          "Ciclo combinado",
          "Ciclo combinado",
          "Ciclo combinado",
          "Ciclo combinado",
          "Ciclo combinado",
          "Ciclo combinado",
          "Ciclo combinado",
          "Ciclo combinado",
          "Ciclo combinado",
          "Ciclo combinado",
          "Ciclo combinado",
          "Ciclo combinado",
          "Ciclo combinado",
          "Ciclo combinado",
          "Ciclo combinado",
          "Ciclo combinado",
          "Ciclo combinado",
          "Ciclo combinado",
          "Ciclo combinado",
          "Ciclo combinado",
          "Ciclo combinado",
          "Ciclo combinado",
          "Ciclo combinado",
          "Ciclo combinado",
          "Ciclo combinado",
          "Ciclo combinado",
          "Ciclo combinado",
          "Ciclo combinado"
         ],
         "legendgroup": "Ciclo combinado",
         "marker": {
          "color": "#FF97FF",
          "symbol": "circle"
         },
         "mode": "markers",
         "name": "Ciclo combinado",
         "orientation": "v",
         "showlegend": true,
         "type": "scatter",
         "x": [
          153185.437,
          207427.016,
          238916.811,
          202472.327,
          199849.787,
          207626.946,
          123925.093,
          92830.002,
          133945.575,
          210151.804,
          126742.202,
          105865.509,
          114033.419,
          140609.853,
          117110.974,
          181039.945,
          183858.901,
          171414.065,
          192061.19,
          208050.26,
          154436.88,
          143128.675,
          178589.387,
          171362.465,
          184528.624,
          222286.189,
          206888.211,
          140317.5,
          127960.58,
          220550.181,
          260849.031
         ],
         "xaxis": "x",
         "y": [
          0.23678653226288104,
          0.2996892957628327,
          0.32538089026552025,
          0.26618086878525543,
          0.27264960604743443,
          0.295224972323727,
          0.2035269605183515,
          0.1427572595717287,
          0.20152229448747364,
          0.2994139706074631,
          0.1773859236444935,
          0.1448223293554687,
          0.15880703105926872,
          0.2263839927657511,
          0.1952196624928986,
          0.26632787496953425,
          0.2678473588477683,
          0.23617678329944441,
          0.2659077410108155,
          0.2981204672222379,
          0.24106387288826675,
          0.23120292892836775,
          0.24958379045390114,
          0.24091060260469957,
          0.256098106316153,
          0.3137224675658629,
          0.2985244254042313,
          0.22889292109962525,
          0.21665482607807057,
          0.33249921953579825,
          0.37869248704081104
         ],
         "yaxis": "y"
        },
        {
         "hovertemplate": "<b>%{hovertext}</b><br><br>nombre=Hidroeólica<br>Valores=%{x}<br>Porcentaje=%{y}<extra></extra>",
         "hovertext": [
          "Hidroeólica",
          "Hidroeólica",
          "Hidroeólica",
          "Hidroeólica",
          "Hidroeólica",
          "Hidroeólica",
          "Hidroeólica",
          "Hidroeólica",
          "Hidroeólica",
          "Hidroeólica",
          "Hidroeólica",
          "Hidroeólica",
          "Hidroeólica",
          "Hidroeólica",
          "Hidroeólica",
          "Hidroeólica",
          "Hidroeólica",
          "Hidroeólica",
          "Hidroeólica",
          "Hidroeólica",
          "Hidroeólica",
          "Hidroeólica",
          "Hidroeólica",
          "Hidroeólica",
          "Hidroeólica",
          "Hidroeólica",
          "Hidroeólica",
          "Hidroeólica",
          "Hidroeólica",
          "Hidroeólica",
          "Hidroeólica"
         ],
         "legendgroup": "Hidroeólica",
         "marker": {
          "color": "#FECB52",
          "symbol": "circle"
         },
         "mode": "markers",
         "name": "Hidroeólica",
         "orientation": "v",
         "showlegend": true,
         "type": "scatter",
         "x": [
          5.401,
          28.649,
          37.994,
          49.623,
          75.188,
          71.507,
          24.817,
          71.798,
          82.063,
          97.676,
          42.124,
          43.431,
          49.377,
          50.166,
          40.149,
          54.191,
          69.267,
          93.93,
          95.334,
          28.09,
          -2.192,
          -0.077,
          2.047,
          21.267,
          26.192,
          2.947,
          3.604,
          4.891,
          13.57,
          10.616,
          6.117
         ],
         "xaxis": "x",
         "y": [
          0.000008348600792592447,
          0.00004139190159448369,
          0.000051744042175199535,
          0.00006523702990646583,
          0.00010257693484304038,
          0.00010167587831279254,
          0.00004075791639054029,
          0.00011041350319836229,
          0.0001234645045386945,
          0.00013916396831432657,
          0.00005895593203912177,
          0.00005941291593126295,
          0.00006876418195102535,
          0.00008076801972822395,
          0.00006692689815240872,
          0.00007972038365607122,
          0.00010090881053024657,
          0.00012941811545812658,
          0.00013198943826977792,
          0.0000402508697863327,
          0.000003421540304175277,
          1.2438196278617347e-7,
          0.000002860741209997746,
          0.00002989829648863971,
          0.00003635057507735319,
          0.000004159233266249384,
          0.000005200306116798746,
          0.000007978443722973023,
          0.000022975872646712116,
          0.000016004574100041362,
          0.000008880469804116855
         ],
         "yaxis": "y"
        },
        {
         "hovertemplate": "<b>%{hovertext}</b><br><br>nombre=Eólica<br>Valores=%{x}<br>Porcentaje=%{y}<extra></extra>",
         "hovertext": [
          "Eólica",
          "Eólica",
          "Eólica",
          "Eólica",
          "Eólica",
          "Eólica",
          "Eólica",
          "Eólica",
          "Eólica",
          "Eólica",
          "Eólica",
          "Eólica",
          "Eólica",
          "Eólica",
          "Eólica",
          "Eólica",
          "Eólica",
          "Eólica",
          "Eólica",
          "Eólica",
          "Eólica",
          "Eólica",
          "Eólica",
          "Eólica",
          "Eólica",
          "Eólica",
          "Eólica",
          "Eólica",
          "Eólica",
          "Eólica",
          "Eólica"
         ],
         "legendgroup": "Eólica",
         "marker": {
          "color": "#636efa",
          "symbol": "circle"
         },
         "mode": "markers",
         "name": "Eólica",
         "orientation": "v",
         "showlegend": true,
         "type": "scatter",
         "x": [
          69826.543,
          54172.392,
          60510.578,
          121145.44,
          114384.247,
          102730.916,
          123185.593,
          209534.384,
          127090.677,
          61873.719,
          154352.114,
          300443.625,
          191728.164,
          62212.405,
          80956.323,
          59481.707,
          66702.778,
          119078.548,
          93717.424,
          48743.75,
          71790.755,
          67340.717,
          123178.884,
          123386.311,
          104358.274,
          50450.433,
          64416.642,
          75517.746,
          59586.819,
          53814.25,
          40364.161
         ],
         "xaxis": "x",
         "y": [
          0.10793444403513992,
          0.07826794369094195,
          0.08240937779853927,
          0.15926422611111707,
          0.1560513040856152,
          0.1460731972279317,
          0.20231245114289095,
          0.3222293849125445,
          0.19120904021656845,
          0.08815463645527608,
          0.2160282200901808,
          0.41100209146022176,
          0.2670075207977809,
          0.10016291421241993,
          0.13495119639877715,
          0.08750354307095305,
          0.09717322804572308,
          0.164068149405409,
          0.12975129701733487,
          0.06984614931105569,
          0.1120597453009456,
          0.10877883838815897,
          0.17214602328301512,
          0.17346313579336567,
          0.14483366195708597,
          0.07120295868011052,
          0.09294846210217397,
          0.12318832274519957,
          0.10088866357897465,
          0.08112981836502928,
          0.05859942993771639
         ],
         "yaxis": "y"
        },
        {
         "hovertemplate": "<b>%{hovertext}</b><br><br>nombre=Solar fotovoltaica<br>Valores=%{x}<br>Porcentaje=%{y}<extra></extra>",
         "hovertext": [
          "Solar fotovoltaica",
          "Solar fotovoltaica",
          "Solar fotovoltaica",
          "Solar fotovoltaica",
          "Solar fotovoltaica",
          "Solar fotovoltaica",
          "Solar fotovoltaica",
          "Solar fotovoltaica",
          "Solar fotovoltaica",
          "Solar fotovoltaica",
          "Solar fotovoltaica",
          "Solar fotovoltaica",
          "Solar fotovoltaica",
          "Solar fotovoltaica",
          "Solar fotovoltaica",
          "Solar fotovoltaica",
          "Solar fotovoltaica",
          "Solar fotovoltaica",
          "Solar fotovoltaica",
          "Solar fotovoltaica",
          "Solar fotovoltaica",
          "Solar fotovoltaica",
          "Solar fotovoltaica",
          "Solar fotovoltaica",
          "Solar fotovoltaica",
          "Solar fotovoltaica",
          "Solar fotovoltaica",
          "Solar fotovoltaica",
          "Solar fotovoltaica",
          "Solar fotovoltaica",
          "Solar fotovoltaica"
         ],
         "legendgroup": "Solar fotovoltaica",
         "marker": {
          "color": "#EF553B",
          "symbol": "circle"
         },
         "mode": "markers",
         "name": "Solar fotovoltaica",
         "orientation": "v",
         "showlegend": true,
         "type": "scatter",
         "x": [
          121887.424,
          118190.342,
          118167.259,
          127037.077,
          112494.024,
          83969.818,
          73569.331,
          82520.277,
          97003.07,
          115090.681,
          136933.965,
          79274.995,
          132980.176,
          131582.923,
          124631.015,
          133621.346,
          127279.529,
          124437.232,
          130418.849,
          128452.095,
          126417.895,
          130719.556,
          126647.71,
          120708.613,
          121833.444,
          121536.59,
          120719.663,
          118468.114,
          121475.905,
          115051.014,
          118841.884
         ],
         "xaxis": "x",
         "y": [
          0.18840759944703792,
          0.17076068991875365,
          0.16093203225308542,
          0.1670096848533745,
          0.15347252447304652,
          0.1193967723008284,
          0.12082575016343572,
          0.12690259991182543,
          0.14594197112318952,
          0.16397555063637195,
          0.19165011713957553,
          0.10844692992070849,
          0.18519296470711819,
          0.21185049875934645,
          0.20775529272301485,
          0.1965703708689752,
          0.18542200291971683,
          0.171451421891469,
          0.18056423331970742,
          0.18406224811771582,
          0.19732843198517253,
          0.21115785649113142,
          0.17699380710739795,
          0.16969868341592467,
          0.1690865818973162,
          0.17153004010672285,
          0.1741895676794626,
          0.19325111030786188,
          0.20567538120295503,
          0.17344974367444385,
          0.17253094038357986
         ],
         "yaxis": "y"
        },
        {
         "hovertemplate": "<b>%{hovertext}</b><br><br>nombre=Solar térmica<br>Valores=%{x}<br>Porcentaje=%{y}<extra></extra>",
         "hovertext": [
          "Solar térmica",
          "Solar térmica",
          "Solar térmica",
          "Solar térmica",
          "Solar térmica",
          "Solar térmica",
          "Solar térmica",
          "Solar térmica",
          "Solar térmica",
          "Solar térmica",
          "Solar térmica",
          "Solar térmica",
          "Solar térmica",
          "Solar térmica",
          "Solar térmica",
          "Solar térmica",
          "Solar térmica",
          "Solar térmica",
          "Solar térmica",
          "Solar térmica",
          "Solar térmica",
          "Solar térmica",
          "Solar térmica",
          "Solar térmica",
          "Solar térmica",
          "Solar térmica",
          "Solar térmica",
          "Solar térmica",
          "Solar térmica",
          "Solar térmica",
          "Solar térmica"
         ],
         "legendgroup": "Solar térmica",
         "marker": {
          "color": "#00cc96",
          "symbol": "circle"
         },
         "mode": "markers",
         "name": "Solar térmica",
         "orientation": "v",
         "showlegend": true,
         "type": "scatter",
         "x": [
          15358.585,
          14417.226,
          18173.901,
          19163.019,
          14430.12,
          6282.017,
          1329.429,
          2883.921,
          4758.746,
          16799.109,
          20321.971,
          5231.198,
          12841.32,
          19952.207,
          22556.123,
          20529.101,
          21103.343,
          19451.213,
          18621.448,
          19664.765,
          19700.118,
          21472.534,
          18326.516,
          16070.137,
          13369.877,
          15051.556,
          12174.059,
          10156.522,
          15608.325,
          14944.868,
          15093.094
         ],
         "xaxis": "x",
         "y": [
          0.023740547103147283,
          0.020829920760146316,
          0.024751042265407724,
          0.025192721995872337,
          0.01968661859628204,
          0.008932406562307102,
          0.00218337252807187,
          0.004434995690093375,
          0.0071595751692662265,
          0.023934545564774545,
          0.028442235808019266,
          0.00715619550537153,
          0.01788328300567756,
          0.03212335543191819,
          0.037600222838282495,
          0.030200361828241498,
          0.03074354657112053,
          0.026800163204882495,
          0.025781300074368844,
          0.028178137963468592,
          0.030750341119529578,
          0.03468566136250448,
          0.025611831732722544,
          0.02259226598199366,
          0.018555387815496246,
          0.021242936010863765,
          0.017566269002211102,
          0.016567826456376493,
          0.02642703665648437,
          0.02253073166176874,
          0.02191168309918216
         ],
         "yaxis": "y"
        },
        {
         "hovertemplate": "<b>%{hovertext}</b><br><br>nombre=Otras renovables<br>Valores=%{x}<br>Porcentaje=%{y}<extra></extra>",
         "hovertext": [
          "Otras renovables",
          "Otras renovables",
          "Otras renovables",
          "Otras renovables",
          "Otras renovables",
          "Otras renovables",
          "Otras renovables",
          "Otras renovables",
          "Otras renovables",
          "Otras renovables",
          "Otras renovables",
          "Otras renovables",
          "Otras renovables",
          "Otras renovables",
          "Otras renovables",
          "Otras renovables",
          "Otras renovables",
          "Otras renovables",
          "Otras renovables",
          "Otras renovables",
          "Otras renovables",
          "Otras renovables",
          "Otras renovables",
          "Otras renovables",
          "Otras renovables",
          "Otras renovables",
          "Otras renovables",
          "Otras renovables",
          "Otras renovables",
          "Otras renovables",
          "Otras renovables"
         ],
         "legendgroup": "Otras renovables",
         "marker": {
          "color": "#ab63fa",
          "symbol": "circle"
         },
         "mode": "markers",
         "name": "Otras renovables",
         "orientation": "v",
         "showlegend": true,
         "type": "scatter",
         "x": [
          10425.517,
          10110.756,
          10865.463,
          10824.656,
          10622.483,
          10810.377,
          9479.58,
          7427.447,
          7905.733,
          8720.434,
          8346.948,
          8637.511,
          8869.273,
          8997.682,
          7588.529,
          7919.28,
          7809.369,
          7817.909,
          7734.386,
          7933.016,
          8141.04,
          7084.88,
          7468.318,
          9853.567,
          10251.645,
          10114.513,
          10828.954,
          10404.026,
          9847.209,
          10101.857,
          10455.201
         ],
         "xaxis": "x",
         "y": [
          0.016115252636435113,
          0.014607959000238598,
          0.014797677941913725,
          0.014230667375999132,
          0.014491963432493272,
          0.015371286396680202,
          0.015568679899159363,
          0.011422190633306867,
          0.011894244761466275,
          0.012424446136852205,
          0.011682226261088297,
          0.011815977410107044,
          0.012351667828043754,
          0.014486404283464609,
          0.012649797193195348,
          0.011650053327671599,
          0.011376761470567242,
          0.01077162833602818,
          0.010708218091149375,
          0.01136741879775343,
          0.01270752576546674,
          0.011444562084474088,
          0.010437188603794795,
          0.013852676335951292,
          0.014227748596474974,
          0.014275065809810607,
          0.015625381721623817,
          0.016971567355008817,
          0.01667267648559745,
          0.015229457319566835,
          0.015178534702709226
         ],
         "yaxis": "y"
        },
        {
         "hovertemplate": "<b>%{hovertext}</b><br><br>nombre=Cogeneración<br>Valores=%{x}<br>Porcentaje=%{y}<extra></extra>",
         "hovertext": [
          "Cogeneración",
          "Cogeneración",
          "Cogeneración",
          "Cogeneración",
          "Cogeneración",
          "Cogeneración",
          "Cogeneración",
          "Cogeneración",
          "Cogeneración",
          "Cogeneración",
          "Cogeneración",
          "Cogeneración",
          "Cogeneración",
          "Cogeneración",
          "Cogeneración",
          "Cogeneración",
          "Cogeneración",
          "Cogeneración",
          "Cogeneración",
          "Cogeneración",
          "Cogeneración",
          "Cogeneración",
          "Cogeneración",
          "Cogeneración",
          "Cogeneración",
          "Cogeneración",
          "Cogeneración",
          "Cogeneración",
          "Cogeneración",
          "Cogeneración",
          "Cogeneración"
         ],
         "legendgroup": "Cogeneración",
         "marker": {
          "color": "#FFA15A",
          "symbol": "circle"
         },
         "mode": "markers",
         "name": "Cogeneración",
         "orientation": "v",
         "showlegend": true,
         "type": "scatter",
         "x": [
          45445.834,
          49574.729,
          51005.98,
          51682.688,
          53485.942,
          54784.603,
          47632.931,
          37676.674,
          50165.262,
          52970.529,
          49710.625,
          47307.661,
          49995.016,
          48660.325,
          42265.843,
          49993.956,
          50966.696,
          49619.151,
          50454.504,
          50695.218,
          44711.977,
          42106.874,
          49198.972,
          49219.474,
          50465.825,
          53123.607,
          53832.03,
          50794.184,
          48585.432,
          53969.552,
          54221.736
         ],
         "xaxis": "x",
         "y": [
          0.07024794033557209,
          0.07162526804918835,
          0.06946506238636059,
          0.06794480508438713,
          0.07296940984668614,
          0.07789828447624217,
          0.07822939997317865,
          0.057940521535455765,
          0.0754740774512728,
          0.07546980854405501,
          0.06957402500052862,
          0.06471612640504909,
          0.06962485320834445,
          0.07834386017585195,
          0.07045559714530118,
          0.0735461119522567,
          0.07424875727282366,
          0.06836598544716509,
          0.06985400424969332,
          0.07264245704904769,
          0.06979189387995345,
          0.06801734590792333,
          0.06875697444549352,
          0.06919539317566623,
          0.07003901040405726,
          0.07497572903208641,
          0.07767564786034782,
          0.0828580123693185,
          0.08226180531447985,
          0.08136395008760695,
          0.07871742508987997
         ],
         "yaxis": "y"
        },
        {
         "hovertemplate": "<b>%{hovertext}</b><br><br>nombre=Residuos no renovables<br>Valores=%{x}<br>Porcentaje=%{y}<extra></extra>",
         "hovertext": [
          "Residuos no renovables",
          "Residuos no renovables",
          "Residuos no renovables",
          "Residuos no renovables",
          "Residuos no renovables",
          "Residuos no renovables",
          "Residuos no renovables",
          "Residuos no renovables",
          "Residuos no renovables",
          "Residuos no renovables",
          "Residuos no renovables",
          "Residuos no renovables",
          "Residuos no renovables",
          "Residuos no renovables",
          "Residuos no renovables",
          "Residuos no renovables",
          "Residuos no renovables",
          "Residuos no renovables",
          "Residuos no renovables",
          "Residuos no renovables",
          "Residuos no renovables",
          "Residuos no renovables",
          "Residuos no renovables",
          "Residuos no renovables",
          "Residuos no renovables",
          "Residuos no renovables",
          "Residuos no renovables",
          "Residuos no renovables",
          "Residuos no renovables",
          "Residuos no renovables",
          "Residuos no renovables"
         ],
         "legendgroup": "Residuos no renovables",
         "marker": {
          "color": "#19d3f3",
          "symbol": "circle"
         },
         "mode": "markers",
         "name": "Residuos no renovables",
         "orientation": "v",
         "showlegend": true,
         "type": "scatter",
         "x": [
          3864.7635,
          3910.8065,
          3526.4855,
          2975.479,
          3780.4485,
          3840.0525,
          3723.483,
          3757.355,
          3934.239,
          4036.15,
          3978.4535,
          3901.789,
          3895.6125,
          4143.66,
          4074.673,
          4179.527,
          4074.2665,
          4201.57,
          4032.016,
          3914.962,
          3905.464,
          3961.2335,
          4022.96,
          4001.3105,
          4024.94,
          4031.225,
          4070.296,
          4239.4665,
          4018.3955,
          4154.7725,
          4251.738
         ],
         "xaxis": "x",
         "y": [
          0.005973961788424804,
          0.005650309532726001,
          0.00480272186245801,
          0.003911722638878364,
          0.005157562635819143,
          0.005460174678069765,
          0.00611521976047057,
          0.005778193380176085,
          0.005919097143314392,
          0.005750508320486805,
          0.005568166227490413,
          0.0053375851773739165,
          0.005425169750302545,
          0.006671355352769853,
          0.0067923291956305185,
          0.0061485024439650185,
          0.005935429371825413,
          0.005788984045197496,
          0.005582305651024366,
          0.005609847834832348,
          0.006096123395303646,
          0.006398779192004464,
          0.005622201982497572,
          0.005625258272069743,
          0.005586014189517485,
          0.005689448633775423,
          0.00587313684405701,
          0.006915629704698306,
          0.006803695154909437,
          0.006263692948856829,
          0.006172540612067384
         ],
         "yaxis": "y"
        },
        {
         "hovertemplate": "<b>%{hovertext}</b><br><br>nombre=Residuos renovables<br>Valores=%{x}<br>Porcentaje=%{y}<extra></extra>",
         "hovertext": [
          "Residuos renovables",
          "Residuos renovables",
          "Residuos renovables",
          "Residuos renovables",
          "Residuos renovables",
          "Residuos renovables",
          "Residuos renovables",
          "Residuos renovables",
          "Residuos renovables",
          "Residuos renovables",
          "Residuos renovables",
          "Residuos renovables",
          "Residuos renovables",
          "Residuos renovables",
          "Residuos renovables",
          "Residuos renovables",
          "Residuos renovables",
          "Residuos renovables",
          "Residuos renovables",
          "Residuos renovables",
          "Residuos renovables",
          "Residuos renovables",
          "Residuos renovables",
          "Residuos renovables",
          "Residuos renovables",
          "Residuos renovables",
          "Residuos renovables",
          "Residuos renovables",
          "Residuos renovables",
          "Residuos renovables",
          "Residuos renovables"
         ],
         "legendgroup": "Residuos renovables",
         "marker": {
          "color": "#FF6692",
          "symbol": "circle"
         },
         "mode": "markers",
         "name": "Residuos renovables",
         "orientation": "v",
         "showlegend": true,
         "type": "scatter",
         "x": [
          2417.2605,
          2421.2415,
          2066.7095,
          1570.63,
          2298.9115,
          2406.3415,
          2384.065,
          2473.136,
          2605.383,
          2620.964,
          2560.2315,
          2416.424,
          2390.6595,
          2478.807,
          2549.512,
          2650.328,
          2538.8175,
          2655.089,
          2660.421,
          2616.346,
          2606.464,
          2674.2125,
          2715.025,
          2691.2915,
          2713.163,
          2732.902,
          2738.779,
          2595.3435,
          2419.7675,
          2437.8145,
          2494.276
         ],
         "xaxis": "x",
         "y": [
          0.0037364826747273497,
          0.003498195047103916,
          0.002814652406482222,
          0.0020648335707634047,
          0.003136342170897168,
          0.003421579503167839,
          0.0039154419123831824,
          0.003803275991615155,
          0.003919821615448345,
          0.003734220801926682,
          0.003583250268692878,
          0.0033056295265199084,
          0.0033293182016110195,
          0.003990916809760786,
          0.004249942214310291,
          0.0038988976947173497,
          0.003698572972387635,
          0.003658220108097539,
          0.0036833393474638722,
          0.0037490282008541265,
          0.0040684861438786074,
          0.00431978960593922,
          0.003794325307119751,
          0.003783562853451634,
          0.0037654640855450832,
          0.0038570671570408803,
          0.003951856045022184,
          0.004233654070033497,
          0.004096998519871257,
          0.003675224454352419,
          0.0036211120976186646
         ],
         "yaxis": "y"
        },
        {
         "hovertemplate": "<b>%{hovertext}</b><br><br>nombre=Generación total<br>Valores=%{x}<br>Porcentaje=%{y}<extra></extra>",
         "hovertext": [
          "Generación total",
          "Generación total",
          "Generación total",
          "Generación total",
          "Generación total",
          "Generación total",
          "Generación total",
          "Generación total",
          "Generación total",
          "Generación total",
          "Generación total",
          "Generación total",
          "Generación total",
          "Generación total",
          "Generación total",
          "Generación total",
          "Generación total",
          "Generación total",
          "Generación total",
          "Generación total",
          "Generación total",
          "Generación total",
          "Generación total",
          "Generación total",
          "Generación total",
          "Generación total",
          "Generación total",
          "Generación total",
          "Generación total",
          "Generación total",
          "Generación total"
         ],
         "legendgroup": "Generación total",
         "marker": {
          "color": "#B6E880",
          "symbol": "circle"
         },
         "mode": "markers",
         "name": "Generación total",
         "orientation": "v",
         "showlegend": true,
         "type": "scatter",
         "x": [
          646934.754,
          692140.223,
          734268.1089999998,
          760656.947,
          732991.2920000001,
          703283.8189999999,
          608887.8479999999,
          650264.6680000001,
          664668.7670000001,
          701877.082,
          714499.772,
          731002.6669999999,
          718062.785,
          621112.1700000002,
          599893.3329999999,
          679763.412,
          686431.637,
          725787.1099999999,
          722285.0649999998,
          697873.1180000001,
          640642.753,
          619060.667,
          715548.8209999999,
          711311.4290000001,
          720538.8049999999,
          708544.054,
          693036.125,
          613026.8219999999,
          590619.569,
          663310.372,
          688814.9090000001
         ],
         "xaxis": "x",
         "y": [
          1,
          1,
          1,
          1,
          1,
          1,
          1,
          1,
          1,
          1,
          1,
          1,
          1,
          1,
          1,
          1,
          1,
          1,
          1,
          1,
          1,
          1,
          1,
          1,
          1,
          1,
          1,
          1,
          1,
          1,
          1
         ],
         "yaxis": "y"
        }
       ],
       "layout": {
        "legend": {
         "title": {
          "text": "nombre"
         },
         "tracegroupgap": 0
        },
        "margin": {
         "t": 60
        },
        "template": {
         "data": {
          "bar": [
           {
            "error_x": {
             "color": "#2a3f5f"
            },
            "error_y": {
             "color": "#2a3f5f"
            },
            "marker": {
             "line": {
              "color": "#E5ECF6",
              "width": 0.5
             },
             "pattern": {
              "fillmode": "overlay",
              "size": 10,
              "solidity": 0.2
             }
            },
            "type": "bar"
           }
          ],
          "barpolar": [
           {
            "marker": {
             "line": {
              "color": "#E5ECF6",
              "width": 0.5
             },
             "pattern": {
              "fillmode": "overlay",
              "size": 10,
              "solidity": 0.2
             }
            },
            "type": "barpolar"
           }
          ],
          "carpet": [
           {
            "aaxis": {
             "endlinecolor": "#2a3f5f",
             "gridcolor": "white",
             "linecolor": "white",
             "minorgridcolor": "white",
             "startlinecolor": "#2a3f5f"
            },
            "baxis": {
             "endlinecolor": "#2a3f5f",
             "gridcolor": "white",
             "linecolor": "white",
             "minorgridcolor": "white",
             "startlinecolor": "#2a3f5f"
            },
            "type": "carpet"
           }
          ],
          "choropleth": [
           {
            "colorbar": {
             "outlinewidth": 0,
             "ticks": ""
            },
            "type": "choropleth"
           }
          ],
          "contour": [
           {
            "colorbar": {
             "outlinewidth": 0,
             "ticks": ""
            },
            "colorscale": [
             [
              0,
              "#0d0887"
             ],
             [
              0.1111111111111111,
              "#46039f"
             ],
             [
              0.2222222222222222,
              "#7201a8"
             ],
             [
              0.3333333333333333,
              "#9c179e"
             ],
             [
              0.4444444444444444,
              "#bd3786"
             ],
             [
              0.5555555555555556,
              "#d8576b"
             ],
             [
              0.6666666666666666,
              "#ed7953"
             ],
             [
              0.7777777777777778,
              "#fb9f3a"
             ],
             [
              0.8888888888888888,
              "#fdca26"
             ],
             [
              1,
              "#f0f921"
             ]
            ],
            "type": "contour"
           }
          ],
          "contourcarpet": [
           {
            "colorbar": {
             "outlinewidth": 0,
             "ticks": ""
            },
            "type": "contourcarpet"
           }
          ],
          "heatmap": [
           {
            "colorbar": {
             "outlinewidth": 0,
             "ticks": ""
            },
            "colorscale": [
             [
              0,
              "#0d0887"
             ],
             [
              0.1111111111111111,
              "#46039f"
             ],
             [
              0.2222222222222222,
              "#7201a8"
             ],
             [
              0.3333333333333333,
              "#9c179e"
             ],
             [
              0.4444444444444444,
              "#bd3786"
             ],
             [
              0.5555555555555556,
              "#d8576b"
             ],
             [
              0.6666666666666666,
              "#ed7953"
             ],
             [
              0.7777777777777778,
              "#fb9f3a"
             ],
             [
              0.8888888888888888,
              "#fdca26"
             ],
             [
              1,
              "#f0f921"
             ]
            ],
            "type": "heatmap"
           }
          ],
          "heatmapgl": [
           {
            "colorbar": {
             "outlinewidth": 0,
             "ticks": ""
            },
            "colorscale": [
             [
              0,
              "#0d0887"
             ],
             [
              0.1111111111111111,
              "#46039f"
             ],
             [
              0.2222222222222222,
              "#7201a8"
             ],
             [
              0.3333333333333333,
              "#9c179e"
             ],
             [
              0.4444444444444444,
              "#bd3786"
             ],
             [
              0.5555555555555556,
              "#d8576b"
             ],
             [
              0.6666666666666666,
              "#ed7953"
             ],
             [
              0.7777777777777778,
              "#fb9f3a"
             ],
             [
              0.8888888888888888,
              "#fdca26"
             ],
             [
              1,
              "#f0f921"
             ]
            ],
            "type": "heatmapgl"
           }
          ],
          "histogram": [
           {
            "marker": {
             "pattern": {
              "fillmode": "overlay",
              "size": 10,
              "solidity": 0.2
             }
            },
            "type": "histogram"
           }
          ],
          "histogram2d": [
           {
            "colorbar": {
             "outlinewidth": 0,
             "ticks": ""
            },
            "colorscale": [
             [
              0,
              "#0d0887"
             ],
             [
              0.1111111111111111,
              "#46039f"
             ],
             [
              0.2222222222222222,
              "#7201a8"
             ],
             [
              0.3333333333333333,
              "#9c179e"
             ],
             [
              0.4444444444444444,
              "#bd3786"
             ],
             [
              0.5555555555555556,
              "#d8576b"
             ],
             [
              0.6666666666666666,
              "#ed7953"
             ],
             [
              0.7777777777777778,
              "#fb9f3a"
             ],
             [
              0.8888888888888888,
              "#fdca26"
             ],
             [
              1,
              "#f0f921"
             ]
            ],
            "type": "histogram2d"
           }
          ],
          "histogram2dcontour": [
           {
            "colorbar": {
             "outlinewidth": 0,
             "ticks": ""
            },
            "colorscale": [
             [
              0,
              "#0d0887"
             ],
             [
              0.1111111111111111,
              "#46039f"
             ],
             [
              0.2222222222222222,
              "#7201a8"
             ],
             [
              0.3333333333333333,
              "#9c179e"
             ],
             [
              0.4444444444444444,
              "#bd3786"
             ],
             [
              0.5555555555555556,
              "#d8576b"
             ],
             [
              0.6666666666666666,
              "#ed7953"
             ],
             [
              0.7777777777777778,
              "#fb9f3a"
             ],
             [
              0.8888888888888888,
              "#fdca26"
             ],
             [
              1,
              "#f0f921"
             ]
            ],
            "type": "histogram2dcontour"
           }
          ],
          "mesh3d": [
           {
            "colorbar": {
             "outlinewidth": 0,
             "ticks": ""
            },
            "type": "mesh3d"
           }
          ],
          "parcoords": [
           {
            "line": {
             "colorbar": {
              "outlinewidth": 0,
              "ticks": ""
             }
            },
            "type": "parcoords"
           }
          ],
          "pie": [
           {
            "automargin": true,
            "type": "pie"
           }
          ],
          "scatter": [
           {
            "fillpattern": {
             "fillmode": "overlay",
             "size": 10,
             "solidity": 0.2
            },
            "type": "scatter"
           }
          ],
          "scatter3d": [
           {
            "line": {
             "colorbar": {
              "outlinewidth": 0,
              "ticks": ""
             }
            },
            "marker": {
             "colorbar": {
              "outlinewidth": 0,
              "ticks": ""
             }
            },
            "type": "scatter3d"
           }
          ],
          "scattercarpet": [
           {
            "marker": {
             "colorbar": {
              "outlinewidth": 0,
              "ticks": ""
             }
            },
            "type": "scattercarpet"
           }
          ],
          "scattergeo": [
           {
            "marker": {
             "colorbar": {
              "outlinewidth": 0,
              "ticks": ""
             }
            },
            "type": "scattergeo"
           }
          ],
          "scattergl": [
           {
            "marker": {
             "colorbar": {
              "outlinewidth": 0,
              "ticks": ""
             }
            },
            "type": "scattergl"
           }
          ],
          "scattermapbox": [
           {
            "marker": {
             "colorbar": {
              "outlinewidth": 0,
              "ticks": ""
             }
            },
            "type": "scattermapbox"
           }
          ],
          "scatterpolar": [
           {
            "marker": {
             "colorbar": {
              "outlinewidth": 0,
              "ticks": ""
             }
            },
            "type": "scatterpolar"
           }
          ],
          "scatterpolargl": [
           {
            "marker": {
             "colorbar": {
              "outlinewidth": 0,
              "ticks": ""
             }
            },
            "type": "scatterpolargl"
           }
          ],
          "scatterternary": [
           {
            "marker": {
             "colorbar": {
              "outlinewidth": 0,
              "ticks": ""
             }
            },
            "type": "scatterternary"
           }
          ],
          "surface": [
           {
            "colorbar": {
             "outlinewidth": 0,
             "ticks": ""
            },
            "colorscale": [
             [
              0,
              "#0d0887"
             ],
             [
              0.1111111111111111,
              "#46039f"
             ],
             [
              0.2222222222222222,
              "#7201a8"
             ],
             [
              0.3333333333333333,
              "#9c179e"
             ],
             [
              0.4444444444444444,
              "#bd3786"
             ],
             [
              0.5555555555555556,
              "#d8576b"
             ],
             [
              0.6666666666666666,
              "#ed7953"
             ],
             [
              0.7777777777777778,
              "#fb9f3a"
             ],
             [
              0.8888888888888888,
              "#fdca26"
             ],
             [
              1,
              "#f0f921"
             ]
            ],
            "type": "surface"
           }
          ],
          "table": [
           {
            "cells": {
             "fill": {
              "color": "#EBF0F8"
             },
             "line": {
              "color": "white"
             }
            },
            "header": {
             "fill": {
              "color": "#C8D4E3"
             },
             "line": {
              "color": "white"
             }
            },
            "type": "table"
           }
          ]
         },
         "layout": {
          "annotationdefaults": {
           "arrowcolor": "#2a3f5f",
           "arrowhead": 0,
           "arrowwidth": 1
          },
          "autotypenumbers": "strict",
          "coloraxis": {
           "colorbar": {
            "outlinewidth": 0,
            "ticks": ""
           }
          },
          "colorscale": {
           "diverging": [
            [
             0,
             "#8e0152"
            ],
            [
             0.1,
             "#c51b7d"
            ],
            [
             0.2,
             "#de77ae"
            ],
            [
             0.3,
             "#f1b6da"
            ],
            [
             0.4,
             "#fde0ef"
            ],
            [
             0.5,
             "#f7f7f7"
            ],
            [
             0.6,
             "#e6f5d0"
            ],
            [
             0.7,
             "#b8e186"
            ],
            [
             0.8,
             "#7fbc41"
            ],
            [
             0.9,
             "#4d9221"
            ],
            [
             1,
             "#276419"
            ]
           ],
           "sequential": [
            [
             0,
             "#0d0887"
            ],
            [
             0.1111111111111111,
             "#46039f"
            ],
            [
             0.2222222222222222,
             "#7201a8"
            ],
            [
             0.3333333333333333,
             "#9c179e"
            ],
            [
             0.4444444444444444,
             "#bd3786"
            ],
            [
             0.5555555555555556,
             "#d8576b"
            ],
            [
             0.6666666666666666,
             "#ed7953"
            ],
            [
             0.7777777777777778,
             "#fb9f3a"
            ],
            [
             0.8888888888888888,
             "#fdca26"
            ],
            [
             1,
             "#f0f921"
            ]
           ],
           "sequentialminus": [
            [
             0,
             "#0d0887"
            ],
            [
             0.1111111111111111,
             "#46039f"
            ],
            [
             0.2222222222222222,
             "#7201a8"
            ],
            [
             0.3333333333333333,
             "#9c179e"
            ],
            [
             0.4444444444444444,
             "#bd3786"
            ],
            [
             0.5555555555555556,
             "#d8576b"
            ],
            [
             0.6666666666666666,
             "#ed7953"
            ],
            [
             0.7777777777777778,
             "#fb9f3a"
            ],
            [
             0.8888888888888888,
             "#fdca26"
            ],
            [
             1,
             "#f0f921"
            ]
           ]
          },
          "colorway": [
           "#636efa",
           "#EF553B",
           "#00cc96",
           "#ab63fa",
           "#FFA15A",
           "#19d3f3",
           "#FF6692",
           "#B6E880",
           "#FF97FF",
           "#FECB52"
          ],
          "font": {
           "color": "#2a3f5f"
          },
          "geo": {
           "bgcolor": "white",
           "lakecolor": "white",
           "landcolor": "#E5ECF6",
           "showlakes": true,
           "showland": true,
           "subunitcolor": "white"
          },
          "hoverlabel": {
           "align": "left"
          },
          "hovermode": "closest",
          "mapbox": {
           "style": "light"
          },
          "paper_bgcolor": "white",
          "plot_bgcolor": "#E5ECF6",
          "polar": {
           "angularaxis": {
            "gridcolor": "white",
            "linecolor": "white",
            "ticks": ""
           },
           "bgcolor": "#E5ECF6",
           "radialaxis": {
            "gridcolor": "white",
            "linecolor": "white",
            "ticks": ""
           }
          },
          "scene": {
           "xaxis": {
            "backgroundcolor": "#E5ECF6",
            "gridcolor": "white",
            "gridwidth": 2,
            "linecolor": "white",
            "showbackground": true,
            "ticks": "",
            "zerolinecolor": "white"
           },
           "yaxis": {
            "backgroundcolor": "#E5ECF6",
            "gridcolor": "white",
            "gridwidth": 2,
            "linecolor": "white",
            "showbackground": true,
            "ticks": "",
            "zerolinecolor": "white"
           },
           "zaxis": {
            "backgroundcolor": "#E5ECF6",
            "gridcolor": "white",
            "gridwidth": 2,
            "linecolor": "white",
            "showbackground": true,
            "ticks": "",
            "zerolinecolor": "white"
           }
          },
          "shapedefaults": {
           "line": {
            "color": "#2a3f5f"
           }
          },
          "ternary": {
           "aaxis": {
            "gridcolor": "white",
            "linecolor": "white",
            "ticks": ""
           },
           "baxis": {
            "gridcolor": "white",
            "linecolor": "white",
            "ticks": ""
           },
           "bgcolor": "#E5ECF6",
           "caxis": {
            "gridcolor": "white",
            "linecolor": "white",
            "ticks": ""
           }
          },
          "title": {
           "x": 0.05
          },
          "xaxis": {
           "automargin": true,
           "gridcolor": "white",
           "linecolor": "white",
           "ticks": "",
           "title": {
            "standoff": 15
           },
           "zerolinecolor": "white",
           "zerolinewidth": 2
          },
          "yaxis": {
           "automargin": true,
           "gridcolor": "white",
           "linecolor": "white",
           "ticks": "",
           "title": {
            "standoff": 15
           },
           "zerolinecolor": "white",
           "zerolinewidth": 2
          }
         }
        },
        "xaxis": {
         "anchor": "y",
         "domain": [
          0,
          1
         ],
         "title": {
          "text": "Valores"
         }
        },
        "yaxis": {
         "anchor": "x",
         "domain": [
          0,
          1
         ],
         "title": {
          "text": "Porcentaje"
         }
        }
       }
      }
     },
     "metadata": {},
     "output_type": "display_data"
    }
   ],
   "source": [
    "px.scatter(data_frame= df_generacion,\n",
    "           x = 'Valores',\n",
    "           y = 'Porcentaje',\n",
    "           color = 'nombre',\n",
    "           hover_name= 'nombre' )"
   ]
  }
 ],
 "metadata": {
  "kernelspec": {
   "display_name": "Python 3",
   "language": "python",
   "name": "python3"
  },
  "language_info": {
   "codemirror_mode": {
    "name": "ipython",
    "version": 3
   },
   "file_extension": ".py",
   "mimetype": "text/x-python",
   "name": "python",
   "nbconvert_exporter": "python",
   "pygments_lexer": "ipython3",
   "version": "3.12.2"
  }
 },
 "nbformat": 4,
 "nbformat_minor": 2
}
