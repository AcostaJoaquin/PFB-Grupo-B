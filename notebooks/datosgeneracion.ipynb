{
 "cells": [
  {
   "cell_type": "code",
   "execution_count": 11,
   "metadata": {},
   "outputs": [],
   "source": [
    "import requests\n",
    "from datetime import datetime, timedelta\n",
    "import pandas as pd\n",
    "\n",
    "from pprint import  pprint\n",
    "\n"
   ]
  },
  {
   "cell_type": "code",
   "execution_count": 8,
   "metadata": {},
   "outputs": [],
   "source": [
    "lang =     \"es\"\n",
    "category = \"generacion\"\n",
    "widget =   \"estructura-generacion\"\n",
    "query =    \"start_date=2024-01-01T00:00&end_date=2019-01-31T23:59&time_trunc=month\"\n"
   ]
  },
  {
   "cell_type": "code",
   "execution_count": 9,
   "metadata": {},
   "outputs": [],
   "source": [
    "headers = {\n",
    "    \"Accept\": \"application/json\",\n",
    "    \"Content-Type\": \"application/json\",\n",
    "    \"Host\": \"apidatos.ree.es\"\n",
    "}"
   ]
  },
  {
   "cell_type": "code",
   "execution_count": 14,
   "metadata": {},
   "outputs": [
    {
     "name": "stdout",
     "output_type": "stream",
     "text": [
      "Error: 500\n",
      "Message : message: <!DOCTYPE html>\n",
      "<html lang=\"en\">\n",
      "<head>\n",
      "    <meta charset=\"UTF-8\" />\n",
      "    <meta name=\"robots\" content=\"noindex,nofollow,noarchive\" />\n",
      "    <title>An Error Occurred: Internal Server Error</title>\n",
      "    <style>body { background-color: #fff; color: #222; font: 16px/1.5 -apple-system, BlinkMacSystemFont, \"Segoe UI\", Roboto, \"Helvetica Neue\", Arial, sans-serif; margin: 0; }\n",
      ".container { margin: 30px; max-width: 600px; }\n",
      "h1 { color: #dc3545; font-size: 24px; }\n",
      "h2 { font-size: 18px; }</style>\n",
      "</head>\n",
      "<body>\n",
      "<div class=\"container\">\n",
      "    <h1>Oops! An Error Occurred</h1>\n",
      "    <h2>The server returned a \"500 Internal Server Error\".</h2>\n",
      "\n",
      "    <p>\n",
      "        Something is broken. Please let us know what you were doing when this error occurred.\n",
      "        We will fix it as soon as possible. Sorry for any inconvenience caused.\n",
      "    </p>\n",
      "</div>\n",
      "<script type=\"text/javascript\" src=\"/_Incapsula_Resource?SWJIYLWA=719d34d31c8e3a6e6fffd425f7e032f3&ns=3&cb=1521142988\" async></script></body>\n",
      "</html>\n"
     ]
    }
   ],
   "source": [
    "endpoint = f\"https://apidatos.ree.es/{lang}/datos/{category}/{widget}?{query}\"\n",
    "response = requests.get(url= endpoint, headers= headers)\n",
    "\n",
    "if response.status_code == 200:\n",
    "    data = response.json()\n",
    "    pprint(data)\n",
    "else:\n",
    "    print(f'Error: {response.status_code}')\n",
    "    print(f'Message : message: {response.text}')\n",
    "\n",
    "\n",
    "#data = response.json()\n",
    "#data"
   ]
  }
 ],
 "metadata": {
  "kernelspec": {
   "display_name": "Python 3",
   "language": "python",
   "name": "python3"
  },
  "language_info": {
   "codemirror_mode": {
    "name": "ipython",
    "version": 3
   },
   "file_extension": ".py",
   "mimetype": "text/x-python",
   "name": "python",
   "nbconvert_exporter": "python",
   "pygments_lexer": "ipython3",
   "version": "3.11.7"
  }
 },
 "nbformat": 4,
 "nbformat_minor": 2
}
